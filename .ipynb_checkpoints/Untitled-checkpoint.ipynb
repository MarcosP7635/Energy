{
 "cells": [
  {
   "cell_type": "code",
   "execution_count": 31,
   "metadata": {},
   "outputs": [
    {
     "name": "stdout",
     "output_type": "stream",
     "text": [
      "Populating the interactive namespace from numpy and matplotlib\n"
     ]
    },
    {
     "name": "stderr",
     "output_type": "stream",
     "text": [
      "C:\\Users\\engin\\anaconda3\\lib\\site-packages\\IPython\\core\\magics\\pylab.py:159: UserWarning: pylab import has clobbered these variables: ['time']\n",
      "`%matplotlib` prevents importing * from pylab and numpy\n",
      "  warn(\"pylab import has clobbered these variables: %s\"  % clobbered +\n"
     ]
    },
    {
     "name": "stdout",
     "output_type": "stream",
     "text": [
      "Energy in Joules: 90000000.0\n"
     ]
    }
   ],
   "source": [
    "%pylab inline\n",
    "from mpmath import*\n",
    "\n",
    "def half_life_to_energy(half_life, time, initial_mass):\n",
    "    #we assume half life and time are in seconds\n",
    "    #mass is in kg\n",
    "    c = 3 * (10**8) #meters per second\n",
    "    mass_decayed = mass_lost(half_life, time, initial_mass)\n",
    "    energy = mass_decayed * (c**2)\n",
    "    return energy, mass_decayed #joules, kg\n",
    "    \n",
    "def mass_lost(half_life, time, initial_mass):\n",
    "    mass_lost = initial_mass * (.5 ** (time / half_life))\n",
    "    return mass_lost\n",
    "\n",
    "half_life_U_238 = 1.41 * (10**17) #seconds\n",
    "mass = (10 ** -9) #kilograms\n",
    "time = 1 #second\n",
    "\n",
    "print(\"Energy in Joules:\", half_life_to_energy(half_life_U_238, \n",
    "                                               time, mass)[0])\n"
   ]
  },
  {
   "cell_type": "code",
   "execution_count": 33,
   "metadata": {},
   "outputs": [
    {
     "name": "stdout",
     "output_type": "stream",
     "text": [
      "9.999999999987566e-10\n",
      "1.2486291346487953e-21\n",
      "9.999999999987514e-10\n",
      "1.2641387711341645e-21\n",
      "9.99999999998736e-10\n",
      "1.2899881652764467e-21\n",
      "9.9999999999871e-10\n",
      "1.3263841122287799e-21\n",
      "9.999999999986737e-10\n",
      "1.3729130216848877e-21\n",
      "9.999999999986271e-10\n",
      "1.4297816887979083e-21\n",
      "9.999999999985703e-10\n",
      "1.49719690872098e-21\n",
      "9.999999999985029e-10\n",
      "1.5749518863009647e-21\n",
      "9.999999999984251e-10\n",
      "1.6630466215378621e-21\n",
      "9.99999999998337e-10\n",
      "1.7614811144316724e-21\n",
      "9.999999999982386e-10\n",
      "1.8702553649823956e-21\n",
      "9.999999999981298e-10\n",
      "1.9893693731900316e-21\n",
      "9.999999999980107e-10\n",
      "2.1190299342077186e-21\n",
      "9.99999999997881e-10\n",
      "2.2588234577291803e-21\n",
      "9.999999999977412e-10\n",
      "2.409163534060693e-21\n",
      "9.99999999997591e-10\n"
     ]
    },
    {
     "data": {
      "text/plain": [
       "0.0002168247180654287"
      ]
     },
     "execution_count": 33,
     "metadata": {},
     "output_type": "execute_result"
    },
    {
     "data": {
      "image/png": "[encoded data removed]",
      "text/plain": [
       "<Figure size 432x288 with 1 Axes>"
      ]
     },
     "metadata": {
      "needs_background": "light"
     },
     "output_type": "display_data"
    }
   ],
   "source": [
    "'''\n",
    "Plot time vs. energy flux for a decaying microgram of U-238.\n",
    "'''\n",
    "#Can this work for 30 years?\n",
    "t_start, t_stop = 0, int(10 ** (4.5))\n",
    "t_array = np.linspace(start = t_start, stop = t_stop, \n",
    "                num = int((t_stop-t_start) / (10 ** 3)))\n",
    "energy_array = np.empty(len(t_array))\n",
    "\n",
    "initial_mass = 10 ** (-9)\n",
    "\n",
    "for index in range(len(t_array)):\n",
    "    time = t_array[index]\n",
    "    energy_array[index], mass_decayed = half_life_to_energy(\n",
    "        half_life_U_238, time, mass)\n",
    "    mass = initial_mass - mass_decayed\n",
    "    #Rewrite the algebra with Sasha tomorrow when I'm more awake\n",
    "    print(mass)\n",
    "    \n",
    "plt.scatter(t_array, np.log(energy_array))\n",
    "energy_array[-1] #minimum energy produced\n"
   ]
  },
  {
   "cell_type": "code",
   "execution_count": 26,
   "metadata": {},
   "outputs": [
    {
     "data": {
      "text/plain": [
       "31622"
      ]
     },
     "execution_count": 26,
     "metadata": {},
     "output_type": "execute_result"
    }
   ],
   "source": [
    "t_stop-t_start / (10 ** 3)"
   ]
  },
  {
   "cell_type": "code",
   "execution_count": null,
   "metadata": {},
   "outputs": [],
   "source": []
  }
 ],
 "metadata": {
  "kernelspec": {
   "display_name": "Python 3",
   "language": "python",
   "name": "python3"
  },
  "language_info": {
   "codemirror_mode": {
    "name": "ipython",
    "version": 3
   },
   "file_extension": ".py",
   "mimetype": "text/x-python",
   "name": "python",
   "nbconvert_exporter": "python",
   "pygments_lexer": "ipython3",
   "version": "3.8.3"
  }
 },
 "nbformat": 4,
 "nbformat_minor": 4
}
