{
 "cells": [
  {
   "cell_type": "markdown",
   "metadata": {},
   "source": [
    "Astropy documentation:\n",
    "\n",
    "https://docs.astropy.org/en/stable/units/index.html\n",
    "\n",
    "https://docs.astropy.org/en/stable/constants/index.html?highlight=constants"
   ]
  },
  {
   "cell_type": "code",
   "execution_count": 2,
   "metadata": {},
   "outputs": [
    {
     "data": {
      "text/plain": [
       "'c:\\\\Users\\\\engin\\\\Documents\\\\GitHub\\\\Energy\\\\'"
      ]
     },
     "execution_count": 2,
     "metadata": {},
     "output_type": "execute_result"
    }
   ],
   "source": [
    "import astropy\n",
    "import astropy.units as units\n",
    "import astropy.constants as constants\n",
    "import numpy as np\n",
    "import subprocess\n",
    "running_on_colab = not \"JupyterNotebooks\" in subprocess.os.getcwd()\n",
    "if running_on_colab:\n",
    "    running_on_colab = True\n",
    "    parent_dir = \"/content/\"\n",
    "else:\n",
    "    parent_dir = subprocess.os.getcwd().split(\"JupyterNotebooks\")[0]\n",
    "    sep_char = parent_dir.split(\"Energy\")[-1]\n",
    "parent_dir"
   ]
  },
  {
   "cell_type": "markdown",
   "metadata": {},
   "source": [
    "Consider an individual neutron at rest. We have \n",
    "\\begin{equation}\n",
    "\\begin{split}\n",
    "B(r) = \\frac{\\mu_0}{4\\pi}\\frac{(3m\\cdot\\hat{r})\\hat{r}-m}{r^3}\\\\\n",
    "\\text{where $\\hat{m}=\\hat{r}$ the above line simplifies to} \\quad\\quad B(r) = \\frac{\\mu_0}{4\\pi}\\frac{2m}{r^3}\n",
    "\\end{split}\n",
    "\\end{equation}\n",
    "where $m$ is the magnetic moment of the neutron, the magnetic field is being measured at a distance $r$ from the neutron, and $\\mu_0$ is the vacuum permeability. \n"
   ]
  },
  {
   "cell_type": "code",
   "execution_count": 16,
   "metadata": {},
   "outputs": [
    {
     "data": {
      "text/latex": [
       "$-1.932473 \\times 10^{-33} \\; \\mathrm{m^{3}\\,T}$"
      ],
      "text/plain": [
       "<Quantity -1.932473e-33 m3 T>"
      ]
     },
     "execution_count": 16,
     "metadata": {},
     "output_type": "execute_result"
    }
   ],
   "source": [
    "m = -0.96623650*(10**-26) * units.J / units.Tesla\n",
    "(constants.mu0 * m / (2 * np.pi)).to(units.Tesla * units.meter**3)"
   ]
  },
  {
   "cell_type": "code",
   "execution_count": null,
   "metadata": {},
   "outputs": [],
   "source": []
  }
 ],
 "metadata": {
  "kernelspec": {
   "display_name": "Python 3.9.10 64-bit",
   "language": "python",
   "name": "python3"
  },
  "language_info": {
   "codemirror_mode": {
    "name": "ipython",
    "version": 3
   },
   "file_extension": ".py",
   "mimetype": "text/x-python",
   "name": "python",
   "nbconvert_exporter": "python",
   "pygments_lexer": "ipython3",
   "version": "3.9.10"
  },
  "orig_nbformat": 4,
  "vscode": {
   "interpreter": {
    "hash": "274785dbb282d05f4e0ae2ca70ac66f1fa0484127cd60ef9f4ac2dd997977034"
   }
  }
 },
 "nbformat": 4,
 "nbformat_minor": 2
}
