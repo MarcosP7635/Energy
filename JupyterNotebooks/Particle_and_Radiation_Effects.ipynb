{
  "cells": [
    {
      "cell_type": "markdown",
      "metadata": {},
      "source": [
        "https://www.zotero.org/groups/4549380/batteries/collections/3BVK4M92/items/CIPEU8WY/collection \n",
        "\n",
        "https://link.springer.com/book/10.1007/3-540-31718-X \n",
        "\n"
      ]
    },
    {
      "cell_type": "markdown",
      "metadata": {},
      "source": [
        "Should I consider a larger variety of projectiles? Perhaps a larger projectile would have a larger cross section? \"While beams of small molecules like H $_2^+$ and low hydrocarbons have long been available, present-day technology allows to ac-\n",
        "celerate metal clusters or fullerene (C $_{60}$) ions up to energies in the MeV range\n",
        "(Della-Negra et al., 1993)\"\n",
        "\n",
        "The geometry of the medium and electron diffraction are of key importance for the channeling direction and beam of a projectile. \n",
        "\n",
        "Read Chapter 1.\n",
        "Chapter 2!\n",
        "\n",
        "With high beam current, some of the particles in the beam might interact with each other. \n",
        "The exponential probability of interaction (Lambert and Beer's law) is a result of the Poisson distribution. The probability of $n$ particles in an ideal gas to be located in a volume $x\\sigma_A$ is \n",
        "\\begin{equation}\n",
        "\\begin{split}\n",
        "P_n = \\frac{(Nv)^n}{n!}e^{-Nv}\\\\\n",
        "\\end{split}\n",
        "\\end{equation}\n",
        "where $N$ is the average density of the ideal gas. Now assume that for a projectile with enery $E$ we have for each index $j$ of a discrete energy transition with each corresponding to $n$ possible collisions\n",
        "\\begin{equation}\n",
        "\\begin{split}\n",
        "\\Delta E = \\sum_{j}n_j T_j\\\\\n",
        "\\end{split}\n",
        "\\end{equation}\n",
        "And thus for the average change in energy we have\n",
        "\\begin{equation}\n",
        "\\begin{split}\n",
        "\\langle\\Delta E\\rangle = \\sum_{j}\\langle n_j\\rangle T_j\\\\\n",
        "\\end{split}\n",
        "\\end{equation}\n",
        "from which we now define the energy loss cross section and make the substitution\n",
        "\\begin{equation}\n",
        "\\begin{split}\n",
        "\\langle n_j\\rangle = N\\Delta x\\langle \\sigma_j\\rangle\\\\\n",
        "\\langle\\Delta E\\rangle = \\sum_{j}N\\Delta x\\langle \\sigma_j\\rangle T_j\\\\\n",
        "\\end{split}\n",
        "\\end{equation}\n",
        "where now define the stopping cross section $S$ and the stopping power $\\frac{\\langle\\Delta E\\rangle}{\\Delta x}$\n",
        "\\begin{equation}\n",
        "\\begin{split}\n",
        "S = \\sum_j\\sigma_j T_j\\\\\n",
        "\\frac{\\langle\\Delta E\\rangle}{\\Delta x} = NS = \\sum_{j}N\\langle \\sigma_j\\rangle T_j\\\\\n",
        "\\end{split}\n",
        "\\end{equation}\n",
        "Finding the variance $\\Omega^2$ and the straggling parameter $W$\n",
        "\\begin{equation}\n",
        "\\begin{split}\n",
        "\\Omega^2 = N\\Delta x\\sum_j T_j^2\\sigma_j\\\\\n",
        "W = \\sum_j T_j^2\\sigma_j\n",
        "\\end{split}\n",
        "\\end{equation}"
      ]
    },
    {
      "cell_type": "markdown",
      "metadata": {},
      "source": [
        "Skipping to chapter 6, we have for the shelle correction to the Bethe formula (to make it more accurate at low velocity projectiles) where $L$ is the stopping number\n",
        "\\begin{equation}\n",
        "\\begin{split}\n",
        "S = \\frac{4\\pi Z_2e_1^2e^2}{mv^2}L\\\\\n",
        "\\Delta L = L_{Born} - \\ln \\frac{2mv^2}{I}\\\\\n",
        "\\end{split}\n",
        "\\end{equation}\n",
        "page 229/212"
      ]
    },
    {
      "cell_type": "markdown",
      "metadata": {},
      "source": [
        "One approximation to that works well for high velocity projectiles is the Bethe formula https://en.wikipedia.org/wiki/Bethe_formula \n",
        "\\begin{equation}\n",
        "\\begin{split}\n",
        "\\langle \\frac{dE}{dx}\\rangle = -\\frac{4\\pi}{m_ec^2}\\frac{nz^2}{\\beta^2}\\left(\\frac{e^2}{4\\pi\\epsilon_0}\\right)^2\\left[ \\ln\\left(\\frac{2m_ec^2\\beta^2}{I(1-\\beta^2)}\\right)-\\beta^2\\right]\\\\\n",
        "n = \\frac{N_Az\\rho}{AM}\n",
        "\\end{split}\n",
        "\\end{equation}\n",
        "where for the target, $N_A$ is Avogadro's number, $A$ is the relative atomic mass and $M$ is the molar mass. \n",
        "\n",
        "Below, we have where $m$ is the mass of an electron and $N$ is Avogadro's number"
      ]
    },
    {
      "cell_type": "code",
      "execution_count": 15,
      "metadata": {},
      "outputs": [
        {
          "data": {
            "text/latex": [
              "\\begin{equation}\n",
              "\\frac{z^{3} e^{2} N \\rho \\left(  - \\beta^{2} + \\log\\left( \\frac{2 \\beta^{2} c^{2} m}{I \\left( 1 - \\beta^{2} \\right)} \\right) \\right)}{\\beta^{2} c^{2} A M m \\varepsilon}\n",
              "\\end{equation}\n"
            ],
            "text/plain": [
              "(N*ρ*(e^2)*(z^3)*(log((2m*(c^2)*(β^2)) / (I*(1 - (β^2)))) - (β^2))) / (A*M*m*ε*(c^2)*(β^2))"
            ]
          },
          "metadata": {},
          "output_type": "display_data"
        }
      ],
      "source": [
        "using Unitful \n",
        "using Symbolics\n",
        "e, m, c, h, n, z, π, ε, β, ρ, A, M, I, N = @variables e m c h n z π ε β ρ A M I N\n",
        "n = N * z * ρ / (A * M)\n",
        "bethe_formula = (4π * n * (e* z)^2 / (m * 4π * ε * (c *  β)^2)) * (log(2 * m * (c*β)^2 / (I * (1- β^2))) - β^2)"
      ]
    },
    {
      "cell_type": "code",
      "execution_count": null,
      "metadata": {},
      "outputs": [],
      "source": []
    }
  ],
  "metadata": {
    "colab": {
      "name": "Particle and Radiation Effects.ipynb",
      "provenance": []
    },
    "kernelspec": {
      "display_name": "Julia 1.7.2",
      "language": "julia",
      "name": "julia-1.7"
    },
    "language_info": {
      "file_extension": ".jl",
      "mimetype": "application/julia",
      "name": "julia",
      "version": "1.7.2"
    }
  },
  "nbformat": 4,
  "nbformat_minor": 0
}
