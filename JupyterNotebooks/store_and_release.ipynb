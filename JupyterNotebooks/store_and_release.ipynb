{
 "cells": [
  {
   "cell_type": "markdown",
   "metadata": {},
   "source": [
    "The goal of this notebook is to calculate the energy efficiencies of different nuclear reactions to store energy. The energy produced by different decay chains has already been calculated, so calculating the Q-values of different nuclear reactions is also necessary to account for the energy not due to radioactive decay. "
   ]
  },
  {
   "cell_type": "code",
   "execution_count": null,
   "metadata": {},
   "outputs": [],
   "source": []
  }
 ],
 "metadata": {
  "language_info": {
   "name": "python"
  },
  "orig_nbformat": 4
 },
 "nbformat": 4,
 "nbformat_minor": 2
}
