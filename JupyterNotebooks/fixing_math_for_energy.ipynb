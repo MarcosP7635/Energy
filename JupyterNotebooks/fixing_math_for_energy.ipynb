{
 "cells": [
  {
   "cell_type": "markdown",
   "metadata": {},
   "source": [
    "I'll do a separate derivation here. It all hinged on one line that I no longer think is true. Generation 0 is the isotope we start with. We will call the rate that generation 1 is being produced $p$ and the rate that generation 1 is decaying $r$ and both of these are in moles/second. The $i$-th generation isotope at any given time has concentration $m_i$, with the exception of $m_0$ which is initial mass of the 0-th generation isotope. "
   ]
  },
  {
   "cell_type": "markdown",
   "metadata": {},
   "source": [
    "$\\newcommand{\\vect}[1]{{\\mathbf{\\boldsymbol{{#1}}}}}$\n",
    "This is the vector $\\vect{x}$."
   ]
  },
  {
   "cell_type": "markdown",
   "metadata": {},
   "source": []
  },
  {
   "cell_type": "markdown",
   "metadata": {},
   "source": [
    "That is one way to do it but it's easy to be led astray by it. Instead, stastically consider a single nucleus. We have one nucleus of the 0-th generation isotope and has an e-folding time of $\\lambda_0$. The first generation isotope has an e-folding time of $\\lambda_1$ and the second generation isotope is stable. $P_i(t)$ is the probability of the nucleus being in the i-th generation at a given time $t$. \n",
    "\\begin{align}\n",
    "&\\text{We start with}\\quad P_0(0)=1\\quad \\text{furthermore}\\quad P_0(t)=e^{-t/\\lambda_0}\\\\\n",
    "&\\tilde{P}_1 \\text{ is the probability the 0-th generation isotope decayed by the time }t\\quad \\tilde{P}_1=1-P_0(t)\n",
    "\\end{align}\n",
    "<a id=\"eq_prob_ind\"> </a>\n",
    "\\begin{align}\n",
    "&\\text{Since}\\quad P_2=(1-e^{-t/\\lambda_1})\\tilde{P_1}=(1-e^{-t/\\lambda_1})(1-P_0)=(1-e^{-t/\\lambda_1})(1-e^{-t/\\lambda_0})\\\\\n",
    "&\\text{Since }\\quad \\sum_{i=0}^{i=2} P_i(t)=1\\quad\\text{we have}\\quad P_1=1-(P_0+P_2)\\\\\n",
    "&\\text{Substituting yields}\\quad P_1=1-(e^{-t/\\lambda_0}+(1-e^{-t/\\lambda_1})(1-e^{-t/\\lambda_0}))\\\\\n",
    "&\\text{Simplifying yields}\\quad P_1=1-e^{-t/\\lambda_0}-e^{-t/\\lambda_1}+\n",
    "e^{-t(\\lambda_0^{-1}+\\lambda_1^{-1})}\\\\\n",
    "&\\text{We substitute }\\quad \\tilde{P}_1 = 1-e^{-t/\\lambda_0}\n",
    "\\quad\\text{and}\\quad P_2=e^{-t/\\lambda_2}(1-P_0)\n",
    "\\end{align}\n",
    "Using the <a href=\"#eq_prob_ind\"> Equation that yielded $P_2$ from $\\tilde{P_1}$ </a> we have by analogy iff the $i+1$ generation is stable.\n",
    "\n",
    "\\begin{align}\n",
    "P_{i+1}=(1-e^{-t/\\lambda_{i}})\\tilde{P_i} = \\prod_{n=0}^i (1-e^{-t/\\lambda_{n}})\n",
    "\\end{align}\n"
   ]
  },
  {
   "cell_type": "markdown",
   "metadata": {},
   "source": [
    "\n",
    "\\begin{align}\n",
    "&\\text{We by substituting and evaluating}\\quad \\frac{dm_1}{dt} = p_1-r_1\\quad\\therefore\\quad \\frac{dm_1}{dt}=-\\frac{m_0}{\\lambda_0}e^{-t/\\lambda_0}+\\frac{m_1}{\\lambda_1}e^{-t/\\lambda_1}\\\\\n",
    "&\\text{First consider that the part }\\frac{m_1}{\\lambda_1}e^{-t/\\lambda_1}\\quad \\text{suggest solutions of the form }m_1\\propto e^{e^{-t/\\lambda_1}}\\\\\n",
    "&\\text{However to account for the }-\\frac{m_0}{\\lambda_0}e^{-t/\\lambda_0}\\quad\\text{we modify our guess to }m_1= be^{-tl}+ae^{-tk+e^{-t/\\lambda_1}}\\\\\n",
    "&\\text{Now we proceed to find the constants }k,\\ a \\text{ and }b\\quad \\frac{dm_1}{dt}=-bke^{-tk}-\\frac{a}{\\lambda_1}e^{-t/\\lambda_1}e^{e^{-t/\\lambda_1}}\\\\\n",
    "&\\text{Substituting yields}\\quad \\frac{dm_1}{dt}=m_1(-bke^{-tk}-\\frac{a}{\\lambda_1}e^{-t/\\lambda_1}e^{e^{-t/\\lambda_1}})\\\\\n",
    "&\\text{Consider the similar problem where }\\quad \\frac{dm_1}{dt} = be^{at}+m_1fe^{ct}\\\\\n",
    "&\\text{Using the product rule and reduction of order}\\quad f=c, \\text{ and } m_1 = bte \\\\\n",
    "&\\text{We then define }c_i\\equiv \\frac{m_i}{\\lambda_i}\\quad \\frac{dm_1}{dt}=c_0e^{-t/\\lambda_0}+e^{-t/\\lambda_1}\\\\\n",
    "&\\text{Which we will solve using reduction of order}\\quad \\\\\n",
    "&\\int_0^t \\frac{m_0}{\\lambda_0}e^{-t/\\lambda_0}-\\frac{m_1}{\\lambda_1}e^{-t/\\lambda_1}dt\\\\\n",
    "&\\text{Consider generation one}\\quad m_1 = \\int_0^t v_p - v_d dt = \\int_0^t \\lambda_0e^{\\lambda_0/t} - \\lambda_1e^{\\lambda_1/t} dt\n",
    "\\end{align}"
   ]
  },
  {
   "cell_type": "code",
   "execution_count": 10,
   "metadata": {},
   "outputs": [
    {
     "data": {
      "text/latex": [
       "$\\displaystyle f{\\left(x \\right)} = C_{1} \\sin{\\left(3 x \\right)} + C_{2} \\cos{\\left(3 x \\right)}$"
      ],
      "text/plain": [
       "Eq(f(x), C1*sin(3*x) + C2*cos(3*x))"
      ]
     },
     "execution_count": 10,
     "metadata": {},
     "output_type": "execute_result"
    }
   ],
   "source": [
    "from sympy import Function, dsolve, Eq, Derivative, sin, cos, symbols, exp, diff\n",
    "from sympy.abc import x\n",
    "import sympy\n",
    "f = Function('f')\n",
    "dsolve(Derivative(f(x), x, x) + 9*f(x), f(x))"
   ]
  },
  {
   "cell_type": "code",
   "execution_count": 14,
   "metadata": {},
   "outputs": [
    {
     "data": {
      "text/latex": [
       "$\\displaystyle \\frac{d}{d t} m_{1}{\\left(t \\right)} = \\frac{m_{1}{\\left(t \\right)} e^{- \\frac{t}{\\lambda_{1}}}}{\\lambda_{1}} - \\frac{m_{0} e^{- \\frac{t}{\\lambda_{0}}}}{\\lambda_{0}}$"
      ],
      "text/plain": [
       "Eq(Derivative(m_1(t), t), m_1(t)*exp(-t/\\lambda_1)/\\lambda_1 - m_0*exp(-t/\\lambda_0)/\\lambda_0)"
      ]
     },
     "execution_count": 14,
     "metadata": {},
     "output_type": "execute_result"
    }
   ],
   "source": [
    "m_1 = Function('m_1')\n",
    "m_0, lam_0, lam_1, t = symbols(\"m_0 \\\\lambda_0 \\\\lambda_1 t\")\n",
    "diff_eq_gen_1 = Eq(Derivative(m_1(t), t), -m_0 * exp(-t/lam_0)/lam_0 + \n",
    "       m_1(t) * exp(-t/lam_1)/lam_1)\n",
    "diff_eq_gen_1"
   ]
  },
  {
   "cell_type": "code",
   "execution_count": 16,
   "metadata": {},
   "outputs": [
    {
     "data": {
      "text/latex": [
       "$\\displaystyle \\frac{\\lambda_{0} \\int m_{1}{\\left(t \\right)} e^{- \\frac{t}{\\lambda_{1}}} e^{e^{- \\frac{t}{\\lambda_{1}}}}\\, dt - \\lambda_{1} m_{0} \\int e^{- \\frac{t}{\\lambda_{0}}} e^{e^{- \\frac{t}{\\lambda_{1}}}}\\, dt}{\\lambda_{0} \\lambda_{1}} = C_{1}$"
      ],
      "text/plain": [
       "Eq((\\lambda_0*Integral(m_1(t)*exp(-t/\\lambda_1)*exp(exp(-t/\\lambda_1)), t) - \\lambda_1*m_0*Integral(exp(-t/\\lambda_0)*exp(exp(-t/\\lambda_1)), t))/(\\lambda_0*\\lambda_1), C1)"
      ]
     },
     "execution_count": 16,
     "metadata": {},
     "output_type": "execute_result"
    }
   ],
   "source": [
    "soln_eq_gen_1 = dsolve(diff_eq_gen_1, m_1(t))\n",
    "soln_eq_gen_1"
   ]
  },
  {
   "cell_type": "code",
   "execution_count": null,
   "metadata": {},
   "outputs": [],
   "source": [
    "diff(soln_eq_gen_1.rhs, t)"
   ]
  }
 ],
 "metadata": {
  "kernelspec": {
   "display_name": "ay105",
   "language": "python",
   "name": "python3"
  },
  "language_info": {
   "codemirror_mode": {
    "name": "ipython",
    "version": 3
   },
   "file_extension": ".py",
   "mimetype": "text/x-python",
   "name": "python",
   "nbconvert_exporter": "python",
   "pygments_lexer": "ipython3",
   "version": "3.11.3"
  }
 },
 "nbformat": 4,
 "nbformat_minor": 2
}
