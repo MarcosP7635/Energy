{
 "cells": [
  {
   "attachments": {},
   "cell_type": "markdown",
   "metadata": {},
   "source": [
    "<a href=\"https://colab.research.google.com/github/MarcosP7635/Energy/blob/main/JupyterNotebooks/solar_icf.ipynb\" target=\"_parent\"><img src=\"https://colab.research.google.com/assets/colab-badge.svg\" alt=\"Open In Colab\"/></a>"
   ]
  },
  {
   "cell_type": "code",
   "execution_count": 2,
   "metadata": {},
   "outputs": [
    {
     "data": {
      "text/plain": [
       "('c:\\\\Users\\\\engin\\\\Documents\\\\GitHub\\\\Energy\\\\',\n",
       " 'c:\\\\Users\\\\engin\\\\Documents\\\\GitHub\\\\Energy\\\\ImportedData\\\\',\n",
       " 'c:\\\\Users\\\\engin\\\\Documents\\\\GitHub\\\\Energy\\\\ExportedData\\\\')"
      ]
     },
     "execution_count": 2,
     "metadata": {},
     "output_type": "execute_result"
    }
   ],
   "source": [
    "import subprocess\n",
    "running_on_colab = not \"JupyterNotebooks\" in subprocess.os.getcwd()\n",
    "if running_on_colab:\n",
    "    running_on_colab = True\n",
    "    parent_dir = \"/content/\"\n",
    "    export_data_dir = \"/content/\"\n",
    "    import_data_dir = \"/content/\"\n",
    "else:\n",
    "    parent_dir = subprocess.os.getcwd().split(\"JupyterNotebooks\")[0]\n",
    "    sep_char = parent_dir.split(\"Energy\")[-1]\n",
    "    import_data_dir =  parent_dir + \"ImportedData\" + sep_char \n",
    "    export_data_dir =  parent_dir + \"ExportedData\" + sep_char\n",
    "parent_dir, import_data_dir, export_data_dir"
   ]
  },
  {
   "cell_type": "code",
   "execution_count": null,
   "metadata": {},
   "outputs": [],
   "source": []
  }
 ],
 "metadata": {
  "kernelspec": {
   "display_name": "Python 3.9.10 64-bit",
   "language": "python",
   "name": "python3"
  },
  "language_info": {
   "codemirror_mode": {
    "name": "ipython",
    "version": 3
   },
   "file_extension": ".py",
   "mimetype": "text/x-python",
   "name": "python",
   "nbconvert_exporter": "python",
   "pygments_lexer": "ipython3",
   "version": "3.9.10"
  },
  "orig_nbformat": 4,
  "vscode": {
   "interpreter": {
    "hash": "274785dbb282d05f4e0ae2ca70ac66f1fa0484127cd60ef9f4ac2dd997977034"
   }
  }
 },
 "nbformat": 4,
 "nbformat_minor": 2
}
