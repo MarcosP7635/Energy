{
  "nbformat": 4,
  "nbformat_minor": 0,
  "metadata": {
    "colab": {
      "provenance": [],
      "collapsed_sections": [],
      "authorship_tag": "ABX9TyOqF/BOobKmIiiFQ/6EzgID",
      "include_colab_link": true
    },
    "kernelspec": {
      "name": "python3",
      "display_name": "Python 3"
    },
    "language_info": {
      "name": "python"
    }
  },
  "cells": [
    {
      "cell_type": "markdown",
      "metadata": {
        "id": "view-in-github",
        "colab_type": "text"
      },
      "source": [
        "<a href=\"https://colab.research.google.com/github/MarcosP7635/Energy/blob/main/Power_density_po_208.ipynb\" target=\"_parent\"><img src=\"https://colab.research.google.com/assets/colab-badge.svg\" alt=\"Open In Colab\"/></a>"
      ]
    },
    {
      "cell_type": "code",
      "execution_count": null,
      "metadata": {
        "id": "bBym-6hBlZqO"
      },
      "outputs": [],
      "source": [
        "import astropy \n",
        "from astropy import constants as const\n",
        "from astropy import units as units\n",
        "import numpy as np\n",
        "import pandas as pd\n",
        "import plotly.express as px\n",
        "import plotly.graph_objects as go\n",
        "import urllib.request\n",
        "\n",
        "def lc_read_csv(url):\n",
        "    req =urllib.request.Request(url)\n",
        "    req.add_header('User-Agent', 'Mozilla/5.0 (X11; Ubuntu; Linux x86_64; rv:77.0) Gecko/20100101 Firefox/77.0')\n",
        "    return pd.read_csv(urllib.request.urlopen(req))"
      ]
    },
    {
      "cell_type": "code",
      "source": [
        "# the service URL\n",
        "livechart = \"https://nds.iaea.org/relnsd/v0/data?\""
      ],
      "metadata": {
        "id": "3y28Z6YOmbj9"
      },
      "execution_count": null,
      "outputs": []
    },
    {
      "cell_type": "code",
      "source": [
        "# load data into a dataframe \n",
        "\n",
        "# this loading might not work, then use the line below\n",
        "#df = pd.read_csv(livechart + \"fields=decay_rads&nuclides=241am&rad_types=g\")\n",
        "df = lc_read_csv(livechart + \"fields=decay_rads&nuclides=208po&rad_types=a\")\n",
        "\n",
        "#df = df[pd.to_numeric(df['intensity'],errors='coerce').notna()] # remove blanks (unknown intensities)\n",
        "#df.intensity = df['intensity'].astype(float) # convert to numeric. Note how one can specify the field by attribute or by string \n",
        "\n",
        "#fig = px.scatter(df, x=\"energy\", y=\"intensity\", log_y=True) # plot in log scale\n",
        "#fig.show()\n",
        "df"
      ],
      "metadata": {
        "colab": {
          "base_uri": "https://localhost:8080/",
          "height": 258
        },
        "id": "gV_IG2zSmpaj",
        "outputId": "54a0a53d-316b-4a74-f379-4c360e84dcad"
      },
      "execution_count": null,
      "outputs": [
        {
          "output_type": "execute_result",
          "data": {
            "text/plain": [
              "   energy  unc_en  intensity     unc_i  daughter_level_energy  \\\n",
              "0  4220.0    15.0    0.00024  0.000070                899.166   \n",
              "1  5114.9     1.4   99.99576  0.000406                  0.000   \n",
              "\n",
              "   hindrance_factor unc_hf  p_z  p_n p_symbol  ... decay_%   unc_d       q  \\\n",
              "0              0.62   0.19   84  124       Po  ...  99.996  0.0004  5215.7   \n",
              "1              1.00          84  124       Po  ...  99.996  0.0004  5215.7   \n",
              "\n",
              "  unc_q  d_z  d_n  d_symbol ensdf_publication_cut-off  \\\n",
              "0    13   82  122        Pb                1-Oct-2009   \n",
              "1    13   82  122        Pb                1-Oct-2009   \n",
              "\n",
              "                 ensdf_authors  Extraction_date  \n",
              "0  C.J. CHIARA and F.G. KONDEV       2022-09-01  \n",
              "1  C.J. CHIARA and F.G. KONDEV       2022-09-01  \n",
              "\n",
              "[2 rows x 31 columns]"
            ],
            "text/html": [
              "\n",
              "  <div id=\"df-01abe252-3bdd-4b8c-b1c4-ee2e4be6fce8\">\n",
              "    <div class=\"colab-df-container\">\n",
              "      <div>\n",
              "<style scoped>\n",
              "    .dataframe tbody tr th:only-of-type {\n",
              "        vertical-align: middle;\n",
              "    }\n",
              "\n",
              "    .dataframe tbody tr th {\n",
              "        vertical-align: top;\n",
              "    }\n",
              "\n",
              "    .dataframe thead th {\n",
              "        text-align: right;\n",
              "    }\n",
              "</style>\n",
              "<table border=\"1\" class=\"dataframe\">\n",
              "  <thead>\n",
              "    <tr style=\"text-align: right;\">\n",
              "      <th></th>\n",
              "      <th>energy</th>\n",
              "      <th>unc_en</th>\n",
              "      <th>intensity</th>\n",
              "      <th>unc_i</th>\n",
              "      <th>daughter_level_energy</th>\n",
              "      <th>hindrance_factor</th>\n",
              "      <th>unc_hf</th>\n",
              "      <th>p_z</th>\n",
              "      <th>p_n</th>\n",
              "      <th>p_symbol</th>\n",
              "      <th>...</th>\n",
              "      <th>decay_%</th>\n",
              "      <th>unc_d</th>\n",
              "      <th>q</th>\n",
              "      <th>unc_q</th>\n",
              "      <th>d_z</th>\n",
              "      <th>d_n</th>\n",
              "      <th>d_symbol</th>\n",
              "      <th>ensdf_publication_cut-off</th>\n",
              "      <th>ensdf_authors</th>\n",
              "      <th>Extraction_date</th>\n",
              "    </tr>\n",
              "  </thead>\n",
              "  <tbody>\n",
              "    <tr>\n",
              "      <th>0</th>\n",
              "      <td>4220.0</td>\n",
              "      <td>15.0</td>\n",
              "      <td>0.00024</td>\n",
              "      <td>0.000070</td>\n",
              "      <td>899.166</td>\n",
              "      <td>0.62</td>\n",
              "      <td>0.19</td>\n",
              "      <td>84</td>\n",
              "      <td>124</td>\n",
              "      <td>Po</td>\n",
              "      <td>...</td>\n",
              "      <td>99.996</td>\n",
              "      <td>0.0004</td>\n",
              "      <td>5215.7</td>\n",
              "      <td>13</td>\n",
              "      <td>82</td>\n",
              "      <td>122</td>\n",
              "      <td>Pb</td>\n",
              "      <td>1-Oct-2009</td>\n",
              "      <td>C.J. CHIARA and F.G. KONDEV</td>\n",
              "      <td>2022-09-01</td>\n",
              "    </tr>\n",
              "    <tr>\n",
              "      <th>1</th>\n",
              "      <td>5114.9</td>\n",
              "      <td>1.4</td>\n",
              "      <td>99.99576</td>\n",
              "      <td>0.000406</td>\n",
              "      <td>0.000</td>\n",
              "      <td>1.00</td>\n",
              "      <td></td>\n",
              "      <td>84</td>\n",
              "      <td>124</td>\n",
              "      <td>Po</td>\n",
              "      <td>...</td>\n",
              "      <td>99.996</td>\n",
              "      <td>0.0004</td>\n",
              "      <td>5215.7</td>\n",
              "      <td>13</td>\n",
              "      <td>82</td>\n",
              "      <td>122</td>\n",
              "      <td>Pb</td>\n",
              "      <td>1-Oct-2009</td>\n",
              "      <td>C.J. CHIARA and F.G. KONDEV</td>\n",
              "      <td>2022-09-01</td>\n",
              "    </tr>\n",
              "  </tbody>\n",
              "</table>\n",
              "<p>2 rows × 31 columns</p>\n",
              "</div>\n",
              "      <button class=\"colab-df-convert\" onclick=\"convertToInteractive('df-01abe252-3bdd-4b8c-b1c4-ee2e4be6fce8')\"\n",
              "              title=\"Convert this dataframe to an interactive table.\"\n",
              "              style=\"display:none;\">\n",
              "        \n",
              "  <svg xmlns=\"http://www.w3.org/2000/svg\" height=\"24px\"viewBox=\"0 0 24 24\"\n",
              "       width=\"24px\">\n",
              "    <path d=\"M0 0h24v24H0V0z\" fill=\"none\"/>\n",
              "    <path d=\"M18.56 5.44l.94 2.06.94-2.06 2.06-.94-2.06-.94-.94-2.06-.94 2.06-2.06.94zm-11 1L8.5 8.5l.94-2.06 2.06-.94-2.06-.94L8.5 2.5l-.94 2.06-2.06.94zm10 10l.94 2.06.94-2.06 2.06-.94-2.06-.94-.94-2.06-.94 2.06-2.06.94z\"/><path d=\"M17.41 7.96l-1.37-1.37c-.4-.4-.92-.59-1.43-.59-.52 0-1.04.2-1.43.59L10.3 9.45l-7.72 7.72c-.78.78-.78 2.05 0 2.83L4 21.41c.39.39.9.59 1.41.59.51 0 1.02-.2 1.41-.59l7.78-7.78 2.81-2.81c.8-.78.8-2.07 0-2.86zM5.41 20L4 18.59l7.72-7.72 1.47 1.35L5.41 20z\"/>\n",
              "  </svg>\n",
              "      </button>\n",
              "      \n",
              "  <style>\n",
              "    .colab-df-container {\n",
              "      display:flex;\n",
              "      flex-wrap:wrap;\n",
              "      gap: 12px;\n",
              "    }\n",
              "\n",
              "    .colab-df-convert {\n",
              "      background-color: #E8F0FE;\n",
              "      border: none;\n",
              "      border-radius: 50%;\n",
              "      cursor: pointer;\n",
              "      display: none;\n",
              "      fill: #1967D2;\n",
              "      height: 32px;\n",
              "      padding: 0 0 0 0;\n",
              "      width: 32px;\n",
              "    }\n",
              "\n",
              "    .colab-df-convert:hover {\n",
              "      background-color: #E2EBFA;\n",
              "      box-shadow: 0px 1px 2px rgba(60, 64, 67, 0.3), 0px 1px 3px 1px rgba(60, 64, 67, 0.15);\n",
              "      fill: #174EA6;\n",
              "    }\n",
              "\n",
              "    [theme=dark] .colab-df-convert {\n",
              "      background-color: #3B4455;\n",
              "      fill: #D2E3FC;\n",
              "    }\n",
              "\n",
              "    [theme=dark] .colab-df-convert:hover {\n",
              "      background-color: #434B5C;\n",
              "      box-shadow: 0px 1px 3px 1px rgba(0, 0, 0, 0.15);\n",
              "      filter: drop-shadow(0px 1px 2px rgba(0, 0, 0, 0.3));\n",
              "      fill: #FFFFFF;\n",
              "    }\n",
              "  </style>\n",
              "\n",
              "      <script>\n",
              "        const buttonEl =\n",
              "          document.querySelector('#df-01abe252-3bdd-4b8c-b1c4-ee2e4be6fce8 button.colab-df-convert');\n",
              "        buttonEl.style.display =\n",
              "          google.colab.kernel.accessAllowed ? 'block' : 'none';\n",
              "\n",
              "        async function convertToInteractive(key) {\n",
              "          const element = document.querySelector('#df-01abe252-3bdd-4b8c-b1c4-ee2e4be6fce8');\n",
              "          const dataTable =\n",
              "            await google.colab.kernel.invokeFunction('convertToInteractive',\n",
              "                                                     [key], {});\n",
              "          if (!dataTable) return;\n",
              "\n",
              "          const docLinkHtml = 'Like what you see? Visit the ' +\n",
              "            '<a target=\"_blank\" href=https://colab.research.google.com/notebooks/data_table.ipynb>data table notebook</a>'\n",
              "            + ' to learn more about interactive tables.';\n",
              "          element.innerHTML = '';\n",
              "          dataTable['output_type'] = 'display_data';\n",
              "          await google.colab.output.renderOutput(dataTable, element);\n",
              "          const docLink = document.createElement('div');\n",
              "          docLink.innerHTML = docLinkHtml;\n",
              "          element.appendChild(docLink);\n",
              "        }\n",
              "      </script>\n",
              "    </div>\n",
              "  </div>\n",
              "  "
            ]
          },
          "metadata": {},
          "execution_count": 3
        }
      ]
    },
    {
      "cell_type": "code",
      "source": [
        "decay_energy = df[\"energy\"][1] * units.keV"
      ],
      "metadata": {
        "id": "KDTU1uMhm-hG"
      },
      "execution_count": null,
      "outputs": []
    },
    {
      "cell_type": "code",
      "source": [
        "half_life = df['half_life'][1] * units.year"
      ],
      "metadata": {
        "id": "ubiF_ALhnkzE"
      },
      "execution_count": null,
      "outputs": []
    },
    {
      "cell_type": "code",
      "source": [
        "half_life"
      ],
      "metadata": {
        "colab": {
          "base_uri": "https://localhost:8080/",
          "height": 37
        },
        "id": "pLG1lKc58370",
        "outputId": "30b26f70-d1f9-4778-97e1-7012bc9eab70"
      },
      "execution_count": null,
      "outputs": [
        {
          "output_type": "execute_result",
          "data": {
            "text/plain": [
              "<Quantity 2.898 yr>"
            ],
            "text/latex": "$2.898 \\; \\mathrm{yr}$"
          },
          "metadata": {},
          "execution_count": 8
        }
      ]
    },
    {
      "cell_type": "code",
      "source": [
        "half_life *= 1/np.log(2)"
      ],
      "metadata": {
        "id": "8oUCHkExn-Rv"
      },
      "execution_count": null,
      "outputs": []
    },
    {
      "cell_type": "code",
      "source": [
        "half_life = half_life.to(units.second)"
      ],
      "metadata": {
        "id": "9d4wXyzCoPwl"
      },
      "execution_count": null,
      "outputs": []
    },
    {
      "cell_type": "code",
      "source": [
        "atoms_per_s = 1 * units.mol / half_life \n",
        "atoms_per_s *= const.N_A\n",
        "atoms_per_s"
      ],
      "metadata": {
        "colab": {
          "base_uri": "https://localhost:8080/",
          "height": 38
        },
        "id": "oG7YNc8lod_b",
        "outputId": "f87b7636-1327-4129-c42f-47c99271b9b0"
      },
      "execution_count": null,
      "outputs": [
        {
          "output_type": "execute_result",
          "data": {
            "text/plain": [
              "<Quantity 4.56429825e+15 1 / s>"
            ],
            "text/latex": "$4.5642982 \\times 10^{15} \\; \\mathrm{\\frac{1}{s}}$"
          },
          "metadata": {},
          "execution_count": 11
        }
      ]
    },
    {
      "cell_type": "code",
      "source": [
        "power_per_mol = (decay_energy * atoms_per_s).to(units.W)"
      ],
      "metadata": {
        "id": "0lmEWZlSo1g3"
      },
      "execution_count": null,
      "outputs": []
    },
    {
      "cell_type": "code",
      "source": [
        "specific_power = power_per_mol / (208 * units.g)\n",
        "specific_power"
      ],
      "metadata": {
        "colab": {
          "base_uri": "https://localhost:8080/",
          "height": 40
        },
        "id": "EReslAskpCex",
        "outputId": "232f2438-8669-453f-931d-ca7c812d82da"
      },
      "execution_count": null,
      "outputs": [
        {
          "output_type": "execute_result",
          "data": {
            "text/plain": [
              "<Quantity 17.98283756 W / g>"
            ],
            "text/latex": "$17.982838 \\; \\mathrm{\\frac{W}{g}}$"
          },
          "metadata": {},
          "execution_count": 16
        }
      ]
    },
    {
      "cell_type": "code",
      "source": [
        "def mass_per_area(density, thickness): \n",
        "  return (density * thickness).to(units.g / units.cm**2)\n",
        "\n",
        "unit_type = astropy.units.quantity.Quantity \n",
        "\n",
        "class Electric_battery:\n",
        "    \n",
        "    def __init__(self, conversion_type, properties_dict):\n",
        "        self.conversion_type = conversion_type\n",
        "        for key in properties_dict.keys():\n",
        "            setattr(self, key.replace(\" \", \"_\"), properties_dict[key])\n",
        "\n",
        "    def evaluate(self, isotope_specific_power, isotope_mass_density):\n",
        "        total_volume = (self.total_thickness * self.area).to(units.cm ** 3)\n",
        "        isotope_mass_per_area = mass_per_area(isotope_mass_density, \n",
        "                                self.isotope_thickness)\n",
        "        total_mass_per_area = self.mass_per_area_no_fuel + isotope_mass_per_area\n",
        "        total_mass_density = (total_mass_per_area * units.cm**2 / \n",
        "                                total_volume)\n",
        "        isotope_power_per_area = (isotope_mass_per_area * \n",
        "                                    isotope_specific_power)\n",
        "        self.specific_power = (self.conversion_efficiency * \n",
        "                            isotope_power_per_area / \n",
        "                            total_mass_per_area)\n",
        "        self.power_density = self.specific_power * total_mass_density\n",
        "        return (self.power_density, self.specific_power)"
      ],
      "metadata": {
        "id": "mXQRrMzBpjQ_"
      },
      "execution_count": null,
      "outputs": []
    },
    {
      "cell_type": "code",
      "source": [
        "aqueous_conversion_dict = {\"isotope thickness\" : 1 * units.micron, \n",
        "        \"mass per area no fuel\" : 0.4026\n",
        " * units.g / units.cm**2 ,\n",
        "        \"total thickness\" : 2003.05 * units.micron,\n",
        "        \"area\" : 1 * units.cm**2,\n",
        "        \"conversion efficiency\" : .5}\n",
        "direct_conversion_dict = {\"isotope thickness\" : .2 * units.micron,\n",
        "    \"mass per area no fuel\" : .47064895 * units.g / units.cm**2,\n",
        "    \"total thickness\" : 4.1665 * units.millimeter, \"area\" : 1 * units.cm**2,\n",
        "    \"conversion efficiency\" : .2}\n",
        "conversion_properties_dict = {\"direct\" : direct_conversion_dict,\n",
        "                     \"aqueous\" : aqueous_conversion_dict}"
      ],
      "metadata": {
        "id": "cgrAmex1pw6t"
      },
      "execution_count": 36,
      "outputs": []
    },
    {
      "cell_type": "code",
      "source": [
        "battery_type = \"aqueous\"\n",
        "a = Electric_battery(battery_type, \n",
        "conversion_properties_dict[battery_type])"
      ],
      "metadata": {
        "id": "VmrWRAZhp61r"
      },
      "execution_count": 37,
      "outputs": []
    },
    {
      "cell_type": "code",
      "source": [
        "a.isotope_thickness"
      ],
      "metadata": {
        "colab": {
          "base_uri": "https://localhost:8080/",
          "height": 39
        },
        "id": "G0JSXxhHrgVZ",
        "outputId": "69c7a207-f02e-40a1-ad3e-330517cdd1fc"
      },
      "execution_count": 38,
      "outputs": [
        {
          "output_type": "execute_result",
          "data": {
            "text/plain": [
              "<Quantity 1. micron>"
            ],
            "text/latex": "$1 \\; \\mathrm{\\mu m}$"
          },
          "metadata": {},
          "execution_count": 38
        }
      ]
    },
    {
      "cell_type": "code",
      "source": [
        "a.evaluate(specific_power, 9.389 * units.g / units.cm**3)"
      ],
      "metadata": {
        "colab": {
          "base_uri": "https://localhost:8080/"
        },
        "id": "TgbIX4uSrYgq",
        "outputId": "b50c58c2-ed7e-4a06-e293-e851f4d46014"
      },
      "execution_count": 39,
      "outputs": [
        {
          "output_type": "execute_result",
          "data": {
            "text/plain": [
              "(<Quantity 0.04214594 W / cm3>, <Quantity 0.02092002 W / g>)"
            ]
          },
          "metadata": {},
          "execution_count": 39
        }
      ]
    },
    {
      "cell_type": "markdown",
      "source": [
        "Now consider the aqueous battery  but instead the water consists of T$_2$O\n",
        "\n",
        "\"water (1 mm)/Pt (50 nm)/TiO2 (1 mm)/glass (1 mm) structure\""
      ],
      "metadata": {
        "id": "ZJC_pDMRtaYd"
      }
    },
    {
      "cell_type": "code",
      "source": [
        "titanium_thickness = 2 * units.micron\n",
        "platinum_film_thickness = 50 * units.nanometer \n",
        "water_thickness = 1 * units.mm\n",
        "glass_thickness = 1 * units.mm\n",
        "glass_density = 3 * units.g/(units.cm**3)\n",
        "titanium_density = 5 * units.g /(units.cm ** 3) \n",
        "platinum_density = 20 * units.g / (units.cm ** 3)\n",
        "water_density = 1 * units.g / units.cm**3"
      ],
      "metadata": {
        "id": "sSttdhHFuObS"
      },
      "execution_count": 34,
      "outputs": []
    },
    {
      "cell_type": "code",
      "source": [
        "total_mass_per_area = (mass_per_area(platinum_density, platinum_film_thickness)\n",
        "                    + .5 * mass_per_area(platinum_density, titanium_thickness)\n",
        "                    + .5 * mass_per_area(titanium_density, titanium_thickness)\n",
        "+mass_per_area(glass_density, glass_thickness)\n",
        "+mass_per_area(water_density, water_thickness))\n",
        "total_mass_per_area"
      ],
      "metadata": {
        "colab": {
          "base_uri": "https://localhost:8080/",
          "height": 38
        },
        "id": "PP6lJXjEu2z2",
        "outputId": "e7bbb237-54e2-4c14-f5fd-483fc1365405"
      },
      "execution_count": 35,
      "outputs": [
        {
          "output_type": "execute_result",
          "data": {
            "text/plain": [
              "<Quantity 0.4026 g / cm2>"
            ],
            "text/latex": "$0.4026 \\; \\mathrm{\\frac{g}{cm^{2}}}$"
          },
          "metadata": {},
          "execution_count": 35
        }
      ]
    },
    {
      "cell_type": "code",
      "source": [
        "titanium_thickness + platinum_film_thickness + glass_thickness + water_thickness"
      ],
      "metadata": {
        "colab": {
          "base_uri": "https://localhost:8080/",
          "height": 38
        },
        "id": "sPQ7ZIPpwAlo",
        "outputId": "c86626b3-9853-4f1b-da15-a568ec81a7cf"
      },
      "execution_count": null,
      "outputs": [
        {
          "output_type": "execute_result",
          "data": {
            "text/plain": [
              "<Quantity 2002.05 micron>"
            ],
            "text/latex": "$2002.05 \\; \\mathrm{\\mu m}$"
          },
          "metadata": {},
          "execution_count": 27
        }
      ]
    },
    {
      "cell_type": "code",
      "source": [
        "tritium_water_dict = {\n",
        "\"isotope thickness\" : 1 * units.mm,\n",
        "\"mass_per_area_no_fuel\" : .0029 * units.g/(units.cm**2),\n",
        "\"total_thickness\" : 1003.05 * units.micron,\n",
        "\"area\" : 1 * units.cm**2,\n",
        "\"conversion efficiency\" : .5}"
      ],
      "metadata": {
        "id": "NIvYPdHfttQf"
      },
      "execution_count": null,
      "outputs": []
    },
    {
      "cell_type": "code",
      "source": [
        "battery = Electric_battery(\"tritium water\",\n",
        "tritium_water_dict)\n",
        "battery.evaluate(power/units.g / 18, water_density)"
      ],
      "metadata": {
        "colab": {
          "base_uri": "https://localhost:8080/"
        },
        "id": "QNKUlCw4yS0k",
        "outputId": "ed652a7c-f5c5-46ab-cac2-c1621e4579f9"
      },
      "execution_count": null,
      "outputs": [
        {
          "output_type": "execute_result",
          "data": {
            "text/plain": [
              "(<Quantity 0.03157709 W / cm3>, <Quantity 0.02649016 W / g>)"
            ]
          },
          "metadata": {},
          "execution_count": 34
        }
      ]
    }
  ]
}