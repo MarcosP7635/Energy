{
 "cells": [
  {
   "cell_type": "markdown",
   "metadata": {},
   "source": [
    "This first cell is just a diagnostic from an older example project on thermopiles. All that matters is that the packages import and the test passes. "
   ]
  },
  {
   "cell_type": "code",
   "execution_count": 1,
   "metadata": {},
   "outputs": [
    {
     "name": "stdout",
     "output_type": "stream",
     "text": [
      "\u001b[32m\u001b[1mTest Passed\u001b[22m\u001b[39m"
     ]
    }
   ],
   "source": [
    "using Unitful #https://painterqubits.github.io/Unitful.jl/stable/\n",
    "# quantity * @u_str(\"unit abbreviation\") \n",
    "using Symbolics #https://symbolics.juliasymbolics.org/dev/\n",
    "# cite https://doi.org/10.48550/arXiv.2105.03949\n",
    "using Latexify\n",
    "using Test\n",
    "# 1 * @u_str(\"mA\") is 1 milliamp\n",
    "function power_efficiency(power_in, resistance, seebeck, delta_t)\n",
    "        voltage = seebeck * delta_t\n",
    "        return uconvert(Unitful.NoUnits, (voltage ^ 2) / (resistance * power_in))\n",
    "end\n",
    "P, R, S, ΔT = @variables P, R, S, ΔT\n",
    "output = (S * ΔT)^2 / (R * P)\n",
    "print(\n",
    "Test.@test power_efficiency(P * @u_str(\"W\"), R * @u_str(\"Ω\"), \n",
    "                            S * @u_str(\"V\") / @u_str(\"K\"), ΔT * @u_str(\"K\")) - output == 0\n",
    ")"
   ]
  },
  {
   "cell_type": "markdown",
   "metadata": {},
   "source": [
    "All values use units composed of kilograms, meters, and seconds."
   ]
  },
  {
   "cell_type": "code",
   "execution_count": 2,
   "metadata": {},
   "outputs": [
    {
     "data": {
      "text/plain": [
       "5-element Vector{Quantity{Float64}}:\n",
       "            3.828e26 W\n",
       "             6.957e8 m\n",
       "      1.495978707e11 m\n",
       " 1.3271244e20 m^3 s^-2\n",
       "   2.99792458e8 m s^-1"
      ]
     },
     "metadata": {},
     "output_type": "display_data"
    }
   ],
   "source": [
    "using PhysicalConstants\n",
    "import PhysicalConstants.CODATA2018:c_0\n",
    "using UnitfulAstro:Lsun,Rsun,AU,GMsun\n",
    "L_sun, R_sun = uconvert(@u_str(\"W\"), 1*Lsun), uconvert(@u_str(\"m\"), 1*Rsun)\n",
    "x_0, GM_sun = uconvert(@u_str(\"m\"), 1*AU), uconvert(@u_str(\"m\")^3 / @u_str(\"s\")^2, 1*GMsun)\n",
    "[x*1 for x in [L_sun, R_sun, x_0, GM_sun, c_0]]"
   ]
  },
  {
   "cell_type": "code",
   "execution_count": 3,
   "metadata": {},
   "outputs": [
    {
     "data": {
      "text/latex": [
       "$$ \\begin{equation}\n",
       "c^{2} m \\left( -1 + \\frac{1}{\\sqrt{1 + \\frac{ - v^{2}}{c^{2}}}} \\right)\n",
       "\\end{equation}\n",
       " $$"
      ],
      "text/plain": [
       "m*(c^2)*(1 / sqrt(1 + (-(v^2)) / (c^2)) - 1)"
      ]
     },
     "metadata": {},
     "output_type": "display_data"
    }
   ],
   "source": [
    "v, c, m = @variables v, c, m\n",
    "γ = 1 / sqrt(1 - v^2 / c^2)\n",
    "KE = (γ - 1) * m * c^2\n",
    "KE"
   ]
  },
  {
   "cell_type": "markdown",
   "metadata": {},
   "source": [
    "\\begin{align}\n",
    "T = \\left(\\frac{1}{\\sqrt{1-(v^2/c^2)}}-1\\right)m_0c^2\\\\\n",
    "\\left(\\frac{T}{m_0c^2}+1 \\right)^{-2} = 1-(v^2/c^2)\\\\\n",
    "v = c\\sqrt{1-\\left(\\frac{T}{m_0c^2}+1 \\right)^{-2} }\\\\\n",
    "\\frac{dv_\\odot}{dt} = \\left[m_0c\\left(\\frac{T_\\odot}{m_0c^2}+1\\right)^3\\sqrt{1-\\left(\\frac{T_\\odot}{m_0c^2}+1\\right)^{-2}} \\right]^{-1}\\\\\n",
    "dv = dv_g + dv_\\odot \\quad\\therefore\\quad \\int dv = \\int \\frac{dv_\\odot}{dT_\\odot}\\frac{dT_\\odot}{dt}+\\frac{dv_g}{dt}dt\n",
    "\\end{align}"
   ]
  },
  {
   "cell_type": "code",
   "execution_count": 10,
   "metadata": {},
   "outputs": [
    {
     "name": "stdout",
     "output_type": "stream",
     "text": [
      "\u001b[32m\u001b[1mTest Passed\u001b[22m\u001b[39m"
     ]
    }
   ],
   "source": [
    "gamma(v, c) = 1 / sqrt(1 - v^2 / c^2)\n",
    "kinetic_energy(v, m, c) = (gamma(v, c) - 1) * m * c^2\n",
    "print(Test.@test kinetic_energy(v, m, c ) - KE == 0)"
   ]
  },
  {
   "cell_type": "markdown",
   "metadata": {},
   "source": [
    "The following output should be equal to 50 J."
   ]
  },
  {
   "cell_type": "code",
   "execution_count": 11,
   "metadata": {},
   "outputs": [
    {
     "data": {
      "text/plain": [
       "50.00000000000004172437710201073175070569566477939694833199009616528698564728937 kg m^2 s^-2"
      ]
     },
     "metadata": {},
     "output_type": "display_data"
    }
   ],
   "source": [
    "kinetic_energy(BigFloat(10)* @u_str(\"m\")/@u_str(\"s\"), 1*@u_str(\"kg\"), c_0)"
   ]
  },
  {
   "cell_type": "code",
   "execution_count": 14,
   "metadata": {},
   "outputs": [
    {
     "data": {
      "text/plain": [
       "grav_acc (generic function with 1 method)"
      ]
     },
     "metadata": {},
     "output_type": "display_data"
    }
   ],
   "source": [
    "solar_power(x, area) =  L_sun * area / (4*pi* x^2)\n",
    "grav_acc(x) = GM_sun / x^2"
   ]
  },
  {
   "cell_type": "code",
   "execution_count": 87,
   "metadata": {},
   "outputs": [
    {
     "data": {
      "text/plain": [
       "v_from_KE (generic function with 1 method)"
      ]
     },
     "metadata": {},
     "output_type": "display_data"
    }
   ],
   "source": [
    "v_from_KE(T, m, c) = c*(sqrt(1 - (T / (m * c^2) + 1)^-2))"
   ]
  },
  {
   "cell_type": "markdown",
   "metadata": {},
   "source": [
    "I am not accounting for the redshifting of Sun light that impacts the spacecraft."
   ]
  },
  {
   "cell_type": "code",
   "execution_count": 136,
   "metadata": {},
   "outputs": [
    {
     "name": "stdout",
     "output_type": "stream",
     "text": [
      "1.5497207641601562e-6 m s^-1\n",
      "2.9679453341928834e8 m"
     ]
    },
    {
     "name": "stdout",
     "output_type": "stream",
     "text": [
      " s^-1\n"
     ]
    },
    {
     "data": {
      "text/plain": [
       "(1.0000000296794533e11 m, 5.935890668392899e8 m s^-1)"
      ]
     },
     "metadata": {},
     "output_type": "display_data"
    }
   ],
   "source": [
    "function increment(x_old, v_old, time_step_size, area, mass)\n",
    "  x_new = x_old + v_old * time_step_size\n",
    "  KE_old = kinetic_energy(v_old, mass, c_0)\n",
    "  solar_push = solar_power(x_old, area) * time_step_size\n",
    "  Δv_light = v_from_KE(KE_old + solar_push, mass, c_0) - v_from_KE(KE_old, mass, c_0)\n",
    "  Δv_grav = v_old - grav_acc(x_old) * time_step_size\n",
    "  println(Δv_light)  \n",
    "  println(Δv_grav)\n",
    "  v_new = v_old + Δv_light + Δv_grav\n",
    "  return x_new, v_new\n",
    "end\n",
    "increment(10^11 * @u_str(\"m\"), c_0*.99, 10^-5 * @u_str(\"s\"), \n",
    "          10^3 * @u_str(\"m\")^2, 1 * @u_str(\"kg\"))"
   ]
  },
  {
   "cell_type": "code",
   "execution_count": 130,
   "metadata": {},
   "outputs": [
    {
     "name": "stdout",
     "output_type": "stream",
     "text": [
      "7.500000750000074e-11\n",
      "9.99999999999634e10 m\n",
      "-5.013734729500264e8 m s^-1\n"
     ]
    },
    {
     "data": {
      "text/plain": [
       "(Any[1.0e11 m, 1.0e11 m, 1.0e11 m, 1.0e11 m, 1.0e11 m, 1.0e11 m, 1.0e11 m, 1.0e11 m, 1.0e11 m, 1.0e11 m  …  9.999999999999994e10 m, 9.999999999999988e10 m, 9.999999999999974e10 m, 9.999999999999948e10 m, 9.999999999999895e10 m, 9.999999999999785e10 m, 9.999999999999562e10 m, 9.99999999999911e10 m, 9.999999999998195e10 m, 9.99999999999634e10 m], Any[0.0 m s^-1, -1.3271245327124532e-14 m s^-1, -5.308498130849813e-14 m s^-1, -1.4598369859836986e-13 m s^-1, -3.450523785052378e-13 m s^-1, -7.564609836460982e-13 m s^-1, -1.5925494392549436e-12 m s^-1, -3.2779975957997592e-12 m s^-1, -6.662165154216515e-12 m s^-1, -1.344377151637715e-11 m s^-1  …  -979245.0643555203 m s^-1, -1.9584901287110406e6 m s^-1, -3.916980257422081e6 m s^-1, -7.833960514844162e6 m s^-1, -1.5667921029688325e7 m s^-1, -3.133584205937665e7 m s^-1, -6.26716841187533e7 m s^-1, -1.253433682375066e8 m s^-1, -2.506867364750132e8 m s^-1, -5.013734729500264e8 m s^-1])"
      ]
     },
     "metadata": {},
     "output_type": "display_data"
    }
   ],
   "source": [
    "total_time_elapsed, time_step_size = 10^7, 10^-5\n",
    "time_steps = range(0, time_step_size, total_time_elapsed)\n",
    "positions, velocities, x_old, v_old = [], [], 10^11 * @u_str(\"m\"), 0 * @u_str(\"m\") / @u_str(\"s\")\n",
    "area, mass = 1 * @u_str(\"m\")^2, 1 * @u_str(\"kg\")\n",
    "for time_step in time_steps[1:100]\n",
    "    try \n",
    "        x_new, v_new = increment(x_old, v_old, time_step * @u_str(\"s\"), area, mass)\n",
    "        push!(positions, x_new)\n",
    "        push!(velocities, v_new)\n",
    "        x_old, v_old = x_new, v_new\n",
    "        #print(x_old, v_old)\n",
    "    catch\n",
    "        println(time_step)\n",
    "        println(x_old)\n",
    "        println(v_old)\n",
    "        break\n",
    "    end\n",
    "end\n",
    "positions, velocities"
   ]
  },
  {
   "cell_type": "code",
   "execution_count": 66,
   "metadata": {},
   "outputs": [
    {
     "data": {
      "text/plain": [
       "(5.628556778786839e8 m s^-1, 1.000151971033102e11 m)"
      ]
     },
     "metadata": {},
     "output_type": "display_data"
    }
   ],
   "source": [
    "v_old, x_old"
   ]
  },
  {
   "cell_type": "code",
   "execution_count": 124,
   "metadata": {},
   "outputs": [
    {
     "ename": "UndefVarError",
     "evalue": "UndefVarError: time_step not defined",
     "output_type": "error",
     "traceback": [
      "UndefVarError: time_step not defined\n",
      "\n",
      "Stacktrace:\n",
      " [1] increment(x_old::Quantity{Int64, 𝐋, Unitful.FreeUnits{(m,), 𝐋, nothing}}, v_old::Quantity{Int64, 𝐋 𝐓^-1, Unitful.FreeUnits{(m, s^-1), 𝐋 𝐓^-1, nothing}}, time_step_size::Quantity{BigFloat, 𝐓, Unitful.FreeUnits{(s,), 𝐓, nothing}}, area::Quantity{Int64, 𝐋^2, Unitful.FreeUnits{(m^2,), 𝐋^2, nothing}}, mass::Quantity{Int64, 𝐌, Unitful.FreeUnits{(kg,), 𝐌, nothing}})\n",
      "   @ Main c:\\Users\\marco\\Documents\\GitHub\\Energy\\JupyterNotebooks\\solar_sail_oom_sim.ipynb:2\n",
      " [2] top-level scope\n",
      "   @ c:\\Users\\marco\\Documents\\GitHub\\Energy\\JupyterNotebooks\\solar_sail_oom_sim.ipynb:2"
     ]
    }
   ],
   "source": [
    "for time_step in range(0, number_of_time_steps, number_of_time_steps)[1:100]\n",
    "    x_new, v_new = increment(x_old, v_old, time_step_size * @u_str(\"s\"), area, mass)\n",
    "    println(time_step)\n",
    "end"
   ]
  },
  {
   "cell_type": "code",
   "execution_count": 127,
   "metadata": {},
   "outputs": [
    {
     "ename": "DomainError",
     "evalue": "DomainError with -0.2622453402304586302310399404208266668993783055576474220885996353898072183925797:\nNaN result for non-NaN input.",
     "output_type": "error",
     "traceback": [
      "DomainError with -0.2622453402304586302310399404208266668993783055576474220885996353898072183925797:\n",
      "NaN result for non-NaN input.\n",
      "\n",
      "Stacktrace:\n",
      " [1] sqrt(x::BigFloat)\n",
      "   @ Base.MPFR .\\mpfr.jl:592\n",
      " [2] gamma(v::Quantity{BigFloat, 𝐋 𝐓^-1, Unitful.FreeUnits{(m, s^-1), 𝐋 𝐓^-1, nothing}}, c::PhysicalConstants.PhysicalConstant{Symbol(\"##SpeedOfLightInVacuum#339\"), Float64, 𝐋 𝐓^-1, Unitful.FreeUnits{(m, s^-1), 𝐋 𝐓^-1, nothing}})\n",
      "   @ Main c:\\Users\\marco\\Documents\\GitHub\\Energy\\JupyterNotebooks\\solar_sail_oom_sim.ipynb:1\n",
      " [3] kinetic_energy(v::Quantity{BigFloat, 𝐋 𝐓^-1, Unitful.FreeUnits{(m, s^-1), 𝐋 𝐓^-1, nothing}}, m::Quantity{Int64, 𝐌, Unitful.FreeUnits{(kg,), 𝐌, nothing}}, c::PhysicalConstants.PhysicalConstant{Symbol(\"##SpeedOfLightInVacuum#339\"), Float64, 𝐋 𝐓^-1, Unitful.FreeUnits{(m, s^-1), 𝐋 𝐓^-1, nothing}})\n",
      "   @ Main c:\\Users\\marco\\Documents\\GitHub\\Energy\\JupyterNotebooks\\solar_sail_oom_sim.ipynb:2\n",
      " [4] increment(x_old::Quantity{BigFloat, 𝐋, Unitful.FreeUnits{(m,), 𝐋, nothing}}, v_old::Quantity{BigFloat, 𝐋 𝐓^-1, Unitful.FreeUnits{(m, s^-1), 𝐋 𝐓^-1, nothing}}, time_step_size::Quantity{BigFloat, 𝐓, Unitful.FreeUnits{(s,), 𝐓, nothing}}, area::Quantity{Int64, 𝐋^2, Unitful.FreeUnits{(m^2,), 𝐋^2, nothing}}, mass::Quantity{Int64, 𝐌, Unitful.FreeUnits{(kg,), 𝐌, nothing}})\n",
      "   @ Main c:\\Users\\marco\\Documents\\GitHub\\Energy\\JupyterNotebooks\\solar_sail_oom_sim.ipynb:3\n",
      " [5] top-level scope\n",
      "   @ c:\\Users\\marco\\Documents\\GitHub\\Energy\\JupyterNotebooks\\solar_sail_oom_sim.ipynb:6"
     ]
    }
   ],
   "source": [
    "total_time_elapsed, time_step_size = BigFloat(10)^7, BigFloat(10)^-5\n",
    "number_of_time_steps = Integer(floor(total_time_elapsed / time_step_size))\n",
    "positions, velocities, x_old, v_old = [], [], 10^11 * @u_str(\"m\"), 1 * @u_str(\"m\") / @u_str(\"s\")\n",
    "area, mass = 1 * @u_str(\"m\")^2, 1 * @u_str(\"kg\")\n",
    "for step in range(0, number_of_time_steps, number_of_time_steps)[1:100]\n",
    "    x_new, v_new = increment(x_old, v_old, time_step_size * @u_str(\"s\"), area, mass)\n",
    "    push!(positions, x_new)\n",
    "    push!(velocities, v_new)\n",
    "    x_old, v_old = x_new, v_new\n",
    "end\n",
    "positions, velocities"
   ]
  },
  {
   "cell_type": "code",
   "execution_count": null,
   "metadata": {},
   "outputs": [],
   "source": []
  }
 ],
 "metadata": {
  "kernelspec": {
   "display_name": "Julia 1.8.5",
   "language": "julia",
   "name": "julia-1.8"
  },
  "language_info": {
   "file_extension": ".jl",
   "mimetype": "application/julia",
   "name": "julia",
   "version": "1.8.5"
  },
  "orig_nbformat": 4
 },
 "nbformat": 4,
 "nbformat_minor": 2
}
