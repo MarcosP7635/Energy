{
 "cells": [
  {
   "cell_type": "code",
   "execution_count": 5,
   "metadata": {},
   "outputs": [
    {
     "name": "stdout",
     "output_type": "stream",
     "text": [
      "\u001b[32m\u001b[1mTest Passed\u001b[22m\u001b[39m"
     ]
    }
   ],
   "source": [
    "using Unitful #https://painterqubits.github.io/Unitful.jl/stable/\n",
    "# quantity * @u_str(\"unit abbreviation\") \n",
    "using Symbolics #https://symbolics.juliasymbolics.org/dev/\n",
    "# cite https://doi.org/10.48550/arXiv.2105.03949\n",
    "using Latexify\n",
    "using Test\n",
    "# 1 * @u_str(\"mA\") is 1 milliamp\n",
    "function power_efficiency(power_in, resistance, seebeck, delta_t)\n",
    "        voltage = seebeck * delta_t\n",
    "        return uconvert(Unitful.NoUnits, (voltage ^ 2) / (resistance * power_in))\n",
    "end\n",
    "P, R, S, ΔT = @variables P, R, S, ΔT\n",
    "output = (S * ΔT)^2 / (R * P)\n",
    "print(\n",
    "Test.@test power_efficiency(P * @u_str(\"W\"), R * @u_str(\"Ω\"), \n",
    "                            S * @u_str(\"V\") / @u_str(\"K\"), ΔT * @u_str(\"K\")) - output == 0\n",
    ")"
   ]
  },
  {
   "cell_type": "markdown",
   "metadata": {},
   "source": [
    "All values use units composed of kilograms, meters, and seconds."
   ]
  },
  {
   "cell_type": "code",
   "execution_count": 59,
   "metadata": {},
   "outputs": [
    {
     "data": {
      "text/plain": [
       "5-element Vector{Quantity{Float64}}:\n",
       "            3.828e26 W\n",
       "             6.957e8 m\n",
       "      1.495978707e11 m\n",
       " 1.3271244e20 m^3 s^-2\n",
       "   2.99792458e8 m s^-1"
      ]
     },
     "execution_count": 59,
     "metadata": {},
     "output_type": "execute_result"
    }
   ],
   "source": [
    "using PhysicalConstants\n",
    "import PhysicalConstants.CODATA2018:c_0\n",
    "using UnitfulAstro:Lsun,Rsun,AU,GMsun\n",
    "L_sun, R_sun = uconvert(@u_str(\"W\"), 1*Lsun), uconvert(@u_str(\"m\"), 1*Rsun)\n",
    "x_0, GM_sun = uconvert(@u_str(\"m\"), 1*AU), uconvert(@u_str(\"m\")^3 / @u_str(\"s\")^2, 1*GMsun)\n",
    "[x*1 for x in [L_sun, R_sun, x_0, GM_sun, c_0]]"
   ]
  },
  {
   "cell_type": "code",
   "execution_count": null,
   "metadata": {},
   "outputs": [],
   "source": [
    "grav_acc = GM_sun / x^2\n",
    "P_sun = L_sun * area / (4*np.pi* x**2)"
   ]
  },
  {
   "cell_type": "code",
   "execution_count": 61,
   "metadata": {},
   "outputs": [
    {
     "data": {
      "text/latex": [
       "$$ \\begin{equation}\n",
       "c^{2} m \\left( -1 + \\frac{1}{\\sqrt{1 + \\frac{ - v^{2}}{c^{2}}}} \\right)\n",
       "\\end{equation}\n",
       " $$"
      ],
      "text/plain": [
       "m*(c^2)*(1 / sqrt(1 + (-(v^2)) / (c^2)) - 1)"
      ]
     },
     "execution_count": 61,
     "metadata": {},
     "output_type": "execute_result"
    }
   ],
   "source": [
    "v, c, m = @variables v, c, m\n",
    "γ = 1 / sqrt(1 - v^2 / c^2)\n",
    "KE = (γ - 1) * m * c^2\n",
    "KE"
   ]
  },
  {
   "cell_type": "code",
   "execution_count": 73,
   "metadata": {},
   "outputs": [
    {
     "name": "stdout",
     "output_type": "stream",
     "text": [
      "\u001b[32m\u001b[1mTest Passed\u001b[22m\u001b[39m"
     ]
    }
   ],
   "source": [
    "gamma(v, c) = 1 / sqrt(1 - v^2 / c^2)\n",
    "kinetic_energy(v, m, c) = (gamma(v, c) - 1) * m * c^2\n",
    "print(Test.@test kinetic_energy(v, m, c ) - KE == 0)"
   ]
  },
  {
   "cell_type": "code",
   "execution_count": 79,
   "metadata": {},
   "outputs": [
    {
     "data": {
      "text/plain": [
       "50.00000000000004172437710201073175070569566477939694833199009616528698564728937 kg m^2 s^-2"
      ]
     },
     "execution_count": 79,
     "metadata": {},
     "output_type": "execute_result"
    }
   ],
   "source": [
    "kinetic_energy(BigFloat(10)* @u_str(\"m\")/@u_str(\"s\"), 1*@u_str(\"kg\"), c_0)"
   ]
  },
  {
   "cell_type": "code",
   "execution_count": null,
   "metadata": {},
   "outputs": [],
   "source": [
    "solar_power(x, area) =  L_sun * area / (4*np.pi* x**2)\n",
    "grav_acc(x) = GM_sun / x**2"
   ]
  },
  {
   "cell_type": "markdown",
   "metadata": {},
   "source": [
    "\\begin{align}\n",
    "T = \\left(\\frac{1}{\\sqrt{1-(v^2/c^2)}}-1\\right)m_0c^2\\\\\n",
    "v = c\\sqrt{1-\\left({\\frac{T}{m_0c^2}+1}\\right)^2}\\\\\n",
    "\\Delta v = c\\left(\\sqrt{1-\\left({\\frac{T_1}{m_0c^2}+1}\\right)^2}-\n",
    "\\sqrt{1-\\left({\\frac{T_0}{m_0c^2}+1}\\right)^2}\\right)\n",
    "\\end{align}"
   ]
  },
  {
   "cell_type": "code",
   "execution_count": 80,
   "metadata": {},
   "outputs": [
    {
     "data": {
      "text/plain": [
       "v_from_KE (generic function with 1 method)"
      ]
     },
     "execution_count": 80,
     "metadata": {},
     "output_type": "execute_result"
    }
   ],
   "source": [
    "v_from_KE(T, m, c) = c*(sqrt(1 - (T / (m * c^2) + 1)))"
   ]
  },
  {
   "cell_type": "code",
   "execution_count": 82,
   "metadata": {},
   "outputs": [
    {
     "data": {
      "text/plain": [
       "increment (generic function with 1 method)"
      ]
     },
     "execution_count": 82,
     "metadata": {},
     "output_type": "execute_result"
    }
   ],
   "source": [
    "function increment(x_old, v_old, time_step, area, mass)\n",
    "  x_new = x_old + v_old*time_step\n",
    "  KE_old = kinetic_energy(v_old, mass, c_0)\n",
    "  solar_push = solar_power(x_old, area)\n",
    "  Δv_light = v_from_KE(KE_new, mass, c_0) - v_from_KE(KE_old, mass, c_0)\n",
    "  Δv_grav = v_old + grav_acc(x_old)*time_step\n",
    "  v_new = v_old + Δv_light + Δv_grav\n",
    "  return [x_new, v_new]\n",
    "end"
   ]
  },
  {
   "cell_type": "code",
   "execution_count": null,
   "metadata": {},
   "outputs": [],
   "source": []
  }
 ],
 "metadata": {
  "kernelspec": {
   "display_name": "Julia 1.8.5",
   "language": "julia",
   "name": "julia-1.8"
  },
  "language_info": {
   "file_extension": ".jl",
   "mimetype": "application/julia",
   "name": "julia",
   "version": "1.8.5"
  },
  "orig_nbformat": 4
 },
 "nbformat": 4,
 "nbformat_minor": 2
}
