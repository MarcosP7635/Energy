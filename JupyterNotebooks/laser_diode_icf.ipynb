{
  "cells": [
    {
      "attachments": {},
      "cell_type": "markdown",
      "metadata": {
        "colab_type": "text",
        "id": "view-in-github"
      },
      "source": [
        "<a href=\"https://colab.research.google.com/github/MarcosP7635/Energy/blob/main/JupyterNotebooks/laser_diode_icf.ipynb\" target=\"_parent\"><img src=\"https://colab.research.google.com/assets/colab-badge.svg\" alt=\"Open In Colab\"/></a>"
      ]
    },
    {
      "cell_type": "code",
      "execution_count": 1,
      "metadata": {},
      "outputs": [
        {
          "data": {
            "text/plain": [
              "('c:\\\\Users\\\\engin\\\\Documents\\\\GitHub\\\\Energy\\\\',\n",
              " 'c:\\\\Users\\\\engin\\\\Documents\\\\GitHub\\\\Energy\\\\\\\\ImportedData\\\\',\n",
              " 'c:\\\\Users\\\\engin\\\\Documents\\\\GitHub\\\\Energy\\\\\\\\ExportedData\\\\')"
            ]
          },
          "execution_count": 1,
          "metadata": {},
          "output_type": "execute_result"
        }
      ],
      "source": [
        "import subprocess\n",
        "running_on_colab = not \"JupyterNotebooks\" in subprocess.os.getcwd()\n",
        "if running_on_colab:\n",
        "    running_on_colab = True\n",
        "    parent_dir = \"/content/\"\n",
        "    export_data_dir = \"/content/\"\n",
        "    import_data_dir = \"/content/\"\n",
        "else:\n",
        "    parent_dir = subprocess.os.getcwd().split(\"JupyterNotebooks\")[0]\n",
        "    sep_char = parent_dir.split(\"Energy\")[-1]\n",
        "    import_data_dir =  parent_dir + sep_char + \"ImportedData\" + sep_char \n",
        "    export_data_dir =  parent_dir + sep_char + \"ExportedData\" + sep_char\n",
        "parent_dir, import_data_dir, export_data_dir"
      ]
    },
    {
      "cell_type": "code",
      "execution_count": null,
      "metadata": {
        "colab": {
          "base_uri": "https://localhost:8080/"
        },
        "id": "sGgt8Yv6eygy",
        "outputId": "407f05e6-b4af-4dab-9f3a-12ac1970e16a"
      },
      "outputs": [
        {
          "name": "stdout",
          "output_type": "stream",
          "text": [
            "Looking in indexes: https://pypi.org/simple, https://us-python.pkg.dev/colab-wheels/public/simple/\n",
            "Requirement already satisfied: SymPy in /usr/local/lib/python3.8/dist-packages (1.7.1)\n",
            "Requirement already satisfied: mpmath>=0.19 in /usr/local/lib/python3.8/dist-packages (from SymPy) (1.2.1)\n"
          ]
        }
      ],
      "source": [
        "from astropy import units as units\n",
        "#https://docs.astropy.org/en/stable/units/index.html\n",
        "from astropy import constants as const\n",
        "##https://docs.astropy.org/en/stable/constants/index.html\n",
        "!pip install SymPy\n",
        "import sympy\n",
        "#https://docs.sympy.org/latest/\n",
        "from sympy import Sum, symbols, Indexed, lambdify, integrate\n",
        "from sympy.abc import *\n",
        "import numpy as np"
      ]
    },
    {
      "cell_type": "markdown",
      "metadata": {
        "id": "bRFANsSaegB8"
      },
      "source": [
        "Consider a high power laser firing at a pellet of frozen pure deuterium. What conditions are necessary to produce net energy?\n",
        "The energy produced by the fusion of deuterium, $E_{prod}$ is\n",
        "\n"
      ]
    },
    {
      "cell_type": "code",
      "execution_count": null,
      "metadata": {
        "colab": {
          "base_uri": "https://localhost:8080/",
          "height": 69
        },
        "id": "6RzwVQAIiwaU",
        "outputId": "290518c3-2d26-48cf-fb0b-27dd58d7ccc6"
      },
      "outputs": [
        {
          "data": {
            "text/latex": [
              "$\\displaystyle \\sum_{r=1}^{R} {E}_{r} {N}_{r} {\\nu}_{r}$"
            ],
            "text/plain": [
              "Sum(E[r]*N[r]*nu[r], (r, 1, R))"
            ]
          },
          "execution_count": 2,
          "metadata": {},
          "output_type": "execute_result"
        }
      ],
      "source": [
        "E_produced = Sum(Indexed('E',r) * Indexed('N',r) * Indexed('nu', r), (r,1,R))\n",
        "E_produced"
      ]
    },
    {
      "cell_type": "markdown",
      "metadata": {
        "id": "IYK4Ozk7gAqN"
      },
      "source": [
        "Consider a specific nuclear reaction that occurs after the laser is fired at the pellet, and let us denote this reaction with a positive integer $r$. The energy released by this reaction is denoted $E_r$ and the number of such reactions that will take place is $N_r$, and the energy is converted to electricity with an efficiency $\\nu_r$. "
      ]
    },
    {
      "cell_type": "markdown",
      "metadata": {
        "id": "IVhVe5xigm5W"
      },
      "source": [
        "Furthermore, let us denote the energy consumed by the reaction $E_{consumed}$. It is much simpler and is given by"
      ]
    },
    {
      "cell_type": "code",
      "execution_count": null,
      "metadata": {
        "colab": {
          "base_uri": "https://localhost:8080/",
          "height": 54
        },
        "id": "ZfyEzHFigl0q",
        "outputId": "35b5db36-2db4-450f-e95a-bbe86e6e8a6d"
      },
      "outputs": [
        {
          "data": {
            "text/latex": [
              "$\\displaystyle \\frac{E_{pulse}}{{\\nu}_{laser}}$"
            ],
            "text/plain": [
              "E_{pulse}/nu[laser]"
            ]
          },
          "execution_count": 3,
          "metadata": {},
          "output_type": "execute_result"
        }
      ],
      "source": [
        "nu_laser, E_pulse = Indexed(\"nu\", \"laser\"), symbols(\"E_{pulse}\")\n",
        "E_consumed = E_pulse / nu_laser\n",
        "E_consumed"
      ]
    },
    {
      "cell_type": "markdown",
      "metadata": {
        "id": "YhGUuY6xhSno"
      },
      "source": [
        "Where $E_{pulse}$ is the energy contained in each laser pulse and $\\nu_{laser}$ is the energy efficiency of the laser (from wall-plug to pellet)."
      ]
    },
    {
      "cell_type": "markdown",
      "metadata": {
        "id": "rOkl-5P4kWf6"
      },
      "source": [
        "Thus the net energy produced by this apparatus, $E_{net}$"
      ]
    },
    {
      "cell_type": "code",
      "execution_count": null,
      "metadata": {
        "colab": {
          "base_uri": "https://localhost:8080/",
          "height": 69
        },
        "id": "QM6XqXOQfdgd",
        "outputId": "a381df8a-8caf-4add-9bb2-2c933389586f"
      },
      "outputs": [
        {
          "data": {
            "text/latex": [
              "$\\displaystyle - \\frac{E_{pulse}}{{\\nu}_{laser}} + \\sum_{r=1}^{R} {E}_{r} {N}_{r} {\\nu}_{r}$"
            ],
            "text/plain": [
              "-E_{pulse}/nu[laser] + Sum(E[r]*N[r]*nu[r], (r, 1, R))"
            ]
          },
          "execution_count": 4,
          "metadata": {},
          "output_type": "execute_result"
        }
      ],
      "source": [
        "E_net = E_produced - E_consumed\n",
        "E_net"
      ]
    },
    {
      "cell_type": "markdown",
      "metadata": {
        "id": "pH2gWkvBkr2d"
      },
      "source": [
        "If we use the heat from this reaction to boil water and spin a turbine, then $\\nu_r\\approx0.8$. According to [Kansas State University Physics Education Research](https://perg.phys.ksu.edu/vqm/laserweb/ch-7/F7s0p11.htm), $\\nu_{laser}\\approx 0.2$.\n",
        "\n",
        "It is clear that $N_r$ depends on $E_{pulse}$ so we will approximate the number of fusion reactions as a function of the laser pulse energy."
      ]
    },
    {
      "cell_type": "markdown",
      "metadata": {
        "id": "9MEPfbPAI3aY"
      },
      "source": [
        "The temperature $T$ of the deuterium is not constant. It will heat up from any fusion reactions that occur and it will lose energy to the environment. What is the temperature of the pellet as a function of time? "
      ]
    },
    {
      "cell_type": "markdown",
      "metadata": {
        "id": "phWbUWn0jQEX"
      },
      "source": [
        "We now turn to the textbook The Diffuse Universe [DOI: 10.1007/978-3-662-05866-4_7](https://doi.org/10.1007/978-3-662-05866-4_7) by Dopita and Sutherland. We will assume that the deuterium is at high temperature and high density, even by the standards of astrophysical plasma. This would cause the plasma to have high optical thickness and thus be well characterized by local thermal equilibrium (LTE), and thus is primarily governed by temperature. Thus the absorption rate is similar to emission rate. Therefore, it is reasonable to model the plasma as a blackbody.  "
      ]
    },
    {
      "cell_type": "code",
      "execution_count": null,
      "metadata": {
        "colab": {
          "base_uri": "https://localhost:8080/",
          "height": 37
        },
        "id": "hT9JShoFlHqQ",
        "outputId": "4ce30642-a78f-4a49-eeb9-f675ae538b66"
      },
      "outputs": [
        {
          "data": {
            "text/latex": [
              "$\\displaystyle 4 R^{2} T^{4} k \\pi$"
            ],
            "text/plain": [
              "4*R**2*T**4*k*pi"
            ]
          },
          "execution_count": 5,
          "metadata": {},
          "output_type": "execute_result"
        }
      ],
      "source": [
        "T, k, m, E, N, R = symbols(\"T k m E N R\", \n",
        "             positive=True)\n",
        "L = 4 * pi * k * R**2 * T**4 \n",
        "L"
      ]
    },
    {
      "cell_type": "markdown",
      "metadata": {
        "id": "gEIoU1F-mIwr"
      },
      "source": [
        "which describes the instantaneous power of the light emitted to the environment where $R$ is the radius of the deuterium plasma. So $L$ decreases the total kinetic energy in the plasma whereas the energy from fusion increases it. Thus we have for the energy of the plasma, $E_{plasma}$\n",
        "\\begin{equation}\n",
        "\\begin{split}\n",
        "\\frac{dE_{plasma}}{dt} = -L+\\sum E_r\\frac{dN_r}{dt}\\\\\n",
        "\\end{split}\n",
        "\\end{equation}\n",
        "where $\\frac{dN_r}{dt}$ is the fusion rate. \n",
        "\n"
      ]
    },
    {
      "cell_type": "markdown",
      "metadata": {
        "id": "po9rlRMAK_a2"
      },
      "source": [
        "We also have the question of the radius of the deuterium plasma. By dimensional analysis, we approximate the proportionality for how much the deuterium is compressed, $\\Delta R$\n",
        "\\begin{equation}\n",
        "\\Delta R \\propto t_0\\sqrt\\frac{E}{m_0}\n",
        "\\end{equation}\n",
        "where $t$ has units of time, $E$ has units of energy, and $m_0$ has units of mass. We take $m_0$ to be the mass of the pellet, $E$ to be the energy of the laser pulse, and $t_0$  is the time it takes for the pellet to compress the deuterium. The proportionality constant must be measured experimentally."
      ]
    },
    {
      "cell_type": "code",
      "execution_count": null,
      "metadata": {
        "colab": {
          "base_uri": "https://localhost:8080/",
          "height": 61
        },
        "id": "Uiv4jg-vpGAf",
        "outputId": "afdeb9e5-b610-4cba-87af-adfdb80d47e8"
      },
      "outputs": [
        {
          "data": {
            "text/latex": [
              "$\\displaystyle - \\frac{C \\sqrt{E} t_{0}}{\\sqrt{m_{0}}} + R_{0}$"
            ],
            "text/plain": [
              "-C*sqrt(E)*t_0/sqrt(m_0) + R_0"
            ]
          },
          "execution_count": 6,
          "metadata": {},
          "output_type": "execute_result"
        }
      ],
      "source": [
        "R_0, m_0, t_0, dR = symbols(\n",
        " \"R_0 m_0 t_0 ΔR\", positive = True)\n",
        "R = R_0 - C*t_0*sympy.sqrt(E/m_0)\n",
        "R"
      ]
    },
    {
      "cell_type": "markdown",
      "metadata": {
        "id": "FMRTVGb1sEh2"
      },
      "source": [
        "where $C$ is the proportionality constant that must be measured experimentally"
      ]
    },
    {
      "cell_type": "markdown",
      "metadata": {
        "id": "xC3Nh3uR0MS6"
      },
      "source": [
        "#How is the initial temperature of the deuterium related to the energy of the laser?"
      ]
    },
    {
      "cell_type": "markdown",
      "metadata": {
        "id": "MgW_AMLxI7k0"
      },
      "source": [
        "Let us assume that the deuterium will follow a Maxwellian distribution for probability as a function of velocity. "
      ]
    },
    {
      "cell_type": "code",
      "execution_count": null,
      "metadata": {
        "colab": {
          "base_uri": "https://localhost:8080/",
          "height": 84
        },
        "id": "ToylMpo3kjw8",
        "outputId": "7d0e86de-1781-4282-f643-1b453ccf84bc"
      },
      "outputs": [
        {
          "data": {
            "text/latex": [
              "$\\displaystyle \\frac{3.77542260833102 \\cdot 10^{-6} \\sqrt{2} v^{2} e^{- \\frac{0.000121231008812884 v^{2}}{T}}}{\\sqrt{\\pi} T^{1.5}}$"
            ],
            "text/plain": [
              "3.77542260833102e-6*sqrt(2)*T**(-1.5)*v**2*exp(-0.000121231008812884*v**2/T)/sqrt(pi)"
            ]
          },
          "execution_count": 7,
          "metadata": {},
          "output_type": "execute_result"
        }
      ],
      "source": [
        "from sympy import pi, sqrt, exp\n",
        "m = (const.m_n + const.m_p).value\n",
        "k = const.k_B.value\n",
        "P = (m / (k * T))**(3/2) * exp(-1 * m * v**2 / (2 * k * T)) * v**2\n",
        "P *= sqrt(2 / pi) \n",
        "P"
      ]
    },
    {
      "cell_type": "markdown",
      "metadata": {
        "id": "SUjrUNy_udd9"
      },
      "source": [
        "where $m$ is the mass of a single deuterium nucleus, $T$ is the temperature of the plasma nuclei, $k$ is the Boltzmann constant, and $v$ is the velocity of a given deuterium nucleus. "
      ]
    },
    {
      "cell_type": "markdown",
      "metadata": {
        "id": "xGZA8-ddNbTA"
      },
      "source": [
        "We can integrate all of the kinetic energies of the distribution to find the total energy of the plasma at a given temperature"
      ]
    },
    {
      "cell_type": "code",
      "execution_count": null,
      "metadata": {
        "colab": {
          "base_uri": "https://localhost:8080/",
          "height": 40
        },
        "id": "Sz5FB1xXNlg-",
        "outputId": "7bbb06d9-9faf-4032-ca50-527f09e6594c"
      },
      "outputs": [
        {
          "data": {
            "text/latex": [
              "$\\displaystyle 1.46439940550764 \\cdot 10^{-23} \\sqrt{2} N T$"
            ],
            "text/plain": [
              "1.46439940550764e-23*sqrt(2)*N*T"
            ]
          },
          "execution_count": 8,
          "metadata": {},
          "output_type": "execute_result"
        }
      ],
      "source": [
        "E_plasma = .5*m*integrate(P * v**2,\n",
        "             (v, 0, sympy.oo))*N\n",
        "E_plasma"
      ]
    },
    {
      "cell_type": "markdown",
      "metadata": {
        "id": "iuiFVW7bOlwB"
      },
      "source": [
        "Where there are $N$ deuterium nuclei"
      ]
    },
    {
      "cell_type": "markdown",
      "metadata": {
        "id": "zOzY1RLVO9Fs"
      },
      "source": [
        "We now have an expression for the initial temperature of the deuterium"
      ]
    },
    {
      "cell_type": "code",
      "execution_count": null,
      "metadata": {
        "colab": {
          "base_uri": "https://localhost:8080/",
          "height": 56
        },
        "id": "pDJJfpzkPjFr",
        "outputId": "fc7c3a57-0a09-40e3-8939-f24f011ff52e"
      },
      "outputs": [
        {
          "data": {
            "text/latex": [
              "$\\displaystyle \\frac{4.82864701069328 \\cdot 10^{22} E_{pulse}}{N {\\nu}_{laser}}$"
            ],
            "text/plain": [
              "4.82864701069328e+22*E_{pulse}/(N*nu[laser])"
            ]
          },
          "execution_count": 9,
          "metadata": {},
          "output_type": "execute_result"
        }
      ],
      "source": [
        "T_0 = sympy.solve(E_consumed-E_plasma, T)[0]\n",
        "T_0"
      ]
    },
    {
      "cell_type": "markdown",
      "metadata": {
        "id": "1vmBtP2UxIzr"
      },
      "source": [
        "Thus in general we have for the temperature of the deuterium plasma as a function of total kinetic energy, $E$"
      ]
    },
    {
      "cell_type": "code",
      "execution_count": null,
      "metadata": {
        "colab": {
          "base_uri": "https://localhost:8080/",
          "height": 54
        },
        "id": "AGp1Xlhpxi7z",
        "outputId": "29ed7ffd-1daa-4aef-ca1e-1cedaeab7579"
      },
      "outputs": [
        {
          "data": {
            "text/latex": [
              "$\\displaystyle \\frac{4.82864701069328 \\cdot 10^{22} E}{N}$"
            ],
            "text/plain": [
              "4.82864701069328e+22*E/N"
            ]
          },
          "execution_count": 10,
          "metadata": {},
          "output_type": "execute_result"
        }
      ],
      "source": [
        "T = T_0 / E_consumed * E\n",
        "T"
      ]
    },
    {
      "cell_type": "code",
      "execution_count": null,
      "metadata": {
        "colab": {
          "base_uri": "https://localhost:8080/",
          "height": 89
        },
        "id": "2K1z4d9XyM1V",
        "outputId": "ad2daf2c-9857-43c8-e87d-06bde750866d"
      },
      "outputs": [
        {
          "data": {
            "text/latex": [
              "$\\displaystyle \\frac{3.00223792709108 \\cdot 10^{68} \\pi E^{4} \\left(- \\frac{C \\sqrt{E} t_{0}}{\\sqrt{m_{0}}} + R_{0}\\right)^{2}}{N^{4}}$"
            ],
            "text/plain": [
              "3.00223792709108e+68*pi*E**4*(-C*sqrt(E)*t_0/sqrt(m_0) + R_0)**2/N**4"
            ]
          },
          "execution_count": 11,
          "metadata": {},
          "output_type": "execute_result"
        }
      ],
      "source": [
        "L =  4 * pi * k * R**2 * T**4\n",
        "L"
      ]
    },
    {
      "cell_type": "markdown",
      "metadata": {
        "id": "8YKGqnjguEDq"
      },
      "source": [
        "Now we use a model for the fusion cross section. This will be somewhat involved, so first we download the data from experiments from the  $\\text H^2(\\text H^2, \\text n)\\text{He}^3$ and then will programmatically do so for all of the possible high energy reactions."
      ]
    },
    {
      "cell_type": "code",
      "execution_count": null,
      "metadata": {
        "colab": {
          "base_uri": "https://localhost:8080/"
        },
        "id": "rCu-AJzANRXf",
        "outputId": "382237ab-226b-4952-84c0-a6dc2d1be422"
      },
      "outputs": [
        {
          "name": "stdout",
          "output_type": "stream",
          "text": [
            "Downloading 1EqAhmeIMu1am2pZnUGC3ZSUpl8FbYOLH into /content/x4_output.txt... Done.\n"
          ]
        }
      ],
      "source": [
        "if running_on_colab:\n",
        "  from google_drive_downloader import GoogleDriveDownloader as gdd\n",
        "  def download(url):\n",
        "    file_id = url[url.index(\"/d/\") + 3: -1*len(\"/view?usp=sharing\")]\n",
        "    gdd.download_file_from_google_drive(\n",
        "    file_id, \"/content/x4_output.txt\", False)\n",
        "  download(\"https://drive.google.com/file/d/1EqAhmeIMu1am2pZnUGC3ZSUpl8FbYOLH/view?usp=sharing\")\n",
        "  file_path = \"/content/x4_output.txt\"\n",
        "else:\n",
        "  file_path = import_data_dir + \"x4_ddn.txt\""
      ]
    },
    {
      "cell_type": "markdown",
      "metadata": {
        "id": "GmGNJG9xEF-v"
      },
      "source": [
        "where $N$ is the total number of deuterium atoms at a time $t$, the total number of possible pairs of deuterium atoms that can fuse is\n",
        "\\begin{equation}\n",
        "\\begin{split}\n",
        "N_{fusible\\ pairs} = {N\\choose2} = \\frac{N!}{(N-2)!2} = \\frac{N(N-1)}{2}\\\\\n",
        "\\text{For large $N$}\\quad\\quad N_{fusible\\ pairs}\\approx\\frac{N^2}{2} \n",
        "\\end{split}\n",
        "\\end{equation}"
      ]
    },
    {
      "cell_type": "code",
      "execution_count": null,
      "metadata": {
        "colab": {
          "base_uri": "https://localhost:8080/",
          "height": 60
        },
        "id": "hBTozzMZDN8P",
        "outputId": "86b3aa49-16ad-4ca1-d0ef-7f3719ba91b6"
      },
      "outputs": [
        {
          "data": {
            "text/latex": [
              "$\\displaystyle \\frac{14112074865049.6 \\sqrt{2} E^{0.5} N^{1.5} \\sigma}{\\sqrt{\\pi}}$"
            ],
            "text/plain": [
              "14112074865049.6*sqrt(2)*E**0.5*N**1.5*sigma/sqrt(pi)"
            ]
          },
          "execution_count": 22,
          "metadata": {},
          "output_type": "execute_result"
        }
      ],
      "source": [
        "N_fus_pairs  = N**2 / 2\n",
        "P = ((m / (k * T))**(3/2) * \n",
        "     exp(-1 * m * v**2 / (2 * k * T)) \n",
        "      * v**2)\n",
        "P *= sqrt(2 / pi)\n",
        "avg_fusion_prob = sympy.integrate(\n",
        "      sigma * v * P, (v, 0, sympy.oo))\n",
        "fus_rate = N_fus_pairs * avg_fusion_prob\n",
        "fus_rate"
      ]
    },
    {
      "cell_type": "markdown",
      "metadata": {
        "id": "9MLXhoMmWhZ9"
      },
      "source": [
        "which is equal to \\frac{dN_r}{dt}"
      ]
    },
    {
      "cell_type": "code",
      "execution_count": null,
      "metadata": {
        "colab": {
          "base_uri": "https://localhost:8080/",
          "height": 60
        },
        "id": "tjysNGsBuauK",
        "outputId": "a1638c52-b129-4e9c-9042-9c02a38da82c"
      },
      "outputs": [
        {
          "data": {
            "text/latex": [
              "$\\displaystyle \\frac{31.6540512484576 \\sqrt{2} E^{0.5} N^{1.5} \\sigma}{\\sqrt{\\pi}}$"
            ],
            "text/plain": [
              "31.6540512484576*sqrt(2)*E**0.5*N**1.5*sigma/sqrt(pi)"
            ]
          },
          "execution_count": 18,
          "metadata": {},
          "output_type": "execute_result"
        }
      ],
      "source": [
        "fusion_energy = 14 * units.MeV.to(\n",
        "                units.J)\n",
        "power_prod = fusion_energy * fusion_rate\n",
        "power_prod"
      ]
    },
    {
      "cell_type": "code",
      "execution_count": null,
      "metadata": {
        "colab": {
          "base_uri": "https://localhost:8080/",
          "height": 132
        },
        "id": "8tD_AxunvN0H",
        "outputId": "ba9a4901-5128-4971-d1aa-93604552d788"
      },
      "outputs": [
        {
          "data": {
            "text/latex": [
              "$\\displaystyle \\frac{31.6540512484576 \\sqrt{2} E^{0.5} N^{1.5} \\sigma}{\\sqrt{\\pi}} - \\frac{3.00223792709108 \\cdot 10^{68} \\pi E^{4} \\left(- \\frac{C \\sqrt{E} t_{0}}{\\sqrt{m_{0}}} + R_{0}\\right)^{2}}{N^{4}}$"
            ],
            "text/plain": [
              "31.6540512484576*sqrt(2)*E**0.5*N**1.5*sigma/sqrt(pi) - 3.00223792709108e+68*pi*E**4*(-C*sqrt(E)*t_0/sqrt(m_0) + R_0)**2/N**4"
            ]
          },
          "execution_count": 19,
          "metadata": {},
          "output_type": "execute_result"
        }
      ],
      "source": [
        "power_emit = L \n",
        "power_plasma = power_prod - power_emit\n",
        "power_plasma"
      ]
    },
    {
      "cell_type": "markdown",
      "metadata": {
        "id": "nyxRzM8AGsYs"
      },
      "source": [
        "Where $\\sigma$ is the fusion cross section.\n",
        "\n",
        "Using this result, we have for the total number of fusion reactions,\n",
        "\n"
      ]
    },
    {
      "cell_type": "code",
      "execution_count": null,
      "metadata": {
        "colab": {
          "base_uri": "https://localhost:8080/",
          "height": 38
        },
        "id": "wLf86JNKD9GY",
        "outputId": "9d8b52f9-aac3-4ce9-9af2-af59debdf307"
      },
      "outputs": [
        {
          "data": {
            "text/latex": [
              "$\\displaystyle \\infty \\operatorname{sign}{\\left(\\sigma \\right)}$"
            ],
            "text/plain": [
              "oo*sign(sigma)"
            ]
          },
          "execution_count": 15,
          "metadata": {},
          "output_type": "execute_result"
        }
      ],
      "source": [
        "N_r = sympy.integrate(fusion_rate, (t, 0, sympy.oo))\n",
        "N_r"
      ]
    },
    {
      "cell_type": "code",
      "execution_count": null,
      "metadata": {
        "colab": {
          "base_uri": "https://localhost:8080/",
          "height": 149
        },
        "id": "e0pam8tVCmOv",
        "outputId": "cf7c8897-9950-4eec-eace-fbf04147295d"
      },
      "outputs": [
        {
          "ename": "SyntaxError",
          "evalue": "ignored",
          "output_type": "error",
          "traceback": [
            "\u001b[0;36m  File \u001b[0;32m\"<ipython-input-16-9ac191a25603>\"\u001b[0;36m, line \u001b[0;32m1\u001b[0m\n\u001b[0;31m    fusion_rate_per_volume =\u001b[0m\n\u001b[0m                            ^\u001b[0m\n\u001b[0;31mSyntaxError\u001b[0m\u001b[0;31m:\u001b[0m invalid syntax\n"
          ]
        }
      ],
      "source": [
        "fusion_rate_per_volume ="
      ]
    }
  ],
  "metadata": {
    "colab": {
      "authorship_tag": "ABX9TyM9YEOxL/khMJM10P1AGip8",
      "include_colab_link": true,
      "provenance": []
    },
    "kernelspec": {
      "display_name": "Python 3.9.10 64-bit",
      "language": "python",
      "name": "python3"
    },
    "language_info": {
      "codemirror_mode": {
        "name": "ipython",
        "version": 3
      },
      "file_extension": ".py",
      "mimetype": "text/x-python",
      "name": "python",
      "nbconvert_exporter": "python",
      "pygments_lexer": "ipython3",
      "version": "3.9.10"
    },
    "vscode": {
      "interpreter": {
        "hash": "274785dbb282d05f4e0ae2ca70ac66f1fa0484127cd60ef9f4ac2dd997977034"
      }
    }
  },
  "nbformat": 4,
  "nbformat_minor": 0
}
