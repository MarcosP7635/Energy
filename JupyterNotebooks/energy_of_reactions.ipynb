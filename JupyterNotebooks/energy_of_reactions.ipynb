{
 "cells": [
  {
   "cell_type": "markdown",
   "metadata": {},
   "source": [
    "Now we calculate the q-value $Q$ where \n",
    "\\begin{equation}\n",
    "\\begin{split}\n",
    "Q = \\Delta mc^2\\\\\n",
    "\\end{split}\n",
    "\\end{equation}\n",
    "where $c$ is the speed of light, and $\\Delta m$ is the change in mass of the all the nuclei in a reaction. \n",
    "For these reactions, the only reactants are the target and the projectile. \n",
    "\n",
    "\n",
    "\n",
    "\n"
   ]
  },
  {
   "cell_type": "code",
   "execution_count": 54,
   "metadata": {},
   "outputs": [
    {
     "data": {
      "text/plain": [
       "\"C:\\\\Users\\\\engin\\\\Documents\\\\GitHub\\\\Energy\\\\\""
      ]
     },
     "execution_count": 54,
     "metadata": {},
     "output_type": "execute_result"
    }
   ],
   "source": [
    "using Unitful #https://painterqubits.github.io/Unitful.jl/stable/\n",
    "#quantity * @u_str(\"unit abbreviation\") \n",
    "using Symbolics #https://symbolics.juliasymbolics.org/dev/\n",
    "#cite https://doi.org/10.48550/arXiv.2105.03949\n",
    "using Latexify\n",
    "using Test\n",
    "#1 * @u_str(\"mA\") is 1 milliamp\n",
    "using PlotlyJS, CSV, DataFrames\n",
    "using Printf\n",
    "using SymPy\n",
    "using PDFIO\n",
    "using Unzip\n",
    "parent_dir = \"C:\\\\Users\\\\engin\\\\Documents\\\\GitHub\\\\Energy\\\\\""
   ]
  },
  {
   "cell_type": "code",
   "execution_count": 55,
   "metadata": {},
   "outputs": [
    {
     "data": {
      "text/plain": [
       "is_number (generic function with 1 method)"
      ]
     },
     "execution_count": 55,
     "metadata": {},
     "output_type": "execute_result"
    }
   ],
   "source": [
    "function is_number(input) \n",
    "    if isa(input, Number)\n",
    "        return true\n",
    "    end\n",
    "    return tryparse(Float64, input) != nothing\n",
    "end"
   ]
  },
  {
   "cell_type": "markdown",
   "metadata": {},
   "source": [
    "Now to import and clean the data"
   ]
  },
  {
   "cell_type": "code",
   "execution_count": 61,
   "metadata": {},
   "outputs": [
    {
     "data": {
      "text/html": [
       "<div class=\"data-frame\"><p>3,558 rows × 3 columns</p><table class=\"data-frame\"><thead><tr><th></th><th>A</th><th>Elt.</th><th>Atomic mass (u)</th></tr><tr><th></th><th title=\"Float64\">Float64</th><th title=\"String\">String</th><th title=\"Float64\">Float64</th></tr></thead><tbody><tr><th>1</th><td>1.0</td><td>n</td><td>1.00866</td></tr><tr><th>2</th><td>1.0</td><td>H</td><td>1.00783</td></tr><tr><th>3</th><td>2.0</td><td>H</td><td>2.0141</td></tr><tr><th>4</th><td>3.0</td><td>H</td><td>3.01605</td></tr><tr><th>5</th><td>3.0</td><td>He</td><td>3.01603</td></tr><tr><th>6</th><td>3.0</td><td>Li</td><td>3.03078</td></tr><tr><th>7</th><td>4.0</td><td>H</td><td>4.02643</td></tr><tr><th>8</th><td>4.0</td><td>He</td><td>4.0026</td></tr><tr><th>9</th><td>4.0</td><td>Li</td><td>4.02719</td></tr><tr><th>10</th><td>5.0</td><td>H</td><td>5.03531</td></tr><tr><th>11</th><td>5.0</td><td>He</td><td>5.01206</td></tr><tr><th>12</th><td>5.0</td><td>Li</td><td>5.01254</td></tr><tr><th>13</th><td>5.0</td><td>Be</td><td>5.03987</td></tr><tr><th>14</th><td>6.0</td><td>H</td><td>6.04496</td></tr><tr><th>15</th><td>6.0</td><td>He</td><td>6.01889</td></tr><tr><th>16</th><td>6.0</td><td>Li</td><td>6.01512</td></tr><tr><th>17</th><td>6.0</td><td>Be</td><td>6.01973</td></tr><tr><th>18</th><td>6.0</td><td>B</td><td>6.0508</td></tr><tr><th>19</th><td>7.0</td><td>H</td><td>7.05275</td></tr><tr><th>20</th><td>7.0</td><td>He</td><td>7.02799</td></tr><tr><th>21</th><td>7.0</td><td>Li</td><td>7.016</td></tr><tr><th>22</th><td>7.0</td><td>Be</td><td>7.01693</td></tr><tr><th>23</th><td>7.0</td><td>B</td><td>7.02971</td></tr><tr><th>24</th><td>8.0</td><td>He</td><td>8.03393</td></tr><tr><th>25</th><td>8.0</td><td>Li</td><td>8.02249</td></tr><tr><th>26</th><td>8.0</td><td>Be</td><td>8.00531</td></tr><tr><th>27</th><td>8.0</td><td>B</td><td>8.02461</td></tr><tr><th>28</th><td>8.0</td><td>C</td><td>8.03764</td></tr><tr><th>29</th><td>9.0</td><td>He</td><td>9.04395</td></tr><tr><th>30</th><td>9.0</td><td>Li</td><td>9.02679</td></tr><tr><th>&vellip;</th><td>&vellip;</td><td>&vellip;</td><td>&vellip;</td></tr></tbody></table></div>"
      ],
      "text/latex": [
       "\\begin{tabular}{r|ccc}\n",
       "\t& A & Elt. & Atomic mass (u)\\\\\n",
       "\t\\hline\n",
       "\t& Float64 & String & Float64\\\\\n",
       "\t\\hline\n",
       "\t1 & 1.0 & n & 1.00866 \\\\\n",
       "\t2 & 1.0 & H & 1.00783 \\\\\n",
       "\t3 & 2.0 & H & 2.0141 \\\\\n",
       "\t4 & 3.0 & H & 3.01605 \\\\\n",
       "\t5 & 3.0 & He & 3.01603 \\\\\n",
       "\t6 & 3.0 & Li & 3.03078 \\\\\n",
       "\t7 & 4.0 & H & 4.02643 \\\\\n",
       "\t8 & 4.0 & He & 4.0026 \\\\\n",
       "\t9 & 4.0 & Li & 4.02719 \\\\\n",
       "\t10 & 5.0 & H & 5.03531 \\\\\n",
       "\t11 & 5.0 & He & 5.01206 \\\\\n",
       "\t12 & 5.0 & Li & 5.01254 \\\\\n",
       "\t13 & 5.0 & Be & 5.03987 \\\\\n",
       "\t14 & 6.0 & H & 6.04496 \\\\\n",
       "\t15 & 6.0 & He & 6.01889 \\\\\n",
       "\t16 & 6.0 & Li & 6.01512 \\\\\n",
       "\t17 & 6.0 & Be & 6.01973 \\\\\n",
       "\t18 & 6.0 & B & 6.0508 \\\\\n",
       "\t19 & 7.0 & H & 7.05275 \\\\\n",
       "\t20 & 7.0 & He & 7.02799 \\\\\n",
       "\t21 & 7.0 & Li & 7.016 \\\\\n",
       "\t22 & 7.0 & Be & 7.01693 \\\\\n",
       "\t23 & 7.0 & B & 7.02971 \\\\\n",
       "\t24 & 8.0 & He & 8.03393 \\\\\n",
       "\t25 & 8.0 & Li & 8.02249 \\\\\n",
       "\t26 & 8.0 & Be & 8.00531 \\\\\n",
       "\t27 & 8.0 & B & 8.02461 \\\\\n",
       "\t28 & 8.0 & C & 8.03764 \\\\\n",
       "\t29 & 9.0 & He & 9.04395 \\\\\n",
       "\t30 & 9.0 & Li & 9.02679 \\\\\n",
       "\t$\\dots$ & $\\dots$ & $\\dots$ & $\\dots$ \\\\\n",
       "\\end{tabular}\n"
      ],
      "text/plain": [
       "\u001b[1m3558×3 DataFrame\u001b[0m\n",
       "\u001b[1m  Row \u001b[0m│\u001b[1m A       \u001b[0m\u001b[1m Elt.   \u001b[0m\u001b[1m Atomic mass (u) \u001b[0m\n",
       "\u001b[1m      \u001b[0m│\u001b[90m Float64 \u001b[0m\u001b[90m String \u001b[0m\u001b[90m Float64         \u001b[0m\n",
       "──────┼──────────────────────────────────\n",
       "    1 │     1.0  n               1.00866\n",
       "    2 │     1.0  H               1.00783\n",
       "    3 │     2.0  H               2.0141\n",
       "    4 │     3.0  H               3.01605\n",
       "    5 │     3.0  He              3.01603\n",
       "    6 │     3.0  Li              3.03078\n",
       "    7 │     4.0  H               4.02643\n",
       "    8 │     4.0  He              4.0026\n",
       "    9 │     4.0  Li              4.02719\n",
       "   10 │     5.0  H               5.03531\n",
       "   11 │     5.0  He              5.01206\n",
       "  ⋮   │    ⋮       ⋮            ⋮\n",
       " 3549 │   291.0  Ts            291.206\n",
       " 3550 │   292.0  Mc            292.2\n",
       " 3551 │   292.0  Lv            292.202\n",
       " 3552 │   292.0  Ts            292.208\n",
       " 3553 │   293.0  Lv            293.205\n",
       " 3554 │   293.0  Ts            293.209\n",
       " 3555 │   293.0  Og            293.213\n",
       " 3556 │   294.0  Ts            294.211\n",
       " 3557 │   294.0  Og            294.214\n",
       " 3558 │   295.0  Og            295.216\n",
       "\u001b[36m                        3537 rows omitted\u001b[0m"
      ]
     },
     "execution_count": 61,
     "metadata": {},
     "output_type": "execute_result"
    }
   ],
   "source": [
    "amu_path = parent_dir * \"ImportedData\\\\Atomic_mass_table_2020.csv\"\n",
    "masses = CSV.read(amu_path, DataFrame, stringtype=String)[:,2:end]\n",
    "good_rows = [row for row in 1:size(masses)[1] if is_number(masses[row, end-1])]\n",
    "masses = masses[good_rows, [3,4,end-1]]"
   ]
  },
  {
   "cell_type": "code",
   "execution_count": null,
   "metadata": {},
   "outputs": [],
   "source": []
  }
 ],
 "metadata": {
  "kernelspec": {
   "display_name": "Julia 1.7.2",
   "language": "julia",
   "name": "julia-1.7"
  },
  "language_info": {
   "file_extension": ".jl",
   "mimetype": "application/julia",
   "name": "julia",
   "version": "1.7.2"
  },
  "orig_nbformat": 4,
  "vscode": {
   "interpreter": {
    "hash": "274785dbb282d05f4e0ae2ca70ac66f1fa0484127cd60ef9f4ac2dd997977034"
   }
  }
 },
 "nbformat": 4,
 "nbformat_minor": 2
}
