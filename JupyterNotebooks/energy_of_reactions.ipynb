{
 "cells": [
  {
   "cell_type": "markdown",
   "metadata": {},
   "source": [
    "Now we calculate the q-value $Q$ where \n",
    "\\begin{equation}\n",
    "\\begin{split}\n",
    "Q = \\Delta mc^2\\\\\n",
    "\\end{split}\n",
    "\\end{equation}\n",
    "where $c$ is the speed of light, and $\\Delta m$ is the change in mass of the all the nuclei in a reaction. \n",
    "For these reactions, the only reactants are the target and the projectile. \n",
    "\n",
    "\n",
    "\n",
    "\n"
   ]
  },
  {
   "cell_type": "code",
   "execution_count": 1,
   "metadata": {},
   "outputs": [
    {
     "data": {
      "application/vnd.webio.node+json": {
       "children": [],
       "instanceArgs": {
        "namespace": "html",
        "tag": "div"
       },
       "nodeType": "DOM",
       "props": {},
       "type": "node"
      },
      "text/html": [
       "<div style=\"padding: 1em; background-color: #f8d6da; border: 1px solid #f5c6cb; font-weight: bold;\">\n",
       "<p>The WebIO Jupyter extension was not detected. See the\n",
       "<a href=\"https://juliagizmos.github.io/WebIO.jl/latest/providers/ijulia/\" target=\"_blank\">\n",
       "    WebIO Jupyter integration documentation\n",
       "</a>\n",
       "for more information.\n",
       "</div>\n"
      ],
      "text/plain": [
       "WebIO._IJuliaInit()"
      ]
     },
     "metadata": {},
     "output_type": "display_data"
    },
    {
     "data": {
      "text/plain": [
       "\"C:\\\\Users\\\\engin\\\\Documents\\\\GitHub\\\\Energy\\\\\""
      ]
     },
     "execution_count": 1,
     "metadata": {},
     "output_type": "execute_result"
    }
   ],
   "source": [
    "using Unitful #https://painterqubits.github.io/Unitful.jl/stable/\n",
    "#quantity * @u_str(\"unit abbreviation\") \n",
    "using Symbolics #https://symbolics.juliasymbolics.org/dev/\n",
    "#cite https://doi.org/10.48550/arXiv.2105.03949\n",
    "using Latexify\n",
    "using Test\n",
    "#1 * @u_str(\"mA\") is 1 milliamp\n",
    "using PlotlyJS, CSV, DataFrames\n",
    "using Printf\n",
    "using SymPy\n",
    "using PDFIO\n",
    "using Unzip\n",
    "parent_dir = \"C:\\\\Users\\\\engin\\\\Documents\\\\GitHub\\\\Energy\\\\\""
   ]
  },
  {
   "cell_type": "code",
   "execution_count": 2,
   "metadata": {},
   "outputs": [
    {
     "data": {
      "text/plain": [
       "is_number (generic function with 1 method)"
      ]
     },
     "execution_count": 2,
     "metadata": {},
     "output_type": "execute_result"
    }
   ],
   "source": [
    "function is_number(input) \n",
    "    if isa(input, Number)\n",
    "        return true\n",
    "    end\n",
    "    return tryparse(Float64, input) != nothing\n",
    "end"
   ]
  },
  {
   "cell_type": "markdown",
   "metadata": {},
   "source": [
    "Now to import and clean the data"
   ]
  },
  {
   "cell_type": "code",
   "execution_count": 3,
   "metadata": {},
   "outputs": [
    {
     "data": {
      "text/html": [
       "<div class=\"data-frame\"><p>3,558 rows × 3 columns</p><table class=\"data-frame\"><thead><tr><th></th><th>A</th><th>Elt.</th><th>Atomic mass (u)</th></tr><tr><th></th><th title=\"Int64\">Int64</th><th title=\"String\">String</th><th title=\"Float64\">Float64</th></tr></thead><tbody><tr><th>1</th><td>1</td><td>n</td><td>1.00866</td></tr><tr><th>2</th><td>1</td><td>H</td><td>1.00783</td></tr><tr><th>3</th><td>2</td><td>H</td><td>2.0141</td></tr><tr><th>4</th><td>3</td><td>H</td><td>3.01605</td></tr><tr><th>5</th><td>3</td><td>He</td><td>3.01603</td></tr><tr><th>6</th><td>3</td><td>Li</td><td>3.03078</td></tr><tr><th>7</th><td>4</td><td>H</td><td>4.02643</td></tr><tr><th>8</th><td>4</td><td>He</td><td>4.0026</td></tr><tr><th>9</th><td>4</td><td>Li</td><td>4.02719</td></tr><tr><th>10</th><td>5</td><td>H</td><td>5.03531</td></tr><tr><th>11</th><td>5</td><td>He</td><td>5.01206</td></tr><tr><th>12</th><td>5</td><td>Li</td><td>5.01254</td></tr><tr><th>13</th><td>5</td><td>Be</td><td>5.03987</td></tr><tr><th>14</th><td>6</td><td>H</td><td>6.04496</td></tr><tr><th>15</th><td>6</td><td>He</td><td>6.01889</td></tr><tr><th>16</th><td>6</td><td>Li</td><td>6.01512</td></tr><tr><th>17</th><td>6</td><td>Be</td><td>6.01973</td></tr><tr><th>18</th><td>6</td><td>B</td><td>6.0508</td></tr><tr><th>19</th><td>7</td><td>H</td><td>7.05275</td></tr><tr><th>20</th><td>7</td><td>He</td><td>7.02799</td></tr><tr><th>21</th><td>7</td><td>Li</td><td>7.016</td></tr><tr><th>22</th><td>7</td><td>Be</td><td>7.01693</td></tr><tr><th>23</th><td>7</td><td>B</td><td>7.02971</td></tr><tr><th>24</th><td>8</td><td>He</td><td>8.03393</td></tr><tr><th>25</th><td>8</td><td>Li</td><td>8.02249</td></tr><tr><th>26</th><td>8</td><td>Be</td><td>8.00531</td></tr><tr><th>27</th><td>8</td><td>B</td><td>8.02461</td></tr><tr><th>28</th><td>8</td><td>C</td><td>8.03764</td></tr><tr><th>29</th><td>9</td><td>He</td><td>9.04395</td></tr><tr><th>30</th><td>9</td><td>Li</td><td>9.02679</td></tr><tr><th>&vellip;</th><td>&vellip;</td><td>&vellip;</td><td>&vellip;</td></tr></tbody></table></div>"
      ],
      "text/latex": [
       "\\begin{tabular}{r|ccc}\n",
       "\t& A & Elt. & Atomic mass (u)\\\\\n",
       "\t\\hline\n",
       "\t& Int64 & String & Float64\\\\\n",
       "\t\\hline\n",
       "\t1 & 1 & n & 1.00866 \\\\\n",
       "\t2 & 1 & H & 1.00783 \\\\\n",
       "\t3 & 2 & H & 2.0141 \\\\\n",
       "\t4 & 3 & H & 3.01605 \\\\\n",
       "\t5 & 3 & He & 3.01603 \\\\\n",
       "\t6 & 3 & Li & 3.03078 \\\\\n",
       "\t7 & 4 & H & 4.02643 \\\\\n",
       "\t8 & 4 & He & 4.0026 \\\\\n",
       "\t9 & 4 & Li & 4.02719 \\\\\n",
       "\t10 & 5 & H & 5.03531 \\\\\n",
       "\t11 & 5 & He & 5.01206 \\\\\n",
       "\t12 & 5 & Li & 5.01254 \\\\\n",
       "\t13 & 5 & Be & 5.03987 \\\\\n",
       "\t14 & 6 & H & 6.04496 \\\\\n",
       "\t15 & 6 & He & 6.01889 \\\\\n",
       "\t16 & 6 & Li & 6.01512 \\\\\n",
       "\t17 & 6 & Be & 6.01973 \\\\\n",
       "\t18 & 6 & B & 6.0508 \\\\\n",
       "\t19 & 7 & H & 7.05275 \\\\\n",
       "\t20 & 7 & He & 7.02799 \\\\\n",
       "\t21 & 7 & Li & 7.016 \\\\\n",
       "\t22 & 7 & Be & 7.01693 \\\\\n",
       "\t23 & 7 & B & 7.02971 \\\\\n",
       "\t24 & 8 & He & 8.03393 \\\\\n",
       "\t25 & 8 & Li & 8.02249 \\\\\n",
       "\t26 & 8 & Be & 8.00531 \\\\\n",
       "\t27 & 8 & B & 8.02461 \\\\\n",
       "\t28 & 8 & C & 8.03764 \\\\\n",
       "\t29 & 9 & He & 9.04395 \\\\\n",
       "\t30 & 9 & Li & 9.02679 \\\\\n",
       "\t$\\dots$ & $\\dots$ & $\\dots$ & $\\dots$ \\\\\n",
       "\\end{tabular}\n"
      ],
      "text/plain": [
       "\u001b[1m3558×3 DataFrame\u001b[0m\n",
       "\u001b[1m  Row \u001b[0m│\u001b[1m A     \u001b[0m\u001b[1m Elt.   \u001b[0m\u001b[1m Atomic mass (u) \u001b[0m\n",
       "\u001b[1m      \u001b[0m│\u001b[90m Int64 \u001b[0m\u001b[90m String \u001b[0m\u001b[90m Float64         \u001b[0m\n",
       "──────┼────────────────────────────────\n",
       "    1 │     1  n               1.00866\n",
       "    2 │     1  H               1.00783\n",
       "    3 │     2  H               2.0141\n",
       "    4 │     3  H               3.01605\n",
       "    5 │     3  He              3.01603\n",
       "    6 │     3  Li              3.03078\n",
       "    7 │     4  H               4.02643\n",
       "    8 │     4  He              4.0026\n",
       "    9 │     4  Li              4.02719\n",
       "   10 │     5  H               5.03531\n",
       "   11 │     5  He              5.01206\n",
       "  ⋮   │   ⋮      ⋮            ⋮\n",
       " 3549 │   291  Ts            291.206\n",
       " 3550 │   292  Mc            292.2\n",
       " 3551 │   292  Lv            292.202\n",
       " 3552 │   292  Ts            292.208\n",
       " 3553 │   293  Lv            293.205\n",
       " 3554 │   293  Ts            293.209\n",
       " 3555 │   293  Og            293.213\n",
       " 3556 │   294  Ts            294.211\n",
       " 3557 │   294  Og            294.214\n",
       " 3558 │   295  Og            295.216\n",
       "\u001b[36m                      3537 rows omitted\u001b[0m"
      ]
     },
     "execution_count": 3,
     "metadata": {},
     "output_type": "execute_result"
    }
   ],
   "source": [
    "amu_path = parent_dir * \"ImportedData\\\\Atomic_mass_table_2020.csv\"\n",
    "masses = CSV.read(amu_path, DataFrame, stringtype=String)[:,2:end]\n",
    "good_rows = [row for row in 1:size(masses)[1] if is_number(masses[row, end-1])]\n",
    "masses = masses[good_rows, :]\n",
    "masses[!,1:3] = Int.(masses[:,1:3])\n",
    "masses[:,[3,4,end-1]]"
   ]
  },
  {
   "cell_type": "markdown",
   "metadata": {},
   "source": [
    "This function returns the precise mass in daltons of a given isotope. Isotopes must be given in the form mass number + symbol in a single string, such as \"3H\" for tritium or \"1n\" for a free neutron. "
   ]
  },
  {
   "cell_type": "code",
   "execution_count": 4,
   "metadata": {},
   "outputs": [
    {
     "data": {
      "text/plain": [
       "3.01604928132"
      ]
     },
     "execution_count": 4,
     "metadata": {},
     "output_type": "execute_result"
    }
   ],
   "source": [
    "function precise_mass(input)\n",
    "    index = 1\n",
    "    while (index < length(input) && \n",
    "            tryparse(Int, string(input[1:index])) != nothing)\n",
    "        index += 1\n",
    "    end\n",
    "    index -= 1\n",
    "    mass_number = parse(Int, input[1:index])\n",
    "    symbol = input[index+1:end]\n",
    "    row = 1\n",
    "    while ((masses[row,3] != mass_number || masses[row,4] != symbol) \n",
    "        && row < size(masses)[1])\n",
    "        row += 1\n",
    "    end\n",
    "    if row == size(masses)[1]\n",
    "        if string(masses[row,3]) * string(masses[row,4]) == input\n",
    "            return masses[row, end-1]\n",
    "        else \n",
    "            return \"Isotope not in dataset\"\n",
    "        end\n",
    "    end\n",
    "    return masses[row, end-1] \n",
    "end\n",
    "precise_mass(\"3H\")"
   ]
  },
  {
   "cell_type": "code",
   "execution_count": 5,
   "metadata": {},
   "outputs": [
    {
     "data": {
      "text/plain": [
       "6.02214076000000009258883437723852694034576416015625e+23"
      ]
     },
     "execution_count": 5,
     "metadata": {},
     "output_type": "execute_result"
    }
   ],
   "source": [
    "N_A = 6.02214076*(BigFloat(10)^23)"
   ]
  },
  {
   "cell_type": "markdown",
   "metadata": {},
   "source": [
    "The function q_val returns the q value of a reaction given the products and reactants in eV/reaction. "
   ]
  },
  {
   "cell_type": "code",
   "execution_count": 6,
   "metadata": {},
   "outputs": [
    {
     "data": {
      "text/plain": [
       "1.758929986491761040539044986485839498059167757678315342281902419445550953510919e+07"
      ]
     },
     "execution_count": 6,
     "metadata": {},
     "output_type": "execute_result"
    }
   ],
   "source": [
    "kg_per_dalton = 1.66053906660 * BigFloat(10)^(-27)\n",
    "c = 299792458\n",
    "joule_per_eV = 1.602176634 * BigFloat(10)^-19\n",
    "conversion_constant = kg_per_dalton * c^2 / joule_per_eV\n",
    "total_mass(ingredients) = sum([precise_mass(ingredient) for ingredient in ingredients])\n",
    "q_val(reactants, products) = (total_mass(reactants) - total_mass(products)) * conversion_constant \n",
    "q_val([\"3H\", \"2H\"], [\"4He\",\"1n\"])"
   ]
  },
  {
   "cell_type": "markdown",
   "metadata": {},
   "source": [
    "This agrees with the usually cited q-values for different reactions. "
   ]
  },
  {
   "cell_type": "code",
   "execution_count": 7,
   "metadata": {},
   "outputs": [
    {
     "data": {
      "text/plain": [
       "3.268908850974102367854075994107107301986568434178828839895100956710973926549135e+06"
      ]
     },
     "execution_count": 7,
     "metadata": {},
     "output_type": "execute_result"
    }
   ],
   "source": [
    "q_val([\"2H\", \"2H\"], [\"3He\", \"1n\"])"
   ]
  },
  {
   "cell_type": "code",
   "execution_count": 8,
   "metadata": {},
   "outputs": [
    {
     "data": {
      "text/plain": [
       "4.032663828738721139338876004089564883296793627391702351816031599817901716929761e+06"
      ]
     },
     "execution_count": 8,
     "metadata": {},
     "output_type": "execute_result"
    }
   ],
   "source": [
    "q_val([\"2H\", \"2H\"], [\"3H\", \"1H\"])"
   ]
  },
  {
   "cell_type": "code",
   "execution_count": 9,
   "metadata": {},
   "outputs": [
    {
     "data": {
      "text/plain": [
       "-1.664538882129621392511337106953757283363676677527588068640109772397040296181692e+06"
      ]
     },
     "execution_count": 9,
     "metadata": {},
     "output_type": "execute_result"
    }
   ],
   "source": [
    "q_val([\"1n\", \"9Be\"],[\"8Be\", \"1n\", \"1n\"])"
   ]
  },
  {
   "cell_type": "markdown",
   "metadata": {},
   "source": [
    "Now I need to find the reactants and products for a given projectile, MT, and target. Once I do that, I can jus tuse the q_val function :) "
   ]
  },
  {
   "cell_type": "code",
   "execution_count": 11,
   "metadata": {},
   "outputs": [
    {
     "data": {
      "text/plain": [
       "Dict{Any, Any} with 6 entries:\n",
       "  \"Deuteron\" => \u001b[1m14×2 DataFrame\u001b[0m…\n",
       "  \"Proton\"   => \u001b[1m15×2 DataFrame\u001b[0m…\n",
       "  \"Tritium\"  => \u001b[1m13×2 DataFrame\u001b[0m…\n",
       "  \"Neutron\"  => \u001b[1m14×2 DataFrame\u001b[0m…\n",
       "  \"Helium3\"  => \u001b[1m16×2 DataFrame\u001b[0m…\n",
       "  \"Alpha\"    => \u001b[1m18×2 DataFrame\u001b[0m…"
      ]
     },
     "execution_count": 11,
     "metadata": {},
     "output_type": "execute_result"
    }
   ],
   "source": [
    "mt_dir = parent_dir * \"ExportedData\\\\MT given projectile\\\\\"\n",
    "projectiles = [\"Alpha\", \"Deuteron\", \"Helium3\", \"Proton\", \"Neutron\", \"Tritium\"]\n",
    "projectile_MT_dict = Dict([])\n",
    "for projectile in projectiles\n",
    "    df = CSV.read(mt_dir * projectile * \"MTS.csv\", \n",
    "            DataFrame, stringtype=String)\n",
    "    new_df = DataFrame()\n",
    "    new_df[!, \"MTs\"] = [parse.(Int, split(df[row,2][2:end-1], \",\")) \n",
    "                    for row in 1:size(df)[1]]\n",
    "    new_df[!, \"Reaction\"] = [parse.(Int, split(df[row,1][2:end-1], \",\")) \n",
    "                            for row in 1:size(df)[1]]\n",
    "    projectile_MT_dict[projectile] = new_df\n",
    "end\n",
    "projectile_MT_dict"
   ]
  },
  {
   "cell_type": "markdown",
   "metadata": {},
   "source": [
    "I think I need to programmatically redo the interpretation of MTs to account for multiple sets of nuclei and free particles having the same reaction. "
   ]
  },
  {
   "cell_type": "markdown",
   "metadata": {},
   "source": [
    "In each dataframe of interpretted MTs, the first column describes the reaction in terms ($\\Delta Z$, $\\Delta A$) where $Z$ is the proton number and $A$ the mass number. The second column is a list of MTs that each denote this reaction. "
   ]
  },
  {
   "cell_type": "code",
   "execution_count": 12,
   "metadata": {},
   "outputs": [
    {
     "name": "stdout",
     "output_type": "stream",
     "text": [
      "\u001b[1m15×2 DataFrame\u001b[0m\n",
      "\u001b[1m Row \u001b[0m│\u001b[1m MTs                               \u001b[0m\u001b[1m Reaction \u001b[0m\n",
      "\u001b[1m     \u001b[0m│\u001b[90m Array…                            \u001b[0m\u001b[90m Array…   \u001b[0m\n",
      "─────┼─────────────────────────────────────────────\n",
      "   1 │ [5, 10, 33]                        [0, -3]\n",
      "   2 │ [207, 801, 849, 108, 116, 109, 1…  [-1, -3]\n",
      "   3 │ [35, 113]                          [-2, -6]\n",
      "   4 │ [700, 32, 215, 205, 11, 702, 749…  [0, -2]\n",
      "   5 │ [115, 1]                           [-1, -2]\n",
      "   6 │ [101]                              [-2, -2]\n",
      "   7 │ [699, 650, 104, 651, 28, 41, 204…  [0, -1]\n",
      "   8 │ [875, 90, 4, 91, 218, 52, 34, 18…  [1, 0]\n",
      "   9 │ [603, 111, 203, 103, 20, 217, 60…  [0, 0]\n",
      "  10 │ [114, 117, 45]                     [-2, -5]\n",
      "  11 │ [36]                               [-2, -7]\n",
      "  12 │ [30, 25, 29, 24, 22]               [-1, -4]\n",
      "  13 │ [210, 457, 460, 456, 451, 216, 2…  [1, 1]\n",
      "  14 │ [251, 253, 151, 751, 750, 27, 45…  [0, 1]\n",
      "  15 │ [112, 23]                          [-2, -4]"
     ]
    }
   ],
   "source": [
    "print(projectile_MT_dict[\"Proton\"])"
   ]
  },
  {
   "cell_type": "code",
   "execution_count": 13,
   "metadata": {},
   "outputs": [
    {
     "data": {
      "text/plain": [
       "2-element Vector{Int64}:\n",
       " -1\n",
       " -2"
      ]
     },
     "execution_count": 13,
     "metadata": {},
     "output_type": "execute_result"
    }
   ],
   "source": [
    "element_symbols = [\"H\", \"He\", \"Li\", \"Be\", \"B\", \"C\", \"N\", \"O\", \"F\", \"Ne\", \n",
    "\"Na\", \"Mg\", \"Al\", \"Si\", \"P\", \"S\", \"Cl\", \"Ar\", \"K\", \"Ca\", \"Sc\", \"Ti\", \"V\", \n",
    "\"Cr\", \"Mn\", \"Fe\", \"Co\", \"Ni\", \"Cu\", \"Zn\", \"Ga\", \"Ge\", \"As\", \"Se\", \"Br\", \n",
    "\"Kr\", \"Rb\", \"Sr\", \"Y\", \"Zr\", \"Nb\", \"Mo\", \"Tc\", \"Ru\", \"Rh\", \"Pd\", \"Ag\", \n",
    "\"Cd\", \"In\", \"Sn\", \"Sb\", \"Te\", \"I\", \"Xe\", \"Cs\", \"Ba\", \"La\", \"Ce\", \"Pr\", \n",
    "\"Nd\", \"Pm\", \"Sm\", \"Eu\", \"Gd\", \"Tb\", \"Dy\", \"Ho\", \"Er\", \"Tm\", \"Yb\", \"Lu\", \n",
    "\"Hf\", \"Ta\", \"W\", \"Re\", \"Os\", \"Ir\", \"Pt\", \"Au\", \"Hg\", \"Tl\", \"Pb\", \"Bi\", \n",
    "\"Po\", \"At\", \"Rn\", \"Fr\", \"Ra\", \"Ac\", \"Th\", \"Pa\", \"U\", \"Np\", \"Pu\", \"Am\", \n",
    "\"Cm\", \"Bk\", \"Cf\", \"Es\", \"Fm\", \"Md\", \"No\", \"Lr\", \"Rf\", \"Db\", \"Sg\", \"Bh\", \n",
    "\"Hs\", \"Mt\", \"Ds\", \"Rg\", \"Cn\", \"Nh\", \"Fl\", \"Mc\", \"Lv\", \"Ts\", \"Og\"];\n",
    "function reaction(projectile, MT)\n",
    "    df = projectile_MT_dict[projectile]\n",
    "    row = 1\n",
    "    while (row < size(df)[1] && !(MT in df[row, \"MTs\"]))\n",
    "        row += 1\n",
    "    end\n",
    "    if row == size(df)[1]\n",
    "        if !(MT in df[row, \"MTs\"])\n",
    "            return \"MT not in dataset\"\n",
    "        end\n",
    "    end\n",
    "    return df[row, \"Reaction\"]\n",
    "end\n",
    "reaction(\"Proton\", 1)"
   ]
  },
  {
   "cell_type": "markdown",
   "metadata": {},
   "source": [
    "function MTs(projectile, reaction)\n",
    "    df = projectile_MT_dict[projectile]\n",
    "    row = 1\n",
    "    while (row < size(df)[1] && reaction != df[row, \"Reaction\"])\n",
    "        row += 1\n",
    "    end\n",
    "    if row == size(df)[1]\n",
    "        if !(reaction == df[row, \"Reaction\"])\n",
    "            return \"Reaction not in dataset\"\n",
    "        end\n",
    "    end\n",
    "    return df[row, \"MTs\"]\n",
    "end\n",
    "MTs(\"Proton\", [0,0])"
   ]
  },
  {
   "cell_type": "code",
   "execution_count": 20,
   "metadata": {},
   "outputs": [
    {
     "data": {
      "text/plain": [
       "Dict{Any, Any} with 103 entries:\n",
       "  875 => \"(z,2n0)\"\n",
       "  35  => \"(z,nd2α)\"\n",
       "  114 => \"(z,d2α)\"\n",
       "  30  => \"(z,2n2α)\"\n",
       "  700 => \"(z,t0)\"\n",
       "  699 => \"(z,dc)\"\n",
       "  32  => \"(z,nd)\"\n",
       "  650 => \"(z,d0)\"\n",
       "  117 => \"(z,dα)\"\n",
       "  45  => \"(z,npα)\"\n",
       "  215 => \"(z,Xκ0 short)\"\n",
       "  251 => \"(n,...)\"\n",
       "  253 => \"(n,...)\"\n",
       "  115 => \"(z,pd)\"\n",
       "  112 => \"(z,pα)\"\n",
       "  210 => \"(z,Xπ−)\"\n",
       "  151 => \"(n,RES)\"\n",
       "  90  => \"(z,n40)\"\n",
       "  457 => \"(z,...)\"\n",
       "  460 => \"(z,...)\"\n",
       "  4   => \"(z,n)\"\n",
       "  207 => \"(z,Xα)\"\n",
       "  104 => \"(z,d)\"\n",
       "  91  => \"(z,nc)\"\n",
       "  205 => \"(z,Xt)\"\n",
       "  ⋮   => ⋮"
      ]
     },
     "execution_count": 20,
     "metadata": {},
     "output_type": "execute_result"
    }
   ],
   "source": [
    "mt_df = CSV.read(parent_dir * \"ExportedData\\\\mt_reactions.csv\", DataFrame)\n",
    "mt_reactions = Dict([])\n",
    "for row in 1:size(mt_df)[1]\n",
    "    mt_reactions[mt_df[row,1]] = mt_df[row, 2]\n",
    "end\n",
    "mt_reactions"
   ]
  },
  {
   "cell_type": "markdown",
   "metadata": {},
   "source": [
    "I need to modify the above code to also return the specific nuclei and free particles involved in a reaction. "
   ]
  },
  {
   "cell_type": "code",
   "execution_count": 40,
   "metadata": {},
   "outputs": [
    {
     "data": {
      "text/plain": [
       "interpret_reaction (generic function with 1 method)"
      ]
     },
     "execution_count": 40,
     "metadata": {},
     "output_type": "execute_result"
    }
   ],
   "source": [
    "MTs = [key for key in keys(mt_reactions)]\n",
    "reactions = [value for value in values(mt_reactions)]\n",
    "symbol_dict = Dict([\n",
    "            (\"n\", (0, 1)),\n",
    "            (\"t\", (1, 3)), #2 neutrons, 1 proton\n",
    "            (\"d\", (1, 2)),\n",
    "            (\"p\", (1, 1)),\n",
    "            (\"α\", (2, 4)),\n",
    "            (\"γ\", (0, 0)),\n",
    "            (\"3 He\", (2, 3)),\n",
    "            ('c', (0,0)) #reverse to continuum emission\n",
    "        ])\n",
    "symbol_to_nucleus = Dict([\n",
    "    (\"n\", \"1H\"),\n",
    "    (\"t\", \"3H\"), #2 neutrons, 1 proton\n",
    "    (\"d\", \"2H\"),\n",
    "    (\"p\", \"1H\"),\n",
    "    (\"α\", \"4He\"),\n",
    "    (\"γ\", nothing),\n",
    "    (\"3 He\", \"3He\"),\n",
    "    ('c', nothing) #reverse to continuum emission\n",
    "])\n",
    "reaction_symbols = [key for key in keys(symbol_dict)]\n",
    "\n",
    "function find_difference(term, projectile = (0,0))\n",
    "    #e.g. term = \"n\"\n",
    "    difference = (0, 0) #(Z, A)\n",
    "    nuclei = []\n",
    "    if occursin(\"z\", term)\n",
    "        difference = (projectile[1], projectile[2])\n",
    "    end\n",
    "    #now to search for instance of any of the keys in term\n",
    "    for key in reaction_symbols\n",
    "        if occursin(key, term)\n",
    "            sub_difference = (0, 0)\n",
    "            key_index = collect(findfirst(key, term))[1]\n",
    "            push!(nuclei, symbol_to_nucleus[key])\n",
    "            sub_difference = symbol_dict[key]\n",
    "            #check for coefficient\n",
    "            if key_index > 1 && isdigit(term[key_index-1])\n",
    "                coefficient = parse(Int64, term[key_index-1])\n",
    "                for i in 1:coefficient-1\n",
    "                    push!(nuclei, symbol_to_nucleus[key])\n",
    "                end\n",
    "                sub_difference = (sub_difference[1] * coefficient, \n",
    "                    sub_difference[2] * coefficient)\n",
    "            end\n",
    "            difference = (difference[1] + sub_difference[1], difference[2] + sub_difference[2])\n",
    "        end\n",
    "    end\n",
    "    return difference, nuclei     \n",
    "end\n",
    "  \n",
    "#each nucleus is represented by a tuple of (Z, A)\n",
    "function interpret_reaction(reaction, projectile)\n",
    "    comma_index = collect(findfirst(\",\", reaction))[1]\n",
    "    reaction = collect(reaction)\n",
    "    added = reaction[2:comma_index-1]\n",
    "    ejected = reaction[comma_index+1:length(reaction)-1]\n",
    "    #the valid option are n, t, d, p, α, γ, He\n",
    "    # a number followed by a letter is a coefficient\n",
    "    # a letter followed by a number is an energy level.\n",
    "    # a letter followed by c means continuum emission of that particle\n",
    "    #each value will be added or subtracted from the target\n",
    "    added_difference, added_nuclei = find_difference(String(added), projectile) \n",
    "    ejected_difference, ejected_nuclei = find_difference(String(ejected))\n",
    "    reaction = (added_difference[1] - ejected_difference[1], \n",
    "                added_difference[2] - ejected_difference[2])\n",
    "    return reaction, added_nuclei, ejected_nuclei\n",
    "end"
   ]
  },
  {
   "cell_type": "code",
   "execution_count": 45,
   "metadata": {},
   "outputs": [
    {
     "ename": "LoadError",
     "evalue": "StringIndexError: invalid index [2], valid nearby indices [1]=>'α', [3]=>'c'",
     "output_type": "error",
     "traceback": [
      "StringIndexError: invalid index [2], valid nearby indices [1]=>'α', [3]=>'c'",
      "",
      "Stacktrace:",
      " [1] string_index_err(s::String, i::Int64)",
      "   @ Base .\\strings\\string.jl:12",
      " [2] getindex_continued(s::String, i::Int64, u::UInt32)",
      "   @ Base .\\strings\\string.jl:233",
      " [3] getindex(s::String, i::Int64)",
      "   @ Base .\\strings\\string.jl:226",
      " [4] find_difference(term::String, projectile::Tuple{Int64, Int64})",
      "   @ Main .\\In[40]:40",
      " [5] find_difference",
      "   @ .\\In[40]:27 [inlined]",
      " [6] interpret_reaction(reaction::String15, projectile::Tuple{Int64, Int64})",
      "   @ Main .\\In[40]:66",
      " [7] top-level scope",
      "   @ In[45]:1",
      " [8] eval",
      "   @ .\\boot.jl:373 [inlined]",
      " [9] include_string(mapexpr::typeof(REPL.softscope), mod::Module, code::String, filename::String)",
      "   @ Base .\\loading.jl:1196"
     ]
    }
   ],
   "source": [
    "interpret_reaction(mt_reactions[849], (1,1))"
   ]
  },
  {
   "cell_type": "code",
   "execution_count": 41,
   "metadata": {},
   "outputs": [
    {
     "name": "stdout",
     "output_type": "stream",
     "text": [
      "849\n",
      "849\n",
      "849\n",
      "849\n",
      "849\n",
      "849\n",
      "849\n"
     ]
    },
    {
     "data": {
      "text/plain": [
       "Dict{Any, Any} with 48 entries:\n",
       "  ((1, 0), Any[], Any[\"3H\", noth… => [749]\n",
       "  ((-2, -6), Any[], Any[\"4He\", \"… => [29]\n",
       "  ((-6, -12), Any[\"1H\"], Any[\"4H… => [23]\n",
       "  ((1, -1), Any[], Any[\"3H\", not… => [10]\n",
       "  ((1, 2), Any[], Any[nothing, \"… => [649]\n",
       "  ((2, 0), Any[], Any[\"1H\", \"1H\"… => [17]\n",
       "  ((1, 1), Any[], Any[\"1H\", \"1H\"… => [28]\n",
       "  ((0, 1), Any[\"1H\"], Any[])      => [251, 253, 151, 751, 750, 27, 458, 19, 252]\n",
       "  ((0, 0), Any[], Any[\"2H\", \"1H\"… => [115]\n",
       "  ((-2, -7), Any[], Any[\"4He\", \"… => [30]\n",
       "  ((2, 1), Any[], Any[nothing, \"… => [891]\n",
       "  ((0, 0), Any[], Any[\"1H\", \"1H\"… => [44]\n",
       "  ((-1, -3), Any[], Any[\"2H\", \"4… => [117]\n",
       "  ((-3, -9), Any[], Any[\"3H\", \"4… => [36]\n",
       "  ((2, -1), Any[], Any[\"1H\", \"1H… => [37]\n",
       "  ((0, 0), Any[\"1H\"], Any[\"1H\"])  => [20]\n",
       "  ((2, 3), Any[], Any[nothing])   => [202, 102]\n",
       "  ((1, 0), Any[], Any[\"2H\", \"1H\"… => [32]\n",
       "  ((0, -1), Any[], Any[\"1H\"])     => [50]\n",
       "  ((0, -1), Any[], Any[\"3H\", \"1H… => [116]\n",
       "  ((0, -2), Any[\"1H\"], Any[\"1H\",… => [38]\n",
       "  ((0, 1), Any[\"1H\"], Any[nothin… => [799]\n",
       "  ((1, 0), Any[], Any[\"1H\", \"1H\"… => [41]\n",
       "  ((-4, -9), Any[], Any[\"4He\", \"… => [109]\n",
       "  ((-3, -8), Any[], Any[\"2H\", \"4… => [35]\n",
       "  ⋮                               => ⋮"
      ]
     },
     "execution_count": 41,
     "metadata": {},
     "output_type": "execute_result"
    }
   ],
   "source": [
    "function find_corresponding_MTs(projectile)    \n",
    "    interpreted_MTs = Dict([])\n",
    "    for MT in MTs\n",
    "        try\n",
    "            interpreted_MTs[MT] = interpret_reaction(mt_reactions[MT], projectile)\n",
    "        catch\n",
    "            println(MT)\n",
    "        end\n",
    "    end\n",
    "    #details = [value for value in values(mt_details)]\n",
    "    #will write test cases later\n",
    "    interpretations = [value for value in values(interpreted_MTs)]\n",
    "    #there are many reactions that yield the same nucleus. \n",
    "    possible_changes_in_nucleus = unique(interpretations)\n",
    "    corresponding_MTs = Dict([])\n",
    "    for change in possible_changes_in_nucleus\n",
    "        corresponding_MTs[change] = [key for key in keys(interpreted_MTs) \n",
    "                                if interpreted_MTs[key] == change]\n",
    "    end\n",
    "    return corresponding_MTs\n",
    "end\n",
    "projectile_dict = Dict([\"electron\" => (0,0), \"neutron\"  => (0,1), \n",
    "    \"proton\" => (1,1), \"deuteron\" => (1,2), \"tritium\" => (1,3), \n",
    "    \"alpha\" => (2,2), \"gamma\" => (0,0), \"3He\"  => (2,3)])\n",
    "\n",
    "gamma_MTs = find_corresponding_MTs(projectile_dict[\"gamma\"])\n",
    "proton_MTs = find_corresponding_MTs(projectile_dict[\"proton\"])\n",
    "alpha_MTs = find_corresponding_MTs(projectile_dict[\"alpha\"])\n",
    "tritium_MTs = find_corresponding_MTs(projectile_dict[\"tritium\"])\n",
    "neutron_MTs = find_corresponding_MTs(projectile_dict[\"neutron\"])\n",
    "deuteron_MTs = find_corresponding_MTs(projectile_dict[\"deuteron\"])\n",
    "helium3_MTs = find_corresponding_MTs(projectile_dict[\"3He\"])"
   ]
  },
  {
   "cell_type": "code",
   "execution_count": 36,
   "metadata": {},
   "outputs": [
    {
     "data": {
      "text/plain": [
       "('p', 'p')"
      ]
     },
     "execution_count": 36,
     "metadata": {},
     "output_type": "execute_result"
    }
   ],
   "source": [
    "projectile = \"proton\"\n",
    "interpret_reaction(mt_reactions[875], projectile)"
   ]
  },
  {
   "cell_type": "code",
   "execution_count": null,
   "metadata": {},
   "outputs": [],
   "source": [
    "get_ingredients(projectile, MT)\n",
    "    "
   ]
  }
 ],
 "metadata": {
  "kernelspec": {
   "display_name": "Julia 1.7.2",
   "language": "julia",
   "name": "julia-1.7"
  },
  "language_info": {
   "file_extension": ".jl",
   "mimetype": "application/julia",
   "name": "julia",
   "version": "1.7.2"
  },
  "orig_nbformat": 4,
  "vscode": {
   "interpreter": {
    "hash": "274785dbb282d05f4e0ae2ca70ac66f1fa0484127cd60ef9f4ac2dd997977034"
   }
  }
 },
 "nbformat": 4,
 "nbformat_minor": 2
}
