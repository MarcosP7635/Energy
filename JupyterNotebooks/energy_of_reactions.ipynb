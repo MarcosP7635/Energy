{
 "cells": [
  {
   "cell_type": "markdown",
   "metadata": {},
   "source": [
    "Now we calculate the q-value $Q$ where \n",
    "\\begin{equation}\n",
    "\\begin{split}\n",
    "Q = \\Delta mc^2\\\\\n",
    "\\end{split}\n",
    "\\end{equation}\n",
    "where $c$ is the speed of light, and $\\Delta m$ is the change in mass of the all the nuclei in a reaction. \n",
    "For these reactions, the only reactants are the target and the projectile. \n",
    "\n",
    "\n",
    "\n",
    "\n"
   ]
  },
  {
   "cell_type": "code",
   "execution_count": 1,
   "metadata": {},
   "outputs": [
    {
     "data": {
      "application/vnd.webio.node+json": {
       "children": [],
       "instanceArgs": {
        "namespace": "html",
        "tag": "div"
       },
       "nodeType": "DOM",
       "props": {},
       "type": "node"
      },
      "text/html": [
       "<div style=\"padding: 1em; background-color: #f8d6da; border: 1px solid #f5c6cb; font-weight: bold;\">\n",
       "<p>The WebIO Jupyter extension was not detected. See the\n",
       "<a href=\"https://juliagizmos.github.io/WebIO.jl/latest/providers/ijulia/\" target=\"_blank\">\n",
       "    WebIO Jupyter integration documentation\n",
       "</a>\n",
       "for more information.\n",
       "</div>\n"
      ],
      "text/plain": [
       "WebIO._IJuliaInit()"
      ]
     },
     "metadata": {},
     "output_type": "display_data"
    },
    {
     "data": {
      "text/plain": [
       "\"C:\\\\Users\\\\engin\\\\Documents\\\\GitHub\\\\Energy\\\\\""
      ]
     },
     "execution_count": 1,
     "metadata": {},
     "output_type": "execute_result"
    }
   ],
   "source": [
    "using Unitful #https://painterqubits.github.io/Unitful.jl/stable/\n",
    "#quantity * @u_str(\"unit abbreviation\") \n",
    "using Symbolics #https://symbolics.juliasymbolics.org/dev/\n",
    "#cite https://doi.org/10.48550/arXiv.2105.03949\n",
    "using Latexify\n",
    "using Test\n",
    "#1 * @u_str(\"mA\") is 1 milliamp\n",
    "using PlotlyJS, CSV, DataFrames\n",
    "using Printf\n",
    "using SymPy\n",
    "using PDFIO\n",
    "using Unzip\n",
    "parent_dir = \"C:\\\\Users\\\\engin\\\\Documents\\\\GitHub\\\\Energy\\\\\""
   ]
  },
  {
   "cell_type": "code",
   "execution_count": 2,
   "metadata": {},
   "outputs": [
    {
     "data": {
      "text/plain": [
       "is_number (generic function with 1 method)"
      ]
     },
     "execution_count": 2,
     "metadata": {},
     "output_type": "execute_result"
    }
   ],
   "source": [
    "function is_number(input) \n",
    "    if isa(input, Number)\n",
    "        return true\n",
    "    end\n",
    "    return tryparse(Float64, input) != nothing\n",
    "end"
   ]
  },
  {
   "cell_type": "markdown",
   "metadata": {},
   "source": [
    "Now to import and clean the data"
   ]
  },
  {
   "cell_type": "code",
   "execution_count": 3,
   "metadata": {},
   "outputs": [
    {
     "data": {
      "text/html": [
       "<div class=\"data-frame\"><p>3,558 rows × 3 columns</p><table class=\"data-frame\"><thead><tr><th></th><th>A</th><th>Elt.</th><th>Atomic mass (u)</th></tr><tr><th></th><th title=\"Int64\">Int64</th><th title=\"String\">String</th><th title=\"Float64\">Float64</th></tr></thead><tbody><tr><th>1</th><td>1</td><td>n</td><td>1.00866</td></tr><tr><th>2</th><td>1</td><td>H</td><td>1.00783</td></tr><tr><th>3</th><td>2</td><td>H</td><td>2.0141</td></tr><tr><th>4</th><td>3</td><td>H</td><td>3.01605</td></tr><tr><th>5</th><td>3</td><td>He</td><td>3.01603</td></tr><tr><th>6</th><td>3</td><td>Li</td><td>3.03078</td></tr><tr><th>7</th><td>4</td><td>H</td><td>4.02643</td></tr><tr><th>8</th><td>4</td><td>He</td><td>4.0026</td></tr><tr><th>9</th><td>4</td><td>Li</td><td>4.02719</td></tr><tr><th>10</th><td>5</td><td>H</td><td>5.03531</td></tr><tr><th>11</th><td>5</td><td>He</td><td>5.01206</td></tr><tr><th>12</th><td>5</td><td>Li</td><td>5.01254</td></tr><tr><th>13</th><td>5</td><td>Be</td><td>5.03987</td></tr><tr><th>14</th><td>6</td><td>H</td><td>6.04496</td></tr><tr><th>15</th><td>6</td><td>He</td><td>6.01889</td></tr><tr><th>16</th><td>6</td><td>Li</td><td>6.01512</td></tr><tr><th>17</th><td>6</td><td>Be</td><td>6.01973</td></tr><tr><th>18</th><td>6</td><td>B</td><td>6.0508</td></tr><tr><th>19</th><td>7</td><td>H</td><td>7.05275</td></tr><tr><th>20</th><td>7</td><td>He</td><td>7.02799</td></tr><tr><th>21</th><td>7</td><td>Li</td><td>7.016</td></tr><tr><th>22</th><td>7</td><td>Be</td><td>7.01693</td></tr><tr><th>23</th><td>7</td><td>B</td><td>7.02971</td></tr><tr><th>24</th><td>8</td><td>He</td><td>8.03393</td></tr><tr><th>25</th><td>8</td><td>Li</td><td>8.02249</td></tr><tr><th>26</th><td>8</td><td>Be</td><td>8.00531</td></tr><tr><th>27</th><td>8</td><td>B</td><td>8.02461</td></tr><tr><th>28</th><td>8</td><td>C</td><td>8.03764</td></tr><tr><th>29</th><td>9</td><td>He</td><td>9.04395</td></tr><tr><th>30</th><td>9</td><td>Li</td><td>9.02679</td></tr><tr><th>&vellip;</th><td>&vellip;</td><td>&vellip;</td><td>&vellip;</td></tr></tbody></table></div>"
      ],
      "text/latex": [
       "\\begin{tabular}{r|ccc}\n",
       "\t& A & Elt. & Atomic mass (u)\\\\\n",
       "\t\\hline\n",
       "\t& Int64 & String & Float64\\\\\n",
       "\t\\hline\n",
       "\t1 & 1 & n & 1.00866 \\\\\n",
       "\t2 & 1 & H & 1.00783 \\\\\n",
       "\t3 & 2 & H & 2.0141 \\\\\n",
       "\t4 & 3 & H & 3.01605 \\\\\n",
       "\t5 & 3 & He & 3.01603 \\\\\n",
       "\t6 & 3 & Li & 3.03078 \\\\\n",
       "\t7 & 4 & H & 4.02643 \\\\\n",
       "\t8 & 4 & He & 4.0026 \\\\\n",
       "\t9 & 4 & Li & 4.02719 \\\\\n",
       "\t10 & 5 & H & 5.03531 \\\\\n",
       "\t11 & 5 & He & 5.01206 \\\\\n",
       "\t12 & 5 & Li & 5.01254 \\\\\n",
       "\t13 & 5 & Be & 5.03987 \\\\\n",
       "\t14 & 6 & H & 6.04496 \\\\\n",
       "\t15 & 6 & He & 6.01889 \\\\\n",
       "\t16 & 6 & Li & 6.01512 \\\\\n",
       "\t17 & 6 & Be & 6.01973 \\\\\n",
       "\t18 & 6 & B & 6.0508 \\\\\n",
       "\t19 & 7 & H & 7.05275 \\\\\n",
       "\t20 & 7 & He & 7.02799 \\\\\n",
       "\t21 & 7 & Li & 7.016 \\\\\n",
       "\t22 & 7 & Be & 7.01693 \\\\\n",
       "\t23 & 7 & B & 7.02971 \\\\\n",
       "\t24 & 8 & He & 8.03393 \\\\\n",
       "\t25 & 8 & Li & 8.02249 \\\\\n",
       "\t26 & 8 & Be & 8.00531 \\\\\n",
       "\t27 & 8 & B & 8.02461 \\\\\n",
       "\t28 & 8 & C & 8.03764 \\\\\n",
       "\t29 & 9 & He & 9.04395 \\\\\n",
       "\t30 & 9 & Li & 9.02679 \\\\\n",
       "\t$\\dots$ & $\\dots$ & $\\dots$ & $\\dots$ \\\\\n",
       "\\end{tabular}\n"
      ],
      "text/plain": [
       "\u001b[1m3558×3 DataFrame\u001b[0m\n",
       "\u001b[1m  Row \u001b[0m│\u001b[1m A     \u001b[0m\u001b[1m Elt.   \u001b[0m\u001b[1m Atomic mass (u) \u001b[0m\n",
       "\u001b[1m      \u001b[0m│\u001b[90m Int64 \u001b[0m\u001b[90m String \u001b[0m\u001b[90m Float64         \u001b[0m\n",
       "──────┼────────────────────────────────\n",
       "    1 │     1  n               1.00866\n",
       "    2 │     1  H               1.00783\n",
       "    3 │     2  H               2.0141\n",
       "    4 │     3  H               3.01605\n",
       "    5 │     3  He              3.01603\n",
       "    6 │     3  Li              3.03078\n",
       "    7 │     4  H               4.02643\n",
       "    8 │     4  He              4.0026\n",
       "    9 │     4  Li              4.02719\n",
       "   10 │     5  H               5.03531\n",
       "   11 │     5  He              5.01206\n",
       "  ⋮   │   ⋮      ⋮            ⋮\n",
       " 3549 │   291  Ts            291.206\n",
       " 3550 │   292  Mc            292.2\n",
       " 3551 │   292  Lv            292.202\n",
       " 3552 │   292  Ts            292.208\n",
       " 3553 │   293  Lv            293.205\n",
       " 3554 │   293  Ts            293.209\n",
       " 3555 │   293  Og            293.213\n",
       " 3556 │   294  Ts            294.211\n",
       " 3557 │   294  Og            294.214\n",
       " 3558 │   295  Og            295.216\n",
       "\u001b[36m                      3537 rows omitted\u001b[0m"
      ]
     },
     "execution_count": 3,
     "metadata": {},
     "output_type": "execute_result"
    }
   ],
   "source": [
    "amu_path = parent_dir * \"ImportedData\\\\Atomic_mass_table_2020.csv\"\n",
    "masses = CSV.read(amu_path, DataFrame, stringtype=String)[:,2:end]\n",
    "good_rows = [row for row in 1:size(masses)[1] if is_number(masses[row, end-1])]\n",
    "masses = masses[good_rows, :]\n",
    "masses[!,1:3] = Int.(masses[:,1:3])\n",
    "masses[:,[3,4,end-1]]"
   ]
  },
  {
   "cell_type": "markdown",
   "metadata": {},
   "source": [
    "This function returns the precise mass in daltons of a given isotope. Isotopes must be given in the form mass number + symbol in a single string, such as \"3H\" for tritium or \"1n\" for a free neutron. "
   ]
  },
  {
   "cell_type": "code",
   "execution_count": 4,
   "metadata": {},
   "outputs": [
    {
     "data": {
      "text/plain": [
       "3.01604928132"
      ]
     },
     "execution_count": 4,
     "metadata": {},
     "output_type": "execute_result"
    }
   ],
   "source": [
    "function precise_mass(input)\n",
    "    index = 1\n",
    "    while (index < length(input) && \n",
    "            tryparse(Int, string(input[1:index])) != nothing)\n",
    "        index += 1\n",
    "    end\n",
    "    index -= 1\n",
    "    mass_number = parse(Int, input[1:index])\n",
    "    symbol = input[index+1:end]\n",
    "    row = 1\n",
    "    while ((masses[row,3] != mass_number || masses[row,4] != symbol) \n",
    "        && row < size(masses)[1])\n",
    "        row += 1\n",
    "    end\n",
    "    if row == size(masses)[1]\n",
    "        if string(masses[row,3]) * string(masses[row,4]) == input\n",
    "            return masses[row, end-1]\n",
    "        else \n",
    "            return \"Isotope not in dataset\"\n",
    "        end\n",
    "    end\n",
    "    return masses[row, end-1] \n",
    "end\n",
    "precise_mass(\"3H\")"
   ]
  },
  {
   "cell_type": "code",
   "execution_count": 5,
   "metadata": {},
   "outputs": [
    {
     "data": {
      "text/plain": [
       "6.02214076000000009258883437723852694034576416015625e+23"
      ]
     },
     "execution_count": 5,
     "metadata": {},
     "output_type": "execute_result"
    }
   ],
   "source": [
    "N_A = 6.02214076*(BigFloat(10)^23)"
   ]
  },
  {
   "cell_type": "markdown",
   "metadata": {},
   "source": [
    "The function q_val returns the q value of a reaction given the products and reactants in eV/reaction. "
   ]
  },
  {
   "cell_type": "code",
   "execution_count": 6,
   "metadata": {},
   "outputs": [
    {
     "data": {
      "text/plain": [
       "1.758929986491761040539044986485839498059167757678315342281902419445550953510919e+07"
      ]
     },
     "execution_count": 6,
     "metadata": {},
     "output_type": "execute_result"
    }
   ],
   "source": [
    "kg_per_dalton = 1.66053906660 * BigFloat(10)^(-27)\n",
    "c = 299792458\n",
    "joule_per_eV = 1.602176634 * BigFloat(10)^-19\n",
    "conversion_constant = kg_per_dalton * c^2 / joule_per_eV\n",
    "total_mass(ingredients) = sum([precise_mass(ingredient) for ingredient in ingredients])\n",
    "q_val(reactants, products) = (total_mass(reactants) - total_mass(products)) * conversion_constant \n",
    "q_val([\"3H\", \"2H\"], [\"4He\",\"1n\"])"
   ]
  },
  {
   "cell_type": "markdown",
   "metadata": {},
   "source": [
    "This agrees with the usually cited q-values for different reactions. "
   ]
  },
  {
   "cell_type": "code",
   "execution_count": 7,
   "metadata": {},
   "outputs": [
    {
     "data": {
      "text/plain": [
       "3.268908850974102367854075994107107301986568434178828839895100956710973926549135e+06"
      ]
     },
     "execution_count": 7,
     "metadata": {},
     "output_type": "execute_result"
    }
   ],
   "source": [
    "q_val([\"2H\", \"2H\"], [\"3He\", \"1n\"])"
   ]
  },
  {
   "cell_type": "code",
   "execution_count": 8,
   "metadata": {},
   "outputs": [
    {
     "data": {
      "text/plain": [
       "4.032663828738721139338876004089564883296793627391702351816031599817901716929761e+06"
      ]
     },
     "execution_count": 8,
     "metadata": {},
     "output_type": "execute_result"
    }
   ],
   "source": [
    "q_val([\"2H\", \"2H\"], [\"3H\", \"1H\"])"
   ]
  },
  {
   "cell_type": "code",
   "execution_count": 9,
   "metadata": {},
   "outputs": [
    {
     "data": {
      "text/plain": [
       "-1.664538882129621392511337106953757283363676677527588068640109772397040296181692e+06"
      ]
     },
     "execution_count": 9,
     "metadata": {},
     "output_type": "execute_result"
    }
   ],
   "source": [
    "q_val([\"1n\", \"9Be\"],[\"8Be\", \"1n\", \"1n\"])"
   ]
  },
  {
   "cell_type": "markdown",
   "metadata": {},
   "source": [
    "Now I need to find the reactants and products for a given projectile, MT, and target. Once I do that, I can jus tuse the q_val function :) "
   ]
  },
  {
   "cell_type": "code",
   "execution_count": 35,
   "metadata": {},
   "outputs": [
    {
     "data": {
      "text/plain": [
       "2-element Vector{SubString{String}}:\n",
       " \"3\"\n",
       " \"2\""
      ]
     },
     "execution_count": 35,
     "metadata": {},
     "output_type": "execute_result"
    }
   ],
   "source": [
    "split(\"3,2\", \",\")"
   ]
  },
  {
   "cell_type": "code",
   "execution_count": 59,
   "metadata": {},
   "outputs": [
    {
     "data": {
      "text/plain": [
       "Dict{Any, Any} with 6 entries:\n",
       "  \"Deuteron\" => \u001b[1m14×2 DataFrame\u001b[0m…\n",
       "  \"Proton\"   => \u001b[1m15×2 DataFrame\u001b[0m…\n",
       "  \"Tritium\"  => \u001b[1m13×2 DataFrame\u001b[0m…\n",
       "  \"Neutron\"  => \u001b[1m14×2 DataFrame\u001b[0m…\n",
       "  \"Helium3\"  => \u001b[1m16×2 DataFrame\u001b[0m…\n",
       "  \"Alpha\"    => \u001b[1m18×2 DataFrame\u001b[0m…"
      ]
     },
     "execution_count": 59,
     "metadata": {},
     "output_type": "execute_result"
    }
   ],
   "source": [
    "mt_dir = parent_dir * \"ExportedData\\\\MT given projectile\\\\\"\n",
    "projectiles = [\"Alpha\", \"Deuteron\", \"Helium3\", \"Proton\", \"Neutron\", \"Tritium\"]\n",
    "projectile_MT_dict = Dict([])\n",
    "for projectile in projectiles\n",
    "    df = CSV.read(mt_dir * projectile * \"MTS.csv\", \n",
    "            DataFrame, stringtype=String)\n",
    "    new_df = DataFrame()\n",
    "    new_df[!, \"MTs\"] = [parse.(Int, split(df[row,2][2:end-1], \",\")) \n",
    "                    for row in 1:size(df)[1]]\n",
    "    new_df[!, \"Reaction\"] = [parse.(Int, split(df[row,1][2:end-1], \",\")) \n",
    "                            for row in 1:size(df)[1]]\n",
    "    projectile_MT_dict[projectile] = new_df\n",
    "end\n",
    "projectile_MT_dict"
   ]
  },
  {
   "cell_type": "markdown",
   "metadata": {},
   "source": [
    "I think I need to programmatically redo the interpretation of MTs to account for multiple sets of nuclei and free particles having the same reaction. "
   ]
  },
  {
   "cell_type": "markdown",
   "metadata": {},
   "source": [
    "In each dataframe of interpretted MTs, the first column describes the reaction in terms ($\\Delta Z$, $\\Delta A$) where $Z$ is the proton number and $A$ the mass number. The second column is a list of MTs that each denote this reaction. "
   ]
  },
  {
   "cell_type": "code",
   "execution_count": 60,
   "metadata": {},
   "outputs": [
    {
     "name": "stdout",
     "output_type": "stream",
     "text": [
      "\u001b[1m15×2 DataFrame\u001b[0m\n",
      "\u001b[1m Row \u001b[0m│\u001b[1m MTs                               \u001b[0m\u001b[1m Reaction \u001b[0m\n",
      "\u001b[1m     \u001b[0m│\u001b[90m Array…                            \u001b[0m\u001b[90m Array…   \u001b[0m\n",
      "─────┼─────────────────────────────────────────────\n",
      "   1 │ [5, 10, 33]                        [0, -3]\n",
      "   2 │ [207, 801, 849, 108, 116, 109, 1…  [-1, -3]\n",
      "   3 │ [35, 113]                          [-2, -6]\n",
      "   4 │ [700, 32, 215, 205, 11, 702, 749…  [0, -2]\n",
      "   5 │ [115, 1]                           [-1, -2]\n",
      "   6 │ [101]                              [-2, -2]\n",
      "   7 │ [699, 650, 104, 651, 28, 41, 204…  [0, -1]\n",
      "   8 │ [875, 90, 4, 91, 218, 52, 34, 18…  [1, 0]\n",
      "   9 │ [603, 111, 203, 103, 20, 217, 60…  [0, 0]\n",
      "  10 │ [114, 117, 45]                     [-2, -5]\n",
      "  11 │ [36]                               [-2, -7]\n",
      "  12 │ [30, 25, 29, 24, 22]               [-1, -4]\n",
      "  13 │ [210, 457, 460, 456, 451, 216, 2…  [1, 1]\n",
      "  14 │ [251, 253, 151, 751, 750, 27, 45…  [0, 1]\n",
      "  15 │ [112, 23]                          [-2, -4]"
     ]
    }
   ],
   "source": [
    "print(projectile_MT_dict[\"Proton\"])"
   ]
  },
  {
   "cell_type": "code",
   "execution_count": 63,
   "metadata": {},
   "outputs": [
    {
     "data": {
      "text/plain": [
       "2-element Vector{Int64}:\n",
       " -1\n",
       " -2"
      ]
     },
     "execution_count": 63,
     "metadata": {},
     "output_type": "execute_result"
    }
   ],
   "source": [
    "element_symbols = [\"H\", \"He\", \"Li\", \"Be\", \"B\", \"C\", \"N\", \"O\", \"F\", \"Ne\", \n",
    "\"Na\", \"Mg\", \"Al\", \"Si\", \"P\", \"S\", \"Cl\", \"Ar\", \"K\", \"Ca\", \"Sc\", \"Ti\", \"V\", \n",
    "\"Cr\", \"Mn\", \"Fe\", \"Co\", \"Ni\", \"Cu\", \"Zn\", \"Ga\", \"Ge\", \"As\", \"Se\", \"Br\", \n",
    "\"Kr\", \"Rb\", \"Sr\", \"Y\", \"Zr\", \"Nb\", \"Mo\", \"Tc\", \"Ru\", \"Rh\", \"Pd\", \"Ag\", \n",
    "\"Cd\", \"In\", \"Sn\", \"Sb\", \"Te\", \"I\", \"Xe\", \"Cs\", \"Ba\", \"La\", \"Ce\", \"Pr\", \n",
    "\"Nd\", \"Pm\", \"Sm\", \"Eu\", \"Gd\", \"Tb\", \"Dy\", \"Ho\", \"Er\", \"Tm\", \"Yb\", \"Lu\", \n",
    "\"Hf\", \"Ta\", \"W\", \"Re\", \"Os\", \"Ir\", \"Pt\", \"Au\", \"Hg\", \"Tl\", \"Pb\", \"Bi\", \n",
    "\"Po\", \"At\", \"Rn\", \"Fr\", \"Ra\", \"Ac\", \"Th\", \"Pa\", \"U\", \"Np\", \"Pu\", \"Am\", \n",
    "\"Cm\", \"Bk\", \"Cf\", \"Es\", \"Fm\", \"Md\", \"No\", \"Lr\", \"Rf\", \"Db\", \"Sg\", \"Bh\", \n",
    "\"Hs\", \"Mt\", \"Ds\", \"Rg\", \"Cn\", \"Nh\", \"Fl\", \"Mc\", \"Lv\", \"Ts\", \"Og\"];\n",
    "function reaction(projectile, MT)\n",
    "    df = projectile_MT_dict[projectile]\n",
    "    row = 1\n",
    "    while (row < size(df)[1] && !(MT in df[row, \"MTs\"]))\n",
    "        row += 1\n",
    "    end\n",
    "    if row == size(df)[1]\n",
    "        if !(MT in df[row, \"MTs\"])\n",
    "            return \"MT not in dataset\"\n",
    "        end\n",
    "    end\n",
    "    return df[row, \"Reaction\"]\n",
    "end\n",
    "reaction(\"Proton\", 1)"
   ]
  },
  {
   "cell_type": "code",
   "execution_count": 67,
   "metadata": {},
   "outputs": [
    {
     "data": {
      "text/plain": [
       "13-element Vector{Int64}:\n",
       " 603\n",
       " 111\n",
       " 203\n",
       " 103\n",
       "  20\n",
       " 217\n",
       " 600\n",
       "  21\n",
       "  38\n",
       " 649\n",
       " 601\n",
       " 604\n",
       " 602"
      ]
     },
     "execution_count": 67,
     "metadata": {},
     "output_type": "execute_result"
    }
   ],
   "source": [
    "function MTs(projectile, reaction)\n",
    "    df = projectile_MT_dict[projectile]\n",
    "    row = 1\n",
    "    while (row < size(df)[1] && reaction != df[row, \"Reaction\"])\n",
    "        row += 1\n",
    "    end\n",
    "    if row == size(df)[1]\n",
    "        if !(reaction == df[row, \"Reaction\"])\n",
    "            return \"Reaction not in dataset\"\n",
    "        end\n",
    "    end\n",
    "    return df[row, \"MTs\"]\n",
    "end\n",
    "MTs(\"Proton\", [0,0])"
   ]
  },
  {
   "cell_type": "code",
   "execution_count": null,
   "metadata": {},
   "outputs": [],
   "source": [
    "get_ingredients(projectile, MT)\n",
    "    "
   ]
  }
 ],
 "metadata": {
  "kernelspec": {
   "display_name": "Julia 1.7.2",
   "language": "julia",
   "name": "julia-1.7"
  },
  "language_info": {
   "file_extension": ".jl",
   "mimetype": "application/julia",
   "name": "julia",
   "version": "1.7.2"
  },
  "orig_nbformat": 4,
  "vscode": {
   "interpreter": {
    "hash": "274785dbb282d05f4e0ae2ca70ac66f1fa0484127cd60ef9f4ac2dd997977034"
   }
  }
 },
 "nbformat": 4,
 "nbformat_minor": 2
}
