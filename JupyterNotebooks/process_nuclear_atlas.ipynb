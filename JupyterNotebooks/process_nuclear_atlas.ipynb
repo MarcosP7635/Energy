{
 "cells": [
  {
   "cell_type": "code",
   "execution_count": 4,
   "metadata": {},
   "outputs": [
    {
     "data": {
      "text/plain": [
       "13862-element Vector{String}:\n",
       " \"ATLASOFNUCLEARISOMERS\"\n",
       " \"AshokKumarJain,\"\n",
       " \"1,BhoomikaMaheshwari,\"\n",
       " \"1SwatiGarg,\"\n",
       " \"1MonikaPatial,\"\n",
       " \"1andBalrajSingh\"\n",
       " \"21DepartmentofPhysics,IndianInstituteofTechnology,Roorkee-247667,India\"\n",
       " \"2DepartmentofPhysicsandAstronom\" ⋯ 20 bytes ⋯ \",Hamilton,Ontario-L8S4M1,Canada\"\n",
       " \"Wepresentanatlasofnuclearisomer\" ⋯ 17 bytes ⋯ \"erimentaldatafortheisomerswitha\"\n",
       " \"half-life10nstogetherwiththeirv\" ⋯ 24 bytes ⋯ \"citation-energy,half-life,decay\"\n",
       " \"mode(s),spin-parity,energiesand\" ⋯ 22 bytes ⋯ \"edgammatransitions,etc.TheENSDF\"\n",
       " \"databasecomplementedbytheXUNDLd\" ⋯ 21 bytes ⋯ \"velyusedinextractingtherelevant\"\n",
       " \"\"\n",
       " ⋮\n",
       " \" - PRC 92, 014325 \"\n",
       " \"2014SU11 \"\n",
       " \"S.Suchyta et al. - PRC 89, 067303 \"\n",
       " \"2015VO05 \"\n",
       " \"A.Voss et al. - PRC 91, 044307 \"\n",
       " \"2014TA29 \"\n",
       " \"J.Taprogge et al. - PLB 738, 223 \"\n",
       " \"2015WI02 \"\n",
       " \"K.Wimmer et al. - Nucl.Instrum.Methods Phys.Res. A 769, 65 \"\n",
       " \"2014TI05 \"\n",
       " \"J.Timar et al. - NDS 121, 143 \"\n",
       " \"                               \" ⋯ 76 bytes ⋯ \"                               \""
      ]
     },
     "execution_count": 4,
     "metadata": {},
     "output_type": "execute_result"
    }
   ],
   "source": [
    "index = collect(findlast(\"\\\\\", pwd()))[end]\n",
    "parent_dir = pwd()[1:index]\n",
    "atlas_path = parent_dir * \"ImportedData\\\\nuclear_atlas_full.txt\"\n",
    "full_string = readlines(open(atlas_path, \"r\"))"
   ]
  },
  {
   "cell_type": "markdown",
   "metadata": {},
   "source": [
    "The tables start on line 970"
   ]
  },
  {
   "cell_type": "code",
   "execution_count": 6,
   "metadata": {},
   "outputs": [
    {
     "data": {
      "text/plain": [
       "12893-element Vector{String}:\n",
       " \"TABLE I\"\n",
       " \"                A. K. Jain \"\n",
       " \"et al. ZNAXE(keV)\"\n",
       " \"J\"\n",
       " \"T1/2\"\n",
       " \"eV)\"\n",
       " \"Decay modeKey No.\"\n",
       " \"4812Be2251 (1)0+233.0(75)\"\n",
       " \" ns144(1)2251(1)E2E0%IT = 100\"\n",
       " \"2013JO062007SH347916N120.42 (12)05.25(6) µs120.42(12)%IT = 99.99960(4)\"\n",
       " \" = 0.00040(4)1983MI101983GA18\"\n",
       " \"\"\n",
       " \"1975PA01\"\n",
       " ⋮\n",
       " \" - PRC 92, 014325 \"\n",
       " \"2014SU11 \"\n",
       " \"S.Suchyta et al. - PRC 89, 067303 \"\n",
       " \"2015VO05 \"\n",
       " \"A.Voss et al. - PRC 91, 044307 \"\n",
       " \"2014TA29 \"\n",
       " \"J.Taprogge et al. - PLB 738, 223 \"\n",
       " \"2015WI02 \"\n",
       " \"K.Wimmer et al. - Nucl.Instrum.Methods Phys.Res. A 769, 65 \"\n",
       " \"2014TI05 \"\n",
       " \"J.Timar et al. - NDS 121, 143 \"\n",
       " \"                               \" ⋯ 76 bytes ⋯ \"                               \""
      ]
     },
     "execution_count": 6,
     "metadata": {},
     "output_type": "execute_result"
    }
   ],
   "source": [
    "unprocessed_table = full_string[970:end]"
   ]
  },
  {
   "cell_type": "markdown",
   "metadata": {},
   "source": [
    "The data is not correctly seperated. Thus I will be able to extract more data if each page is copy pasted into a text file. Using similar code that was able to automte the DPASS GUI, I can automate the copy-pasting of the text from the PDF into a text file. "
   ]
  },
  {
   "cell_type": "code",
   "execution_count": null,
   "metadata": {},
   "outputs": [],
   "source": []
  },
  {
   "cell_type": "code",
   "execution_count": null,
   "metadata": {},
   "outputs": [],
   "source": []
  }
 ],
 "metadata": {
  "kernelspec": {
   "display_name": "Julia 1.7.2",
   "language": "julia",
   "name": "julia-1.7"
  },
  "language_info": {
   "file_extension": ".jl",
   "mimetype": "application/julia",
   "name": "julia",
   "version": "1.7.2"
  },
  "orig_nbformat": 4
 },
 "nbformat": 4,
 "nbformat_minor": 2
}
