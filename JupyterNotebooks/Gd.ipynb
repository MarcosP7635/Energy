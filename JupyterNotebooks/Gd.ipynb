{
  "cells": [
    {
      "cell_type": "markdown",
      "metadata": {},
      "source": [
        "[![Open In Colab](colab-badge.svg)](https://colab.research.google.com/drive/1NCLtDQs3BLidVjB4QODTRqW0wawVA0Nz?usp=sharing)\n"
      ]
    },
    {
      "cell_type": "code",
      "execution_count": 1,
      "metadata": {
        "colab": {
          "base_uri": "https://localhost:8080/"
        },
        "id": "_tQJLZeDz4U-",
        "outputId": "f84e9ba1-7d41-4bde-a5bc-8bd44c9f3eb0"
      },
      "outputs": [
        {
          "name": "stdout",
          "output_type": "stream",
          "text": [
            "Collecting astropy\n",
            "  Downloading astropy-6.1.3-cp312-cp312-manylinux_2_17_x86_64.manylinux2014_x86_64.whl.metadata (10 kB)\n",
            "Collecting numpy>=1.23 (from astropy)\n",
            "  Downloading numpy-2.1.0-cp312-cp312-manylinux_2_17_x86_64.manylinux2014_x86_64.whl.metadata (60 kB)\n",
            "Collecting pyerfa>=2.0.1.1 (from astropy)\n",
            "  Downloading pyerfa-2.0.1.4-cp39-abi3-manylinux_2_17_x86_64.manylinux2014_x86_64.whl.metadata (5.7 kB)\n",
            "Collecting astropy-iers-data>=0.2024.7.29.0.32.7 (from astropy)\n",
            "  Downloading astropy_iers_data-0.2024.9.2.0.33.23-py3-none-any.whl.metadata (5.1 kB)\n",
            "Collecting PyYAML>=3.13 (from astropy)\n",
            "  Downloading PyYAML-6.0.2-cp312-cp312-manylinux_2_17_x86_64.manylinux2014_x86_64.whl.metadata (2.1 kB)\n",
            "Requirement already satisfied: packaging>=19.0 in /home/marcos/anaconda3/envs/energy/lib/python3.12/site-packages (from astropy) (24.1)\n",
            "Downloading astropy-6.1.3-cp312-cp312-manylinux_2_17_x86_64.manylinux2014_x86_64.whl (10.3 MB)\n",
            "\u001b[2K   \u001b[90m━━━━━━━━━━━━━━━━━━━━━━━━━━━━━━━━━━━━━━━━\u001b[0m \u001b[32m10.3/10.3 MB\u001b[0m \u001b[31m6.7 MB/s\u001b[0m eta \u001b[36m0:00:00\u001b[0m00:01\u001b[0m0:01\u001b[0m\n",
            "\u001b[?25hDownloading astropy_iers_data-0.2024.9.2.0.33.23-py3-none-any.whl (1.9 MB)\n",
            "\u001b[2K   \u001b[90m━━━━━━━━━━━━━━━━━━━━━━━━━━━━━━━━━━━━━━━━\u001b[0m \u001b[32m1.9/1.9 MB\u001b[0m \u001b[31m7.2 MB/s\u001b[0m eta \u001b[36m0:00:00\u001b[0mta \u001b[36m0:00:01\u001b[0m\n",
            "\u001b[?25hDownloading numpy-2.1.0-cp312-cp312-manylinux_2_17_x86_64.manylinux2014_x86_64.whl (16.0 MB)\n",
            "\u001b[2K   \u001b[90m━━━━━━━━━━━━━━━━━━━━━━━━━━━━━━━━━━━━━━━━\u001b[0m \u001b[32m16.0/16.0 MB\u001b[0m \u001b[31m7.5 MB/s\u001b[0m eta \u001b[36m0:00:00\u001b[0m:00:01\u001b[0m00:01\u001b[0m\n",
            "\u001b[?25hDownloading pyerfa-2.0.1.4-cp39-abi3-manylinux_2_17_x86_64.manylinux2014_x86_64.whl (738 kB)\n",
            "\u001b[2K   \u001b[90m━━━━━━━━━━━━━━━━━━━━━━━━━━━━━━━━━━━━━━━━\u001b[0m \u001b[32m738.7/738.7 kB\u001b[0m \u001b[31m6.5 MB/s\u001b[0m eta \u001b[36m0:00:00\u001b[0m\n",
            "\u001b[?25hDownloading PyYAML-6.0.2-cp312-cp312-manylinux_2_17_x86_64.manylinux2014_x86_64.whl (767 kB)\n",
            "\u001b[2K   \u001b[90m━━━━━━━━━━━━━━━━━━━━━━━━━━━━━━━━━━━━━━━━\u001b[0m \u001b[32m767.5/767.5 kB\u001b[0m \u001b[31m6.4 MB/s\u001b[0m eta \u001b[36m0:00:00\u001b[0m\n",
            "\u001b[?25hInstalling collected packages: PyYAML, numpy, astropy-iers-data, pyerfa, astropy\n",
            "Successfully installed PyYAML-6.0.2 astropy-6.1.3 astropy-iers-data-0.2024.9.2.0.33.23 numpy-2.1.0 pyerfa-2.0.1.4\n",
            "Collecting SymPy\n",
            "  Downloading sympy-1.13.2-py3-none-any.whl.metadata (12 kB)\n",
            "Collecting mpmath<1.4,>=1.1.0 (from SymPy)\n",
            "  Downloading mpmath-1.3.0-py3-none-any.whl.metadata (8.6 kB)\n",
            "Downloading sympy-1.13.2-py3-none-any.whl (6.2 MB)\n",
            "\u001b[2K   \u001b[90m━━━━━━━━━━━━━━━━━━━━━━━━━━━━━━━━━━━━━━━━\u001b[0m \u001b[32m6.2/6.2 MB\u001b[0m \u001b[31m7.4 MB/s\u001b[0m eta \u001b[36m0:00:00\u001b[0mta \u001b[36m0:00:01\u001b[0m\n",
            "\u001b[?25hDownloading mpmath-1.3.0-py3-none-any.whl (536 kB)\n",
            "\u001b[2K   \u001b[90m━━━━━━━━━━━━━━━━━━━━━━━━━━━━━━━━━━━━━━━━\u001b[0m \u001b[32m536.2/536.2 kB\u001b[0m \u001b[31m5.2 MB/s\u001b[0m eta \u001b[36m0:00:00\u001b[0m\n",
            "\u001b[?25hInstalling collected packages: mpmath, SymPy\n",
            "Successfully installed SymPy-1.13.2 mpmath-1.3.0\n"
          ]
        }
      ],
      "source": [
        "!pip install astropy\n",
        "!pip install SymPy"
      ]
    },
    {
      "cell_type": "code",
      "execution_count": 3,
      "metadata": {
        "id": "XiRYfbYkz8xf"
      },
      "outputs": [],
      "source": [
        "import sympy.printing as printing\n",
        "latp = printing.latex\n",
        "from IPython.display import Markdown as md\n",
        "from astropy import constants\n",
        "from astropy import units\n",
        "import numpy as np\n",
        "import sympy\n",
        "from sympy.abc import *\n",
        "from sympy import cos, sin, diff, symbols, simplify, solve, sqrt"
      ]
    },
    {
      "cell_type": "markdown",
      "metadata": {
        "id": "-qP1qQki2B8X"
      },
      "source": [
        "Using the discharge step as the 1.3 $\\times10^{-6}$ second half-life decay of Gd156 with an energy 2.1367 MeV from https://doi.org/10.5772/intechopen.85596"
      ]
    },
    {
      "cell_type": "code",
      "execution_count": 10,
      "metadata": {
        "colab": {
          "base_uri": "https://localhost:8080/",
          "height": 39
        },
        "id": "Rk5LZ4rT1AaK",
        "outputId": "d52ac7a2-1533-4dc6-f6b3-861897769934"
      },
      "outputs": [
        {
          "data": {
            "text/latex": [
              "$2.1367 \\; \\mathrm{MeV}$"
            ],
            "text/plain": [
              "<Quantity 2.1367 MeV>"
            ]
          },
          "execution_count": 10,
          "metadata": {},
          "output_type": "execute_result"
        }
      ],
      "source": [
        "decay_energy = 2.1367 * units.MeV\n",
        "decay_energy"
      ]
    },
    {
      "cell_type": "code",
      "execution_count": 9,
      "metadata": {
        "colab": {
          "base_uri": "https://localhost:8080/",
          "height": 39
        },
        "id": "ZdyOvcNE33ye",
        "outputId": "b7b64888-3a4d-4027-8792-b1df171fc5a0"
      },
      "outputs": [
        {
          "data": {
            "text/latex": [
              "$1.3 \\times 10^{-6} \\; \\mathrm{s}$"
            ],
            "text/plain": [
              "<Quantity 1.3e-06 s>"
            ]
          },
          "execution_count": 9,
          "metadata": {},
          "output_type": "execute_result"
        }
      ],
      "source": [
        "half_life = 1.3 * 10**-6 * units.second\n",
        "half_life"
      ]
    },
    {
      "cell_type": "code",
      "execution_count": 6,
      "metadata": {
        "colab": {
          "base_uri": "https://localhost:8080/",
          "height": 41
        },
        "id": "eItwogRj381Z",
        "outputId": "1bd21f30-c5eb-4e66-eddd-f1359b8eee45"
      },
      "outputs": [
        {
          "data": {
            "text/latex": [
              "$6.0221408 \\times 10^{23} \\; \\mathrm{\\frac{1}{mol}}$"
            ],
            "text/plain": [
              "<<class 'astropy.constants.codata2018.CODATA2018'> name=\"Avogadro's number\" value=6.02214076e+23 uncertainty=0.0 unit='1 / mol' reference='CODATA 2018'>"
            ]
          },
          "execution_count": 6,
          "metadata": {},
          "output_type": "execute_result"
        }
      ],
      "source": [
        "constants.N_A"
      ]
    },
    {
      "cell_type": "code",
      "execution_count": 11,
      "metadata": {
        "colab": {
          "base_uri": "https://localhost:8080/"
        },
        "id": "VepLYlBp3_V0",
        "outputId": "2e6bd8d9-d5ab-41a3-83b5-8f1110144563"
      },
      "outputs": [
        {
          "data": {
            "text/plain": [
              "1.6021766339999998e-13"
            ]
          },
          "execution_count": 11,
          "metadata": {},
          "output_type": "execute_result"
        }
      ],
      "source": [
        "J_per_MeV = units.MeV.to(units.J)\n",
        "J_per_MeV"
      ]
    },
    {
      "cell_type": "code",
      "execution_count": 14,
      "metadata": {
        "colab": {
          "base_uri": "https://localhost:8080/",
          "height": 41
        },
        "id": "sBR1ls4I4TM2",
        "outputId": "b31ea5b1-563a-41ac-b1b0-dc9b7b61d1b9"
      },
      "outputs": [
        {
          "data": {
            "text/latex": [
              "$156 \\; \\mathrm{\\frac{g}{mol}}$"
            ],
            "text/plain": [
              "<Quantity 156. g / mol>"
            ]
          },
          "execution_count": 14,
          "metadata": {},
          "output_type": "execute_result"
        }
      ],
      "source": [
        "g_per_mol = 156 * units.g / units.mol\n",
        "g_per_mol"
      ]
    },
    {
      "cell_type": "code",
      "execution_count": 18,
      "metadata": {
        "colab": {
          "base_uri": "https://localhost:8080/",
          "height": 43
        },
        "id": "kR5A5PFh4Dln",
        "outputId": "0b7e0272-4032-4a42-fc28-87b74dcfd8d5"
      },
      "outputs": [
        {
          "data": {
            "text/latex": [
              "$1.3215398 \\times 10^{9} \\; \\mathrm{\\frac{J}{g}}$"
            ],
            "text/plain": [
              "<Quantity 1.3215398e+09 J / g>"
            ]
          },
          "execution_count": 18,
          "metadata": {},
          "output_type": "execute_result"
        }
      ],
      "source": [
        "energy_density = (decay_energy * constants.N_A / g_per_mol).to(units.J/units.g)\n",
        "energy_density"
      ]
    },
    {
      "cell_type": "code",
      "execution_count": 23,
      "metadata": {
        "colab": {
          "base_uri": "https://localhost:8080/",
          "height": 43
        },
        "id": "ydCHo9ap43YJ",
        "outputId": "8e83757a-99f1-4365-ef40-baff5b4d38cf"
      },
      "outputs": [
        {
          "data": {
            "text/latex": [
              "$1.0165691 \\times 10^{15} \\; \\mathrm{\\frac{W}{g}}$"
            ],
            "text/plain": [
              "<Quantity 1.01656908e+15 W / g>"
            ]
          },
          "execution_count": 23,
          "metadata": {},
          "output_type": "execute_result"
        }
      ],
      "source": [
        "power_density = (energy_density / half_life).to(units.W / units.g)\n",
        "power_density"
      ]
    },
    {
      "cell_type": "code",
      "execution_count": null,
      "metadata": {
        "id": "XFipEugA5P9e"
      },
      "outputs": [],
      "source": []
    }
  ],
  "metadata": {
    "colab": {
      "provenance": []
    },
    "kernelspec": {
      "display_name": "Python 3",
      "name": "python3"
    },
    "language_info": {
      "codemirror_mode": {
        "name": "ipython",
        "version": 3
      },
      "file_extension": ".py",
      "mimetype": "text/x-python",
      "name": "python",
      "nbconvert_exporter": "python",
      "pygments_lexer": "ipython3",
      "version": "3.12.4"
    }
  },
  "nbformat": 4,
  "nbformat_minor": 0
}
