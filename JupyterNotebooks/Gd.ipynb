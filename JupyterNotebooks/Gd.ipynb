{
  "nbformat": 4,
  "nbformat_minor": 0,
  "metadata": {
    "colab": {
      "provenance": []
    },
    "kernelspec": {
      "name": "python3",
      "display_name": "Python 3"
    },
    "language_info": {
      "name": "python"
    }
  },
  "cells": [
    {
      "cell_type": "code",
      "execution_count": 2,
      "metadata": {
        "colab": {
          "base_uri": "https://localhost:8080/"
        },
        "id": "_tQJLZeDz4U-",
        "outputId": "f84e9ba1-7d41-4bde-a5bc-8bd44c9f3eb0"
      },
      "outputs": [
        {
          "output_type": "stream",
          "name": "stdout",
          "text": [
            "Requirement already satisfied: astropy in /usr/local/lib/python3.10/dist-packages (6.1.2)\n",
            "Requirement already satisfied: numpy>=1.23 in /usr/local/lib/python3.10/dist-packages (from astropy) (1.26.4)\n",
            "Requirement already satisfied: pyerfa>=2.0.1.1 in /usr/local/lib/python3.10/dist-packages (from astropy) (2.0.1.4)\n",
            "Requirement already satisfied: astropy-iers-data>=0.2024.7.1.0.34.3 in /usr/local/lib/python3.10/dist-packages (from astropy) (0.2024.8.26.0.31.57)\n",
            "Requirement already satisfied: PyYAML>=3.13 in /usr/local/lib/python3.10/dist-packages (from astropy) (6.0.2)\n",
            "Requirement already satisfied: packaging>=19.0 in /usr/local/lib/python3.10/dist-packages (from astropy) (24.1)\n",
            "Requirement already satisfied: SymPy in /usr/local/lib/python3.10/dist-packages (1.13.2)\n",
            "Requirement already satisfied: mpmath<1.4,>=1.1.0 in /usr/local/lib/python3.10/dist-packages (from SymPy) (1.3.0)\n"
          ]
        }
      ],
      "source": [
        "!pip install astropy\n",
        "!pip install SymPy"
      ]
    },
    {
      "cell_type": "code",
      "source": [
        "import sympy.printing as printing\n",
        "latp = printing.latex\n",
        "from IPython.display import Markdown as md\n",
        "from astropy import constants\n",
        "from astropy import units\n",
        "import numpy as np\n",
        "import sympy\n",
        "from sympy.abc import *\n",
        "from sympy import cos, sin, diff, symbols, simplify, solve, sqrt"
      ],
      "metadata": {
        "id": "XiRYfbYkz8xf"
      },
      "execution_count": 3,
      "outputs": []
    },
    {
      "cell_type": "markdown",
      "source": [
        "Using the discharge step as the 1.3 $\\times10^{-6}$ second half-life decay of Gd156 with an energy 2.1367 MeV from https://doi.org/10.5772/intechopen.85596"
      ],
      "metadata": {
        "id": "-qP1qQki2B8X"
      }
    },
    {
      "cell_type": "code",
      "source": [
        "decay_energy = 2.1367 * units.MeV\n",
        "decay_energy"
      ],
      "metadata": {
        "colab": {
          "base_uri": "https://localhost:8080/",
          "height": 39
        },
        "id": "Rk5LZ4rT1AaK",
        "outputId": "d52ac7a2-1533-4dc6-f6b3-861897769934"
      },
      "execution_count": 10,
      "outputs": [
        {
          "output_type": "execute_result",
          "data": {
            "text/plain": [
              "<Quantity 2.1367 MeV>"
            ],
            "text/latex": "$2.1367 \\; \\mathrm{MeV}$"
          },
          "metadata": {},
          "execution_count": 10
        }
      ]
    },
    {
      "cell_type": "code",
      "source": [
        "half_life = 1.3 * 10**-6 * units.second\n",
        "half_life"
      ],
      "metadata": {
        "colab": {
          "base_uri": "https://localhost:8080/",
          "height": 39
        },
        "id": "ZdyOvcNE33ye",
        "outputId": "b7b64888-3a4d-4027-8792-b1df171fc5a0"
      },
      "execution_count": 9,
      "outputs": [
        {
          "output_type": "execute_result",
          "data": {
            "text/plain": [
              "<Quantity 1.3e-06 s>"
            ],
            "text/latex": "$1.3 \\times 10^{-6} \\; \\mathrm{s}$"
          },
          "metadata": {},
          "execution_count": 9
        }
      ]
    },
    {
      "cell_type": "code",
      "source": [
        "constants.N_A"
      ],
      "metadata": {
        "colab": {
          "base_uri": "https://localhost:8080/",
          "height": 41
        },
        "id": "eItwogRj381Z",
        "outputId": "1bd21f30-c5eb-4e66-eddd-f1359b8eee45"
      },
      "execution_count": 6,
      "outputs": [
        {
          "output_type": "execute_result",
          "data": {
            "text/plain": [
              "<<class 'astropy.constants.codata2018.CODATA2018'> name=\"Avogadro's number\" value=6.02214076e+23 uncertainty=0.0 unit='1 / mol' reference='CODATA 2018'>"
            ],
            "text/latex": "$6.0221408 \\times 10^{23} \\; \\mathrm{\\frac{1}{mol}}$"
          },
          "metadata": {},
          "execution_count": 6
        }
      ]
    },
    {
      "cell_type": "code",
      "source": [
        "J_per_MeV = units.MeV.to(units.J)\n",
        "J_per_MeV"
      ],
      "metadata": {
        "colab": {
          "base_uri": "https://localhost:8080/"
        },
        "id": "VepLYlBp3_V0",
        "outputId": "2e6bd8d9-d5ab-41a3-83b5-8f1110144563"
      },
      "execution_count": 11,
      "outputs": [
        {
          "output_type": "execute_result",
          "data": {
            "text/plain": [
              "1.6021766339999998e-13"
            ]
          },
          "metadata": {},
          "execution_count": 11
        }
      ]
    },
    {
      "cell_type": "code",
      "source": [
        "g_per_mol = 156 * units.g / units.mol\n",
        "g_per_mol"
      ],
      "metadata": {
        "colab": {
          "base_uri": "https://localhost:8080/",
          "height": 41
        },
        "id": "sBR1ls4I4TM2",
        "outputId": "b31ea5b1-563a-41ac-b1b0-dc9b7b61d1b9"
      },
      "execution_count": 14,
      "outputs": [
        {
          "output_type": "execute_result",
          "data": {
            "text/plain": [
              "<Quantity 156. g / mol>"
            ],
            "text/latex": "$156 \\; \\mathrm{\\frac{g}{mol}}$"
          },
          "metadata": {},
          "execution_count": 14
        }
      ]
    },
    {
      "cell_type": "code",
      "source": [
        "energy_density = (decay_energy * constants.N_A / g_per_mol).to(units.J/units.g)\n",
        "energy_density"
      ],
      "metadata": {
        "colab": {
          "base_uri": "https://localhost:8080/",
          "height": 43
        },
        "id": "kR5A5PFh4Dln",
        "outputId": "0b7e0272-4032-4a42-fc28-87b74dcfd8d5"
      },
      "execution_count": 18,
      "outputs": [
        {
          "output_type": "execute_result",
          "data": {
            "text/plain": [
              "<Quantity 1.3215398e+09 J / g>"
            ],
            "text/latex": "$1.3215398 \\times 10^{9} \\; \\mathrm{\\frac{J}{g}}$"
          },
          "metadata": {},
          "execution_count": 18
        }
      ]
    },
    {
      "cell_type": "code",
      "source": [
        "power_density = (energy_density / half_life).to(units.W / units.g)\n",
        "power_density"
      ],
      "metadata": {
        "colab": {
          "base_uri": "https://localhost:8080/",
          "height": 43
        },
        "id": "ydCHo9ap43YJ",
        "outputId": "8e83757a-99f1-4365-ef40-baff5b4d38cf"
      },
      "execution_count": 23,
      "outputs": [
        {
          "output_type": "execute_result",
          "data": {
            "text/plain": [
              "<Quantity 1.01656908e+15 W / g>"
            ],
            "text/latex": "$1.0165691 \\times 10^{15} \\; \\mathrm{\\frac{W}{g}}$"
          },
          "metadata": {},
          "execution_count": 23
        }
      ]
    },
    {
      "cell_type": "code",
      "source": [],
      "metadata": {
        "id": "XFipEugA5P9e"
      },
      "execution_count": null,
      "outputs": []
    }
  ]
}