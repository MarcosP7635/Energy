{
  "cells": [
    {
      "cell_type": "markdown",
      "metadata": {},
      "source": [
        "[![Open In Colab](colab-badge.svg)](https://colab.research.google.com/drive/1NCLtDQs3BLidVjB4QODTRqW0wawVA0Nz?usp=sharing)\n"
      ]
    },
    {
      "cell_type": "code",
      "execution_count": 2,
      "metadata": {
        "colab": {
          "base_uri": "https://localhost:8080/"
        },
        "id": "_tQJLZeDz4U-",
        "outputId": "f84e9ba1-7d41-4bde-a5bc-8bd44c9f3eb0"
      },
      "outputs": [
        {
          "name": "stdout",
          "output_type": "stream",
          "text": [
            "Requirement already satisfied: astropy in /home/marcos/anaconda3/envs/energy/lib/python3.12/site-packages (6.1.3)\n",
            "Requirement already satisfied: numpy>=1.23 in /home/marcos/anaconda3/envs/energy/lib/python3.12/site-packages (from astropy) (2.1.0)\n",
            "Requirement already satisfied: pyerfa>=2.0.1.1 in /home/marcos/anaconda3/envs/energy/lib/python3.12/site-packages (from astropy) (2.0.1.4)\n",
            "Requirement already satisfied: astropy-iers-data>=0.2024.7.29.0.32.7 in /home/marcos/anaconda3/envs/energy/lib/python3.12/site-packages (from astropy) (0.2024.9.2.0.33.23)\n",
            "Requirement already satisfied: PyYAML>=3.13 in /home/marcos/anaconda3/envs/energy/lib/python3.12/site-packages (from astropy) (6.0.2)\n",
            "Requirement already satisfied: packaging>=19.0 in /home/marcos/anaconda3/envs/energy/lib/python3.12/site-packages (from astropy) (24.1)\n",
            "Requirement already satisfied: SymPy in /home/marcos/anaconda3/envs/energy/lib/python3.12/site-packages (1.13.2)\n",
            "Requirement already satisfied: mpmath<1.4,>=1.1.0 in /home/marcos/anaconda3/envs/energy/lib/python3.12/site-packages (from SymPy) (1.3.0)\n"
          ]
        }
      ],
      "source": [
        "!pip install astropy\n",
        "!pip install SymPy"
      ]
    },
    {
      "cell_type": "code",
      "execution_count": 3,
      "metadata": {
        "id": "XiRYfbYkz8xf"
      },
      "outputs": [],
      "source": [
        "import sympy.printing as printing\n",
        "latp = printing.latex\n",
        "from IPython.display import Markdown as md\n",
        "from astropy import constants\n",
        "from astropy import units\n",
        "import numpy as np\n",
        "import sympy\n",
        "from sympy.abc import *\n",
        "from sympy import cos, sin, diff, symbols, simplify, solve, sqrt"
      ]
    },
    {
      "cell_type": "markdown",
      "metadata": {
        "id": "-qP1qQki2B8X"
      },
      "source": [
        "Using the discharge step as the 1.3 $\\times10^{-6}$ second half-life decay of Gd156 with an energy 2.1367 MeV from https://doi.org/10.5772/intechopen.85596"
      ]
    },
    {
      "cell_type": "code",
      "execution_count": 4,
      "metadata": {
        "colab": {
          "base_uri": "https://localhost:8080/",
          "height": 39
        },
        "id": "Rk5LZ4rT1AaK",
        "outputId": "d52ac7a2-1533-4dc6-f6b3-861897769934"
      },
      "outputs": [
        {
          "data": {
            "text/latex": [
              "$2.1367 \\; \\mathrm{MeV}$"
            ],
            "text/plain": [
              "<Quantity 2.1367 MeV>"
            ]
          },
          "execution_count": 4,
          "metadata": {},
          "output_type": "execute_result"
        }
      ],
      "source": [
        "decay_energy = 2.1367 * units.MeV\n",
        "decay_energy"
      ]
    },
    {
      "cell_type": "code",
      "execution_count": 5,
      "metadata": {
        "colab": {
          "base_uri": "https://localhost:8080/",
          "height": 39
        },
        "id": "ZdyOvcNE33ye",
        "outputId": "b7b64888-3a4d-4027-8792-b1df171fc5a0"
      },
      "outputs": [
        {
          "data": {
            "text/latex": [
              "$1.3 \\times 10^{-6} \\; \\mathrm{s}$"
            ],
            "text/plain": [
              "<Quantity 1.3e-06 s>"
            ]
          },
          "execution_count": 5,
          "metadata": {},
          "output_type": "execute_result"
        }
      ],
      "source": [
        "half_life = 1.3 * 10**-6 * units.second\n",
        "half_life"
      ]
    },
    {
      "cell_type": "code",
      "execution_count": 6,
      "metadata": {
        "colab": {
          "base_uri": "https://localhost:8080/",
          "height": 41
        },
        "id": "eItwogRj381Z",
        "outputId": "1bd21f30-c5eb-4e66-eddd-f1359b8eee45"
      },
      "outputs": [
        {
          "data": {
            "text/latex": [
              "$6.0221408 \\times 10^{23} \\; \\mathrm{\\frac{1}{mol}}$"
            ],
            "text/plain": [
              "<<class 'astropy.constants.codata2018.CODATA2018'> name=\"Avogadro's number\" value=6.02214076e+23 uncertainty=0.0 unit='1 / mol' reference='CODATA 2018'>"
            ]
          },
          "execution_count": 6,
          "metadata": {},
          "output_type": "execute_result"
        }
      ],
      "source": [
        "constants.N_A"
      ]
    },
    {
      "cell_type": "code",
      "execution_count": 7,
      "metadata": {
        "colab": {
          "base_uri": "https://localhost:8080/"
        },
        "id": "VepLYlBp3_V0",
        "outputId": "2e6bd8d9-d5ab-41a3-83b5-8f1110144563"
      },
      "outputs": [
        {
          "data": {
            "text/plain": [
              "1.6021766339999998e-13"
            ]
          },
          "execution_count": 7,
          "metadata": {},
          "output_type": "execute_result"
        }
      ],
      "source": [
        "J_per_MeV = units.MeV.to(units.J)\n",
        "J_per_MeV"
      ]
    },
    {
      "cell_type": "code",
      "execution_count": 8,
      "metadata": {
        "colab": {
          "base_uri": "https://localhost:8080/",
          "height": 41
        },
        "id": "sBR1ls4I4TM2",
        "outputId": "b31ea5b1-563a-41ac-b1b0-dc9b7b61d1b9"
      },
      "outputs": [
        {
          "data": {
            "text/latex": [
              "$156 \\; \\mathrm{\\frac{g}{mol}}$"
            ],
            "text/plain": [
              "<Quantity 156. g / mol>"
            ]
          },
          "execution_count": 8,
          "metadata": {},
          "output_type": "execute_result"
        }
      ],
      "source": [
        "g_per_mol = 156 * units.g / units.mol\n",
        "g_per_mol"
      ]
    },
    {
      "cell_type": "code",
      "execution_count": 9,
      "metadata": {
        "colab": {
          "base_uri": "https://localhost:8080/",
          "height": 43
        },
        "id": "kR5A5PFh4Dln",
        "outputId": "0b7e0272-4032-4a42-fc28-87b74dcfd8d5"
      },
      "outputs": [
        {
          "data": {
            "text/latex": [
              "$1.3215398 \\times 10^{9} \\; \\mathrm{\\frac{J}{g}}$"
            ],
            "text/plain": [
              "<Quantity 1.3215398e+09 J / g>"
            ]
          },
          "execution_count": 9,
          "metadata": {},
          "output_type": "execute_result"
        }
      ],
      "source": [
        "energy_density = (decay_energy * constants.N_A / g_per_mol).to(units.J/units.g)\n",
        "energy_density"
      ]
    },
    {
      "cell_type": "code",
      "execution_count": 10,
      "metadata": {
        "colab": {
          "base_uri": "https://localhost:8080/",
          "height": 43
        },
        "id": "ydCHo9ap43YJ",
        "outputId": "8e83757a-99f1-4365-ef40-baff5b4d38cf"
      },
      "outputs": [
        {
          "data": {
            "text/latex": [
              "$1.0165691 \\times 10^{15} \\; \\mathrm{\\frac{W}{g}}$"
            ],
            "text/plain": [
              "<Quantity 1.01656908e+15 W / g>"
            ]
          },
          "execution_count": 10,
          "metadata": {},
          "output_type": "execute_result"
        }
      ],
      "source": [
        "power_density = (energy_density / half_life).to(units.W / units.g)\n",
        "power_density"
      ]
    },
    {
      "cell_type": "markdown",
      "metadata": {},
      "source": [
        "Now for a quick more hardcoded check"
      ]
    },
    {
      "cell_type": "code",
      "execution_count": 1,
      "metadata": {
        "id": "XFipEugA5P9e"
      },
      "outputs": [
        {
          "ename": "NameError",
          "evalue": "name 'units' is not defined",
          "output_type": "error",
          "traceback": [
            "\u001b[0;31m---------------------------------------------------------------------------\u001b[0m",
            "\u001b[0;31mNameError\u001b[0m                                 Traceback (most recent call last)",
            "Cell \u001b[0;32mIn[1], line 1\u001b[0m\n\u001b[0;32m----> 1\u001b[0m (\u001b[38;5;241m2.1367\u001b[39m \u001b[38;5;241m*\u001b[39m \u001b[43munits\u001b[49m\u001b[38;5;241m.\u001b[39mMeV \u001b[38;5;241m*\u001b[39m constants\u001b[38;5;241m.\u001b[39mN_A \u001b[38;5;241m*\u001b[39m \u001b[38;5;241m156\u001b[39m \u001b[38;5;241m*\u001b[39m (units\u001b[38;5;241m.\u001b[39mg\u001b[38;5;241m/\u001b[39munits\u001b[38;5;241m.\u001b[39mmol) \u001b[38;5;241m/\u001b[39m\n\u001b[1;32m      2\u001b[0m  (\u001b[38;5;241m1.3\u001b[39m \u001b[38;5;241m*\u001b[39m \u001b[38;5;241m10\u001b[39m\u001b[38;5;241m*\u001b[39m\u001b[38;5;241m*\u001b[39m\u001b[38;5;241m-\u001b[39m\u001b[38;5;241m6\u001b[39m \u001b[38;5;241m*\u001b[39m units\u001b[38;5;241m.\u001b[39msecond))\u001b[38;5;241m.\u001b[39mto(units\u001b[38;5;241m.\u001b[39mW \u001b[38;5;241m/\u001b[39m units\u001b[38;5;241m.\u001b[39mg)\n",
            "\u001b[0;31mNameError\u001b[0m: name 'units' is not defined"
          ]
        }
      ],
      "source": [
        "(2.1367 * units.MeV * constants.N_A /\n",
        " (156 * (units.g / units.mol) * 1.3 * 10**-6 * units.second)\n",
        " ).to(units.W / units.g)"
      ]
    },
    {
      "cell_type": "code",
      "execution_count": null,
      "metadata": {},
      "outputs": [],
      "source": []
    }
  ],
  "metadata": {
    "colab": {
      "provenance": []
    },
    "kernelspec": {
      "display_name": "Python 3",
      "name": "python3"
    },
    "language_info": {
      "codemirror_mode": {
        "name": "ipython",
        "version": 3
      },
      "file_extension": ".py",
      "mimetype": "text/x-python",
      "name": "python",
      "nbconvert_exporter": "python",
      "pygments_lexer": "ipython3",
      "version": "3.12.4"
    }
  },
  "nbformat": 4,
  "nbformat_minor": 0
}
