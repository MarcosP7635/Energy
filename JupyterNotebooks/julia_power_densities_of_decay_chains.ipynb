{
 "cells": [
  {
   "cell_type": "markdown",
   "metadata": {},
   "source": [
    "The purpose of this notebook is to calculate the power produced by a decay chain after the production of a given nuclide. Specifically, the power will be calculated for $t = 10^{n}$ seconds where $n \\in \\mathbb{Z}, -10 \\le n \\le 10$"
   ]
  },
  {
   "cell_type": "code",
   "execution_count": 1,
   "metadata": {},
   "outputs": [
    {
     "data": {
      "application/vnd.webio.node+json": {
       "children": [],
       "instanceArgs": {
        "namespace": "html",
        "tag": "div"
       },
       "nodeType": "DOM",
       "props": {},
       "type": "node"
      },
      "text/html": [
       "<div style=\"padding: 1em; background-color: #f8d6da; border: 1px solid #f5c6cb; font-weight: bold;\">\n",
       "<p>The WebIO Jupyter extension was not detected. See the\n",
       "<a href=\"https://juliagizmos.github.io/WebIO.jl/latest/providers/ijulia/\" target=\"_blank\">\n",
       "    WebIO Jupyter integration documentation\n",
       "</a>\n",
       "for more information.\n",
       "</div>\n"
      ],
      "text/plain": [
       "WebIO._IJuliaInit()"
      ]
     },
     "metadata": {},
     "output_type": "display_data"
    },
    {
     "data": {
      "text/plain": [
       "\"C:\\\\Users\\\\engin\\\\Documents\\\\GitHub\\\\Energy\\\\\""
      ]
     },
     "execution_count": 1,
     "metadata": {},
     "output_type": "execute_result"
    }
   ],
   "source": [
    "using Unitful #https://painterqubits.github.io/Unitful.jl/stable/\n",
    "#quantity * @u_str(\"unit abbreviation\") \n",
    "using Symbolics #https://symbolics.juliasymbolics.org/dev/\n",
    "#cite https://doi.org/10.48550/arXiv.2105.03949\n",
    "using Latexify\n",
    "using Test\n",
    "#1 * @u_str(\"mA\") is 1 milliamp\n",
    "using CSV, DataFrames\n",
    "#using Plots\n",
    "using PlotlyJS\n",
    "using Printf\n",
    "using SymPy #https://docs.juliahub.com/SymPy/ \n",
    "using PDFIO\n",
    "using Unzip\n",
    "using Interpolations\n",
    "using Downloads\n",
    "#plotlyjs()\n",
    "data_dir = (\"C:\\\\Cross-Section-Data\\\\\")\n",
    "cross_section_dir = data_dir\n",
    "parent_dir = \"C:\\\\Users\\\\engin\\\\Documents\\\\GitHub\\\\Energy\\\\\""
   ]
  },
  {
   "cell_type": "code",
   "execution_count": 3,
   "metadata": {},
   "outputs": [
    {
     "data": {
      "text/plain": [
       "3192-element Vector{DataFrame}:\n",
       " \u001b[1m4×4 DataFrame\u001b[0m\n",
       "\u001b[1m Row \u001b[0m│\u001b[1m Parent  \u001b[0m\u001b[1m e-Folding Time (seconds) \u001b[0m\u001b[1m Average beta-decay energy \u001b[0m\u001b[1m Daughter \u001b[0m\n",
       "\u001b[1m     \u001b[0m│\u001b[90m String7 \u001b[0m\u001b[90m Float64                  \u001b[0m\u001b[90m Float64                   \u001b[0m\u001b[90m String7  \u001b[0m\n",
       "─────┼────────────────────────────────────────────────────────────────────────\n",
       "   1 │ 100Ag                   173.989                         5.69  100Cd\n",
       "   2 │ 100Cd                    70.8363                        5.69  100In\n",
       "   3 │ 100In                     8.10795                       5.69  100Sn\n",
       "   4 │ 100Sn                     1.70238                       5.69  100Sb\n",
       " \u001b[1m3×4 DataFrame\u001b[0m\n",
       "\u001b[1m Row \u001b[0m│\u001b[1m Parent  \u001b[0m\u001b[1m e-Folding Time (seconds) \u001b[0m\u001b[1m Average beta-decay energy \u001b[0m\u001b[1m Daughter \u001b[0m\n",
       "\u001b[1m     \u001b[0m│\u001b[90m String7 \u001b[0m\u001b[90m Float64                  \u001b[0m\u001b[90m Float64                   \u001b[0m\u001b[90m String7  \u001b[0m\n",
       "─────┼────────────────────────────────────────────────────────────────────────\n",
       "   1 │ 100Cd                    70.8363                        5.69  100In\n",
       "   2 │ 100In                     8.10795                       5.69  100Sn\n",
       "   3 │ 100Sn                     1.70238                       5.69  100Sb\n",
       " \u001b[1m2×4 DataFrame\u001b[0m\n",
       "\u001b[1m Row \u001b[0m│\u001b[1m Parent  \u001b[0m\u001b[1m e-Folding Time (seconds) \u001b[0m\u001b[1m Average beta-decay energy \u001b[0m\u001b[1m Daughter \u001b[0m\n",
       "\u001b[1m     \u001b[0m│\u001b[90m String7 \u001b[0m\u001b[90m Float64                  \u001b[0m\u001b[90m Float64                   \u001b[0m\u001b[90m String7  \u001b[0m\n",
       "─────┼────────────────────────────────────────────────────────────────────────\n",
       "   1 │ 100In                     8.10795                       5.69  100Sn\n",
       "   2 │ 100Sn                     1.70238                       5.69  100Sb\n",
       " \u001b[1m8×4 DataFrame\u001b[0m\n",
       "\u001b[1m Row \u001b[0m│\u001b[1m Parent  \u001b[0m\u001b[1m e-Folding Time (seconds) \u001b[0m\u001b[1m Average beta-decay energy \u001b[0m\u001b[1m Daughter \u001b[0m\n",
       "\u001b[1m     \u001b[0m│\u001b[90m String7 \u001b[0m\u001b[90m Float64                  \u001b[0m\u001b[90m Float64                   \u001b[0m\u001b[90m String7  \u001b[0m\n",
       "─────┼────────────────────────────────────────────────────────────────────────\n",
       "   1 │ 100Kr                  0.0173123                        5.69  100Rb\n",
       "   2 │ 100Rb                  0.0740103                        5.69  100Sr\n",
       "   3 │ 100Sr                  0.291569                         5.69  100Y\n",
       "   4 │ 100Y                   1.35613                          5.69  100Zr\n",
       "   5 │ 100Zr                 10.2431                           5.69  100Nb\n",
       "   6 │ 100Nb                  2.16404                          5.69  100Mo\n",
       "   7 │ 100Mo                  3.21883e26                       5.69  100Tc\n",
       "   8 │ 100Tc                 22.3041                           5.69  100Ru\n",
       " \u001b[1m2×4 DataFrame\u001b[0m\n",
       "\u001b[1m Row \u001b[0m│\u001b[1m Parent  \u001b[0m\u001b[1m e-Folding Time (seconds) \u001b[0m\u001b[1m Average beta-decay energy \u001b[0m\u001b[1m Daughter \u001b[0m\n",
       "\u001b[1m     \u001b[0m│\u001b[90m String7 \u001b[0m\u001b[90m Float64                  \u001b[0m\u001b[90m Float64                   \u001b[0m\u001b[90m String7  \u001b[0m\n",
       "─────┼────────────────────────────────────────────────────────────────────────\n",
       "   1 │ 100Mo                  3.21883e26                       5.69  100Tc\n",
       "   2 │ 100Tc                 22.3041                           5.69  100Ru\n",
       " \u001b[1m3×4 DataFrame\u001b[0m\n",
       "\u001b[1m Row \u001b[0m│\u001b[1m Parent  \u001b[0m\u001b[1m e-Folding Time (seconds) \u001b[0m\u001b[1m Average beta-decay energy \u001b[0m\u001b[1m Daughter \u001b[0m\n",
       "\u001b[1m     \u001b[0m│\u001b[90m String7 \u001b[0m\u001b[90m Float64                  \u001b[0m\u001b[90m Float64                   \u001b[0m\u001b[90m String7  \u001b[0m\n",
       "─────┼────────────────────────────────────────────────────────────────────────\n",
       "   1 │ 100Nb                  2.16404                          5.69  100Mo\n",
       "   2 │ 100Mo                  3.21883e26                       5.69  100Tc\n",
       "   3 │ 100Tc                 22.3041                           5.69  100Ru\n",
       " \u001b[1m5×4 DataFrame\u001b[0m\n",
       "\u001b[1m Row \u001b[0m│\u001b[1m Parent  \u001b[0m\u001b[1m e-Folding Time (seconds) \u001b[0m\u001b[1m Average beta-decay energy \u001b[0m\u001b[1m Daughter \u001b[0m\n",
       "\u001b[1m     \u001b[0m│\u001b[90m String7 \u001b[0m\u001b[90m Float64                  \u001b[0m\u001b[90m Float64                   \u001b[0m\u001b[90m String7  \u001b[0m\n",
       "─────┼────────────────────────────────────────────────────────────────────────\n",
       "   1 │ 100Pd                   4.52475e5                       2.39  100Ag\n",
       "   2 │ 100Ag                 173.989                           5.69  100Cd\n",
       "   3 │ 100Cd                  70.8363                          5.69  100In\n",
       "   4 │ 100In                   8.10795                         5.69  100Sn\n",
       "   5 │ 100Sn                   1.70238                         5.69  100Sb\n",
       " \u001b[1m7×4 DataFrame\u001b[0m\n",
       "\u001b[1m Row \u001b[0m│\u001b[1m Parent  \u001b[0m\u001b[1m e-Folding Time (seconds) \u001b[0m\u001b[1m Average beta-decay energy \u001b[0m\u001b[1m Daughter \u001b[0m\n",
       "\u001b[1m     \u001b[0m│\u001b[90m String7 \u001b[0m\u001b[90m Float64                  \u001b[0m\u001b[90m Float64                   \u001b[0m\u001b[90m String7  \u001b[0m\n",
       "─────┼────────────────────────────────────────────────────────────────────────\n",
       "   1 │ 100Rb                  0.0740103                        5.69  100Sr\n",
       "   2 │ 100Sr                  0.291569                         5.69  100Y\n",
       "   3 │ 100Y                   1.35613                          5.69  100Zr\n",
       "   4 │ 100Zr                 10.2431                           5.69  100Nb\n",
       "   5 │ 100Nb                  2.16404                          5.69  100Mo\n",
       "   6 │ 100Mo                  3.21883e26                       5.69  100Tc\n",
       "   7 │ 100Tc                 22.3041                           5.69  100Ru\n",
       " \u001b[1m6×4 DataFrame\u001b[0m\n",
       "\u001b[1m Row \u001b[0m│\u001b[1m Parent  \u001b[0m\u001b[1m e-Folding Time (seconds) \u001b[0m\u001b[1m Average beta-decay energy \u001b[0m\u001b[1m Daughter \u001b[0m\n",
       "\u001b[1m     \u001b[0m│\u001b[90m String7 \u001b[0m\u001b[90m Float64                  \u001b[0m\u001b[90m Float64                   \u001b[0m\u001b[90m String7  \u001b[0m\n",
       "─────┼────────────────────────────────────────────────────────────────────────\n",
       "   1 │ 100Rh              108029.0                           324.0   100Pd\n",
       "   2 │ 100Pd                   4.52475e5                       2.39  100Ag\n",
       "   3 │ 100Ag                 173.989                           5.69  100Cd\n",
       "   4 │ 100Cd                  70.8363                          5.69  100In\n",
       "   5 │ 100In                   8.10795                         5.69  100Sn\n",
       "   6 │ 100Sn                   1.70238                         5.69  100Sb\n",
       " \u001b[1m1×4 DataFrame\u001b[0m\n",
       "\u001b[1m Row \u001b[0m│\u001b[1m Parent  \u001b[0m\u001b[1m e-Folding Time (seconds) \u001b[0m\u001b[1m Average beta-decay energy \u001b[0m\u001b[1m Daughter \u001b[0m\n",
       "\u001b[1m     \u001b[0m│\u001b[90m String7 \u001b[0m\u001b[90m Float64                  \u001b[0m\u001b[90m Float64                   \u001b[0m\u001b[90m String7  \u001b[0m\n",
       "─────┼────────────────────────────────────────────────────────────────────────\n",
       "   1 │ 100Sn                     1.70238                       5.69  100Sb\n",
       " \u001b[1m6×4 DataFrame\u001b[0m\n",
       "\u001b[1m Row \u001b[0m│\u001b[1m Parent  \u001b[0m\u001b[1m e-Folding Time (seconds) \u001b[0m\u001b[1m Average beta-decay energy \u001b[0m\u001b[1m Daughter \u001b[0m\n",
       "\u001b[1m     \u001b[0m│\u001b[90m String7 \u001b[0m\u001b[90m Float64                  \u001b[0m\u001b[90m Float64                   \u001b[0m\u001b[90m String7  \u001b[0m\n",
       "─────┼────────────────────────────────────────────────────────────────────────\n",
       "   1 │ 100Sr                  0.291569                         5.69  100Y\n",
       "   2 │ 100Y                   1.35613                          5.69  100Zr\n",
       "   3 │ 100Zr                 10.2431                           5.69  100Nb\n",
       "   4 │ 100Nb                  2.16404                          5.69  100Mo\n",
       "   5 │ 100Mo                  3.21883e26                       5.69  100Tc\n",
       "   6 │ 100Tc                 22.3041                           5.69  100Ru\n",
       " \u001b[1m1×4 DataFrame\u001b[0m\n",
       "\u001b[1m Row \u001b[0m│\u001b[1m Parent  \u001b[0m\u001b[1m e-Folding Time (seconds) \u001b[0m\u001b[1m Average beta-decay energy \u001b[0m\u001b[1m Daughter \u001b[0m\n",
       "\u001b[1m     \u001b[0m│\u001b[90m String7 \u001b[0m\u001b[90m Float64                  \u001b[0m\u001b[90m Float64                   \u001b[0m\u001b[90m String7  \u001b[0m\n",
       "─────┼────────────────────────────────────────────────────────────────────────\n",
       "   1 │ 100Tc                     22.3041                       5.69  100Ru\n",
       " \u001b[1m5×4 DataFrame\u001b[0m\n",
       "\u001b[1m Row \u001b[0m│\u001b[1m Parent  \u001b[0m\u001b[1m e-Folding Time (seconds) \u001b[0m\u001b[1m Average beta-decay energy \u001b[0m\u001b[1m Daughter \u001b[0m\n",
       "\u001b[1m     \u001b[0m│\u001b[90m String7 \u001b[0m\u001b[90m Float64                  \u001b[0m\u001b[90m Float64                   \u001b[0m\u001b[90m String7  \u001b[0m\n",
       "─────┼────────────────────────────────────────────────────────────────────────\n",
       "   1 │ 100Y                   1.35613                          5.69  100Zr\n",
       "   2 │ 100Zr                 10.2431                           5.69  100Nb\n",
       "   3 │ 100Nb                  2.16404                          5.69  100Mo\n",
       "   4 │ 100Mo                  3.21883e26                       5.69  100Tc\n",
       "   5 │ 100Tc                 22.3041                           5.69  100Ru\n",
       " ⋮\n",
       " \u001b[1m5×4 DataFrame\u001b[0m\n",
       "\u001b[1m Row \u001b[0m│\u001b[1m Parent  \u001b[0m\u001b[1m e-Folding Time (seconds) \u001b[0m\u001b[1m Average beta-decay energy \u001b[0m\u001b[1m Daughter \u001b[0m\n",
       "\u001b[1m     \u001b[0m│\u001b[90m String7 \u001b[0m\u001b[90m Float64                  \u001b[0m\u001b[90m Float64                   \u001b[0m\u001b[90m String7  \u001b[0m\n",
       "─────┼────────────────────────────────────────────────────────────────────────\n",
       "   1 │ 99Pd                 1852.42                            5.69  99Ag\n",
       "   2 │ 99Ag                  179.183                           5.69  99Cd\n",
       "   3 │ 99Cd                   24.5258                          5.69  99In\n",
       "   4 │ 99In                    4.48678                         5.69  99Sn\n",
       "   5 │ 99Sn                    0.0346247                       5.69  99Sb\n",
       " \u001b[1m7×4 DataFrame\u001b[0m\n",
       "\u001b[1m Row \u001b[0m│\u001b[1m Parent  \u001b[0m\u001b[1m e-Folding Time (seconds) \u001b[0m\u001b[1m Average beta-decay energy \u001b[0m\u001b[1m Daughter \u001b[0m\n",
       "\u001b[1m     \u001b[0m│\u001b[90m String7 \u001b[0m\u001b[90m Float64                  \u001b[0m\u001b[90m Float64                   \u001b[0m\u001b[90m String7  \u001b[0m\n",
       "─────┼────────────────────────────────────────────────────────────────────────\n",
       "   1 │ 99Rb                   0.0779055                      5.69    99Sr\n",
       "   2 │ 99Sr                   0.388374                       5.69    99Y\n",
       "   3 │ 99Y                    2.14096                        5.69    99Zr\n",
       "   4 │ 99Zr                   3.02966                        5.69    99Nb\n",
       "   5 │ 99Nb                  21.6404                         5.69    99Mo\n",
       "   6 │ 99Mo                   3.42431e5                     59.9     99Tc\n",
       "   7 │ 99Tc                   9.61096e12                     1.6286  99Ru\n",
       " \u001b[1m6×4 DataFrame\u001b[0m\n",
       "\u001b[1m Row \u001b[0m│\u001b[1m Parent  \u001b[0m\u001b[1m e-Folding Time (seconds) \u001b[0m\u001b[1m Average beta-decay energy \u001b[0m\u001b[1m Daughter \u001b[0m\n",
       "\u001b[1m     \u001b[0m│\u001b[90m String7 \u001b[0m\u001b[90m Float64                  \u001b[0m\u001b[90m Float64                   \u001b[0m\u001b[90m String7  \u001b[0m\n",
       "─────┼────────────────────────────────────────────────────────────────────────\n",
       "   1 │ 99Rh                    2.00685e6                     208.0   99Pd\n",
       "   2 │ 99Pd                 1852.42                            5.69  99Ag\n",
       "   3 │ 99Ag                  179.183                           5.69  99Cd\n",
       "   4 │ 99Cd                   24.5258                          5.69  99In\n",
       "   5 │ 99In                    4.48678                         5.69  99Sn\n",
       "   6 │ 99Sn                    0.0346247                       5.69  99Sb\n",
       " \u001b[1m1×4 DataFrame\u001b[0m\n",
       "\u001b[1m Row \u001b[0m│\u001b[1m Parent  \u001b[0m\u001b[1m e-Folding Time (seconds) \u001b[0m\u001b[1m Average beta-decay energy \u001b[0m\u001b[1m Daughter \u001b[0m\n",
       "\u001b[1m     \u001b[0m│\u001b[90m String7 \u001b[0m\u001b[90m Float64                  \u001b[0m\u001b[90m Float64                   \u001b[0m\u001b[90m String7  \u001b[0m\n",
       "─────┼────────────────────────────────────────────────────────────────────────\n",
       "   1 │ 99Sn                    0.0346247                       5.69  99Sb\n",
       " \u001b[1m6×4 DataFrame\u001b[0m\n",
       "\u001b[1m Row \u001b[0m│\u001b[1m Parent  \u001b[0m\u001b[1m e-Folding Time (seconds) \u001b[0m\u001b[1m Average beta-decay energy \u001b[0m\u001b[1m Daughter \u001b[0m\n",
       "\u001b[1m     \u001b[0m│\u001b[90m String7 \u001b[0m\u001b[90m Float64                  \u001b[0m\u001b[90m Float64                   \u001b[0m\u001b[90m String7  \u001b[0m\n",
       "─────┼────────────────────────────────────────────────────────────────────────\n",
       "   1 │ 99Sr                   0.388374                       5.69    99Y\n",
       "   2 │ 99Y                    2.14096                        5.69    99Zr\n",
       "   3 │ 99Zr                   3.02966                        5.69    99Nb\n",
       "   4 │ 99Nb                  21.6404                         5.69    99Mo\n",
       "   5 │ 99Mo                   3.42431e5                     59.9     99Tc\n",
       "   6 │ 99Tc                   9.61096e12                     1.6286  99Ru\n",
       " \u001b[1m1×4 DataFrame\u001b[0m\n",
       "\u001b[1m Row \u001b[0m│\u001b[1m Parent  \u001b[0m\u001b[1m e-Folding Time (seconds) \u001b[0m\u001b[1m Average beta-decay energy \u001b[0m\u001b[1m Daughter \u001b[0m\n",
       "\u001b[1m     \u001b[0m│\u001b[90m String7 \u001b[0m\u001b[90m Float64                  \u001b[0m\u001b[90m Float64                   \u001b[0m\u001b[90m String7  \u001b[0m\n",
       "─────┼────────────────────────────────────────────────────────────────────────\n",
       "   1 │ 99Tc                   9.61096e12                     1.6286  99Ru\n",
       " \u001b[1m5×4 DataFrame\u001b[0m\n",
       "\u001b[1m Row \u001b[0m│\u001b[1m Parent  \u001b[0m\u001b[1m e-Folding Time (seconds) \u001b[0m\u001b[1m Average beta-decay energy \u001b[0m\u001b[1m Daughter \u001b[0m\n",
       "\u001b[1m     \u001b[0m│\u001b[90m String7 \u001b[0m\u001b[90m Float64                  \u001b[0m\u001b[90m Float64                   \u001b[0m\u001b[90m String7  \u001b[0m\n",
       "─────┼────────────────────────────────────────────────────────────────────────\n",
       "   1 │ 99Y                    2.14096                        5.69    99Zr\n",
       "   2 │ 99Zr                   3.02966                        5.69    99Nb\n",
       "   3 │ 99Nb                  21.6404                         5.69    99Mo\n",
       "   4 │ 99Mo                   3.42431e5                     59.9     99Tc\n",
       "   5 │ 99Tc                   9.61096e12                     1.6286  99Ru\n",
       " \u001b[1m4×4 DataFrame\u001b[0m\n",
       "\u001b[1m Row \u001b[0m│\u001b[1m Parent  \u001b[0m\u001b[1m e-Folding Time (seconds) \u001b[0m\u001b[1m Average beta-decay energy \u001b[0m\u001b[1m Daughter \u001b[0m\n",
       "\u001b[1m     \u001b[0m│\u001b[90m String7 \u001b[0m\u001b[90m Float64                  \u001b[0m\u001b[90m Float64                   \u001b[0m\u001b[90m String7  \u001b[0m\n",
       "─────┼────────────────────────────────────────────────────────────────────────\n",
       "   1 │ 99Zr                   3.02966                        5.69    99Nb\n",
       "   2 │ 99Nb                  21.6404                         5.69    99Mo\n",
       "   3 │ 99Mo                   3.42431e5                     59.9     99Tc\n",
       "   4 │ 99Tc                   9.61096e12                     1.6286  99Ru\n",
       " \u001b[1m2×4 DataFrame\u001b[0m\n",
       "\u001b[1m Row \u001b[0m│\u001b[1m Parent  \u001b[0m\u001b[1m e-Folding Time (seconds) \u001b[0m\u001b[1m Average beta-decay energy \u001b[0m\u001b[1m Daughter \u001b[0m\n",
       "\u001b[1m     \u001b[0m│\u001b[90m String3 \u001b[0m\u001b[90m Float64                  \u001b[0m\u001b[90m Float64                   \u001b[0m\u001b[90m String3  \u001b[0m\n",
       "─────┼────────────────────────────────────────────────────────────────────────\n",
       "   1 │ 9B                    1.15416e-18                       5.69  9C\n",
       "   2 │ 9C                    0.182501                          5.69  9N\n",
       " \u001b[1m1×4 DataFrame\u001b[0m\n",
       "\u001b[1m Row \u001b[0m│\u001b[1m Parent  \u001b[0m\u001b[1m e-Folding Time (seconds) \u001b[0m\u001b[1m Average beta-decay energy \u001b[0m\u001b[1m Daughter \u001b[0m\n",
       "\u001b[1m     \u001b[0m│\u001b[90m String3 \u001b[0m\u001b[90m Float64                  \u001b[0m\u001b[90m Float64                   \u001b[0m\u001b[90m String3  \u001b[0m\n",
       "─────┼────────────────────────────────────────────────────────────────────────\n",
       "   1 │ 9C                       0.182501                       5.69  9N\n",
       " \u001b[1m2×4 DataFrame\u001b[0m\n",
       "\u001b[1m Row \u001b[0m│\u001b[1m Parent  \u001b[0m\u001b[1m e-Folding Time (seconds) \u001b[0m\u001b[1m Average beta-decay energy \u001b[0m\u001b[1m Daughter \u001b[0m\n",
       "\u001b[1m     \u001b[0m│\u001b[90m String3 \u001b[0m\u001b[90m Float64                  \u001b[0m\u001b[90m Float64                   \u001b[0m\u001b[90m String3  \u001b[0m\n",
       "─────┼────────────────────────────────────────────────────────────────────────\n",
       "   1 │ 9He                   3.60674e-21                       5.69  9Li\n",
       "   2 │ 9Li                   0.257088                          5.69  9Be\n",
       " \u001b[1m1×4 DataFrame\u001b[0m\n",
       "\u001b[1m Row \u001b[0m│\u001b[1m Parent  \u001b[0m\u001b[1m e-Folding Time (seconds) \u001b[0m\u001b[1m Average beta-decay energy \u001b[0m\u001b[1m Daughter \u001b[0m\n",
       "\u001b[1m     \u001b[0m│\u001b[90m String3 \u001b[0m\u001b[90m Float64                  \u001b[0m\u001b[90m Float64                   \u001b[0m\u001b[90m String3  \u001b[0m\n",
       "─────┼────────────────────────────────────────────────────────────────────────\n",
       "   1 │ 9Li                      0.257088                       5.69  9Be"
      ]
     },
     "execution_count": 3,
     "metadata": {},
     "output_type": "execute_result"
    }
   ],
   "source": [
    "decay_chain_dir = parent_dir * \"ExportedData\\\\all_beta_decay_chains\\\\\"\n",
    "decay_chain_files = readdir(decay_chain_dir)\n",
    "all_decay_chains = [CSV.read(decay_chain_dir * file, DataFrame)\n",
    "                    for file in decay_chain_files]\n",
    "all_decay_chains = [rename!(df, :Column1 => :Parent) for df in all_decay_chains]"
   ]
  },
  {
   "cell_type": "markdown",
   "metadata": {},
   "source": [
    "I derived the decay rate of the n-th generation nuclide in a decay chain here:\n",
    "\n",
    "https://www.overleaf.com/project/627613def6b848465d85e5bb\n",
    "\n",
    "https://github.com/MarcosP7635/Math-for-Energy/blob/main/main.tex\n",
    "\n",
    "file:///C:/Users/engin/Downloads/Math_for_Energy(4).pdf "
   ]
  },
  {
   "cell_type": "code",
   "execution_count": 4,
   "metadata": {},
   "outputs": [
    {
     "data": {
      "text/plain": [
       "factor (generic function with 1 method)"
      ]
     },
     "execution_count": 4,
     "metadata": {},
     "output_type": "execute_result"
    }
   ],
   "source": [
    "factor(t, e_folding_time) = 1 - exp(t / -e_folding_time)"
   ]
  },
  {
   "cell_type": "code",
   "execution_count": 5,
   "metadata": {},
   "outputs": [
    {
     "data": {
      "text/plain": [
       "a_prod (generic function with 1 method)"
      ]
     },
     "execution_count": 5,
     "metadata": {},
     "output_type": "execute_result"
    }
   ],
   "source": [
    "a_prod(e_folding_times, t) = prod([factor(t, e_folding_times[k])\n",
    "                                   for k in 2:length(e_folding_times)])"
   ]
  },
  {
   "cell_type": "code",
   "execution_count": 6,
   "metadata": {},
   "outputs": [
    {
     "data": {
      "text/plain": [
       "r (generic function with 1 method)"
      ]
     },
     "execution_count": 6,
     "metadata": {},
     "output_type": "execute_result"
    }
   ],
   "source": [
    "r(e_fold_times, t) = (a_prod(e_fold_times, t) * exp(t / -e_fold_times[1])\n",
    "                      /\n",
    "                      -e_fold_times[1])\n"
   ]
  },
  {
   "cell_type": "code",
   "execution_count": 7,
   "metadata": {},
   "outputs": [
    {
     "data": {
      "text/latex": [
       "\\begin{equation}\n",
       "\\frac{ - \\left( 1 - e^{\\frac{t}{ - \\lambda_{1}}} \\right) \\left( 1 - e^{\\frac{t}{ - \\lambda_{2}}} \\right) e^{\\frac{t}{ - \\lambda_{0}}}}{\\lambda_{0}}\n",
       "\\end{equation}\n"
      ],
      "text/plain": [
       "(-(1 - exp(t / (-λ_1)))*(1 - exp(t / (-λ_2)))*exp(t / (-λ_0))) / λ_0"
      ]
     },
     "execution_count": 7,
     "metadata": {},
     "output_type": "execute_result"
    }
   ],
   "source": [
    "λ_0, λ_1, λ_2, t = @variables λ_0, λ_1, λ_2, t\n",
    "expected_output = (1 - exp(t / -λ_1)) * (1 - exp(t / -λ_2)) * exp(t / -λ_0) / (-λ_0)"
   ]
  },
  {
   "cell_type": "code",
   "execution_count": 8,
   "metadata": {},
   "outputs": [
    {
     "data": {
      "text/plain": [
       "\u001b[32m\u001b[1mTest Passed\u001b[22m\u001b[39m\n",
       "  Expression: r(e_folding_times, t) - expected_output == 0\n",
       "   Evaluated: 0 == 0"
      ]
     },
     "execution_count": 8,
     "metadata": {},
     "output_type": "execute_result"
    }
   ],
   "source": [
    "e_folding_times = [λ_0, λ_1, λ_2]\n",
    "r(e_folding_times, t)\n",
    "Test.@test r(e_folding_times, t) - expected_output == 0"
   ]
  },
  {
   "cell_type": "markdown",
   "metadata": {},
   "source": [
    "It works! :) "
   ]
  },
  {
   "cell_type": "markdown",
   "metadata": {},
   "source": [
    "The average beta decay energy is given in keV. "
   ]
  },
  {
   "cell_type": "code",
   "execution_count": 9,
   "metadata": {},
   "outputs": [
    {
     "data": {
      "text/plain": [
       "337//2103388558093277156"
      ]
     },
     "execution_count": 9,
     "metadata": {},
     "output_type": "execute_result"
    }
   ],
   "source": [
    "joules_per_keV = Rational(uconvert(@u_str(\"J\"), 1 * @u_str(\"keV\")) / @u_str(\"J\"))"
   ]
  },
  {
   "cell_type": "markdown",
   "metadata": {},
   "source": [
    "Avogadro's number"
   ]
  },
  {
   "cell_type": "code",
   "execution_count": 10,
   "metadata": {},
   "outputs": [
    {
     "data": {
      "text/plain": [
       "6475021031458043//67108864"
      ]
     },
     "execution_count": 10,
     "metadata": {},
     "output_type": "execute_result"
    }
   ],
   "source": [
    "N_A = 6.02214076e23\n",
    "conversion_factor = Rational(joules_per_keV * N_A)"
   ]
  },
  {
   "cell_type": "markdown",
   "metadata": {},
   "source": [
    "Now we calculate the power in watts"
   ]
  },
  {
   "cell_type": "code",
   "execution_count": 11,
   "metadata": {},
   "outputs": [
    {
     "data": {
      "text/plain": [
       "power_per_mole (generic function with 1 method)"
      ]
     },
     "execution_count": 11,
     "metadata": {},
     "output_type": "execute_result"
    }
   ],
   "source": [
    "power_per_mole(decay_rate, decay_energy) = decay_rate * decay_energy * conversion_factor"
   ]
  },
  {
   "cell_type": "code",
   "execution_count": 12,
   "metadata": {},
   "outputs": [
    {
     "data": {
      "text/plain": [
       "power_per_mole (generic function with 2 methods)"
      ]
     },
     "execution_count": 12,
     "metadata": {},
     "output_type": "execute_result"
    }
   ],
   "source": [
    "power_per_mole(e_folding_times, decay_energies, t) = sum([\n",
    "    power_per_mole(r(e_folding_times[1:i], t), decay_energies[i])\n",
    "    for i in 1:length(decay_energies)])"
   ]
  },
  {
   "cell_type": "code",
   "execution_count": 13,
   "metadata": {},
   "outputs": [
    {
     "data": {
      "text/latex": [
       "\\begin{equation}\n",
       "\\frac{ - \\frac{6475021031458043}{67108864} E_{0} e^{\\frac{t}{ - \\lambda_{0}}}}{\\lambda_{0}} + \\frac{ - \\frac{6475021031458043}{67108864} E_{1} \\left( 1 - e^{\\frac{t}{ - \\lambda_{1}}} \\right) e^{\\frac{t}{ - \\lambda_{0}}}}{\\lambda_{0}} + \\frac{ - \\frac{6475021031458043}{67108864} E_{2} \\left( 1 - e^{\\frac{t}{ - \\lambda_{1}}} \\right) \\left( 1 - e^{\\frac{t}{ - \\lambda_{2}}} \\right) e^{\\frac{t}{ - \\lambda_{0}}}}{\\lambda_{0}}\n",
       "\\end{equation}\n"
      ],
      "text/plain": [
       "((-6475021031458043//67108864)*E_0*exp(t / (-λ_0))) / λ_0 + ((-6475021031458043//67108864)*E_1*(1 - exp(t / (-λ_1)))*exp(t / (-λ_0))) / λ_0 + ((-6475021031458043//67108864)*E_2*(1 - exp(t / (-λ_1)))*(1 - exp(t / (-λ_2)))*exp(t / (-λ_0))) / λ_0"
      ]
     },
     "execution_count": 13,
     "metadata": {},
     "output_type": "execute_result"
    }
   ],
   "source": [
    "E_0, E_1, E_2, t = @variables E_0, E_1, E_2, t\n",
    "expected_output = conversion_factor * sum([\n",
    "    E_0 * exp(t / -λ_0) / (-λ_0),\n",
    "    (1 - exp(t / -λ_1)) * E_1 * exp(t / -λ_0) / (-λ_0),\n",
    "    (1 - exp(t / -λ_1)) * (1 - exp(t / -λ_2)) * E_2 * exp(t / -λ_0) / (-λ_0)\n",
    "])"
   ]
  },
  {
   "cell_type": "code",
   "execution_count": 14,
   "metadata": {},
   "outputs": [
    {
     "data": {
      "text/plain": [
       "\u001b[32m\u001b[1mTest Passed\u001b[22m\u001b[39m\n",
       "  Expression: Symbolics.simplify(power_per_mole(e_folding_times, decay_energies, t) - expected_output) == 0\n",
       "   Evaluated: 0 == 0"
      ]
     },
     "execution_count": 14,
     "metadata": {},
     "output_type": "execute_result"
    }
   ],
   "source": [
    "decay_energies = [E_0, E_1, E_2]\n",
    "Test.@test Symbolics.simplify(power_per_mole(e_folding_times, decay_energies, t) \n",
    "            - expected_output) == 0"
   ]
  },
  {
   "cell_type": "code",
   "execution_count": 17,
   "metadata": {},
   "outputs": [],
   "source": [
    "x = [power_per_mole(df[!,\"e-Folding Time (seconds)\"], df[!,\"Average beta-decay energy\"], 2)\n",
    "for df in all_decay_chains];"
   ]
  },
  {
   "cell_type": "markdown",
   "metadata": {},
   "source": [
    "It takes about .1 seconds to calculate the power per mole for the entire dataframe for a given time. "
   ]
  },
  {
   "cell_type": "code",
   "execution_count": 27,
   "metadata": {},
   "outputs": [
    {
     "data": {
      "text/plain": [
       "1001-element Vector{Float64}:\n",
       " -10.0\n",
       "  -9.98\n",
       "  -9.96\n",
       "  -9.94\n",
       "  -9.92\n",
       "  -9.9\n",
       "  -9.88\n",
       "  -9.86\n",
       "  -9.84\n",
       "  -9.82\n",
       "  -9.8\n",
       "  -9.78\n",
       "  -9.76\n",
       "   ⋮\n",
       "   9.78\n",
       "   9.8\n",
       "   9.82\n",
       "   9.84\n",
       "   9.86\n",
       "   9.88\n",
       "   9.9\n",
       "   9.92\n",
       "   9.94\n",
       "   9.96\n",
       "   9.98\n",
       "  10.0"
      ]
     },
     "execution_count": 27,
     "metadata": {},
     "output_type": "execute_result"
    }
   ],
   "source": [
    "exponents_for_time_array = -10:20/1000:10\n",
    "collect(exponents_for_time_array)"
   ]
  },
  {
   "cell_type": "code",
   "execution_count": 31,
   "metadata": {},
   "outputs": [
    {
     "data": {
      "text/plain": [
       "1001-element Vector{BigFloat}:\n",
       " 1.000000000000000000000000000000000000000000000000000000000000000000000000000003e-10\n",
       " 1.047128548050898505549645783823682271757193893433574137820153812424537637016191e-10\n",
       " 1.0964781961431828604257317209264159331313714105011702911985913060102831306613e-10\n",
       " 1.148153621496884066480156540139268838588675605873626387416861363160599339507005e-10\n",
       " 1.202264434617413102533306847068551134853580025789314084263608408653746937282328e-10\n",
       " 1.25892541179416618056939287182433126845996218444738646667433027351526766150798e-10\n",
       " 1.318256738556404729589129642168660706457656431654852798000801526451019756623137e-10\n",
       " 1.38038426460288664458362703761266589785155477230948719984049693714804016050564e-10\n",
       " 1.445439770745927984903979184458196052506877843919927508765240153411912508988761e-10\n",
       " 1.513561248436207171938059987874779303581263483786977823789873399913939914213657e-10\n",
       " 1.584893192461110892181946192724010648088344291738932269688212001583469968929013e-10\n",
       " 1.659586907437563078013118947327643236008964179424527256052810262534959086840024e-10\n",
       " 1.737800828749376319956618256342589862513317428884702354880700155241417581162049e-10\n",
       " ⋮\n",
       " 6.02559586074356859716412265067716904932588501512965416858430502168396189887616e+09\n",
       " 6.30957344480194281734277303789935568477812448890974812357812748573170574726006e+09\n",
       " 6.606934480075964388899316501628591437113571096436949522897470674425020244006487e+09\n",
       " 6.918309709189362611548141161344066540201278752407103665722592119879792382546489e+09\n",
       " 7.24435960074989115360323616805032081117797394569241349481821367320649275050591e+09\n",
       " 7.5857757502918513396099064210775313934104156677251461251031662738638830516689e+09\n",
       " 7.943282347242821518602174402167029674549522191888286138077973813312815371067061e+09\n",
       " 8.317637711026708700830592010545709577110648216433498986514973065920816617925463e+09\n",
       " 8.709635899560796400314340193164592711964017096779691344846295173386970473846968e+09\n",
       " 9.120108393559115326737861412998371848330360866815874646477213839888861881827091e+09\n",
       " 9.549925860214368871934502123806500813555808633525601292241946386449304677796978e+09\n",
       " 1.0e+10"
      ]
     },
     "execution_count": 31,
     "metadata": {},
     "output_type": "execute_result"
    }
   ],
   "source": [
    "time_array = [BigFloat(10)^x for x in exponents_for_time_array]"
   ]
  },
  {
   "cell_type": "code",
   "execution_count": 46,
   "metadata": {},
   "outputs": [
    {
     "data": {
      "text/plain": [
       "3192-element Vector{Vector{BigFloat}}:\n",
       " [-3.155380343474517773182881336006113448165850785347324068054552557712315167057752e+06, -3.155380343474642235671033654867567158340905399751105784074443920158714968006779e+06, -3.155380343474772563895539631572338731654789515706651136319548685149302456066908e+06, -3.155380343474909034300036898644014406878884507075396273202646251332909590485755e+06, -3.155380343475051936356550313134062173222115908609594602247477887030515639001058e+06, -3.155380343475201573179501004584918370016457647869283928507138250117618158045092e+06, -3.155380343475358262168652653911759955663705479065718304234679947013955001334634e+06, -3.155380343475522335682358973827213178383928896776895891261954511067545521413381e+06, -3.155380343475694141742540278565942591845518022105660834169621507543389632929895e+06, -3.155380343475874044772884724885105221545757185179426897888627326563089617773437e+06  …  -3.600997774746101807994342119012069870744806164672691307644846301039068684845985e-16491581, -9.558448070215605641274270501732258906299156049148927721174923070547052240914258e-17268806, -8.681082635342524730770800609043099951646686322726805071035088208876436491778571e-18082660, -1.372284926151825450754180670148305660409429107105084153448636536379149496200271e-18934869, -8.428548495909363726230445656660342117197956323448868422314495603397054065216466e-19827243, -2.885856617020105475800227253624885113629133758482626058764347942344706242590943e-20761672, -4.907188623069096652231848219315849281890895764897827908698572596151553195663727e-21740140, -1.432525159528419444741575230168430761085054089146595442811703347518704432129621e-22764721, -3.813118029610700765953849668339330478896455656802527611396595070286982969008917e-23837590, -1.854716094227813656183234759990060362678728795034041327167403264449028322727662e-24961021]\n",
       " [-7.750282473052230410131589151789001926210682420581984528770889009429861047264477e+06, -7.750282473056219729268866437273350140122498065138782179127179795765977240984293e+06, -7.750282473060397059224818585935314737470428086379321561809403840585724314568549e+06, -7.750282473064771260676350252383161021280864065575775731728871110194611961420328e+06, -7.750282473069351611891202380240970466438122018962261581615261834639014479324395e+06, -7.750282473074147828408404401882795680973450307896682516838539894578120793095943e+06, -7.750282473079170083646233602130987767202569116101168721139012403209793898177216e+06, -7.750282473084429030481400152806521651026175841312268366842672741413570954375222e+06, -7.750282473089935823845225021357327718982785297699460049022066472300555251884584e+06, -7.750282473095702144384747717743311393134125979535293316391910717163819853726842e+06  …  -1.699013853451927516844177908493184264926724714719041467631978527365119209934299e-40506825, -1.110386992108869074278605691752965116020487393556200928744189289788717984828445e-42415853, -1.362126977766126833528511866334947357973595885947482353994934291615655522360258e-44414851, -2.258636399261640015027069212033073617678283968882103310290836898191237555957931e-46508059, -5.370534356445313877383625676554578848447694395548593385910925127259586109767658e-48699917, -1.093561798814201735222824816506721114763786392996186695639693825239432713915761e-50995073, -8.81586272842918916821154062809746173365777906495715243251520811525867707861023e-53398398, -4.749632219132317621877631280588344616100707569940268417515635038950678296218834e-55914987, -1.621009480616558389527646714130966206818617498501277393384278681981759979606646e-58550179, -8.873861999314179406323823007285651762244908432278790162142394569590537632090575e-61309565]\n",
       " [-6.771154260504771926121105292668354778399529497285304976772711638720867902521081e+07, -6.771154260519581306098125305629008414704710247741173447311990328157868581335161e+07, -6.771154260535088630650919795716307477032240019088961961563864220053400928407838e+07, -6.771154260551326792893959107079916070718229215439220934121504508791453981834462e+07, -6.771154260568330236146434303786470418680198473465646405407246268330880075038851e+07, -6.771154260586135026991163624489929492032245327571727110867062833683718582093722e+07, -6.771154260604778931776644356845127128784516113477208824420233596010334099205108e+07, -6.771154260624301496724544485102333099669445480631343064307362599434663210954884e+07, -6.771154260644744131812533752457936863242804148143357606536016813467333937667526e+07, -6.771154260666150198610408490874792590739135906006457893317744233517094499647274e+07  …  0.0, 0.0, 0.0, 0.0, 0.0, 0.0, 0.0, 0.0, 0.0, 0.0]\n",
       " [-3.171157231156666882975197464330423674578587447320415567899638881508334689581838e+10, -3.171157230495332296265777492563001275005396493083031710872906053607025958730723e+10, -3.171157229802829970836156235787125696897337845650666976597298600423095233082025e+10, -3.171157229077691016426632243861829978694922976956537505768202132615254472304297e+10, -3.171157228318377316113700421305128108593847487532292507470602600185774134567878e+10, -3.171157227523278263757619433606563790688113312898076754673520879125474191563433e+10, -3.17115722669070734769129004722981350733214865888217547040133728421267580082498e+10, -3.171157225818898573402953977622709813358637818161543936330054388196371279547423e+10, -3.171157224906002717625597715550439394642068703483847408268004693590168100284145e+10, -3.17115722395008340588625107347263263004061413690724678766286082256388698153624e+10  …  0.0, 0.0, 0.0, 0.0, 0.0, 0.0, 0.0, 0.0, 0.0, 0.0]\n",
       " [-1.705593933659425828895044885609053134811681637366715319113371576457134049742354e-18, -1.705593933659786221336781584081863393913421952252994719597110991303608642774346e-18, -1.70559393366016359855102576956979035591963177033889334219872567289165161885341e-18, -1.705593933660558761005444722791905471757487270190094562195530796469161369932366e-18, -1.705593933660972546892584536602089367137011623883300673550761850767355652197763e-18, -1.705593933661405833907789095198723927088268143497961018780126376107927443191311e-18, -1.705593933661859541110909434251318891451287740302703669534902540651187835305579e-18, -1.70559393366233463087575298278957511378725221124687880001755238804835011429411e-18, -1.705593933662832110931407265563704818251998900837174415174820635474833069056064e-18, -1.70559393366335303649976865934469509147291581913154618445747439554412061423088e-18  …  -3.411187867303557569321074051192708689650321061803566488767602237761173352094247e-18, -3.411187867303557566021242439983595492825019799011635446543647029678741212261081e-18, -3.411187867303557562565894556125739772510995056379394178312473453940870632276857e-18, -3.411187867303557558947701143490589817500823506838228215508733780621684815308691e-18, -3.411187867303557555158987528750948574482534299712448262103536146536656263377375e-18, -3.411187867303557551191717342367956785204205126261170654337446957557585368897336e-18, -3.411187867303557547037475472375117102348011861905100452289677492499639264099946e-18, -3.411187867303557542687450214796870092990762968863877088876604606721692008722614e-18, -3.41118786730355753813241458284461985132806238452693156470687619059643130196518e-18, -3.411187867303557533362706735238353150570574700439100039842551126726077911349788e-18]\n",
       " [-2.53692579603415792778394416593882461800050762529806888346674704412560119165307e+08, -2.536925796028633007368046347584963135344502389219922846201909346755401510488195e+08, -2.536925796022847705474863394873425188963417225214613228012778621152280288753026e+08, -2.536925796016789750703432205068538329889637559075205707058799021837403158867781e+08, -2.53692579601044629331948150565903402215319996818220411470270955441357801430519e+08, -2.536925796003803877999419459192397253648436461311397454047896944967164514080561e+08, -2.536925795996848415289790484772268058532713361807566281119243458242586439848971e+08, -2.536925795989565151721654305607438834131803439113487837086163786789162751023667e+08, -2.536925795981938638516502934819959317353813945319276255815179089476039733483865e+08, -2.536925795973952698817326348751790130572920197640529315359671898063355792320513e+08  …  0.0, 0.0, 0.0, 0.0, 0.0, 0.0, 0.0, 0.0, 0.0, 0.0]\n",
       " [-509.6409195010121875533388457038160623571648639965189717384238721768647758216825, -509.6409195010450477924043196447458851877687911788495021696053480248083585308246, -509.6409195010794566868255585188225699226637447872601019326877502937955275987018, -509.6409195011154872224809144095114714080060556508452376845633889016129486845106, -509.6409195011532158249672045649984239051742753016688168304523619752175829657742, -509.6409195011927225217086680150572981398886442020390299549494930107381807393701, -509.6409195012340911117058491955775519903307467538830396961946760958022623259171, -509.6409195012774093432845203006646607642927492033309553660477398832646502044483, -509.6409195013227691002216293052786122078120387600205430353506282435560701941196, -509.6409195013702665966431330402243509196801492012206917271473081392163739032102  …  -1.850340415277754774503145002721461085419832408510782309557007586634038634619659e-6338, -2.531324696387033212651154108940567258468746129210146236595025490844496336982922e-6637, -2.847227881150821617263263589597730053469040197088147742581744270050588557631668e-6950, -5.710420902871445441356170360174911152166824703630692049073989784017852253503688e-7278, -4.120924542307138253751181212443608889091819795425344907408053042612808735603767e-7621, -2.002407016597487726262398905470052540748249015872426281387827648535112229568476e-7980, -1.132893861393659553759399326349006958371406424623283006225785089013487127437978e-8356, -1.188048461306318208020540713383493080045161342796783744941773699936167108111036e-8750, -3.371352180502517643569266769745318811383850273680227062895133240761489401151909e-9163, -3.451688221316160696532661331319994167443017595584997833463586851742996977556272e-9595]\n",
       " [-7.417911677174506856344579947799272975701897108371049300218245589944594604179178e+09, -7.417911676822047663652686775115921107161858687911328932669504063305494114238995e+09, -7.41791167645297758097672102901550192484156741527244278016281649474099377830204e+09, -7.417911676066513761191282127145215039830962121508400280806648824127079791411718e+09, -7.417911675661836462722845620437618628124231924613918805725213463477208777011125e+09, -7.417911675238087310767794438579014503541140895189544380749706925655309800530385e+09, -7.417911674794367476564533056656531006844162242013176025763797807230365241099163e+09, -7.417911674329735770857123570414640896112385927759127006009189986860090342989401e+09, -7.417911673843206647506878910284703538863663611828433644853681922389764680168515e+09, -7.417911673333748113016648524537704400798377645033007011503666465541498764045286e+09  …  0.0, 0.0, 0.0, 0.0, 0.0, 0.0, 0.0, 0.0, 0.0, 0.0]\n",
       " [-289378.2804519037072109144206399175771913850710015473516742436811413904833393907, -289378.2804519036946087807610498493523694511567245121510528966108115881974803601, -289378.2804519036814127268397399488283222537157820180655904948408041615408257024, -289378.2804519036675947620571160952675856439578241928514111430031047276834187073, -289378.2804519036531255766572699902611249016529641407772893376742017100046900481, -289378.2804519036379744795580498838156012156613022994444405261669224871241717673, -289378.2804519036221093332511653589134999220913597313071216497557314481923177654, -289378.2804519036054964856342207877616656681051035631820783099256682769690467465, -289378.2804519035881006986301003057742664483444234711943236980674457320320529189, -289378.28045190356988507344227294286910432049375462092867323279188555340567476  …  -3.338939801538320717587327235726756610845088501609089322925802550528832753519567e-26556, -5.541691917949075219885266160609178923574951115614684768667811716846336829303844e-27808, -9.313306171739989284112708453475596057022708821905342476094348107604291380911738e-29119, -2.628237219193546180892732120073908364654692602314027255459987395625154891933388e-30491, -1.527436058249360444335527428318654232503495127541077631378005383882234077336051e-31928, -1.634668510893452271484818404410809950958924964931147784391297129489106402444992e-33433, -2.069284758497246897306882462021229964732045720099734429601273322298781802714133e-35009, -1.407487709746111618464394599638099883589941248504545332474296683966567217856514e-36659, -1.625835149573808073530581626077796741822046838877214504835306667738689577266743e-38387, -6.894918295545844614493487140034769212151760497111882997083995322705919823484866e-40197]\n",
       " [-3.224905672884363721474847802478797160644712119807123089726698315515196344954842e+08, -3.224905672875435919883630740502623362995764388425842707951805020183154701750579e+08, -3.224905672866087363966159607401314726180782840140486579503390603693603917258276e+08, -3.22490567285629822418195358087153408023302567743832233931290663908694932441576e+08, -3.224905672846047736453083376383227513047769500106930390536398549384237854991288e+08, -3.224905672835314158120772888009873836313309485034470623644495834825295553408282e+08, -3.224905672824074721826308311896401489656012334394642103910361760150746186651199e+08, -3.224905672812305587218415964123471666230572549914746445247351672836080184429193e+08, -3.224905672799981790384685173755182794997534310894477357801251759173073841119366e+08, -3.224905672787077190899756867231744368598593676443732717961187775163751898571231e+08  …  0.0, 0.0, 0.0, 0.0, 0.0, 0.0, 0.0, 0.0, 0.0, 0.0]\n",
       " [-1.882923648294183578063795980468889716349890915185436398076206885817064655975043e+09, -1.882923648270291959399939853316015382018504250790224878008902354288917851163609e+09, -1.882923648245274363438153064448544042021032813649962497937540770629874211729455e+09, -1.88292364821907772450327075427985949571497837642474448968469645880476981738292e+09, -1.88292364819164647601191597560043974967670229902497880885053989141870848637339e+09, -1.88292364816292243260831281883349626788353361127289639357160313596936091858149e+09, -1.88292364813284466674535537432109089813071132162694938352346157569267358651849e+09, -1.882923648101349379449106933833589662070196551205005685811170041307503318977633e+09, -1.882923648068369764992634404214981407270812333941059304332316303277059893371623e+09, -1.882923648033835869192088433437204378061443524239006707128769579163352940119585e+09  …  0.0, 0.0, 0.0, 0.0, 0.0, 0.0, 0.0, 0.0, 0.0, 0.0]\n",
       " [-2.461441587457969874161631373018646476220797751403119525296157545215254303658746e+07, -2.461441587457449770914077655342646106407562194472038559451954740683727233678954e+07, -2.461441587456905155955630291711536871306375973487249444642978596748694648244199e+07, -2.461441587456334874084944580737201791241389181099708203551911127977908225646729e+07, -2.461441587455737715657713895385301548343558505516717175543566805566609459398701e+07, -2.461441587455112414020851624976335303788681768004014607918872614132467908231759e+07, -2.461441587454457642825750355825074960270164221949363678774437387535952264259326e+07, -2.461441587453772013214918536644337472555931489187214502435974601477690640585591e+07, -2.461441587453054070876027778233764139325253102575782898499234887199625280091244e+07, -2.461441587452302292957121056698864260143977639850504669555914005476101903082627e+07  …  -6.72719583718094668590508092225712404962544894512261700467059825692416227631602e-128647177, -7.172254841840844251141655565962960163571081817574297047176439633444372241997737e-134710132, -4.156622768575110381515036423551829772772066671593296735255883159405912234174227e-141058825, -4.870219555964508995215003173172990750019967331355476746271198547896297337512686e-147706723, -9.533874221702767814166181870341068794433565735852455558173693735083776321491189e-154667927, -7.039350184412271998457967883070678890915551662879551361420183691378897132241608e-161957202, -5.787532506070389135833279360701536855170119858984739612190632413477458662476421e-169590010, -3.272310731657548312126456085061190196312678902764320071350424946139155156891434e-177582541, -7.486239179184327505002266479349788484378319706266189612172125996686846333155907e-185951749, -4.258290913882933321559326892461495198478157603673711586390835565635650488050542e-194715385]\n",
       " [-4.048285844663433730113956799870418068072796783000931386207829908530261585196507e+08, -4.04828584465122767853206719558959687164470049728942723344208450118163685515514e+08, -4.048285844638446373461735064878603445006615354353343652679656638416864427528183e+08, -4.048285844625062704041292148130882230098880536592470311685931191363371529032201e+08, -4.048285844611048281713527431768738269830291378104778520365970547936207642646714e+08, -4.048285844596373380009744110987158417066851997822643027711683785489112410837601e+08, -4.048285844581006871495938754545220384387830867092616663235603775911104063115562e+08, -4.048285844564916161747337905180816797159871469604448655661444893640716483542559e+08, -4.04828584454806712021125898823752867145969657082726382101728236803755543188954e+08, -4.048285844530424007811623620791620657859912546075577955899161769148102151427911e+08  …  0.0, 0.0, 0.0, 0.0, 0.0, 0.0, 0.0, 0.0, 0.0, 0.0]\n",
       " ⋮\n",
       " [-296369.8359991433707113492910296622682477921641899549037717580099146326385281228, -296369.8359991504118031369721462211567040776179667882926657137272716398583038389, -296369.8359991577847313573027298423216036134877889383877235289690386758721680339, -296369.8359991655051349795449259781529503701226942506844353861342629004373260047, -296369.835999173589390014873140233553074109251552745793185740586130675767266625, -296369.8359991820546442520934282133542904124047583437416109073334887291610396289, -296369.8359991909188536303998897741676463468205280439529003093316957812183978918, -296369.8359992002008203263306126583042266924910817146041551684812113490265944114, -296369.8359992099202326357016304544800511729277168903801461303175672902778223889, -296369.8359992200977067351269571215655994724426580654605325815799785567186911375  …  -9.067643640173671460290828074644141537928552316974767021454939486722503898626403e-1548971, -9.069759800010263381654566962717749225796535294266147017896329620170293328929886e-1621972, -3.361751749371928023684118287189889471177247821156452550152516778358932286330899e-1698413, -3.325677273343685367902243619665066814398673895185968351682855269201649284661039e-1778457, -1.443688723551918733493953525484419881905573405968225456708785231659613440888854e-1862273, -4.504057206274621650157124664017306716829968927489584351928550916516109348977141e-1950040, -6.914250239939684590874000904524026961675705336834079817945427009414301841409945e-2041943, -6.021536494504497475612425260099663880982651590225948764559493320152856329463415e-2138177, -2.229189238429721532629411337195771064100968745140896590873934686363102122990027e-2238946, -6.303607991868309855299196263704814519686597747101506834506301494555048109653055e-2344465]\n",
       " [-7.047016093189427476764232417084235026646832200511884113803927799557847928385591e+09, -7.047016092848636383229946678501824703126950062394782094150329556206026739843487e+09, -7.047016092491784300284555079348868260795404979243119242648048016566814820098231e+09, -7.047016092118114296818345887707376070784331960979701796976772527664500258680124e+09, -7.04701609172683376865768144529619057084049440973466655751228142010164759795659e+09, -7.047016091317112757345101287290910275600447443157464210305406989537745541309263e+09, -7.047016090888082189686313526763521148518461131579191114492109501436010643789926e+09, -7.047016090438832034329382915930775753244445055432487834378511258004565267879517e+09, -7.047016089968409371466412339033890115200807970747282790487365429167969025678077e+09, -7.047016089475816371562660785913064452777665752559836145037924124885681556733946e+09  …  0.0, 0.0, 0.0, 0.0, 0.0, 0.0, 0.0, 0.0, 0.0, 0.0]\n",
       " [-10000.24116685772283518039911598380740398349958427323775155392123594985717526682, -10000.24116685772350768739680072897751696706887246783531032617113054222795074436, -10000.24116685772421188867284046248981731016926536532942435466197756291965469701, -10000.24116685772494927793255564658020793070577282259525822056722960912206254349, -10000.24116685772572141927742951208057474988621250902469892483686422706458437011, -10000.24116685772652995052277740016858519729207494010386996158739660442139791332, -10000.24116685772737658667177237298100550638887862709904071351924714871120307904, -10000.24116685772826312355319702278235933295506227186283003217251935469201396889, -10000.24116685772919144163063677222383668627058904527376743612895631251701994491, -10000.24116685773016350999119572976558167141308069495137407491125322080740804772  …  -1.873289131529905149139116090736667477768573367787068334413818846617528082955131e-1426, -7.744691945192702343813127452128163640814446683378523066292323255671104992626438e-1494, -2.136545866054355814372202550159253451191023406950048663456195660282329463169099e-1564, -2.786527368691809887492390277352995973696640608374194474411461951733402968085868e-1638, -1.197672779930586754678235919224934833189480465676357052716903709719733597245313e-1715, -1.16260349057794611144971015786358033736112882256918867476696944898236482703045e-1796, -1.715949120339155724560255177071537957397170684615204251575433204718761574186782e-1881, -2.544595535037221579345196275906403822086974954517624030198573058963451378323669e-1970, -2.456725930054751540179695629218360051999478370081602950932961460803318577820599e-2063, -9.804386235775729355619114220234096652876710733921212536048305882045574606444501e-2161]\n",
       " [-1.585578618015287163159831905686515859297967188704652782369998805451415065925215e+10, -1.585578617799469960041607800337573046225833792386469671804294700828489366951707e+10, -1.585578617573481605527500640130828722798736658619103773666534236269066137523539e+10, -1.585578617336842748023232668039267144556170487690633430995643469261411463335076e+10, -1.585578617089051444790239510065589951591604589572146107808690579898987892261188e+10, -1.58557861682958209725774038010350460789305088736353354497413458612260053832885e+10, -1.585578616557884336157829808246187705164108650412991200847769501549321546138279e+10, -1.585578616273381854118474578056909147012615849733331554242276653013753235901935e+10, -1.585578615975471183238467686025053741410858473276826300606404459173104898205688e+10, -1.585578615663520415051009824049841773082582637152051821713758397446554443606172e+10  …  0.0, 0.0, 0.0, 0.0, 0.0, 0.0, 0.0, 0.0, 0.0, 0.0]\n",
       " [-1.413591639459508914654308288026728308453092730336856672268127305968830087122722e+09, -1.413591639445466903430953332418860556372882465347926120118171084537273458007933e+09, -1.413591639430763112607072432567358191848120753254988215365069997131644310754014e+09, -1.413591639415366353470975706091870199620071121823074052189498319183889787019848e+09, -1.41359163939924396743228129756963749096588844107703131293666554314652632913802e+09, -1.413591639382361756748658549861780525197112893417018018786653424111890736904586e+09, -1.413591639364683911987837167292937665307072246949129929784035081694395627046867e+09, -1.413591639346172936070997527520162855618081389178751066303856891229645725721497e+09, -1.413591639326789564736446089554151819334597612010474965560156489637334795629035e+09, -1.413591639306492683254842500514827499823436264035298202224788463820647249717639e+09  …  0.0, 0.0, 0.0, 0.0, 0.0, 0.0, 0.0, 0.0, 0.0, 0.0]\n",
       " [-1.634966984557512923356672008689131592694455539909461338498946078813323917197711e-05, -1.634966984557512923356671206962503984070455261630506830734740616690177037463943e-05, -1.63496698455751292335667036745166448250860636764874325779841964793654421813966e-05, -1.634966984557512923356669488375898042167367465606972237825291242094860536643144e-05, -1.634966984557512923356668567870567102841963787002201800510151658937840118224763e-05, -1.634966984557512923356667603983156443234332038217702440445283025535518143652453e-05, -1.634966984557512923356666594669131634699241634703154226384729536524592914537612e-05, -1.634966984557512923356665537787602309433290959507911648259409516827603333266015e-05, -1.634966984557512923356664431096781045350493890334099505446823544375376817819509e-05, -1.63496698455751292335666327224922823383504113566030446049767915955956172441883e-05  …  -1.633843433064281668483731542697254320518283111845956622773925476434743051733979e-05, -1.633790500769486872035487764127522680841498545133199336350560008120670376060991e-05, -1.633735075690495084135042297943071797175794258201809927549139276580234352391733e-05, -1.633677040523265161790429291957592837333455810364638280831478281716282541267519e-05, -1.633616272452478301596456758288068692884130068406545120084130753053489549285162e-05, -1.633552642893446946843913570072556498796068339148117161708575674868348610340936e-05, -1.633486017222019009940670771624747119175926934620429555741792715394643299900032e-05, -1.633416254491926841550975228105255739505469399084720690695738959615497679063195e-05, -1.633343207139006054835922571756459262977606903251801843843232717814577528953788e-05, -1.633266720671683659690046264219812306017789214857754521555285586014604581341631e-05]\n",
       " [-2.564278095805219119395207778571069892023589417227376486383488529174055065573913e+08, -2.56427809580356334119543247123417265797605263184562508051903481952955856043993e+08, -2.564278095801829528573197129991907092992256352164448879452659191752635573774584e+08, -2.564278095800014003879472064969839845313459796258843258996365175885762802120303e+08, -2.564278095798112916142968975382606725695349390080689805352820831855364182123978e+08, -2.564278095796122232901713557101349988537855538362261603513577166244986828677906e+08, -2.564278095794037731649653636389064262251928830586289340866874695057798913824639e+08, -2.564278095791854990880157339764055143333764617512867331082089600000197586904771e+08, -2.564278095789569380707405492736714715832385256076515714022360107109087559220163e+08, -2.564278095787176053045781874738805364576014181749611116050744982432587601824828e+08  …  0.0, 0.0, 0.0, 0.0, 0.0, 0.0, 0.0, 0.0, 0.0, 0.0]\n",
       " [-1.812089854342410626766269567495514852867667928079893835587433179213280111416253e+08, -1.81208985433998642699189909943954419836361139938997804796707230324513112049645e+08, -1.812089854337447978201980527295936121818010237676329203359953421857409238821781e+08, -1.812089854334789896006294900417802190741248918298050096001364085169532994328615e+08, -1.812089854332006542256130864883996151683100920089738784391963590577527562599055e+08, -1.812089854329092013085013914526537907152491844320157490536239225926142256973605e+08, -1.812089854326040126385814991725652781947415012590597928896180991133313248778824e+08, -1.812089854322844408697671901236887683575544203179060030584552419990317578987342e+08, -1.812089854319498081474912063792826707316560589630350943248892091832889719131512e+08, -1.812089854315994046708846632058377564283000357793558736812536034440478254100172e+08  …  0.0, 0.0, 0.0, 0.0, 0.0, 0.0, 0.0, 0.0, 0.0, 0.0]\n",
       " [-1.656957557258643204719727974663849814548516089977734722640969982781076106685413e-37628723, -7.805215902334562479645533614108133504822306701235618587676165123396416567582736e-39402112, -2.230899473076487926564674313509117411082020808764162362198030877337865504355621e-41259077, -5.18453867481725082536676551833308955187383681272749853005248954278734995028516e-43203559, -3.053719900345952719412584710775801520443891540216038745427051871798877467990983e-45239681, -5.89657510504020254478150998997757517331332345710694810693888849712026321214196e-47371763, -1.383098050368471821664199725015988203415304397097950610625593366032986513701192e-49604326, -1.068574184050873417832456646055506856932291445314322866147111970120442575165537e-51942107, -4.867264504161807274306436513011647596001817924714312566167052896547275126950176e-54390065, -4.683482004182423951299814237010667490630268281742733330099541744168807297909917e-56953391  …  0.0, 0.0, 0.0, 0.0, 0.0, 0.0, 0.0, 0.0, 0.0, 0.0]\n",
       " [-3.008212404855295339601210280142479698879898480831734175276475657347106868604498e+09, -3.008212404777612070502264561902053033017240125609239936517215840593729768701779e+09, -3.008212404696267701724988415926546818104688072813815463675466700352362428943469e+09, -3.008212404611089690957472215906148204027776819163596927101658662958754737619487e+09, -3.008212404521897364219211925534214094065557947524382815426376862609435067674847e+09, -3.008212404428501532627330498553075194079557789791470878560667662774183189103191e+09, -3.008212404330704091101625324231342164580151684733794415208606283801352406483585e+09, -3.008212404228297598157119412175885510027195592938143307989028633122238120792736e+09, -3.008212404121064835892900131954338199495516186599713396462149765297211677236803e+09, -3.008212404008778349243777976265194934275056281800645965310565809626187723729903e+09  …  0.0, 0.0, 0.0, 0.0, 0.0, 0.0, 0.0, 0.0, 0.0, 0.0]\n",
       " [0.0, 0.0, 0.0, 0.0, 0.0, 0.0, 0.0, 0.0, 0.0, 0.0  …  0.0, 0.0, 0.0, 0.0, 0.0, 0.0, 0.0, 0.0, 0.0, 0.0]\n",
       " [-2.135459423539223133234100824068805934177354090220820340438486748695038624900594e+09, -2.135459423500076614639346721990797015034172546345578849902954970667725696546725e+09, -2.135459423459085177462743507672944136627410778524661461298098875949911576043443e+09, -2.135459423416161873370326814930656078728333734383471685218531042834496810955562e+09, -2.135459423371215656279415954077103262889231169803365634033961720839935396430107e+09, -2.135459423324151189237643920006161143252983247920500395189587683459106085767329e+09, -2.135459423274868642200515561130869855999693832566804330316775334320140807221407e+09, -2.135459423223263480278491560718956892702308085711232960228326888507513333892276e+09, -2.135459423169226242004492370689783002563159719531147243452292693400604756645383e+09, -2.135459423112642307151424739884857237815935457607455329570929555779838778872434e+09  …  0.0, 0.0, 0.0, 0.0, 0.0, 0.0, 0.0, 0.0, 0.0, 0.0]"
      ]
     },
     "execution_count": 46,
     "metadata": {},
     "output_type": "execute_result"
    }
   ],
   "source": [
    "power_time_series = [[power_per_mole(df[!,\"e-Folding Time (seconds)\"], \n",
    "                    df[!,\"Average beta-decay energy\"], time)\n",
    "                    for time in time_array] for df in all_decay_chains]; "
   ]
  },
  {
   "cell_type": "code",
   "execution_count": 54,
   "metadata": {},
   "outputs": [
    {
     "data": {
      "text/plain": [
       "Dict{Any, Any} with 3192 entries:\n",
       "  \"113Sn\" => BigFloat[-19.1026, -19.1026, -19.1026, -19.1026, -19.1026, -19.102…\n",
       "  \"243Cf\" => BigFloat[-587251.0, -587251.0, -587251.0, -587251.0, -587251.0, -5…\n",
       "  \"168Eu\" => BigFloat[-1.90269e+09, -1.90269e+09, -1.90269e+09, -1.90269e+09, -…\n",
       "  \"162Sm\" => BigFloat[-1.4094e+08, -1.4094e+08, -1.4094e+08, -1.4094e+08, -1.40…\n",
       "  \"11N\"   => BigFloat[0.0, 0.0, 0.0, 0.0, 0.0, 0.0, 0.0, 0.0, 0.0, 0.0  …  0.0,…\n",
       "  \"57V\"   => BigFloat[-1.08725e+09, -1.08725e+09, -1.08725e+09, -1.08725e+09, -…\n",
       "  \"208Po\" => BigFloat[-4.16099, -4.16099, -4.16099, -4.16099, -4.16099, -4.1609…\n",
       "  \"174Ir\" => BigFloat[-4.81695e+07, -4.81695e+07, -4.81695e+07, -4.81695e+07, -…\n",
       "  \"144Gd\" => BigFloat[-1.41886e+06, -1.41886e+06, -1.41886e+06, -1.41886e+06, -…\n",
       "  \"80Sr\"  => BigFloat[-59664.3, -59664.3, -59664.3, -59664.3, -59664.3, -59664.…\n",
       "  \"33Ar\"  => BigFloat[-2.19965e+09, -2.19965e+09, -2.19965e+09, -2.19965e+09, -…\n",
       "  \"220Pa\" => BigFloat[-4.48174e+14, -4.48197e+14, -4.48221e+14, -4.48246e+14, -…\n",
       "  \"108In\" => BigFloat[-109350.0, -109350.0, -109350.0, -109350.0, -109350.0, -1…\n",
       "  \"122Tc\" => BigFloat[-2.92722e+10, -2.92722e+10, -2.92722e+10, -2.92722e+10, -…\n",
       "  \"252No\" => BigFloat[-1.54252e+08, -1.54252e+08, -1.54252e+08, -1.54252e+08, -…\n",
       "  \"254Es\" => BigFloat[-17848.0, -17848.0, -17848.0, -17848.0, -17848.0, -17848.…\n",
       "  \"165Hf\" => BigFloat[-5.00709e+06, -5.00709e+06, -5.00709e+06, -5.00709e+06, -…\n",
       "  \"67Mn\"  => BigFloat[-8.14858e+09, -8.14858e+09, -8.14858e+09, -8.14858e+09, -…\n",
       "  \"260Sg\" => BigFloat[-7.68765e+10, -7.68765e+10, -7.68765e+10, -7.68765e+10, -…\n",
       "  \"95Cd\"  => BigFloat[-1.18918e+10, -1.18918e+10, -1.18918e+10, -1.18918e+10, -…\n",
       "  \"233Cm\" => BigFloat[-1.4094e+07, -1.4094e+07, -1.4094e+07, -1.4094e+07, -1.40…\n",
       "  \"255Db\" => BigFloat[-7.04702e+09, -7.04702e+09, -7.04702e+09, -7.04702e+09, -…\n",
       "  \"103Rb\" => BigFloat[-1.46361e+10, -1.46361e+10, -1.46361e+10, -1.46361e+10, -…\n",
       "  \"234Bk\" => BigFloat[-1.90269e+07, -1.90269e+07, -1.90269e+07, -1.90269e+07, -…\n",
       "  \"80Zr\"  => BigFloat[-8.27258e+07, -8.27258e+07, -8.27258e+07, -8.27258e+07, -…\n",
       "  ⋮       => ⋮"
      ]
     },
     "execution_count": 54,
     "metadata": {},
     "output_type": "execute_result"
    }
   ],
   "source": [
    "zero_gen_isotopes = [df[1, \"Parent\"] for df in all_decay_chains]\n",
    "power_time_series_dict = Dict([])\n",
    "stop = length(power_time_series)\n",
    "for i in 1:stop\n",
    "        power_time_series_dict[zero_gen_isotopes[i]] = power_time_series[i]\n",
    "end\n",
    "power_time_series_dict"
   ]
  },
  {
   "cell_type": "code",
   "execution_count": null,
   "metadata": {},
   "outputs": [],
   "source": []
  }
 ],
 "metadata": {
  "kernelspec": {
   "display_name": "Julia 1.7.2",
   "language": "julia",
   "name": "julia-1.7"
  },
  "language_info": {
   "file_extension": ".jl",
   "mimetype": "application/julia",
   "name": "julia",
   "version": "1.7.2"
  },
  "orig_nbformat": 4,
  "vscode": {
   "interpreter": {
    "hash": "274785dbb282d05f4e0ae2ca70ac66f1fa0484127cd60ef9f4ac2dd997977034"
   }
  }
 },
 "nbformat": 4,
 "nbformat_minor": 2
}
