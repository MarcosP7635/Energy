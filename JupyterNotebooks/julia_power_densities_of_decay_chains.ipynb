{
 "cells": [
  {
   "cell_type": "markdown",
   "metadata": {},
   "source": [
    "The purpose of this notebook is to calculate the power produced by a decay chain after the production of a given nuclide."
   ]
  },
  {
   "cell_type": "code",
   "execution_count": 1,
   "metadata": {},
   "outputs": [
    {
     "data": {
      "application/vnd.webio.node+json": {
       "children": [],
       "instanceArgs": {
        "namespace": "html",
        "tag": "div"
       },
       "nodeType": "DOM",
       "props": {},
       "type": "node"
      },
      "text/html": [
       "<div style=\"padding: 1em; background-color: #f8d6da; border: 1px solid #f5c6cb; font-weight: bold;\">\n",
       "<p>The WebIO Jupyter extension was not detected. See the\n",
       "<a href=\"https://juliagizmos.github.io/WebIO.jl/latest/providers/ijulia/\" target=\"_blank\">\n",
       "    WebIO Jupyter integration documentation\n",
       "</a>\n",
       "for more information.\n",
       "</div>\n"
      ],
      "text/plain": [
       "WebIO._IJuliaInit()"
      ]
     },
     "metadata": {},
     "output_type": "display_data"
    },
    {
     "data": {
      "text/plain": [
       "\"C:\\\\Users\\\\engin\\\\Documents\\\\GitHub\\\\Energy\\\\\""
      ]
     },
     "execution_count": 1,
     "metadata": {},
     "output_type": "execute_result"
    }
   ],
   "source": [
    "using Unitful #https://painterqubits.github.io/Unitful.jl/stable/\n",
    "#quantity * @u_str(\"unit abbreviation\") \n",
    "using Symbolics #https://symbolics.juliasymbolics.org/dev/\n",
    "#cite https://doi.org/10.48550/arXiv.2105.03949\n",
    "using Latexify\n",
    "using Test\n",
    "#1 * @u_str(\"mA\") is 1 milliamp\n",
    "using CSV, DataFrames\n",
    "#using Plots\n",
    "using PlotlyJS\n",
    "using Printf\n",
    "using SymPy #https://docs.juliahub.com/SymPy/ \n",
    "using PDFIO\n",
    "using Unzip\n",
    "using Interpolations\n",
    "using Downloads\n",
    "#plotlyjs()\n",
    "data_dir = (\"C:\\\\Cross-Section-Data\\\\\")\n",
    "cross_section_dir = data_dir\n",
    "parent_dir = \"C:\\\\Users\\\\engin\\\\Documents\\\\GitHub\\\\Energy\\\\\""
   ]
  },
  {
   "cell_type": "code",
   "execution_count": 3,
   "metadata": {},
   "outputs": [
    {
     "data": {
      "text/plain": [
       "3192-element Vector{DataFrame}:\n",
       " \u001b[1m4×4 DataFrame\u001b[0m\n",
       "\u001b[1m Row \u001b[0m│\u001b[1m Parent  \u001b[0m\u001b[1m e-Folding Time (seconds) \u001b[0m\u001b[1m Average beta-decay energy \u001b[0m\u001b[1m Daughter \u001b[0m\n",
       "\u001b[1m     \u001b[0m│\u001b[90m String7 \u001b[0m\u001b[90m Float64                  \u001b[0m\u001b[90m Float64                   \u001b[0m\u001b[90m String7  \u001b[0m\n",
       "─────┼────────────────────────────────────────────────────────────────────────\n",
       "   1 │ 100Ag                   173.989                         5.69  100Cd\n",
       "   2 │ 100Cd                    70.8363                        5.69  100In\n",
       "   3 │ 100In                     8.10795                       5.69  100Sn\n",
       "   4 │ 100Sn                     1.70238                       5.69  100Sb\n",
       " \u001b[1m3×4 DataFrame\u001b[0m\n",
       "\u001b[1m Row \u001b[0m│\u001b[1m Parent  \u001b[0m\u001b[1m e-Folding Time (seconds) \u001b[0m\u001b[1m Average beta-decay energy \u001b[0m\u001b[1m Daughter \u001b[0m\n",
       "\u001b[1m     \u001b[0m│\u001b[90m String7 \u001b[0m\u001b[90m Float64                  \u001b[0m\u001b[90m Float64                   \u001b[0m\u001b[90m String7  \u001b[0m\n",
       "─────┼────────────────────────────────────────────────────────────────────────\n",
       "   1 │ 100Cd                    70.8363                        5.69  100In\n",
       "   2 │ 100In                     8.10795                       5.69  100Sn\n",
       "   3 │ 100Sn                     1.70238                       5.69  100Sb\n",
       " \u001b[1m2×4 DataFrame\u001b[0m\n",
       "\u001b[1m Row \u001b[0m│\u001b[1m Parent  \u001b[0m\u001b[1m e-Folding Time (seconds) \u001b[0m\u001b[1m Average beta-decay energy \u001b[0m\u001b[1m Daughter \u001b[0m\n",
       "\u001b[1m     \u001b[0m│\u001b[90m String7 \u001b[0m\u001b[90m Float64                  \u001b[0m\u001b[90m Float64                   \u001b[0m\u001b[90m String7  \u001b[0m\n",
       "─────┼────────────────────────────────────────────────────────────────────────\n",
       "   1 │ 100In                     8.10795                       5.69  100Sn\n",
       "   2 │ 100Sn                     1.70238                       5.69  100Sb\n",
       " \u001b[1m8×4 DataFrame\u001b[0m\n",
       "\u001b[1m Row \u001b[0m│\u001b[1m Parent  \u001b[0m\u001b[1m e-Folding Time (seconds) \u001b[0m\u001b[1m Average beta-decay energy \u001b[0m\u001b[1m Daughter \u001b[0m\n",
       "\u001b[1m     \u001b[0m│\u001b[90m String7 \u001b[0m\u001b[90m Float64                  \u001b[0m\u001b[90m Float64                   \u001b[0m\u001b[90m String7  \u001b[0m\n",
       "─────┼────────────────────────────────────────────────────────────────────────\n",
       "   1 │ 100Kr                  0.0173123                        5.69  100Rb\n",
       "   2 │ 100Rb                  0.0740103                        5.69  100Sr\n",
       "   3 │ 100Sr                  0.291569                         5.69  100Y\n",
       "   4 │ 100Y                   1.35613                          5.69  100Zr\n",
       "   5 │ 100Zr                 10.2431                           5.69  100Nb\n",
       "   6 │ 100Nb                  2.16404                          5.69  100Mo\n",
       "   7 │ 100Mo                  3.21883e26                       5.69  100Tc\n",
       "   8 │ 100Tc                 22.3041                           5.69  100Ru\n",
       " \u001b[1m2×4 DataFrame\u001b[0m\n",
       "\u001b[1m Row \u001b[0m│\u001b[1m Parent  \u001b[0m\u001b[1m e-Folding Time (seconds) \u001b[0m\u001b[1m Average beta-decay energy \u001b[0m\u001b[1m Daughter \u001b[0m\n",
       "\u001b[1m     \u001b[0m│\u001b[90m String7 \u001b[0m\u001b[90m Float64                  \u001b[0m\u001b[90m Float64                   \u001b[0m\u001b[90m String7  \u001b[0m\n",
       "─────┼────────────────────────────────────────────────────────────────────────\n",
       "   1 │ 100Mo                  3.21883e26                       5.69  100Tc\n",
       "   2 │ 100Tc                 22.3041                           5.69  100Ru\n",
       " \u001b[1m3×4 DataFrame\u001b[0m\n",
       "\u001b[1m Row \u001b[0m│\u001b[1m Parent  \u001b[0m\u001b[1m e-Folding Time (seconds) \u001b[0m\u001b[1m Average beta-decay energy \u001b[0m\u001b[1m Daughter \u001b[0m\n",
       "\u001b[1m     \u001b[0m│\u001b[90m String7 \u001b[0m\u001b[90m Float64                  \u001b[0m\u001b[90m Float64                   \u001b[0m\u001b[90m String7  \u001b[0m\n",
       "─────┼────────────────────────────────────────────────────────────────────────\n",
       "   1 │ 100Nb                  2.16404                          5.69  100Mo\n",
       "   2 │ 100Mo                  3.21883e26                       5.69  100Tc\n",
       "   3 │ 100Tc                 22.3041                           5.69  100Ru\n",
       " \u001b[1m5×4 DataFrame\u001b[0m\n",
       "\u001b[1m Row \u001b[0m│\u001b[1m Parent  \u001b[0m\u001b[1m e-Folding Time (seconds) \u001b[0m\u001b[1m Average beta-decay energy \u001b[0m\u001b[1m Daughter \u001b[0m\n",
       "\u001b[1m     \u001b[0m│\u001b[90m String7 \u001b[0m\u001b[90m Float64                  \u001b[0m\u001b[90m Float64                   \u001b[0m\u001b[90m String7  \u001b[0m\n",
       "─────┼────────────────────────────────────────────────────────────────────────\n",
       "   1 │ 100Pd                   4.52475e5                       2.39  100Ag\n",
       "   2 │ 100Ag                 173.989                           5.69  100Cd\n",
       "   3 │ 100Cd                  70.8363                          5.69  100In\n",
       "   4 │ 100In                   8.10795                         5.69  100Sn\n",
       "   5 │ 100Sn                   1.70238                         5.69  100Sb\n",
       " \u001b[1m7×4 DataFrame\u001b[0m\n",
       "\u001b[1m Row \u001b[0m│\u001b[1m Parent  \u001b[0m\u001b[1m e-Folding Time (seconds) \u001b[0m\u001b[1m Average beta-decay energy \u001b[0m\u001b[1m Daughter \u001b[0m\n",
       "\u001b[1m     \u001b[0m│\u001b[90m String7 \u001b[0m\u001b[90m Float64                  \u001b[0m\u001b[90m Float64                   \u001b[0m\u001b[90m String7  \u001b[0m\n",
       "─────┼────────────────────────────────────────────────────────────────────────\n",
       "   1 │ 100Rb                  0.0740103                        5.69  100Sr\n",
       "   2 │ 100Sr                  0.291569                         5.69  100Y\n",
       "   3 │ 100Y                   1.35613                          5.69  100Zr\n",
       "   4 │ 100Zr                 10.2431                           5.69  100Nb\n",
       "   5 │ 100Nb                  2.16404                          5.69  100Mo\n",
       "   6 │ 100Mo                  3.21883e26                       5.69  100Tc\n",
       "   7 │ 100Tc                 22.3041                           5.69  100Ru\n",
       " \u001b[1m6×4 DataFrame\u001b[0m\n",
       "\u001b[1m Row \u001b[0m│\u001b[1m Parent  \u001b[0m\u001b[1m e-Folding Time (seconds) \u001b[0m\u001b[1m Average beta-decay energy \u001b[0m\u001b[1m Daughter \u001b[0m\n",
       "\u001b[1m     \u001b[0m│\u001b[90m String7 \u001b[0m\u001b[90m Float64                  \u001b[0m\u001b[90m Float64                   \u001b[0m\u001b[90m String7  \u001b[0m\n",
       "─────┼────────────────────────────────────────────────────────────────────────\n",
       "   1 │ 100Rh              108029.0                           324.0   100Pd\n",
       "   2 │ 100Pd                   4.52475e5                       2.39  100Ag\n",
       "   3 │ 100Ag                 173.989                           5.69  100Cd\n",
       "   4 │ 100Cd                  70.8363                          5.69  100In\n",
       "   5 │ 100In                   8.10795                         5.69  100Sn\n",
       "   6 │ 100Sn                   1.70238                         5.69  100Sb\n",
       " \u001b[1m1×4 DataFrame\u001b[0m\n",
       "\u001b[1m Row \u001b[0m│\u001b[1m Parent  \u001b[0m\u001b[1m e-Folding Time (seconds) \u001b[0m\u001b[1m Average beta-decay energy \u001b[0m\u001b[1m Daughter \u001b[0m\n",
       "\u001b[1m     \u001b[0m│\u001b[90m String7 \u001b[0m\u001b[90m Float64                  \u001b[0m\u001b[90m Float64                   \u001b[0m\u001b[90m String7  \u001b[0m\n",
       "─────┼────────────────────────────────────────────────────────────────────────\n",
       "   1 │ 100Sn                     1.70238                       5.69  100Sb\n",
       " \u001b[1m6×4 DataFrame\u001b[0m\n",
       "\u001b[1m Row \u001b[0m│\u001b[1m Parent  \u001b[0m\u001b[1m e-Folding Time (seconds) \u001b[0m\u001b[1m Average beta-decay energy \u001b[0m\u001b[1m Daughter \u001b[0m\n",
       "\u001b[1m     \u001b[0m│\u001b[90m String7 \u001b[0m\u001b[90m Float64                  \u001b[0m\u001b[90m Float64                   \u001b[0m\u001b[90m String7  \u001b[0m\n",
       "─────┼────────────────────────────────────────────────────────────────────────\n",
       "   1 │ 100Sr                  0.291569                         5.69  100Y\n",
       "   2 │ 100Y                   1.35613                          5.69  100Zr\n",
       "   3 │ 100Zr                 10.2431                           5.69  100Nb\n",
       "   4 │ 100Nb                  2.16404                          5.69  100Mo\n",
       "   5 │ 100Mo                  3.21883e26                       5.69  100Tc\n",
       "   6 │ 100Tc                 22.3041                           5.69  100Ru\n",
       " \u001b[1m1×4 DataFrame\u001b[0m\n",
       "\u001b[1m Row \u001b[0m│\u001b[1m Parent  \u001b[0m\u001b[1m e-Folding Time (seconds) \u001b[0m\u001b[1m Average beta-decay energy \u001b[0m\u001b[1m Daughter \u001b[0m\n",
       "\u001b[1m     \u001b[0m│\u001b[90m String7 \u001b[0m\u001b[90m Float64                  \u001b[0m\u001b[90m Float64                   \u001b[0m\u001b[90m String7  \u001b[0m\n",
       "─────┼────────────────────────────────────────────────────────────────────────\n",
       "   1 │ 100Tc                     22.3041                       5.69  100Ru\n",
       " \u001b[1m5×4 DataFrame\u001b[0m\n",
       "\u001b[1m Row \u001b[0m│\u001b[1m Parent  \u001b[0m\u001b[1m e-Folding Time (seconds) \u001b[0m\u001b[1m Average beta-decay energy \u001b[0m\u001b[1m Daughter \u001b[0m\n",
       "\u001b[1m     \u001b[0m│\u001b[90m String7 \u001b[0m\u001b[90m Float64                  \u001b[0m\u001b[90m Float64                   \u001b[0m\u001b[90m String7  \u001b[0m\n",
       "─────┼────────────────────────────────────────────────────────────────────────\n",
       "   1 │ 100Y                   1.35613                          5.69  100Zr\n",
       "   2 │ 100Zr                 10.2431                           5.69  100Nb\n",
       "   3 │ 100Nb                  2.16404                          5.69  100Mo\n",
       "   4 │ 100Mo                  3.21883e26                       5.69  100Tc\n",
       "   5 │ 100Tc                 22.3041                           5.69  100Ru\n",
       " ⋮\n",
       " \u001b[1m5×4 DataFrame\u001b[0m\n",
       "\u001b[1m Row \u001b[0m│\u001b[1m Parent  \u001b[0m\u001b[1m e-Folding Time (seconds) \u001b[0m\u001b[1m Average beta-decay energy \u001b[0m\u001b[1m Daughter \u001b[0m\n",
       "\u001b[1m     \u001b[0m│\u001b[90m String7 \u001b[0m\u001b[90m Float64                  \u001b[0m\u001b[90m Float64                   \u001b[0m\u001b[90m String7  \u001b[0m\n",
       "─────┼────────────────────────────────────────────────────────────────────────\n",
       "   1 │ 99Pd                 1852.42                            5.69  99Ag\n",
       "   2 │ 99Ag                  179.183                           5.69  99Cd\n",
       "   3 │ 99Cd                   24.5258                          5.69  99In\n",
       "   4 │ 99In                    4.48678                         5.69  99Sn\n",
       "   5 │ 99Sn                    0.0346247                       5.69  99Sb\n",
       " \u001b[1m7×4 DataFrame\u001b[0m\n",
       "\u001b[1m Row \u001b[0m│\u001b[1m Parent  \u001b[0m\u001b[1m e-Folding Time (seconds) \u001b[0m\u001b[1m Average beta-decay energy \u001b[0m\u001b[1m Daughter \u001b[0m\n",
       "\u001b[1m     \u001b[0m│\u001b[90m String7 \u001b[0m\u001b[90m Float64                  \u001b[0m\u001b[90m Float64                   \u001b[0m\u001b[90m String7  \u001b[0m\n",
       "─────┼────────────────────────────────────────────────────────────────────────\n",
       "   1 │ 99Rb                   0.0779055                      5.69    99Sr\n",
       "   2 │ 99Sr                   0.388374                       5.69    99Y\n",
       "   3 │ 99Y                    2.14096                        5.69    99Zr\n",
       "   4 │ 99Zr                   3.02966                        5.69    99Nb\n",
       "   5 │ 99Nb                  21.6404                         5.69    99Mo\n",
       "   6 │ 99Mo                   3.42431e5                     59.9     99Tc\n",
       "   7 │ 99Tc                   9.61096e12                     1.6286  99Ru\n",
       " \u001b[1m6×4 DataFrame\u001b[0m\n",
       "\u001b[1m Row \u001b[0m│\u001b[1m Parent  \u001b[0m\u001b[1m e-Folding Time (seconds) \u001b[0m\u001b[1m Average beta-decay energy \u001b[0m\u001b[1m Daughter \u001b[0m\n",
       "\u001b[1m     \u001b[0m│\u001b[90m String7 \u001b[0m\u001b[90m Float64                  \u001b[0m\u001b[90m Float64                   \u001b[0m\u001b[90m String7  \u001b[0m\n",
       "─────┼────────────────────────────────────────────────────────────────────────\n",
       "   1 │ 99Rh                    2.00685e6                     208.0   99Pd\n",
       "   2 │ 99Pd                 1852.42                            5.69  99Ag\n",
       "   3 │ 99Ag                  179.183                           5.69  99Cd\n",
       "   4 │ 99Cd                   24.5258                          5.69  99In\n",
       "   5 │ 99In                    4.48678                         5.69  99Sn\n",
       "   6 │ 99Sn                    0.0346247                       5.69  99Sb\n",
       " \u001b[1m1×4 DataFrame\u001b[0m\n",
       "\u001b[1m Row \u001b[0m│\u001b[1m Parent  \u001b[0m\u001b[1m e-Folding Time (seconds) \u001b[0m\u001b[1m Average beta-decay energy \u001b[0m\u001b[1m Daughter \u001b[0m\n",
       "\u001b[1m     \u001b[0m│\u001b[90m String7 \u001b[0m\u001b[90m Float64                  \u001b[0m\u001b[90m Float64                   \u001b[0m\u001b[90m String7  \u001b[0m\n",
       "─────┼────────────────────────────────────────────────────────────────────────\n",
       "   1 │ 99Sn                    0.0346247                       5.69  99Sb\n",
       " \u001b[1m6×4 DataFrame\u001b[0m\n",
       "\u001b[1m Row \u001b[0m│\u001b[1m Parent  \u001b[0m\u001b[1m e-Folding Time (seconds) \u001b[0m\u001b[1m Average beta-decay energy \u001b[0m\u001b[1m Daughter \u001b[0m\n",
       "\u001b[1m     \u001b[0m│\u001b[90m String7 \u001b[0m\u001b[90m Float64                  \u001b[0m\u001b[90m Float64                   \u001b[0m\u001b[90m String7  \u001b[0m\n",
       "─────┼────────────────────────────────────────────────────────────────────────\n",
       "   1 │ 99Sr                   0.388374                       5.69    99Y\n",
       "   2 │ 99Y                    2.14096                        5.69    99Zr\n",
       "   3 │ 99Zr                   3.02966                        5.69    99Nb\n",
       "   4 │ 99Nb                  21.6404                         5.69    99Mo\n",
       "   5 │ 99Mo                   3.42431e5                     59.9     99Tc\n",
       "   6 │ 99Tc                   9.61096e12                     1.6286  99Ru\n",
       " \u001b[1m1×4 DataFrame\u001b[0m\n",
       "\u001b[1m Row \u001b[0m│\u001b[1m Parent  \u001b[0m\u001b[1m e-Folding Time (seconds) \u001b[0m\u001b[1m Average beta-decay energy \u001b[0m\u001b[1m Daughter \u001b[0m\n",
       "\u001b[1m     \u001b[0m│\u001b[90m String7 \u001b[0m\u001b[90m Float64                  \u001b[0m\u001b[90m Float64                   \u001b[0m\u001b[90m String7  \u001b[0m\n",
       "─────┼────────────────────────────────────────────────────────────────────────\n",
       "   1 │ 99Tc                   9.61096e12                     1.6286  99Ru\n",
       " \u001b[1m5×4 DataFrame\u001b[0m\n",
       "\u001b[1m Row \u001b[0m│\u001b[1m Parent  \u001b[0m\u001b[1m e-Folding Time (seconds) \u001b[0m\u001b[1m Average beta-decay energy \u001b[0m\u001b[1m Daughter \u001b[0m\n",
       "\u001b[1m     \u001b[0m│\u001b[90m String7 \u001b[0m\u001b[90m Float64                  \u001b[0m\u001b[90m Float64                   \u001b[0m\u001b[90m String7  \u001b[0m\n",
       "─────┼────────────────────────────────────────────────────────────────────────\n",
       "   1 │ 99Y                    2.14096                        5.69    99Zr\n",
       "   2 │ 99Zr                   3.02966                        5.69    99Nb\n",
       "   3 │ 99Nb                  21.6404                         5.69    99Mo\n",
       "   4 │ 99Mo                   3.42431e5                     59.9     99Tc\n",
       "   5 │ 99Tc                   9.61096e12                     1.6286  99Ru\n",
       " \u001b[1m4×4 DataFrame\u001b[0m\n",
       "\u001b[1m Row \u001b[0m│\u001b[1m Parent  \u001b[0m\u001b[1m e-Folding Time (seconds) \u001b[0m\u001b[1m Average beta-decay energy \u001b[0m\u001b[1m Daughter \u001b[0m\n",
       "\u001b[1m     \u001b[0m│\u001b[90m String7 \u001b[0m\u001b[90m Float64                  \u001b[0m\u001b[90m Float64                   \u001b[0m\u001b[90m String7  \u001b[0m\n",
       "─────┼────────────────────────────────────────────────────────────────────────\n",
       "   1 │ 99Zr                   3.02966                        5.69    99Nb\n",
       "   2 │ 99Nb                  21.6404                         5.69    99Mo\n",
       "   3 │ 99Mo                   3.42431e5                     59.9     99Tc\n",
       "   4 │ 99Tc                   9.61096e12                     1.6286  99Ru\n",
       " \u001b[1m2×4 DataFrame\u001b[0m\n",
       "\u001b[1m Row \u001b[0m│\u001b[1m Parent  \u001b[0m\u001b[1m e-Folding Time (seconds) \u001b[0m\u001b[1m Average beta-decay energy \u001b[0m\u001b[1m Daughter \u001b[0m\n",
       "\u001b[1m     \u001b[0m│\u001b[90m String3 \u001b[0m\u001b[90m Float64                  \u001b[0m\u001b[90m Float64                   \u001b[0m\u001b[90m String3  \u001b[0m\n",
       "─────┼────────────────────────────────────────────────────────────────────────\n",
       "   1 │ 9B                    1.15416e-18                       5.69  9C\n",
       "   2 │ 9C                    0.182501                          5.69  9N\n",
       " \u001b[1m1×4 DataFrame\u001b[0m\n",
       "\u001b[1m Row \u001b[0m│\u001b[1m Parent  \u001b[0m\u001b[1m e-Folding Time (seconds) \u001b[0m\u001b[1m Average beta-decay energy \u001b[0m\u001b[1m Daughter \u001b[0m\n",
       "\u001b[1m     \u001b[0m│\u001b[90m String3 \u001b[0m\u001b[90m Float64                  \u001b[0m\u001b[90m Float64                   \u001b[0m\u001b[90m String3  \u001b[0m\n",
       "─────┼────────────────────────────────────────────────────────────────────────\n",
       "   1 │ 9C                       0.182501                       5.69  9N\n",
       " \u001b[1m2×4 DataFrame\u001b[0m\n",
       "\u001b[1m Row \u001b[0m│\u001b[1m Parent  \u001b[0m\u001b[1m e-Folding Time (seconds) \u001b[0m\u001b[1m Average beta-decay energy \u001b[0m\u001b[1m Daughter \u001b[0m\n",
       "\u001b[1m     \u001b[0m│\u001b[90m String3 \u001b[0m\u001b[90m Float64                  \u001b[0m\u001b[90m Float64                   \u001b[0m\u001b[90m String3  \u001b[0m\n",
       "─────┼────────────────────────────────────────────────────────────────────────\n",
       "   1 │ 9He                   3.60674e-21                       5.69  9Li\n",
       "   2 │ 9Li                   0.257088                          5.69  9Be\n",
       " \u001b[1m1×4 DataFrame\u001b[0m\n",
       "\u001b[1m Row \u001b[0m│\u001b[1m Parent  \u001b[0m\u001b[1m e-Folding Time (seconds) \u001b[0m\u001b[1m Average beta-decay energy \u001b[0m\u001b[1m Daughter \u001b[0m\n",
       "\u001b[1m     \u001b[0m│\u001b[90m String3 \u001b[0m\u001b[90m Float64                  \u001b[0m\u001b[90m Float64                   \u001b[0m\u001b[90m String3  \u001b[0m\n",
       "─────┼────────────────────────────────────────────────────────────────────────\n",
       "   1 │ 9Li                      0.257088                       5.69  9Be"
      ]
     },
     "execution_count": 3,
     "metadata": {},
     "output_type": "execute_result"
    }
   ],
   "source": [
    "decay_chain_dir = parent_dir * \"ExportedData\\\\all_beta_decay_chains\\\\\"\n",
    "decay_chain_files = readdir(decay_chain_dir)\n",
    "all_decay_chains = [CSV.read(decay_chain_dir * file, DataFrame)\n",
    "                    for file in decay_chain_files]\n",
    "all_decay_chains = [rename!(df, :Column1 => :Parent) for df in all_decay_chains]"
   ]
  },
  {
   "cell_type": "markdown",
   "metadata": {},
   "source": [
    "I derived the decay rate of the n-th generation nuclide in a decay chain here:\n",
    "\n",
    "https://www.overleaf.com/project/627613def6b848465d85e5bb\n",
    "\n",
    "https://github.com/MarcosP7635/Math-for-Energy/blob/main/main.tex\n",
    "\n",
    "file:///C:/Users/engin/Downloads/Math_for_Energy(4).pdf "
   ]
  },
  {
   "cell_type": "code",
   "execution_count": 4,
   "metadata": {},
   "outputs": [
    {
     "data": {
      "text/plain": [
       "factor (generic function with 1 method)"
      ]
     },
     "execution_count": 4,
     "metadata": {},
     "output_type": "execute_result"
    }
   ],
   "source": [
    "factor(t, e_folding_time) = 1 - exp(t / -e_folding_time)"
   ]
  },
  {
   "cell_type": "code",
   "execution_count": 5,
   "metadata": {},
   "outputs": [
    {
     "data": {
      "text/plain": [
       "a_prod (generic function with 1 method)"
      ]
     },
     "execution_count": 5,
     "metadata": {},
     "output_type": "execute_result"
    }
   ],
   "source": [
    "a_prod(e_folding_times, t) = prod([factor(t, e_folding_times[k])\n",
    "                                   for k in 2:length(e_folding_times)])"
   ]
  },
  {
   "cell_type": "code",
   "execution_count": 6,
   "metadata": {},
   "outputs": [
    {
     "data": {
      "text/plain": [
       "r (generic function with 1 method)"
      ]
     },
     "execution_count": 6,
     "metadata": {},
     "output_type": "execute_result"
    }
   ],
   "source": [
    "r(e_fold_times, t) = (a_prod(e_fold_times, t) * exp(t / -e_fold_times[1])\n",
    "                      /\n",
    "                      -e_fold_times[1])\n"
   ]
  },
  {
   "cell_type": "code",
   "execution_count": 7,
   "metadata": {},
   "outputs": [
    {
     "data": {
      "text/latex": [
       "\\begin{equation}\n",
       "\\frac{ - \\left( 1 - e^{\\frac{t}{ - \\lambda_{1}}} \\right) \\left( 1 - e^{\\frac{t}{ - \\lambda_{2}}} \\right) e^{\\frac{t}{ - \\lambda_{0}}}}{\\lambda_{0}}\n",
       "\\end{equation}\n"
      ],
      "text/plain": [
       "(-(1 - exp(t / (-λ_1)))*(1 - exp(t / (-λ_2)))*exp(t / (-λ_0))) / λ_0"
      ]
     },
     "execution_count": 7,
     "metadata": {},
     "output_type": "execute_result"
    }
   ],
   "source": [
    "λ_0, λ_1, λ_2, t = @variables λ_0, λ_1, λ_2, t\n",
    "expected_output = (1 - exp(t / -λ_1)) * (1 - exp(t / -λ_2)) * exp(t / -λ_0) / (-λ_0)"
   ]
  },
  {
   "cell_type": "code",
   "execution_count": 8,
   "metadata": {},
   "outputs": [
    {
     "data": {
      "text/plain": [
       "\u001b[32m\u001b[1mTest Passed\u001b[22m\u001b[39m\n",
       "  Expression: r(e_folding_times, t) - expected_output == 0\n",
       "   Evaluated: 0 == 0"
      ]
     },
     "execution_count": 8,
     "metadata": {},
     "output_type": "execute_result"
    }
   ],
   "source": [
    "e_folding_times = [λ_0, λ_1, λ_2]\n",
    "r(e_folding_times, t)\n",
    "Test.@test r(e_folding_times, t) - expected_output == 0"
   ]
  },
  {
   "cell_type": "markdown",
   "metadata": {},
   "source": [
    "It works! :) "
   ]
  },
  {
   "cell_type": "markdown",
   "metadata": {},
   "source": [
    "The average beta decay energy is given in keV. "
   ]
  },
  {
   "cell_type": "code",
   "execution_count": 9,
   "metadata": {},
   "outputs": [
    {
     "data": {
      "text/plain": [
       "337//2103388558093277156"
      ]
     },
     "execution_count": 9,
     "metadata": {},
     "output_type": "execute_result"
    }
   ],
   "source": [
    "joules_per_keV = Rational(uconvert(@u_str(\"J\"), 1 * @u_str(\"keV\")) / @u_str(\"J\"))"
   ]
  },
  {
   "cell_type": "markdown",
   "metadata": {},
   "source": [
    "Avogadro's number"
   ]
  },
  {
   "cell_type": "code",
   "execution_count": 10,
   "metadata": {},
   "outputs": [
    {
     "data": {
      "text/plain": [
       "6475021031458043//67108864"
      ]
     },
     "execution_count": 10,
     "metadata": {},
     "output_type": "execute_result"
    }
   ],
   "source": [
    "N_A = 6.02214076e23\n",
    "conversion_factor = Rational(joules_per_keV * N_A)"
   ]
  },
  {
   "cell_type": "markdown",
   "metadata": {},
   "source": [
    "Now we calculate the power in watts"
   ]
  },
  {
   "cell_type": "code",
   "execution_count": 11,
   "metadata": {},
   "outputs": [
    {
     "data": {
      "text/plain": [
       "power_per_mole (generic function with 1 method)"
      ]
     },
     "execution_count": 11,
     "metadata": {},
     "output_type": "execute_result"
    }
   ],
   "source": [
    "power_per_mole(decay_rate, decay_energy) = decay_rate * decay_energy * conversion_factor"
   ]
  },
  {
   "cell_type": "code",
   "execution_count": 12,
   "metadata": {},
   "outputs": [
    {
     "data": {
      "text/plain": [
       "power_per_mole (generic function with 2 methods)"
      ]
     },
     "execution_count": 12,
     "metadata": {},
     "output_type": "execute_result"
    }
   ],
   "source": [
    "power_per_mole(e_folding_times, decay_energies, t) = sum([\n",
    "    power_per_mole(r(e_folding_times[1:i], t), decay_energies[i])\n",
    "    for i in 1:length(decay_energies)])"
   ]
  },
  {
   "cell_type": "code",
   "execution_count": 13,
   "metadata": {},
   "outputs": [
    {
     "data": {
      "text/latex": [
       "\\begin{equation}\n",
       "\\frac{ - \\frac{6475021031458043}{67108864} E_{0} e^{\\frac{t}{ - \\lambda_{0}}}}{\\lambda_{0}} + \\frac{ - \\frac{6475021031458043}{67108864} E_{1} \\left( 1 - e^{\\frac{t}{ - \\lambda_{1}}} \\right) e^{\\frac{t}{ - \\lambda_{0}}}}{\\lambda_{0}} + \\frac{ - \\frac{6475021031458043}{67108864} E_{2} \\left( 1 - e^{\\frac{t}{ - \\lambda_{1}}} \\right) \\left( 1 - e^{\\frac{t}{ - \\lambda_{2}}} \\right) e^{\\frac{t}{ - \\lambda_{0}}}}{\\lambda_{0}}\n",
       "\\end{equation}\n"
      ],
      "text/plain": [
       "((-6475021031458043//67108864)*E_0*exp(t / (-λ_0))) / λ_0 + ((-6475021031458043//67108864)*E_1*(1 - exp(t / (-λ_1)))*exp(t / (-λ_0))) / λ_0 + ((-6475021031458043//67108864)*E_2*(1 - exp(t / (-λ_1)))*(1 - exp(t / (-λ_2)))*exp(t / (-λ_0))) / λ_0"
      ]
     },
     "execution_count": 13,
     "metadata": {},
     "output_type": "execute_result"
    }
   ],
   "source": [
    "E_0, E_1, E_2, t = @variables E_0, E_1, E_2, t\n",
    "expected_output = conversion_factor * sum([\n",
    "    E_0 * exp(t / -λ_0) / (-λ_0),\n",
    "    (1 - exp(t / -λ_1)) * E_1 * exp(t / -λ_0) / (-λ_0),\n",
    "    (1 - exp(t / -λ_1)) * (1 - exp(t / -λ_2)) * E_2 * exp(t / -λ_0) / (-λ_0)\n",
    "])"
   ]
  },
  {
   "cell_type": "code",
   "execution_count": 14,
   "metadata": {},
   "outputs": [
    {
     "data": {
      "text/plain": [
       "\u001b[32m\u001b[1mTest Passed\u001b[22m\u001b[39m\n",
       "  Expression: Symbolics.simplify(power_per_mole(e_folding_times, decay_energies, t) - expected_output) == 0\n",
       "   Evaluated: 0 == 0"
      ]
     },
     "execution_count": 14,
     "metadata": {},
     "output_type": "execute_result"
    }
   ],
   "source": [
    "decay_energies = [E_0, E_1, E_2]\n",
    "Test.@test Symbolics.simplify(power_per_mole(e_folding_times, decay_energies, t) \n",
    "            - expected_output) == 0"
   ]
  },
  {
   "cell_type": "code",
   "execution_count": 17,
   "metadata": {},
   "outputs": [],
   "source": [
    "x = [power_per_mole(df[!,\"e-Folding Time (seconds)\"], df[!,\"Average beta-decay energy\"], 2)\n",
    "for df in all_decay_chains];"
   ]
  },
  {
   "cell_type": "markdown",
   "metadata": {},
   "source": [
    "It takes about .1 seconds to calculate the power per mole for the entire dataframe for a given time. "
   ]
  },
  {
   "cell_type": "code",
   "execution_count": 27,
   "metadata": {},
   "outputs": [
    {
     "data": {
      "text/plain": [
       "1001-element Vector{Float64}:\n",
       " -10.0\n",
       "  -9.98\n",
       "  -9.96\n",
       "  -9.94\n",
       "  -9.92\n",
       "  -9.9\n",
       "  -9.88\n",
       "  -9.86\n",
       "  -9.84\n",
       "  -9.82\n",
       "  -9.8\n",
       "  -9.78\n",
       "  -9.76\n",
       "   ⋮\n",
       "   9.78\n",
       "   9.8\n",
       "   9.82\n",
       "   9.84\n",
       "   9.86\n",
       "   9.88\n",
       "   9.9\n",
       "   9.92\n",
       "   9.94\n",
       "   9.96\n",
       "   9.98\n",
       "  10.0"
      ]
     },
     "execution_count": 27,
     "metadata": {},
     "output_type": "execute_result"
    }
   ],
   "source": [
    "exponents_for_time_array = -10:20/1000:10\n",
    "collect(exponents_for_time_array)"
   ]
  },
  {
   "cell_type": "code",
   "execution_count": 31,
   "metadata": {},
   "outputs": [
    {
     "data": {
      "text/plain": [
       "1001-element Vector{BigFloat}:\n",
       " 1.000000000000000000000000000000000000000000000000000000000000000000000000000003e-10\n",
       " 1.047128548050898505549645783823682271757193893433574137820153812424537637016191e-10\n",
       " 1.0964781961431828604257317209264159331313714105011702911985913060102831306613e-10\n",
       " 1.148153621496884066480156540139268838588675605873626387416861363160599339507005e-10\n",
       " 1.202264434617413102533306847068551134853580025789314084263608408653746937282328e-10\n",
       " 1.25892541179416618056939287182433126845996218444738646667433027351526766150798e-10\n",
       " 1.318256738556404729589129642168660706457656431654852798000801526451019756623137e-10\n",
       " 1.38038426460288664458362703761266589785155477230948719984049693714804016050564e-10\n",
       " 1.445439770745927984903979184458196052506877843919927508765240153411912508988761e-10\n",
       " 1.513561248436207171938059987874779303581263483786977823789873399913939914213657e-10\n",
       " 1.584893192461110892181946192724010648088344291738932269688212001583469968929013e-10\n",
       " 1.659586907437563078013118947327643236008964179424527256052810262534959086840024e-10\n",
       " 1.737800828749376319956618256342589862513317428884702354880700155241417581162049e-10\n",
       " ⋮\n",
       " 6.02559586074356859716412265067716904932588501512965416858430502168396189887616e+09\n",
       " 6.30957344480194281734277303789935568477812448890974812357812748573170574726006e+09\n",
       " 6.606934480075964388899316501628591437113571096436949522897470674425020244006487e+09\n",
       " 6.918309709189362611548141161344066540201278752407103665722592119879792382546489e+09\n",
       " 7.24435960074989115360323616805032081117797394569241349481821367320649275050591e+09\n",
       " 7.5857757502918513396099064210775313934104156677251461251031662738638830516689e+09\n",
       " 7.943282347242821518602174402167029674549522191888286138077973813312815371067061e+09\n",
       " 8.317637711026708700830592010545709577110648216433498986514973065920816617925463e+09\n",
       " 8.709635899560796400314340193164592711964017096779691344846295173386970473846968e+09\n",
       " 9.120108393559115326737861412998371848330360866815874646477213839888861881827091e+09\n",
       " 9.549925860214368871934502123806500813555808633525601292241946386449304677796978e+09\n",
       " 1.0e+10"
      ]
     },
     "execution_count": 31,
     "metadata": {},
     "output_type": "execute_result"
    }
   ],
   "source": [
    "time_array = [BigFloat(10)^x for x in exponents_for_time_array]"
   ]
  },
  {
   "cell_type": "code",
   "execution_count": 55,
   "metadata": {},
   "outputs": [
    {
     "data": {
      "text/plain": [
       "Dict{Any, Any} with 3192 entries:\n",
       "  \"113Sn\" => BigFloat[-19.1026, -19.1026, -19.1026, -19.1026, -19.1026, -19.102…\n",
       "  \"243Cf\" => BigFloat[-587251.0, -587251.0, -587251.0, -587251.0, -587251.0, -5…\n",
       "  \"168Eu\" => BigFloat[-1.90269e+09, -1.90269e+09, -1.90269e+09, -1.90269e+09, -…\n",
       "  \"162Sm\" => BigFloat[-1.4094e+08, -1.4094e+08, -1.4094e+08, -1.4094e+08, -1.40…\n",
       "  \"11N\"   => BigFloat[0.0, 0.0, 0.0, 0.0, 0.0, 0.0, 0.0, 0.0, 0.0, 0.0  …  0.0,…\n",
       "  \"57V\"   => BigFloat[-1.08725e+09, -1.08725e+09, -1.08725e+09, -1.08725e+09, -…\n",
       "  \"208Po\" => BigFloat[-4.16099, -4.16099, -4.16099, -4.16099, -4.16099, -4.1609…\n",
       "  \"174Ir\" => BigFloat[-4.81695e+07, -4.81695e+07, -4.81695e+07, -4.81695e+07, -…\n",
       "  \"144Gd\" => BigFloat[-1.41886e+06, -1.41886e+06, -1.41886e+06, -1.41886e+06, -…\n",
       "  \"80Sr\"  => BigFloat[-59664.3, -59664.3, -59664.3, -59664.3, -59664.3, -59664.…\n",
       "  \"33Ar\"  => BigFloat[-2.19965e+09, -2.19965e+09, -2.19965e+09, -2.19965e+09, -…\n",
       "  \"220Pa\" => BigFloat[-4.48174e+14, -4.48197e+14, -4.48221e+14, -4.48246e+14, -…\n",
       "  \"108In\" => BigFloat[-109350.0, -109350.0, -109350.0, -109350.0, -109350.0, -1…\n",
       "  \"122Tc\" => BigFloat[-2.92722e+10, -2.92722e+10, -2.92722e+10, -2.92722e+10, -…\n",
       "  \"252No\" => BigFloat[-1.54252e+08, -1.54252e+08, -1.54252e+08, -1.54252e+08, -…\n",
       "  \"254Es\" => BigFloat[-17848.0, -17848.0, -17848.0, -17848.0, -17848.0, -17848.…\n",
       "  \"165Hf\" => BigFloat[-5.00709e+06, -5.00709e+06, -5.00709e+06, -5.00709e+06, -…\n",
       "  \"67Mn\"  => BigFloat[-8.14858e+09, -8.14858e+09, -8.14858e+09, -8.14858e+09, -…\n",
       "  \"260Sg\" => BigFloat[-7.68765e+10, -7.68765e+10, -7.68765e+10, -7.68765e+10, -…\n",
       "  \"95Cd\"  => BigFloat[-1.18918e+10, -1.18918e+10, -1.18918e+10, -1.18918e+10, -…\n",
       "  \"233Cm\" => BigFloat[-1.4094e+07, -1.4094e+07, -1.4094e+07, -1.4094e+07, -1.40…\n",
       "  \"255Db\" => BigFloat[-7.04702e+09, -7.04702e+09, -7.04702e+09, -7.04702e+09, -…\n",
       "  \"103Rb\" => BigFloat[-1.46361e+10, -1.46361e+10, -1.46361e+10, -1.46361e+10, -…\n",
       "  \"234Bk\" => BigFloat[-1.90269e+07, -1.90269e+07, -1.90269e+07, -1.90269e+07, -…\n",
       "  \"80Zr\"  => BigFloat[-8.27258e+07, -8.27258e+07, -8.27258e+07, -8.27258e+07, -…\n",
       "  ⋮       => ⋮"
      ]
     },
     "execution_count": 55,
     "metadata": {},
     "output_type": "execute_result"
    }
   ],
   "source": [
    "power_time_series = [[power_per_mole(df[!,\"e-Folding Time (seconds)\"], \n",
    "                    df[!,\"Average beta-decay energy\"], time)\n",
    "                    for time in time_array] for df in all_decay_chains]; \n",
    "zero_gen_isotopes = [df[1, \"Parent\"] for df in all_decay_chains]\n",
    "power_time_series_dict = Dict([])\n",
    "stop = length(power_time_series)\n",
    "for i in 1:stop\n",
    "        power_time_series_dict[zero_gen_isotopes[i]] = power_time_series[i]\n",
    "end\n",
    "power_time_series_dict"
   ]
  },
  {
   "cell_type": "code",
   "execution_count": 65,
   "metadata": {},
   "outputs": [
    {
     "ename": "LoadError",
     "evalue": "syntax: incomplete: \"function\" at In[65]:1 requires end",
     "output_type": "error",
     "traceback": [
      "syntax: incomplete: \"function\" at In[65]:1 requires end",
      "",
      "Stacktrace:",
      " [1] top-level scope",
      "   @ In[65]:1",
      " [2] eval",
      "   @ .\\boot.jl:373 [inlined]",
      " [3] include_string(mapexpr::typeof(REPL.softscope), mod::Module, code::String, filename::String)",
      "   @ Base .\\loading.jl:1196"
     ]
    }
   ],
   "source": [
    "function plot_power_time_series(nuclide)\n",
    "    power_time_series = power_time_series_dict[nuclide]\n",
    "    plot(x = time_array, y = power_time_series, mode = \"markers\", \n",
    "    Layout(xaxis_type = \"log\", yaxis_type = \"log\"))\n",
    "end"
   ]
  },
  {
   "cell_type": "code",
   "execution_count": null,
   "metadata": {},
   "outputs": [],
   "source": []
  }
 ],
 "metadata": {
  "kernelspec": {
   "display_name": "Julia 1.7.2",
   "language": "julia",
   "name": "julia-1.7"
  },
  "language_info": {
   "file_extension": ".jl",
   "mimetype": "application/julia",
   "name": "julia",
   "version": "1.7.2"
  },
  "orig_nbformat": 4,
  "vscode": {
   "interpreter": {
    "hash": "274785dbb282d05f4e0ae2ca70ac66f1fa0484127cd60ef9f4ac2dd997977034"
   }
  }
 },
 "nbformat": 4,
 "nbformat_minor": 2
}
