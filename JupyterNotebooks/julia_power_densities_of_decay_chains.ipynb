{
 "cells": [
  {
   "cell_type": "markdown",
   "metadata": {},
   "source": [
    "The purpose of this notebook is to calculate the power produced by a decay chain after the production of a given nuclide."
   ]
  },
  {
   "cell_type": "code",
   "execution_count": 1,
   "metadata": {},
   "outputs": [
    {
     "data": {
      "application/vnd.webio.node+json": {
       "children": [],
       "instanceArgs": {
        "namespace": "html",
        "tag": "div"
       },
       "nodeType": "DOM",
       "props": {},
       "type": "node"
      },
      "text/html": [
       "<div style=\"padding: 1em; background-color: #f8d6da; border: 1px solid #f5c6cb; font-weight: bold;\">\n",
       "<p>The WebIO Jupyter extension was not detected. See the\n",
       "<a href=\"https://juliagizmos.github.io/WebIO.jl/latest/providers/ijulia/\" target=\"_blank\">\n",
       "    WebIO Jupyter integration documentation\n",
       "</a>\n",
       "for more information.\n",
       "</div>\n"
      ],
      "text/plain": [
       "WebIO._IJuliaInit()"
      ]
     },
     "metadata": {},
     "output_type": "display_data"
    },
    {
     "data": {
      "text/plain": [
       "\"C:\\\\Users\\\\engin\\\\Documents\\\\GitHub\\\\Energy\\\\\""
      ]
     },
     "execution_count": 1,
     "metadata": {},
     "output_type": "execute_result"
    }
   ],
   "source": [
    "using Unitful #https://painterqubits.github.io/Unitful.jl/stable/\n",
    "#quantity * @u_str(\"unit abbreviation\") \n",
    "using Symbolics #https://symbolics.juliasymbolics.org/dev/\n",
    "#cite https://doi.org/10.48550/arXiv.2105.03949\n",
    "using Latexify\n",
    "using Test\n",
    "#1 * @u_str(\"mA\") is 1 milliamp\n",
    "using CSV, DataFrames\n",
    "#using Plots\n",
    "using PlotlyJS\n",
    "using Printf\n",
    "using SymPy #https://docs.juliahub.com/SymPy/ \n",
    "using PDFIO\n",
    "using Unzip\n",
    "using Interpolations\n",
    "using Downloads\n",
    "#plotlyjs()\n",
    "data_dir = (\"C:\\\\Cross-Section-Data\\\\\")\n",
    "cross_section_dir = data_dir\n",
    "parent_dir = \"C:\\\\Users\\\\engin\\\\Documents\\\\GitHub\\\\Energy\\\\\""
   ]
  },
  {
   "cell_type": "code",
   "execution_count": 3,
   "metadata": {},
   "outputs": [
    {
     "data": {
      "text/plain": [
       "3192-element Vector{DataFrame}:\n",
       " \u001b[1m4×4 DataFrame\u001b[0m\n",
       "\u001b[1m Row \u001b[0m│\u001b[1m Parent  \u001b[0m\u001b[1m e-Folding Time (seconds) \u001b[0m\u001b[1m Average beta-decay energy \u001b[0m\u001b[1m Daughter \u001b[0m\n",
       "\u001b[1m     \u001b[0m│\u001b[90m String7 \u001b[0m\u001b[90m Float64                  \u001b[0m\u001b[90m Float64                   \u001b[0m\u001b[90m String7  \u001b[0m\n",
       "─────┼────────────────────────────────────────────────────────────────────────\n",
       "   1 │ 100Ag                   173.989                         5.69  100Cd\n",
       "   2 │ 100Cd                    70.8363                        5.69  100In\n",
       "   3 │ 100In                     8.10795                       5.69  100Sn\n",
       "   4 │ 100Sn                     1.70238                       5.69  100Sb\n",
       " \u001b[1m3×4 DataFrame\u001b[0m\n",
       "\u001b[1m Row \u001b[0m│\u001b[1m Parent  \u001b[0m\u001b[1m e-Folding Time (seconds) \u001b[0m\u001b[1m Average beta-decay energy \u001b[0m\u001b[1m Daughter \u001b[0m\n",
       "\u001b[1m     \u001b[0m│\u001b[90m String7 \u001b[0m\u001b[90m Float64                  \u001b[0m\u001b[90m Float64                   \u001b[0m\u001b[90m String7  \u001b[0m\n",
       "─────┼────────────────────────────────────────────────────────────────────────\n",
       "   1 │ 100Cd                    70.8363                        5.69  100In\n",
       "   2 │ 100In                     8.10795                       5.69  100Sn\n",
       "   3 │ 100Sn                     1.70238                       5.69  100Sb\n",
       " \u001b[1m2×4 DataFrame\u001b[0m\n",
       "\u001b[1m Row \u001b[0m│\u001b[1m Parent  \u001b[0m\u001b[1m e-Folding Time (seconds) \u001b[0m\u001b[1m Average beta-decay energy \u001b[0m\u001b[1m Daughter \u001b[0m\n",
       "\u001b[1m     \u001b[0m│\u001b[90m String7 \u001b[0m\u001b[90m Float64                  \u001b[0m\u001b[90m Float64                   \u001b[0m\u001b[90m String7  \u001b[0m\n",
       "─────┼────────────────────────────────────────────────────────────────────────\n",
       "   1 │ 100In                     8.10795                       5.69  100Sn\n",
       "   2 │ 100Sn                     1.70238                       5.69  100Sb\n",
       " \u001b[1m8×4 DataFrame\u001b[0m\n",
       "\u001b[1m Row \u001b[0m│\u001b[1m Parent  \u001b[0m\u001b[1m e-Folding Time (seconds) \u001b[0m\u001b[1m Average beta-decay energy \u001b[0m\u001b[1m Daughter \u001b[0m\n",
       "\u001b[1m     \u001b[0m│\u001b[90m String7 \u001b[0m\u001b[90m Float64                  \u001b[0m\u001b[90m Float64                   \u001b[0m\u001b[90m String7  \u001b[0m\n",
       "─────┼────────────────────────────────────────────────────────────────────────\n",
       "   1 │ 100Kr                  0.0173123                        5.69  100Rb\n",
       "   2 │ 100Rb                  0.0740103                        5.69  100Sr\n",
       "   3 │ 100Sr                  0.291569                         5.69  100Y\n",
       "   4 │ 100Y                   1.35613                          5.69  100Zr\n",
       "   5 │ 100Zr                 10.2431                           5.69  100Nb\n",
       "   6 │ 100Nb                  2.16404                          5.69  100Mo\n",
       "   7 │ 100Mo                  3.21883e26                       5.69  100Tc\n",
       "   8 │ 100Tc                 22.3041                           5.69  100Ru\n",
       " \u001b[1m2×4 DataFrame\u001b[0m\n",
       "\u001b[1m Row \u001b[0m│\u001b[1m Parent  \u001b[0m\u001b[1m e-Folding Time (seconds) \u001b[0m\u001b[1m Average beta-decay energy \u001b[0m\u001b[1m Daughter \u001b[0m\n",
       "\u001b[1m     \u001b[0m│\u001b[90m String7 \u001b[0m\u001b[90m Float64                  \u001b[0m\u001b[90m Float64                   \u001b[0m\u001b[90m String7  \u001b[0m\n",
       "─────┼────────────────────────────────────────────────────────────────────────\n",
       "   1 │ 100Mo                  3.21883e26                       5.69  100Tc\n",
       "   2 │ 100Tc                 22.3041                           5.69  100Ru\n",
       " \u001b[1m3×4 DataFrame\u001b[0m\n",
       "\u001b[1m Row \u001b[0m│\u001b[1m Parent  \u001b[0m\u001b[1m e-Folding Time (seconds) \u001b[0m\u001b[1m Average beta-decay energy \u001b[0m\u001b[1m Daughter \u001b[0m\n",
       "\u001b[1m     \u001b[0m│\u001b[90m String7 \u001b[0m\u001b[90m Float64                  \u001b[0m\u001b[90m Float64                   \u001b[0m\u001b[90m String7  \u001b[0m\n",
       "─────┼────────────────────────────────────────────────────────────────────────\n",
       "   1 │ 100Nb                  2.16404                          5.69  100Mo\n",
       "   2 │ 100Mo                  3.21883e26                       5.69  100Tc\n",
       "   3 │ 100Tc                 22.3041                           5.69  100Ru\n",
       " \u001b[1m5×4 DataFrame\u001b[0m\n",
       "\u001b[1m Row \u001b[0m│\u001b[1m Parent  \u001b[0m\u001b[1m e-Folding Time (seconds) \u001b[0m\u001b[1m Average beta-decay energy \u001b[0m\u001b[1m Daughter \u001b[0m\n",
       "\u001b[1m     \u001b[0m│\u001b[90m String7 \u001b[0m\u001b[90m Float64                  \u001b[0m\u001b[90m Float64                   \u001b[0m\u001b[90m String7  \u001b[0m\n",
       "─────┼────────────────────────────────────────────────────────────────────────\n",
       "   1 │ 100Pd                   4.52475e5                       2.39  100Ag\n",
       "   2 │ 100Ag                 173.989                           5.69  100Cd\n",
       "   3 │ 100Cd                  70.8363                          5.69  100In\n",
       "   4 │ 100In                   8.10795                         5.69  100Sn\n",
       "   5 │ 100Sn                   1.70238                         5.69  100Sb\n",
       " \u001b[1m7×4 DataFrame\u001b[0m\n",
       "\u001b[1m Row \u001b[0m│\u001b[1m Parent  \u001b[0m\u001b[1m e-Folding Time (seconds) \u001b[0m\u001b[1m Average beta-decay energy \u001b[0m\u001b[1m Daughter \u001b[0m\n",
       "\u001b[1m     \u001b[0m│\u001b[90m String7 \u001b[0m\u001b[90m Float64                  \u001b[0m\u001b[90m Float64                   \u001b[0m\u001b[90m String7  \u001b[0m\n",
       "─────┼────────────────────────────────────────────────────────────────────────\n",
       "   1 │ 100Rb                  0.0740103                        5.69  100Sr\n",
       "   2 │ 100Sr                  0.291569                         5.69  100Y\n",
       "   3 │ 100Y                   1.35613                          5.69  100Zr\n",
       "   4 │ 100Zr                 10.2431                           5.69  100Nb\n",
       "   5 │ 100Nb                  2.16404                          5.69  100Mo\n",
       "   6 │ 100Mo                  3.21883e26                       5.69  100Tc\n",
       "   7 │ 100Tc                 22.3041                           5.69  100Ru\n",
       " \u001b[1m6×4 DataFrame\u001b[0m\n",
       "\u001b[1m Row \u001b[0m│\u001b[1m Parent  \u001b[0m\u001b[1m e-Folding Time (seconds) \u001b[0m\u001b[1m Average beta-decay energy \u001b[0m\u001b[1m Daughter \u001b[0m\n",
       "\u001b[1m     \u001b[0m│\u001b[90m String7 \u001b[0m\u001b[90m Float64                  \u001b[0m\u001b[90m Float64                   \u001b[0m\u001b[90m String7  \u001b[0m\n",
       "─────┼────────────────────────────────────────────────────────────────────────\n",
       "   1 │ 100Rh              108029.0                           324.0   100Pd\n",
       "   2 │ 100Pd                   4.52475e5                       2.39  100Ag\n",
       "   3 │ 100Ag                 173.989                           5.69  100Cd\n",
       "   4 │ 100Cd                  70.8363                          5.69  100In\n",
       "   5 │ 100In                   8.10795                         5.69  100Sn\n",
       "   6 │ 100Sn                   1.70238                         5.69  100Sb\n",
       " \u001b[1m1×4 DataFrame\u001b[0m\n",
       "\u001b[1m Row \u001b[0m│\u001b[1m Parent  \u001b[0m\u001b[1m e-Folding Time (seconds) \u001b[0m\u001b[1m Average beta-decay energy \u001b[0m\u001b[1m Daughter \u001b[0m\n",
       "\u001b[1m     \u001b[0m│\u001b[90m String7 \u001b[0m\u001b[90m Float64                  \u001b[0m\u001b[90m Float64                   \u001b[0m\u001b[90m String7  \u001b[0m\n",
       "─────┼────────────────────────────────────────────────────────────────────────\n",
       "   1 │ 100Sn                     1.70238                       5.69  100Sb\n",
       " \u001b[1m6×4 DataFrame\u001b[0m\n",
       "\u001b[1m Row \u001b[0m│\u001b[1m Parent  \u001b[0m\u001b[1m e-Folding Time (seconds) \u001b[0m\u001b[1m Average beta-decay energy \u001b[0m\u001b[1m Daughter \u001b[0m\n",
       "\u001b[1m     \u001b[0m│\u001b[90m String7 \u001b[0m\u001b[90m Float64                  \u001b[0m\u001b[90m Float64                   \u001b[0m\u001b[90m String7  \u001b[0m\n",
       "─────┼────────────────────────────────────────────────────────────────────────\n",
       "   1 │ 100Sr                  0.291569                         5.69  100Y\n",
       "   2 │ 100Y                   1.35613                          5.69  100Zr\n",
       "   3 │ 100Zr                 10.2431                           5.69  100Nb\n",
       "   4 │ 100Nb                  2.16404                          5.69  100Mo\n",
       "   5 │ 100Mo                  3.21883e26                       5.69  100Tc\n",
       "   6 │ 100Tc                 22.3041                           5.69  100Ru\n",
       " \u001b[1m1×4 DataFrame\u001b[0m\n",
       "\u001b[1m Row \u001b[0m│\u001b[1m Parent  \u001b[0m\u001b[1m e-Folding Time (seconds) \u001b[0m\u001b[1m Average beta-decay energy \u001b[0m\u001b[1m Daughter \u001b[0m\n",
       "\u001b[1m     \u001b[0m│\u001b[90m String7 \u001b[0m\u001b[90m Float64                  \u001b[0m\u001b[90m Float64                   \u001b[0m\u001b[90m String7  \u001b[0m\n",
       "─────┼────────────────────────────────────────────────────────────────────────\n",
       "   1 │ 100Tc                     22.3041                       5.69  100Ru\n",
       " \u001b[1m5×4 DataFrame\u001b[0m\n",
       "\u001b[1m Row \u001b[0m│\u001b[1m Parent  \u001b[0m\u001b[1m e-Folding Time (seconds) \u001b[0m\u001b[1m Average beta-decay energy \u001b[0m\u001b[1m Daughter \u001b[0m\n",
       "\u001b[1m     \u001b[0m│\u001b[90m String7 \u001b[0m\u001b[90m Float64                  \u001b[0m\u001b[90m Float64                   \u001b[0m\u001b[90m String7  \u001b[0m\n",
       "─────┼────────────────────────────────────────────────────────────────────────\n",
       "   1 │ 100Y                   1.35613                          5.69  100Zr\n",
       "   2 │ 100Zr                 10.2431                           5.69  100Nb\n",
       "   3 │ 100Nb                  2.16404                          5.69  100Mo\n",
       "   4 │ 100Mo                  3.21883e26                       5.69  100Tc\n",
       "   5 │ 100Tc                 22.3041                           5.69  100Ru\n",
       " ⋮\n",
       " \u001b[1m5×4 DataFrame\u001b[0m\n",
       "\u001b[1m Row \u001b[0m│\u001b[1m Parent  \u001b[0m\u001b[1m e-Folding Time (seconds) \u001b[0m\u001b[1m Average beta-decay energy \u001b[0m\u001b[1m Daughter \u001b[0m\n",
       "\u001b[1m     \u001b[0m│\u001b[90m String7 \u001b[0m\u001b[90m Float64                  \u001b[0m\u001b[90m Float64                   \u001b[0m\u001b[90m String7  \u001b[0m\n",
       "─────┼────────────────────────────────────────────────────────────────────────\n",
       "   1 │ 99Pd                 1852.42                            5.69  99Ag\n",
       "   2 │ 99Ag                  179.183                           5.69  99Cd\n",
       "   3 │ 99Cd                   24.5258                          5.69  99In\n",
       "   4 │ 99In                    4.48678                         5.69  99Sn\n",
       "   5 │ 99Sn                    0.0346247                       5.69  99Sb\n",
       " \u001b[1m7×4 DataFrame\u001b[0m\n",
       "\u001b[1m Row \u001b[0m│\u001b[1m Parent  \u001b[0m\u001b[1m e-Folding Time (seconds) \u001b[0m\u001b[1m Average beta-decay energy \u001b[0m\u001b[1m Daughter \u001b[0m\n",
       "\u001b[1m     \u001b[0m│\u001b[90m String7 \u001b[0m\u001b[90m Float64                  \u001b[0m\u001b[90m Float64                   \u001b[0m\u001b[90m String7  \u001b[0m\n",
       "─────┼────────────────────────────────────────────────────────────────────────\n",
       "   1 │ 99Rb                   0.0779055                      5.69    99Sr\n",
       "   2 │ 99Sr                   0.388374                       5.69    99Y\n",
       "   3 │ 99Y                    2.14096                        5.69    99Zr\n",
       "   4 │ 99Zr                   3.02966                        5.69    99Nb\n",
       "   5 │ 99Nb                  21.6404                         5.69    99Mo\n",
       "   6 │ 99Mo                   3.42431e5                     59.9     99Tc\n",
       "   7 │ 99Tc                   9.61096e12                     1.6286  99Ru\n",
       " \u001b[1m6×4 DataFrame\u001b[0m\n",
       "\u001b[1m Row \u001b[0m│\u001b[1m Parent  \u001b[0m\u001b[1m e-Folding Time (seconds) \u001b[0m\u001b[1m Average beta-decay energy \u001b[0m\u001b[1m Daughter \u001b[0m\n",
       "\u001b[1m     \u001b[0m│\u001b[90m String7 \u001b[0m\u001b[90m Float64                  \u001b[0m\u001b[90m Float64                   \u001b[0m\u001b[90m String7  \u001b[0m\n",
       "─────┼────────────────────────────────────────────────────────────────────────\n",
       "   1 │ 99Rh                    2.00685e6                     208.0   99Pd\n",
       "   2 │ 99Pd                 1852.42                            5.69  99Ag\n",
       "   3 │ 99Ag                  179.183                           5.69  99Cd\n",
       "   4 │ 99Cd                   24.5258                          5.69  99In\n",
       "   5 │ 99In                    4.48678                         5.69  99Sn\n",
       "   6 │ 99Sn                    0.0346247                       5.69  99Sb\n",
       " \u001b[1m1×4 DataFrame\u001b[0m\n",
       "\u001b[1m Row \u001b[0m│\u001b[1m Parent  \u001b[0m\u001b[1m e-Folding Time (seconds) \u001b[0m\u001b[1m Average beta-decay energy \u001b[0m\u001b[1m Daughter \u001b[0m\n",
       "\u001b[1m     \u001b[0m│\u001b[90m String7 \u001b[0m\u001b[90m Float64                  \u001b[0m\u001b[90m Float64                   \u001b[0m\u001b[90m String7  \u001b[0m\n",
       "─────┼────────────────────────────────────────────────────────────────────────\n",
       "   1 │ 99Sn                    0.0346247                       5.69  99Sb\n",
       " \u001b[1m6×4 DataFrame\u001b[0m\n",
       "\u001b[1m Row \u001b[0m│\u001b[1m Parent  \u001b[0m\u001b[1m e-Folding Time (seconds) \u001b[0m\u001b[1m Average beta-decay energy \u001b[0m\u001b[1m Daughter \u001b[0m\n",
       "\u001b[1m     \u001b[0m│\u001b[90m String7 \u001b[0m\u001b[90m Float64                  \u001b[0m\u001b[90m Float64                   \u001b[0m\u001b[90m String7  \u001b[0m\n",
       "─────┼────────────────────────────────────────────────────────────────────────\n",
       "   1 │ 99Sr                   0.388374                       5.69    99Y\n",
       "   2 │ 99Y                    2.14096                        5.69    99Zr\n",
       "   3 │ 99Zr                   3.02966                        5.69    99Nb\n",
       "   4 │ 99Nb                  21.6404                         5.69    99Mo\n",
       "   5 │ 99Mo                   3.42431e5                     59.9     99Tc\n",
       "   6 │ 99Tc                   9.61096e12                     1.6286  99Ru\n",
       " \u001b[1m1×4 DataFrame\u001b[0m\n",
       "\u001b[1m Row \u001b[0m│\u001b[1m Parent  \u001b[0m\u001b[1m e-Folding Time (seconds) \u001b[0m\u001b[1m Average beta-decay energy \u001b[0m\u001b[1m Daughter \u001b[0m\n",
       "\u001b[1m     \u001b[0m│\u001b[90m String7 \u001b[0m\u001b[90m Float64                  \u001b[0m\u001b[90m Float64                   \u001b[0m\u001b[90m String7  \u001b[0m\n",
       "─────┼────────────────────────────────────────────────────────────────────────\n",
       "   1 │ 99Tc                   9.61096e12                     1.6286  99Ru\n",
       " \u001b[1m5×4 DataFrame\u001b[0m\n",
       "\u001b[1m Row \u001b[0m│\u001b[1m Parent  \u001b[0m\u001b[1m e-Folding Time (seconds) \u001b[0m\u001b[1m Average beta-decay energy \u001b[0m\u001b[1m Daughter \u001b[0m\n",
       "\u001b[1m     \u001b[0m│\u001b[90m String7 \u001b[0m\u001b[90m Float64                  \u001b[0m\u001b[90m Float64                   \u001b[0m\u001b[90m String7  \u001b[0m\n",
       "─────┼────────────────────────────────────────────────────────────────────────\n",
       "   1 │ 99Y                    2.14096                        5.69    99Zr\n",
       "   2 │ 99Zr                   3.02966                        5.69    99Nb\n",
       "   3 │ 99Nb                  21.6404                         5.69    99Mo\n",
       "   4 │ 99Mo                   3.42431e5                     59.9     99Tc\n",
       "   5 │ 99Tc                   9.61096e12                     1.6286  99Ru\n",
       " \u001b[1m4×4 DataFrame\u001b[0m\n",
       "\u001b[1m Row \u001b[0m│\u001b[1m Parent  \u001b[0m\u001b[1m e-Folding Time (seconds) \u001b[0m\u001b[1m Average beta-decay energy \u001b[0m\u001b[1m Daughter \u001b[0m\n",
       "\u001b[1m     \u001b[0m│\u001b[90m String7 \u001b[0m\u001b[90m Float64                  \u001b[0m\u001b[90m Float64                   \u001b[0m\u001b[90m String7  \u001b[0m\n",
       "─────┼────────────────────────────────────────────────────────────────────────\n",
       "   1 │ 99Zr                   3.02966                        5.69    99Nb\n",
       "   2 │ 99Nb                  21.6404                         5.69    99Mo\n",
       "   3 │ 99Mo                   3.42431e5                     59.9     99Tc\n",
       "   4 │ 99Tc                   9.61096e12                     1.6286  99Ru\n",
       " \u001b[1m2×4 DataFrame\u001b[0m\n",
       "\u001b[1m Row \u001b[0m│\u001b[1m Parent  \u001b[0m\u001b[1m e-Folding Time (seconds) \u001b[0m\u001b[1m Average beta-decay energy \u001b[0m\u001b[1m Daughter \u001b[0m\n",
       "\u001b[1m     \u001b[0m│\u001b[90m String3 \u001b[0m\u001b[90m Float64                  \u001b[0m\u001b[90m Float64                   \u001b[0m\u001b[90m String3  \u001b[0m\n",
       "─────┼────────────────────────────────────────────────────────────────────────\n",
       "   1 │ 9B                    1.15416e-18                       5.69  9C\n",
       "   2 │ 9C                    0.182501                          5.69  9N\n",
       " \u001b[1m1×4 DataFrame\u001b[0m\n",
       "\u001b[1m Row \u001b[0m│\u001b[1m Parent  \u001b[0m\u001b[1m e-Folding Time (seconds) \u001b[0m\u001b[1m Average beta-decay energy \u001b[0m\u001b[1m Daughter \u001b[0m\n",
       "\u001b[1m     \u001b[0m│\u001b[90m String3 \u001b[0m\u001b[90m Float64                  \u001b[0m\u001b[90m Float64                   \u001b[0m\u001b[90m String3  \u001b[0m\n",
       "─────┼────────────────────────────────────────────────────────────────────────\n",
       "   1 │ 9C                       0.182501                       5.69  9N\n",
       " \u001b[1m2×4 DataFrame\u001b[0m\n",
       "\u001b[1m Row \u001b[0m│\u001b[1m Parent  \u001b[0m\u001b[1m e-Folding Time (seconds) \u001b[0m\u001b[1m Average beta-decay energy \u001b[0m\u001b[1m Daughter \u001b[0m\n",
       "\u001b[1m     \u001b[0m│\u001b[90m String3 \u001b[0m\u001b[90m Float64                  \u001b[0m\u001b[90m Float64                   \u001b[0m\u001b[90m String3  \u001b[0m\n",
       "─────┼────────────────────────────────────────────────────────────────────────\n",
       "   1 │ 9He                   3.60674e-21                       5.69  9Li\n",
       "   2 │ 9Li                   0.257088                          5.69  9Be\n",
       " \u001b[1m1×4 DataFrame\u001b[0m\n",
       "\u001b[1m Row \u001b[0m│\u001b[1m Parent  \u001b[0m\u001b[1m e-Folding Time (seconds) \u001b[0m\u001b[1m Average beta-decay energy \u001b[0m\u001b[1m Daughter \u001b[0m\n",
       "\u001b[1m     \u001b[0m│\u001b[90m String3 \u001b[0m\u001b[90m Float64                  \u001b[0m\u001b[90m Float64                   \u001b[0m\u001b[90m String3  \u001b[0m\n",
       "─────┼────────────────────────────────────────────────────────────────────────\n",
       "   1 │ 9Li                      0.257088                       5.69  9Be"
      ]
     },
     "execution_count": 3,
     "metadata": {},
     "output_type": "execute_result"
    }
   ],
   "source": [
    "decay_chain_dir = parent_dir * \"ExportedData\\\\all_beta_decay_chains\\\\\"\n",
    "decay_chain_files = readdir(decay_chain_dir)\n",
    "all_decay_chains = [CSV.read(decay_chain_dir * file, DataFrame)\n",
    "                    for file in decay_chain_files]\n",
    "all_decay_chains = [rename!(df, :Column1 => :Parent) for df in all_decay_chains]"
   ]
  },
  {
   "cell_type": "markdown",
   "metadata": {},
   "source": [
    "I derived the decay rate of the n-th generation nuclide in a decay chain here:\n",
    "\n",
    "https://www.overleaf.com/project/627613def6b848465d85e5bb\n",
    "\n",
    "https://github.com/MarcosP7635/Math-for-Energy/blob/main/main.tex\n",
    "\n",
    "file:///C:/Users/engin/Downloads/Math_for_Energy(4).pdf "
   ]
  },
  {
   "cell_type": "code",
   "execution_count": 4,
   "metadata": {},
   "outputs": [
    {
     "data": {
      "text/plain": [
       "factor (generic function with 1 method)"
      ]
     },
     "execution_count": 4,
     "metadata": {},
     "output_type": "execute_result"
    }
   ],
   "source": [
    "factor(t, e_folding_time) = 1 - exp(t / -e_folding_time)"
   ]
  },
  {
   "cell_type": "code",
   "execution_count": 5,
   "metadata": {},
   "outputs": [
    {
     "data": {
      "text/plain": [
       "a_prod (generic function with 1 method)"
      ]
     },
     "execution_count": 5,
     "metadata": {},
     "output_type": "execute_result"
    }
   ],
   "source": [
    "a_prod(e_folding_times, t) = prod([factor(t, e_folding_times[k])\n",
    "                                   for k in 2:length(e_folding_times)])"
   ]
  },
  {
   "cell_type": "code",
   "execution_count": 6,
   "metadata": {},
   "outputs": [
    {
     "data": {
      "text/plain": [
       "r (generic function with 1 method)"
      ]
     },
     "execution_count": 6,
     "metadata": {},
     "output_type": "execute_result"
    }
   ],
   "source": [
    "r(e_fold_times, t) = (a_prod(e_fold_times, t) * exp(t / -e_fold_times[1])\n",
    "                      /\n",
    "                      -e_fold_times[1])\n"
   ]
  },
  {
   "cell_type": "code",
   "execution_count": 7,
   "metadata": {},
   "outputs": [
    {
     "data": {
      "text/latex": [
       "\\begin{equation}\n",
       "\\frac{ - \\left( 1 - e^{\\frac{t}{ - \\lambda_{1}}} \\right) \\left( 1 - e^{\\frac{t}{ - \\lambda_{2}}} \\right) e^{\\frac{t}{ - \\lambda_{0}}}}{\\lambda_{0}}\n",
       "\\end{equation}\n"
      ],
      "text/plain": [
       "(-(1 - exp(t / (-λ_1)))*(1 - exp(t / (-λ_2)))*exp(t / (-λ_0))) / λ_0"
      ]
     },
     "execution_count": 7,
     "metadata": {},
     "output_type": "execute_result"
    }
   ],
   "source": [
    "λ_0, λ_1, λ_2, t = @variables λ_0, λ_1, λ_2, t\n",
    "expected_output = (1 - exp(t / -λ_1)) * (1 - exp(t / -λ_2)) * exp(t / -λ_0) / (-λ_0)"
   ]
  },
  {
   "cell_type": "code",
   "execution_count": 8,
   "metadata": {},
   "outputs": [
    {
     "data": {
      "text/plain": [
       "\u001b[32m\u001b[1mTest Passed\u001b[22m\u001b[39m\n",
       "  Expression: r(e_folding_times, t) - expected_output == 0\n",
       "   Evaluated: 0 == 0"
      ]
     },
     "execution_count": 8,
     "metadata": {},
     "output_type": "execute_result"
    }
   ],
   "source": [
    "e_folding_times = [λ_0, λ_1, λ_2]\n",
    "r(e_folding_times, t)\n",
    "Test.@test r(e_folding_times, t) - expected_output == 0"
   ]
  },
  {
   "cell_type": "markdown",
   "metadata": {},
   "source": [
    "It works! :) "
   ]
  },
  {
   "cell_type": "markdown",
   "metadata": {},
   "source": [
    "The average beta decay energy is given in keV. "
   ]
  },
  {
   "cell_type": "code",
   "execution_count": 9,
   "metadata": {},
   "outputs": [
    {
     "data": {
      "text/plain": [
       "337//2103388558093277156"
      ]
     },
     "execution_count": 9,
     "metadata": {},
     "output_type": "execute_result"
    }
   ],
   "source": [
    "joules_per_keV = Rational(uconvert(@u_str(\"J\"), 1 * @u_str(\"keV\")) / @u_str(\"J\"))"
   ]
  },
  {
   "cell_type": "markdown",
   "metadata": {},
   "source": [
    "Avogadro's number"
   ]
  },
  {
   "cell_type": "code",
   "execution_count": 10,
   "metadata": {},
   "outputs": [
    {
     "data": {
      "text/plain": [
       "6475021031458043//67108864"
      ]
     },
     "execution_count": 10,
     "metadata": {},
     "output_type": "execute_result"
    }
   ],
   "source": [
    "N_A = 6.02214076e23\n",
    "conversion_factor = Rational(joules_per_keV * N_A)"
   ]
  },
  {
   "cell_type": "markdown",
   "metadata": {},
   "source": [
    "Now we calculate the power in watts"
   ]
  },
  {
   "cell_type": "code",
   "execution_count": 11,
   "metadata": {},
   "outputs": [
    {
     "data": {
      "text/plain": [
       "power_per_mole (generic function with 1 method)"
      ]
     },
     "execution_count": 11,
     "metadata": {},
     "output_type": "execute_result"
    }
   ],
   "source": [
    "power_per_mole(decay_rate, decay_energy) = decay_rate * decay_energy * conversion_factor"
   ]
  },
  {
   "cell_type": "code",
   "execution_count": 12,
   "metadata": {},
   "outputs": [
    {
     "data": {
      "text/plain": [
       "power_per_mole (generic function with 2 methods)"
      ]
     },
     "execution_count": 12,
     "metadata": {},
     "output_type": "execute_result"
    }
   ],
   "source": [
    "power_per_mole(e_folding_times, decay_energies, t) = sum([\n",
    "    power_per_mole(r(e_folding_times[1:i], t), decay_energies[i])\n",
    "    for i in 1:length(decay_energies)])"
   ]
  },
  {
   "cell_type": "code",
   "execution_count": 13,
   "metadata": {},
   "outputs": [
    {
     "data": {
      "text/latex": [
       "\\begin{equation}\n",
       "\\frac{ - \\frac{6475021031458043}{67108864} E_{0} e^{\\frac{t}{ - \\lambda_{0}}}}{\\lambda_{0}} + \\frac{ - \\frac{6475021031458043}{67108864} E_{1} \\left( 1 - e^{\\frac{t}{ - \\lambda_{1}}} \\right) e^{\\frac{t}{ - \\lambda_{0}}}}{\\lambda_{0}} + \\frac{ - \\frac{6475021031458043}{67108864} E_{2} \\left( 1 - e^{\\frac{t}{ - \\lambda_{1}}} \\right) \\left( 1 - e^{\\frac{t}{ - \\lambda_{2}}} \\right) e^{\\frac{t}{ - \\lambda_{0}}}}{\\lambda_{0}}\n",
       "\\end{equation}\n"
      ],
      "text/plain": [
       "((-6475021031458043//67108864)*E_0*exp(t / (-λ_0))) / λ_0 + ((-6475021031458043//67108864)*E_1*(1 - exp(t / (-λ_1)))*exp(t / (-λ_0))) / λ_0 + ((-6475021031458043//67108864)*E_2*(1 - exp(t / (-λ_1)))*(1 - exp(t / (-λ_2)))*exp(t / (-λ_0))) / λ_0"
      ]
     },
     "execution_count": 13,
     "metadata": {},
     "output_type": "execute_result"
    }
   ],
   "source": [
    "E_0, E_1, E_2, t = @variables E_0, E_1, E_2, t\n",
    "expected_output = conversion_factor * sum([\n",
    "    E_0 * exp(t / -λ_0) / (-λ_0),\n",
    "    (1 - exp(t / -λ_1)) * E_1 * exp(t / -λ_0) / (-λ_0),\n",
    "    (1 - exp(t / -λ_1)) * (1 - exp(t / -λ_2)) * E_2 * exp(t / -λ_0) / (-λ_0)\n",
    "])"
   ]
  },
  {
   "cell_type": "code",
   "execution_count": 14,
   "metadata": {},
   "outputs": [
    {
     "data": {
      "text/plain": [
       "\u001b[32m\u001b[1mTest Passed\u001b[22m\u001b[39m\n",
       "  Expression: Symbolics.simplify(power_per_mole(e_folding_times, decay_energies, t) - expected_output) == 0\n",
       "   Evaluated: 0 == 0"
      ]
     },
     "execution_count": 14,
     "metadata": {},
     "output_type": "execute_result"
    }
   ],
   "source": [
    "decay_energies = [E_0, E_1, E_2]\n",
    "Test.@test Symbolics.simplify(power_per_mole(e_folding_times, decay_energies, t) \n",
    "            - expected_output) == 0"
   ]
  },
  {
   "cell_type": "code",
   "execution_count": 17,
   "metadata": {},
   "outputs": [],
   "source": [
    "x = [power_per_mole(df[!,\"e-Folding Time (seconds)\"], df[!,\"Average beta-decay energy\"], 2)\n",
    "for df in all_decay_chains];"
   ]
  },
  {
   "cell_type": "markdown",
   "metadata": {},
   "source": [
    "It takes about .1 seconds to calculate the power per mole for the entire dataframe for a given time. "
   ]
  },
  {
   "cell_type": "code",
   "execution_count": 27,
   "metadata": {},
   "outputs": [
    {
     "data": {
      "text/plain": [
       "1001-element Vector{Float64}:\n",
       " -10.0\n",
       "  -9.98\n",
       "  -9.96\n",
       "  -9.94\n",
       "  -9.92\n",
       "  -9.9\n",
       "  -9.88\n",
       "  -9.86\n",
       "  -9.84\n",
       "  -9.82\n",
       "  -9.8\n",
       "  -9.78\n",
       "  -9.76\n",
       "   ⋮\n",
       "   9.78\n",
       "   9.8\n",
       "   9.82\n",
       "   9.84\n",
       "   9.86\n",
       "   9.88\n",
       "   9.9\n",
       "   9.92\n",
       "   9.94\n",
       "   9.96\n",
       "   9.98\n",
       "  10.0"
      ]
     },
     "execution_count": 27,
     "metadata": {},
     "output_type": "execute_result"
    }
   ],
   "source": [
    "exponents_for_time_array = -10:20/1000:10\n",
    "collect(exponents_for_time_array)"
   ]
  },
  {
   "cell_type": "code",
   "execution_count": 31,
   "metadata": {},
   "outputs": [
    {
     "data": {
      "text/plain": [
       "1001-element Vector{BigFloat}:\n",
       " 1.000000000000000000000000000000000000000000000000000000000000000000000000000003e-10\n",
       " 1.047128548050898505549645783823682271757193893433574137820153812424537637016191e-10\n",
       " 1.0964781961431828604257317209264159331313714105011702911985913060102831306613e-10\n",
       " 1.148153621496884066480156540139268838588675605873626387416861363160599339507005e-10\n",
       " 1.202264434617413102533306847068551134853580025789314084263608408653746937282328e-10\n",
       " 1.25892541179416618056939287182433126845996218444738646667433027351526766150798e-10\n",
       " 1.318256738556404729589129642168660706457656431654852798000801526451019756623137e-10\n",
       " 1.38038426460288664458362703761266589785155477230948719984049693714804016050564e-10\n",
       " 1.445439770745927984903979184458196052506877843919927508765240153411912508988761e-10\n",
       " 1.513561248436207171938059987874779303581263483786977823789873399913939914213657e-10\n",
       " 1.584893192461110892181946192724010648088344291738932269688212001583469968929013e-10\n",
       " 1.659586907437563078013118947327643236008964179424527256052810262534959086840024e-10\n",
       " 1.737800828749376319956618256342589862513317428884702354880700155241417581162049e-10\n",
       " ⋮\n",
       " 6.02559586074356859716412265067716904932588501512965416858430502168396189887616e+09\n",
       " 6.30957344480194281734277303789935568477812448890974812357812748573170574726006e+09\n",
       " 6.606934480075964388899316501628591437113571096436949522897470674425020244006487e+09\n",
       " 6.918309709189362611548141161344066540201278752407103665722592119879792382546489e+09\n",
       " 7.24435960074989115360323616805032081117797394569241349481821367320649275050591e+09\n",
       " 7.5857757502918513396099064210775313934104156677251461251031662738638830516689e+09\n",
       " 7.943282347242821518602174402167029674549522191888286138077973813312815371067061e+09\n",
       " 8.317637711026708700830592010545709577110648216433498986514973065920816617925463e+09\n",
       " 8.709635899560796400314340193164592711964017096779691344846295173386970473846968e+09\n",
       " 9.120108393559115326737861412998371848330360866815874646477213839888861881827091e+09\n",
       " 9.549925860214368871934502123806500813555808633525601292241946386449304677796978e+09\n",
       " 1.0e+10"
      ]
     },
     "execution_count": 31,
     "metadata": {},
     "output_type": "execute_result"
    }
   ],
   "source": [
    "time_array = [BigFloat(10)^x for x in exponents_for_time_array]"
   ]
  },
  {
   "cell_type": "code",
   "execution_count": 55,
   "metadata": {},
   "outputs": [
    {
     "data": {
      "text/plain": [
       "Dict{Any, Any} with 3192 entries:\n",
       "  \"113Sn\" => BigFloat[-19.1026, -19.1026, -19.1026, -19.1026, -19.1026, -19.102…\n",
       "  \"243Cf\" => BigFloat[-587251.0, -587251.0, -587251.0, -587251.0, -587251.0, -5…\n",
       "  \"168Eu\" => BigFloat[-1.90269e+09, -1.90269e+09, -1.90269e+09, -1.90269e+09, -…\n",
       "  \"162Sm\" => BigFloat[-1.4094e+08, -1.4094e+08, -1.4094e+08, -1.4094e+08, -1.40…\n",
       "  \"11N\"   => BigFloat[0.0, 0.0, 0.0, 0.0, 0.0, 0.0, 0.0, 0.0, 0.0, 0.0  …  0.0,…\n",
       "  \"57V\"   => BigFloat[-1.08725e+09, -1.08725e+09, -1.08725e+09, -1.08725e+09, -…\n",
       "  \"208Po\" => BigFloat[-4.16099, -4.16099, -4.16099, -4.16099, -4.16099, -4.1609…\n",
       "  \"174Ir\" => BigFloat[-4.81695e+07, -4.81695e+07, -4.81695e+07, -4.81695e+07, -…\n",
       "  \"144Gd\" => BigFloat[-1.41886e+06, -1.41886e+06, -1.41886e+06, -1.41886e+06, -…\n",
       "  \"80Sr\"  => BigFloat[-59664.3, -59664.3, -59664.3, -59664.3, -59664.3, -59664.…\n",
       "  \"33Ar\"  => BigFloat[-2.19965e+09, -2.19965e+09, -2.19965e+09, -2.19965e+09, -…\n",
       "  \"220Pa\" => BigFloat[-4.48174e+14, -4.48197e+14, -4.48221e+14, -4.48246e+14, -…\n",
       "  \"108In\" => BigFloat[-109350.0, -109350.0, -109350.0, -109350.0, -109350.0, -1…\n",
       "  \"122Tc\" => BigFloat[-2.92722e+10, -2.92722e+10, -2.92722e+10, -2.92722e+10, -…\n",
       "  \"252No\" => BigFloat[-1.54252e+08, -1.54252e+08, -1.54252e+08, -1.54252e+08, -…\n",
       "  \"254Es\" => BigFloat[-17848.0, -17848.0, -17848.0, -17848.0, -17848.0, -17848.…\n",
       "  \"165Hf\" => BigFloat[-5.00709e+06, -5.00709e+06, -5.00709e+06, -5.00709e+06, -…\n",
       "  \"67Mn\"  => BigFloat[-8.14858e+09, -8.14858e+09, -8.14858e+09, -8.14858e+09, -…\n",
       "  \"260Sg\" => BigFloat[-7.68765e+10, -7.68765e+10, -7.68765e+10, -7.68765e+10, -…\n",
       "  \"95Cd\"  => BigFloat[-1.18918e+10, -1.18918e+10, -1.18918e+10, -1.18918e+10, -…\n",
       "  \"233Cm\" => BigFloat[-1.4094e+07, -1.4094e+07, -1.4094e+07, -1.4094e+07, -1.40…\n",
       "  \"255Db\" => BigFloat[-7.04702e+09, -7.04702e+09, -7.04702e+09, -7.04702e+09, -…\n",
       "  \"103Rb\" => BigFloat[-1.46361e+10, -1.46361e+10, -1.46361e+10, -1.46361e+10, -…\n",
       "  \"234Bk\" => BigFloat[-1.90269e+07, -1.90269e+07, -1.90269e+07, -1.90269e+07, -…\n",
       "  \"80Zr\"  => BigFloat[-8.27258e+07, -8.27258e+07, -8.27258e+07, -8.27258e+07, -…\n",
       "  ⋮       => ⋮"
      ]
     },
     "execution_count": 55,
     "metadata": {},
     "output_type": "execute_result"
    }
   ],
   "source": [
    "power_time_series = [[power_per_mole(df[!,\"e-Folding Time (seconds)\"], \n",
    "                    df[!,\"Average beta-decay energy\"], time)\n",
    "                    for time in time_array] for df in all_decay_chains]; \n",
    "zero_gen_isotopes = [df[1, \"Parent\"] for df in all_decay_chains]\n",
    "power_time_series_dict = Dict([])\n",
    "stop = length(power_time_series)\n",
    "for i in 1:stop\n",
    "        power_time_series_dict[zero_gen_isotopes[i]] = power_time_series[i]\n",
    "end\n",
    "power_time_series_dict"
   ]
  },
  {
   "cell_type": "code",
   "execution_count": 91,
   "metadata": {},
   "outputs": [
    {
     "data": {
      "application/vnd.plotly.v1+json": {
       "config": {
        "editable": false,
        "responsive": true,
        "scrollZoom": true,
        "showLink": false,
        "staticPlot": false
       },
       "data": [
        {
         "mode": "markers",
         "type": "scatter",
         "x": [
          1e-10,
          1.0471285480508985e-10,
          1.0964781961431829e-10,
          1.1481536214968841e-10,
          1.2022644346174132e-10,
          1.2589254117941662e-10,
          1.3182567385564046e-10,
          1.3803842646028866e-10,
          1.445439770745928e-10,
          1.5135612484362072e-10,
          1.584893192461111e-10,
          1.6595869074375631e-10,
          1.7378008287493763e-10,
          1.8197008586099825e-10,
          1.9054607179632444e-10,
          1.9952623149688828e-10,
          2.089296130854041e-10,
          2.1877616239495518e-10,
          2.29086765276777e-10,
          2.398832919019495e-10,
          2.511886431509582e-10,
          2.6302679918953814e-10,
          2.754228703338163e-10,
          2.8840315031266117e-10,
          3.0199517204020193e-10,
          3.1622776601683795e-10,
          3.3113112148259076e-10,
          3.46736850452531e-10,
          3.6307805477010177e-10,
          3.801893963205613e-10,
          3.9810717055349694e-10,
          4.1686938347033463e-10,
          4.3651583224016655e-10,
          4.5708818961487517e-10,
          4.78630092322638e-10,
          5.011872336272714e-10,
          5.248074602497734e-10,
          5.495408738576248e-10,
          5.754399373371567e-10,
          6.025595860743569e-10,
          6.309573444801942e-10,
          6.606934480075964e-10,
          6.918309709189363e-10,
          7.244359600749891e-10,
          7.585775750291851e-10,
          7.943282347242822e-10,
          8.317637711026709e-10,
          8.709635899560796e-10,
          9.120108393559115e-10,
          9.549925860214368e-10,
          1e-9,
          1.0471285480508984e-9,
          1.0964781961431829e-9,
          1.148153621496884e-9,
          1.2022644346174132e-9,
          1.2589254117941663e-9,
          1.3182567385564047e-9,
          1.3803842646028867e-9,
          1.445439770745928e-9,
          1.5135612484362073e-9,
          1.584893192461111e-9,
          1.6595869074375631e-9,
          1.7378008287493762e-9,
          1.8197008586099825e-9,
          1.9054607179632444e-9,
          1.9952623149688828e-9,
          2.089296130854041e-9,
          2.1877616239495518e-9,
          2.29086765276777e-9,
          2.3988329190194947e-9,
          2.511886431509582e-9,
          2.6302679918953816e-9,
          2.7542287033381634e-9,
          2.8840315031266117e-9,
          3.019951720402019e-9,
          3.1622776601683795e-9,
          3.3113112148259078e-9,
          3.4673685045253096e-9,
          3.6307805477010177e-9,
          3.8018939632056126e-9,
          3.981071705534969e-9,
          4.168693834703347e-9,
          4.365158322401665e-9,
          4.570881896148752e-9,
          4.78630092322638e-9,
          5.011872336272715e-9,
          5.248074602497734e-9,
          5.495408738576248e-9,
          5.754399373371567e-9,
          6.025595860743569e-9,
          6.309573444801943e-9,
          6.606934480075964e-9,
          6.918309709189363e-9,
          7.244359600749891e-9,
          7.58577575029185e-9,
          7.943282347242822e-9,
          8.317637711026709e-9,
          8.709635899560797e-9,
          9.120108393559115e-9,
          9.549925860214368e-9,
          1e-8,
          1.0471285480508984e-8,
          1.0964781961431851e-8,
          1.1481536214968817e-8,
          1.202264434617413e-8,
          1.2589254117941661e-8,
          1.3182567385564074e-8,
          1.3803842646028838e-8,
          1.4454397707459279e-8,
          1.5135612484362072e-8,
          1.5848931924611143e-8,
          1.6595869074375597e-8,
          1.7378008287493763e-8,
          1.8197008586099826e-8,
          1.9054607179632482e-8,
          1.9952623149688786e-8,
          2.0892961308540408e-8,
          2.1877616239495518e-8,
          2.2908676527677746e-8,
          2.3988329190194897e-8,
          2.511886431509582e-8,
          2.6302679918953814e-8,
          2.754228703338169e-8,
          2.8840315031266057e-8,
          3.0199517204020194e-8,
          3.162277660168379e-8,
          3.311311214825908e-8,
          3.4673685045253164e-8,
          3.63078054770101e-8,
          3.8018939632056126e-8,
          3.981071705534969e-8,
          4.168693834703355e-8,
          4.3651583224016566e-8,
          4.570881896148752e-8,
          4.78630092322638e-8,
          5.011872336272725e-8,
          5.248074602497723e-8,
          5.495408738576248e-8,
          5.7543993733715665e-8,
          6.025595860743581e-8,
          6.30957344480193e-8,
          6.606934480075964e-8,
          6.918309709189362e-8,
          7.244359600749906e-8,
          7.585775750291836e-8,
          7.943282347242822e-8,
          8.317637711026709e-8,
          8.709635899560814e-8,
          9.120108393559096e-8,
          9.549925860214369e-8,
          1e-7,
          1.0471285480508985e-7,
          1.0964781961431852e-7,
          1.1481536214968817e-7,
          1.2022644346174132e-7,
          1.2589254117941662e-7,
          1.3182567385564074e-7,
          1.380384264602884e-7,
          1.445439770745928e-7,
          1.5135612484362072e-7,
          1.584893192461114e-7,
          1.6595869074375596e-7,
          1.7378008287493765e-7,
          1.8197008586099824e-7,
          1.9054607179632483e-7,
          1.9952623149688787e-7,
          2.0892961308540409e-7,
          2.187761623949552e-7,
          2.2908676527677748e-7,
          2.39883291901949e-7,
          2.5118864315095823e-7,
          2.6302679918953816e-7,
          2.754228703338169e-7,
          2.8840315031266057e-7,
          3.019951720402019e-7,
          3.162277660168379e-7,
          3.311311214825908e-7,
          3.4673685045253164e-7,
          3.63078054770101e-7,
          3.8018939632056126e-7,
          3.981071705534969e-7,
          4.168693834703355e-7,
          4.3651583224016567e-7,
          4.5708818961487516e-7,
          4.78630092322638e-7,
          5.011872336272725e-7,
          5.248074602497723e-7,
          5.495408738576248e-7,
          5.754399373371567e-7,
          6.025595860743581e-7,
          6.30957344480193e-7,
          6.606934480075964e-7,
          6.918309709189363e-7,
          7.244359600749906e-7,
          7.585775750291836e-7,
          7.943282347242822e-7,
          8.317637711026709e-7,
          8.709635899560814e-7,
          9.120108393559096e-7,
          9.549925860214369e-7,
          0.000001,
          0.0000010471285480508985,
          0.000001096478196143185,
          0.0000011481536214968817,
          0.0000012022644346174132,
          0.0000012589254117941661,
          0.0000013182567385564074,
          0.0000013803842646028838,
          0.000001445439770745928,
          0.0000015135612484362072,
          0.000001584893192461114,
          0.0000016595869074375596,
          0.0000017378008287493763,
          0.0000018197008586099826,
          0.0000019054607179632483,
          0.0000019952623149688787,
          0.0000020892961308540407,
          0.0000021877616239495517,
          0.0000022908676527677747,
          0.0000023988329190194897,
          0.0000025118864315095823,
          0.0000026302679918953817,
          0.000002754228703338169,
          0.000002884031503126606,
          0.0000030199517204020193,
          0.000003162277660168379,
          0.0000033113112148259077,
          0.000003467368504525317,
          0.0000036307805477010103,
          0.000003801893963205613,
          0.000003981071705534969,
          0.000004168693834703355,
          0.000004365158322401657,
          0.000004570881896148752,
          0.00000478630092322638,
          0.000005011872336272725,
          0.000005248074602497723,
          0.0000054954087385762485,
          0.000005754399373371567,
          0.000006025595860743581,
          0.00000630957344480193,
          0.000006606934480075964,
          0.0000069183097091893625,
          0.000007244359600749906,
          0.000007585775750291836,
          0.000007943282347242822,
          0.00000831763771102671,
          0.000008709635899560814,
          0.000009120108393559096,
          0.000009549925860214369,
          0.00001,
          0.000010471285480508985,
          0.000010964781961431852,
          0.000011481536214968817,
          0.000012022644346174132,
          0.000012589254117941661,
          0.000013182567385564074,
          0.000013803842646028839,
          0.00001445439770745928,
          0.000015135612484362071,
          0.00001584893192461114,
          0.000016595869074375598,
          0.000017378008287493764,
          0.000018197008586099827,
          0.000019054607179632484,
          0.000019952623149688786,
          0.00002089296130854041,
          0.00002187761623949552,
          0.00002290867652767775,
          0.0000239883291901949,
          0.000025118864315095822,
          0.000026302679918953814,
          0.00002754228703338169,
          0.000028840315031266056,
          0.000030199517204020192,
          0.000031622776601683795,
          0.000033113112148259076,
          0.00003467368504525317,
          0.0000363078054770101,
          0.000038018939632056124,
          0.000039810717055349695,
          0.00004168693834703355,
          0.000043651583224016566,
          0.000045708818961487516,
          0.000047863009232263804,
          0.00005011872336272725,
          0.00005248074602497723,
          0.00005495408738576248,
          0.000057543993733715664,
          0.000060255958607435806,
          0.00006309573444801929,
          0.00006606934480075965,
          0.00006918309709189363,
          0.00007244359600749906,
          0.00007585775750291836,
          0.00007943282347242822,
          0.00008317637711026709,
          0.00008709635899560814,
          0.00009120108393559096,
          0.00009549925860214369,
          0.0001,
          0.00010471285480508996,
          0.00010964781961431851,
          0.0001148153621496883,
          0.00012022644346174131,
          0.00012589254117941674,
          0.00013182567385564074,
          0.00013803842646028852,
          0.0001445439770745928,
          0.00015135612484362088,
          0.00015848931924611142,
          0.00016595869074375615,
          0.00017378008287493763,
          0.00018197008586099826,
          0.00019054607179632462,
          0.00019952623149688788,
          0.00020892961308540387,
          0.00021877616239495518,
          0.00022908676527677723,
          0.000239883291901949,
          0.00025118864315095795,
          0.00026302679918953814,
          0.0002754228703338166,
          0.00028840315031266055,
          0.0003019951720402016,
          0.00031622776601683794,
          0.0003311311214825911,
          0.0003467368504525317,
          0.0003630780547701014,
          0.00038018939632056124,
          0.00039810717055349735,
          0.0004168693834703355,
          0.0004365158322401661,
          0.0004570881896148752,
          0.00047863009232263854,
          0.0005011872336272725,
          0.0005248074602497728,
          0.0005495408738576248,
          0.0005754399373371566,
          0.0006025595860743575,
          0.000630957344480193,
          0.0006606934480075957,
          0.0006918309709189362,
          0.0007244359600749898,
          0.0007585775750291835,
          0.0007943282347242813,
          0.0008317637711026709,
          0.0008709635899560805,
          0.0009120108393559096,
          0.0009549925860214359,
          0.001,
          0.0010471285480508996,
          0.0010964781961431851,
          0.0011481536214968829,
          0.001202264434617413,
          0.0012589254117941675,
          0.0013182567385564075,
          0.0013803842646028853,
          0.001445439770745928,
          0.0015135612484362087,
          0.001584893192461114,
          0.0016595869074375613,
          0.0017378008287493763,
          0.0018197008586099826,
          0.0019054607179632462,
          0.001995262314968879,
          0.0020892961308540386,
          0.002187761623949552,
          0.0022908676527677724,
          0.00239883291901949,
          0.0025118864315095794,
          0.0026302679918953813,
          0.002754228703338166,
          0.0028840315031266055,
          0.003019951720402016,
          0.0031622776601683794,
          0.003311311214825911,
          0.0034673685045253167,
          0.003630780547701014,
          0.0038018939632056127,
          0.003981071705534973,
          0.004168693834703355,
          0.004365158322401661,
          0.004570881896148752,
          0.004786300923226385,
          0.005011872336272725,
          0.005248074602497728,
          0.005495408738576248,
          0.005754399373371567,
          0.006025595860743574,
          0.00630957344480193,
          0.006606934480075957,
          0.006918309709189363,
          0.007244359600749898,
          0.007585775750291836,
          0.007943282347242814,
          0.008317637711026709,
          0.008709635899560805,
          0.009120108393559097,
          0.009549925860214359,
          0.01,
          0.010471285480508996,
          0.01096478196143185,
          0.01148153621496883,
          0.012022644346174132,
          0.012589254117941675,
          0.013182567385564075,
          0.013803842646028845,
          0.014454397707459272,
          0.01513561248436208,
          0.015848931924611134,
          0.016595869074375606,
          0.017378008287493755,
          0.018197008586099836,
          0.019054607179632473,
          0.0199526231496888,
          0.020892961308540396,
          0.02187761623949553,
          0.022908676527677734,
          0.023988329190194897,
          0.025118864315095794,
          0.026302679918953815,
          0.02754228703338166,
          0.028840315031266057,
          0.03019951720402016,
          0.03162277660168379,
          0.03311311214825911,
          0.034673685045253165,
          0.03630780547701014,
          0.038018939632056124,
          0.039810717055349734,
          0.04168693834703355,
          0.043651583224016584,
          0.04570881896148749,
          0.047863009232263824,
          0.05011872336272722,
          0.05248074602497726,
          0.054954087385762455,
          0.057543993733715694,
          0.06025595860743578,
          0.06309573444801933,
          0.06606934480075961,
          0.06918309709189366,
          0.07244359600749903,
          0.07585775750291836,
          0.07943282347242814,
          0.08317637711026708,
          0.08709635899560805,
          0.09120108393559097,
          0.09549925860214359,
          0.1,
          0.10471285480508996,
          0.1096478196143185,
          0.1148153621496883,
          0.12022644346174129,
          0.12589254117941673,
          0.1318256738556407,
          0.1380384264602885,
          0.14454397707459277,
          0.15135612484362082,
          0.15848931924611134,
          0.16595869074375605,
          0.17378008287493754,
          0.18197008586099836,
          0.19054607179632474,
          0.19952623149688797,
          0.20892961308540392,
          0.21877616239495523,
          0.2290867652767773,
          0.23988329190194904,
          0.251188643150958,
          0.2630267991895382,
          0.2754228703338166,
          0.28840315031266056,
          0.3019951720402016,
          0.31622776601683794,
          0.3311311214825911,
          0.3467368504525316,
          0.36307805477010135,
          0.3801893963205612,
          0.3981071705534972,
          0.4168693834703354,
          0.436515832240166,
          0.457088189614875,
          0.4786300923226383,
          0.5011872336272722,
          0.5248074602497725,
          0.5495408738576245,
          0.5754399373371569,
          0.6025595860743578,
          0.6309573444801932,
          0.660693448007596,
          0.6918309709189365,
          0.72443596007499,
          0.7585775750291838,
          0.7943282347242815,
          0.831763771102671,
          0.8709635899560807,
          0.9120108393559098,
          0.954992586021436,
          1,
          1.0471285480508996,
          1.096478196143185,
          1.1481536214968828,
          1.202264434617413,
          1.2589254117941673,
          1.318256738556407,
          1.3803842646028848,
          1.4454397707459274,
          1.5135612484362082,
          1.5848931924611136,
          1.6595869074375607,
          1.7378008287493754,
          1.8197008586099834,
          1.9054607179632472,
          1.9952623149688795,
          2.0892961308540396,
          2.1877616239495525,
          2.290867652767773,
          2.3988329190194904,
          2.51188643150958,
          2.6302679918953817,
          2.7542287033381663,
          2.884031503126606,
          3.019951720402016,
          3.1622776601683795,
          3.311311214825911,
          3.4673685045253166,
          3.630780547701014,
          3.8018939632056115,
          3.9810717055349722,
          4.168693834703354,
          4.36515832240166,
          4.570881896148751,
          4.786300923226384,
          5.011872336272722,
          5.248074602497725,
          5.495408738576246,
          5.7543993733715695,
          6.025595860743578,
          6.309573444801933,
          6.606934480075959,
          6.918309709189364,
          7.244359600749901,
          7.5857757502918375,
          7.943282347242816,
          8.31763771102671,
          8.709635899560805,
          9.120108393559097,
          9.549925860214358,
          10,
          10.471285480508996,
          10.964781961431852,
          11.481536214968829,
          12.02264434617413,
          12.589254117941675,
          13.182567385564074,
          13.803842646028846,
          14.454397707459272,
          15.13561248436208,
          15.848931924611133,
          16.595869074375607,
          17.378008287493753,
          18.197008586099834,
          19.054607179632473,
          19.952623149688797,
          20.892961308540396,
          21.87761623949553,
          22.908676527677734,
          23.9883291901949,
          25.118864315095795,
          26.302679918953814,
          27.542287033381662,
          28.84031503126606,
          30.19951720402016,
          31.622776601683793,
          33.11311214825911,
          34.673685045253166,
          36.30780547701014,
          38.018939632056124,
          39.810717055349734,
          41.68693834703355,
          43.65158322401658,
          45.708818961487495,
          47.86300923226383,
          50.11872336272722,
          52.48074602497726,
          54.954087385762456,
          57.543993733715695,
          60.25595860743578,
          63.09573444801933,
          66.06934480075961,
          69.18309709189366,
          72.44359600749902,
          75.85775750291836,
          79.43282347242814,
          83.17637711026708,
          87.09635899560806,
          91.20108393559097,
          95.49925860214358,
          100,
          104.71285480508996,
          109.64781961431851,
          114.81536214968828,
          120.22644346174131,
          125.89254117941675,
          131.82567385564073,
          138.03842646028852,
          144.5439770745928,
          151.35612484362088,
          158.48931924611142,
          165.95869074375614,
          173.78008287493762,
          181.97008586099827,
          190.54607179632464,
          199.52623149688787,
          208.92961308540387,
          218.77616239495518,
          229.08676527677724,
          239.88329190194898,
          251.18864315095797,
          263.02679918953817,
          275.4228703338166,
          288.40315031266056,
          301.9951720402016,
          316.22776601683796,
          331.1311214825911,
          346.73685045253166,
          363.0780547701014,
          380.1893963205613,
          398.1071705534973,
          416.8693834703355,
          436.5158322401661,
          457.0881896148752,
          478.6300923226385,
          501.18723362727246,
          524.8074602497728,
          549.5408738576248,
          575.4399373371566,
          602.5595860743575,
          630.957344480193,
          660.6934480075957,
          691.8309709189363,
          724.4359600749899,
          758.5775750291835,
          794.3282347242813,
          831.7637711026708,
          870.9635899560806,
          912.0108393559096,
          954.992586021436,
          1000,
          1047.1285480508996,
          1096.4781961431852,
          1148.1536214968828,
          1202.2644346174131,
          1258.9254117941675,
          1318.2567385564075,
          1380.3842646028852,
          1445.439770745928,
          1513.5612484362086,
          1584.893192461114,
          1659.5869074375614,
          1737.8008287493763,
          1819.7008586099826,
          1905.4607179632462,
          1995.2623149688789,
          2089.296130854039,
          2187.761623949552,
          2290.8676527677726,
          2398.83291901949,
          2511.88643150958,
          2630.2679918953813,
          2754.2287033381663,
          2884.031503126606,
          3019.9517204020162,
          3162.2776601683795,
          3311.311214825911,
          3467.368504525317,
          3630.780547701014,
          3801.8939632056126,
          3981.0717055349733,
          4168.693834703355,
          4365.158322401661,
          4570.881896148751,
          4786.300923226385,
          5011.872336272725,
          5248.074602497728,
          5495.408738576249,
          5754.399373371566,
          6025.595860743575,
          6309.57344480193,
          6606.934480075957,
          6918.309709189362,
          7244.359600749898,
          7585.775750291836,
          7943.282347242814,
          8317.63771102671,
          8709.635899560806,
          9120.108393559096,
          9549.92586021436,
          10000,
          10471.285480508985,
          10964.78196143185,
          11481.536214968817,
          12022.644346174131,
          12589.254117941662,
          13182.567385564074,
          13803.842646028837,
          14454.39770745928,
          15135.612484362071,
          15848.93192461114,
          16595.869074375598,
          17378.00828749376,
          18197.008586099826,
          19054.607179632483,
          19952.62314968879,
          20892.96130854041,
          21877.616239495517,
          22908.676527677748,
          23988.329190194898,
          25118.864315095823,
          26302.679918953814,
          27542.28703338169,
          28840.31503126606,
          30199.51720402019,
          31622.776601683792,
          33113.112148259075,
          34673.685045253165,
          36307.8054770101,
          38018.93963205613,
          39810.71705534969,
          41686.93834703355,
          43651.58322401656,
          45708.818961487515,
          47863.0092322638,
          50118.72336272725,
          52480.74602497723,
          54954.08738576248,
          57543.993733715666,
          60255.95860743581,
          63095.7344480193,
          66069.34480075965,
          69183.09709189362,
          72443.59600749906,
          75857.75750291836,
          79432.82347242821,
          83176.37711026709,
          87096.35899560814,
          91201.08393559097,
          95499.25860214369,
          100000,
          104712.85480508985,
          109647.8196143185,
          114815.36214968817,
          120226.4434617413,
          125892.54117941661,
          131825.67385564075,
          138038.42646028838,
          144543.9770745928,
          151356.12484362072,
          158489.3192461114,
          165958.69074375596,
          173780.08287493762,
          181970.08586099825,
          190546.07179632483,
          199526.2314968879,
          208929.6130854041,
          218776.16239495517,
          229086.76527677747,
          239883.29190194898,
          251188.6431509582,
          263026.7991895382,
          275422.8703338169,
          288403.15031266055,
          301995.1720402019,
          316227.7660168379,
          331131.1214825908,
          346736.85045253165,
          363078.05477010104,
          380189.39632056124,
          398107.1705534969,
          416869.3834703355,
          436515.8322401656,
          457088.1896148752,
          478630.092322638,
          501187.2336272725,
          524807.4602497723,
          549540.8738576248,
          575439.9373371566,
          602559.5860743581,
          630957.344480193,
          660693.4480075964,
          691830.9709189363,
          724435.9600749906,
          758577.5750291835,
          794328.2347242822,
          831763.7711026708,
          870963.5899560815,
          912010.8393559096,
          954992.5860214368,
          1000000,
          1047128.5480508985,
          1096478.196143185,
          1148153.6214968818,
          1202264.4346174132,
          1258925.411794166,
          1318256.7385564074,
          1380384.2646028837,
          1445439.770745928,
          1513561.2484362072,
          1584893.1924611141,
          1659586.9074375597,
          1737800.8287493763,
          1819700.8586099825,
          1905460.7179632483,
          1995262.3149688789,
          2089296.1308540408,
          2187761.623949552,
          2290867.6527677746,
          2398832.91901949,
          2511886.4315095823,
          2630267.9918953814,
          2754228.703338169,
          2884031.503126606,
          3019951.720402019,
          3162277.6601683795,
          3311311.2148259077,
          3467368.504525317,
          3630780.54770101,
          3801893.9632056127,
          3981071.7055349695,
          4168693.834703355,
          4365158.322401657,
          4570881.8961487515,
          4786300.923226381,
          5011872.336272725,
          5248074.602497723,
          5495408.738576248,
          5754399.373371567,
          6025595.860743581,
          6309573.44480193,
          6606934.480075965,
          6918309.709189363,
          7244359.600749906,
          7585775.7502918355,
          7943282.347242822,
          8317637.711026709,
          8709635.899560815,
          9120108.393559096,
          9549925.86021437,
          10000000,
          10471285.480508985,
          10964781.961431852,
          11481536.214968817,
          12022644.34617413,
          12589254.117941663,
          13182567.385564074,
          13803842.646028839,
          14454397.70745928,
          15135612.484362071,
          15848931.924611142,
          16595869.074375598,
          17378008.28749376,
          18197008.586099826,
          19054607.17963248,
          19952623.149688788,
          20892961.308540408,
          21877616.23949552,
          22908676.52767775,
          23988329.190194897,
          25118864.315095823,
          26302679.918953814,
          27542287.03338169,
          28840315.031266056,
          30199517.20402019,
          31622776.60168379,
          33113112.148259077,
          34673685.045253165,
          36307805.4770101,
          38018939.632056125,
          39810717.05534969,
          41686938.34703355,
          43651583.22401656,
          45708818.96148752,
          47863009.2322638,
          50118723.36272725,
          52480746.02497723,
          54954087.38576248,
          57543993.73371567,
          60255958.60743581,
          63095734.448019296,
          66069344.80075964,
          69183097.09189363,
          72443596.00749905,
          75857757.50291836,
          79432823.47242822,
          83176377.11026709,
          87096358.99560814,
          91201083.93559097,
          95499258.60214369,
          100000000,
          104712854.80508985,
          109647819.61431828,
          114815362.14968841,
          120226443.46174131,
          125892541.17941661,
          131825673.85564047,
          138038426.46028867,
          144543977.0745928,
          151356124.84362072,
          158489319.2461111,
          165958690.7437563,
          173780082.87493762,
          181970085.86099824,
          190546071.79632443,
          199526231.49688828,
          208929613.0854041,
          218776162.3949552,
          229086765.276777,
          239883291.90194947,
          251188643.1509582,
          263026799.18953815,
          275422870.33381635,
          288403150.3126612,
          301995172.0402019,
          316227766.01683795,
          331131121.4825908,
          346736850.452531,
          363078054.7701018,
          380189396.32056123,
          398107170.5534969,
          416869383.47033465,
          436515832.24016654,
          457088189.6148752,
          478630092.32263803,
          501187233.6272715,
          524807460.2497734,
          549540873.8576248,
          575439937.3371567,
          602559586.0743569,
          630957344.4801943,
          660693448.0075965,
          691830970.9189363,
          724435960.0749891,
          758577575.0291852,
          794328234.7242821,
          831763771.1026709,
          870963589.9560796,
          912010839.3559115,
          954992586.0214369,
          1000000000,
          1047128548.0508986,
          1096478196.1431828,
          1148153621.496884,
          1202264434.617413,
          1258925411.794166,
          1318256738.5564048,
          1380384264.6028867,
          1445439770.745928,
          1513561248.436207,
          1584893192.4611108,
          1659586907.4375632,
          1737800828.7493763,
          1819700858.6099825,
          1905460717.9632444,
          1995262314.9688828,
          2089296130.8540409,
          2187761623.949552,
          2290867652.76777,
          2398832919.019495,
          2511886431.509582,
          2630267991.8953815,
          2754228703.3381634,
          2884031503.1266117,
          3019951720.402019,
          3162277660.1683793,
          3311311214.8259077,
          3467368504.5253096,
          3630780547.7010174,
          3801893963.2056127,
          3981071705.5349693,
          4168693834.7033467,
          4365158322.401666,
          4570881896.148752,
          4786300923.22638,
          5011872336.272715,
          5248074602.497734,
          5495408738.576248,
          5754399373.371567,
          6025595860.743568,
          6309573444.801943,
          6606934480.075964,
          6918309709.189363,
          7244359600.749891,
          7585775750.291851,
          7943282347.242822,
          8317637711.026709,
          8709635899.560797,
          9120108393.559114,
          9549925860.214369,
          10000000000
         ],
         "y": [
          26.005310486568586,
          26.00531048656864,
          26.005310486568696,
          26.005310486568757,
          26.005310486568817,
          26.005310486568884,
          26.005310486568952,
          26.005310486569023,
          26.005310486569098,
          26.005310486569176,
          26.00531048656926,
          26.005310486569346,
          26.005310486569435,
          26.00531048656953,
          26.00531048656963,
          26.005310486569734,
          26.00531048656984,
          26.005310486569954,
          26.005310486570075,
          26.0053104865702,
          26.005310486570327,
          26.005310486570465,
          26.005310486570608,
          26.005310486570757,
          26.005310486570913,
          26.005310486571076,
          26.00531048657125,
          26.005310486571428,
          26.005310486571616,
          26.005310486571815,
          26.00531048657202,
          26.005310486572238,
          26.005310486572466,
          26.0053104865727,
          26.00531048657295,
          26.00531048657321,
          26.00531048657348,
          26.005310486573766,
          26.005310486574064,
          26.005310486574377,
          26.005310486574707,
          26.00531048657505,
          26.005310486575407,
          26.005310486575784,
          26.005310486576178,
          26.00531048657659,
          26.00531048657702,
          26.00531048657747,
          26.005310486577944,
          26.00531048657844,
          26.00531048657896,
          26.005310486579504,
          26.005310486580072,
          26.00531048658067,
          26.00531048658129,
          26.005310486581944,
          26.00531048658263,
          26.005310486583344,
          26.005310486584094,
          26.00531048658488,
          26.005310486585703,
          26.005310486586563,
          26.005310486587465,
          26.00531048658841,
          26.005310486589398,
          26.00531048659043,
          26.005310486591515,
          26.005310486592652,
          26.00531048659384,
          26.005310486595086,
          26.005310486596386,
          26.005310486597754,
          26.005310486599182,
          26.005310486600678,
          26.005310486602244,
          26.005310486603886,
          26.0053104866056,
          26.005310486607403,
          26.005310486609286,
          26.005310486611258,
          26.005310486613322,
          26.005310486615485,
          26.005310486617752,
          26.00531048662012,
          26.005310486622605,
          26.005310486625206,
          26.005310486627927,
          26.00531048663078,
          26.005310486633764,
          26.00531048663689,
          26.005310486640166,
          26.00531048664359,
          26.005310486647183,
          26.00531048665094,
          26.005310486654874,
          26.005310486658995,
          26.005310486663312,
          26.00531048666783,
          26.005310486672563,
          26.005310486677516,
          26.005310486682706,
          26.00531048668814,
          26.005310486693826,
          26.005310486699784,
          26.00531048670602,
          26.005310486712553,
          26.00531048671939,
          26.005310486726554,
          26.00531048673405,
          26.005310486741905,
          26.005310486750126,
          26.005310486758738,
          26.00531048676775,
          26.005310486777194,
          26.005310486787078,
          26.00531048679743,
          26.00531048680827,
          26.00531048681962,
          26.005310486831505,
          26.00531048684395,
          26.00531048685698,
          26.00531048687063,
          26.00531048688492,
          26.00531048689988,
          26.005310486915548,
          26.005310486931954,
          26.005310486949135,
          26.005310486967122,
          26.00531048698596,
          26.005310487005683,
          26.00531048702634,
          26.005310487047968,
          26.005310487070613,
          26.005310487094327,
          26.00531048711916,
          26.00531048714516,
          26.005310487172387,
          26.005310487200898,
          26.005310487230755,
          26.005310487262015,
          26.00531048729475,
          26.005310487329027,
          26.00531048736492,
          26.005310487402504,
          26.00531048744186,
          26.005310487483072,
          26.005310487526224,
          26.00531048757141,
          26.005310487618726,
          26.00531048766827,
          26.005310487720152,
          26.00531048777448,
          26.005310487831366,
          26.00531048789093,
          26.005310487953306,
          26.005310488018623,
          26.005310488087012,
          26.005310488158628,
          26.00531048823362,
          26.005310488312144,
          26.00531048839437,
          26.00531048848047,
          26.00531048857063,
          26.00531048866504,
          26.005310488763897,
          26.005310488867412,
          26.005310488975805,
          26.005310489089307,
          26.00531048920816,
          26.005310489332615,
          26.005310489462936,
          26.005310489599395,
          26.005310489742286,
          26.00531048989191,
          26.00531049004859,
          26.005310490212654,
          26.005310490384446,
          26.005310490564337,
          26.005310490752706,
          26.005310490949952,
          26.005310491156493,
          26.005310491372768,
          26.005310491599236,
          26.00531049183638,
          26.005310492084696,
          26.005310492344716,
          26.005310492616992,
          26.0053104929021,
          26.005310493200643,
          26.005310493513257,
          26.005310493840604,
          26.005310494183377,
          26.005310494542307,
          26.00531049491815,
          26.005310495311708,
          26.005310495723812,
          26.00531049615534,
          26.0053104966072,
          26.005310497080362,
          26.00531049757582,
          26.00531049809463,
          26.00531049863789,
          26.005310499206754,
          26.005310499802427,
          26.005310500426173,
          26.005310501079315,
          26.00531050176324,
          26.005310502479396,
          26.005310503229303,
          26.005310504014552,
          26.00531050483681,
          26.00531050569782,
          26.005310506599407,
          26.005310507543484,
          26.005310508532055,
          26.005310509567217,
          26.005310510651164,
          26.005310511786195,
          26.00531051297472,
          26.005310514219257,
          26.005310515522446,
          26.005310516887054,
          26.005310518315973,
          26.005310519812237,
          26.005310521379016,
          26.005310523019634,
          26.005310524737574,
          26.005310526536476,
          26.00531052842016,
          26.00531053039262,
          26.005310532458036,
          26.005310534620794,
          26.005310536885478,
          26.005310539256897,
          26.005310541740073,
          26.00531054434028,
          26.00531054706303,
          26.0053105499141,
          26.005310552899537,
          26.005310556025673,
          26.005310559299136,
          26.005310562726876,
          26.00531056631616,
          26.005310570074602,
          26.005310574010174,
          26.005310578131223,
          26.005310582446494,
          26.005310586965134,
          26.00531059169673,
          26.005310596651324,
          26.005310601839415,
          26.00531060727202,
          26.00531061296065,
          26.005310618917377,
          26.005310625154838,
          26.005310631686264,
          26.005310638525504,
          26.005310645687064,
          26.005310653186143,
          26.005310661038642,
          26.005310669261217,
          26.005310677871307,
          26.00531068688718,
          26.00531069632796,
          26.00531070621367,
          26.00531071656528,
          26.005310727404744,
          26.005310738755057,
          26.00531075064029,
          26.005310763085664,
          26.005310776117565,
          26.005310789763644,
          26.00531080405284,
          26.005310819015467,
          26.00531083468326,
          26.005310851089455,
          26.005310868268847,
          26.00531088625788,
          26.00531090509471,
          26.005310924819295,
          26.005310945473468,
          26.005310967101043,
          26.005310989747894,
          26.00531101346206,
          26.00531103829384,
          26.005311064295903,
          26.005311091523406,
          26.005311120034104,
          26.00531114988847,
          26.005311181149825,
          26.005311213884486,
          26.005311248161885,
          26.005311284054724,
          26.00531132163914,
          26.00531136099486,
          26.005311402205354,
          26.005311445358043,
          26.00531149054445,
          26.005311537860432,
          26.005311587406343,
          26.005311639287285,
          26.005311693613297,
          26.00531175049962,
          26.005311810066907,
          26.005311872441517,
          26.00531193775575,
          26.00531200614815,
          26.005312077763783,
          26.00531215275456,
          26.00531223127954,
          26.00531231350529,
          26.00531239960622,
          26.00531248976496,
          26.005312584172753,
          26.00531268302985,
          26.005312786545936,
          26.005312894940584,
          26.005313008443718,
          26.005313127296088,
          26.005313251749797,
          26.00531338206883,
          26.00531351852961,
          26.005313661421592,
          26.005313811047863,
          26.005313967725805,
          26.00531413178775,
          26.005314303581695,
          26.00531448347204,
          26.00531467184036,
          26.005314869086202,
          26.00531507562796,
          26.005315291903727,
          26.00531551837226,
          26.005315755513926,
          26.005316003831737,
          26.005316263852407,
          26.005316536127474,
          26.005316821234473,
          26.005317119778148,
          26.00531743239176,
          26.005317759738396,
          26.005318102512405,
          26.00531846144086,
          26.005318837285092,
          26.00531923084232,
          26.005319642947335,
          26.005320074474263,
          26.00532052633843,
          26.005320999498306,
          26.005321494957524,
          26.005322013767017,
          26.005322557027256,
          26.005323125890566,
          26.005323721563585,
          26.005324345309813,
          26.005324998452306,
          26.005325682376462,
          26.00532639853298,
          26.005327148440923,
          26.00532793369095,
          26.005328755948685,
          26.005329616958242,
          26.00533051854595,
          26.005331462624188,
          26.005332451195482,
          26.005333486356722,
          26.00533457030363,
          26.005335705335405,
          26.005336893859603,
          26.00533813839725,
          26.005339441588177,
          26.005340806196635,
          26.00534223511714,
          26.005343731380638,
          26.0053452981609,
          26.005346938781294,
          26.005348656721793,
          26.005350455626388,
          26.00535233931081,
          26.00535431177061,
          26.005356377189653,
          26.00535853994898,
          26.005360804636098,
          26.005363176054733,
          26.005365659234993,
          26.00536825944405,
          26.005370982197316,
          26.00537383327013,
          26.005376818710026,
          26.00537994484954,
          26.005383218319654,
          26.00538664606387,
          26.00539023535292,
          26.005393993800194,
          26.005397929377907,
          26.00540205043398,
          26.005406365709764,
          26.00541088435859,
          26.005415615965166,
          26.005420570565917,
          26.00542575867028,
          26.005431191282987,
          26.00543687992741,
          26.00544283667,
          26.005449074145904,
          26.005455605585734,
          26.005462444843662,
          26.00546960642678,
          26.005477105525898,
          26.005484958047745,
          26.00549318064873,
          26.005501790770257,
          26.005510806675733,
          26.0055202474893,
          26.005530133236416,
          26.00554048488631,
          26.005551324396492,
          26.0055626747593,
          26.005574560050704,
          26.00558700548134,
          26.005600037450023,
          26.005613683599726,
          26.005627972876223,
          26.00564293558949,
          26.005658603478004,
          26.00567500977606,
          26.005692189284286,
          26.00571017844345,
          26.005729015411774,
          26.005748740145872,
          26.005769394485508,
          26.005791022242366,
          26.005813669292973,
          26.00583738367603,
          26.005862215694314,
          26.005888218021393,
          26.005915445813358,
          26.005943956825845,
          26.005973811536546,
          26.006005073273506,
          26.006037808349486,
          26.006072086202618,
          26.006107979543735,
          26.00614556451061,
          26.006184920829497,
          26.006226131984256,
          26.006269285393476,
          26.006314472595932,
          26.00636178944479,
          26.006411336310972,
          26.0064632182961,
          26.006517545455484,
          26.006574433031613,
          26.00663400169867,
          26.006696377818574,
          26.00676169370906,
          26.00683008792445,
          26.006901705549613,
          26.006976698507838,
          26.007055225883153,
          26.00713745425791,
          26.007223558066254,
          26.00731371996425,
          26.00740813121749,
          26.007506992106954,
          26.00761051235403,
          26.00771891156556,
          26.007832419699888,
          26.007951277554856,
          26.008075737278876,
          26.008206062906037,
          26.008342530916497,
          26.00848543082329,
          26.008635065786798,
          26.008791753258247,
          26.008955825653523,
          26.00912763105878,
          26.00930753396936,
          26.00949591606353,
          26.009693177012775,
          26.009899735330297,
          26.01011602925955,
          26.010342517704704,
          26.010579681205034,
          26.01082802295528,
          26.011088069874184,
          26.011360373723424,
          26.011645512279422,
          26.011944090560426,
          26.012256742111553,
          26.012584130350483,
          26.01292694997671,
          26.01328592844736,
          26.013661827522675,
          26.014055444884516,
          26.014467615831332,
          26.014899215053177,
          26.015351158490613,
          26.01582440528147,
          26.016319959799578,
          26.01683887378987,
          26.01738224860445,
          26.01795123754435,
          26.018547048312026,
          26.01917094557987,
          26.01982425368017,
          26.020508359422386,
          26.021224715043708,
          26.02197484129926,
          26.022760330698603,
          26.02358285089544,
          26.024444148237908,
          26.025346051486977,
          26.026290475711072,
          26.027279426365244,
          26.02831500356371,
          26.029399406554976,
          26.030534938409243,
          26.031724010928155,
          26.032969149787583,
          26.034272999924575,
          26.035638331180085,
          26.037068044209818,
          26.038565176675956,
          26.04013290973326,
          26.04177457482368,
          26.043493660794265,
          26.045293821353894,
          26.047178882885166,
          26.049152852628488,
          26.051219927256348,
          26.053384501856552,
          26.05565117934418,
          26.058024780323002,
          26.060510353418046,
          26.06311318610223,
          26.065838816040905,
          26.06869304297962,
          26.071681941201312,
          26.07481187258089,
          26.078089500266138,
          26.081521803015676,
          26.085116090226034,
          26.08888001768166,
          26.092821604063296,
          26.096949248252056,
          26.1012717474684,
          26.105798316287157,
          26.11053860657202,
          26.115502728374985,
          26.1207012718487,
          26.126145330222172,
          26.13184652389284,
          26.137817025690847,
          26.14406958737432,
          26.150617567417537,
          26.15747496015706,
          26.16465642636464,
          26.172177325319026,
          26.180053748453055,
          26.188302554656218,
          26.196941407317524,
          26.205988813197898,
          26.215464163226393,
          26.22538777531966,
          26.235780939329576,
          26.24666596422993,
          26.25806622765913,
          26.270006227942567,
          26.282511638725406,
          26.295609366353744,
          26.30932761015038,
          26.323695925739564,
          26.338745291584296,
          26.354508178909214,
          26.371018625192296,
          26.388312311419565,
          26.406426643308436,
          26.425400836717795,
          26.44527600747606,
          26.466095265872514,
          26.487903816072276,
          26.51074906073128,
          26.534680711104848,
          26.559750902961696,
          26.586014318634934,
          26.613528315562526,
          26.64235306169215,
          26.67255167814946,
          26.704190389594505,
          26.737338682718544,
          26.77206947336319,
          26.80845928277529,
          26.846588423545068,
          26.886541195811283,
          26.9284060943562,
          26.97227602725505,
          27.018248546789504,
          27.066426093382724,
          27.116916253365297,
          27.169832031436705,
          27.225292138746433,
          27.283421297582542,
          27.344350563724092,
          27.408217667587042,
          27.475167375372237,
          27.54535187150839,
          27.61893116377377,
          27.696073512577303,
          27.77695588598418,
          27.861764442182345,
          27.950695041206096,
          28.043953787860673,
          28.141757607928792,
          28.244334859886212,
          28.35192598450993,
          28.464784194929283,
          28.583176209848457,
          28.70738303285828,
          28.83770078095739,
          28.974441565617287,
          29.117934429953902,
          29.268526345810024,
          29.42658327480881,
          29.592491297709284,
          29.766657816679835,
          29.94951283540633,
          30.141510322266576,
          30.343129662133272,
          30.554877202712206,
          30.777287901681248,
          31.010927081267308,
          31.25639229728221,
          31.514315330032172,
          31.78536430491775,
          32.070245950948795,
          32.36970800580905,
          32.68454177651363,
          33.01558486510493,
          33.363724069222876,
          33.72989846775723,
          34.11510270213464,
          34.520390464102455,
          34.94687820113369,
          35.395749050780694,
          35.86825701543432,
          36.36573138898427,
          36.889581446805465,
          37.44130141029302,
          38.02247569681053,
          38.634784465373556,
          39.28000946763267,
          39.9600402127111,
          40.676880453152016,
          41.43265499759535,
          42.22961685378451,
          43.07015470304504,
          43.956800704420644,
          44.89223862313159,
          45.87931227386556,
          46.92103426454523,
          48.02059502055872,
          49.18137206290266,
          50.40693950618252,
          51.70107773385023,
          53.06778319833905,
          54.51127828279263,
          56.036021148786745,
          57.64671548073295,
          59.34832002246273,
          61.14605778476842,
          63.04542478439564,
          65.0521981551404,
          67.17244345034219,
          69.41252093326203,
          71.77909062772996,
          74.27911587623599,
          76.91986512659557,
          79.70891164179866,
          82.65413080109775,
          85.7636946343575,
          89.04606320684198,
          92.50997244874371,
          96.16441800378634,
          100.01863465522099,
          104.08207087669534,
          108.36435805116227,
          112.87527390471337,
          117.62469971561377,
          122.62257088363695,
          127.87882048289852,
          133.40331547467156,
          139.20578532700466,
          145.29574287716528,
          151.68239738259567,
          158.37455983749473,
          165.38054078618367,
          172.7080410413152,
          180.36403591421865,
          188.3546537847398,
          196.6850500762015,
          205.35927795363116,
          214.38015732476157,
          223.74914398650859,
          233.46620101606294,
          243.52967474509362,
          253.9361778661633,
          264.68048238915503,
          275.75542527845346,
          287.15182964435405,
          298.85844432078164,
          310.8619045229214,
          323.1467160323006,
          335.69526499583327,
          348.4878549468556,
          361.50277206331157,
          374.71637898134946,
          388.10323669960167,
          401.6362532670207,
          415.28685708013506,
          429.02519176685684,
          442.8203288523914,
          456.64049374149647,
          470.453300063795,
          484.2259871654314,
          497.92565553293343,
          511.5194952326035,
          524.9750030514375,
          538.2601849214577,
          551.3437413605798,
          564.1952350050899,
          576.7852407514708,
          589.0854804571213,
          601.0689454451731,
          612.7100110884353,
          623.9845483903339,
          634.8700376366525,
          645.3456887959478,
          655.3925723793059,
          664.9937629659015,
          674.1344956495954,
          682.8023334060923,
          690.9873410047425,
          698.6822588054999,
          705.882667807908,
          712.587135857953,
          718.7973341358007,
          724.5181130535314,
          729.7575275305131,
          734.5268032568373,
          738.840237905434,
          742.7150341563811,
          746.1710646554409,
          749.2305724228609,
          751.9178135335683,
          754.2586518949222,
          756.280118468759,
          758.0099491724817,
          759.4761168432005,
          760.7063729977131,
          761.7278146528159,
          762.5664902132153,
          763.2470564598955,
          763.7924960935036,
          764.2239022562073,
          764.5603331540742,
          764.8187365345381,
          765.0139405527406,
          765.158704691775,
          765.2638220654418,
          765.3382627666145,
          765.3893470125756,
          765.4229366993217,
          765.443634562398,
          765.4549813446006,
          765.4596430358731,
          765.4595821940317,
          765.4562093852321,
          765.4505127228854,
          765.4431651876693,
          765.4346107786944,
          765.4251315263219,
          765.4148979885849,
          765.4040060940561,
          765.3925031508996,
          765.3804055954648,
          765.3677106857783,
          765.3544039278112,
          765.3404636113954,
          765.3258634654816,
          765.3105741386502,
          765.2945639756174,
          765.2777993891244,
          765.260245008706,
          765.2418637111191,
          765.2226165899558,
          765.2024628944081,
          765.1813599519554,
          765.159263081814,
          765.1361255020769,
          765.1118982316618,
          765.0865299873755,
          765.0599670760779,
          765.0321532817906,
          765.0030297475396,
          764.9725348516976,
          764.9406040785763,
          764.9071698830047,
          764.8721615486186,
          764.8355050395744,
          764.7971228453861,
          764.756933818574,
          764.7148530047963,
          764.6707914651233,
          764.6246560900983,
          764.5763494052128,
          764.5257693674098,
          764.4728091522101,
          764.4173569310404,
          764.3592956383245,
          764.2985027278787,
          764.2348499181359,
          764.1682029257005,
          764.0984211867166,
          764.0253575655115,
          763.9488580499533,
          763.8687614329388,
          763.7848989794056,
          763.6970940782381,
          763.6051618784089,
          763.5089089086781,
          763.40813268014,
          763.3026212708844,
          763.1921528920092,
          763.0764954341963,
          762.9554059940293,
          762.8286303792067,
          762.6959025917716,
          762.5569442884492,
          762.4114642171543,
          762.2591576286969,
          762.0997056626869,
          761.932774706603,
          761.7580157269638,
          761.5750635715054,
          761.3835362412406,
          761.1830341312417,
          760.9731392389654,
          760.7534143389003,
          760.5234021223005,
          760.2826243007343,
          760.030580672157,
          759.7667481481959,
          759.4905797413105,
          759.2015035104814,
          758.8989214640645,
          758.5822084184373,
          758.2507108110626,
          757.9037454665948,
          757.5405983146613,
          757.1605230579628,
          756.7627397893641,
          756.346433556671,
          755.9107528738328,
          755.4548081773622,
          754.9776702268232,
          754.4783684483216,
          753.9558892200206,
          753.4091740988156,
          752.8371179874317,
          752.2385672413542,
          751.6123177151793,
          750.957112748166,
          750.271641089,
          749.5545347600336,
          748.8043668615605,
          748.01964931701,
          747.1988305603124,
          746.3402931671069,
          745.4423514319143,
          744.5032488939249,
          743.5211558146108,
          742.4941666110168,
          741.4202972492823,
          740.2974826037234,
          739.123573787661,
          737.8963354631243,
          736.6134431375891,
          735.272480457052,
          733.8709365059751,
          732.4062031259991,
          730.8755722667952,
          729.2762333840412,
          727.6052709012521,
          725.8596617540926,
          724.0362730378527,
          722.1318597809809,
          720.1430628699629,
          718.0664071534012,
          715.8982997559085,
          713.6350286353864,
          711.2727614204063,
          708.8075445677778,
          706.2353028839531,
          703.5518394576967,
          700.7528360554337,
          697.8338540348884,
          694.7903358370129,
          691.6176071207831,
          688.3108796101903,
          684.8652547276622,
          681.2757280931638,
          677.5371949733533,
          673.6444567703151,
          669.5922286445658,
          665.3751483720989,
          660.9877865401943,
          656.4246581914197,
          651.6802360296501,
          646.7489653058453,
          641.6252805046784,
          636.3036239556893,
          630.7784664943254,
          625.0443302987517,
          619.0958140275251,
          612.9276203807964,
          606.5345862034304,
          599.9117152419392,
          593.054213658136,
          585.9575283905407,
          578.61738843942,
          571.0298491325527,
          563.1913394058819,
          555.0987121057765,
          546.7492972871609,
          538.1409584438994,
          529.2721515640205,
          520.1419868523051,
          510.7502929059873,
          501.0976830656066,
          491.18562359206487,
          481.01650324267933,
          470.5937037334066,
          459.9216704817475,
          449.00598292543265,
          437.8534236066199,
          426.47204510089773,
          414.87123375630335,
          403.0617690914545,
          391.055877586055,
          378.867279484023,
          366.51122712264055,
          354.004533204043,
          341.3655873425581,
          328.61435915768817,
          315.7723861434111,
          302.86274453600856,
          289.91000143108573,
          276.9401464726674,
          263.98050155990245,
          251.05960719680036,
          238.20708435366583,
          225.45347102115215,
          212.83003302329303,
          200.36854911731513,
          188.10107094581048,
          176.0596590188936,
          164.27609658461327,
          152.78158398589426,
          141.6064168877712,
          130.77965257131495,
          120.32876930683871,
          110.27932461032127,
          100.65461892007626,
          91.47537186817559,
          82.75941882220266,
          74.52143569521789,
          66.77270012293428,
          59.520896947335146,
          52.76997549075879,
          46.520065327771945,
          40.76745614964851,
          35.50464586850919,
          30.720459343789777,
          26.40023807141648,
          22.526098916337133,
          19.077257573858954,
          16.030410016693427,
          13.360162841222403,
          11.039501297878784,
          9.040282009722327,
          7.333736077797878,
          5.8909675532239385,
          4.683432209199711,
          3.683382219596121,
          2.8642637480013495,
          2.201056525180498,
          1.6705471453872514,
          1.2515308960059088,
          0.9249402639875974,
          0.673901623380901
         ]
        }
       ],
       "frames": [],
       "layout": {
        "margin": {
         "b": 50,
         "l": 50,
         "r": 50,
         "t": 60
        },
        "template": {
         "data": {
          "bar": [
           {
            "error_x": {
             "color": "#2a3f5f"
            },
            "error_y": {
             "color": "#2a3f5f"
            },
            "marker": {
             "line": {
              "color": "#E5ECF6",
              "width": 0.5
             }
            },
            "type": "bar"
           }
          ],
          "barpolar": [
           {
            "marker": {
             "line": {
              "color": "#E5ECF6",
              "width": 0.5
             }
            },
            "type": "barpolar"
           }
          ],
          "carpet": [
           {
            "aaxis": {
             "endlinecolor": "#2a3f5f",
             "gridcolor": "white",
             "linecolor": "white",
             "minorgridcolor": "white",
             "startlinecolor": "#2a3f5f"
            },
            "baxis": {
             "endlinecolor": "#2a3f5f",
             "gridcolor": "white",
             "linecolor": "white",
             "minorgridcolor": "white",
             "startlinecolor": "#2a3f5f"
            },
            "type": "carpet"
           }
          ],
          "choropleth": [
           {
            "colorbar": {
             "outlinewidth": 0,
             "ticks": ""
            },
            "type": "choropleth"
           }
          ],
          "contour": [
           {
            "colorbar": {
             "outlinewidth": 0,
             "ticks": ""
            },
            "colorscale": [
             [
              0,
              "#0d0887"
             ],
             [
              0.1111111111111111,
              "#46039f"
             ],
             [
              0.2222222222222222,
              "#7201a8"
             ],
             [
              0.3333333333333333,
              "#9c179e"
             ],
             [
              0.4444444444444444,
              "#bd3786"
             ],
             [
              0.5555555555555556,
              "#d8576b"
             ],
             [
              0.6666666666666666,
              "#ed7953"
             ],
             [
              0.7777777777777778,
              "#fb9f3a"
             ],
             [
              0.8888888888888888,
              "#fdca26"
             ],
             [
              1,
              "#f0f921"
             ]
            ],
            "type": "contour"
           }
          ],
          "contourcarpet": [
           {
            "colorbar": {
             "outlinewidth": 0,
             "ticks": ""
            },
            "type": "contourcarpet"
           }
          ],
          "heatmap": [
           {
            "colorbar": {
             "outlinewidth": 0,
             "ticks": ""
            },
            "colorscale": [
             [
              0,
              "#0d0887"
             ],
             [
              0.1111111111111111,
              "#46039f"
             ],
             [
              0.2222222222222222,
              "#7201a8"
             ],
             [
              0.3333333333333333,
              "#9c179e"
             ],
             [
              0.4444444444444444,
              "#bd3786"
             ],
             [
              0.5555555555555556,
              "#d8576b"
             ],
             [
              0.6666666666666666,
              "#ed7953"
             ],
             [
              0.7777777777777778,
              "#fb9f3a"
             ],
             [
              0.8888888888888888,
              "#fdca26"
             ],
             [
              1,
              "#f0f921"
             ]
            ],
            "type": "heatmap"
           }
          ],
          "heatmapgl": [
           {
            "colorbar": {
             "outlinewidth": 0,
             "ticks": ""
            },
            "colorscale": [
             [
              0,
              "#0d0887"
             ],
             [
              0.1111111111111111,
              "#46039f"
             ],
             [
              0.2222222222222222,
              "#7201a8"
             ],
             [
              0.3333333333333333,
              "#9c179e"
             ],
             [
              0.4444444444444444,
              "#bd3786"
             ],
             [
              0.5555555555555556,
              "#d8576b"
             ],
             [
              0.6666666666666666,
              "#ed7953"
             ],
             [
              0.7777777777777778,
              "#fb9f3a"
             ],
             [
              0.8888888888888888,
              "#fdca26"
             ],
             [
              1,
              "#f0f921"
             ]
            ],
            "type": "heatmapgl"
           }
          ],
          "histogram": [
           {
            "marker": {
             "colorbar": {
              "outlinewidth": 0,
              "ticks": ""
             }
            },
            "type": "histogram"
           }
          ],
          "histogram2d": [
           {
            "colorbar": {
             "outlinewidth": 0,
             "ticks": ""
            },
            "colorscale": [
             [
              0,
              "#0d0887"
             ],
             [
              0.1111111111111111,
              "#46039f"
             ],
             [
              0.2222222222222222,
              "#7201a8"
             ],
             [
              0.3333333333333333,
              "#9c179e"
             ],
             [
              0.4444444444444444,
              "#bd3786"
             ],
             [
              0.5555555555555556,
              "#d8576b"
             ],
             [
              0.6666666666666666,
              "#ed7953"
             ],
             [
              0.7777777777777778,
              "#fb9f3a"
             ],
             [
              0.8888888888888888,
              "#fdca26"
             ],
             [
              1,
              "#f0f921"
             ]
            ],
            "type": "histogram2d"
           }
          ],
          "histogram2dcontour": [
           {
            "colorbar": {
             "outlinewidth": 0,
             "ticks": ""
            },
            "colorscale": [
             [
              0,
              "#0d0887"
             ],
             [
              0.1111111111111111,
              "#46039f"
             ],
             [
              0.2222222222222222,
              "#7201a8"
             ],
             [
              0.3333333333333333,
              "#9c179e"
             ],
             [
              0.4444444444444444,
              "#bd3786"
             ],
             [
              0.5555555555555556,
              "#d8576b"
             ],
             [
              0.6666666666666666,
              "#ed7953"
             ],
             [
              0.7777777777777778,
              "#fb9f3a"
             ],
             [
              0.8888888888888888,
              "#fdca26"
             ],
             [
              1,
              "#f0f921"
             ]
            ],
            "type": "histogram2dcontour"
           }
          ],
          "mesh3d": [
           {
            "colorbar": {
             "outlinewidth": 0,
             "ticks": ""
            },
            "type": "mesh3d"
           }
          ],
          "parcoords": [
           {
            "line": {
             "colorbar": {
              "outlinewidth": 0,
              "ticks": ""
             }
            },
            "type": "parcoords"
           }
          ],
          "pie": [
           {
            "automargin": true,
            "type": "pie"
           }
          ],
          "scatter": [
           {
            "marker": {
             "colorbar": {
              "outlinewidth": 0,
              "ticks": ""
             }
            },
            "type": "scatter"
           }
          ],
          "scatter3d": [
           {
            "line": {
             "colorbar": {
              "outlinewidth": 0,
              "ticks": ""
             }
            },
            "marker": {
             "colorbar": {
              "outlinewidth": 0,
              "ticks": ""
             }
            },
            "type": "scatter3d"
           }
          ],
          "scattercarpet": [
           {
            "marker": {
             "colorbar": {
              "outlinewidth": 0,
              "ticks": ""
             }
            },
            "type": "scattercarpet"
           }
          ],
          "scattergeo": [
           {
            "marker": {
             "colorbar": {
              "outlinewidth": 0,
              "ticks": ""
             }
            },
            "type": "scattergeo"
           }
          ],
          "scattergl": [
           {
            "marker": {
             "colorbar": {
              "outlinewidth": 0,
              "ticks": ""
             }
            },
            "type": "scattergl"
           }
          ],
          "scattermapbox": [
           {
            "marker": {
             "colorbar": {
              "outlinewidth": 0,
              "ticks": ""
             }
            },
            "type": "scattermapbox"
           }
          ],
          "scatterpolar": [
           {
            "marker": {
             "colorbar": {
              "outlinewidth": 0,
              "ticks": ""
             }
            },
            "type": "scatterpolar"
           }
          ],
          "scatterpolargl": [
           {
            "marker": {
             "colorbar": {
              "outlinewidth": 0,
              "ticks": ""
             }
            },
            "type": "scatterpolargl"
           }
          ],
          "scatterternary": [
           {
            "marker": {
             "colorbar": {
              "outlinewidth": 0,
              "ticks": ""
             }
            },
            "type": "scatterternary"
           }
          ],
          "surface": [
           {
            "colorbar": {
             "outlinewidth": 0,
             "ticks": ""
            },
            "colorscale": [
             [
              0,
              "#0d0887"
             ],
             [
              0.1111111111111111,
              "#46039f"
             ],
             [
              0.2222222222222222,
              "#7201a8"
             ],
             [
              0.3333333333333333,
              "#9c179e"
             ],
             [
              0.4444444444444444,
              "#bd3786"
             ],
             [
              0.5555555555555556,
              "#d8576b"
             ],
             [
              0.6666666666666666,
              "#ed7953"
             ],
             [
              0.7777777777777778,
              "#fb9f3a"
             ],
             [
              0.8888888888888888,
              "#fdca26"
             ],
             [
              1,
              "#f0f921"
             ]
            ],
            "type": "surface"
           }
          ],
          "table": [
           {
            "cells": {
             "fill": {
              "color": "#EBF0F8"
             },
             "line": {
              "color": "white"
             }
            },
            "header": {
             "fill": {
              "color": "#C8D4E3"
             },
             "line": {
              "color": "white"
             }
            },
            "type": "table"
           }
          ]
         },
         "layout": {
          "annotationdefaults": {
           "arrowcolor": "#2a3f5f",
           "arrowhead": 0,
           "arrowwidth": 1
          },
          "autotypenumbers": "strict",
          "coloraxis": {
           "colorbar": {
            "outlinewidth": 0,
            "ticks": ""
           }
          },
          "colorscale": {
           "diverging": [
            [
             0,
             "#8e0152"
            ],
            [
             0.1,
             "#c51b7d"
            ],
            [
             0.2,
             "#de77ae"
            ],
            [
             0.3,
             "#f1b6da"
            ],
            [
             0.4,
             "#fde0ef"
            ],
            [
             0.5,
             "#f7f7f7"
            ],
            [
             0.6,
             "#e6f5d0"
            ],
            [
             0.7,
             "#b8e186"
            ],
            [
             0.8,
             "#7fbc41"
            ],
            [
             0.9,
             "#4d9221"
            ],
            [
             1,
             "#276419"
            ]
           ],
           "sequential": [
            [
             0,
             "#0d0887"
            ],
            [
             0.1111111111111111,
             "#46039f"
            ],
            [
             0.2222222222222222,
             "#7201a8"
            ],
            [
             0.3333333333333333,
             "#9c179e"
            ],
            [
             0.4444444444444444,
             "#bd3786"
            ],
            [
             0.5555555555555556,
             "#d8576b"
            ],
            [
             0.6666666666666666,
             "#ed7953"
            ],
            [
             0.7777777777777778,
             "#fb9f3a"
            ],
            [
             0.8888888888888888,
             "#fdca26"
            ],
            [
             1,
             "#f0f921"
            ]
           ],
           "sequentialminus": [
            [
             0,
             "#0d0887"
            ],
            [
             0.1111111111111111,
             "#46039f"
            ],
            [
             0.2222222222222222,
             "#7201a8"
            ],
            [
             0.3333333333333333,
             "#9c179e"
            ],
            [
             0.4444444444444444,
             "#bd3786"
            ],
            [
             0.5555555555555556,
             "#d8576b"
            ],
            [
             0.6666666666666666,
             "#ed7953"
            ],
            [
             0.7777777777777778,
             "#fb9f3a"
            ],
            [
             0.8888888888888888,
             "#fdca26"
            ],
            [
             1,
             "#f0f921"
            ]
           ]
          },
          "colorway": [
           "#636efa",
           "#EF553B",
           "#00cc96",
           "#ab63fa",
           "#FFA15A",
           "#19d3f3",
           "#FF6692",
           "#B6E880",
           "#FF97FF",
           "#FECB52"
          ],
          "font": {
           "color": "#2a3f5f"
          },
          "geo": {
           "bgcolor": "white",
           "lakecolor": "white",
           "landcolor": "#E5ECF6",
           "showlakes": true,
           "showland": true,
           "subunitcolor": "white"
          },
          "hoverlabel": {
           "align": "left"
          },
          "hovermode": "closest",
          "mapbox": {
           "style": "light"
          },
          "paper_bgcolor": "white",
          "plot_bgcolor": "#E5ECF6",
          "polar": {
           "angularaxis": {
            "gridcolor": "white",
            "linecolor": "white",
            "ticks": ""
           },
           "bgcolor": "#E5ECF6",
           "radialaxis": {
            "gridcolor": "white",
            "linecolor": "white",
            "ticks": ""
           }
          },
          "scene": {
           "xaxis": {
            "backgroundcolor": "#E5ECF6",
            "gridcolor": "white",
            "gridwidth": 2,
            "linecolor": "white",
            "showbackground": true,
            "ticks": "",
            "zerolinecolor": "white"
           },
           "yaxis": {
            "backgroundcolor": "#E5ECF6",
            "gridcolor": "white",
            "gridwidth": 2,
            "linecolor": "white",
            "showbackground": true,
            "ticks": "",
            "zerolinecolor": "white"
           },
           "zaxis": {
            "backgroundcolor": "#E5ECF6",
            "gridcolor": "white",
            "gridwidth": 2,
            "linecolor": "white",
            "showbackground": true,
            "ticks": "",
            "zerolinecolor": "white"
           }
          },
          "shapedefaults": {
           "line": {
            "color": "#2a3f5f"
           }
          },
          "ternary": {
           "aaxis": {
            "gridcolor": "white",
            "linecolor": "white",
            "ticks": ""
           },
           "baxis": {
            "gridcolor": "white",
            "linecolor": "white",
            "ticks": ""
           },
           "bgcolor": "#E5ECF6",
           "caxis": {
            "gridcolor": "white",
            "linecolor": "white",
            "ticks": ""
           }
          },
          "title": {
           "x": 0.05
          },
          "xaxis": {
           "automargin": true,
           "gridcolor": "white",
           "linecolor": "white",
           "ticks": "",
           "title": {
            "standoff": 15
           },
           "zerolinecolor": "white",
           "zerolinewidth": 2
          },
          "yaxis": {
           "automargin": true,
           "gridcolor": "white",
           "linecolor": "white",
           "ticks": "",
           "title": {
            "standoff": 15
           },
           "zerolinecolor": "white",
           "zerolinewidth": 2
          }
         }
        },
        "xaxis": {
         "type": "log"
        }
       }
      },
      "text/html": [
       "<div\n",
       "    class=\"webio-mountpoint\"\n",
       "    data-webio-mountpoint=\"5172560058415748694\"\n",
       ">\n",
       "    <script>\n",
       "    (function(){\n",
       "    // Some integrations (namely, IJulia/Jupyter) use an alternate render pathway than\n",
       "    // just putting the html on the page. If WebIO isn't defined, then it's pretty likely\n",
       "    // that we're in one of those situations and the integration just isn't installed\n",
       "    // correctly.\n",
       "    if (typeof window.WebIO === \"undefined\") {\n",
       "        document\n",
       "            .querySelector('[data-webio-mountpoint=\"5172560058415748694\"]')\n",
       "            .innerHTML = (\n",
       "                '<div style=\"padding: 1em; background-color: #f8d6da; border: 1px solid #f5c6cb; font-weight: bold;\">' +\n",
       "                '<p><strong>WebIO not detected.</strong></p>' +\n",
       "                '<p>Please read ' +\n",
       "                '<a href=\"https://juliagizmos.github.io/WebIO.jl/latest/troubleshooting/not-detected/\" target=\"_blank\">the troubleshooting guide</a> ' +\n",
       "                'for more information on how to resolve this issue.</p>' +\n",
       "                '<p><a href=\"https://juliagizmos.github.io/WebIO.jl/latest/troubleshooting/not-detected/\" target=\"_blank\">https://juliagizmos.github.io/WebIO.jl/latest/troubleshooting/not-detected/</a></p>' +\n",
       "                '</div>'\n",
       "            );\n",
       "        return;\n",
       "    }\n",
       "    WebIO.mount(\n",
       "        document.querySelector('[data-webio-mountpoint=\"5172560058415748694\"]'),\n",
       "        {\"props\":{},\"nodeType\":\"Scope\",\"type\":\"node\",\"instanceArgs\":{\"imports\":{\"data\":[{\"name\":\"Plotly\",\"type\":\"js\",\"url\":\"\\/assetserver\\/974bc88f8fa21ff4c3cbd84b6afff90488058aa7-plotly.min.js\"},{\"name\":null,\"type\":\"js\",\"url\":\"\\/assetserver\\/64d87b978f97348bc0d43ca0daa59975ea5d4c91-plotly_webio.bundle.js\"}],\"type\":\"async_block\"},\"id\":\"16722681259473228692\",\"handlers\":{\"_toImage\":[\"(function (options){return this.Plotly.toImage(this.plotElem,options).then((function (data){return WebIO.setval({\\\"name\\\":\\\"image\\\",\\\"scope\\\":\\\"16722681259473228692\\\",\\\"id\\\":\\\"2470314613221786544\\\",\\\"type\\\":\\\"observable\\\"},data)}))})\"],\"__get_gd_contents\":[\"(function (prop){prop==\\\"data\\\" ? (WebIO.setval({\\\"name\\\":\\\"__gd_contents\\\",\\\"scope\\\":\\\"16722681259473228692\\\",\\\"id\\\":\\\"12506728327570966028\\\",\\\"type\\\":\\\"observable\\\"},this.plotElem.data)) : undefined; return prop==\\\"layout\\\" ? (WebIO.setval({\\\"name\\\":\\\"__gd_contents\\\",\\\"scope\\\":\\\"16722681259473228692\\\",\\\"id\\\":\\\"12506728327570966028\\\",\\\"type\\\":\\\"observable\\\"},this.plotElem.layout)) : undefined})\"],\"_downloadImage\":[\"(function (options){return this.Plotly.downloadImage(this.plotElem,options)})\"],\"_commands\":[\"(function (args){var fn=args.shift(); var elem=this.plotElem; var Plotly=this.Plotly; args.unshift(elem); return Plotly[fn].apply(this,args)})\"]},\"systemjs_options\":null,\"mount_callbacks\":[\"function () {\\n    var handler = ((function (Plotly,PlotlyWebIO){PlotlyWebIO.init(WebIO); var gd=this.dom.querySelector(\\\"#plot-4c12957e-6b52-41ce-8aa5-ddca51ca7cb4\\\"); this.plotElem=gd; this.Plotly=Plotly; (window.Blink!==undefined) ? (gd.style.width=\\\"100%\\\", gd.style.height=\\\"100vh\\\", gd.style.marginLeft=\\\"0%\\\", gd.style.marginTop=\\\"0vh\\\") : undefined; window.onresize=(function (){return Plotly.Plots.resize(gd)}); Plotly.newPlot(gd,[{\\\"mode\\\":\\\"markers\\\",\\\"y\\\":[26.005310486568586,26.00531048656864,26.005310486568696,26.005310486568757,26.005310486568817,26.005310486568884,26.005310486568952,26.005310486569023,26.005310486569098,26.005310486569176,26.00531048656926,26.005310486569346,26.005310486569435,26.00531048656953,26.00531048656963,26.005310486569734,26.00531048656984,26.005310486569954,26.005310486570075,26.0053104865702,26.005310486570327,26.005310486570465,26.005310486570608,26.005310486570757,26.005310486570913,26.005310486571076,26.00531048657125,26.005310486571428,26.005310486571616,26.005310486571815,26.00531048657202,26.005310486572238,26.005310486572466,26.0053104865727,26.00531048657295,26.00531048657321,26.00531048657348,26.005310486573766,26.005310486574064,26.005310486574377,26.005310486574707,26.00531048657505,26.005310486575407,26.005310486575784,26.005310486576178,26.00531048657659,26.00531048657702,26.00531048657747,26.005310486577944,26.00531048657844,26.00531048657896,26.005310486579504,26.005310486580072,26.00531048658067,26.00531048658129,26.005310486581944,26.00531048658263,26.005310486583344,26.005310486584094,26.00531048658488,26.005310486585703,26.005310486586563,26.005310486587465,26.00531048658841,26.005310486589398,26.00531048659043,26.005310486591515,26.005310486592652,26.00531048659384,26.005310486595086,26.005310486596386,26.005310486597754,26.005310486599182,26.005310486600678,26.005310486602244,26.005310486603886,26.0053104866056,26.005310486607403,26.005310486609286,26.005310486611258,26.005310486613322,26.005310486615485,26.005310486617752,26.00531048662012,26.005310486622605,26.005310486625206,26.005310486627927,26.00531048663078,26.005310486633764,26.00531048663689,26.005310486640166,26.00531048664359,26.005310486647183,26.00531048665094,26.005310486654874,26.005310486658995,26.005310486663312,26.00531048666783,26.005310486672563,26.005310486677516,26.005310486682706,26.00531048668814,26.005310486693826,26.005310486699784,26.00531048670602,26.005310486712553,26.00531048671939,26.005310486726554,26.00531048673405,26.005310486741905,26.005310486750126,26.005310486758738,26.00531048676775,26.005310486777194,26.005310486787078,26.00531048679743,26.00531048680827,26.00531048681962,26.005310486831505,26.00531048684395,26.00531048685698,26.00531048687063,26.00531048688492,26.00531048689988,26.005310486915548,26.005310486931954,26.005310486949135,26.005310486967122,26.00531048698596,26.005310487005683,26.00531048702634,26.005310487047968,26.005310487070613,26.005310487094327,26.00531048711916,26.00531048714516,26.005310487172387,26.005310487200898,26.005310487230755,26.005310487262015,26.00531048729475,26.005310487329027,26.00531048736492,26.005310487402504,26.00531048744186,26.005310487483072,26.005310487526224,26.00531048757141,26.005310487618726,26.00531048766827,26.005310487720152,26.00531048777448,26.005310487831366,26.00531048789093,26.005310487953306,26.005310488018623,26.005310488087012,26.005310488158628,26.00531048823362,26.005310488312144,26.00531048839437,26.00531048848047,26.00531048857063,26.00531048866504,26.005310488763897,26.005310488867412,26.005310488975805,26.005310489089307,26.00531048920816,26.005310489332615,26.005310489462936,26.005310489599395,26.005310489742286,26.00531048989191,26.00531049004859,26.005310490212654,26.005310490384446,26.005310490564337,26.005310490752706,26.005310490949952,26.005310491156493,26.005310491372768,26.005310491599236,26.00531049183638,26.005310492084696,26.005310492344716,26.005310492616992,26.0053104929021,26.005310493200643,26.005310493513257,26.005310493840604,26.005310494183377,26.005310494542307,26.00531049491815,26.005310495311708,26.005310495723812,26.00531049615534,26.0053104966072,26.005310497080362,26.00531049757582,26.00531049809463,26.00531049863789,26.005310499206754,26.005310499802427,26.005310500426173,26.005310501079315,26.00531050176324,26.005310502479396,26.005310503229303,26.005310504014552,26.00531050483681,26.00531050569782,26.005310506599407,26.005310507543484,26.005310508532055,26.005310509567217,26.005310510651164,26.005310511786195,26.00531051297472,26.005310514219257,26.005310515522446,26.005310516887054,26.005310518315973,26.005310519812237,26.005310521379016,26.005310523019634,26.005310524737574,26.005310526536476,26.00531052842016,26.00531053039262,26.005310532458036,26.005310534620794,26.005310536885478,26.005310539256897,26.005310541740073,26.00531054434028,26.00531054706303,26.0053105499141,26.005310552899537,26.005310556025673,26.005310559299136,26.005310562726876,26.00531056631616,26.005310570074602,26.005310574010174,26.005310578131223,26.005310582446494,26.005310586965134,26.00531059169673,26.005310596651324,26.005310601839415,26.00531060727202,26.00531061296065,26.005310618917377,26.005310625154838,26.005310631686264,26.005310638525504,26.005310645687064,26.005310653186143,26.005310661038642,26.005310669261217,26.005310677871307,26.00531068688718,26.00531069632796,26.00531070621367,26.00531071656528,26.005310727404744,26.005310738755057,26.00531075064029,26.005310763085664,26.005310776117565,26.005310789763644,26.00531080405284,26.005310819015467,26.00531083468326,26.005310851089455,26.005310868268847,26.00531088625788,26.00531090509471,26.005310924819295,26.005310945473468,26.005310967101043,26.005310989747894,26.00531101346206,26.00531103829384,26.005311064295903,26.005311091523406,26.005311120034104,26.00531114988847,26.005311181149825,26.005311213884486,26.005311248161885,26.005311284054724,26.00531132163914,26.00531136099486,26.005311402205354,26.005311445358043,26.00531149054445,26.005311537860432,26.005311587406343,26.005311639287285,26.005311693613297,26.00531175049962,26.005311810066907,26.005311872441517,26.00531193775575,26.00531200614815,26.005312077763783,26.00531215275456,26.00531223127954,26.00531231350529,26.00531239960622,26.00531248976496,26.005312584172753,26.00531268302985,26.005312786545936,26.005312894940584,26.005313008443718,26.005313127296088,26.005313251749797,26.00531338206883,26.00531351852961,26.005313661421592,26.005313811047863,26.005313967725805,26.00531413178775,26.005314303581695,26.00531448347204,26.00531467184036,26.005314869086202,26.00531507562796,26.005315291903727,26.00531551837226,26.005315755513926,26.005316003831737,26.005316263852407,26.005316536127474,26.005316821234473,26.005317119778148,26.00531743239176,26.005317759738396,26.005318102512405,26.00531846144086,26.005318837285092,26.00531923084232,26.005319642947335,26.005320074474263,26.00532052633843,26.005320999498306,26.005321494957524,26.005322013767017,26.005322557027256,26.005323125890566,26.005323721563585,26.005324345309813,26.005324998452306,26.005325682376462,26.00532639853298,26.005327148440923,26.00532793369095,26.005328755948685,26.005329616958242,26.00533051854595,26.005331462624188,26.005332451195482,26.005333486356722,26.00533457030363,26.005335705335405,26.005336893859603,26.00533813839725,26.005339441588177,26.005340806196635,26.00534223511714,26.005343731380638,26.0053452981609,26.005346938781294,26.005348656721793,26.005350455626388,26.00535233931081,26.00535431177061,26.005356377189653,26.00535853994898,26.005360804636098,26.005363176054733,26.005365659234993,26.00536825944405,26.005370982197316,26.00537383327013,26.005376818710026,26.00537994484954,26.005383218319654,26.00538664606387,26.00539023535292,26.005393993800194,26.005397929377907,26.00540205043398,26.005406365709764,26.00541088435859,26.005415615965166,26.005420570565917,26.00542575867028,26.005431191282987,26.00543687992741,26.00544283667,26.005449074145904,26.005455605585734,26.005462444843662,26.00546960642678,26.005477105525898,26.005484958047745,26.00549318064873,26.005501790770257,26.005510806675733,26.0055202474893,26.005530133236416,26.00554048488631,26.005551324396492,26.0055626747593,26.005574560050704,26.00558700548134,26.005600037450023,26.005613683599726,26.005627972876223,26.00564293558949,26.005658603478004,26.00567500977606,26.005692189284286,26.00571017844345,26.005729015411774,26.005748740145872,26.005769394485508,26.005791022242366,26.005813669292973,26.00583738367603,26.005862215694314,26.005888218021393,26.005915445813358,26.005943956825845,26.005973811536546,26.006005073273506,26.006037808349486,26.006072086202618,26.006107979543735,26.00614556451061,26.006184920829497,26.006226131984256,26.006269285393476,26.006314472595932,26.00636178944479,26.006411336310972,26.0064632182961,26.006517545455484,26.006574433031613,26.00663400169867,26.006696377818574,26.00676169370906,26.00683008792445,26.006901705549613,26.006976698507838,26.007055225883153,26.00713745425791,26.007223558066254,26.00731371996425,26.00740813121749,26.007506992106954,26.00761051235403,26.00771891156556,26.007832419699888,26.007951277554856,26.008075737278876,26.008206062906037,26.008342530916497,26.00848543082329,26.008635065786798,26.008791753258247,26.008955825653523,26.00912763105878,26.00930753396936,26.00949591606353,26.009693177012775,26.009899735330297,26.01011602925955,26.010342517704704,26.010579681205034,26.01082802295528,26.011088069874184,26.011360373723424,26.011645512279422,26.011944090560426,26.012256742111553,26.012584130350483,26.01292694997671,26.01328592844736,26.013661827522675,26.014055444884516,26.014467615831332,26.014899215053177,26.015351158490613,26.01582440528147,26.016319959799578,26.01683887378987,26.01738224860445,26.01795123754435,26.018547048312026,26.01917094557987,26.01982425368017,26.020508359422386,26.021224715043708,26.02197484129926,26.022760330698603,26.02358285089544,26.024444148237908,26.025346051486977,26.026290475711072,26.027279426365244,26.02831500356371,26.029399406554976,26.030534938409243,26.031724010928155,26.032969149787583,26.034272999924575,26.035638331180085,26.037068044209818,26.038565176675956,26.04013290973326,26.04177457482368,26.043493660794265,26.045293821353894,26.047178882885166,26.049152852628488,26.051219927256348,26.053384501856552,26.05565117934418,26.058024780323002,26.060510353418046,26.06311318610223,26.065838816040905,26.06869304297962,26.071681941201312,26.07481187258089,26.078089500266138,26.081521803015676,26.085116090226034,26.08888001768166,26.092821604063296,26.096949248252056,26.1012717474684,26.105798316287157,26.11053860657202,26.115502728374985,26.1207012718487,26.126145330222172,26.13184652389284,26.137817025690847,26.14406958737432,26.150617567417537,26.15747496015706,26.16465642636464,26.172177325319026,26.180053748453055,26.188302554656218,26.196941407317524,26.205988813197898,26.215464163226393,26.22538777531966,26.235780939329576,26.24666596422993,26.25806622765913,26.270006227942567,26.282511638725406,26.295609366353744,26.30932761015038,26.323695925739564,26.338745291584296,26.354508178909214,26.371018625192296,26.388312311419565,26.406426643308436,26.425400836717795,26.44527600747606,26.466095265872514,26.487903816072276,26.51074906073128,26.534680711104848,26.559750902961696,26.586014318634934,26.613528315562526,26.64235306169215,26.67255167814946,26.704190389594505,26.737338682718544,26.77206947336319,26.80845928277529,26.846588423545068,26.886541195811283,26.9284060943562,26.97227602725505,27.018248546789504,27.066426093382724,27.116916253365297,27.169832031436705,27.225292138746433,27.283421297582542,27.344350563724092,27.408217667587042,27.475167375372237,27.54535187150839,27.61893116377377,27.696073512577303,27.77695588598418,27.861764442182345,27.950695041206096,28.043953787860673,28.141757607928792,28.244334859886212,28.35192598450993,28.464784194929283,28.583176209848457,28.70738303285828,28.83770078095739,28.974441565617287,29.117934429953902,29.268526345810024,29.42658327480881,29.592491297709284,29.766657816679835,29.94951283540633,30.141510322266576,30.343129662133272,30.554877202712206,30.777287901681248,31.010927081267308,31.25639229728221,31.514315330032172,31.78536430491775,32.070245950948795,32.36970800580905,32.68454177651363,33.01558486510493,33.363724069222876,33.72989846775723,34.11510270213464,34.520390464102455,34.94687820113369,35.395749050780694,35.86825701543432,36.36573138898427,36.889581446805465,37.44130141029302,38.02247569681053,38.634784465373556,39.28000946763267,39.9600402127111,40.676880453152016,41.43265499759535,42.22961685378451,43.07015470304504,43.956800704420644,44.89223862313159,45.87931227386556,46.92103426454523,48.02059502055872,49.18137206290266,50.40693950618252,51.70107773385023,53.06778319833905,54.51127828279263,56.036021148786745,57.64671548073295,59.34832002246273,61.14605778476842,63.04542478439564,65.0521981551404,67.17244345034219,69.41252093326203,71.77909062772996,74.27911587623599,76.91986512659557,79.70891164179866,82.65413080109775,85.7636946343575,89.04606320684198,92.50997244874371,96.16441800378634,100.01863465522099,104.08207087669534,108.36435805116227,112.87527390471337,117.62469971561377,122.62257088363695,127.87882048289852,133.40331547467156,139.20578532700466,145.29574287716528,151.68239738259567,158.37455983749473,165.38054078618367,172.7080410413152,180.36403591421865,188.3546537847398,196.6850500762015,205.35927795363116,214.38015732476157,223.74914398650859,233.46620101606294,243.52967474509362,253.9361778661633,264.68048238915503,275.75542527845346,287.15182964435405,298.85844432078164,310.8619045229214,323.1467160323006,335.69526499583327,348.4878549468556,361.50277206331157,374.71637898134946,388.10323669960167,401.6362532670207,415.28685708013506,429.02519176685684,442.8203288523914,456.64049374149647,470.453300063795,484.2259871654314,497.92565553293343,511.5194952326035,524.9750030514375,538.2601849214577,551.3437413605798,564.1952350050899,576.7852407514708,589.0854804571213,601.0689454451731,612.7100110884353,623.9845483903339,634.8700376366525,645.3456887959478,655.3925723793059,664.9937629659015,674.1344956495954,682.8023334060923,690.9873410047425,698.6822588054999,705.882667807908,712.587135857953,718.7973341358007,724.5181130535314,729.7575275305131,734.5268032568373,738.840237905434,742.7150341563811,746.1710646554409,749.2305724228609,751.9178135335683,754.2586518949222,756.280118468759,758.0099491724817,759.4761168432005,760.7063729977131,761.7278146528159,762.5664902132153,763.2470564598955,763.7924960935036,764.2239022562073,764.5603331540742,764.8187365345381,765.0139405527406,765.158704691775,765.2638220654418,765.3382627666145,765.3893470125756,765.4229366993217,765.443634562398,765.4549813446006,765.4596430358731,765.4595821940317,765.4562093852321,765.4505127228854,765.4431651876693,765.4346107786944,765.4251315263219,765.4148979885849,765.4040060940561,765.3925031508996,765.3804055954648,765.3677106857783,765.3544039278112,765.3404636113954,765.3258634654816,765.3105741386502,765.2945639756174,765.2777993891244,765.260245008706,765.2418637111191,765.2226165899558,765.2024628944081,765.1813599519554,765.159263081814,765.1361255020769,765.1118982316618,765.0865299873755,765.0599670760779,765.0321532817906,765.0030297475396,764.9725348516976,764.9406040785763,764.9071698830047,764.8721615486186,764.8355050395744,764.7971228453861,764.756933818574,764.7148530047963,764.6707914651233,764.6246560900983,764.5763494052128,764.5257693674098,764.4728091522101,764.4173569310404,764.3592956383245,764.2985027278787,764.2348499181359,764.1682029257005,764.0984211867166,764.0253575655115,763.9488580499533,763.8687614329388,763.7848989794056,763.6970940782381,763.6051618784089,763.5089089086781,763.40813268014,763.3026212708844,763.1921528920092,763.0764954341963,762.9554059940293,762.8286303792067,762.6959025917716,762.5569442884492,762.4114642171543,762.2591576286969,762.0997056626869,761.932774706603,761.7580157269638,761.5750635715054,761.3835362412406,761.1830341312417,760.9731392389654,760.7534143389003,760.5234021223005,760.2826243007343,760.030580672157,759.7667481481959,759.4905797413105,759.2015035104814,758.8989214640645,758.5822084184373,758.2507108110626,757.9037454665948,757.5405983146613,757.1605230579628,756.7627397893641,756.346433556671,755.9107528738328,755.4548081773622,754.9776702268232,754.4783684483216,753.9558892200206,753.4091740988156,752.8371179874317,752.2385672413542,751.6123177151793,750.957112748166,750.271641089,749.5545347600336,748.8043668615605,748.01964931701,747.1988305603124,746.3402931671069,745.4423514319143,744.5032488939249,743.5211558146108,742.4941666110168,741.4202972492823,740.2974826037234,739.123573787661,737.8963354631243,736.6134431375891,735.272480457052,733.8709365059751,732.4062031259991,730.8755722667952,729.2762333840412,727.6052709012521,725.8596617540926,724.0362730378527,722.1318597809809,720.1430628699629,718.0664071534012,715.8982997559085,713.6350286353864,711.2727614204063,708.8075445677778,706.2353028839531,703.5518394576967,700.7528360554337,697.8338540348884,694.7903358370129,691.6176071207831,688.3108796101903,684.8652547276622,681.2757280931638,677.5371949733533,673.6444567703151,669.5922286445658,665.3751483720989,660.9877865401943,656.4246581914197,651.6802360296501,646.7489653058453,641.6252805046784,636.3036239556893,630.7784664943254,625.0443302987517,619.0958140275251,612.9276203807964,606.5345862034304,599.9117152419392,593.054213658136,585.9575283905407,578.61738843942,571.0298491325527,563.1913394058819,555.0987121057765,546.7492972871609,538.1409584438994,529.2721515640205,520.1419868523051,510.7502929059873,501.0976830656066,491.18562359206487,481.01650324267933,470.5937037334066,459.9216704817475,449.00598292543265,437.8534236066199,426.47204510089773,414.87123375630335,403.0617690914545,391.055877586055,378.867279484023,366.51122712264055,354.004533204043,341.3655873425581,328.61435915768817,315.7723861434111,302.86274453600856,289.91000143108573,276.9401464726674,263.98050155990245,251.05960719680036,238.20708435366583,225.45347102115215,212.83003302329303,200.36854911731513,188.10107094581048,176.0596590188936,164.27609658461327,152.78158398589426,141.6064168877712,130.77965257131495,120.32876930683871,110.27932461032127,100.65461892007626,91.47537186817559,82.75941882220266,74.52143569521789,66.77270012293428,59.520896947335146,52.76997549075879,46.520065327771945,40.76745614964851,35.50464586850919,30.720459343789777,26.40023807141648,22.526098916337133,19.077257573858954,16.030410016693427,13.360162841222403,11.039501297878784,9.040282009722327,7.333736077797878,5.8909675532239385,4.683432209199711,3.683382219596121,2.8642637480013495,2.201056525180498,1.6705471453872514,1.2515308960059088,0.9249402639875974,0.673901623380901],\\\"type\\\":\\\"scatter\\\",\\\"x\\\":[1.0e-10,1.0471285480508985e-10,1.0964781961431829e-10,1.1481536214968841e-10,1.2022644346174132e-10,1.2589254117941662e-10,1.3182567385564046e-10,1.3803842646028866e-10,1.445439770745928e-10,1.5135612484362072e-10,1.584893192461111e-10,1.6595869074375631e-10,1.7378008287493763e-10,1.8197008586099825e-10,1.9054607179632444e-10,1.9952623149688828e-10,2.089296130854041e-10,2.1877616239495518e-10,2.29086765276777e-10,2.398832919019495e-10,2.511886431509582e-10,2.6302679918953814e-10,2.754228703338163e-10,2.8840315031266117e-10,3.0199517204020193e-10,3.1622776601683795e-10,3.3113112148259076e-10,3.46736850452531e-10,3.6307805477010177e-10,3.801893963205613e-10,3.9810717055349694e-10,4.1686938347033463e-10,4.3651583224016655e-10,4.5708818961487517e-10,4.78630092322638e-10,5.011872336272714e-10,5.248074602497734e-10,5.495408738576248e-10,5.754399373371567e-10,6.025595860743569e-10,6.309573444801942e-10,6.606934480075964e-10,6.918309709189363e-10,7.244359600749891e-10,7.585775750291851e-10,7.943282347242822e-10,8.317637711026709e-10,8.709635899560796e-10,9.120108393559115e-10,9.549925860214368e-10,1.0e-9,1.0471285480508984e-9,1.0964781961431829e-9,1.148153621496884e-9,1.2022644346174132e-9,1.2589254117941663e-9,1.3182567385564047e-9,1.3803842646028867e-9,1.445439770745928e-9,1.5135612484362073e-9,1.584893192461111e-9,1.6595869074375631e-9,1.7378008287493762e-9,1.8197008586099825e-9,1.9054607179632444e-9,1.9952623149688828e-9,2.089296130854041e-9,2.1877616239495518e-9,2.29086765276777e-9,2.3988329190194947e-9,2.511886431509582e-9,2.6302679918953816e-9,2.7542287033381634e-9,2.8840315031266117e-9,3.019951720402019e-9,3.1622776601683795e-9,3.3113112148259078e-9,3.4673685045253096e-9,3.6307805477010177e-9,3.8018939632056126e-9,3.981071705534969e-9,4.168693834703347e-9,4.365158322401665e-9,4.570881896148752e-9,4.78630092322638e-9,5.011872336272715e-9,5.248074602497734e-9,5.495408738576248e-9,5.754399373371567e-9,6.025595860743569e-9,6.309573444801943e-9,6.606934480075964e-9,6.918309709189363e-9,7.244359600749891e-9,7.58577575029185e-9,7.943282347242822e-9,8.317637711026709e-9,8.709635899560797e-9,9.120108393559115e-9,9.549925860214368e-9,1.0e-8,1.0471285480508984e-8,1.0964781961431851e-8,1.1481536214968817e-8,1.202264434617413e-8,1.2589254117941661e-8,1.3182567385564074e-8,1.3803842646028838e-8,1.4454397707459279e-8,1.5135612484362072e-8,1.5848931924611143e-8,1.6595869074375597e-8,1.7378008287493763e-8,1.8197008586099826e-8,1.9054607179632482e-8,1.9952623149688786e-8,2.0892961308540408e-8,2.1877616239495518e-8,2.2908676527677746e-8,2.3988329190194897e-8,2.511886431509582e-8,2.6302679918953814e-8,2.754228703338169e-8,2.8840315031266057e-8,3.0199517204020194e-8,3.162277660168379e-8,3.311311214825908e-8,3.4673685045253164e-8,3.63078054770101e-8,3.8018939632056126e-8,3.981071705534969e-8,4.168693834703355e-8,4.3651583224016566e-8,4.570881896148752e-8,4.78630092322638e-8,5.011872336272725e-8,5.248074602497723e-8,5.495408738576248e-8,5.7543993733715665e-8,6.025595860743581e-8,6.30957344480193e-8,6.606934480075964e-8,6.918309709189362e-8,7.244359600749906e-8,7.585775750291836e-8,7.943282347242822e-8,8.317637711026709e-8,8.709635899560814e-8,9.120108393559096e-8,9.549925860214369e-8,1.0e-7,1.0471285480508985e-7,1.0964781961431852e-7,1.1481536214968817e-7,1.2022644346174132e-7,1.2589254117941662e-7,1.3182567385564074e-7,1.380384264602884e-7,1.445439770745928e-7,1.5135612484362072e-7,1.584893192461114e-7,1.6595869074375596e-7,1.7378008287493765e-7,1.8197008586099824e-7,1.9054607179632483e-7,1.9952623149688787e-7,2.0892961308540409e-7,2.187761623949552e-7,2.2908676527677748e-7,2.39883291901949e-7,2.5118864315095823e-7,2.6302679918953816e-7,2.754228703338169e-7,2.8840315031266057e-7,3.019951720402019e-7,3.162277660168379e-7,3.311311214825908e-7,3.4673685045253164e-7,3.63078054770101e-7,3.8018939632056126e-7,3.981071705534969e-7,4.168693834703355e-7,4.3651583224016567e-7,4.5708818961487516e-7,4.78630092322638e-7,5.011872336272725e-7,5.248074602497723e-7,5.495408738576248e-7,5.754399373371567e-7,6.025595860743581e-7,6.30957344480193e-7,6.606934480075964e-7,6.918309709189363e-7,7.244359600749906e-7,7.585775750291836e-7,7.943282347242822e-7,8.317637711026709e-7,8.709635899560814e-7,9.120108393559096e-7,9.549925860214369e-7,1.0e-6,1.0471285480508985e-6,1.096478196143185e-6,1.1481536214968817e-6,1.2022644346174132e-6,1.2589254117941661e-6,1.3182567385564074e-6,1.3803842646028838e-6,1.445439770745928e-6,1.5135612484362072e-6,1.584893192461114e-6,1.6595869074375596e-6,1.7378008287493763e-6,1.8197008586099826e-6,1.9054607179632483e-6,1.9952623149688787e-6,2.0892961308540407e-6,2.1877616239495517e-6,2.2908676527677747e-6,2.3988329190194897e-6,2.5118864315095823e-6,2.6302679918953817e-6,2.754228703338169e-6,2.884031503126606e-6,3.0199517204020193e-6,3.162277660168379e-6,3.3113112148259077e-6,3.467368504525317e-6,3.6307805477010103e-6,3.801893963205613e-6,3.981071705534969e-6,4.168693834703355e-6,4.365158322401657e-6,4.570881896148752e-6,4.78630092322638e-6,5.011872336272725e-6,5.248074602497723e-6,5.4954087385762485e-6,5.754399373371567e-6,6.025595860743581e-6,6.30957344480193e-6,6.606934480075964e-6,6.9183097091893625e-6,7.244359600749906e-6,7.585775750291836e-6,7.943282347242822e-6,8.31763771102671e-6,8.709635899560814e-6,9.120108393559096e-6,9.549925860214369e-6,1.0e-5,1.0471285480508985e-5,1.0964781961431852e-5,1.1481536214968817e-5,1.2022644346174132e-5,1.2589254117941661e-5,1.3182567385564074e-5,1.3803842646028839e-5,1.445439770745928e-5,1.5135612484362071e-5,1.584893192461114e-5,1.6595869074375598e-5,1.7378008287493764e-5,1.8197008586099827e-5,1.9054607179632484e-5,1.9952623149688786e-5,2.089296130854041e-5,2.187761623949552e-5,2.290867652767775e-5,2.39883291901949e-5,2.5118864315095822e-5,2.6302679918953814e-5,2.754228703338169e-5,2.8840315031266056e-5,3.0199517204020192e-5,3.1622776601683795e-5,3.3113112148259076e-5,3.467368504525317e-5,3.63078054770101e-5,3.8018939632056124e-5,3.9810717055349695e-5,4.168693834703355e-5,4.3651583224016566e-5,4.5708818961487516e-5,4.7863009232263804e-5,5.011872336272725e-5,5.248074602497723e-5,5.495408738576248e-5,5.7543993733715664e-5,6.0255958607435806e-5,6.309573444801929e-5,6.606934480075965e-5,6.918309709189363e-5,7.244359600749906e-5,7.585775750291836e-5,7.943282347242822e-5,8.317637711026709e-5,8.709635899560814e-5,9.120108393559096e-5,9.549925860214369e-5,0.0001,0.00010471285480508996,0.00010964781961431851,0.0001148153621496883,0.00012022644346174131,0.00012589254117941674,0.00013182567385564074,0.00013803842646028852,0.0001445439770745928,0.00015135612484362088,0.00015848931924611142,0.00016595869074375615,0.00017378008287493763,0.00018197008586099826,0.00019054607179632462,0.00019952623149688788,0.00020892961308540387,0.00021877616239495518,0.00022908676527677723,0.000239883291901949,0.00025118864315095795,0.00026302679918953814,0.0002754228703338166,0.00028840315031266055,0.0003019951720402016,0.00031622776601683794,0.0003311311214825911,0.0003467368504525317,0.0003630780547701014,0.00038018939632056124,0.00039810717055349735,0.0004168693834703355,0.0004365158322401661,0.0004570881896148752,0.00047863009232263854,0.0005011872336272725,0.0005248074602497728,0.0005495408738576248,0.0005754399373371566,0.0006025595860743575,0.000630957344480193,0.0006606934480075957,0.0006918309709189362,0.0007244359600749898,0.0007585775750291835,0.0007943282347242813,0.0008317637711026709,0.0008709635899560805,0.0009120108393559096,0.0009549925860214359,0.001,0.0010471285480508996,0.0010964781961431851,0.0011481536214968829,0.001202264434617413,0.0012589254117941675,0.0013182567385564075,0.0013803842646028853,0.001445439770745928,0.0015135612484362087,0.001584893192461114,0.0016595869074375613,0.0017378008287493763,0.0018197008586099826,0.0019054607179632462,0.001995262314968879,0.0020892961308540386,0.002187761623949552,0.0022908676527677724,0.00239883291901949,0.0025118864315095794,0.0026302679918953813,0.002754228703338166,0.0028840315031266055,0.003019951720402016,0.0031622776601683794,0.003311311214825911,0.0034673685045253167,0.003630780547701014,0.0038018939632056127,0.003981071705534973,0.004168693834703355,0.004365158322401661,0.004570881896148752,0.004786300923226385,0.005011872336272725,0.005248074602497728,0.005495408738576248,0.005754399373371567,0.006025595860743574,0.00630957344480193,0.006606934480075957,0.006918309709189363,0.007244359600749898,0.007585775750291836,0.007943282347242814,0.008317637711026709,0.008709635899560805,0.009120108393559097,0.009549925860214359,0.01,0.010471285480508996,0.01096478196143185,0.01148153621496883,0.012022644346174132,0.012589254117941675,0.013182567385564075,0.013803842646028845,0.014454397707459272,0.01513561248436208,0.015848931924611134,0.016595869074375606,0.017378008287493755,0.018197008586099836,0.019054607179632473,0.0199526231496888,0.020892961308540396,0.02187761623949553,0.022908676527677734,0.023988329190194897,0.025118864315095794,0.026302679918953815,0.02754228703338166,0.028840315031266057,0.03019951720402016,0.03162277660168379,0.03311311214825911,0.034673685045253165,0.03630780547701014,0.038018939632056124,0.039810717055349734,0.04168693834703355,0.043651583224016584,0.04570881896148749,0.047863009232263824,0.05011872336272722,0.05248074602497726,0.054954087385762455,0.057543993733715694,0.06025595860743578,0.06309573444801933,0.06606934480075961,0.06918309709189366,0.07244359600749903,0.07585775750291836,0.07943282347242814,0.08317637711026708,0.08709635899560805,0.09120108393559097,0.09549925860214359,0.1,0.10471285480508996,0.1096478196143185,0.1148153621496883,0.12022644346174129,0.12589254117941673,0.1318256738556407,0.1380384264602885,0.14454397707459277,0.15135612484362082,0.15848931924611134,0.16595869074375605,0.17378008287493754,0.18197008586099836,0.19054607179632474,0.19952623149688797,0.20892961308540392,0.21877616239495523,0.2290867652767773,0.23988329190194904,0.251188643150958,0.2630267991895382,0.2754228703338166,0.28840315031266056,0.3019951720402016,0.31622776601683794,0.3311311214825911,0.3467368504525316,0.36307805477010135,0.3801893963205612,0.3981071705534972,0.4168693834703354,0.436515832240166,0.457088189614875,0.4786300923226383,0.5011872336272722,0.5248074602497725,0.5495408738576245,0.5754399373371569,0.6025595860743578,0.6309573444801932,0.660693448007596,0.6918309709189365,0.72443596007499,0.7585775750291838,0.7943282347242815,0.831763771102671,0.8709635899560807,0.9120108393559098,0.954992586021436,1.0,1.0471285480508996,1.096478196143185,1.1481536214968828,1.202264434617413,1.2589254117941673,1.318256738556407,1.3803842646028848,1.4454397707459274,1.5135612484362082,1.5848931924611136,1.6595869074375607,1.7378008287493754,1.8197008586099834,1.9054607179632472,1.9952623149688795,2.0892961308540396,2.1877616239495525,2.290867652767773,2.3988329190194904,2.51188643150958,2.6302679918953817,2.7542287033381663,2.884031503126606,3.019951720402016,3.1622776601683795,3.311311214825911,3.4673685045253166,3.630780547701014,3.8018939632056115,3.9810717055349722,4.168693834703354,4.36515832240166,4.570881896148751,4.786300923226384,5.011872336272722,5.248074602497725,5.495408738576246,5.7543993733715695,6.025595860743578,6.309573444801933,6.606934480075959,6.918309709189364,7.244359600749901,7.5857757502918375,7.943282347242816,8.31763771102671,8.709635899560805,9.120108393559097,9.549925860214358,10.0,10.471285480508996,10.964781961431852,11.481536214968829,12.02264434617413,12.589254117941675,13.182567385564074,13.803842646028846,14.454397707459272,15.13561248436208,15.848931924611133,16.595869074375607,17.378008287493753,18.197008586099834,19.054607179632473,19.952623149688797,20.892961308540396,21.87761623949553,22.908676527677734,23.9883291901949,25.118864315095795,26.302679918953814,27.542287033381662,28.84031503126606,30.19951720402016,31.622776601683793,33.11311214825911,34.673685045253166,36.30780547701014,38.018939632056124,39.810717055349734,41.68693834703355,43.65158322401658,45.708818961487495,47.86300923226383,50.11872336272722,52.48074602497726,54.954087385762456,57.543993733715695,60.25595860743578,63.09573444801933,66.06934480075961,69.18309709189366,72.44359600749902,75.85775750291836,79.43282347242814,83.17637711026708,87.09635899560806,91.20108393559097,95.49925860214358,100.0,104.71285480508996,109.64781961431851,114.81536214968828,120.22644346174131,125.89254117941675,131.82567385564073,138.03842646028852,144.5439770745928,151.35612484362088,158.48931924611142,165.95869074375614,173.78008287493762,181.97008586099827,190.54607179632464,199.52623149688787,208.92961308540387,218.77616239495518,229.08676527677724,239.88329190194898,251.18864315095797,263.02679918953817,275.4228703338166,288.40315031266056,301.9951720402016,316.22776601683796,331.1311214825911,346.73685045253166,363.0780547701014,380.1893963205613,398.1071705534973,416.8693834703355,436.5158322401661,457.0881896148752,478.6300923226385,501.18723362727246,524.8074602497728,549.5408738576248,575.4399373371566,602.5595860743575,630.957344480193,660.6934480075957,691.8309709189363,724.4359600749899,758.5775750291835,794.3282347242813,831.7637711026708,870.9635899560806,912.0108393559096,954.992586021436,1000.0,1047.1285480508996,1096.4781961431852,1148.1536214968828,1202.2644346174131,1258.9254117941675,1318.2567385564075,1380.3842646028852,1445.439770745928,1513.5612484362086,1584.893192461114,1659.5869074375614,1737.8008287493763,1819.7008586099826,1905.4607179632462,1995.2623149688789,2089.296130854039,2187.761623949552,2290.8676527677726,2398.83291901949,2511.88643150958,2630.2679918953813,2754.2287033381663,2884.031503126606,3019.9517204020162,3162.2776601683795,3311.311214825911,3467.368504525317,3630.780547701014,3801.8939632056126,3981.0717055349733,4168.693834703355,4365.158322401661,4570.881896148751,4786.300923226385,5011.872336272725,5248.074602497728,5495.408738576249,5754.399373371566,6025.595860743575,6309.57344480193,6606.934480075957,6918.309709189362,7244.359600749898,7585.775750291836,7943.282347242814,8317.63771102671,8709.635899560806,9120.108393559096,9549.92586021436,10000.0,10471.285480508985,10964.78196143185,11481.536214968817,12022.644346174131,12589.254117941662,13182.567385564074,13803.842646028837,14454.39770745928,15135.612484362071,15848.93192461114,16595.869074375598,17378.00828749376,18197.008586099826,19054.607179632483,19952.62314968879,20892.96130854041,21877.616239495517,22908.676527677748,23988.329190194898,25118.864315095823,26302.679918953814,27542.28703338169,28840.31503126606,30199.51720402019,31622.776601683792,33113.112148259075,34673.685045253165,36307.8054770101,38018.93963205613,39810.71705534969,41686.93834703355,43651.58322401656,45708.818961487515,47863.0092322638,50118.72336272725,52480.74602497723,54954.08738576248,57543.993733715666,60255.95860743581,63095.7344480193,66069.34480075965,69183.09709189362,72443.59600749906,75857.75750291836,79432.82347242821,83176.37711026709,87096.35899560814,91201.08393559097,95499.25860214369,100000.0,104712.85480508985,109647.8196143185,114815.36214968817,120226.4434617413,125892.54117941661,131825.67385564075,138038.42646028838,144543.9770745928,151356.12484362072,158489.3192461114,165958.69074375596,173780.08287493762,181970.08586099825,190546.07179632483,199526.2314968879,208929.6130854041,218776.16239495517,229086.76527677747,239883.29190194898,251188.6431509582,263026.7991895382,275422.8703338169,288403.15031266055,301995.1720402019,316227.7660168379,331131.1214825908,346736.85045253165,363078.05477010104,380189.39632056124,398107.1705534969,416869.3834703355,436515.8322401656,457088.1896148752,478630.092322638,501187.2336272725,524807.4602497723,549540.8738576248,575439.9373371566,602559.5860743581,630957.344480193,660693.4480075964,691830.9709189363,724435.9600749906,758577.5750291835,794328.2347242822,831763.7711026708,870963.5899560815,912010.8393559096,954992.5860214368,1.0e6,1.0471285480508985e6,1.096478196143185e6,1.1481536214968818e6,1.2022644346174132e6,1.258925411794166e6,1.3182567385564074e6,1.3803842646028837e6,1.445439770745928e6,1.5135612484362072e6,1.5848931924611141e6,1.6595869074375597e6,1.7378008287493763e6,1.8197008586099825e6,1.9054607179632483e6,1.9952623149688789e6,2.0892961308540408e6,2.187761623949552e6,2.2908676527677746e6,2.39883291901949e6,2.5118864315095823e6,2.6302679918953814e6,2.754228703338169e6,2.884031503126606e6,3.019951720402019e6,3.1622776601683795e6,3.3113112148259077e6,3.467368504525317e6,3.63078054770101e6,3.8018939632056127e6,3.9810717055349695e6,4.168693834703355e6,4.365158322401657e6,4.5708818961487515e6,4.786300923226381e6,5.011872336272725e6,5.248074602497723e6,5.495408738576248e6,5.754399373371567e6,6.025595860743581e6,6.30957344480193e6,6.606934480075965e6,6.918309709189363e6,7.244359600749906e6,7.5857757502918355e6,7.943282347242822e6,8.317637711026709e6,8.709635899560815e6,9.120108393559096e6,9.54992586021437e6,1.0e7,1.0471285480508985e7,1.0964781961431852e7,1.1481536214968817e7,1.202264434617413e7,1.2589254117941663e7,1.3182567385564074e7,1.3803842646028839e7,1.445439770745928e7,1.5135612484362071e7,1.5848931924611142e7,1.6595869074375598e7,1.737800828749376e7,1.8197008586099826e7,1.905460717963248e7,1.9952623149688788e7,2.0892961308540408e7,2.187761623949552e7,2.290867652767775e7,2.3988329190194897e7,2.5118864315095823e7,2.6302679918953814e7,2.754228703338169e7,2.8840315031266056e7,3.019951720402019e7,3.162277660168379e7,3.3113112148259077e7,3.4673685045253165e7,3.63078054770101e7,3.8018939632056125e7,3.981071705534969e7,4.168693834703355e7,4.365158322401656e7,4.570881896148752e7,4.78630092322638e7,5.011872336272725e7,5.248074602497723e7,5.495408738576248e7,5.754399373371567e7,6.025595860743581e7,6.3095734448019296e7,6.606934480075964e7,6.918309709189363e7,7.244359600749905e7,7.585775750291836e7,7.943282347242822e7,8.317637711026709e7,8.709635899560814e7,9.120108393559097e7,9.549925860214369e7,1.0e8,1.0471285480508985e8,1.0964781961431828e8,1.1481536214968841e8,1.2022644346174131e8,1.2589254117941661e8,1.3182567385564047e8,1.3803842646028867e8,1.445439770745928e8,1.5135612484362072e8,1.584893192461111e8,1.659586907437563e8,1.7378008287493762e8,1.8197008586099824e8,1.9054607179632443e8,1.9952623149688828e8,2.089296130854041e8,2.187761623949552e8,2.29086765276777e8,2.3988329190194947e8,2.511886431509582e8,2.6302679918953815e8,2.7542287033381635e8,2.884031503126612e8,3.019951720402019e8,3.1622776601683795e8,3.311311214825908e8,3.46736850452531e8,3.630780547701018e8,3.8018939632056123e8,3.981071705534969e8,4.1686938347033465e8,4.3651583224016654e8,4.570881896148752e8,4.7863009232263803e8,5.011872336272715e8,5.248074602497734e8,5.495408738576248e8,5.754399373371567e8,6.025595860743569e8,6.309573444801943e8,6.606934480075965e8,6.918309709189363e8,7.244359600749891e8,7.585775750291852e8,7.943282347242821e8,8.317637711026709e8,8.709635899560796e8,9.120108393559115e8,9.549925860214369e8,1.0e9,1.0471285480508986e9,1.0964781961431828e9,1.148153621496884e9,1.202264434617413e9,1.258925411794166e9,1.3182567385564048e9,1.3803842646028867e9,1.445439770745928e9,1.513561248436207e9,1.5848931924611108e9,1.6595869074375632e9,1.7378008287493763e9,1.8197008586099825e9,1.9054607179632444e9,1.9952623149688828e9,2.0892961308540409e9,2.187761623949552e9,2.29086765276777e9,2.398832919019495e9,2.511886431509582e9,2.6302679918953815e9,2.7542287033381634e9,2.8840315031266117e9,3.019951720402019e9,3.1622776601683793e9,3.3113112148259077e9,3.4673685045253096e9,3.6307805477010174e9,3.8018939632056127e9,3.9810717055349693e9,4.1686938347033467e9,4.365158322401666e9,4.570881896148752e9,4.78630092322638e9,5.011872336272715e9,5.248074602497734e9,5.495408738576248e9,5.754399373371567e9,6.025595860743568e9,6.309573444801943e9,6.606934480075964e9,6.918309709189363e9,7.244359600749891e9,7.585775750291851e9,7.943282347242822e9,8.317637711026709e9,8.709635899560797e9,9.120108393559114e9,9.549925860214369e9,1.0e10]}],{\\\"xaxis\\\":{\\\"type\\\":\\\"log\\\"},\\\"template\\\":{\\\"layout\\\":{\\\"coloraxis\\\":{\\\"colorbar\\\":{\\\"ticks\\\":\\\"\\\",\\\"outlinewidth\\\":0}},\\\"xaxis\\\":{\\\"gridcolor\\\":\\\"white\\\",\\\"zerolinewidth\\\":2,\\\"title\\\":{\\\"standoff\\\":15},\\\"ticks\\\":\\\"\\\",\\\"zerolinecolor\\\":\\\"white\\\",\\\"automargin\\\":true,\\\"linecolor\\\":\\\"white\\\"},\\\"hovermode\\\":\\\"closest\\\",\\\"paper_bgcolor\\\":\\\"white\\\",\\\"geo\\\":{\\\"showlakes\\\":true,\\\"showland\\\":true,\\\"landcolor\\\":\\\"#E5ECF6\\\",\\\"bgcolor\\\":\\\"white\\\",\\\"subunitcolor\\\":\\\"white\\\",\\\"lakecolor\\\":\\\"white\\\"},\\\"colorscale\\\":{\\\"sequential\\\":[[0.0,\\\"#0d0887\\\"],[0.1111111111111111,\\\"#46039f\\\"],[0.2222222222222222,\\\"#7201a8\\\"],[0.3333333333333333,\\\"#9c179e\\\"],[0.4444444444444444,\\\"#bd3786\\\"],[0.5555555555555556,\\\"#d8576b\\\"],[0.6666666666666666,\\\"#ed7953\\\"],[0.7777777777777778,\\\"#fb9f3a\\\"],[0.8888888888888888,\\\"#fdca26\\\"],[1.0,\\\"#f0f921\\\"]],\\\"diverging\\\":[[0,\\\"#8e0152\\\"],[0.1,\\\"#c51b7d\\\"],[0.2,\\\"#de77ae\\\"],[0.3,\\\"#f1b6da\\\"],[0.4,\\\"#fde0ef\\\"],[0.5,\\\"#f7f7f7\\\"],[0.6,\\\"#e6f5d0\\\"],[0.7,\\\"#b8e186\\\"],[0.8,\\\"#7fbc41\\\"],[0.9,\\\"#4d9221\\\"],[1,\\\"#276419\\\"]],\\\"sequentialminus\\\":[[0.0,\\\"#0d0887\\\"],[0.1111111111111111,\\\"#46039f\\\"],[0.2222222222222222,\\\"#7201a8\\\"],[0.3333333333333333,\\\"#9c179e\\\"],[0.4444444444444444,\\\"#bd3786\\\"],[0.5555555555555556,\\\"#d8576b\\\"],[0.6666666666666666,\\\"#ed7953\\\"],[0.7777777777777778,\\\"#fb9f3a\\\"],[0.8888888888888888,\\\"#fdca26\\\"],[1.0,\\\"#f0f921\\\"]]},\\\"yaxis\\\":{\\\"gridcolor\\\":\\\"white\\\",\\\"zerolinewidth\\\":2,\\\"title\\\":{\\\"standoff\\\":15},\\\"ticks\\\":\\\"\\\",\\\"zerolinecolor\\\":\\\"white\\\",\\\"automargin\\\":true,\\\"linecolor\\\":\\\"white\\\"},\\\"shapedefaults\\\":{\\\"line\\\":{\\\"color\\\":\\\"#2a3f5f\\\"}},\\\"hoverlabel\\\":{\\\"align\\\":\\\"left\\\"},\\\"mapbox\\\":{\\\"style\\\":\\\"light\\\"},\\\"polar\\\":{\\\"angularaxis\\\":{\\\"gridcolor\\\":\\\"white\\\",\\\"ticks\\\":\\\"\\\",\\\"linecolor\\\":\\\"white\\\"},\\\"bgcolor\\\":\\\"#E5ECF6\\\",\\\"radialaxis\\\":{\\\"gridcolor\\\":\\\"white\\\",\\\"ticks\\\":\\\"\\\",\\\"linecolor\\\":\\\"white\\\"}},\\\"autotypenumbers\\\":\\\"strict\\\",\\\"font\\\":{\\\"color\\\":\\\"#2a3f5f\\\"},\\\"ternary\\\":{\\\"baxis\\\":{\\\"gridcolor\\\":\\\"white\\\",\\\"ticks\\\":\\\"\\\",\\\"linecolor\\\":\\\"white\\\"},\\\"bgcolor\\\":\\\"#E5ECF6\\\",\\\"caxis\\\":{\\\"gridcolor\\\":\\\"white\\\",\\\"ticks\\\":\\\"\\\",\\\"linecolor\\\":\\\"white\\\"},\\\"aaxis\\\":{\\\"gridcolor\\\":\\\"white\\\",\\\"ticks\\\":\\\"\\\",\\\"linecolor\\\":\\\"white\\\"}},\\\"annotationdefaults\\\":{\\\"arrowhead\\\":0,\\\"arrowwidth\\\":1,\\\"arrowcolor\\\":\\\"#2a3f5f\\\"},\\\"plot_bgcolor\\\":\\\"#E5ECF6\\\",\\\"title\\\":{\\\"x\\\":0.05},\\\"scene\\\":{\\\"xaxis\\\":{\\\"gridcolor\\\":\\\"white\\\",\\\"gridwidth\\\":2,\\\"backgroundcolor\\\":\\\"#E5ECF6\\\",\\\"ticks\\\":\\\"\\\",\\\"showbackground\\\":true,\\\"zerolinecolor\\\":\\\"white\\\",\\\"linecolor\\\":\\\"white\\\"},\\\"zaxis\\\":{\\\"gridcolor\\\":\\\"white\\\",\\\"gridwidth\\\":2,\\\"backgroundcolor\\\":\\\"#E5ECF6\\\",\\\"ticks\\\":\\\"\\\",\\\"showbackground\\\":true,\\\"zerolinecolor\\\":\\\"white\\\",\\\"linecolor\\\":\\\"white\\\"},\\\"yaxis\\\":{\\\"gridcolor\\\":\\\"white\\\",\\\"gridwidth\\\":2,\\\"backgroundcolor\\\":\\\"#E5ECF6\\\",\\\"ticks\\\":\\\"\\\",\\\"showbackground\\\":true,\\\"zerolinecolor\\\":\\\"white\\\",\\\"linecolor\\\":\\\"white\\\"}},\\\"colorway\\\":[\\\"#636efa\\\",\\\"#EF553B\\\",\\\"#00cc96\\\",\\\"#ab63fa\\\",\\\"#FFA15A\\\",\\\"#19d3f3\\\",\\\"#FF6692\\\",\\\"#B6E880\\\",\\\"#FF97FF\\\",\\\"#FECB52\\\"]},\\\"data\\\":{\\\"barpolar\\\":[{\\\"type\\\":\\\"barpolar\\\",\\\"marker\\\":{\\\"line\\\":{\\\"color\\\":\\\"#E5ECF6\\\",\\\"width\\\":0.5}}}],\\\"carpet\\\":[{\\\"aaxis\\\":{\\\"gridcolor\\\":\\\"white\\\",\\\"endlinecolor\\\":\\\"#2a3f5f\\\",\\\"minorgridcolor\\\":\\\"white\\\",\\\"startlinecolor\\\":\\\"#2a3f5f\\\",\\\"linecolor\\\":\\\"white\\\"},\\\"type\\\":\\\"carpet\\\",\\\"baxis\\\":{\\\"gridcolor\\\":\\\"white\\\",\\\"endlinecolor\\\":\\\"#2a3f5f\\\",\\\"minorgridcolor\\\":\\\"white\\\",\\\"startlinecolor\\\":\\\"#2a3f5f\\\",\\\"linecolor\\\":\\\"white\\\"}}],\\\"scatterpolar\\\":[{\\\"type\\\":\\\"scatterpolar\\\",\\\"marker\\\":{\\\"colorbar\\\":{\\\"ticks\\\":\\\"\\\",\\\"outlinewidth\\\":0}}}],\\\"parcoords\\\":[{\\\"line\\\":{\\\"colorbar\\\":{\\\"ticks\\\":\\\"\\\",\\\"outlinewidth\\\":0}},\\\"type\\\":\\\"parcoords\\\"}],\\\"scatter\\\":[{\\\"type\\\":\\\"scatter\\\",\\\"marker\\\":{\\\"colorbar\\\":{\\\"ticks\\\":\\\"\\\",\\\"outlinewidth\\\":0}}}],\\\"histogram2dcontour\\\":[{\\\"colorbar\\\":{\\\"ticks\\\":\\\"\\\",\\\"outlinewidth\\\":0},\\\"type\\\":\\\"histogram2dcontour\\\",\\\"colorscale\\\":[[0.0,\\\"#0d0887\\\"],[0.1111111111111111,\\\"#46039f\\\"],[0.2222222222222222,\\\"#7201a8\\\"],[0.3333333333333333,\\\"#9c179e\\\"],[0.4444444444444444,\\\"#bd3786\\\"],[0.5555555555555556,\\\"#d8576b\\\"],[0.6666666666666666,\\\"#ed7953\\\"],[0.7777777777777778,\\\"#fb9f3a\\\"],[0.8888888888888888,\\\"#fdca26\\\"],[1.0,\\\"#f0f921\\\"]]}],\\\"contour\\\":[{\\\"colorbar\\\":{\\\"ticks\\\":\\\"\\\",\\\"outlinewidth\\\":0},\\\"type\\\":\\\"contour\\\",\\\"colorscale\\\":[[0.0,\\\"#0d0887\\\"],[0.1111111111111111,\\\"#46039f\\\"],[0.2222222222222222,\\\"#7201a8\\\"],[0.3333333333333333,\\\"#9c179e\\\"],[0.4444444444444444,\\\"#bd3786\\\"],[0.5555555555555556,\\\"#d8576b\\\"],[0.6666666666666666,\\\"#ed7953\\\"],[0.7777777777777778,\\\"#fb9f3a\\\"],[0.8888888888888888,\\\"#fdca26\\\"],[1.0,\\\"#f0f921\\\"]]}],\\\"scattercarpet\\\":[{\\\"type\\\":\\\"scattercarpet\\\",\\\"marker\\\":{\\\"colorbar\\\":{\\\"ticks\\\":\\\"\\\",\\\"outlinewidth\\\":0}}}],\\\"mesh3d\\\":[{\\\"colorbar\\\":{\\\"ticks\\\":\\\"\\\",\\\"outlinewidth\\\":0},\\\"type\\\":\\\"mesh3d\\\"}],\\\"surface\\\":[{\\\"colorbar\\\":{\\\"ticks\\\":\\\"\\\",\\\"outlinewidth\\\":0},\\\"type\\\":\\\"surface\\\",\\\"colorscale\\\":[[0.0,\\\"#0d0887\\\"],[0.1111111111111111,\\\"#46039f\\\"],[0.2222222222222222,\\\"#7201a8\\\"],[0.3333333333333333,\\\"#9c179e\\\"],[0.4444444444444444,\\\"#bd3786\\\"],[0.5555555555555556,\\\"#d8576b\\\"],[0.6666666666666666,\\\"#ed7953\\\"],[0.7777777777777778,\\\"#fb9f3a\\\"],[0.8888888888888888,\\\"#fdca26\\\"],[1.0,\\\"#f0f921\\\"]]}],\\\"scattermapbox\\\":[{\\\"type\\\":\\\"scattermapbox\\\",\\\"marker\\\":{\\\"colorbar\\\":{\\\"ticks\\\":\\\"\\\",\\\"outlinewidth\\\":0}}}],\\\"scattergeo\\\":[{\\\"type\\\":\\\"scattergeo\\\",\\\"marker\\\":{\\\"colorbar\\\":{\\\"ticks\\\":\\\"\\\",\\\"outlinewidth\\\":0}}}],\\\"histogram\\\":[{\\\"type\\\":\\\"histogram\\\",\\\"marker\\\":{\\\"colorbar\\\":{\\\"ticks\\\":\\\"\\\",\\\"outlinewidth\\\":0}}}],\\\"pie\\\":[{\\\"type\\\":\\\"pie\\\",\\\"automargin\\\":true}],\\\"choropleth\\\":[{\\\"colorbar\\\":{\\\"ticks\\\":\\\"\\\",\\\"outlinewidth\\\":0},\\\"type\\\":\\\"choropleth\\\"}],\\\"heatmapgl\\\":[{\\\"colorbar\\\":{\\\"ticks\\\":\\\"\\\",\\\"outlinewidth\\\":0},\\\"type\\\":\\\"heatmapgl\\\",\\\"colorscale\\\":[[0.0,\\\"#0d0887\\\"],[0.1111111111111111,\\\"#46039f\\\"],[0.2222222222222222,\\\"#7201a8\\\"],[0.3333333333333333,\\\"#9c179e\\\"],[0.4444444444444444,\\\"#bd3786\\\"],[0.5555555555555556,\\\"#d8576b\\\"],[0.6666666666666666,\\\"#ed7953\\\"],[0.7777777777777778,\\\"#fb9f3a\\\"],[0.8888888888888888,\\\"#fdca26\\\"],[1.0,\\\"#f0f921\\\"]]}],\\\"bar\\\":[{\\\"type\\\":\\\"bar\\\",\\\"error_y\\\":{\\\"color\\\":\\\"#2a3f5f\\\"},\\\"error_x\\\":{\\\"color\\\":\\\"#2a3f5f\\\"},\\\"marker\\\":{\\\"line\\\":{\\\"color\\\":\\\"#E5ECF6\\\",\\\"width\\\":0.5}}}],\\\"heatmap\\\":[{\\\"colorbar\\\":{\\\"ticks\\\":\\\"\\\",\\\"outlinewidth\\\":0},\\\"type\\\":\\\"heatmap\\\",\\\"colorscale\\\":[[0.0,\\\"#0d0887\\\"],[0.1111111111111111,\\\"#46039f\\\"],[0.2222222222222222,\\\"#7201a8\\\"],[0.3333333333333333,\\\"#9c179e\\\"],[0.4444444444444444,\\\"#bd3786\\\"],[0.5555555555555556,\\\"#d8576b\\\"],[0.6666666666666666,\\\"#ed7953\\\"],[0.7777777777777778,\\\"#fb9f3a\\\"],[0.8888888888888888,\\\"#fdca26\\\"],[1.0,\\\"#f0f921\\\"]]}],\\\"contourcarpet\\\":[{\\\"colorbar\\\":{\\\"ticks\\\":\\\"\\\",\\\"outlinewidth\\\":0},\\\"type\\\":\\\"contourcarpet\\\"}],\\\"table\\\":[{\\\"type\\\":\\\"table\\\",\\\"header\\\":{\\\"line\\\":{\\\"color\\\":\\\"white\\\"},\\\"fill\\\":{\\\"color\\\":\\\"#C8D4E3\\\"}},\\\"cells\\\":{\\\"line\\\":{\\\"color\\\":\\\"white\\\"},\\\"fill\\\":{\\\"color\\\":\\\"#EBF0F8\\\"}}}],\\\"scatter3d\\\":[{\\\"line\\\":{\\\"colorbar\\\":{\\\"ticks\\\":\\\"\\\",\\\"outlinewidth\\\":0}},\\\"type\\\":\\\"scatter3d\\\",\\\"marker\\\":{\\\"colorbar\\\":{\\\"ticks\\\":\\\"\\\",\\\"outlinewidth\\\":0}}}],\\\"scattergl\\\":[{\\\"type\\\":\\\"scattergl\\\",\\\"marker\\\":{\\\"colorbar\\\":{\\\"ticks\\\":\\\"\\\",\\\"outlinewidth\\\":0}}}],\\\"histogram2d\\\":[{\\\"colorbar\\\":{\\\"ticks\\\":\\\"\\\",\\\"outlinewidth\\\":0},\\\"type\\\":\\\"histogram2d\\\",\\\"colorscale\\\":[[0.0,\\\"#0d0887\\\"],[0.1111111111111111,\\\"#46039f\\\"],[0.2222222222222222,\\\"#7201a8\\\"],[0.3333333333333333,\\\"#9c179e\\\"],[0.4444444444444444,\\\"#bd3786\\\"],[0.5555555555555556,\\\"#d8576b\\\"],[0.6666666666666666,\\\"#ed7953\\\"],[0.7777777777777778,\\\"#fb9f3a\\\"],[0.8888888888888888,\\\"#fdca26\\\"],[1.0,\\\"#f0f921\\\"]]}],\\\"scatterternary\\\":[{\\\"type\\\":\\\"scatterternary\\\",\\\"marker\\\":{\\\"colorbar\\\":{\\\"ticks\\\":\\\"\\\",\\\"outlinewidth\\\":0}}}],\\\"scatterpolargl\\\":[{\\\"type\\\":\\\"scatterpolargl\\\",\\\"marker\\\":{\\\"colorbar\\\":{\\\"ticks\\\":\\\"\\\",\\\"outlinewidth\\\":0}}}]}},\\\"margin\\\":{\\\"l\\\":50,\\\"b\\\":50,\\\"r\\\":50,\\\"t\\\":60}},{\\\"showLink\\\":false,\\\"editable\\\":false,\\\"responsive\\\":true,\\\"staticPlot\\\":false,\\\"scrollZoom\\\":true}); gd.on(\\\"plotly_hover\\\",(function (data){var filtered_data=WebIO.PlotlyCommands.filterEventData(gd,data,\\\"hover\\\"); return !(filtered_data.isnil) ? (WebIO.setval({\\\"name\\\":\\\"hover\\\",\\\"scope\\\":\\\"16722681259473228692\\\",\\\"id\\\":\\\"3228957014455026569\\\",\\\"type\\\":\\\"observable\\\"},filtered_data.out)) : undefined})); gd.on(\\\"plotly_unhover\\\",(function (){return WebIO.setval({\\\"name\\\":\\\"hover\\\",\\\"scope\\\":\\\"16722681259473228692\\\",\\\"id\\\":\\\"3228957014455026569\\\",\\\"type\\\":\\\"observable\\\"},{})})); gd.on(\\\"plotly_selected\\\",(function (data){var filtered_data=WebIO.PlotlyCommands.filterEventData(gd,data,\\\"selected\\\"); return !(filtered_data.isnil) ? (WebIO.setval({\\\"name\\\":\\\"selected\\\",\\\"scope\\\":\\\"16722681259473228692\\\",\\\"id\\\":\\\"4765744065125843997\\\",\\\"type\\\":\\\"observable\\\"},filtered_data.out)) : undefined})); gd.on(\\\"plotly_deselect\\\",(function (){return WebIO.setval({\\\"name\\\":\\\"selected\\\",\\\"scope\\\":\\\"16722681259473228692\\\",\\\"id\\\":\\\"4765744065125843997\\\",\\\"type\\\":\\\"observable\\\"},{})})); gd.on(\\\"plotly_relayout\\\",(function (data){var filtered_data=WebIO.PlotlyCommands.filterEventData(gd,data,\\\"relayout\\\"); return !(filtered_data.isnil) ? (WebIO.setval({\\\"name\\\":\\\"relayout\\\",\\\"scope\\\":\\\"16722681259473228692\\\",\\\"id\\\":\\\"14443028739470984818\\\",\\\"type\\\":\\\"observable\\\"},filtered_data.out)) : undefined})); return gd.on(\\\"plotly_click\\\",(function (data){var filtered_data=WebIO.PlotlyCommands.filterEventData(gd,data,\\\"click\\\"); return !(filtered_data.isnil) ? (WebIO.setval({\\\"name\\\":\\\"click\\\",\\\"scope\\\":\\\"16722681259473228692\\\",\\\"id\\\":\\\"13488431612067459207\\\",\\\"type\\\":\\\"observable\\\"},filtered_data.out)) : undefined}))}));\\n    (WebIO.importBlock({\\\"data\\\":[{\\\"name\\\":\\\"Plotly\\\",\\\"type\\\":\\\"js\\\",\\\"url\\\":\\\"\\/assetserver\\/974bc88f8fa21ff4c3cbd84b6afff90488058aa7-plotly.min.js\\\"},{\\\"name\\\":null,\\\"type\\\":\\\"js\\\",\\\"url\\\":\\\"\\/assetserver\\/64d87b978f97348bc0d43ca0daa59975ea5d4c91-plotly_webio.bundle.js\\\"}],\\\"type\\\":\\\"async_block\\\"})).then((imports) => handler.apply(this, imports));\\n}\\n\"],\"observables\":{\"_toImage\":{\"sync\":false,\"id\":\"17510008852681930173\",\"value\":{}},\"hover\":{\"sync\":false,\"id\":\"3228957014455026569\",\"value\":{}},\"selected\":{\"sync\":false,\"id\":\"4765744065125843997\",\"value\":{}},\"__gd_contents\":{\"sync\":false,\"id\":\"12506728327570966028\",\"value\":{}},\"click\":{\"sync\":false,\"id\":\"13488431612067459207\",\"value\":{}},\"image\":{\"sync\":true,\"id\":\"2470314613221786544\",\"value\":\"\"},\"__get_gd_contents\":{\"sync\":false,\"id\":\"1755207673412098750\",\"value\":\"\"},\"_downloadImage\":{\"sync\":false,\"id\":\"1557525565081650029\",\"value\":{}},\"relayout\":{\"sync\":false,\"id\":\"14443028739470984818\",\"value\":{}},\"_commands\":{\"sync\":false,\"id\":\"2729105207031795365\",\"value\":[]}}},\"children\":[{\"props\":{\"id\":\"plot-4c12957e-6b52-41ce-8aa5-ddca51ca7cb4\"},\"nodeType\":\"DOM\",\"type\":\"node\",\"instanceArgs\":{\"namespace\":\"html\",\"tag\":\"div\"},\"children\":[]}]},\n",
       "        window,\n",
       "    );\n",
       "    })()\n",
       "    </script>\n",
       "</div>\n"
      ],
      "text/plain": [
       "data: [\n",
       "  \"scatter with fields mode, type, x, and y\"\n",
       "]\n",
       "\n",
       "layout: \"layout with fields margin, template, and xaxis\"\n",
       "\n"
      ]
     },
     "execution_count": 91,
     "metadata": {},
     "output_type": "execute_result"
    }
   ],
   "source": [
    "function plot_power_time_series(nuclide, time_array)\n",
    "    power_time_series = Float64.(power_time_series_dict[nuclide]) * -1\n",
    "    time_array = Float64.(time_array)\n",
    "    plot(scatter(x = time_array, y = power_time_series, mode = \"markers\"), \n",
    "    Layout(xaxis_type = \"log\"))#, yaxis_type = \"log\"))\n",
    "end\n",
    "plot_power_time_series(\"207Bi\", time_array)"
   ]
  },
  {
   "cell_type": "code",
   "execution_count": 92,
   "metadata": {},
   "outputs": [
    {
     "data": {
      "text/plain": [
       "ValueIterator for a Dict{Any, Any} with 3192 entries. Values:\n",
       "  BigFloat[-19.1025568798946123668504474334058123901375513715858304473797140489…\n",
       "  BigFloat[-587251.341703489316208504342641759751866235999819376470665779264549…\n",
       "  BigFloat[-1.90269434649764424515051666861615020476685990715511260200109611593…\n",
       "  BigFloat[-1.40940322004792226184771177973244039937010310959979527893717552811…\n",
       "  BigFloat[0.0, 0.0, 0.0, 0.0, 0.0, 0.0, 0.0, 0.0, 0.0, 0.0  …  0.0, 0.0, 0.0, …\n",
       "  BigFloat[-1.08725391242455897152540011849423316945974926889205591659174234684…\n",
       "  BigFloat[-4.16099003137274607803492289915462319490625870241081085318375720462…\n",
       "  BigFloat[-4.81694771455657127912030668422098223663956049486817379362299572005…\n",
       "  BigFloat[-1.41886230209772572032194310598118142012780999580357279804617260917…\n",
       "  BigFloat[-59664.2943592945136360682011143552122466182434613439814563208638205…\n",
       "  BigFloat[-2.19964664318058041102015665499128540050214981542593211172329692489…\n",
       "  BigFloat[-4.48174369264584025476135079948850686484122448092299991386014261638…\n",
       "  BigFloat[-109350.249834121637540031050301568526822537346237448883601535390755…\n",
       "  BigFloat[-2.92722206499069481785649570274305917586402489355847335317931937069…\n",
       "  BigFloat[-1.54251669835224409734298548147190517042265341204650259395322888183…\n",
       "  BigFloat[-17847.9549062737102805324227143834077306046536526863407537073785100…\n",
       "  BigFloat[-5.00709038714752717594974927918505304837932197415642344783175266385…\n",
       "  BigFloat[-8.14858391702008565713265329736553694176043165920835665048764270473…\n",
       "  BigFloat[-7.68765383307823725668521732112399897807263162790093053736690802554…\n",
       "  BigFloat[-1.18918396437008974464163255857934338556569749556448747760895667777…\n",
       "  BigFloat[-1.40940322008292863618758154365422289245377038332436194188071535829…\n",
       "  BigFloat[-7.04701609137493292449959799128532989751892549858206071853099291915…\n",
       "  BigFloat[-1.46361103425341772664410746931292000600839648145745288219411717148…\n",
       "  BigFloat[-1.90269434710694704550392800878474571998584193182707161358732120380…\n",
       "  BigFloat[-8.27258411776030973853944731654623607549155460206637189664479359368…\n",
       "  ⋮"
      ]
     },
     "execution_count": 92,
     "metadata": {},
     "output_type": "execute_result"
    }
   ],
   "source": [
    "values(power_time_series_dict)"
   ]
  },
  {
   "cell_type": "code",
   "execution_count": 104,
   "metadata": {},
   "outputs": [
    {
     "data": {
      "text/html": [
       "<div class=\"data-frame\"><p>3,192 rows × 1,001 columns (omitted printing of 1000 columns)</p><table class=\"data-frame\"><thead><tr><th></th><th>1.0e-10</th></tr><tr><th></th><th title=\"Union{Float64, BigFloat}\">Union…</th></tr></thead><tbody><tr><th>1</th><td>-3.155380343474517773182881336006113448165850785347324068054552557712315167057752e+06</td></tr><tr><th>2</th><td>-7.750282473052230410131589151789001926210682420581984528770889009429861047264477e+06</td></tr><tr><th>3</th><td>-6.771154260504771926121105292668354778399529497285304976772711638720867902521081e+07</td></tr><tr><th>4</th><td>-3.171157231156666882975197464330423674578587447320415567899638881508334689581838e+10</td></tr><tr><th>5</th><td>-1.705593933659425828895044885609053134811681637366715319113371576457134049742354e-18</td></tr><tr><th>6</th><td>-2.53692579603415792778394416593882461800050762529806888346674704412560119165307e+08</td></tr><tr><th>7</th><td>-509.6409195010121875533388457038160623571648639965189717384238721768647758216825</td></tr><tr><th>8</th><td>-7.417911677174506856344579947799272975701897108371049300218245589944594604179178e+09</td></tr><tr><th>9</th><td>-289378.2804519037072109144206399175771913850710015473516742436811413904833393907</td></tr><tr><th>10</th><td>-3.224905672884363721474847802478797160644712119807123089726698315515196344954842e+08</td></tr><tr><th>11</th><td>-1.882923648294183578063795980468889716349890915185436398076206885817064655975043e+09</td></tr><tr><th>12</th><td>-2.461441587457969874161631373018646476220797751403119525296157545215254303658746e+07</td></tr><tr><th>13</th><td>-4.048285844663433730113956799870418068072796783000931386207829908530261585196507e+08</td></tr><tr><th>14</th><td>-5.359702386430675036932799303599267753388638848381855155590826674719099275060667e+07</td></tr><tr><th>15</th><td>-571379.6838183061479145762900236313085673019516896673223839890049660170496319667</td></tr><tr><th>16</th><td>-4.663466537060438470515209901589513307315670092474745998977686322039170428441959e+06</td></tr><tr><th>17</th><td>-2.520124963131410024275701544518721028823160147423354110650617228930304741615332e+07</td></tr><tr><th>18</th><td>-4.228209636904448967341158686581109677274415713481820479364394349639101783638796e+10</td></tr><tr><th>19</th><td>-5.416810461777021982431612514058632588530466929305326628849818345473785375698157e+06</td></tr><tr><th>20</th><td>-5.359702386188292432166233780458725284153927410478527230036918953976055729974143e+07</td></tr><tr><th>21</th><td>-479239.1479724422628705428385008505781515462394578062899255551982344896561827591</td></tr><tr><th>22</th><td>-1.196663109513307535223766169991981953825297244657614572096364280747488470002008e+10</td></tr><tr><th>23</th><td>-1.317373436332922150873508987753537391759515852313040177826993608263346461663022</td></tr><tr><th>24</th><td>-1.714139051400120072555759804719445422218309269794050078922784145019885559608253e+08</td></tr><tr><th>25</th><td>-3.346867803453286652263080142339090229650312896419786878060889522426959893302172e+09</td></tr><tr><th>26</th><td>-1.575549193771451190217203487070711277343589283066639775270141717805190137599608e+07</td></tr><tr><th>27</th><td>-8.932837309209130228557946208107513121544620791232414358058996302356004911633908e+08</td></tr><tr><th>28</th><td>-1.661741787838013149184743444654527802530473159098291047793316660954977780271172e+08</td></tr><tr><th>29</th><td>-6.480478287466701797045137535547149080247022222297444332191090100824184316486872e+07</td></tr><tr><th>30</th><td>-1.153148089162910245606176084846590856953400771847684637967349611730112057415804e+06</td></tr><tr><th>&vellip;</th><td>&vellip;</td></tr></tbody></table></div>"
      ],
      "text/latex": [
       "\\begin{tabular}{r|cc}\n",
       "\t& 1.0e-10 & \\\\\n",
       "\t\\hline\n",
       "\t& Union… & \\\\\n",
       "\t\\hline\n",
       "\t1 & -3.155380343474517773182881336006113448165850785347324068054552557712315167057752e+06 & $\\dots$ \\\\\n",
       "\t2 & -7.750282473052230410131589151789001926210682420581984528770889009429861047264477e+06 & $\\dots$ \\\\\n",
       "\t3 & -6.771154260504771926121105292668354778399529497285304976772711638720867902521081e+07 & $\\dots$ \\\\\n",
       "\t4 & -3.171157231156666882975197464330423674578587447320415567899638881508334689581838e+10 & $\\dots$ \\\\\n",
       "\t5 & -1.705593933659425828895044885609053134811681637366715319113371576457134049742354e-18 & $\\dots$ \\\\\n",
       "\t6 & -2.53692579603415792778394416593882461800050762529806888346674704412560119165307e+08 & $\\dots$ \\\\\n",
       "\t7 & -509.6409195010121875533388457038160623571648639965189717384238721768647758216825 & $\\dots$ \\\\\n",
       "\t8 & -7.417911677174506856344579947799272975701897108371049300218245589944594604179178e+09 & $\\dots$ \\\\\n",
       "\t9 & -289378.2804519037072109144206399175771913850710015473516742436811413904833393907 & $\\dots$ \\\\\n",
       "\t10 & -3.224905672884363721474847802478797160644712119807123089726698315515196344954842e+08 & $\\dots$ \\\\\n",
       "\t11 & -1.882923648294183578063795980468889716349890915185436398076206885817064655975043e+09 & $\\dots$ \\\\\n",
       "\t12 & -2.461441587457969874161631373018646476220797751403119525296157545215254303658746e+07 & $\\dots$ \\\\\n",
       "\t13 & -4.048285844663433730113956799870418068072796783000931386207829908530261585196507e+08 & $\\dots$ \\\\\n",
       "\t14 & -5.359702386430675036932799303599267753388638848381855155590826674719099275060667e+07 & $\\dots$ \\\\\n",
       "\t15 & -571379.6838183061479145762900236313085673019516896673223839890049660170496319667 & $\\dots$ \\\\\n",
       "\t16 & -4.663466537060438470515209901589513307315670092474745998977686322039170428441959e+06 & $\\dots$ \\\\\n",
       "\t17 & -2.520124963131410024275701544518721028823160147423354110650617228930304741615332e+07 & $\\dots$ \\\\\n",
       "\t18 & -4.228209636904448967341158686581109677274415713481820479364394349639101783638796e+10 & $\\dots$ \\\\\n",
       "\t19 & -5.416810461777021982431612514058632588530466929305326628849818345473785375698157e+06 & $\\dots$ \\\\\n",
       "\t20 & -5.359702386188292432166233780458725284153927410478527230036918953976055729974143e+07 & $\\dots$ \\\\\n",
       "\t21 & -479239.1479724422628705428385008505781515462394578062899255551982344896561827591 & $\\dots$ \\\\\n",
       "\t22 & -1.196663109513307535223766169991981953825297244657614572096364280747488470002008e+10 & $\\dots$ \\\\\n",
       "\t23 & -1.317373436332922150873508987753537391759515852313040177826993608263346461663022 & $\\dots$ \\\\\n",
       "\t24 & -1.714139051400120072555759804719445422218309269794050078922784145019885559608253e+08 & $\\dots$ \\\\\n",
       "\t25 & -3.346867803453286652263080142339090229650312896419786878060889522426959893302172e+09 & $\\dots$ \\\\\n",
       "\t26 & -1.575549193771451190217203487070711277343589283066639775270141717805190137599608e+07 & $\\dots$ \\\\\n",
       "\t27 & -8.932837309209130228557946208107513121544620791232414358058996302356004911633908e+08 & $\\dots$ \\\\\n",
       "\t28 & -1.661741787838013149184743444654527802530473159098291047793316660954977780271172e+08 & $\\dots$ \\\\\n",
       "\t29 & -6.480478287466701797045137535547149080247022222297444332191090100824184316486872e+07 & $\\dots$ \\\\\n",
       "\t30 & -1.153148089162910245606176084846590856953400771847684637967349611730112057415804e+06 & $\\dots$ \\\\\n",
       "\t$\\dots$ & $\\dots$ &  \\\\\n",
       "\\end{tabular}\n"
      ],
      "text/plain": [
       "\u001b[1m3192×1001 DataFrame\u001b[0m\n",
       "\u001b[1m  Row \u001b[0m│\u001b[1m 1.0e-10                           \u001b[0m\u001b[1m 1.0471285480508985e-10            \u001b[0m\u001b[1m \u001b[0m ⋯\n",
       "\u001b[1m      \u001b[0m│\u001b[90m Union…                            \u001b[0m\u001b[90m Union…                            \u001b[0m\u001b[90m \u001b[0m ⋯\n",
       "──────┼─────────────────────────────────────────────────────────────────────────\n",
       "    1 │      -3.155380343474517773182881…       -3.155380343474642235671033…   ⋯\n",
       "    2 │      -7.750282473052230410131589…       -7.750282473056219729268866…\n",
       "    3 │      -6.771154260504771926121105…       -6.771154260519581306098125…\n",
       "    4 │      -3.171157231156666882975197…       -3.171157230495332296265777…\n",
       "    5 │      -1.705593933659425828895044…       -1.705593933659786221336781…   ⋯\n",
       "    6 │      -2.536925796034157927783944…       -2.536925796028633007368046…\n",
       "    7 │    -509.640919501012187553338845…     -509.640919501045047792404319…\n",
       "    8 │      -7.417911677174506856344579…       -7.417911676822047663652686…\n",
       "    9 │ -289378.280451903707210914420639…  -289378.280451903694608780761049…   ⋯\n",
       "   10 │      -3.224905672884363721474847…       -3.224905672875435919883630…\n",
       "   11 │      -1.882923648294183578063795…       -1.882923648270291959399939…\n",
       "  ⋮   │                 ⋮                                  ⋮                   ⋱\n",
       " 3183 │  -10000.241166857722835180399115…   -10000.241166857723507687396800…\n",
       " 3184 │      -1.585578618015287163159831…       -1.585578617799469960041607…   ⋯\n",
       " 3185 │      -1.413591639459508914654308…       -1.413591639445466903430953…\n",
       " 3186 │      -1.634966984557512923356672…       -1.634966984557512923356671…\n",
       " 3187 │      -2.564278095805219119395207…       -2.564278095803563341195432…\n",
       " 3188 │      -1.812089854342410626766269…       -1.812089854339986426991899…   ⋯\n",
       " 3189 │      -1.656957557258643204719727…       -7.805215902334562479645533…\n",
       " 3190 │      -3.008212404855295339601210…       -3.008212404777612070502264…\n",
       " 3191 │       0.0                       …        0.0                       …\n",
       " 3192 │      -2.135459423539223133234100…       -2.135459423500076614639346…   ⋯\n",
       "\u001b[36m                                               999 columns and 3171 rows omitted\u001b[0m"
      ]
     },
     "execution_count": 104,
     "metadata": {},
     "output_type": "execute_result"
    }
   ],
   "source": [
    "power_matrix = Matrix{Union{Float64, BigFloat}}(undef, stop, length(time_array))\n",
    "for row in 1:stop\n",
    "    power_matrix[row, :] = power_time_series_dict[zero_gen_isotopes[row]]\n",
    "end\n",
    "power_df = DataFrame(power_matrix, string.(time_array))"
   ]
  },
  {
   "cell_type": "code",
   "execution_count": 106,
   "metadata": {},
   "outputs": [
    {
     "data": {
      "text/plain": [
       "3192-element Vector{InlineString}:\n",
       " \"100Ag\"\n",
       " \"100Cd\"\n",
       " \"100In\"\n",
       " \"100Kr\"\n",
       " \"100Mo\"\n",
       " \"100Nb\"\n",
       " \"100Pd\"\n",
       " \"100Rb\"\n",
       " \"100Rh\"\n",
       " \"100Sn\"\n",
       " \"100Sr\"\n",
       " \"100Tc\"\n",
       " \"100Y\"\n",
       " ⋮\n",
       " \"99Pd\"\n",
       " \"99Rb\"\n",
       " \"99Rh\"\n",
       " \"99Sn\"\n",
       " \"99Sr\"\n",
       " \"99Tc\"\n",
       " \"99Y\"\n",
       " \"99Zr\"\n",
       " \"9B\"\n",
       " \"9C\"\n",
       " \"9He\"\n",
       " \"9Li\""
      ]
     },
     "execution_count": 106,
     "metadata": {},
     "output_type": "execute_result"
    }
   ],
   "source": [
    "power_df[!, \"Parent Isotope\"] = zero_gen_isotopes"
   ]
  },
  {
   "cell_type": "code",
   "execution_count": null,
   "metadata": {},
   "outputs": [],
   "source": [
    "CSV.write(parent_dir * \"ExportedData\\\\\")"
   ]
  }
 ],
 "metadata": {
  "kernelspec": {
   "display_name": "Julia 1.7.2",
   "language": "julia",
   "name": "julia-1.7"
  },
  "language_info": {
   "file_extension": ".jl",
   "mimetype": "application/julia",
   "name": "julia",
   "version": "1.7.2"
  },
  "orig_nbformat": 4,
  "vscode": {
   "interpreter": {
    "hash": "274785dbb282d05f4e0ae2ca70ac66f1fa0484127cd60ef9f4ac2dd997977034"
   }
  }
 },
 "nbformat": 4,
 "nbformat_minor": 2
}
