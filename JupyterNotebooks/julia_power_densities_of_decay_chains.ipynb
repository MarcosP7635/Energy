{
 "cells": [
  {
   "cell_type": "markdown",
   "metadata": {},
   "source": [
    "The purpose of this notebook is to calculate the power produced by a decay chain after the production of a given nuclide. Specifically, the power will be calculated for $t = 10^{n}$ seconds where $n \\in \\mathbb{Z}, -10 \\le n \\le 10$"
   ]
  },
  {
   "cell_type": "code",
   "execution_count": 1,
   "metadata": {},
   "outputs": [
    {
     "data": {
      "application/vnd.webio.node+json": {
       "children": [],
       "instanceArgs": {
        "namespace": "html",
        "tag": "div"
       },
       "nodeType": "DOM",
       "props": {},
       "type": "node"
      },
      "text/html": [
       "<div style=\"padding: 1em; background-color: #f8d6da; border: 1px solid #f5c6cb; font-weight: bold;\">\n",
       "<p>The WebIO Jupyter extension was not detected. See the\n",
       "<a href=\"https://juliagizmos.github.io/WebIO.jl/latest/providers/ijulia/\" target=\"_blank\">\n",
       "    WebIO Jupyter integration documentation\n",
       "</a>\n",
       "for more information.\n",
       "</div>\n"
      ],
      "text/plain": [
       "WebIO._IJuliaInit()"
      ]
     },
     "metadata": {},
     "output_type": "display_data"
    },
    {
     "data": {
      "text/plain": [
       "\"C:\\\\Users\\\\engin\\\\Documents\\\\GitHub\\\\Energy\\\\\""
      ]
     },
     "execution_count": 1,
     "metadata": {},
     "output_type": "execute_result"
    }
   ],
   "source": [
    "using Unitful #https://painterqubits.github.io/Unitful.jl/stable/\n",
    "#quantity * @u_str(\"unit abbreviation\") \n",
    "using Symbolics #https://symbolics.juliasymbolics.org/dev/\n",
    "#cite https://doi.org/10.48550/arXiv.2105.03949\n",
    "using Latexify\n",
    "using Test\n",
    "#1 * @u_str(\"mA\") is 1 milliamp\n",
    "using CSV, DataFrames\n",
    "#using Plots\n",
    "using PlotlyJS\n",
    "using Printf\n",
    "using SymPy #https://docs.juliahub.com/SymPy/ \n",
    "using PDFIO\n",
    "using Unzip\n",
    "using Interpolations\n",
    "using Downloads\n",
    "#plotlyjs()\n",
    "data_dir = (\"C:\\\\Cross-Section-Data\\\\\")\n",
    "cross_section_dir = data_dir\n",
    "parent_dir = \"C:\\\\Users\\\\engin\\\\Documents\\\\GitHub\\\\Energy\\\\\""
   ]
  },
  {
   "cell_type": "code",
   "execution_count": 3,
   "metadata": {},
   "outputs": [
    {
     "data": {
      "text/plain": [
       "3192-element Vector{DataFrame}:\n",
       " \u001b[1m4×4 DataFrame\u001b[0m\n",
       "\u001b[1m Row \u001b[0m│\u001b[1m Parent  \u001b[0m\u001b[1m e-Folding Time (seconds) \u001b[0m\u001b[1m Average beta-decay energy \u001b[0m\u001b[1m Daughter \u001b[0m\n",
       "\u001b[1m     \u001b[0m│\u001b[90m String7 \u001b[0m\u001b[90m Float64                  \u001b[0m\u001b[90m Float64                   \u001b[0m\u001b[90m String7  \u001b[0m\n",
       "─────┼────────────────────────────────────────────────────────────────────────\n",
       "   1 │ 100Ag                   173.989                         5.69  100Cd\n",
       "   2 │ 100Cd                    70.8363                        5.69  100In\n",
       "   3 │ 100In                     8.10795                       5.69  100Sn\n",
       "   4 │ 100Sn                     1.70238                       5.69  100Sb\n",
       " \u001b[1m3×4 DataFrame\u001b[0m\n",
       "\u001b[1m Row \u001b[0m│\u001b[1m Parent  \u001b[0m\u001b[1m e-Folding Time (seconds) \u001b[0m\u001b[1m Average beta-decay energy \u001b[0m\u001b[1m Daughter \u001b[0m\n",
       "\u001b[1m     \u001b[0m│\u001b[90m String7 \u001b[0m\u001b[90m Float64                  \u001b[0m\u001b[90m Float64                   \u001b[0m\u001b[90m String7  \u001b[0m\n",
       "─────┼────────────────────────────────────────────────────────────────────────\n",
       "   1 │ 100Cd                    70.8363                        5.69  100In\n",
       "   2 │ 100In                     8.10795                       5.69  100Sn\n",
       "   3 │ 100Sn                     1.70238                       5.69  100Sb\n",
       " \u001b[1m2×4 DataFrame\u001b[0m\n",
       "\u001b[1m Row \u001b[0m│\u001b[1m Parent  \u001b[0m\u001b[1m e-Folding Time (seconds) \u001b[0m\u001b[1m Average beta-decay energy \u001b[0m\u001b[1m Daughter \u001b[0m\n",
       "\u001b[1m     \u001b[0m│\u001b[90m String7 \u001b[0m\u001b[90m Float64                  \u001b[0m\u001b[90m Float64                   \u001b[0m\u001b[90m String7  \u001b[0m\n",
       "─────┼────────────────────────────────────────────────────────────────────────\n",
       "   1 │ 100In                     8.10795                       5.69  100Sn\n",
       "   2 │ 100Sn                     1.70238                       5.69  100Sb\n",
       " \u001b[1m8×4 DataFrame\u001b[0m\n",
       "\u001b[1m Row \u001b[0m│\u001b[1m Parent  \u001b[0m\u001b[1m e-Folding Time (seconds) \u001b[0m\u001b[1m Average beta-decay energy \u001b[0m\u001b[1m Daughter \u001b[0m\n",
       "\u001b[1m     \u001b[0m│\u001b[90m String7 \u001b[0m\u001b[90m Float64                  \u001b[0m\u001b[90m Float64                   \u001b[0m\u001b[90m String7  \u001b[0m\n",
       "─────┼────────────────────────────────────────────────────────────────────────\n",
       "   1 │ 100Kr                  0.0173123                        5.69  100Rb\n",
       "   2 │ 100Rb                  0.0740103                        5.69  100Sr\n",
       "   3 │ 100Sr                  0.291569                         5.69  100Y\n",
       "   4 │ 100Y                   1.35613                          5.69  100Zr\n",
       "   5 │ 100Zr                 10.2431                           5.69  100Nb\n",
       "   6 │ 100Nb                  2.16404                          5.69  100Mo\n",
       "   7 │ 100Mo                  3.21883e26                       5.69  100Tc\n",
       "   8 │ 100Tc                 22.3041                           5.69  100Ru\n",
       " \u001b[1m2×4 DataFrame\u001b[0m\n",
       "\u001b[1m Row \u001b[0m│\u001b[1m Parent  \u001b[0m\u001b[1m e-Folding Time (seconds) \u001b[0m\u001b[1m Average beta-decay energy \u001b[0m\u001b[1m Daughter \u001b[0m\n",
       "\u001b[1m     \u001b[0m│\u001b[90m String7 \u001b[0m\u001b[90m Float64                  \u001b[0m\u001b[90m Float64                   \u001b[0m\u001b[90m String7  \u001b[0m\n",
       "─────┼────────────────────────────────────────────────────────────────────────\n",
       "   1 │ 100Mo                  3.21883e26                       5.69  100Tc\n",
       "   2 │ 100Tc                 22.3041                           5.69  100Ru\n",
       " \u001b[1m3×4 DataFrame\u001b[0m\n",
       "\u001b[1m Row \u001b[0m│\u001b[1m Parent  \u001b[0m\u001b[1m e-Folding Time (seconds) \u001b[0m\u001b[1m Average beta-decay energy \u001b[0m\u001b[1m Daughter \u001b[0m\n",
       "\u001b[1m     \u001b[0m│\u001b[90m String7 \u001b[0m\u001b[90m Float64                  \u001b[0m\u001b[90m Float64                   \u001b[0m\u001b[90m String7  \u001b[0m\n",
       "─────┼────────────────────────────────────────────────────────────────────────\n",
       "   1 │ 100Nb                  2.16404                          5.69  100Mo\n",
       "   2 │ 100Mo                  3.21883e26                       5.69  100Tc\n",
       "   3 │ 100Tc                 22.3041                           5.69  100Ru\n",
       " \u001b[1m5×4 DataFrame\u001b[0m\n",
       "\u001b[1m Row \u001b[0m│\u001b[1m Parent  \u001b[0m\u001b[1m e-Folding Time (seconds) \u001b[0m\u001b[1m Average beta-decay energy \u001b[0m\u001b[1m Daughter \u001b[0m\n",
       "\u001b[1m     \u001b[0m│\u001b[90m String7 \u001b[0m\u001b[90m Float64                  \u001b[0m\u001b[90m Float64                   \u001b[0m\u001b[90m String7  \u001b[0m\n",
       "─────┼────────────────────────────────────────────────────────────────────────\n",
       "   1 │ 100Pd                   4.52475e5                       2.39  100Ag\n",
       "   2 │ 100Ag                 173.989                           5.69  100Cd\n",
       "   3 │ 100Cd                  70.8363                          5.69  100In\n",
       "   4 │ 100In                   8.10795                         5.69  100Sn\n",
       "   5 │ 100Sn                   1.70238                         5.69  100Sb\n",
       " \u001b[1m7×4 DataFrame\u001b[0m\n",
       "\u001b[1m Row \u001b[0m│\u001b[1m Parent  \u001b[0m\u001b[1m e-Folding Time (seconds) \u001b[0m\u001b[1m Average beta-decay energy \u001b[0m\u001b[1m Daughter \u001b[0m\n",
       "\u001b[1m     \u001b[0m│\u001b[90m String7 \u001b[0m\u001b[90m Float64                  \u001b[0m\u001b[90m Float64                   \u001b[0m\u001b[90m String7  \u001b[0m\n",
       "─────┼────────────────────────────────────────────────────────────────────────\n",
       "   1 │ 100Rb                  0.0740103                        5.69  100Sr\n",
       "   2 │ 100Sr                  0.291569                         5.69  100Y\n",
       "   3 │ 100Y                   1.35613                          5.69  100Zr\n",
       "   4 │ 100Zr                 10.2431                           5.69  100Nb\n",
       "   5 │ 100Nb                  2.16404                          5.69  100Mo\n",
       "   6 │ 100Mo                  3.21883e26                       5.69  100Tc\n",
       "   7 │ 100Tc                 22.3041                           5.69  100Ru\n",
       " \u001b[1m6×4 DataFrame\u001b[0m\n",
       "\u001b[1m Row \u001b[0m│\u001b[1m Parent  \u001b[0m\u001b[1m e-Folding Time (seconds) \u001b[0m\u001b[1m Average beta-decay energy \u001b[0m\u001b[1m Daughter \u001b[0m\n",
       "\u001b[1m     \u001b[0m│\u001b[90m String7 \u001b[0m\u001b[90m Float64                  \u001b[0m\u001b[90m Float64                   \u001b[0m\u001b[90m String7  \u001b[0m\n",
       "─────┼────────────────────────────────────────────────────────────────────────\n",
       "   1 │ 100Rh              108029.0                           324.0   100Pd\n",
       "   2 │ 100Pd                   4.52475e5                       2.39  100Ag\n",
       "   3 │ 100Ag                 173.989                           5.69  100Cd\n",
       "   4 │ 100Cd                  70.8363                          5.69  100In\n",
       "   5 │ 100In                   8.10795                         5.69  100Sn\n",
       "   6 │ 100Sn                   1.70238                         5.69  100Sb\n",
       " \u001b[1m1×4 DataFrame\u001b[0m\n",
       "\u001b[1m Row \u001b[0m│\u001b[1m Parent  \u001b[0m\u001b[1m e-Folding Time (seconds) \u001b[0m\u001b[1m Average beta-decay energy \u001b[0m\u001b[1m Daughter \u001b[0m\n",
       "\u001b[1m     \u001b[0m│\u001b[90m String7 \u001b[0m\u001b[90m Float64                  \u001b[0m\u001b[90m Float64                   \u001b[0m\u001b[90m String7  \u001b[0m\n",
       "─────┼────────────────────────────────────────────────────────────────────────\n",
       "   1 │ 100Sn                     1.70238                       5.69  100Sb\n",
       " \u001b[1m6×4 DataFrame\u001b[0m\n",
       "\u001b[1m Row \u001b[0m│\u001b[1m Parent  \u001b[0m\u001b[1m e-Folding Time (seconds) \u001b[0m\u001b[1m Average beta-decay energy \u001b[0m\u001b[1m Daughter \u001b[0m\n",
       "\u001b[1m     \u001b[0m│\u001b[90m String7 \u001b[0m\u001b[90m Float64                  \u001b[0m\u001b[90m Float64                   \u001b[0m\u001b[90m String7  \u001b[0m\n",
       "─────┼────────────────────────────────────────────────────────────────────────\n",
       "   1 │ 100Sr                  0.291569                         5.69  100Y\n",
       "   2 │ 100Y                   1.35613                          5.69  100Zr\n",
       "   3 │ 100Zr                 10.2431                           5.69  100Nb\n",
       "   4 │ 100Nb                  2.16404                          5.69  100Mo\n",
       "   5 │ 100Mo                  3.21883e26                       5.69  100Tc\n",
       "   6 │ 100Tc                 22.3041                           5.69  100Ru\n",
       " \u001b[1m1×4 DataFrame\u001b[0m\n",
       "\u001b[1m Row \u001b[0m│\u001b[1m Parent  \u001b[0m\u001b[1m e-Folding Time (seconds) \u001b[0m\u001b[1m Average beta-decay energy \u001b[0m\u001b[1m Daughter \u001b[0m\n",
       "\u001b[1m     \u001b[0m│\u001b[90m String7 \u001b[0m\u001b[90m Float64                  \u001b[0m\u001b[90m Float64                   \u001b[0m\u001b[90m String7  \u001b[0m\n",
       "─────┼────────────────────────────────────────────────────────────────────────\n",
       "   1 │ 100Tc                     22.3041                       5.69  100Ru\n",
       " \u001b[1m5×4 DataFrame\u001b[0m\n",
       "\u001b[1m Row \u001b[0m│\u001b[1m Parent  \u001b[0m\u001b[1m e-Folding Time (seconds) \u001b[0m\u001b[1m Average beta-decay energy \u001b[0m\u001b[1m Daughter \u001b[0m\n",
       "\u001b[1m     \u001b[0m│\u001b[90m String7 \u001b[0m\u001b[90m Float64                  \u001b[0m\u001b[90m Float64                   \u001b[0m\u001b[90m String7  \u001b[0m\n",
       "─────┼────────────────────────────────────────────────────────────────────────\n",
       "   1 │ 100Y                   1.35613                          5.69  100Zr\n",
       "   2 │ 100Zr                 10.2431                           5.69  100Nb\n",
       "   3 │ 100Nb                  2.16404                          5.69  100Mo\n",
       "   4 │ 100Mo                  3.21883e26                       5.69  100Tc\n",
       "   5 │ 100Tc                 22.3041                           5.69  100Ru\n",
       " ⋮\n",
       " \u001b[1m5×4 DataFrame\u001b[0m\n",
       "\u001b[1m Row \u001b[0m│\u001b[1m Parent  \u001b[0m\u001b[1m e-Folding Time (seconds) \u001b[0m\u001b[1m Average beta-decay energy \u001b[0m\u001b[1m Daughter \u001b[0m\n",
       "\u001b[1m     \u001b[0m│\u001b[90m String7 \u001b[0m\u001b[90m Float64                  \u001b[0m\u001b[90m Float64                   \u001b[0m\u001b[90m String7  \u001b[0m\n",
       "─────┼────────────────────────────────────────────────────────────────────────\n",
       "   1 │ 99Pd                 1852.42                            5.69  99Ag\n",
       "   2 │ 99Ag                  179.183                           5.69  99Cd\n",
       "   3 │ 99Cd                   24.5258                          5.69  99In\n",
       "   4 │ 99In                    4.48678                         5.69  99Sn\n",
       "   5 │ 99Sn                    0.0346247                       5.69  99Sb\n",
       " \u001b[1m7×4 DataFrame\u001b[0m\n",
       "\u001b[1m Row \u001b[0m│\u001b[1m Parent  \u001b[0m\u001b[1m e-Folding Time (seconds) \u001b[0m\u001b[1m Average beta-decay energy \u001b[0m\u001b[1m Daughter \u001b[0m\n",
       "\u001b[1m     \u001b[0m│\u001b[90m String7 \u001b[0m\u001b[90m Float64                  \u001b[0m\u001b[90m Float64                   \u001b[0m\u001b[90m String7  \u001b[0m\n",
       "─────┼────────────────────────────────────────────────────────────────────────\n",
       "   1 │ 99Rb                   0.0779055                      5.69    99Sr\n",
       "   2 │ 99Sr                   0.388374                       5.69    99Y\n",
       "   3 │ 99Y                    2.14096                        5.69    99Zr\n",
       "   4 │ 99Zr                   3.02966                        5.69    99Nb\n",
       "   5 │ 99Nb                  21.6404                         5.69    99Mo\n",
       "   6 │ 99Mo                   3.42431e5                     59.9     99Tc\n",
       "   7 │ 99Tc                   9.61096e12                     1.6286  99Ru\n",
       " \u001b[1m6×4 DataFrame\u001b[0m\n",
       "\u001b[1m Row \u001b[0m│\u001b[1m Parent  \u001b[0m\u001b[1m e-Folding Time (seconds) \u001b[0m\u001b[1m Average beta-decay energy \u001b[0m\u001b[1m Daughter \u001b[0m\n",
       "\u001b[1m     \u001b[0m│\u001b[90m String7 \u001b[0m\u001b[90m Float64                  \u001b[0m\u001b[90m Float64                   \u001b[0m\u001b[90m String7  \u001b[0m\n",
       "─────┼────────────────────────────────────────────────────────────────────────\n",
       "   1 │ 99Rh                    2.00685e6                     208.0   99Pd\n",
       "   2 │ 99Pd                 1852.42                            5.69  99Ag\n",
       "   3 │ 99Ag                  179.183                           5.69  99Cd\n",
       "   4 │ 99Cd                   24.5258                          5.69  99In\n",
       "   5 │ 99In                    4.48678                         5.69  99Sn\n",
       "   6 │ 99Sn                    0.0346247                       5.69  99Sb\n",
       " \u001b[1m1×4 DataFrame\u001b[0m\n",
       "\u001b[1m Row \u001b[0m│\u001b[1m Parent  \u001b[0m\u001b[1m e-Folding Time (seconds) \u001b[0m\u001b[1m Average beta-decay energy \u001b[0m\u001b[1m Daughter \u001b[0m\n",
       "\u001b[1m     \u001b[0m│\u001b[90m String7 \u001b[0m\u001b[90m Float64                  \u001b[0m\u001b[90m Float64                   \u001b[0m\u001b[90m String7  \u001b[0m\n",
       "─────┼────────────────────────────────────────────────────────────────────────\n",
       "   1 │ 99Sn                    0.0346247                       5.69  99Sb\n",
       " \u001b[1m6×4 DataFrame\u001b[0m\n",
       "\u001b[1m Row \u001b[0m│\u001b[1m Parent  \u001b[0m\u001b[1m e-Folding Time (seconds) \u001b[0m\u001b[1m Average beta-decay energy \u001b[0m\u001b[1m Daughter \u001b[0m\n",
       "\u001b[1m     \u001b[0m│\u001b[90m String7 \u001b[0m\u001b[90m Float64                  \u001b[0m\u001b[90m Float64                   \u001b[0m\u001b[90m String7  \u001b[0m\n",
       "─────┼────────────────────────────────────────────────────────────────────────\n",
       "   1 │ 99Sr                   0.388374                       5.69    99Y\n",
       "   2 │ 99Y                    2.14096                        5.69    99Zr\n",
       "   3 │ 99Zr                   3.02966                        5.69    99Nb\n",
       "   4 │ 99Nb                  21.6404                         5.69    99Mo\n",
       "   5 │ 99Mo                   3.42431e5                     59.9     99Tc\n",
       "   6 │ 99Tc                   9.61096e12                     1.6286  99Ru\n",
       " \u001b[1m1×4 DataFrame\u001b[0m\n",
       "\u001b[1m Row \u001b[0m│\u001b[1m Parent  \u001b[0m\u001b[1m e-Folding Time (seconds) \u001b[0m\u001b[1m Average beta-decay energy \u001b[0m\u001b[1m Daughter \u001b[0m\n",
       "\u001b[1m     \u001b[0m│\u001b[90m String7 \u001b[0m\u001b[90m Float64                  \u001b[0m\u001b[90m Float64                   \u001b[0m\u001b[90m String7  \u001b[0m\n",
       "─────┼────────────────────────────────────────────────────────────────────────\n",
       "   1 │ 99Tc                   9.61096e12                     1.6286  99Ru\n",
       " \u001b[1m5×4 DataFrame\u001b[0m\n",
       "\u001b[1m Row \u001b[0m│\u001b[1m Parent  \u001b[0m\u001b[1m e-Folding Time (seconds) \u001b[0m\u001b[1m Average beta-decay energy \u001b[0m\u001b[1m Daughter \u001b[0m\n",
       "\u001b[1m     \u001b[0m│\u001b[90m String7 \u001b[0m\u001b[90m Float64                  \u001b[0m\u001b[90m Float64                   \u001b[0m\u001b[90m String7  \u001b[0m\n",
       "─────┼────────────────────────────────────────────────────────────────────────\n",
       "   1 │ 99Y                    2.14096                        5.69    99Zr\n",
       "   2 │ 99Zr                   3.02966                        5.69    99Nb\n",
       "   3 │ 99Nb                  21.6404                         5.69    99Mo\n",
       "   4 │ 99Mo                   3.42431e5                     59.9     99Tc\n",
       "   5 │ 99Tc                   9.61096e12                     1.6286  99Ru\n",
       " \u001b[1m4×4 DataFrame\u001b[0m\n",
       "\u001b[1m Row \u001b[0m│\u001b[1m Parent  \u001b[0m\u001b[1m e-Folding Time (seconds) \u001b[0m\u001b[1m Average beta-decay energy \u001b[0m\u001b[1m Daughter \u001b[0m\n",
       "\u001b[1m     \u001b[0m│\u001b[90m String7 \u001b[0m\u001b[90m Float64                  \u001b[0m\u001b[90m Float64                   \u001b[0m\u001b[90m String7  \u001b[0m\n",
       "─────┼────────────────────────────────────────────────────────────────────────\n",
       "   1 │ 99Zr                   3.02966                        5.69    99Nb\n",
       "   2 │ 99Nb                  21.6404                         5.69    99Mo\n",
       "   3 │ 99Mo                   3.42431e5                     59.9     99Tc\n",
       "   4 │ 99Tc                   9.61096e12                     1.6286  99Ru\n",
       " \u001b[1m2×4 DataFrame\u001b[0m\n",
       "\u001b[1m Row \u001b[0m│\u001b[1m Parent  \u001b[0m\u001b[1m e-Folding Time (seconds) \u001b[0m\u001b[1m Average beta-decay energy \u001b[0m\u001b[1m Daughter \u001b[0m\n",
       "\u001b[1m     \u001b[0m│\u001b[90m String3 \u001b[0m\u001b[90m Float64                  \u001b[0m\u001b[90m Float64                   \u001b[0m\u001b[90m String3  \u001b[0m\n",
       "─────┼────────────────────────────────────────────────────────────────────────\n",
       "   1 │ 9B                    1.15416e-18                       5.69  9C\n",
       "   2 │ 9C                    0.182501                          5.69  9N\n",
       " \u001b[1m1×4 DataFrame\u001b[0m\n",
       "\u001b[1m Row \u001b[0m│\u001b[1m Parent  \u001b[0m\u001b[1m e-Folding Time (seconds) \u001b[0m\u001b[1m Average beta-decay energy \u001b[0m\u001b[1m Daughter \u001b[0m\n",
       "\u001b[1m     \u001b[0m│\u001b[90m String3 \u001b[0m\u001b[90m Float64                  \u001b[0m\u001b[90m Float64                   \u001b[0m\u001b[90m String3  \u001b[0m\n",
       "─────┼────────────────────────────────────────────────────────────────────────\n",
       "   1 │ 9C                       0.182501                       5.69  9N\n",
       " \u001b[1m2×4 DataFrame\u001b[0m\n",
       "\u001b[1m Row \u001b[0m│\u001b[1m Parent  \u001b[0m\u001b[1m e-Folding Time (seconds) \u001b[0m\u001b[1m Average beta-decay energy \u001b[0m\u001b[1m Daughter \u001b[0m\n",
       "\u001b[1m     \u001b[0m│\u001b[90m String3 \u001b[0m\u001b[90m Float64                  \u001b[0m\u001b[90m Float64                   \u001b[0m\u001b[90m String3  \u001b[0m\n",
       "─────┼────────────────────────────────────────────────────────────────────────\n",
       "   1 │ 9He                   3.60674e-21                       5.69  9Li\n",
       "   2 │ 9Li                   0.257088                          5.69  9Be\n",
       " \u001b[1m1×4 DataFrame\u001b[0m\n",
       "\u001b[1m Row \u001b[0m│\u001b[1m Parent  \u001b[0m\u001b[1m e-Folding Time (seconds) \u001b[0m\u001b[1m Average beta-decay energy \u001b[0m\u001b[1m Daughter \u001b[0m\n",
       "\u001b[1m     \u001b[0m│\u001b[90m String3 \u001b[0m\u001b[90m Float64                  \u001b[0m\u001b[90m Float64                   \u001b[0m\u001b[90m String3  \u001b[0m\n",
       "─────┼────────────────────────────────────────────────────────────────────────\n",
       "   1 │ 9Li                      0.257088                       5.69  9Be"
      ]
     },
     "execution_count": 3,
     "metadata": {},
     "output_type": "execute_result"
    }
   ],
   "source": [
    "decay_chain_dir = parent_dir * \"ExportedData\\\\all_beta_decay_chains\\\\\"\n",
    "decay_chain_files = readdir(decay_chain_dir)\n",
    "all_decay_chains = [CSV.read(decay_chain_dir * file, DataFrame)\n",
    "                    for file in decay_chain_files]\n",
    "all_decay_chains = [rename!(df, :Column1 => :Parent) for df in all_decay_chains]"
   ]
  },
  {
   "cell_type": "markdown",
   "metadata": {},
   "source": [
    "I derived the decay rate of the n-th generation nuclide in a decay chain here:\n",
    "\n",
    "https://www.overleaf.com/project/627613def6b848465d85e5bb\n",
    "\n",
    "https://github.com/MarcosP7635/Math-for-Energy/blob/main/main.tex\n",
    "\n",
    "file:///C:/Users/engin/Downloads/Math_for_Energy(4).pdf "
   ]
  },
  {
   "cell_type": "code",
   "execution_count": 4,
   "metadata": {},
   "outputs": [
    {
     "data": {
      "text/plain": [
       "factor (generic function with 1 method)"
      ]
     },
     "execution_count": 4,
     "metadata": {},
     "output_type": "execute_result"
    }
   ],
   "source": [
    "factor(t, e_folding_time) = 1 - exp(t / -e_folding_time)"
   ]
  },
  {
   "cell_type": "code",
   "execution_count": 5,
   "metadata": {},
   "outputs": [
    {
     "data": {
      "text/plain": [
       "a_prod (generic function with 1 method)"
      ]
     },
     "execution_count": 5,
     "metadata": {},
     "output_type": "execute_result"
    }
   ],
   "source": [
    "a_prod(e_folding_times, t) = prod([factor(t, e_folding_times[k])\n",
    "                                   for k in 2:length(e_folding_times)])"
   ]
  },
  {
   "cell_type": "code",
   "execution_count": 6,
   "metadata": {},
   "outputs": [
    {
     "data": {
      "text/plain": [
       "r (generic function with 1 method)"
      ]
     },
     "execution_count": 6,
     "metadata": {},
     "output_type": "execute_result"
    }
   ],
   "source": [
    "r(e_fold_times, t) = (a_prod(e_fold_times, t) * exp(t / -e_fold_times[1])\n",
    "                      /\n",
    "                      -e_fold_times[1])\n"
   ]
  },
  {
   "cell_type": "code",
   "execution_count": 7,
   "metadata": {},
   "outputs": [
    {
     "data": {
      "text/latex": [
       "\\begin{equation}\n",
       "\\frac{ - \\left( 1 - e^{\\frac{t}{ - \\lambda_{1}}} \\right) \\left( 1 - e^{\\frac{t}{ - \\lambda_{2}}} \\right) e^{\\frac{t}{ - \\lambda_{0}}}}{\\lambda_{0}}\n",
       "\\end{equation}\n"
      ],
      "text/plain": [
       "(-(1 - exp(t / (-λ_1)))*(1 - exp(t / (-λ_2)))*exp(t / (-λ_0))) / λ_0"
      ]
     },
     "execution_count": 7,
     "metadata": {},
     "output_type": "execute_result"
    }
   ],
   "source": [
    "λ_0, λ_1, λ_2, t = @variables λ_0, λ_1, λ_2, t\n",
    "expected_output = (1 - exp(t / -λ_1)) * (1 - exp(t / -λ_2)) * exp(t / -λ_0) / (-λ_0)"
   ]
  },
  {
   "cell_type": "code",
   "execution_count": 8,
   "metadata": {},
   "outputs": [
    {
     "data": {
      "text/plain": [
       "\u001b[32m\u001b[1mTest Passed\u001b[22m\u001b[39m\n",
       "  Expression: r(e_folding_times, t) - expected_output == 0\n",
       "   Evaluated: 0 == 0"
      ]
     },
     "execution_count": 8,
     "metadata": {},
     "output_type": "execute_result"
    }
   ],
   "source": [
    "e_folding_times = [λ_0, λ_1, λ_2]\n",
    "r(e_folding_times, t)\n",
    "Test.@test r(e_folding_times, t) - expected_output == 0"
   ]
  },
  {
   "cell_type": "markdown",
   "metadata": {},
   "source": [
    "It works! :) "
   ]
  },
  {
   "cell_type": "markdown",
   "metadata": {},
   "source": [
    "The average beta decay energy is given in keV. "
   ]
  },
  {
   "cell_type": "code",
   "execution_count": 9,
   "metadata": {},
   "outputs": [
    {
     "data": {
      "text/plain": [
       "337//2103388558093277156"
      ]
     },
     "execution_count": 9,
     "metadata": {},
     "output_type": "execute_result"
    }
   ],
   "source": [
    "joules_per_keV = Rational(uconvert(@u_str(\"J\"), 1 * @u_str(\"keV\")) / @u_str(\"J\"))"
   ]
  },
  {
   "cell_type": "markdown",
   "metadata": {},
   "source": [
    "Avogadro's number"
   ]
  },
  {
   "cell_type": "code",
   "execution_count": 10,
   "metadata": {},
   "outputs": [
    {
     "data": {
      "text/plain": [
       "6475021031458043//67108864"
      ]
     },
     "execution_count": 10,
     "metadata": {},
     "output_type": "execute_result"
    }
   ],
   "source": [
    "N_A = 6.02214076e23\n",
    "conversion_factor = Rational(joules_per_keV * N_A)"
   ]
  },
  {
   "cell_type": "markdown",
   "metadata": {},
   "source": [
    "Now we calculate the power in watts"
   ]
  },
  {
   "cell_type": "code",
   "execution_count": 11,
   "metadata": {},
   "outputs": [
    {
     "data": {
      "text/plain": [
       "power_per_mole (generic function with 1 method)"
      ]
     },
     "execution_count": 11,
     "metadata": {},
     "output_type": "execute_result"
    }
   ],
   "source": [
    "power_per_mole(decay_rate, decay_energy) = decay_rate * decay_energy * conversion_factor"
   ]
  },
  {
   "cell_type": "code",
   "execution_count": 12,
   "metadata": {},
   "outputs": [
    {
     "data": {
      "text/plain": [
       "power_per_mole (generic function with 2 methods)"
      ]
     },
     "execution_count": 12,
     "metadata": {},
     "output_type": "execute_result"
    }
   ],
   "source": [
    "power_per_mole(e_folding_times, decay_energies, t) = sum([\n",
    "    power_per_mole(r(e_folding_times[1:i], t), decay_energies[i])\n",
    "    for i in 1:length(decay_energies)])"
   ]
  },
  {
   "cell_type": "code",
   "execution_count": 13,
   "metadata": {},
   "outputs": [
    {
     "data": {
      "text/latex": [
       "\\begin{equation}\n",
       "\\frac{ - \\frac{6475021031458043}{67108864} E_{0} e^{\\frac{t}{ - \\lambda_{0}}}}{\\lambda_{0}} + \\frac{ - \\frac{6475021031458043}{67108864} E_{1} \\left( 1 - e^{\\frac{t}{ - \\lambda_{1}}} \\right) e^{\\frac{t}{ - \\lambda_{0}}}}{\\lambda_{0}} + \\frac{ - \\frac{6475021031458043}{67108864} E_{2} \\left( 1 - e^{\\frac{t}{ - \\lambda_{1}}} \\right) \\left( 1 - e^{\\frac{t}{ - \\lambda_{2}}} \\right) e^{\\frac{t}{ - \\lambda_{0}}}}{\\lambda_{0}}\n",
       "\\end{equation}\n"
      ],
      "text/plain": [
       "((-6475021031458043//67108864)*E_0*exp(t / (-λ_0))) / λ_0 + ((-6475021031458043//67108864)*E_1*(1 - exp(t / (-λ_1)))*exp(t / (-λ_0))) / λ_0 + ((-6475021031458043//67108864)*E_2*(1 - exp(t / (-λ_1)))*(1 - exp(t / (-λ_2)))*exp(t / (-λ_0))) / λ_0"
      ]
     },
     "execution_count": 13,
     "metadata": {},
     "output_type": "execute_result"
    }
   ],
   "source": [
    "E_0, E_1, E_2, t = @variables E_0, E_1, E_2, t\n",
    "expected_output = conversion_factor * sum([\n",
    "    E_0 * exp(t / -λ_0) / (-λ_0),\n",
    "    (1 - exp(t / -λ_1)) * E_1 * exp(t / -λ_0) / (-λ_0),\n",
    "    (1 - exp(t / -λ_1)) * (1 - exp(t / -λ_2)) * E_2 * exp(t / -λ_0) / (-λ_0)\n",
    "])"
   ]
  },
  {
   "cell_type": "code",
   "execution_count": 14,
   "metadata": {},
   "outputs": [
    {
     "data": {
      "text/plain": [
       "\u001b[32m\u001b[1mTest Passed\u001b[22m\u001b[39m\n",
       "  Expression: Symbolics.simplify(power_per_mole(e_folding_times, decay_energies, t) - expected_output) == 0\n",
       "   Evaluated: 0 == 0"
      ]
     },
     "execution_count": 14,
     "metadata": {},
     "output_type": "execute_result"
    }
   ],
   "source": [
    "decay_energies = [E_0, E_1, E_2]\n",
    "Test.@test Symbolics.simplify(power_per_mole(e_folding_times, decay_energies, t) \n",
    "            - expected_output) == 0"
   ]
  },
  {
   "cell_type": "code",
   "execution_count": 16,
   "metadata": {},
   "outputs": [],
   "source": [
    "x = [power_per_mole(df[!,\"e-Folding Time (seconds)\"], df[!,\"Average beta-decay energy\"], 1)\n",
    "for df in all_decay_chains];"
   ]
  },
  {
   "cell_type": "code",
   "execution_count": null,
   "metadata": {},
   "outputs": [],
   "source": []
  }
 ],
 "metadata": {
  "kernelspec": {
   "display_name": "Julia 1.7.2",
   "language": "julia",
   "name": "julia-1.7"
  },
  "language_info": {
   "file_extension": ".jl",
   "mimetype": "application/julia",
   "name": "julia",
   "version": "1.7.2"
  },
  "orig_nbformat": 4,
  "vscode": {
   "interpreter": {
    "hash": "274785dbb282d05f4e0ae2ca70ac66f1fa0484127cd60ef9f4ac2dd997977034"
   }
  }
 },
 "nbformat": 4,
 "nbformat_minor": 2
}
