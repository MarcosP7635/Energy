{
 "cells": [
  {
   "cell_type": "markdown",
   "metadata": {},
   "source": [
    "Note that any backslashes in this notebook may need to be changed to a forward slash depending on the operating system. This cell sets the name of directories where the data is stored."
   ]
  },
  {
   "cell_type": "code",
   "execution_count": 72,
   "metadata": {},
   "outputs": [
    {
     "data": {
      "text/plain": [
       "\"C:\\\\Cross-Section-Data\\\\jendl5-dec_upd5\\\\\""
      ]
     },
     "execution_count": 72,
     "metadata": {},
     "output_type": "execute_result"
    }
   ],
   "source": [
    "index = collect(findlast(\"\\\\\", pwd()))[end]\n",
    "parent_dir = pwd()[1:index]\n",
    "cross_section_dir = \"C:\\\\Cross-Section-Data\\\\\"\n",
    "import_data_dir = parent_dir * \"ImportedData\\\\\"\n",
    "export_data_dir = parent_dir * \"ExportedData\\\\\"\n",
    "endf8_decay_dir = cross_section_dir * \"ENDF-B-VIII.0\\\\decay\\\\\"\n",
    "jeff33_decay_dir = cross_section_dir * \"ENDF_Libraries-2\\\\JEFF-3.3\\\\decay\\\\\"\n",
    "jendl5_decay_dir = cross_section_dir * \"jendl5-dec_upd5\\\\\""
   ]
  },
  {
   "cell_type": "markdown",
   "metadata": {},
   "source": [
    "Import packages"
   ]
  },
  {
   "cell_type": "code",
   "execution_count": 73,
   "metadata": {},
   "outputs": [
    {
     "data": {
      "text/latex": [
       "$\\frac{σ_{R} \\left(1 - e^{- \\frac{A x ρ σ_{T}}{M}}\\right)}{σ_{T}}$"
      ],
      "text/plain": [
       "    ⎛     -A⋅x⋅ρ⋅σ_T ⎞\n",
       "    ⎜     ───────────⎟\n",
       "    ⎜          M     ⎟\n",
       "σ_R⋅⎝1 - ℯ           ⎠\n",
       "──────────────────────\n",
       "         σ_T          "
      ]
     },
     "execution_count": 73,
     "metadata": {},
     "output_type": "execute_result"
    }
   ],
   "source": [
    "using Unitful #https://painterqubits.github.io/Unitful.jl/stable/\n",
    "#quantity * @u_str(\"unit abbreviation\") \n",
    "using Symbolics #https://symbolics.juliasymbolics.org/dev/\n",
    "#cite https://doi.org/10.48550/arXiv.2105.03949\n",
    "using Latexify\n",
    "using Test\n",
    "#1 * @u_str(\"mA\") is 1 milliamp\n",
    "using CSV, DataFrames\n",
    "#using Plots\n",
    "using PlotlyJS\n",
    "using Printf\n",
    "using SymPy #https://docs.juliahub.com/SymPy/ \n",
    "using PDFIO\n",
    "using Unzip\n",
    "using Interpolations\n",
    "using Plots\n",
    "using Downloads\n",
    "#plotlyjs()\n",
    "P, N, x, Σ, σR, σT, ρ, M, A = symbols(\"P, N, x, Σ, σ_R, σ_T, ρ, M, A\", \n",
    "                                        positive = true, real = true)\n",
    "N = ρ * A/ M\n",
    "Σ = N * σT  \n",
    "P = integrate(Σ*exp(-Σ*x), (x, 0, x)) * σR / σT"
   ]
  },
  {
   "cell_type": "markdown",
   "metadata": {},
   "source": [
    "Now I will find the average decay energies for each nuclide. For the datasets I am using, the average decay energies are all given in keV. "
   ]
  },
  {
   "cell_type": "code",
   "execution_count": 115,
   "metadata": {},
   "outputs": [
    {
     "data": {
      "text/plain": [
       "atomic_number (generic function with 1 method)"
      ]
     },
     "execution_count": 115,
     "metadata": {},
     "output_type": "execute_result"
    }
   ],
   "source": [
    "function get_mass_name(nuclide)\n",
    "    index = 1\n",
    "    while (tryparse(Int64, string(nuclide[index])) != nothing && index <= length(nuclide))\n",
    "        index += 1\n",
    "    end\n",
    "    mass = tryparse(Int64, nuclide[1:index-1])\n",
    "    name =  nuclide[index:end]\n",
    "    name_1 = uppercase(name[1])\n",
    "    if (length(name) > 1)\n",
    "        name = name_1 * name[2]\n",
    "    else \n",
    "      name = name_1\n",
    "    end\n",
    "    return mass, name\n",
    "end\n",
    "element_symbols = [\"H\", \"He\", \"Li\", \"Be\", \"B\", \"C\", \"N\", \"O\", \"F\", \"Ne\", \n",
    "\"Na\", \"Mg\", \"Al\", \"Si\", \"P\", \"S\", \"Cl\", \"Ar\", \"K\", \"Ca\", \"Sc\", \"Ti\", \"V\", \n",
    "\"Cr\", \"Mn\", \"Fe\", \"Co\", \"Ni\", \"Cu\", \"Zn\", \"Ga\", \"Ge\", \"As\", \"Se\", \"Br\", \n",
    "\"Kr\", \"Rb\", \"Sr\", \"Y\", \"Zr\", \"Nb\", \"Mo\", \"Tc\", \"Ru\", \"Rh\", \"Pd\", \"Ag\", \n",
    "\"Cd\", \"In\", \"Sn\", \"Sb\", \"Te\", \"I\", \"Xe\", \"Cs\", \"Ba\", \"La\", \"Ce\", \"Pr\", \n",
    "\"Nd\", \"Pm\", \"Sm\", \"Eu\", \"Gd\", \"Tb\", \"Dy\", \"Ho\", \"Er\", \"Tm\", \"Yb\", \"Lu\", \n",
    "\"Hf\", \"Ta\", \"W\", \"Re\", \"Os\", \"Ir\", \"Pt\", \"Au\", \"Hg\", \"Tl\", \"Pb\", \"Bi\", \n",
    "\"Po\", \"At\", \"Rn\", \"Fr\", \"Ra\", \"Ac\", \"Th\", \"Pa\", \"U\", \"Np\", \"Pu\", \"Am\", \n",
    "\"Cm\", \"Bk\", \"Cf\", \"Es\", \"Fm\", \"Md\", \"No\", \"Lr\", \"Rf\", \"Db\", \"Sg\", \"Bh\", \n",
    "\"Hs\", \"Mt\", \"Ds\", \"Rg\", \"Cn\", \"Nh\", \"Fl\", \"Mc\", \"Lv\", \"Ts\", \"Og\"];\n",
    "function atomic_number(symbol)\n",
    "    index = 1\n",
    "    while symbol != element_symbols[index]\n",
    "        index += 1\n",
    "        if index > length(element_symbols)\n",
    "            return \"Element not in periodic table\"\n",
    "        end\n",
    "    end\n",
    "    return index \n",
    "end"
   ]
  },
  {
   "cell_type": "markdown",
   "metadata": {},
   "source": [
    "This dictionary stores what strings to look to for in the datasets to find the average energy for each decay type, and for each directory. "
   ]
  },
  {
   "cell_type": "code",
   "execution_count": 75,
   "metadata": {},
   "outputs": [
    {
     "data": {
      "text/plain": [
       "Dict{String, Dict{String, String}} with 3 entries:\n",
       "  \"C:\\\\Cross-Section-Data\\… => Dict(\"auger\"=>\"Mean CE+Auger Energy\", \"beta-plus…\n",
       "  \"C:\\\\Cross-Section-Data\\… => Dict(\"auger\"=>\"MEAN AUGER ELECTRON ENERGY     =\"…\n",
       "  \"C:\\\\Cross-Section-Data\\… => Dict(\"auger\"=>\"Mean CE+Auger Energy:\", \"proton\"=…"
      ]
     },
     "execution_count": 75,
     "metadata": {},
     "output_type": "execute_result"
    }
   ],
   "source": [
    "dir_search_string_dict = Dict([\n",
    "    jeff33_decay_dir => Dict([\"alpha\" => \"ALPHA ENERGY                   =\",\n",
    "    \"beta-minus\" => \"MEAN BETA- ENERGY              =\",\"gamma\" => \"MEAN GAMMA ENERGY              =\", \n",
    "    \"x-ray\" => \"MEAN X-RAY ENERGY              =\", \"auger\" => \"MEAN AUGER ELECTRON ENERGY     =\"\n",
    "    ]),\n",
    "\n",
    "    endf8_decay_dir => Dict([\"alpha\" => \"Mean Alpha Energy:\", \n",
    "    \"beta-minus\" => \"Mean B- Energy:\", \"beta-plus\" => \"Mean B+ Energy:\",\n",
    "    \"gamma\" => \"Mean Gamma Energy:\", \"auger\" => \"Mean CE+Auger Energy:\",\n",
    "    \"neutron\" => \"Mean Neutron Energy:\", \"proton\" => \"Mean Neutron Energy:\",\n",
    "    \"half life\" => \"Parent half-life:\"]),\n",
    "\n",
    "    jendl5_decay_dir => Dict([\"alpha\" => \"Mean Alpha Energy\",\n",
    "    \"beta-minus\" => \"Mean B- Energy\", \"gamma\" => \"Mean Gamma Energy\",\n",
    "    \"neutron\" => \"Mean Neutron Energy\", \"proton\" => \"Mean Proton Energy\",\n",
    "    \"auger\" => \"Mean CE+Auger Energy\", \n",
    "    \"beta-plus and electron capture\" => \"Mean B+/EC Energy\"])  \n",
    "])"
   ]
  },
  {
   "cell_type": "code",
   "execution_count": 76,
   "metadata": {},
   "outputs": [
    {
     "data": {
      "text/plain": [
       "get_decay_energy_from_file (generic function with 1 method)"
      ]
     },
     "execution_count": 76,
     "metadata": {},
     "output_type": "execute_result"
    }
   ],
   "source": [
    "function get_decay_energy_from_file(file_as_arr, search_string)\n",
    "    line = [l for l in file_as_arr if length(l) > length(search_string)\n",
    "             && occursin(search_string, l)]\n",
    "    if (length(line) > 0)\n",
    "        line = String(line[1])\n",
    "        line = join(split(line, search_string, keepempty = false))\n",
    "        return tryparse(Float64, join(split(line, \" \", keepempty = false)[1]))\n",
    "    else \n",
    "        return \"Energy not found\"\n",
    "    end\n",
    "end"
   ]
  },
  {
   "cell_type": "markdown",
   "metadata": {},
   "source": [
    "This function is meant for particularly short half lives reported in terms of the decay width. \n",
    "\n",
    "small_decay_time(nuclide, dir) = string(half_life_sec(find_decay_info(nuclide, \n",
    "                                        \"half life\", dir)))   \n",
    "small_decay_time(\"4H\", endf8_decay_dir)"
   ]
  },
  {
   "cell_type": "code",
   "execution_count": 78,
   "metadata": {},
   "outputs": [
    {
     "data": {
      "text/plain": [
       "find_decay_info (generic function with 1 method)"
      ]
     },
     "execution_count": 78,
     "metadata": {},
     "output_type": "execute_result"
    }
   ],
   "source": [
    "function find_decay_info(nuclide, info, dir)\n",
    "    a, el = get_mass_name(nuclide)\n",
    "    el = string(el)\n",
    "    z = [i for i in 1:length(element_symbols) if element_symbols[i] == el][1]\n",
    "    file_name = string(z) * \"-\" * el * \"-\" * string(a) * \".dat\"\n",
    "    if !(file_name in readdir(dir))\n",
    "        return \"insufficient data\"\n",
    "    end\n",
    "    file_path = dir * file_name\n",
    "    file_as_array = split(open(f->read(f, String), file_path), \"\\n\")\n",
    "    search_string = dir_search_string_dict[dir][info]\n",
    "    return get_decay_energy_from_file(file_as_array, search_string)\n",
    "end"
   ]
  },
  {
   "cell_type": "code",
   "execution_count": 79,
   "metadata": {},
   "outputs": [
    {
     "data": {
      "text/plain": [
       "find_avg_decay_energy (generic function with 2 methods)"
      ]
     },
     "execution_count": 79,
     "metadata": {},
     "output_type": "execute_result"
    }
   ],
   "source": [
    "function find_avg_decay_energy(nuclide, decay_type, dir)\n",
    "    a, el = get_mass_name(nuclide)\n",
    "    el = string(el)\n",
    "    z = [i for i in 1:length(element_symbols) if element_symbols[i] == el][1]\n",
    "    file_name = string(z) * \"-\" * el * \"-\" * string(a) * \".dat\"\n",
    "    if ! (file_name in readdir(dir))\n",
    "        return \"Energy not found\"\n",
    "    end\n",
    "    file_path = dir * file_name\n",
    "    file_as_array = split(open(f->read(f, String), file_path), \"\\n\")\n",
    "    search_string = dir_search_string_dict[dir][decay_type]\n",
    "    return get_decay_energy_from_file(file_as_array, search_string)\n",
    "end\n",
    "dir_list = keys(dir_search_string_dict)\n",
    "function find_avg_decay_energy(nuclide, decay_type)\n",
    "    if decay_type == \"electron capture\"\n",
    "        decay_type = \"beta-plus and electron capture\"\n",
    "    end\n",
    "    for dir in dir_list\n",
    "        if decay_type in keys(dir_search_string_dict[dir])\n",
    "            energy = find_avg_decay_energy(nuclide, decay_type, dir)\n",
    "            if energy != \"Energy not found\"\n",
    "                return energy\n",
    "            end\n",
    "        end\n",
    "    end\n",
    "    return \"Energy not found\"\n",
    "end"
   ]
  },
  {
   "cell_type": "code",
   "execution_count": 80,
   "metadata": {},
   "outputs": [
    {
     "data": {
      "text/plain": [
       "1.4308955585889278e-22"
      ]
     },
     "execution_count": 80,
     "metadata": {},
     "output_type": "execute_result"
    }
   ],
   "source": [
    "joules_per_keV = Rational(uconvert(@u_str(\"J\"), 1 * @u_str(\"keV\")) / @u_str(\"J\"))\n",
    "joules_per_MeV = 1000 * joules_per_keV\n",
    "h = 6.62607015 * 10.0^(-34) / (2 * pi)\n",
    "half_life_sec(gamma) = h / (joules_per_MeV * gamma)\n",
    "half_life_sec(4.6)"
   ]
  },
  {
   "cell_type": "markdown",
   "metadata": {},
   "source": [
    "Very short half lives are often reported in terms of gamma. Source: \n",
    "\n",
    "https://www.nndc.bnl.gov/nudat3/help/glossary.jsp#halflife"
   ]
  },
  {
   "cell_type": "code",
   "execution_count": 81,
   "metadata": {},
   "outputs": [
    {
     "data": {
      "text/plain": [
       "get_half_life (generic function with 1 method)"
      ]
     },
     "execution_count": 81,
     "metadata": {},
     "output_type": "execute_result"
    }
   ],
   "source": [
    "decay_or_emission_type_dict = Dict([\n",
    "    \"B-\" =>  \"beta minus decay\", \"A\" =>  \"alpha decay\", \"B+\" =>  \"beta plus decay\",\n",
    "    \"EC\" => \"auger and conversion electron\"\n",
    "])\n",
    "function get_half_life(nuclide, decay_type)\n",
    "    if decay_type == \"EC+B+\" \n",
    "        decay_type = \"B+\"\n",
    "    end\n",
    "    if decay_type in keys(decay_or_emission_type_dict)\n",
    "        decay_type_long = decay_or_emission_type_dict[decay_type]\n",
    "        row = [row for row in 1:size(all_live_chart_data)[1]\n",
    "                if ((all_live_chart_data[row, \"nuclide\"] ==  nuclide) && \n",
    "                (decay_type_long == all_live_chart_data[row, \"Decay or Emission type\"])\n",
    "                )][1]\n",
    "        return all_live_chart_data[row, \"half_life_sec\"]\n",
    "    end\n",
    "    if decay_type in values(decay_or_emission_type_dict)\n",
    "        row = [row for row in 1:size(all_live_chart_data)[1]\n",
    "                if (all_live_chart_data[row, \"nuclide\"] ==  nuclide && \n",
    "                decay_type == all_live_chart_data[row, \"Decay or Emission type\"])][1]\n",
    "        return all_live_chart_data[row, \"half_life_sec\"]\n",
    "    end\n",
    "    if decay_type in keys(livechart_abbreviation_decay_types)\n",
    "        row = 1\n",
    "        while (row < size(all_live_chart_data)[1] && \n",
    "                all_live_chart_data[row, \"nuclide\"] !=  nuclide)\n",
    "            row += 1\n",
    "        end\n",
    "        half_life =  all_live_chart_data[row, \"half_life_sec\"]\n",
    "        if split(half_life, \"second\", keepempty = false)[1] == \" \"\n",
    "            try \n",
    "                return small_decay_time(nuclide, endf8_decay_dir)\n",
    "            catch\n",
    "                return \"insufficient data\"\n",
    "            end\n",
    "        end\n",
    "        return half_life\n",
    "    end\n",
    "    return decay_type * \" not accounted for \"\n",
    "end"
   ]
  },
  {
   "cell_type": "code",
   "execution_count": 134,
   "metadata": {},
   "outputs": [
    {
     "data": {
      "text/plain": [
       "6"
      ]
     },
     "execution_count": 134,
     "metadata": {},
     "output_type": "execute_result"
    }
   ],
   "source": [
    "collect(findlast(\".\", \"doggo.endf\"))[1]"
   ]
  },
  {
   "cell_type": "code",
   "execution_count": 146,
   "metadata": {},
   "outputs": [
    {
     "data": {
      "text/plain": [
       "906-element Vector{String}:\n",
       " \"C:\\\\Cross-Section-Data\\\\ENDF-B-VIII.0\\\\decay\\\\dec-011_Na_024m1.endf\"\n",
       " \"C:\\\\Cross-Section-Data\\\\ENDF-B-VIII.0\\\\decay\\\\dec-013_Al_024m1.endf\"\n",
       " \"C:\\\\Cross-Section-Data\\\\ENDF-B-VIII.0\\\\decay\\\\dec-013_Al_026m1.endf\"\n",
       " \"C:\\\\Cross-Section-Data\\\\ENDF-B-VIII.0\\\\decay\\\\dec-017_Cl_034m1.endf\"\n",
       " \"C:\\\\Cross-Section-Data\\\\ENDF-B-VIII.0\\\\decay\\\\dec-017_Cl_038m1.endf\"\n",
       " \"C:\\\\Cross-Section-Data\\\\ENDF-B-VIII.0\\\\decay\\\\dec-019_K_038m1.endf\"\n",
       " \"C:\\\\Cross-Section-Data\\\\ENDF-B-VIII.0\\\\decay\\\\dec-021_Sc_042m1.endf\"\n",
       " \"C:\\\\Cross-Section-Data\\\\ENDF-B-VIII.0\\\\decay\\\\dec-021_Sc_044m1.endf\"\n",
       " \"C:\\\\Cross-Section-Data\\\\ENDF-B-VIII.0\\\\decay\\\\dec-021_Sc_045m1.endf\"\n",
       " \"C:\\\\Cross-Section-Data\\\\ENDF-B-VIII.0\\\\decay\\\\dec-021_Sc_046m1.endf\"\n",
       " \"C:\\\\Cross-Section-Data\\\\ENDF-B-VIII.0\\\\decay\\\\dec-021_Sc_050m1.endf\"\n",
       " \"C:\\\\Cross-Section-Data\\\\ENDF-B-VIII.0\\\\decay\\\\dec-023_V_044m1.endf\"\n",
       " \"C:\\\\Cross-Section-Data\\\\ENDF-B-VIII.0\\\\decay\\\\dec-023_V_046m1.endf\"\n",
       " ⋮\n",
       " \"C:\\\\Cross-Section-Data\\\\ENDF-B-VIII.0\\\\decay\\\\dec-103_Lr_255m1.endf\"\n",
       " \"C:\\\\Cross-Section-Data\\\\ENDF-B-VIII.0\\\\decay\\\\dec-104_Rf_257m1.endf\"\n",
       " \"C:\\\\Cross-Section-Data\\\\ENDF-B-VIII.0\\\\decay\\\\dec-104_Rf_261m1.endf\"\n",
       " \"C:\\\\Cross-Section-Data\\\\ENDF-B-VIII.0\\\\decay\\\\dec-105_Db_257m1.endf\"\n",
       " \"C:\\\\Cross-Section-Data\\\\ENDF-B-VIII.0\\\\decay\\\\dec-105_Db_258m1.endf\"\n",
       " \"C:\\\\Cross-Section-Data\\\\ENDF-B-VIII.0\\\\decay\\\\dec-106_Sg_263m1.endf\"\n",
       " \"C:\\\\Cross-Section-Data\\\\ENDF-B-VIII.0\\\\decay\\\\dec-107_Bh_262m1.endf\"\n",
       " \"C:\\\\Cross-Section-Data\\\\ENDF-B-VIII.0\\\\decay\\\\dec-108_Hs_265m1.endf\"\n",
       " \"C:\\\\Cross-Section-Data\\\\ENDF-B-VIII.0\\\\decay\\\\dec-109_Mt_266m1.endf\"\n",
       " \"C:\\\\Cross-Section-Data\\\\ENDF-B-VIII.0\\\\decay\\\\dec-110_Ds_270m1.endf\"\n",
       " \"C:\\\\Cross-Section-Data\\\\ENDF-B-VIII.0\\\\decay\\\\dec-110_Ds_271m1.endf\"\n",
       " \"C:\\\\Cross-Section-Data\\\\ENDF-B-VIII.0\\\\decay\\\\dec-110_Ds_279m1.endf\""
      ]
     },
     "execution_count": 146,
     "metadata": {},
     "output_type": "execute_result"
    }
   ],
   "source": [
    "function get_metastable_file_paths(dir, file_type)\n",
    "    l = length(file_type)\n",
    "    decay_files = [x for x in readdir(dir) \n",
    "                    if length(x) > l && x[end-(l-1):end] == file_type]\n",
    "    metastable_decay_files = [x for x in decay_files if occursin(\"m\", x)]\n",
    "    return [dir * file for file in metastable_decay_files]\n",
    "end\n",
    "function get_metastable_file_paths(dir)\n",
    "    example_path = readdir(dir)[end-1]\n",
    "    file_type_index = collect(findlast(\".\", example_path))[1]\n",
    "    file_type = example_path[file_type_index:end]\n",
    "    return get_metastable_file_paths(dir, file_type)\n",
    "end\n",
    "endf8_metstable_paths = get_metastable_file_paths(endf8_decay_dir)"
   ]
  },
  {
   "cell_type": "code",
   "execution_count": 147,
   "metadata": {},
   "outputs": [
    {
     "data": {
      "text/plain": [
       "971-element Vector{String}:\n",
       " \"C:\\\\Cross-Section-Data\\\\jendl5-dec_upd5\\\\100-Fm-242.dat\"\n",
       " \"C:\\\\Cross-Section-Data\\\\jendl5-dec_upd5\\\\100-Fm-243.dat\"\n",
       " \"C:\\\\Cross-Section-Data\\\\jendl5-dec_upd5\\\\100-Fm-244.dat\"\n",
       " \"C:\\\\Cross-Section-Data\\\\jendl5-dec_upd5\\\\100-Fm-245.dat\"\n",
       " \"C:\\\\Cross-Section-Data\\\\jendl5-dec_upd5\\\\100-Fm-246.dat\"\n",
       " \"C:\\\\Cross-Section-Data\\\\jendl5-dec_upd5\\\\100-Fm-247.dat\"\n",
       " \"C:\\\\Cross-Section-Data\\\\jendl5-dec_upd5\\\\100-Fm-247m1.dat\"\n",
       " \"C:\\\\Cross-Section-Data\\\\jendl5-dec_upd5\\\\100-Fm-248.dat\"\n",
       " \"C:\\\\Cross-Section-Data\\\\jendl5-dec_upd5\\\\100-Fm-249.dat\"\n",
       " \"C:\\\\Cross-Section-Data\\\\jendl5-dec_upd5\\\\100-Fm-250.dat\"\n",
       " \"C:\\\\Cross-Section-Data\\\\jendl5-dec_upd5\\\\100-Fm-250m1.dat\"\n",
       " \"C:\\\\Cross-Section-Data\\\\jendl5-dec_upd5\\\\100-Fm-251.dat\"\n",
       " \"C:\\\\Cross-Section-Data\\\\jendl5-dec_upd5\\\\100-Fm-252.dat\"\n",
       " ⋮\n",
       " \"C:\\\\Cross-Section-Data\\\\jendl5-dec_upd5\\\\96-Cm-245.dat\"\n",
       " \"C:\\\\Cross-Section-Data\\\\jendl5-dec_upd5\\\\96-Cm-246.dat\"\n",
       " \"C:\\\\Cross-Section-Data\\\\jendl5-dec_upd5\\\\96-Cm-247.dat\"\n",
       " \"C:\\\\Cross-Section-Data\\\\jendl5-dec_upd5\\\\96-Cm-248.dat\"\n",
       " \"C:\\\\Cross-Section-Data\\\\jendl5-dec_upd5\\\\96-Cm-249.dat\"\n",
       " \"C:\\\\Cross-Section-Data\\\\jendl5-dec_upd5\\\\96-Cm-250.dat\"\n",
       " \"C:\\\\Cross-Section-Data\\\\jendl5-dec_upd5\\\\96-Cm-251.dat\"\n",
       " \"C:\\\\Cross-Section-Data\\\\jendl5-dec_upd5\\\\97-Bk-248m1.dat\"\n",
       " \"C:\\\\Cross-Section-Data\\\\jendl5-dec_upd5\\\\99-Es-247m1.dat\"\n",
       " \"C:\\\\Cross-Section-Data\\\\jendl5-dec_upd5\\\\99-Es-250m1.dat\"\n",
       " \"C:\\\\Cross-Section-Data\\\\jendl5-dec_upd5\\\\99-Es-254m1.dat\"\n",
       " \"C:\\\\Cross-Section-Data\\\\jendl5-dec_upd5\\\\99-Es-256m1.dat\""
      ]
     },
     "execution_count": 147,
     "metadata": {},
     "output_type": "execute_result"
    }
   ],
   "source": [
    "jendl5_metastable_paths = get_metastable_file_paths(jendl5_decay_dir)"
   ]
  },
  {
   "cell_type": "markdown",
   "metadata": {},
   "source": [
    "This function returns the name of an isotope given its file path in the ENDF8 directory. The last five characters in this directory are \".endf\" and the first 8 characters are: \"dec-\", atomic number, and \"_\". Note that this is note the case in the ENDF-Libraries-2 (that version of ENDF8 decay data is not being used here because it is missing some metastabale isotopes).\n",
    "\n",
    "Additionally, the file names in JENDL5 are not zero-padded, so this function accounts for that."
   ]
  },
  {
   "cell_type": "code",
   "execution_count": 177,
   "metadata": {},
   "outputs": [
    {
     "data": {
      "text/plain": [
       "\"Ds279m1\""
      ]
     },
     "execution_count": 177,
     "metadata": {},
     "output_type": "execute_result"
    }
   ],
   "source": [
    "alphabet = ['A', 'B', 'C', 'D', 'E', 'F', 'G', 'H', 'I', 'J', 'K', 'L', 'M', 'N', 'O',\n",
    "            'P', 'Q', 'R', 'S', 'T', 'U', 'V', 'W', 'X', 'Y', 'Z']\n",
    "function isotope_name(file_path) \n",
    "    file = split(file_path, \"\\\\\")[end]\n",
    "    seperation_characters = ['-', '_']\n",
    "    relevant_indices = [i for i in 1:length(file) \n",
    "                        if !(file[i] in seperation_characters)]\n",
    "    file = file[relevant_indices]\n",
    "    period_index = 1\n",
    "    while file[period_index] != '.' && period_index < length(file)\n",
    "        period_index += 1\n",
    "    end\n",
    "    symbol_index = 2\n",
    "    while !(file[symbol_index] in alphabet) && symbol_index < period_index\n",
    "        symbol_index += 1\n",
    "    end\n",
    "    return split(file[symbol_index:period_index-1], \"dec\")[end]\n",
    "end\n",
    "isotope_name(\"C:\\\\Cross-Section-Data\\\\ENDF-B-VIII.0\\\\decay\\\\dec-110_Ds_279m1.endf\")"
   ]
  },
  {
   "cell_type": "code",
   "execution_count": 178,
   "metadata": {},
   "outputs": [
    {
     "data": {
      "text/plain": [
       "\"Bk248m1\""
      ]
     },
     "execution_count": 178,
     "metadata": {},
     "output_type": "execute_result"
    }
   ],
   "source": [
    "isotope_name(\"C:\\\\Cross-Section-Data\\\\jendl5-dec_upd5\\\\97-Bk-248m1.dat\")"
   ]
  },
  {
   "cell_type": "code",
   "execution_count": 179,
   "metadata": {},
   "outputs": [
    {
     "data": {
      "text/plain": [
       "\"dogcat\""
      ]
     },
     "execution_count": 179,
     "metadata": {},
     "output_type": "execute_result"
    }
   ],
   "source": [
    "join([\"dog\", \"cat\"])"
   ]
  },
  {
   "cell_type": "markdown",
   "metadata": {},
   "source": [
    "Here m_isotope denotes a given metastable isotope. \n",
    "I will make it return the file names of all the ground states of the metastable isotopes in a given directory."
   ]
  },
  {
   "cell_type": "code",
   "execution_count": 188,
   "metadata": {},
   "outputs": [
    {
     "name": "stdout",
     "output_type": "stream",
     "text": [
      "C:\\Cross-Section-Data\\ENDF-B-VIII.0\\decay\\dec-110_Ds_279m1.endf"
     ]
    },
    {
     "data": {
      "text/plain": [
       "\"C:\\\\Cross-Section-Data\\\\ENDF-B-VIII.0\\\\decay\\\\\""
      ]
     },
     "execution_count": 188,
     "metadata": {},
     "output_type": "execute_result"
    }
   ],
   "source": [
    "function ground_state_half_life(m_isotope_file_path)\n",
    "    m_isotope = isotope_name(m_isotope_file_path)\n",
    "    start_of_file_name = length(m_isotope_file_path)-1\n",
    "    while m_isotope_file_path[start_of_file_name] != '\\\\'\n",
    "        start_of_file_name -= 1\n",
    "        if start_of_file_name < 1\n",
    "            return \"Must use full path of file; e.g. dir\\\\file.filetype\"\n",
    "        end\n",
    "    end\n",
    "    dir = m_isotope_file_path[1:start_of_file_name]\n",
    "    file_type_index = collect(findlast(\".\", m_isotope_file_path))[1]\n",
    "    file_type = example_path[file_type_index:end]\n",
    "    ground_state = m_isotope[1:end-2]\n",
    "\n",
    "        padded_atomic_number = lpad(string(atomic_number(ground_state[1:2])), 3, \"0\")\n",
    "        #left pad the atomic number of the given isotope with zeroes\n",
    "        ground_state_file_path = (endf8_decay_dir * \"dec-\" * padded_atomic_number *\n",
    "                                \"_\" * m_isotope[1:2] * \"_\" * m_isotope[3:5] * \".endf\")\n",
    "    if !(ground_state_file_path in readdir(dir))\n",
    "        #need to look in different directory\n",
    "        return \"No data for the ground state in the same directory.\"\n",
    "    end\n",
    "\n",
    "end\n",
    "ground_state_half_life(\"C:\\\\Cross-Section-Data\\\\ENDF-B-VIII.0\\\\decay\\\\dec-110_Ds_279m1.endf\")\n"
   ]
  },
  {
   "cell_type": "code",
   "execution_count": null,
   "metadata": {},
   "outputs": [],
   "source": []
  }
 ],
 "metadata": {
  "kernelspec": {
   "display_name": "Julia 1.7.2",
   "language": "julia",
   "name": "julia-1.7"
  },
  "language_info": {
   "file_extension": ".jl",
   "mimetype": "application/julia",
   "name": "julia",
   "version": "1.7.2"
  },
  "orig_nbformat": 4
 },
 "nbformat": 4,
 "nbformat_minor": 2
}
