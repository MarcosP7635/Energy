{
 "cells": [
  {
   "cell_type": "markdown",
   "metadata": {},
   "source": [
    "Note that any backslashes in this notebook may need to be changed to a forward slash depending on the operating system. This cell sets the name of directories where the data is stored."
   ]
  },
  {
   "cell_type": "code",
   "execution_count": 2,
   "metadata": {},
   "outputs": [
    {
     "data": {
      "text/plain": [
       "\"C:\\\\Cross-Section-Data\\\\jendl5-dec_upd5\\\\\""
      ]
     },
     "execution_count": 2,
     "metadata": {},
     "output_type": "execute_result"
    }
   ],
   "source": [
    "index = collect(findlast(\"\\\\\", pwd()))[end]\n",
    "parent_dir = pwd()[1:index]\n",
    "cross_section_dir = \"C:\\\\Cross-Section-Data\\\\\"\n",
    "import_data_dir = parent_dir * \"ImportedData\\\\\"\n",
    "export_data_dir = parent_dir * \"ExportedData\\\\\"\n",
    "endf8_decay_dir = cross_section_dir * \"ENDF-B-VIII.0\\\\decay\\\\\"\n",
    "jeff33_decay_dir = cross_section_dir * \"ENDF_Libraries-2\\\\JEFF-3.3\\\\decay\\\\\"\n",
    "jendl5_decay_dir = cross_section_dir * \"jendl5-dec_upd5\\\\\""
   ]
  },
  {
   "cell_type": "markdown",
   "metadata": {},
   "source": [
    "Import packages"
   ]
  },
  {
   "cell_type": "code",
   "execution_count": 3,
   "metadata": {},
   "outputs": [
    {
     "data": {
      "application/vnd.webio.node+json": {
       "children": [],
       "instanceArgs": {
        "namespace": "html",
        "tag": "div"
       },
       "nodeType": "DOM",
       "props": {},
       "type": "node"
      },
      "text/html": [
       "<div style=\"padding: 1em; background-color: #f8d6da; border: 1px solid #f5c6cb; font-weight: bold;\">\n",
       "<p>The WebIO Jupyter extension was not detected. See the\n",
       "<a href=\"https://juliagizmos.github.io/WebIO.jl/latest/providers/ijulia/\" target=\"_blank\">\n",
       "    WebIO Jupyter integration documentation\n",
       "</a>\n",
       "for more information.\n",
       "</div>\n"
      ],
      "text/plain": [
       "WebIO._IJuliaInit()"
      ]
     },
     "metadata": {},
     "output_type": "display_data"
    },
    {
     "data": {
      "text/latex": [
       "$\\frac{σ_{R} \\left(1 - e^{- \\frac{A x ρ σ_{T}}{M}}\\right)}{σ_{T}}$"
      ],
      "text/plain": [
       "    ⎛     -A⋅x⋅ρ⋅σ_T ⎞\n",
       "    ⎜     ───────────⎟\n",
       "    ⎜          M     ⎟\n",
       "σ_R⋅⎝1 - ℯ           ⎠\n",
       "──────────────────────\n",
       "         σ_T          "
      ]
     },
     "execution_count": 3,
     "metadata": {},
     "output_type": "execute_result"
    }
   ],
   "source": [
    "using Unitful #https://painterqubits.github.io/Unitful.jl/stable/\n",
    "#quantity * @u_str(\"unit abbreviation\") \n",
    "using Symbolics #https://symbolics.juliasymbolics.org/dev/\n",
    "#cite https://doi.org/10.48550/arXiv.2105.03949\n",
    "using Latexify\n",
    "using Test\n",
    "#1 * @u_str(\"mA\") is 1 milliamp\n",
    "using CSV, DataFrames\n",
    "#using Plots\n",
    "using PlotlyJS\n",
    "using Printf\n",
    "using SymPy #https://docs.juliahub.com/SymPy/ \n",
    "using PDFIO\n",
    "using Unzip\n",
    "using Interpolations\n",
    "using Plots\n",
    "using Downloads\n",
    "#plotlyjs()\n",
    "P, N, x, Σ, σR, σT, ρ, M, A = symbols(\"P, N, x, Σ, σ_R, σ_T, ρ, M, A\", \n",
    "                                        positive = true, real = true)\n",
    "N = ρ * A/ M\n",
    "Σ = N * σT  \n",
    "P = integrate(Σ*exp(-Σ*x), (x, 0, x)) * σR / σT"
   ]
  },
  {
   "cell_type": "markdown",
   "metadata": {},
   "source": [
    "Now I will find the average decay energies for each nuclide. For the datasets I am using, the average decay energies are all given in keV. "
   ]
  },
  {
   "cell_type": "code",
   "execution_count": 51,
   "metadata": {},
   "outputs": [
    {
     "data": {
      "text/plain": [
       "\"248m1Bk\""
      ]
     },
     "execution_count": 51,
     "metadata": {},
     "output_type": "execute_result"
    }
   ],
   "source": [
    "\"248m1Bk\""
   ]
  },
  {
   "cell_type": "code",
   "execution_count": 55,
   "metadata": {},
   "outputs": [
    {
     "data": {
      "text/plain": [
       "(true, false)"
      ]
     },
     "execution_count": 55,
     "metadata": {},
     "output_type": "execute_result"
    }
   ],
   "source": [
    "is_digit(str) = (tryparse(Int64, str) != nothing)\n",
    "is_digit(\"1\"), is_digit(\"a\")"
   ]
  },
  {
   "cell_type": "code",
   "execution_count": 4,
   "metadata": {},
   "outputs": [
    {
     "data": {
      "text/plain": [
       "atomic_number (generic function with 1 method)"
      ]
     },
     "execution_count": 4,
     "metadata": {},
     "output_type": "execute_result"
    }
   ],
   "source": [
    "function get_mass_name(nuclide)\n",
    "    mass_index = 1\n",
    "    while index < length(nuclide)-1 && (\n",
    "            is_digit(nuclide[mass_index]) && ! is_digit(nuclide[mass_index+1]))\n",
    "    end\n",
    "    \n",
    "\n",
    "    mass = tryparse(Int64, nuclide[1:index-1])\n",
    "    name =  nuclide[index:end]\n",
    "    name_1 = uppercase(name[1])\n",
    "    if (length(name) > 1)\n",
    "        name = name_1 * name[2]\n",
    "    else \n",
    "      name = name_1\n",
    "    end\n",
    "    return mass, name\n",
    "end\n",
    "element_symbols = [\"H\", \"He\", \"Li\", \"Be\", \"B\", \"C\", \"N\", \"O\", \"F\", \"Ne\", \n",
    "\"Na\", \"Mg\", \"Al\", \"Si\", \"P\", \"S\", \"Cl\", \"Ar\", \"K\", \"Ca\", \"Sc\", \"Ti\", \"V\", \n",
    "\"Cr\", \"Mn\", \"Fe\", \"Co\", \"Ni\", \"Cu\", \"Zn\", \"Ga\", \"Ge\", \"As\", \"Se\", \"Br\", \n",
    "\"Kr\", \"Rb\", \"Sr\", \"Y\", \"Zr\", \"Nb\", \"Mo\", \"Tc\", \"Ru\", \"Rh\", \"Pd\", \"Ag\", \n",
    "\"Cd\", \"In\", \"Sn\", \"Sb\", \"Te\", \"I\", \"Xe\", \"Cs\", \"Ba\", \"La\", \"Ce\", \"Pr\", \n",
    "\"Nd\", \"Pm\", \"Sm\", \"Eu\", \"Gd\", \"Tb\", \"Dy\", \"Ho\", \"Er\", \"Tm\", \"Yb\", \"Lu\", \n",
    "\"Hf\", \"Ta\", \"W\", \"Re\", \"Os\", \"Ir\", \"Pt\", \"Au\", \"Hg\", \"Tl\", \"Pb\", \"Bi\", \n",
    "\"Po\", \"At\", \"Rn\", \"Fr\", \"Ra\", \"Ac\", \"Th\", \"Pa\", \"U\", \"Np\", \"Pu\", \"Am\", \n",
    "\"Cm\", \"Bk\", \"Cf\", \"Es\", \"Fm\", \"Md\", \"No\", \"Lr\", \"Rf\", \"Db\", \"Sg\", \"Bh\", \n",
    "\"Hs\", \"Mt\", \"Ds\", \"Rg\", \"Cn\", \"Nh\", \"Fl\", \"Mc\", \"Lv\", \"Ts\", \"Og\"];\n",
    "function atomic_number(symbol)\n",
    "    index = 1\n",
    "    while symbol != element_symbols[index]\n",
    "        index += 1\n",
    "        if index > length(element_symbols)\n",
    "            return \"Element not in periodic table\"\n",
    "        end\n",
    "    end\n",
    "    return index \n",
    "end"
   ]
  },
  {
   "cell_type": "markdown",
   "metadata": {},
   "source": [
    "This dictionary stores what strings to look to for in the datasets to find the average energy for each decay type, and for each directory. "
   ]
  },
  {
   "cell_type": "code",
   "execution_count": 5,
   "metadata": {},
   "outputs": [
    {
     "data": {
      "text/plain": [
       "Dict{String, Dict{String, String}} with 3 entries:\n",
       "  \"C:\\\\Cross-Section-Data\\… => Dict(\"auger\"=>\"Mean CE+Auger Energy\", \"beta-plus…\n",
       "  \"C:\\\\Cross-Section-Data\\… => Dict(\"auger\"=>\"MEAN AUGER ELECTRON ENERGY     =\"…\n",
       "  \"C:\\\\Cross-Section-Data\\… => Dict(\"auger\"=>\"Mean CE+Auger Energy:\", \"proton\"=…"
      ]
     },
     "execution_count": 5,
     "metadata": {},
     "output_type": "execute_result"
    }
   ],
   "source": [
    "dir_search_string_dict = Dict([\n",
    "    jeff33_decay_dir => Dict([\"alpha\" => \"ALPHA ENERGY                   =\",\n",
    "    \"beta-minus\" => \"MEAN BETA- ENERGY              =\",\"gamma\" => \"MEAN GAMMA ENERGY              =\", \n",
    "    \"x-ray\" => \"MEAN X-RAY ENERGY              =\", \"auger\" => \"MEAN AUGER ELECTRON ENERGY     =\"\n",
    "    ]),\n",
    "\n",
    "    endf8_decay_dir => Dict([\"alpha\" => \"Mean Alpha Energy:\", \n",
    "    \"beta-minus\" => \"Mean B- Energy:\", \"beta-plus\" => \"Mean B+ Energy:\",\n",
    "    \"gamma\" => \"Mean Gamma Energy:\", \"auger\" => \"Mean CE+Auger Energy:\",\n",
    "    \"neutron\" => \"Mean Neutron Energy:\", \"proton\" => \"Mean Neutron Energy:\",\n",
    "    \"half life\" => \"Parent half-life:\"]),\n",
    "\n",
    "    jendl5_decay_dir => Dict([\"alpha\" => \"Mean Alpha Energy\",\n",
    "    \"beta-minus\" => \"Mean B- Energy\", \"gamma\" => \"Mean Gamma Energy\",\n",
    "    \"neutron\" => \"Mean Neutron Energy\", \"proton\" => \"Mean Proton Energy\",\n",
    "    \"auger\" => \"Mean CE+Auger Energy\", \n",
    "    \"beta-plus and electron capture\" => \"Mean B+/EC Energy\", \"half life\" => \"T1/2:\"])  \n",
    "])"
   ]
  },
  {
   "cell_type": "code",
   "execution_count": 6,
   "metadata": {},
   "outputs": [
    {
     "data": {
      "text/plain": [
       "\".endf\""
      ]
     },
     "execution_count": 6,
     "metadata": {},
     "output_type": "execute_result"
    }
   ],
   "source": [
    "file_type(file) = file[collect(findlast(\".\", file))[1]:end]\n",
    "file_type(\"data.endf\")"
   ]
  },
  {
   "cell_type": "code",
   "execution_count": 7,
   "metadata": {},
   "outputs": [
    {
     "data": {
      "text/plain": [
       "get_decay_energy_from_file (generic function with 1 method)"
      ]
     },
     "execution_count": 7,
     "metadata": {},
     "output_type": "execute_result"
    }
   ],
   "source": [
    "function get_decay_energy_from_file(file_as_arr, search_string)\n",
    "    line = [l for l in file_as_arr if length(l) > length(search_string)\n",
    "             && occursin(search_string, l)]\n",
    "    if (length(line) > 0)\n",
    "        line = String(line[1])\n",
    "        line = join(split(line, search_string, keepempty = false))\n",
    "        return tryparse(Float64, join(split(line, \" \", keepempty = false)[1]))\n",
    "    else \n",
    "        return \"Energy not found\"\n",
    "    end\n",
    "end"
   ]
  },
  {
   "cell_type": "code",
   "execution_count": 8,
   "metadata": {},
   "outputs": [
    {
     "data": {
      "text/plain": [
       "(true, false)"
      ]
     },
     "execution_count": 8,
     "metadata": {},
     "output_type": "execute_result"
    }
   ],
   "source": [
    "is_0_padded(str) = (length(string(parse(Int64, str))) != length(str))\n",
    "is_0_padded(\"011\"), is_0_padded(\"110\")"
   ]
  },
  {
   "cell_type": "markdown",
   "metadata": {},
   "source": [
    "find_decay_info is a function that can retrieve requested information on the decay of a given nuclide in either the JENDL5 or ENDF8 directories."
   ]
  },
  {
   "cell_type": "code",
   "execution_count": 9,
   "metadata": {},
   "outputs": [
    {
     "data": {
      "text/plain": [
       "(101.27, \"y\")"
      ]
     },
     "execution_count": 9,
     "metadata": {},
     "output_type": "execute_result"
    }
   ],
   "source": [
    "alphabet = ['A', 'B', 'C', 'D', 'E', 'F', 'G', 'H', 'I', 'J', 'K', 'L', \n",
    "            'M', 'N', 'O', 'P', 'Q', 'R', 'S', 'T', 'U', 'V', 'W', 'X', \n",
    "            'Y', 'Z', 'a', 'b', 'c', 'd', 'e', 'f', 'g', 'h', 'i', 'j', \n",
    "            'k', 'l', 'm', 'n', 'o', 'p', 'q', 'r', 's', 't', 'u', 'v', \n",
    "            'w', 'x', 'y', 'z']\n",
    "function find_decay_info(nuclide, info, dir)\n",
    "    all_files = Vector(readdir(dir))\n",
    "    a, el = get_mass_name(nuclide)\n",
    "    el = string(el)\n",
    "    z = [i for i in 1:length(element_symbols) if element_symbols[i] == el][1]\n",
    "    seperator = '_'\n",
    "    similar_files = [file for file in all_files \n",
    "                    if occursin(seperator * el * seperator, file)]\n",
    "    if length(similar_files) == 0\n",
    "        seperator = '-'\n",
    "        similar_files = [file for file in all_files \n",
    "                        if occursin(seperator * el * seperator, file)]\n",
    "    end\n",
    "    similar_file = similar_files[1]\n",
    "    first_seperator_index = 1\n",
    "    while (!(similar_file[first_seperator_index] == seperator) \n",
    "            && first_seperator_index < length(similar_file))\n",
    "        first_seperator_index += 1\n",
    "    end\n",
    "    if length(similar_file) == first_seperator_index\n",
    "        seperator = \"\"\n",
    "    end\n",
    "    digits = [similar_file[x] for x in 1:first_seperator_index if similar_file[x] \n",
    "                in ['0', '1', '2', '3', '4', '5', '6', '7', '8', '9']]\n",
    "    if is_0_padded(join(digits))\n",
    "        file_name = (similar_file[1:first_seperator_index] * el * seperator * \n",
    "                    lpad(string(a), 3, \"0\") * file_type(all_files[end-1]))\n",
    "    else\n",
    "        file_name = (similar_file[1:first_seperator_index] * el * seperator * \n",
    "                    string(a) * file_type(all_files[end-1]))\n",
    "    end\n",
    "    if !(file_name in all_files)\n",
    "        return \"insufficient data\"\n",
    "    end\n",
    "    file_path = dir * file_name\n",
    "    file_as_array = split(open(f->read(f, String), file_path), \"\\n\")\n",
    "    search_string = dir_search_string_dict[dir][info]\n",
    "    line = [l for l in file_as_array if length(l) > length(search_string)\n",
    "            && occursin(search_string, l)]\n",
    "    if (length(line) > 0)\n",
    "        line = String(line[1])\n",
    "        line = join(split(line, search_string, keepempty = false))        \n",
    "        if dir == jendl5_decay_dir\n",
    "            unit = split(line, \" \", keepempty = false)[4]\n",
    "        elseif dir == endf8_decay_dir\n",
    "            unit = split(line, \" \", keepempty = false)[2]\n",
    "        end\n",
    "        value = tryparse(Float64, join(split(line, \" \", keepempty = false)[1]))\n",
    "        if value == nothing\n",
    "            return [\"STABLE\", \"STABLE\"]\n",
    "        end\n",
    "        return value, unit\n",
    "    else \n",
    "        return info * \" not found\"\n",
    "    end\n",
    "end\n",
    "find_decay_info(\"63Ni\", \"half life\", jendl5_decay_dir)"
   ]
  },
  {
   "cell_type": "code",
   "execution_count": 10,
   "metadata": {},
   "outputs": [
    {
     "data": {
      "text/plain": [
       "(101.2, \"Y\")"
      ]
     },
     "execution_count": 10,
     "metadata": {},
     "output_type": "execute_result"
    }
   ],
   "source": [
    "find_decay_info(\"63Ni\", \"half life\", endf8_decay_dir)"
   ]
  },
  {
   "cell_type": "markdown",
   "metadata": {},
   "source": [
    "This function is meant for particularly short half lives reported in terms of the decay width. "
   ]
  },
  {
   "cell_type": "code",
   "execution_count": 11,
   "metadata": {},
   "outputs": [
    {
     "data": {
      "text/plain": [
       "1.4308955585889278e-22"
      ]
     },
     "execution_count": 11,
     "metadata": {},
     "output_type": "execute_result"
    }
   ],
   "source": [
    "joules_per_keV = Rational(uconvert(@u_str(\"J\"), 1 * @u_str(\"keV\")) / @u_str(\"J\"))\n",
    "joules_per_MeV = 1000 * joules_per_keV\n",
    "h = 6.62607015 * 10.0^(-34) / (2 * pi)\n",
    "half_life_sec(gamma) = h / (joules_per_MeV * gamma)\n",
    "half_life_sec(4.6)"
   ]
  },
  {
   "cell_type": "markdown",
   "metadata": {},
   "source": [
    "Very short half lives are often reported in terms of gamma. Source: \n",
    "\n",
    "https://www.nndc.bnl.gov/nudat3/help/glossary.jsp#halflife"
   ]
  },
  {
   "cell_type": "code",
   "execution_count": 12,
   "metadata": {},
   "outputs": [
    {
     "data": {
      "text/plain": [
       "(1.4308955585889278e-22, 1.4308955585889278e-22)"
      ]
     },
     "execution_count": 12,
     "metadata": {},
     "output_type": "execute_result"
    }
   ],
   "source": [
    "small_decay_time(nuclide, dir) = half_life_sec(find_decay_info(nuclide, \n",
    "                                        \"half life\", dir)[1])   \n",
    "small_decay_time(\"4H\", endf8_decay_dir), small_decay_time(\"4H\", jendl5_decay_dir)"
   ]
  },
  {
   "cell_type": "code",
   "execution_count": 13,
   "metadata": {},
   "outputs": [
    {
     "data": {
      "text/plain": [
       "Dict{String, String} with 4 entries:\n",
       "  \"A\"  => \"alpha decay\"\n",
       "  \"B+\" => \"beta plus decay\"\n",
       "  \"EC\" => \"auger and conversion electron\"\n",
       "  \"B-\" => \"beta minus decay\""
      ]
     },
     "execution_count": 13,
     "metadata": {},
     "output_type": "execute_result"
    }
   ],
   "source": [
    "decay_or_emission_type_dict = Dict([\n",
    "    \"B-\" =>  \"beta minus decay\", \"A\" =>  \"alpha decay\", \"B+\" =>  \"beta plus decay\",\n",
    "    \"EC\" => \"auger and conversion electron\"\n",
    "])"
   ]
  },
  {
   "cell_type": "code",
   "execution_count": 14,
   "metadata": {},
   "outputs": [
    {
     "data": {
      "text/plain": [
       "906-element Vector{String}:\n",
       " \"C:\\\\Cross-Section-Data\\\\ENDF-B-VIII.0\\\\decay\\\\dec-011_Na_024m1.endf\"\n",
       " \"C:\\\\Cross-Section-Data\\\\ENDF-B-VIII.0\\\\decay\\\\dec-013_Al_024m1.endf\"\n",
       " \"C:\\\\Cross-Section-Data\\\\ENDF-B-VIII.0\\\\decay\\\\dec-013_Al_026m1.endf\"\n",
       " \"C:\\\\Cross-Section-Data\\\\ENDF-B-VIII.0\\\\decay\\\\dec-017_Cl_034m1.endf\"\n",
       " \"C:\\\\Cross-Section-Data\\\\ENDF-B-VIII.0\\\\decay\\\\dec-017_Cl_038m1.endf\"\n",
       " \"C:\\\\Cross-Section-Data\\\\ENDF-B-VIII.0\\\\decay\\\\dec-019_K_038m1.endf\"\n",
       " \"C:\\\\Cross-Section-Data\\\\ENDF-B-VIII.0\\\\decay\\\\dec-021_Sc_042m1.endf\"\n",
       " \"C:\\\\Cross-Section-Data\\\\ENDF-B-VIII.0\\\\decay\\\\dec-021_Sc_044m1.endf\"\n",
       " \"C:\\\\Cross-Section-Data\\\\ENDF-B-VIII.0\\\\decay\\\\dec-021_Sc_045m1.endf\"\n",
       " \"C:\\\\Cross-Section-Data\\\\ENDF-B-VIII.0\\\\decay\\\\dec-021_Sc_046m1.endf\"\n",
       " \"C:\\\\Cross-Section-Data\\\\ENDF-B-VIII.0\\\\decay\\\\dec-021_Sc_050m1.endf\"\n",
       " \"C:\\\\Cross-Section-Data\\\\ENDF-B-VIII.0\\\\decay\\\\dec-023_V_044m1.endf\"\n",
       " \"C:\\\\Cross-Section-Data\\\\ENDF-B-VIII.0\\\\decay\\\\dec-023_V_046m1.endf\"\n",
       " ⋮\n",
       " \"C:\\\\Cross-Section-Data\\\\ENDF-B-VIII.0\\\\decay\\\\dec-103_Lr_255m1.endf\"\n",
       " \"C:\\\\Cross-Section-Data\\\\ENDF-B-VIII.0\\\\decay\\\\dec-104_Rf_257m1.endf\"\n",
       " \"C:\\\\Cross-Section-Data\\\\ENDF-B-VIII.0\\\\decay\\\\dec-104_Rf_261m1.endf\"\n",
       " \"C:\\\\Cross-Section-Data\\\\ENDF-B-VIII.0\\\\decay\\\\dec-105_Db_257m1.endf\"\n",
       " \"C:\\\\Cross-Section-Data\\\\ENDF-B-VIII.0\\\\decay\\\\dec-105_Db_258m1.endf\"\n",
       " \"C:\\\\Cross-Section-Data\\\\ENDF-B-VIII.0\\\\decay\\\\dec-106_Sg_263m1.endf\"\n",
       " \"C:\\\\Cross-Section-Data\\\\ENDF-B-VIII.0\\\\decay\\\\dec-107_Bh_262m1.endf\"\n",
       " \"C:\\\\Cross-Section-Data\\\\ENDF-B-VIII.0\\\\decay\\\\dec-108_Hs_265m1.endf\"\n",
       " \"C:\\\\Cross-Section-Data\\\\ENDF-B-VIII.0\\\\decay\\\\dec-109_Mt_266m1.endf\"\n",
       " \"C:\\\\Cross-Section-Data\\\\ENDF-B-VIII.0\\\\decay\\\\dec-110_Ds_270m1.endf\"\n",
       " \"C:\\\\Cross-Section-Data\\\\ENDF-B-VIII.0\\\\decay\\\\dec-110_Ds_271m1.endf\"\n",
       " \"C:\\\\Cross-Section-Data\\\\ENDF-B-VIII.0\\\\decay\\\\dec-110_Ds_279m1.endf\""
      ]
     },
     "execution_count": 14,
     "metadata": {},
     "output_type": "execute_result"
    }
   ],
   "source": [
    "function get_metastable_file_paths(dir, file_type)\n",
    "    l = length(file_type)\n",
    "    decay_files = [x for x in readdir(dir) \n",
    "                    if length(x) > l && x[end-(l-1):end] == file_type]\n",
    "    metastable_decay_files = [x for x in decay_files if occursin(\"m\", x)]\n",
    "    return [dir * file for file in metastable_decay_files]\n",
    "end\n",
    "function get_metastable_file_paths(dir)\n",
    "    example_path = readdir(dir)[end-1]\n",
    "    file_type_index = collect(findlast(\".\", example_path))[1]\n",
    "    file_type = example_path[file_type_index:end]\n",
    "    return get_metastable_file_paths(dir, file_type)\n",
    "end\n",
    "endf8_metstable_paths = get_metastable_file_paths(endf8_decay_dir)"
   ]
  },
  {
   "cell_type": "code",
   "execution_count": 15,
   "metadata": {},
   "outputs": [
    {
     "data": {
      "text/plain": [
       "971-element Vector{String}:\n",
       " \"C:\\\\Cross-Section-Data\\\\jendl5-dec_upd5\\\\100-Fm-242.dat\"\n",
       " \"C:\\\\Cross-Section-Data\\\\jendl5-dec_upd5\\\\100-Fm-243.dat\"\n",
       " \"C:\\\\Cross-Section-Data\\\\jendl5-dec_upd5\\\\100-Fm-244.dat\"\n",
       " \"C:\\\\Cross-Section-Data\\\\jendl5-dec_upd5\\\\100-Fm-245.dat\"\n",
       " \"C:\\\\Cross-Section-Data\\\\jendl5-dec_upd5\\\\100-Fm-246.dat\"\n",
       " \"C:\\\\Cross-Section-Data\\\\jendl5-dec_upd5\\\\100-Fm-247.dat\"\n",
       " \"C:\\\\Cross-Section-Data\\\\jendl5-dec_upd5\\\\100-Fm-247m1.dat\"\n",
       " \"C:\\\\Cross-Section-Data\\\\jendl5-dec_upd5\\\\100-Fm-248.dat\"\n",
       " \"C:\\\\Cross-Section-Data\\\\jendl5-dec_upd5\\\\100-Fm-249.dat\"\n",
       " \"C:\\\\Cross-Section-Data\\\\jendl5-dec_upd5\\\\100-Fm-250.dat\"\n",
       " \"C:\\\\Cross-Section-Data\\\\jendl5-dec_upd5\\\\100-Fm-250m1.dat\"\n",
       " \"C:\\\\Cross-Section-Data\\\\jendl5-dec_upd5\\\\100-Fm-251.dat\"\n",
       " \"C:\\\\Cross-Section-Data\\\\jendl5-dec_upd5\\\\100-Fm-252.dat\"\n",
       " ⋮\n",
       " \"C:\\\\Cross-Section-Data\\\\jendl5-dec_upd5\\\\96-Cm-245.dat\"\n",
       " \"C:\\\\Cross-Section-Data\\\\jendl5-dec_upd5\\\\96-Cm-246.dat\"\n",
       " \"C:\\\\Cross-Section-Data\\\\jendl5-dec_upd5\\\\96-Cm-247.dat\"\n",
       " \"C:\\\\Cross-Section-Data\\\\jendl5-dec_upd5\\\\96-Cm-248.dat\"\n",
       " \"C:\\\\Cross-Section-Data\\\\jendl5-dec_upd5\\\\96-Cm-249.dat\"\n",
       " \"C:\\\\Cross-Section-Data\\\\jendl5-dec_upd5\\\\96-Cm-250.dat\"\n",
       " \"C:\\\\Cross-Section-Data\\\\jendl5-dec_upd5\\\\96-Cm-251.dat\"\n",
       " \"C:\\\\Cross-Section-Data\\\\jendl5-dec_upd5\\\\97-Bk-248m1.dat\"\n",
       " \"C:\\\\Cross-Section-Data\\\\jendl5-dec_upd5\\\\99-Es-247m1.dat\"\n",
       " \"C:\\\\Cross-Section-Data\\\\jendl5-dec_upd5\\\\99-Es-250m1.dat\"\n",
       " \"C:\\\\Cross-Section-Data\\\\jendl5-dec_upd5\\\\99-Es-254m1.dat\"\n",
       " \"C:\\\\Cross-Section-Data\\\\jendl5-dec_upd5\\\\99-Es-256m1.dat\""
      ]
     },
     "execution_count": 15,
     "metadata": {},
     "output_type": "execute_result"
    }
   ],
   "source": [
    "jendl5_metastable_paths = get_metastable_file_paths(jendl5_decay_dir)"
   ]
  },
  {
   "cell_type": "markdown",
   "metadata": {},
   "source": [
    "This function returns the name of an isotope given its file path in the ENDF8 directory. The last five characters in this directory are \".endf\" and the first 8 characters are: \"dec-\", atomic number, and \"_\". Note that this is note the case in the ENDF-Libraries-2 (that version of ENDF8 decay data is not being used here because it is missing some metastabale isotopes).\n",
    "\n",
    "Additionally, the file names in JENDL5 are not zero-padded, so this function accounts for that."
   ]
  },
  {
   "cell_type": "code",
   "execution_count": 16,
   "metadata": {},
   "outputs": [
    {
     "data": {
      "text/plain": [
       "\"279m1Ds\""
      ]
     },
     "execution_count": 16,
     "metadata": {},
     "output_type": "execute_result"
    }
   ],
   "source": [
    "function isotope_name(file_path) \n",
    "    file = split(file_path, \"\\\\\")[end]\n",
    "    seperation_characters = ['-', '_']\n",
    "    relevant_indices = [i for i in 1:length(file) \n",
    "                        if !(file[i] in seperation_characters)]\n",
    "    file = file[relevant_indices]\n",
    "    period_index = 1\n",
    "    while file[period_index] != '.' && period_index < length(file)\n",
    "        period_index += 1\n",
    "    end\n",
    "    file = string(split(file[1:period_index-1], \"dec\")[end])\n",
    "    symbol_index = 1\n",
    "    while !(file[symbol_index] in alphabet) && symbol_index < length(file)\n",
    "        symbol_index += 1\n",
    "    end\n",
    "    file = file[symbol_index:end]\n",
    "    number_index = 1\n",
    "    while (file[number_index] in alphabet) && number_index < length(file)\n",
    "        number_index += 1\n",
    "    end\n",
    "    return file[number_index:end] * file[1:number_index-1]\n",
    "end\n",
    "isotope_name(\"C:\\\\Cross-Section-Data\\\\ENDF-B-VIII.0\\\\decay\\\\dec-110_Ds_279m1.endf\")"
   ]
  },
  {
   "cell_type": "code",
   "execution_count": 17,
   "metadata": {},
   "outputs": [
    {
     "data": {
      "text/plain": [
       "\"248m1Bk\""
      ]
     },
     "execution_count": 17,
     "metadata": {},
     "output_type": "execute_result"
    }
   ],
   "source": [
    "isotope_name(\"C:\\\\Cross-Section-Data\\\\jendl5-dec_upd5\\\\97-Bk-248m1.dat\")"
   ]
  },
  {
   "cell_type": "markdown",
   "metadata": {},
   "source": [
    "This function will take a vector of strings as an input. Then it will find the strings that containt a given substring. Then it will return those strings without the given substring."
   ]
  },
  {
   "cell_type": "code",
   "execution_count": 18,
   "metadata": {},
   "outputs": [
    {
     "data": {
      "text/plain": [
       "filter_substring (generic function with 1 method)"
      ]
     },
     "execution_count": 18,
     "metadata": {},
     "output_type": "execute_result"
    }
   ],
   "source": [
    "filter_substring(vector_of_strings, substring) = [replace(vector_of_strings[i], substring => \"\") \n",
    "    for i in 1:length(vector_of_strings) if occursin(substring, vector_of_strings[i])]"
   ]
  },
  {
   "cell_type": "markdown",
   "metadata": {},
   "source": [
    "Here m_isotope denotes a given metastable isotope. \n",
    "I will make it return the file names of all the ground states of the metastable isotopes in a given directory."
   ]
  },
  {
   "cell_type": "code",
   "execution_count": 19,
   "metadata": {},
   "outputs": [
    {
     "data": {
      "text/plain": [
       "737-element Vector{String}:\n",
       " \"C:\\\\Cross-Section-Data\\\\ENDF-B-VIII.0\\\\decay\\\\dec-011_Na_024.endf\"\n",
       " \"C:\\\\Cross-Section-Data\\\\ENDF-B-VIII.0\\\\decay\\\\dec-013_Al_024.endf\"\n",
       " \"C:\\\\Cross-Section-Data\\\\ENDF-B-VIII.0\\\\decay\\\\dec-013_Al_026.endf\"\n",
       " \"C:\\\\Cross-Section-Data\\\\ENDF-B-VIII.0\\\\decay\\\\dec-017_Cl_034.endf\"\n",
       " \"C:\\\\Cross-Section-Data\\\\ENDF-B-VIII.0\\\\decay\\\\dec-017_Cl_038.endf\"\n",
       " \"C:\\\\Cross-Section-Data\\\\ENDF-B-VIII.0\\\\decay\\\\dec-019_K_038.endf\"\n",
       " \"C:\\\\Cross-Section-Data\\\\ENDF-B-VIII.0\\\\decay\\\\dec-021_Sc_042.endf\"\n",
       " \"C:\\\\Cross-Section-Data\\\\ENDF-B-VIII.0\\\\decay\\\\dec-021_Sc_044.endf\"\n",
       " \"C:\\\\Cross-Section-Data\\\\ENDF-B-VIII.0\\\\decay\\\\dec-021_Sc_045.endf\"\n",
       " \"C:\\\\Cross-Section-Data\\\\ENDF-B-VIII.0\\\\decay\\\\dec-021_Sc_046.endf\"\n",
       " \"C:\\\\Cross-Section-Data\\\\ENDF-B-VIII.0\\\\decay\\\\dec-021_Sc_050.endf\"\n",
       " \"C:\\\\Cross-Section-Data\\\\ENDF-B-VIII.0\\\\decay\\\\dec-023_V_044.endf\"\n",
       " \"C:\\\\Cross-Section-Data\\\\ENDF-B-VIII.0\\\\decay\\\\dec-023_V_046.endf\"\n",
       " ⋮\n",
       " \"C:\\\\Cross-Section-Data\\\\ENDF-B-VIII.0\\\\decay\\\\dec-083_Bi_196.endf\"\n",
       " \"C:\\\\Cross-Section-Data\\\\ENDF-B-VIII.0\\\\decay\\\\dec-083_Bi_198.endf\"\n",
       " \"C:\\\\Cross-Section-Data\\\\ENDF-B-VIII.0\\\\decay\\\\dec-083_Bi_200.endf\"\n",
       " \"C:\\\\Cross-Section-Data\\\\ENDF-B-VIII.0\\\\decay\\\\dec-083_Bi_204.endf\"\n",
       " \"C:\\\\Cross-Section-Data\\\\ENDF-B-VIII.0\\\\decay\\\\dec-083_Bi_212.endf\"\n",
       " \"C:\\\\Cross-Section-Data\\\\ENDF-B-VIII.0\\\\decay\\\\dec-084_Po_205.endf\"\n",
       " \"C:\\\\Cross-Section-Data\\\\ENDF-B-VIII.0\\\\decay\\\\dec-085_At_200.endf\"\n",
       " \"C:\\\\Cross-Section-Data\\\\ENDF-B-VIII.0\\\\decay\\\\dec-085_At_202.endf\"\n",
       " \"C:\\\\Cross-Section-Data\\\\ENDF-B-VIII.0\\\\decay\\\\dec-087_Fr_204.endf\"\n",
       " \"C:\\\\Cross-Section-Data\\\\ENDF-B-VIII.0\\\\decay\\\\dec-087_Fr_206.endf\"\n",
       " \"C:\\\\Cross-Section-Data\\\\ENDF-B-VIII.0\\\\decay\\\\dec-095_Am_242.endf\"\n",
       " \"C:\\\\Cross-Section-Data\\\\ENDF-B-VIII.0\\\\decay\\\\dec-047_Ag_095.endf\""
      ]
     },
     "execution_count": 19,
     "metadata": {},
     "output_type": "execute_result"
    }
   ],
   "source": [
    "function ground_state_files(dir)\n",
    "    all_files = Vector(readdir(dir))\n",
    "    example_path = all_files[end-1] \n",
    "    file_type_index = collect(findlast(\".\", example_path))[1]  \n",
    "    file_type = example_path[file_type_index:end]\n",
    "    l = length(file_type)\n",
    "    file_paths = [file_path for file_path in all_files\n",
    "                    if length(file_path) > l && file_path[end-(l-1):end] == file_type]\n",
    "    files = [filter_substring(file_paths, \"m1\"); filter_substring(file_paths, \"m2\");\n",
    "            filter_substring(file_paths, \"m3\");]\n",
    "    return [dir * file for file in files if file in all_files]\n",
    "    end\n",
    "ground_state_files_endf8 = ground_state_files(endf8_decay_dir)"
   ]
  },
  {
   "cell_type": "code",
   "execution_count": 20,
   "metadata": {},
   "outputs": [
    {
     "name": "stdout",
     "output_type": "stream",
     "text": [
      "C:\\Cross-Section-Data\\ENDF-B-VIII.0\\decay\\dec-021_Sc_045.endf"
     ]
    }
   ],
   "source": [
    "print(\"C:\\\\Cross-Section-Data\\\\ENDF-B-VIII.0\\\\decay\\\\dec-021_Sc_045.endf\")\n"
   ]
  },
  {
   "cell_type": "code",
   "execution_count": 21,
   "metadata": {},
   "outputs": [
    {
     "data": {
      "text/plain": [
       "797-element Vector{String}:\n",
       " \"C:\\\\Cross-Section-Data\\\\jendl5-dec_upd5\\\\100-Fm-247.dat\"\n",
       " \"C:\\\\Cross-Section-Data\\\\jendl5-dec_upd5\\\\100-Fm-250.dat\"\n",
       " \"C:\\\\Cross-Section-Data\\\\jendl5-dec_upd5\\\\101-Md-245.dat\"\n",
       " \"C:\\\\Cross-Section-Data\\\\jendl5-dec_upd5\\\\101-Md-247.dat\"\n",
       " \"C:\\\\Cross-Section-Data\\\\jendl5-dec_upd5\\\\101-Md-249.dat\"\n",
       " \"C:\\\\Cross-Section-Data\\\\jendl5-dec_upd5\\\\101-Md-254.dat\"\n",
       " \"C:\\\\Cross-Section-Data\\\\jendl5-dec_upd5\\\\101-Md-258.dat\"\n",
       " \"C:\\\\Cross-Section-Data\\\\jendl5-dec_upd5\\\\102-No-251.dat\"\n",
       " \"C:\\\\Cross-Section-Data\\\\jendl5-dec_upd5\\\\102-No-254.dat\"\n",
       " \"C:\\\\Cross-Section-Data\\\\jendl5-dec_upd5\\\\103-Lr-253.dat\"\n",
       " \"C:\\\\Cross-Section-Data\\\\jendl5-dec_upd5\\\\103-Lr-255.dat\"\n",
       " \"C:\\\\Cross-Section-Data\\\\jendl5-dec_upd5\\\\104-Rf-257.dat\"\n",
       " \"C:\\\\Cross-Section-Data\\\\jendl5-dec_upd5\\\\104-Rf-261.dat\"\n",
       " ⋮\n",
       " \"C:\\\\Cross-Section-Data\\\\jendl5-dec_upd5\\\\83-Bi-200.dat\"\n",
       " \"C:\\\\Cross-Section-Data\\\\jendl5-dec_upd5\\\\83-Bi-204.dat\"\n",
       " \"C:\\\\Cross-Section-Data\\\\jendl5-dec_upd5\\\\83-Bi-212.dat\"\n",
       " \"C:\\\\Cross-Section-Data\\\\jendl5-dec_upd5\\\\84-Po-205.dat\"\n",
       " \"C:\\\\Cross-Section-Data\\\\jendl5-dec_upd5\\\\85-At-193.dat\"\n",
       " \"C:\\\\Cross-Section-Data\\\\jendl5-dec_upd5\\\\85-At-200.dat\"\n",
       " \"C:\\\\Cross-Section-Data\\\\jendl5-dec_upd5\\\\85-At-202.dat\"\n",
       " \"C:\\\\Cross-Section-Data\\\\jendl5-dec_upd5\\\\87-Fr-204.dat\"\n",
       " \"C:\\\\Cross-Section-Data\\\\jendl5-dec_upd5\\\\87-Fr-206.dat\"\n",
       " \"C:\\\\Cross-Section-Data\\\\jendl5-dec_upd5\\\\95-Am-242.dat\"\n",
       " \"C:\\\\Cross-Section-Data\\\\jendl5-dec_upd5\\\\47-Ag-95.dat\"\n",
       " \"C:\\\\Cross-Section-Data\\\\jendl5-dec_upd5\\\\49-In-129.dat\""
      ]
     },
     "execution_count": 21,
     "metadata": {},
     "output_type": "execute_result"
    }
   ],
   "source": [
    "ground_state_files_jendl5 = ground_state_files(jendl5_decay_dir)"
   ]
  },
  {
   "cell_type": "markdown",
   "metadata": {},
   "source": [
    "Now we find the half liives of the ground states"
   ]
  },
  {
   "cell_type": "code",
   "execution_count": 22,
   "metadata": {},
   "outputs": [
    {
     "data": {
      "text/plain": [
       "737-element Vector{Any}:\n",
       " (14.997, \"H\")\n",
       " (2.053, \"S\")\n",
       " (717000.0, \"Y\")\n",
       " (1.5264, \"S\")\n",
       " (37.23, \"M\")\n",
       " (7.636, \"M\")\n",
       " (680.8, \"MS\")\n",
       " (3.97, \"H\")\n",
       " [\"STABLE\", \"STABLE\"]\n",
       " (83.79, \"D\")\n",
       " (102.5, \"S\")\n",
       " (111.0, \"MS\")\n",
       " (422.5, \"MS\")\n",
       " ⋮\n",
       " (308.0, \"S\")\n",
       " (10.3, \"M\")\n",
       " (36.4, \"M\")\n",
       " (11.22, \"H\")\n",
       " (60.55, \"M\")\n",
       " (1.74, \"H\")\n",
       " (43.0, \"S\")\n",
       " (184.0, \"S\")\n",
       " (1.7, \"S\")\n",
       " (16.0, \"S\")\n",
       " (16.02, \"H\")\n",
       " (2.0, \"S\")"
      ]
     },
     "execution_count": 22,
     "metadata": {},
     "output_type": "execute_result"
    }
   ],
   "source": [
    "function ground_state_half_lives(dir)\n",
    "    ground_state_file_paths = ground_state_files(dir)\n",
    "    half_life_with_units = [find_decay_info(isotope_name(file), \"half life\", dir) \n",
    "                            for file in ground_state_file_paths]\n",
    "    return half_life_with_units\n",
    "end\n",
    "ground_state_half_lives_endf8 = ground_state_half_lives(endf8_decay_dir)"
   ]
  },
  {
   "cell_type": "code",
   "execution_count": 23,
   "metadata": {},
   "outputs": [
    {
     "data": {
      "text/plain": [
       "9-element Vector{AbstractString}:\n",
       " \"H\"\n",
       " \"S\"\n",
       " \"Y\"\n",
       " \"M\"\n",
       " \"MS\"\n",
       " \"STABLE\"\n",
       " \"D\"\n",
       " \"US\"\n",
       " \"ms\""
      ]
     },
     "execution_count": 23,
     "metadata": {},
     "output_type": "execute_result"
    }
   ],
   "source": [
    "units = [x[2] for x in ground_state_half_lives_endf8]\n",
    "unique(units)"
   ]
  },
  {
   "cell_type": "code",
   "execution_count": 24,
   "metadata": {},
   "outputs": [
    {
     "name": "stdout",
     "output_type": "stream",
     "text": [
      "C:\\Cross-Section-Data\\ENDF-B-VIII.0\\decay\\dec-079_Au_170.endf\n",
      "C:\\Cross-Section-Data\\ENDF-B-VIII.0\\decay\\dec-079_Au_171.endf\n",
      "C:\\Cross-Section-Data\\ENDF-B-VIII.0\\decay\\dec-084_Po_212.endf\n",
      "C:\\Cross-Section-Data\\ENDF-B-VIII.0\\decay\\dec-089_Ac_216.endf\n"
     ]
    }
   ],
   "source": [
    "for i in 1:length(units) \n",
    "    if units[i] == \"US\"\n",
    "        println(ground_state_files_endf8[i])\n",
    "    end\n",
    "end"
   ]
  },
  {
   "cell_type": "code",
   "execution_count": 25,
   "metadata": {},
   "outputs": [
    {
     "data": {
      "text/plain": [
       "797-element Vector{Any}:\n",
       " (31.0, \"s\")\n",
       " (30.0, \"m\")\n",
       " \"half life not found\"\n",
       " (1.2, \"s\")\n",
       " (23.8, \"s\")\n",
       " (10.0, \"m\")\n",
       " (51.5, \"d\")\n",
       " (0.8, \"s\")\n",
       " (51.0, \"s\")\n",
       " (0.64, \"s\")\n",
       " (31.1, \"s\")\n",
       " (4.4, \"s\")\n",
       " (70.0, \"s\")\n",
       " ⋮\n",
       " (36.4, \"m\")\n",
       " (11.22, \"h\")\n",
       " (1.01, \"h\")\n",
       " (1.74, \"h\")\n",
       " (28.0, \"ms\")\n",
       " (43.0, \"s\")\n",
       " (184.0, \"s\")\n",
       " (1.9, \"s\")\n",
       " (16.0, \"s\")\n",
       " (16.02, \"h\")\n",
       " (1.74, \"s\")\n",
       " (0.609, \"s\")"
      ]
     },
     "execution_count": 25,
     "metadata": {},
     "output_type": "execute_result"
    }
   ],
   "source": [
    "ground_state_half_lives_jendl5 = ground_state_half_lives(jendl5_decay_dir)"
   ]
  },
  {
   "cell_type": "code",
   "execution_count": 26,
   "metadata": {},
   "outputs": [
    {
     "data": {
      "text/plain": [
       "7-element Vector{Any}:\n",
       " \"s\"\n",
       " \"m\"\n",
       " 'a': ASCII/Unicode U+0061 (category Ll: Letter, lowercase)\n",
       " \"d\"\n",
       " \"ms\"\n",
       " \"h\"\n",
       " \"y\""
      ]
     },
     "execution_count": 26,
     "metadata": {},
     "output_type": "execute_result"
    }
   ],
   "source": [
    "units = [x[2] for x in ground_state_half_lives_jendl5]\n",
    "unique(units)"
   ]
  },
  {
   "cell_type": "code",
   "execution_count": 27,
   "metadata": {},
   "outputs": [
    {
     "name": "stdout",
     "output_type": "stream",
     "text": [
      "C:\\Cross-Section-Data\\jendl5-dec_upd5\\101-Md-245.dat\n",
      "C:\\Cross-Section-Data\\jendl5-dec_upd5\\21-Sc-45.dat\n",
      "C:\\Cross-Section-Data\\jendl5-dec_upd5\\32-Ge-73.dat\n",
      "C:\\Cross-Section-Data\\jendl5-dec_upd5\\33-As-75.dat\n",
      "C:\\Cross-Section-Data\\jendl5-dec_upd5\\34-Se-77.dat\n",
      "C:\\Cross-Section-Data\\jendl5-dec_upd5\\35-Br-79.dat\n",
      "C:\\Cross-Section-Data\\jendl5-dec_upd5\\36-Kr-83.dat\n",
      "C:\\Cross-Section-Data\\jendl5-dec_upd5\\38-Sr-87.dat\n",
      "C:\\Cross-Section-Data\\jendl5-dec_upd5\\39-Y-89.dat\n",
      "C:\\Cross-Section-Data\\jendl5-dec_upd5\\40-Zr-90.dat\n",
      "C:\\Cross-Section-Data\\jendl5-dec_upd5\\41-Nb-93.dat\n",
      "C:\\Cross-Section-Data\\jendl5-dec_upd5\\45-Rh-103.dat\n",
      "C:\\Cross-Section-Data\\jendl5-dec_upd5\\45-Rh-90.dat\n",
      "C:\\Cross-Section-Data\\jendl5-dec_upd5\\46-Pd-95.dat\n",
      "C:\\Cross-Section-Data\\jendl5-dec_upd5\\47-Ag-107.dat\n",
      "C:\\Cross-Section-Data\\jendl5-dec_upd5\\47-Ag-109.dat\n",
      "C:\\Cross-Section-Data\\jendl5-dec_upd5\\47-Ag-94.dat\n",
      "C:\\Cross-Section-Data\\jendl5-dec_upd5\\48-Cd-111.dat\n",
      "C:\\Cross-Section-Data\\jendl5-dec_upd5\\49-In-113.dat\n",
      "C:\\Cross-Section-Data\\jendl5-dec_upd5\\49-In-98.dat\n",
      "C:\\Cross-Section-Data\\jendl5-dec_upd5\\50-Sn-117.dat\n",
      "C:\\Cross-Section-Data\\jendl5-dec_upd5\\50-Sn-119.dat\n",
      "C:\\Cross-Section-Data\\jendl5-dec_upd5\\51-Sb-132.dat\n",
      "C:\\Cross-Section-Data\\jendl5-dec_upd5\\52-Te-125.dat\n",
      "C:\\Cross-Section-Data\\jendl5-dec_upd5\\54-Xe-129.dat\n",
      "C:\\Cross-Section-Data\\jendl5-dec_upd5\\54-Xe-131.dat\n",
      "C:\\Cross-Section-Data\\jendl5-dec_upd5\\54-Xe-132.dat\n",
      "C:\\Cross-Section-Data\\jendl5-dec_upd5\\55-Cs-120.dat\n",
      "C:\\Cross-Section-Data\\jendl5-dec_upd5\\56-Ba-130.dat\n",
      "C:\\Cross-Section-Data\\jendl5-dec_upd5\\56-Ba-135.dat\n",
      "C:\\Cross-Section-Data\\jendl5-dec_upd5\\56-Ba-136.dat\n",
      "C:\\Cross-Section-Data\\jendl5-dec_upd5\\56-Ba-137.dat\n",
      "C:\\Cross-Section-Data\\jendl5-dec_upd5\\57-La-117.dat\n",
      "C:\\Cross-Section-Data\\jendl5-dec_upd5\\64-Gd-155.dat\n",
      "C:\\Cross-Section-Data\\jendl5-dec_upd5\\68-Er-167.dat\n",
      "C:\\Cross-Section-Data\\jendl5-dec_upd5\\70-Yb-171.dat\n",
      "C:\\Cross-Section-Data\\jendl5-dec_upd5\\70-Yb-176.dat\n",
      "C:\\Cross-Section-Data\\jendl5-dec_upd5\\71-Lu-154.dat\n",
      "C:\\Cross-Section-Data\\jendl5-dec_upd5\\72-Hf-177.dat\n",
      "C:\\Cross-Section-Data\\jendl5-dec_upd5\\72-Hf-178.dat\n",
      "C:\\Cross-Section-Data\\jendl5-dec_upd5\\72-Hf-179.dat\n",
      "C:\\Cross-Section-Data\\jendl5-dec_upd5\\72-Hf-180.dat\n",
      "C:\\Cross-Section-Data\\jendl5-dec_upd5\\73-Ta-161.dat\n",
      "C:\\Cross-Section-Data\\jendl5-dec_upd5\\74-W-186.dat\n",
      "C:\\Cross-Section-Data\\jendl5-dec_upd5\\76-Os-189.dat\n",
      "C:\\Cross-Section-Data\\jendl5-dec_upd5\\76-Os-190.dat\n",
      "C:\\Cross-Section-Data\\jendl5-dec_upd5\\76-Os-192.dat\n",
      "C:\\Cross-Section-Data\\jendl5-dec_upd5\\77-Ir-164.dat\n",
      "C:\\Cross-Section-Data\\jendl5-dec_upd5\\77-Ir-165.dat\n",
      "C:\\Cross-Section-Data\\jendl5-dec_upd5\\77-Ir-171.dat\n",
      "C:\\Cross-Section-Data\\jendl5-dec_upd5\\77-Ir-191.dat\n",
      "C:\\Cross-Section-Data\\jendl5-dec_upd5\\77-Ir-193.dat\n",
      "C:\\Cross-Section-Data\\jendl5-dec_upd5\\78-Pt-195.dat\n",
      "C:\\Cross-Section-Data\\jendl5-dec_upd5\\79-Au-197.dat\n",
      "C:\\Cross-Section-Data\\jendl5-dec_upd5\\80-Hg-199.dat\n",
      "C:\\Cross-Section-Data\\jendl5-dec_upd5\\81-Tl-185.dat\n",
      "C:\\Cross-Section-Data\\jendl5-dec_upd5\\81-Tl-191.dat\n",
      "C:\\Cross-Section-Data\\jendl5-dec_upd5\\82-Pb-193.dat\n",
      "C:\\Cross-Section-Data\\jendl5-dec_upd5\\82-Pb-204.dat\n",
      "C:\\Cross-Section-Data\\jendl5-dec_upd5\\82-Pb-207.dat\n",
      "C:\\Cross-Section-Data\\jendl5-dec_upd5\\47-Ag-94.dat\n",
      "C:\\Cross-Section-Data\\jendl5-dec_upd5\\72-Hf-177.dat\n",
      "C:\\Cross-Section-Data\\jendl5-dec_upd5\\72-Hf-178.dat\n",
      "C:\\Cross-Section-Data\\jendl5-dec_upd5\\72-Hf-179.dat\n",
      "C:\\Cross-Section-Data\\jendl5-dec_upd5\\77-Ir-191.dat\n"
     ]
    }
   ],
   "source": [
    "for i in 1:length(units) \n",
    "    if units[i] == 'a'\n",
    "        println(ground_state_files_jendl5[i])\n",
    "    end\n",
    "end"
   ]
  },
  {
   "cell_type": "markdown",
   "metadata": {},
   "source": [
    "I think all of the above files are in ENDF8. "
   ]
  },
  {
   "cell_type": "code",
   "execution_count": 28,
   "metadata": {},
   "outputs": [
    {
     "data": {
      "text/plain": [
       "\"C:\\\\Cross-Section-Data\\\\ENDF-B-VIII.0\\\\decay\\\\\""
      ]
     },
     "execution_count": 28,
     "metadata": {},
     "output_type": "execute_result"
    }
   ],
   "source": [
    "endf8_decay_dir"
   ]
  },
  {
   "cell_type": "markdown",
   "metadata": {},
   "source": [
    "C:\\\\Cross-Section-Data\\\\ENDF-B-VIII.0\\\\decay\\\\dec-083_Bi_196.endf"
   ]
  },
  {
   "cell_type": "code",
   "execution_count": 29,
   "metadata": {},
   "outputs": [
    {
     "data": {
      "text/plain": [
       "half_life_sec (generic function with 2 methods)"
      ]
     },
     "execution_count": 29,
     "metadata": {},
     "output_type": "execute_result"
    }
   ],
   "source": [
    "time_unit = Dict([\"Y\" => 365.25 * 24 * 3600, \"y\" => 365.25 * 24 * 3600, \n",
    "    \"m\" => 60, \"M\" => 60, \"h\" => 3600, \"H\" => 3600, \"US\" => .000001, \n",
    "    \"D\" => 24 * 3600, \"d\" => 24 * 3600, \"s\" => 1, \"S\" => 1, \"MS\" => .001,\n",
    "    \"ms\" => .001])\n",
    "half_life_sec(value, unit) = value * time_unit[unit]"
   ]
  },
  {
   "cell_type": "code",
   "execution_count": 30,
   "metadata": {},
   "outputs": [
    {
     "data": {
      "text/plain": [
       "Dict{Any, Any} with 717 entries:\n",
       "  \"113Sn\" => 9.94378e6\n",
       "  \"167Re\" => 3.4\n",
       "  \"174Ir\" => 7.9\n",
       "  \"90Rh\"  => 0.012\n",
       "  \"118In\" => 5.0\n",
       "  \"188Bi\" => 0.265\n",
       "  \"129La\" => 696.0\n",
       "  \"87Zr\"  => 6048.0\n",
       "  \"108In\" => 3480.0\n",
       "  \"143Gd\" => 39.0\n",
       "  \"189Bi\" => 0.674\n",
       "  \"129Cd\" => 0.151\n",
       "  \"102Nb\" => 4.3\n",
       "  \"254Es\" => 2.38205e7\n",
       "  \"189Au\" => 1722.0\n",
       "  \"151Tb\" => 63396.0\n",
       "  \"129Nd\" => 6.7\n",
       "  \"138Pm\" => 10.0\n",
       "  \"76Br\"  => 58320.0\n",
       "  \"242Np\" => 132.0\n",
       "  \"113Ru\" => 0.8\n",
       "  \"194Ir\" => 69408.0\n",
       "  \"136Ba\" => \"STABLE\"\n",
       "  \"185Au\" => 255.0\n",
       "  \"146Tm\" => 0.068\n",
       "  ⋮       => ⋮"
      ]
     },
     "execution_count": 30,
     "metadata": {},
     "output_type": "execute_result"
    }
   ],
   "source": [
    "ground_state_info_dict = Dict([])\n",
    "for i in 1:length(ground_state_files_jendl5)\n",
    "    isotope = isotope_name(ground_state_files_jendl5[i])\n",
    "    if ground_state_half_lives_jendl5[i][2] == 'a'\n",
    "        a, el = get_mass_name(isotope)\n",
    "        singular_half_life_with_unit = find_decay_info(isotope, \"half life\", endf8_decay_dir)\n",
    "        if singular_half_life_with_unit[1] == \"STABLE\" \n",
    "            ground_state_info_dict[isotope] = \"STABLE\"\n",
    "        else\n",
    "            ground_state_info_dict[isotope] = half_life_sec(\n",
    "                singular_half_life_with_unit[1], singular_half_life_with_unit[2])\n",
    "        end\n",
    "    else\n",
    "        if ground_state_half_lives_jendl5[i][1] == \"STABLE\"\n",
    "            ground_state_info_dict[isotope] = \"STABLE\"\n",
    "        else\n",
    "            ground_state_info_dict[isotope] = half_life_sec(\n",
    "                ground_state_half_lives_jendl5[i][1], ground_state_half_lives_jendl5[i][2])\n",
    "        end\n",
    "    end\n",
    "end\n",
    "ground_state_info_dict\n",
    "    "
   ]
  },
  {
   "cell_type": "code",
   "execution_count": 31,
   "metadata": {},
   "outputs": [],
   "source": [
    "ground_state_half_lives_dict = Dict([])\n",
    "stable_ground_states, unstable_ground_states, half_lives = [], [], Float64[]\n",
    "for key in keys(ground_state_info_dict)\n",
    "    if ground_state_info_dict[key] != \"STABLE\" \n",
    "        push!(unstable_ground_states, key)\n",
    "        push!(half_lives, ground_state_info_dict[key])\n",
    "    else\n",
    "        push!(stable_ground_states, key)\n",
    "    end\n",
    "end"
   ]
  },
  {
   "cell_type": "code",
   "execution_count": 32,
   "metadata": {},
   "outputs": [
    {
     "data": {
      "application/vnd.plotly.v1+json": {
       "config": {
        "editable": false,
        "responsive": true,
        "scrollZoom": true,
        "showLink": false,
        "staticPlot": false
       },
       "data": [
        {
         "mode": "markers",
         "text": [
          "113Sn",
          "167Re",
          "174Ir",
          "90Rh",
          "118In",
          "188Bi",
          "129La",
          "87Zr",
          "108In",
          "143Gd",
          "189Bi",
          "129Cd",
          "102Nb",
          "254Es",
          "189Au",
          "151Tb",
          "129Nd",
          "138Pm",
          "76Br",
          "242Np",
          "113Ru",
          "194Ir",
          "185Au",
          "146Tm",
          "193Au",
          "93Tc",
          "133Ce",
          "249Md",
          "192Ir",
          "152Eu",
          "139Pm",
          "169Re",
          "187Pb",
          "133Nd",
          "167Lu",
          "130Sn",
          "97Nb",
          "216Bi",
          "162Re",
          "179Tl",
          "169Lu",
          "129Sb",
          "96Rh",
          "174Au",
          "147Er",
          "79Ge",
          "82Br",
          "138Ce",
          "201Pb",
          "124La",
          "134Sb",
          "135Pm",
          "183W",
          "262Bh",
          "197Po",
          "121In",
          "130In",
          "61Zn",
          "119In",
          "85Nb",
          "150Tm",
          "84Y",
          "127Te",
          "133I",
          "54Co",
          "113Pd",
          "186Re",
          "96Y",
          "197Tl",
          "156Ta",
          "183Pb",
          "165Ir",
          "108Rh",
          "123Cs",
          "129In",
          "106Ag",
          "207Tl",
          "68Cu",
          "136Pm",
          "103Ag",
          "198At",
          "116Sb",
          "123Sn",
          "155Lu",
          "127Xe",
          "216Ac",
          "257Db",
          "152Tm",
          "98Rb",
          "80Br",
          "195Po",
          "146La",
          "190Bi",
          "129Te",
          "134Xe",
          "142Pr",
          "125Xe",
          "141Tb",
          "244Am",
          "144Pr",
          "178Ta",
          "162Ho",
          "99Rh",
          "100Ag",
          "179Lu",
          "192Bi",
          "236Np",
          "190Au",
          "119Te",
          "188Ta",
          "140Eu",
          "202Pb",
          "198Au",
          "271Ds",
          "190Re",
          "88Tc",
          "132Sb",
          "171Ir",
          "114I",
          "191Tl",
          "128Sn",
          "141Gd",
          "210Bi",
          "50Mn",
          "103In",
          "160Tm",
          "256Es",
          "160Ta",
          "171Hf",
          "148Pm",
          "88Nb",
          "136I",
          "197Ir",
          "79Se",
          "265Sg",
          "71Zn",
          "179W",
          "115In",
          "183Os",
          "96Ag",
          "198Bi",
          "120Cs",
          "129Ba",
          "246Am",
          "116Rh",
          "172Ir",
          "90Nb",
          "84Rb",
          "203Pb",
          "189Tl",
          "194Tl",
          "197Pt",
          "199Fr",
          "193Tl",
          "169Ir",
          "187Ir",
          "153Ho",
          "195Rn",
          "218U",
          "185Ta",
          "202Pt",
          "188Ir",
          "85Zr",
          "94Nb",
          "166Ir",
          "26Al",
          "184Re",
          "199Bi",
          "120In",
          "94Tc",
          "73Se",
          "160Ho",
          "184Au",
          "194At",
          "191Hg",
          "70Cu",
          "85Y",
          "204Fr",
          "235U",
          "153Sm",
          "191Au",
          "82As",
          "71Ni",
          "184Pt",
          "161Ta",
          "201Bi",
          "244Cm",
          "142Eu",
          "58Mn",
          "68Ni",
          "130Sb",
          "176Lu",
          "155Tm",
          "124In",
          "197Hg",
          "143Dy",
          "180Ta",
          "212Bi",
          "159Ho",
          "151Ho",
          "265Hs",
          "200Tl",
          "156Tb",
          "177Yb",
          "81Se",
          "250Fm",
          "42Sc",
          "95Ag",
          "185Pt",
          "138Pr",
          "117Te",
          "77Zn",
          "86Tc",
          "196Ir",
          "247Es",
          "118I",
          "131Te",
          "250Es",
          "79Kr",
          "94Rh",
          "162Lu",
          "180W",
          "103Ru",
          "154Lu",
          "116In",
          "100Nb",
          "158W",
          "50Sc",
          "203Rn",
          "34Cl",
          "164Re",
          "183Re",
          "91Tc",
          "201Tl",
          "172Re",
          "74Br",
          "190W",
          "185W",
          "130Cs",
          "95Pd",
          "131Ba",
          "247Md",
          "119Ag",
          "148Pr",
          "165Re",
          "89Zr",
          "125Sn",
          "91Nb",
          "177Au",
          "177Tl",
          "254Md",
          "60Co",
          "157Ta",
          "192At",
          "195Ir",
          "199Pt",
          "98In",
          "157Dy",
          "196At",
          "216At",
          "189Pb",
          "105Rh",
          "133Ba",
          "154Tb",
          "139Gd",
          "154Tm",
          "158Ta",
          "140Pm",
          "139Ce",
          "193Pt",
          "145Tb",
          "95Rh",
          "182Re",
          "182Hf",
          "173Au",
          "160Lu",
          "146Dy",
          "158Tb",
          "196Tl",
          "204At",
          "150Eu",
          "157Er",
          "207Ra",
          "184Bi",
          "187Au",
          "122Ag",
          "153Lu",
          "192Tl",
          "203Po",
          "154Ho",
          "133In",
          "151Er",
          "212At",
          "124Cs",
          "52Fe",
          "86Y",
          "149Er",
          "164Tm",
          "60Mn",
          "149Ho",
          "117Pd",
          "84Ga",
          "117Cd",
          "118Cs",
          "175Au",
          "215Bi",
          "124Sb",
          "182Ta",
          "95Tc",
          "183Pt",
          "222Ac",
          "99Ag",
          "191Po",
          "125Cs",
          "205Pb",
          "104In",
          "162Tm",
          "199Po",
          "166Ho",
          "136Cs",
          "137Ce",
          "151Yb",
          "202Fr",
          "44Sc",
          "281Ds",
          "77Br",
          "193Po",
          "266Mt",
          "119Cd",
          "145Gd",
          "161Re",
          "194Au",
          "171Lu",
          "166Tm",
          "117Cs",
          "176Ta",
          "78Y",
          "166Lu",
          "121Te",
          "178Lu",
          "114In",
          "107Pd",
          "38K",
          "168Ir",
          "170Au",
          "94Ag",
          "104Rh",
          "98Nb",
          "131Ce",
          "134Cs",
          "245Md",
          "97Y",
          "110Rh",
          "152Pm",
          "26F",
          "126La",
          "183Tl",
          "234Pa",
          "189Hg",
          "115Pd",
          "131Pr",
          "131In",
          "93Y",
          "143Sm",
          "172Lu",
          "248Bk",
          "190Ir",
          "132Ce",
          "195Tl",
          "257Rf",
          "203Fr",
          "140Nd",
          "123Te",
          "191At",
          "180Lu",
          "102Tc",
          "128Sb",
          "69Ni",
          "164Ir",
          "90Rb",
          "125La",
          "100Y",
          "145Dy",
          "114Ag",
          "141Nd",
          "127Sn",
          "121Cs",
          "200At",
          "150Ho",
          "212Po",
          "110In",
          "150Tb",
          "76Cu",
          "163Ho",
          "181Pb",
          "108Ag",
          "134Pr",
          "98Rh",
          "156Lu",
          "151Tm",
          "106Rh",
          "125Cd",
          "118Ag",
          "135Ce",
          "105Ag",
          "147Dy",
          "81Kr",
          "200Bi",
          "126Pd",
          "105In",
          "52Mn",
          "88Y",
          "199Au",
          "185Hg",
          "207Po",
          "186Ir",
          "206Ac",
          "199Tl",
          "151Ce",
          "202At",
          "101Rh",
          "197At",
          "134Pm",
          "46V",
          "117In",
          "113Cd",
          "258Db",
          "80Y",
          "255Lr",
          "95Nb",
          "156Hf",
          "53Co",
          "161Ho",
          "133Pm",
          "196Au",
          "185Pb",
          "38Cl",
          "81Rb",
          "195At",
          "197Pb",
          "87Nb",
          "116Ag",
          "193Bi",
          "112Rh",
          "122Sb",
          "92Rh",
          "168Lu",
          "64Mn",
          "197Bi",
          "84Br",
          "270Ds",
          "139Nd",
          "193At",
          "201Rn",
          "253Lr",
          "211Po",
          "191Os",
          "258Md",
          "170Ir",
          "115Ag",
          "127In",
          "135Xe",
          "69Zn",
          "46Sc",
          "111In",
          "142Tb",
          "196Bi",
          "171Au",
          "97Tc",
          "125In",
          "126In",
          "195Au",
          "193Hg",
          "188Re",
          "117La",
          "93Ru",
          "177Lu",
          "181Tl",
          "142Pm",
          "62Mn",
          "189Ir",
          "96Tc",
          "237Pu",
          "119Cs",
          "91Mo",
          "149Dy",
          "155Ho",
          "128In",
          "263Sg",
          "193Pb",
          "53Fe",
          "120I",
          "71Ge",
          "205Po",
          "130I",
          "77Ge",
          "127La",
          "141Sm",
          "138Cs",
          "169Yb",
          "156Pm",
          "158Ho",
          "127Ce",
          "179Ta",
          "164Ho",
          "72Ga",
          "161Lu",
          "157Lu",
          "85Sr",
          "123Cd",
          "123In",
          "242Am",
          "99Tc",
          "75Ge",
          "85Kr",
          "131Sn",
          "247Fm",
          "83Se",
          "89Mo",
          "116Cs",
          "101Ag",
          "134I",
          "167Ir",
          "87Y",
          "204Bi",
          "120Ag",
          "190Tl",
          "109In",
          "177Pt",
          "200Au",
          "216U",
          "104Nb",
          "70Br",
          "205Ra",
          "146Tb",
          "97Rh",
          "122In",
          "144Tb",
          "154Eu",
          "187Bi",
          "91Y",
          "195Pb",
          "279Ds",
          "177Tm",
          "159Ta",
          "58Co",
          "83Y",
          "206Fr",
          "74Ga",
          "90Tc",
          "148Tb",
          "135Nd",
          "188Tl",
          "113Ag",
          "132I",
          "86Rb",
          "106In",
          "199At",
          "137Nd",
          "182Tl",
          "115Te",
          "72Br",
          "127Ba",
          "133Te",
          "81Ge",
          "165Dy",
          "119Sb",
          "136Eu",
          "128La",
          "135Cs",
          "170Ho",
          "83Sr",
          "148Ho",
          "111Ag",
          "133Pr",
          "185Tl",
          "213Ra",
          "89Nb",
          "78Rb",
          "115Cd",
          "170Lu",
          "117Ag",
          "152Ho",
          "181Os",
          "153Tm",
          "118Sb",
          "176Au",
          "208Bi",
          "187Hg",
          "154Pm",
          "191Pb",
          "68Co",
          "102Ag",
          "184Hf",
          "218Fr",
          "192Au",
          "110Ag",
          "254No",
          "141Eu",
          "122Cs",
          "91Ru",
          "129Sn",
          "214Fr",
          "203Bi",
          "172Au",
          "70Co",
          "80Ga",
          "102Y",
          "107In",
          "114Rh",
          "82Rb",
          "90Y",
          "130Pr",
          "199Pb",
          "186Tl",
          "114Tc",
          "98Y",
          "73Zn",
          "144Cs",
          "203Ra",
          "174Lu",
          "261Rf",
          "168Ho",
          "206Tl",
          "152Tb",
          "44V",
          "236Am",
          "102Rh",
          "62Co",
          "136La",
          "109Pd",
          "240Np",
          "111Pd",
          "121Sn",
          "104Ag",
          "24Al",
          "149Tb",
          "251No",
          "120Sb",
          "194Bi",
          "147Tb",
          "121Cd",
          "197Rn",
          "181Hf",
          "92Nb",
          "126Sb",
          "24Na",
          "187Tl",
          "217Pa",
          "199Rn",
          "156Ho",
          "139Sm",
          "175Yb",
          "198Tl",
          "100Rh",
          "195Bi",
          "99Nb",
          "65Fe",
          "201Po",
          "112In",
          "208Ac",
          "93Mo",
          "191Bi",
          "133Sm",
          "173Ir",
          "143Tb",
          "89Tc",
          "133Xe",
          "195Hg",
          "205Hg",
          "132La",
          "163Re",
          "186Bi"
         ],
         "type": "scatter",
         "x": [
          1,
          2,
          3,
          4,
          5,
          6,
          7,
          8,
          9,
          10,
          11,
          12,
          13,
          14,
          15,
          16,
          17,
          18,
          19,
          20,
          21,
          22,
          23,
          24,
          25,
          26,
          27,
          28,
          29,
          30,
          31,
          32,
          33,
          34,
          35,
          36,
          37,
          38,
          39,
          40,
          41,
          42,
          43,
          44,
          45,
          46,
          47,
          48,
          49,
          50,
          51,
          52,
          53,
          54,
          55,
          56,
          57,
          58,
          59,
          60,
          61,
          62,
          63,
          64,
          65,
          66,
          67,
          68,
          69,
          70,
          71,
          72,
          73,
          74,
          75,
          76,
          77,
          78,
          79,
          80,
          81,
          82,
          83,
          84,
          85,
          86,
          87,
          88,
          89,
          90,
          91,
          92,
          93,
          94,
          95,
          96,
          97,
          98,
          99,
          100,
          101,
          102,
          103,
          104,
          105,
          106,
          107,
          108,
          109,
          110,
          111,
          112,
          113,
          114,
          115,
          116,
          117,
          118,
          119,
          120,
          121,
          122,
          123,
          124,
          125,
          126,
          127,
          128,
          129,
          130,
          131,
          132,
          133,
          134,
          135,
          136,
          137,
          138,
          139,
          140,
          141,
          142,
          143,
          144,
          145,
          146,
          147,
          148,
          149,
          150,
          151,
          152,
          153,
          154,
          155,
          156,
          157,
          158,
          159,
          160,
          161,
          162,
          163,
          164,
          165,
          166,
          167,
          168,
          169,
          170,
          171,
          172,
          173,
          174,
          175,
          176,
          177,
          178,
          179,
          180,
          181,
          182,
          183,
          184,
          185,
          186,
          187,
          188,
          189,
          190,
          191,
          192,
          193,
          194,
          195,
          196,
          197,
          198,
          199,
          200,
          201,
          202,
          203,
          204,
          205,
          206,
          207,
          208,
          209,
          210,
          211,
          212,
          213,
          214,
          215,
          216,
          217,
          218,
          219,
          220,
          221,
          222,
          223,
          224,
          225,
          226,
          227,
          228,
          229,
          230,
          231,
          232,
          233,
          234,
          235,
          236,
          237,
          238,
          239,
          240,
          241,
          242,
          243,
          244,
          245,
          246,
          247,
          248,
          249,
          250,
          251,
          252,
          253,
          254,
          255,
          256,
          257,
          258,
          259,
          260,
          261,
          262,
          263,
          264,
          265,
          266,
          267,
          268,
          269,
          270,
          271,
          272,
          273,
          274,
          275,
          276,
          277,
          278,
          279,
          280,
          281,
          282,
          283,
          284,
          285,
          286,
          287,
          288,
          289,
          290,
          291,
          292,
          293,
          294,
          295,
          296,
          297,
          298,
          299,
          300,
          301,
          302,
          303,
          304,
          305,
          306,
          307,
          308,
          309,
          310,
          311,
          312,
          313,
          314,
          315,
          316,
          317,
          318,
          319,
          320,
          321,
          322,
          323,
          324,
          325,
          326,
          327,
          328,
          329,
          330,
          331,
          332,
          333,
          334,
          335,
          336,
          337,
          338,
          339,
          340,
          341,
          342,
          343,
          344,
          345,
          346,
          347,
          348,
          349,
          350,
          351,
          352,
          353,
          354,
          355,
          356,
          357,
          358,
          359,
          360,
          361,
          362,
          363,
          364,
          365,
          366,
          367,
          368,
          369,
          370,
          371,
          372,
          373,
          374,
          375,
          376,
          377,
          378,
          379,
          380,
          381,
          382,
          383,
          384,
          385,
          386,
          387,
          388,
          389,
          390,
          391,
          392,
          393,
          394,
          395,
          396,
          397,
          398,
          399,
          400,
          401,
          402,
          403,
          404,
          405,
          406,
          407,
          408,
          409,
          410,
          411,
          412,
          413,
          414,
          415,
          416,
          417,
          418,
          419,
          420,
          421,
          422,
          423,
          424,
          425,
          426,
          427,
          428,
          429,
          430,
          431,
          432,
          433,
          434,
          435,
          436,
          437,
          438,
          439,
          440,
          441,
          442,
          443,
          444,
          445,
          446,
          447,
          448,
          449,
          450,
          451,
          452,
          453,
          454,
          455,
          456,
          457,
          458,
          459,
          460,
          461,
          462,
          463,
          464,
          465,
          466,
          467,
          468,
          469,
          470,
          471,
          472,
          473,
          474,
          475,
          476,
          477,
          478,
          479,
          480,
          481,
          482,
          483,
          484,
          485,
          486,
          487,
          488,
          489,
          490,
          491,
          492,
          493,
          494,
          495,
          496,
          497,
          498,
          499,
          500,
          501,
          502,
          503,
          504,
          505,
          506,
          507,
          508,
          509,
          510,
          511,
          512,
          513,
          514,
          515,
          516,
          517,
          518,
          519,
          520,
          521,
          522,
          523,
          524,
          525,
          526,
          527,
          528,
          529,
          530,
          531,
          532,
          533,
          534,
          535,
          536,
          537,
          538,
          539,
          540,
          541,
          542,
          543,
          544,
          545,
          546,
          547,
          548,
          549,
          550,
          551,
          552,
          553,
          554,
          555,
          556,
          557,
          558,
          559,
          560,
          561,
          562,
          563,
          564,
          565,
          566,
          567,
          568,
          569,
          570,
          571,
          572,
          573,
          574,
          575,
          576,
          577,
          578,
          579,
          580,
          581,
          582,
          583,
          584,
          585,
          586,
          587,
          588,
          589,
          590,
          591,
          592,
          593,
          594,
          595,
          596,
          597,
          598,
          599,
          600,
          601,
          602,
          603,
          604,
          605,
          606,
          607,
          608,
          609,
          610,
          611,
          612,
          613,
          614,
          615,
          616,
          617,
          618,
          619,
          620,
          621,
          622,
          623,
          624,
          625,
          626,
          627,
          628,
          629,
          630,
          631,
          632,
          633,
          634,
          635,
          636,
          637,
          638,
          639,
          640,
          641,
          642,
          643,
          644,
          645,
          646,
          647,
          648,
          649,
          650,
          651,
          652,
          653,
          654,
          655,
          656,
          657,
          658,
          659,
          660,
          661,
          662,
          663,
          664,
          665,
          666,
          667,
          668,
          669,
          670,
          671,
          672,
          673
         ],
         "y": [
          9943776,
          3.4,
          7.9,
          0.012,
          5,
          0.265,
          696,
          6048,
          3480,
          39,
          0.674,
          0.151,
          4.3,
          23820480,
          1722,
          63396,
          6.7,
          10,
          58320,
          132,
          0.8,
          69408,
          255,
          0.068,
          63539.99999999999,
          9900,
          5832,
          23.8,
          6378912,
          426974328,
          249.00000000000003,
          8.1,
          15.2,
          70,
          3090,
          223.20000000000002,
          4320,
          135,
          0.107,
          0.23,
          122688,
          15732,
          594,
          0.139,
          2.5,
          18.98,
          127008,
          1.389481128e+24,
          33588,
          29.21,
          0.675,
          49,
          2.2105467648e+27,
          0.083,
          53.6,
          23.1,
          0.275,
          89.1,
          144,
          20.5,
          2.2,
          2370,
          33660,
          74988,
          0.19328,
          93,
          321408,
          5.34,
          10224,
          0.14400000000000002,
          0.535,
          0.000001,
          16.8,
          352.8,
          0.609,
          1437.6000000000001,
          286.2,
          30.9,
          107,
          3924.0000000000005,
          4.1,
          948,
          11162879.999999998,
          0.068,
          3144960,
          0.00044,
          2.3,
          8,
          0.115,
          1060.8,
          4.64,
          6.1,
          6.2,
          4176,
          1.8316031040000001e+30,
          68832,
          60839.99999999999,
          3.5,
          36360,
          1036.8000000000002,
          558.6,
          900,
          1391040.0000000002,
          120.6,
          16524,
          34.6,
          4863341736000,
          2568,
          57780,
          19.6,
          1.51,
          1657910073600,
          232416,
          0.00163,
          186,
          6.4,
          167.4,
          3.5,
          2.1,
          1200,
          3544.2,
          14,
          432864,
          0.28319,
          60,
          564,
          1524,
          1.7,
          43560,
          463968,
          873,
          83.4,
          348,
          10294720272000,
          14.4,
          147,
          2223,
          1.392636888e+22,
          46800,
          4.4,
          696,
          61.3,
          8028,
          2340,
          0.69,
          4.4,
          52560,
          2835648,
          186624,
          138,
          1980,
          71604,
          0.0045000000000000005,
          1296,
          0.57,
          37800,
          120.6,
          0.006,
          0.00051,
          2964,
          158112,
          149472,
          471.6,
          641061086400,
          0.0105,
          22642262424000,
          3058560,
          1620,
          3.08,
          17568,
          25740,
          1536,
          20.6,
          0.04,
          2940,
          44.5,
          9648,
          1.9,
          22225386528000000,
          167616,
          11448,
          19.1,
          2.56,
          1038,
          2.89,
          6192,
          571823712,
          2.34,
          3,
          29,
          2370,
          1187386257600000000,
          21.6,
          3.12,
          230688,
          5.6,
          29340,
          3636,
          1982.9999999999998,
          35.2,
          0.002,
          94176,
          462239.99999999994,
          6876,
          1107,
          1800,
          0.6808,
          1.74,
          4248,
          87,
          3708,
          2.08,
          0.055,
          52,
          273,
          822,
          1500,
          30960,
          126144,
          70.6,
          82.2,
          2.526343668e+25,
          3391200,
          2,
          14.1,
          1.5,
          0.00125,
          102.5,
          44,
          1.53,
          0.53,
          6048000,
          188.4,
          262656,
          55,
          1524,
          1800,
          6488639.999999999,
          1752.6000000000001,
          10,
          993600,
          1.2,
          2.1,
          137.4,
          2.61,
          282528,
          832896,
          21474000072,
          1.53,
          0.018000000000000002,
          600,
          166308552,
          0.0101,
          0.0115,
          8244,
          1848,
          0.032,
          29304.000000000004,
          0.387,
          0.0003,
          51,
          127008,
          333248256,
          77400,
          5.8,
          8.1,
          0.055,
          9.2,
          11892095.999999998,
          1578826728,
          30.9,
          301.2,
          230688,
          281055141360000,
          0.025,
          36.1,
          33.2,
          5684154912,
          6624,
          553.2,
          1165422168,
          1119,
          1.2,
          0.013000000000000001,
          504,
          0.529,
          0.9,
          576,
          2202,
          705.6,
          0.162,
          23.5,
          0.314,
          30.8,
          29807.999999999996,
          53064,
          4,
          117,
          0.28,
          21.1,
          4.3,
          0.0952,
          8964,
          14,
          0.201,
          456,
          5201280,
          9913536,
          72000,
          390,
          5,
          124,
          0.022,
          2802,
          546325171200000,
          108,
          1302,
          328.2,
          96768.00000000001,
          1124064,
          32400,
          1.6,
          0.372,
          14292,
          13,
          205632,
          0.388,
          0.0017,
          161.4,
          1380,
          0.00037,
          136512,
          712800,
          27720,
          8.4,
          29124,
          0.053,
          159,
          1656288.0000000002,
          1704,
          71.9,
          205263253440000,
          459,
          0.22,
          0.00029,
          0.035,
          42.3,
          2.86,
          618,
          65324231.99999999,
          0.0009000000000000001,
          3.74,
          3.35,
          247.20000000000002,
          0.008199999999999999,
          54,
          6.9,
          24120,
          456,
          25,
          90.6,
          0.266,
          36648,
          525,
          578880,
          284333976,
          1017792,
          12636,
          4176,
          4.4,
          0.549,
          291168,
          2.9052873288e+24,
          0.0017,
          342,
          5.28,
          32580.000000000004,
          11.4,
          0.14,
          158,
          64.8,
          0.732,
          6,
          4.6,
          8964,
          7560,
          155,
          43,
          72,
          3e-7,
          17712,
          12528,
          0.637,
          144316691712,
          0.0396,
          142.92,
          660,
          523.2,
          0.494,
          4.17,
          30.07,
          0.68,
          3.76,
          63720,
          3567456,
          67,
          7231739616000,
          2184,
          0.048600000000000004,
          304.20000000000005,
          482976,
          9212832,
          271296,
          49.1,
          20880,
          59904,
          0.022,
          26712,
          1.76,
          184,
          104140080,
          0.381,
          5,
          0.4225,
          2592,
          2.538966708e+23,
          4.3,
          30.1,
          31.1,
          3023136,
          0.023,
          0.24,
          8928,
          13.5,
          533088,
          6.3,
          2233.7999999999997,
          16452,
          0.29,
          480,
          225,
          237,
          63.6,
          3.6,
          235008.00000000003,
          5.7,
          330,
          0.09,
          559.8,
          1905.6000000000001,
          0.0002,
          1782,
          0.028,
          7.1,
          0.64,
          0.516,
          1330560,
          4449600,
          0.87,
          1200,
          1.09,
          32904,
          3384,
          7239456.000000001,
          241919.99999999997,
          0.597,
          307.8,
          0.000017000000000000003,
          132949013040000,
          2.36,
          1.53,
          16071264,
          13680,
          61200,
          0.0235,
          59.7,
          573696,
          2.9,
          40.5,
          0.092,
          1140480,
          369792,
          3905280.0000000005,
          43,
          929.4,
          252,
          2880,
          0.84,
          1,
          120,
          510.59999999999997,
          4896,
          987552,
          6264,
          44496,
          40356,
          306,
          612,
          1950,
          2766528.0000000005,
          26.7,
          678,
          34,
          57434832,
          1728,
          50760,
          77,
          6.8,
          5603039.999999999,
          2.1,
          6.17,
          57672,
          6666227424000,
          4968,
          339244200,
          56,
          31,
          1335,
          126.6,
          0.7,
          666,
          3150,
          0.0352,
          287712,
          40392,
          0.94,
          156,
          14976,
          10.6,
          2904,
          0.0045000000000000005,
          4.9,
          0.07909999999999999,
          0.21,
          8,
          1842,
          1.5,
          1,
          271710936,
          0.038,
          5055264,
          900,
          0.18,
          95,
          1.04,
          6122304,
          424.8,
          16,
          487.19999999999993,
          8.7,
          3600,
          744,
          71,
          19332,
          8244,
          1610496,
          372,
          6.92,
          2310,
          3.1,
          348,
          78.6,
          762,
          750,
          7.6,
          8388,
          137376,
          3.8,
          310.79999999999995,
          72632972160000,
          165.6,
          116640.00000000001,
          2.2,
          643680,
          390,
          19.5,
          163.8,
          7307.999999999999,
          1059.6,
          192672,
          173663.99999999997,
          72.8,
          161.8,
          6300,
          1.48,
          216,
          1.05,
          11621086200000,
          114,
          103.8,
          79.8,
          0.199,
          774,
          14832,
          0.001,
          17784,
          24.56,
          51,
          40.7,
          21.18,
          8,
          133.8,
          0.005,
          42336,
          0.022,
          0.113,
          1.9,
          0.3,
          1944,
          1.85,
          75.45,
          230688,
          40,
          5400,
          27.5,
          0.09,
          0.548,
          24.5,
          0.989,
          0.031,
          104455656,
          70,
          179.4,
          252,
          63000,
          0.111,
          216,
          17910720,
          92.4,
          592.1999999999999,
          48924,
          3708,
          1404,
          97631.99999999999,
          4140,
          2.05,
          14832,
          0.8,
          953.4000000000001,
          95,
          5904,
          13.5,
          0.055,
          3662496,
          1095806102400000,
          1067040,
          54000,
          51,
          0.0036000000000000003,
          0.59,
          3360,
          154.2,
          361152,
          19080,
          74880,
          183,
          15,
          0.805,
          918,
          892.8000000000001,
          0.095,
          126316552248,
          12.4,
          2.89,
          9.3,
          12,
          12.8,
          453600,
          37908,
          308.4,
          17280,
          0.39,
          0.0148
         ]
        }
       ],
       "frames": [],
       "layout": {
        "margin": {
         "b": 50,
         "l": 50,
         "r": 50,
         "t": 60
        },
        "template": {
         "data": {
          "bar": [
           {
            "error_x": {
             "color": "#2a3f5f"
            },
            "error_y": {
             "color": "#2a3f5f"
            },
            "marker": {
             "line": {
              "color": "#E5ECF6",
              "width": 0.5
             }
            },
            "type": "bar"
           }
          ],
          "barpolar": [
           {
            "marker": {
             "line": {
              "color": "#E5ECF6",
              "width": 0.5
             }
            },
            "type": "barpolar"
           }
          ],
          "carpet": [
           {
            "aaxis": {
             "endlinecolor": "#2a3f5f",
             "gridcolor": "white",
             "linecolor": "white",
             "minorgridcolor": "white",
             "startlinecolor": "#2a3f5f"
            },
            "baxis": {
             "endlinecolor": "#2a3f5f",
             "gridcolor": "white",
             "linecolor": "white",
             "minorgridcolor": "white",
             "startlinecolor": "#2a3f5f"
            },
            "type": "carpet"
           }
          ],
          "choropleth": [
           {
            "colorbar": {
             "outlinewidth": 0,
             "ticks": ""
            },
            "type": "choropleth"
           }
          ],
          "contour": [
           {
            "colorbar": {
             "outlinewidth": 0,
             "ticks": ""
            },
            "colorscale": [
             [
              0,
              "#0d0887"
             ],
             [
              0.1111111111111111,
              "#46039f"
             ],
             [
              0.2222222222222222,
              "#7201a8"
             ],
             [
              0.3333333333333333,
              "#9c179e"
             ],
             [
              0.4444444444444444,
              "#bd3786"
             ],
             [
              0.5555555555555556,
              "#d8576b"
             ],
             [
              0.6666666666666666,
              "#ed7953"
             ],
             [
              0.7777777777777778,
              "#fb9f3a"
             ],
             [
              0.8888888888888888,
              "#fdca26"
             ],
             [
              1,
              "#f0f921"
             ]
            ],
            "type": "contour"
           }
          ],
          "contourcarpet": [
           {
            "colorbar": {
             "outlinewidth": 0,
             "ticks": ""
            },
            "type": "contourcarpet"
           }
          ],
          "heatmap": [
           {
            "colorbar": {
             "outlinewidth": 0,
             "ticks": ""
            },
            "colorscale": [
             [
              0,
              "#0d0887"
             ],
             [
              0.1111111111111111,
              "#46039f"
             ],
             [
              0.2222222222222222,
              "#7201a8"
             ],
             [
              0.3333333333333333,
              "#9c179e"
             ],
             [
              0.4444444444444444,
              "#bd3786"
             ],
             [
              0.5555555555555556,
              "#d8576b"
             ],
             [
              0.6666666666666666,
              "#ed7953"
             ],
             [
              0.7777777777777778,
              "#fb9f3a"
             ],
             [
              0.8888888888888888,
              "#fdca26"
             ],
             [
              1,
              "#f0f921"
             ]
            ],
            "type": "heatmap"
           }
          ],
          "heatmapgl": [
           {
            "colorbar": {
             "outlinewidth": 0,
             "ticks": ""
            },
            "colorscale": [
             [
              0,
              "#0d0887"
             ],
             [
              0.1111111111111111,
              "#46039f"
             ],
             [
              0.2222222222222222,
              "#7201a8"
             ],
             [
              0.3333333333333333,
              "#9c179e"
             ],
             [
              0.4444444444444444,
              "#bd3786"
             ],
             [
              0.5555555555555556,
              "#d8576b"
             ],
             [
              0.6666666666666666,
              "#ed7953"
             ],
             [
              0.7777777777777778,
              "#fb9f3a"
             ],
             [
              0.8888888888888888,
              "#fdca26"
             ],
             [
              1,
              "#f0f921"
             ]
            ],
            "type": "heatmapgl"
           }
          ],
          "histogram": [
           {
            "marker": {
             "colorbar": {
              "outlinewidth": 0,
              "ticks": ""
             }
            },
            "type": "histogram"
           }
          ],
          "histogram2d": [
           {
            "colorbar": {
             "outlinewidth": 0,
             "ticks": ""
            },
            "colorscale": [
             [
              0,
              "#0d0887"
             ],
             [
              0.1111111111111111,
              "#46039f"
             ],
             [
              0.2222222222222222,
              "#7201a8"
             ],
             [
              0.3333333333333333,
              "#9c179e"
             ],
             [
              0.4444444444444444,
              "#bd3786"
             ],
             [
              0.5555555555555556,
              "#d8576b"
             ],
             [
              0.6666666666666666,
              "#ed7953"
             ],
             [
              0.7777777777777778,
              "#fb9f3a"
             ],
             [
              0.8888888888888888,
              "#fdca26"
             ],
             [
              1,
              "#f0f921"
             ]
            ],
            "type": "histogram2d"
           }
          ],
          "histogram2dcontour": [
           {
            "colorbar": {
             "outlinewidth": 0,
             "ticks": ""
            },
            "colorscale": [
             [
              0,
              "#0d0887"
             ],
             [
              0.1111111111111111,
              "#46039f"
             ],
             [
              0.2222222222222222,
              "#7201a8"
             ],
             [
              0.3333333333333333,
              "#9c179e"
             ],
             [
              0.4444444444444444,
              "#bd3786"
             ],
             [
              0.5555555555555556,
              "#d8576b"
             ],
             [
              0.6666666666666666,
              "#ed7953"
             ],
             [
              0.7777777777777778,
              "#fb9f3a"
             ],
             [
              0.8888888888888888,
              "#fdca26"
             ],
             [
              1,
              "#f0f921"
             ]
            ],
            "type": "histogram2dcontour"
           }
          ],
          "mesh3d": [
           {
            "colorbar": {
             "outlinewidth": 0,
             "ticks": ""
            },
            "type": "mesh3d"
           }
          ],
          "parcoords": [
           {
            "line": {
             "colorbar": {
              "outlinewidth": 0,
              "ticks": ""
             }
            },
            "type": "parcoords"
           }
          ],
          "pie": [
           {
            "automargin": true,
            "type": "pie"
           }
          ],
          "scatter": [
           {
            "marker": {
             "colorbar": {
              "outlinewidth": 0,
              "ticks": ""
             }
            },
            "type": "scatter"
           }
          ],
          "scatter3d": [
           {
            "line": {
             "colorbar": {
              "outlinewidth": 0,
              "ticks": ""
             }
            },
            "marker": {
             "colorbar": {
              "outlinewidth": 0,
              "ticks": ""
             }
            },
            "type": "scatter3d"
           }
          ],
          "scattercarpet": [
           {
            "marker": {
             "colorbar": {
              "outlinewidth": 0,
              "ticks": ""
             }
            },
            "type": "scattercarpet"
           }
          ],
          "scattergeo": [
           {
            "marker": {
             "colorbar": {
              "outlinewidth": 0,
              "ticks": ""
             }
            },
            "type": "scattergeo"
           }
          ],
          "scattergl": [
           {
            "marker": {
             "colorbar": {
              "outlinewidth": 0,
              "ticks": ""
             }
            },
            "type": "scattergl"
           }
          ],
          "scattermapbox": [
           {
            "marker": {
             "colorbar": {
              "outlinewidth": 0,
              "ticks": ""
             }
            },
            "type": "scattermapbox"
           }
          ],
          "scatterpolar": [
           {
            "marker": {
             "colorbar": {
              "outlinewidth": 0,
              "ticks": ""
             }
            },
            "type": "scatterpolar"
           }
          ],
          "scatterpolargl": [
           {
            "marker": {
             "colorbar": {
              "outlinewidth": 0,
              "ticks": ""
             }
            },
            "type": "scatterpolargl"
           }
          ],
          "scatterternary": [
           {
            "marker": {
             "colorbar": {
              "outlinewidth": 0,
              "ticks": ""
             }
            },
            "type": "scatterternary"
           }
          ],
          "surface": [
           {
            "colorbar": {
             "outlinewidth": 0,
             "ticks": ""
            },
            "colorscale": [
             [
              0,
              "#0d0887"
             ],
             [
              0.1111111111111111,
              "#46039f"
             ],
             [
              0.2222222222222222,
              "#7201a8"
             ],
             [
              0.3333333333333333,
              "#9c179e"
             ],
             [
              0.4444444444444444,
              "#bd3786"
             ],
             [
              0.5555555555555556,
              "#d8576b"
             ],
             [
              0.6666666666666666,
              "#ed7953"
             ],
             [
              0.7777777777777778,
              "#fb9f3a"
             ],
             [
              0.8888888888888888,
              "#fdca26"
             ],
             [
              1,
              "#f0f921"
             ]
            ],
            "type": "surface"
           }
          ],
          "table": [
           {
            "cells": {
             "fill": {
              "color": "#EBF0F8"
             },
             "line": {
              "color": "white"
             }
            },
            "header": {
             "fill": {
              "color": "#C8D4E3"
             },
             "line": {
              "color": "white"
             }
            },
            "type": "table"
           }
          ]
         },
         "layout": {
          "annotationdefaults": {
           "arrowcolor": "#2a3f5f",
           "arrowhead": 0,
           "arrowwidth": 1
          },
          "autotypenumbers": "strict",
          "coloraxis": {
           "colorbar": {
            "outlinewidth": 0,
            "ticks": ""
           }
          },
          "colorscale": {
           "diverging": [
            [
             0,
             "#8e0152"
            ],
            [
             0.1,
             "#c51b7d"
            ],
            [
             0.2,
             "#de77ae"
            ],
            [
             0.3,
             "#f1b6da"
            ],
            [
             0.4,
             "#fde0ef"
            ],
            [
             0.5,
             "#f7f7f7"
            ],
            [
             0.6,
             "#e6f5d0"
            ],
            [
             0.7,
             "#b8e186"
            ],
            [
             0.8,
             "#7fbc41"
            ],
            [
             0.9,
             "#4d9221"
            ],
            [
             1,
             "#276419"
            ]
           ],
           "sequential": [
            [
             0,
             "#0d0887"
            ],
            [
             0.1111111111111111,
             "#46039f"
            ],
            [
             0.2222222222222222,
             "#7201a8"
            ],
            [
             0.3333333333333333,
             "#9c179e"
            ],
            [
             0.4444444444444444,
             "#bd3786"
            ],
            [
             0.5555555555555556,
             "#d8576b"
            ],
            [
             0.6666666666666666,
             "#ed7953"
            ],
            [
             0.7777777777777778,
             "#fb9f3a"
            ],
            [
             0.8888888888888888,
             "#fdca26"
            ],
            [
             1,
             "#f0f921"
            ]
           ],
           "sequentialminus": [
            [
             0,
             "#0d0887"
            ],
            [
             0.1111111111111111,
             "#46039f"
            ],
            [
             0.2222222222222222,
             "#7201a8"
            ],
            [
             0.3333333333333333,
             "#9c179e"
            ],
            [
             0.4444444444444444,
             "#bd3786"
            ],
            [
             0.5555555555555556,
             "#d8576b"
            ],
            [
             0.6666666666666666,
             "#ed7953"
            ],
            [
             0.7777777777777778,
             "#fb9f3a"
            ],
            [
             0.8888888888888888,
             "#fdca26"
            ],
            [
             1,
             "#f0f921"
            ]
           ]
          },
          "colorway": [
           "#636efa",
           "#EF553B",
           "#00cc96",
           "#ab63fa",
           "#FFA15A",
           "#19d3f3",
           "#FF6692",
           "#B6E880",
           "#FF97FF",
           "#FECB52"
          ],
          "font": {
           "color": "#2a3f5f"
          },
          "geo": {
           "bgcolor": "white",
           "lakecolor": "white",
           "landcolor": "#E5ECF6",
           "showlakes": true,
           "showland": true,
           "subunitcolor": "white"
          },
          "hoverlabel": {
           "align": "left"
          },
          "hovermode": "closest",
          "mapbox": {
           "style": "light"
          },
          "paper_bgcolor": "white",
          "plot_bgcolor": "#E5ECF6",
          "polar": {
           "angularaxis": {
            "gridcolor": "white",
            "linecolor": "white",
            "ticks": ""
           },
           "bgcolor": "#E5ECF6",
           "radialaxis": {
            "gridcolor": "white",
            "linecolor": "white",
            "ticks": ""
           }
          },
          "scene": {
           "xaxis": {
            "backgroundcolor": "#E5ECF6",
            "gridcolor": "white",
            "gridwidth": 2,
            "linecolor": "white",
            "showbackground": true,
            "ticks": "",
            "zerolinecolor": "white"
           },
           "yaxis": {
            "backgroundcolor": "#E5ECF6",
            "gridcolor": "white",
            "gridwidth": 2,
            "linecolor": "white",
            "showbackground": true,
            "ticks": "",
            "zerolinecolor": "white"
           },
           "zaxis": {
            "backgroundcolor": "#E5ECF6",
            "gridcolor": "white",
            "gridwidth": 2,
            "linecolor": "white",
            "showbackground": true,
            "ticks": "",
            "zerolinecolor": "white"
           }
          },
          "shapedefaults": {
           "line": {
            "color": "#2a3f5f"
           }
          },
          "ternary": {
           "aaxis": {
            "gridcolor": "white",
            "linecolor": "white",
            "ticks": ""
           },
           "baxis": {
            "gridcolor": "white",
            "linecolor": "white",
            "ticks": ""
           },
           "bgcolor": "#E5ECF6",
           "caxis": {
            "gridcolor": "white",
            "linecolor": "white",
            "ticks": ""
           }
          },
          "title": {
           "x": 0.05
          },
          "xaxis": {
           "automargin": true,
           "gridcolor": "white",
           "linecolor": "white",
           "ticks": "",
           "title": {
            "standoff": 15
           },
           "zerolinecolor": "white",
           "zerolinewidth": 2
          },
          "yaxis": {
           "automargin": true,
           "gridcolor": "white",
           "linecolor": "white",
           "ticks": "",
           "title": {
            "standoff": 15
           },
           "zerolinecolor": "white",
           "zerolinewidth": 2
          }
         }
        },
        "title": "Half-life in Seconds for the Ground States of Nuclear Isomers",
        "yaxis": {
         "type": "log"
        }
       }
      },
      "text/html": [
       "<div\n",
       "    class=\"webio-mountpoint\"\n",
       "    data-webio-mountpoint=\"12574691597522121319\"\n",
       ">\n",
       "    <script>\n",
       "    (function(){\n",
       "    // Some integrations (namely, IJulia/Jupyter) use an alternate render pathway than\n",
       "    // just putting the html on the page. If WebIO isn't defined, then it's pretty likely\n",
       "    // that we're in one of those situations and the integration just isn't installed\n",
       "    // correctly.\n",
       "    if (typeof window.WebIO === \"undefined\") {\n",
       "        document\n",
       "            .querySelector('[data-webio-mountpoint=\"12574691597522121319\"]')\n",
       "            .innerHTML = (\n",
       "                '<div style=\"padding: 1em; background-color: #f8d6da; border: 1px solid #f5c6cb; font-weight: bold;\">' +\n",
       "                '<p><strong>WebIO not detected.</strong></p>' +\n",
       "                '<p>Please read ' +\n",
       "                '<a href=\"https://juliagizmos.github.io/WebIO.jl/latest/troubleshooting/not-detected/\" target=\"_blank\">the troubleshooting guide</a> ' +\n",
       "                'for more information on how to resolve this issue.</p>' +\n",
       "                '<p><a href=\"https://juliagizmos.github.io/WebIO.jl/latest/troubleshooting/not-detected/\" target=\"_blank\">https://juliagizmos.github.io/WebIO.jl/latest/troubleshooting/not-detected/</a></p>' +\n",
       "                '</div>'\n",
       "            );\n",
       "        return;\n",
       "    }\n",
       "    WebIO.mount(\n",
       "        document.querySelector('[data-webio-mountpoint=\"12574691597522121319\"]'),\n",
       "        {\"props\":{},\"nodeType\":\"Scope\",\"type\":\"node\",\"instanceArgs\":{\"imports\":{\"data\":[{\"name\":\"Plotly\",\"type\":\"js\",\"url\":\"\\/assetserver\\/974bc88f8fa21ff4c3cbd84b6afff90488058aa7-plotly.min.js\"},{\"name\":null,\"type\":\"js\",\"url\":\"\\/assetserver\\/64d87b978f97348bc0d43ca0daa59975ea5d4c91-plotly_webio.bundle.js\"}],\"type\":\"async_block\"},\"id\":\"7263120333813012064\",\"handlers\":{\"_toImage\":[\"(function (options){return this.Plotly.toImage(this.plotElem,options).then((function (data){return WebIO.setval({\\\"name\\\":\\\"image\\\",\\\"scope\\\":\\\"7263120333813012064\\\",\\\"id\\\":\\\"9075853753597964154\\\",\\\"type\\\":\\\"observable\\\"},data)}))})\"],\"__get_gd_contents\":[\"(function (prop){prop==\\\"data\\\" ? (WebIO.setval({\\\"name\\\":\\\"__gd_contents\\\",\\\"scope\\\":\\\"7263120333813012064\\\",\\\"id\\\":\\\"12478990228395060049\\\",\\\"type\\\":\\\"observable\\\"},this.plotElem.data)) : undefined; return prop==\\\"layout\\\" ? (WebIO.setval({\\\"name\\\":\\\"__gd_contents\\\",\\\"scope\\\":\\\"7263120333813012064\\\",\\\"id\\\":\\\"12478990228395060049\\\",\\\"type\\\":\\\"observable\\\"},this.plotElem.layout)) : undefined})\"],\"_downloadImage\":[\"(function (options){return this.Plotly.downloadImage(this.plotElem,options)})\"],\"_commands\":[\"(function (args){var fn=args.shift(); var elem=this.plotElem; var Plotly=this.Plotly; args.unshift(elem); return Plotly[fn].apply(this,args)})\"]},\"systemjs_options\":null,\"mount_callbacks\":[\"function () {\\n    var handler = ((function (Plotly,PlotlyWebIO){PlotlyWebIO.init(WebIO); var gd=this.dom.querySelector(\\\"#plot-09d77728-8e73-4915-9000-b101521fdc1d\\\"); this.plotElem=gd; this.Plotly=Plotly; (window.Blink!==undefined) ? (gd.style.width=\\\"100%\\\", gd.style.height=\\\"100vh\\\", gd.style.marginLeft=\\\"0%\\\", gd.style.marginTop=\\\"0vh\\\") : undefined; window.onresize=(function (){return Plotly.Plots.resize(gd)}); Plotly.newPlot(gd,[{\\\"mode\\\":\\\"markers\\\",\\\"y\\\":[9.943776e6,3.4,7.9,0.012,5.0,0.265,696.0,6048.0,3480.0,39.0,0.674,0.151,4.3,2.382048e7,1722.0,63396.0,6.7,10.0,58320.0,132.0,0.8,69408.0,255.0,0.068,63539.99999999999,9900.0,5832.0,23.8,6.378912e6,4.26974328e8,249.00000000000003,8.1,15.2,70.0,3090.0,223.20000000000002,4320.0,135.0,0.107,0.23,122688.0,15732.0,594.0,0.139,2.5,18.98,127008.0,1.389481128e24,33588.0,29.21,0.675,49.0,2.2105467648e27,0.083,53.6,23.1,0.275,89.1,144.0,20.5,2.2,2370.0,33660.0,74988.0,0.19328,93.0,321408.0,5.34,10224.0,0.14400000000000002,0.535,1.0e-6,16.8,352.8,0.609,1437.6000000000001,286.2,30.9,107.0,3924.0000000000005,4.1,948.0,1.1162879999999998e7,0.068,3.14496e6,0.00044,2.3,8.0,0.115,1060.8,4.64,6.1,6.2,4176.0,1.8316031040000001e30,68832.0,60839.99999999999,3.5,36360.0,1036.8000000000002,558.6,900.0,1.3910400000000002e6,120.6,16524.0,34.6,4.863341736e12,2568.0,57780.0,19.6,1.51,1.6579100736e12,232416.0,0.00163,186.0,6.4,167.4,3.5,2.1,1200.0,3544.2,14.0,432864.0,0.28319,60.0,564.0,1524.0,1.7,43560.0,463968.0,873.0,83.4,348.0,1.0294720272e13,14.4,147.0,2223.0,1.392636888e22,46800.0,4.4,696.0,61.3,8028.0,2340.0,0.69,4.4,52560.0,2.835648e6,186624.0,138.0,1980.0,71604.0,0.0045000000000000005,1296.0,0.57,37800.0,120.6,0.006,0.00051,2964.0,158112.0,149472.0,471.6,6.410610864e11,0.0105,2.2642262424e13,3.05856e6,1620.0,3.08,17568.0,25740.0,1536.0,20.6,0.04,2940.0,44.5,9648.0,1.9,2.2225386528e16,167616.0,11448.0,19.1,2.56,1038.0,2.89,6192.0,5.71823712e8,2.34,3.0,29.0,2370.0,1.1873862576e18,21.6,3.12,230688.0,5.6,29340.0,3636.0,1982.9999999999998,35.2,0.002,94176.0,462239.99999999994,6876.0,1107.0,1800.0,0.6808,1.74,4248.0,87.0,3708.0,2.08,0.055,52.0,273.0,822.0,1500.0,30960.0,126144.0,70.6,82.2,2.526343668e25,3.3912e6,2.0,14.1,1.5,0.00125,102.5,44.0,1.53,0.53,6.048e6,188.4,262656.0,55.0,1524.0,1800.0,6.488639999999999e6,1752.6000000000001,10.0,993600.0,1.2,2.1,137.4,2.61,282528.0,832896.0,2.1474000072e10,1.53,0.018000000000000002,600.0,1.66308552e8,0.0101,0.0115,8244.0,1848.0,0.032,29304.000000000004,0.387,0.0003,51.0,127008.0,3.33248256e8,77400.0,5.8,8.1,0.055,9.2,1.1892095999999998e7,1.578826728e9,30.9,301.2,230688.0,2.8105514136e14,0.025,36.1,33.2,5.684154912e9,6624.0,553.2,1.165422168e9,1119.0,1.2,0.013000000000000001,504.0,0.529,0.9,576.0,2202.0,705.6,0.162,23.5,0.314,30.8,29807.999999999996,53064.0,4.0,117.0,0.28,21.1,4.3,0.0952,8964.0,14.0,0.201,456.0,5.20128e6,9.913536e6,72000.0,390.0,5.0,124.0,0.022,2802.0,5.463251712e14,108.0,1302.0,328.2,96768.00000000001,1.124064e6,32400.0,1.6,0.372,14292.0,13.0,205632.0,0.388,0.0017,161.4,1380.0,0.00037,136512.0,712800.0,27720.0,8.4,29124.0,0.053,159.0,1.6562880000000002e6,1704.0,71.9,2.0526325344e14,459.0,0.22,0.00029,0.035,42.3,2.86,618.0,6.532423199999999e7,0.0009000000000000001,3.74,3.35,247.20000000000002,0.008199999999999999,54.0,6.9,24120.0,456.0,25.0,90.6,0.266,36648.0,525.0,578880.0,2.84333976e8,1.017792e6,12636.0,4176.0,4.4,0.549,291168.0,2.9052873288e24,0.0017,342.0,5.28,32580.000000000004,11.4,0.14,158.0,64.8,0.732,6.0,4.6,8964.0,7560.0,155.0,43.0,72.0,3.0e-7,17712.0,12528.0,0.637,1.44316691712e11,0.0396,142.92,660.0,523.2,0.494,4.17,30.07,0.68,3.76,63720.0,3.567456e6,67.0,7.231739616e12,2184.0,0.048600000000000004,304.20000000000005,482976.0,9.212832e6,271296.0,49.1,20880.0,59904.0,0.022,26712.0,1.76,184.0,1.0414008e8,0.381,5.0,0.4225,2592.0,2.538966708e23,4.3,30.1,31.1,3.023136e6,0.023,0.24,8928.0,13.5,533088.0,6.3,2233.7999999999997,16452.0,0.29,480.0,225.0,237.0,63.6,3.6,235008.00000000003,5.7,330.0,0.09,559.8,1905.6000000000001,0.0002,1782.0,0.028,7.1,0.64,0.516,1.33056e6,4.4496e6,0.87,1200.0,1.09,32904.0,3384.0,7.239456000000001e6,241919.99999999997,0.597,307.8,1.7000000000000003e-5,1.3294901304e14,2.36,1.53,1.6071264e7,13680.0,61200.0,0.0235,59.7,573696.0,2.9,40.5,0.092,1.14048e6,369792.0,3.9052800000000005e6,43.0,929.4,252.0,2880.0,0.84,1.0,120.0,510.59999999999997,4896.0,987552.0,6264.0,44496.0,40356.0,306.0,612.0,1950.0,2.7665280000000005e6,26.7,678.0,34.0,5.7434832e7,1728.0,50760.0,77.0,6.8,5.603039999999999e6,2.1,6.17,57672.0,6.666227424e12,4968.0,3.392442e8,56.0,31.0,1335.0,126.6,0.7,666.0,3150.0,0.0352,287712.0,40392.0,0.94,156.0,14976.0,10.6,2904.0,0.0045000000000000005,4.9,0.07909999999999999,0.21,8.0,1842.0,1.5,1.0,2.71710936e8,0.038,5.055264e6,900.0,0.18,95.0,1.04,6.122304e6,424.8,16.0,487.19999999999993,8.7,3600.0,744.0,71.0,19332.0,8244.0,1.610496e6,372.0,6.92,2310.0,3.1,348.0,78.6,762.0,750.0,7.6,8388.0,137376.0,3.8,310.79999999999995,7.263297216e13,165.6,116640.00000000001,2.2,643680.0,390.0,19.5,163.8,7307.999999999999,1059.6,192672.0,173663.99999999997,72.8,161.8,6300.0,1.48,216.0,1.05,1.16210862e13,114.0,103.8,79.8,0.199,774.0,14832.0,0.001,17784.0,24.56,51.0,40.7,21.18,8.0,133.8,0.005,42336.0,0.022,0.113,1.9,0.3,1944.0,1.85,75.45,230688.0,40.0,5400.0,27.5,0.09,0.548,24.5,0.989,0.031,1.04455656e8,70.0,179.4,252.0,63000.0,0.111,216.0,1.791072e7,92.4,592.1999999999999,48924.0,3708.0,1404.0,97631.99999999999,4140.0,2.05,14832.0,0.8,953.4000000000001,95.0,5904.0,13.5,0.055,3.662496e6,1.0958061024e15,1.06704e6,54000.0,51.0,0.0036000000000000003,0.59,3360.0,154.2,361152.0,19080.0,74880.0,183.0,15.0,0.805,918.0,892.8000000000001,0.095,1.26316552248e11,12.4,2.89,9.3,12.0,12.8,453600.0,37908.0,308.4,17280.0,0.39,0.0148],\\\"type\\\":\\\"scatter\\\",\\\"text\\\":[\\\"113Sn\\\",\\\"167Re\\\",\\\"174Ir\\\",\\\"90Rh\\\",\\\"118In\\\",\\\"188Bi\\\",\\\"129La\\\",\\\"87Zr\\\",\\\"108In\\\",\\\"143Gd\\\",\\\"189Bi\\\",\\\"129Cd\\\",\\\"102Nb\\\",\\\"254Es\\\",\\\"189Au\\\",\\\"151Tb\\\",\\\"129Nd\\\",\\\"138Pm\\\",\\\"76Br\\\",\\\"242Np\\\",\\\"113Ru\\\",\\\"194Ir\\\",\\\"185Au\\\",\\\"146Tm\\\",\\\"193Au\\\",\\\"93Tc\\\",\\\"133Ce\\\",\\\"249Md\\\",\\\"192Ir\\\",\\\"152Eu\\\",\\\"139Pm\\\",\\\"169Re\\\",\\\"187Pb\\\",\\\"133Nd\\\",\\\"167Lu\\\",\\\"130Sn\\\",\\\"97Nb\\\",\\\"216Bi\\\",\\\"162Re\\\",\\\"179Tl\\\",\\\"169Lu\\\",\\\"129Sb\\\",\\\"96Rh\\\",\\\"174Au\\\",\\\"147Er\\\",\\\"79Ge\\\",\\\"82Br\\\",\\\"138Ce\\\",\\\"201Pb\\\",\\\"124La\\\",\\\"134Sb\\\",\\\"135Pm\\\",\\\"183W\\\",\\\"262Bh\\\",\\\"197Po\\\",\\\"121In\\\",\\\"130In\\\",\\\"61Zn\\\",\\\"119In\\\",\\\"85Nb\\\",\\\"150Tm\\\",\\\"84Y\\\",\\\"127Te\\\",\\\"133I\\\",\\\"54Co\\\",\\\"113Pd\\\",\\\"186Re\\\",\\\"96Y\\\",\\\"197Tl\\\",\\\"156Ta\\\",\\\"183Pb\\\",\\\"165Ir\\\",\\\"108Rh\\\",\\\"123Cs\\\",\\\"129In\\\",\\\"106Ag\\\",\\\"207Tl\\\",\\\"68Cu\\\",\\\"136Pm\\\",\\\"103Ag\\\",\\\"198At\\\",\\\"116Sb\\\",\\\"123Sn\\\",\\\"155Lu\\\",\\\"127Xe\\\",\\\"216Ac\\\",\\\"257Db\\\",\\\"152Tm\\\",\\\"98Rb\\\",\\\"80Br\\\",\\\"195Po\\\",\\\"146La\\\",\\\"190Bi\\\",\\\"129Te\\\",\\\"134Xe\\\",\\\"142Pr\\\",\\\"125Xe\\\",\\\"141Tb\\\",\\\"244Am\\\",\\\"144Pr\\\",\\\"178Ta\\\",\\\"162Ho\\\",\\\"99Rh\\\",\\\"100Ag\\\",\\\"179Lu\\\",\\\"192Bi\\\",\\\"236Np\\\",\\\"190Au\\\",\\\"119Te\\\",\\\"188Ta\\\",\\\"140Eu\\\",\\\"202Pb\\\",\\\"198Au\\\",\\\"271Ds\\\",\\\"190Re\\\",\\\"88Tc\\\",\\\"132Sb\\\",\\\"171Ir\\\",\\\"114I\\\",\\\"191Tl\\\",\\\"128Sn\\\",\\\"141Gd\\\",\\\"210Bi\\\",\\\"50Mn\\\",\\\"103In\\\",\\\"160Tm\\\",\\\"256Es\\\",\\\"160Ta\\\",\\\"171Hf\\\",\\\"148Pm\\\",\\\"88Nb\\\",\\\"136I\\\",\\\"197Ir\\\",\\\"79Se\\\",\\\"265Sg\\\",\\\"71Zn\\\",\\\"179W\\\",\\\"115In\\\",\\\"183Os\\\",\\\"96Ag\\\",\\\"198Bi\\\",\\\"120Cs\\\",\\\"129Ba\\\",\\\"246Am\\\",\\\"116Rh\\\",\\\"172Ir\\\",\\\"90Nb\\\",\\\"84Rb\\\",\\\"203Pb\\\",\\\"189Tl\\\",\\\"194Tl\\\",\\\"197Pt\\\",\\\"199Fr\\\",\\\"193Tl\\\",\\\"169Ir\\\",\\\"187Ir\\\",\\\"153Ho\\\",\\\"195Rn\\\",\\\"218U\\\",\\\"185Ta\\\",\\\"202Pt\\\",\\\"188Ir\\\",\\\"85Zr\\\",\\\"94Nb\\\",\\\"166Ir\\\",\\\"26Al\\\",\\\"184Re\\\",\\\"199Bi\\\",\\\"120In\\\",\\\"94Tc\\\",\\\"73Se\\\",\\\"160Ho\\\",\\\"184Au\\\",\\\"194At\\\",\\\"191Hg\\\",\\\"70Cu\\\",\\\"85Y\\\",\\\"204Fr\\\",\\\"235U\\\",\\\"153Sm\\\",\\\"191Au\\\",\\\"82As\\\",\\\"71Ni\\\",\\\"184Pt\\\",\\\"161Ta\\\",\\\"201Bi\\\",\\\"244Cm\\\",\\\"142Eu\\\",\\\"58Mn\\\",\\\"68Ni\\\",\\\"130Sb\\\",\\\"176Lu\\\",\\\"155Tm\\\",\\\"124In\\\",\\\"197Hg\\\",\\\"143Dy\\\",\\\"180Ta\\\",\\\"212Bi\\\",\\\"159Ho\\\",\\\"151Ho\\\",\\\"265Hs\\\",\\\"200Tl\\\",\\\"156Tb\\\",\\\"177Yb\\\",\\\"81Se\\\",\\\"250Fm\\\",\\\"42Sc\\\",\\\"95Ag\\\",\\\"185Pt\\\",\\\"138Pr\\\",\\\"117Te\\\",\\\"77Zn\\\",\\\"86Tc\\\",\\\"196Ir\\\",\\\"247Es\\\",\\\"118I\\\",\\\"131Te\\\",\\\"250Es\\\",\\\"79Kr\\\",\\\"94Rh\\\",\\\"162Lu\\\",\\\"180W\\\",\\\"103Ru\\\",\\\"154Lu\\\",\\\"116In\\\",\\\"100Nb\\\",\\\"158W\\\",\\\"50Sc\\\",\\\"203Rn\\\",\\\"34Cl\\\",\\\"164Re\\\",\\\"183Re\\\",\\\"91Tc\\\",\\\"201Tl\\\",\\\"172Re\\\",\\\"74Br\\\",\\\"190W\\\",\\\"185W\\\",\\\"130Cs\\\",\\\"95Pd\\\",\\\"131Ba\\\",\\\"247Md\\\",\\\"119Ag\\\",\\\"148Pr\\\",\\\"165Re\\\",\\\"89Zr\\\",\\\"125Sn\\\",\\\"91Nb\\\",\\\"177Au\\\",\\\"177Tl\\\",\\\"254Md\\\",\\\"60Co\\\",\\\"157Ta\\\",\\\"192At\\\",\\\"195Ir\\\",\\\"199Pt\\\",\\\"98In\\\",\\\"157Dy\\\",\\\"196At\\\",\\\"216At\\\",\\\"189Pb\\\",\\\"105Rh\\\",\\\"133Ba\\\",\\\"154Tb\\\",\\\"139Gd\\\",\\\"154Tm\\\",\\\"158Ta\\\",\\\"140Pm\\\",\\\"139Ce\\\",\\\"193Pt\\\",\\\"145Tb\\\",\\\"95Rh\\\",\\\"182Re\\\",\\\"182Hf\\\",\\\"173Au\\\",\\\"160Lu\\\",\\\"146Dy\\\",\\\"158Tb\\\",\\\"196Tl\\\",\\\"204At\\\",\\\"150Eu\\\",\\\"157Er\\\",\\\"207Ra\\\",\\\"184Bi\\\",\\\"187Au\\\",\\\"122Ag\\\",\\\"153Lu\\\",\\\"192Tl\\\",\\\"203Po\\\",\\\"154Ho\\\",\\\"133In\\\",\\\"151Er\\\",\\\"212At\\\",\\\"124Cs\\\",\\\"52Fe\\\",\\\"86Y\\\",\\\"149Er\\\",\\\"164Tm\\\",\\\"60Mn\\\",\\\"149Ho\\\",\\\"117Pd\\\",\\\"84Ga\\\",\\\"117Cd\\\",\\\"118Cs\\\",\\\"175Au\\\",\\\"215Bi\\\",\\\"124Sb\\\",\\\"182Ta\\\",\\\"95Tc\\\",\\\"183Pt\\\",\\\"222Ac\\\",\\\"99Ag\\\",\\\"191Po\\\",\\\"125Cs\\\",\\\"205Pb\\\",\\\"104In\\\",\\\"162Tm\\\",\\\"199Po\\\",\\\"166Ho\\\",\\\"136Cs\\\",\\\"137Ce\\\",\\\"151Yb\\\",\\\"202Fr\\\",\\\"44Sc\\\",\\\"281Ds\\\",\\\"77Br\\\",\\\"193Po\\\",\\\"266Mt\\\",\\\"119Cd\\\",\\\"145Gd\\\",\\\"161Re\\\",\\\"194Au\\\",\\\"171Lu\\\",\\\"166Tm\\\",\\\"117Cs\\\",\\\"176Ta\\\",\\\"78Y\\\",\\\"166Lu\\\",\\\"121Te\\\",\\\"178Lu\\\",\\\"114In\\\",\\\"107Pd\\\",\\\"38K\\\",\\\"168Ir\\\",\\\"170Au\\\",\\\"94Ag\\\",\\\"104Rh\\\",\\\"98Nb\\\",\\\"131Ce\\\",\\\"134Cs\\\",\\\"245Md\\\",\\\"97Y\\\",\\\"110Rh\\\",\\\"152Pm\\\",\\\"26F\\\",\\\"126La\\\",\\\"183Tl\\\",\\\"234Pa\\\",\\\"189Hg\\\",\\\"115Pd\\\",\\\"131Pr\\\",\\\"131In\\\",\\\"93Y\\\",\\\"143Sm\\\",\\\"172Lu\\\",\\\"248Bk\\\",\\\"190Ir\\\",\\\"132Ce\\\",\\\"195Tl\\\",\\\"257Rf\\\",\\\"203Fr\\\",\\\"140Nd\\\",\\\"123Te\\\",\\\"191At\\\",\\\"180Lu\\\",\\\"102Tc\\\",\\\"128Sb\\\",\\\"69Ni\\\",\\\"164Ir\\\",\\\"90Rb\\\",\\\"125La\\\",\\\"100Y\\\",\\\"145Dy\\\",\\\"114Ag\\\",\\\"141Nd\\\",\\\"127Sn\\\",\\\"121Cs\\\",\\\"200At\\\",\\\"150Ho\\\",\\\"212Po\\\",\\\"110In\\\",\\\"150Tb\\\",\\\"76Cu\\\",\\\"163Ho\\\",\\\"181Pb\\\",\\\"108Ag\\\",\\\"134Pr\\\",\\\"98Rh\\\",\\\"156Lu\\\",\\\"151Tm\\\",\\\"106Rh\\\",\\\"125Cd\\\",\\\"118Ag\\\",\\\"135Ce\\\",\\\"105Ag\\\",\\\"147Dy\\\",\\\"81Kr\\\",\\\"200Bi\\\",\\\"126Pd\\\",\\\"105In\\\",\\\"52Mn\\\",\\\"88Y\\\",\\\"199Au\\\",\\\"185Hg\\\",\\\"207Po\\\",\\\"186Ir\\\",\\\"206Ac\\\",\\\"199Tl\\\",\\\"151Ce\\\",\\\"202At\\\",\\\"101Rh\\\",\\\"197At\\\",\\\"134Pm\\\",\\\"46V\\\",\\\"117In\\\",\\\"113Cd\\\",\\\"258Db\\\",\\\"80Y\\\",\\\"255Lr\\\",\\\"95Nb\\\",\\\"156Hf\\\",\\\"53Co\\\",\\\"161Ho\\\",\\\"133Pm\\\",\\\"196Au\\\",\\\"185Pb\\\",\\\"38Cl\\\",\\\"81Rb\\\",\\\"195At\\\",\\\"197Pb\\\",\\\"87Nb\\\",\\\"116Ag\\\",\\\"193Bi\\\",\\\"112Rh\\\",\\\"122Sb\\\",\\\"92Rh\\\",\\\"168Lu\\\",\\\"64Mn\\\",\\\"197Bi\\\",\\\"84Br\\\",\\\"270Ds\\\",\\\"139Nd\\\",\\\"193At\\\",\\\"201Rn\\\",\\\"253Lr\\\",\\\"211Po\\\",\\\"191Os\\\",\\\"258Md\\\",\\\"170Ir\\\",\\\"115Ag\\\",\\\"127In\\\",\\\"135Xe\\\",\\\"69Zn\\\",\\\"46Sc\\\",\\\"111In\\\",\\\"142Tb\\\",\\\"196Bi\\\",\\\"171Au\\\",\\\"97Tc\\\",\\\"125In\\\",\\\"126In\\\",\\\"195Au\\\",\\\"193Hg\\\",\\\"188Re\\\",\\\"117La\\\",\\\"93Ru\\\",\\\"177Lu\\\",\\\"181Tl\\\",\\\"142Pm\\\",\\\"62Mn\\\",\\\"189Ir\\\",\\\"96Tc\\\",\\\"237Pu\\\",\\\"119Cs\\\",\\\"91Mo\\\",\\\"149Dy\\\",\\\"155Ho\\\",\\\"128In\\\",\\\"263Sg\\\",\\\"193Pb\\\",\\\"53Fe\\\",\\\"120I\\\",\\\"71Ge\\\",\\\"205Po\\\",\\\"130I\\\",\\\"77Ge\\\",\\\"127La\\\",\\\"141Sm\\\",\\\"138Cs\\\",\\\"169Yb\\\",\\\"156Pm\\\",\\\"158Ho\\\",\\\"127Ce\\\",\\\"179Ta\\\",\\\"164Ho\\\",\\\"72Ga\\\",\\\"161Lu\\\",\\\"157Lu\\\",\\\"85Sr\\\",\\\"123Cd\\\",\\\"123In\\\",\\\"242Am\\\",\\\"99Tc\\\",\\\"75Ge\\\",\\\"85Kr\\\",\\\"131Sn\\\",\\\"247Fm\\\",\\\"83Se\\\",\\\"89Mo\\\",\\\"116Cs\\\",\\\"101Ag\\\",\\\"134I\\\",\\\"167Ir\\\",\\\"87Y\\\",\\\"204Bi\\\",\\\"120Ag\\\",\\\"190Tl\\\",\\\"109In\\\",\\\"177Pt\\\",\\\"200Au\\\",\\\"216U\\\",\\\"104Nb\\\",\\\"70Br\\\",\\\"205Ra\\\",\\\"146Tb\\\",\\\"97Rh\\\",\\\"122In\\\",\\\"144Tb\\\",\\\"154Eu\\\",\\\"187Bi\\\",\\\"91Y\\\",\\\"195Pb\\\",\\\"279Ds\\\",\\\"177Tm\\\",\\\"159Ta\\\",\\\"58Co\\\",\\\"83Y\\\",\\\"206Fr\\\",\\\"74Ga\\\",\\\"90Tc\\\",\\\"148Tb\\\",\\\"135Nd\\\",\\\"188Tl\\\",\\\"113Ag\\\",\\\"132I\\\",\\\"86Rb\\\",\\\"106In\\\",\\\"199At\\\",\\\"137Nd\\\",\\\"182Tl\\\",\\\"115Te\\\",\\\"72Br\\\",\\\"127Ba\\\",\\\"133Te\\\",\\\"81Ge\\\",\\\"165Dy\\\",\\\"119Sb\\\",\\\"136Eu\\\",\\\"128La\\\",\\\"135Cs\\\",\\\"170Ho\\\",\\\"83Sr\\\",\\\"148Ho\\\",\\\"111Ag\\\",\\\"133Pr\\\",\\\"185Tl\\\",\\\"213Ra\\\",\\\"89Nb\\\",\\\"78Rb\\\",\\\"115Cd\\\",\\\"170Lu\\\",\\\"117Ag\\\",\\\"152Ho\\\",\\\"181Os\\\",\\\"153Tm\\\",\\\"118Sb\\\",\\\"176Au\\\",\\\"208Bi\\\",\\\"187Hg\\\",\\\"154Pm\\\",\\\"191Pb\\\",\\\"68Co\\\",\\\"102Ag\\\",\\\"184Hf\\\",\\\"218Fr\\\",\\\"192Au\\\",\\\"110Ag\\\",\\\"254No\\\",\\\"141Eu\\\",\\\"122Cs\\\",\\\"91Ru\\\",\\\"129Sn\\\",\\\"214Fr\\\",\\\"203Bi\\\",\\\"172Au\\\",\\\"70Co\\\",\\\"80Ga\\\",\\\"102Y\\\",\\\"107In\\\",\\\"114Rh\\\",\\\"82Rb\\\",\\\"90Y\\\",\\\"130Pr\\\",\\\"199Pb\\\",\\\"186Tl\\\",\\\"114Tc\\\",\\\"98Y\\\",\\\"73Zn\\\",\\\"144Cs\\\",\\\"203Ra\\\",\\\"174Lu\\\",\\\"261Rf\\\",\\\"168Ho\\\",\\\"206Tl\\\",\\\"152Tb\\\",\\\"44V\\\",\\\"236Am\\\",\\\"102Rh\\\",\\\"62Co\\\",\\\"136La\\\",\\\"109Pd\\\",\\\"240Np\\\",\\\"111Pd\\\",\\\"121Sn\\\",\\\"104Ag\\\",\\\"24Al\\\",\\\"149Tb\\\",\\\"251No\\\",\\\"120Sb\\\",\\\"194Bi\\\",\\\"147Tb\\\",\\\"121Cd\\\",\\\"197Rn\\\",\\\"181Hf\\\",\\\"92Nb\\\",\\\"126Sb\\\",\\\"24Na\\\",\\\"187Tl\\\",\\\"217Pa\\\",\\\"199Rn\\\",\\\"156Ho\\\",\\\"139Sm\\\",\\\"175Yb\\\",\\\"198Tl\\\",\\\"100Rh\\\",\\\"195Bi\\\",\\\"99Nb\\\",\\\"65Fe\\\",\\\"201Po\\\",\\\"112In\\\",\\\"208Ac\\\",\\\"93Mo\\\",\\\"191Bi\\\",\\\"133Sm\\\",\\\"173Ir\\\",\\\"143Tb\\\",\\\"89Tc\\\",\\\"133Xe\\\",\\\"195Hg\\\",\\\"205Hg\\\",\\\"132La\\\",\\\"163Re\\\",\\\"186Bi\\\"],\\\"x\\\":[1,2,3,4,5,6,7,8,9,10,11,12,13,14,15,16,17,18,19,20,21,22,23,24,25,26,27,28,29,30,31,32,33,34,35,36,37,38,39,40,41,42,43,44,45,46,47,48,49,50,51,52,53,54,55,56,57,58,59,60,61,62,63,64,65,66,67,68,69,70,71,72,73,74,75,76,77,78,79,80,81,82,83,84,85,86,87,88,89,90,91,92,93,94,95,96,97,98,99,100,101,102,103,104,105,106,107,108,109,110,111,112,113,114,115,116,117,118,119,120,121,122,123,124,125,126,127,128,129,130,131,132,133,134,135,136,137,138,139,140,141,142,143,144,145,146,147,148,149,150,151,152,153,154,155,156,157,158,159,160,161,162,163,164,165,166,167,168,169,170,171,172,173,174,175,176,177,178,179,180,181,182,183,184,185,186,187,188,189,190,191,192,193,194,195,196,197,198,199,200,201,202,203,204,205,206,207,208,209,210,211,212,213,214,215,216,217,218,219,220,221,222,223,224,225,226,227,228,229,230,231,232,233,234,235,236,237,238,239,240,241,242,243,244,245,246,247,248,249,250,251,252,253,254,255,256,257,258,259,260,261,262,263,264,265,266,267,268,269,270,271,272,273,274,275,276,277,278,279,280,281,282,283,284,285,286,287,288,289,290,291,292,293,294,295,296,297,298,299,300,301,302,303,304,305,306,307,308,309,310,311,312,313,314,315,316,317,318,319,320,321,322,323,324,325,326,327,328,329,330,331,332,333,334,335,336,337,338,339,340,341,342,343,344,345,346,347,348,349,350,351,352,353,354,355,356,357,358,359,360,361,362,363,364,365,366,367,368,369,370,371,372,373,374,375,376,377,378,379,380,381,382,383,384,385,386,387,388,389,390,391,392,393,394,395,396,397,398,399,400,401,402,403,404,405,406,407,408,409,410,411,412,413,414,415,416,417,418,419,420,421,422,423,424,425,426,427,428,429,430,431,432,433,434,435,436,437,438,439,440,441,442,443,444,445,446,447,448,449,450,451,452,453,454,455,456,457,458,459,460,461,462,463,464,465,466,467,468,469,470,471,472,473,474,475,476,477,478,479,480,481,482,483,484,485,486,487,488,489,490,491,492,493,494,495,496,497,498,499,500,501,502,503,504,505,506,507,508,509,510,511,512,513,514,515,516,517,518,519,520,521,522,523,524,525,526,527,528,529,530,531,532,533,534,535,536,537,538,539,540,541,542,543,544,545,546,547,548,549,550,551,552,553,554,555,556,557,558,559,560,561,562,563,564,565,566,567,568,569,570,571,572,573,574,575,576,577,578,579,580,581,582,583,584,585,586,587,588,589,590,591,592,593,594,595,596,597,598,599,600,601,602,603,604,605,606,607,608,609,610,611,612,613,614,615,616,617,618,619,620,621,622,623,624,625,626,627,628,629,630,631,632,633,634,635,636,637,638,639,640,641,642,643,644,645,646,647,648,649,650,651,652,653,654,655,656,657,658,659,660,661,662,663,664,665,666,667,668,669,670,671,672,673]}],{\\\"template\\\":{\\\"layout\\\":{\\\"coloraxis\\\":{\\\"colorbar\\\":{\\\"ticks\\\":\\\"\\\",\\\"outlinewidth\\\":0}},\\\"xaxis\\\":{\\\"gridcolor\\\":\\\"white\\\",\\\"zerolinewidth\\\":2,\\\"title\\\":{\\\"standoff\\\":15},\\\"ticks\\\":\\\"\\\",\\\"zerolinecolor\\\":\\\"white\\\",\\\"automargin\\\":true,\\\"linecolor\\\":\\\"white\\\"},\\\"hovermode\\\":\\\"closest\\\",\\\"paper_bgcolor\\\":\\\"white\\\",\\\"geo\\\":{\\\"showlakes\\\":true,\\\"showland\\\":true,\\\"landcolor\\\":\\\"#E5ECF6\\\",\\\"bgcolor\\\":\\\"white\\\",\\\"subunitcolor\\\":\\\"white\\\",\\\"lakecolor\\\":\\\"white\\\"},\\\"colorscale\\\":{\\\"sequential\\\":[[0.0,\\\"#0d0887\\\"],[0.1111111111111111,\\\"#46039f\\\"],[0.2222222222222222,\\\"#7201a8\\\"],[0.3333333333333333,\\\"#9c179e\\\"],[0.4444444444444444,\\\"#bd3786\\\"],[0.5555555555555556,\\\"#d8576b\\\"],[0.6666666666666666,\\\"#ed7953\\\"],[0.7777777777777778,\\\"#fb9f3a\\\"],[0.8888888888888888,\\\"#fdca26\\\"],[1.0,\\\"#f0f921\\\"]],\\\"diverging\\\":[[0,\\\"#8e0152\\\"],[0.1,\\\"#c51b7d\\\"],[0.2,\\\"#de77ae\\\"],[0.3,\\\"#f1b6da\\\"],[0.4,\\\"#fde0ef\\\"],[0.5,\\\"#f7f7f7\\\"],[0.6,\\\"#e6f5d0\\\"],[0.7,\\\"#b8e186\\\"],[0.8,\\\"#7fbc41\\\"],[0.9,\\\"#4d9221\\\"],[1,\\\"#276419\\\"]],\\\"sequentialminus\\\":[[0.0,\\\"#0d0887\\\"],[0.1111111111111111,\\\"#46039f\\\"],[0.2222222222222222,\\\"#7201a8\\\"],[0.3333333333333333,\\\"#9c179e\\\"],[0.4444444444444444,\\\"#bd3786\\\"],[0.5555555555555556,\\\"#d8576b\\\"],[0.6666666666666666,\\\"#ed7953\\\"],[0.7777777777777778,\\\"#fb9f3a\\\"],[0.8888888888888888,\\\"#fdca26\\\"],[1.0,\\\"#f0f921\\\"]]},\\\"yaxis\\\":{\\\"gridcolor\\\":\\\"white\\\",\\\"zerolinewidth\\\":2,\\\"title\\\":{\\\"standoff\\\":15},\\\"ticks\\\":\\\"\\\",\\\"zerolinecolor\\\":\\\"white\\\",\\\"automargin\\\":true,\\\"linecolor\\\":\\\"white\\\"},\\\"shapedefaults\\\":{\\\"line\\\":{\\\"color\\\":\\\"#2a3f5f\\\"}},\\\"hoverlabel\\\":{\\\"align\\\":\\\"left\\\"},\\\"mapbox\\\":{\\\"style\\\":\\\"light\\\"},\\\"polar\\\":{\\\"angularaxis\\\":{\\\"gridcolor\\\":\\\"white\\\",\\\"ticks\\\":\\\"\\\",\\\"linecolor\\\":\\\"white\\\"},\\\"bgcolor\\\":\\\"#E5ECF6\\\",\\\"radialaxis\\\":{\\\"gridcolor\\\":\\\"white\\\",\\\"ticks\\\":\\\"\\\",\\\"linecolor\\\":\\\"white\\\"}},\\\"autotypenumbers\\\":\\\"strict\\\",\\\"font\\\":{\\\"color\\\":\\\"#2a3f5f\\\"},\\\"ternary\\\":{\\\"baxis\\\":{\\\"gridcolor\\\":\\\"white\\\",\\\"ticks\\\":\\\"\\\",\\\"linecolor\\\":\\\"white\\\"},\\\"bgcolor\\\":\\\"#E5ECF6\\\",\\\"caxis\\\":{\\\"gridcolor\\\":\\\"white\\\",\\\"ticks\\\":\\\"\\\",\\\"linecolor\\\":\\\"white\\\"},\\\"aaxis\\\":{\\\"gridcolor\\\":\\\"white\\\",\\\"ticks\\\":\\\"\\\",\\\"linecolor\\\":\\\"white\\\"}},\\\"annotationdefaults\\\":{\\\"arrowhead\\\":0,\\\"arrowwidth\\\":1,\\\"arrowcolor\\\":\\\"#2a3f5f\\\"},\\\"plot_bgcolor\\\":\\\"#E5ECF6\\\",\\\"title\\\":{\\\"x\\\":0.05},\\\"scene\\\":{\\\"xaxis\\\":{\\\"gridcolor\\\":\\\"white\\\",\\\"gridwidth\\\":2,\\\"backgroundcolor\\\":\\\"#E5ECF6\\\",\\\"ticks\\\":\\\"\\\",\\\"showbackground\\\":true,\\\"zerolinecolor\\\":\\\"white\\\",\\\"linecolor\\\":\\\"white\\\"},\\\"zaxis\\\":{\\\"gridcolor\\\":\\\"white\\\",\\\"gridwidth\\\":2,\\\"backgroundcolor\\\":\\\"#E5ECF6\\\",\\\"ticks\\\":\\\"\\\",\\\"showbackground\\\":true,\\\"zerolinecolor\\\":\\\"white\\\",\\\"linecolor\\\":\\\"white\\\"},\\\"yaxis\\\":{\\\"gridcolor\\\":\\\"white\\\",\\\"gridwidth\\\":2,\\\"backgroundcolor\\\":\\\"#E5ECF6\\\",\\\"ticks\\\":\\\"\\\",\\\"showbackground\\\":true,\\\"zerolinecolor\\\":\\\"white\\\",\\\"linecolor\\\":\\\"white\\\"}},\\\"colorway\\\":[\\\"#636efa\\\",\\\"#EF553B\\\",\\\"#00cc96\\\",\\\"#ab63fa\\\",\\\"#FFA15A\\\",\\\"#19d3f3\\\",\\\"#FF6692\\\",\\\"#B6E880\\\",\\\"#FF97FF\\\",\\\"#FECB52\\\"]},\\\"data\\\":{\\\"barpolar\\\":[{\\\"type\\\":\\\"barpolar\\\",\\\"marker\\\":{\\\"line\\\":{\\\"color\\\":\\\"#E5ECF6\\\",\\\"width\\\":0.5}}}],\\\"carpet\\\":[{\\\"aaxis\\\":{\\\"gridcolor\\\":\\\"white\\\",\\\"endlinecolor\\\":\\\"#2a3f5f\\\",\\\"minorgridcolor\\\":\\\"white\\\",\\\"startlinecolor\\\":\\\"#2a3f5f\\\",\\\"linecolor\\\":\\\"white\\\"},\\\"type\\\":\\\"carpet\\\",\\\"baxis\\\":{\\\"gridcolor\\\":\\\"white\\\",\\\"endlinecolor\\\":\\\"#2a3f5f\\\",\\\"minorgridcolor\\\":\\\"white\\\",\\\"startlinecolor\\\":\\\"#2a3f5f\\\",\\\"linecolor\\\":\\\"white\\\"}}],\\\"scatterpolar\\\":[{\\\"type\\\":\\\"scatterpolar\\\",\\\"marker\\\":{\\\"colorbar\\\":{\\\"ticks\\\":\\\"\\\",\\\"outlinewidth\\\":0}}}],\\\"parcoords\\\":[{\\\"line\\\":{\\\"colorbar\\\":{\\\"ticks\\\":\\\"\\\",\\\"outlinewidth\\\":0}},\\\"type\\\":\\\"parcoords\\\"}],\\\"scatter\\\":[{\\\"type\\\":\\\"scatter\\\",\\\"marker\\\":{\\\"colorbar\\\":{\\\"ticks\\\":\\\"\\\",\\\"outlinewidth\\\":0}}}],\\\"histogram2dcontour\\\":[{\\\"colorbar\\\":{\\\"ticks\\\":\\\"\\\",\\\"outlinewidth\\\":0},\\\"type\\\":\\\"histogram2dcontour\\\",\\\"colorscale\\\":[[0.0,\\\"#0d0887\\\"],[0.1111111111111111,\\\"#46039f\\\"],[0.2222222222222222,\\\"#7201a8\\\"],[0.3333333333333333,\\\"#9c179e\\\"],[0.4444444444444444,\\\"#bd3786\\\"],[0.5555555555555556,\\\"#d8576b\\\"],[0.6666666666666666,\\\"#ed7953\\\"],[0.7777777777777778,\\\"#fb9f3a\\\"],[0.8888888888888888,\\\"#fdca26\\\"],[1.0,\\\"#f0f921\\\"]]}],\\\"contour\\\":[{\\\"colorbar\\\":{\\\"ticks\\\":\\\"\\\",\\\"outlinewidth\\\":0},\\\"type\\\":\\\"contour\\\",\\\"colorscale\\\":[[0.0,\\\"#0d0887\\\"],[0.1111111111111111,\\\"#46039f\\\"],[0.2222222222222222,\\\"#7201a8\\\"],[0.3333333333333333,\\\"#9c179e\\\"],[0.4444444444444444,\\\"#bd3786\\\"],[0.5555555555555556,\\\"#d8576b\\\"],[0.6666666666666666,\\\"#ed7953\\\"],[0.7777777777777778,\\\"#fb9f3a\\\"],[0.8888888888888888,\\\"#fdca26\\\"],[1.0,\\\"#f0f921\\\"]]}],\\\"scattercarpet\\\":[{\\\"type\\\":\\\"scattercarpet\\\",\\\"marker\\\":{\\\"colorbar\\\":{\\\"ticks\\\":\\\"\\\",\\\"outlinewidth\\\":0}}}],\\\"mesh3d\\\":[{\\\"colorbar\\\":{\\\"ticks\\\":\\\"\\\",\\\"outlinewidth\\\":0},\\\"type\\\":\\\"mesh3d\\\"}],\\\"surface\\\":[{\\\"colorbar\\\":{\\\"ticks\\\":\\\"\\\",\\\"outlinewidth\\\":0},\\\"type\\\":\\\"surface\\\",\\\"colorscale\\\":[[0.0,\\\"#0d0887\\\"],[0.1111111111111111,\\\"#46039f\\\"],[0.2222222222222222,\\\"#7201a8\\\"],[0.3333333333333333,\\\"#9c179e\\\"],[0.4444444444444444,\\\"#bd3786\\\"],[0.5555555555555556,\\\"#d8576b\\\"],[0.6666666666666666,\\\"#ed7953\\\"],[0.7777777777777778,\\\"#fb9f3a\\\"],[0.8888888888888888,\\\"#fdca26\\\"],[1.0,\\\"#f0f921\\\"]]}],\\\"scattermapbox\\\":[{\\\"type\\\":\\\"scattermapbox\\\",\\\"marker\\\":{\\\"colorbar\\\":{\\\"ticks\\\":\\\"\\\",\\\"outlinewidth\\\":0}}}],\\\"scattergeo\\\":[{\\\"type\\\":\\\"scattergeo\\\",\\\"marker\\\":{\\\"colorbar\\\":{\\\"ticks\\\":\\\"\\\",\\\"outlinewidth\\\":0}}}],\\\"histogram\\\":[{\\\"type\\\":\\\"histogram\\\",\\\"marker\\\":{\\\"colorbar\\\":{\\\"ticks\\\":\\\"\\\",\\\"outlinewidth\\\":0}}}],\\\"pie\\\":[{\\\"type\\\":\\\"pie\\\",\\\"automargin\\\":true}],\\\"choropleth\\\":[{\\\"colorbar\\\":{\\\"ticks\\\":\\\"\\\",\\\"outlinewidth\\\":0},\\\"type\\\":\\\"choropleth\\\"}],\\\"heatmapgl\\\":[{\\\"colorbar\\\":{\\\"ticks\\\":\\\"\\\",\\\"outlinewidth\\\":0},\\\"type\\\":\\\"heatmapgl\\\",\\\"colorscale\\\":[[0.0,\\\"#0d0887\\\"],[0.1111111111111111,\\\"#46039f\\\"],[0.2222222222222222,\\\"#7201a8\\\"],[0.3333333333333333,\\\"#9c179e\\\"],[0.4444444444444444,\\\"#bd3786\\\"],[0.5555555555555556,\\\"#d8576b\\\"],[0.6666666666666666,\\\"#ed7953\\\"],[0.7777777777777778,\\\"#fb9f3a\\\"],[0.8888888888888888,\\\"#fdca26\\\"],[1.0,\\\"#f0f921\\\"]]}],\\\"bar\\\":[{\\\"type\\\":\\\"bar\\\",\\\"error_y\\\":{\\\"color\\\":\\\"#2a3f5f\\\"},\\\"error_x\\\":{\\\"color\\\":\\\"#2a3f5f\\\"},\\\"marker\\\":{\\\"line\\\":{\\\"color\\\":\\\"#E5ECF6\\\",\\\"width\\\":0.5}}}],\\\"heatmap\\\":[{\\\"colorbar\\\":{\\\"ticks\\\":\\\"\\\",\\\"outlinewidth\\\":0},\\\"type\\\":\\\"heatmap\\\",\\\"colorscale\\\":[[0.0,\\\"#0d0887\\\"],[0.1111111111111111,\\\"#46039f\\\"],[0.2222222222222222,\\\"#7201a8\\\"],[0.3333333333333333,\\\"#9c179e\\\"],[0.4444444444444444,\\\"#bd3786\\\"],[0.5555555555555556,\\\"#d8576b\\\"],[0.6666666666666666,\\\"#ed7953\\\"],[0.7777777777777778,\\\"#fb9f3a\\\"],[0.8888888888888888,\\\"#fdca26\\\"],[1.0,\\\"#f0f921\\\"]]}],\\\"contourcarpet\\\":[{\\\"colorbar\\\":{\\\"ticks\\\":\\\"\\\",\\\"outlinewidth\\\":0},\\\"type\\\":\\\"contourcarpet\\\"}],\\\"table\\\":[{\\\"type\\\":\\\"table\\\",\\\"header\\\":{\\\"line\\\":{\\\"color\\\":\\\"white\\\"},\\\"fill\\\":{\\\"color\\\":\\\"#C8D4E3\\\"}},\\\"cells\\\":{\\\"line\\\":{\\\"color\\\":\\\"white\\\"},\\\"fill\\\":{\\\"color\\\":\\\"#EBF0F8\\\"}}}],\\\"scatter3d\\\":[{\\\"line\\\":{\\\"colorbar\\\":{\\\"ticks\\\":\\\"\\\",\\\"outlinewidth\\\":0}},\\\"type\\\":\\\"scatter3d\\\",\\\"marker\\\":{\\\"colorbar\\\":{\\\"ticks\\\":\\\"\\\",\\\"outlinewidth\\\":0}}}],\\\"scattergl\\\":[{\\\"type\\\":\\\"scattergl\\\",\\\"marker\\\":{\\\"colorbar\\\":{\\\"ticks\\\":\\\"\\\",\\\"outlinewidth\\\":0}}}],\\\"histogram2d\\\":[{\\\"colorbar\\\":{\\\"ticks\\\":\\\"\\\",\\\"outlinewidth\\\":0},\\\"type\\\":\\\"histogram2d\\\",\\\"colorscale\\\":[[0.0,\\\"#0d0887\\\"],[0.1111111111111111,\\\"#46039f\\\"],[0.2222222222222222,\\\"#7201a8\\\"],[0.3333333333333333,\\\"#9c179e\\\"],[0.4444444444444444,\\\"#bd3786\\\"],[0.5555555555555556,\\\"#d8576b\\\"],[0.6666666666666666,\\\"#ed7953\\\"],[0.7777777777777778,\\\"#fb9f3a\\\"],[0.8888888888888888,\\\"#fdca26\\\"],[1.0,\\\"#f0f921\\\"]]}],\\\"scatterternary\\\":[{\\\"type\\\":\\\"scatterternary\\\",\\\"marker\\\":{\\\"colorbar\\\":{\\\"ticks\\\":\\\"\\\",\\\"outlinewidth\\\":0}}}],\\\"scatterpolargl\\\":[{\\\"type\\\":\\\"scatterpolargl\\\",\\\"marker\\\":{\\\"colorbar\\\":{\\\"ticks\\\":\\\"\\\",\\\"outlinewidth\\\":0}}}]}},\\\"margin\\\":{\\\"l\\\":50,\\\"b\\\":50,\\\"r\\\":50,\\\"t\\\":60},\\\"yaxis\\\":{\\\"type\\\":\\\"log\\\"},\\\"title\\\":\\\"Half-life in Seconds for the Ground States of Nuclear Isomers\\\"},{\\\"showLink\\\":false,\\\"editable\\\":false,\\\"responsive\\\":true,\\\"staticPlot\\\":false,\\\"scrollZoom\\\":true}); gd.on(\\\"plotly_hover\\\",(function (data){var filtered_data=WebIO.PlotlyCommands.filterEventData(gd,data,\\\"hover\\\"); return !(filtered_data.isnil) ? (WebIO.setval({\\\"name\\\":\\\"hover\\\",\\\"scope\\\":\\\"7263120333813012064\\\",\\\"id\\\":\\\"5146083612232355104\\\",\\\"type\\\":\\\"observable\\\"},filtered_data.out)) : undefined})); gd.on(\\\"plotly_unhover\\\",(function (){return WebIO.setval({\\\"name\\\":\\\"hover\\\",\\\"scope\\\":\\\"7263120333813012064\\\",\\\"id\\\":\\\"5146083612232355104\\\",\\\"type\\\":\\\"observable\\\"},{})})); gd.on(\\\"plotly_selected\\\",(function (data){var filtered_data=WebIO.PlotlyCommands.filterEventData(gd,data,\\\"selected\\\"); return !(filtered_data.isnil) ? (WebIO.setval({\\\"name\\\":\\\"selected\\\",\\\"scope\\\":\\\"7263120333813012064\\\",\\\"id\\\":\\\"8690145213980969223\\\",\\\"type\\\":\\\"observable\\\"},filtered_data.out)) : undefined})); gd.on(\\\"plotly_deselect\\\",(function (){return WebIO.setval({\\\"name\\\":\\\"selected\\\",\\\"scope\\\":\\\"7263120333813012064\\\",\\\"id\\\":\\\"8690145213980969223\\\",\\\"type\\\":\\\"observable\\\"},{})})); gd.on(\\\"plotly_relayout\\\",(function (data){var filtered_data=WebIO.PlotlyCommands.filterEventData(gd,data,\\\"relayout\\\"); return !(filtered_data.isnil) ? (WebIO.setval({\\\"name\\\":\\\"relayout\\\",\\\"scope\\\":\\\"7263120333813012064\\\",\\\"id\\\":\\\"13596220926807065802\\\",\\\"type\\\":\\\"observable\\\"},filtered_data.out)) : undefined})); return gd.on(\\\"plotly_click\\\",(function (data){var filtered_data=WebIO.PlotlyCommands.filterEventData(gd,data,\\\"click\\\"); return !(filtered_data.isnil) ? (WebIO.setval({\\\"name\\\":\\\"click\\\",\\\"scope\\\":\\\"7263120333813012064\\\",\\\"id\\\":\\\"10334531391719052111\\\",\\\"type\\\":\\\"observable\\\"},filtered_data.out)) : undefined}))}));\\n    (WebIO.importBlock({\\\"data\\\":[{\\\"name\\\":\\\"Plotly\\\",\\\"type\\\":\\\"js\\\",\\\"url\\\":\\\"\\/assetserver\\/974bc88f8fa21ff4c3cbd84b6afff90488058aa7-plotly.min.js\\\"},{\\\"name\\\":null,\\\"type\\\":\\\"js\\\",\\\"url\\\":\\\"\\/assetserver\\/64d87b978f97348bc0d43ca0daa59975ea5d4c91-plotly_webio.bundle.js\\\"}],\\\"type\\\":\\\"async_block\\\"})).then((imports) => handler.apply(this, imports));\\n}\\n\"],\"observables\":{\"_toImage\":{\"sync\":false,\"id\":\"10837823379902394854\",\"value\":{}},\"hover\":{\"sync\":false,\"id\":\"5146083612232355104\",\"value\":{}},\"selected\":{\"sync\":false,\"id\":\"8690145213980969223\",\"value\":{}},\"__gd_contents\":{\"sync\":false,\"id\":\"12478990228395060049\",\"value\":{}},\"click\":{\"sync\":false,\"id\":\"10334531391719052111\",\"value\":{}},\"image\":{\"sync\":true,\"id\":\"9075853753597964154\",\"value\":\"\"},\"__get_gd_contents\":{\"sync\":false,\"id\":\"9908703528211687520\",\"value\":\"\"},\"_downloadImage\":{\"sync\":false,\"id\":\"10010650164782171482\",\"value\":{}},\"relayout\":{\"sync\":false,\"id\":\"13596220926807065802\",\"value\":{}},\"_commands\":{\"sync\":false,\"id\":\"474220143419562396\",\"value\":[]}}},\"children\":[{\"props\":{\"id\":\"plot-09d77728-8e73-4915-9000-b101521fdc1d\"},\"nodeType\":\"DOM\",\"type\":\"node\",\"instanceArgs\":{\"namespace\":\"html\",\"tag\":\"div\"},\"children\":[]}]},\n",
       "        window,\n",
       "    );\n",
       "    })()\n",
       "    </script>\n",
       "</div>\n"
      ],
      "text/plain": [
       "data: [\n",
       "  \"scatter with fields mode, text, type, x, and y\"\n",
       "]\n",
       "\n",
       "layout: \"layout with fields margin, template, title, and yaxis\"\n",
       "\n"
      ]
     },
     "execution_count": 32,
     "metadata": {},
     "output_type": "execute_result"
    }
   ],
   "source": [
    "PlotlyJS.plot(half_lives, Layout(yaxis_type = \"log\",\n",
    "            title = \"Half-life in Seconds for the Ground States of Nuclear Isomers\"), \n",
    "            mode = \"markers\", text = unstable_ground_states)"
   ]
  },
  {
   "cell_type": "markdown",
   "metadata": {},
   "source": [
    "Now to find the ground states with half-lives longer than 4 months"
   ]
  },
  {
   "cell_type": "code",
   "execution_count": 33,
   "metadata": {},
   "outputs": [
    {
     "data": {
      "text/html": [
       "<div class=\"data-frame\"><p>673 rows × 2 columns</p><table class=\"data-frame\"><thead><tr><th></th><th>Half_life</th><th>Isotope</th></tr><tr><th></th><th title=\"Any\">Any</th><th title=\"Any\">Any</th></tr></thead><tbody><tr><th>1</th><td>9.94378e6</td><td>113Sn</td></tr><tr><th>2</th><td>3.4</td><td>167Re</td></tr><tr><th>3</th><td>7.9</td><td>174Ir</td></tr><tr><th>4</th><td>0.012</td><td>90Rh</td></tr><tr><th>5</th><td>5.0</td><td>118In</td></tr><tr><th>6</th><td>0.265</td><td>188Bi</td></tr><tr><th>7</th><td>696.0</td><td>129La</td></tr><tr><th>8</th><td>6048.0</td><td>87Zr</td></tr><tr><th>9</th><td>3480.0</td><td>108In</td></tr><tr><th>10</th><td>39.0</td><td>143Gd</td></tr><tr><th>11</th><td>0.674</td><td>189Bi</td></tr><tr><th>12</th><td>0.151</td><td>129Cd</td></tr><tr><th>13</th><td>4.3</td><td>102Nb</td></tr><tr><th>14</th><td>2.38205e7</td><td>254Es</td></tr><tr><th>15</th><td>1722.0</td><td>189Au</td></tr><tr><th>16</th><td>63396.0</td><td>151Tb</td></tr><tr><th>17</th><td>6.7</td><td>129Nd</td></tr><tr><th>18</th><td>10.0</td><td>138Pm</td></tr><tr><th>19</th><td>58320.0</td><td>76Br</td></tr><tr><th>20</th><td>132.0</td><td>242Np</td></tr><tr><th>21</th><td>0.8</td><td>113Ru</td></tr><tr><th>22</th><td>69408.0</td><td>194Ir</td></tr><tr><th>23</th><td>255.0</td><td>185Au</td></tr><tr><th>24</th><td>0.068</td><td>146Tm</td></tr><tr><th>25</th><td>63540.0</td><td>193Au</td></tr><tr><th>26</th><td>9900.0</td><td>93Tc</td></tr><tr><th>27</th><td>5832.0</td><td>133Ce</td></tr><tr><th>28</th><td>23.8</td><td>249Md</td></tr><tr><th>29</th><td>6.37891e6</td><td>192Ir</td></tr><tr><th>30</th><td>4.26974e8</td><td>152Eu</td></tr><tr><th>&vellip;</th><td>&vellip;</td><td>&vellip;</td></tr></tbody></table></div>"
      ],
      "text/latex": [
       "\\begin{tabular}{r|cc}\n",
       "\t& Half\\_life & Isotope\\\\\n",
       "\t\\hline\n",
       "\t& Any & Any\\\\\n",
       "\t\\hline\n",
       "\t1 & 9.94378e6 & 113Sn \\\\\n",
       "\t2 & 3.4 & 167Re \\\\\n",
       "\t3 & 7.9 & 174Ir \\\\\n",
       "\t4 & 0.012 & 90Rh \\\\\n",
       "\t5 & 5.0 & 118In \\\\\n",
       "\t6 & 0.265 & 188Bi \\\\\n",
       "\t7 & 696.0 & 129La \\\\\n",
       "\t8 & 6048.0 & 87Zr \\\\\n",
       "\t9 & 3480.0 & 108In \\\\\n",
       "\t10 & 39.0 & 143Gd \\\\\n",
       "\t11 & 0.674 & 189Bi \\\\\n",
       "\t12 & 0.151 & 129Cd \\\\\n",
       "\t13 & 4.3 & 102Nb \\\\\n",
       "\t14 & 2.38205e7 & 254Es \\\\\n",
       "\t15 & 1722.0 & 189Au \\\\\n",
       "\t16 & 63396.0 & 151Tb \\\\\n",
       "\t17 & 6.7 & 129Nd \\\\\n",
       "\t18 & 10.0 & 138Pm \\\\\n",
       "\t19 & 58320.0 & 76Br \\\\\n",
       "\t20 & 132.0 & 242Np \\\\\n",
       "\t21 & 0.8 & 113Ru \\\\\n",
       "\t22 & 69408.0 & 194Ir \\\\\n",
       "\t23 & 255.0 & 185Au \\\\\n",
       "\t24 & 0.068 & 146Tm \\\\\n",
       "\t25 & 63540.0 & 193Au \\\\\n",
       "\t26 & 9900.0 & 93Tc \\\\\n",
       "\t27 & 5832.0 & 133Ce \\\\\n",
       "\t28 & 23.8 & 249Md \\\\\n",
       "\t29 & 6.37891e6 & 192Ir \\\\\n",
       "\t30 & 4.26974e8 & 152Eu \\\\\n",
       "\t$\\dots$ & $\\dots$ & $\\dots$ \\\\\n",
       "\\end{tabular}\n"
      ],
      "text/plain": [
       "\u001b[1m673×2 DataFrame\u001b[0m\n",
       "\u001b[1m Row \u001b[0m│\u001b[1m Half_life  \u001b[0m\u001b[1m Isotope \u001b[0m\n",
       "\u001b[1m     \u001b[0m│\u001b[90m Any        \u001b[0m\u001b[90m Any     \u001b[0m\n",
       "─────┼─────────────────────\n",
       "   1 │ 9.94378e6   113Sn\n",
       "   2 │ 3.4         167Re\n",
       "   3 │ 7.9         174Ir\n",
       "   4 │ 0.012       90Rh\n",
       "   5 │ 5.0         118In\n",
       "   6 │ 0.265       188Bi\n",
       "   7 │ 696.0       129La\n",
       "   8 │ 6048.0      87Zr\n",
       "   9 │ 3480.0      108In\n",
       "  10 │ 39.0        143Gd\n",
       "  11 │ 0.674       189Bi\n",
       "  ⋮  │     ⋮          ⋮\n",
       " 664 │ 2.89        133Sm\n",
       " 665 │ 9.3         173Ir\n",
       " 666 │ 12.0        143Tb\n",
       " 667 │ 12.8        89Tc\n",
       " 668 │ 453600.0    133Xe\n",
       " 669 │ 37908.0     195Hg\n",
       " 670 │ 308.4       205Hg\n",
       " 671 │ 17280.0     132La\n",
       " 672 │ 0.39        163Re\n",
       " 673 │ 0.0148      186Bi\n",
       "\u001b[36m           652 rows omitted\u001b[0m"
      ]
     },
     "execution_count": 33,
     "metadata": {},
     "output_type": "execute_result"
    }
   ],
   "source": [
    "half_lives_dict = Dict([\"Half_life\" => half_lives, \n",
    "                    \"Isotope\" => unstable_ground_states])\n",
    "half_lives_df = DataFrame(half_lives_dict)"
   ]
  },
  {
   "cell_type": "code",
   "execution_count": 49,
   "metadata": {},
   "outputs": [
    {
     "name": "stdout",
     "output_type": "stream",
     "text": [
      "[\"C:\\\\Cross-Section-Data\\\\jendl5-dec_upd5\\\\103-Lr-255.dat\", \"C:\\\\Cross-Section-Data\\\\jendl5-dec_upd5\\\\29-Cu-70.dat\", \"C:\\\\Cross-Section-Data\\\\jendl5-dec_upd5\\\\30-Zn-61.dat\", \"C:\\\\Cross-Section-Data\\\\jendl5-dec_upd5\\\\30-Zn-73.dat\", \"C:\\\\Cross-Section-Data\\\\jendl5-dec_upd5\\\\39-Y-88.dat\", \"C:\\\\Cross-Section-Data\\\\jendl5-dec_upd5\\\\39-Y-97.dat\", \"C:\\\\Cross-Section-Data\\\\jendl5-dec_upd5\\\\41-Nb-90.dat\", \"C:\\\\Cross-Section-Data\\\\jendl5-dec_upd5\\\\45-Rh-92.dat\", \"C:\\\\Cross-Section-Data\\\\jendl5-dec_upd5\\\\47-Ag-116.dat\", \"C:\\\\Cross-Section-Data\\\\jendl5-dec_upd5\\\\47-Ag-94.dat\", \"C:\\\\Cross-Section-Data\\\\jendl5-dec_upd5\\\\47-Ag-95.dat\", \"C:\\\\Cross-Section-Data\\\\jendl5-dec_upd5\\\\49-In-109.dat\", \"C:\\\\Cross-Section-Data\\\\jendl5-dec_upd5\\\\49-In-114.dat\", \"C:\\\\Cross-Section-Data\\\\jendl5-dec_upd5\\\\49-In-116.dat\", \"C:\\\\Cross-Section-Data\\\\jendl5-dec_upd5\\\\49-In-118.dat\", \"C:\\\\Cross-Section-Data\\\\jendl5-dec_upd5\\\\49-In-120.dat\", \"C:\\\\Cross-Section-Data\\\\jendl5-dec_upd5\\\\49-In-122.dat\", \"C:\\\\Cross-Section-Data\\\\jendl5-dec_upd5\\\\49-In-125.dat\", \"C:\\\\Cross-Section-Data\\\\jendl5-dec_upd5\\\\49-In-127.dat\", \"C:\\\\Cross-Section-Data\\\\jendl5-dec_upd5\\\\49-In-129.dat\", \"C:\\\\Cross-Section-Data\\\\jendl5-dec_upd5\\\\49-In-130.dat\", \"C:\\\\Cross-Section-Data\\\\jendl5-dec_upd5\\\\49-In-131.dat\", \"C:\\\\Cross-Section-Data\\\\jendl5-dec_upd5\\\\51-Sb-122.dat\", \"C:\\\\Cross-Section-Data\\\\jendl5-dec_upd5\\\\51-Sb-124.dat\", \"C:\\\\Cross-Section-Data\\\\jendl5-dec_upd5\\\\51-Sb-126.dat\", \"C:\\\\Cross-Section-Data\\\\jendl5-dec_upd5\\\\52-Te-131.dat\", \"C:\\\\Cross-Section-Data\\\\jendl5-dec_upd5\\\\55-Cs-122.dat\", \"C:\\\\Cross-Section-Data\\\\jendl5-dec_upd5\\\\60-Nd-129.dat\", \"C:\\\\Cross-Section-Data\\\\jendl5-dec_upd5\\\\61-Pm-152.dat\", \"C:\\\\Cross-Section-Data\\\\jendl5-dec_upd5\\\\62-Sm-143.dat\", \"C:\\\\Cross-Section-Data\\\\jendl5-dec_upd5\\\\63-Eu-136.dat\", \"C:\\\\Cross-Section-Data\\\\jendl5-dec_upd5\\\\63-Eu-152.dat\", \"C:\\\\Cross-Section-Data\\\\jendl5-dec_upd5\\\\65-Tb-146.dat\", \"C:\\\\Cross-Section-Data\\\\jendl5-dec_upd5\\\\65-Tb-154.dat\", \"C:\\\\Cross-Section-Data\\\\jendl5-dec_upd5\\\\65-Tb-156.dat\", \"C:\\\\Cross-Section-Data\\\\jendl5-dec_upd5\\\\65-Tb-158.dat\", \"C:\\\\Cross-Section-Data\\\\jendl5-dec_upd5\\\\67-Ho-148.dat\", \"C:\\\\Cross-Section-Data\\\\jendl5-dec_upd5\\\\67-Ho-156.dat\", \"C:\\\\Cross-Section-Data\\\\jendl5-dec_upd5\\\\67-Ho-158.dat\", \"C:\\\\Cross-Section-Data\\\\jendl5-dec_upd5\\\\67-Ho-160.dat\", \"C:\\\\Cross-Section-Data\\\\jendl5-dec_upd5\\\\69-Tm-162.dat\", \"C:\\\\Cross-Section-Data\\\\jendl5-dec_upd5\\\\69-Tm-164.dat\", \"C:\\\\Cross-Section-Data\\\\jendl5-dec_upd5\\\\71-Lu-155.dat\", \"C:\\\\Cross-Section-Data\\\\jendl5-dec_upd5\\\\71-Lu-162.dat\", \"C:\\\\Cross-Section-Data\\\\jendl5-dec_upd5\\\\71-Lu-166.dat\", \"C:\\\\Cross-Section-Data\\\\jendl5-dec_upd5\\\\71-Lu-177.dat\", \"C:\\\\Cross-Section-Data\\\\jendl5-dec_upd5\\\\72-Hf-177.dat\", \"C:\\\\Cross-Section-Data\\\\jendl5-dec_upd5\\\\72-Hf-178.dat\", \"C:\\\\Cross-Section-Data\\\\jendl5-dec_upd5\\\\72-Hf-179.dat\", \"C:\\\\Cross-Section-Data\\\\jendl5-dec_upd5\\\\73-Ta-157.dat\", \"C:\\\\Cross-Section-Data\\\\jendl5-dec_upd5\\\\73-Ta-176.dat\", \"C:\\\\Cross-Section-Data\\\\jendl5-dec_upd5\\\\73-Ta-178.dat\", \"C:\\\\Cross-Section-Data\\\\jendl5-dec_upd5\\\\73-Ta-179.dat\", \"C:\\\\Cross-Section-Data\\\\jendl5-dec_upd5\\\\73-Ta-182.dat\", \"C:\\\\Cross-Section-Data\\\\jendl5-dec_upd5\\\\77-Ir-189.dat\", \"C:\\\\Cross-Section-Data\\\\jendl5-dec_upd5\\\\77-Ir-190.dat\", \"C:\\\\Cross-Section-Data\\\\jendl5-dec_upd5\\\\77-Ir-191.dat\", \"C:\\\\Cross-Section-Data\\\\jendl5-dec_upd5\\\\77-Ir-192.dat\", \"C:\\\\Cross-Section-Data\\\\jendl5-dec_upd5\\\\77-Ir-194.dat\", \"C:\\\\Cross-Section-Data\\\\jendl5-dec_upd5\\\\79-Au-192.dat\", \"C:\\\\Cross-Section-Data\\\\jendl5-dec_upd5\\\\79-Au-194.dat\", \"C:\\\\Cross-Section-Data\\\\jendl5-dec_upd5\\\\79-Au-196.dat\", \"C:\\\\Cross-Section-Data\\\\jendl5-dec_upd5\\\\81-Tl-188.dat\", \"C:\\\\Cross-Section-Data\\\\jendl5-dec_upd5\\\\81-Tl-198.dat\", \"C:\\\\Cross-Section-Data\\\\jendl5-dec_upd5\\\\82-Pb-203.dat\", \"C:\\\\Cross-Section-Data\\\\jendl5-dec_upd5\\\\83-Bi-194.dat\", \"C:\\\\Cross-Section-Data\\\\jendl5-dec_upd5\\\\83-Bi-196.dat\", \"C:\\\\Cross-Section-Data\\\\jendl5-dec_upd5\\\\83-Bi-198.dat\", \"C:\\\\Cross-Section-Data\\\\jendl5-dec_upd5\\\\83-Bi-200.dat\", \"C:\\\\Cross-Section-Data\\\\jendl5-dec_upd5\\\\83-Bi-204.dat\", \"C:\\\\Cross-Section-Data\\\\jendl5-dec_upd5\\\\83-Bi-212.dat\", \"C:\\\\Cross-Section-Data\\\\jendl5-dec_upd5\\\\84-Po-205.dat\", \"C:\\\\Cross-Section-Data\\\\jendl5-dec_upd5\\\\85-At-193.dat\", \"C:\\\\Cross-Section-Data\\\\jendl5-dec_upd5\\\\85-At-200.dat\", \"C:\\\\Cross-Section-Data\\\\jendl5-dec_upd5\\\\85-At-202.dat\", \"C:\\\\Cross-Section-Data\\\\jendl5-dec_upd5\\\\87-Fr-204.dat\", \"C:\\\\Cross-Section-Data\\\\jendl5-dec_upd5\\\\87-Fr-206.dat\", \"C:\\\\Cross-Section-Data\\\\jendl5-dec_upd5\\\\95-Am-242.dat\"]\n"
     ]
    },
    {
     "ename": "LoadError",
     "evalue": "BoundsError: attempt to access 0-element Vector{Int64} at index [1]",
     "output_type": "error",
     "traceback": [
      "BoundsError: attempt to access 0-element Vector{Int64} at index [1]",
      "",
      "Stacktrace:",
      " [1] getindex(A::Vector{Int64}, i1::Int64)",
      "   @ Base .\\array.jl:861",
      " [2] find_decay_info(nuclide::String, info::String, dir::String)",
      "   @ Main .\\In[9]:10",
      " [3] (::var\"#143#144\"{String})(file::String)",
      "   @ Main .\\none:0",
      " [4] iterate",
      "   @ .\\generator.jl:47 [inlined]",
      " [5] collect(itr::Base.Generator{Vector{String}, var\"#143#144\"{String}})",
      "   @ Base .\\array.jl:724",
      " [6] metastable_half_lives(dir::String, energy_levels::Int64)",
      "   @ Main .\\In[49]:18",
      " [7] top-level scope",
      "   @ In[49]:22",
      " [8] eval",
      "   @ .\\boot.jl:373 [inlined]",
      " [9] include_string(mapexpr::typeof(REPL.softscope), mod::Module, code::String, filename::String)",
      "   @ Base .\\loading.jl:1196"
     ]
    }
   ],
   "source": [
    "function get_metastable_file_paths(dir, file_type, energy_levels)\n",
    "    l = length(file_type)\n",
    "    decay_files = [x for x in readdir(dir) \n",
    "                    if length(x) > l && x[end-(l-1):end] == file_type]\n",
    "    search_term = \"m\" * string(energy_levels)\n",
    "    metastable_decay_files = [x for x in decay_files if occursin(search_term , x)]\n",
    "    return [dir * file for file in metastable_decay_files]\n",
    "end\n",
    "function metastable_half_lives(dir, energy_levels)\n",
    "    all_files = Vector(readdir(dir))\n",
    "    example_path = all_files[end-1] \n",
    "    file_type_index = collect(findlast(\".\", example_path))[1]  \n",
    "    file_type = example_path[file_type_index:end]\n",
    "    file_paths = get_metastable_file_paths(dir, file_type, energy_levels)\n",
    "    search_term = \"m\" * string(energy_levels)\n",
    "    ground_state_paths = filter_substring(file_paths, search_term)\n",
    "    println(ground_state_paths)\n",
    "    half_life_with_units = [find_decay_info(isotope_name(file), \"half life\", dir) \n",
    "                            for file in file_paths]\n",
    "    return half_life_with_units, file_paths\n",
    "end\n",
    "output = metastable_half_lives(jendl5_decay_dir, 2)\n",
    "metastable_half_lives_jendl5, metastable_files_jendl5 = output"
   ]
  },
  {
   "cell_type": "code",
   "execution_count": 42,
   "metadata": {},
   "outputs": [
    {
     "data": {
      "text/plain": [
       "Dict{Any, Any} with 78 entries:\n",
       "  \"94Ag\"  => 0.035\n",
       "  \"127In\" => 1.09\n",
       "  \"155Lu\" => 0.068\n",
       "  \"120In\" => 3.08\n",
       "  \"124Sb\" => 5.20128e6\n",
       "  \"206Fr\" => 16.0\n",
       "  \"188Tl\" => 71.0\n",
       "  \"182Ta\" => 9.91354e6\n",
       "  \"160Ho\" => 1536.0\n",
       "  \"131Te\" => 1500.0\n",
       "  \"158Ho\" => 678.0\n",
       "  \"179Hf\" => \"STABLE\"\n",
       "  \"194Bi\" => 95.0\n",
       "  \"196Bi\" => 307.8\n",
       "  \"97Y\"   => 3.74\n",
       "  \"118In\" => 5.0\n",
       "  \"179Ta\" => 5.74348e7\n",
       "  \"152Pm\" => 247.2\n",
       "  \"125In\" => 2.36\n",
       "  \"154Tb\" => 77400.0\n",
       "  \"70Cu\"  => 44.5\n",
       "  \"192Au\" => 17784.0\n",
       "  \"191Ir\" => \"STABLE\"\n",
       "  \"162Lu\" => 82.2\n",
       "  \"204Fr\" => 1.9\n",
       "  ⋮       => ⋮"
      ]
     },
     "execution_count": 42,
     "metadata": {},
     "output_type": "execute_result"
    }
   ],
   "source": [
    "metastable_info_dict = Dict([])\n",
    "for i in 1:length(metastable_files_jendl5)\n",
    "    isotope = isotope_name(metastable_files_jendl5[i])\n",
    "    if metastable_half_lives_jendl5[i][2] == 'a'\n",
    "        a, el = get_mass_name(isotope)\n",
    "        singular_half_life_with_unit = find_decay_info(isotope, \"half life\", endf8_decay_dir)\n",
    "        if singular_half_life_with_unit[1] == \"STABLE\" \n",
    "            metastable_info_dict[isotope] = \"STABLE\"\n",
    "        else\n",
    "            metastable_info_dict[isotope] = half_life_sec(\n",
    "                singular_half_life_with_unit[1], singular_half_life_with_unit[2])\n",
    "        end\n",
    "    else\n",
    "        if metastable_half_lives_jendl5[i][1] == \"STABLE\"\n",
    "            metastable_info_dict[isotope] = \"STABLE\"\n",
    "        else\n",
    "            metastable_info_dict[isotope] = half_life_sec(\n",
    "                metastable_half_lives_jendl5[i][1], metastable_half_lives_jendl5[i][2])\n",
    "        end\n",
    "    end\n",
    "end\n",
    "metastable_info_dict"
   ]
  },
  {
   "cell_type": "code",
   "execution_count": 35,
   "metadata": {},
   "outputs": [
    {
     "data": {
      "text/plain": [
       "78-element Vector{Tuple{Int64, String}}:\n",
       " (255, \"M2\")\n",
       " (70, \"M2\")\n",
       " (61, \"M2\")\n",
       " (73, \"M2\")\n",
       " (88, \"M2\")\n",
       " (97, \"M2\")\n",
       " (90, \"M2\")\n",
       " (92, \"M2\")\n",
       " (116, \"M2\")\n",
       " (94, \"M2\")\n",
       " (95, \"M2\")\n",
       " (109, \"M2\")\n",
       " (114, \"M2\")\n",
       " ⋮\n",
       " (196, \"M2\")\n",
       " (198, \"M2\")\n",
       " (200, \"M2\")\n",
       " (204, \"M2\")\n",
       " (212, \"M2\")\n",
       " (205, \"M2\")\n",
       " (193, \"M2\")\n",
       " (200, \"M2\")\n",
       " (202, \"M2\")\n",
       " (204, \"M2\")\n",
       " (206, \"M2\")\n",
       " (242, \"M2\")"
      ]
     },
     "execution_count": 35,
     "metadata": {},
     "output_type": "execute_result"
    }
   ],
   "source": [
    "all_ground_states = [[half_lives_df[row,\"Isotope\"] for row in 1:size(half_lives_df)[1]\n",
    "    if half_lives_df[row,\"Half_life\"] > 10^7]; stable_ground_states]\n",
    "two_energy_level_isotopes = [get_mass_name(isotope_name(file)) \n",
    "                            for file in readdir(jendl5_decay_dir) if occursin(\"m2\", file)]"
   ]
  },
  {
   "cell_type": "code",
   "execution_count": null,
   "metadata": {},
   "outputs": [],
   "source": []
  }
 ],
 "metadata": {
  "kernelspec": {
   "display_name": "Julia 1.7.2",
   "language": "julia",
   "name": "julia-1.7"
  },
  "language_info": {
   "file_extension": ".jl",
   "mimetype": "application/julia",
   "name": "julia",
   "version": "1.7.2"
  },
  "orig_nbformat": 4
 },
 "nbformat": 4,
 "nbformat_minor": 2
}
