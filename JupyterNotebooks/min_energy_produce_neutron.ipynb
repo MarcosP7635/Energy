{
 "cells": [
  {
   "cell_type": "code",
   "execution_count": 1,
   "metadata": {},
   "outputs": [
    {
     "data": {
      "application/vnd.webio.node+json": {
       "children": [],
       "instanceArgs": {
        "namespace": "html",
        "tag": "div"
       },
       "nodeType": "DOM",
       "props": {},
       "type": "node"
      },
      "text/html": [
       "<div style=\"padding: 1em; background-color: #f8d6da; border: 1px solid #f5c6cb; font-weight: bold;\">\n",
       "<p>The WebIO Jupyter extension was not detected. See the\n",
       "<a href=\"https://juliagizmos.github.io/WebIO.jl/latest/providers/ijulia/\" target=\"_blank\">\n",
       "    WebIO Jupyter integration documentation\n",
       "</a>\n",
       "for more information.\n",
       "</div>\n"
      ],
      "text/plain": [
       "WebIO._IJuliaInit()"
      ]
     },
     "metadata": {},
     "output_type": "display_data"
    },
    {
     "data": {
      "text/plain": [
       "\"C:\\\\Users\\\\engin\\\\Documents\\\\GitHub\\\\Energy\\\\ExportedData\\\\produce_only_neutrons_MTs.csv\""
      ]
     },
     "execution_count": 1,
     "metadata": {},
     "output_type": "execute_result"
    }
   ],
   "source": [
    "using Downloads, CSV, DataFrames\n",
    "using Interpolations, PlotlyJS\n",
    "parent_dir = \"C:\\\\Users\\\\engin\\\\Documents\\\\GitHub\\\\Energy\\\\\"\n",
    "total_cross_section_dir = parent_dir * \"ImportedData\\\\tendl_total_neutron_sigma_data\\\\\"\n",
    "neutron_production_dir = parent_dir * \"ImportedData\\\\my_tendl_neutron_production_data\\\\\"\n",
    "neutron_MTs_file = parent_dir * \"ExportedData\\\\produce_only_neutrons_MTs.csv\""
   ]
  },
  {
   "cell_type": "code",
   "execution_count": 2,
   "metadata": {},
   "outputs": [
    {
     "data": {
      "text/plain": [
       "Dict{Any, Any} with 10 entries:\n",
       "  152 => \"(0, -4)\"\n",
       "  875 => \"(0, -1)\"\n",
       "  50  => \"(0, -1)\"\n",
       "  16  => \"(0, -1)\"\n",
       "  891 => \"(0, -1)\"\n",
       "  876 => \"(0, -1)\"\n",
       "  38  => \"(0, -2)\"\n",
       "  21  => \"(0, -1)\"\n",
       "  17  => \"(0, -2)\"\n",
       "  37  => \"(0, -3)\""
      ]
     },
     "execution_count": 2,
     "metadata": {},
     "output_type": "execute_result"
    }
   ],
   "source": [
    "#Import a dictionary of MTs to know what data to download\n",
    "MT_df = CSV.read(neutron_MTs_file, DataFrame, stringtype=String)\n",
    "MT_dict = Dict([])\n",
    "rows, cols = size(MT_df)\n",
    "for row in 1:rows\n",
    "  MT_df[row, 2] = String(MT_df[row, 2][2:end-1])\n",
    "  MTs = [parse(Int64, n) for n in split(MT_df[row, 2], \",\")]\n",
    "  for MT in MTs\n",
    "      MT_dict[MT] = MT_df[row, 1] \n",
    "  end\n",
    "end\n",
    "MT_dict"
   ]
  },
  {
   "cell_type": "code",
   "execution_count": 3,
   "metadata": {},
   "outputs": [
    {
     "data": {
      "text/plain": [
       "5842-element Vector{Tuple{Int64, Any}}:\n",
       " (1, 'H')\n",
       " (2, 'H')\n",
       " (3, 'H')\n",
       " (3, \"He\")\n",
       " (3, \"Li\")\n",
       " (4, 'H')\n",
       " (4, \"He\")\n",
       " (4, \"Li\")\n",
       " (5, 'H')\n",
       " (5, \"He\")\n",
       " (5, \"Li\")\n",
       " (5, \"Be\")\n",
       " (6, 'H')\n",
       " ⋮\n",
       " (291, \"Lv\")\n",
       " (291, \"Ts\")\n",
       " (292, \"Mc\")\n",
       " (292, \"Lv\")\n",
       " (292, \"Ts\")\n",
       " (293, \"Lv\")\n",
       " (293, \"Lv\")\n",
       " (293, \"Ts\")\n",
       " (293, \"Og\")\n",
       " (294, \"Ts\")\n",
       " (294, \"Og\")\n",
       " (295, \"Og\")"
      ]
     },
     "execution_count": 3,
     "metadata": {},
     "output_type": "execute_result"
    }
   ],
   "source": [
    "nuclide_df_path = parent_dir * \"ExportedData\\\\nuclide_list.csv\"\n",
    "nuclide_df = CSV.read(nuclide_df_path, DataFrame, stringtype=String)\n",
    "function get_mass_name(nuclide)\n",
    "    index = 1\n",
    "    while (tryparse(Int64, string(nuclide[index])) != nothing && index <= length(nuclide))\n",
    "        index += 1\n",
    "    end\n",
    "    mass = tryparse(Int64, nuclide[1:index-1])\n",
    "    name =  nuclide[index:end]\n",
    "    name_1 = uppercase(name[1])\n",
    "    if (length(name) > 1)\n",
    "        name = name_1 * name[2]\n",
    "    else \n",
    "      name = name_1\n",
    "    end\n",
    "    return mass, name\n",
    "end\n",
    "nuclide_list = [get_mass_name(nuclide) for nuclide in nuclide_df[!,1]]"
   ]
  },
  {
   "cell_type": "code",
   "execution_count": 4,
   "metadata": {},
   "outputs": [
    {
     "data": {
      "text/plain": [
       "\"C:\\\\Users\\\\engin\\\\Documents\\\\GitHub\\\\Energy\\\\ImportedData\\\\tendl_total_neutron_sigma_data\\\\n-H001-MT001.csv\""
      ]
     },
     "execution_count": 4,
     "metadata": {},
     "output_type": "execute_result"
    }
   ],
   "source": [
    "function get_file_path(parent_dir, mt, mass, elem)\n",
    "    mt_str, mass_str = lpad(string(mt), 3, \"0\"), lpad(string(mass), 3, \"0\")\n",
    "    file_path = parent_dir * \"n-\" * elem * mass_str * \"-\" * \"MT\" * mt_str * \".csv\"\n",
    "    return file_path\n",
    "end\n",
    "function get_file_path(parent_dir, mt, nuclide)\n",
    "    mass, elem = get_mass_name(nuclide)\n",
    "    mt_str, mass_str = lpad(string(mt), 3, \"0\"), lpad(string(mass), 3, \"0\")\n",
    "    file_path = parent_dir * \"n-\" * elem * mass_str * \"-\" * \"MT\" * mt_str * \".csv\"\n",
    "    return file_path\n",
    "end\n",
    "get_file_path(total_cross_section_dir, 1, nuclide_df[1,1])"
   ]
  },
  {
   "cell_type": "code",
   "execution_count": 5,
   "metadata": {},
   "outputs": [
    {
     "data": {
      "text/html": [
       "<div class=\"data-frame\"><p>423 rows × 2 columns</p><table class=\"data-frame\"><thead><tr><th></th><th>E(MeV)</th><th>xs(mb)</th></tr><tr><th></th><th title=\"Float64\">Float64</th><th title=\"Float64\">Float64</th></tr></thead><tbody><tr><th>1</th><td>1.0e-11</td><td>1.1778e6</td></tr><tr><th>2</th><td>1.03223e-11</td><td>1.15927e6</td></tr><tr><th>3</th><td>1.06549e-11</td><td>1.14104e6</td></tr><tr><th>4</th><td>1.09984e-11</td><td>1.12309e6</td></tr><tr><th>5</th><td>1.13527e-11</td><td>1.10542e6</td></tr><tr><th>6</th><td>1.17186e-11</td><td>1.08803e6</td></tr><tr><th>7</th><td>1.20962e-11</td><td>1.07092e6</td></tr><tr><th>8</th><td>1.24861e-11</td><td>1.05408e6</td></tr><tr><th>9</th><td>1.28884e-11</td><td>1.0375e6</td></tr><tr><th>10</th><td>1.33038e-11</td><td>1.02118e6</td></tr><tr><th>11</th><td>1.37325e-11</td><td>1.00512e6</td></tr><tr><th>12</th><td>1.41751e-11</td><td>989309.0</td></tr><tr><th>13</th><td>1.46318e-11</td><td>973752.0</td></tr><tr><th>14</th><td>1.51034e-11</td><td>958434.0</td></tr><tr><th>15</th><td>1.55901e-11</td><td>943363.0</td></tr><tr><th>16</th><td>1.60926e-11</td><td>928524.0</td></tr><tr><th>17</th><td>1.66111e-11</td><td>913923.0</td></tr><tr><th>18</th><td>1.71465e-11</td><td>899548.0</td></tr><tr><th>19</th><td>1.7699e-11</td><td>885403.0</td></tr><tr><th>20</th><td>1.82694e-11</td><td>871476.0</td></tr><tr><th>21</th><td>1.88581e-11</td><td>857773.0</td></tr><tr><th>22</th><td>1.94659e-11</td><td>844282.0</td></tr><tr><th>23</th><td>2.00931e-11</td><td>831007.0</td></tr><tr><th>24</th><td>2.07407e-11</td><td>817937.0</td></tr><tr><th>25</th><td>2.1409e-11</td><td>805077.0</td></tr><tr><th>26</th><td>2.20991e-11</td><td>792415.0</td></tr><tr><th>27</th><td>2.28111e-11</td><td>779956.0</td></tr><tr><th>28</th><td>2.35464e-11</td><td>767690.0</td></tr><tr><th>29</th><td>2.43051e-11</td><td>755620.0</td></tr><tr><th>30</th><td>2.50884e-11</td><td>743738.0</td></tr><tr><th>&vellip;</th><td>&vellip;</td><td>&vellip;</td></tr></tbody></table></div>"
      ],
      "text/latex": [
       "\\begin{tabular}{r|cc}\n",
       "\t& E(MeV) & xs(mb)\\\\\n",
       "\t\\hline\n",
       "\t& Float64 & Float64\\\\\n",
       "\t\\hline\n",
       "\t1 & 1.0e-11 & 1.1778e6 \\\\\n",
       "\t2 & 1.03223e-11 & 1.15927e6 \\\\\n",
       "\t3 & 1.06549e-11 & 1.14104e6 \\\\\n",
       "\t4 & 1.09984e-11 & 1.12309e6 \\\\\n",
       "\t5 & 1.13527e-11 & 1.10542e6 \\\\\n",
       "\t6 & 1.17186e-11 & 1.08803e6 \\\\\n",
       "\t7 & 1.20962e-11 & 1.07092e6 \\\\\n",
       "\t8 & 1.24861e-11 & 1.05408e6 \\\\\n",
       "\t9 & 1.28884e-11 & 1.0375e6 \\\\\n",
       "\t10 & 1.33038e-11 & 1.02118e6 \\\\\n",
       "\t11 & 1.37325e-11 & 1.00512e6 \\\\\n",
       "\t12 & 1.41751e-11 & 989309.0 \\\\\n",
       "\t13 & 1.46318e-11 & 973752.0 \\\\\n",
       "\t14 & 1.51034e-11 & 958434.0 \\\\\n",
       "\t15 & 1.55901e-11 & 943363.0 \\\\\n",
       "\t16 & 1.60926e-11 & 928524.0 \\\\\n",
       "\t17 & 1.66111e-11 & 913923.0 \\\\\n",
       "\t18 & 1.71465e-11 & 899548.0 \\\\\n",
       "\t19 & 1.7699e-11 & 885403.0 \\\\\n",
       "\t20 & 1.82694e-11 & 871476.0 \\\\\n",
       "\t21 & 1.88581e-11 & 857773.0 \\\\\n",
       "\t22 & 1.94659e-11 & 844282.0 \\\\\n",
       "\t23 & 2.00931e-11 & 831007.0 \\\\\n",
       "\t24 & 2.07407e-11 & 817937.0 \\\\\n",
       "\t25 & 2.1409e-11 & 805077.0 \\\\\n",
       "\t26 & 2.20991e-11 & 792415.0 \\\\\n",
       "\t27 & 2.28111e-11 & 779956.0 \\\\\n",
       "\t28 & 2.35464e-11 & 767690.0 \\\\\n",
       "\t29 & 2.43051e-11 & 755620.0 \\\\\n",
       "\t30 & 2.50884e-11 & 743738.0 \\\\\n",
       "\t$\\dots$ & $\\dots$ & $\\dots$ \\\\\n",
       "\\end{tabular}\n"
      ],
      "text/plain": [
       "\u001b[1m423×2 DataFrame\u001b[0m\n",
       "\u001b[1m Row \u001b[0m│\u001b[1m E(MeV)       \u001b[0m\u001b[1m xs(mb)         \u001b[0m\n",
       "\u001b[1m     \u001b[0m│\u001b[90m Float64      \u001b[0m\u001b[90m Float64        \u001b[0m\n",
       "─────┼──────────────────────────────\n",
       "   1 │  1.0e-11           1.1778e6\n",
       "   2 │  1.03223e-11       1.15927e6\n",
       "   3 │  1.06549e-11       1.14104e6\n",
       "   4 │  1.09984e-11       1.12309e6\n",
       "   5 │  1.13527e-11       1.10542e6\n",
       "   6 │  1.17186e-11       1.08803e6\n",
       "   7 │  1.20962e-11       1.07092e6\n",
       "   8 │  1.24861e-11       1.05408e6\n",
       "   9 │  1.28884e-11       1.0375e6\n",
       "  10 │  1.33038e-11       1.02118e6\n",
       "  11 │  1.37325e-11       1.00512e6\n",
       "  ⋮  │      ⋮              ⋮\n",
       " 414 │ 17.9973          536.817\n",
       " 415 │ 18.0             536.733\n",
       " 416 │ 18.2539          529.254\n",
       " 417 │ 18.5             522.008\n",
       " 418 │ 18.761           514.689\n",
       " 419 │ 19.0             507.987\n",
       " 420 │ 19.2681          500.822\n",
       " 421 │ 19.5             494.622\n",
       " 422 │ 19.7751          487.604\n",
       " 423 │ 20.0             481.868\n",
       "\u001b[36m                    402 rows omitted\u001b[0m"
      ]
     },
     "execution_count": 5,
     "metadata": {},
     "output_type": "execute_result"
    }
   ],
   "source": [
    "function get_total_neutron_cross_section(nuclide)\n",
    "    file_path = get_file_path(total_cross_section_dir, 1, nuclide)\n",
    "    return CSV.read(file_path, DataFrame)\n",
    "end\n",
    "function get_total_neutron_cross_section(mass, elem)\n",
    "    file_path = get_file_path(total_cross_section_dir, 1, mass, elem)\n",
    "    return CSV.read(file_path, DataFrame)\n",
    "end\n",
    "get_total_neutron_cross_section(nuclide_list[1][1], nuclide_list[1][2])"
   ]
  },
  {
   "cell_type": "code",
   "execution_count": 23,
   "metadata": {},
   "outputs": [
    {
     "data": {
      "text/plain": [
       "(2, \"C:\\\\Users\\\\engin\\\\Documents\\\\GitHub\\\\Energy\\\\ImportedData\\\\my_tendl_neutron_production_data\\\\n-Ac227-MT017.csv\")"
      ]
     },
     "execution_count": 23,
     "metadata": {},
     "output_type": "execute_result"
    }
   ],
   "source": [
    "file_path = neutron_production_dir * neutron_production_file_names[2]\n",
    "function neutrons_produced(file_path)\n",
    "    MT = tryparse(Int64, split(split(file_path, \"MT\")[end], \".\")[1])\n",
    "    neutrons = tryparse(Int64, split(MT_dict[MT], \",\")[end][1:end-1]) * -1\n",
    "    return neutrons\n",
    "end\n",
    "neutrons_produced(file_path), file_path"
   ]
  },
  {
   "cell_type": "code",
   "execution_count": 25,
   "metadata": {},
   "outputs": [
    {
     "data": {
      "text/plain": [
       "1-element Vector{Tuple{DataFrame, Int64}}:\n",
       " (\u001b[1m124×2 DataFrame\u001b[0m\n",
       "\u001b[1m Row \u001b[0m│\u001b[1m E(MeV)  \u001b[0m\u001b[1m xs(mb)   \u001b[0m\n",
       "\u001b[1m     \u001b[0m│\u001b[90m Float64 \u001b[0m\u001b[90m Float64  \u001b[0m\n",
       "─────┼───────────────────\n",
       "   1 │   3.339   0.0\n",
       "   2 │   3.4     1.2\n",
       "   3 │   3.5     2.9\n",
       "   4 │   3.75    7.10318\n",
       "   5 │   4.0    13.5\n",
       "   6 │   4.25   19.0312\n",
       "   7 │   4.5    25.0\n",
       "   8 │   5.0    37.0\n",
       "   9 │   5.5    48.6414\n",
       "  10 │   5.6    51.0236\n",
       "  11 │   6.0    60.2\n",
       "  ⋮  │    ⋮        ⋮\n",
       " 115 │ 132.0    69.4702\n",
       " 116 │ 134.0    68.8945\n",
       " 117 │ 136.0    68.3321\n",
       " 118 │ 138.0    67.7825\n",
       " 119 │ 140.0    67.2451\n",
       " 120 │ 142.0    66.7194\n",
       " 121 │ 144.0    66.2049\n",
       " 122 │ 146.0    65.7011\n",
       " 123 │ 148.0    65.2076\n",
       " 124 │ 150.0    64.724\n",
       "\u001b[36m         103 rows omitted\u001b[0m, 1)"
      ]
     },
     "execution_count": 25,
     "metadata": {},
     "output_type": "execute_result"
    }
   ],
   "source": [
    "neutron_production_file_names = readdir(neutron_production_dir)\n",
    "function get_neutron_production_cross_sections(nuclide)\n",
    "    mass, elem = get_mass_name(nuclide)\n",
    "    mass_str = lpad(string(mass), 3, \"0\")\n",
    "    file_paths = [neutron_production_dir * file_name \n",
    "                for file_name in neutron_production_file_names \n",
    "                if occursin(elem * mass_str, file_name)]\n",
    "    return [(CSV.read(file_path, DataFrame), neutrons_produced(file_path)) \n",
    "            for file_path in file_paths]\n",
    "end\n",
    "function get_neutron_production_cross_sections(mass, elem)\n",
    "    mass_str = lpad(string(mass), 3, \"0\")\n",
    "    file_paths = [neutron_production_dir * file_name \n",
    "                for file_name in neutron_production_file_names \n",
    "                if occursin(elem * mass_str, file_name)]\n",
    "    return [(CSV.read(file_path, DataFrame), neutrons_produced(file_path)) \n",
    "            for file_path in file_paths]\n",
    "end\n",
    "get_neutron_production_cross_sections(nuclide_list[2][1], nuclide_list[2][2])"
   ]
  },
  {
   "cell_type": "code",
   "execution_count": 37,
   "metadata": {},
   "outputs": [
    {
     "data": {
      "text/html": [
       "<div class=\"data-frame\"><p>556 rows × 2 columns</p><table class=\"data-frame\"><thead><tr><th></th><th>E(MeV)</th><th>xs(mb)</th></tr><tr><th></th><th title=\"Float64\">Float64</th><th title=\"Float64\">Float64</th></tr></thead><tbody><tr><th>1</th><td>1.0e-11</td><td>136398.0</td></tr><tr><th>2</th><td>1.03223e-11</td><td>134252.0</td></tr><tr><th>3</th><td>1.06549e-11</td><td>132142.0</td></tr><tr><th>4</th><td>1.09984e-11</td><td>130063.0</td></tr><tr><th>5</th><td>1.13527e-11</td><td>128019.0</td></tr><tr><th>6</th><td>1.17186e-11</td><td>126005.0</td></tr><tr><th>7</th><td>1.20962e-11</td><td>124024.0</td></tr><tr><th>8</th><td>1.24861e-11</td><td>122074.0</td></tr><tr><th>9</th><td>1.28884e-11</td><td>120155.0</td></tr><tr><th>10</th><td>1.33038e-11</td><td>118265.0</td></tr><tr><th>11</th><td>1.37325e-11</td><td>116406.0</td></tr><tr><th>12</th><td>1.41751e-11</td><td>114576.0</td></tr><tr><th>13</th><td>1.46318e-11</td><td>112775.0</td></tr><tr><th>14</th><td>1.51034e-11</td><td>111001.0</td></tr><tr><th>15</th><td>1.55901e-11</td><td>109256.0</td></tr><tr><th>16</th><td>1.60926e-11</td><td>107539.0</td></tr><tr><th>17</th><td>1.66111e-11</td><td>105848.0</td></tr><tr><th>18</th><td>1.71465e-11</td><td>104184.0</td></tr><tr><th>19</th><td>1.7699e-11</td><td>102547.0</td></tr><tr><th>20</th><td>1.82694e-11</td><td>100934.0</td></tr><tr><th>21</th><td>1.88581e-11</td><td>99348.1</td></tr><tr><th>22</th><td>1.94659e-11</td><td>97786.3</td></tr><tr><th>23</th><td>2.00931e-11</td><td>96249.6</td></tr><tr><th>24</th><td>2.07407e-11</td><td>94736.6</td></tr><tr><th>25</th><td>2.1409e-11</td><td>93247.9</td></tr><tr><th>26</th><td>2.20991e-11</td><td>91782.2</td></tr><tr><th>27</th><td>2.28111e-11</td><td>90340.0</td></tr><tr><th>28</th><td>2.35464e-11</td><td>88920.2</td></tr><tr><th>29</th><td>2.43051e-11</td><td>87523.0</td></tr><tr><th>30</th><td>2.50884e-11</td><td>86147.6</td></tr><tr><th>&vellip;</th><td>&vellip;</td><td>&vellip;</td></tr></tbody></table></div>"
      ],
      "text/latex": [
       "\\begin{tabular}{r|cc}\n",
       "\t& E(MeV) & xs(mb)\\\\\n",
       "\t\\hline\n",
       "\t& Float64 & Float64\\\\\n",
       "\t\\hline\n",
       "\t1 & 1.0e-11 & 136398.0 \\\\\n",
       "\t2 & 1.03223e-11 & 134252.0 \\\\\n",
       "\t3 & 1.06549e-11 & 132142.0 \\\\\n",
       "\t4 & 1.09984e-11 & 130063.0 \\\\\n",
       "\t5 & 1.13527e-11 & 128019.0 \\\\\n",
       "\t6 & 1.17186e-11 & 126005.0 \\\\\n",
       "\t7 & 1.20962e-11 & 124024.0 \\\\\n",
       "\t8 & 1.24861e-11 & 122074.0 \\\\\n",
       "\t9 & 1.28884e-11 & 120155.0 \\\\\n",
       "\t10 & 1.33038e-11 & 118265.0 \\\\\n",
       "\t11 & 1.37325e-11 & 116406.0 \\\\\n",
       "\t12 & 1.41751e-11 & 114576.0 \\\\\n",
       "\t13 & 1.46318e-11 & 112775.0 \\\\\n",
       "\t14 & 1.51034e-11 & 111001.0 \\\\\n",
       "\t15 & 1.55901e-11 & 109256.0 \\\\\n",
       "\t16 & 1.60926e-11 & 107539.0 \\\\\n",
       "\t17 & 1.66111e-11 & 105848.0 \\\\\n",
       "\t18 & 1.71465e-11 & 104184.0 \\\\\n",
       "\t19 & 1.7699e-11 & 102547.0 \\\\\n",
       "\t20 & 1.82694e-11 & 100934.0 \\\\\n",
       "\t21 & 1.88581e-11 & 99348.1 \\\\\n",
       "\t22 & 1.94659e-11 & 97786.3 \\\\\n",
       "\t23 & 2.00931e-11 & 96249.6 \\\\\n",
       "\t24 & 2.07407e-11 & 94736.6 \\\\\n",
       "\t25 & 2.1409e-11 & 93247.9 \\\\\n",
       "\t26 & 2.20991e-11 & 91782.2 \\\\\n",
       "\t27 & 2.28111e-11 & 90340.0 \\\\\n",
       "\t28 & 2.35464e-11 & 88920.2 \\\\\n",
       "\t29 & 2.43051e-11 & 87523.0 \\\\\n",
       "\t30 & 2.50884e-11 & 86147.6 \\\\\n",
       "\t$\\dots$ & $\\dots$ & $\\dots$ \\\\\n",
       "\\end{tabular}\n"
      ],
      "text/plain": [
       "\u001b[1m556×2 DataFrame\u001b[0m\n",
       "\u001b[1m Row \u001b[0m│\u001b[1m E(MeV)        \u001b[0m\u001b[1m xs(mb)      \u001b[0m\n",
       "\u001b[1m     \u001b[0m│\u001b[90m Float64       \u001b[0m\u001b[90m Float64     \u001b[0m\n",
       "─────┼────────────────────────────\n",
       "   1 │   1.0e-11      136398.0\n",
       "   2 │   1.03223e-11  134252.0\n",
       "   3 │   1.06549e-11  132142.0\n",
       "   4 │   1.09984e-11  130063.0\n",
       "   5 │   1.13527e-11  128019.0\n",
       "   6 │   1.17186e-11  126005.0\n",
       "   7 │   1.20962e-11  124024.0\n",
       "   8 │   1.24861e-11  122074.0\n",
       "   9 │   1.28884e-11  120155.0\n",
       "  10 │   1.33038e-11  118265.0\n",
       "  11 │   1.37325e-11  116406.0\n",
       "  ⋮  │       ⋮             ⋮\n",
       " 547 │ 137.919            79.6838\n",
       " 548 │ 138.0              79.6476\n",
       " 549 │ 139.947            78.805\n",
       " 550 │ 140.0              78.7821\n",
       " 551 │ 141.975            77.9518\n",
       " 552 │ 142.0              77.9413\n",
       " 553 │ 144.0              77.1363\n",
       " 554 │ 146.0              76.3688\n",
       " 555 │ 148.0              75.6386\n",
       " 556 │ 150.0              74.9457\n",
       "\u001b[36m                  535 rows omitted\u001b[0m"
      ]
     },
     "execution_count": 37,
     "metadata": {},
     "output_type": "execute_result"
    }
   ],
   "source": [
    "get_total_neutron_cross_section(\"2H\")"
   ]
  },
  {
   "cell_type": "markdown",
   "metadata": {},
   "source": [
    "The match_energies function returns the total cross section for a projectile interacting with a target corresponding to some given energy (energy_rxn)\n",
    "\n",
    "energy is an individial energy value for which a reaction cross section is measured.  \n",
    "\n",
    "total_energies is an array of energy values for which a total cross section of some projectile and target was measured. \n",
    "\n",
    "interpolation is a function that can be used to calculate the total cross section for a projectile corresponding to the same energy value as the input named energy. \n",
    "\n",
    "\n",
    "Eg: \n",
    "\n",
    "corresponding_total_σ = [match_energies(energy, total_energy, itp, total_cross_sections) for energy in energies_rxn]"
   ]
  },
  {
   "cell_type": "code",
   "execution_count": 9,
   "metadata": {},
   "outputs": [
    {
     "data": {
      "text/plain": [
       "match_energies (generic function with 1 method)"
      ]
     },
     "execution_count": 9,
     "metadata": {},
     "output_type": "execute_result"
    }
   ],
   "source": [
    "function match_energies(energy_rxn, total_energies, interpolation,\n",
    "    total_cross_sections)\n",
    "    #itp = Interpolations.interpolate(x, y, FritschCarlsonMonotonicInterpolation())\n",
    "    try \n",
    "            index = findfirst(x -> x ==(energy_rxn), total_energies)\n",
    "            return total_cross_sections[index] \n",
    "    catch \n",
    "            return interpolation.(energy_rxn)\n",
    "    end\n",
    "end"
   ]
  },
  {
   "cell_type": "code",
   "execution_count": 38,
   "metadata": {},
   "outputs": [
    {
     "data": {
      "text/plain": [
       "1-element Vector{Tuple{DataFrame, Int64}}:\n",
       " (\u001b[1m124×2 DataFrame\u001b[0m\n",
       "\u001b[1m Row \u001b[0m│\u001b[1m E(MeV)  \u001b[0m\u001b[1m xs(mb)   \u001b[0m\n",
       "\u001b[1m     \u001b[0m│\u001b[90m Float64 \u001b[0m\u001b[90m Float64  \u001b[0m\n",
       "─────┼───────────────────\n",
       "   1 │   3.339   0.0\n",
       "   2 │   3.4     1.2\n",
       "   3 │   3.5     2.9\n",
       "   4 │   3.75    7.10318\n",
       "   5 │   4.0    13.5\n",
       "   6 │   4.25   19.0312\n",
       "   7 │   4.5    25.0\n",
       "   8 │   5.0    37.0\n",
       "   9 │   5.5    48.6414\n",
       "  10 │   5.6    51.0236\n",
       "  11 │   6.0    60.2\n",
       "  ⋮  │    ⋮        ⋮\n",
       " 115 │ 132.0    69.4702\n",
       " 116 │ 134.0    68.8945\n",
       " 117 │ 136.0    68.3321\n",
       " 118 │ 138.0    67.7825\n",
       " 119 │ 140.0    67.2451\n",
       " 120 │ 142.0    66.7194\n",
       " 121 │ 144.0    66.2049\n",
       " 122 │ 146.0    65.7011\n",
       " 123 │ 148.0    65.2076\n",
       " 124 │ 150.0    64.724\n",
       "\u001b[36m         103 rows omitted\u001b[0m, 1)"
      ]
     },
     "execution_count": 38,
     "metadata": {},
     "output_type": "execute_result"
    }
   ],
   "source": []
  },
  {
   "cell_type": "code",
   "execution_count": 40,
   "metadata": {},
   "outputs": [
    {
     "data": {
      "application/vnd.plotly.v1+json": {
       "config": {
        "editable": false,
        "responsive": true,
        "scrollZoom": true,
        "showLink": false,
        "staticPlot": false
       },
       "data": [
        {
         "mode": "markers",
         "name": "total",
         "type": "scatter",
         "x": [
          1e-11,
          1.03223e-11,
          1.06549e-11,
          1.0998399999999998e-11,
          1.13527e-11,
          1.1718599999999999e-11,
          1.2096199999999998e-11,
          1.24861e-11,
          1.2888399999999999e-11,
          1.3303799999999998e-11,
          1.37325e-11,
          1.41751e-11,
          1.4631799999999997e-11,
          1.51034e-11,
          1.5590099999999998e-11,
          1.6092599999999998e-11,
          1.66111e-11,
          1.71465e-11,
          1.7699e-11,
          1.8269399999999998e-11,
          1.88581e-11,
          1.94659e-11,
          2.00931e-11,
          2.0740699999999998e-11,
          2.1408999999999998e-11,
          2.2099099999999997e-11,
          2.28111e-11,
          2.3546399999999998e-11,
          2.4305099999999997e-11,
          2.50884e-11,
          2.5896799999999997e-11,
          2.67315e-11,
          2.75928e-11,
          2.8482199999999998e-11,
          2.93999e-11,
          3.0347499999999995e-11,
          3.13253e-11,
          3.2335e-11,
          3.33769e-11,
          3.44526e-11,
          3.55627e-11,
          3.67089e-11,
          3.7891799999999997e-11,
          3.9113e-11,
          4.0373400000000003e-11,
          4.1674599999999996e-11,
          4.3017399999999996e-11,
          4.440389999999999e-11,
          4.58347e-11,
          4.7311899999999994e-11,
          4.883639999999999e-11,
          5.0410399999999995e-11,
          5.20348e-11,
          5.37119e-11,
          5.54426e-11,
          5.7229499999999995e-11,
          5.907359999999999e-11,
          6.09775e-11,
          6.29424e-11,
          6.497099999999999e-11,
          6.70645e-11,
          6.9226e-11,
          7.145659999999999e-11,
          7.37596e-11,
          7.61364e-11,
          7.85902e-11,
          8.11227e-11,
          8.37372e-11,
          8.643549999999999e-11,
          8.922119999999998e-11,
          9.209619999999999e-11,
          9.506439999999999e-11,
          9.81277e-11,
          1.01291e-10,
          1.04554e-10,
          1.07924e-10,
          1.11402e-10,
          1.1499200000000001e-10,
          1.1869700000000001e-10,
          1.22523e-10,
          1.26471e-10,
          1.30547e-10,
          1.34754e-10,
          1.3909700000000002e-10,
          1.43579e-10,
          1.48207e-10,
          1.52982e-10,
          1.57913e-10,
          1.6300100000000001e-10,
          1.68254e-10,
          1.73676e-10,
          1.79274e-10,
          1.8505000000000002e-10,
          1.91014e-10,
          1.97169e-10,
          2.03524e-10,
          2.1008200000000003e-10,
          2.16853e-10,
          2.2384e-10,
          2.31055e-10,
          2.385e-10,
          2.46187e-10,
          2.5412e-10,
          2.6231e-10,
          2.70762e-10,
          2.7948900000000003e-10,
          2.88494e-10,
          2.9779300000000004e-10,
          3.07388e-10,
          3.1729500000000004e-10,
          3.27519e-10,
          3.38075e-10,
          3.4896900000000003e-10,
          3.6021600000000004e-10,
          3.7182300000000004e-10,
          3.83807e-10,
          3.96174e-10,
          4.08943e-10,
          4.2212e-10,
          4.3572499999999996e-10,
          4.4976500000000005e-10,
          4.6426100000000007e-10,
          4.79221e-10,
          4.94666e-10,
          5.10605e-10,
          5.270620000000001e-10,
          5.440450000000001e-10,
          5.6158e-10,
          5.796750000000001e-10,
          5.98358e-10,
          6.176389999999999e-10,
          6.37545e-10,
          6.58089e-10,
          6.79298e-10,
          7.01188e-10,
          7.237860000000001e-10,
          7.47109e-10,
          7.71188e-10,
          7.960380000000001e-10,
          8.21693e-10,
          8.48171e-10,
          8.75507e-10,
          9.037190000000002e-10,
          9.32845e-10,
          9.62904e-10,
          9.93937e-10,
          1.0259700000000001e-9,
          1.05903e-9,
          1.09316e-9,
          1.12839e-9,
          1.16475e-9,
          1.2022900000000002e-9,
          1.2410300000000002e-9,
          1.28103e-9,
          1.3223100000000002e-9,
          1.36492e-9,
          1.4089000000000002e-9,
          1.4543100000000001e-9,
          1.5011699999999999e-9,
          1.5495600000000002e-9,
          1.5994900000000002e-9,
          1.6510400000000001e-9,
          1.7042400000000001e-9,
          1.75917e-9,
          1.81585e-9,
          1.87438e-9,
          1.9347700000000003e-9,
          1.99713e-9,
          2.06148e-9,
          2.1324200000000004e-9,
          2.2058e-9,
          2.28171e-9,
          2.36022e-9,
          2.44144e-9,
          2.5254500000000002e-9,
          2.61236e-9,
          2.70225e-9,
          2.7952400000000004e-9,
          2.8914300000000002e-9,
          2.9909200000000003e-9,
          3.0938500000000004e-9,
          3.20031e-9,
          3.3104300000000005e-9,
          3.42435e-9,
          3.5421900000000006e-9,
          3.66408e-9,
          3.79016e-9,
          3.92059e-9,
          4.0555e-9,
          4.195050000000001e-9,
          4.33941e-9,
          4.4887300000000005e-9,
          4.643200000000001e-9,
          4.8029700000000004e-9,
          4.9682500000000005e-9,
          5.1392100000000005e-9,
          5.31606e-9,
          5.49899e-9,
          5.688220000000001e-9,
          5.89643e-9,
          6.112230000000001e-9,
          6.335950000000001e-9,
          6.567840000000001e-9,
          6.80824e-9,
          7.057410000000001e-9,
          7.315740000000001e-9,
          7.58348e-9,
          7.861060000000001e-9,
          8.14876e-9,
          8.44703e-9,
          8.75618e-9,
          9.07668e-9,
          9.40888e-9,
          9.7739e-9,
          1.0153099999999999e-8,
          1.0547e-8,
          1.09561e-8,
          1.13812e-8,
          1.18227e-8,
          1.2281400000000001e-8,
          1.27578e-8,
          1.32528e-8,
          1.37961e-8,
          1.4361600000000001e-8,
          1.49504e-8,
          1.55632e-8,
          1.62012e-8,
          1.68654e-8,
          1.75939e-8,
          1.83539e-8,
          1.91468e-8,
          1.99738e-8,
          2.08367e-8,
          2.17828e-8,
          2.27718e-8,
          2.38058e-8,
          2.4939399999999998e-8,
          2.52522e-8,
          2.5299999999999998e-8,
          2.65047e-8,
          2.77669e-8,
          2.91507e-8,
          3.06034e-8,
          3.21286e-8,
          3.38012e-8,
          3.55608e-8,
          3.74912e-8,
          3.95265e-8,
          4.1760400000000006e-8,
          4.4120600000000007e-8,
          4.67127e-8,
          4.94573e-8,
          5.2474e-8,
          5.57923e-8,
          5.94462e-8,
          6.347360000000001e-8,
          6.777350000000001e-8,
          7.251810000000001e-8,
          7.77593e-8,
          8.37322e-8,
          9.035510000000001e-8,
          9.770830000000001e-8,
          1.0610699999999999e-7,
          1.1547199999999999e-7,
          1.26197e-7,
          1.38501e-7,
          1.5264999999999998e-7,
          1.68957e-7,
          1.8819699999999997e-7,
          2.10515e-7,
          2.37481e-7,
          2.69605e-7,
          3.08674e-7,
          3.57161e-7,
          4.1765699999999997e-7,
          4.94636e-7,
          5.95798e-7,
          7.31438e-7,
          9.19087e-7,
          0.0000012161599999999998,
          0.0000032883399999999998,
          0.0000421035,
          0.00399682,
          0.0150122,
          0.0469937,
          0.0958589,
          0.201411,
          0.286804,
          0.372768,
          1.02126,
          1.52116,
          1.82512,
          2.5,
          3.4,
          3.75,
          4.05643,
          4.37077,
          4.69316,
          5.07054,
          5.6395,
          6.12757,
          6.6382,
          7.30114,
          7.98037,
          8.80319,
          10,
          10.141100000000002,
          10.284199999999998,
          10.429200000000002,
          10.5,
          10.6481,
          10.798399999999999,
          10.9507,
          11,
          11.1552,
          11.3126,
          11.472199999999999,
          11.5,
          11.6622,
          11.75,
          11.9158,
          12,
          12.1693,
          12.170000000000002,
          12.25,
          12.4228,
          12.5,
          12.676400000000001,
          12.8552,
          13,
          13.1834,
          13.3694,
          13.5,
          13.6905,
          13.883600000000001,
          14,
          14.1,
          14.17,
          14.3699,
          14.5,
          14.704600000000001,
          14.912,
          15,
          15.2116,
          15.426200000000001,
          15.5,
          15.718700000000002,
          15.940399999999999,
          16,
          16.2257,
          16.4546,
          16.5,
          16.7328,
          16.9689,
          17,
          17.239800000000002,
          17.4831,
          17.5,
          17.7469,
          17.9973,
          18,
          18.2539,
          18.5,
          18.761000000000003,
          19,
          19.2681,
          19.5,
          19.775100000000002,
          20,
          20.282200000000003,
          20.5683,
          20.858500000000003,
          21,
          21.296300000000002,
          21.596700000000002,
          21.9014,
          22,
          22.3104,
          22.625099999999996,
          22.944300000000002,
          23,
          23.3245,
          23.653599999999997,
          23.9873,
          24,
          24.3386,
          24.682,
          25,
          25.352700000000002,
          25.7104,
          26,
          26.3668,
          26.7388,
          27,
          27.3809,
          27.767200000000003,
          28,
          28.395000000000003,
          28.7956,
          29,
          29.409100000000002,
          29.824,
          30,
          30.4232,
          30.8525,
          31,
          31.437400000000004,
          31.880899999999997,
          32,
          32.4515,
          32.9093,
          33,
          33.4656,
          33.9377,
          34,
          34.4797,
          34.9661,
          35,
          35.4938,
          35.9945,
          36,
          36.5079,
          37,
          37.522000000000006,
          38,
          38.536100000000005,
          39,
          39.550200000000004,
          40,
          40.564299999999996,
          41.1366,
          41.717000000000006,
          42,
          42.5925,
          43.193400000000004,
          43.8028,
          44,
          44.6208,
          45.2503,
          45.8887,
          46,
          46.3,
          46.953199999999995,
          47.6156,
          48,
          48.6772,
          49.3639,
          50,
          50.705400000000004,
          51.4208,
          52,
          52.7336,
          53,
          53.747699999999995,
          54,
          54.7618,
          55.534400000000005,
          56,
          56.790099999999995,
          57.5913,
          58,
          58.8183,
          59.6481,
          60,
          60.8465,
          61.7049,
          62,
          62.8747,
          63.761799999999994,
          64,
          64.9029,
          65.8186,
          66,
          66.9311,
          67.8754,
          68,
          68.9594,
          69.9323,
          70,
          70.9876,
          71.9891,
          72,
          73.0158,
          74,
          75.04400000000001,
          76,
          77.07220000000001,
          78,
          79.10040000000001,
          80,
          81.1287,
          82,
          83.15690000000001,
          84,
          85.18509999999999,
          86,
          87.2133,
          88,
          89.24149999999999,
          90,
          91.2697,
          92,
          93.298,
          94,
          95.3262,
          96,
          97.3544,
          98,
          99.3826,
          100,
          101.411,
          102,
          103.439,
          104,
          105.467,
          106,
          107.495,
          108,
          109.524,
          110.00000000000001,
          111.552,
          112.00000000000001,
          113.58,
          113.99999999999999,
          115.608,
          115.99999999999999,
          117.63699999999999,
          118,
          119.66499999999999,
          120,
          121.69300000000001,
          122,
          123.72099999999999,
          124,
          125.749,
          126,
          127.77799999999999,
          128,
          129,
          130,
          131.834,
          132,
          133.862,
          134,
          135.89100000000002,
          136,
          137.91899999999998,
          138,
          139.947,
          140,
          141.975,
          142,
          144,
          146,
          148,
          150
         ],
         "y": [
          136398,
          134252,
          132142,
          130063,
          128019,
          126004.99999999999,
          124024,
          122074,
          120154.99999999999,
          118265,
          116406.00000000001,
          114575.99999999999,
          112775,
          111001,
          109256,
          107539,
          105848.00000000001,
          104184.00000000001,
          102547.00000000001,
          100933.99999999999,
          99348.1,
          97786.3,
          96249.59999999999,
          94736.6,
          93247.9,
          91782.2,
          90340,
          88920.20000000001,
          87523,
          86147.6,
          84794.09999999999,
          83461.59999999999,
          82150.5,
          80859.7,
          79589.5,
          78339.1,
          77108.6,
          75897.3,
          74705.3,
          73531.9,
          72377.2,
          71240.4,
          70121.8,
          69020.59999999999,
          67937,
          66870.3,
          65820.6,
          64787.299999999996,
          63770.4,
          62769.399999999994,
          61784.4,
          60814.700000000004,
          59860.5,
          58921.1,
          57996.8,
          57086.9,
          56191.5,
          55310.1,
          54442.700000000004,
          53588.899999999994,
          52748.7,
          51921.600000000006,
          51107.8,
          50306.6,
          49518.3,
          48742.200000000004,
          47978.6,
          47226.9,
          46487.2,
          45759,
          45042.5,
          44337.200000000004,
          43643.200000000004,
          42959.899999999994,
          42287.8,
          41625.9,
          40974.899999999994,
          40333.8,
          39703.2,
          39082.3,
          38471.5,
          37870.1,
          37278.5,
          36696,
          36123,
          35558.8,
          35003.799999999996,
          34457.4,
          33919.9,
          33390.7,
          32870.1,
          32357.6,
          31853.3,
          31357,
          30868.600000000002,
          30387.9,
          29915,
          29449.399999999998,
          28991.4,
          28540.600000000002,
          28097,
          27660.399999999998,
          27230.9,
          26808.100000000002,
          26392.2,
          25982.8,
          25580,
          25183.6,
          24793.6,
          24409.7,
          24032.100000000002,
          23660.399999999998,
          23294.800000000003,
          22934.899999999998,
          22580.9,
          22232.4,
          21889.699999999997,
          21552.3,
          21220.500000000004,
          20893.899999999998,
          20572.7,
          20256.6,
          19945.600000000002,
          19639.5,
          19338.5,
          19042.3,
          18750.899999999998,
          18464.2,
          18182.100000000002,
          17904.6,
          17631.600000000002,
          17363.1,
          17098.899999999998,
          16839,
          16583.3,
          16331.800000000001,
          16084.400000000001,
          15841.099999999999,
          15601.7,
          15366.2,
          15134.7,
          14906.900000000001,
          14682.800000000001,
          14462.5,
          14245.8,
          14032.6,
          13823,
          13616.8,
          13414.1,
          13214.8,
          13018.7,
          12825.9,
          12636.400000000001,
          12450.000000000002,
          12266.699999999999,
          12086.5,
          11909.400000000001,
          11735.199999999999,
          11564.000000000002,
          11395.599999999999,
          11230.199999999999,
          11067.499999999998,
          10907.6,
          10750.5,
          10596.000000000002,
          10444.199999999999,
          10295,
          10148.3,
          10004.3,
          9853.33,
          9705.19,
          9559.810000000001,
          9417.14,
          9277.150000000001,
          9139.789999999999,
          9005.02,
          8872.8,
          8743.09,
          8615.859999999999,
          8491.07,
          8368.67,
          8248.64,
          8130.929999999999,
          8015.52,
          7902.36,
          7791.43,
          7682.69,
          7576.1,
          7471.63,
          7369.259999999999,
          7268.95,
          7170.67,
          7074.38,
          6980.070000000001,
          6887.6900000000005,
          6797.23,
          6708.64,
          6621.91,
          6537,
          6448.75,
          6362.51,
          6278.23,
          6195.88,
          6115.43,
          6036.86,
          5960.12,
          5885.2,
          5812.0599999999995,
          5740.67,
          5671.01,
          5603.04,
          5536.74,
          5472.08,
          5405.37,
          5340.429999999999,
          5277.24,
          5215.76,
          5155.96,
          5097.8,
          5041.2699999999995,
          4986.32,
          4932.92,
          4878.219999999999,
          4825.179999999999,
          4773.7699999999995,
          4723.96,
          4675.71,
          4628.99,
          4581.419999999999,
          4535.46,
          4491.08,
          4448.24,
          4406.889999999999,
          4365.05,
          4324.77,
          4286.01,
          4247,
          4236.81,
          4235.280000000001,
          4198.31,
          4162.84,
          4127.33,
          4093.3599999999997,
          4060.8700000000003,
          4028.49,
          3997.62,
          3966.9900000000002,
          3937.86,
          3909.09,
          3881.8,
          3854.96,
          3829.5699999999997,
          3804.7,
          3780.42,
          3756.79,
          3733.9,
          3712.44,
          3691.71,
          3671.75,
          3652.04,
          3633.24,
          3615.35,
          3597.94,
          3581.52,
          3565.72,
          3550.59,
          3536.2200000000003,
          3522.64,
          3509.64,
          3497.54,
          3485.96,
          3475.18,
          3465.09,
          3455.65,
          3446.94,
          3438.93,
          3431.56,
          3424.87,
          3418.88,
          3413.17,
          3402.0299999999997,
          3395.81,
          3389.42,
          3354.4700000000003,
          3290.1099999999997,
          3224.56,
          3120.81,
          3058,
          3020.5,
          2866.6800000000003,
          2722.4300000000003,
          2610.31,
          2345,
          2011.1500000000003,
          1899.01,
          1817.61,
          1745.82,
          1680.99,
          1609.89,
          1514.26,
          1442.63,
          1374.79,
          1294.8500000000001,
          1221.96,
          1151.18,
          1050,
          1038.96,
          1027.77,
          1016.4200000000001,
          1010.8900000000001,
          1000.2500000000001,
          989.472,
          978.538,
          975,
          964.846,
          954.5489999999999,
          944.107,
          942.2860000000001,
          932.2950000000001,
          926.8919999999999,
          917.017,
          911.9999999999999,
          901.9830000000001,
          901.942,
          897.1819999999999,
          886.988,
          882.436,
          872.7589999999999,
          862.946,
          855.0000000000001,
          846.441,
          837.7610000000001,
          831.666,
          823.413,
          815.044,
          810,
          805.658,
          802.6279999999999,
          794.1519999999999,
          788.636,
          780.193,
          771.631,
          768,
          759.224,
          750.324,
          747.265,
          738.84,
          730.295,
          728,
          720.343,
          712.577,
          711.039,
          703.572,
          695.999,
          695,
          687.729,
          680.355,
          679.841,
          672.513,
          665.081,
          665,
          657.275,
          649.789,
          642.069,
          635,
          627.597,
          621.192,
          613.934,
          608,
          600.829,
          593.5559999999999,
          586.181,
          582.5840000000001,
          575.4,
          568.115,
          560.727,
          558.337,
          551.191,
          543.9440000000001,
          536.595,
          535.314,
          528.245,
          521.077,
          513.808,
          513.53,
          506.569,
          499.51,
          492.971,
          486.139,
          479.211,
          473.602,
          466.916,
          460.13599999999997,
          455.376,
          448.848,
          442.22799999999995,
          438.239,
          431.87699999999995,
          425.425,
          422.133,
          415.942,
          409.663,
          407,
          400.986,
          394.888,
          392.791,
          386.95,
          381.026,
          379.435,
          373.751,
          367.986,
          366.844,
          361.304,
          355.686,
          354.94500000000005,
          349.538,
          344.055,
          343.673,
          338.39,
          333.031,
          332.973,
          327.804,
          322.796,
          317.734,
          313.099,
          308.138,
          303.845,
          298.978,
          295,
          290.367,
          285.668,
          280.904,
          278.58,
          274.189,
          269.735,
          265.219,
          263.758,
          259.587,
          255.357,
          251.067,
          250.31900000000002,
          248.41099999999997,
          244.443,
          240.41899999999998,
          238.084,
          234.29899999999998,
          230.46,
          226.904,
          223.288,
          219.621,
          216.652,
          213.12199999999999,
          211.83999999999997,
          208.386,
          207.221,
          203.906,
          200.54500000000002,
          198.519,
          195.339,
          192.114,
          190.468,
          187.413,
          184.314,
          183,
          180.053,
          177.065,
          176.038,
          173.189,
          170.3,
          169.524,
          166.76999999999998,
          163.977,
          163.42399999999998,
          160.762,
          158.063,
          157.707,
          155.135,
          152.526,
          152.344,
          149.859,
          147.338,
          147.31,
          144.908,
          142.57999999999998,
          140.25799999999998,
          138.132,
          135.887,
          133.944,
          131.774,
          130,
          127.958,
          126.38100000000001,
          124.50399999999999,
          123.136,
          121.39800000000001,
          120.20299999999999,
          118.58200000000001,
          117.531,
          116.00699999999999,
          115.07700000000001,
          113.63499999999999,
          112.80600000000001,
          111.43,
          110.68599999999999,
          109.365,
          108.693,
          107.41400000000002,
          106.80400000000002,
          105.55699999999999,
          105,
          103.742,
          103.216,
          101.936,
          101.437,
          100.147,
          99.6791,
          98.393,
          97.95920000000001,
          96.68710000000002,
          96.2894,
          95.0408,
          94.68019999999999,
          93.4632,
          93.13980000000001,
          91.9618,
          91.67490000000001,
          90.54220000000001,
          90.2906,
          89.2085,
          88.9906,
          87.9511,
          87.7626,
          86.7572,
          86.59440000000001,
          85.61959999999999,
          85.4799,
          84.5322,
          84.4136,
          83.8969,
          83.3905,
          82.4878,
          82.4062,
          81.522,
          81.4566,
          80.58840000000001,
          80.5381,
          79.68379999999999,
          79.6476,
          78.80499999999999,
          78.7821,
          77.9518,
          77.9413,
          77.1363,
          76.3688,
          75.6386,
          74.9457
         ]
        },
        {
         "mode": "markers",
         "name": "produce 1n",
         "type": "scatter",
         "x": [
          3.339,
          3.4,
          3.5,
          3.75,
          4,
          4.25,
          4.5,
          5,
          5.5,
          5.6,
          6,
          6.5,
          7,
          7.25,
          7.5,
          7.85,
          8,
          8.5,
          9,
          9.5,
          9.7,
          10,
          10.5,
          11,
          11.5,
          11.75,
          12,
          12.170000000000002,
          12.25,
          12.5,
          13,
          13.5,
          14,
          14.1,
          14.5,
          15,
          15.5,
          16,
          16.5,
          17,
          17.5,
          18,
          18.5,
          19,
          19.5,
          20,
          21,
          22,
          23,
          24,
          25,
          26,
          27,
          28,
          29,
          30,
          31,
          32,
          33,
          34,
          35,
          36,
          37,
          38,
          39,
          40,
          42,
          44,
          46,
          46.3,
          48,
          50,
          52,
          53,
          54,
          56,
          58,
          60,
          62,
          64,
          66,
          68,
          70,
          72,
          74,
          76,
          78,
          80,
          82,
          84,
          86,
          88,
          90,
          92,
          94,
          96,
          98,
          100,
          102,
          104,
          106,
          108,
          110.00000000000001,
          112.00000000000001,
          113.99999999999999,
          115.99999999999999,
          118,
          120,
          122,
          124,
          126,
          128,
          129,
          130,
          132,
          134,
          136,
          138,
          140,
          142,
          144,
          146,
          148,
          150
         ],
         "y": [
          0,
          1.2,
          2.9,
          7.10318,
          13.5,
          19.0312,
          25,
          37,
          48.6414,
          51.0236,
          60.199999999999996,
          71.1742,
          82,
          87.3005,
          92.59280000000001,
          99.7726,
          102.69999999999999,
          111.85300000000001,
          120,
          127.25500000000001,
          130.005,
          134,
          139.833,
          145.279,
          150.278,
          152.595,
          154.78300000000002,
          156.183,
          156.81199999999998,
          158.659,
          161.84300000000002,
          164.409,
          166.424,
          166.767,
          167.953,
          169.056,
          170.09799999999998,
          170.75400000000002,
          171.09099999999998,
          171.17,
          171.051,
          170.761,
          170.303,
          169.684,
          168.906,
          167.978,
          166.564,
          164.898,
          162.985,
          160.834,
          159.37699999999998,
          157.68200000000002,
          155.762,
          153.63500000000002,
          151.31699999999998,
          148.827,
          146.189,
          143.476,
          140.763,
          138.11,
          135.562,
          132.504,
          129.64,
          126.986,
          124.55000000000001,
          122.339,
          118.30499999999999,
          114.623,
          111.31899999999999,
          110.85499999999999,
          108.404,
          105.87500000000001,
          103.682,
          102.671,
          101.703,
          99.9113,
          98.3376,
          96.96,
          95.706,
          94.5142,
          93.3813,
          92.30420000000001,
          91.28,
          90.30590000000001,
          89.3792,
          88.4975,
          87.6585,
          86.86,
          86.0937,
          85.3528,
          84.637,
          83.946,
          83.2793,
          82.6366,
          82.0174,
          81.42099999999999,
          80.8471,
          80.295,
          79.6992,
          79.058,
          78.38199999999999,
          77.6805,
          76.9619,
          76.2334,
          75.5016,
          74.7718,
          74.0492,
          73.3377,
          72.6412,
          71.9627,
          71.3048,
          70.67,
          70.3618,
          70.06,
          69.4702,
          68.8945,
          68.3321,
          67.7825,
          67.24510000000001,
          66.71940000000001,
          66.20490000000001,
          65.7011,
          65.2076,
          64.724
         ]
        }
       ],
       "frames": [],
       "layout": {
        "legend": {
         "title": {
          "text": "Legend"
         }
        },
        "margin": {
         "b": 50,
         "l": 50,
         "r": 50,
         "t": 60
        },
        "template": {
         "data": {
          "bar": [
           {
            "error_x": {
             "color": "#2a3f5f"
            },
            "error_y": {
             "color": "#2a3f5f"
            },
            "marker": {
             "line": {
              "color": "#E5ECF6",
              "width": 0.5
             }
            },
            "type": "bar"
           }
          ],
          "barpolar": [
           {
            "marker": {
             "line": {
              "color": "#E5ECF6",
              "width": 0.5
             }
            },
            "type": "barpolar"
           }
          ],
          "carpet": [
           {
            "aaxis": {
             "endlinecolor": "#2a3f5f",
             "gridcolor": "white",
             "linecolor": "white",
             "minorgridcolor": "white",
             "startlinecolor": "#2a3f5f"
            },
            "baxis": {
             "endlinecolor": "#2a3f5f",
             "gridcolor": "white",
             "linecolor": "white",
             "minorgridcolor": "white",
             "startlinecolor": "#2a3f5f"
            },
            "type": "carpet"
           }
          ],
          "choropleth": [
           {
            "colorbar": {
             "outlinewidth": 0,
             "ticks": ""
            },
            "type": "choropleth"
           }
          ],
          "contour": [
           {
            "colorbar": {
             "outlinewidth": 0,
             "ticks": ""
            },
            "colorscale": [
             [
              0,
              "#0d0887"
             ],
             [
              0.1111111111111111,
              "#46039f"
             ],
             [
              0.2222222222222222,
              "#7201a8"
             ],
             [
              0.3333333333333333,
              "#9c179e"
             ],
             [
              0.4444444444444444,
              "#bd3786"
             ],
             [
              0.5555555555555556,
              "#d8576b"
             ],
             [
              0.6666666666666666,
              "#ed7953"
             ],
             [
              0.7777777777777778,
              "#fb9f3a"
             ],
             [
              0.8888888888888888,
              "#fdca26"
             ],
             [
              1,
              "#f0f921"
             ]
            ],
            "type": "contour"
           }
          ],
          "contourcarpet": [
           {
            "colorbar": {
             "outlinewidth": 0,
             "ticks": ""
            },
            "type": "contourcarpet"
           }
          ],
          "heatmap": [
           {
            "colorbar": {
             "outlinewidth": 0,
             "ticks": ""
            },
            "colorscale": [
             [
              0,
              "#0d0887"
             ],
             [
              0.1111111111111111,
              "#46039f"
             ],
             [
              0.2222222222222222,
              "#7201a8"
             ],
             [
              0.3333333333333333,
              "#9c179e"
             ],
             [
              0.4444444444444444,
              "#bd3786"
             ],
             [
              0.5555555555555556,
              "#d8576b"
             ],
             [
              0.6666666666666666,
              "#ed7953"
             ],
             [
              0.7777777777777778,
              "#fb9f3a"
             ],
             [
              0.8888888888888888,
              "#fdca26"
             ],
             [
              1,
              "#f0f921"
             ]
            ],
            "type": "heatmap"
           }
          ],
          "heatmapgl": [
           {
            "colorbar": {
             "outlinewidth": 0,
             "ticks": ""
            },
            "colorscale": [
             [
              0,
              "#0d0887"
             ],
             [
              0.1111111111111111,
              "#46039f"
             ],
             [
              0.2222222222222222,
              "#7201a8"
             ],
             [
              0.3333333333333333,
              "#9c179e"
             ],
             [
              0.4444444444444444,
              "#bd3786"
             ],
             [
              0.5555555555555556,
              "#d8576b"
             ],
             [
              0.6666666666666666,
              "#ed7953"
             ],
             [
              0.7777777777777778,
              "#fb9f3a"
             ],
             [
              0.8888888888888888,
              "#fdca26"
             ],
             [
              1,
              "#f0f921"
             ]
            ],
            "type": "heatmapgl"
           }
          ],
          "histogram": [
           {
            "marker": {
             "colorbar": {
              "outlinewidth": 0,
              "ticks": ""
             }
            },
            "type": "histogram"
           }
          ],
          "histogram2d": [
           {
            "colorbar": {
             "outlinewidth": 0,
             "ticks": ""
            },
            "colorscale": [
             [
              0,
              "#0d0887"
             ],
             [
              0.1111111111111111,
              "#46039f"
             ],
             [
              0.2222222222222222,
              "#7201a8"
             ],
             [
              0.3333333333333333,
              "#9c179e"
             ],
             [
              0.4444444444444444,
              "#bd3786"
             ],
             [
              0.5555555555555556,
              "#d8576b"
             ],
             [
              0.6666666666666666,
              "#ed7953"
             ],
             [
              0.7777777777777778,
              "#fb9f3a"
             ],
             [
              0.8888888888888888,
              "#fdca26"
             ],
             [
              1,
              "#f0f921"
             ]
            ],
            "type": "histogram2d"
           }
          ],
          "histogram2dcontour": [
           {
            "colorbar": {
             "outlinewidth": 0,
             "ticks": ""
            },
            "colorscale": [
             [
              0,
              "#0d0887"
             ],
             [
              0.1111111111111111,
              "#46039f"
             ],
             [
              0.2222222222222222,
              "#7201a8"
             ],
             [
              0.3333333333333333,
              "#9c179e"
             ],
             [
              0.4444444444444444,
              "#bd3786"
             ],
             [
              0.5555555555555556,
              "#d8576b"
             ],
             [
              0.6666666666666666,
              "#ed7953"
             ],
             [
              0.7777777777777778,
              "#fb9f3a"
             ],
             [
              0.8888888888888888,
              "#fdca26"
             ],
             [
              1,
              "#f0f921"
             ]
            ],
            "type": "histogram2dcontour"
           }
          ],
          "mesh3d": [
           {
            "colorbar": {
             "outlinewidth": 0,
             "ticks": ""
            },
            "type": "mesh3d"
           }
          ],
          "parcoords": [
           {
            "line": {
             "colorbar": {
              "outlinewidth": 0,
              "ticks": ""
             }
            },
            "type": "parcoords"
           }
          ],
          "pie": [
           {
            "automargin": true,
            "type": "pie"
           }
          ],
          "scatter": [
           {
            "marker": {
             "colorbar": {
              "outlinewidth": 0,
              "ticks": ""
             }
            },
            "type": "scatter"
           }
          ],
          "scatter3d": [
           {
            "line": {
             "colorbar": {
              "outlinewidth": 0,
              "ticks": ""
             }
            },
            "marker": {
             "colorbar": {
              "outlinewidth": 0,
              "ticks": ""
             }
            },
            "type": "scatter3d"
           }
          ],
          "scattercarpet": [
           {
            "marker": {
             "colorbar": {
              "outlinewidth": 0,
              "ticks": ""
             }
            },
            "type": "scattercarpet"
           }
          ],
          "scattergeo": [
           {
            "marker": {
             "colorbar": {
              "outlinewidth": 0,
              "ticks": ""
             }
            },
            "type": "scattergeo"
           }
          ],
          "scattergl": [
           {
            "marker": {
             "colorbar": {
              "outlinewidth": 0,
              "ticks": ""
             }
            },
            "type": "scattergl"
           }
          ],
          "scattermapbox": [
           {
            "marker": {
             "colorbar": {
              "outlinewidth": 0,
              "ticks": ""
             }
            },
            "type": "scattermapbox"
           }
          ],
          "scatterpolar": [
           {
            "marker": {
             "colorbar": {
              "outlinewidth": 0,
              "ticks": ""
             }
            },
            "type": "scatterpolar"
           }
          ],
          "scatterpolargl": [
           {
            "marker": {
             "colorbar": {
              "outlinewidth": 0,
              "ticks": ""
             }
            },
            "type": "scatterpolargl"
           }
          ],
          "scatterternary": [
           {
            "marker": {
             "colorbar": {
              "outlinewidth": 0,
              "ticks": ""
             }
            },
            "type": "scatterternary"
           }
          ],
          "surface": [
           {
            "colorbar": {
             "outlinewidth": 0,
             "ticks": ""
            },
            "colorscale": [
             [
              0,
              "#0d0887"
             ],
             [
              0.1111111111111111,
              "#46039f"
             ],
             [
              0.2222222222222222,
              "#7201a8"
             ],
             [
              0.3333333333333333,
              "#9c179e"
             ],
             [
              0.4444444444444444,
              "#bd3786"
             ],
             [
              0.5555555555555556,
              "#d8576b"
             ],
             [
              0.6666666666666666,
              "#ed7953"
             ],
             [
              0.7777777777777778,
              "#fb9f3a"
             ],
             [
              0.8888888888888888,
              "#fdca26"
             ],
             [
              1,
              "#f0f921"
             ]
            ],
            "type": "surface"
           }
          ],
          "table": [
           {
            "cells": {
             "fill": {
              "color": "#EBF0F8"
             },
             "line": {
              "color": "white"
             }
            },
            "header": {
             "fill": {
              "color": "#C8D4E3"
             },
             "line": {
              "color": "white"
             }
            },
            "type": "table"
           }
          ]
         },
         "layout": {
          "annotationdefaults": {
           "arrowcolor": "#2a3f5f",
           "arrowhead": 0,
           "arrowwidth": 1
          },
          "autotypenumbers": "strict",
          "coloraxis": {
           "colorbar": {
            "outlinewidth": 0,
            "ticks": ""
           }
          },
          "colorscale": {
           "diverging": [
            [
             0,
             "#8e0152"
            ],
            [
             0.1,
             "#c51b7d"
            ],
            [
             0.2,
             "#de77ae"
            ],
            [
             0.3,
             "#f1b6da"
            ],
            [
             0.4,
             "#fde0ef"
            ],
            [
             0.5,
             "#f7f7f7"
            ],
            [
             0.6,
             "#e6f5d0"
            ],
            [
             0.7,
             "#b8e186"
            ],
            [
             0.8,
             "#7fbc41"
            ],
            [
             0.9,
             "#4d9221"
            ],
            [
             1,
             "#276419"
            ]
           ],
           "sequential": [
            [
             0,
             "#0d0887"
            ],
            [
             0.1111111111111111,
             "#46039f"
            ],
            [
             0.2222222222222222,
             "#7201a8"
            ],
            [
             0.3333333333333333,
             "#9c179e"
            ],
            [
             0.4444444444444444,
             "#bd3786"
            ],
            [
             0.5555555555555556,
             "#d8576b"
            ],
            [
             0.6666666666666666,
             "#ed7953"
            ],
            [
             0.7777777777777778,
             "#fb9f3a"
            ],
            [
             0.8888888888888888,
             "#fdca26"
            ],
            [
             1,
             "#f0f921"
            ]
           ],
           "sequentialminus": [
            [
             0,
             "#0d0887"
            ],
            [
             0.1111111111111111,
             "#46039f"
            ],
            [
             0.2222222222222222,
             "#7201a8"
            ],
            [
             0.3333333333333333,
             "#9c179e"
            ],
            [
             0.4444444444444444,
             "#bd3786"
            ],
            [
             0.5555555555555556,
             "#d8576b"
            ],
            [
             0.6666666666666666,
             "#ed7953"
            ],
            [
             0.7777777777777778,
             "#fb9f3a"
            ],
            [
             0.8888888888888888,
             "#fdca26"
            ],
            [
             1,
             "#f0f921"
            ]
           ]
          },
          "colorway": [
           "#636efa",
           "#EF553B",
           "#00cc96",
           "#ab63fa",
           "#FFA15A",
           "#19d3f3",
           "#FF6692",
           "#B6E880",
           "#FF97FF",
           "#FECB52"
          ],
          "font": {
           "color": "#2a3f5f"
          },
          "geo": {
           "bgcolor": "white",
           "lakecolor": "white",
           "landcolor": "#E5ECF6",
           "showlakes": true,
           "showland": true,
           "subunitcolor": "white"
          },
          "hoverlabel": {
           "align": "left"
          },
          "hovermode": "closest",
          "mapbox": {
           "style": "light"
          },
          "paper_bgcolor": "white",
          "plot_bgcolor": "#E5ECF6",
          "polar": {
           "angularaxis": {
            "gridcolor": "white",
            "linecolor": "white",
            "ticks": ""
           },
           "bgcolor": "#E5ECF6",
           "radialaxis": {
            "gridcolor": "white",
            "linecolor": "white",
            "ticks": ""
           }
          },
          "scene": {
           "xaxis": {
            "backgroundcolor": "#E5ECF6",
            "gridcolor": "white",
            "gridwidth": 2,
            "linecolor": "white",
            "showbackground": true,
            "ticks": "",
            "zerolinecolor": "white"
           },
           "yaxis": {
            "backgroundcolor": "#E5ECF6",
            "gridcolor": "white",
            "gridwidth": 2,
            "linecolor": "white",
            "showbackground": true,
            "ticks": "",
            "zerolinecolor": "white"
           },
           "zaxis": {
            "backgroundcolor": "#E5ECF6",
            "gridcolor": "white",
            "gridwidth": 2,
            "linecolor": "white",
            "showbackground": true,
            "ticks": "",
            "zerolinecolor": "white"
           }
          },
          "shapedefaults": {
           "line": {
            "color": "#2a3f5f"
           }
          },
          "ternary": {
           "aaxis": {
            "gridcolor": "white",
            "linecolor": "white",
            "ticks": ""
           },
           "baxis": {
            "gridcolor": "white",
            "linecolor": "white",
            "ticks": ""
           },
           "bgcolor": "#E5ECF6",
           "caxis": {
            "gridcolor": "white",
            "linecolor": "white",
            "ticks": ""
           }
          },
          "title": {
           "x": 0.05
          },
          "xaxis": {
           "automargin": true,
           "gridcolor": "white",
           "linecolor": "white",
           "ticks": "",
           "title": {
            "standoff": 15
           },
           "zerolinecolor": "white",
           "zerolinewidth": 2
          },
          "yaxis": {
           "automargin": true,
           "gridcolor": "white",
           "linecolor": "white",
           "ticks": "",
           "title": {
            "standoff": 15
           },
           "zerolinecolor": "white",
           "zerolinewidth": 2
          }
         }
        },
        "xaxis": {
         "title": {
          "text": "E(MeV)"
         },
         "type": "log"
        },
        "yaxis": {
         "title": {
          "text": "xs(mb)"
         },
         "type": "log"
        }
       }
      },
      "text/html": [
       "<div\n",
       "    class=\"webio-mountpoint\"\n",
       "    data-webio-mountpoint=\"16943670368435515671\"\n",
       ">\n",
       "    <script>\n",
       "    (function(){\n",
       "    // Some integrations (namely, IJulia/Jupyter) use an alternate render pathway than\n",
       "    // just putting the html on the page. If WebIO isn't defined, then it's pretty likely\n",
       "    // that we're in one of those situations and the integration just isn't installed\n",
       "    // correctly.\n",
       "    if (typeof window.WebIO === \"undefined\") {\n",
       "        document\n",
       "            .querySelector('[data-webio-mountpoint=\"16943670368435515671\"]')\n",
       "            .innerHTML = (\n",
       "                '<div style=\"padding: 1em; background-color: #f8d6da; border: 1px solid #f5c6cb; font-weight: bold;\">' +\n",
       "                '<p><strong>WebIO not detected.</strong></p>' +\n",
       "                '<p>Please read ' +\n",
       "                '<a href=\"https://juliagizmos.github.io/WebIO.jl/latest/troubleshooting/not-detected/\" target=\"_blank\">the troubleshooting guide</a> ' +\n",
       "                'for more information on how to resolve this issue.</p>' +\n",
       "                '<p><a href=\"https://juliagizmos.github.io/WebIO.jl/latest/troubleshooting/not-detected/\" target=\"_blank\">https://juliagizmos.github.io/WebIO.jl/latest/troubleshooting/not-detected/</a></p>' +\n",
       "                '</div>'\n",
       "            );\n",
       "        return;\n",
       "    }\n",
       "    WebIO.mount(\n",
       "        document.querySelector('[data-webio-mountpoint=\"16943670368435515671\"]'),\n",
       "        {\"props\":{},\"nodeType\":\"Scope\",\"type\":\"node\",\"instanceArgs\":{\"imports\":{\"data\":[{\"name\":\"Plotly\",\"type\":\"js\",\"url\":\"\\/assetserver\\/974bc88f8fa21ff4c3cbd84b6afff90488058aa7-plotly.min.js\"},{\"name\":null,\"type\":\"js\",\"url\":\"\\/assetserver\\/64d87b978f97348bc0d43ca0daa59975ea5d4c91-plotly_webio.bundle.js\"}],\"type\":\"async_block\"},\"id\":\"236024072438745534\",\"handlers\":{\"_toImage\":[\"(function (options){return this.Plotly.toImage(this.plotElem,options).then((function (data){return WebIO.setval({\\\"name\\\":\\\"image\\\",\\\"scope\\\":\\\"236024072438745534\\\",\\\"id\\\":\\\"4254561978857270584\\\",\\\"type\\\":\\\"observable\\\"},data)}))})\"],\"__get_gd_contents\":[\"(function (prop){prop==\\\"data\\\" ? (WebIO.setval({\\\"name\\\":\\\"__gd_contents\\\",\\\"scope\\\":\\\"236024072438745534\\\",\\\"id\\\":\\\"9347536548025300657\\\",\\\"type\\\":\\\"observable\\\"},this.plotElem.data)) : undefined; return prop==\\\"layout\\\" ? (WebIO.setval({\\\"name\\\":\\\"__gd_contents\\\",\\\"scope\\\":\\\"236024072438745534\\\",\\\"id\\\":\\\"9347536548025300657\\\",\\\"type\\\":\\\"observable\\\"},this.plotElem.layout)) : undefined})\"],\"_downloadImage\":[\"(function (options){return this.Plotly.downloadImage(this.plotElem,options)})\"],\"_commands\":[\"(function (args){var fn=args.shift(); var elem=this.plotElem; var Plotly=this.Plotly; args.unshift(elem); return Plotly[fn].apply(this,args)})\"]},\"systemjs_options\":null,\"mount_callbacks\":[\"function () {\\n    var handler = ((function (Plotly,PlotlyWebIO){PlotlyWebIO.init(WebIO); var gd=this.dom.querySelector(\\\"#plot-3714b6f4-8b11-4553-9ac1-c70bcb69eb59\\\"); this.plotElem=gd; this.Plotly=Plotly; (window.Blink!==undefined) ? (gd.style.width=\\\"100%\\\", gd.style.height=\\\"100vh\\\", gd.style.marginLeft=\\\"0%\\\", gd.style.marginTop=\\\"0vh\\\") : undefined; window.onresize=(function (){return Plotly.Plots.resize(gd)}); Plotly.newPlot(gd,[{\\\"mode\\\":\\\"markers\\\",\\\"y\\\":[136398.0,134252.0,132142.0,130063.0,128019.0,126004.99999999999,124024.0,122074.0,120154.99999999999,118265.0,116406.00000000001,114575.99999999999,112775.0,111001.0,109256.0,107539.0,105848.00000000001,104184.00000000001,102547.00000000001,100933.99999999999,99348.1,97786.3,96249.59999999999,94736.6,93247.9,91782.2,90340.0,88920.20000000001,87523.0,86147.6,84794.09999999999,83461.59999999999,82150.5,80859.7,79589.5,78339.1,77108.6,75897.3,74705.3,73531.9,72377.2,71240.4,70121.8,69020.59999999999,67937.0,66870.3,65820.6,64787.299999999996,63770.4,62769.399999999994,61784.4,60814.700000000004,59860.5,58921.1,57996.8,57086.9,56191.5,55310.1,54442.700000000004,53588.899999999994,52748.7,51921.600000000006,51107.8,50306.6,49518.3,48742.200000000004,47978.6,47226.9,46487.2,45759.0,45042.5,44337.200000000004,43643.200000000004,42959.899999999994,42287.8,41625.9,40974.899999999994,40333.8,39703.2,39082.3,38471.5,37870.1,37278.5,36696.0,36123.0,35558.8,35003.799999999996,34457.4,33919.9,33390.7,32870.1,32357.6,31853.3,31357.0,30868.600000000002,30387.9,29915.0,29449.399999999998,28991.4,28540.600000000002,28097.0,27660.399999999998,27230.9,26808.100000000002,26392.2,25982.8,25580.0,25183.6,24793.6,24409.7,24032.100000000002,23660.399999999998,23294.800000000003,22934.899999999998,22580.9,22232.4,21889.699999999997,21552.3,21220.500000000004,20893.899999999998,20572.7,20256.6,19945.600000000002,19639.5,19338.5,19042.3,18750.899999999998,18464.2,18182.100000000002,17904.6,17631.600000000002,17363.1,17098.899999999998,16839.0,16583.3,16331.800000000001,16084.400000000001,15841.099999999999,15601.7,15366.2,15134.7,14906.900000000001,14682.800000000001,14462.5,14245.8,14032.6,13823.0,13616.8,13414.1,13214.8,13018.7,12825.9,12636.400000000001,12450.000000000002,12266.699999999999,12086.5,11909.400000000001,11735.199999999999,11564.000000000002,11395.599999999999,11230.199999999999,11067.499999999998,10907.6,10750.5,10596.000000000002,10444.199999999999,10295.0,10148.3,10004.3,9853.33,9705.19,9559.810000000001,9417.14,9277.150000000001,9139.789999999999,9005.02,8872.8,8743.09,8615.859999999999,8491.07,8368.67,8248.64,8130.929999999999,8015.52,7902.36,7791.43,7682.69,7576.1,7471.63,7369.259999999999,7268.95,7170.67,7074.38,6980.070000000001,6887.6900000000005,6797.23,6708.64,6621.91,6537.0,6448.75,6362.51,6278.23,6195.88,6115.43,6036.86,5960.12,5885.2,5812.0599999999995,5740.67,5671.01,5603.04,5536.74,5472.08,5405.37,5340.429999999999,5277.24,5215.76,5155.96,5097.8,5041.2699999999995,4986.32,4932.92,4878.219999999999,4825.179999999999,4773.7699999999995,4723.96,4675.71,4628.99,4581.419999999999,4535.46,4491.08,4448.24,4406.889999999999,4365.05,4324.77,4286.01,4247.0,4236.81,4235.280000000001,4198.31,4162.84,4127.33,4093.3599999999997,4060.8700000000003,4028.49,3997.62,3966.9900000000002,3937.86,3909.09,3881.8,3854.96,3829.5699999999997,3804.7,3780.42,3756.79,3733.9,3712.44,3691.71,3671.75,3652.04,3633.24,3615.35,3597.94,3581.52,3565.72,3550.59,3536.2200000000003,3522.64,3509.64,3497.54,3485.96,3475.18,3465.09,3455.65,3446.94,3438.93,3431.56,3424.87,3418.88,3413.17,3402.0299999999997,3395.81,3389.42,3354.4700000000003,3290.1099999999997,3224.56,3120.81,3058.0,3020.5,2866.6800000000003,2722.4300000000003,2610.31,2345.0,2011.1500000000003,1899.01,1817.61,1745.82,1680.99,1609.89,1514.26,1442.63,1374.79,1294.8500000000001,1221.96,1151.18,1050.0,1038.96,1027.77,1016.4200000000001,1010.8900000000001,1000.2500000000001,989.472,978.538,975.0,964.846,954.5489999999999,944.107,942.2860000000001,932.2950000000001,926.8919999999999,917.017,911.9999999999999,901.9830000000001,901.942,897.1819999999999,886.988,882.436,872.7589999999999,862.946,855.0000000000001,846.441,837.7610000000001,831.666,823.413,815.044,810.0,805.658,802.6279999999999,794.1519999999999,788.636,780.193,771.631,768.0,759.224,750.324,747.265,738.84,730.295,728.0,720.343,712.577,711.039,703.572,695.999,695.0,687.729,680.355,679.841,672.513,665.081,665.0,657.275,649.789,642.069,635.0,627.597,621.192,613.934,608.0,600.829,593.5559999999999,586.181,582.5840000000001,575.4,568.115,560.727,558.337,551.191,543.9440000000001,536.595,535.314,528.245,521.077,513.808,513.53,506.569,499.51,492.971,486.139,479.211,473.602,466.916,460.13599999999997,455.376,448.848,442.22799999999995,438.239,431.87699999999995,425.425,422.133,415.942,409.663,407.0,400.986,394.888,392.791,386.95,381.026,379.435,373.751,367.986,366.844,361.304,355.686,354.94500000000005,349.538,344.055,343.673,338.39,333.031,332.973,327.804,322.796,317.734,313.099,308.138,303.845,298.978,295.0,290.367,285.668,280.904,278.58,274.189,269.735,265.219,263.758,259.587,255.357,251.067,250.31900000000002,248.41099999999997,244.443,240.41899999999998,238.084,234.29899999999998,230.46,226.904,223.288,219.621,216.652,213.12199999999999,211.83999999999997,208.386,207.221,203.906,200.54500000000002,198.519,195.339,192.114,190.468,187.413,184.314,183.0,180.053,177.065,176.038,173.189,170.3,169.524,166.76999999999998,163.977,163.42399999999998,160.762,158.063,157.707,155.135,152.526,152.344,149.859,147.338,147.31,144.908,142.57999999999998,140.25799999999998,138.132,135.887,133.944,131.774,130.0,127.958,126.38100000000001,124.50399999999999,123.136,121.39800000000001,120.20299999999999,118.58200000000001,117.531,116.00699999999999,115.07700000000001,113.63499999999999,112.80600000000001,111.43,110.68599999999999,109.365,108.693,107.41400000000002,106.80400000000002,105.55699999999999,105.0,103.742,103.216,101.936,101.437,100.147,99.6791,98.393,97.95920000000001,96.68710000000002,96.2894,95.0408,94.68019999999999,93.4632,93.13980000000001,91.9618,91.67490000000001,90.54220000000001,90.2906,89.2085,88.9906,87.9511,87.7626,86.7572,86.59440000000001,85.61959999999999,85.4799,84.5322,84.4136,83.8969,83.3905,82.4878,82.4062,81.522,81.4566,80.58840000000001,80.5381,79.68379999999999,79.6476,78.80499999999999,78.7821,77.9518,77.9413,77.1363,76.3688,75.6386,74.9457],\\\"type\\\":\\\"scatter\\\",\\\"name\\\":\\\"total\\\",\\\"x\\\":[1.0e-11,1.03223e-11,1.06549e-11,1.0998399999999998e-11,1.13527e-11,1.1718599999999999e-11,1.2096199999999998e-11,1.24861e-11,1.2888399999999999e-11,1.3303799999999998e-11,1.37325e-11,1.41751e-11,1.4631799999999997e-11,1.51034e-11,1.5590099999999998e-11,1.6092599999999998e-11,1.66111e-11,1.71465e-11,1.7699e-11,1.8269399999999998e-11,1.88581e-11,1.94659e-11,2.00931e-11,2.0740699999999998e-11,2.1408999999999998e-11,2.2099099999999997e-11,2.28111e-11,2.3546399999999998e-11,2.4305099999999997e-11,2.50884e-11,2.5896799999999997e-11,2.67315e-11,2.75928e-11,2.8482199999999998e-11,2.93999e-11,3.0347499999999995e-11,3.13253e-11,3.2335e-11,3.33769e-11,3.44526e-11,3.55627e-11,3.67089e-11,3.7891799999999997e-11,3.9113e-11,4.0373400000000003e-11,4.1674599999999996e-11,4.3017399999999996e-11,4.440389999999999e-11,4.58347e-11,4.7311899999999994e-11,4.883639999999999e-11,5.0410399999999995e-11,5.20348e-11,5.37119e-11,5.54426e-11,5.7229499999999995e-11,5.907359999999999e-11,6.09775e-11,6.29424e-11,6.497099999999999e-11,6.70645e-11,6.9226e-11,7.145659999999999e-11,7.37596e-11,7.61364e-11,7.85902e-11,8.11227e-11,8.37372e-11,8.643549999999999e-11,8.922119999999998e-11,9.209619999999999e-11,9.506439999999999e-11,9.81277e-11,1.01291e-10,1.04554e-10,1.07924e-10,1.11402e-10,1.1499200000000001e-10,1.1869700000000001e-10,1.22523e-10,1.26471e-10,1.30547e-10,1.34754e-10,1.3909700000000002e-10,1.43579e-10,1.48207e-10,1.52982e-10,1.57913e-10,1.6300100000000001e-10,1.68254e-10,1.73676e-10,1.79274e-10,1.8505000000000002e-10,1.91014e-10,1.97169e-10,2.03524e-10,2.1008200000000003e-10,2.16853e-10,2.2384e-10,2.31055e-10,2.385e-10,2.46187e-10,2.5412e-10,2.6231e-10,2.70762e-10,2.7948900000000003e-10,2.88494e-10,2.9779300000000004e-10,3.07388e-10,3.1729500000000004e-10,3.27519e-10,3.38075e-10,3.4896900000000003e-10,3.6021600000000004e-10,3.7182300000000004e-10,3.83807e-10,3.96174e-10,4.08943e-10,4.2212e-10,4.3572499999999996e-10,4.4976500000000005e-10,4.6426100000000007e-10,4.79221e-10,4.94666e-10,5.10605e-10,5.270620000000001e-10,5.440450000000001e-10,5.6158e-10,5.796750000000001e-10,5.98358e-10,6.176389999999999e-10,6.37545e-10,6.58089e-10,6.79298e-10,7.01188e-10,7.237860000000001e-10,7.47109e-10,7.71188e-10,7.960380000000001e-10,8.21693e-10,8.48171e-10,8.75507e-10,9.037190000000002e-10,9.32845e-10,9.62904e-10,9.93937e-10,1.0259700000000001e-9,1.05903e-9,1.09316e-9,1.12839e-9,1.16475e-9,1.2022900000000002e-9,1.2410300000000002e-9,1.28103e-9,1.3223100000000002e-9,1.36492e-9,1.4089000000000002e-9,1.4543100000000001e-9,1.5011699999999999e-9,1.5495600000000002e-9,1.5994900000000002e-9,1.6510400000000001e-9,1.7042400000000001e-9,1.75917e-9,1.81585e-9,1.87438e-9,1.9347700000000003e-9,1.99713e-9,2.06148e-9,2.1324200000000004e-9,2.2058e-9,2.28171e-9,2.36022e-9,2.44144e-9,2.5254500000000002e-9,2.61236e-9,2.70225e-9,2.7952400000000004e-9,2.8914300000000002e-9,2.9909200000000003e-9,3.0938500000000004e-9,3.20031e-9,3.3104300000000005e-9,3.42435e-9,3.5421900000000006e-9,3.66408e-9,3.79016e-9,3.92059e-9,4.0555e-9,4.195050000000001e-9,4.33941e-9,4.4887300000000005e-9,4.643200000000001e-9,4.8029700000000004e-9,4.9682500000000005e-9,5.1392100000000005e-9,5.31606e-9,5.49899e-9,5.688220000000001e-9,5.89643e-9,6.112230000000001e-9,6.335950000000001e-9,6.567840000000001e-9,6.80824e-9,7.057410000000001e-9,7.315740000000001e-9,7.58348e-9,7.861060000000001e-9,8.14876e-9,8.44703e-9,8.75618e-9,9.07668e-9,9.40888e-9,9.7739e-9,1.0153099999999999e-8,1.0547e-8,1.09561e-8,1.13812e-8,1.18227e-8,1.2281400000000001e-8,1.27578e-8,1.32528e-8,1.37961e-8,1.4361600000000001e-8,1.49504e-8,1.55632e-8,1.62012e-8,1.68654e-8,1.75939e-8,1.83539e-8,1.91468e-8,1.99738e-8,2.08367e-8,2.17828e-8,2.27718e-8,2.38058e-8,2.4939399999999998e-8,2.52522e-8,2.5299999999999998e-8,2.65047e-8,2.77669e-8,2.91507e-8,3.06034e-8,3.21286e-8,3.38012e-8,3.55608e-8,3.74912e-8,3.95265e-8,4.1760400000000006e-8,4.4120600000000007e-8,4.67127e-8,4.94573e-8,5.2474e-8,5.57923e-8,5.94462e-8,6.347360000000001e-8,6.777350000000001e-8,7.251810000000001e-8,7.77593e-8,8.37322e-8,9.035510000000001e-8,9.770830000000001e-8,1.0610699999999999e-7,1.1547199999999999e-7,1.26197e-7,1.38501e-7,1.5264999999999998e-7,1.68957e-7,1.8819699999999997e-7,2.10515e-7,2.37481e-7,2.69605e-7,3.08674e-7,3.57161e-7,4.1765699999999997e-7,4.94636e-7,5.95798e-7,7.31438e-7,9.19087e-7,1.2161599999999998e-6,3.2883399999999998e-6,4.21035e-5,0.00399682,0.0150122,0.0469937,0.0958589,0.201411,0.286804,0.372768,1.02126,1.52116,1.82512,2.5,3.4,3.75,4.05643,4.37077,4.69316,5.07054,5.6395,6.12757,6.6382,7.30114,7.98037,8.80319,10.0,10.141100000000002,10.284199999999998,10.429200000000002,10.5,10.6481,10.798399999999999,10.9507,11.0,11.1552,11.3126,11.472199999999999,11.5,11.6622,11.75,11.9158,12.0,12.1693,12.170000000000002,12.25,12.4228,12.5,12.676400000000001,12.8552,13.0,13.1834,13.3694,13.5,13.6905,13.883600000000001,14.0,14.1,14.17,14.3699,14.5,14.704600000000001,14.912,15.0,15.2116,15.426200000000001,15.5,15.718700000000002,15.940399999999999,16.0,16.2257,16.4546,16.5,16.7328,16.9689,17.0,17.239800000000002,17.4831,17.5,17.7469,17.9973,18.0,18.2539,18.5,18.761000000000003,19.0,19.2681,19.5,19.775100000000002,20.0,20.282200000000003,20.5683,20.858500000000003,21.0,21.296300000000002,21.596700000000002,21.9014,22.0,22.3104,22.625099999999996,22.944300000000002,23.0,23.3245,23.653599999999997,23.9873,24.0,24.3386,24.682,25.0,25.352700000000002,25.7104,26.0,26.3668,26.7388,27.0,27.3809,27.767200000000003,28.0,28.395000000000003,28.7956,29.0,29.409100000000002,29.824,30.0,30.4232,30.8525,31.0,31.437400000000004,31.880899999999997,32.0,32.4515,32.9093,33.0,33.4656,33.9377,34.0,34.4797,34.9661,35.0,35.4938,35.9945,36.0,36.5079,37.0,37.522000000000006,38.0,38.536100000000005,39.0,39.550200000000004,40.0,40.564299999999996,41.1366,41.717000000000006,42.0,42.5925,43.193400000000004,43.8028,44.0,44.6208,45.2503,45.8887,46.0,46.3,46.953199999999995,47.6156,48.0,48.6772,49.3639,50.0,50.705400000000004,51.4208,52.0,52.7336,53.0,53.747699999999995,54.0,54.7618,55.534400000000005,56.0,56.790099999999995,57.5913,58.0,58.8183,59.6481,60.0,60.8465,61.7049,62.0,62.8747,63.761799999999994,64.0,64.9029,65.8186,66.0,66.9311,67.8754,68.0,68.9594,69.9323,70.0,70.9876,71.9891,72.0,73.0158,74.0,75.04400000000001,76.0,77.07220000000001,78.0,79.10040000000001,80.0,81.1287,82.0,83.15690000000001,84.0,85.18509999999999,86.0,87.2133,88.0,89.24149999999999,90.0,91.2697,92.0,93.298,94.0,95.3262,96.0,97.3544,98.0,99.3826,100.0,101.411,102.0,103.439,104.0,105.467,106.0,107.495,108.0,109.524,110.00000000000001,111.552,112.00000000000001,113.58,113.99999999999999,115.608,115.99999999999999,117.63699999999999,118.0,119.66499999999999,120.0,121.69300000000001,122.0,123.72099999999999,124.0,125.749,126.0,127.77799999999999,128.0,129.0,130.0,131.834,132.0,133.862,134.0,135.89100000000002,136.0,137.91899999999998,138.0,139.947,140.0,141.975,142.0,144.0,146.0,148.0,150.0]},{\\\"mode\\\":\\\"markers\\\",\\\"y\\\":[0.0,1.2,2.9,7.10318,13.5,19.0312,25.0,37.0,48.6414,51.0236,60.199999999999996,71.1742,82.0,87.3005,92.59280000000001,99.7726,102.69999999999999,111.85300000000001,120.0,127.25500000000001,130.005,134.0,139.833,145.279,150.278,152.595,154.78300000000002,156.183,156.81199999999998,158.659,161.84300000000002,164.409,166.424,166.767,167.953,169.056,170.09799999999998,170.75400000000002,171.09099999999998,171.17,171.051,170.761,170.303,169.684,168.906,167.978,166.564,164.898,162.985,160.834,159.37699999999998,157.68200000000002,155.762,153.63500000000002,151.31699999999998,148.827,146.189,143.476,140.763,138.11,135.562,132.504,129.64,126.986,124.55000000000001,122.339,118.30499999999999,114.623,111.31899999999999,110.85499999999999,108.404,105.87500000000001,103.682,102.671,101.703,99.9113,98.3376,96.96,95.706,94.5142,93.3813,92.30420000000001,91.28,90.30590000000001,89.3792,88.4975,87.6585,86.86,86.0937,85.3528,84.637,83.946,83.2793,82.6366,82.0174,81.42099999999999,80.8471,80.295,79.6992,79.058,78.38199999999999,77.6805,76.9619,76.2334,75.5016,74.7718,74.0492,73.3377,72.6412,71.9627,71.3048,70.67,70.3618,70.06,69.4702,68.8945,68.3321,67.7825,67.24510000000001,66.71940000000001,66.20490000000001,65.7011,65.2076,64.724],\\\"type\\\":\\\"scatter\\\",\\\"name\\\":\\\"produce 1n\\\",\\\"x\\\":[3.339,3.4,3.5,3.75,4.0,4.25,4.5,5.0,5.5,5.6,6.0,6.5,7.0,7.25,7.5,7.85,8.0,8.5,9.0,9.5,9.7,10.0,10.5,11.0,11.5,11.75,12.0,12.170000000000002,12.25,12.5,13.0,13.5,14.0,14.1,14.5,15.0,15.5,16.0,16.5,17.0,17.5,18.0,18.5,19.0,19.5,20.0,21.0,22.0,23.0,24.0,25.0,26.0,27.0,28.0,29.0,30.0,31.0,32.0,33.0,34.0,35.0,36.0,37.0,38.0,39.0,40.0,42.0,44.0,46.0,46.3,48.0,50.0,52.0,53.0,54.0,56.0,58.0,60.0,62.0,64.0,66.0,68.0,70.0,72.0,74.0,76.0,78.0,80.0,82.0,84.0,86.0,88.0,90.0,92.0,94.0,96.0,98.0,100.0,102.0,104.0,106.0,108.0,110.00000000000001,112.00000000000001,113.99999999999999,115.99999999999999,118.0,120.0,122.0,124.0,126.0,128.0,129.0,130.0,132.0,134.0,136.0,138.0,140.0,142.0,144.0,146.0,148.0,150.0]}],{\\\"xaxis\\\":{\\\"type\\\":\\\"log\\\",\\\"title\\\":{\\\"text\\\":\\\"E(MeV)\\\"}},\\\"template\\\":{\\\"layout\\\":{\\\"coloraxis\\\":{\\\"colorbar\\\":{\\\"ticks\\\":\\\"\\\",\\\"outlinewidth\\\":0}},\\\"xaxis\\\":{\\\"gridcolor\\\":\\\"white\\\",\\\"zerolinewidth\\\":2,\\\"title\\\":{\\\"standoff\\\":15},\\\"ticks\\\":\\\"\\\",\\\"zerolinecolor\\\":\\\"white\\\",\\\"automargin\\\":true,\\\"linecolor\\\":\\\"white\\\"},\\\"hovermode\\\":\\\"closest\\\",\\\"paper_bgcolor\\\":\\\"white\\\",\\\"geo\\\":{\\\"showlakes\\\":true,\\\"showland\\\":true,\\\"landcolor\\\":\\\"#E5ECF6\\\",\\\"bgcolor\\\":\\\"white\\\",\\\"subunitcolor\\\":\\\"white\\\",\\\"lakecolor\\\":\\\"white\\\"},\\\"colorscale\\\":{\\\"sequential\\\":[[0.0,\\\"#0d0887\\\"],[0.1111111111111111,\\\"#46039f\\\"],[0.2222222222222222,\\\"#7201a8\\\"],[0.3333333333333333,\\\"#9c179e\\\"],[0.4444444444444444,\\\"#bd3786\\\"],[0.5555555555555556,\\\"#d8576b\\\"],[0.6666666666666666,\\\"#ed7953\\\"],[0.7777777777777778,\\\"#fb9f3a\\\"],[0.8888888888888888,\\\"#fdca26\\\"],[1.0,\\\"#f0f921\\\"]],\\\"diverging\\\":[[0,\\\"#8e0152\\\"],[0.1,\\\"#c51b7d\\\"],[0.2,\\\"#de77ae\\\"],[0.3,\\\"#f1b6da\\\"],[0.4,\\\"#fde0ef\\\"],[0.5,\\\"#f7f7f7\\\"],[0.6,\\\"#e6f5d0\\\"],[0.7,\\\"#b8e186\\\"],[0.8,\\\"#7fbc41\\\"],[0.9,\\\"#4d9221\\\"],[1,\\\"#276419\\\"]],\\\"sequentialminus\\\":[[0.0,\\\"#0d0887\\\"],[0.1111111111111111,\\\"#46039f\\\"],[0.2222222222222222,\\\"#7201a8\\\"],[0.3333333333333333,\\\"#9c179e\\\"],[0.4444444444444444,\\\"#bd3786\\\"],[0.5555555555555556,\\\"#d8576b\\\"],[0.6666666666666666,\\\"#ed7953\\\"],[0.7777777777777778,\\\"#fb9f3a\\\"],[0.8888888888888888,\\\"#fdca26\\\"],[1.0,\\\"#f0f921\\\"]]},\\\"yaxis\\\":{\\\"gridcolor\\\":\\\"white\\\",\\\"zerolinewidth\\\":2,\\\"title\\\":{\\\"standoff\\\":15},\\\"ticks\\\":\\\"\\\",\\\"zerolinecolor\\\":\\\"white\\\",\\\"automargin\\\":true,\\\"linecolor\\\":\\\"white\\\"},\\\"shapedefaults\\\":{\\\"line\\\":{\\\"color\\\":\\\"#2a3f5f\\\"}},\\\"hoverlabel\\\":{\\\"align\\\":\\\"left\\\"},\\\"mapbox\\\":{\\\"style\\\":\\\"light\\\"},\\\"polar\\\":{\\\"angularaxis\\\":{\\\"gridcolor\\\":\\\"white\\\",\\\"ticks\\\":\\\"\\\",\\\"linecolor\\\":\\\"white\\\"},\\\"bgcolor\\\":\\\"#E5ECF6\\\",\\\"radialaxis\\\":{\\\"gridcolor\\\":\\\"white\\\",\\\"ticks\\\":\\\"\\\",\\\"linecolor\\\":\\\"white\\\"}},\\\"autotypenumbers\\\":\\\"strict\\\",\\\"font\\\":{\\\"color\\\":\\\"#2a3f5f\\\"},\\\"ternary\\\":{\\\"baxis\\\":{\\\"gridcolor\\\":\\\"white\\\",\\\"ticks\\\":\\\"\\\",\\\"linecolor\\\":\\\"white\\\"},\\\"bgcolor\\\":\\\"#E5ECF6\\\",\\\"caxis\\\":{\\\"gridcolor\\\":\\\"white\\\",\\\"ticks\\\":\\\"\\\",\\\"linecolor\\\":\\\"white\\\"},\\\"aaxis\\\":{\\\"gridcolor\\\":\\\"white\\\",\\\"ticks\\\":\\\"\\\",\\\"linecolor\\\":\\\"white\\\"}},\\\"annotationdefaults\\\":{\\\"arrowhead\\\":0,\\\"arrowwidth\\\":1,\\\"arrowcolor\\\":\\\"#2a3f5f\\\"},\\\"plot_bgcolor\\\":\\\"#E5ECF6\\\",\\\"title\\\":{\\\"x\\\":0.05},\\\"scene\\\":{\\\"xaxis\\\":{\\\"gridcolor\\\":\\\"white\\\",\\\"gridwidth\\\":2,\\\"backgroundcolor\\\":\\\"#E5ECF6\\\",\\\"ticks\\\":\\\"\\\",\\\"showbackground\\\":true,\\\"zerolinecolor\\\":\\\"white\\\",\\\"linecolor\\\":\\\"white\\\"},\\\"zaxis\\\":{\\\"gridcolor\\\":\\\"white\\\",\\\"gridwidth\\\":2,\\\"backgroundcolor\\\":\\\"#E5ECF6\\\",\\\"ticks\\\":\\\"\\\",\\\"showbackground\\\":true,\\\"zerolinecolor\\\":\\\"white\\\",\\\"linecolor\\\":\\\"white\\\"},\\\"yaxis\\\":{\\\"gridcolor\\\":\\\"white\\\",\\\"gridwidth\\\":2,\\\"backgroundcolor\\\":\\\"#E5ECF6\\\",\\\"ticks\\\":\\\"\\\",\\\"showbackground\\\":true,\\\"zerolinecolor\\\":\\\"white\\\",\\\"linecolor\\\":\\\"white\\\"}},\\\"colorway\\\":[\\\"#636efa\\\",\\\"#EF553B\\\",\\\"#00cc96\\\",\\\"#ab63fa\\\",\\\"#FFA15A\\\",\\\"#19d3f3\\\",\\\"#FF6692\\\",\\\"#B6E880\\\",\\\"#FF97FF\\\",\\\"#FECB52\\\"]},\\\"data\\\":{\\\"barpolar\\\":[{\\\"type\\\":\\\"barpolar\\\",\\\"marker\\\":{\\\"line\\\":{\\\"color\\\":\\\"#E5ECF6\\\",\\\"width\\\":0.5}}}],\\\"carpet\\\":[{\\\"aaxis\\\":{\\\"gridcolor\\\":\\\"white\\\",\\\"endlinecolor\\\":\\\"#2a3f5f\\\",\\\"minorgridcolor\\\":\\\"white\\\",\\\"startlinecolor\\\":\\\"#2a3f5f\\\",\\\"linecolor\\\":\\\"white\\\"},\\\"type\\\":\\\"carpet\\\",\\\"baxis\\\":{\\\"gridcolor\\\":\\\"white\\\",\\\"endlinecolor\\\":\\\"#2a3f5f\\\",\\\"minorgridcolor\\\":\\\"white\\\",\\\"startlinecolor\\\":\\\"#2a3f5f\\\",\\\"linecolor\\\":\\\"white\\\"}}],\\\"scatterpolar\\\":[{\\\"type\\\":\\\"scatterpolar\\\",\\\"marker\\\":{\\\"colorbar\\\":{\\\"ticks\\\":\\\"\\\",\\\"outlinewidth\\\":0}}}],\\\"parcoords\\\":[{\\\"line\\\":{\\\"colorbar\\\":{\\\"ticks\\\":\\\"\\\",\\\"outlinewidth\\\":0}},\\\"type\\\":\\\"parcoords\\\"}],\\\"scatter\\\":[{\\\"type\\\":\\\"scatter\\\",\\\"marker\\\":{\\\"colorbar\\\":{\\\"ticks\\\":\\\"\\\",\\\"outlinewidth\\\":0}}}],\\\"histogram2dcontour\\\":[{\\\"colorbar\\\":{\\\"ticks\\\":\\\"\\\",\\\"outlinewidth\\\":0},\\\"type\\\":\\\"histogram2dcontour\\\",\\\"colorscale\\\":[[0.0,\\\"#0d0887\\\"],[0.1111111111111111,\\\"#46039f\\\"],[0.2222222222222222,\\\"#7201a8\\\"],[0.3333333333333333,\\\"#9c179e\\\"],[0.4444444444444444,\\\"#bd3786\\\"],[0.5555555555555556,\\\"#d8576b\\\"],[0.6666666666666666,\\\"#ed7953\\\"],[0.7777777777777778,\\\"#fb9f3a\\\"],[0.8888888888888888,\\\"#fdca26\\\"],[1.0,\\\"#f0f921\\\"]]}],\\\"contour\\\":[{\\\"colorbar\\\":{\\\"ticks\\\":\\\"\\\",\\\"outlinewidth\\\":0},\\\"type\\\":\\\"contour\\\",\\\"colorscale\\\":[[0.0,\\\"#0d0887\\\"],[0.1111111111111111,\\\"#46039f\\\"],[0.2222222222222222,\\\"#7201a8\\\"],[0.3333333333333333,\\\"#9c179e\\\"],[0.4444444444444444,\\\"#bd3786\\\"],[0.5555555555555556,\\\"#d8576b\\\"],[0.6666666666666666,\\\"#ed7953\\\"],[0.7777777777777778,\\\"#fb9f3a\\\"],[0.8888888888888888,\\\"#fdca26\\\"],[1.0,\\\"#f0f921\\\"]]}],\\\"scattercarpet\\\":[{\\\"type\\\":\\\"scattercarpet\\\",\\\"marker\\\":{\\\"colorbar\\\":{\\\"ticks\\\":\\\"\\\",\\\"outlinewidth\\\":0}}}],\\\"mesh3d\\\":[{\\\"colorbar\\\":{\\\"ticks\\\":\\\"\\\",\\\"outlinewidth\\\":0},\\\"type\\\":\\\"mesh3d\\\"}],\\\"surface\\\":[{\\\"colorbar\\\":{\\\"ticks\\\":\\\"\\\",\\\"outlinewidth\\\":0},\\\"type\\\":\\\"surface\\\",\\\"colorscale\\\":[[0.0,\\\"#0d0887\\\"],[0.1111111111111111,\\\"#46039f\\\"],[0.2222222222222222,\\\"#7201a8\\\"],[0.3333333333333333,\\\"#9c179e\\\"],[0.4444444444444444,\\\"#bd3786\\\"],[0.5555555555555556,\\\"#d8576b\\\"],[0.6666666666666666,\\\"#ed7953\\\"],[0.7777777777777778,\\\"#fb9f3a\\\"],[0.8888888888888888,\\\"#fdca26\\\"],[1.0,\\\"#f0f921\\\"]]}],\\\"scattermapbox\\\":[{\\\"type\\\":\\\"scattermapbox\\\",\\\"marker\\\":{\\\"colorbar\\\":{\\\"ticks\\\":\\\"\\\",\\\"outlinewidth\\\":0}}}],\\\"scattergeo\\\":[{\\\"type\\\":\\\"scattergeo\\\",\\\"marker\\\":{\\\"colorbar\\\":{\\\"ticks\\\":\\\"\\\",\\\"outlinewidth\\\":0}}}],\\\"histogram\\\":[{\\\"type\\\":\\\"histogram\\\",\\\"marker\\\":{\\\"colorbar\\\":{\\\"ticks\\\":\\\"\\\",\\\"outlinewidth\\\":0}}}],\\\"pie\\\":[{\\\"type\\\":\\\"pie\\\",\\\"automargin\\\":true}],\\\"choropleth\\\":[{\\\"colorbar\\\":{\\\"ticks\\\":\\\"\\\",\\\"outlinewidth\\\":0},\\\"type\\\":\\\"choropleth\\\"}],\\\"heatmapgl\\\":[{\\\"colorbar\\\":{\\\"ticks\\\":\\\"\\\",\\\"outlinewidth\\\":0},\\\"type\\\":\\\"heatmapgl\\\",\\\"colorscale\\\":[[0.0,\\\"#0d0887\\\"],[0.1111111111111111,\\\"#46039f\\\"],[0.2222222222222222,\\\"#7201a8\\\"],[0.3333333333333333,\\\"#9c179e\\\"],[0.4444444444444444,\\\"#bd3786\\\"],[0.5555555555555556,\\\"#d8576b\\\"],[0.6666666666666666,\\\"#ed7953\\\"],[0.7777777777777778,\\\"#fb9f3a\\\"],[0.8888888888888888,\\\"#fdca26\\\"],[1.0,\\\"#f0f921\\\"]]}],\\\"bar\\\":[{\\\"type\\\":\\\"bar\\\",\\\"error_y\\\":{\\\"color\\\":\\\"#2a3f5f\\\"},\\\"error_x\\\":{\\\"color\\\":\\\"#2a3f5f\\\"},\\\"marker\\\":{\\\"line\\\":{\\\"color\\\":\\\"#E5ECF6\\\",\\\"width\\\":0.5}}}],\\\"heatmap\\\":[{\\\"colorbar\\\":{\\\"ticks\\\":\\\"\\\",\\\"outlinewidth\\\":0},\\\"type\\\":\\\"heatmap\\\",\\\"colorscale\\\":[[0.0,\\\"#0d0887\\\"],[0.1111111111111111,\\\"#46039f\\\"],[0.2222222222222222,\\\"#7201a8\\\"],[0.3333333333333333,\\\"#9c179e\\\"],[0.4444444444444444,\\\"#bd3786\\\"],[0.5555555555555556,\\\"#d8576b\\\"],[0.6666666666666666,\\\"#ed7953\\\"],[0.7777777777777778,\\\"#fb9f3a\\\"],[0.8888888888888888,\\\"#fdca26\\\"],[1.0,\\\"#f0f921\\\"]]}],\\\"contourcarpet\\\":[{\\\"colorbar\\\":{\\\"ticks\\\":\\\"\\\",\\\"outlinewidth\\\":0},\\\"type\\\":\\\"contourcarpet\\\"}],\\\"table\\\":[{\\\"type\\\":\\\"table\\\",\\\"header\\\":{\\\"line\\\":{\\\"color\\\":\\\"white\\\"},\\\"fill\\\":{\\\"color\\\":\\\"#C8D4E3\\\"}},\\\"cells\\\":{\\\"line\\\":{\\\"color\\\":\\\"white\\\"},\\\"fill\\\":{\\\"color\\\":\\\"#EBF0F8\\\"}}}],\\\"scatter3d\\\":[{\\\"line\\\":{\\\"colorbar\\\":{\\\"ticks\\\":\\\"\\\",\\\"outlinewidth\\\":0}},\\\"type\\\":\\\"scatter3d\\\",\\\"marker\\\":{\\\"colorbar\\\":{\\\"ticks\\\":\\\"\\\",\\\"outlinewidth\\\":0}}}],\\\"scattergl\\\":[{\\\"type\\\":\\\"scattergl\\\",\\\"marker\\\":{\\\"colorbar\\\":{\\\"ticks\\\":\\\"\\\",\\\"outlinewidth\\\":0}}}],\\\"histogram2d\\\":[{\\\"colorbar\\\":{\\\"ticks\\\":\\\"\\\",\\\"outlinewidth\\\":0},\\\"type\\\":\\\"histogram2d\\\",\\\"colorscale\\\":[[0.0,\\\"#0d0887\\\"],[0.1111111111111111,\\\"#46039f\\\"],[0.2222222222222222,\\\"#7201a8\\\"],[0.3333333333333333,\\\"#9c179e\\\"],[0.4444444444444444,\\\"#bd3786\\\"],[0.5555555555555556,\\\"#d8576b\\\"],[0.6666666666666666,\\\"#ed7953\\\"],[0.7777777777777778,\\\"#fb9f3a\\\"],[0.8888888888888888,\\\"#fdca26\\\"],[1.0,\\\"#f0f921\\\"]]}],\\\"scatterternary\\\":[{\\\"type\\\":\\\"scatterternary\\\",\\\"marker\\\":{\\\"colorbar\\\":{\\\"ticks\\\":\\\"\\\",\\\"outlinewidth\\\":0}}}],\\\"scatterpolargl\\\":[{\\\"type\\\":\\\"scatterpolargl\\\",\\\"marker\\\":{\\\"colorbar\\\":{\\\"ticks\\\":\\\"\\\",\\\"outlinewidth\\\":0}}}]}},\\\"legend\\\":{\\\"title\\\":{\\\"text\\\":\\\"Legend\\\"}},\\\"margin\\\":{\\\"l\\\":50,\\\"b\\\":50,\\\"r\\\":50,\\\"t\\\":60},\\\"yaxis\\\":{\\\"type\\\":\\\"log\\\",\\\"title\\\":{\\\"text\\\":\\\"xs(mb)\\\"}}},{\\\"showLink\\\":false,\\\"editable\\\":false,\\\"responsive\\\":true,\\\"staticPlot\\\":false,\\\"scrollZoom\\\":true}); gd.on(\\\"plotly_hover\\\",(function (data){var filtered_data=WebIO.PlotlyCommands.filterEventData(gd,data,\\\"hover\\\"); return !(filtered_data.isnil) ? (WebIO.setval({\\\"name\\\":\\\"hover\\\",\\\"scope\\\":\\\"236024072438745534\\\",\\\"id\\\":\\\"2409992520730228748\\\",\\\"type\\\":\\\"observable\\\"},filtered_data.out)) : undefined})); gd.on(\\\"plotly_unhover\\\",(function (){return WebIO.setval({\\\"name\\\":\\\"hover\\\",\\\"scope\\\":\\\"236024072438745534\\\",\\\"id\\\":\\\"2409992520730228748\\\",\\\"type\\\":\\\"observable\\\"},{})})); gd.on(\\\"plotly_selected\\\",(function (data){var filtered_data=WebIO.PlotlyCommands.filterEventData(gd,data,\\\"selected\\\"); return !(filtered_data.isnil) ? (WebIO.setval({\\\"name\\\":\\\"selected\\\",\\\"scope\\\":\\\"236024072438745534\\\",\\\"id\\\":\\\"4811419534313414262\\\",\\\"type\\\":\\\"observable\\\"},filtered_data.out)) : undefined})); gd.on(\\\"plotly_deselect\\\",(function (){return WebIO.setval({\\\"name\\\":\\\"selected\\\",\\\"scope\\\":\\\"236024072438745534\\\",\\\"id\\\":\\\"4811419534313414262\\\",\\\"type\\\":\\\"observable\\\"},{})})); gd.on(\\\"plotly_relayout\\\",(function (data){var filtered_data=WebIO.PlotlyCommands.filterEventData(gd,data,\\\"relayout\\\"); return !(filtered_data.isnil) ? (WebIO.setval({\\\"name\\\":\\\"relayout\\\",\\\"scope\\\":\\\"236024072438745534\\\",\\\"id\\\":\\\"6446639796571035494\\\",\\\"type\\\":\\\"observable\\\"},filtered_data.out)) : undefined})); return gd.on(\\\"plotly_click\\\",(function (data){var filtered_data=WebIO.PlotlyCommands.filterEventData(gd,data,\\\"click\\\"); return !(filtered_data.isnil) ? (WebIO.setval({\\\"name\\\":\\\"click\\\",\\\"scope\\\":\\\"236024072438745534\\\",\\\"id\\\":\\\"121459231528597703\\\",\\\"type\\\":\\\"observable\\\"},filtered_data.out)) : undefined}))}));\\n    (WebIO.importBlock({\\\"data\\\":[{\\\"name\\\":\\\"Plotly\\\",\\\"type\\\":\\\"js\\\",\\\"url\\\":\\\"\\/assetserver\\/974bc88f8fa21ff4c3cbd84b6afff90488058aa7-plotly.min.js\\\"},{\\\"name\\\":null,\\\"type\\\":\\\"js\\\",\\\"url\\\":\\\"\\/assetserver\\/64d87b978f97348bc0d43ca0daa59975ea5d4c91-plotly_webio.bundle.js\\\"}],\\\"type\\\":\\\"async_block\\\"})).then((imports) => handler.apply(this, imports));\\n}\\n\"],\"observables\":{\"_toImage\":{\"sync\":false,\"id\":\"17776635573028633594\",\"value\":{}},\"hover\":{\"sync\":false,\"id\":\"2409992520730228748\",\"value\":{}},\"selected\":{\"sync\":false,\"id\":\"4811419534313414262\",\"value\":{}},\"__gd_contents\":{\"sync\":false,\"id\":\"9347536548025300657\",\"value\":{}},\"click\":{\"sync\":false,\"id\":\"121459231528597703\",\"value\":{}},\"image\":{\"sync\":true,\"id\":\"4254561978857270584\",\"value\":\"\"},\"__get_gd_contents\":{\"sync\":false,\"id\":\"8639937709266803479\",\"value\":\"\"},\"_downloadImage\":{\"sync\":false,\"id\":\"15442662096749845529\",\"value\":{}},\"relayout\":{\"sync\":false,\"id\":\"6446639796571035494\",\"value\":{}},\"_commands\":{\"sync\":false,\"id\":\"13558890872218638748\",\"value\":[]}}},\"children\":[{\"props\":{\"id\":\"plot-3714b6f4-8b11-4553-9ac1-c70bcb69eb59\"},\"nodeType\":\"DOM\",\"type\":\"node\",\"instanceArgs\":{\"namespace\":\"html\",\"tag\":\"div\"},\"children\":[]}]},\n",
       "        window,\n",
       "    );\n",
       "    })()\n",
       "    </script>\n",
       "</div>\n"
      ],
      "text/plain": [
       "data: [\n",
       "  \"scatter with fields mode, name, type, x, and y\",\n",
       "  \"scatter with fields mode, name, type, x, and y\"\n",
       "]\n",
       "\n",
       "layout: \"layout with fields legend, margin, template, xaxis, and yaxis\"\n",
       "\n"
      ]
     },
     "execution_count": 40,
     "metadata": {},
     "output_type": "execute_result"
    }
   ],
   "source": [
    "x_axis, y_axis =  \"E(MeV)\", \"xs(mb)\"\n",
    "df_total = get_total_neutron_cross_section(\"2H\")\n",
    "df, neutrons = get_neutron_production_cross_sections(\"2H\")[1]\n",
    "trace = [scatter(x  = df_total[!,x_axis], y  = df_total[!,y_axis], mode=\"markers\",\n",
    "                name = \"total\"),\n",
    "        scatter(x  = df[!,x_axis], y  = df[!,y_axis], mode=\"markers\", \n",
    "        name = (\"produce \" * string(neutrons) * \"n\"))]\n",
    "plot(trace, Layout(xaxis_title = x_axis, yaxis_title = y_axis, \n",
    "                legend_title_text=\"Legend\", yaxis_type = \"log\", xaxis_type = \"log\"))"
   ]
  },
  {
   "cell_type": "code",
   "execution_count": 41,
   "metadata": {},
   "outputs": [
    {
     "data": {
      "text/plain": [
       "124-element Vector{Float64}:\n",
       " 2032.3951587843144\n",
       " 2011.1500000000003\n",
       " 1977.2618232256737\n",
       " 1899.01\n",
       " 1831.668242125648\n",
       " 1772.2446510247264\n",
       " 1719.0029683545274\n",
       " 1622.6380940367444\n",
       " 1536.5974607769456\n",
       " 1520.5085897836968\n",
       " 1460.605971987494\n",
       " 1392.5098701791912\n",
       " 1330.109452948558\n",
       "    ⋮\n",
       "   83.8969\n",
       "   83.3905\n",
       "   82.4062\n",
       "   81.4566\n",
       "   80.5381\n",
       "   79.6476\n",
       "   78.7821\n",
       "   77.9413\n",
       "   77.1363\n",
       "   76.3688\n",
       "   75.6386\n",
       "   74.9457"
      ]
     },
     "execution_count": 41,
     "metadata": {},
     "output_type": "execute_result"
    }
   ],
   "source": [
    "energies_rxn = df[!,\"E(MeV)\"]\n",
    "total_energy = df_total[!, \"E(MeV)\"]\n",
    "total_σ = df_total[!,\"xs(mb)\"]\n",
    "itp = Interpolations.interpolate(total_energy, total_σ, \n",
    "                FritschCarlsonMonotonicInterpolation())\n",
    "corresponding_total_σ = [match_energies(energy, total_energy, \n",
    "                            itp, total_σ) for energy in energies_rxn]"
   ]
  },
  {
   "cell_type": "markdown",
   "metadata": {},
   "source": [
    "Now to calculate neutrons/MeV"
   ]
  },
  {
   "cell_type": "code",
   "execution_count": 42,
   "metadata": {},
   "outputs": [
    {
     "data": {
      "text/plain": [
       "0.014687340569339187"
      ]
     },
     "execution_count": 42,
     "metadata": {},
     "output_type": "execute_result"
    }
   ],
   "source": [
    "reaction_per_energy = df[!, \"xs(mb)\"] ./ (df[!,\"E(MeV)\"] .*  corresponding_total_σ)\n",
    "best_index = argmax(reaction_per_energy)\n",
    "neutrons * reaction_per_energy[best_index]"
   ]
  },
  {
   "cell_type": "code",
   "execution_count": 43,
   "metadata": {},
   "outputs": [
    {
     "data": {
      "text/plain": [
       "(167.953, 14.5, 788.636)"
      ]
     },
     "execution_count": 43,
     "metadata": {},
     "output_type": "execute_result"
    }
   ],
   "source": [
    "df[best_index, \"xs(mb)\"], df[best_index,\"E(MeV)\"],  corresponding_total_σ[best_index]"
   ]
  },
  {
   "cell_type": "code",
   "execution_count": null,
   "metadata": {},
   "outputs": [],
   "source": []
  }
 ],
 "metadata": {
  "kernelspec": {
   "display_name": "Julia 1.7.2",
   "language": "julia",
   "name": "julia-1.7"
  },
  "language_info": {
   "file_extension": ".jl",
   "mimetype": "application/julia",
   "name": "julia",
   "version": "1.7.2"
  },
  "orig_nbformat": 4,
  "vscode": {
   "interpreter": {
    "hash": "274785dbb282d05f4e0ae2ca70ac66f1fa0484127cd60ef9f4ac2dd997977034"
   }
  }
 },
 "nbformat": 4,
 "nbformat_minor": 2
}
