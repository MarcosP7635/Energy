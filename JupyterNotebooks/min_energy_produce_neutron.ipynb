{
 "cells": [
  {
   "cell_type": "code",
   "execution_count": 41,
   "metadata": {},
   "outputs": [
    {
     "data": {
      "text/plain": [
       "\"C:\\\\Users\\\\engin\\\\Documents\\\\GitHub\\\\Energy\\\\ExportedData\\\\produce_only_neutrons_MTs.csv\""
      ]
     },
     "execution_count": 41,
     "metadata": {},
     "output_type": "execute_result"
    }
   ],
   "source": [
    "using Downloads, CSV, DataFrames\n",
    "parent_dir = \"C:\\\\Users\\\\engin\\\\Documents\\\\GitHub\\\\Energy\\\\\"\n",
    "total_cross_section_dir = parent_dir * \"ImportedData\\\\tendl_total_neutron_sigma_data\\\\\"\n",
    "neutron_production_dir = parent_dir * \"ImportedData\\\\my_tendl_neutron_production_data\\\\\"\n",
    "neutron_MTs_file = parent_dir * \"ExportedData\\\\produce_only_neutrons_MTs.csv\""
   ]
  },
  {
   "cell_type": "code",
   "execution_count": 6,
   "metadata": {},
   "outputs": [
    {
     "data": {
      "text/plain": [
       "Dict{Any, Any} with 10 entries:\n",
       "  152 => \"(0, -4)\"\n",
       "  875 => \"(0, -1)\"\n",
       "  50  => \"(0, -1)\"\n",
       "  16  => \"(0, -1)\"\n",
       "  891 => \"(0, -1)\"\n",
       "  876 => \"(0, -1)\"\n",
       "  38  => \"(0, -2)\"\n",
       "  21  => \"(0, -1)\"\n",
       "  17  => \"(0, -2)\"\n",
       "  37  => \"(0, -3)\""
      ]
     },
     "execution_count": 6,
     "metadata": {},
     "output_type": "execute_result"
    }
   ],
   "source": [
    "#Import a dictionary of MTs to know what data to download\n",
    "MT_df = CSV.read(neutron_MTs_file, DataFrame, stringtype=String)\n",
    "MT_dict = Dict([])\n",
    "rows, cols = size(MT_df)\n",
    "for row in 1:rows\n",
    "  MT_df[row, 2] = String(MT_df[row, 2][2:end-1])\n",
    "  MTs = [parse(Int64, n) for n in split(MT_df[row, 2], \",\")]\n",
    "  for MT in MTs\n",
    "      MT_dict[MT] = MT_df[row, 1] \n",
    "  end\n",
    "end\n",
    "MT_dict"
   ]
  },
  {
   "cell_type": "code",
   "execution_count": 44,
   "metadata": {},
   "outputs": [
    {
     "data": {
      "text/plain": [
       "5842-element Vector{Tuple{Int64, Any}}:\n",
       " (1, 'H')\n",
       " (2, 'H')\n",
       " (3, 'H')\n",
       " (3, \"He\")\n",
       " (3, \"Li\")\n",
       " (4, 'H')\n",
       " (4, \"He\")\n",
       " (4, \"Li\")\n",
       " (5, 'H')\n",
       " (5, \"He\")\n",
       " (5, \"Li\")\n",
       " (5, \"Be\")\n",
       " (6, 'H')\n",
       " ⋮\n",
       " (291, \"Lv\")\n",
       " (291, \"Ts\")\n",
       " (292, \"Mc\")\n",
       " (292, \"Lv\")\n",
       " (292, \"Ts\")\n",
       " (293, \"Lv\")\n",
       " (293, \"Lv\")\n",
       " (293, \"Ts\")\n",
       " (293, \"Og\")\n",
       " (294, \"Ts\")\n",
       " (294, \"Og\")\n",
       " (295, \"Og\")"
      ]
     },
     "execution_count": 44,
     "metadata": {},
     "output_type": "execute_result"
    }
   ],
   "source": [
    "nuclide_df_path = parent_dir * \"ExportedData\\\\nuclide_list.csv\"\n",
    "nuclide_df = CSV.read(nuclide_df_path, DataFrame, stringtype=String)\n",
    "function get_mass_name(nuclide)\n",
    "    index = 1\n",
    "    while (tryparse(Int64, string(nuclide[index])) != nothing && index <= length(nuclide))\n",
    "        index += 1\n",
    "    end\n",
    "    mass = tryparse(Int64, nuclide[1:index-1])\n",
    "    name =  nuclide[index:end]\n",
    "    name_1 = uppercase(name[1])\n",
    "    if (length(name) > 1)\n",
    "        name = name_1 * name[2]\n",
    "    else \n",
    "      name = name_1\n",
    "    end\n",
    "    return mass, name\n",
    "end\n",
    "nuclide_list = [get_mass_name(nuclide) for nuclide in nuclide_df[!,1]]"
   ]
  },
  {
   "cell_type": "code",
   "execution_count": 15,
   "metadata": {},
   "outputs": [
    {
     "data": {
      "text/plain": [
       "\"C:\\\\Users\\\\engin\\\\Documents\\\\GitHub\\\\Energy\\\\ImportedData\\\\tendl_total_neutron_sigma_data\\\\n-H001-MT001.csv\""
      ]
     },
     "execution_count": 15,
     "metadata": {},
     "output_type": "execute_result"
    }
   ],
   "source": [
    "function get_file_path(parent_dir, mt, mass, elem)\n",
    "    mt_str, mass_str = lpad(string(mt), 3, \"0\"), lpad(string(mass), 3, \"0\")\n",
    "    file_path = parent_dir * \"n-\" * elem * mass_str * \"-\" * \"MT\" * mt_str * \".csv\"\n",
    "    return file_path\n",
    "end\n",
    "function get_file_path(parent_dir, mt, nuclide)\n",
    "    mass, elem = get_mass_name(nuclide)\n",
    "    mt_str, mass_str = lpad(string(mt), 3, \"0\"), lpad(string(mass), 3, \"0\")\n",
    "    file_path = parent_dir * \"n-\" * elem * mass_str * \"-\" * \"MT\" * mt_str * \".csv\"\n",
    "    return file_path\n",
    "end\n",
    "get_file_path(total_cross_section_dir, 1, nuclide_df[1,1])"
   ]
  },
  {
   "cell_type": "code",
   "execution_count": 42,
   "metadata": {},
   "outputs": [
    {
     "data": {
      "text/html": [
       "<div class=\"data-frame\"><p>423 rows × 2 columns</p><table class=\"data-frame\"><thead><tr><th></th><th>E(MeV)</th><th>xs(mb)</th></tr><tr><th></th><th title=\"Float64\">Float64</th><th title=\"Float64\">Float64</th></tr></thead><tbody><tr><th>1</th><td>1.0e-11</td><td>1.1778e6</td></tr><tr><th>2</th><td>1.03223e-11</td><td>1.15927e6</td></tr><tr><th>3</th><td>1.06549e-11</td><td>1.14104e6</td></tr><tr><th>4</th><td>1.09984e-11</td><td>1.12309e6</td></tr><tr><th>5</th><td>1.13527e-11</td><td>1.10542e6</td></tr><tr><th>6</th><td>1.17186e-11</td><td>1.08803e6</td></tr><tr><th>7</th><td>1.20962e-11</td><td>1.07092e6</td></tr><tr><th>8</th><td>1.24861e-11</td><td>1.05408e6</td></tr><tr><th>9</th><td>1.28884e-11</td><td>1.0375e6</td></tr><tr><th>10</th><td>1.33038e-11</td><td>1.02118e6</td></tr><tr><th>11</th><td>1.37325e-11</td><td>1.00512e6</td></tr><tr><th>12</th><td>1.41751e-11</td><td>989309.0</td></tr><tr><th>13</th><td>1.46318e-11</td><td>973752.0</td></tr><tr><th>14</th><td>1.51034e-11</td><td>958434.0</td></tr><tr><th>15</th><td>1.55901e-11</td><td>943363.0</td></tr><tr><th>16</th><td>1.60926e-11</td><td>928524.0</td></tr><tr><th>17</th><td>1.66111e-11</td><td>913923.0</td></tr><tr><th>18</th><td>1.71465e-11</td><td>899548.0</td></tr><tr><th>19</th><td>1.7699e-11</td><td>885403.0</td></tr><tr><th>20</th><td>1.82694e-11</td><td>871476.0</td></tr><tr><th>21</th><td>1.88581e-11</td><td>857773.0</td></tr><tr><th>22</th><td>1.94659e-11</td><td>844282.0</td></tr><tr><th>23</th><td>2.00931e-11</td><td>831007.0</td></tr><tr><th>24</th><td>2.07407e-11</td><td>817937.0</td></tr><tr><th>25</th><td>2.1409e-11</td><td>805077.0</td></tr><tr><th>26</th><td>2.20991e-11</td><td>792415.0</td></tr><tr><th>27</th><td>2.28111e-11</td><td>779956.0</td></tr><tr><th>28</th><td>2.35464e-11</td><td>767690.0</td></tr><tr><th>29</th><td>2.43051e-11</td><td>755620.0</td></tr><tr><th>30</th><td>2.50884e-11</td><td>743738.0</td></tr><tr><th>&vellip;</th><td>&vellip;</td><td>&vellip;</td></tr></tbody></table></div>"
      ],
      "text/latex": [
       "\\begin{tabular}{r|cc}\n",
       "\t& E(MeV) & xs(mb)\\\\\n",
       "\t\\hline\n",
       "\t& Float64 & Float64\\\\\n",
       "\t\\hline\n",
       "\t1 & 1.0e-11 & 1.1778e6 \\\\\n",
       "\t2 & 1.03223e-11 & 1.15927e6 \\\\\n",
       "\t3 & 1.06549e-11 & 1.14104e6 \\\\\n",
       "\t4 & 1.09984e-11 & 1.12309e6 \\\\\n",
       "\t5 & 1.13527e-11 & 1.10542e6 \\\\\n",
       "\t6 & 1.17186e-11 & 1.08803e6 \\\\\n",
       "\t7 & 1.20962e-11 & 1.07092e6 \\\\\n",
       "\t8 & 1.24861e-11 & 1.05408e6 \\\\\n",
       "\t9 & 1.28884e-11 & 1.0375e6 \\\\\n",
       "\t10 & 1.33038e-11 & 1.02118e6 \\\\\n",
       "\t11 & 1.37325e-11 & 1.00512e6 \\\\\n",
       "\t12 & 1.41751e-11 & 989309.0 \\\\\n",
       "\t13 & 1.46318e-11 & 973752.0 \\\\\n",
       "\t14 & 1.51034e-11 & 958434.0 \\\\\n",
       "\t15 & 1.55901e-11 & 943363.0 \\\\\n",
       "\t16 & 1.60926e-11 & 928524.0 \\\\\n",
       "\t17 & 1.66111e-11 & 913923.0 \\\\\n",
       "\t18 & 1.71465e-11 & 899548.0 \\\\\n",
       "\t19 & 1.7699e-11 & 885403.0 \\\\\n",
       "\t20 & 1.82694e-11 & 871476.0 \\\\\n",
       "\t21 & 1.88581e-11 & 857773.0 \\\\\n",
       "\t22 & 1.94659e-11 & 844282.0 \\\\\n",
       "\t23 & 2.00931e-11 & 831007.0 \\\\\n",
       "\t24 & 2.07407e-11 & 817937.0 \\\\\n",
       "\t25 & 2.1409e-11 & 805077.0 \\\\\n",
       "\t26 & 2.20991e-11 & 792415.0 \\\\\n",
       "\t27 & 2.28111e-11 & 779956.0 \\\\\n",
       "\t28 & 2.35464e-11 & 767690.0 \\\\\n",
       "\t29 & 2.43051e-11 & 755620.0 \\\\\n",
       "\t30 & 2.50884e-11 & 743738.0 \\\\\n",
       "\t$\\dots$ & $\\dots$ & $\\dots$ \\\\\n",
       "\\end{tabular}\n"
      ],
      "text/plain": [
       "\u001b[1m423×2 DataFrame\u001b[0m\n",
       "\u001b[1m Row \u001b[0m│\u001b[1m E(MeV)       \u001b[0m\u001b[1m xs(mb)         \u001b[0m\n",
       "\u001b[1m     \u001b[0m│\u001b[90m Float64      \u001b[0m\u001b[90m Float64        \u001b[0m\n",
       "─────┼──────────────────────────────\n",
       "   1 │  1.0e-11           1.1778e6\n",
       "   2 │  1.03223e-11       1.15927e6\n",
       "   3 │  1.06549e-11       1.14104e6\n",
       "   4 │  1.09984e-11       1.12309e6\n",
       "   5 │  1.13527e-11       1.10542e6\n",
       "   6 │  1.17186e-11       1.08803e6\n",
       "   7 │  1.20962e-11       1.07092e6\n",
       "   8 │  1.24861e-11       1.05408e6\n",
       "   9 │  1.28884e-11       1.0375e6\n",
       "  10 │  1.33038e-11       1.02118e6\n",
       "  11 │  1.37325e-11       1.00512e6\n",
       "  ⋮  │      ⋮              ⋮\n",
       " 414 │ 17.9973          536.817\n",
       " 415 │ 18.0             536.733\n",
       " 416 │ 18.2539          529.254\n",
       " 417 │ 18.5             522.008\n",
       " 418 │ 18.761           514.689\n",
       " 419 │ 19.0             507.987\n",
       " 420 │ 19.2681          500.822\n",
       " 421 │ 19.5             494.622\n",
       " 422 │ 19.7751          487.604\n",
       " 423 │ 20.0             481.868\n",
       "\u001b[36m                    402 rows omitted\u001b[0m"
      ]
     },
     "execution_count": 42,
     "metadata": {},
     "output_type": "execute_result"
    }
   ],
   "source": [
    "function get_total_neutron_cross_section(nuclide)\n",
    "    file_path = get_file_path(total_cross_section_dir, 1, nuclide)\n",
    "    return CSV.read(file_path, DataFrame)\n",
    "end\n",
    "function get_total_neutron_cross_section(mass, elem)\n",
    "    file_path = get_file_path(total_cross_section_dir, 1, mass, elem)\n",
    "    return CSV.read(file_path, DataFrame)\n",
    "end\n",
    "get_total_neutron_cross_section(nuclide_list[1][1], nuclide_list[1][2])"
   ]
  },
  {
   "cell_type": "code",
   "execution_count": 43,
   "metadata": {},
   "outputs": [
    {
     "data": {
      "text/plain": [
       "1-element Vector{DataFrame}:\n",
       " \u001b[1m124×2 DataFrame\u001b[0m\n",
       "\u001b[1m Row \u001b[0m│\u001b[1m E(MeV)  \u001b[0m\u001b[1m xs(mb)   \u001b[0m\n",
       "\u001b[1m     \u001b[0m│\u001b[90m Float64 \u001b[0m\u001b[90m Float64  \u001b[0m\n",
       "─────┼───────────────────\n",
       "   1 │   3.339   0.0\n",
       "   2 │   3.4     1.2\n",
       "   3 │   3.5     2.9\n",
       "   4 │   3.75    7.10318\n",
       "   5 │   4.0    13.5\n",
       "   6 │   4.25   19.0312\n",
       "   7 │   4.5    25.0\n",
       "   8 │   5.0    37.0\n",
       "   9 │   5.5    48.6414\n",
       "  10 │   5.6    51.0236\n",
       "  11 │   6.0    60.2\n",
       "  ⋮  │    ⋮        ⋮\n",
       " 115 │ 132.0    69.4702\n",
       " 116 │ 134.0    68.8945\n",
       " 117 │ 136.0    68.3321\n",
       " 118 │ 138.0    67.7825\n",
       " 119 │ 140.0    67.2451\n",
       " 120 │ 142.0    66.7194\n",
       " 121 │ 144.0    66.2049\n",
       " 122 │ 146.0    65.7011\n",
       " 123 │ 148.0    65.2076\n",
       " 124 │ 150.0    64.724\n",
       "\u001b[36m         103 rows omitted\u001b[0m"
      ]
     },
     "execution_count": 43,
     "metadata": {},
     "output_type": "execute_result"
    }
   ],
   "source": [
    "function get_neutron_production_cross_sections(nuclide)\n",
    "    mass, elem = get_mass_name(nuclide)\n",
    "    mass_str = lpad(string(mass), 3, \"0\")\n",
    "    file_paths = [neutron_production_dir * file_name \n",
    "                for file_name in neutron_production_file_names \n",
    "                if occursin(elem * mass_str, file_name)]\n",
    "    return [CSV.read(file_path, DataFrame) for file_path in file_paths]\n",
    "end\n",
    "function get_neutron_production_cross_sections(mass, elem)\n",
    "    mass_str = lpad(string(mass), 3, \"0\")\n",
    "    file_paths = [neutron_production_dir * file_name \n",
    "                for file_name in neutron_production_file_names \n",
    "                if occursin(elem * mass_str, file_name)]\n",
    "    return [CSV.read(file_path, DataFrame) for file_path in file_paths]\n",
    "end\n",
    "get_neutron_production_cross_sections(nuclide_list[2][1], nuclide_list[2][2])"
   ]
  },
  {
   "cell_type": "code",
   "execution_count": 82,
   "metadata": {},
   "outputs": [
    {
     "data": {
      "text/plain": [
       "2"
      ]
     },
     "execution_count": 82,
     "metadata": {},
     "output_type": "execute_result"
    }
   ],
   "source": [
    "file_path = neutron_production_dir * neutron_production_file_names[2]\n",
    "function neutrons_produced(file_path)\n",
    "    MT = tryparse(Int64, split(split(file_path, \"MT\")[end], \".\")[1])\n",
    "    neutrons = tryparse(Int64, split(MT_dict[MT], \",\")[end][1:end-1]) * -1\n",
    "    return neutrons\n",
    "end\n",
    "neutrons_produced(file_path)"
   ]
  },
  {
   "cell_type": "code",
   "execution_count": null,
   "metadata": {},
   "outputs": [],
   "source": []
  }
 ],
 "metadata": {
  "kernelspec": {
   "display_name": "Julia 1.7.2",
   "language": "julia",
   "name": "julia-1.7"
  },
  "language_info": {
   "file_extension": ".jl",
   "mimetype": "application/julia",
   "name": "julia",
   "version": "1.7.2"
  },
  "orig_nbformat": 4,
  "vscode": {
   "interpreter": {
    "hash": "274785dbb282d05f4e0ae2ca70ac66f1fa0484127cd60ef9f4ac2dd997977034"
   }
  }
 },
 "nbformat": 4,
 "nbformat_minor": 2
}
