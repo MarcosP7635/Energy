{
 "cells": [
  {
   "cell_type": "markdown",
   "metadata": {},
   "source": [
    "The primary method through which rockets gain their momentum is by the conservation of momentum. They expend some kinetic energy, $T$, on some ejecta (usually combusted fuel or a stream of ions). What is the momentum of the ejecta? We'll do the non-relativistic case for now. \n",
    "\\begin{align}\n",
    "&T = \\frac{1}{2}m_\\text{ejecta}v^2 \\quad \\Rightarrow \\quad v_\\text{ejecta} = \\sqrt{\\frac{2T}{m_\\text{ejecta}}}\\\\\n",
    "&m_\\text{ejecta}v_\\text{ejecta} = \\sqrt{2Tm_\\text{ejecta}}\n",
    "\\end{align}\n",
    "Since *there is no no net change in the momentum of the center of mass* of the rocket-ejecta system, and we take the center of mass to originally be stationary, where $dx$ is an instantaneous change in position, we have\n",
    "\\begin{align}\n",
    "&m_\\text{ejecta}dx_\\text{ejecta} = -m_\\text{rocket}dx_\\text{rocket}\\\\\n",
    "&\\text{For an instantaneous time step }dt\\text{ and since } dx = vdt \\text{ we have}\\\\\n",
    "&m_\\text{ejecta}v_\\text{ejecta}dt = -m_\\text{rocket}v_\\text{rocket}dt\\\\\n",
    "&\\text{Since}\\quad m_\\text{ejecta}v_\\text{ejecta} = \\sqrt{2Tm_\\text{ejecta}}\\quad \\text{we know}\\quad\n",
    "\\sqrt{2Tm_\\text{ejecta}} = -m_\\text{rocket}v_\\text{rocket}\\\\\n",
    "&\\text{Rearranging yields}\\quad\\ |v_\\text{rocket}| = \\frac{\\sqrt{2Tm_\\text{ejecta}}}{m_\\text{rocket}}\n",
    "\\end{align}\n"
   ]
  },
  {
   "cell_type": "markdown",
   "metadata": {},
   "source": [
    "The above is for a single discrete and instantaneous time step during which a discrete amount of mass is ejected, $m_\\text{ejecta}$."
   ]
  },
  {
   "cell_type": "markdown",
   "metadata": {},
   "source": [
    "Ugh, I made the mistake of assuming that the mass is constant, but it's not. So just refer to the rocket equation. Instead, we have from the conservation of momentum\n",
    "\\begin{align}\n",
    "m\\frac{dV_{rocket}}{dt} = -v_\\text{ejecta}\\frac{dm}{dt}\n",
    "\\end{align}"
   ]
  },
  {
   "cell_type": "markdown",
   "metadata": {},
   "source": []
  },
  {
   "cell_type": "code",
   "execution_count": null,
   "metadata": {},
   "outputs": [],
   "source": []
  }
 ],
 "metadata": {
  "language_info": {
   "name": "python"
  },
  "orig_nbformat": 4
 },
 "nbformat": 4,
 "nbformat_minor": 2
}
