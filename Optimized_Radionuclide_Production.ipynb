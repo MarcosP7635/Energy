{
  "cells": [
    {
      "cell_type": "markdown",
      "metadata": {},
      "source": [
        "The goal of this notebook is to write code that given a specific nucleus to produce, an efficiency will be calculated based on the required input energy, target cross sections, and power density of the product to find the optimal use of radionuclide production as a method of energy storage. \n",
        "\n",
        "This can also be used to generate a theoretical maximum of storage efficiency for each product. \n",
        "\n",
        "To start, we'll need cross sections. \n",
        "\n",
        "Will attempt to download the entirety of (or write a very fast query for) \n",
        "https://doi.org/10.1016/j.nds.2018.02.001\n",
        "\n",
        "Pivoting to use Jeff32 since it has a singular directory with many neutron cross sections for different targets. https://www.oecd-nea.org/dbforms/data/eva/evatapes/jeff_32/\n",
        "\n",
        "JENDL appears to have both neutron and proton cross section data for transmutation, so this seems very promising. It uses the ENDF6 format https://www-nds.iaea.org/public/endf/ \n",
        "\n",
        "Finally found the database explorer for ENDF, will be using this as well. \n",
        "https://www-nds.iaea.org/exfor/e4explorer.htm "
      ]
    },
    {
      "cell_type": "markdown",
      "metadata": {},
      "source": [
        "#Derivations for nuclide production\n",
        "Consider a target $T$ with a cross section $\\sigma$ at an energy level of $E_{particle}$. We have for the production rate (from \"Industrial Accelerators and their Applications\")\n",
        "\\begin{equation}\n",
        "\\frac{dR}{dx} = In\\sigma\n",
        "\\end{equation}\n",
        "Integrating, we have for the number of nuclei produced\n",
        "\\begin{equation}\n",
        "N = \\int\\int\\frac{dR}{dx}dxdt = \\int\\int In\\sigma dxdt\n",
        "\\end{equation}\n",
        "Where $R$ is the production rate in atoms per second, $x$ is the depth of the material, $n$ is the nuclei/volume, and $\\sigma$ is the cross section in area/nucleus, and $I$ is the flow rate in moles/second of the beam. It's also important to note that the beam energy is also a function of $x$. Thus we have for the energy input \n",
        "\\begin{equation}\n",
        "E_{in} = \\int IE_{incident \\ particle} dt\n",
        "\\end{equation}\n",
        "For a given decay chain whose parent nucleus has $N$ particles we have for a pure amount of this substance a specific energy (energy density) $\\rho_{E}$ of \n",
        "\\begin{equation}\n",
        "E_{out} = Z_{product}N\\rho_{E}\n",
        "\\end{equation}\n",
        "where $Z$ is the mass number of the product and $N_A$ is Avogadro's constant. \n",
        "Thus we have for the energy efficiency of this process, \n",
        "\\begin{equation}\n",
        "\\frac{E_{out}}{E_{in}} = \\frac{Z_{product}N\\rho_{E}}{\\int IE_{incident \\ particle} dt} =  \n",
        "\\frac{Z_{product}\\rho_{E}\\int\\int In\\sigma dxdt}{\\int IE_{incident \\ particle} dt}\n",
        "\\end{equation}"
      ]
    },
    {
      "cell_type": "markdown",
      "metadata": {},
      "source": [
        "##Thin target case with constant beam current and energy\n",
        "\\begin{equation}\n",
        "\\frac{E_{out}}{E_{in}} = \\frac{Z_{product}\\rho_{E} In\\sigma xt}{IE_{incident \\ particle}t} = \\frac{Z\\rho_{E} n\\sigma x}{E_{incident \\ particle}}\n",
        "\\end{equation}\n",
        "Rearranging to find the energy efficiency per thickness of material \n",
        "\\begin{equation}\n",
        "\\frac{E_{out}}{xE_{in}} = \\frac{Z_{product}\\rho_{E} n\\sigma }{E_{incident \\ particle}}\n",
        "\\end{equation}\n",
        "Thus, our figure of merit for a reaction will be energy efficiency per thickness of material. \n",
        "We'll be dealing with a lot of data and computations so I'll use Julia instead of Python. "
      ]
    },
    {
      "cell_type": "code",
      "execution_count": 46,
      "metadata": {},
      "outputs": [
        {
          "name": "stdout",
          "output_type": "stream",
          "text": [
            "Union{Nothing, Float64}[1.0e-5, 100000.0, nothing, nothing, nothing, nothing, nothing, nothing, nothing]"
          ]
        },
        {
          "data": {
            "text/plain": [
              "\"C:\\\\Cross-Section-Data\\\\\""
            ]
          },
          "metadata": {},
          "output_type": "display_data"
        }
      ],
      "source": [
        "using Unitful #https://painterqubits.github.io/Unitful.jl/stable/\n",
        "#quantity * @u_str(\"unit abbreviation\") \n",
        "using Symbolics #https://symbolics.juliasymbolics.org/dev/\n",
        "#cite https://doi.org/10.48550/arXiv.2105.03949\n",
        "using Latexify\n",
        "using Test\n",
        "#1 * @u_str(\"mA\") is 1 milliamp\n",
        "using CSV, DataFrames\n",
        "data_dir = (\"C:\\\\Cross-Section-Data\\\\\")"
      ]
    },
    {
      "cell_type": "markdown",
      "metadata": {},
      "source": [
        "#ENDF6\n",
        "\n",
        "For each section of file 3 (reaction cross sections) the format of each column is \n",
        "\n",
        "[MAT, 3, MT/ ZA, AWR, 0, 0, 0, 0] HEAD\n",
        "\n",
        "[MAT, 3, MT/ QM, QI, 0, LR, NR, NP/ Eint/ σ(E)]TAB1\n",
        "\n",
        "[MAT, 3, 0/ 0.0, 0.0, 0, 0, 0, 0] SEND\n",
        "\n",
        "where \n",
        "\n",
        "This function creates a properly formatted matrix of 64 bit floats from the file path of an ENDF6 formatted text file. "
      ]
    },
    {
      "cell_type": "code",
      "execution_count": 53,
      "metadata": {},
      "outputs": [
        {
          "ename": "ArgumentError",
          "evalue": "ArgumentError: invalid index: nothing of type Nothing",
          "output_type": "error",
          "traceback": [
            "ArgumentError: invalid index: nothing of type Nothing\n",
            "\n",
            "Stacktrace:\n",
            "  [1] to_index(i::Nothing)\n",
            "    @ Base .\\indices.jl:300\n",
            "  [2] to_index(A::Vector{SubString{String}}, i::Nothing)\n",
            "    @ Base .\\indices.jl:277\n",
            "  [3] to_indices\n",
            "    @ .\\indices.jl:333 [inlined]\n",
            "  [4] to_indices\n",
            "    @ .\\indices.jl:325 [inlined]\n",
            "  [5] getindex(A::Vector{SubString{String}}, I::Nothing)\n",
            "    @ Base .\\abstractarray.jl:1218\n",
            "  [6] (::var\"#80#81\")(file::IOStream)\n",
            "    @ Main c:\\Users\\engin\\Documents\\GitHub\\Energy\\Optimized_Radionuclide_Production.ipynb:29\n",
            "  [7] open(f::var\"#80#81\", args::String; kwargs::Base.Pairs{Symbol, Union{}, Tuple{}, NamedTuple{(), Tuple{}}})\n",
            "    @ Base .\\io.jl:330\n",
            "  [8] open(f::Function, args::String)\n",
            "    @ Base .\\io.jl:328\n",
            "  [9] top-level scope\n",
            "    @ c:\\Users\\engin\\Documents\\GitHub\\Energy\\Optimized_Radionuclide_Production.ipynb:26\n",
            " [10] eval\n",
            "    @ .\\boot.jl:373 [inlined]\n",
            " [11] include_string(mapexpr::typeof(REPL.softscope), mod::Module, code::String, filename::String)\n",
            "    @ Base .\\loading.jl:1196\n",
            " [12] #invokelatest#2\n",
            "    @ .\\essentials.jl:716 [inlined]\n",
            " [13] invokelatest\n",
            "    @ .\\essentials.jl:714 [inlined]\n",
            " [14] (::VSCodeServer.var\"#164#165\"{VSCodeServer.NotebookRunCellArguments, String})()\n",
            "    @ VSCodeServer c:\\Users\\engin\\.vscode\\extensions\\julialang.language-julia-1.6.17\\scripts\\packages\\VSCodeServer\\src\\serve_notebook.jl:19\n",
            " [15] withpath(f::VSCodeServer.var\"#164#165\"{VSCodeServer.NotebookRunCellArguments, String}, path::String)\n",
            "    @ VSCodeServer c:\\Users\\engin\\.vscode\\extensions\\julialang.language-julia-1.6.17\\scripts\\packages\\VSCodeServer\\src\\repl.jl:184\n",
            " [16] notebook_runcell_request(conn::VSCodeServer.JSONRPC.JSONRPCEndpoint{Base.PipeEndpoint, Base.PipeEndpoint}, params::VSCodeServer.NotebookRunCellArguments)\n",
            "    @ VSCodeServer c:\\Users\\engin\\.vscode\\extensions\\julialang.language-julia-1.6.17\\scripts\\packages\\VSCodeServer\\src\\serve_notebook.jl:13\n",
            " [17] dispatch_msg(x::VSCodeServer.JSONRPC.JSONRPCEndpoint{Base.PipeEndpoint, Base.PipeEndpoint}, dispatcher::VSCodeServer.JSONRPC.MsgDispatcher, msg::Dict{String, Any})\n",
            "    @ VSCodeServer.JSONRPC c:\\Users\\engin\\.vscode\\extensions\\julialang.language-julia-1.6.17\\scripts\\packages\\JSONRPC\\src\\typed.jl:67\n",
            " [18] serve_notebook(pipename::String, outputchannel_logger::Base.CoreLogging.SimpleLogger; crashreporting_pipename::String)\n",
            "    @ VSCodeServer c:\\Users\\engin\\.vscode\\extensions\\julialang.language-julia-1.6.17\\scripts\\packages\\VSCodeServer\\src\\serve_notebook.jl:136\n",
            " [19] top-level scope\n",
            "    @ c:\\Users\\engin\\.vscode\\extensions\\julialang.language-julia-1.6.17\\scripts\\notebook\\notebook.jl:32\n",
            " [20] include(mod::Module, _path::String)\n",
            "    @ Base .\\Base.jl:418\n",
            " [21] exec_options(opts::Base.JLOptions)\n",
            "    @ Base .\\client.jl:292\n",
            " [22] _start()\n",
            "    @ Base .\\client.jl:495"
          ]
        }
      ],
      "source": [
        "file_path = data_dir  * String(\"jendl5-n\\\\n_001-H-001.dat\")\n",
        "function make_float(string)\n",
        "    return parse(Float64, string)\n",
        "end\n",
        "function read_number(input)\n",
        "    #example input: 1.000000-5\n",
        "    #example output: 1.000000 * 10^-5\n",
        "    if(occursin(\"-\", input))\n",
        "        #split the string into two parts\n",
        "        split_number = split(input, \"-\")\n",
        "        return make_float(split_number[1]) * 10^(-1* make_float(split_number[2]))\n",
        "    end\n",
        "    if(occursin(\"+\", input))\n",
        "        #split the string into two parts\n",
        "        split_number = split(input, \"+\")\n",
        "        return make_float(split_number[1]) * 10^make_float(split_number[2])\n",
        "    end\n",
        "end\n",
        "function get_first_line(text_array)\n",
        "    for line_number in 1:length(text_array)\n",
        "        if (occursin(\"1.000000-5\", text_array[line_number]))\n",
        "            if(!occursin(\"  \", text_array[line_number])\n",
        "                return line_number\n",
        "            end\n",
        "        end\n",
        "    end\n",
        "end\n",
        "open(file_path) do file\n",
        "    text_array = split(read(file_path, String), \"\\n\")\n",
        "    first_row = get_first_line(text_array)\n",
        "    print([split(text_array[first_row], \" \", keepempty = false)])\n",
        "end\n",
        "\n",
        "#df = DataFrame(CSV.File(file_path, delim=' ', ignorerepeated=true, \n",
        "#            header=false, skipto=5+6+110))[:,1:6]\n",
        "#make array from all odd numbered columns\n"
      ]
    },
    {
      "cell_type": "code",
      "execution_count": 52,
      "metadata": {},
      "outputs": [
        {
          "name": "stdout",
          "output_type": "stream",
          "text": [
            "For output = (Z*n*ρ*σ) / E       (unitless)"
          ]
        },
        {
          "data": {
            "text/plain": [
              "\u001b[32m\u001b[1mTest Passed\u001b[22m\u001b[39m\n",
              "  Expression: reaction_figure_of_merit(ρ * u\"J/g\", Z * u\"g\", n * u\"cm\" ^ -2, σ * u\"cm\" ^ 2, E * u\"J\") - output == 0\n",
              "   Evaluated: 0 == 0"
            ]
          },
          "metadata": {},
          "output_type": "display_data"
        }
      ],
      "source": [
        "function reaction_figure_of_merit(energy_density, mass_number, target_nuclei_per_area, sigma, \n",
        "incident_particle_energy)\n",
        "    #For the product, we take the mass number to be equal to the molar mass\n",
        "    figure_of_merit = (energy_density * mass_number * \n",
        "        target_nuclei_per_area * sigma) / incident_particle_energy\n",
        "    return uconvert(Unitful.NoUnits, figure_of_merit) \n",
        "end\n",
        "\n",
        "ρ, Z, n, σ, E = @variables ρ, Z, n, σ, E\n",
        "output = ρ * Z * n * σ / E\n",
        "print(\"For output = \", output, \"       (unitless)\")\n",
        "Test.@test reaction_figure_of_merit(ρ * @u_str(\"J/g\"), Z * @u_str(\"g\"), \n",
        "    n * (@u_str(\"cm\")^-2), σ * @u_str(\"cm\")^2, E * @u_str(\"J\")) - output == 0\n"
      ]
    },
    {
      "cell_type": "code",
      "execution_count": 4,
      "metadata": {},
      "outputs": [],
      "source": []
    },
    {
      "cell_type": "code",
      "execution_count": 13,
      "metadata": {},
      "outputs": [
        {
          "name": "stdout",
          "output_type": "stream",
          "text": [
            "Data directory: C:\\Cross-Section-Data\\Data directory: C:\\Cross-Section-Data\\"
          ]
        },
        {
          "data": {
            "text/plain": [
              "7-element Vector{String}:\n",
              " \".git\"\n",
              " \".gitattributes\"\n",
              " \"E4R4949_e4.txt\"\n",
              " \"JEFF32N\"\n",
              " \"README.md\"\n",
              " \"jendl5-n\"\n",
              " \"jendl5-p\""
            ]
          },
          "metadata": {},
          "output_type": "display_data"
        }
      ],
      "source": [
        "dir = \"C:\\\\Cross-Section-Data\\\\\"\n",
        "print(\"Data directory: \", dir)\n",
        "files = readdir(dir)\n",
        "files"
      ]
    },
    {
      "cell_type": "code",
      "execution_count": 15,
      "metadata": {},
      "outputs": [
        {
          "data": {
            "text/plain": [
              "\"C:\\\\Cross-Section-Data\\\\jendl5-n\\\\\""
            ]
          },
          "metadata": {},
          "output_type": "display_data"
        }
      ],
      "source": [
        "neutron_dir = dir * \"jendl5-n\\\\\""
      ]
    },
    {
      "cell_type": "code",
      "execution_count": 24,
      "metadata": {},
      "outputs": [
        {
          "data": {
            "application/vnd.plotly.v1+json": {
              "config": {
                "plotlyServerURL": "https://plot.ly"
              },
              "data": [
                {
                  "hovertemplate": "Photon energy [eV]=%{x}<br>Cross-section [barn]=%{y}<extra></extra>",
                  "legendgroup": "",
                  "marker": {
                    "color": "#636efa",
                    "symbol": "circle"
                  },
                  "mode": "markers",
                  "name": "",
                  "orientation": "v",
                  "showlegend": false,
                  "type": "scatter",
                  "x": [
                    0.00001,
                    0.00002,
                    0.00005,
                    0.0001,
                    0.0002,
                    0.0005,
                    0.001,
                    0.002,
                    0.005,
                    0.01,
                    0.0253,
                    0.1,
                    0.2,
                    0.5,
                    1,
                    2,
                    5,
                    10,
                    20,
                    50,
                    100,
                    200,
                    500,
                    1000,
                    2000,
                    3000,
                    4000,
                    5000,
                    6000,
                    7000,
                    8000,
                    9000,
                    10000,
                    12000,
                    14000,
                    16000,
                    18000,
                    20000,
                    22000,
                    24000,
                    26000,
                    28000,
                    30000,
                    35000,
                    40000,
                    45000,
                    50000,
                    55000,
                    60000,
                    65000,
                    70000,
                    75000,
                    80000,
                    85000,
                    90000,
                    95000,
                    100000,
                    110000,
                    120000,
                    130000,
                    140000,
                    150000,
                    160000,
                    170000,
                    180000,
                    190000,
                    200000,
                    220000,
                    240000,
                    260000,
                    280000,
                    300000,
                    320000,
                    340000,
                    360000,
                    380000,
                    400000,
                    420000,
                    440000,
                    460000,
                    480000,
                    500000,
                    550000,
                    600000,
                    650000,
                    700000,
                    750000,
                    800000,
                    850000,
                    900000,
                    950000,
                    1000000,
                    1100000,
                    1200000,
                    1300000,
                    1400000,
                    1500000,
                    1600000,
                    1700000,
                    1800000,
                    1900000,
                    2000000,
                    2200000,
                    2400000,
                    2600000,
                    2800000,
                    3000000,
                    3200000,
                    3400000,
                    3600000,
                    3800000,
                    4000000,
                    4200000,
                    4400000,
                    4600000,
                    4800000,
                    5000000,
                    5200000,
                    5400000,
                    5600000,
                    5800000,
                    6000000,
                    6200000,
                    6400000,
                    6600000,
                    6800000,
                    7000000,
                    7500000,
                    8000000,
                    8500000,
                    9000000,
                    9500000,
                    10000000,
                    10500000,
                    11000000,
                    11500000,
                    12000000,
                    12500000,
                    13000000,
                    13500000,
                    14000000,
                    14500000,
                    15000000,
                    15500000,
                    16000000,
                    16500000,
                    17000000,
                    17500000,
                    18000000,
                    18500000,
                    19000000,
                    19500000,
                    20000000,
                    20000000,
                    21000000,
                    22000000,
                    23000000,
                    24000000,
                    25000000,
                    26000000,
                    27000000,
                    28000000,
                    29000000,
                    30000000,
                    32000000,
                    34000000,
                    36000000,
                    38000000,
                    40000000,
                    42000000,
                    44000000,
                    46000000,
                    48000000,
                    50000000,
                    52000000,
                    54000000,
                    56000000,
                    58000000,
                    60000000,
                    62000000,
                    64000000,
                    66000000,
                    68000000,
                    70000000,
                    72000000,
                    74000000,
                    76000000,
                    78000000,
                    80000000,
                    82000000,
                    84000000,
                    86000000,
                    88000000,
                    90000000,
                    92000000,
                    94000000,
                    96000000,
                    98000000,
                    100000000,
                    110000000,
                    120000000,
                    130000000,
                    140000000,
                    150000000,
                    160000000,
                    180000000,
                    200000000
                  ],
                  "xaxis": "x",
                  "y": [
                    37.16477,
                    32.26505,
                    27.91738,
                    25.72616,
                    24.17673,
                    22.80187,
                    22.10895,
                    21.61898,
                    21.18421,
                    20.96509,
                    20.76866,
                    20.60335,
                    20.55434,
                    20.51083,
                    20.48885,
                    20.47322,
                    20.45906,
                    20.45146,
                    20.44521,
                    20.43683,
                    20.42791,
                    20.41293,
                    20.37138,
                    20.30414,
                    20.17204,
                    20.04215,
                    19.91424,
                    19.78823,
                    19.66405,
                    19.54166,
                    19.42101,
                    19.30207,
                    19.18479,
                    18.9551,
                    18.73167,
                    18.51423,
                    18.30255,
                    18.0964,
                    17.89556,
                    17.69984,
                    17.50902,
                    17.32294,
                    17.14141,
                    16.70645,
                    16.29656,
                    15.9096,
                    15.54371,
                    15.19718,
                    14.86851,
                    14.55635,
                    14.25946,
                    13.97675,
                    13.70721,
                    13.44993,
                    13.2041,
                    12.96894,
                    12.74378,
                    12.32097,
                    11.9312,
                    11.5707,
                    11.23625,
                    10.92508,
                    10.63481,
                    10.36336,
                    10.10893,
                    9.869935,
                    9.644989,
                    9.232457,
                    8.863064,
                    8.530225,
                    8.228636,
                    7.953971,
                    7.70267,
                    7.471777,
                    7.258815,
                    7.061693,
                    6.878637,
                    6.708125,
                    6.548852,
                    6.399688,
                    6.259648,
                    6.127875,
                    5.829882,
                    5.569515,
                    5.339645,
                    5.13485,
                    4.950937,
                    4.784609,
                    4.633238,
                    4.494702,
                    4.367271,
                    4.249519,
                    4.038494,
                    3.854211,
                    3.691309,
                    3.54581,
                    3.414699,
                    3.295645,
                    3.186817,
                    3.086754,
                    2.994275,
                    2.908414,
                    2.753484,
                    2.617003,
                    2.495402,
                    2.386035,
                    2.286895,
                    2.196421,
                    2.113381,
                    2.036785,
                    1.965823,
                    1.899828,
                    1.838244,
                    1.780601,
                    1.726497,
                    1.67559,
                    1.627582,
                    1.582216,
                    1.539263,
                    1.498525,
                    1.459826,
                    1.423007,
                    1.387929,
                    1.354466,
                    1.322504,
                    1.291942,
                    1.262686,
                    1.194725,
                    1.13329,
                    1.077473,
                    1.026529,
                    0.9798437,
                    0.9369061,
                    0.8972839,
                    0.8606105,
                    0.8265722,
                    0.7948987,
                    0.7653557,
                    0.7377393,
                    0.7118704,
                    0.6875919,
                    0.6647646,
                    0.6432651,
                    0.6229834,
                    0.6038214,
                    0.5856907,
                    0.5685123,
                    0.5522144,
                    0.5367326,
                    0.522008,
                    0.5079874,
                    0.4946221,
                    0.4818679,
                    0.480126,
                    0.454814,
                    0.433144,
                    0.414504,
                    0.39696,
                    0.380408,
                    0.364802,
                    0.350093,
                    0.336235,
                    0.32318,
                    0.310882,
                    0.288368,
                    0.268314,
                    0.250344,
                    0.234101,
                    0.2195,
                    0.206435,
                    0.194763,
                    0.184336,
                    0.175008,
                    0.166635,
                    0.159068,
                    0.152163,
                    0.145773,
                    0.13979,
                    0.134184,
                    0.128938,
                    0.124035,
                    0.119456,
                    0.115185,
                    0.111203,
                    0.107494,
                    0.104038,
                    0.100819,
                    0.0978196,
                    0.0950211,
                    0.0924065,
                    0.089958,
                    0.0876579,
                    0.0854887,
                    0.0834327,
                    0.0814724,
                    0.0795906,
                    0.0777877,
                    0.0760661,
                    0.0744232,
                    0.0675099,
                    0.0617608,
                    0.0576882,
                    0.0541574,
                    0.0514657,
                    0.049069,
                    0.0450731,
                    0.0420456
                  ],
                  "yaxis": "y"
                }
              ],
              "layout": {
                "legend": {
                  "tracegroupgap": 0
                },
                "margin": {
                  "t": 60
                },
                "template": {
                  "data": {
                    "bar": [
                      {
                        "error_x": {
                          "color": "#2a3f5f"
                        },
                        "error_y": {
                          "color": "#2a3f5f"
                        },
                        "marker": {
                          "line": {
                            "color": "#E5ECF6",
                            "width": 0.5
                          },
                          "pattern": {
                            "fillmode": "overlay",
                            "size": 10,
                            "solidity": 0.2
                          }
                        },
                        "type": "bar"
                      }
                    ],
                    "barpolar": [
                      {
                        "marker": {
                          "line": {
                            "color": "#E5ECF6",
                            "width": 0.5
                          },
                          "pattern": {
                            "fillmode": "overlay",
                            "size": 10,
                            "solidity": 0.2
                          }
                        },
                        "type": "barpolar"
                      }
                    ],
                    "carpet": [
                      {
                        "aaxis": {
                          "endlinecolor": "#2a3f5f",
                          "gridcolor": "white",
                          "linecolor": "white",
                          "minorgridcolor": "white",
                          "startlinecolor": "#2a3f5f"
                        },
                        "baxis": {
                          "endlinecolor": "#2a3f5f",
                          "gridcolor": "white",
                          "linecolor": "white",
                          "minorgridcolor": "white",
                          "startlinecolor": "#2a3f5f"
                        },
                        "type": "carpet"
                      }
                    ],
                    "choropleth": [
                      {
                        "colorbar": {
                          "outlinewidth": 0,
                          "ticks": ""
                        },
                        "type": "choropleth"
                      }
                    ],
                    "contour": [
                      {
                        "colorbar": {
                          "outlinewidth": 0,
                          "ticks": ""
                        },
                        "colorscale": [
                          [
                            0,
                            "#0d0887"
                          ],
                          [
                            0.1111111111111111,
                            "#46039f"
                          ],
                          [
                            0.2222222222222222,
                            "#7201a8"
                          ],
                          [
                            0.3333333333333333,
                            "#9c179e"
                          ],
                          [
                            0.4444444444444444,
                            "#bd3786"
                          ],
                          [
                            0.5555555555555556,
                            "#d8576b"
                          ],
                          [
                            0.6666666666666666,
                            "#ed7953"
                          ],
                          [
                            0.7777777777777778,
                            "#fb9f3a"
                          ],
                          [
                            0.8888888888888888,
                            "#fdca26"
                          ],
                          [
                            1,
                            "#f0f921"
                          ]
                        ],
                        "type": "contour"
                      }
                    ],
                    "contourcarpet": [
                      {
                        "colorbar": {
                          "outlinewidth": 0,
                          "ticks": ""
                        },
                        "type": "contourcarpet"
                      }
                    ],
                    "heatmap": [
                      {
                        "colorbar": {
                          "outlinewidth": 0,
                          "ticks": ""
                        },
                        "colorscale": [
                          [
                            0,
                            "#0d0887"
                          ],
                          [
                            0.1111111111111111,
                            "#46039f"
                          ],
                          [
                            0.2222222222222222,
                            "#7201a8"
                          ],
                          [
                            0.3333333333333333,
                            "#9c179e"
                          ],
                          [
                            0.4444444444444444,
                            "#bd3786"
                          ],
                          [
                            0.5555555555555556,
                            "#d8576b"
                          ],
                          [
                            0.6666666666666666,
                            "#ed7953"
                          ],
                          [
                            0.7777777777777778,
                            "#fb9f3a"
                          ],
                          [
                            0.8888888888888888,
                            "#fdca26"
                          ],
                          [
                            1,
                            "#f0f921"
                          ]
                        ],
                        "type": "heatmap"
                      }
                    ],
                    "heatmapgl": [
                      {
                        "colorbar": {
                          "outlinewidth": 0,
                          "ticks": ""
                        },
                        "colorscale": [
                          [
                            0,
                            "#0d0887"
                          ],
                          [
                            0.1111111111111111,
                            "#46039f"
                          ],
                          [
                            0.2222222222222222,
                            "#7201a8"
                          ],
                          [
                            0.3333333333333333,
                            "#9c179e"
                          ],
                          [
                            0.4444444444444444,
                            "#bd3786"
                          ],
                          [
                            0.5555555555555556,
                            "#d8576b"
                          ],
                          [
                            0.6666666666666666,
                            "#ed7953"
                          ],
                          [
                            0.7777777777777778,
                            "#fb9f3a"
                          ],
                          [
                            0.8888888888888888,
                            "#fdca26"
                          ],
                          [
                            1,
                            "#f0f921"
                          ]
                        ],
                        "type": "heatmapgl"
                      }
                    ],
                    "histogram": [
                      {
                        "marker": {
                          "pattern": {
                            "fillmode": "overlay",
                            "size": 10,
                            "solidity": 0.2
                          }
                        },
                        "type": "histogram"
                      }
                    ],
                    "histogram2d": [
                      {
                        "colorbar": {
                          "outlinewidth": 0,
                          "ticks": ""
                        },
                        "colorscale": [
                          [
                            0,
                            "#0d0887"
                          ],
                          [
                            0.1111111111111111,
                            "#46039f"
                          ],
                          [
                            0.2222222222222222,
                            "#7201a8"
                          ],
                          [
                            0.3333333333333333,
                            "#9c179e"
                          ],
                          [
                            0.4444444444444444,
                            "#bd3786"
                          ],
                          [
                            0.5555555555555556,
                            "#d8576b"
                          ],
                          [
                            0.6666666666666666,
                            "#ed7953"
                          ],
                          [
                            0.7777777777777778,
                            "#fb9f3a"
                          ],
                          [
                            0.8888888888888888,
                            "#fdca26"
                          ],
                          [
                            1,
                            "#f0f921"
                          ]
                        ],
                        "type": "histogram2d"
                      }
                    ],
                    "histogram2dcontour": [
                      {
                        "colorbar": {
                          "outlinewidth": 0,
                          "ticks": ""
                        },
                        "colorscale": [
                          [
                            0,
                            "#0d0887"
                          ],
                          [
                            0.1111111111111111,
                            "#46039f"
                          ],
                          [
                            0.2222222222222222,
                            "#7201a8"
                          ],
                          [
                            0.3333333333333333,
                            "#9c179e"
                          ],
                          [
                            0.4444444444444444,
                            "#bd3786"
                          ],
                          [
                            0.5555555555555556,
                            "#d8576b"
                          ],
                          [
                            0.6666666666666666,
                            "#ed7953"
                          ],
                          [
                            0.7777777777777778,
                            "#fb9f3a"
                          ],
                          [
                            0.8888888888888888,
                            "#fdca26"
                          ],
                          [
                            1,
                            "#f0f921"
                          ]
                        ],
                        "type": "histogram2dcontour"
                      }
                    ],
                    "mesh3d": [
                      {
                        "colorbar": {
                          "outlinewidth": 0,
                          "ticks": ""
                        },
                        "type": "mesh3d"
                      }
                    ],
                    "parcoords": [
                      {
                        "line": {
                          "colorbar": {
                            "outlinewidth": 0,
                            "ticks": ""
                          }
                        },
                        "type": "parcoords"
                      }
                    ],
                    "pie": [
                      {
                        "automargin": true,
                        "type": "pie"
                      }
                    ],
                    "scatter": [
                      {
                        "marker": {
                          "colorbar": {
                            "outlinewidth": 0,
                            "ticks": ""
                          }
                        },
                        "type": "scatter"
                      }
                    ],
                    "scatter3d": [
                      {
                        "line": {
                          "colorbar": {
                            "outlinewidth": 0,
                            "ticks": ""
                          }
                        },
                        "marker": {
                          "colorbar": {
                            "outlinewidth": 0,
                            "ticks": ""
                          }
                        },
                        "type": "scatter3d"
                      }
                    ],
                    "scattercarpet": [
                      {
                        "marker": {
                          "colorbar": {
                            "outlinewidth": 0,
                            "ticks": ""
                          }
                        },
                        "type": "scattercarpet"
                      }
                    ],
                    "scattergeo": [
                      {
                        "marker": {
                          "colorbar": {
                            "outlinewidth": 0,
                            "ticks": ""
                          }
                        },
                        "type": "scattergeo"
                      }
                    ],
                    "scattergl": [
                      {
                        "marker": {
                          "colorbar": {
                            "outlinewidth": 0,
                            "ticks": ""
                          }
                        },
                        "type": "scattergl"
                      }
                    ],
                    "scattermapbox": [
                      {
                        "marker": {
                          "colorbar": {
                            "outlinewidth": 0,
                            "ticks": ""
                          }
                        },
                        "type": "scattermapbox"
                      }
                    ],
                    "scatterpolar": [
                      {
                        "marker": {
                          "colorbar": {
                            "outlinewidth": 0,
                            "ticks": ""
                          }
                        },
                        "type": "scatterpolar"
                      }
                    ],
                    "scatterpolargl": [
                      {
                        "marker": {
                          "colorbar": {
                            "outlinewidth": 0,
                            "ticks": ""
                          }
                        },
                        "type": "scatterpolargl"
                      }
                    ],
                    "scatterternary": [
                      {
                        "marker": {
                          "colorbar": {
                            "outlinewidth": 0,
                            "ticks": ""
                          }
                        },
                        "type": "scatterternary"
                      }
                    ],
                    "surface": [
                      {
                        "colorbar": {
                          "outlinewidth": 0,
                          "ticks": ""
                        },
                        "colorscale": [
                          [
                            0,
                            "#0d0887"
                          ],
                          [
                            0.1111111111111111,
                            "#46039f"
                          ],
                          [
                            0.2222222222222222,
                            "#7201a8"
                          ],
                          [
                            0.3333333333333333,
                            "#9c179e"
                          ],
                          [
                            0.4444444444444444,
                            "#bd3786"
                          ],
                          [
                            0.5555555555555556,
                            "#d8576b"
                          ],
                          [
                            0.6666666666666666,
                            "#ed7953"
                          ],
                          [
                            0.7777777777777778,
                            "#fb9f3a"
                          ],
                          [
                            0.8888888888888888,
                            "#fdca26"
                          ],
                          [
                            1,
                            "#f0f921"
                          ]
                        ],
                        "type": "surface"
                      }
                    ],
                    "table": [
                      {
                        "cells": {
                          "fill": {
                            "color": "#EBF0F8"
                          },
                          "line": {
                            "color": "white"
                          }
                        },
                        "header": {
                          "fill": {
                            "color": "#C8D4E3"
                          },
                          "line": {
                            "color": "white"
                          }
                        },
                        "type": "table"
                      }
                    ]
                  },
                  "layout": {
                    "annotationdefaults": {
                      "arrowcolor": "#2a3f5f",
                      "arrowhead": 0,
                      "arrowwidth": 1
                    },
                    "autotypenumbers": "strict",
                    "coloraxis": {
                      "colorbar": {
                        "outlinewidth": 0,
                        "ticks": ""
                      }
                    },
                    "colorscale": {
                      "diverging": [
                        [
                          0,
                          "#8e0152"
                        ],
                        [
                          0.1,
                          "#c51b7d"
                        ],
                        [
                          0.2,
                          "#de77ae"
                        ],
                        [
                          0.3,
                          "#f1b6da"
                        ],
                        [
                          0.4,
                          "#fde0ef"
                        ],
                        [
                          0.5,
                          "#f7f7f7"
                        ],
                        [
                          0.6,
                          "#e6f5d0"
                        ],
                        [
                          0.7,
                          "#b8e186"
                        ],
                        [
                          0.8,
                          "#7fbc41"
                        ],
                        [
                          0.9,
                          "#4d9221"
                        ],
                        [
                          1,
                          "#276419"
                        ]
                      ],
                      "sequential": [
                        [
                          0,
                          "#0d0887"
                        ],
                        [
                          0.1111111111111111,
                          "#46039f"
                        ],
                        [
                          0.2222222222222222,
                          "#7201a8"
                        ],
                        [
                          0.3333333333333333,
                          "#9c179e"
                        ],
                        [
                          0.4444444444444444,
                          "#bd3786"
                        ],
                        [
                          0.5555555555555556,
                          "#d8576b"
                        ],
                        [
                          0.6666666666666666,
                          "#ed7953"
                        ],
                        [
                          0.7777777777777778,
                          "#fb9f3a"
                        ],
                        [
                          0.8888888888888888,
                          "#fdca26"
                        ],
                        [
                          1,
                          "#f0f921"
                        ]
                      ],
                      "sequentialminus": [
                        [
                          0,
                          "#0d0887"
                        ],
                        [
                          0.1111111111111111,
                          "#46039f"
                        ],
                        [
                          0.2222222222222222,
                          "#7201a8"
                        ],
                        [
                          0.3333333333333333,
                          "#9c179e"
                        ],
                        [
                          0.4444444444444444,
                          "#bd3786"
                        ],
                        [
                          0.5555555555555556,
                          "#d8576b"
                        ],
                        [
                          0.6666666666666666,
                          "#ed7953"
                        ],
                        [
                          0.7777777777777778,
                          "#fb9f3a"
                        ],
                        [
                          0.8888888888888888,
                          "#fdca26"
                        ],
                        [
                          1,
                          "#f0f921"
                        ]
                      ]
                    },
                    "colorway": [
                      "#636efa",
                      "#EF553B",
                      "#00cc96",
                      "#ab63fa",
                      "#FFA15A",
                      "#19d3f3",
                      "#FF6692",
                      "#B6E880",
                      "#FF97FF",
                      "#FECB52"
                    ],
                    "font": {
                      "color": "#2a3f5f"
                    },
                    "geo": {
                      "bgcolor": "white",
                      "lakecolor": "white",
                      "landcolor": "#E5ECF6",
                      "showlakes": true,
                      "showland": true,
                      "subunitcolor": "white"
                    },
                    "hoverlabel": {
                      "align": "left"
                    },
                    "hovermode": "closest",
                    "mapbox": {
                      "style": "light"
                    },
                    "paper_bgcolor": "white",
                    "plot_bgcolor": "#E5ECF6",
                    "polar": {
                      "angularaxis": {
                        "gridcolor": "white",
                        "linecolor": "white",
                        "ticks": ""
                      },
                      "bgcolor": "#E5ECF6",
                      "radialaxis": {
                        "gridcolor": "white",
                        "linecolor": "white",
                        "ticks": ""
                      }
                    },
                    "scene": {
                      "xaxis": {
                        "backgroundcolor": "#E5ECF6",
                        "gridcolor": "white",
                        "gridwidth": 2,
                        "linecolor": "white",
                        "showbackground": true,
                        "ticks": "",
                        "zerolinecolor": "white"
                      },
                      "yaxis": {
                        "backgroundcolor": "#E5ECF6",
                        "gridcolor": "white",
                        "gridwidth": 2,
                        "linecolor": "white",
                        "showbackground": true,
                        "ticks": "",
                        "zerolinecolor": "white"
                      },
                      "zaxis": {
                        "backgroundcolor": "#E5ECF6",
                        "gridcolor": "white",
                        "gridwidth": 2,
                        "linecolor": "white",
                        "showbackground": true,
                        "ticks": "",
                        "zerolinecolor": "white"
                      }
                    },
                    "shapedefaults": {
                      "line": {
                        "color": "#2a3f5f"
                      }
                    },
                    "ternary": {
                      "aaxis": {
                        "gridcolor": "white",
                        "linecolor": "white",
                        "ticks": ""
                      },
                      "baxis": {
                        "gridcolor": "white",
                        "linecolor": "white",
                        "ticks": ""
                      },
                      "bgcolor": "#E5ECF6",
                      "caxis": {
                        "gridcolor": "white",
                        "linecolor": "white",
                        "ticks": ""
                      }
                    },
                    "title": {
                      "x": 0.05
                    },
                    "xaxis": {
                      "automargin": true,
                      "gridcolor": "white",
                      "linecolor": "white",
                      "ticks": "",
                      "title": {
                        "standoff": 15
                      },
                      "zerolinecolor": "white",
                      "zerolinewidth": 2
                    },
                    "yaxis": {
                      "automargin": true,
                      "gridcolor": "white",
                      "linecolor": "white",
                      "ticks": "",
                      "title": {
                        "standoff": 15
                      },
                      "zerolinecolor": "white",
                      "zerolinewidth": 2
                    }
                  }
                },
                "xaxis": {
                  "anchor": "y",
                  "domain": [
                    0,
                    1
                  ],
                  "title": {
                    "text": "Photon energy [eV]"
                  },
                  "type": "log"
                },
                "yaxis": {
                  "anchor": "x",
                  "domain": [
                    0,
                    1
                  ],
                  "title": {
                    "text": "Cross-section [barn]"
                  },
                  "type": "log"
                }
              }
            }
          },
          "metadata": {},
          "output_type": "display_data"
        }
      ],
      "source": [
        "import ENDF6\n",
        "import plotly.express as px\n",
        "path = \"C:\\\\Cross-Section-Data\\\\jendl5-n\\\\n_001-H-001.dat\"\n",
        "f = open(path)\n",
        "lines = f.readlines()\n",
        "sec = ENDF6.find_section(lines, MF=3, MT=1)  # total cross-section\n",
        "x, y = ENDF6.read_table(sec)\n",
        "px.scatter(x=x, y=y, labels = {'x':\"Photon energy [eV]\", 'y' : \"Cross-section [barn]\"},\n",
        "log_x = True, log_y = True)\n"
      ]
    },
    {
      "cell_type": "code",
      "execution_count": 21,
      "metadata": {},
      "outputs": [
        {
          "data": {
            "text/plain": [
              "(200000000.0, 0.0420456)"
            ]
          },
          "execution_count": 21,
          "metadata": {},
          "output_type": "execute_result"
        }
      ],
      "source": [
        "import numpy as np\n",
        "index = np.argmax(x/y)\n",
        "x[index], y[index]"
      ]
    },
    {
      "cell_type": "code",
      "execution_count": null,
      "metadata": {},
      "outputs": [],
      "source": []
    }
  ],
  "metadata": {
    "colab": {
      "name": "Optimized Radionuclide Production.ipynb",
      "provenance": []
    },
    "interpreter": {
      "hash": "b5623c593edf3a9c30fecf3e392f1a3c31f722d7f93243239e2241963cc60577"
    },
    "kernelspec": {
      "display_name": "Julia 1.7.2",
      "language": "julia",
      "name": "julia-1.7"
    },
    "language_info": {
      "file_extension": ".jl",
      "mimetype": "application/julia",
      "name": "julia",
      "version": "1.7.2"
    }
  },
  "nbformat": 4,
  "nbformat_minor": 0
}
