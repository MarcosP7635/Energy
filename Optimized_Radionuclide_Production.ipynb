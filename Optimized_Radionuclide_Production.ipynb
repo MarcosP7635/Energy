{
  "cells": [
    {
      "cell_type": "markdown",
      "metadata": {},
      "source": [
        "The goal of this notebook is to write code that given a specific nucleus to produce, an efficiency will be calculated based on the required input energy, target cross sections, and power density of the product to find the optimal use of radionuclide production as a method of energy storage. \n",
        "\n",
        "This can also be used to generate a theoretical maximum of storage efficiency for each product. \n",
        "\n",
        "To start, we'll need cross sections. \n",
        "\n",
        "Will attempt to download the entirety of (or write a very fast query for) \n",
        "https://doi.org/10.1016/j.nds.2018.02.001\n",
        "\n",
        "Pivoting to use Jeff32 since it has a singular directory with many neutron cross sections for different targets. https://www.oecd-nea.org/dbforms/data/eva/evatapes/jeff_32/\n",
        "\n",
        "JENDL appears to have both neutron and proton cross section data for transmutation, so this seems very promising. It uses the ENDF6 format https://www-nds.iaea.org/public/endf/ \n",
        "\n",
        "Finally found the database explorer for ENDF, will be using this as well. \n",
        "https://www-nds.iaea.org/exfor/e4explorer.htm "
      ]
    },
    {
      "cell_type": "markdown",
      "metadata": {},
      "source": [
        "Found the Readme files for the two part ENDF libraries I downloaded: \n",
        "\n",
        "file:///C:/Users/engin/Downloads/ENDF_Libraries/ENDF_Libraries/readme.htm \n",
        "\n",
        "file:///C:/Users/engin/Downloads/ENDF_Libraries-2/ENDF_Libraries-2/readme-2.htm"
      ]
    },
    {
      "cell_type": "markdown",
      "metadata": {},
      "source": [
        "#Derivations for nuclide production\n",
        "Consider a thin target $T$ with a cross section $\\sigma$ at an energy level of $E_{particle}$. We have for the production rate (from \"Industrial Accelerators and their Applications\")\n",
        "\\begin{equation}\n",
        "\\frac{dR}{dx} = In\\sigma\n",
        "\\end{equation}\n",
        "Integrating, we have for the number of nuclei produced\n",
        "\\begin{equation}\n",
        "N = \\int\\int\\frac{dR}{dx}dxdt = \\int\\int In\\sigma dxdt\n",
        "\\end{equation}\n",
        "Where $R$ is the production rate in atoms per second, $x$ is the depth of the material, $n$ is the nuclei/volume, and $\\sigma$ is the cross section in area/nucleus, and $I$ is the flow rate in moles/second of the beam. It's also important to note that the beam energy is also a function of $x$. Thus we have for the energy input \n",
        "\\begin{equation}\n",
        "E_{in} = \\int IE_{incident \\ particle} dt\n",
        "\\end{equation}\n",
        "For a given decay chain whose parent nucleus has $N$ particles we have for a pure amount of this substance a specific energy (energy density) $\\rho_{E}$ of \n",
        "\\begin{equation}\n",
        "E_{out} = Z_{product}N\\rho_{E}\n",
        "\\end{equation}\n",
        "where $Z$ is the mass number of the product and $N_A$ is Avogadro's constant. \n",
        "Thus we have for the energy efficiency of this process, \n",
        "\\begin{equation}\n",
        "\\frac{E_{out}}{E_{in}} = \\frac{Z_{product}N\\rho_{E}}{\\int IE_{incident \\ particle} dt} =  \n",
        "\\frac{Z_{product}\\rho_{E}\\int\\int In\\sigma dxdt}{\\int IE_{incident \\ particle} dt}\n",
        "\\end{equation}"
      ]
    },
    {
      "cell_type": "markdown",
      "metadata": {},
      "source": [
        "##Thin target case with constant beam current and energy\n",
        "\\begin{equation}\n",
        "\\frac{E_{out}}{E_{in}} = \\frac{Z_{product}\\rho_{E} In\\sigma xt}{IE_{incident \\ particle}t} = \\frac{Z\\rho_{E} n\\sigma x}{E_{incident \\ particle}}\n",
        "\\end{equation}\n",
        "Rearranging to find the energy efficiency per thickness of material \n",
        "\\begin{equation}\n",
        "\\frac{E_{out}}{xE_{in}} = \\frac{Z_{product}\\rho_{E} n\\sigma }{E_{incident \\ particle}}\n",
        "\\end{equation}\n",
        "Thus, our figure of merit for a reaction will be energy efficiency per thickness of material. \n"
      ]
    },
    {
      "cell_type": "markdown",
      "metadata": {},
      "source": [
        "#Now I will find the probability of a given reaction for a thick target (on the order of meters). \n",
        "\n",
        "Where $P$ is the probability of a specific nuclear reaction occuring (e.g. aborbing a gamma ray and ejecting a neutron), $r$ is the reaction cross section, $x$ is the thickness of the target in meters, $t$ is the total cross section ($t>r>0$) and $a$ is the cross section of all reactions that are mutually exclusive with the reaction associated with $r$. We define $k$\n",
        " \n",
        "\\begin{equation}\n",
        "\\begin{split}\n",
        "k = \\frac{-\\rho N_A}{M}\n",
        "\\end{split}\n",
        "\\end{equation}\n",
        " \n",
        "Where $\\rho$ is the mass density in kg/m $^3$, $M$ is the molar mass in kg, and $N_A$ is Avogadro's number.\n",
        "Note that I have not yet accounted for other reactions included in the total cross section that would prevent a different reaction. \n",
        "Are there any reactions that would prevent a given different reaction? If so, which?"
      ]
    },
    {
      "cell_type": "markdown",
      "metadata": {},
      "source": [
        "Where the reaction cross section is $a$ and the total cross section is $t$ we have"
      ]
    },
    {
      "cell_type": "code",
      "execution_count": 1,
      "metadata": {},
      "outputs": [
        {
          "data": {
            "text/markdown": [
              "\\begin{split}\\Large P = 1-(e^{\\left(k t x\\right)}+-e^{\\left(a k x\\right)} + 1)=e^{\\left(a k x\\right)} - e^{\\left(k t x\\right)}\\\\\\Large \\frac{dP}{dx} = a k e^{\\left(a k x\\right)} - k t e^{\\left(k t x\\right)}\\\\\\Large x_{p_{max}} = \\frac{\\log\\left(\\frac{t}{a}\\right)}{{\\left(a - t\\right)} k}\\\\\\Large P_{max} = \\left(\\frac{t}{a}\\right)^{\\frac{a}{a - t}} - \\left(\\frac{t}{a}\\right)^{\\frac{t}{a - t}}\\end{split}"
            ],
            "text/plain": [
              "<IPython.core.display.Markdown object>"
            ]
          },
          "execution_count": 1,
          "metadata": {},
          "output_type": "execute_result"
        }
      ],
      "source": [
        "#This cell requires a sage Jupyter server. https://www.sagemath.org/\n",
        "from IPython.display import Markdown as md\n",
        "import sympy\n",
        "#https://stackoverflow.com/questions/18878083/can-i-use-variables-on-an-ipython-notebook-markup-cell\n",
        "x, k, t, r, d, a, b = var('x k t r d a b', domain = 'positive')\n",
        "#k = var('k', domain = 'real')\n",
        "#what is the probability that the reaction doesn't happen?\n",
        "#probability of another reaction or no reaction\n",
        "another_reaction = 1-exp(a*k*x)\n",
        "no_reaction = exp(t*k*x)\n",
        "reaction_doesnt_happen = no_reaction + another_reaction \n",
        "#These events are mutually exclusive!!\n",
        "reaction = 1 - reaction_doesnt_happen\n",
        "d = diff(reaction, x)\n",
        "x_max = sympy.solve(d == 0, x)[0]._sage_() #convert from sympy object\n",
        "reaction_max = reaction.substitute(x = x_max)#.full_simplify()\n",
        "md(\"\\\\begin{split}\"+\n",
        "\"\\\\Large P = 1-(%s+%s)=%s\"%(latex(no_reaction),latex(another_reaction),latex(reaction))+\n",
        "\"\\\\\\\\\"+ \"\\\\Large \\\\frac{dP}{dx} = %s\"%(latex(d))+ \"\\\\\\\\\"\n",
        "\"\\\\Large x_{p_{max}} = %s\"%latex(x_max)+ \"\\\\\\\\\" +\n",
        "\"\\\\Large P_{max} = %s\"%latex(reaction_max)+\n",
        "\"\\\\end{split}\")"
      ]
    },
    {
      "cell_type": "markdown",
      "metadata": {},
      "source": [
        "The order of magnitude estimates for the cross sections listed look promising!\n",
        "\n",
        "Now I will convert each cross sections data file into a dictionary where the keys are the MTs and the values are a dataframe (or 2d array) of cross section vs energy. "
      ]
    },
    {
      "cell_type": "markdown",
      "metadata": {},
      "source": [
        "Interestingly, the maximum probability of the reaction occuring appears to only depend on the total cross section, $t$, and the cross sections for reactions that are mutually exclusive with a given reaction, $a$. However, the corresponding target thickness does also depend on the target's molar mass and density.\n",
        "\n",
        "If none of the other reactions are mutually exclusive with a given reaction with a cross section $r$, then we instead have"
      ]
    },
    {
      "cell_type": "code",
      "execution_count": 2,
      "metadata": {},
      "outputs": [
        {
          "data": {
            "text/markdown": [
              "\\begin{split}\\Large P = -e^{\\left(k r x\\right)} + 1\\end{split}"
            ],
            "text/plain": [
              "<IPython.core.display.Markdown object>"
            ]
          },
          "execution_count": 2,
          "metadata": {},
          "output_type": "execute_result"
        }
      ],
      "source": [
        "reaction = 1 - exp(k*r*x)\n",
        "md(\"\\\\begin{split}\\\\Large P = %s\\\\end{split}\"%latex(reaction))"
      ]
    },
    {
      "cell_type": "markdown",
      "metadata": {},
      "source": [
        "Which agrees with Section 2.5.1 of \"The Physics of Nucear Reactors\". \n",
        "\n",
        "Now I will plot $P_{max}$ and $x_{max}$ for neutron ejection as a function of the energy of an incoming gamma ray striking a deuterium target. "
      ]
    },
    {
      "cell_type": "markdown",
      "metadata": {},
      "source": [
        "If none of the other possible reactions are mutually exclusive with the reaction associated with a given reaction with cross section $r$ then we instead have"
      ]
    },
    {
      "cell_type": "code",
      "execution_count": 3,
      "metadata": {},
      "outputs": [
        {
          "data": {
            "image/png": "[encoded data removed]",
            "text/plain": [
              "Graphics object consisting of 1 graphics primitive"
            ]
          },
          "execution_count": 3,
          "metadata": {},
          "output_type": "execute_result"
        }
      ],
      "source": [
        "t = .1\n",
        "k = -1\n",
        "r = t / 2\n",
        "another_reaction = 1-exp((t-r)*k*x)\n",
        "#are cross sections additive?\n",
        "no_reaction = exp(t*k*x)\n",
        "reaction_doesnt_happen = no_reaction + another_reaction - (another_reaction*no_reaction)\n",
        "reaction = 1- reaction_doesnt_happen\n",
        "plot(reaction, (x, 0, 100))"
      ]
    },
    {
      "cell_type": "markdown",
      "metadata": {},
      "source": [
        "From Section 2.5.1 of \"The Physics of Nucear Reactors\" we have for the probability of reaction for a path length $x$ with target with nuclear cross section $\\sigma$, molar mass in kg $M$, and mass density in kg/m $^3$ $\\rho$, and $A$ is Avogadro's number.\n",
        "\\begin{equation}\n",
        "\\begin{split}\n",
        "P = (1-e^{krx})e^{(a-r)kx}\\\\\n",
        "\\end{split}\n",
        "\\end{equation}"
      ]
    },
    {
      "cell_type": "code",
      "execution_count": 1,
      "metadata": {},
      "outputs": [
        {
          "ename": "ArgumentError",
          "evalue": "ArgumentError: Package ENDF6 not found in current path:\n- Run `import Pkg; Pkg.add(\"ENDF6\")` to install the ENDF6 package.\n",
          "output_type": "error",
          "traceback": [
            "ArgumentError: Package ENDF6 not found in current path:\n",
            "- Run `import Pkg; Pkg.add(\"ENDF6\")` to install the ENDF6 package.\n",
            "\n",
            "\n",
            "Stacktrace:\n",
            "  [1] require(into::Module, mod::Symbol)\n",
            "    @ Base .\\loading.jl:967\n",
            "  [2] eval\n",
            "    @ .\\boot.jl:373 [inlined]\n",
            "  [3] include_string(mapexpr::typeof(REPL.softscope), mod::Module, code::String, filename::String)\n",
            "    @ Base .\\loading.jl:1196\n",
            "  [4] #invokelatest#2\n",
            "    @ .\\essentials.jl:716 [inlined]\n",
            "  [5] invokelatest\n",
            "    @ .\\essentials.jl:714 [inlined]\n",
            "  [6] (::VSCodeServer.var\"#198#199\"{VSCodeServer.NotebookRunCellArguments, String})()\n",
            "    @ VSCodeServer c:\\Users\\engin\\.vscode\\extensions\\julialang.language-julia-1.6.29\\scripts\\packages\\VSCodeServer\\src\\serve_notebook.jl:19\n",
            "  [7] withpath(f::VSCodeServer.var\"#198#199\"{VSCodeServer.NotebookRunCellArguments, String}, path::String)\n",
            "    @ VSCodeServer c:\\Users\\engin\\.vscode\\extensions\\julialang.language-julia-1.6.29\\scripts\\packages\\VSCodeServer\\src\\repl.jl:249\n",
            "  [8] notebook_runcell_request(conn::VSCodeServer.JSONRPC.JSONRPCEndpoint{Base.PipeEndpoint, Base.PipeEndpoint}, params::VSCodeServer.NotebookRunCellArguments)\n",
            "    @ VSCodeServer c:\\Users\\engin\\.vscode\\extensions\\julialang.language-julia-1.6.29\\scripts\\packages\\VSCodeServer\\src\\serve_notebook.jl:13\n",
            "  [9] dispatch_msg(x::VSCodeServer.JSONRPC.JSONRPCEndpoint{Base.PipeEndpoint, Base.PipeEndpoint}, dispatcher::VSCodeServer.JSONRPC.MsgDispatcher, msg::Dict{String, Any})\n",
            "    @ VSCodeServer.JSONRPC c:\\Users\\engin\\.vscode\\extensions\\julialang.language-julia-1.6.29\\scripts\\packages\\JSONRPC\\src\\typed.jl:67\n",
            " [10] serve_notebook(pipename::String, outputchannel_logger::Base.CoreLogging.SimpleLogger; crashreporting_pipename::String)\n",
            "    @ VSCodeServer c:\\Users\\engin\\.vscode\\extensions\\julialang.language-julia-1.6.29\\scripts\\packages\\VSCodeServer\\src\\serve_notebook.jl:139\n",
            " [11] top-level scope\n",
            "    @ c:\\Users\\engin\\.vscode\\extensions\\julialang.language-julia-1.6.29\\scripts\\notebook\\notebook.jl:32"
          ]
        }
      ],
      "source": [
        "import ENDF6\n",
        "import glob\n",
        "import plotly.express as px\n",
        "import numpy as np\n",
        "import pandas as pd\n",
        "gamma_path = \"C:\\\\Cross-Section-Data\\\\jendl5-g\"\n",
        "File_list = sorted(glob.glob(gamma_path + \"\\\\*.dat\"))\n",
        "densities_path = \"C:\\\\Users\\\\engin\\\\Documents\\\\GitHub\\\\Energy\\\\ImportedData\\\\Periodic Table of Elements.csv\"\n",
        "#open csv as dataframe\n",
        "densities_df = pd.read_csv(densities_path)\n",
        "def find_min_reaction_energy(file):\n",
        "    with open(file):\n",
        "        try:  \n",
        "            sec = ENDF6.find_section(open(file).readlines(), MF=3, MT=5)  # relevant cross section \n",
        "        except:\n",
        "            sec = ENDF6.find_section(open(file).readlines(), MF=3, MT=50)  # relevant cross section\n",
        "        x, y = ENDF6.read_table(sec)\n",
        "        element_name = file[37:39].replace(\"-\", \"\")\n",
        "        #get index of element\n",
        "        element_index = densities_df.index[densities_df[\"Symbol\"] == element_name][0]\n",
        "        #get density of element\n",
        "        density = 1000 * densities_df[\"Density\"][element_index] #kg/m^3\n",
        "        N_A = 6.02214086e23 #Avogadro's number\n",
        "        M = 2 #g/mol\n",
        "        k = -density * N_A / M\n",
        "        P = 1-np.exp(k * y * 10**-28 * 1000)\n",
        "        #average power of 10 of energy in eV per reaction\n",
        "        return np.log10(min(x/P))\n",
        "\n",
        "gamma_reaction_energy_dict = {}\n",
        "gamma_reaction_energy_dict[\"Isotope\"] = [file[37:-3].replace(\".\", \"\") for file in File_list]\n",
        "gamma_reaction_energy_dict[\"log base 10 of Minimum Energy in eV per Reaction\"] = [\n",
        "        find_min_reaction_energy(file) for file in File_list]\n",
        "gamma_reaction_energy_df = pd.DataFrame(gamma_reaction_energy_dict)\n",
        "print(\"minimum energy per reaction in dataset\", min(gamma_reaction_energy_df[\n",
        "    \"log base 10 of Minimum Energy in eV per Reaction\"].to_list()))\n",
        "px.scatter(gamma_reaction_energy_df, x = \"Isotope\", \n",
        "            y = \"log base 10 of Minimum Energy in eV per Reaction\")\n",
        "#px.scatter(x=x, y=y, labels = {'x':\"Photon energy [eV]\", 'y' : \"Cross-section [barn]\"},\n",
        "#log_x = True, log_y = True)"
      ]
    },
    {
      "cell_type": "markdown",
      "metadata": {},
      "source": [
        "Which isn't bad considering the energy per 228Ra nucleus > 10 $^{6.5428234}$\n",
        "How much energy does it actually take to produce 1 nucleus of 228Ra?"
      ]
    },
    {
      "cell_type": "code",
      "execution_count": 2,
      "metadata": {},
      "outputs": [
        {
          "ename": "ArgumentError",
          "evalue": "ArgumentError: Package zipfile not found in current path:\n- Run `import Pkg; Pkg.add(\"zipfile\")` to install the zipfile package.\n",
          "output_type": "error",
          "traceback": [
            "ArgumentError: Package zipfile not found in current path:\n",
            "- Run `import Pkg; Pkg.add(\"zipfile\")` to install the zipfile package.\n",
            "\n",
            "\n",
            "Stacktrace:\n",
            "  [1] require(into::Module, mod::Symbol)\n",
            "    @ Base .\\loading.jl:967\n",
            "  [2] eval\n",
            "    @ .\\boot.jl:373 [inlined]\n",
            "  [3] include_string(mapexpr::typeof(REPL.softscope), mod::Module, code::String, filename::String)\n",
            "    @ Base .\\loading.jl:1196\n",
            "  [4] #invokelatest#2\n",
            "    @ .\\essentials.jl:716 [inlined]\n",
            "  [5] invokelatest\n",
            "    @ .\\essentials.jl:714 [inlined]\n",
            "  [6] (::VSCodeServer.var\"#198#199\"{VSCodeServer.NotebookRunCellArguments, String})()\n",
            "    @ VSCodeServer c:\\Users\\engin\\.vscode\\extensions\\julialang.language-julia-1.6.29\\scripts\\packages\\VSCodeServer\\src\\serve_notebook.jl:19\n",
            "  [7] withpath(f::VSCodeServer.var\"#198#199\"{VSCodeServer.NotebookRunCellArguments, String}, path::String)\n",
            "    @ VSCodeServer c:\\Users\\engin\\.vscode\\extensions\\julialang.language-julia-1.6.29\\scripts\\packages\\VSCodeServer\\src\\repl.jl:249\n",
            "  [8] notebook_runcell_request(conn::VSCodeServer.JSONRPC.JSONRPCEndpoint{Base.PipeEndpoint, Base.PipeEndpoint}, params::VSCodeServer.NotebookRunCellArguments)\n",
            "    @ VSCodeServer c:\\Users\\engin\\.vscode\\extensions\\julialang.language-julia-1.6.29\\scripts\\packages\\VSCodeServer\\src\\serve_notebook.jl:13\n",
            "  [9] dispatch_msg(x::VSCodeServer.JSONRPC.JSONRPCEndpoint{Base.PipeEndpoint, Base.PipeEndpoint}, dispatcher::VSCodeServer.JSONRPC.MsgDispatcher, msg::Dict{String, Any})\n",
            "    @ VSCodeServer.JSONRPC c:\\Users\\engin\\.vscode\\extensions\\julialang.language-julia-1.6.29\\scripts\\packages\\JSONRPC\\src\\typed.jl:67\n",
            " [10] serve_notebook(pipename::String, outputchannel_logger::Base.CoreLogging.SimpleLogger; crashreporting_pipename::String)\n",
            "    @ VSCodeServer c:\\Users\\engin\\.vscode\\extensions\\julialang.language-julia-1.6.29\\scripts\\packages\\VSCodeServer\\src\\serve_notebook.jl:139\n",
            " [11] top-level scope\n",
            "    @ c:\\Users\\engin\\.vscode\\extensions\\julialang.language-julia-1.6.29\\scripts\\notebook\\notebook.jl:32"
          ]
        }
      ],
      "source": [
        "#Need to unzip files in multiple directories, so I'll do that here with Python \n",
        "import zipfile\n",
        "import os\n",
        "import glob\n",
        "def unzip(directory, file_name):\n",
        "    with zipfile.ZipFile(directory + file_name, 'r') as zip_ref:\n",
        "        zip_ref.extractall(directory)\n",
        "def list_subfolders_with_paths(path):\n",
        "    return [f.path for f in os.scandir(path) if f.is_dir()]\n",
        "def is_unzipped(zip_file, unzip_types = [\".dat\", \".endf\", \".endf6\" \".txt\"]):\n",
        "    return any([os.path.exists(zip_file[:-4] + unzip_type) for unzip_type in unzip_types])"
      ]
    },
    {
      "cell_type": "code",
      "execution_count": 3,
      "metadata": {},
      "outputs": [
        {
          "ename": "UndefVarError",
          "evalue": "UndefVarError: list_subfolders_with_paths not defined",
          "output_type": "error",
          "traceback": [
            "UndefVarError: list_subfolders_with_paths not defined\n",
            "\n",
            "Stacktrace:\n",
            " [1] top-level scope\n",
            "   @ c:\\Users\\engin\\Documents\\GitHub\\Energy\\Optimized_Radionuclide_Production.ipynb:1"
          ]
        }
      ],
      "source": [
        "subdirs_1 = list_subfolders_with_paths(\"C:\\\\Cross-Section-Data\\\\ENDF_Libraries\\\\\")\n",
        "subdirs_2 = list_subfolders_with_paths(\"C:\\\\Cross-Section-Data\\\\ENDF_Libraries-2\\\\\")\n",
        "#list all the zip files in subdirectories in two 1-d arrays.\n",
        "zip_files_1 = sum([glob.glob(subdir + \"\\\\**\\\\*.zip\") for subdir in subdirs_1], [])\n",
        "zip_files_2 =  sum([glob.glob(subdir + \"\\\\**\\\\*.zip\") for subdir in subdirs_2], [])\n",
        "#filter out the ones that are already unzipped\n",
        "zip_files_1 = [zip_file for zip_file in zip_files_1 if not is_unzipped(zip_file)]\n",
        "zip_files_2 = [zip_file for zip_file in zip_files_2 if not is_unzipped(zip_file)]"
      ]
    },
    {
      "cell_type": "code",
      "execution_count": 4,
      "metadata": {},
      "outputs": [
        {
          "ename": "ErrorException",
          "evalue": "syntax: line break in \":\" expression",
          "output_type": "error",
          "traceback": [
            "syntax: line break in \":\" expression\n",
            "\n",
            "Stacktrace:\n",
            " [1] top-level scope\n",
            "   @ c:\\Users\\engin\\Documents\\GitHub\\Energy\\Optimized_Radionuclide_Production.ipynb:2"
          ]
        }
      ],
      "source": [
        "for path in zip_files_1:\n",
        "    dir_end_index = path.rindex(\"\\\\\")+1\n",
        "    directory = path[:dir_end_index]\n",
        "    file_name = path[dir_end_index:]\n",
        "    unzip(directory, file_name)\n",
        "for path in zip_files_2:\n",
        "    dir_end_index = path.rindex(\"\\\\\")+1\n",
        "    directory = path[:dir_end_index]\n",
        "    file_name = path[dir_end_index:]\n",
        "    unzip(directory, file_name)\n"
      ]
    },
    {
      "cell_type": "code",
      "execution_count": 5,
      "metadata": {},
      "outputs": [
        {
          "ename": "UndefVarError",
          "evalue": "UndefVarError: zip_files_1 not defined",
          "output_type": "error",
          "traceback": [
            "UndefVarError: zip_files_1 not defined\n",
            "\n",
            "Stacktrace:\n",
            " [1] top-level scope\n",
            "   @ c:\\Users\\engin\\Documents\\GitHub\\Energy\\Optimized_Radionuclide_Production.ipynb:1"
          ]
        }
      ],
      "source": [
        "all(is_unzipped(zip_file) for zip_file in zip_files_1)"
      ]
    },
    {
      "cell_type": "code",
      "execution_count": 6,
      "metadata": {},
      "outputs": [
        {
          "ename": "UndefVarError",
          "evalue": "UndefVarError: zip_files_2 not defined",
          "output_type": "error",
          "traceback": [
            "UndefVarError: zip_files_2 not defined\n",
            "\n",
            "Stacktrace:\n",
            " [1] top-level scope\n",
            "   @ c:\\Users\\engin\\Documents\\GitHub\\Energy\\Optimized_Radionuclide_Production.ipynb:1"
          ]
        }
      ],
      "source": [
        "all(is_unzipped(zip_file) for zip_file in zip_files_2)"
      ]
    },
    {
      "cell_type": "markdown",
      "metadata": {},
      "source": [
        "#Switching to Julia\n",
        "I'll be dealing with a lot of data and computations so I'll use Julia instead of Python. "
      ]
    },
    {
      "cell_type": "code",
      "execution_count": 5,
      "metadata": {},
      "outputs": [
        {
          "name": "stderr",
          "output_type": "stream",
          "text": [
            "WARNING: using SymPy.intersection in module Main conflicts with an existing identifier.\n"
          ]
        },
        {
          "data": {
            "text/plain": [
              "3.678796251112702055560036812740509330698235054484455628233880381639802135001537e-07"
            ]
          },
          "metadata": {},
          "output_type": "display_data"
        }
      ],
      "source": [
        "using Unitful #https://painterqubits.github.io/Unitful.jl/stable/\n",
        "#quantity * @u_str(\"unit abbreviation\") \n",
        "using Symbolics #https://symbolics.juliasymbolics.org/dev/\n",
        "#cite https://doi.org/10.48550/arXiv.2105.03949\n",
        "using Latexify\n",
        "using Test\n",
        "#1 * @u_str(\"mA\") is 1 milliamp\n",
        "using CSV, DataFrames\n",
        "#using Plots\n",
        "using PlotlyJS\n",
        "using Printf\n",
        "using SymPy\n",
        "using PDFIO\n",
        "using Unzip\n",
        "#plotlyjs()\n",
        "data_dir = (\"C:\\\\Cross-Section-Data\\\\\")\n",
        "cross_section_dir = data_dir\n",
        "import_data_dir = \"C:\\\\Users\\\\engin\\\\Documents\\\\GitHub\\\\Energy\\\\ImportedData\"\n",
        "\n",
        "#https://docs.juliahub.com/SymPy/ \n",
        "P, N, x, Σ, σR, σT, ρ, M, A = symbols(\"P, N, x, Σ, σ_R, σ_T, ρ, M, A\", positive = true, real = true)\n",
        "N = ρ * A/ M\n",
        "Σ = N * σR  \n",
        "#case without competing reactions\n",
        "P = integrate(Σ*exp(-Σ*x), (x, 0, x))\n",
        "\n",
        "#julia implementation of the case with competing reactions\n",
        "P_max(t,a) = (t/a)^(a/(BigFloat(a)-BigFloat(t))) - (t/a)^(t/(BigFloat(a)-BigFloat(t)))\n",
        "x_max(t,a,k) = (log(t/a))/(k*(BigFloat(a)-BigFloat(t)))\n",
        "t = BigFloat(10)^-28\n",
        "n = 6\n",
        "a = t * (10^n - 1)/(10^n)\n",
        "k = -BigFloat(10)^24\n",
        "x_max(t,a,k)\n",
        "P_max(t, a)"
      ]
    },
    {
      "cell_type": "markdown",
      "metadata": {},
      "source": [
        "Here we define a dictionary that matches each value of MT in an ENDF6-formatted data to a particular reaction. \n",
        "\n",
        "We then will also loop through all of the subdirectories in a directory, then unzip all of the compressed files to that directory that don't already have an unzipped counterpart in that directory.\n",
        "\n",
        "In this notation $(z, 2nd)$ refers to a reaction where some matter strikes a target and produces 2 neutrons, a deuteron, and a residual.\n",
        "\n",
        "Furthermore, \"(z, n ^3He)\" refers the production of a neutron, a Helium-nucleus, and a residual. \n",
        "\n",
        "Subscripts refer to the energy state.\n",
        "\n",
        "(z, $\\gamma$) refers to radiative capture\n",
        "The below code assumes that the complete reaction is in the same line as the MT number. "
      ]
    },
    {
      "cell_type": "markdown",
      "metadata": {},
      "source": [
        "Luckily the only time a subscript could be confused with a coefficient is the case of $^3$ He but from just reading the original PDF, it is clear that He never has a coefficient other than 1, and that seeing \"3 He\" in the text file always refers to a helium-3 nucleus. "
      ]
    },
    {
      "cell_type": "markdown",
      "metadata": {},
      "source": [
        "The function matches_pattern returns whether or not a given section of the txt file defines an MT value and the number of digits in the MT value. Conveniently, a subscript is never followed by a character and is always after the nucleus it describes the energy level of."
      ]
    },
    {
      "cell_type": "code",
      "execution_count": 6,
      "metadata": {},
      "outputs": [
        {
          "name": "stdout",
          "output_type": "stream",
          "text": [
            "02(z,z0)\n",
            "4(z,n)\n",
            "10(z,contin.)\n",
            "11(z,2nd)\n",
            "16(z,2n)\n",
            "17(z,3n)\n",
            "19(n,f)\n",
            "20(n,nf)\n",
            "21(n,2nf)\n",
            "22(z,nα)\n",
            "23(n,n3α)\n",
            "24(z,2nα)\n",
            "25(z,3nα)\n",
            "27(n,abs)\n",
            "28(z,np)\n",
            "29(z,n2α)\n",
            "30(z,2n2α)\n",
            "32(z,nd)\n",
            "33(z,nt)\n",
            "34(z,n3He)\n",
            "35(z,nd2α)\n",
            "36(z,nt2α)\n",
            "37(z,4n)\n",
            "38(n,3nf)\n",
            "41(z,2np)\n",
            "42(z,3np)\n",
            "44(z,n2p)\n",
            "45(z,npα)\n",
            "50(y,n0)\n",
            "51(z,n1)\n",
            "52(z,n2)\n",
            "90(z,n40)\n",
            "91(z,nc)\n",
            "102(z,γ)\n",
            "103(z,p)\n",
            "104(z,d)\n",
            "105(z,t)\n",
            "106(z,3He)\n",
            "107(z,α)\n",
            "108(z,2α)\n",
            "109(z,3α)\n",
            "111(z,2p)\n",
            "112(z,pα)\n",
            "113(z,t2α)\n",
            "114(z,d2α)\n",
            "115(z,pd)\n",
            "116(z,pt)\n",
            "117(z,dα)\n",
            "151(n,RES)\n",
            "152(z,5n)\n",
            "202(z,Xγ)\n",
            "203(z,Xp)\n",
            "204(z,Xd)\n",
            "205(z,Xt)\n",
            "206(z,X3He)\n",
            "207(z,Xα)\n",
            "208(z,Xπ+)\n",
            "209(z,Xπ0)\n",
            "210(z,Xπ−)\n",
            "211(z,Xμ+)\n",
            "212(z,Xμ−)\n",
            "213(z,Xκ+)\n",
            "214(z,Xκ0 long )\n",
            "215(z,Xκ0 short)\n",
            "216(z,Xκ−)\n",
            "217(z,Xp−)\n",
            "218(z,Xn−)\n",
            "251(n,...)\n",
            "252(n,...)\n",
            "253(n,...)\n",
            "450(z,...)\n",
            "451(z,...)\n",
            "452(z,...)\n",
            "454(z,...)\n",
            "455(z,...)\n",
            "456(z,...)\n",
            "457(z,...)\n",
            "458(n,...)\n",
            "459(z,...)\n",
            "460(z,...)\n",
            "600(z,p0)\n",
            "601(z,p1)\n",
            "602(z,p2)\n",
            "603(z,p3)\n",
            "604(z,p4)\n",
            "649(z,pc)\n",
            "650(z,d0)\n",
            "651(z,d1)\n",
            "652(z,d2)\n",
            "699(z,dc)\n",
            "700(z,t0)\n",
            "701(z,t1)\n",
            "702(z,t2)\n",
            "749(z,tc)\n",
            "750(n,3He0)\n",
            "751(n,3He1)\n",
            "799(n,3Hec)\n",
            "800(z,α0)\n",
            "801(z,α1)\n",
            "849(z,αc)\n",
            "875(z,2n0)\n",
            "876(z,2n1)\n",
            "891(z,2nc)\n"
          ]
        },
        {
          "data": {
            "text/plain": [
              "\"C:\\\\Users\\\\engin\\\\Documents\\\\GitHub\\\\Energy\\\\mt_details.csv\""
            ]
          },
          "metadata": {},
          "output_type": "display_data"
        }
      ],
      "source": [
        "# import text file as string with Julia\n",
        "mt_path = \"C:\\\\Users\\\\engin\\\\Documents\\\\GitHub\\\\Energy\\\\ImportedData\\\\mt.txt\"\n",
        "function matches_pattern(long_string, index = 1)\n",
        "    if isdigit(long_string[index]) && occursin(\",\", long_string)\n",
        "        if  isdigit(long_string[index+1])\n",
        "            if isdigit(long_string[index+2])\n",
        "                #3 digit number\n",
        "                return (long_string[index+3:index+4] == \" (\", 3)  \n",
        "            elseif long_string[index+2] == ' ' \n",
        "                #two digit number \n",
        "                return (long_string[index+3] == '(', 2)\n",
        "            end\n",
        "        elseif long_string[index+1] == ' ' \n",
        "            #one digit number \n",
        "            return (long_string[index+2] == '(', 1)\n",
        "        end\n",
        "    end\n",
        "    return (false, 0)\n",
        "end\n",
        "function define_MTs(mt_path)\n",
        "    open(mt_path) do file\n",
        "        mt_reactions, mt_details = Dict([]), Dict([])\n",
        "        long_string = read(mt_path, String)\n",
        "        index = 0\n",
        "        print(index)\n",
        "        while true\n",
        "            index += 1\n",
        "            if (index > length(long_string) - 12)\n",
        "                return mt_reactions, mt_details\n",
        "            end\n",
        "            is_MT, MT_length = matches_pattern(long_string[index:index+6])\n",
        "            if is_MT\n",
        "                try\n",
        "                    MT = parse(Int64, long_string[index:index+MT_length])\n",
        "                    reaction_end = collect(findfirst(\")\", long_string[index:end]))[1] + index\n",
        "                    reaction = strip(long_string[index+MT_length+1: reaction_end])\n",
        "                    if !(reaction == \"(Unassigned)\")\n",
        "                        println(MT, reaction)\n",
        "                        mt_reactions[MT] = reaction\n",
        "                        #now to get the details\n",
        "                        details_end = collect(findfirst(\".\\r\", long_string[reaction_end+1:end]))[1] \n",
        "                        details_end += reaction_end + 1\n",
        "                        details = strip(long_string[reaction_end+1: details_end])\n",
        "                    details = replace(details, \"\\r\" => \" \" )\n",
        "                        details = replace(details, \"\\n\" => \"\" )\n",
        "                        mt_details[MT] = details\n",
        "                        index = details_end\n",
        "                    else\n",
        "                        index = reaction_end                     \n",
        "                    end\n",
        "                catch\n",
        "                    println(index)\n",
        "                end\n",
        "            end\n",
        "        end \n",
        "    end\n",
        "end\n",
        "mt_reactions, mt_details = define_MTs(mt_path)\n",
        "CSV.write(\"C:\\\\Users\\\\engin\\\\Documents\\\\GitHub\\\\Energy\\\\mt_reactions.csv\", mt_reactions)\n",
        "CSV.write(\"C:\\\\Users\\\\engin\\\\Documents\\\\GitHub\\\\Energy\\\\mt_details.csv\", mt_details)"
      ]
    },
    {
      "cell_type": "markdown",
      "metadata": {},
      "source": [
        "Now to filter the reactions for those that are sufficiently explicit.\n",
        "I use the convention where all nuclei are represented in the form (z,a) and \n",
        "\n",
        "reaction + target = product"
      ]
    },
    {
      "cell_type": "code",
      "execution_count": 7,
      "metadata": {},
      "outputs": [
        {
          "data": {
            "text/plain": [
              "interpret_reaction (generic function with 1 method)"
            ]
          },
          "metadata": {},
          "output_type": "display_data"
        }
      ],
      "source": [
        "MTs = [key for key in keys(mt_reactions)]\n",
        "reactions = [value for value in values(mt_reactions)]\n",
        "symbol_dict = Dict([\n",
        "            (\"n\", (0, 1)),\n",
        "            (\"t\", (1, 3)), #2 neutrons, 1 proton\n",
        "            (\"d\", (1, 2)),\n",
        "            (\"p\", (1, 1)),\n",
        "            (\"α\", (2, 4)),\n",
        "            (\"γ\", (0, 0)),\n",
        "            (\"3 He\", (2, 3)),\n",
        "            ('c', (0,0)) #reverse to continuum emission\n",
        "        ])\n",
        "reaction_symbols = [key for key in keys(symbol_dict)]\n",
        "\n",
        "function find_difference(term, projectile = (0,0))\n",
        "    #e.g. term = \"n\"\n",
        "    difference = (0, 0) #(Z, A)\n",
        "    if occursin(\"z\", term)\n",
        "        difference = (projectile[1], projectile[2])\n",
        "    end\n",
        "    #now to search for instance of any of the keys in term\n",
        "    for key in reaction_symbols\n",
        "        if occursin(key, term)\n",
        "            sub_difference = (0, 0)\n",
        "            key_index = collect(findfirst(key, term))[1]\n",
        "            sub_difference = symbol_dict[key]\n",
        "            #check for coefficient\n",
        "            if key_index > 1 && isdigit(term[key_index-1])\n",
        "                coefficient = parse(Int64, term[key_index-1])\n",
        "                sub_difference = (sub_difference[1] * coefficient, \n",
        "                    sub_difference[2] * coefficient)\n",
        "            end\n",
        "            difference = (difference[1] + sub_difference[1], difference[2] + sub_difference[2])\n",
        "        end\n",
        "    end\n",
        "    return difference     \n",
        "end\n",
        "  \n",
        "#each nucleus is represented by a tuple of (Z, A)\n",
        "function interpret_reaction(reaction, projectile)\n",
        "    comma_index = collect(findfirst(\",\", reaction))[1]\n",
        "    reaction = collect(reaction)\n",
        "    added = reaction[2:comma_index-1]\n",
        "    ejected = reaction[comma_index+1:length(reaction)-1]\n",
        "    #the valid option are n, t, d, p, α, γ, He\n",
        "    # a number followed by a letter is a coefficient\n",
        "    # a letter followed by a number is an energy level.\n",
        "    # a letter followed by c means continuum emission of that particle\n",
        "    #each value will be added or subtracted from the target\n",
        "    added_difference = find_difference(String(added), projectile) \n",
        "    ejected_difference = find_difference(String(ejected))\n",
        "    reaction = (added_difference[1] - ejected_difference[1], \n",
        "                added_difference[2] - ejected_difference[2])\n",
        "    return reaction\n",
        "end"
      ]
    },
    {
      "cell_type": "markdown",
      "metadata": {},
      "source": [
        "The function below returns a dictionary where the keys are a tuple of the form (ΔZ,ΔA) and the values are MT numbers that correspond to such a reaction. The projectiles are an important input to specify, as many of the reactions involve fusion of at least part of the projectile (if its baryonic) and the target. "
      ]
    },
    {
      "cell_type": "code",
      "execution_count": 8,
      "metadata": {},
      "outputs": [
        {
          "name": "stdout",
          "output_type": "stream",
          "text": [
            "849\n",
            "849\n",
            "849\n",
            "849\n",
            "849\n",
            "849\n",
            "849\n"
          ]
        },
        {
          "data": {
            "text/plain": [
              "Dict{Any, Any} with 26 entries:\n",
              "  (-4, -9)  => [109]\n",
              "  (1, 2)    => [603, 203, 103, 217, 600, 649, 601, 604, 602]\n",
              "  (0, -3)   => [24]\n",
              "  (2, -1)   => [37]\n",
              "  (-1, -3)  => [117, 45]\n",
              "  (-2, -6)  => [29]\n",
              "  (-3, -9)  => [36]\n",
              "  (0, -2)   => [38, 22]\n",
              "  (2, 0)    => [17]\n",
              "  (-1, -2)  => [112]\n",
              "  (2, 1)    => [875, 16, 891, 876]\n",
              "  (-6, -12) => [23]\n",
              "  (-3, -7)  => [114]\n",
              "  (1, -1)   => [11, 10, 42, 33]\n",
              "  (0, -1)   => [207, 801, 50, 116, 107, 21, 800]\n",
              "  (2, 2)    => [90, 4, 91, 218, 52, 34, 214, 51]\n",
              "  (-3, -8)  => [35, 113]\n",
              "  (1, 0)    => [700, 32, 215, 205, 41, 702, 749, 105, 701]\n",
              "  (2, 3)    => [210, 457, 460, 456, 451, 216, 208, 2, 211, 202  …  213, 450, 10…\n",
              "  ⋮         => ⋮"
            ]
          },
          "metadata": {},
          "output_type": "display_data"
        }
      ],
      "source": [
        "function find_corresponding_MTs(projectile)    \n",
        "    interpreted_MTs = Dict([])\n",
        "    for MT in MTs\n",
        "        try\n",
        "            interpreted_MTs[MT] = interpret_reaction(mt_reactions[MT], projectile)\n",
        "        catch\n",
        "            println(MT)\n",
        "        end\n",
        "    end\n",
        "    #details = [value for value in values(mt_details)]\n",
        "    #will write test cases later\n",
        "    interpretations = [value for value in values(interpreted_MTs)]\n",
        "    #there are many reactions that yield the same nucleus. \n",
        "    possible_changes_in_nucleus = unique(interpretations)\n",
        "    corresponding_MTs = Dict([])\n",
        "    for change in possible_changes_in_nucleus\n",
        "        corresponding_MTs[change] = [key for key in keys(interpreted_MTs) \n",
        "                                if interpreted_MTs[key] == change]\n",
        "    end\n",
        "    return corresponding_MTs\n",
        "end\n",
        "\n",
        "projectile_dict = Dict([\"electron\" => (0,0), \"neutron\"  => (0,1), \n",
        "    \"proton\" => (1,1), \"deuteron\" => (1,2), \"tritium\" => (1,3), \n",
        "    \"alpha\" => (2,2), \"gamma\" => (0,0), \"3He\"  => (2,3)])\n",
        "\n",
        "gamma_MTs = find_corresponding_MTs(projectile_dict[\"gamma\"])\n",
        "proton_MTs = find_corresponding_MTs(projectile_dict[\"proton\"])\n",
        "alpha_MTs = find_corresponding_MTs(projectile_dict[\"alpha\"])\n",
        "tritium_MTs = find_corresponding_MTs(projectile_dict[\"tritium\"])\n",
        "neutron_MTs = find_corresponding_MTs(projectile_dict[\"neutron\"])\n",
        "deuteron_MTs = find_corresponding_MTs(projectile_dict[\"deuteron\"])\n",
        "helium3_MTs = find_corresponding_MTs(projectile_dict[\"3He\"])\n",
        "#unsure how to represent a positron. It it (-1,-1) ? "
      ]
    },
    {
      "cell_type": "markdown",
      "metadata": {},
      "source": [
        "Now to use each dictionary of the MTs and nuclear reactions to find the set of target nuclei and corresponding projectiles. The next step is to find the relative abundances (and cost?) of each target nucleus, and then to loop through the nuclear cross section data. By finding the cross section as a function of energy for each target and projectile, then substituting each cross section into the formula for probability of reaction and dividing it by the energy of the projectile (including the energy to manufacture it), and comparing it to the molar energy density of the product this will give the energy efficiency of radioisotope energy storage.\n",
        "\n",
        "nested_projectile_dict is a nested dictionary, where each key is the name of a projectile and each value is a dictionary which has keys consisting of the possible $(ΔZ,ΔA)$ of the target in nuclear reactions corresponding to MTs defined for ENDF6-formatted nuclear data."
      ]
    },
    {
      "cell_type": "code",
      "execution_count": 9,
      "metadata": {},
      "outputs": [
        {
          "data": {
            "text/plain": [
              "7-element Vector{String}:\n",
              " \"deuteron\"\n",
              " \"proton\"\n",
              " \"alpha\"\n",
              " \"gamma\"\n",
              " \"neutron\"\n",
              " \"tritium\"\n",
              " \"3He\""
            ]
          },
          "metadata": {},
          "output_type": "display_data"
        }
      ],
      "source": [
        "nested_projectile_dict = Dict([\"gamma\" => gamma_MTs, \n",
        "            \"proton\" => proton_MTs, \"alpha\" => alpha_MTs,\n",
        "            \"tritium\" => tritium_MTs, \"neutron\" => neutron_MTs,\n",
        "            \"deuteron\" => deuteron_MTs, \"3He\" => helium3_MTs])\n",
        "projectiles = [key for key in keys(nested_projectile_dict)]"
      ]
    },
    {
      "cell_type": "code",
      "execution_count": 10,
      "metadata": {},
      "outputs": [
        {
          "data": {
            "text/plain": [
              "3192-element Vector{Tuple{Int64, Int64}}:\n",
              " (82, 218)\n",
              " (81, 215)\n",
              " (81, 216)\n",
              " (83, 219)\n",
              " (80, 214)\n",
              " (80, 211)\n",
              " (81, 214)\n",
              " (80, 213)\n",
              " (84, 220)\n",
              " (83, 220)\n",
              " ⋮\n",
              " (88, 202)\n",
              " (20, 58)\n",
              " (89, 218)\n",
              " (108, 266)\n",
              " (45, 88)\n",
              " (87, 215)\n",
              " (28, 49)\n",
              " (86, 217)\n",
              " (80, 173)"
            ]
          },
          "metadata": {},
          "output_type": "display_data"
        }
      ],
      "source": [
        "products_path = \"C:\\\\Users\\\\engin\\\\Downloads\\\\SortedPowerDensities.csv\"\n",
        "power_densities = CSV.read(products_path, DataFrame) \n",
        "products = power_densities[!, :2] #the isotope names are the second column\n",
        "#now to write each isotope in the (Z, A) format\n",
        "\n",
        "#list of the element symbols from the periodic table up to 118\n",
        "element_symbols = [\"H\", \"He\", \"Li\", \"Be\", \"B\", \"C\", \"N\", \"O\", \"F\", \"Ne\", \n",
        "\"Na\", \"Mg\", \"Al\", \"Si\", \"P\", \"S\", \"Cl\", \"Ar\", \"K\", \"Ca\", \"Sc\", \"Ti\", \"V\", \n",
        "\"Cr\", \"Mn\", \"Fe\", \"Co\", \"Ni\", \"Cu\", \"Zn\", \"Ga\", \"Ge\", \"As\", \"Se\", \"Br\", \n",
        "\"Kr\", \"Rb\", \"Sr\", \"Y\", \"Zr\", \"Nb\", \"Mo\", \"Tc\", \"Ru\", \"Rh\", \"Pd\", \"Ag\", \n",
        "\"Cd\", \"In\", \"Sn\", \"Sb\", \"Te\", \"I\", \"Xe\", \"Cs\", \"Ba\", \"La\", \"Ce\", \"Pr\", \n",
        "\"Nd\", \"Pm\", \"Sm\", \"Eu\", \"Gd\", \"Tb\", \"Dy\", \"Ho\", \"Er\", \"Tm\", \"Yb\", \"Lu\", \n",
        "\"Hf\", \"Ta\", \"W\", \"Re\", \"Os\", \"Ir\", \"Pt\", \"Au\", \"Hg\", \"Tl\", \"Pb\", \"Bi\", \n",
        "\"Po\", \"At\", \"Rn\", \"Fr\", \"Ra\", \"Ac\", \"Th\", \"Pa\", \"U\", \"Np\", \"Pu\", \"Am\", \n",
        "\"Cm\", \"Bk\", \"Cf\", \"Es\", \"Fm\", \"Md\", \"No\", \"Lr\", \"Rf\", \"Db\", \"Sg\", \"Bh\", \n",
        "\"Hs\", \"Mt\", \"Ds\", \"Rg\", \"Cn\", \"Nh\", \"Fl\", \"Mc\", \"Lv\", \"Ts\", \"Og\"]\n",
        "\n",
        "function write_in_z_a_format(isotope)\n",
        "    char_array = collect(isotope)\n",
        "    index = 1\n",
        "    try\n",
        "        while isdigit(char_array[index])\n",
        "            index += 1\n",
        "        end\n",
        "        index -= 1\n",
        "        a = parse(Int64, join(char_array[1:index]))\n",
        "        z_as_string = join(char_array[index+1:end])\n",
        "        if z_as_string == \"n\"\n",
        "            z = 0\n",
        "        else\n",
        "            z = findfirst(x->x == z_as_string, element_symbols)\n",
        "        end\n",
        "        return (z, a)\n",
        "    catch \n",
        "        error_message = \"Error in isotope \" * isotope\n",
        "        println(error_message)\n",
        "        return error_message\n",
        "    end \n",
        "end\n",
        "    #isotope is a string\n",
        "z_a_products = [write_in_z_a_format(product) for product in products]"
      ]
    },
    {
      "cell_type": "markdown",
      "metadata": {},
      "source": [
        "Now to import all naturally occuring isotopic abundances to evaluate whether or not a potential target is naturally occuring or would need to be produced. "
      ]
    },
    {
      "cell_type": "code",
      "execution_count": 11,
      "metadata": {},
      "outputs": [
        {
          "data": {
            "text/plain": [
              "Dict{Any, Any} with 3352 entries:\n",
              "  (92, 232)  => 0\n",
              "  (26, 53)   => 0\n",
              "  (30, 68)   => 0.1845\n",
              "  (36, 73)   => 0\n",
              "  (75, 163)  => 0\n",
              "  (80, 183)  => 0\n",
              "  (66, 145)  => 0\n",
              "  (58, 152)  => 0\n",
              "  (85, 193)  => 0\n",
              "  (10, 32)   => 0\n",
              "  (70, 167)  => 0\n",
              "  (41, 85)   => 0\n",
              "  (73, 179)  => 0\n",
              "  (102, 252) => 0\n",
              "  (58, 134)  => 0\n",
              "  (29, 73)   => 0\n",
              "  (96, 237)  => 0\n",
              "  (86, 231)  => 0\n",
              "  (32, 62)   => 0\n",
              "  ⋮          => ⋮"
            ]
          },
          "metadata": {},
          "output_type": "display_data"
        }
      ],
      "source": [
        "file_path = \"C:\\\\Users\\\\engin\\\\Documents\\\\GitHub\\\\Energy\\\\ImportedData\\\\IsotopicAbundances.txt\"\n",
        "file_as_array = split(open(f->read(f, String), file_path), \"\\n\")\n",
        "file_as_array\n",
        "#I want to make a dictionary where they keys are the isotope and the values are the abundance\n",
        "file_as_array[17:24]\n",
        "isotope_abundances = Dict()\n",
        "function add_to_dict(start_index)\n",
        "    try\n",
        "        atomic_number = parse(Int64, file_as_array[start_index][17:end-1])\n",
        "        mass_number = parse(Int64, file_as_array[start_index+2][14:end-1])\n",
        "        #if the abundance is 0, the isotope is not naturally occuring\n",
        "        abundance = file_as_array[start_index+4][23:end-1]\n",
        "        if occursin(\"(\", abundance)\n",
        "            abundance = split(abundance, \"(\")[1]\n",
        "        end\n",
        "        abundance = tryparse(Float64, abundance)\n",
        "        if abundance == nothing\n",
        "            isotope_abundances[(atomic_number, mass_number)] = 0\n",
        "        else    \n",
        "            isotope_abundances[(atomic_number, mass_number)] = abundance\n",
        "        end\n",
        "    catch\n",
        "        print(\"Error in line \", start_index)\n",
        "        return\n",
        "    end\n",
        "end\n",
        "for start_index in 1:8:length(file_as_array)-1\n",
        "    add_to_dict(start_index)\n",
        "end\n",
        "#works :) \n",
        "isotope_abundances"
      ]
    },
    {
      "cell_type": "markdown",
      "metadata": {},
      "source": [
        "Now that I have the desired products, radiosiotopes that may be used in electric batteries, I can find the potential targets to produce them based on the cross section data from https://www-nds.iaea.org/.\n",
        "\n",
        "The cell below makes a nested dictionary named projectile_product_dict where they keys are the different projectiles for which I have downloaded data. In turn, each value is another dictionary where the keys are the different products and each value consists of two vector of tuples, each of the corresponding targets and reactions.\n",
        "\n",
        "It is important to note that this dictionary only includes 1 step reactions.\n",
        "\n",
        "The final product will be a table of energy efficiencies, products, projectiles, targets, and reactions."
      ]
    },
    {
      "cell_type": "code",
      "execution_count": 12,
      "metadata": {},
      "outputs": [
        {
          "data": {
            "text/plain": [
              "Dict{Any, Any} with 7 entries:\n",
              "  \"deuteron\" => Dict{Any, Any}(\"243Cf\"=>Dict{Any, Any}(\"(A,Z)\"=>(98, 243)), \"11…\n",
              "  \"proton\"   => Dict{Any, Any}(\"243Cf\"=>Dict{Any, Any}(\"(A,Z)\"=>(98, 243)), \"11…\n",
              "  \"alpha\"    => Dict{Any, Any}(\"243Cf\"=>Dict{Any, Any}(\"(A,Z)\"=>(98, 243)), \"11…\n",
              "  \"gamma\"    => Dict{Any, Any}(\"243Cf\"=>Dict{Any, Any}(\"(A,Z)\"=>(98, 243)), \"11…\n",
              "  \"neutron\"  => Dict{Any, Any}(\"243Cf\"=>Dict{Any, Any}(\"(A,Z)\"=>(98, 243)), \"11…\n",
              "  \"tritium\"  => Dict{Any, Any}(\"243Cf\"=>Dict{Any, Any}(\"(A,Z)\"=>(98, 243)), \"11…\n",
              "  \"3He\"      => Dict{Any, Any}(\"243Cf\"=>Dict{Any, Any}(\"(A,Z)\"=>(98, 243)), \"11…"
            ]
          },
          "metadata": {},
          "output_type": "display_data"
        }
      ],
      "source": [
        "projectile_product_dict = Dict([])\n",
        "for projectile in projectiles\n",
        "    projectile_product_dict[projectile] = Dict([])\n",
        "    projectile_MTs = nested_projectile_dict[projectile]\n",
        "    for product_enum in enumerate(products)\n",
        "        product_index, product_string = product_enum\n",
        "        product = write_in_z_a_format(product_string)\n",
        "        projectile_product_dict[projectile][product_string] = Dict([])\n",
        "        projectile_product_dict[projectile][product_string][\"(A,Z)\"] = product\n",
        "        reactions = [reaction for reaction in keys(nested_projectile_dict[projectile])]\n",
        "        for reaction in reactions\n",
        "            target = (product[1] - reaction[1], product[2] - reaction[2])\n",
        "            try\n",
        "                if isotope_abundances[target] > 0\n",
        "                    #need target, abundance, and MTs for each reaction\n",
        "                    projectile_product_dict[projectile][product_string][target] = Dict([])\n",
        "                    projectile_product_dict[projectile][product_string][target][\"MT\"] = (\n",
        "                        projectile_MTs[reaction])\n",
        "                    projectile_product_dict[projectile][product_string][target][\"abundance\"] = (\n",
        "                        isotope_abundances[target])\n",
        "                end\n",
        "            catch\n",
        "                continue #the target isn't even in the isotope_abundances dict\n",
        "            end\n",
        "        end\n",
        "    end\n",
        "end\n",
        "projectile_product_dict #note that is only including 1 step reactions"
      ]
    },
    {
      "cell_type": "markdown",
      "metadata": {},
      "source": [
        "Now to import the average densities of each element, which we can then use to find the density of each target. Note that isotopic differences should be taken into consideration.\n",
        "\n",
        "Source: https://gist.github.com/GoodmanSciences/c2dd862cd38f21b0ad36b8f96b4bf1ee"
      ]
    },
    {
      "cell_type": "code",
      "execution_count": 13,
      "metadata": {},
      "outputs": [
        {
          "data": {
            "text/html": [
              "<div class=\"data-frame\"><p>118 rows × 28 columns (omitted printing of 22 columns)</p><table class=\"data-frame\"><thead><tr><th></th><th>AtomicNumber</th><th>Element</th><th>Symbol</th><th>AtomicMass</th><th>NumberofNeutrons</th><th>NumberofProtons</th></tr><tr><th></th><th title=\"Int64\">Int64</th><th title=\"String15\">String15</th><th title=\"String3\">String3</th><th title=\"Float64\">Float64</th><th title=\"Int64\">Int64</th><th title=\"Int64\">Int64</th></tr></thead><tbody><tr><th>1</th><td>1</td><td>Hydrogen</td><td>H</td><td>1.007</td><td>0</td><td>1</td></tr><tr><th>2</th><td>2</td><td>Helium</td><td>He</td><td>4.002</td><td>2</td><td>2</td></tr><tr><th>3</th><td>3</td><td>Lithium</td><td>Li</td><td>6.941</td><td>4</td><td>3</td></tr><tr><th>4</th><td>4</td><td>Beryllium</td><td>Be</td><td>9.012</td><td>5</td><td>4</td></tr><tr><th>5</th><td>5</td><td>Boron</td><td>B</td><td>10.811</td><td>6</td><td>5</td></tr><tr><th>6</th><td>6</td><td>Carbon</td><td>C</td><td>12.011</td><td>6</td><td>6</td></tr><tr><th>7</th><td>7</td><td>Nitrogen</td><td>N</td><td>14.007</td><td>7</td><td>7</td></tr><tr><th>8</th><td>8</td><td>Oxygen</td><td>O</td><td>15.999</td><td>8</td><td>8</td></tr><tr><th>9</th><td>9</td><td>Fluorine</td><td>F</td><td>18.998</td><td>10</td><td>9</td></tr><tr><th>10</th><td>10</td><td>Neon</td><td>Ne</td><td>20.18</td><td>10</td><td>10</td></tr><tr><th>11</th><td>11</td><td>Sodium</td><td>Na</td><td>22.99</td><td>12</td><td>11</td></tr><tr><th>12</th><td>12</td><td>Magnesium</td><td>Mg</td><td>24.305</td><td>12</td><td>12</td></tr><tr><th>13</th><td>13</td><td>Aluminum</td><td>Al</td><td>26.982</td><td>14</td><td>13</td></tr><tr><th>14</th><td>14</td><td>Silicon</td><td>Si</td><td>28.086</td><td>14</td><td>14</td></tr><tr><th>15</th><td>15</td><td>Phosphorus</td><td>P</td><td>30.974</td><td>16</td><td>15</td></tr><tr><th>16</th><td>16</td><td>Sulfur</td><td>S</td><td>32.065</td><td>16</td><td>16</td></tr><tr><th>17</th><td>17</td><td>Chlorine</td><td>Cl</td><td>35.453</td><td>18</td><td>17</td></tr><tr><th>18</th><td>18</td><td>Argon</td><td>Ar</td><td>39.948</td><td>22</td><td>18</td></tr><tr><th>19</th><td>19</td><td>Potassium</td><td>K</td><td>39.098</td><td>20</td><td>19</td></tr><tr><th>20</th><td>20</td><td>Calcium</td><td>Ca</td><td>40.078</td><td>20</td><td>20</td></tr><tr><th>21</th><td>21</td><td>Scandium</td><td>Sc</td><td>44.956</td><td>24</td><td>21</td></tr><tr><th>22</th><td>22</td><td>Titanium</td><td>Ti</td><td>47.867</td><td>26</td><td>22</td></tr><tr><th>23</th><td>23</td><td>Vanadium</td><td>V</td><td>50.942</td><td>28</td><td>23</td></tr><tr><th>24</th><td>24</td><td>Chromium</td><td>Cr</td><td>51.996</td><td>28</td><td>24</td></tr><tr><th>&vellip;</th><td>&vellip;</td><td>&vellip;</td><td>&vellip;</td><td>&vellip;</td><td>&vellip;</td><td>&vellip;</td></tr></tbody></table></div>"
            ],
            "text/latex": [
              "\\begin{tabular}{r|ccccccc}\n",
              "\t& AtomicNumber & Element & Symbol & AtomicMass & NumberofNeutrons & NumberofProtons & \\\\\n",
              "\t\\hline\n",
              "\t& Int64 & String15 & String3 & Float64 & Int64 & Int64 & \\\\\n",
              "\t\\hline\n",
              "\t1 & 1 & Hydrogen & H & 1.007 & 0 & 1 & $\\dots$ \\\\\n",
              "\t2 & 2 & Helium & He & 4.002 & 2 & 2 & $\\dots$ \\\\\n",
              "\t3 & 3 & Lithium & Li & 6.941 & 4 & 3 & $\\dots$ \\\\\n",
              "\t4 & 4 & Beryllium & Be & 9.012 & 5 & 4 & $\\dots$ \\\\\n",
              "\t5 & 5 & Boron & B & 10.811 & 6 & 5 & $\\dots$ \\\\\n",
              "\t6 & 6 & Carbon & C & 12.011 & 6 & 6 & $\\dots$ \\\\\n",
              "\t7 & 7 & Nitrogen & N & 14.007 & 7 & 7 & $\\dots$ \\\\\n",
              "\t8 & 8 & Oxygen & O & 15.999 & 8 & 8 & $\\dots$ \\\\\n",
              "\t9 & 9 & Fluorine & F & 18.998 & 10 & 9 & $\\dots$ \\\\\n",
              "\t10 & 10 & Neon & Ne & 20.18 & 10 & 10 & $\\dots$ \\\\\n",
              "\t11 & 11 & Sodium & Na & 22.99 & 12 & 11 & $\\dots$ \\\\\n",
              "\t12 & 12 & Magnesium & Mg & 24.305 & 12 & 12 & $\\dots$ \\\\\n",
              "\t13 & 13 & Aluminum & Al & 26.982 & 14 & 13 & $\\dots$ \\\\\n",
              "\t14 & 14 & Silicon & Si & 28.086 & 14 & 14 & $\\dots$ \\\\\n",
              "\t15 & 15 & Phosphorus & P & 30.974 & 16 & 15 & $\\dots$ \\\\\n",
              "\t16 & 16 & Sulfur & S & 32.065 & 16 & 16 & $\\dots$ \\\\\n",
              "\t17 & 17 & Chlorine & Cl & 35.453 & 18 & 17 & $\\dots$ \\\\\n",
              "\t18 & 18 & Argon & Ar & 39.948 & 22 & 18 & $\\dots$ \\\\\n",
              "\t19 & 19 & Potassium & K & 39.098 & 20 & 19 & $\\dots$ \\\\\n",
              "\t20 & 20 & Calcium & Ca & 40.078 & 20 & 20 & $\\dots$ \\\\\n",
              "\t21 & 21 & Scandium & Sc & 44.956 & 24 & 21 & $\\dots$ \\\\\n",
              "\t22 & 22 & Titanium & Ti & 47.867 & 26 & 22 & $\\dots$ \\\\\n",
              "\t23 & 23 & Vanadium & V & 50.942 & 28 & 23 & $\\dots$ \\\\\n",
              "\t24 & 24 & Chromium & Cr & 51.996 & 28 & 24 & $\\dots$ \\\\\n",
              "\t$\\dots$ & $\\dots$ & $\\dots$ & $\\dots$ & $\\dots$ & $\\dots$ & $\\dots$ &  \\\\\n",
              "\\end{tabular}\n"
            ],
            "text/plain": [
              "\u001b[1m118×28 DataFrame\u001b[0m\n",
              "\u001b[1m Row \u001b[0m│\u001b[1m AtomicNumber \u001b[0m\u001b[1m Element       \u001b[0m\u001b[1m Symbol  \u001b[0m\u001b[1m AtomicMass \u001b[0m\u001b[1m NumberofNeutrons \u001b[0m\u001b[1m Num\u001b[0m ⋯\n",
              "\u001b[1m     \u001b[0m│\u001b[90m Int64        \u001b[0m\u001b[90m String15      \u001b[0m\u001b[90m String3 \u001b[0m\u001b[90m Float64    \u001b[0m\u001b[90m Int64            \u001b[0m\u001b[90m Int\u001b[0m ⋯\n",
              "─────┼──────────────────────────────────────────────────────────────────────────\n",
              "   1 │            1  Hydrogen       H             1.007                 0      ⋯\n",
              "   2 │            2  Helium         He            4.002                 2\n",
              "   3 │            3  Lithium        Li            6.941                 4\n",
              "   4 │            4  Beryllium      Be            9.012                 5\n",
              "   5 │            5  Boron          B            10.811                 6      ⋯\n",
              "   6 │            6  Carbon         C            12.011                 6\n",
              "   7 │            7  Nitrogen       N            14.007                 7\n",
              "   8 │            8  Oxygen         O            15.999                 8\n",
              "  ⋮  │      ⋮              ⋮           ⋮         ⋮              ⋮              ⋱\n",
              " 112 │          112  Copernicium    Cn          285.0                 173      ⋯\n",
              " 113 │          113  Nihonium       Nh          284.0                 171\n",
              " 114 │          114  Flerovium      Fl          289.0                 175\n",
              " 115 │          115  Moscovium      Mc          288.0                 173\n",
              " 116 │          116  Livermorium    Lv          292.0                 176      ⋯\n",
              " 117 │          117  Tennessine     Ts          295.0                 178\n",
              " 118 │          118  Oganesson      Og          294.0                 176\n",
              "\u001b[36m                                                 23 columns and 103 rows omitted\u001b[0m"
            ]
          },
          "metadata": {},
          "output_type": "display_data"
        }
      ],
      "source": [
        "elemental_densities_path = (\"C:\\\\Users\\\\engin\\\\Documents\\\\\" * \n",
        "        \"GitHub\\\\Energy\\\\ImportedData\\\\Periodic Table of Elements.csv\")\n",
        "#import CSV \n",
        "elemental_densities = CSV.read(elemental_densities_path, DataFrame)"
      ]
    },
    {
      "cell_type": "markdown",
      "metadata": {},
      "source": [
        "Since most of these projectiles are charged, I need to account for the stopping power of the target.\n",
        "Found an extensive database here https://www-nds.iaea.org/stopping/stopping_intr.html\n",
        "\n",
        "Does stopping power vary greatly between different isotopes of the same element? Since they have the same number of protons and electrons, I don't think it should differ greatly. The stopping would be unaffected based on the Bethe formula. \n",
        "\n",
        "Based on these graphs, https://www-nds.iaea.org/stopping/stopping_timg.html the first column is the energy per nucleon in MeV and the second column (note that sometimes commas are used instead of decimal points) is the electronic stopping power in Mev/(mg/cm $^2$). This must be normalized by the mass of the target (e.g https://www-nds.iaea.org/stopping/SCSGraphs/16O/oal.gif) bottom right table. \n"
      ]
    },
    {
      "cell_type": "markdown",
      "metadata": {},
      "source": [
        "Is it necessary to find the energy efficiencies of all reactions that result in the desired product? Can we rule any out while still being just as thorough as looking at every MT?"
      ]
    },
    {
      "cell_type": "markdown",
      "metadata": {},
      "source": [
        "Now that I have a dictionary of the potential targets that can be used to make a product, I just need to find their corresponding MTs. I just need to use the dictionary of MTs I already made. "
      ]
    },
    {
      "cell_type": "markdown",
      "metadata": {},
      "source": [
        "Other potentially relevant sections:\n",
        "\n",
        "MT 201 refers to neutron production, "
      ]
    },
    {
      "cell_type": "code",
      "execution_count": 14,
      "metadata": {},
      "outputs": [
        {
          "data": {
            "text/plain": [
              "Dict{Any, Any} with 118 entries:\n",
              "  \"Pd\"  => 12.0\n",
              "  \"Fl\"  => missing\n",
              "  \"Si\"  => 2.33\n",
              "  \"C\"   => 2.27\n",
              "  \"P\"   => 1.82\n",
              "  \"Nb\"  => 8.57\n",
              "  \"Ag\"  => 10.5\n",
              "  \"Gd\"  => 7.9\n",
              "  \"Ru\"  => 12.4\n",
              "  \"At\"  => 7.0\n",
              "  \"Sb\"  => 6.69\n",
              "  \"Cn \" => missing\n",
              "  \"Cs\"  => 1.87\n",
              "  \"Be\"  => 1.85\n",
              "  \"Sr\"  => 2.64\n",
              "  \"Ac\"  => 10.1\n",
              "  \"Cf\"  => 15.1\n",
              "  \"Ta\"  => 16.7\n",
              "  \"Ga\"  => 5.91\n",
              "  ⋮     => ⋮"
            ]
          },
          "metadata": {},
          "output_type": "display_data"
        }
      ],
      "source": [
        "density_path = (\"C:\\\\Users\\\\engin\\\\Documents\\\\\" * \n",
        "        \"GitHub\\\\Energy\\\\ImportedData\\\\Periodic Table of Elements.csv\")\n",
        "#read csv to dataframe\n",
        "density_df = CSV.read(density_path, DataFrame)\n",
        "#get the density of each element\n",
        "density_dict = Dict([])\n",
        "for i in 1:length(density_df[!, \"Symbol\"])\n",
        "    density_dict[density_df[i,\"Symbol\"]] = density_df[i,\"Density\"]\n",
        "end\n",
        "density_dict"
      ]
    },
    {
      "cell_type": "code",
      "execution_count": 15,
      "metadata": {},
      "outputs": [
        {
          "data": {
            "text/plain": [
              "1-element Vector{Any}:\n",
              " (0, -1)"
            ]
          },
          "metadata": {},
          "output_type": "display_data"
        }
      ],
      "source": [
        "function get_key(dictionary, value)\n",
        "    key = []\n",
        "    for dict_key in keys(dictionary)\n",
        "        if(value in dictionary[dict_key])\n",
        "            append!(key, [dict_key])\n",
        "        end\n",
        "    end\n",
        "    return key\n",
        "end \n",
        "get_key(gamma_MTs, 50)"
      ]
    },
    {
      "cell_type": "code",
      "execution_count": 158,
      "metadata": {},
      "outputs": [
        {
          "data": {
            "text/plain": [
              "\"C:\\\\Cross-Section-Data\\\\jendl5-n\\\\n_082-Pb-206.dat\""
            ]
          },
          "metadata": {},
          "output_type": "display_data"
        }
      ],
      "source": [
        "projectile_directory_dict = Dict([])\n",
        "projectile_symbol_dict = Dict([\"gamma\" => \"g\", \"neutron\" => \"n\",\n",
        "                                \"proton\" => \"p\", \"deuteron\" => \"d\",\n",
        "                                \"triton\" => \"t\", \"He3\" => \"He3\",\n",
        "                                \"alpha\" => \"a\"])\n",
        "function get_file_path(projectile, target)\n",
        "    projectile_symbol = projectile_symbol_dict[projectile]\n",
        "    parent_dir = \"jendl5-\" \n",
        "    directory = \"C:\\\\Cross-Section-Data\\\\\" * parent_dir * projectile_symbol * String(\"\\\\\") \n",
        "    file_name = (projectile_symbol * String(\"_\") * lpad(target[1], 3, \"0\") * String(\"-\") \n",
        "            * element_symbols[target[1]] * String(\"-\")* lpad(target[2], 3, \"0\") \n",
        "            * String(\".dat\"))\n",
        "    return (directory * file_name)\n",
        "end\n",
        "\n",
        "#TODO: incorporate talys data iff the other directories are insufficient. \n",
        "function get_talys_file_path(projectile, target)\n",
        "    zero_case = false\n",
        "    #==\n",
        "    These are the files that are in the TALYS directory, \n",
        "    and they are structured as follows:\n",
        "    one letter projectile abbreviation, element symbol with 3 digits\n",
        "    consisting of the mass number left padded with zeros (some elements \n",
        "    only have a directory with the element symbol followed by 3 zeros \n",
        "    regardless of the mass number). \n",
        "    Within this directory are even more directories. The MT files Within\n",
        "    the tables/xs subdirectory sometimes have more points but cover a smaller\n",
        "    range of energies compared to the file in the tendl.2019/files subdirectory.\n",
        "    ==#\n",
        "    projectile_symbol = projectile_symbol_dict[projectile]\n",
        "    parent_dir = \"C:\\\\Cross-Section-Data\\\\talys_data\\\\libraries\\\\\" \n",
        "    element_symbol = element_symbols[target[1]]\n",
        "    directory =  parent_dir * projectile_symbol * String(\"\\\\\") * element_symbol\n",
        "    file_name = \"\"\n",
        "    try #if the directory doesn't exist, return nothing\n",
        "        test = directory * lpad(target[2], 3, \"0\") * String(\"\\\\\")\n",
        "        _ = readdir(test)\n",
        "        directory = test * \"tendl.2019\\\\files\\\\\"\n",
        "        file_name = [file for file in readdir(directory)\n",
        "                        if file[length(file)-3:end] == \"2019\"][1]\n",
        "        #a-Ac227.tendl.2019\n",
        "       # file_name = projectile_symbol * String(\"-\") * element_symbol *\n",
        "        #lpad(target[2], 3, \"0\") * String(\".tendl.2019\") \n",
        "    catch \n",
        "        try \n",
        "            directory = directory * \"000\" * String(\"\\\\\") \n",
        "            directory = directory * String(\"tendl.2019\\\\tables\\\\xs\\\\\")\n",
        "            file_name = readdir(directory)\n",
        "            zero_case = true\n",
        "            return directory, file_name, zero_case\n",
        "        catch\n",
        "            #not in the directory \n",
        "            return nothing\n",
        "        end\n",
        "    end\n",
        "    return (directory * file_name), zero_case\n",
        "end\n",
        "\n",
        "function get_file_path(projectile, target, parent_dir, data_dir, file_type)\n",
        "    projectile_symbol = projectile_symbol_dict[projectile]\n",
        "    directory = data_dir * parent_dir * String(\"\\\\\")\n",
        "    file_name = (projectile_symbol * String(\"-\") * lpad(target[1], 3, \"0\") \n",
        "            * String(\"_\") * element_symbols[target[1]] * String(\"_\") * \n",
        "            lpad(target[2], 3, \"0\") * file_type)\n",
        "    return (directory * file_name)\n",
        "end\n",
        "\n",
        "get_file_path(\"neutron\", (82,206))"
      ]
    },
    {
      "cell_type": "code",
      "execution_count": 159,
      "metadata": {},
      "outputs": [
        {
          "data": {
            "text/plain": [
              "(\"C:\\\\Cross-Section-Data\\\\talys_data\\\\libraries\\\\n\\\\Ni063\\\\tendl.2019\\\\files\\\\n-Ni063.tendl.2019\", false)"
            ]
          },
          "metadata": {},
          "output_type": "display_data"
        }
      ],
      "source": [
        "get_talys_file_path(\"neutron\", (28,63))"
      ]
    },
    {
      "cell_type": "code",
      "execution_count": 18,
      "metadata": {},
      "outputs": [
        {
          "data": {
            "text/plain": [
              "get_unique_MTs (generic function with 1 method)"
            ]
          },
          "metadata": {},
          "output_type": "display_data"
        }
      ],
      "source": [
        "# Reference: https://github.com/DavidWalz/pyENDF6\n",
        "\n",
        "slices = Dict(\n",
        "    \"MAT\" => 67:71,\n",
        "    \"MF\" => 72:74,\n",
        "    \"MT\" => 75:78,\n",
        "    \"line\" => 78:83,\n",
        "    \"content\" => 1:67,\n",
        "    \"data\" => [a-10:a for a in 11*collect(1:6)])\n",
        "\n",
        "\n",
        "function read_float(v)\n",
        "    #Convert ENDF6 string to float \n",
        "    a, b = [' '], \"\" \n",
        "    if (strip(v, a) == b)\n",
        "        return 0.\n",
        "    end\n",
        "    try\n",
        "        return parse(BigFloat, v)\n",
        "    catch\n",
        "        # ENDF6 may omit the e for exponent\n",
        "        return parse(BigFloat,\n",
        "            v[1] * replace(replace(v[2:end], \"+\" => \"e+\"), \"-\" => \"e-\"))  # don't replace leading negative sign\n",
        "    end\n",
        "end  \n",
        "\n",
        "function read_line(l)\n",
        "    #Read first 6*11 characters of a line as floats\"\"\"\n",
        "    return [read_float(l[s]) for s in slices[\"data\"]]\n",
        "end\n",
        " \n",
        "function read_table(lines)\n",
        "    #=\n",
        "    Parse tabulated data in a section\n",
        "    https://t2.lanl.gov/nis/endf/intro07.html\n",
        "    https://t2.lanl.gov/nis/endf/intro08.html\n",
        "    https://t2.lanl.gov/nis/endf/intro09.html\n",
        "    =#\n",
        "    # header line 1: (100*Z+A), mass in [m_neutron]\n",
        "    # [MAT, 3, MT/ ZA, AWR, 0, 0, 0, 0] HEAD\n",
        "\n",
        "    # header line 2: Q-value and some counts\n",
        "    # [MAT, 3, MT/ QM, QI, 0, LR, NR, NP/ EINT/ S(E)] TAB1\n",
        "    f = read_line(lines[2])\n",
        "    nS = Int64(f[5])  # number of interpolation sections\n",
        "    nP = Int64(f[6])  # number of data points\n",
        "    # header line 3: interpolation information\n",
        "    # [MAT, 3, 0/ 0.0, 0.0, 0, 0, 0, 0] SEND\n",
        "    # 1   y is constant in x (constant, histogram)\n",
        "    # 2   y is linear in x (linear-linear)\n",
        "    # 3   y is linear in ln(x) (linear-log)\n",
        "    # 4   ln(y) is linear in x (log-linear)\n",
        "    # 5   ln(y) is linear in ln(x) (log-log)\n",
        "    # 6   y obeys a Gamow charged-particle penetrability law\n",
        "\n",
        "    # data lines\n",
        "    energy = []\n",
        "    cross_section = []\n",
        "    for l in lines[4:end]\n",
        "        f = read_line(l)\n",
        "        append!(energy, f[1], f[3], f[5])\n",
        "        append!(cross_section, f[2], f[4], f[6])\n",
        "    end\n",
        "    return energy[1:nP], cross_section[1:nP]\n",
        "end \n",
        "\n",
        "function find_section(lines, MF, MT)\n",
        "    #\"\"\"Locate and return a certain section\"\"\"\n",
        "    v = [l[71:75] for l in lines]\n",
        "    cmpstr = \"$(@sprintf(\"%2s\", MF))$(@sprintf(\"%3s\", MT))\" # search string\n",
        "    i0 = collect(findfirst(==(cmpstr), v))[1] # first occurrence\n",
        "    i1 = collect(findlast(==(cmpstr), v))[1] # last occurrence\n",
        "    return lines[i0: i1]\n",
        "end\n",
        "\n",
        "function energy_and_cross_section(file_path, MT)\n",
        "    MF = 3\n",
        "    try\n",
        "        open(file_path) do file\n",
        "            lines = split(read(file_path, String), \n",
        "                        \"\\n\", keepempty = false)\n",
        "            lines = lines[lines .!== nothing]\n",
        "            lines = lines[lines .!== \"\"]\n",
        "            lines = lines[lines .!== Nothing]\n",
        "            lines = String.(lines)\n",
        "            sec = find_section(lines, MF, MT)\n",
        "            return read_table(sec)\n",
        "        end\n",
        "    catch\n",
        "        return nothing \n",
        "    end\n",
        "end\n",
        "\n",
        "function get_unique_MTs(file_path)\n",
        "    MF = 3\n",
        "    try\n",
        "        open(file_path) do file\n",
        "            lines = split(read(file_path, String), \n",
        "                        \"\\n\", keepempty = false)\n",
        "            lines = lines[lines .!== nothing]\n",
        "            lines = lines[lines .!== \"\"]\n",
        "            lines = lines[lines .!== Nothing]\n",
        "            lines = String.(lines)\n",
        "            try\n",
        "                return unique([tryparse(Int64, String([l[s] for s in slices[\"MT\"]])) for l in lines\n",
        "                                if (tryparse(Int64, String([l[s] for s in slices[\"MF\"]])) == 3)])\n",
        "            catch\n",
        "                #ENDF-BVIII.0 does not 0 padd the MFs or MTs, changing the length of each line.\n",
        "                lines = [String(line) for line in lines if length(String(line)) > 74]\n",
        "                return unique([tryparse(Int64, String(l[73:end])) for l in lines\n",
        "                                if (Int(l[72]) - Int('0') == 3)])\n",
        "            end    \n",
        "        end\n",
        "    catch\n",
        "        return nothing \n",
        "    end\n",
        "end"
      ]
    },
    {
      "cell_type": "code",
      "execution_count": 19,
      "metadata": {},
      "outputs": [
        {
          "data": {
            "text/plain": [
              "filtered_MTs (generic function with 1 method)"
            ]
          },
          "metadata": {},
          "output_type": "display_data"
        }
      ],
      "source": [
        "#get the intersection of two arrays\n",
        "function intersection(a, b)\n",
        "    return [x for x in a if x in b]\n",
        "end\n",
        "\n",
        "function filtered_MTs(projectile, product, target, reaction_MTs, talys)\n",
        "    if talys\n",
        "        file_path = get_talys_file_path(projectile, target)\n",
        "    else \n",
        "        file_path = get_file_path(projectile, target)\n",
        "    end \n",
        "        unique_MTs = get_unique_MTs(file_path)\n",
        "    try\n",
        "        return intersection(unique_MTs, reaction_MTs)\n",
        "    catch\n",
        "        #println(\"No reaction MTs found for \", projectile, product, target)\n",
        "        return nothing\n",
        "    end\n",
        "end"
      ]
    },
    {
      "cell_type": "markdown",
      "metadata": {},
      "source": [
        "#The function min_isotope_production_energy will determine the lowest one step method of producing a given isotope using a given projectile. It returns the minimum energy of reaction and the corresponding target isotope in the form (z,a)."
      ]
    },
    {
      "cell_type": "code",
      "execution_count": 20,
      "metadata": {},
      "outputs": [
        {
          "data": {
            "text/latex": [
              "$\\left(\\frac{t}{a}\\right)^{\\frac{a}{a - t}} - \\left(\\frac{t}{a}\\right)^{\\frac{t}{a - t}}$"
            ],
            "text/plain": [
              "     a          t  \n",
              "   -----      -----\n",
              "   a - t      a - t\n",
              "/t\\        /t\\     \n",
              "|-|      - |-|     \n",
              "\\a/        \\a/     "
            ]
          },
          "metadata": {},
          "output_type": "display_data"
        }
      ],
      "source": [
        "t, a= symbols(\"t a\")\n",
        "Pmax = (t/a)^(a/(a-t)) - (t/a)^(t/(a-t)) "
      ]
    },
    {
      "cell_type": "code",
      "execution_count": 21,
      "metadata": {},
      "outputs": [
        {
          "data": {
            "text/plain": [
              "true"
            ]
          },
          "metadata": {},
          "output_type": "display_data"
        }
      ],
      "source": [
        "Pmax_num = convert(Function, Pmax)\n",
        "Pmax_num(a,t) == Pmax"
      ]
    },
    {
      "cell_type": "code",
      "execution_count": 22,
      "metadata": {},
      "outputs": [
        {
          "data": {
            "text/latex": [
              "$\\frac{\\log{\\left(\\frac{t}{a} \\right)}}{k \\left(a - t\\right)}$"
            ],
            "text/plain": [
              "     /t\\ \n",
              "  log|-| \n",
              "     \\a/ \n",
              "---------\n",
              "k*(a - t)"
            ]
          },
          "metadata": {},
          "output_type": "display_data"
        }
      ],
      "source": [
        "N_A, M, ρ, k = symbols(\"N_A M ρ k\")\n",
        "#k = -ρ * N_A / M\n",
        "x_pmax = log(t/a)/(k*(a-t))"
      ]
    },
    {
      "cell_type": "code",
      "execution_count": 23,
      "metadata": {},
      "outputs": [
        {
          "data": {
            "text/plain": [
              "true"
            ]
          },
          "metadata": {},
          "output_type": "display_data"
        }
      ],
      "source": [
        "x_num = convert(Function, x_pmax)\n",
        "x_num(a, k, t) == x_pmax"
      ]
    },
    {
      "cell_type": "code",
      "execution_count": 24,
      "metadata": {},
      "outputs": [
        {
          "data": {
            "text/plain": [
              "min_isotope_production_energy (generic function with 1 method)"
            ]
          },
          "metadata": {},
          "output_type": "display_data"
        }
      ],
      "source": [
        "function try_minimum(input_arr)\n",
        "    #==\n",
        "    Return the minimum of the array if it is valid, return 0 otherwise. \n",
        "    ==#\n",
        "    try \n",
        "        return minimum(input_arr)\n",
        "    catch\n",
        "        return 0\n",
        "    end\n",
        "end \n",
        "\n",
        "function min_reaction_energy(projectile, target, MT, competing_reactions,\n",
        "                            talys)\n",
        "    data_dir = \"C:\\\\Cross-Section-Data\\\\ENDF-B-VIII.0\"\n",
        "    parent_dir = projectile * String(\"s\")\n",
        "    file_type = \".endf\"\n",
        "    if talys\n",
        "        file_path = get_talys_file_path(projectile, target)\n",
        "    else \n",
        "        file_path = get_file_path(projectile, target, parent_dir, \n",
        "                                    data_dir, file_type)\n",
        "    end\n",
        "    test = energy_and_cross_section(file_path, MT)\n",
        "    if test == nothing\n",
        "        #println(\"No data for \", projectile, \" \", target, \" \", MT)\n",
        "        return nothing\n",
        "    end\n",
        "    energies, cross_sections = test\n",
        "    try \n",
        "        density = density_df[target[1], \"Density\"] * 1000 # convert from g/cm^3 to kg/m^3\n",
        "        k = -BigFloat(density) * (6.022140857e23) / target[2]\n",
        "        if !competing_reactions\n",
        "            p = 1 .- exp.(k * cross_sections * 1)\n",
        "        else \n",
        "            try \n",
        "                t, E_t = energy_and_cross_section(file_path, 1)\n",
        "            catch \n",
        "                #totally cross section is not available\n",
        "                min_MT = try_positive_minimum(get_unique_MTs(file_path))\n",
        "                if min_MT == MT\n",
        "                    #There aren't any competing reactions\n",
        "                    p = 1 .- exp.(k * cross_sections * 1)\n",
        "                    return minimum(energies ./ p)\n",
        "                end\n",
        "                t, E_t = energy_and_cross_section(file_path, min_MT)\n",
        "            end\n",
        "            p = [Pmax_num(cross_sections[i], t[i]) \n",
        "                for i in range(len(energies))\n",
        "                if E_t[i] == energies[i]]\n",
        "            best_index = argmin(energies ./ p)\n",
        "            x_pmax = x_num(a[best_index], k, t[best_index])\n",
        "            return energies[best_index] / p[best_index], x_pmax\n",
        "        end\n",
        "        return minimum(energies ./ p)\n",
        "    catch \n",
        "        density = 1000 # default value\n",
        "        k = -BigFloat(density) * (6.022140857e23) / target[2]\n",
        "        if !competing_reactions\n",
        "            p = 1 .- exp.(k * cross_sections)\n",
        "        end\n",
        "        return minimum(energies ./ p)\n",
        "    end\n",
        "end\n",
        "\n",
        "function min_isotope_production_energy(projectile, product, competing_reactions)\n",
        "    #==\n",
        "    Loops through all of the targets and all of the MTs for each target\n",
        "    for a given projectile and target isotope.\n",
        "    ==#\n",
        "    targets = [key for key in \n",
        "            keys(projectile_product_dict[projectile][product])\n",
        "            if (key != \"(A,Z)\" && key != write_in_z_a_format(product))]\n",
        "    min_target_energy = Dict([])\n",
        "    for target in targets\n",
        "        MTs = filtered_MTs(projectile, product, target, \n",
        "                    projectile_product_dict[projectile][product][target][\"MT\"])\n",
        "        if MTs != Nothing && MTs != [] && MTs != nothing\n",
        "            min_target_energy[target] = [min_reaction_energy(projectile, \n",
        "                    target, MT, competing_reactions) for MT in MTs]\n",
        "        end\n",
        "    end\n",
        "    return min_target_energy\n",
        "    #==\n",
        "    #replace all values of [] in min_energy and take the minimum, if error just return 0\n",
        "    min_energy = try_minimum(filter!(energy -> length(energy) > 0, \n",
        "                    min_energy))[1]\n",
        "    if competing_reactions\n",
        "        return min_target_energy\n",
        "    end\n",
        "    if min_energy > 0.0\n",
        "            target_list = get_key(min_target_energy, min_energy)\n",
        "            product_z_a = write_in_z_a_format(product)\n",
        "            reaction = [[product_z_a[1] - target[1], product_z_a[2] - target[2]]\n",
        "                    for target in target_list]\n",
        "            return min_energy, target_list, reaction\n",
        "    else\n",
        "        #print(\"No data for producing \", product, \" with \",\n",
        "        #    projectile, \" in only one step.\")\n",
        "        return nothing, nothing, nothing\n",
        "    end\n",
        "    ==#\n",
        "end"
      ]
    },
    {
      "cell_type": "code",
      "execution_count": 25,
      "metadata": {},
      "outputs": [
        {
          "name": "stdout",
          "output_type": "stream",
          "text": [
            "No data for target [in (z,a) format] (82, 206) and MT = 999"
          ]
        },
        {
          "data": {
            "text/plain": [
              "Dict{Any, Any} with 3 entries:\n",
              "  5   => Dict{Any, Any}(\"cross section\"=>Any[2.36091e-23, 1.67343e-13, 2.70041e…\n",
              "  2   => Dict{Any, Any}(\"cross section\"=>Any[-3.29595e-13, -8.78208e-14, -1.214…\n",
              "  999 => nothing"
            ]
          },
          "metadata": {},
          "output_type": "display_data"
        }
      ],
      "source": [
        "projectile_product_dict[\"proton\"][\"207Bi\"][(82,206)][\"MT\"]\n",
        "target = (82,206)\n",
        "product = \"207Bi\"\n",
        "target_path = get_file_path(\"proton\", target)\n",
        "\n",
        "mt_σ_e_dict = Dict([])\n",
        "for MT in get_unique_MTs(target_path)\n",
        "    try \n",
        "        mt_σ_e_dict[MT] = Dict([])\n",
        "        mt_σ_e_dict[MT][\"energy\"], mt_σ_e_dict[MT][\"cross section\"] = energy_and_cross_section(target_path, MT)\n",
        "    catch \n",
        "        print(\"No data for target [in (z,a) format] \", target, \" and MT = \", MT)\n",
        "        mt_σ_e_dict[MT] = nothing\n",
        "    end\n",
        "end\n",
        "mt_σ_e_dict"
      ]
    },
    {
      "cell_type": "code",
      "execution_count": 26,
      "metadata": {},
      "outputs": [
        {
          "ename": "MethodError",
          "evalue": "MethodError: no method matching filtered_MTs(::String, ::String, ::Tuple{Int64, Int64}, ::Vector{Int64})\nClosest candidates are:\n  filtered_MTs(::Any, ::Any, ::Any, ::Any, !Matched::Any) at c:\\Users\\engin\\Documents\\GitHub\\Energy\\Optimized_Radionuclide_Production.ipynb:6",
          "output_type": "error",
          "traceback": [
            "MethodError: no method matching filtered_MTs(::String, ::String, ::Tuple{Int64, Int64}, ::Vector{Int64})\n",
            "Closest candidates are:\n",
            "  filtered_MTs(::Any, ::Any, ::Any, ::Any, !Matched::Any) at c:\\Users\\engin\\Documents\\GitHub\\Energy\\Optimized_Radionuclide_Production.ipynb:6\n",
            "\n",
            "Stacktrace:\n",
            " [1] min_isotope_production_energy(projectile::String, product::String, competing_reactions::Bool)\n",
            "   @ Main c:\\Users\\engin\\Documents\\GitHub\\Energy\\Optimized_Radionuclide_Production.ipynb:75\n",
            " [2] top-level scope\n",
            "   @ c:\\Users\\engin\\Documents\\GitHub\\Energy\\Optimized_Radionuclide_Production.ipynb:1"
          ]
        }
      ],
      "source": [
        "min_isotope_production_energy(\"alpha\", \"63Ni\", false)"
      ]
    },
    {
      "cell_type": "markdown",
      "metadata": {},
      "source": [
        "Now I will write code that makes a list of all of the directories for each projectile. "
      ]
    },
    {
      "cell_type": "code",
      "execution_count": 27,
      "metadata": {},
      "outputs": [
        {
          "data": {
            "text/plain": [
              "\u001b[32m\u001b[1mTest Passed\u001b[22m\u001b[39m\n",
              "  Expression: !(\"readme.htm\" in get_subdirs(endf_1_path)) && \"readme.htm\" in readdir(endf_1_path)"
            ]
          },
          "metadata": {},
          "output_type": "display_data"
        }
      ],
      "source": [
        "get_subdirs(path) = [content for content in readdir(path)\n",
        "                    if isdir(path * content * \"\\\\\")]\n",
        "endf_1_path = \"C:\\\\Cross-Section-Data\\\\ENDF_Libraries\\\\\"\n",
        "Test.@test (!(\"readme.htm\" in get_subdirs(endf_1_path)) \n",
        "            && \"readme.htm\" in readdir(endf_1_path))"
      ]
    },
    {
      "cell_type": "code",
      "execution_count": 28,
      "metadata": {},
      "outputs": [
        {
          "data": {
            "text/plain": [
              "27-element Vector{String}:\n",
              " \"BROND-2-2\"\n",
              " \"BROND-3.1\"\n",
              " \"CENDL-2\"\n",
              " \"CENDL-3.1\"\n",
              " \"EAF-2010\"\n",
              " \"ENDF-B-VI.8\"\n",
              " \"ENDF-B-VII.1\"\n",
              " \"ENDF-HE-VI\"\n",
              " \"FENDL-2.1\"\n",
              " \"FENDL-3.0\"\n",
              " ⋮\n",
              " \"JEFF-3.2\"\n",
              " \"JENDL-3.2\"\n",
              " \"JENDL-3.3\"\n",
              " \"JENDL-4.0\"\n",
              " \"JENDL-4.0-HE\"\n",
              " \"JENDL-4.0u2\"\n",
              " \"JENDL-HE-2007\"\n",
              " \"MINKS-ACT\"\n",
              " \"ROSFOND-2010\""
            ]
          },
          "metadata": {},
          "output_type": "display_data"
        }
      ],
      "source": [
        "endf_1_path = \"C:\\\\Cross-Section-Data\\\\ENDF_Libraries\\\\\"\n",
        "endf_1_subdirs = get_subdirs(endf_1_path)\n",
        "neutron_dirs_1 = [subdir for subdir in endf_1_subdirs if \n",
        "                \"n\" in get_subdirs(endf_1_path * subdir * \"\\\\\")]"
      ]
    },
    {
      "cell_type": "code",
      "execution_count": 29,
      "metadata": {},
      "outputs": [
        {
          "data": {
            "text/plain": [
              "9-element Vector{String}:\n",
              " \"CENDL-3.2\"\n",
              " \"ENDF-B-VII.0\"\n",
              " \"ENDF-B-VIII.0\"\n",
              " \"FENDL-3.1c\"\n",
              " \"FENDL-3.2\"\n",
              " \"IRDFF-II\"\n",
              " \"IRDFF-II-aux\"\n",
              " \"JEFF-3.3\"\n",
              " \"JEFF-3.3-DPA\""
            ]
          },
          "metadata": {},
          "output_type": "display_data"
        }
      ],
      "source": [
        "endf_2_path = \"C:\\\\Cross-Section-Data\\\\ENDF_Libraries-2\\\\\"\n",
        "endf_2_subdirs = get_subdirs(endf_2_path)\n",
        "neutron_dirs_2 = [subdir for subdir in endf_2_subdirs if \n",
        "                \"n\" in get_subdirs(endf_2_path * subdir * \"\\\\\")]"
      ]
    },
    {
      "cell_type": "code",
      "execution_count": 30,
      "metadata": {},
      "outputs": [
        {
          "data": {
            "text/plain": [
              "Set{String} with 9 elements:\n",
              "  \"Mendl2\"\n",
              "  \"EPICS2014\"\n",
              "  \"INDL-TSL\"\n",
              "  \"ENDF6-Manual\"\n",
              "  \"PADF-2007\"\n",
              "  \"Rrdf98\"\n",
              "  \"Mendl2P\"\n",
              "  \"IAEA-Medical\"\n",
              "  \"IAEA-STD\""
            ]
          },
          "metadata": {},
          "output_type": "display_data"
        }
      ],
      "source": [
        "setdiff(Set(endf_1_subdirs), Set(neutron_dirs_1))"
      ]
    },
    {
      "cell_type": "code",
      "execution_count": 31,
      "metadata": {},
      "outputs": [
        {
          "data": {
            "text/plain": [
              "Set{String} with 4 elements:\n",
              "  \"IAEA-PD-2019\"\n",
              "  \"IRDF-82\"\n",
              "  \"ENDF6-Manual\"\n",
              "  \"IAEA-PD-1999\""
            ]
          },
          "metadata": {},
          "output_type": "display_data"
        }
      ],
      "source": [
        "setdiff(Set(endf_2_subdirs), Set(neutron_dirs_2))"
      ]
    },
    {
      "cell_type": "markdown",
      "metadata": {},
      "source": [
        "Now I will check the documentation at the top of each data file to make sure the MTs that have been automatically matched to reactions are accurate. "
      ]
    },
    {
      "cell_type": "code",
      "execution_count": 32,
      "metadata": {},
      "outputs": [
        {
          "data": {
            "text/plain": [
              "\"C:\\\\Cross-Section-Data\\\\ENDF-B-VIII.0\\\\neutrons\\\\n-082_Pb_206.endf\""
            ]
          },
          "metadata": {},
          "output_type": "display_data"
        }
      ],
      "source": [
        "best_neutron_dir = \"C:\\\\Cross-Section-Data\\\\ENDF-B-VIII.0\\\\neutrons\\\\\"\n",
        "neutron_files = readdir(best_neutron_dir)\n",
        "neutron_files = [file for file in neutron_files \n",
        "                if file[length(file)-4:end] == \".endf\"]\n",
        "get_file_path(\"neutron\", (82,206),\n",
        "            \"ENDF-B-VIII.0\\\\neutrons\", data_dir, \".endf\")"
      ]
    },
    {
      "cell_type": "code",
      "execution_count": 33,
      "metadata": {},
      "outputs": [
        {
          "data": {
            "text/plain": [
              "84-element Vector{Int64}:\n",
              "   1\n",
              "   0\n",
              "   2\n",
              "   3\n",
              "   4\n",
              "   5\n",
              "  16\n",
              "  17\n",
              "  22\n",
              "  24\n",
              "   ⋮\n",
              " 803\n",
              " 804\n",
              " 805\n",
              " 806\n",
              " 807\n",
              " 808\n",
              " 809\n",
              " 810\n",
              " 849"
            ]
          },
          "metadata": {},
          "output_type": "display_data"
        }
      ],
      "source": [
        "get_unique_MTs(\"C:\\\\Cross-Section-Data\\\\ENDF-B-VIII.0\\\\neutrons\\\\n-082_Pb_206.endf\")"
      ]
    },
    {
      "cell_type": "markdown",
      "metadata": {},
      "source": [
        "The function max_reaction_probability finds that maximum probability\n",
        "of a reaction occuring, using the formula derived earlier, which assumes that there are competing reactions for large target thicknesses. \n",
        "\n",
        "To give a lower bound on the reaction probability, the difference between the largest cross section (ideally MT = 1) and the reaction cross section for a different energy will be assumed to be the competing cross sections. "
      ]
    },
    {
      "cell_type": "code",
      "execution_count": 34,
      "metadata": {},
      "outputs": [
        {
          "data": {
            "text/plain": [
              "557-element Vector{String}:\n",
              " \"n-000_n_001.endf\"\n",
              " \"n-001_H_001.endf\"\n",
              " \"n-001_H_002.endf\"\n",
              " \"n-001_H_003.endf\"\n",
              " \"n-002_He_003.endf\"\n",
              " \"n-002_He_004.endf\"\n",
              " \"n-003_Li_006.endf\"\n",
              " \"n-003_Li_007.endf\"\n",
              " \"n-004_Be_007.endf\"\n",
              " \"n-004_Be_009.endf\"\n",
              " ⋮\n",
              " \"n-098_Cf_253.endf\"\n",
              " \"n-098_Cf_254.endf\"\n",
              " \"n-099_Es_251.endf\"\n",
              " \"n-099_Es_252.endf\"\n",
              " \"n-099_Es_253.endf\"\n",
              " \"n-099_Es_254.endf\"\n",
              " \"n-099_Es_254m1.endf\"\n",
              " \"n-099_Es_255.endf\"\n",
              " \"n-100_Fm_255.endf\""
            ]
          },
          "metadata": {},
          "output_type": "display_data"
        }
      ],
      "source": [
        "neutron_dir = data_dir * \"ENDF-B-VIII.0\\\\neutrons\"\n",
        "neutron_files = [file for file in readdir(neutron_dir)\n",
        " if file[length(file)-4:end] == \".endf\"]"
      ]
    },
    {
      "cell_type": "code",
      "execution_count": 35,
      "metadata": {},
      "outputs": [
        {
          "data": {
            "text/plain": [
              "smallest_positive_MT (generic function with 1 method)"
            ]
          },
          "metadata": {},
          "output_type": "display_data"
        }
      ],
      "source": [
        "function has_cross_section(dir, file_extension, mt)\n",
        "    files = [file for file in readdir(dir * \"\\\\\")\n",
        "    if file[length(file)-length(file_extension)+1:end] == file_extension]\n",
        "    return [mt in get_unique_MTs(dir * \"\\\\\" * file) \n",
        "    for file in files], length(files)\n",
        "end \n",
        "\n",
        "function try_positive_minimum(input_arr)\n",
        "    ```\n",
        "    Return the minimum of the array if it is valid, return 0 otherwise. \n",
        "    ```\n",
        "    try \n",
        "        return minimum(filter!(x-> x > 0, input_arr))\n",
        "    catch\n",
        "        return 0\n",
        "    end\n",
        "end \n",
        "\n",
        "function smallest_positive_MT(dir, file_extension)\n",
        "    files = [file for file in readdir(dir * \"\\\\\")\n",
        "    if file[length(file)-length(file_extension)+1:end] == file_extension]\n",
        "    return [try_positive_minimum(get_unique_MTs(dir * \"\\\\\" * file))\n",
        "            for file in files], length(files)\n",
        "end \n"
      ]
    },
    {
      "cell_type": "code",
      "execution_count": 36,
      "metadata": {},
      "outputs": [
        {
          "data": {
            "text/plain": [
              "1-element Vector{Int64}:\n",
              " 5"
            ]
          },
          "metadata": {},
          "output_type": "display_data"
        }
      ],
      "source": [
        "min_MTs, l = smallest_positive_MT(data_dir * \"\\\\jendl5-g\", \".dat\")\n",
        "findall(x -> x==0, min_MTs)"
      ]
    },
    {
      "cell_type": "code",
      "execution_count": 37,
      "metadata": {},
      "outputs": [
        {
          "data": {
            "application/vnd.plotly.v1+json": {
              "config": {
                "editable": false,
                "responsive": true,
                "scrollZoom": true,
                "showLink": false,
                "staticPlot": false
              },
              "data": [
                {
                  "type": "histogram",
                  "x": [
                    3,
                    5,
                    5,
                    5,
                    0,
                    5,
                    5,
                    5,
                    5,
                    5,
                    5,
                    5,
                    5,
                    5,
                    5,
                    5,
                    5,
                    5,
                    5,
                    5,
                    5,
                    5,
                    5,
                    5,
                    5,
                    5,
                    5,
                    5,
                    5,
                    5,
                    5,
                    5,
                    5,
                    5,
                    5,
                    5,
                    5,
                    5,
                    5,
                    5,
                    5,
                    5,
                    5,
                    5,
                    5,
                    5,
                    5,
                    5,
                    5,
                    5,
                    5,
                    5,
                    5,
                    5,
                    5,
                    5,
                    5,
                    5,
                    5,
                    5,
                    5,
                    5,
                    5,
                    5,
                    5,
                    5,
                    5,
                    5,
                    5,
                    5,
                    5,
                    5,
                    5,
                    5,
                    5,
                    5,
                    5,
                    5,
                    5,
                    5,
                    5,
                    5,
                    5,
                    5,
                    5,
                    5,
                    5,
                    5,
                    5,
                    5,
                    5,
                    5,
                    5,
                    5,
                    5,
                    5,
                    5,
                    5,
                    5,
                    5,
                    5,
                    5,
                    5,
                    5,
                    5,
                    5,
                    5,
                    5,
                    5,
                    5,
                    5,
                    5,
                    5,
                    5,
                    5,
                    5,
                    5,
                    5,
                    5,
                    5,
                    5,
                    5,
                    5,
                    5,
                    5,
                    5,
                    5,
                    5,
                    5,
                    5,
                    5,
                    5,
                    5,
                    5,
                    5,
                    5,
                    5,
                    5,
                    5,
                    5,
                    5,
                    5,
                    5,
                    5,
                    5,
                    5,
                    5,
                    5,
                    5,
                    5,
                    5,
                    5,
                    5,
                    5,
                    5,
                    5,
                    5,
                    5,
                    5,
                    5,
                    5,
                    5,
                    5,
                    5,
                    5,
                    5,
                    5,
                    5,
                    5,
                    5,
                    5,
                    5,
                    5,
                    5,
                    5,
                    5,
                    5,
                    5,
                    5,
                    5,
                    5,
                    5,
                    5,
                    5,
                    5,
                    5,
                    5,
                    5,
                    5,
                    5,
                    5,
                    5,
                    5,
                    5,
                    5,
                    5,
                    5,
                    5,
                    5,
                    5,
                    5,
                    5,
                    5,
                    5,
                    5,
                    5,
                    5,
                    5,
                    5,
                    5,
                    5,
                    5,
                    5,
                    5,
                    5,
                    5,
                    5,
                    5,
                    5,
                    5,
                    5,
                    5,
                    5,
                    5,
                    5,
                    5,
                    5,
                    5,
                    5,
                    5,
                    5,
                    5,
                    5,
                    5,
                    5,
                    5,
                    5,
                    5,
                    5,
                    5,
                    5,
                    5,
                    5,
                    5,
                    5,
                    5,
                    5,
                    5,
                    5,
                    5,
                    5,
                    5,
                    5,
                    5,
                    5,
                    5,
                    5,
                    5,
                    5,
                    5,
                    5,
                    5,
                    5,
                    5,
                    5,
                    5,
                    5,
                    5,
                    5,
                    5,
                    5,
                    5,
                    5,
                    5,
                    5,
                    5,
                    5,
                    5,
                    5,
                    5,
                    5,
                    5,
                    5,
                    5,
                    5,
                    5,
                    5,
                    5,
                    5,
                    5,
                    5,
                    5,
                    5,
                    5,
                    5,
                    5,
                    5,
                    5,
                    5,
                    5,
                    5,
                    5,
                    5,
                    5,
                    5,
                    5,
                    5,
                    5,
                    5,
                    5,
                    5,
                    5,
                    5,
                    5,
                    5,
                    5,
                    5,
                    5,
                    5,
                    5,
                    5,
                    5,
                    5,
                    5,
                    5,
                    5,
                    5,
                    5,
                    5,
                    5,
                    5,
                    5,
                    5,
                    5,
                    5,
                    5,
                    5,
                    5,
                    5,
                    5,
                    5,
                    5,
                    5,
                    5,
                    5,
                    5,
                    5,
                    5,
                    5,
                    5,
                    5,
                    5,
                    5,
                    5,
                    5,
                    5,
                    5,
                    5,
                    5,
                    5,
                    5,
                    5,
                    5,
                    5,
                    5,
                    5,
                    5,
                    5,
                    5,
                    5,
                    5,
                    5,
                    5,
                    5,
                    5,
                    5,
                    5,
                    5,
                    5,
                    5,
                    5,
                    5,
                    5,
                    5,
                    5,
                    5,
                    5,
                    5,
                    5,
                    5,
                    5,
                    5,
                    5,
                    5,
                    5,
                    5,
                    5,
                    5,
                    5,
                    5,
                    5,
                    5,
                    5,
                    5,
                    5,
                    5,
                    5,
                    5,
                    5,
                    5,
                    5,
                    5,
                    5,
                    5,
                    5,
                    5,
                    5,
                    5,
                    5,
                    5,
                    5,
                    5,
                    5,
                    5,
                    5,
                    5,
                    5,
                    5,
                    5,
                    5,
                    5,
                    5,
                    5,
                    5,
                    5,
                    5,
                    5,
                    5,
                    5,
                    5,
                    5,
                    5,
                    5,
                    5,
                    5,
                    5,
                    5,
                    5,
                    5,
                    5,
                    5,
                    5,
                    5,
                    5,
                    5,
                    5,
                    5,
                    5,
                    5,
                    5,
                    5,
                    5,
                    5,
                    5,
                    5,
                    5,
                    5,
                    5,
                    5,
                    5,
                    5,
                    5,
                    5,
                    5,
                    5,
                    5,
                    5,
                    5,
                    5,
                    5,
                    5,
                    5,
                    5,
                    5,
                    5,
                    5,
                    5,
                    5,
                    5,
                    5,
                    5,
                    5,
                    5,
                    5,
                    5,
                    5,
                    5,
                    5,
                    5,
                    5,
                    5,
                    5,
                    5,
                    5,
                    5,
                    5,
                    5,
                    5,
                    5,
                    5,
                    5,
                    5,
                    5,
                    5,
                    5,
                    5,
                    5,
                    5,
                    5,
                    5,
                    5,
                    5,
                    5,
                    5,
                    5,
                    5,
                    5,
                    5,
                    5,
                    5,
                    5,
                    5,
                    5,
                    5,
                    5,
                    5,
                    5,
                    5,
                    5,
                    5,
                    5,
                    5,
                    5,
                    5,
                    5,
                    5,
                    5,
                    5,
                    5,
                    5,
                    5,
                    5,
                    5,
                    5,
                    5,
                    5,
                    5,
                    5,
                    5,
                    5,
                    5,
                    5,
                    5,
                    5,
                    5,
                    5,
                    5,
                    5,
                    5,
                    5,
                    5,
                    5,
                    5,
                    5,
                    5,
                    5,
                    5,
                    5,
                    5,
                    5,
                    5,
                    5,
                    5,
                    5,
                    5,
                    5,
                    5,
                    5,
                    5,
                    5,
                    5,
                    5,
                    5,
                    5,
                    5,
                    5,
                    5,
                    5,
                    5,
                    5,
                    5,
                    5,
                    5,
                    5,
                    5,
                    5,
                    5,
                    5,
                    5,
                    5,
                    5,
                    5,
                    5,
                    5,
                    5,
                    5,
                    5,
                    5,
                    5,
                    5,
                    5,
                    5,
                    5,
                    5,
                    5,
                    5,
                    5,
                    5,
                    5,
                    5,
                    5,
                    5,
                    5,
                    5,
                    5,
                    5,
                    5,
                    5,
                    5,
                    5,
                    5,
                    5,
                    5,
                    5,
                    5,
                    5,
                    5,
                    5,
                    5,
                    5,
                    5,
                    5,
                    5,
                    5,
                    5,
                    5,
                    5,
                    5,
                    5,
                    5,
                    5,
                    5,
                    5,
                    5,
                    5,
                    5,
                    5,
                    5,
                    5,
                    5,
                    5,
                    5,
                    5,
                    5,
                    5,
                    5,
                    5,
                    5,
                    5,
                    5,
                    5,
                    5,
                    5,
                    5,
                    5,
                    5,
                    5,
                    5,
                    5,
                    5,
                    5,
                    5,
                    5,
                    5,
                    5,
                    5,
                    5,
                    5,
                    5,
                    5,
                    5,
                    5,
                    5,
                    5,
                    5,
                    5,
                    5,
                    5,
                    5,
                    5,
                    5,
                    5,
                    5,
                    5,
                    5,
                    5,
                    5,
                    5,
                    5,
                    5,
                    5,
                    5,
                    5,
                    5,
                    5,
                    5,
                    5,
                    5,
                    5,
                    5,
                    5,
                    5,
                    5,
                    5,
                    5,
                    5,
                    5,
                    5,
                    5,
                    5,
                    5,
                    5,
                    5,
                    5,
                    5,
                    5,
                    5,
                    5,
                    5,
                    5,
                    5,
                    5,
                    5,
                    5,
                    5,
                    5,
                    5,
                    5,
                    5,
                    5,
                    5,
                    5,
                    5,
                    5,
                    5,
                    5,
                    5,
                    5,
                    5,
                    5,
                    5,
                    5,
                    5,
                    5,
                    5,
                    5,
                    5,
                    5,
                    5,
                    5,
                    5,
                    5,
                    5,
                    5,
                    5,
                    5,
                    5,
                    5,
                    5,
                    5,
                    5,
                    5,
                    5,
                    5,
                    5,
                    5,
                    5,
                    5,
                    5,
                    5,
                    5,
                    5,
                    5,
                    5,
                    5,
                    5,
                    5,
                    5,
                    5,
                    5,
                    5,
                    5,
                    5,
                    5,
                    5,
                    5,
                    5,
                    5,
                    5,
                    5,
                    5,
                    5,
                    5,
                    5,
                    5,
                    5,
                    5,
                    5,
                    5,
                    5,
                    5,
                    5,
                    5,
                    5,
                    5,
                    5,
                    5,
                    5,
                    5,
                    5,
                    5,
                    5,
                    5,
                    5,
                    5,
                    5,
                    5,
                    5,
                    5,
                    5,
                    5,
                    5,
                    5,
                    5,
                    5,
                    5,
                    5,
                    5,
                    5,
                    5,
                    5,
                    5,
                    5,
                    5,
                    5,
                    5,
                    5,
                    5,
                    5,
                    5,
                    5,
                    5,
                    5,
                    5,
                    5,
                    5,
                    5,
                    5,
                    5,
                    5,
                    5,
                    5,
                    5,
                    5,
                    5,
                    5,
                    5,
                    5,
                    5,
                    5,
                    5,
                    5,
                    5,
                    5,
                    5,
                    5,
                    5,
                    5,
                    5,
                    5,
                    5,
                    5,
                    5,
                    5,
                    5,
                    5,
                    5,
                    5,
                    5,
                    5,
                    5,
                    5,
                    5,
                    5,
                    5,
                    5,
                    5,
                    5,
                    5,
                    5,
                    5,
                    5,
                    5,
                    5,
                    5,
                    5,
                    5,
                    5,
                    5,
                    5,
                    5,
                    5,
                    5,
                    5,
                    5,
                    5,
                    5,
                    5,
                    5,
                    5,
                    5,
                    5,
                    5,
                    5,
                    5,
                    5,
                    5,
                    5,
                    5,
                    5,
                    5,
                    5,
                    5,
                    5,
                    5,
                    5,
                    5,
                    5,
                    5,
                    5,
                    5,
                    5,
                    5,
                    5,
                    5,
                    5,
                    5,
                    5,
                    5,
                    5,
                    5,
                    5,
                    5,
                    5,
                    5,
                    5,
                    5,
                    5,
                    5,
                    5,
                    5,
                    5,
                    5,
                    5,
                    5,
                    5,
                    5,
                    5,
                    5,
                    5,
                    5,
                    5,
                    5,
                    5,
                    5,
                    5,
                    5,
                    5,
                    5,
                    5,
                    5,
                    5,
                    5,
                    5,
                    5,
                    5,
                    5,
                    5,
                    5,
                    5,
                    5,
                    5,
                    5,
                    5,
                    5,
                    5,
                    5,
                    5,
                    5,
                    5,
                    5,
                    5,
                    5,
                    5,
                    5,
                    5,
                    5,
                    5,
                    5,
                    5,
                    5,
                    5,
                    5,
                    5,
                    5,
                    5,
                    5,
                    5,
                    5,
                    5,
                    5,
                    5,
                    5,
                    5,
                    5,
                    5,
                    5,
                    5,
                    5,
                    5,
                    5,
                    5,
                    5,
                    5,
                    5,
                    5,
                    5,
                    5,
                    5,
                    5,
                    5,
                    5,
                    5,
                    5,
                    5,
                    5,
                    5,
                    5,
                    5,
                    5,
                    5,
                    5,
                    5,
                    5,
                    5,
                    5,
                    5,
                    5,
                    5,
                    5,
                    5,
                    5,
                    5,
                    5,
                    5,
                    5,
                    5,
                    5,
                    5,
                    5,
                    5,
                    5,
                    5,
                    5,
                    5,
                    5,
                    5,
                    5,
                    5,
                    5,
                    5,
                    5,
                    5,
                    5,
                    5,
                    5,
                    5,
                    5,
                    5,
                    5,
                    5,
                    5,
                    5,
                    5,
                    5,
                    5,
                    5,
                    5,
                    5,
                    5,
                    5,
                    5,
                    5,
                    5,
                    5,
                    5,
                    5,
                    5,
                    5,
                    5,
                    5,
                    5,
                    5,
                    5,
                    5,
                    5,
                    5,
                    5,
                    5,
                    5,
                    5,
                    5,
                    5,
                    5,
                    5,
                    5,
                    5,
                    5,
                    5,
                    5,
                    5,
                    5,
                    5,
                    5,
                    5,
                    5,
                    5,
                    5,
                    5,
                    5,
                    5,
                    5,
                    5,
                    5,
                    5,
                    5,
                    5,
                    5,
                    5,
                    5,
                    5,
                    5,
                    5,
                    5,
                    5,
                    5,
                    5,
                    5,
                    5,
                    5,
                    5,
                    5,
                    5,
                    5,
                    5,
                    5,
                    5,
                    5,
                    5,
                    5,
                    5,
                    5,
                    5,
                    5,
                    5,
                    5,
                    5,
                    5,
                    5,
                    5,
                    5,
                    5,
                    5,
                    5,
                    5,
                    5,
                    5,
                    5,
                    5,
                    5,
                    5,
                    5,
                    5,
                    5,
                    5,
                    5,
                    5,
                    5,
                    5,
                    5,
                    5,
                    5,
                    5,
                    5,
                    5,
                    5,
                    5,
                    5,
                    5,
                    5,
                    5,
                    5,
                    5,
                    5,
                    5,
                    5,
                    5,
                    5,
                    5,
                    5,
                    5,
                    5,
                    5,
                    5,
                    5,
                    5,
                    5,
                    5,
                    5,
                    5,
                    5,
                    5,
                    5,
                    5,
                    5,
                    5,
                    5,
                    5,
                    5,
                    5,
                    5,
                    5,
                    5,
                    5,
                    5,
                    5,
                    5,
                    5,
                    5,
                    5,
                    5,
                    5,
                    5,
                    5,
                    5,
                    5,
                    5,
                    5,
                    5,
                    5,
                    5,
                    5,
                    5,
                    5,
                    5,
                    5,
                    5,
                    5,
                    5,
                    5,
                    5,
                    5,
                    5,
                    5,
                    5,
                    5,
                    5,
                    5,
                    5,
                    5,
                    5,
                    5,
                    5,
                    5,
                    5,
                    5,
                    5,
                    5,
                    5,
                    5,
                    5,
                    5,
                    5,
                    5,
                    5,
                    5,
                    5,
                    5,
                    5,
                    5,
                    5,
                    5,
                    5,
                    5,
                    5,
                    5,
                    5,
                    5,
                    5,
                    5,
                    5,
                    5,
                    5,
                    5,
                    5,
                    5,
                    5,
                    5,
                    5,
                    5,
                    5,
                    5,
                    5,
                    5,
                    5,
                    5,
                    5,
                    5,
                    5,
                    5,
                    5,
                    5,
                    5,
                    5,
                    5,
                    5,
                    5,
                    5,
                    5,
                    5,
                    5,
                    5,
                    5,
                    5,
                    5,
                    5,
                    5,
                    5,
                    5,
                    5,
                    5,
                    5,
                    5,
                    5,
                    5,
                    5,
                    5,
                    5,
                    5,
                    5,
                    5,
                    5,
                    5,
                    5,
                    5,
                    5,
                    5,
                    5,
                    5,
                    5,
                    5,
                    5,
                    5,
                    5,
                    5,
                    5,
                    5,
                    5,
                    5,
                    5,
                    5,
                    5,
                    5,
                    5,
                    5,
                    5,
                    5,
                    5,
                    5,
                    5,
                    5,
                    5,
                    5,
                    5,
                    5,
                    5,
                    5,
                    5,
                    5,
                    5,
                    5,
                    5,
                    5,
                    5,
                    5,
                    5,
                    5,
                    5,
                    5,
                    5,
                    5,
                    5,
                    5,
                    5,
                    5,
                    5,
                    5,
                    5,
                    5,
                    5,
                    5,
                    5,
                    5,
                    5,
                    5,
                    5,
                    5,
                    5,
                    5,
                    5,
                    5,
                    5,
                    5,
                    5,
                    5,
                    5,
                    5,
                    5,
                    5,
                    5,
                    5,
                    5,
                    5,
                    5,
                    5,
                    5,
                    5,
                    5,
                    5,
                    5,
                    5,
                    5,
                    5,
                    5,
                    5,
                    5,
                    5,
                    5,
                    5,
                    5,
                    5,
                    5,
                    5,
                    5,
                    5,
                    5,
                    5,
                    5,
                    5,
                    5,
                    5,
                    5,
                    5,
                    5,
                    5,
                    5,
                    5,
                    5,
                    5,
                    5,
                    5,
                    5,
                    5,
                    5,
                    5,
                    5,
                    5,
                    5,
                    5,
                    5,
                    5,
                    5,
                    5,
                    5,
                    5,
                    5,
                    5,
                    5,
                    5,
                    5,
                    5,
                    5,
                    5,
                    5,
                    5,
                    5,
                    5,
                    5,
                    5,
                    5,
                    5,
                    5,
                    5,
                    5,
                    5,
                    5,
                    5,
                    5,
                    5,
                    5,
                    5,
                    5,
                    5,
                    5,
                    5,
                    5,
                    5,
                    5,
                    5,
                    5,
                    5,
                    5,
                    5,
                    5,
                    5,
                    5,
                    5,
                    5,
                    5,
                    5,
                    5,
                    5,
                    5,
                    5,
                    5,
                    5,
                    5,
                    5,
                    5,
                    5,
                    5,
                    5,
                    5,
                    5,
                    5,
                    5,
                    5,
                    5,
                    5,
                    5,
                    5,
                    5,
                    5,
                    5,
                    5,
                    5,
                    5,
                    5,
                    5,
                    5,
                    5,
                    5,
                    5,
                    5,
                    5,
                    5,
                    5,
                    5,
                    5,
                    5,
                    5,
                    5,
                    5,
                    5,
                    5,
                    5,
                    5,
                    5,
                    5,
                    5,
                    5,
                    5,
                    5,
                    5,
                    3,
                    5,
                    5,
                    5,
                    5,
                    5,
                    5,
                    5,
                    5,
                    5,
                    5,
                    5,
                    5,
                    5,
                    5,
                    5,
                    5,
                    5,
                    5,
                    5,
                    5,
                    5,
                    5,
                    5,
                    5,
                    5,
                    5,
                    5,
                    5,
                    5,
                    5,
                    5,
                    5,
                    5,
                    5,
                    5,
                    5,
                    5,
                    5,
                    5,
                    5,
                    5,
                    5,
                    5,
                    5,
                    5,
                    5,
                    5,
                    5,
                    5,
                    5,
                    5,
                    5,
                    5,
                    5,
                    5,
                    5,
                    5,
                    5,
                    5,
                    5,
                    5,
                    5,
                    5,
                    5,
                    5,
                    5,
                    3,
                    3,
                    3,
                    3,
                    3,
                    5,
                    5,
                    5,
                    5,
                    5,
                    5,
                    5,
                    5,
                    5,
                    5,
                    5,
                    5,
                    5,
                    5,
                    5,
                    5,
                    5,
                    5,
                    5,
                    5,
                    5,
                    5,
                    5,
                    5,
                    5,
                    5,
                    5,
                    5,
                    5,
                    5,
                    5,
                    5,
                    5,
                    5,
                    5,
                    5,
                    5,
                    5,
                    5,
                    5,
                    5,
                    5,
                    5,
                    5,
                    5,
                    5,
                    5,
                    5,
                    5,
                    5,
                    5,
                    5,
                    5,
                    5,
                    5,
                    5,
                    5,
                    5,
                    3,
                    3,
                    3,
                    3,
                    3,
                    3,
                    3,
                    3,
                    3,
                    5,
                    5,
                    5,
                    5,
                    5,
                    3,
                    3,
                    3,
                    3,
                    5,
                    5,
                    5,
                    5,
                    5,
                    5,
                    5,
                    5,
                    5,
                    5,
                    5,
                    5,
                    5,
                    5,
                    5,
                    5,
                    3,
                    3,
                    3,
                    3,
                    3,
                    5,
                    5,
                    5,
                    5,
                    3,
                    3,
                    3,
                    3,
                    3,
                    3,
                    3,
                    3,
                    3,
                    5,
                    5,
                    5,
                    5,
                    5,
                    5,
                    5,
                    5,
                    5,
                    5,
                    5,
                    3,
                    3,
                    3,
                    3,
                    3,
                    3,
                    3,
                    3,
                    3,
                    3,
                    3,
                    3,
                    3,
                    5,
                    5,
                    3,
                    3,
                    3,
                    3,
                    3,
                    3,
                    5,
                    3,
                    5,
                    5,
                    5,
                    5,
                    5,
                    5,
                    5,
                    5,
                    5,
                    5,
                    5,
                    5,
                    5,
                    3,
                    3,
                    3,
                    3,
                    3,
                    3,
                    3,
                    3,
                    3,
                    3,
                    5,
                    3,
                    3,
                    3,
                    3,
                    3,
                    3,
                    3,
                    3,
                    3,
                    3,
                    3,
                    3,
                    3,
                    3,
                    5,
                    5,
                    5,
                    5,
                    5,
                    5,
                    5,
                    3,
                    3,
                    3,
                    3,
                    3,
                    3,
                    3,
                    3,
                    3,
                    3,
                    3,
                    3,
                    3,
                    3,
                    3,
                    3,
                    3,
                    3,
                    3,
                    3,
                    3,
                    3,
                    3,
                    3,
                    3,
                    3,
                    3,
                    3,
                    3,
                    3,
                    3,
                    3,
                    5,
                    5,
                    5,
                    3,
                    3,
                    3,
                    3,
                    3,
                    3,
                    3,
                    3,
                    3,
                    3,
                    3,
                    3,
                    3,
                    3,
                    3,
                    3,
                    3,
                    3,
                    3,
                    3,
                    3,
                    3,
                    3,
                    3,
                    3,
                    3,
                    3,
                    5,
                    5,
                    5,
                    5,
                    3,
                    3,
                    3,
                    3,
                    3,
                    3,
                    3,
                    3,
                    3,
                    3,
                    3,
                    3,
                    3,
                    3,
                    3,
                    3,
                    3,
                    3,
                    3,
                    3,
                    3,
                    3,
                    3,
                    3,
                    3,
                    3,
                    3,
                    3,
                    3,
                    3,
                    3,
                    3,
                    3,
                    3,
                    3,
                    3,
                    3,
                    3,
                    3,
                    3,
                    3,
                    3,
                    3,
                    3,
                    3,
                    3,
                    3,
                    3,
                    3,
                    3,
                    3,
                    3,
                    3,
                    3,
                    3,
                    3,
                    3,
                    3,
                    3,
                    5,
                    5,
                    5,
                    3,
                    3,
                    3,
                    3,
                    3,
                    3,
                    3,
                    3,
                    3,
                    3,
                    3,
                    3,
                    3,
                    3,
                    3,
                    3,
                    3,
                    3,
                    3,
                    3,
                    3,
                    3,
                    3,
                    3,
                    3,
                    3,
                    3,
                    3,
                    3,
                    3,
                    3,
                    3,
                    3,
                    3,
                    3,
                    3,
                    3,
                    3,
                    3,
                    3,
                    3,
                    3,
                    3,
                    3,
                    3,
                    3,
                    3,
                    3,
                    3,
                    3,
                    3,
                    3,
                    3,
                    3,
                    3,
                    3,
                    3,
                    3,
                    3,
                    3,
                    3,
                    3,
                    3,
                    3,
                    3,
                    5,
                    5,
                    5,
                    5,
                    3,
                    3,
                    3,
                    3,
                    3,
                    3,
                    3,
                    3,
                    3,
                    3,
                    3,
                    3,
                    3,
                    3,
                    3,
                    3,
                    3,
                    3,
                    3,
                    3,
                    3,
                    3,
                    3,
                    3,
                    3,
                    3,
                    3,
                    3,
                    3,
                    3,
                    5,
                    5,
                    5,
                    5,
                    5,
                    5,
                    3,
                    3,
                    3,
                    3,
                    3,
                    3,
                    3,
                    3,
                    3,
                    3,
                    3,
                    3,
                    3,
                    3,
                    3,
                    3,
                    3,
                    3,
                    3,
                    3,
                    3,
                    3,
                    3,
                    3,
                    3,
                    3,
                    3,
                    3,
                    3,
                    3,
                    3,
                    5,
                    5,
                    5,
                    3,
                    3,
                    3,
                    3,
                    3,
                    3,
                    3,
                    3,
                    3,
                    3,
                    3,
                    3,
                    3,
                    3,
                    3,
                    3,
                    3,
                    3,
                    3,
                    3,
                    3,
                    3,
                    3,
                    3,
                    3,
                    3,
                    3,
                    3,
                    3,
                    3,
                    3,
                    3,
                    3,
                    3,
                    3,
                    3,
                    5,
                    3,
                    3,
                    3,
                    3,
                    3,
                    3,
                    3,
                    3,
                    3,
                    3,
                    3,
                    3,
                    3,
                    3,
                    3,
                    3,
                    3,
                    3,
                    3,
                    3,
                    3,
                    3,
                    3,
                    3,
                    3,
                    3,
                    3,
                    3,
                    3,
                    3,
                    3,
                    3,
                    3,
                    3,
                    3,
                    3,
                    3,
                    3,
                    3,
                    3,
                    3,
                    3,
                    3,
                    3,
                    3,
                    3,
                    3,
                    3,
                    3,
                    3,
                    3,
                    3,
                    3,
                    3,
                    3,
                    3,
                    3,
                    3,
                    3,
                    3,
                    3,
                    3,
                    3,
                    3,
                    3,
                    3,
                    3,
                    3,
                    3,
                    3,
                    3,
                    3,
                    3,
                    3,
                    3,
                    3,
                    3,
                    3,
                    3,
                    3,
                    3,
                    3,
                    3,
                    3,
                    3,
                    3,
                    3,
                    3,
                    3,
                    3,
                    3,
                    3,
                    3,
                    3,
                    3,
                    3,
                    3,
                    3,
                    3,
                    3,
                    3,
                    3,
                    3,
                    3,
                    3,
                    3,
                    3,
                    3,
                    3,
                    3,
                    3,
                    3,
                    3,
                    3,
                    3,
                    3,
                    3,
                    3,
                    3,
                    3,
                    3,
                    3,
                    3,
                    3,
                    3,
                    3,
                    3,
                    3,
                    3,
                    3,
                    3,
                    3,
                    3,
                    3,
                    3,
                    3,
                    3,
                    3,
                    3,
                    3,
                    3,
                    3,
                    3,
                    3,
                    3,
                    3,
                    3,
                    3,
                    3,
                    3,
                    3,
                    3,
                    3,
                    3,
                    3,
                    3,
                    3,
                    3,
                    3,
                    3,
                    3,
                    3,
                    3,
                    3,
                    3,
                    3,
                    3,
                    3,
                    3,
                    3,
                    3,
                    3,
                    3,
                    3,
                    3,
                    3,
                    3,
                    3,
                    3,
                    3,
                    3,
                    3,
                    3,
                    3,
                    3,
                    3,
                    3,
                    3,
                    3,
                    3,
                    3,
                    3,
                    3,
                    3,
                    3,
                    3,
                    3,
                    3,
                    3,
                    3,
                    3,
                    3,
                    3,
                    3,
                    3,
                    3,
                    3,
                    3,
                    3,
                    3,
                    3,
                    3,
                    3,
                    3,
                    3,
                    3,
                    3,
                    3,
                    3,
                    3,
                    3,
                    3,
                    3,
                    3,
                    3,
                    3,
                    3,
                    3,
                    3,
                    3,
                    3,
                    3,
                    3,
                    3,
                    3,
                    3,
                    3,
                    3,
                    3,
                    3,
                    3,
                    3,
                    3,
                    3,
                    3,
                    3,
                    3,
                    3,
                    3,
                    3,
                    3,
                    3,
                    3,
                    3,
                    3,
                    3,
                    3,
                    3,
                    3,
                    3,
                    3,
                    3,
                    3,
                    3,
                    3,
                    3,
                    3,
                    3,
                    3,
                    3,
                    3,
                    3,
                    3,
                    3,
                    3,
                    3,
                    3,
                    3,
                    3,
                    3,
                    3,
                    3,
                    3,
                    3,
                    3,
                    3,
                    3,
                    3,
                    3,
                    3,
                    3,
                    3,
                    3,
                    3,
                    3,
                    3,
                    3,
                    3,
                    3,
                    3,
                    3,
                    3,
                    3,
                    3,
                    3,
                    3,
                    3,
                    3,
                    3,
                    3,
                    3,
                    3,
                    3,
                    3,
                    3,
                    3,
                    3,
                    3,
                    3,
                    3,
                    3,
                    3,
                    3,
                    3,
                    3,
                    3,
                    3,
                    3,
                    3,
                    3,
                    3,
                    3,
                    3,
                    3,
                    3,
                    3,
                    3,
                    3,
                    3,
                    3,
                    3,
                    3,
                    3,
                    3,
                    3,
                    3,
                    3,
                    3,
                    3,
                    3,
                    3,
                    3,
                    3,
                    3,
                    3,
                    3,
                    3,
                    3,
                    3,
                    3,
                    3,
                    3,
                    3,
                    3,
                    3,
                    3,
                    3,
                    3,
                    3,
                    3,
                    3,
                    3,
                    3,
                    3,
                    3,
                    3,
                    3,
                    3,
                    3,
                    3,
                    3,
                    3,
                    3,
                    3,
                    3,
                    3,
                    3,
                    3,
                    3,
                    3,
                    3,
                    3,
                    3,
                    3,
                    3,
                    3,
                    3,
                    3,
                    3,
                    3,
                    3,
                    3,
                    3,
                    3,
                    3,
                    3,
                    3,
                    3,
                    3,
                    3,
                    3,
                    3,
                    3,
                    3,
                    3,
                    3,
                    3,
                    3,
                    3,
                    3,
                    3,
                    3,
                    3,
                    3,
                    3,
                    3,
                    3,
                    3,
                    3,
                    3,
                    3,
                    3,
                    3,
                    3,
                    3,
                    3,
                    3,
                    3,
                    3,
                    3,
                    3,
                    3,
                    3,
                    3,
                    3,
                    3,
                    3,
                    3,
                    3,
                    3,
                    3,
                    3,
                    3,
                    3,
                    3,
                    3,
                    3,
                    3,
                    3,
                    3,
                    3,
                    3,
                    3,
                    3,
                    3,
                    3,
                    3,
                    3,
                    3,
                    3,
                    3,
                    3,
                    3,
                    3,
                    3,
                    3,
                    3,
                    3,
                    3,
                    3,
                    3,
                    3,
                    3,
                    3,
                    3,
                    3,
                    3,
                    3,
                    3,
                    3,
                    3,
                    3,
                    3,
                    3,
                    3,
                    3,
                    3,
                    3,
                    3,
                    3,
                    3,
                    3,
                    3,
                    3,
                    3
                  ],
                  "xaxis": "x",
                  "yaxis": "y"
                }
              ],
              "frames": [],
              "layout": {
                "legend": {
                  "tracegroupgap": 0
                },
                "margin": {
                  "b": 50,
                  "l": 50,
                  "r": 50,
                  "t": 60
                },
                "template": {
                  "data": {
                    "bar": [
                      {
                        "error_x": {
                          "color": "#2a3f5f"
                        },
                        "error_y": {
                          "color": "#2a3f5f"
                        },
                        "marker": {
                          "line": {
                            "color": "#E5ECF6",
                            "width": 0.5
                          }
                        },
                        "type": "bar"
                      }
                    ],
                    "barpolar": [
                      {
                        "marker": {
                          "line": {
                            "color": "#E5ECF6",
                            "width": 0.5
                          }
                        },
                        "type": "barpolar"
                      }
                    ],
                    "carpet": [
                      {
                        "aaxis": {
                          "endlinecolor": "#2a3f5f",
                          "gridcolor": "white",
                          "linecolor": "white",
                          "minorgridcolor": "white",
                          "startlinecolor": "#2a3f5f"
                        },
                        "baxis": {
                          "endlinecolor": "#2a3f5f",
                          "gridcolor": "white",
                          "linecolor": "white",
                          "minorgridcolor": "white",
                          "startlinecolor": "#2a3f5f"
                        },
                        "type": "carpet"
                      }
                    ],
                    "choropleth": [
                      {
                        "colorbar": {
                          "outlinewidth": 0,
                          "ticks": ""
                        },
                        "type": "choropleth"
                      }
                    ],
                    "contour": [
                      {
                        "colorbar": {
                          "outlinewidth": 0,
                          "ticks": ""
                        },
                        "colorscale": [
                          [
                            0,
                            "#0d0887"
                          ],
                          [
                            0.1111111111111111,
                            "#46039f"
                          ],
                          [
                            0.2222222222222222,
                            "#7201a8"
                          ],
                          [
                            0.3333333333333333,
                            "#9c179e"
                          ],
                          [
                            0.4444444444444444,
                            "#bd3786"
                          ],
                          [
                            0.5555555555555556,
                            "#d8576b"
                          ],
                          [
                            0.6666666666666666,
                            "#ed7953"
                          ],
                          [
                            0.7777777777777778,
                            "#fb9f3a"
                          ],
                          [
                            0.8888888888888888,
                            "#fdca26"
                          ],
                          [
                            1,
                            "#f0f921"
                          ]
                        ],
                        "type": "contour"
                      }
                    ],
                    "contourcarpet": [
                      {
                        "colorbar": {
                          "outlinewidth": 0,
                          "ticks": ""
                        },
                        "type": "contourcarpet"
                      }
                    ],
                    "heatmap": [
                      {
                        "colorbar": {
                          "outlinewidth": 0,
                          "ticks": ""
                        },
                        "colorscale": [
                          [
                            0,
                            "#0d0887"
                          ],
                          [
                            0.1111111111111111,
                            "#46039f"
                          ],
                          [
                            0.2222222222222222,
                            "#7201a8"
                          ],
                          [
                            0.3333333333333333,
                            "#9c179e"
                          ],
                          [
                            0.4444444444444444,
                            "#bd3786"
                          ],
                          [
                            0.5555555555555556,
                            "#d8576b"
                          ],
                          [
                            0.6666666666666666,
                            "#ed7953"
                          ],
                          [
                            0.7777777777777778,
                            "#fb9f3a"
                          ],
                          [
                            0.8888888888888888,
                            "#fdca26"
                          ],
                          [
                            1,
                            "#f0f921"
                          ]
                        ],
                        "type": "heatmap"
                      }
                    ],
                    "heatmapgl": [
                      {
                        "colorbar": {
                          "outlinewidth": 0,
                          "ticks": ""
                        },
                        "colorscale": [
                          [
                            0,
                            "#0d0887"
                          ],
                          [
                            0.1111111111111111,
                            "#46039f"
                          ],
                          [
                            0.2222222222222222,
                            "#7201a8"
                          ],
                          [
                            0.3333333333333333,
                            "#9c179e"
                          ],
                          [
                            0.4444444444444444,
                            "#bd3786"
                          ],
                          [
                            0.5555555555555556,
                            "#d8576b"
                          ],
                          [
                            0.6666666666666666,
                            "#ed7953"
                          ],
                          [
                            0.7777777777777778,
                            "#fb9f3a"
                          ],
                          [
                            0.8888888888888888,
                            "#fdca26"
                          ],
                          [
                            1,
                            "#f0f921"
                          ]
                        ],
                        "type": "heatmapgl"
                      }
                    ],
                    "histogram": [
                      {
                        "marker": {
                          "colorbar": {
                            "outlinewidth": 0,
                            "ticks": ""
                          }
                        },
                        "type": "histogram"
                      }
                    ],
                    "histogram2d": [
                      {
                        "colorbar": {
                          "outlinewidth": 0,
                          "ticks": ""
                        },
                        "colorscale": [
                          [
                            0,
                            "#0d0887"
                          ],
                          [
                            0.1111111111111111,
                            "#46039f"
                          ],
                          [
                            0.2222222222222222,
                            "#7201a8"
                          ],
                          [
                            0.3333333333333333,
                            "#9c179e"
                          ],
                          [
                            0.4444444444444444,
                            "#bd3786"
                          ],
                          [
                            0.5555555555555556,
                            "#d8576b"
                          ],
                          [
                            0.6666666666666666,
                            "#ed7953"
                          ],
                          [
                            0.7777777777777778,
                            "#fb9f3a"
                          ],
                          [
                            0.8888888888888888,
                            "#fdca26"
                          ],
                          [
                            1,
                            "#f0f921"
                          ]
                        ],
                        "type": "histogram2d"
                      }
                    ],
                    "histogram2dcontour": [
                      {
                        "colorbar": {
                          "outlinewidth": 0,
                          "ticks": ""
                        },
                        "colorscale": [
                          [
                            0,
                            "#0d0887"
                          ],
                          [
                            0.1111111111111111,
                            "#46039f"
                          ],
                          [
                            0.2222222222222222,
                            "#7201a8"
                          ],
                          [
                            0.3333333333333333,
                            "#9c179e"
                          ],
                          [
                            0.4444444444444444,
                            "#bd3786"
                          ],
                          [
                            0.5555555555555556,
                            "#d8576b"
                          ],
                          [
                            0.6666666666666666,
                            "#ed7953"
                          ],
                          [
                            0.7777777777777778,
                            "#fb9f3a"
                          ],
                          [
                            0.8888888888888888,
                            "#fdca26"
                          ],
                          [
                            1,
                            "#f0f921"
                          ]
                        ],
                        "type": "histogram2dcontour"
                      }
                    ],
                    "mesh3d": [
                      {
                        "colorbar": {
                          "outlinewidth": 0,
                          "ticks": ""
                        },
                        "type": "mesh3d"
                      }
                    ],
                    "parcoords": [
                      {
                        "line": {
                          "colorbar": {
                            "outlinewidth": 0,
                            "ticks": ""
                          }
                        },
                        "type": "parcoords"
                      }
                    ],
                    "pie": [
                      {
                        "automargin": true,
                        "type": "pie"
                      }
                    ],
                    "scatter": [
                      {
                        "marker": {
                          "colorbar": {
                            "outlinewidth": 0,
                            "ticks": ""
                          }
                        },
                        "type": "scatter"
                      }
                    ],
                    "scatter3d": [
                      {
                        "line": {
                          "colorbar": {
                            "outlinewidth": 0,
                            "ticks": ""
                          }
                        },
                        "marker": {
                          "colorbar": {
                            "outlinewidth": 0,
                            "ticks": ""
                          }
                        },
                        "type": "scatter3d"
                      }
                    ],
                    "scattercarpet": [
                      {
                        "marker": {
                          "colorbar": {
                            "outlinewidth": 0,
                            "ticks": ""
                          }
                        },
                        "type": "scattercarpet"
                      }
                    ],
                    "scattergeo": [
                      {
                        "marker": {
                          "colorbar": {
                            "outlinewidth": 0,
                            "ticks": ""
                          }
                        },
                        "type": "scattergeo"
                      }
                    ],
                    "scattergl": [
                      {
                        "marker": {
                          "colorbar": {
                            "outlinewidth": 0,
                            "ticks": ""
                          }
                        },
                        "type": "scattergl"
                      }
                    ],
                    "scattermapbox": [
                      {
                        "marker": {
                          "colorbar": {
                            "outlinewidth": 0,
                            "ticks": ""
                          }
                        },
                        "type": "scattermapbox"
                      }
                    ],
                    "scatterpolar": [
                      {
                        "marker": {
                          "colorbar": {
                            "outlinewidth": 0,
                            "ticks": ""
                          }
                        },
                        "type": "scatterpolar"
                      }
                    ],
                    "scatterpolargl": [
                      {
                        "marker": {
                          "colorbar": {
                            "outlinewidth": 0,
                            "ticks": ""
                          }
                        },
                        "type": "scatterpolargl"
                      }
                    ],
                    "scatterternary": [
                      {
                        "marker": {
                          "colorbar": {
                            "outlinewidth": 0,
                            "ticks": ""
                          }
                        },
                        "type": "scatterternary"
                      }
                    ],
                    "surface": [
                      {
                        "colorbar": {
                          "outlinewidth": 0,
                          "ticks": ""
                        },
                        "colorscale": [
                          [
                            0,
                            "#0d0887"
                          ],
                          [
                            0.1111111111111111,
                            "#46039f"
                          ],
                          [
                            0.2222222222222222,
                            "#7201a8"
                          ],
                          [
                            0.3333333333333333,
                            "#9c179e"
                          ],
                          [
                            0.4444444444444444,
                            "#bd3786"
                          ],
                          [
                            0.5555555555555556,
                            "#d8576b"
                          ],
                          [
                            0.6666666666666666,
                            "#ed7953"
                          ],
                          [
                            0.7777777777777778,
                            "#fb9f3a"
                          ],
                          [
                            0.8888888888888888,
                            "#fdca26"
                          ],
                          [
                            1,
                            "#f0f921"
                          ]
                        ],
                        "type": "surface"
                      }
                    ],
                    "table": [
                      {
                        "cells": {
                          "fill": {
                            "color": "#EBF0F8"
                          },
                          "line": {
                            "color": "white"
                          }
                        },
                        "header": {
                          "fill": {
                            "color": "#C8D4E3"
                          },
                          "line": {
                            "color": "white"
                          }
                        },
                        "type": "table"
                      }
                    ]
                  },
                  "layout": {
                    "annotationdefaults": {
                      "arrowcolor": "#2a3f5f",
                      "arrowhead": 0,
                      "arrowwidth": 1
                    },
                    "autotypenumbers": "strict",
                    "coloraxis": {
                      "colorbar": {
                        "outlinewidth": 0,
                        "ticks": ""
                      }
                    },
                    "colorscale": {
                      "diverging": [
                        [
                          0,
                          "#8e0152"
                        ],
                        [
                          0.1,
                          "#c51b7d"
                        ],
                        [
                          0.2,
                          "#de77ae"
                        ],
                        [
                          0.3,
                          "#f1b6da"
                        ],
                        [
                          0.4,
                          "#fde0ef"
                        ],
                        [
                          0.5,
                          "#f7f7f7"
                        ],
                        [
                          0.6,
                          "#e6f5d0"
                        ],
                        [
                          0.7,
                          "#b8e186"
                        ],
                        [
                          0.8,
                          "#7fbc41"
                        ],
                        [
                          0.9,
                          "#4d9221"
                        ],
                        [
                          1,
                          "#276419"
                        ]
                      ],
                      "sequential": [
                        [
                          0,
                          "#0d0887"
                        ],
                        [
                          0.1111111111111111,
                          "#46039f"
                        ],
                        [
                          0.2222222222222222,
                          "#7201a8"
                        ],
                        [
                          0.3333333333333333,
                          "#9c179e"
                        ],
                        [
                          0.4444444444444444,
                          "#bd3786"
                        ],
                        [
                          0.5555555555555556,
                          "#d8576b"
                        ],
                        [
                          0.6666666666666666,
                          "#ed7953"
                        ],
                        [
                          0.7777777777777778,
                          "#fb9f3a"
                        ],
                        [
                          0.8888888888888888,
                          "#fdca26"
                        ],
                        [
                          1,
                          "#f0f921"
                        ]
                      ],
                      "sequentialminus": [
                        [
                          0,
                          "#0d0887"
                        ],
                        [
                          0.1111111111111111,
                          "#46039f"
                        ],
                        [
                          0.2222222222222222,
                          "#7201a8"
                        ],
                        [
                          0.3333333333333333,
                          "#9c179e"
                        ],
                        [
                          0.4444444444444444,
                          "#bd3786"
                        ],
                        [
                          0.5555555555555556,
                          "#d8576b"
                        ],
                        [
                          0.6666666666666666,
                          "#ed7953"
                        ],
                        [
                          0.7777777777777778,
                          "#fb9f3a"
                        ],
                        [
                          0.8888888888888888,
                          "#fdca26"
                        ],
                        [
                          1,
                          "#f0f921"
                        ]
                      ]
                    },
                    "colorway": [
                      "#636efa",
                      "#EF553B",
                      "#00cc96",
                      "#ab63fa",
                      "#FFA15A",
                      "#19d3f3",
                      "#FF6692",
                      "#B6E880",
                      "#FF97FF",
                      "#FECB52"
                    ],
                    "font": {
                      "color": "#2a3f5f"
                    },
                    "geo": {
                      "bgcolor": "white",
                      "lakecolor": "white",
                      "landcolor": "#E5ECF6",
                      "showlakes": true,
                      "showland": true,
                      "subunitcolor": "white"
                    },
                    "hoverlabel": {
                      "align": "left"
                    },
                    "hovermode": "closest",
                    "mapbox": {
                      "style": "light"
                    },
                    "paper_bgcolor": "white",
                    "plot_bgcolor": "#E5ECF6",
                    "polar": {
                      "angularaxis": {
                        "gridcolor": "white",
                        "linecolor": "white",
                        "ticks": ""
                      },
                      "bgcolor": "#E5ECF6",
                      "radialaxis": {
                        "gridcolor": "white",
                        "linecolor": "white",
                        "ticks": ""
                      }
                    },
                    "scene": {
                      "xaxis": {
                        "backgroundcolor": "#E5ECF6",
                        "gridcolor": "white",
                        "gridwidth": 2,
                        "linecolor": "white",
                        "showbackground": true,
                        "ticks": "",
                        "zerolinecolor": "white"
                      },
                      "yaxis": {
                        "backgroundcolor": "#E5ECF6",
                        "gridcolor": "white",
                        "gridwidth": 2,
                        "linecolor": "white",
                        "showbackground": true,
                        "ticks": "",
                        "zerolinecolor": "white"
                      },
                      "zaxis": {
                        "backgroundcolor": "#E5ECF6",
                        "gridcolor": "white",
                        "gridwidth": 2,
                        "linecolor": "white",
                        "showbackground": true,
                        "ticks": "",
                        "zerolinecolor": "white"
                      }
                    },
                    "shapedefaults": {
                      "line": {
                        "color": "#2a3f5f"
                      }
                    },
                    "ternary": {
                      "aaxis": {
                        "gridcolor": "white",
                        "linecolor": "white",
                        "ticks": ""
                      },
                      "baxis": {
                        "gridcolor": "white",
                        "linecolor": "white",
                        "ticks": ""
                      },
                      "bgcolor": "#E5ECF6",
                      "caxis": {
                        "gridcolor": "white",
                        "linecolor": "white",
                        "ticks": ""
                      }
                    },
                    "title": {
                      "x": 0.05
                    },
                    "xaxis": {
                      "automargin": true,
                      "gridcolor": "white",
                      "linecolor": "white",
                      "ticks": "",
                      "title": {
                        "standoff": 15
                      },
                      "zerolinecolor": "white",
                      "zerolinewidth": 2
                    },
                    "yaxis": {
                      "automargin": true,
                      "gridcolor": "white",
                      "linecolor": "white",
                      "ticks": "",
                      "title": {
                        "standoff": 15
                      },
                      "zerolinecolor": "white",
                      "zerolinewidth": 2
                    }
                  }
                },
                "xaxis": {
                  "title": {
                    "text": "min_MTs"
                  }
                }
              }
            },
            "image/png": "[encoded data removed]",
            "image/svg+xml": "<svg class=\"main-svg\" xmlns=\"http://www.w3.org/2000/svg\" xmlns:xlink=\"http://www.w3.org/1999/xlink\" width=\"700\" height=\"500\" style=\"\" viewBox=\"0 0 700 500\"><rect x=\"0\" y=\"0\" width=\"700\" height=\"500\" style=\"fill: rgb(255, 255, 255); fill-opacity: 1;\"/><defs id=\"defs-5c2556\"><g class=\"clips\"><clipPath id=\"clip5c2556xyplot\" class=\"plotclip\"><rect width=\"600\" height=\"387\"/></clipPath><clipPath class=\"axesclip\" id=\"clip5c2556x\"><rect x=\"50\" y=\"0\" width=\"600\" height=\"500\"/></clipPath><clipPath class=\"axesclip\" id=\"clip5c2556y\"><rect x=\"0\" y=\"60\" width=\"700\" height=\"387\"/></clipPath><clipPath class=\"axesclip\" id=\"clip5c2556xy\"><rect x=\"50\" y=\"60\" width=\"600\" height=\"387\"/></clipPath></g><g class=\"gradients\"/></defs><g class=\"bglayer\"><rect class=\"bg\" x=\"50\" y=\"60\" width=\"600\" height=\"387\" style=\"fill: rgb(229, 236, 246); fill-opacity: 1; stroke-width: 0;\"/></g><g class=\"layer-below\"><g class=\"imagelayer\"/><g class=\"shapelayer\"/></g><g class=\"cartesianlayer\"><g class=\"subplot xy\"><g class=\"layer-subplot\"><g class=\"shapelayer\"/><g class=\"imagelayer\"/></g><g class=\"gridlayer\"><g class=\"x\"/><g class=\"y\"><path class=\"ygrid crisp\" transform=\"translate(0,406.6)\" d=\"M50,0h600\" style=\"stroke: rgb(255, 255, 255); stroke-opacity: 1; stroke-width: 1px;\"/><path class=\"ygrid crisp\" transform=\"translate(0,366.2)\" d=\"M50,0h600\" style=\"stroke: rgb(255, 255, 255); stroke-opacity: 1; stroke-width: 1px;\"/><path class=\"ygrid crisp\" transform=\"translate(0,325.8)\" d=\"M50,0h600\" style=\"stroke: rgb(255, 255, 255); stroke-opacity: 1; stroke-width: 1px;\"/><path class=\"ygrid crisp\" transform=\"translate(0,285.4)\" d=\"M50,0h600\" style=\"stroke: rgb(255, 255, 255); stroke-opacity: 1; stroke-width: 1px;\"/><path class=\"ygrid crisp\" transform=\"translate(0,244.99)\" d=\"M50,0h600\" style=\"stroke: rgb(255, 255, 255); stroke-opacity: 1; stroke-width: 1px;\"/><path class=\"ygrid crisp\" transform=\"translate(0,204.59)\" d=\"M50,0h600\" style=\"stroke: rgb(255, 255, 255); stroke-opacity: 1; stroke-width: 1px;\"/><path class=\"ygrid crisp\" transform=\"translate(0,164.19)\" d=\"M50,0h600\" style=\"stroke: rgb(255, 255, 255); stroke-opacity: 1; stroke-width: 1px;\"/><path class=\"ygrid crisp\" transform=\"translate(0,123.78999999999999)\" d=\"M50,0h600\" style=\"stroke: rgb(255, 255, 255); stroke-opacity: 1; stroke-width: 1px;\"/><path class=\"ygrid crisp\" transform=\"translate(0,83.39)\" d=\"M50,0h600\" style=\"stroke: rgb(255, 255, 255); stroke-opacity: 1; stroke-width: 1px;\"/></g></g><g class=\"zerolinelayer\"><path class=\"yzl zl crisp\" transform=\"translate(0,447)\" d=\"M50,0h600\" style=\"stroke: rgb(255, 255, 255); stroke-opacity: 1; stroke-width: 2px;\"/></g><path class=\"xlines-below\"/><path class=\"ylines-below\"/><g class=\"overlines-below\"/><g class=\"xaxislayer-below\"/><g class=\"yaxislayer-below\"/><g class=\"overaxes-below\"/><g class=\"plot\" transform=\"translate(50,60)\" clip-path=\"url('#clip5c2556xyplot')\"><g class=\"barlayer mlayer\"><g class=\"trace bars\" shape-rendering=\"crispEdges\" style=\"opacity: 1;\"><g class=\"points\"><g class=\"point\"><path d=\"M0,387V386.8H200V387Z\" style=\"vector-effect: non-scaling-stroke; opacity: 1; stroke-width: 0px; fill: rgb(99, 110, 250); fill-opacity: 1;\"/></g><g class=\"point\"><path d=\"M200,387V212.67H400V387Z\" style=\"vector-effect: non-scaling-stroke; opacity: 1; stroke-width: 0px; fill: rgb(99, 110, 250); fill-opacity: 1;\"/></g><g class=\"point\"><path d=\"M400,387V19.35H600V387Z\" style=\"vector-effect: non-scaling-stroke; opacity: 1; stroke-width: 0px; fill: rgb(99, 110, 250); fill-opacity: 1;\"/></g></g></g></g></g><g class=\"overplot\"/><path class=\"xlines-above crisp\" d=\"M0,0\" style=\"fill: none;\"/><path class=\"ylines-above crisp\" d=\"M0,0\" style=\"fill: none;\"/><g class=\"overlines-above\"/><g class=\"xaxislayer-above\"><g class=\"xtick\"><text text-anchor=\"middle\" x=\"0\" y=\"460\" transform=\"translate(100,0)\" style=\"font-family: 'Open Sans', verdana, arial, sans-serif; font-size: 12px; fill: rgb(42, 63, 95); fill-opacity: 1; white-space: pre;\">0</text></g><g class=\"xtick\"><text text-anchor=\"middle\" x=\"0\" y=\"460\" transform=\"translate(200,0)\" style=\"font-family: 'Open Sans', verdana, arial, sans-serif; font-size: 12px; fill: rgb(42, 63, 95); fill-opacity: 1; white-space: pre;\">1</text></g><g class=\"xtick\"><text text-anchor=\"middle\" x=\"0\" y=\"460\" transform=\"translate(300,0)\" style=\"font-family: 'Open Sans', verdana, arial, sans-serif; font-size: 12px; fill: rgb(42, 63, 95); fill-opacity: 1; white-space: pre;\">2</text></g><g class=\"xtick\"><text text-anchor=\"middle\" x=\"0\" y=\"460\" transform=\"translate(400,0)\" style=\"font-family: 'Open Sans', verdana, arial, sans-serif; font-size: 12px; fill: rgb(42, 63, 95); fill-opacity: 1; white-space: pre;\">3</text></g><g class=\"xtick\"><text text-anchor=\"middle\" x=\"0\" y=\"460\" transform=\"translate(500,0)\" style=\"font-family: 'Open Sans', verdana, arial, sans-serif; font-size: 12px; fill: rgb(42, 63, 95); fill-opacity: 1; white-space: pre;\">4</text></g><g class=\"xtick\"><text text-anchor=\"middle\" x=\"0\" y=\"460\" transform=\"translate(600,0)\" style=\"font-family: 'Open Sans', verdana, arial, sans-serif; font-size: 12px; fill: rgb(42, 63, 95); fill-opacity: 1; white-space: pre;\">5</text></g></g><g class=\"yaxislayer-above\"><g class=\"ytick\"><text text-anchor=\"end\" x=\"49\" y=\"4.199999999999999\" transform=\"translate(0,447)\" style=\"font-family: 'Open Sans', verdana, arial, sans-serif; font-size: 12px; fill: rgb(42, 63, 95); fill-opacity: 1; white-space: pre;\">0</text></g><g class=\"ytick\"><text text-anchor=\"end\" x=\"49\" y=\"4.199999999999999\" transform=\"translate(0,406.6)\" style=\"font-family: 'Open Sans', verdana, arial, sans-serif; font-size: 12px; fill: rgb(42, 63, 95); fill-opacity: 1; white-space: pre;\">200</text></g><g class=\"ytick\"><text text-anchor=\"end\" x=\"49\" y=\"4.199999999999999\" transform=\"translate(0,366.2)\" style=\"font-family: 'Open Sans', verdana, arial, sans-serif; font-size: 12px; fill: rgb(42, 63, 95); fill-opacity: 1; white-space: pre;\">400</text></g><g class=\"ytick\"><text text-anchor=\"end\" x=\"49\" y=\"4.199999999999999\" transform=\"translate(0,325.8)\" style=\"font-family: 'Open Sans', verdana, arial, sans-serif; font-size: 12px; fill: rgb(42, 63, 95); fill-opacity: 1; white-space: pre;\">600</text></g><g class=\"ytick\"><text text-anchor=\"end\" x=\"49\" y=\"4.199999999999999\" transform=\"translate(0,285.4)\" style=\"font-family: 'Open Sans', verdana, arial, sans-serif; font-size: 12px; fill: rgb(42, 63, 95); fill-opacity: 1; white-space: pre;\">800</text></g><g class=\"ytick\"><text text-anchor=\"end\" x=\"49\" y=\"4.199999999999999\" transform=\"translate(0,244.99)\" style=\"font-family: 'Open Sans', verdana, arial, sans-serif; font-size: 12px; fill: rgb(42, 63, 95); fill-opacity: 1; white-space: pre;\">1000</text></g><g class=\"ytick\"><text text-anchor=\"end\" x=\"49\" y=\"4.199999999999999\" transform=\"translate(0,204.59)\" style=\"font-family: 'Open Sans', verdana, arial, sans-serif; font-size: 12px; fill: rgb(42, 63, 95); fill-opacity: 1; white-space: pre;\">1200</text></g><g class=\"ytick\"><text text-anchor=\"end\" x=\"49\" y=\"4.199999999999999\" transform=\"translate(0,164.19)\" style=\"font-family: 'Open Sans', verdana, arial, sans-serif; font-size: 12px; fill: rgb(42, 63, 95); fill-opacity: 1; white-space: pre;\">1400</text></g><g class=\"ytick\"><text text-anchor=\"end\" x=\"49\" y=\"4.199999999999999\" transform=\"translate(0,123.78999999999999)\" style=\"font-family: 'Open Sans', verdana, arial, sans-serif; font-size: 12px; fill: rgb(42, 63, 95); fill-opacity: 1; white-space: pre;\">1600</text></g><g class=\"ytick\"><text text-anchor=\"end\" x=\"49\" y=\"4.199999999999999\" transform=\"translate(0,83.39)\" style=\"font-family: 'Open Sans', verdana, arial, sans-serif; font-size: 12px; fill: rgb(42, 63, 95); fill-opacity: 1; white-space: pre;\">1800</text></g></g><g class=\"overaxes-above\"/></g></g><g class=\"polarlayer\"/><g class=\"ternarylayer\"/><g class=\"geolayer\"/><g class=\"funnelarealayer\"/><g class=\"pielayer\"/><g class=\"treemaplayer\"/><g class=\"sunburstlayer\"/><g class=\"glimages\"/><defs id=\"topdefs-5c2556\"><g class=\"clips\"/></defs><g class=\"layer-above\"><g class=\"imagelayer\"/><g class=\"shapelayer\"/></g><g class=\"infolayer\"><g class=\"g-gtitle\"/><g class=\"g-xtitle\"><text class=\"xtitle\" x=\"350\" y=\"487.8\" text-anchor=\"middle\" style=\"font-family: 'Open Sans', verdana, arial, sans-serif; font-size: 14px; fill: rgb(42, 63, 95); opacity: 1; font-weight: normal; white-space: pre;\">min_MTs</text></g><g class=\"g-ytitle\"/></g></svg>",
            "text/html": [
              "<div\n",
              "    class=\"webio-mountpoint\"\n",
              "    data-webio-mountpoint=\"6176639210082597843\"\n",
              ">\n",
              "    <script>\n",
              "    (function(){\n",
              "    // Some integrations (namely, IJulia/Jupyter) use an alternate render pathway than\n",
              "    // just putting the html on the page. If WebIO isn't defined, then it's pretty likely\n",
              "    // that we're in one of those situations and the integration just isn't installed\n",
              "    // correctly.\n",
              "    if (typeof window.WebIO === \"undefined\") {\n",
              "        document\n",
              "            .querySelector('[data-webio-mountpoint=\"6176639210082597843\"]')\n",
              "            .innerHTML = (\n",
              "                '<div style=\"padding: 1em; background-color: #f8d6da; border: 1px solid #f5c6cb; font-weight: bold;\">' +\n",
              "                '<p><strong>WebIO not detected.</strong></p>' +\n",
              "                '<p>Please read ' +\n",
              "                '<a href=\"https://juliagizmos.github.io/WebIO.jl/latest/troubleshooting/not-detected/\" target=\"_blank\">the troubleshooting guide</a> ' +\n",
              "                'for more information on how to resolve this issue.</p>' +\n",
              "                '<p><a href=\"https://juliagizmos.github.io/WebIO.jl/latest/troubleshooting/not-detected/\" target=\"_blank\">https://juliagizmos.github.io/WebIO.jl/latest/troubleshooting/not-detected/</a></p>' +\n",
              "                '</div>'\n",
              "            );\n",
              "        return;\n",
              "    }\n",
              "    WebIO.mount(\n",
              "        document.querySelector('[data-webio-mountpoint=\"6176639210082597843\"]'),\n",
              "        {\"props\":{},\"nodeType\":\"Scope\",\"type\":\"node\",\"instanceArgs\":{\"imports\":{\"data\":[{\"name\":\"Plotly\",\"type\":\"js\",\"url\":\"\\/assetserver\\/974bc88f8fa21ff4c3cbd84b6afff90488058aa7-plotly.min.js\"},{\"name\":null,\"type\":\"js\",\"url\":\"\\/assetserver\\/64d87b978f97348bc0d43ca0daa59975ea5d4c91-plotly_webio.bundle.js\"}],\"type\":\"async_block\"},\"id\":\"9452246027603231428\",\"handlers\":{\"_toImage\":[\"(function (options){return this.Plotly.toImage(this.plotElem,options).then((function (data){return WebIO.setval({\\\"name\\\":\\\"image\\\",\\\"scope\\\":\\\"9452246027603231428\\\",\\\"id\\\":\\\"2748863663784705877\\\",\\\"type\\\":\\\"observable\\\"},data)}))})\"],\"__get_gd_contents\":[\"(function (prop){prop==\\\"data\\\" ? (WebIO.setval({\\\"name\\\":\\\"__gd_contents\\\",\\\"scope\\\":\\\"9452246027603231428\\\",\\\"id\\\":\\\"16350228251267835265\\\",\\\"type\\\":\\\"observable\\\"},this.plotElem.data)) : undefined; return prop==\\\"layout\\\" ? (WebIO.setval({\\\"name\\\":\\\"__gd_contents\\\",\\\"scope\\\":\\\"9452246027603231428\\\",\\\"id\\\":\\\"16350228251267835265\\\",\\\"type\\\":\\\"observable\\\"},this.plotElem.layout)) : undefined})\"],\"_downloadImage\":[\"(function (options){return this.Plotly.downloadImage(this.plotElem,options)})\"],\"_commands\":[\"(function (args){var fn=args.shift(); var elem=this.plotElem; var Plotly=this.Plotly; args.unshift(elem); return Plotly[fn].apply(this,args)})\"]},\"systemjs_options\":null,\"mount_callbacks\":[\"function () {\\n    var handler = ((function (Plotly,PlotlyWebIO){PlotlyWebIO.init(WebIO); var gd=this.dom.querySelector(\\\"#plot-b2bc2ea1-77e2-4c8a-90af-01c49e7912e3\\\"); this.plotElem=gd; this.Plotly=Plotly; (window.Blink!==undefined) ? (gd.style.width=\\\"100%\\\", gd.style.height=\\\"100vh\\\", gd.style.marginLeft=\\\"0%\\\", gd.style.marginTop=\\\"0vh\\\") : undefined; window.onresize=(function (){return Plotly.Plots.resize(gd)}); Plotly.newPlot(gd,[{\\\"xaxis\\\":\\\"x\\\",\\\"type\\\":\\\"histogram\\\",\\\"yaxis\\\":\\\"y\\\",\\\"x\\\":[3,5,5,5,0,5,5,5,5,5,5,5,5,5,5,5,5,5,5,5,5,5,5,5,5,5,5,5,5,5,5,5,5,5,5,5,5,5,5,5,5,5,5,5,5,5,5,5,5,5,5,5,5,5,5,5,5,5,5,5,5,5,5,5,5,5,5,5,5,5,5,5,5,5,5,5,5,5,5,5,5,5,5,5,5,5,5,5,5,5,5,5,5,5,5,5,5,5,5,5,5,5,5,5,5,5,5,5,5,5,5,5,5,5,5,5,5,5,5,5,5,5,5,5,5,5,5,5,5,5,5,5,5,5,5,5,5,5,5,5,5,5,5,5,5,5,5,5,5,5,5,5,5,5,5,5,5,5,5,5,5,5,5,5,5,5,5,5,5,5,5,5,5,5,5,5,5,5,5,5,5,5,5,5,5,5,5,5,5,5,5,5,5,5,5,5,5,5,5,5,5,5,5,5,5,5,5,5,5,5,5,5,5,5,5,5,5,5,5,5,5,5,5,5,5,5,5,5,5,5,5,5,5,5,5,5,5,5,5,5,5,5,5,5,5,5,5,5,5,5,5,5,5,5,5,5,5,5,5,5,5,5,5,5,5,5,5,5,5,5,5,5,5,5,5,5,5,5,5,5,5,5,5,5,5,5,5,5,5,5,5,5,5,5,5,5,5,5,5,5,5,5,5,5,5,5,5,5,5,5,5,5,5,5,5,5,5,5,5,5,5,5,5,5,5,5,5,5,5,5,5,5,5,5,5,5,5,5,5,5,5,5,5,5,5,5,5,5,5,5,5,5,5,5,5,5,5,5,5,5,5,5,5,5,5,5,5,5,5,5,5,5,5,5,5,5,5,5,5,5,5,5,5,5,5,5,5,5,5,5,5,5,5,5,5,5,5,5,5,5,5,5,5,5,5,5,5,5,5,5,5,5,5,5,5,5,5,5,5,5,5,5,5,5,5,5,5,5,5,5,5,5,5,5,5,5,5,5,5,5,5,5,5,5,5,5,5,5,5,5,5,5,5,5,5,5,5,5,5,5,5,5,5,5,5,5,5,5,5,5,5,5,5,5,5,5,5,5,5,5,5,5,5,5,5,5,5,5,5,5,5,5,5,5,5,5,5,5,5,5,5,5,5,5,5,5,5,5,5,5,5,5,5,5,5,5,5,5,5,5,5,5,5,5,5,5,5,5,5,5,5,5,5,5,5,5,5,5,5,5,5,5,5,5,5,5,5,5,5,5,5,5,5,5,5,5,5,5,5,5,5,5,5,5,5,5,5,5,5,5,5,5,5,5,5,5,5,5,5,5,5,5,5,5,5,5,5,5,5,5,5,5,5,5,5,5,5,5,5,5,5,5,5,5,5,5,5,5,5,5,5,5,5,5,5,5,5,5,5,5,5,5,5,5,5,5,5,5,5,5,5,5,5,5,5,5,5,5,5,5,5,5,5,5,5,5,5,5,5,5,5,5,5,5,5,5,5,5,5,5,5,5,5,5,5,5,5,5,5,5,5,5,5,5,5,5,5,5,5,5,5,5,5,5,5,5,5,5,5,5,5,5,5,5,5,5,5,5,5,5,5,5,5,5,5,5,5,5,5,5,5,5,5,5,5,5,5,5,5,5,5,5,5,5,5,5,5,5,5,5,5,5,5,5,5,5,5,5,5,5,5,5,5,5,5,5,5,5,5,5,5,5,5,5,5,5,5,5,5,5,5,5,5,5,5,5,5,5,5,5,5,5,5,5,5,5,5,5,5,5,5,5,5,5,5,5,5,5,5,5,5,5,5,5,5,5,5,5,5,5,5,5,5,5,5,5,5,5,5,5,5,5,5,5,5,5,5,5,5,5,5,5,5,5,5,5,5,5,5,5,5,5,5,5,5,5,5,5,5,5,5,5,5,5,5,5,5,5,5,5,5,5,5,5,5,5,5,5,5,5,5,5,5,5,5,5,5,5,5,5,5,5,5,5,5,5,5,5,5,5,5,5,5,5,5,5,5,5,5,5,5,5,5,5,5,5,5,5,5,5,5,5,5,5,5,5,5,5,5,5,5,5,5,5,5,5,5,5,5,5,5,5,5,5,5,5,5,5,5,5,5,5,5,5,5,5,5,5,5,5,5,5,5,5,5,5,5,5,5,5,5,5,5,5,5,5,5,5,5,5,5,5,5,5,5,5,5,5,5,5,5,5,5,5,5,5,5,5,5,5,5,5,5,5,5,5,5,5,5,5,5,5,5,5,5,5,5,5,5,5,5,5,5,5,5,5,5,5,5,5,5,5,5,5,5,5,5,5,5,5,5,5,5,5,5,5,5,5,5,5,5,5,5,5,5,5,5,5,5,5,5,5,5,5,5,5,5,5,5,5,5,5,5,5,5,5,5,5,5,5,5,5,5,5,5,5,5,5,5,5,5,5,5,5,5,5,5,5,5,5,5,5,5,5,5,5,5,5,5,5,5,5,5,5,5,5,5,5,5,5,5,5,5,5,5,5,5,5,5,5,5,5,5,5,5,5,5,5,5,5,5,5,5,5,5,5,5,5,5,5,5,5,5,5,5,5,5,5,5,5,5,5,5,5,5,5,5,5,5,5,5,5,5,5,5,5,5,5,5,5,5,5,5,5,5,5,5,5,5,5,5,5,5,5,5,5,5,5,5,5,5,5,5,5,5,5,5,5,5,5,5,5,5,5,5,5,5,5,5,5,5,5,5,5,5,5,5,5,5,5,5,5,5,5,5,5,5,5,5,5,5,5,5,5,5,5,5,5,5,5,5,5,5,5,5,5,5,5,5,5,5,5,5,5,5,5,5,5,5,5,5,5,5,5,5,5,5,5,5,5,5,5,5,5,5,5,5,5,5,5,5,5,5,5,5,5,5,5,5,5,5,5,5,5,5,5,5,5,5,5,5,5,5,5,5,5,5,5,5,5,5,5,5,5,5,5,5,5,5,5,5,5,5,5,5,5,5,5,5,5,5,5,5,5,5,5,5,5,5,5,5,5,5,5,5,5,5,5,5,5,5,5,5,5,5,5,5,5,5,5,5,5,5,5,5,5,5,5,5,5,5,5,5,5,5,5,5,5,5,5,5,5,5,5,5,5,5,5,5,5,5,5,5,5,5,5,5,5,5,5,5,5,5,5,5,5,5,5,5,5,5,5,5,5,5,5,5,5,5,5,5,5,5,5,5,5,5,5,5,5,5,5,5,5,5,5,5,5,5,5,5,5,5,5,5,5,5,5,5,5,5,5,5,5,5,5,5,5,5,5,5,5,5,5,5,5,5,5,5,5,5,5,5,5,5,5,5,5,5,5,5,5,5,5,5,5,5,5,5,5,5,5,5,5,5,5,5,5,5,5,5,5,5,5,5,5,5,5,5,5,5,5,5,5,5,5,5,5,5,5,5,5,5,5,5,5,5,5,5,5,5,5,5,5,5,5,5,5,5,5,5,5,5,5,5,5,5,5,5,5,5,5,5,5,5,5,5,5,5,5,5,5,5,5,5,5,5,5,5,5,5,5,5,5,5,5,5,5,5,5,5,5,5,5,5,5,5,5,5,5,5,5,5,5,5,5,5,5,5,5,5,5,5,5,5,5,5,5,5,5,5,5,5,5,5,5,5,5,5,5,5,5,5,5,3,5,5,5,5,5,5,5,5,5,5,5,5,5,5,5,5,5,5,5,5,5,5,5,5,5,5,5,5,5,5,5,5,5,5,5,5,5,5,5,5,5,5,5,5,5,5,5,5,5,5,5,5,5,5,5,5,5,5,5,5,5,5,5,5,5,5,3,3,3,3,3,5,5,5,5,5,5,5,5,5,5,5,5,5,5,5,5,5,5,5,5,5,5,5,5,5,5,5,5,5,5,5,5,5,5,5,5,5,5,5,5,5,5,5,5,5,5,5,5,5,5,5,5,5,5,5,5,5,5,3,3,3,3,3,3,3,3,3,5,5,5,5,5,3,3,3,3,5,5,5,5,5,5,5,5,5,5,5,5,5,5,5,5,3,3,3,3,3,5,5,5,5,3,3,3,3,3,3,3,3,3,5,5,5,5,5,5,5,5,5,5,5,3,3,3,3,3,3,3,3,3,3,3,3,3,5,5,3,3,3,3,3,3,5,3,5,5,5,5,5,5,5,5,5,5,5,5,5,3,3,3,3,3,3,3,3,3,3,5,3,3,3,3,3,3,3,3,3,3,3,3,3,3,5,5,5,5,5,5,5,3,3,3,3,3,3,3,3,3,3,3,3,3,3,3,3,3,3,3,3,3,3,3,3,3,3,3,3,3,3,3,3,5,5,5,3,3,3,3,3,3,3,3,3,3,3,3,3,3,3,3,3,3,3,3,3,3,3,3,3,3,3,5,5,5,5,3,3,3,3,3,3,3,3,3,3,3,3,3,3,3,3,3,3,3,3,3,3,3,3,3,3,3,3,3,3,3,3,3,3,3,3,3,3,3,3,3,3,3,3,3,3,3,3,3,3,3,3,3,3,3,3,3,3,3,5,5,5,3,3,3,3,3,3,3,3,3,3,3,3,3,3,3,3,3,3,3,3,3,3,3,3,3,3,3,3,3,3,3,3,3,3,3,3,3,3,3,3,3,3,3,3,3,3,3,3,3,3,3,3,3,3,3,3,3,3,3,3,3,3,3,3,3,5,5,5,5,3,3,3,3,3,3,3,3,3,3,3,3,3,3,3,3,3,3,3,3,3,3,3,3,3,3,3,3,3,3,5,5,5,5,5,5,3,3,3,3,3,3,3,3,3,3,3,3,3,3,3,3,3,3,3,3,3,3,3,3,3,3,3,3,3,3,3,5,5,5,3,3,3,3,3,3,3,3,3,3,3,3,3,3,3,3,3,3,3,3,3,3,3,3,3,3,3,3,3,3,3,3,3,3,3,3,5,3,3,3,3,3,3,3,3,3,3,3,3,3,3,3,3,3,3,3,3,3,3,3,3,3,3,3,3,3,3,3,3,3,3,3,3,3,3,3,3,3,3,3,3,3,3,3,3,3,3,3,3,3,3,3,3,3,3,3,3,3,3,3,3,3,3,3,3,3,3,3,3,3,3,3,3,3,3,3,3,3,3,3,3,3,3,3,3,3,3,3,3,3,3,3,3,3,3,3,3,3,3,3,3,3,3,3,3,3,3,3,3,3,3,3,3,3,3,3,3,3,3,3,3,3,3,3,3,3,3,3,3,3,3,3,3,3,3,3,3,3,3,3,3,3,3,3,3,3,3,3,3,3,3,3,3,3,3,3,3,3,3,3,3,3,3,3,3,3,3,3,3,3,3,3,3,3,3,3,3,3,3,3,3,3,3,3,3,3,3,3,3,3,3,3,3,3,3,3,3,3,3,3,3,3,3,3,3,3,3,3,3,3,3,3,3,3,3,3,3,3,3,3,3,3,3,3,3,3,3,3,3,3,3,3,3,3,3,3,3,3,3,3,3,3,3,3,3,3,3,3,3,3,3,3,3,3,3,3,3,3,3,3,3,3,3,3,3,3,3,3,3,3,3,3,3,3,3,3,3,3,3,3,3,3,3,3,3,3,3,3,3,3,3,3,3,3,3,3,3,3,3,3,3,3,3,3,3,3,3,3,3,3,3,3,3,3,3,3,3,3,3,3,3,3,3,3,3,3,3,3,3,3,3,3,3,3,3,3,3,3,3,3,3,3,3,3,3,3,3,3,3,3,3,3,3,3,3,3,3,3,3,3,3,3,3,3,3,3,3,3,3,3,3,3,3,3,3,3,3,3,3,3,3,3,3,3,3,3,3,3,3,3,3,3,3,3,3,3,3,3,3,3,3,3,3,3,3,3,3,3,3,3,3,3,3,3,3,3,3,3,3,3,3,3,3,3,3,3,3,3,3,3,3,3,3,3,3,3,3,3,3,3,3,3,3,3,3,3,3,3,3,3,3,3,3,3,3,3,3,3,3,3,3,3,3,3,3,3,3,3,3,3,3,3,3,3,3,3,3,3,3,3,3,3,3,3,3,3,3,3,3,3,3,3,3,3,3,3,3,3,3,3,3,3]}],{\\\"xaxis\\\":{\\\"title\\\":{\\\"text\\\":\\\"min_MTs\\\"}},\\\"template\\\":{\\\"layout\\\":{\\\"coloraxis\\\":{\\\"colorbar\\\":{\\\"ticks\\\":\\\"\\\",\\\"outlinewidth\\\":0}},\\\"xaxis\\\":{\\\"gridcolor\\\":\\\"white\\\",\\\"zerolinewidth\\\":2,\\\"title\\\":{\\\"standoff\\\":15},\\\"ticks\\\":\\\"\\\",\\\"zerolinecolor\\\":\\\"white\\\",\\\"automargin\\\":true,\\\"linecolor\\\":\\\"white\\\"},\\\"hovermode\\\":\\\"closest\\\",\\\"paper_bgcolor\\\":\\\"white\\\",\\\"geo\\\":{\\\"showlakes\\\":true,\\\"showland\\\":true,\\\"landcolor\\\":\\\"#E5ECF6\\\",\\\"bgcolor\\\":\\\"white\\\",\\\"subunitcolor\\\":\\\"white\\\",\\\"lakecolor\\\":\\\"white\\\"},\\\"colorscale\\\":{\\\"sequential\\\":[[0.0,\\\"#0d0887\\\"],[0.1111111111111111,\\\"#46039f\\\"],[0.2222222222222222,\\\"#7201a8\\\"],[0.3333333333333333,\\\"#9c179e\\\"],[0.4444444444444444,\\\"#bd3786\\\"],[0.5555555555555556,\\\"#d8576b\\\"],[0.6666666666666666,\\\"#ed7953\\\"],[0.7777777777777778,\\\"#fb9f3a\\\"],[0.8888888888888888,\\\"#fdca26\\\"],[1.0,\\\"#f0f921\\\"]],\\\"diverging\\\":[[0,\\\"#8e0152\\\"],[0.1,\\\"#c51b7d\\\"],[0.2,\\\"#de77ae\\\"],[0.3,\\\"#f1b6da\\\"],[0.4,\\\"#fde0ef\\\"],[0.5,\\\"#f7f7f7\\\"],[0.6,\\\"#e6f5d0\\\"],[0.7,\\\"#b8e186\\\"],[0.8,\\\"#7fbc41\\\"],[0.9,\\\"#4d9221\\\"],[1,\\\"#276419\\\"]],\\\"sequentialminus\\\":[[0.0,\\\"#0d0887\\\"],[0.1111111111111111,\\\"#46039f\\\"],[0.2222222222222222,\\\"#7201a8\\\"],[0.3333333333333333,\\\"#9c179e\\\"],[0.4444444444444444,\\\"#bd3786\\\"],[0.5555555555555556,\\\"#d8576b\\\"],[0.6666666666666666,\\\"#ed7953\\\"],[0.7777777777777778,\\\"#fb9f3a\\\"],[0.8888888888888888,\\\"#fdca26\\\"],[1.0,\\\"#f0f921\\\"]]},\\\"yaxis\\\":{\\\"gridcolor\\\":\\\"white\\\",\\\"zerolinewidth\\\":2,\\\"title\\\":{\\\"standoff\\\":15},\\\"ticks\\\":\\\"\\\",\\\"zerolinecolor\\\":\\\"white\\\",\\\"automargin\\\":true,\\\"linecolor\\\":\\\"white\\\"},\\\"shapedefaults\\\":{\\\"line\\\":{\\\"color\\\":\\\"#2a3f5f\\\"}},\\\"hoverlabel\\\":{\\\"align\\\":\\\"left\\\"},\\\"mapbox\\\":{\\\"style\\\":\\\"light\\\"},\\\"polar\\\":{\\\"angularaxis\\\":{\\\"gridcolor\\\":\\\"white\\\",\\\"ticks\\\":\\\"\\\",\\\"linecolor\\\":\\\"white\\\"},\\\"bgcolor\\\":\\\"#E5ECF6\\\",\\\"radialaxis\\\":{\\\"gridcolor\\\":\\\"white\\\",\\\"ticks\\\":\\\"\\\",\\\"linecolor\\\":\\\"white\\\"}},\\\"autotypenumbers\\\":\\\"strict\\\",\\\"font\\\":{\\\"color\\\":\\\"#2a3f5f\\\"},\\\"ternary\\\":{\\\"baxis\\\":{\\\"gridcolor\\\":\\\"white\\\",\\\"ticks\\\":\\\"\\\",\\\"linecolor\\\":\\\"white\\\"},\\\"bgcolor\\\":\\\"#E5ECF6\\\",\\\"caxis\\\":{\\\"gridcolor\\\":\\\"white\\\",\\\"ticks\\\":\\\"\\\",\\\"linecolor\\\":\\\"white\\\"},\\\"aaxis\\\":{\\\"gridcolor\\\":\\\"white\\\",\\\"ticks\\\":\\\"\\\",\\\"linecolor\\\":\\\"white\\\"}},\\\"annotationdefaults\\\":{\\\"arrowhead\\\":0,\\\"arrowwidth\\\":1,\\\"arrowcolor\\\":\\\"#2a3f5f\\\"},\\\"plot_bgcolor\\\":\\\"#E5ECF6\\\",\\\"title\\\":{\\\"x\\\":0.05},\\\"scene\\\":{\\\"xaxis\\\":{\\\"gridcolor\\\":\\\"white\\\",\\\"gridwidth\\\":2,\\\"backgroundcolor\\\":\\\"#E5ECF6\\\",\\\"ticks\\\":\\\"\\\",\\\"showbackground\\\":true,\\\"zerolinecolor\\\":\\\"white\\\",\\\"linecolor\\\":\\\"white\\\"},\\\"zaxis\\\":{\\\"gridcolor\\\":\\\"white\\\",\\\"gridwidth\\\":2,\\\"backgroundcolor\\\":\\\"#E5ECF6\\\",\\\"ticks\\\":\\\"\\\",\\\"showbackground\\\":true,\\\"zerolinecolor\\\":\\\"white\\\",\\\"linecolor\\\":\\\"white\\\"},\\\"yaxis\\\":{\\\"gridcolor\\\":\\\"white\\\",\\\"gridwidth\\\":2,\\\"backgroundcolor\\\":\\\"#E5ECF6\\\",\\\"ticks\\\":\\\"\\\",\\\"showbackground\\\":true,\\\"zerolinecolor\\\":\\\"white\\\",\\\"linecolor\\\":\\\"white\\\"}},\\\"colorway\\\":[\\\"#636efa\\\",\\\"#EF553B\\\",\\\"#00cc96\\\",\\\"#ab63fa\\\",\\\"#FFA15A\\\",\\\"#19d3f3\\\",\\\"#FF6692\\\",\\\"#B6E880\\\",\\\"#FF97FF\\\",\\\"#FECB52\\\"]},\\\"data\\\":{\\\"barpolar\\\":[{\\\"type\\\":\\\"barpolar\\\",\\\"marker\\\":{\\\"line\\\":{\\\"color\\\":\\\"#E5ECF6\\\",\\\"width\\\":0.5}}}],\\\"carpet\\\":[{\\\"aaxis\\\":{\\\"gridcolor\\\":\\\"white\\\",\\\"endlinecolor\\\":\\\"#2a3f5f\\\",\\\"minorgridcolor\\\":\\\"white\\\",\\\"startlinecolor\\\":\\\"#2a3f5f\\\",\\\"linecolor\\\":\\\"white\\\"},\\\"type\\\":\\\"carpet\\\",\\\"baxis\\\":{\\\"gridcolor\\\":\\\"white\\\",\\\"endlinecolor\\\":\\\"#2a3f5f\\\",\\\"minorgridcolor\\\":\\\"white\\\",\\\"startlinecolor\\\":\\\"#2a3f5f\\\",\\\"linecolor\\\":\\\"white\\\"}}],\\\"scatterpolar\\\":[{\\\"type\\\":\\\"scatterpolar\\\",\\\"marker\\\":{\\\"colorbar\\\":{\\\"ticks\\\":\\\"\\\",\\\"outlinewidth\\\":0}}}],\\\"parcoords\\\":[{\\\"line\\\":{\\\"colorbar\\\":{\\\"ticks\\\":\\\"\\\",\\\"outlinewidth\\\":0}},\\\"type\\\":\\\"parcoords\\\"}],\\\"scatter\\\":[{\\\"type\\\":\\\"scatter\\\",\\\"marker\\\":{\\\"colorbar\\\":{\\\"ticks\\\":\\\"\\\",\\\"outlinewidth\\\":0}}}],\\\"histogram2dcontour\\\":[{\\\"colorbar\\\":{\\\"ticks\\\":\\\"\\\",\\\"outlinewidth\\\":0},\\\"type\\\":\\\"histogram2dcontour\\\",\\\"colorscale\\\":[[0.0,\\\"#0d0887\\\"],[0.1111111111111111,\\\"#46039f\\\"],[0.2222222222222222,\\\"#7201a8\\\"],[0.3333333333333333,\\\"#9c179e\\\"],[0.4444444444444444,\\\"#bd3786\\\"],[0.5555555555555556,\\\"#d8576b\\\"],[0.6666666666666666,\\\"#ed7953\\\"],[0.7777777777777778,\\\"#fb9f3a\\\"],[0.8888888888888888,\\\"#fdca26\\\"],[1.0,\\\"#f0f921\\\"]]}],\\\"contour\\\":[{\\\"colorbar\\\":{\\\"ticks\\\":\\\"\\\",\\\"outlinewidth\\\":0},\\\"type\\\":\\\"contour\\\",\\\"colorscale\\\":[[0.0,\\\"#0d0887\\\"],[0.1111111111111111,\\\"#46039f\\\"],[0.2222222222222222,\\\"#7201a8\\\"],[0.3333333333333333,\\\"#9c179e\\\"],[0.4444444444444444,\\\"#bd3786\\\"],[0.5555555555555556,\\\"#d8576b\\\"],[0.6666666666666666,\\\"#ed7953\\\"],[0.7777777777777778,\\\"#fb9f3a\\\"],[0.8888888888888888,\\\"#fdca26\\\"],[1.0,\\\"#f0f921\\\"]]}],\\\"scattercarpet\\\":[{\\\"type\\\":\\\"scattercarpet\\\",\\\"marker\\\":{\\\"colorbar\\\":{\\\"ticks\\\":\\\"\\\",\\\"outlinewidth\\\":0}}}],\\\"mesh3d\\\":[{\\\"colorbar\\\":{\\\"ticks\\\":\\\"\\\",\\\"outlinewidth\\\":0},\\\"type\\\":\\\"mesh3d\\\"}],\\\"surface\\\":[{\\\"colorbar\\\":{\\\"ticks\\\":\\\"\\\",\\\"outlinewidth\\\":0},\\\"type\\\":\\\"surface\\\",\\\"colorscale\\\":[[0.0,\\\"#0d0887\\\"],[0.1111111111111111,\\\"#46039f\\\"],[0.2222222222222222,\\\"#7201a8\\\"],[0.3333333333333333,\\\"#9c179e\\\"],[0.4444444444444444,\\\"#bd3786\\\"],[0.5555555555555556,\\\"#d8576b\\\"],[0.6666666666666666,\\\"#ed7953\\\"],[0.7777777777777778,\\\"#fb9f3a\\\"],[0.8888888888888888,\\\"#fdca26\\\"],[1.0,\\\"#f0f921\\\"]]}],\\\"scattermapbox\\\":[{\\\"type\\\":\\\"scattermapbox\\\",\\\"marker\\\":{\\\"colorbar\\\":{\\\"ticks\\\":\\\"\\\",\\\"outlinewidth\\\":0}}}],\\\"scattergeo\\\":[{\\\"type\\\":\\\"scattergeo\\\",\\\"marker\\\":{\\\"colorbar\\\":{\\\"ticks\\\":\\\"\\\",\\\"outlinewidth\\\":0}}}],\\\"histogram\\\":[{\\\"type\\\":\\\"histogram\\\",\\\"marker\\\":{\\\"colorbar\\\":{\\\"ticks\\\":\\\"\\\",\\\"outlinewidth\\\":0}}}],\\\"pie\\\":[{\\\"type\\\":\\\"pie\\\",\\\"automargin\\\":true}],\\\"choropleth\\\":[{\\\"colorbar\\\":{\\\"ticks\\\":\\\"\\\",\\\"outlinewidth\\\":0},\\\"type\\\":\\\"choropleth\\\"}],\\\"heatmapgl\\\":[{\\\"colorbar\\\":{\\\"ticks\\\":\\\"\\\",\\\"outlinewidth\\\":0},\\\"type\\\":\\\"heatmapgl\\\",\\\"colorscale\\\":[[0.0,\\\"#0d0887\\\"],[0.1111111111111111,\\\"#46039f\\\"],[0.2222222222222222,\\\"#7201a8\\\"],[0.3333333333333333,\\\"#9c179e\\\"],[0.4444444444444444,\\\"#bd3786\\\"],[0.5555555555555556,\\\"#d8576b\\\"],[0.6666666666666666,\\\"#ed7953\\\"],[0.7777777777777778,\\\"#fb9f3a\\\"],[0.8888888888888888,\\\"#fdca26\\\"],[1.0,\\\"#f0f921\\\"]]}],\\\"bar\\\":[{\\\"type\\\":\\\"bar\\\",\\\"error_y\\\":{\\\"color\\\":\\\"#2a3f5f\\\"},\\\"error_x\\\":{\\\"color\\\":\\\"#2a3f5f\\\"},\\\"marker\\\":{\\\"line\\\":{\\\"color\\\":\\\"#E5ECF6\\\",\\\"width\\\":0.5}}}],\\\"heatmap\\\":[{\\\"colorbar\\\":{\\\"ticks\\\":\\\"\\\",\\\"outlinewidth\\\":0},\\\"type\\\":\\\"heatmap\\\",\\\"colorscale\\\":[[0.0,\\\"#0d0887\\\"],[0.1111111111111111,\\\"#46039f\\\"],[0.2222222222222222,\\\"#7201a8\\\"],[0.3333333333333333,\\\"#9c179e\\\"],[0.4444444444444444,\\\"#bd3786\\\"],[0.5555555555555556,\\\"#d8576b\\\"],[0.6666666666666666,\\\"#ed7953\\\"],[0.7777777777777778,\\\"#fb9f3a\\\"],[0.8888888888888888,\\\"#fdca26\\\"],[1.0,\\\"#f0f921\\\"]]}],\\\"contourcarpet\\\":[{\\\"colorbar\\\":{\\\"ticks\\\":\\\"\\\",\\\"outlinewidth\\\":0},\\\"type\\\":\\\"contourcarpet\\\"}],\\\"table\\\":[{\\\"type\\\":\\\"table\\\",\\\"header\\\":{\\\"line\\\":{\\\"color\\\":\\\"white\\\"},\\\"fill\\\":{\\\"color\\\":\\\"#C8D4E3\\\"}},\\\"cells\\\":{\\\"line\\\":{\\\"color\\\":\\\"white\\\"},\\\"fill\\\":{\\\"color\\\":\\\"#EBF0F8\\\"}}}],\\\"scatter3d\\\":[{\\\"line\\\":{\\\"colorbar\\\":{\\\"ticks\\\":\\\"\\\",\\\"outlinewidth\\\":0}},\\\"type\\\":\\\"scatter3d\\\",\\\"marker\\\":{\\\"colorbar\\\":{\\\"ticks\\\":\\\"\\\",\\\"outlinewidth\\\":0}}}],\\\"scattergl\\\":[{\\\"type\\\":\\\"scattergl\\\",\\\"marker\\\":{\\\"colorbar\\\":{\\\"ticks\\\":\\\"\\\",\\\"outlinewidth\\\":0}}}],\\\"histogram2d\\\":[{\\\"colorbar\\\":{\\\"ticks\\\":\\\"\\\",\\\"outlinewidth\\\":0},\\\"type\\\":\\\"histogram2d\\\",\\\"colorscale\\\":[[0.0,\\\"#0d0887\\\"],[0.1111111111111111,\\\"#46039f\\\"],[0.2222222222222222,\\\"#7201a8\\\"],[0.3333333333333333,\\\"#9c179e\\\"],[0.4444444444444444,\\\"#bd3786\\\"],[0.5555555555555556,\\\"#d8576b\\\"],[0.6666666666666666,\\\"#ed7953\\\"],[0.7777777777777778,\\\"#fb9f3a\\\"],[0.8888888888888888,\\\"#fdca26\\\"],[1.0,\\\"#f0f921\\\"]]}],\\\"scatterternary\\\":[{\\\"type\\\":\\\"scatterternary\\\",\\\"marker\\\":{\\\"colorbar\\\":{\\\"ticks\\\":\\\"\\\",\\\"outlinewidth\\\":0}}}],\\\"scatterpolargl\\\":[{\\\"type\\\":\\\"scatterpolargl\\\",\\\"marker\\\":{\\\"colorbar\\\":{\\\"ticks\\\":\\\"\\\",\\\"outlinewidth\\\":0}}}]}},\\\"legend\\\":{\\\"tracegroupgap\\\":0},\\\"margin\\\":{\\\"l\\\":50,\\\"b\\\":50,\\\"r\\\":50,\\\"t\\\":60}},{\\\"showLink\\\":false,\\\"editable\\\":false,\\\"responsive\\\":true,\\\"staticPlot\\\":false,\\\"scrollZoom\\\":true}); gd.on(\\\"plotly_hover\\\",(function (data){var filtered_data=WebIO.PlotlyCommands.filterEventData(gd,data,\\\"hover\\\"); return !(filtered_data.isnil) ? (WebIO.setval({\\\"name\\\":\\\"hover\\\",\\\"scope\\\":\\\"9452246027603231428\\\",\\\"id\\\":\\\"359464141332014152\\\",\\\"type\\\":\\\"observable\\\"},filtered_data.out)) : undefined})); gd.on(\\\"plotly_unhover\\\",(function (){return WebIO.setval({\\\"name\\\":\\\"hover\\\",\\\"scope\\\":\\\"9452246027603231428\\\",\\\"id\\\":\\\"359464141332014152\\\",\\\"type\\\":\\\"observable\\\"},{})})); gd.on(\\\"plotly_selected\\\",(function (data){var filtered_data=WebIO.PlotlyCommands.filterEventData(gd,data,\\\"selected\\\"); return !(filtered_data.isnil) ? (WebIO.setval({\\\"name\\\":\\\"selected\\\",\\\"scope\\\":\\\"9452246027603231428\\\",\\\"id\\\":\\\"6154491936874177278\\\",\\\"type\\\":\\\"observable\\\"},filtered_data.out)) : undefined})); gd.on(\\\"plotly_deselect\\\",(function (){return WebIO.setval({\\\"name\\\":\\\"selected\\\",\\\"scope\\\":\\\"9452246027603231428\\\",\\\"id\\\":\\\"6154491936874177278\\\",\\\"type\\\":\\\"observable\\\"},{})})); gd.on(\\\"plotly_relayout\\\",(function (data){var filtered_data=WebIO.PlotlyCommands.filterEventData(gd,data,\\\"relayout\\\"); return !(filtered_data.isnil) ? (WebIO.setval({\\\"name\\\":\\\"relayout\\\",\\\"scope\\\":\\\"9452246027603231428\\\",\\\"id\\\":\\\"17734076775644402502\\\",\\\"type\\\":\\\"observable\\\"},filtered_data.out)) : undefined})); return gd.on(\\\"plotly_click\\\",(function (data){var filtered_data=WebIO.PlotlyCommands.filterEventData(gd,data,\\\"click\\\"); return !(filtered_data.isnil) ? (WebIO.setval({\\\"name\\\":\\\"click\\\",\\\"scope\\\":\\\"9452246027603231428\\\",\\\"id\\\":\\\"3847416786368292314\\\",\\\"type\\\":\\\"observable\\\"},filtered_data.out)) : undefined}))}));\\n    (WebIO.importBlock({\\\"data\\\":[{\\\"name\\\":\\\"Plotly\\\",\\\"type\\\":\\\"js\\\",\\\"url\\\":\\\"\\/assetserver\\/974bc88f8fa21ff4c3cbd84b6afff90488058aa7-plotly.min.js\\\"},{\\\"name\\\":null,\\\"type\\\":\\\"js\\\",\\\"url\\\":\\\"\\/assetserver\\/64d87b978f97348bc0d43ca0daa59975ea5d4c91-plotly_webio.bundle.js\\\"}],\\\"type\\\":\\\"async_block\\\"})).then((imports) => handler.apply(this, imports));\\n}\\n\"],\"observables\":{\"_toImage\":{\"sync\":false,\"id\":\"6452746384581064468\",\"value\":{}},\"hover\":{\"sync\":false,\"id\":\"359464141332014152\",\"value\":{}},\"selected\":{\"sync\":false,\"id\":\"6154491936874177278\",\"value\":{}},\"__gd_contents\":{\"sync\":false,\"id\":\"16350228251267835265\",\"value\":{}},\"click\":{\"sync\":false,\"id\":\"3847416786368292314\",\"value\":{}},\"image\":{\"sync\":true,\"id\":\"2748863663784705877\",\"value\":\"\"},\"__get_gd_contents\":{\"sync\":false,\"id\":\"6451521986041168745\",\"value\":\"\"},\"_downloadImage\":{\"sync\":false,\"id\":\"8298466245403907450\",\"value\":{}},\"relayout\":{\"sync\":false,\"id\":\"17734076775644402502\",\"value\":{}},\"_commands\":{\"sync\":false,\"id\":\"883335838984759373\",\"value\":[]}}},\"children\":[{\"props\":{\"id\":\"plot-b2bc2ea1-77e2-4c8a-90af-01c49e7912e3\"},\"nodeType\":\"DOM\",\"type\":\"node\",\"instanceArgs\":{\"namespace\":\"html\",\"tag\":\"div\"},\"children\":[]}]},\n",
              "        window,\n",
              "    );\n",
              "    })()\n",
              "    </script>\n",
              "</div>\n"
            ],
            "text/plain": [
              "data: [\n",
              "  \"histogram with fields type, x, xaxis, and yaxis\"\n",
              "]\n",
              "\n",
              "layout: \"layout with fields legend, margin, template, and xaxis\"\n",
              "\n"
            ]
          },
          "metadata": {},
          "output_type": "display_data"
        }
      ],
      "source": [
        "#plot histogram with PlotlyJS\n",
        "df = DataFrame(min_MTs = min_MTs)\n",
        "plot(df, x=:min_MTs, kind=\"histogram\")"
      ]
    },
    {
      "cell_type": "code",
      "execution_count": 38,
      "metadata": {},
      "outputs": [
        {
          "data": {
            "text/plain": [
              "3-element Vector{Int64}:\n",
              " 1\n",
              " 0\n",
              " 2"
            ]
          },
          "metadata": {},
          "output_type": "display_data"
        }
      ],
      "source": [
        "get_unique_MTs(neutron_dir * \"\\\\\" * readdir(neutron_dir)[3])"
      ]
    },
    {
      "cell_type": "code",
      "execution_count": 39,
      "metadata": {},
      "outputs": [
        {
          "data": {
            "text/plain": [
              "(Int64[], 557)"
            ]
          },
          "metadata": {},
          "output_type": "display_data"
        }
      ],
      "source": [
        "neutron_dir = data_dir * \"ENDF-B-VIII.0\\\\neutrons\"\n",
        "min_MTs, l = smallest_positive_MT(neutron_dir, \".endf\")\n",
        "findall(x -> x==0, min_MTs), l"
      ]
    },
    {
      "cell_type": "code",
      "execution_count": 40,
      "metadata": {},
      "outputs": [
        {
          "data": {
            "application/vnd.plotly.v1+json": {
              "config": {
                "editable": false,
                "responsive": true,
                "scrollZoom": true,
                "showLink": false,
                "staticPlot": false
              },
              "data": [
                {
                  "type": "histogram",
                  "x": [
                    1,
                    1,
                    1,
                    1,
                    1,
                    1,
                    1,
                    1,
                    1,
                    1,
                    1,
                    1,
                    1,
                    1,
                    1,
                    1,
                    1,
                    1,
                    1,
                    1,
                    1,
                    1,
                    1,
                    1,
                    1,
                    1,
                    1,
                    1,
                    1,
                    1,
                    1,
                    1,
                    1,
                    1,
                    1,
                    1,
                    1,
                    1,
                    1,
                    1,
                    1,
                    1,
                    1,
                    1,
                    1,
                    1,
                    1,
                    1,
                    1,
                    1,
                    1,
                    1,
                    1,
                    1,
                    1,
                    1,
                    1,
                    1,
                    1,
                    1,
                    1,
                    1,
                    1,
                    1,
                    1,
                    1,
                    1,
                    1,
                    1,
                    1,
                    1,
                    1,
                    1,
                    1,
                    1,
                    1,
                    1,
                    1,
                    1,
                    1,
                    1,
                    1,
                    1,
                    1,
                    1,
                    1,
                    1,
                    1,
                    1,
                    1,
                    1,
                    1,
                    1,
                    1,
                    1,
                    1,
                    1,
                    1,
                    1,
                    1,
                    1,
                    1,
                    1,
                    1,
                    1,
                    1,
                    1,
                    1,
                    1,
                    1,
                    1,
                    1,
                    1,
                    1,
                    1,
                    1,
                    1,
                    1,
                    1,
                    1,
                    1,
                    1,
                    1,
                    1,
                    1,
                    1,
                    1,
                    1,
                    1,
                    1,
                    1,
                    1,
                    1,
                    1,
                    1,
                    1,
                    1,
                    1,
                    1,
                    1,
                    1,
                    1,
                    1,
                    1,
                    1,
                    1,
                    1,
                    1,
                    1,
                    1,
                    1,
                    1,
                    1,
                    1,
                    1,
                    1,
                    1,
                    1,
                    1,
                    1,
                    1,
                    1,
                    1,
                    1,
                    1,
                    1,
                    1,
                    1,
                    1,
                    1,
                    1,
                    1,
                    1,
                    1,
                    1,
                    1,
                    1,
                    1,
                    1,
                    1,
                    1,
                    1,
                    1,
                    1,
                    1,
                    1,
                    1,
                    1,
                    1,
                    1,
                    1,
                    1,
                    1,
                    1,
                    1,
                    1,
                    1,
                    1,
                    1,
                    1,
                    1,
                    1,
                    1,
                    1,
                    1,
                    1,
                    1,
                    1,
                    1,
                    1,
                    1,
                    1,
                    1,
                    1,
                    1,
                    1,
                    1,
                    1,
                    1,
                    1,
                    1,
                    1,
                    1,
                    1,
                    1,
                    1,
                    1,
                    1,
                    1,
                    1,
                    1,
                    1,
                    1,
                    1,
                    1,
                    1,
                    1,
                    1,
                    1,
                    1,
                    1,
                    1,
                    1,
                    1,
                    1,
                    1,
                    1,
                    1,
                    1,
                    1,
                    1,
                    1,
                    1,
                    1,
                    1,
                    1,
                    1,
                    1,
                    1,
                    1,
                    1,
                    1,
                    1,
                    1,
                    1,
                    1,
                    1,
                    1,
                    1,
                    1,
                    1,
                    1,
                    1,
                    1,
                    1,
                    1,
                    1,
                    1,
                    1,
                    1,
                    1,
                    1,
                    1,
                    1,
                    1,
                    1,
                    1,
                    1,
                    1,
                    1,
                    1,
                    1,
                    1,
                    1,
                    1,
                    1,
                    1,
                    1,
                    1,
                    1,
                    1,
                    1,
                    1,
                    1,
                    1,
                    1,
                    1,
                    1,
                    1,
                    1,
                    1,
                    1,
                    1,
                    1,
                    1,
                    1,
                    1,
                    1,
                    1,
                    1,
                    1,
                    1,
                    1,
                    1,
                    1,
                    1,
                    1,
                    1,
                    1,
                    1,
                    1,
                    1,
                    1,
                    1,
                    1,
                    1,
                    1,
                    1,
                    1,
                    1,
                    1,
                    1,
                    1,
                    1,
                    1,
                    1,
                    1,
                    1,
                    1,
                    1,
                    1,
                    1,
                    1,
                    1,
                    1,
                    1,
                    1,
                    1,
                    1,
                    1,
                    1,
                    1,
                    1,
                    1,
                    1,
                    1,
                    1,
                    1,
                    1,
                    1,
                    1,
                    1,
                    1,
                    1,
                    1,
                    1,
                    1,
                    1,
                    1,
                    1,
                    1,
                    1,
                    1,
                    1,
                    1,
                    1,
                    1,
                    1,
                    1,
                    1,
                    1,
                    1,
                    1,
                    1,
                    1,
                    1,
                    1,
                    1,
                    1,
                    1,
                    1,
                    1,
                    1,
                    1,
                    1,
                    1,
                    1,
                    1,
                    1,
                    1,
                    1,
                    1,
                    1,
                    1,
                    1,
                    1,
                    1,
                    1,
                    1,
                    1,
                    1,
                    1,
                    1,
                    1,
                    1,
                    1,
                    1,
                    1,
                    1,
                    1,
                    1,
                    1,
                    1,
                    1,
                    1,
                    1,
                    1,
                    1,
                    1,
                    1,
                    1,
                    1,
                    1,
                    1,
                    1,
                    1,
                    1,
                    1,
                    1,
                    1,
                    1,
                    1,
                    1,
                    1,
                    1,
                    1,
                    1,
                    1,
                    1,
                    1,
                    1,
                    1,
                    1,
                    1,
                    1,
                    1,
                    1,
                    1,
                    1,
                    1,
                    1,
                    1,
                    1,
                    1,
                    1,
                    1,
                    1,
                    1,
                    1,
                    1,
                    1,
                    1,
                    1,
                    1,
                    1,
                    1,
                    1,
                    1,
                    1,
                    1,
                    1,
                    1,
                    1,
                    1,
                    1,
                    1,
                    1,
                    1,
                    1,
                    1,
                    1,
                    1,
                    1,
                    1,
                    1,
                    1,
                    1,
                    1,
                    1,
                    1,
                    1,
                    1,
                    1,
                    1,
                    1,
                    1,
                    1,
                    1,
                    1,
                    1,
                    1,
                    1,
                    1,
                    1,
                    1,
                    1,
                    1,
                    1,
                    1,
                    1,
                    1,
                    1,
                    1,
                    1,
                    1,
                    1,
                    1,
                    1,
                    1,
                    1,
                    1,
                    1,
                    1,
                    1,
                    1,
                    1,
                    1,
                    1,
                    1,
                    1,
                    1,
                    1,
                    1,
                    1,
                    1,
                    1,
                    1
                  ],
                  "xaxis": "x",
                  "yaxis": "y"
                }
              ],
              "frames": [],
              "layout": {
                "legend": {
                  "tracegroupgap": 0
                },
                "margin": {
                  "b": 50,
                  "l": 50,
                  "r": 50,
                  "t": 60
                },
                "template": {
                  "data": {
                    "bar": [
                      {
                        "error_x": {
                          "color": "#2a3f5f"
                        },
                        "error_y": {
                          "color": "#2a3f5f"
                        },
                        "marker": {
                          "line": {
                            "color": "#E5ECF6",
                            "width": 0.5
                          }
                        },
                        "type": "bar"
                      }
                    ],
                    "barpolar": [
                      {
                        "marker": {
                          "line": {
                            "color": "#E5ECF6",
                            "width": 0.5
                          }
                        },
                        "type": "barpolar"
                      }
                    ],
                    "carpet": [
                      {
                        "aaxis": {
                          "endlinecolor": "#2a3f5f",
                          "gridcolor": "white",
                          "linecolor": "white",
                          "minorgridcolor": "white",
                          "startlinecolor": "#2a3f5f"
                        },
                        "baxis": {
                          "endlinecolor": "#2a3f5f",
                          "gridcolor": "white",
                          "linecolor": "white",
                          "minorgridcolor": "white",
                          "startlinecolor": "#2a3f5f"
                        },
                        "type": "carpet"
                      }
                    ],
                    "choropleth": [
                      {
                        "colorbar": {
                          "outlinewidth": 0,
                          "ticks": ""
                        },
                        "type": "choropleth"
                      }
                    ],
                    "contour": [
                      {
                        "colorbar": {
                          "outlinewidth": 0,
                          "ticks": ""
                        },
                        "colorscale": [
                          [
                            0,
                            "#0d0887"
                          ],
                          [
                            0.1111111111111111,
                            "#46039f"
                          ],
                          [
                            0.2222222222222222,
                            "#7201a8"
                          ],
                          [
                            0.3333333333333333,
                            "#9c179e"
                          ],
                          [
                            0.4444444444444444,
                            "#bd3786"
                          ],
                          [
                            0.5555555555555556,
                            "#d8576b"
                          ],
                          [
                            0.6666666666666666,
                            "#ed7953"
                          ],
                          [
                            0.7777777777777778,
                            "#fb9f3a"
                          ],
                          [
                            0.8888888888888888,
                            "#fdca26"
                          ],
                          [
                            1,
                            "#f0f921"
                          ]
                        ],
                        "type": "contour"
                      }
                    ],
                    "contourcarpet": [
                      {
                        "colorbar": {
                          "outlinewidth": 0,
                          "ticks": ""
                        },
                        "type": "contourcarpet"
                      }
                    ],
                    "heatmap": [
                      {
                        "colorbar": {
                          "outlinewidth": 0,
                          "ticks": ""
                        },
                        "colorscale": [
                          [
                            0,
                            "#0d0887"
                          ],
                          [
                            0.1111111111111111,
                            "#46039f"
                          ],
                          [
                            0.2222222222222222,
                            "#7201a8"
                          ],
                          [
                            0.3333333333333333,
                            "#9c179e"
                          ],
                          [
                            0.4444444444444444,
                            "#bd3786"
                          ],
                          [
                            0.5555555555555556,
                            "#d8576b"
                          ],
                          [
                            0.6666666666666666,
                            "#ed7953"
                          ],
                          [
                            0.7777777777777778,
                            "#fb9f3a"
                          ],
                          [
                            0.8888888888888888,
                            "#fdca26"
                          ],
                          [
                            1,
                            "#f0f921"
                          ]
                        ],
                        "type": "heatmap"
                      }
                    ],
                    "heatmapgl": [
                      {
                        "colorbar": {
                          "outlinewidth": 0,
                          "ticks": ""
                        },
                        "colorscale": [
                          [
                            0,
                            "#0d0887"
                          ],
                          [
                            0.1111111111111111,
                            "#46039f"
                          ],
                          [
                            0.2222222222222222,
                            "#7201a8"
                          ],
                          [
                            0.3333333333333333,
                            "#9c179e"
                          ],
                          [
                            0.4444444444444444,
                            "#bd3786"
                          ],
                          [
                            0.5555555555555556,
                            "#d8576b"
                          ],
                          [
                            0.6666666666666666,
                            "#ed7953"
                          ],
                          [
                            0.7777777777777778,
                            "#fb9f3a"
                          ],
                          [
                            0.8888888888888888,
                            "#fdca26"
                          ],
                          [
                            1,
                            "#f0f921"
                          ]
                        ],
                        "type": "heatmapgl"
                      }
                    ],
                    "histogram": [
                      {
                        "marker": {
                          "colorbar": {
                            "outlinewidth": 0,
                            "ticks": ""
                          }
                        },
                        "type": "histogram"
                      }
                    ],
                    "histogram2d": [
                      {
                        "colorbar": {
                          "outlinewidth": 0,
                          "ticks": ""
                        },
                        "colorscale": [
                          [
                            0,
                            "#0d0887"
                          ],
                          [
                            0.1111111111111111,
                            "#46039f"
                          ],
                          [
                            0.2222222222222222,
                            "#7201a8"
                          ],
                          [
                            0.3333333333333333,
                            "#9c179e"
                          ],
                          [
                            0.4444444444444444,
                            "#bd3786"
                          ],
                          [
                            0.5555555555555556,
                            "#d8576b"
                          ],
                          [
                            0.6666666666666666,
                            "#ed7953"
                          ],
                          [
                            0.7777777777777778,
                            "#fb9f3a"
                          ],
                          [
                            0.8888888888888888,
                            "#fdca26"
                          ],
                          [
                            1,
                            "#f0f921"
                          ]
                        ],
                        "type": "histogram2d"
                      }
                    ],
                    "histogram2dcontour": [
                      {
                        "colorbar": {
                          "outlinewidth": 0,
                          "ticks": ""
                        },
                        "colorscale": [
                          [
                            0,
                            "#0d0887"
                          ],
                          [
                            0.1111111111111111,
                            "#46039f"
                          ],
                          [
                            0.2222222222222222,
                            "#7201a8"
                          ],
                          [
                            0.3333333333333333,
                            "#9c179e"
                          ],
                          [
                            0.4444444444444444,
                            "#bd3786"
                          ],
                          [
                            0.5555555555555556,
                            "#d8576b"
                          ],
                          [
                            0.6666666666666666,
                            "#ed7953"
                          ],
                          [
                            0.7777777777777778,
                            "#fb9f3a"
                          ],
                          [
                            0.8888888888888888,
                            "#fdca26"
                          ],
                          [
                            1,
                            "#f0f921"
                          ]
                        ],
                        "type": "histogram2dcontour"
                      }
                    ],
                    "mesh3d": [
                      {
                        "colorbar": {
                          "outlinewidth": 0,
                          "ticks": ""
                        },
                        "type": "mesh3d"
                      }
                    ],
                    "parcoords": [
                      {
                        "line": {
                          "colorbar": {
                            "outlinewidth": 0,
                            "ticks": ""
                          }
                        },
                        "type": "parcoords"
                      }
                    ],
                    "pie": [
                      {
                        "automargin": true,
                        "type": "pie"
                      }
                    ],
                    "scatter": [
                      {
                        "marker": {
                          "colorbar": {
                            "outlinewidth": 0,
                            "ticks": ""
                          }
                        },
                        "type": "scatter"
                      }
                    ],
                    "scatter3d": [
                      {
                        "line": {
                          "colorbar": {
                            "outlinewidth": 0,
                            "ticks": ""
                          }
                        },
                        "marker": {
                          "colorbar": {
                            "outlinewidth": 0,
                            "ticks": ""
                          }
                        },
                        "type": "scatter3d"
                      }
                    ],
                    "scattercarpet": [
                      {
                        "marker": {
                          "colorbar": {
                            "outlinewidth": 0,
                            "ticks": ""
                          }
                        },
                        "type": "scattercarpet"
                      }
                    ],
                    "scattergeo": [
                      {
                        "marker": {
                          "colorbar": {
                            "outlinewidth": 0,
                            "ticks": ""
                          }
                        },
                        "type": "scattergeo"
                      }
                    ],
                    "scattergl": [
                      {
                        "marker": {
                          "colorbar": {
                            "outlinewidth": 0,
                            "ticks": ""
                          }
                        },
                        "type": "scattergl"
                      }
                    ],
                    "scattermapbox": [
                      {
                        "marker": {
                          "colorbar": {
                            "outlinewidth": 0,
                            "ticks": ""
                          }
                        },
                        "type": "scattermapbox"
                      }
                    ],
                    "scatterpolar": [
                      {
                        "marker": {
                          "colorbar": {
                            "outlinewidth": 0,
                            "ticks": ""
                          }
                        },
                        "type": "scatterpolar"
                      }
                    ],
                    "scatterpolargl": [
                      {
                        "marker": {
                          "colorbar": {
                            "outlinewidth": 0,
                            "ticks": ""
                          }
                        },
                        "type": "scatterpolargl"
                      }
                    ],
                    "scatterternary": [
                      {
                        "marker": {
                          "colorbar": {
                            "outlinewidth": 0,
                            "ticks": ""
                          }
                        },
                        "type": "scatterternary"
                      }
                    ],
                    "surface": [
                      {
                        "colorbar": {
                          "outlinewidth": 0,
                          "ticks": ""
                        },
                        "colorscale": [
                          [
                            0,
                            "#0d0887"
                          ],
                          [
                            0.1111111111111111,
                            "#46039f"
                          ],
                          [
                            0.2222222222222222,
                            "#7201a8"
                          ],
                          [
                            0.3333333333333333,
                            "#9c179e"
                          ],
                          [
                            0.4444444444444444,
                            "#bd3786"
                          ],
                          [
                            0.5555555555555556,
                            "#d8576b"
                          ],
                          [
                            0.6666666666666666,
                            "#ed7953"
                          ],
                          [
                            0.7777777777777778,
                            "#fb9f3a"
                          ],
                          [
                            0.8888888888888888,
                            "#fdca26"
                          ],
                          [
                            1,
                            "#f0f921"
                          ]
                        ],
                        "type": "surface"
                      }
                    ],
                    "table": [
                      {
                        "cells": {
                          "fill": {
                            "color": "#EBF0F8"
                          },
                          "line": {
                            "color": "white"
                          }
                        },
                        "header": {
                          "fill": {
                            "color": "#C8D4E3"
                          },
                          "line": {
                            "color": "white"
                          }
                        },
                        "type": "table"
                      }
                    ]
                  },
                  "layout": {
                    "annotationdefaults": {
                      "arrowcolor": "#2a3f5f",
                      "arrowhead": 0,
                      "arrowwidth": 1
                    },
                    "autotypenumbers": "strict",
                    "coloraxis": {
                      "colorbar": {
                        "outlinewidth": 0,
                        "ticks": ""
                      }
                    },
                    "colorscale": {
                      "diverging": [
                        [
                          0,
                          "#8e0152"
                        ],
                        [
                          0.1,
                          "#c51b7d"
                        ],
                        [
                          0.2,
                          "#de77ae"
                        ],
                        [
                          0.3,
                          "#f1b6da"
                        ],
                        [
                          0.4,
                          "#fde0ef"
                        ],
                        [
                          0.5,
                          "#f7f7f7"
                        ],
                        [
                          0.6,
                          "#e6f5d0"
                        ],
                        [
                          0.7,
                          "#b8e186"
                        ],
                        [
                          0.8,
                          "#7fbc41"
                        ],
                        [
                          0.9,
                          "#4d9221"
                        ],
                        [
                          1,
                          "#276419"
                        ]
                      ],
                      "sequential": [
                        [
                          0,
                          "#0d0887"
                        ],
                        [
                          0.1111111111111111,
                          "#46039f"
                        ],
                        [
                          0.2222222222222222,
                          "#7201a8"
                        ],
                        [
                          0.3333333333333333,
                          "#9c179e"
                        ],
                        [
                          0.4444444444444444,
                          "#bd3786"
                        ],
                        [
                          0.5555555555555556,
                          "#d8576b"
                        ],
                        [
                          0.6666666666666666,
                          "#ed7953"
                        ],
                        [
                          0.7777777777777778,
                          "#fb9f3a"
                        ],
                        [
                          0.8888888888888888,
                          "#fdca26"
                        ],
                        [
                          1,
                          "#f0f921"
                        ]
                      ],
                      "sequentialminus": [
                        [
                          0,
                          "#0d0887"
                        ],
                        [
                          0.1111111111111111,
                          "#46039f"
                        ],
                        [
                          0.2222222222222222,
                          "#7201a8"
                        ],
                        [
                          0.3333333333333333,
                          "#9c179e"
                        ],
                        [
                          0.4444444444444444,
                          "#bd3786"
                        ],
                        [
                          0.5555555555555556,
                          "#d8576b"
                        ],
                        [
                          0.6666666666666666,
                          "#ed7953"
                        ],
                        [
                          0.7777777777777778,
                          "#fb9f3a"
                        ],
                        [
                          0.8888888888888888,
                          "#fdca26"
                        ],
                        [
                          1,
                          "#f0f921"
                        ]
                      ]
                    },
                    "colorway": [
                      "#636efa",
                      "#EF553B",
                      "#00cc96",
                      "#ab63fa",
                      "#FFA15A",
                      "#19d3f3",
                      "#FF6692",
                      "#B6E880",
                      "#FF97FF",
                      "#FECB52"
                    ],
                    "font": {
                      "color": "#2a3f5f"
                    },
                    "geo": {
                      "bgcolor": "white",
                      "lakecolor": "white",
                      "landcolor": "#E5ECF6",
                      "showlakes": true,
                      "showland": true,
                      "subunitcolor": "white"
                    },
                    "hoverlabel": {
                      "align": "left"
                    },
                    "hovermode": "closest",
                    "mapbox": {
                      "style": "light"
                    },
                    "paper_bgcolor": "white",
                    "plot_bgcolor": "#E5ECF6",
                    "polar": {
                      "angularaxis": {
                        "gridcolor": "white",
                        "linecolor": "white",
                        "ticks": ""
                      },
                      "bgcolor": "#E5ECF6",
                      "radialaxis": {
                        "gridcolor": "white",
                        "linecolor": "white",
                        "ticks": ""
                      }
                    },
                    "scene": {
                      "xaxis": {
                        "backgroundcolor": "#E5ECF6",
                        "gridcolor": "white",
                        "gridwidth": 2,
                        "linecolor": "white",
                        "showbackground": true,
                        "ticks": "",
                        "zerolinecolor": "white"
                      },
                      "yaxis": {
                        "backgroundcolor": "#E5ECF6",
                        "gridcolor": "white",
                        "gridwidth": 2,
                        "linecolor": "white",
                        "showbackground": true,
                        "ticks": "",
                        "zerolinecolor": "white"
                      },
                      "zaxis": {
                        "backgroundcolor": "#E5ECF6",
                        "gridcolor": "white",
                        "gridwidth": 2,
                        "linecolor": "white",
                        "showbackground": true,
                        "ticks": "",
                        "zerolinecolor": "white"
                      }
                    },
                    "shapedefaults": {
                      "line": {
                        "color": "#2a3f5f"
                      }
                    },
                    "ternary": {
                      "aaxis": {
                        "gridcolor": "white",
                        "linecolor": "white",
                        "ticks": ""
                      },
                      "baxis": {
                        "gridcolor": "white",
                        "linecolor": "white",
                        "ticks": ""
                      },
                      "bgcolor": "#E5ECF6",
                      "caxis": {
                        "gridcolor": "white",
                        "linecolor": "white",
                        "ticks": ""
                      }
                    },
                    "title": {
                      "x": 0.05
                    },
                    "xaxis": {
                      "automargin": true,
                      "gridcolor": "white",
                      "linecolor": "white",
                      "ticks": "",
                      "title": {
                        "standoff": 15
                      },
                      "zerolinecolor": "white",
                      "zerolinewidth": 2
                    },
                    "yaxis": {
                      "automargin": true,
                      "gridcolor": "white",
                      "linecolor": "white",
                      "ticks": "",
                      "title": {
                        "standoff": 15
                      },
                      "zerolinecolor": "white",
                      "zerolinewidth": 2
                    }
                  }
                },
                "xaxis": {
                  "title": {
                    "text": "min_MTs"
                  }
                }
              }
            },
            "image/png": "[encoded data removed]",
            "image/svg+xml": "<svg class=\"main-svg\" xmlns=\"http://www.w3.org/2000/svg\" xmlns:xlink=\"http://www.w3.org/1999/xlink\" width=\"700\" height=\"500\" style=\"\" viewBox=\"0 0 700 500\"><rect x=\"0\" y=\"0\" width=\"700\" height=\"500\" style=\"fill: rgb(255, 255, 255); fill-opacity: 1;\"/><defs id=\"defs-4ac8ff\"><g class=\"clips\"><clipPath id=\"clip4ac8ffxyplot\" class=\"plotclip\"><rect width=\"600\" height=\"387\"/></clipPath><clipPath class=\"axesclip\" id=\"clip4ac8ffx\"><rect x=\"50\" y=\"0\" width=\"600\" height=\"500\"/></clipPath><clipPath class=\"axesclip\" id=\"clip4ac8ffy\"><rect x=\"0\" y=\"60\" width=\"700\" height=\"387\"/></clipPath><clipPath class=\"axesclip\" id=\"clip4ac8ffxy\"><rect x=\"50\" y=\"60\" width=\"600\" height=\"387\"/></clipPath></g><g class=\"gradients\"/></defs><g class=\"bglayer\"><rect class=\"bg\" x=\"50\" y=\"60\" width=\"600\" height=\"387\" style=\"fill: rgb(229, 236, 246); fill-opacity: 1; stroke-width: 0;\"/></g><g class=\"layer-below\"><g class=\"imagelayer\"/><g class=\"shapelayer\"/></g><g class=\"cartesianlayer\"><g class=\"subplot xy\"><g class=\"layer-subplot\"><g class=\"shapelayer\"/><g class=\"imagelayer\"/></g><g class=\"gridlayer\"><g class=\"x\"/><g class=\"y\"><path class=\"ygrid crisp\" transform=\"translate(0,380.99)\" d=\"M50,0h600\" style=\"stroke: rgb(255, 255, 255); stroke-opacity: 1; stroke-width: 1px;\"/><path class=\"ygrid crisp\" transform=\"translate(0,314.99)\" d=\"M50,0h600\" style=\"stroke: rgb(255, 255, 255); stroke-opacity: 1; stroke-width: 1px;\"/><path class=\"ygrid crisp\" transform=\"translate(0,248.98)\" d=\"M50,0h600\" style=\"stroke: rgb(255, 255, 255); stroke-opacity: 1; stroke-width: 1px;\"/><path class=\"ygrid crisp\" transform=\"translate(0,182.98000000000002)\" d=\"M50,0h600\" style=\"stroke: rgb(255, 255, 255); stroke-opacity: 1; stroke-width: 1px;\"/><path class=\"ygrid crisp\" transform=\"translate(0,116.97)\" d=\"M50,0h600\" style=\"stroke: rgb(255, 255, 255); stroke-opacity: 1; stroke-width: 1px;\"/></g></g><g class=\"zerolinelayer\"><path class=\"yzl zl crisp\" transform=\"translate(0,447)\" d=\"M50,0h600\" style=\"stroke: rgb(255, 255, 255); stroke-opacity: 1; stroke-width: 2px;\"/></g><path class=\"xlines-below\"/><path class=\"ylines-below\"/><g class=\"overlines-below\"/><g class=\"xaxislayer-below\"/><g class=\"yaxislayer-below\"/><g class=\"overaxes-below\"/><g class=\"plot\" transform=\"translate(50,60)\" clip-path=\"url('#clip4ac8ffxyplot')\"><g class=\"barlayer mlayer\"><g class=\"trace bars\" shape-rendering=\"crispEdges\" style=\"opacity: 1;\"><g class=\"points\"><g class=\"point\"><path d=\"M0,387V19.35H600V387Z\" style=\"vector-effect: non-scaling-stroke; opacity: 1; stroke-width: 0px; fill: rgb(99, 110, 250); fill-opacity: 1;\"/></g></g></g></g></g><g class=\"overplot\"/><path class=\"xlines-above crisp\" d=\"M0,0\" style=\"fill: none;\"/><path class=\"ylines-above crisp\" d=\"M0,0\" style=\"fill: none;\"/><g class=\"overlines-above\"/><g class=\"xaxislayer-above\"><g class=\"xtick\"><text text-anchor=\"middle\" x=\"0\" y=\"460\" transform=\"translate(110,0)\" style=\"font-family: 'Open Sans', verdana, arial, sans-serif; font-size: 12px; fill: rgb(42, 63, 95); fill-opacity: 1; white-space: pre;\">0.6</text></g><g class=\"xtick\"><text text-anchor=\"middle\" x=\"0\" y=\"460\" transform=\"translate(230,0)\" style=\"font-family: 'Open Sans', verdana, arial, sans-serif; font-size: 12px; fill: rgb(42, 63, 95); fill-opacity: 1; white-space: pre;\">0.8</text></g><g class=\"xtick\"><text text-anchor=\"middle\" x=\"0\" y=\"460\" transform=\"translate(350,0)\" style=\"font-family: 'Open Sans', verdana, arial, sans-serif; font-size: 12px; fill: rgb(42, 63, 95); fill-opacity: 1; white-space: pre;\">1</text></g><g class=\"xtick\"><text text-anchor=\"middle\" x=\"0\" y=\"460\" transform=\"translate(470,0)\" style=\"font-family: 'Open Sans', verdana, arial, sans-serif; font-size: 12px; fill: rgb(42, 63, 95); fill-opacity: 1; white-space: pre;\">1.2</text></g><g class=\"xtick\"><text text-anchor=\"middle\" x=\"0\" y=\"460\" transform=\"translate(590,0)\" style=\"font-family: 'Open Sans', verdana, arial, sans-serif; font-size: 12px; fill: rgb(42, 63, 95); fill-opacity: 1; white-space: pre;\">1.4</text></g></g><g class=\"yaxislayer-above\"><g class=\"ytick\"><text text-anchor=\"end\" x=\"49\" y=\"4.199999999999999\" transform=\"translate(0,447)\" style=\"font-family: 'Open Sans', verdana, arial, sans-serif; font-size: 12px; fill: rgb(42, 63, 95); fill-opacity: 1; white-space: pre;\">0</text></g><g class=\"ytick\"><text text-anchor=\"end\" x=\"49\" y=\"4.199999999999999\" transform=\"translate(0,380.99)\" style=\"font-family: 'Open Sans', verdana, arial, sans-serif; font-size: 12px; fill: rgb(42, 63, 95); fill-opacity: 1; white-space: pre;\">100</text></g><g class=\"ytick\"><text text-anchor=\"end\" x=\"49\" y=\"4.199999999999999\" transform=\"translate(0,314.99)\" style=\"font-family: 'Open Sans', verdana, arial, sans-serif; font-size: 12px; fill: rgb(42, 63, 95); fill-opacity: 1; white-space: pre;\">200</text></g><g class=\"ytick\"><text text-anchor=\"end\" x=\"49\" y=\"4.199999999999999\" transform=\"translate(0,248.98)\" style=\"font-family: 'Open Sans', verdana, arial, sans-serif; font-size: 12px; fill: rgb(42, 63, 95); fill-opacity: 1; white-space: pre;\">300</text></g><g class=\"ytick\"><text text-anchor=\"end\" x=\"49\" y=\"4.199999999999999\" transform=\"translate(0,182.98000000000002)\" style=\"font-family: 'Open Sans', verdana, arial, sans-serif; font-size: 12px; fill: rgb(42, 63, 95); fill-opacity: 1; white-space: pre;\">400</text></g><g class=\"ytick\"><text text-anchor=\"end\" x=\"49\" y=\"4.199999999999999\" transform=\"translate(0,116.97)\" style=\"font-family: 'Open Sans', verdana, arial, sans-serif; font-size: 12px; fill: rgb(42, 63, 95); fill-opacity: 1; white-space: pre;\">500</text></g></g><g class=\"overaxes-above\"/></g></g><g class=\"polarlayer\"/><g class=\"ternarylayer\"/><g class=\"geolayer\"/><g class=\"funnelarealayer\"/><g class=\"pielayer\"/><g class=\"treemaplayer\"/><g class=\"sunburstlayer\"/><g class=\"glimages\"/><defs id=\"topdefs-4ac8ff\"><g class=\"clips\"/></defs><g class=\"layer-above\"><g class=\"imagelayer\"/><g class=\"shapelayer\"/></g><g class=\"infolayer\"><g class=\"g-gtitle\"/><g class=\"g-xtitle\"><text class=\"xtitle\" x=\"350\" y=\"487.8\" text-anchor=\"middle\" style=\"font-family: 'Open Sans', verdana, arial, sans-serif; font-size: 14px; fill: rgb(42, 63, 95); opacity: 1; font-weight: normal; white-space: pre;\">min_MTs</text></g><g class=\"g-ytitle\"/></g></svg>",
            "text/html": [
              "<div\n",
              "    class=\"webio-mountpoint\"\n",
              "    data-webio-mountpoint=\"4774305069528704060\"\n",
              ">\n",
              "    <script>\n",
              "    (function(){\n",
              "    // Some integrations (namely, IJulia/Jupyter) use an alternate render pathway than\n",
              "    // just putting the html on the page. If WebIO isn't defined, then it's pretty likely\n",
              "    // that we're in one of those situations and the integration just isn't installed\n",
              "    // correctly.\n",
              "    if (typeof window.WebIO === \"undefined\") {\n",
              "        document\n",
              "            .querySelector('[data-webio-mountpoint=\"4774305069528704060\"]')\n",
              "            .innerHTML = (\n",
              "                '<div style=\"padding: 1em; background-color: #f8d6da; border: 1px solid #f5c6cb; font-weight: bold;\">' +\n",
              "                '<p><strong>WebIO not detected.</strong></p>' +\n",
              "                '<p>Please read ' +\n",
              "                '<a href=\"https://juliagizmos.github.io/WebIO.jl/latest/troubleshooting/not-detected/\" target=\"_blank\">the troubleshooting guide</a> ' +\n",
              "                'for more information on how to resolve this issue.</p>' +\n",
              "                '<p><a href=\"https://juliagizmos.github.io/WebIO.jl/latest/troubleshooting/not-detected/\" target=\"_blank\">https://juliagizmos.github.io/WebIO.jl/latest/troubleshooting/not-detected/</a></p>' +\n",
              "                '</div>'\n",
              "            );\n",
              "        return;\n",
              "    }\n",
              "    WebIO.mount(\n",
              "        document.querySelector('[data-webio-mountpoint=\"4774305069528704060\"]'),\n",
              "        {\"props\":{},\"nodeType\":\"Scope\",\"type\":\"node\",\"instanceArgs\":{\"imports\":{\"data\":[{\"name\":\"Plotly\",\"type\":\"js\",\"url\":\"\\/assetserver\\/974bc88f8fa21ff4c3cbd84b6afff90488058aa7-plotly.min.js\"},{\"name\":null,\"type\":\"js\",\"url\":\"\\/assetserver\\/64d87b978f97348bc0d43ca0daa59975ea5d4c91-plotly_webio.bundle.js\"}],\"type\":\"async_block\"},\"id\":\"16447586249999007516\",\"handlers\":{\"_toImage\":[\"(function (options){return this.Plotly.toImage(this.plotElem,options).then((function (data){return WebIO.setval({\\\"name\\\":\\\"image\\\",\\\"scope\\\":\\\"16447586249999007516\\\",\\\"id\\\":\\\"15421663907131517185\\\",\\\"type\\\":\\\"observable\\\"},data)}))})\"],\"__get_gd_contents\":[\"(function (prop){prop==\\\"data\\\" ? (WebIO.setval({\\\"name\\\":\\\"__gd_contents\\\",\\\"scope\\\":\\\"16447586249999007516\\\",\\\"id\\\":\\\"9482990103525890526\\\",\\\"type\\\":\\\"observable\\\"},this.plotElem.data)) : undefined; return prop==\\\"layout\\\" ? (WebIO.setval({\\\"name\\\":\\\"__gd_contents\\\",\\\"scope\\\":\\\"16447586249999007516\\\",\\\"id\\\":\\\"9482990103525890526\\\",\\\"type\\\":\\\"observable\\\"},this.plotElem.layout)) : undefined})\"],\"_downloadImage\":[\"(function (options){return this.Plotly.downloadImage(this.plotElem,options)})\"],\"_commands\":[\"(function (args){var fn=args.shift(); var elem=this.plotElem; var Plotly=this.Plotly; args.unshift(elem); return Plotly[fn].apply(this,args)})\"]},\"systemjs_options\":null,\"mount_callbacks\":[\"function () {\\n    var handler = ((function (Plotly,PlotlyWebIO){PlotlyWebIO.init(WebIO); var gd=this.dom.querySelector(\\\"#plot-8db16360-432d-4064-994c-f577210046a0\\\"); this.plotElem=gd; this.Plotly=Plotly; (window.Blink!==undefined) ? (gd.style.width=\\\"100%\\\", gd.style.height=\\\"100vh\\\", gd.style.marginLeft=\\\"0%\\\", gd.style.marginTop=\\\"0vh\\\") : undefined; window.onresize=(function (){return Plotly.Plots.resize(gd)}); Plotly.newPlot(gd,[{\\\"xaxis\\\":\\\"x\\\",\\\"type\\\":\\\"histogram\\\",\\\"yaxis\\\":\\\"y\\\",\\\"x\\\":[1,1,1,1,1,1,1,1,1,1,1,1,1,1,1,1,1,1,1,1,1,1,1,1,1,1,1,1,1,1,1,1,1,1,1,1,1,1,1,1,1,1,1,1,1,1,1,1,1,1,1,1,1,1,1,1,1,1,1,1,1,1,1,1,1,1,1,1,1,1,1,1,1,1,1,1,1,1,1,1,1,1,1,1,1,1,1,1,1,1,1,1,1,1,1,1,1,1,1,1,1,1,1,1,1,1,1,1,1,1,1,1,1,1,1,1,1,1,1,1,1,1,1,1,1,1,1,1,1,1,1,1,1,1,1,1,1,1,1,1,1,1,1,1,1,1,1,1,1,1,1,1,1,1,1,1,1,1,1,1,1,1,1,1,1,1,1,1,1,1,1,1,1,1,1,1,1,1,1,1,1,1,1,1,1,1,1,1,1,1,1,1,1,1,1,1,1,1,1,1,1,1,1,1,1,1,1,1,1,1,1,1,1,1,1,1,1,1,1,1,1,1,1,1,1,1,1,1,1,1,1,1,1,1,1,1,1,1,1,1,1,1,1,1,1,1,1,1,1,1,1,1,1,1,1,1,1,1,1,1,1,1,1,1,1,1,1,1,1,1,1,1,1,1,1,1,1,1,1,1,1,1,1,1,1,1,1,1,1,1,1,1,1,1,1,1,1,1,1,1,1,1,1,1,1,1,1,1,1,1,1,1,1,1,1,1,1,1,1,1,1,1,1,1,1,1,1,1,1,1,1,1,1,1,1,1,1,1,1,1,1,1,1,1,1,1,1,1,1,1,1,1,1,1,1,1,1,1,1,1,1,1,1,1,1,1,1,1,1,1,1,1,1,1,1,1,1,1,1,1,1,1,1,1,1,1,1,1,1,1,1,1,1,1,1,1,1,1,1,1,1,1,1,1,1,1,1,1,1,1,1,1,1,1,1,1,1,1,1,1,1,1,1,1,1,1,1,1,1,1,1,1,1,1,1,1,1,1,1,1,1,1,1,1,1,1,1,1,1,1,1,1,1,1,1,1,1,1,1,1,1,1,1,1,1,1,1,1,1,1,1,1,1,1,1,1,1,1,1,1,1,1,1,1,1,1,1,1,1,1,1,1,1,1,1,1,1,1,1,1,1,1,1,1,1,1,1,1,1,1,1,1,1,1,1,1,1,1,1,1,1,1,1,1,1,1,1,1,1,1,1,1,1,1,1,1,1,1,1,1,1,1,1,1,1,1,1,1,1,1,1,1,1,1,1,1,1]}],{\\\"xaxis\\\":{\\\"title\\\":{\\\"text\\\":\\\"min_MTs\\\"}},\\\"template\\\":{\\\"layout\\\":{\\\"coloraxis\\\":{\\\"colorbar\\\":{\\\"ticks\\\":\\\"\\\",\\\"outlinewidth\\\":0}},\\\"xaxis\\\":{\\\"gridcolor\\\":\\\"white\\\",\\\"zerolinewidth\\\":2,\\\"title\\\":{\\\"standoff\\\":15},\\\"ticks\\\":\\\"\\\",\\\"zerolinecolor\\\":\\\"white\\\",\\\"automargin\\\":true,\\\"linecolor\\\":\\\"white\\\"},\\\"hovermode\\\":\\\"closest\\\",\\\"paper_bgcolor\\\":\\\"white\\\",\\\"geo\\\":{\\\"showlakes\\\":true,\\\"showland\\\":true,\\\"landcolor\\\":\\\"#E5ECF6\\\",\\\"bgcolor\\\":\\\"white\\\",\\\"subunitcolor\\\":\\\"white\\\",\\\"lakecolor\\\":\\\"white\\\"},\\\"colorscale\\\":{\\\"sequential\\\":[[0.0,\\\"#0d0887\\\"],[0.1111111111111111,\\\"#46039f\\\"],[0.2222222222222222,\\\"#7201a8\\\"],[0.3333333333333333,\\\"#9c179e\\\"],[0.4444444444444444,\\\"#bd3786\\\"],[0.5555555555555556,\\\"#d8576b\\\"],[0.6666666666666666,\\\"#ed7953\\\"],[0.7777777777777778,\\\"#fb9f3a\\\"],[0.8888888888888888,\\\"#fdca26\\\"],[1.0,\\\"#f0f921\\\"]],\\\"diverging\\\":[[0,\\\"#8e0152\\\"],[0.1,\\\"#c51b7d\\\"],[0.2,\\\"#de77ae\\\"],[0.3,\\\"#f1b6da\\\"],[0.4,\\\"#fde0ef\\\"],[0.5,\\\"#f7f7f7\\\"],[0.6,\\\"#e6f5d0\\\"],[0.7,\\\"#b8e186\\\"],[0.8,\\\"#7fbc41\\\"],[0.9,\\\"#4d9221\\\"],[1,\\\"#276419\\\"]],\\\"sequentialminus\\\":[[0.0,\\\"#0d0887\\\"],[0.1111111111111111,\\\"#46039f\\\"],[0.2222222222222222,\\\"#7201a8\\\"],[0.3333333333333333,\\\"#9c179e\\\"],[0.4444444444444444,\\\"#bd3786\\\"],[0.5555555555555556,\\\"#d8576b\\\"],[0.6666666666666666,\\\"#ed7953\\\"],[0.7777777777777778,\\\"#fb9f3a\\\"],[0.8888888888888888,\\\"#fdca26\\\"],[1.0,\\\"#f0f921\\\"]]},\\\"yaxis\\\":{\\\"gridcolor\\\":\\\"white\\\",\\\"zerolinewidth\\\":2,\\\"title\\\":{\\\"standoff\\\":15},\\\"ticks\\\":\\\"\\\",\\\"zerolinecolor\\\":\\\"white\\\",\\\"automargin\\\":true,\\\"linecolor\\\":\\\"white\\\"},\\\"shapedefaults\\\":{\\\"line\\\":{\\\"color\\\":\\\"#2a3f5f\\\"}},\\\"hoverlabel\\\":{\\\"align\\\":\\\"left\\\"},\\\"mapbox\\\":{\\\"style\\\":\\\"light\\\"},\\\"polar\\\":{\\\"angularaxis\\\":{\\\"gridcolor\\\":\\\"white\\\",\\\"ticks\\\":\\\"\\\",\\\"linecolor\\\":\\\"white\\\"},\\\"bgcolor\\\":\\\"#E5ECF6\\\",\\\"radialaxis\\\":{\\\"gridcolor\\\":\\\"white\\\",\\\"ticks\\\":\\\"\\\",\\\"linecolor\\\":\\\"white\\\"}},\\\"autotypenumbers\\\":\\\"strict\\\",\\\"font\\\":{\\\"color\\\":\\\"#2a3f5f\\\"},\\\"ternary\\\":{\\\"baxis\\\":{\\\"gridcolor\\\":\\\"white\\\",\\\"ticks\\\":\\\"\\\",\\\"linecolor\\\":\\\"white\\\"},\\\"bgcolor\\\":\\\"#E5ECF6\\\",\\\"caxis\\\":{\\\"gridcolor\\\":\\\"white\\\",\\\"ticks\\\":\\\"\\\",\\\"linecolor\\\":\\\"white\\\"},\\\"aaxis\\\":{\\\"gridcolor\\\":\\\"white\\\",\\\"ticks\\\":\\\"\\\",\\\"linecolor\\\":\\\"white\\\"}},\\\"annotationdefaults\\\":{\\\"arrowhead\\\":0,\\\"arrowwidth\\\":1,\\\"arrowcolor\\\":\\\"#2a3f5f\\\"},\\\"plot_bgcolor\\\":\\\"#E5ECF6\\\",\\\"title\\\":{\\\"x\\\":0.05},\\\"scene\\\":{\\\"xaxis\\\":{\\\"gridcolor\\\":\\\"white\\\",\\\"gridwidth\\\":2,\\\"backgroundcolor\\\":\\\"#E5ECF6\\\",\\\"ticks\\\":\\\"\\\",\\\"showbackground\\\":true,\\\"zerolinecolor\\\":\\\"white\\\",\\\"linecolor\\\":\\\"white\\\"},\\\"zaxis\\\":{\\\"gridcolor\\\":\\\"white\\\",\\\"gridwidth\\\":2,\\\"backgroundcolor\\\":\\\"#E5ECF6\\\",\\\"ticks\\\":\\\"\\\",\\\"showbackground\\\":true,\\\"zerolinecolor\\\":\\\"white\\\",\\\"linecolor\\\":\\\"white\\\"},\\\"yaxis\\\":{\\\"gridcolor\\\":\\\"white\\\",\\\"gridwidth\\\":2,\\\"backgroundcolor\\\":\\\"#E5ECF6\\\",\\\"ticks\\\":\\\"\\\",\\\"showbackground\\\":true,\\\"zerolinecolor\\\":\\\"white\\\",\\\"linecolor\\\":\\\"white\\\"}},\\\"colorway\\\":[\\\"#636efa\\\",\\\"#EF553B\\\",\\\"#00cc96\\\",\\\"#ab63fa\\\",\\\"#FFA15A\\\",\\\"#19d3f3\\\",\\\"#FF6692\\\",\\\"#B6E880\\\",\\\"#FF97FF\\\",\\\"#FECB52\\\"]},\\\"data\\\":{\\\"barpolar\\\":[{\\\"type\\\":\\\"barpolar\\\",\\\"marker\\\":{\\\"line\\\":{\\\"color\\\":\\\"#E5ECF6\\\",\\\"width\\\":0.5}}}],\\\"carpet\\\":[{\\\"aaxis\\\":{\\\"gridcolor\\\":\\\"white\\\",\\\"endlinecolor\\\":\\\"#2a3f5f\\\",\\\"minorgridcolor\\\":\\\"white\\\",\\\"startlinecolor\\\":\\\"#2a3f5f\\\",\\\"linecolor\\\":\\\"white\\\"},\\\"type\\\":\\\"carpet\\\",\\\"baxis\\\":{\\\"gridcolor\\\":\\\"white\\\",\\\"endlinecolor\\\":\\\"#2a3f5f\\\",\\\"minorgridcolor\\\":\\\"white\\\",\\\"startlinecolor\\\":\\\"#2a3f5f\\\",\\\"linecolor\\\":\\\"white\\\"}}],\\\"scatterpolar\\\":[{\\\"type\\\":\\\"scatterpolar\\\",\\\"marker\\\":{\\\"colorbar\\\":{\\\"ticks\\\":\\\"\\\",\\\"outlinewidth\\\":0}}}],\\\"parcoords\\\":[{\\\"line\\\":{\\\"colorbar\\\":{\\\"ticks\\\":\\\"\\\",\\\"outlinewidth\\\":0}},\\\"type\\\":\\\"parcoords\\\"}],\\\"scatter\\\":[{\\\"type\\\":\\\"scatter\\\",\\\"marker\\\":{\\\"colorbar\\\":{\\\"ticks\\\":\\\"\\\",\\\"outlinewidth\\\":0}}}],\\\"histogram2dcontour\\\":[{\\\"colorbar\\\":{\\\"ticks\\\":\\\"\\\",\\\"outlinewidth\\\":0},\\\"type\\\":\\\"histogram2dcontour\\\",\\\"colorscale\\\":[[0.0,\\\"#0d0887\\\"],[0.1111111111111111,\\\"#46039f\\\"],[0.2222222222222222,\\\"#7201a8\\\"],[0.3333333333333333,\\\"#9c179e\\\"],[0.4444444444444444,\\\"#bd3786\\\"],[0.5555555555555556,\\\"#d8576b\\\"],[0.6666666666666666,\\\"#ed7953\\\"],[0.7777777777777778,\\\"#fb9f3a\\\"],[0.8888888888888888,\\\"#fdca26\\\"],[1.0,\\\"#f0f921\\\"]]}],\\\"contour\\\":[{\\\"colorbar\\\":{\\\"ticks\\\":\\\"\\\",\\\"outlinewidth\\\":0},\\\"type\\\":\\\"contour\\\",\\\"colorscale\\\":[[0.0,\\\"#0d0887\\\"],[0.1111111111111111,\\\"#46039f\\\"],[0.2222222222222222,\\\"#7201a8\\\"],[0.3333333333333333,\\\"#9c179e\\\"],[0.4444444444444444,\\\"#bd3786\\\"],[0.5555555555555556,\\\"#d8576b\\\"],[0.6666666666666666,\\\"#ed7953\\\"],[0.7777777777777778,\\\"#fb9f3a\\\"],[0.8888888888888888,\\\"#fdca26\\\"],[1.0,\\\"#f0f921\\\"]]}],\\\"scattercarpet\\\":[{\\\"type\\\":\\\"scattercarpet\\\",\\\"marker\\\":{\\\"colorbar\\\":{\\\"ticks\\\":\\\"\\\",\\\"outlinewidth\\\":0}}}],\\\"mesh3d\\\":[{\\\"colorbar\\\":{\\\"ticks\\\":\\\"\\\",\\\"outlinewidth\\\":0},\\\"type\\\":\\\"mesh3d\\\"}],\\\"surface\\\":[{\\\"colorbar\\\":{\\\"ticks\\\":\\\"\\\",\\\"outlinewidth\\\":0},\\\"type\\\":\\\"surface\\\",\\\"colorscale\\\":[[0.0,\\\"#0d0887\\\"],[0.1111111111111111,\\\"#46039f\\\"],[0.2222222222222222,\\\"#7201a8\\\"],[0.3333333333333333,\\\"#9c179e\\\"],[0.4444444444444444,\\\"#bd3786\\\"],[0.5555555555555556,\\\"#d8576b\\\"],[0.6666666666666666,\\\"#ed7953\\\"],[0.7777777777777778,\\\"#fb9f3a\\\"],[0.8888888888888888,\\\"#fdca26\\\"],[1.0,\\\"#f0f921\\\"]]}],\\\"scattermapbox\\\":[{\\\"type\\\":\\\"scattermapbox\\\",\\\"marker\\\":{\\\"colorbar\\\":{\\\"ticks\\\":\\\"\\\",\\\"outlinewidth\\\":0}}}],\\\"scattergeo\\\":[{\\\"type\\\":\\\"scattergeo\\\",\\\"marker\\\":{\\\"colorbar\\\":{\\\"ticks\\\":\\\"\\\",\\\"outlinewidth\\\":0}}}],\\\"histogram\\\":[{\\\"type\\\":\\\"histogram\\\",\\\"marker\\\":{\\\"colorbar\\\":{\\\"ticks\\\":\\\"\\\",\\\"outlinewidth\\\":0}}}],\\\"pie\\\":[{\\\"type\\\":\\\"pie\\\",\\\"automargin\\\":true}],\\\"choropleth\\\":[{\\\"colorbar\\\":{\\\"ticks\\\":\\\"\\\",\\\"outlinewidth\\\":0},\\\"type\\\":\\\"choropleth\\\"}],\\\"heatmapgl\\\":[{\\\"colorbar\\\":{\\\"ticks\\\":\\\"\\\",\\\"outlinewidth\\\":0},\\\"type\\\":\\\"heatmapgl\\\",\\\"colorscale\\\":[[0.0,\\\"#0d0887\\\"],[0.1111111111111111,\\\"#46039f\\\"],[0.2222222222222222,\\\"#7201a8\\\"],[0.3333333333333333,\\\"#9c179e\\\"],[0.4444444444444444,\\\"#bd3786\\\"],[0.5555555555555556,\\\"#d8576b\\\"],[0.6666666666666666,\\\"#ed7953\\\"],[0.7777777777777778,\\\"#fb9f3a\\\"],[0.8888888888888888,\\\"#fdca26\\\"],[1.0,\\\"#f0f921\\\"]]}],\\\"bar\\\":[{\\\"type\\\":\\\"bar\\\",\\\"error_y\\\":{\\\"color\\\":\\\"#2a3f5f\\\"},\\\"error_x\\\":{\\\"color\\\":\\\"#2a3f5f\\\"},\\\"marker\\\":{\\\"line\\\":{\\\"color\\\":\\\"#E5ECF6\\\",\\\"width\\\":0.5}}}],\\\"heatmap\\\":[{\\\"colorbar\\\":{\\\"ticks\\\":\\\"\\\",\\\"outlinewidth\\\":0},\\\"type\\\":\\\"heatmap\\\",\\\"colorscale\\\":[[0.0,\\\"#0d0887\\\"],[0.1111111111111111,\\\"#46039f\\\"],[0.2222222222222222,\\\"#7201a8\\\"],[0.3333333333333333,\\\"#9c179e\\\"],[0.4444444444444444,\\\"#bd3786\\\"],[0.5555555555555556,\\\"#d8576b\\\"],[0.6666666666666666,\\\"#ed7953\\\"],[0.7777777777777778,\\\"#fb9f3a\\\"],[0.8888888888888888,\\\"#fdca26\\\"],[1.0,\\\"#f0f921\\\"]]}],\\\"contourcarpet\\\":[{\\\"colorbar\\\":{\\\"ticks\\\":\\\"\\\",\\\"outlinewidth\\\":0},\\\"type\\\":\\\"contourcarpet\\\"}],\\\"table\\\":[{\\\"type\\\":\\\"table\\\",\\\"header\\\":{\\\"line\\\":{\\\"color\\\":\\\"white\\\"},\\\"fill\\\":{\\\"color\\\":\\\"#C8D4E3\\\"}},\\\"cells\\\":{\\\"line\\\":{\\\"color\\\":\\\"white\\\"},\\\"fill\\\":{\\\"color\\\":\\\"#EBF0F8\\\"}}}],\\\"scatter3d\\\":[{\\\"line\\\":{\\\"colorbar\\\":{\\\"ticks\\\":\\\"\\\",\\\"outlinewidth\\\":0}},\\\"type\\\":\\\"scatter3d\\\",\\\"marker\\\":{\\\"colorbar\\\":{\\\"ticks\\\":\\\"\\\",\\\"outlinewidth\\\":0}}}],\\\"scattergl\\\":[{\\\"type\\\":\\\"scattergl\\\",\\\"marker\\\":{\\\"colorbar\\\":{\\\"ticks\\\":\\\"\\\",\\\"outlinewidth\\\":0}}}],\\\"histogram2d\\\":[{\\\"colorbar\\\":{\\\"ticks\\\":\\\"\\\",\\\"outlinewidth\\\":0},\\\"type\\\":\\\"histogram2d\\\",\\\"colorscale\\\":[[0.0,\\\"#0d0887\\\"],[0.1111111111111111,\\\"#46039f\\\"],[0.2222222222222222,\\\"#7201a8\\\"],[0.3333333333333333,\\\"#9c179e\\\"],[0.4444444444444444,\\\"#bd3786\\\"],[0.5555555555555556,\\\"#d8576b\\\"],[0.6666666666666666,\\\"#ed7953\\\"],[0.7777777777777778,\\\"#fb9f3a\\\"],[0.8888888888888888,\\\"#fdca26\\\"],[1.0,\\\"#f0f921\\\"]]}],\\\"scatterternary\\\":[{\\\"type\\\":\\\"scatterternary\\\",\\\"marker\\\":{\\\"colorbar\\\":{\\\"ticks\\\":\\\"\\\",\\\"outlinewidth\\\":0}}}],\\\"scatterpolargl\\\":[{\\\"type\\\":\\\"scatterpolargl\\\",\\\"marker\\\":{\\\"colorbar\\\":{\\\"ticks\\\":\\\"\\\",\\\"outlinewidth\\\":0}}}]}},\\\"legend\\\":{\\\"tracegroupgap\\\":0},\\\"margin\\\":{\\\"l\\\":50,\\\"b\\\":50,\\\"r\\\":50,\\\"t\\\":60}},{\\\"showLink\\\":false,\\\"editable\\\":false,\\\"responsive\\\":true,\\\"staticPlot\\\":false,\\\"scrollZoom\\\":true}); gd.on(\\\"plotly_hover\\\",(function (data){var filtered_data=WebIO.PlotlyCommands.filterEventData(gd,data,\\\"hover\\\"); return !(filtered_data.isnil) ? (WebIO.setval({\\\"name\\\":\\\"hover\\\",\\\"scope\\\":\\\"16447586249999007516\\\",\\\"id\\\":\\\"12826448422182210298\\\",\\\"type\\\":\\\"observable\\\"},filtered_data.out)) : undefined})); gd.on(\\\"plotly_unhover\\\",(function (){return WebIO.setval({\\\"name\\\":\\\"hover\\\",\\\"scope\\\":\\\"16447586249999007516\\\",\\\"id\\\":\\\"12826448422182210298\\\",\\\"type\\\":\\\"observable\\\"},{})})); gd.on(\\\"plotly_selected\\\",(function (data){var filtered_data=WebIO.PlotlyCommands.filterEventData(gd,data,\\\"selected\\\"); return !(filtered_data.isnil) ? (WebIO.setval({\\\"name\\\":\\\"selected\\\",\\\"scope\\\":\\\"16447586249999007516\\\",\\\"id\\\":\\\"13730922209623146182\\\",\\\"type\\\":\\\"observable\\\"},filtered_data.out)) : undefined})); gd.on(\\\"plotly_deselect\\\",(function (){return WebIO.setval({\\\"name\\\":\\\"selected\\\",\\\"scope\\\":\\\"16447586249999007516\\\",\\\"id\\\":\\\"13730922209623146182\\\",\\\"type\\\":\\\"observable\\\"},{})})); gd.on(\\\"plotly_relayout\\\",(function (data){var filtered_data=WebIO.PlotlyCommands.filterEventData(gd,data,\\\"relayout\\\"); return !(filtered_data.isnil) ? (WebIO.setval({\\\"name\\\":\\\"relayout\\\",\\\"scope\\\":\\\"16447586249999007516\\\",\\\"id\\\":\\\"16008929266269303444\\\",\\\"type\\\":\\\"observable\\\"},filtered_data.out)) : undefined})); return gd.on(\\\"plotly_click\\\",(function (data){var filtered_data=WebIO.PlotlyCommands.filterEventData(gd,data,\\\"click\\\"); return !(filtered_data.isnil) ? (WebIO.setval({\\\"name\\\":\\\"click\\\",\\\"scope\\\":\\\"16447586249999007516\\\",\\\"id\\\":\\\"3523849114297982155\\\",\\\"type\\\":\\\"observable\\\"},filtered_data.out)) : undefined}))}));\\n    (WebIO.importBlock({\\\"data\\\":[{\\\"name\\\":\\\"Plotly\\\",\\\"type\\\":\\\"js\\\",\\\"url\\\":\\\"\\/assetserver\\/974bc88f8fa21ff4c3cbd84b6afff90488058aa7-plotly.min.js\\\"},{\\\"name\\\":null,\\\"type\\\":\\\"js\\\",\\\"url\\\":\\\"\\/assetserver\\/64d87b978f97348bc0d43ca0daa59975ea5d4c91-plotly_webio.bundle.js\\\"}],\\\"type\\\":\\\"async_block\\\"})).then((imports) => handler.apply(this, imports));\\n}\\n\"],\"observables\":{\"_toImage\":{\"sync\":false,\"id\":\"11777673624836983820\",\"value\":{}},\"hover\":{\"sync\":false,\"id\":\"12826448422182210298\",\"value\":{}},\"selected\":{\"sync\":false,\"id\":\"13730922209623146182\",\"value\":{}},\"__gd_contents\":{\"sync\":false,\"id\":\"9482990103525890526\",\"value\":{}},\"click\":{\"sync\":false,\"id\":\"3523849114297982155\",\"value\":{}},\"image\":{\"sync\":true,\"id\":\"15421663907131517185\",\"value\":\"\"},\"__get_gd_contents\":{\"sync\":false,\"id\":\"6395110286453366744\",\"value\":\"\"},\"_downloadImage\":{\"sync\":false,\"id\":\"10778601896314303229\",\"value\":{}},\"relayout\":{\"sync\":false,\"id\":\"16008929266269303444\",\"value\":{}},\"_commands\":{\"sync\":false,\"id\":\"17732264749047690475\",\"value\":[]}}},\"children\":[{\"props\":{\"id\":\"plot-8db16360-432d-4064-994c-f577210046a0\"},\"nodeType\":\"DOM\",\"type\":\"node\",\"instanceArgs\":{\"namespace\":\"html\",\"tag\":\"div\"},\"children\":[]}]},\n",
              "        window,\n",
              "    );\n",
              "    })()\n",
              "    </script>\n",
              "</div>\n"
            ],
            "text/plain": [
              "data: [\n",
              "  \"histogram with fields type, x, xaxis, and yaxis\"\n",
              "]\n",
              "\n",
              "layout: \"layout with fields legend, margin, template, and xaxis\"\n",
              "\n"
            ]
          },
          "metadata": {},
          "output_type": "display_data"
        }
      ],
      "source": [
        "#plot histogram with PlotlyJS\n",
        "df = DataFrame(min_MTs = min_MTs)\n",
        "plot(df, x=:min_MTs, kind=\"histogram\")"
      ]
    },
    {
      "cell_type": "code",
      "execution_count": 41,
      "metadata": {},
      "outputs": [
        {
          "data": {
            "text/plain": [
              "(-2684, 0.0)"
            ]
          },
          "metadata": {},
          "output_type": "display_data"
        }
      ],
      "source": [
        "bools, l = has_cross_section(data_dir * \"\\\\jendl5-g\", \".dat\", 1)\n",
        "sum(bools) - l, sum(bools) / l"
      ]
    },
    {
      "cell_type": "code",
      "execution_count": 42,
      "metadata": {},
      "outputs": [
        {
          "ename": "MethodError",
          "evalue": "MethodError: no method matching filtered_MTs(::String, ::String, ::Tuple{Int64, Int64}, ::Vector{Int64})\nClosest candidates are:\n  filtered_MTs(::Any, ::Any, ::Any, ::Any, !Matched::Any) at c:\\Users\\engin\\Documents\\GitHub\\Energy\\Optimized_Radionuclide_Production.ipynb:6",
          "output_type": "error",
          "traceback": [
            "MethodError: no method matching filtered_MTs(::String, ::String, ::Tuple{Int64, Int64}, ::Vector{Int64})\n",
            "Closest candidates are:\n",
            "  filtered_MTs(::Any, ::Any, ::Any, ::Any, !Matched::Any) at c:\\Users\\engin\\Documents\\GitHub\\Energy\\Optimized_Radionuclide_Production.ipynb:6\n",
            "\n",
            "Stacktrace:\n",
            " [1] min_isotope_production_energy(projectile::String, product::String, competing_reactions::Bool)\n",
            "   @ Main c:\\Users\\engin\\Documents\\GitHub\\Energy\\Optimized_Radionuclide_Production.ipynb:75\n",
            " [2] top-level scope\n",
            "   @ c:\\Users\\engin\\Documents\\GitHub\\Energy\\Optimized_Radionuclide_Production.ipynb:1"
          ]
        }
      ],
      "source": [
        "min_isotope_production_energy(\"proton\", \"63Ni\", false)"
      ]
    },
    {
      "cell_type": "markdown",
      "metadata": {},
      "source": [
        "Need to read the paper these measurements are from to see what negative cross section means. "
      ]
    },
    {
      "cell_type": "code",
      "execution_count": 43,
      "metadata": {},
      "outputs": [
        {
          "name": "stdout",
          "output_type": "stream",
          "text": [
            "deuteron No data\n",
            "proton No data\n",
            "alpha No data\n",
            "gamma No data\n",
            "neutron No data\n"
          ]
        }
      ],
      "source": [
        "for projectile in [\"deuteron\", \"proton\", \"alpha\", \"gamma\", \"neutron\"]\n",
        "    try \n",
        "        println(projectile, \" \",\n",
        "            min_isotope_production_energy(projectile, \"207Bi\", false))\n",
        "    catch\n",
        "        println(projectile, \" \", \"No data\")\n",
        "        continue\n",
        "    end\n",
        "end\n",
        "#energy, target_list, reaction "
      ]
    },
    {
      "cell_type": "markdown",
      "metadata": {},
      "source": [
        "Note that this does NOT account for stopping power or competing reactions. This cell should take less than 30 minutes to run."
      ]
    },
    {
      "cell_type": "code",
      "execution_count": 44,
      "metadata": {},
      "outputs": [
        {
          "ename": "MethodError",
          "evalue": "MethodError: no method matching min_isotope_production_energy(::String, ::String7)\nClosest candidates are:\n  min_isotope_production_energy(::Any, ::Any, !Matched::Any) at c:\\Users\\engin\\Documents\\GitHub\\Energy\\Optimized_Radionuclide_Production.ipynb:65",
          "output_type": "error",
          "traceback": [
            "MethodError: no method matching min_isotope_production_energy(::String, ::String7)\n",
            "Closest candidates are:\n",
            "  min_isotope_production_energy(::Any, ::Any, !Matched::Any) at c:\\Users\\engin\\Documents\\GitHub\\Energy\\Optimized_Radionuclide_Production.ipynb:65\n",
            "\n",
            "Stacktrace:\n",
            " [1] top-level scope\n",
            "   @ c:\\Users\\engin\\Documents\\GitHub\\Energy\\Optimized_Radionuclide_Production.ipynb:6"
          ]
        }
      ],
      "source": [
        "select_products = products\n",
        "select_projectiles = [\"deuteron\", \"proton\", \"alpha\", \"gamma\", \"neutron\"]\n",
        "product_energy_dict = Dict([])\n",
        "for projectile in select_projectiles\n",
        "    for product in select_products\n",
        "        min_energy, target_list, reaction  = min_isotope_production_energy(projectile, product)\n",
        "        if (min_energy != nothing)\n",
        "            if (min_energy > 0)\n",
        "                product_energy_dict[product] = Dict([])\n",
        "                product_energy_dict[product][\"energy\"] = min_energy\n",
        "                product_energy_dict[product][\"target list\"] = target_list\n",
        "                product_energy_dict[product][\"reaction\"] = reaction\n",
        "                product_energy_dict[product][\"projectile\"] = projectile\n",
        "            end\n",
        "        end\n",
        "    end\n",
        "end\n",
        "product_energy_dict"
      ]
    },
    {
      "cell_type": "code",
      "execution_count": 45,
      "metadata": {},
      "outputs": [
        {
          "data": {
            "text/plain": [
              "Nothing[]"
            ]
          },
          "metadata": {},
          "output_type": "display_data"
        }
      ],
      "source": [
        "proton_products = [(product, product_energy_dict[product]) \n",
        "for product in keys(product_energy_dict) \n",
        "if product_energy_dict[product][\"projectile\"] == \"proton\"]\n",
        "println.(proton_products)"
      ]
    },
    {
      "cell_type": "markdown",
      "metadata": {},
      "source": [
        "#@u_str(\"J/g\") \n",
        "u\"J/g\".(power_densities_list .* (1u\"W/g\") .* (100u\"yr\"))"
      ]
    },
    {
      "cell_type": "markdown",
      "metadata": {},
      "source": [
        "power_densities * \n",
        "#reassign index of power densities to parent isotope\n",
        "matches = [(product, \n",
        "power_densities_list[findfirst(x->x==product, proton_products)]) \n",
        "for product in proton_products]\n",
        "println.(matches)"
      ]
    },
    {
      "cell_type": "markdown",
      "metadata": {},
      "source": [
        "TODO: Figure out how the above output happens? Is it the way it's reading in the data? In the function read_float ?"
      ]
    },
    {
      "cell_type": "markdown",
      "metadata": {},
      "source": [
        "Now make a dataframe of minimum energy to produce each isotope in one step. "
      ]
    },
    {
      "cell_type": "markdown",
      "metadata": {},
      "source": [
        "Now I will find the minimum energy of gamma rays and neutrons needed to produce different isotopes. "
      ]
    },
    {
      "cell_type": "markdown",
      "metadata": {},
      "source": [
        "file_names = readdir(neutron_dir)\n",
        "file = file_names[1]\n",
        "function get_product(file)\n",
        "    target_n = parse(Int64, file[3:5])\n",
        "    element, target_z = split(file[7:end-4], \"-\")\n",
        "    projectile = file[1]\n",
        "    if(string(projectile) == \"n\") #neutron addition\n",
        "        product_n = target_n\n",
        "        product_z = parse(Int64, target_z)+1\n",
        "        product_file = (String(\"n_\") * lpad(product_n, 3, \"0\") * String(\"-\") * \n",
        "                        String(element) * String(\"-\") * lpad(product_z, 3, \"0\") * String(\".dat\"))\n",
        "    end\n",
        "    return product_file\n",
        "end\n",
        "file = file_names[100]\n",
        "while true\n",
        "    file = get_product(file)\n",
        "    if !(file in file_names)\n",
        "        print(file, \" not in directory\")\n",
        "        break \n",
        "    end\n",
        "end"
      ]
    },
    {
      "cell_type": "code",
      "execution_count": 46,
      "metadata": {},
      "outputs": [
        {
          "name": "stdout",
          "output_type": "stream",
          "text": [
            "For output = (Z*n*ρ*σ) / E       (unitless)"
          ]
        },
        {
          "data": {
            "text/plain": [
              "\u001b[32m\u001b[1mTest Passed\u001b[22m\u001b[39m\n",
              "  Expression: reaction_figure_of_merit(ρ * u\"J/g\", Z * u\"g\", n * u\"cm\" ^ -2, σ * u\"cm\" ^ 2, E * u\"J\") - output == 0\n",
              "   Evaluated: 0 == 0"
            ]
          },
          "metadata": {},
          "output_type": "display_data"
        }
      ],
      "source": [
        "function reaction_figure_of_merit(energy_density, mass_number, target_nuclei_per_area, sigma, \n",
        "incident_particle_energy)\n",
        "    #For the product, we take the mass number to be equal to the molar mass\n",
        "    figure_of_merit = (energy_density * mass_number * \n",
        "        target_nuclei_per_area * sigma) / incident_particle_energy\n",
        "    return uconvert(Unitful.NoUnits, figure_of_merit) \n",
        "end\n",
        "\n",
        "ρ, Z, n, σ, E = @variables ρ, Z, n, σ, E\n",
        "output = ρ * Z * n * σ / E\n",
        "print(\"For output = \", output, \"       (unitless)\")\n",
        "Test.@test reaction_figure_of_merit(ρ * @u_str(\"J/g\"), Z * @u_str(\"g\"), \n",
        "    n * (@u_str(\"cm\")^-2), σ * @u_str(\"cm\")^2, E * @u_str(\"J\")) - output == 0"
      ]
    }
  ],
  "metadata": {
    "colab": {
      "name": "Optimized Radionuclide Production.ipynb",
      "provenance": []
    },
    "kernelspec": {
      "display_name": "Julia 1.7.2",
      "language": "julia",
      "name": "julia-1.7"
    },
    "language_info": {
      "file_extension": ".jl",
      "mimetype": "application/julia",
      "name": "julia",
      "version": "1.7.2"
    },
    "vscode": {
      "interpreter": {
        "hash": "93e603b405028e2ab398d7a85d86124a7ac0b053113ed31068605d4be5533369"
      }
    }
  },
  "nbformat": 4,
  "nbformat_minor": 0
}
