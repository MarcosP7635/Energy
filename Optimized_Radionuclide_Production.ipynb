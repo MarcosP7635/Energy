{
  "cells": [
    {
      "cell_type": "markdown",
      "metadata": {},
      "source": [
        "The goal of this notebook is to write code that given a specific nucleus to produce, an efficiency will be calculated based on the required input energy, target cross sections, and power density of the product to find the optimal use of radionuclide production as a method of energy storage. \n",
        "\n",
        "This can also be used to generate a theoretical maximum of storage efficiency for each product. \n",
        "\n",
        "To start, we'll need cross sections. \n",
        "\n",
        "Will attempt to download the entirety of (or write a very fast query for) \n",
        "https://doi.org/10.1016/j.nds.2018.02.001\n",
        "\n",
        "Pivoting to use Jeff32 since it has a singular directory with many neutron cross sections for different targets. https://www.oecd-nea.org/dbforms/data/eva/evatapes/jeff_32/\n",
        "\n",
        "JENDL appears to have both neutron and proton cross section data for transmutation, so this seems very promising. It uses the ENDF6 format https://www-nds.iaea.org/public/endf/ \n",
        "\n",
        "Finally found the database explorer for ENDF, will be using this as well. \n",
        "https://www-nds.iaea.org/exfor/e4explorer.htm "
      ]
    },
    {
      "cell_type": "markdown",
      "metadata": {},
      "source": [
        "Found the Readme files for the two part ENDF libraries I downloaded: \n",
        "\n",
        "file:///C:/Users/engin/Downloads/ENDF_Libraries/ENDF_Libraries/readme.htm \n",
        "\n",
        "file:///C:/Users/engin/Downloads/ENDF_Libraries-2/ENDF_Libraries-2/readme-2.htm"
      ]
    },
    {
      "cell_type": "markdown",
      "metadata": {},
      "source": [
        "#Derivations for nuclide production\n",
        "Consider a thin target $T$ with a cross section $\\sigma$ at an energy level of $E_{particle}$. We have for the production rate (from \"Industrial Accelerators and their Applications\")\n",
        "\\begin{equation}\n",
        "\\frac{dR}{dx} = In\\sigma\n",
        "\\end{equation}\n",
        "Integrating, we have for the number of nuclei produced\n",
        "\\begin{equation}\n",
        "N = \\int\\int\\frac{dR}{dx}dxdt = \\int\\int In\\sigma dxdt\n",
        "\\end{equation}\n",
        "Where $R$ is the production rate in atoms per second, $x$ is the depth of the material, $n$ is the nuclei/volume, and $\\sigma$ is the cross section in area/nucleus, and $I$ is the flow rate in moles/second of the beam. It's also important to note that the beam energy is also a function of $x$. Thus we have for the energy input \n",
        "\\begin{equation}\n",
        "E_{in} = \\int IE_{incident \\ particle} dt\n",
        "\\end{equation}\n",
        "For a given decay chain whose parent nucleus has $N$ particles we have for a pure amount of this substance a specific energy (energy density) $\\rho_{E}$ of \n",
        "\\begin{equation}\n",
        "E_{out} = Z_{product}N\\rho_{E}\n",
        "\\end{equation}\n",
        "where $Z$ is the mass number of the product and $N_A$ is Avogadro's constant. \n",
        "Thus we have for the energy efficiency of this process, \n",
        "\\begin{equation}\n",
        "\\frac{E_{out}}{E_{in}} = \\frac{Z_{product}N\\rho_{E}}{\\int IE_{incident \\ particle} dt} =  \n",
        "\\frac{Z_{product}\\rho_{E}\\int\\int In\\sigma dxdt}{\\int IE_{incident \\ particle} dt}\n",
        "\\end{equation}"
      ]
    },
    {
      "cell_type": "markdown",
      "metadata": {},
      "source": [
        "##Thin target case with constant beam current and energy\n",
        "\\begin{equation}\n",
        "\\frac{E_{out}}{E_{in}} = \\frac{Z_{product}\\rho_{E} In\\sigma xt}{IE_{incident \\ particle}t} = \\frac{Z\\rho_{E} n\\sigma x}{E_{incident \\ particle}}\n",
        "\\end{equation}\n",
        "Rearranging to find the energy efficiency per thickness of material \n",
        "\\begin{equation}\n",
        "\\frac{E_{out}}{xE_{in}} = \\frac{Z_{product}\\rho_{E} n\\sigma }{E_{incident \\ particle}}\n",
        "\\end{equation}\n",
        "Thus, our figure of merit for a reaction will be energy efficiency per thickness of material. \n"
      ]
    },
    {
      "cell_type": "markdown",
      "metadata": {},
      "source": [
        "#Now I will find the probability of a given reaction for a thick target (on the order of meters). \n",
        "\n",
        "Where $P$ is the probability of a specific nuclear reaction occuring (e.g. aborbing a gamma ray and ejecting a neutron), $r$ is the reaction cross section, $x$ is the thickness of the target in meters, $t$ is the total cross section ($t>r>0$) and $a$ is the cross section of all reactions that are mutually exclusive with the reaction associated with $r$. We define $k$\n",
        " \n",
        "\\begin{equation}\n",
        "\\begin{split}\n",
        "k = \\frac{-\\rho N_A}{M}\n",
        "\\end{split}\n",
        "\\end{equation}\n",
        " \n",
        "Where $\\rho$ is the mass density in kg/m $^3$, $M$ is the molar mass in kg, and $N_A$ is Avogadro's number.\n",
        "Note that I have not yet accounted for other reactions included in the total cross section that would prevent a different reaction. \n",
        "Are there any reactions that would prevent a given different reaction? If so, which?"
      ]
    },
    {
      "cell_type": "markdown",
      "metadata": {},
      "source": [
        "Where the reaction cross section is $a$ and the total cross section is $t$ we have"
      ]
    },
    {
      "cell_type": "code",
      "execution_count": 1,
      "metadata": {},
      "outputs": [
        {
          "data": {
            "text/markdown": [
              "\\begin{split}\\Large P = 1-(e^{\\left(k t x\\right)}+-e^{\\left(a k x\\right)} + 1)=e^{\\left(a k x\\right)} - e^{\\left(k t x\\right)}\\\\\\Large \\frac{dP}{dx} = a k e^{\\left(a k x\\right)} - k t e^{\\left(k t x\\right)}\\\\\\Large x_{p_{max}} = \\frac{\\log\\left(\\frac{t}{a}\\right)}{{\\left(a - t\\right)} k}\\\\\\Large P_{max} = \\left(\\frac{t}{a}\\right)^{\\frac{a}{a - t}} - \\left(\\frac{t}{a}\\right)^{\\frac{t}{a - t}}\\end{split}"
            ],
            "text/plain": [
              "<IPython.core.display.Markdown object>"
            ]
          },
          "execution_count": 1,
          "metadata": {},
          "output_type": "execute_result"
        }
      ],
      "source": [
        "#This cell requires a sage Jupyter server. https://www.sagemath.org/\n",
        "from IPython.display import Markdown as md\n",
        "import sympy\n",
        "#https://stackoverflow.com/questions/18878083/can-i-use-variables-on-an-ipython-notebook-markup-cell\n",
        "x, k, t, r, d, a, b = var('x k t r d a b', domain = 'positive')\n",
        "#k = var('k', domain = 'real')\n",
        "#what is the probability that the reaction doesn't happen?\n",
        "#probability of another reaction or no reaction\n",
        "another_reaction = 1-exp(a*k*x)\n",
        "no_reaction = exp(t*k*x)\n",
        "reaction_doesnt_happen = no_reaction + another_reaction \n",
        "#These events are mutually exclusive!!\n",
        "reaction = 1 - reaction_doesnt_happen\n",
        "d = diff(reaction, x)\n",
        "x_max = sympy.solve(d == 0, x)[0]._sage_() #convert from sympy object\n",
        "reaction_max = reaction.substitute(x = x_max)#.full_simplify()\n",
        "md(\"\\\\begin{split}\"+\n",
        "\"\\\\Large P = 1-(%s+%s)=%s\"%(latex(no_reaction),latex(another_reaction),latex(reaction))+\n",
        "\"\\\\\\\\\"+ \"\\\\Large \\\\frac{dP}{dx} = %s\"%(latex(d))+ \"\\\\\\\\\"\n",
        "\"\\\\Large x_{p_{max}} = %s\"%latex(x_max)+ \"\\\\\\\\\" +\n",
        "\"\\\\Large P_{max} = %s\"%latex(reaction_max)+\n",
        "\"\\\\end{split}\")"
      ]
    },
    {
      "cell_type": "markdown",
      "metadata": {},
      "source": [
        "The order of magnitude estimates for the cross sections listed look promising!\n",
        "\n",
        "Now I will convert each cross sections data file into a dictionary where the keys are the MTs and the values are a dataframe (or 2d array) of cross section vs energy. "
      ]
    },
    {
      "cell_type": "markdown",
      "metadata": {},
      "source": [
        "Interestingly, the maximum probability of the reaction occuring appears to only depend on the total cross section, $t$, and the cross sections for reactions that are mutually exclusive with a given reaction, $a$. However, the corresponding target thickness does also depend on the target's molar mass and density.\n",
        "\n",
        "If none of the other reactions are mutually exclusive with a given reaction with a cross section $r$, then we instead have"
      ]
    },
    {
      "cell_type": "code",
      "execution_count": 2,
      "metadata": {},
      "outputs": [
        {
          "data": {
            "text/markdown": [
              "\\begin{split}\\Large P = -e^{\\left(k r x\\right)} + 1\\end{split}"
            ],
            "text/plain": [
              "<IPython.core.display.Markdown object>"
            ]
          },
          "execution_count": 2,
          "metadata": {},
          "output_type": "execute_result"
        }
      ],
      "source": [
        "reaction = 1 - exp(k*r*x)\n",
        "md(\"\\\\begin{split}\\\\Large P = %s\\\\end{split}\"%latex(reaction))"
      ]
    },
    {
      "cell_type": "markdown",
      "metadata": {},
      "source": [
        "Which agrees with Section 2.5.1 of \"The Physics of Nucear Reactors\". \n",
        "\n",
        "Now I will plot $P_{max}$ and $x_{max}$ for neutron ejection as a function of the energy of an incoming gamma ray striking a deuterium target. "
      ]
    },
    {
      "cell_type": "markdown",
      "metadata": {},
      "source": [
        "If none of the other possible reactions are mutually exclusive with the reaction associated with a given reaction with cross section $r$ then we instead have"
      ]
    },
    {
      "cell_type": "code",
      "execution_count": 3,
      "metadata": {},
      "outputs": [
        {
          "data": {
            "image/png": "[encoded data removed]",
            "text/plain": [
              "Graphics object consisting of 1 graphics primitive"
            ]
          },
          "execution_count": 3,
          "metadata": {},
          "output_type": "execute_result"
        }
      ],
      "source": [
        "t = .1\n",
        "k = -1\n",
        "r = t / 2\n",
        "another_reaction = 1-exp((t-r)*k*x)\n",
        "#are cross sections additive?\n",
        "no_reaction = exp(t*k*x)\n",
        "reaction_doesnt_happen = no_reaction + another_reaction - (another_reaction*no_reaction)\n",
        "reaction = 1- reaction_doesnt_happen\n",
        "plot(reaction, (x, 0, 100))"
      ]
    },
    {
      "cell_type": "markdown",
      "metadata": {},
      "source": [
        "From Section 2.5.1 of \"The Physics of Nucear Reactors\" we have for the probability of reaction for a path length $x$ with target with nuclear cross section $\\sigma$, molar mass in kg $M$, and mass density in kg/m $^3$ $\\rho$, and $A$ is Avogadro's number.\n",
        "\\begin{equation}\n",
        "\\begin{split}\n",
        "P = (1-e^{krx})e^{(a-r)kx}\\\\\n",
        "\\end{split}\n",
        "\\end{equation}"
      ]
    },
    {
      "cell_type": "code",
      "execution_count": 1,
      "metadata": {},
      "outputs": [
        {
          "ename": "ArgumentError",
          "evalue": "ArgumentError: Package ENDF6 not found in current path:\n- Run `import Pkg; Pkg.add(\"ENDF6\")` to install the ENDF6 package.\n",
          "output_type": "error",
          "traceback": [
            "ArgumentError: Package ENDF6 not found in current path:\n",
            "- Run `import Pkg; Pkg.add(\"ENDF6\")` to install the ENDF6 package.\n",
            "\n",
            "\n",
            "Stacktrace:\n",
            "  [1] require(into::Module, mod::Symbol)\n",
            "    @ Base .\\loading.jl:967\n",
            "  [2] eval\n",
            "    @ .\\boot.jl:373 [inlined]\n",
            "  [3] include_string(mapexpr::typeof(REPL.softscope), mod::Module, code::String, filename::String)\n",
            "    @ Base .\\loading.jl:1196\n",
            "  [4] #invokelatest#2\n",
            "    @ .\\essentials.jl:716 [inlined]\n",
            "  [5] invokelatest\n",
            "    @ .\\essentials.jl:714 [inlined]\n",
            "  [6] (::VSCodeServer.var\"#198#199\"{VSCodeServer.NotebookRunCellArguments, String})()\n",
            "    @ VSCodeServer c:\\Users\\engin\\.vscode\\extensions\\julialang.language-julia-1.6.29\\scripts\\packages\\VSCodeServer\\src\\serve_notebook.jl:19\n",
            "  [7] withpath(f::VSCodeServer.var\"#198#199\"{VSCodeServer.NotebookRunCellArguments, String}, path::String)\n",
            "    @ VSCodeServer c:\\Users\\engin\\.vscode\\extensions\\julialang.language-julia-1.6.29\\scripts\\packages\\VSCodeServer\\src\\repl.jl:249\n",
            "  [8] notebook_runcell_request(conn::VSCodeServer.JSONRPC.JSONRPCEndpoint{Base.PipeEndpoint, Base.PipeEndpoint}, params::VSCodeServer.NotebookRunCellArguments)\n",
            "    @ VSCodeServer c:\\Users\\engin\\.vscode\\extensions\\julialang.language-julia-1.6.29\\scripts\\packages\\VSCodeServer\\src\\serve_notebook.jl:13\n",
            "  [9] dispatch_msg(x::VSCodeServer.JSONRPC.JSONRPCEndpoint{Base.PipeEndpoint, Base.PipeEndpoint}, dispatcher::VSCodeServer.JSONRPC.MsgDispatcher, msg::Dict{String, Any})\n",
            "    @ VSCodeServer.JSONRPC c:\\Users\\engin\\.vscode\\extensions\\julialang.language-julia-1.6.29\\scripts\\packages\\JSONRPC\\src\\typed.jl:67\n",
            " [10] serve_notebook(pipename::String, outputchannel_logger::Base.CoreLogging.SimpleLogger; crashreporting_pipename::String)\n",
            "    @ VSCodeServer c:\\Users\\engin\\.vscode\\extensions\\julialang.language-julia-1.6.29\\scripts\\packages\\VSCodeServer\\src\\serve_notebook.jl:139\n",
            " [11] top-level scope\n",
            "    @ c:\\Users\\engin\\.vscode\\extensions\\julialang.language-julia-1.6.29\\scripts\\notebook\\notebook.jl:32"
          ]
        }
      ],
      "source": [
        "import ENDF6\n",
        "import glob\n",
        "import plotly.express as px\n",
        "import numpy as np\n",
        "import pandas as pd\n",
        "gamma_path = \"C:\\\\Cross-Section-Data\\\\jendl5-g\"\n",
        "File_list = sorted(glob.glob(gamma_path + \"\\\\*.dat\"))\n",
        "densities_path = \"C:\\\\Users\\\\engin\\\\Documents\\\\GitHub\\\\Energy\\\\ImportedData\\\\Periodic Table of Elements.csv\"\n",
        "#open csv as dataframe\n",
        "densities_df = pd.read_csv(densities_path)\n",
        "def find_min_reaction_energy(file):\n",
        "    with open(file):\n",
        "        try:  \n",
        "            sec = ENDF6.find_section(open(file).readlines(), MF=3, MT=5)  # relevant cross section \n",
        "        except:\n",
        "            sec = ENDF6.find_section(open(file).readlines(), MF=3, MT=50)  # relevant cross section\n",
        "        x, y = ENDF6.read_table(sec)\n",
        "        element_name = file[37:39].replace(\"-\", \"\")\n",
        "        #get index of element\n",
        "        element_index = densities_df.index[densities_df[\"Symbol\"] == element_name][0]\n",
        "        #get density of element\n",
        "        density = 1000 * densities_df[\"Density\"][element_index] #kg/m^3\n",
        "        N_A = 6.02214086e23 #Avogadro's number\n",
        "        M = 2 #g/mol\n",
        "        k = -density * N_A / M\n",
        "        P = 1-np.exp(k * y * 10**-28 * 1000)\n",
        "        #average power of 10 of energy in eV per reaction\n",
        "        return np.log10(min(x/P))\n",
        "\n",
        "gamma_reaction_energy_dict = {}\n",
        "gamma_reaction_energy_dict[\"Isotope\"] = [file[37:-3].replace(\".\", \"\") for file in File_list]\n",
        "gamma_reaction_energy_dict[\"log base 10 of Minimum Energy in eV per Reaction\"] = [\n",
        "        find_min_reaction_energy(file) for file in File_list]\n",
        "gamma_reaction_energy_df = pd.DataFrame(gamma_reaction_energy_dict)\n",
        "print(\"minimum energy per reaction in dataset\", min(gamma_reaction_energy_df[\n",
        "    \"log base 10 of Minimum Energy in eV per Reaction\"].to_list()))\n",
        "px.scatter(gamma_reaction_energy_df, x = \"Isotope\", \n",
        "            y = \"log base 10 of Minimum Energy in eV per Reaction\")\n",
        "#px.scatter(x=x, y=y, labels = {'x':\"Photon energy [eV]\", 'y' : \"Cross-section [barn]\"},\n",
        "#log_x = True, log_y = True)"
      ]
    },
    {
      "cell_type": "markdown",
      "metadata": {},
      "source": [
        "Which isn't bad considering the energy per 228Ra nucleus > 10 $^{6.5428234}$\n",
        "How much energy does it actually take to produce 1 nucleus of 228Ra?"
      ]
    },
    {
      "cell_type": "code",
      "execution_count": 2,
      "metadata": {},
      "outputs": [
        {
          "ename": "ArgumentError",
          "evalue": "ArgumentError: Package zipfile not found in current path:\n- Run `import Pkg; Pkg.add(\"zipfile\")` to install the zipfile package.\n",
          "output_type": "error",
          "traceback": [
            "ArgumentError: Package zipfile not found in current path:\n",
            "- Run `import Pkg; Pkg.add(\"zipfile\")` to install the zipfile package.\n",
            "\n",
            "\n",
            "Stacktrace:\n",
            "  [1] require(into::Module, mod::Symbol)\n",
            "    @ Base .\\loading.jl:967\n",
            "  [2] eval\n",
            "    @ .\\boot.jl:373 [inlined]\n",
            "  [3] include_string(mapexpr::typeof(REPL.softscope), mod::Module, code::String, filename::String)\n",
            "    @ Base .\\loading.jl:1196\n",
            "  [4] #invokelatest#2\n",
            "    @ .\\essentials.jl:716 [inlined]\n",
            "  [5] invokelatest\n",
            "    @ .\\essentials.jl:714 [inlined]\n",
            "  [6] (::VSCodeServer.var\"#198#199\"{VSCodeServer.NotebookRunCellArguments, String})()\n",
            "    @ VSCodeServer c:\\Users\\engin\\.vscode\\extensions\\julialang.language-julia-1.6.29\\scripts\\packages\\VSCodeServer\\src\\serve_notebook.jl:19\n",
            "  [7] withpath(f::VSCodeServer.var\"#198#199\"{VSCodeServer.NotebookRunCellArguments, String}, path::String)\n",
            "    @ VSCodeServer c:\\Users\\engin\\.vscode\\extensions\\julialang.language-julia-1.6.29\\scripts\\packages\\VSCodeServer\\src\\repl.jl:249\n",
            "  [8] notebook_runcell_request(conn::VSCodeServer.JSONRPC.JSONRPCEndpoint{Base.PipeEndpoint, Base.PipeEndpoint}, params::VSCodeServer.NotebookRunCellArguments)\n",
            "    @ VSCodeServer c:\\Users\\engin\\.vscode\\extensions\\julialang.language-julia-1.6.29\\scripts\\packages\\VSCodeServer\\src\\serve_notebook.jl:13\n",
            "  [9] dispatch_msg(x::VSCodeServer.JSONRPC.JSONRPCEndpoint{Base.PipeEndpoint, Base.PipeEndpoint}, dispatcher::VSCodeServer.JSONRPC.MsgDispatcher, msg::Dict{String, Any})\n",
            "    @ VSCodeServer.JSONRPC c:\\Users\\engin\\.vscode\\extensions\\julialang.language-julia-1.6.29\\scripts\\packages\\JSONRPC\\src\\typed.jl:67\n",
            " [10] serve_notebook(pipename::String, outputchannel_logger::Base.CoreLogging.SimpleLogger; crashreporting_pipename::String)\n",
            "    @ VSCodeServer c:\\Users\\engin\\.vscode\\extensions\\julialang.language-julia-1.6.29\\scripts\\packages\\VSCodeServer\\src\\serve_notebook.jl:139\n",
            " [11] top-level scope\n",
            "    @ c:\\Users\\engin\\.vscode\\extensions\\julialang.language-julia-1.6.29\\scripts\\notebook\\notebook.jl:32"
          ]
        }
      ],
      "source": [
        "#Need to unzip files in multiple directories, so I'll do that here with Python \n",
        "import zipfile\n",
        "import os\n",
        "import glob\n",
        "def unzip(directory, file_name):\n",
        "    with zipfile.ZipFile(directory + file_name, 'r') as zip_ref:\n",
        "        zip_ref.extractall(directory)\n",
        "def list_subfolders_with_paths(path):\n",
        "    return [f.path for f in os.scandir(path) if f.is_dir()]\n",
        "def is_unzipped(zip_file, unzip_types = [\".dat\", \".endf\", \".endf6\" \".txt\"]):\n",
        "    return any([os.path.exists(zip_file[:-4] + unzip_type) for unzip_type in unzip_types])"
      ]
    },
    {
      "cell_type": "code",
      "execution_count": 3,
      "metadata": {},
      "outputs": [
        {
          "ename": "UndefVarError",
          "evalue": "UndefVarError: list_subfolders_with_paths not defined",
          "output_type": "error",
          "traceback": [
            "UndefVarError: list_subfolders_with_paths not defined\n",
            "\n",
            "Stacktrace:\n",
            " [1] top-level scope\n",
            "   @ c:\\Users\\engin\\Documents\\GitHub\\Energy\\Optimized_Radionuclide_Production.ipynb:1"
          ]
        }
      ],
      "source": [
        "subdirs_1 = list_subfolders_with_paths(\"C:\\\\Cross-Section-Data\\\\ENDF_Libraries\\\\\")\n",
        "subdirs_2 = list_subfolders_with_paths(\"C:\\\\Cross-Section-Data\\\\ENDF_Libraries-2\\\\\")\n",
        "#list all the zip files in subdirectories in two 1-d arrays.\n",
        "zip_files_1 = sum([glob.glob(subdir + \"\\\\**\\\\*.zip\") for subdir in subdirs_1], [])\n",
        "zip_files_2 =  sum([glob.glob(subdir + \"\\\\**\\\\*.zip\") for subdir in subdirs_2], [])\n",
        "#filter out the ones that are already unzipped\n",
        "zip_files_1 = [zip_file for zip_file in zip_files_1 if not is_unzipped(zip_file)]\n",
        "zip_files_2 = [zip_file for zip_file in zip_files_2 if not is_unzipped(zip_file)]"
      ]
    },
    {
      "cell_type": "code",
      "execution_count": 4,
      "metadata": {},
      "outputs": [
        {
          "ename": "ErrorException",
          "evalue": "syntax: line break in \":\" expression",
          "output_type": "error",
          "traceback": [
            "syntax: line break in \":\" expression\n",
            "\n",
            "Stacktrace:\n",
            " [1] top-level scope\n",
            "   @ c:\\Users\\engin\\Documents\\GitHub\\Energy\\Optimized_Radionuclide_Production.ipynb:2"
          ]
        }
      ],
      "source": [
        "for path in zip_files_1:\n",
        "    dir_end_index = path.rindex(\"\\\\\")+1\n",
        "    directory = path[:dir_end_index]\n",
        "    file_name = path[dir_end_index:]\n",
        "    unzip(directory, file_name)\n",
        "for path in zip_files_2:\n",
        "    dir_end_index = path.rindex(\"\\\\\")+1\n",
        "    directory = path[:dir_end_index]\n",
        "    file_name = path[dir_end_index:]\n",
        "    unzip(directory, file_name)\n"
      ]
    },
    {
      "cell_type": "code",
      "execution_count": 5,
      "metadata": {},
      "outputs": [
        {
          "ename": "UndefVarError",
          "evalue": "UndefVarError: zip_files_1 not defined",
          "output_type": "error",
          "traceback": [
            "UndefVarError: zip_files_1 not defined\n",
            "\n",
            "Stacktrace:\n",
            " [1] top-level scope\n",
            "   @ c:\\Users\\engin\\Documents\\GitHub\\Energy\\Optimized_Radionuclide_Production.ipynb:1"
          ]
        }
      ],
      "source": [
        "all(is_unzipped(zip_file) for zip_file in zip_files_1)"
      ]
    },
    {
      "cell_type": "code",
      "execution_count": 6,
      "metadata": {},
      "outputs": [
        {
          "ename": "UndefVarError",
          "evalue": "UndefVarError: zip_files_2 not defined",
          "output_type": "error",
          "traceback": [
            "UndefVarError: zip_files_2 not defined\n",
            "\n",
            "Stacktrace:\n",
            " [1] top-level scope\n",
            "   @ c:\\Users\\engin\\Documents\\GitHub\\Energy\\Optimized_Radionuclide_Production.ipynb:1"
          ]
        }
      ],
      "source": [
        "all(is_unzipped(zip_file) for zip_file in zip_files_2)"
      ]
    },
    {
      "cell_type": "markdown",
      "metadata": {},
      "source": [
        "#Switching to Julia\n",
        "I'll be dealing with a lot of data and computations so I'll use Julia instead of Python. "
      ]
    },
    {
      "cell_type": "code",
      "execution_count": 43,
      "metadata": {},
      "outputs": [
        {
          "data": {
            "text/plain": [
              "3.678796251112702055560036812740509330698235054484455628233880381639802135001537e-07"
            ]
          },
          "metadata": {},
          "output_type": "display_data"
        }
      ],
      "source": [
        "using Unitful #https://painterqubits.github.io/Unitful.jl/stable/\n",
        "#quantity * @u_str(\"unit abbreviation\") \n",
        "using Symbolics #https://symbolics.juliasymbolics.org/dev/\n",
        "#cite https://doi.org/10.48550/arXiv.2105.03949\n",
        "using Latexify\n",
        "using Test\n",
        "#1 * @u_str(\"mA\") is 1 milliamp\n",
        "using CSV, DataFrames\n",
        "#using Plots\n",
        "using PlotlyJS\n",
        "using Printf\n",
        "using SymPy\n",
        "using PDFIO\n",
        "using Unzip\n",
        "using Interpolations\n",
        "#plotlyjs()\n",
        "data_dir = (\"C:\\\\Cross-Section-Data\\\\\")\n",
        "cross_section_dir = data_dir\n",
        "import_data_dir = \"C:\\\\Users\\\\engin\\\\Documents\\\\GitHub\\\\Energy\\\\ImportedData\"\n",
        "\n",
        "#https://docs.juliahub.com/SymPy/ \n",
        "P, N, x, Σ, σR, σT, ρ, M, A = symbols(\"P, N, x, Σ, σ_R, σ_T, ρ, M, A\", positive = true, real = true)\n",
        "N = ρ * A/ M\n",
        "Σ = N * σR  \n",
        "#case without competing reactions\n",
        "P = integrate(Σ*exp(-Σ*x), (x, 0, x))\n",
        "\n",
        "#julia implementation of the case with competing reactions\n",
        "P_max(t,a) = (t/a)^(a/(BigFloat(a)-BigFloat(t))) - (t/a)^(t/(BigFloat(a)-BigFloat(t)))\n",
        "x_max(t,a,k) = (log(t/a))/(k*(BigFloat(a)-BigFloat(t)))\n",
        "t = BigFloat(10)^-28\n",
        "n = 6\n",
        "a = t * (10^n - 1)/(10^n)\n",
        "k = -BigFloat(10)^24\n",
        "x_max(t,a,k)\n",
        "P_max(t, a)"
      ]
    },
    {
      "cell_type": "markdown",
      "metadata": {},
      "source": [
        "Here we define a dictionary that matches each value of MT in an ENDF6-formatted data to a particular reaction. \n",
        "\n",
        "We then will also loop through all of the subdirectories in a directory, then unzip all of the compressed files to that directory that don't already have an unzipped counterpart in that directory.\n",
        "\n",
        "In this notation $(z, 2nd)$ refers to a reaction where some matter strikes a target and produces 2 neutrons, a deuteron, and a residual.\n",
        "\n",
        "Furthermore, \"(z, n ^3He)\" refers the production of a neutron, a Helium-nucleus, and a residual. \n",
        "\n",
        "Subscripts refer to the energy state.\n",
        "\n",
        "(z, $\\gamma$) refers to radiative capture\n",
        "The below code assumes that the complete reaction is in the same line as the MT number. "
      ]
    },
    {
      "cell_type": "markdown",
      "metadata": {},
      "source": [
        "Luckily the only time a subscript could be confused with a coefficient is the case of $^3$ He but from just reading the original PDF, it is clear that He never has a coefficient other than 1, and that seeing \"3 He\" in the text file always refers to a helium-3 nucleus. "
      ]
    },
    {
      "cell_type": "markdown",
      "metadata": {},
      "source": [
        "The function matches_pattern returns whether or not a given section of the txt file defines an MT value and the number of digits in the MT value. Conveniently, a subscript is never followed by a character and is always after the nucleus it describes the energy level of."
      ]
    },
    {
      "cell_type": "code",
      "execution_count": 2,
      "metadata": {},
      "outputs": [
        {
          "name": "stdout",
          "output_type": "stream",
          "text": [
            "02(z,z0)\n",
            "4(z,n)\n",
            "10(z,contin.)\n",
            "11(z,2nd)\n",
            "16(z,2n)\n",
            "17(z,3n)\n",
            "19(n,f)\n",
            "20(n,nf)\n",
            "21(n,2nf)\n",
            "22(z,nα)\n",
            "23(n,n3α)\n",
            "24(z,2nα)\n",
            "25(z,3nα)\n",
            "27(n,abs)\n",
            "28(z,np)\n",
            "29(z,n2α)\n",
            "30(z,2n2α)\n",
            "32(z,nd)\n",
            "33(z,nt)\n",
            "34(z,n3He)\n",
            "35(z,nd2α)\n",
            "36(z,nt2α)\n",
            "37(z,4n)\n",
            "38(n,3nf)\n",
            "41(z,2np)\n",
            "42(z,3np)\n",
            "44(z,n2p)\n",
            "45(z,npα)\n",
            "50(y,n0)\n",
            "51(z,n1)\n",
            "52(z,n2)\n",
            "90(z,n40)\n",
            "91(z,nc)\n",
            "102(z,γ)\n",
            "103(z,p)\n",
            "104(z,d)\n",
            "105(z,t)\n",
            "106(z,3He)\n",
            "107(z,α)\n",
            "108(z,2α)\n",
            "109(z,3α)\n",
            "111(z,2p)\n",
            "112(z,pα)\n",
            "113(z,t2α)\n",
            "114(z,d2α)\n",
            "115(z,pd)\n",
            "116(z,pt)\n",
            "117(z,dα)\n",
            "151(n,RES)\n",
            "152(z,5n)\n",
            "202(z,Xγ)\n",
            "203(z,Xp)\n",
            "204(z,Xd)\n",
            "205(z,Xt)\n",
            "206(z,X3He)\n",
            "207(z,Xα)\n",
            "208(z,Xπ+)\n",
            "209(z,Xπ0)\n",
            "210(z,Xπ−)\n",
            "211(z,Xμ+)\n",
            "212(z,Xμ−)\n",
            "213(z,Xκ+)\n",
            "214(z,Xκ0 long )\n",
            "215(z,Xκ0 short)\n",
            "216(z,Xκ−)\n",
            "217(z,Xp−)\n",
            "218(z,Xn−)\n",
            "251(n,...)\n",
            "252(n,...)\n",
            "253(n,...)\n",
            "450(z,...)\n",
            "451(z,...)\n",
            "452(z,...)\n",
            "454(z,...)\n",
            "455(z,...)\n",
            "456(z,...)\n",
            "457(z,...)\n",
            "458(n,...)\n",
            "459(z,...)\n",
            "460(z,...)\n",
            "600(z,p0)\n",
            "601(z,p1)\n",
            "602(z,p2)\n",
            "603(z,p3)\n",
            "604(z,p4)\n",
            "649(z,pc)\n",
            "650(z,d0)\n",
            "651(z,d1)\n",
            "652(z,d2)\n",
            "699(z,dc)\n",
            "700(z,t0)\n",
            "701(z,t1)\n",
            "702(z,t2)\n",
            "749(z,tc)\n",
            "750(n,3He0)\n",
            "751(n,3He1)\n",
            "799(n,3Hec)\n",
            "800(z,α0)\n",
            "801(z,α1)\n",
            "849(z,αc)\n",
            "875(z,2n0)\n",
            "876(z,2n1)\n",
            "891(z,2nc)\n"
          ]
        },
        {
          "data": {
            "text/plain": [
              "\"C:\\\\Users\\\\engin\\\\Documents\\\\GitHub\\\\Energy\\\\mt_details.csv\""
            ]
          },
          "metadata": {},
          "output_type": "display_data"
        }
      ],
      "source": [
        "# import text file as string with Julia\n",
        "mt_path = \"C:\\\\Users\\\\engin\\\\Documents\\\\GitHub\\\\Energy\\\\ImportedData\\\\mt.txt\"\n",
        "function matches_pattern(long_string, index = 1)\n",
        "    if isdigit(long_string[index]) && occursin(\",\", long_string)\n",
        "        if  isdigit(long_string[index+1])\n",
        "            if isdigit(long_string[index+2])\n",
        "                #3 digit number\n",
        "                return (long_string[index+3:index+4] == \" (\", 3)  \n",
        "            elseif long_string[index+2] == ' ' \n",
        "                #two digit number \n",
        "                return (long_string[index+3] == '(', 2)\n",
        "            end\n",
        "        elseif long_string[index+1] == ' ' \n",
        "            #one digit number \n",
        "            return (long_string[index+2] == '(', 1)\n",
        "        end\n",
        "    end\n",
        "    return (false, 0)\n",
        "end\n",
        "function define_MTs(mt_path)\n",
        "    open(mt_path) do file\n",
        "        mt_reactions, mt_details = Dict([]), Dict([])\n",
        "        long_string = read(mt_path, String)\n",
        "        index = 0\n",
        "        print(index)\n",
        "        while true\n",
        "            index += 1\n",
        "            if (index > length(long_string) - 12)\n",
        "                return mt_reactions, mt_details\n",
        "            end\n",
        "            is_MT, MT_length = matches_pattern(long_string[index:index+6])\n",
        "            if is_MT\n",
        "                try\n",
        "                    MT = parse(Int64, long_string[index:index+MT_length])\n",
        "                    reaction_end = collect(findfirst(\")\", long_string[index:end]))[1] + index\n",
        "                    reaction = strip(long_string[index+MT_length+1: reaction_end])\n",
        "                    if !(reaction == \"(Unassigned)\")\n",
        "                        println(MT, reaction)\n",
        "                        mt_reactions[MT] = reaction\n",
        "                        #now to get the details\n",
        "                        details_end = collect(findfirst(\".\\r\", long_string[reaction_end+1:end]))[1] \n",
        "                        details_end += reaction_end + 1\n",
        "                        details = strip(long_string[reaction_end+1: details_end])\n",
        "                    details = replace(details, \"\\r\" => \" \" )\n",
        "                        details = replace(details, \"\\n\" => \"\" )\n",
        "                        mt_details[MT] = details\n",
        "                        index = details_end\n",
        "                    else\n",
        "                        index = reaction_end                     \n",
        "                    end\n",
        "                catch\n",
        "                    println(index)\n",
        "                end\n",
        "            end\n",
        "        end \n",
        "    end\n",
        "end\n",
        "mt_reactions, mt_details = define_MTs(mt_path)\n",
        "CSV.write(\"C:\\\\Users\\\\engin\\\\Documents\\\\GitHub\\\\Energy\\\\mt_reactions.csv\", mt_reactions)\n",
        "CSV.write(\"C:\\\\Users\\\\engin\\\\Documents\\\\GitHub\\\\Energy\\\\mt_details.csv\", mt_details)"
      ]
    },
    {
      "cell_type": "markdown",
      "metadata": {},
      "source": [
        "Now to filter the reactions for those that are sufficiently explicit.\n",
        "I use the convention where all nuclei are represented in the form (z,a) and \n",
        "\n",
        "reaction + target = product"
      ]
    },
    {
      "cell_type": "code",
      "execution_count": 3,
      "metadata": {},
      "outputs": [
        {
          "data": {
            "text/plain": [
              "interpret_reaction (generic function with 1 method)"
            ]
          },
          "metadata": {},
          "output_type": "display_data"
        }
      ],
      "source": [
        "MTs = [key for key in keys(mt_reactions)]\n",
        "reactions = [value for value in values(mt_reactions)]\n",
        "symbol_dict = Dict([\n",
        "            (\"n\", (0, 1)),\n",
        "            (\"t\", (1, 3)), #2 neutrons, 1 proton\n",
        "            (\"d\", (1, 2)),\n",
        "            (\"p\", (1, 1)),\n",
        "            (\"α\", (2, 4)),\n",
        "            (\"γ\", (0, 0)),\n",
        "            (\"3 He\", (2, 3)),\n",
        "            ('c', (0,0)) #reverse to continuum emission\n",
        "        ])\n",
        "reaction_symbols = [key for key in keys(symbol_dict)]\n",
        "\n",
        "function find_difference(term, projectile = (0,0))\n",
        "    #e.g. term = \"n\"\n",
        "    difference = (0, 0) #(Z, A)\n",
        "    if occursin(\"z\", term)\n",
        "        difference = (projectile[1], projectile[2])\n",
        "    end\n",
        "    #now to search for instance of any of the keys in term\n",
        "    for key in reaction_symbols\n",
        "        if occursin(key, term)\n",
        "            sub_difference = (0, 0)\n",
        "            key_index = collect(findfirst(key, term))[1]\n",
        "            sub_difference = symbol_dict[key]\n",
        "            #check for coefficient\n",
        "            if key_index > 1 && isdigit(term[key_index-1])\n",
        "                coefficient = parse(Int64, term[key_index-1])\n",
        "                sub_difference = (sub_difference[1] * coefficient, \n",
        "                    sub_difference[2] * coefficient)\n",
        "            end\n",
        "            difference = (difference[1] + sub_difference[1], difference[2] + sub_difference[2])\n",
        "        end\n",
        "    end\n",
        "    return difference     \n",
        "end\n",
        "  \n",
        "#each nucleus is represented by a tuple of (Z, A)\n",
        "function interpret_reaction(reaction, projectile)\n",
        "    comma_index = collect(findfirst(\",\", reaction))[1]\n",
        "    reaction = collect(reaction)\n",
        "    added = reaction[2:comma_index-1]\n",
        "    ejected = reaction[comma_index+1:length(reaction)-1]\n",
        "    #the valid option are n, t, d, p, α, γ, He\n",
        "    # a number followed by a letter is a coefficient\n",
        "    # a letter followed by a number is an energy level.\n",
        "    # a letter followed by c means continuum emission of that particle\n",
        "    #each value will be added or subtracted from the target\n",
        "    added_difference = find_difference(String(added), projectile) \n",
        "    ejected_difference = find_difference(String(ejected))\n",
        "    reaction = (added_difference[1] - ejected_difference[1], \n",
        "                added_difference[2] - ejected_difference[2])\n",
        "    return reaction\n",
        "end"
      ]
    },
    {
      "cell_type": "markdown",
      "metadata": {},
      "source": [
        "The function below returns a dictionary where the keys are a tuple of the form (ΔZ,ΔA) and the values are MT numbers that correspond to such a reaction. The projectiles are an important input to specify, as many of the reactions involve fusion of at least part of the projectile (if its baryonic) and the target. "
      ]
    },
    {
      "cell_type": "code",
      "execution_count": 4,
      "metadata": {},
      "outputs": [
        {
          "name": "stdout",
          "output_type": "stream",
          "text": [
            "849\n",
            "849\n",
            "849\n",
            "849\n",
            "849\n",
            "849\n",
            "849\n"
          ]
        },
        {
          "data": {
            "text/plain": [
              "Dict{Any, Any} with 26 entries:\n",
              "  (-4, -9)  => [109]\n",
              "  (1, 2)    => [603, 203, 103, 217, 600, 649, 601, 604, 602]\n",
              "  (0, -3)   => [24]\n",
              "  (2, -1)   => [37]\n",
              "  (-1, -3)  => [117, 45]\n",
              "  (-2, -6)  => [29]\n",
              "  (-3, -9)  => [36]\n",
              "  (0, -2)   => [38, 22]\n",
              "  (2, 0)    => [17]\n",
              "  (-1, -2)  => [112]\n",
              "  (2, 1)    => [875, 16, 891, 876]\n",
              "  (-6, -12) => [23]\n",
              "  (-3, -7)  => [114]\n",
              "  (1, -1)   => [11, 10, 42, 33]\n",
              "  (0, -1)   => [207, 801, 50, 116, 107, 21, 800]\n",
              "  (2, 2)    => [90, 4, 91, 218, 52, 34, 214, 51]\n",
              "  (-3, -8)  => [35, 113]\n",
              "  (1, 0)    => [700, 32, 215, 205, 41, 702, 749, 105, 701]\n",
              "  (2, 3)    => [210, 457, 460, 456, 451, 216, 208, 2, 211, 202  …  213, 450, 10…\n",
              "  ⋮         => ⋮"
            ]
          },
          "metadata": {},
          "output_type": "display_data"
        }
      ],
      "source": [
        "function find_corresponding_MTs(projectile)    \n",
        "    interpreted_MTs = Dict([])\n",
        "    for MT in MTs\n",
        "        try\n",
        "            interpreted_MTs[MT] = interpret_reaction(mt_reactions[MT], projectile)\n",
        "        catch\n",
        "            println(MT)\n",
        "        end\n",
        "    end\n",
        "    #details = [value for value in values(mt_details)]\n",
        "    #will write test cases later\n",
        "    interpretations = [value for value in values(interpreted_MTs)]\n",
        "    #there are many reactions that yield the same nucleus. \n",
        "    possible_changes_in_nucleus = unique(interpretations)\n",
        "    corresponding_MTs = Dict([])\n",
        "    for change in possible_changes_in_nucleus\n",
        "        corresponding_MTs[change] = [key for key in keys(interpreted_MTs) \n",
        "                                if interpreted_MTs[key] == change]\n",
        "    end\n",
        "    return corresponding_MTs\n",
        "end\n",
        "\n",
        "projectile_dict = Dict([\"electron\" => (0,0), \"neutron\"  => (0,1), \n",
        "    \"proton\" => (1,1), \"deuteron\" => (1,2), \"tritium\" => (1,3), \n",
        "    \"alpha\" => (2,2), \"gamma\" => (0,0), \"3He\"  => (2,3)])\n",
        "\n",
        "gamma_MTs = find_corresponding_MTs(projectile_dict[\"gamma\"])\n",
        "proton_MTs = find_corresponding_MTs(projectile_dict[\"proton\"])\n",
        "alpha_MTs = find_corresponding_MTs(projectile_dict[\"alpha\"])\n",
        "tritium_MTs = find_corresponding_MTs(projectile_dict[\"tritium\"])\n",
        "neutron_MTs = find_corresponding_MTs(projectile_dict[\"neutron\"])\n",
        "deuteron_MTs = find_corresponding_MTs(projectile_dict[\"deuteron\"])\n",
        "helium3_MTs = find_corresponding_MTs(projectile_dict[\"3He\"])\n",
        "#unsure how to represent a positron. It it (-1,-1) ? "
      ]
    },
    {
      "cell_type": "markdown",
      "metadata": {},
      "source": [
        "Now to use each dictionary of the MTs and nuclear reactions to find the set of target nuclei and corresponding projectiles. The next step is to find the relative abundances (and cost?) of each target nucleus, and then to loop through the nuclear cross section data. By finding the cross section as a function of energy for each target and projectile, then substituting each cross section into the formula for probability of reaction and dividing it by the energy of the projectile (including the energy to manufacture it), and comparing it to the molar energy density of the product this will give the energy efficiency of radioisotope energy storage.\n",
        "\n",
        "nested_projectile_dict is a nested dictionary, where each key is the name of a projectile and each value is a dictionary which has keys consisting of the possible $(ΔZ,ΔA)$ of the target in nuclear reactions corresponding to MTs defined for ENDF6-formatted nuclear data."
      ]
    },
    {
      "cell_type": "code",
      "execution_count": 5,
      "metadata": {},
      "outputs": [
        {
          "data": {
            "text/plain": [
              "7-element Vector{String}:\n",
              " \"deuteron\"\n",
              " \"proton\"\n",
              " \"alpha\"\n",
              " \"gamma\"\n",
              " \"neutron\"\n",
              " \"tritium\"\n",
              " \"3He\""
            ]
          },
          "metadata": {},
          "output_type": "display_data"
        }
      ],
      "source": [
        "nested_projectile_dict = Dict([\"gamma\" => gamma_MTs, \n",
        "            \"proton\" => proton_MTs, \"alpha\" => alpha_MTs,\n",
        "            \"tritium\" => tritium_MTs, \"neutron\" => neutron_MTs,\n",
        "            \"deuteron\" => deuteron_MTs, \"3He\" => helium3_MTs])\n",
        "projectiles = [key for key in keys(nested_projectile_dict)]"
      ]
    },
    {
      "cell_type": "code",
      "execution_count": 6,
      "metadata": {},
      "outputs": [
        {
          "data": {
            "text/plain": [
              "3192-element Vector{Tuple{Int64, Int64}}:\n",
              " (82, 218)\n",
              " (81, 215)\n",
              " (81, 216)\n",
              " (83, 219)\n",
              " (80, 214)\n",
              " (80, 211)\n",
              " (81, 214)\n",
              " (80, 213)\n",
              " (84, 220)\n",
              " (83, 220)\n",
              " ⋮\n",
              " (88, 202)\n",
              " (20, 58)\n",
              " (89, 218)\n",
              " (108, 266)\n",
              " (45, 88)\n",
              " (87, 215)\n",
              " (28, 49)\n",
              " (86, 217)\n",
              " (80, 173)"
            ]
          },
          "metadata": {},
          "output_type": "display_data"
        }
      ],
      "source": [
        "products_path = \"C:\\\\Users\\\\engin\\\\Downloads\\\\SortedPowerDensities.csv\"\n",
        "power_densities = CSV.read(products_path, DataFrame) \n",
        "products = power_densities[!, :2] #the isotope names are the second column\n",
        "#now to write each isotope in the (Z, A) format\n",
        "\n",
        "#list of the element symbols from the periodic table up to 118\n",
        "element_symbols = [\"H\", \"He\", \"Li\", \"Be\", \"B\", \"C\", \"N\", \"O\", \"F\", \"Ne\", \n",
        "\"Na\", \"Mg\", \"Al\", \"Si\", \"P\", \"S\", \"Cl\", \"Ar\", \"K\", \"Ca\", \"Sc\", \"Ti\", \"V\", \n",
        "\"Cr\", \"Mn\", \"Fe\", \"Co\", \"Ni\", \"Cu\", \"Zn\", \"Ga\", \"Ge\", \"As\", \"Se\", \"Br\", \n",
        "\"Kr\", \"Rb\", \"Sr\", \"Y\", \"Zr\", \"Nb\", \"Mo\", \"Tc\", \"Ru\", \"Rh\", \"Pd\", \"Ag\", \n",
        "\"Cd\", \"In\", \"Sn\", \"Sb\", \"Te\", \"I\", \"Xe\", \"Cs\", \"Ba\", \"La\", \"Ce\", \"Pr\", \n",
        "\"Nd\", \"Pm\", \"Sm\", \"Eu\", \"Gd\", \"Tb\", \"Dy\", \"Ho\", \"Er\", \"Tm\", \"Yb\", \"Lu\", \n",
        "\"Hf\", \"Ta\", \"W\", \"Re\", \"Os\", \"Ir\", \"Pt\", \"Au\", \"Hg\", \"Tl\", \"Pb\", \"Bi\", \n",
        "\"Po\", \"At\", \"Rn\", \"Fr\", \"Ra\", \"Ac\", \"Th\", \"Pa\", \"U\", \"Np\", \"Pu\", \"Am\", \n",
        "\"Cm\", \"Bk\", \"Cf\", \"Es\", \"Fm\", \"Md\", \"No\", \"Lr\", \"Rf\", \"Db\", \"Sg\", \"Bh\", \n",
        "\"Hs\", \"Mt\", \"Ds\", \"Rg\", \"Cn\", \"Nh\", \"Fl\", \"Mc\", \"Lv\", \"Ts\", \"Og\"]\n",
        "\n",
        "function write_in_z_a_format(isotope)\n",
        "    char_array = collect(isotope)\n",
        "    index = 1\n",
        "    try\n",
        "        while isdigit(char_array[index])\n",
        "            index += 1\n",
        "        end\n",
        "        index -= 1\n",
        "        a = parse(Int64, join(char_array[1:index]))\n",
        "        z_as_string = join(char_array[index+1:end])\n",
        "        if z_as_string == \"n\"\n",
        "            z = 0\n",
        "        else\n",
        "            z = findfirst(x->x == z_as_string, element_symbols)\n",
        "        end\n",
        "        return (z, a)\n",
        "    catch \n",
        "        error_message = \"Error in isotope \" * isotope\n",
        "        println(error_message)\n",
        "        return error_message\n",
        "    end \n",
        "end\n",
        "    #isotope is a string\n",
        "z_a_products = [write_in_z_a_format(product) for product in products]"
      ]
    },
    {
      "cell_type": "markdown",
      "metadata": {},
      "source": [
        "Now to import all naturally occuring isotopic abundances to evaluate whether or not a potential target is naturally occuring or would need to be produced. "
      ]
    },
    {
      "cell_type": "code",
      "execution_count": 7,
      "metadata": {},
      "outputs": [
        {
          "data": {
            "text/plain": [
              "Dict{Any, Any} with 3352 entries:\n",
              "  (92, 232)  => 0\n",
              "  (26, 53)   => 0\n",
              "  (30, 68)   => 0.1845\n",
              "  (36, 73)   => 0\n",
              "  (75, 163)  => 0\n",
              "  (80, 183)  => 0\n",
              "  (66, 145)  => 0\n",
              "  (58, 152)  => 0\n",
              "  (85, 193)  => 0\n",
              "  (10, 32)   => 0\n",
              "  (70, 167)  => 0\n",
              "  (41, 85)   => 0\n",
              "  (73, 179)  => 0\n",
              "  (102, 252) => 0\n",
              "  (58, 134)  => 0\n",
              "  (29, 73)   => 0\n",
              "  (96, 237)  => 0\n",
              "  (86, 231)  => 0\n",
              "  (32, 62)   => 0\n",
              "  ⋮          => ⋮"
            ]
          },
          "metadata": {},
          "output_type": "display_data"
        }
      ],
      "source": [
        "file_path = \"C:\\\\Users\\\\engin\\\\Documents\\\\GitHub\\\\Energy\\\\ImportedData\\\\IsotopicAbundances.txt\"\n",
        "file_as_array = split(open(f->read(f, String), file_path), \"\\n\")\n",
        "file_as_array\n",
        "#I want to make a dictionary where they keys are the isotope and the values are the abundance\n",
        "file_as_array[17:24]\n",
        "isotope_abundances = Dict()\n",
        "function add_to_dict(start_index)\n",
        "    try\n",
        "        atomic_number = parse(Int64, file_as_array[start_index][17:end-1])\n",
        "        mass_number = parse(Int64, file_as_array[start_index+2][14:end-1])\n",
        "        #if the abundance is 0, the isotope is not naturally occuring\n",
        "        abundance = file_as_array[start_index+4][23:end-1]\n",
        "        if occursin(\"(\", abundance)\n",
        "            abundance = split(abundance, \"(\")[1]\n",
        "        end\n",
        "        abundance = tryparse(Float64, abundance)\n",
        "        if abundance == nothing\n",
        "            isotope_abundances[(atomic_number, mass_number)] = 0\n",
        "        else    \n",
        "            isotope_abundances[(atomic_number, mass_number)] = abundance\n",
        "        end\n",
        "    catch\n",
        "        print(\"Error in line \", start_index)\n",
        "        return\n",
        "    end\n",
        "end\n",
        "for start_index in 1:8:length(file_as_array)-1\n",
        "    add_to_dict(start_index)\n",
        "end\n",
        "#works :) \n",
        "isotope_abundances"
      ]
    },
    {
      "cell_type": "markdown",
      "metadata": {},
      "source": [
        "Now that I have the desired products, radiosiotopes that may be used in electric batteries, I can find the potential targets to produce them based on the cross section data from https://www-nds.iaea.org/.\n",
        "\n",
        "The cell below makes a nested dictionary named projectile_product_dict where they keys are the different projectiles for which I have downloaded data. In turn, each value is another dictionary where the keys are the different products and each value consists of two vector of tuples, each of the corresponding targets and reactions.\n",
        "\n",
        "It is important to note that this dictionary only includes 1 step reactions.\n",
        "\n",
        "The final product will be a table of energy efficiencies, products, projectiles, targets, and reactions."
      ]
    },
    {
      "cell_type": "code",
      "execution_count": 8,
      "metadata": {},
      "outputs": [
        {
          "data": {
            "text/plain": [
              "Dict{Any, Any} with 7 entries:\n",
              "  \"deuteron\" => Dict{Any, Any}(\"243Cf\"=>Dict{Any, Any}(\"(A,Z)\"=>(98, 243)), \"11…\n",
              "  \"proton\"   => Dict{Any, Any}(\"243Cf\"=>Dict{Any, Any}(\"(A,Z)\"=>(98, 243)), \"11…\n",
              "  \"alpha\"    => Dict{Any, Any}(\"243Cf\"=>Dict{Any, Any}(\"(A,Z)\"=>(98, 243)), \"11…\n",
              "  \"gamma\"    => Dict{Any, Any}(\"243Cf\"=>Dict{Any, Any}(\"(A,Z)\"=>(98, 243)), \"11…\n",
              "  \"neutron\"  => Dict{Any, Any}(\"243Cf\"=>Dict{Any, Any}(\"(A,Z)\"=>(98, 243)), \"11…\n",
              "  \"tritium\"  => Dict{Any, Any}(\"243Cf\"=>Dict{Any, Any}(\"(A,Z)\"=>(98, 243)), \"11…\n",
              "  \"3He\"      => Dict{Any, Any}(\"243Cf\"=>Dict{Any, Any}(\"(A,Z)\"=>(98, 243)), \"11…"
            ]
          },
          "metadata": {},
          "output_type": "display_data"
        }
      ],
      "source": [
        "projectile_product_dict = Dict([])\n",
        "for projectile in projectiles\n",
        "    projectile_product_dict[projectile] = Dict([])\n",
        "    projectile_MTs = nested_projectile_dict[projectile]\n",
        "    for product_enum in enumerate(products)\n",
        "        product_index, product_string = product_enum\n",
        "        product = write_in_z_a_format(product_string)\n",
        "        projectile_product_dict[projectile][product_string] = Dict([])\n",
        "        projectile_product_dict[projectile][product_string][\"(A,Z)\"] = product\n",
        "        reactions = [reaction for reaction in keys(nested_projectile_dict[projectile])]\n",
        "        for reaction in reactions\n",
        "            target = (product[1] - reaction[1], product[2] - reaction[2])\n",
        "            try\n",
        "                if isotope_abundances[target] > 0\n",
        "                    #need target, abundance, and MTs for each reaction\n",
        "                    projectile_product_dict[projectile][product_string][target] = Dict([])\n",
        "                    projectile_product_dict[projectile][product_string][target][\"MT\"] = (\n",
        "                        projectile_MTs[reaction])\n",
        "                    projectile_product_dict[projectile][product_string][target][\"abundance\"] = (\n",
        "                        isotope_abundances[target])\n",
        "                end\n",
        "            catch\n",
        "                continue #the target isn't even in the isotope_abundances dict\n",
        "            end\n",
        "        end\n",
        "    end\n",
        "end\n",
        "projectile_product_dict #note that is only including 1 step reactions"
      ]
    },
    {
      "cell_type": "markdown",
      "metadata": {},
      "source": [
        "Now to import the average densities of each element, which we can then use to find the density of each target. Note that isotopic differences should be taken into consideration.\n",
        "\n",
        "Source: https://gist.github.com/GoodmanSciences/c2dd862cd38f21b0ad36b8f96b4bf1ee"
      ]
    },
    {
      "cell_type": "code",
      "execution_count": 9,
      "metadata": {},
      "outputs": [
        {
          "data": {
            "text/html": [
              "<div class=\"data-frame\"><p>118 rows × 28 columns (omitted printing of 22 columns)</p><table class=\"data-frame\"><thead><tr><th></th><th>AtomicNumber</th><th>Element</th><th>Symbol</th><th>AtomicMass</th><th>NumberofNeutrons</th><th>NumberofProtons</th></tr><tr><th></th><th title=\"Int64\">Int64</th><th title=\"String15\">String15</th><th title=\"String3\">String3</th><th title=\"Float64\">Float64</th><th title=\"Int64\">Int64</th><th title=\"Int64\">Int64</th></tr></thead><tbody><tr><th>1</th><td>1</td><td>Hydrogen</td><td>H</td><td>1.007</td><td>0</td><td>1</td></tr><tr><th>2</th><td>2</td><td>Helium</td><td>He</td><td>4.002</td><td>2</td><td>2</td></tr><tr><th>3</th><td>3</td><td>Lithium</td><td>Li</td><td>6.941</td><td>4</td><td>3</td></tr><tr><th>4</th><td>4</td><td>Beryllium</td><td>Be</td><td>9.012</td><td>5</td><td>4</td></tr><tr><th>5</th><td>5</td><td>Boron</td><td>B</td><td>10.811</td><td>6</td><td>5</td></tr><tr><th>6</th><td>6</td><td>Carbon</td><td>C</td><td>12.011</td><td>6</td><td>6</td></tr><tr><th>7</th><td>7</td><td>Nitrogen</td><td>N</td><td>14.007</td><td>7</td><td>7</td></tr><tr><th>8</th><td>8</td><td>Oxygen</td><td>O</td><td>15.999</td><td>8</td><td>8</td></tr><tr><th>9</th><td>9</td><td>Fluorine</td><td>F</td><td>18.998</td><td>10</td><td>9</td></tr><tr><th>10</th><td>10</td><td>Neon</td><td>Ne</td><td>20.18</td><td>10</td><td>10</td></tr><tr><th>11</th><td>11</td><td>Sodium</td><td>Na</td><td>22.99</td><td>12</td><td>11</td></tr><tr><th>12</th><td>12</td><td>Magnesium</td><td>Mg</td><td>24.305</td><td>12</td><td>12</td></tr><tr><th>13</th><td>13</td><td>Aluminum</td><td>Al</td><td>26.982</td><td>14</td><td>13</td></tr><tr><th>14</th><td>14</td><td>Silicon</td><td>Si</td><td>28.086</td><td>14</td><td>14</td></tr><tr><th>15</th><td>15</td><td>Phosphorus</td><td>P</td><td>30.974</td><td>16</td><td>15</td></tr><tr><th>16</th><td>16</td><td>Sulfur</td><td>S</td><td>32.065</td><td>16</td><td>16</td></tr><tr><th>17</th><td>17</td><td>Chlorine</td><td>Cl</td><td>35.453</td><td>18</td><td>17</td></tr><tr><th>18</th><td>18</td><td>Argon</td><td>Ar</td><td>39.948</td><td>22</td><td>18</td></tr><tr><th>19</th><td>19</td><td>Potassium</td><td>K</td><td>39.098</td><td>20</td><td>19</td></tr><tr><th>20</th><td>20</td><td>Calcium</td><td>Ca</td><td>40.078</td><td>20</td><td>20</td></tr><tr><th>21</th><td>21</td><td>Scandium</td><td>Sc</td><td>44.956</td><td>24</td><td>21</td></tr><tr><th>22</th><td>22</td><td>Titanium</td><td>Ti</td><td>47.867</td><td>26</td><td>22</td></tr><tr><th>23</th><td>23</td><td>Vanadium</td><td>V</td><td>50.942</td><td>28</td><td>23</td></tr><tr><th>24</th><td>24</td><td>Chromium</td><td>Cr</td><td>51.996</td><td>28</td><td>24</td></tr><tr><th>&vellip;</th><td>&vellip;</td><td>&vellip;</td><td>&vellip;</td><td>&vellip;</td><td>&vellip;</td><td>&vellip;</td></tr></tbody></table></div>"
            ],
            "text/latex": [
              "\\begin{tabular}{r|ccccccc}\n",
              "\t& AtomicNumber & Element & Symbol & AtomicMass & NumberofNeutrons & NumberofProtons & \\\\\n",
              "\t\\hline\n",
              "\t& Int64 & String15 & String3 & Float64 & Int64 & Int64 & \\\\\n",
              "\t\\hline\n",
              "\t1 & 1 & Hydrogen & H & 1.007 & 0 & 1 & $\\dots$ \\\\\n",
              "\t2 & 2 & Helium & He & 4.002 & 2 & 2 & $\\dots$ \\\\\n",
              "\t3 & 3 & Lithium & Li & 6.941 & 4 & 3 & $\\dots$ \\\\\n",
              "\t4 & 4 & Beryllium & Be & 9.012 & 5 & 4 & $\\dots$ \\\\\n",
              "\t5 & 5 & Boron & B & 10.811 & 6 & 5 & $\\dots$ \\\\\n",
              "\t6 & 6 & Carbon & C & 12.011 & 6 & 6 & $\\dots$ \\\\\n",
              "\t7 & 7 & Nitrogen & N & 14.007 & 7 & 7 & $\\dots$ \\\\\n",
              "\t8 & 8 & Oxygen & O & 15.999 & 8 & 8 & $\\dots$ \\\\\n",
              "\t9 & 9 & Fluorine & F & 18.998 & 10 & 9 & $\\dots$ \\\\\n",
              "\t10 & 10 & Neon & Ne & 20.18 & 10 & 10 & $\\dots$ \\\\\n",
              "\t11 & 11 & Sodium & Na & 22.99 & 12 & 11 & $\\dots$ \\\\\n",
              "\t12 & 12 & Magnesium & Mg & 24.305 & 12 & 12 & $\\dots$ \\\\\n",
              "\t13 & 13 & Aluminum & Al & 26.982 & 14 & 13 & $\\dots$ \\\\\n",
              "\t14 & 14 & Silicon & Si & 28.086 & 14 & 14 & $\\dots$ \\\\\n",
              "\t15 & 15 & Phosphorus & P & 30.974 & 16 & 15 & $\\dots$ \\\\\n",
              "\t16 & 16 & Sulfur & S & 32.065 & 16 & 16 & $\\dots$ \\\\\n",
              "\t17 & 17 & Chlorine & Cl & 35.453 & 18 & 17 & $\\dots$ \\\\\n",
              "\t18 & 18 & Argon & Ar & 39.948 & 22 & 18 & $\\dots$ \\\\\n",
              "\t19 & 19 & Potassium & K & 39.098 & 20 & 19 & $\\dots$ \\\\\n",
              "\t20 & 20 & Calcium & Ca & 40.078 & 20 & 20 & $\\dots$ \\\\\n",
              "\t21 & 21 & Scandium & Sc & 44.956 & 24 & 21 & $\\dots$ \\\\\n",
              "\t22 & 22 & Titanium & Ti & 47.867 & 26 & 22 & $\\dots$ \\\\\n",
              "\t23 & 23 & Vanadium & V & 50.942 & 28 & 23 & $\\dots$ \\\\\n",
              "\t24 & 24 & Chromium & Cr & 51.996 & 28 & 24 & $\\dots$ \\\\\n",
              "\t$\\dots$ & $\\dots$ & $\\dots$ & $\\dots$ & $\\dots$ & $\\dots$ & $\\dots$ &  \\\\\n",
              "\\end{tabular}\n"
            ],
            "text/plain": [
              "\u001b[1m118×28 DataFrame\u001b[0m\n",
              "\u001b[1m Row \u001b[0m│\u001b[1m AtomicNumber \u001b[0m\u001b[1m Element       \u001b[0m\u001b[1m Symbol  \u001b[0m\u001b[1m AtomicMass \u001b[0m\u001b[1m NumberofNeutrons \u001b[0m\u001b[1m Num\u001b[0m ⋯\n",
              "\u001b[1m     \u001b[0m│\u001b[90m Int64        \u001b[0m\u001b[90m String15      \u001b[0m\u001b[90m String3 \u001b[0m\u001b[90m Float64    \u001b[0m\u001b[90m Int64            \u001b[0m\u001b[90m Int\u001b[0m ⋯\n",
              "─────┼──────────────────────────────────────────────────────────────────────────\n",
              "   1 │            1  Hydrogen       H             1.007                 0      ⋯\n",
              "   2 │            2  Helium         He            4.002                 2\n",
              "   3 │            3  Lithium        Li            6.941                 4\n",
              "   4 │            4  Beryllium      Be            9.012                 5\n",
              "   5 │            5  Boron          B            10.811                 6      ⋯\n",
              "   6 │            6  Carbon         C            12.011                 6\n",
              "   7 │            7  Nitrogen       N            14.007                 7\n",
              "   8 │            8  Oxygen         O            15.999                 8\n",
              "  ⋮  │      ⋮              ⋮           ⋮         ⋮              ⋮              ⋱\n",
              " 112 │          112  Copernicium    Cn          285.0                 173      ⋯\n",
              " 113 │          113  Nihonium       Nh          284.0                 171\n",
              " 114 │          114  Flerovium      Fl          289.0                 175\n",
              " 115 │          115  Moscovium      Mc          288.0                 173\n",
              " 116 │          116  Livermorium    Lv          292.0                 176      ⋯\n",
              " 117 │          117  Tennessine     Ts          295.0                 178\n",
              " 118 │          118  Oganesson      Og          294.0                 176\n",
              "\u001b[36m                                                 23 columns and 103 rows omitted\u001b[0m"
            ]
          },
          "metadata": {},
          "output_type": "display_data"
        }
      ],
      "source": [
        "elemental_densities_path = (\"C:\\\\Users\\\\engin\\\\Documents\\\\\" * \n",
        "        \"GitHub\\\\Energy\\\\ImportedData\\\\Periodic Table of Elements.csv\")\n",
        "#import CSV \n",
        "elemental_densities = CSV.read(elemental_densities_path, DataFrame)"
      ]
    },
    {
      "cell_type": "markdown",
      "metadata": {},
      "source": [
        "Since most of these projectiles are charged, I need to account for the stopping power of the target.\n",
        "Found an extensive database here https://www-nds.iaea.org/stopping/stopping_intr.html\n",
        "\n",
        "Does stopping power vary greatly between different isotopes of the same element? Since they have the same number of protons and electrons, I don't think it should differ greatly. The stopping would be unaffected based on the Bethe formula. \n",
        "\n",
        "Based on these graphs, https://www-nds.iaea.org/stopping/stopping_timg.html the first column is the energy per nucleon in MeV and the second column (note that sometimes commas are used instead of decimal points) is the electronic stopping power in Mev/(mg/cm $^2$). This must be normalized by the mass of the target (e.g https://www-nds.iaea.org/stopping/SCSGraphs/16O/oal.gif) bottom right table. \n"
      ]
    },
    {
      "cell_type": "markdown",
      "metadata": {},
      "source": [
        "Is it necessary to find the energy efficiencies of all reactions that result in the desired product? Can we rule any out while still being just as thorough as looking at every MT?"
      ]
    },
    {
      "cell_type": "markdown",
      "metadata": {},
      "source": [
        "Now that I have a dictionary of the potential targets that can be used to make a product, I just need to find their corresponding MTs. I just need to use the dictionary of MTs I already made. "
      ]
    },
    {
      "cell_type": "markdown",
      "metadata": {},
      "source": [
        "Other potentially relevant sections:\n",
        "\n",
        "MT 201 refers to neutron production, "
      ]
    },
    {
      "cell_type": "code",
      "execution_count": 10,
      "metadata": {},
      "outputs": [
        {
          "data": {
            "text/plain": [
              "Dict{Any, Any} with 118 entries:\n",
              "  \"Pd\"  => 12.0\n",
              "  \"Fl\"  => missing\n",
              "  \"Si\"  => 2.33\n",
              "  \"C\"   => 2.27\n",
              "  \"P\"   => 1.82\n",
              "  \"Nb\"  => 8.57\n",
              "  \"Ag\"  => 10.5\n",
              "  \"Gd\"  => 7.9\n",
              "  \"Ru\"  => 12.4\n",
              "  \"At\"  => 7.0\n",
              "  \"Sb\"  => 6.69\n",
              "  \"Cn \" => missing\n",
              "  \"Cs\"  => 1.87\n",
              "  \"Be\"  => 1.85\n",
              "  \"Sr\"  => 2.64\n",
              "  \"Ac\"  => 10.1\n",
              "  \"Cf\"  => 15.1\n",
              "  \"Ta\"  => 16.7\n",
              "  \"Ga\"  => 5.91\n",
              "  ⋮     => ⋮"
            ]
          },
          "metadata": {},
          "output_type": "display_data"
        }
      ],
      "source": [
        "density_path = (\"C:\\\\Users\\\\engin\\\\Documents\\\\\" * \n",
        "        \"GitHub\\\\Energy\\\\ImportedData\\\\Periodic Table of Elements.csv\")\n",
        "#read csv to dataframe\n",
        "density_df = CSV.read(density_path, DataFrame)\n",
        "#get the density of each element\n",
        "density_dict = Dict([])\n",
        "for i in 1:length(density_df[!, \"Symbol\"])\n",
        "    density_dict[density_df[i,\"Symbol\"]] = density_df[i,\"Density\"]\n",
        "end\n",
        "density_dict"
      ]
    },
    {
      "cell_type": "code",
      "execution_count": 11,
      "metadata": {},
      "outputs": [
        {
          "data": {
            "text/plain": [
              "1-element Vector{Any}:\n",
              " (0, -1)"
            ]
          },
          "metadata": {},
          "output_type": "display_data"
        }
      ],
      "source": [
        "function get_key(dictionary, value)\n",
        "    key = []\n",
        "    for dict_key in keys(dictionary)\n",
        "        if(value in dictionary[dict_key])\n",
        "            append!(key, [dict_key])\n",
        "        end\n",
        "    end\n",
        "    return key\n",
        "end \n",
        "get_key(gamma_MTs, 50)"
      ]
    },
    {
      "cell_type": "code",
      "execution_count": 12,
      "metadata": {},
      "outputs": [
        {
          "data": {
            "text/plain": [
              "\"C:\\\\Cross-Section-Data\\\\jendl5-n\\\\n_082-Pb-206.dat\""
            ]
          },
          "metadata": {},
          "output_type": "display_data"
        }
      ],
      "source": [
        "projectile_directory_dict = Dict([])\n",
        "projectile_symbol_dict = Dict([\"gamma\" => \"g\", \"neutron\" => \"n\",\n",
        "                                \"proton\" => \"p\", \"deuteron\" => \"d\",\n",
        "                                \"triton\" => \"t\", \"He3\" => \"He3\",\n",
        "                                \"alpha\" => \"a\"])\n",
        "function get_file_path(projectile, target)\n",
        "    projectile_symbol = projectile_symbol_dict[projectile]\n",
        "    parent_dir = \"jendl5-\" \n",
        "    directory = \"C:\\\\Cross-Section-Data\\\\\" * parent_dir * projectile_symbol * String(\"\\\\\") \n",
        "    file_name = (projectile_symbol * String(\"_\") * lpad(target[1], 3, \"0\") * String(\"-\") \n",
        "            * element_symbols[target[1]] * String(\"-\")* lpad(target[2], 3, \"0\") \n",
        "            * String(\".dat\"))\n",
        "    return (directory * file_name)\n",
        "end\n",
        "\n",
        "#TODO: incorporate talys data iff the other directories are insufficient. \n",
        "function get_talys_file_path(projectile, target)\n",
        "    zero_case = false\n",
        "    #==\n",
        "    These are the files that are in the TALYS directory, \n",
        "    and they are structured as follows:\n",
        "    one letter projectile abbreviation, element symbol with 3 digits\n",
        "    consisting of the mass number left padded with zeros (some elements \n",
        "    only have a directory with the element symbol followed by 3 zeros \n",
        "    regardless of the mass number). \n",
        "    Within this directory are even more directories. The MT files Within\n",
        "    the tables/xs subdirectory sometimes have more points but cover a smaller\n",
        "    range of energies compared to the file in the tendl.2019/files subdirectory.\n",
        "    ==#\n",
        "    projectile_symbol = projectile_symbol_dict[projectile]\n",
        "    parent_dir = \"C:\\\\Cross-Section-Data\\\\talys_data\\\\libraries\\\\\" \n",
        "    element_symbol = element_symbols[target[1]]\n",
        "    directory =  parent_dir * projectile_symbol * String(\"\\\\\") * element_symbol\n",
        "    file_name = \"\"\n",
        "    try #if the directory doesn't exist, return nothing\n",
        "        test = directory * lpad(target[2], 3, \"0\") * String(\"\\\\\")\n",
        "        _ = readdir(test)\n",
        "        directory = test * \"tendl.2019\\\\files\\\\\"\n",
        "        file_name = [file for file in readdir(directory)\n",
        "                        if file[length(file)-3:end] == \"2019\"][1] \n",
        "    catch \n",
        "        try \n",
        "            directory = directory * \"000\" * String(\"\\\\\") \n",
        "            directory = directory * String(\"tendl.2019\\\\tables\\\\xs\\\\\")\n",
        "            file_name = readdir(directory)\n",
        "            zero_case = true\n",
        "            return directory, file_name, zero_case\n",
        "        catch\n",
        "            #not in the directory \n",
        "            return nothing\n",
        "        end\n",
        "    end\n",
        "    return (directory * file_name), zero_case\n",
        "end\n",
        "\n",
        "function get_file_path(projectile, target, parent_dir, data_dir, file_type)\n",
        "    projectile_symbol = projectile_symbol_dict[projectile]\n",
        "    directory = data_dir * parent_dir * String(\"\\\\\")\n",
        "    file_name = (projectile_symbol * String(\"-\") * lpad(target[1], 3, \"0\") \n",
        "            * String(\"_\") * element_symbols[target[1]] * String(\"_\") * \n",
        "            lpad(target[2], 3, \"0\") * file_type)\n",
        "    return (directory * file_name)\n",
        "end\n",
        "\n",
        "get_file_path(\"neutron\", (82,206))"
      ]
    },
    {
      "cell_type": "code",
      "execution_count": 13,
      "metadata": {},
      "outputs": [
        {
          "data": {
            "text/plain": [
              "(\"C:\\\\Cross-Section-Data\\\\talys_data\\\\libraries\\\\n\\\\Ni063\\\\tendl.2019\\\\files\\\\n-Ni063.tendl.2019\", false)"
            ]
          },
          "metadata": {},
          "output_type": "display_data"
        }
      ],
      "source": [
        "get_talys_file_path(\"neutron\", (28,63))"
      ]
    },
    {
      "cell_type": "code",
      "execution_count": 14,
      "metadata": {},
      "outputs": [
        {
          "data": {
            "text/plain": [
              "6-element Vector{String}:\n",
              " \"7.386000+2\"\n",
              " \"5.000000-1\"\n",
              " \"1.885308+1\"\n",
              " \"1.870308+1\"\n",
              " \"1.500000-1\"\n",
              " \"0.000000+0\""
            ]
          },
          "metadata": {},
          "output_type": "display_data"
        }
      ],
      "source": [
        "d = [a-9:a for a in 11*collect(1:6)]\n",
        "c = \"-7.386000+2 5.000000-1 1.885308+1 1.870308+1 1.500000-1 0.000000+0\"\n",
        "[c[slice] for slice in d]"
      ]
    },
    {
      "cell_type": "code",
      "execution_count": 15,
      "metadata": {},
      "outputs": [
        {
          "data": {
            "text/plain": [
              "get_unique_MTs (generic function with 1 method)"
            ]
          },
          "metadata": {},
          "output_type": "display_data"
        }
      ],
      "source": [
        "# Reference: https://github.com/DavidWalz/pyENDF6\n",
        "\n",
        "slices = Dict(\n",
        "    \"MAT\" => 67:71,\n",
        "    \"MF\" => 72:74,\n",
        "    \"MT\" => 75:78,\n",
        "    \"line\" => 78:83,\n",
        "    \"content\" => 1:67,\n",
        "    \"data\" => [a-10:a for a in 11*collect(1:6)])\n",
        "\n",
        "talys_slices = Dict(\n",
        "    \"MAT\" => 67:71,\n",
        "    \"MF\" => 71:72,\n",
        "    \"MT\" => 73:75,\n",
        "    \"line\" => 78:83,\n",
        "    \"content\" => 1:67,\n",
        "    \"data\" => [a-9:a for a in 11*collect(1:6)])\n",
        "\n",
        "function read_float(v)\n",
        "    #Convert ENDF6 string to float \n",
        "    a, b = [' '], \"\" \n",
        "    if (strip(v, a) == b)\n",
        "        return 0.\n",
        "    end\n",
        "    try\n",
        "        return parse(BigFloat, v)\n",
        "    catch\n",
        "        # ENDF6 may omit the e for exponent\n",
        "        return parse(BigFloat,\n",
        "            v[1] * replace(replace(v[2:end], \"+\" => \"e+\"), \"-\" => \"e-\"))  \n",
        "            # don't replace leading negative sign\n",
        "    end\n",
        "end  \n",
        "\n",
        "function read_line(l, talys)\n",
        "    #Read first 6*11 characters of a line as floats\"\"\"\n",
        "    if talys \n",
        "        slices_dict =  talys_slices\n",
        "    else\n",
        "        slices_dict = slices\n",
        "    end\n",
        "    return [read_float(l[s]) for s in slices_dict[\"data\"]]\n",
        "end\n",
        " \n",
        "function read_table(lines, talys)\n",
        "    #=\n",
        "    Parse tabulated data in a section\n",
        "    https://t2.lanl.gov/nis/endf/intro07.html\n",
        "    https://t2.lanl.gov/nis/endf/intro08.html\n",
        "    https://t2.lanl.gov/nis/endf/intro09.html\n",
        "    =#\n",
        "    # header line 1: (100*Z+A), mass in [m_neutron]\n",
        "    # [MAT, 3, MT/ ZA, AWR, 0, 0, 0, 0] HEAD\n",
        "\n",
        "    # header line 2: Q-value and some counts\n",
        "    # [MAT, 3, MT/ QM, QI, 0, LR, NR, NP/ EINT/ S(E)] TAB1\n",
        "    f = read_line(lines[2], talys)\n",
        "    nS = Int64(f[5])  # number of interpolation sections\n",
        "    nP = Int64(f[6])  # number of data points\n",
        "    # header line 3: interpolation information\n",
        "    # [MAT, 3, 0/ 0.0, 0.0, 0, 0, 0, 0] SEND\n",
        "    # 1   y is constant in x (constant, histogram)\n",
        "    # 2   y is linear in x (linear-linear)\n",
        "    # 3   y is linear in ln(x) (linear-log)\n",
        "    # 4   ln(y) is linear in x (log-linear)\n",
        "    # 5   ln(y) is linear in ln(x) (log-log)\n",
        "    # 6   y obeys a Gamow charged-particle penetrability law\n",
        "\n",
        "    # data lines\n",
        "    energy = []\n",
        "    cross_section = []\n",
        "    for l in lines[4:end]\n",
        "        f = read_line(l, talys)\n",
        "        append!(energy, f[1], f[3], f[5])\n",
        "        append!(cross_section, f[2], f[4], f[6])\n",
        "    end\n",
        "    return energy[1:nP], cross_section[1:nP]\n",
        "end \n",
        "\n",
        "function find_section(lines, MF, MT, talys)\n",
        "    #\"\"\"Locate and return a certain section\"\"\"\n",
        "    v = [l[71:75] for l in lines]\n",
        "    cmpstr = \"$(@sprintf(\"%2s\", MF))$(@sprintf(\"%3s\", MT))\" # search string\n",
        "    i0 = collect(findfirst(==(cmpstr), v))[1] # first occurrence\n",
        "    i1 = collect(findlast(==(cmpstr), v))[1] # last occurrence\n",
        "    return lines[i0: i1]\n",
        "end\n",
        "\n",
        "function energy_and_cross_section(file_path, MT, talys)\n",
        "    MF = 3\n",
        "    try\n",
        "        open(file_path) do file\n",
        "            lines = split(read(file_path, String), \n",
        "                        \"\\n\", keepempty = false)\n",
        "            lines = lines[lines .!== nothing]\n",
        "            lines = lines[lines .!== \"\"]\n",
        "            lines = lines[lines .!== Nothing]\n",
        "            lines = String.(lines)\n",
        "            sec = find_section(lines, MF, MT, talys)\n",
        "            return read_table(sec, talys)\n",
        "        end\n",
        "    catch\n",
        "        return nothing \n",
        "    end\n",
        "end\n",
        "\n",
        "function get_unique_MTs(file_path, talys)\n",
        "    MF = 3\n",
        "    try\n",
        "        open(file_path) do file\n",
        "            lines = split(read(file_path, String), \n",
        "                        \"\\n\", keepempty = false)\n",
        "            lines = lines[lines .!== nothing]\n",
        "            lines = lines[lines .!== \"\"]\n",
        "            lines = lines[lines .!== Nothing]\n",
        "            lines = String.(lines)\n",
        "            if talys\n",
        "                slices_dict = talys_slices\n",
        "            else\n",
        "                slices_dict = slices\n",
        "            end\n",
        "            try\n",
        "                return unique([tryparse(Int64, String([l[s] for s in \n",
        "                            slices_dict[\"MT\"]])) for l in lines\n",
        "                        if (tryparse(Int64, String([l[s] for \n",
        "                            s in slices_dict[\"MF\"]])) == 3)])\n",
        "            catch\n",
        "                #ENDF-BVIII.0 does not 0 padd the MFs or MTs, changing the length of each line.\n",
        "                lines = [String(line) for line in lines \n",
        "                        if length(String(line)) > 74]\n",
        "                return unique([tryparse(Int64, String(l[73:end])) \n",
        "                            for l in lines if (Int(l[72]) - Int('0') == 3)])\n",
        "            end    \n",
        "        end\n",
        "    catch\n",
        "        return nothing \n",
        "    end\n",
        "end"
      ]
    },
    {
      "cell_type": "code",
      "execution_count": 16,
      "metadata": {},
      "outputs": [
        {
          "data": {
            "text/plain": [
              "filtered_MTs (generic function with 1 method)"
            ]
          },
          "metadata": {},
          "output_type": "display_data"
        }
      ],
      "source": [
        "#get the intersection of two arrays\n",
        "function intersection(a, b)\n",
        "    return [x for x in a if x in b]\n",
        "end\n",
        "\n",
        "function filtered_MTs(projectile, product, target, reaction_MTs, talys)\n",
        "    if talys\n",
        "        file_path, zero_case = get_talys_file_path(projectile, target)\n",
        "    else \n",
        "        file_path = get_file_path(projectile, target)\n",
        "    end \n",
        "        unique_MTs = get_unique_MTs(file_path, talys)\n",
        "    try\n",
        "        return intersection(unique_MTs, reaction_MTs)\n",
        "    catch\n",
        "        #println(\"No reaction MTs found for \", projectile, product, target)\n",
        "        return nothing\n",
        "    end\n",
        "end"
      ]
    },
    {
      "cell_type": "markdown",
      "metadata": {},
      "source": [
        "#The function min_isotope_production_energy will determine the lowest one step method of producing a given isotope using a given projectile. It returns the minimum energy of reaction and the corresponding target isotope in the form (z,a)."
      ]
    },
    {
      "cell_type": "code",
      "execution_count": 17,
      "metadata": {},
      "outputs": [
        {
          "data": {
            "text/latex": [
              "$\\left(\\frac{t}{a}\\right)^{\\frac{a}{a - t}} - \\left(\\frac{t}{a}\\right)^{\\frac{t}{a - t}}$"
            ],
            "text/plain": [
              "     a          t  \n",
              "   -----      -----\n",
              "   a - t      a - t\n",
              "/t\\        /t\\     \n",
              "|-|      - |-|     \n",
              "\\a/        \\a/     "
            ]
          },
          "metadata": {},
          "output_type": "display_data"
        }
      ],
      "source": [
        "t, a= symbols(\"t a\")\n",
        "Pmax = (t/a)^(a/(a-t)) - (t/a)^(t/(a-t)) "
      ]
    },
    {
      "cell_type": "code",
      "execution_count": 18,
      "metadata": {},
      "outputs": [
        {
          "data": {
            "text/plain": [
              "true"
            ]
          },
          "metadata": {},
          "output_type": "display_data"
        }
      ],
      "source": [
        "Pmax_num = convert(Function, Pmax)\n",
        "Pmax_num(a,t) == Pmax"
      ]
    },
    {
      "cell_type": "code",
      "execution_count": 19,
      "metadata": {},
      "outputs": [
        {
          "data": {
            "text/latex": [
              "$\\frac{\\log{\\left(\\frac{t}{a} \\right)}}{k \\left(a - t\\right)}$"
            ],
            "text/plain": [
              "     /t\\ \n",
              "  log|-| \n",
              "     \\a/ \n",
              "---------\n",
              "k*(a - t)"
            ]
          },
          "metadata": {},
          "output_type": "display_data"
        }
      ],
      "source": [
        "N_A, M, ρ, k = symbols(\"N_A M ρ k\")\n",
        "#k = -ρ * N_A / M\n",
        "x_pmax = log(t/a)/(k*(a-t))"
      ]
    },
    {
      "cell_type": "code",
      "execution_count": 20,
      "metadata": {},
      "outputs": [
        {
          "data": {
            "text/plain": [
              "true"
            ]
          },
          "metadata": {},
          "output_type": "display_data"
        }
      ],
      "source": [
        "x_num = convert(Function, x_pmax)\n",
        "x_num(a, k, t) == x_pmax"
      ]
    },
    {
      "cell_type": "code",
      "execution_count": 21,
      "metadata": {},
      "outputs": [
        {
          "data": {
            "text/plain": [
              "min_isotope_production_energy (generic function with 1 method)"
            ]
          },
          "metadata": {},
          "output_type": "display_data"
        }
      ],
      "source": [
        "function try_minimum(input_arr)\n",
        "    #==\n",
        "    Return the minimum of the array if it is valid, return 0 otherwise. \n",
        "    ==#\n",
        "    try \n",
        "        return minimum(input_arr)\n",
        "    catch\n",
        "        return 0\n",
        "    end\n",
        "end \n",
        "\n",
        "function min_reaction_energy(projectile, target, MT, competing_reactions,\n",
        "                            talys)\n",
        "    if talys\n",
        "        file_path, zero_case = get_talys_file_path(projectile, target)\n",
        "    else \n",
        "        data_dir = \"C:\\\\Cross-Section-Data\\\\ENDF-B-VIII.0\"\n",
        "        parent_dir = projectile * String(\"s\")\n",
        "        file_type = \".endf\"\n",
        "        file_path = get_file_path(projectile, target, parent_dir, \n",
        "                                    data_dir, file_type)\n",
        "    end\n",
        "    test = energy_and_cross_section(file_path, MT, talys)\n",
        "    if test == nothing\n",
        "        println(\"No data for \", projectile, \" \", target, \" \", MT)\n",
        "        return nothing\n",
        "    end\n",
        "    energies, cross_sections = test \n",
        "    density = density_df[target[1], \"Density\"] * 1000 \n",
        "    # convert from g/cm^3 to kg/m^3\n",
        "    k = -BigFloat(density) * (6.022140857e23) / target[2]\n",
        "    if !competing_reactions\n",
        "        p = 1 .- exp.(k * cross_sections * 1)\n",
        "        return minimum(energies ./ p)\n",
        "    else \n",
        "        min_MT = try_positive_minimum(get_unique_MTs(file_path, talys))\n",
        "        print(min_MT)\n",
        "        E_t, t = energy_and_cross_section(file_path, min_MT, talys)\n",
        "        if min_MT == MT\n",
        "            #There aren't any competing reactions\n",
        "            p = 1 .- exp.(k * cross_sections * 1)\n",
        "            return minimum(energies ./ p)\n",
        "        end\n",
        "        print(file_path, MT)\n",
        "        #show the plot\n",
        "        p = [Pmax_num(cross_sections[i], t[i]) \n",
        "            for i in collect(1:length(energies))\n",
        "            if E_t[i] == energies[i]]\n",
        "        best_index = argmin(energies ./ p)\n",
        "        x_pmax = x_num(cross_sections[best_index], k, t[best_index])\n",
        "        return energies[best_index] / p[best_index], x_pmax\n",
        "    end\n",
        "end\n",
        "\n",
        "function min_isotope_production_energy(projectile, product, competing_reactions,\n",
        "    talys)\n",
        "    #==\n",
        "    Loops through all of the targets and all of the MTs for each target\n",
        "    for a given projectile and target isotope.\n",
        "    ==#\n",
        "    targets = [key for key in \n",
        "            keys(projectile_product_dict[projectile][product])\n",
        "            if (key != \"(A,Z)\" && key != write_in_z_a_format(product))]\n",
        "    min_target_energy = Dict([])\n",
        "    for target in targets\n",
        "        MTs = filtered_MTs(projectile, product, target, \n",
        "                    projectile_product_dict[projectile][product][target][\"MT\"],\n",
        "                    talys)\n",
        "        if MTs != Nothing && MTs != [] && MTs != nothing\n",
        "            min_target_energy[target] = [min_reaction_energy(projectile, \n",
        "                    target, MT, competing_reactions, talys) for MT in MTs]\n",
        "        end\n",
        "    end\n",
        "    return min_target_energy\n",
        "    #==\n",
        "    #replace all values of [] in min_energy and take the minimum, if error just return 0\n",
        "    min_energy = try_minimum(filter!(energy -> length(energy) > 0, \n",
        "                    min_energy))[1]\n",
        "    if competing_reactions\n",
        "        return min_target_energy\n",
        "    end\n",
        "    if min_energy > 0.0\n",
        "            target_list = get_key(min_target_energy, min_energy)\n",
        "            product_z_a = write_in_z_a_format(product)\n",
        "            reaction = [[product_z_a[1] - target[1], product_z_a[2] - target[2]]\n",
        "                    for target in target_list]\n",
        "            return min_energy, target_list, reaction\n",
        "    else\n",
        "        #print(\"No data for producing \", product, \" with \",\n",
        "        #    projectile, \" in only one step.\")\n",
        "        return nothing, nothing, nothing\n",
        "    end\n",
        "    ==#\n",
        "end"
      ]
    },
    {
      "cell_type": "code",
      "execution_count": 37,
      "metadata": {},
      "outputs": [
        {
          "data": {
            "application/vnd.plotly.v1+json": {
              "config": {
                "editable": false,
                "responsive": true,
                "scrollZoom": true,
                "showLink": false,
                "staticPlot": false
              },
              "data": [
                {
                  "mode": "markers",
                  "name": "108",
                  "type": "scatter",
                  "x": [
                    1853970,
                    8000000,
                    8500000,
                    9000000,
                    9500000,
                    10000000,
                    10500000,
                    11000000,
                    11500000,
                    12000000,
                    12500000,
                    13000000,
                    13500000,
                    14000000,
                    14500000,
                    15000000,
                    16000000,
                    17000000,
                    18000000,
                    19000000,
                    20000000,
                    21000000,
                    22000000,
                    23000000,
                    24000000,
                    25000000,
                    26000000,
                    27000000,
                    28000000,
                    29000000,
                    30000000,
                    30000000,
                    200000000
                  ],
                  "y": [
                    0,
                    2.13081e-20,
                    9.15068e-19,
                    2.67739e-17,
                    2.78345e-15,
                    3.75248e-14,
                    3.53391e-13,
                    2.73582e-12,
                    1.6615e-11,
                    7.02553e-11,
                    3.40842e-10,
                    1.15277e-9,
                    4.33602e-9,
                    1.14843e-8,
                    3.24057e-8,
                    6.741511e-8,
                    3.09679e-7,
                    0.00000120809,
                    0.0000039491,
                    0.0000109177,
                    0.0000225847,
                    0.0000434833,
                    0.00006645871,
                    0.0000934206,
                    0.000117529,
                    0.000146903,
                    0.000169443,
                    0.000197264,
                    0.000219601,
                    0.000243701,
                    0.000256468,
                    0,
                    0
                  ]
                },
                {
                  "mode": "markers",
                  "name": "1",
                  "type": "scatter",
                  "x": [
                    0.00001,
                    0.00001534689,
                    0.00001901214,
                    0.00002355274,
                    0.00002917771,
                    0.00003614613,
                    0.00004477879,
                    0.00005547305,
                    0.0000687215,
                    0.00008513403,
                    0.0001054663,
                    0.0001306542,
                    0.000161858,
                    0.0002005136,
                    0.0002484016,
                    0.0003077265,
                    0.0003812198,
                    0.0004722644,
                    0.0005850538,
                    0.0007247803,
                    0.0008978754,
                    0.001112312,
                    0.001377962,
                    0.001707053,
                    0.002114742,
                    0.002619794,
                    0.003245471,
                    0.004020577,
                    0.004980797,
                    0.006170345,
                    0.007643974,
                    0.009469559,
                    0.01173112,
                    0.01453283,
                    0.01800365,
                    0.02230341,
                    0.0253,
                    0.03422878,
                    0.04240345,
                    0.05253053,
                    0.06507622,
                    0.08061817,
                    0.09987193,
                    0.1237238,
                    0.1532722,
                    0.1898777,
                    0.2352253,
                    0.2914031,
                    0.360998,
                    0.4472135,
                    0.5540195,
                    0.6863335,
                    0.8502475,
                    1,
                    1.304868,
                    1.616503,
                    2.002566,
                    2.480832,
                    3.073318,
                    3.807308,
                    4.716591,
                    5.843033,
                    7.238505,
                    10,
                    11.10885,
                    13.76194,
                    17.04865,
                    21.12032,
                    26.16439,
                    32.41311,
                    40.15419,
                    49.74414,
                    61.62431,
                    76.34177,
                    100,
                    117.161,
                    145.1418,
                    200,
                    222.748,
                    300,
                    341.8488,
                    423.4914,
                    524.6315,
                    600,
                    890,
                    1000,
                    1235.651,
                    1530.757,
                    2000,
                    2349.236,
                    3000,
                    3605.353,
                    4466.398,
                    6000,
                    6854.531,
                    8491.576,
                    10000,
                    13031.95,
                    14000,
                    14000,
                    20000,
                    30000,
                    40000,
                    50000,
                    60000,
                    70000,
                    80000,
                    90000,
                    100000,
                    150000,
                    200000,
                    250000,
                    300000,
                    350000,
                    400000,
                    450000,
                    500000,
                    550000,
                    600000,
                    650000,
                    700000,
                    750000,
                    800000,
                    850000,
                    881924,
                    900000,
                    950000,
                    1000000,
                    1054480,
                    1100000,
                    1200000,
                    1233070,
                    1300000,
                    1397450,
                    1400000,
                    1500000,
                    1542420,
                    1582790,
                    1600000,
                    1700000,
                    1732250,
                    1773700,
                    1796330,
                    1800000,
                    1853970,
                    1891780,
                    1898990,
                    1900000,
                    1905680,
                    1908670,
                    1911460,
                    2000000,
                    2100000,
                    2184220,
                    2187830,
                    2200000,
                    2300000,
                    2340180,
                    2400000,
                    2486650,
                    2500000,
                    2571490,
                    2599000,
                    2600000,
                    2700000,
                    2800000,
                    2846720,
                    2900000,
                    2928950,
                    2987380,
                    3000000,
                    3090370,
                    3100000,
                    3102830,
                    3151820,
                    3175150,
                    3200000,
                    3226480,
                    3240280,
                    3288770,
                    3300000,
                    3342280,
                    3344620,
                    3361910,
                    3382900,
                    3393250,
                    3399340,
                    3400000,
                    3420270,
                    3465640,
                    3472380,
                    3477450,
                    3481510,
                    3500000,
                    3600000,
                    3700000,
                    3800000,
                    3900000,
                    4000000,
                    4146590,
                    4200000,
                    4400000,
                    4600000,
                    4800000,
                    5000000,
                    5200000,
                    5400000,
                    5600000,
                    5800000,
                    6000000,
                    6031940,
                    6200000,
                    6389320,
                    6400000,
                    6600000,
                    6712610,
                    6800000,
                    6971810,
                    7000000,
                    7200000,
                    7274030,
                    7400000,
                    7432740,
                    7512320,
                    7521620,
                    7600000,
                    7800000,
                    8000000,
                    8500000,
                    8614530,
                    8645980,
                    8775430,
                    8790380,
                    9000000,
                    9201420,
                    9231760,
                    9431990,
                    9500000,
                    9893800,
                    9926110,
                    10000000,
                    10500000,
                    10503700,
                    10681300,
                    10829300,
                    10883700,
                    10943100,
                    10945800,
                    11000000,
                    11007000,
                    11500000,
                    11698900,
                    12000000,
                    12500000,
                    12931600,
                    13000000,
                    13094400,
                    13199800,
                    13395500,
                    13500000,
                    14000000,
                    14500000,
                    14575000,
                    14649000,
                    15000000,
                    15351000,
                    15364600,
                    15500000,
                    15907700,
                    16000000,
                    16500000,
                    16851200,
                    17000000,
                    17092100,
                    17500000,
                    17642100,
                    17831600,
                    17866800,
                    18000000,
                    18500000,
                    18504400,
                    18901400,
                    19000000,
                    19061500,
                    19107900,
                    19500000,
                    19539000,
                    20000000,
                    21000000,
                    22000000,
                    23000000,
                    24000000,
                    25000000,
                    26000000,
                    27000000,
                    28000000,
                    29000000,
                    30000000,
                    31000000,
                    32000000,
                    33000000,
                    34000000,
                    35000000,
                    36000000,
                    37000000,
                    38000000,
                    39000000,
                    40000000,
                    41000000,
                    42000000,
                    43000000,
                    44000000,
                    45000000,
                    46000000,
                    47000000,
                    48000000,
                    49000000,
                    50000000,
                    51000000,
                    52000000,
                    53000000,
                    54000000,
                    55000000,
                    56000000,
                    57000000,
                    58000000,
                    59000000,
                    60000000,
                    61000000,
                    62000000,
                    63000000,
                    64000000,
                    65000000,
                    66000000,
                    67000000,
                    68000000,
                    69000000,
                    70000000,
                    71000000,
                    72000000,
                    73000000,
                    74000000,
                    75000000,
                    76000000,
                    77000000,
                    78000000,
                    79000000,
                    80000000,
                    81000000,
                    82000000,
                    83000000,
                    84000000,
                    85000000,
                    86000000,
                    87000000,
                    88000000,
                    89000000,
                    90000000,
                    91000000,
                    92000000,
                    93000000,
                    94000000,
                    95000000,
                    96000000,
                    97000000,
                    98000000,
                    99000000,
                    100000000,
                    102000000,
                    104000000,
                    106000000,
                    108000000,
                    110000000,
                    112000000,
                    114000000,
                    116000000,
                    118000000,
                    120000000,
                    122000000,
                    124000000,
                    126000000,
                    128000000,
                    130000000,
                    132000000,
                    134000000,
                    136000000,
                    138000000,
                    140000000,
                    142000000,
                    144000000,
                    146000000,
                    148000000,
                    150000000,
                    152000000,
                    154000000,
                    156000000,
                    158000000,
                    160000000,
                    162000000,
                    164000000,
                    166000000,
                    168000000,
                    170000000,
                    172000000,
                    174000000,
                    176000000,
                    178000000,
                    180000000,
                    182000000,
                    184000000,
                    186000000,
                    188000000,
                    190000000,
                    192000000,
                    194000000,
                    196000000,
                    198000000,
                    200000000
                  ],
                  "y": [
                    5.66708e-7,
                    4.574558e-7,
                    4.110021e-7,
                    3.692655e-7,
                    3.317676e-7,
                    2.980771e-7,
                    2.678079e-7,
                    2.406127e-7,
                    2.161788e-7,
                    1.942264e-7,
                    1.745031e-7,
                    1.567827e-7,
                    1.408617e-7,
                    1.265576e-7,
                    1.137058e-7,
                    1.021592e-7,
                    9.17851e-8,
                    8.246456e-8,
                    7.409049e-8,
                    6.656673e-8,
                    5.980699e-8,
                    5.373369e-8,
                    4.827717e-8,
                    4.337474e-8,
                    3.897011e-8,
                    3.501279e-8,
                    3.14573e-8,
                    2.826287e-8,
                    2.539284e-8,
                    2.281422e-8,
                    2.049749e-8,
                    1.841601e-8,
                    1.654593e-8,
                    1.486571e-8,
                    1.335613e-8,
                    1.199983e-8,
                    1.12668e-8,
                    9.686459e-9,
                    8.702823e-9,
                    7.819066e-9,
                    7.025047e-9,
                    6.311665e-9,
                    5.670726e-9,
                    5.094878e-9,
                    4.577501e-9,
                    4.112664e-9,
                    3.69503e-9,
                    3.319809e-9,
                    2.982688e-9,
                    2.679801e-9,
                    2.407671e-9,
                    2.163179e-9,
                    1.943511e-9,
                    1.79209e-9,
                    1.568832e-9,
                    1.40952e-9,
                    1.266387e-9,
                    1.137787e-9,
                    1.022247e-9,
                    9.18439e-10,
                    8.25173e-10,
                    7.41379e-10,
                    6.66093e-10,
                    5.66707e-10,
                    5.37681e-10,
                    4.8308e-10,
                    4.34024e-10,
                    3.8995e-10,
                    3.50351e-10,
                    3.14774e-10,
                    2.82809e-10,
                    2.5409e-10,
                    2.28288e-10,
                    2.05106e-10,
                    1.79209e-10,
                    1.65565e-10,
                    1.48752e-10,
                    1.67656e-10,
                    2.05783e-10,
                    3.6256e-10,
                    4.64793e-10,
                    6.98529e-10,
                    1.049803e-9,
                    1.35519e-9,
                    2.868989e-9,
                    2.888321e-9,
                    2.600376e-9,
                    2.331128e-9,
                    2.020293e-9,
                    1.907105e-9,
                    1.744417e-9,
                    0.00001747515,
                    0.00004232912,
                    0.0000967594,
                    0.00013011,
                    0.0001600767,
                    0.0001673412,
                    0.00007196148,
                    0.00004150844,
                    11.31042,
                    10.23287,
                    9.42693,
                    9.056143,
                    8.695675,
                    8.342828,
                    8.176871,
                    8.015824,
                    7.858948,
                    7.705701,
                    7.300595,
                    6.946459,
                    6.707277,
                    6.496015,
                    6.309134,
                    6.140662,
                    5.979218,
                    5.831034,
                    5.686054,
                    5.551174,
                    5.419636,
                    5.296228,
                    5.17713,
                    5.064872,
                    4.957932,
                    4.892824,
                    4.856992,
                    4.762559,
                    4.673825,
                    4.467022,
                    4.429201,
                    4.349518,
                    4.269087,
                    4.176229,
                    4.043072,
                    4.039715,
                    3.908007,
                    3.855323,
                    3.806919,
                    3.786799,
                    3.63653,
                    3.590303,
                    3.593541,
                    3.595908,
                    3.596323,
                    3.556469,
                    3.52997,
                    3.525062,
                    3.524371,
                    3.520531,
                    3.518516,
                    3.516648,
                    3.46044,
                    3.404071,
                    3.361819,
                    3.349128,
                    3.381342,
                    3.343207,
                    3.328982,
                    3.326486,
                    3.289455,
                    3.289042,
                    3.288231,
                    3.309413,
                    3.310184,
                    3.3119,
                    3.317256,
                    3.313089,
                    3.315886,
                    3.317744,
                    3.330139,
                    3.341003,
                    3.33605,
                    3.337367,
                    3.337752,
                    3.34954,
                    3.358166,
                    3.376014,
                    3.370147,
                    3.369639,
                    3.372316,
                    3.374748,
                    3.38409,
                    3.384961,
                    3.391497,
                    3.404055,
                    3.412414,
                    3.417655,
                    3.41823,
                    3.413147,
                    3.407737,
                    3.407053,
                    3.407228,
                    3.407437,
                    3.416699,
                    3.467502,
                    3.490292,
                    3.513912,
                    3.536157,
                    3.558823,
                    3.589551,
                    3.600768,
                    3.638958,
                    3.672985,
                    3.702804,
                    3.728577,
                    3.750561,
                    3.769097,
                    3.784489,
                    3.79708,
                    3.807176,
                    3.808668,
                    3.815024,
                    3.820662,
                    3.820898,
                    3.824955,
                    3.826722,
                    3.827404,
                    3.828405,
                    3.828369,
                    3.82795,
                    3.8276,
                    3.826217,
                    3.82588,
                    3.824802,
                    3.824657,
                    3.823186,
                    3.818938,
                    3.813445,
                    3.794465,
                    3.789258,
                    3.787742,
                    3.781109,
                    3.780311,
                    3.768243,
                    3.755884,
                    3.75392,
                    3.740261,
                    3.735377,
                    3.705426,
                    3.702804,
                    3.696735,
                    3.653068,
                    3.652736,
                    3.636239,
                    3.622084,
                    3.61679,
                    3.610955,
                    3.610686,
                    3.605325,
                    3.604638,
                    3.554038,
                    3.526198,
                    3.50003,
                    3.444045,
                    3.394756,
                    3.386894,
                    3.376049,
                    3.363915,
                    3.341377,
                    3.329365,
                    3.27219,
                    3.215842,
                    3.207437,
                    3.199175,
                    3.160502,
                    3.121883,
                    3.120409,
                    3.105762,
                    3.062519,
                    3.052912,
                    3.00024,
                    2.964469,
                    2.949628,
                    2.940346,
                    2.900086,
                    2.886418,
                    2.868479,
                    2.865181,
                    2.852815,
                    2.80803,
                    2.807646,
                    2.7739,
                    2.765774,
                    2.760855,
                    2.757164,
                    2.726908,
                    2.723994,
                    2.690752,
                    2.629451,
                    2.581211,
                    2.544735,
                    2.518289,
                    2.500284,
                    2.489188,
                    2.483988,
                    2.483742,
                    2.487942,
                    2.496104,
                    2.50825,
                    2.52285,
                    2.54064,
                    2.55997,
                    2.58136,
                    2.60336,
                    2.62627,
                    2.649,
                    2.67175,
                    2.69369,
                    2.71507,
                    2.7352,
                    2.75443,
                    2.77211,
                    2.78869,
                    2.80354,
                    2.81716,
                    2.82899,
                    2.83952,
                    2.84824,
                    2.85563,
                    2.86127,
                    2.86558,
                    2.86821,
                    2.86957,
                    2.86934,
                    2.86792,
                    2.86502,
                    2.86104,
                    2.8557,
                    2.84956,
                    2.84221,
                    2.83369,
                    2.82409,
                    2.81344,
                    2.80241,
                    2.79049,
                    2.77771,
                    2.76413,
                    2.74981,
                    2.73532,
                    2.72019,
                    2.70447,
                    2.6882,
                    2.67145,
                    2.65467,
                    2.63748,
                    2.61992,
                    2.60201,
                    2.58382,
                    2.56587,
                    2.54769,
                    2.5293,
                    2.51075,
                    2.49204,
                    2.47321,
                    2.45428,
                    2.43527,
                    2.41634,
                    2.39725,
                    2.37882,
                    2.36025,
                    2.3417,
                    2.32333,
                    2.30487,
                    2.28661,
                    2.26828,
                    2.25018,
                    2.23203,
                    2.21397,
                    2.17917,
                    2.14488,
                    2.11115,
                    2.07804,
                    2.04556,
                    2.01421,
                    1.9837,
                    1.95391,
                    1.92483,
                    1.89631,
                    1.86916,
                    1.84273,
                    1.81703,
                    1.79188,
                    1.76761,
                    1.74442,
                    1.72191,
                    1.69992,
                    1.67876,
                    1.65826,
                    1.63869,
                    1.61959,
                    1.60126,
                    1.58352,
                    1.56621,
                    1.54987,
                    1.53407,
                    1.51865,
                    1.50391,
                    1.48967,
                    1.47605,
                    1.46306,
                    1.45053,
                    1.4383,
                    1.42666,
                    1.41543,
                    1.40447,
                    1.39405,
                    1.38401,
                    1.37421,
                    1.36519,
                    1.35653,
                    1.34807,
                    1.34009,
                    1.33228,
                    1.32494,
                    1.31789,
                    1.31101,
                    1.30456,
                    1.29839
                  ]
                }
              ],
              "frames": [],
              "layout": {
                "margin": {
                  "b": 50,
                  "l": 50,
                  "r": 50,
                  "t": 60
                },
                "template": {
                  "data": {
                    "bar": [
                      {
                        "error_x": {
                          "color": "#2a3f5f"
                        },
                        "error_y": {
                          "color": "#2a3f5f"
                        },
                        "marker": {
                          "line": {
                            "color": "#E5ECF6",
                            "width": 0.5
                          }
                        },
                        "type": "bar"
                      }
                    ],
                    "barpolar": [
                      {
                        "marker": {
                          "line": {
                            "color": "#E5ECF6",
                            "width": 0.5
                          }
                        },
                        "type": "barpolar"
                      }
                    ],
                    "carpet": [
                      {
                        "aaxis": {
                          "endlinecolor": "#2a3f5f",
                          "gridcolor": "white",
                          "linecolor": "white",
                          "minorgridcolor": "white",
                          "startlinecolor": "#2a3f5f"
                        },
                        "baxis": {
                          "endlinecolor": "#2a3f5f",
                          "gridcolor": "white",
                          "linecolor": "white",
                          "minorgridcolor": "white",
                          "startlinecolor": "#2a3f5f"
                        },
                        "type": "carpet"
                      }
                    ],
                    "choropleth": [
                      {
                        "colorbar": {
                          "outlinewidth": 0,
                          "ticks": ""
                        },
                        "type": "choropleth"
                      }
                    ],
                    "contour": [
                      {
                        "colorbar": {
                          "outlinewidth": 0,
                          "ticks": ""
                        },
                        "colorscale": [
                          [
                            0,
                            "#0d0887"
                          ],
                          [
                            0.1111111111111111,
                            "#46039f"
                          ],
                          [
                            0.2222222222222222,
                            "#7201a8"
                          ],
                          [
                            0.3333333333333333,
                            "#9c179e"
                          ],
                          [
                            0.4444444444444444,
                            "#bd3786"
                          ],
                          [
                            0.5555555555555556,
                            "#d8576b"
                          ],
                          [
                            0.6666666666666666,
                            "#ed7953"
                          ],
                          [
                            0.7777777777777778,
                            "#fb9f3a"
                          ],
                          [
                            0.8888888888888888,
                            "#fdca26"
                          ],
                          [
                            1,
                            "#f0f921"
                          ]
                        ],
                        "type": "contour"
                      }
                    ],
                    "contourcarpet": [
                      {
                        "colorbar": {
                          "outlinewidth": 0,
                          "ticks": ""
                        },
                        "type": "contourcarpet"
                      }
                    ],
                    "heatmap": [
                      {
                        "colorbar": {
                          "outlinewidth": 0,
                          "ticks": ""
                        },
                        "colorscale": [
                          [
                            0,
                            "#0d0887"
                          ],
                          [
                            0.1111111111111111,
                            "#46039f"
                          ],
                          [
                            0.2222222222222222,
                            "#7201a8"
                          ],
                          [
                            0.3333333333333333,
                            "#9c179e"
                          ],
                          [
                            0.4444444444444444,
                            "#bd3786"
                          ],
                          [
                            0.5555555555555556,
                            "#d8576b"
                          ],
                          [
                            0.6666666666666666,
                            "#ed7953"
                          ],
                          [
                            0.7777777777777778,
                            "#fb9f3a"
                          ],
                          [
                            0.8888888888888888,
                            "#fdca26"
                          ],
                          [
                            1,
                            "#f0f921"
                          ]
                        ],
                        "type": "heatmap"
                      }
                    ],
                    "heatmapgl": [
                      {
                        "colorbar": {
                          "outlinewidth": 0,
                          "ticks": ""
                        },
                        "colorscale": [
                          [
                            0,
                            "#0d0887"
                          ],
                          [
                            0.1111111111111111,
                            "#46039f"
                          ],
                          [
                            0.2222222222222222,
                            "#7201a8"
                          ],
                          [
                            0.3333333333333333,
                            "#9c179e"
                          ],
                          [
                            0.4444444444444444,
                            "#bd3786"
                          ],
                          [
                            0.5555555555555556,
                            "#d8576b"
                          ],
                          [
                            0.6666666666666666,
                            "#ed7953"
                          ],
                          [
                            0.7777777777777778,
                            "#fb9f3a"
                          ],
                          [
                            0.8888888888888888,
                            "#fdca26"
                          ],
                          [
                            1,
                            "#f0f921"
                          ]
                        ],
                        "type": "heatmapgl"
                      }
                    ],
                    "histogram": [
                      {
                        "marker": {
                          "colorbar": {
                            "outlinewidth": 0,
                            "ticks": ""
                          }
                        },
                        "type": "histogram"
                      }
                    ],
                    "histogram2d": [
                      {
                        "colorbar": {
                          "outlinewidth": 0,
                          "ticks": ""
                        },
                        "colorscale": [
                          [
                            0,
                            "#0d0887"
                          ],
                          [
                            0.1111111111111111,
                            "#46039f"
                          ],
                          [
                            0.2222222222222222,
                            "#7201a8"
                          ],
                          [
                            0.3333333333333333,
                            "#9c179e"
                          ],
                          [
                            0.4444444444444444,
                            "#bd3786"
                          ],
                          [
                            0.5555555555555556,
                            "#d8576b"
                          ],
                          [
                            0.6666666666666666,
                            "#ed7953"
                          ],
                          [
                            0.7777777777777778,
                            "#fb9f3a"
                          ],
                          [
                            0.8888888888888888,
                            "#fdca26"
                          ],
                          [
                            1,
                            "#f0f921"
                          ]
                        ],
                        "type": "histogram2d"
                      }
                    ],
                    "histogram2dcontour": [
                      {
                        "colorbar": {
                          "outlinewidth": 0,
                          "ticks": ""
                        },
                        "colorscale": [
                          [
                            0,
                            "#0d0887"
                          ],
                          [
                            0.1111111111111111,
                            "#46039f"
                          ],
                          [
                            0.2222222222222222,
                            "#7201a8"
                          ],
                          [
                            0.3333333333333333,
                            "#9c179e"
                          ],
                          [
                            0.4444444444444444,
                            "#bd3786"
                          ],
                          [
                            0.5555555555555556,
                            "#d8576b"
                          ],
                          [
                            0.6666666666666666,
                            "#ed7953"
                          ],
                          [
                            0.7777777777777778,
                            "#fb9f3a"
                          ],
                          [
                            0.8888888888888888,
                            "#fdca26"
                          ],
                          [
                            1,
                            "#f0f921"
                          ]
                        ],
                        "type": "histogram2dcontour"
                      }
                    ],
                    "mesh3d": [
                      {
                        "colorbar": {
                          "outlinewidth": 0,
                          "ticks": ""
                        },
                        "type": "mesh3d"
                      }
                    ],
                    "parcoords": [
                      {
                        "line": {
                          "colorbar": {
                            "outlinewidth": 0,
                            "ticks": ""
                          }
                        },
                        "type": "parcoords"
                      }
                    ],
                    "pie": [
                      {
                        "automargin": true,
                        "type": "pie"
                      }
                    ],
                    "scatter": [
                      {
                        "marker": {
                          "colorbar": {
                            "outlinewidth": 0,
                            "ticks": ""
                          }
                        },
                        "type": "scatter"
                      }
                    ],
                    "scatter3d": [
                      {
                        "line": {
                          "colorbar": {
                            "outlinewidth": 0,
                            "ticks": ""
                          }
                        },
                        "marker": {
                          "colorbar": {
                            "outlinewidth": 0,
                            "ticks": ""
                          }
                        },
                        "type": "scatter3d"
                      }
                    ],
                    "scattercarpet": [
                      {
                        "marker": {
                          "colorbar": {
                            "outlinewidth": 0,
                            "ticks": ""
                          }
                        },
                        "type": "scattercarpet"
                      }
                    ],
                    "scattergeo": [
                      {
                        "marker": {
                          "colorbar": {
                            "outlinewidth": 0,
                            "ticks": ""
                          }
                        },
                        "type": "scattergeo"
                      }
                    ],
                    "scattergl": [
                      {
                        "marker": {
                          "colorbar": {
                            "outlinewidth": 0,
                            "ticks": ""
                          }
                        },
                        "type": "scattergl"
                      }
                    ],
                    "scattermapbox": [
                      {
                        "marker": {
                          "colorbar": {
                            "outlinewidth": 0,
                            "ticks": ""
                          }
                        },
                        "type": "scattermapbox"
                      }
                    ],
                    "scatterpolar": [
                      {
                        "marker": {
                          "colorbar": {
                            "outlinewidth": 0,
                            "ticks": ""
                          }
                        },
                        "type": "scatterpolar"
                      }
                    ],
                    "scatterpolargl": [
                      {
                        "marker": {
                          "colorbar": {
                            "outlinewidth": 0,
                            "ticks": ""
                          }
                        },
                        "type": "scatterpolargl"
                      }
                    ],
                    "scatterternary": [
                      {
                        "marker": {
                          "colorbar": {
                            "outlinewidth": 0,
                            "ticks": ""
                          }
                        },
                        "type": "scatterternary"
                      }
                    ],
                    "surface": [
                      {
                        "colorbar": {
                          "outlinewidth": 0,
                          "ticks": ""
                        },
                        "colorscale": [
                          [
                            0,
                            "#0d0887"
                          ],
                          [
                            0.1111111111111111,
                            "#46039f"
                          ],
                          [
                            0.2222222222222222,
                            "#7201a8"
                          ],
                          [
                            0.3333333333333333,
                            "#9c179e"
                          ],
                          [
                            0.4444444444444444,
                            "#bd3786"
                          ],
                          [
                            0.5555555555555556,
                            "#d8576b"
                          ],
                          [
                            0.6666666666666666,
                            "#ed7953"
                          ],
                          [
                            0.7777777777777778,
                            "#fb9f3a"
                          ],
                          [
                            0.8888888888888888,
                            "#fdca26"
                          ],
                          [
                            1,
                            "#f0f921"
                          ]
                        ],
                        "type": "surface"
                      }
                    ],
                    "table": [
                      {
                        "cells": {
                          "fill": {
                            "color": "#EBF0F8"
                          },
                          "line": {
                            "color": "white"
                          }
                        },
                        "header": {
                          "fill": {
                            "color": "#C8D4E3"
                          },
                          "line": {
                            "color": "white"
                          }
                        },
                        "type": "table"
                      }
                    ]
                  },
                  "layout": {
                    "annotationdefaults": {
                      "arrowcolor": "#2a3f5f",
                      "arrowhead": 0,
                      "arrowwidth": 1
                    },
                    "autotypenumbers": "strict",
                    "coloraxis": {
                      "colorbar": {
                        "outlinewidth": 0,
                        "ticks": ""
                      }
                    },
                    "colorscale": {
                      "diverging": [
                        [
                          0,
                          "#8e0152"
                        ],
                        [
                          0.1,
                          "#c51b7d"
                        ],
                        [
                          0.2,
                          "#de77ae"
                        ],
                        [
                          0.3,
                          "#f1b6da"
                        ],
                        [
                          0.4,
                          "#fde0ef"
                        ],
                        [
                          0.5,
                          "#f7f7f7"
                        ],
                        [
                          0.6,
                          "#e6f5d0"
                        ],
                        [
                          0.7,
                          "#b8e186"
                        ],
                        [
                          0.8,
                          "#7fbc41"
                        ],
                        [
                          0.9,
                          "#4d9221"
                        ],
                        [
                          1,
                          "#276419"
                        ]
                      ],
                      "sequential": [
                        [
                          0,
                          "#0d0887"
                        ],
                        [
                          0.1111111111111111,
                          "#46039f"
                        ],
                        [
                          0.2222222222222222,
                          "#7201a8"
                        ],
                        [
                          0.3333333333333333,
                          "#9c179e"
                        ],
                        [
                          0.4444444444444444,
                          "#bd3786"
                        ],
                        [
                          0.5555555555555556,
                          "#d8576b"
                        ],
                        [
                          0.6666666666666666,
                          "#ed7953"
                        ],
                        [
                          0.7777777777777778,
                          "#fb9f3a"
                        ],
                        [
                          0.8888888888888888,
                          "#fdca26"
                        ],
                        [
                          1,
                          "#f0f921"
                        ]
                      ],
                      "sequentialminus": [
                        [
                          0,
                          "#0d0887"
                        ],
                        [
                          0.1111111111111111,
                          "#46039f"
                        ],
                        [
                          0.2222222222222222,
                          "#7201a8"
                        ],
                        [
                          0.3333333333333333,
                          "#9c179e"
                        ],
                        [
                          0.4444444444444444,
                          "#bd3786"
                        ],
                        [
                          0.5555555555555556,
                          "#d8576b"
                        ],
                        [
                          0.6666666666666666,
                          "#ed7953"
                        ],
                        [
                          0.7777777777777778,
                          "#fb9f3a"
                        ],
                        [
                          0.8888888888888888,
                          "#fdca26"
                        ],
                        [
                          1,
                          "#f0f921"
                        ]
                      ]
                    },
                    "colorway": [
                      "#636efa",
                      "#EF553B",
                      "#00cc96",
                      "#ab63fa",
                      "#FFA15A",
                      "#19d3f3",
                      "#FF6692",
                      "#B6E880",
                      "#FF97FF",
                      "#FECB52"
                    ],
                    "font": {
                      "color": "#2a3f5f"
                    },
                    "geo": {
                      "bgcolor": "white",
                      "lakecolor": "white",
                      "landcolor": "#E5ECF6",
                      "showlakes": true,
                      "showland": true,
                      "subunitcolor": "white"
                    },
                    "hoverlabel": {
                      "align": "left"
                    },
                    "hovermode": "closest",
                    "mapbox": {
                      "style": "light"
                    },
                    "paper_bgcolor": "white",
                    "plot_bgcolor": "#E5ECF6",
                    "polar": {
                      "angularaxis": {
                        "gridcolor": "white",
                        "linecolor": "white",
                        "ticks": ""
                      },
                      "bgcolor": "#E5ECF6",
                      "radialaxis": {
                        "gridcolor": "white",
                        "linecolor": "white",
                        "ticks": ""
                      }
                    },
                    "scene": {
                      "xaxis": {
                        "backgroundcolor": "#E5ECF6",
                        "gridcolor": "white",
                        "gridwidth": 2,
                        "linecolor": "white",
                        "showbackground": true,
                        "ticks": "",
                        "zerolinecolor": "white"
                      },
                      "yaxis": {
                        "backgroundcolor": "#E5ECF6",
                        "gridcolor": "white",
                        "gridwidth": 2,
                        "linecolor": "white",
                        "showbackground": true,
                        "ticks": "",
                        "zerolinecolor": "white"
                      },
                      "zaxis": {
                        "backgroundcolor": "#E5ECF6",
                        "gridcolor": "white",
                        "gridwidth": 2,
                        "linecolor": "white",
                        "showbackground": true,
                        "ticks": "",
                        "zerolinecolor": "white"
                      }
                    },
                    "shapedefaults": {
                      "line": {
                        "color": "#2a3f5f"
                      }
                    },
                    "ternary": {
                      "aaxis": {
                        "gridcolor": "white",
                        "linecolor": "white",
                        "ticks": ""
                      },
                      "baxis": {
                        "gridcolor": "white",
                        "linecolor": "white",
                        "ticks": ""
                      },
                      "bgcolor": "#E5ECF6",
                      "caxis": {
                        "gridcolor": "white",
                        "linecolor": "white",
                        "ticks": ""
                      }
                    },
                    "title": {
                      "x": 0.05
                    },
                    "xaxis": {
                      "automargin": true,
                      "gridcolor": "white",
                      "linecolor": "white",
                      "ticks": "",
                      "title": {
                        "standoff": 15
                      },
                      "zerolinecolor": "white",
                      "zerolinewidth": 2
                    },
                    "yaxis": {
                      "automargin": true,
                      "gridcolor": "white",
                      "linecolor": "white",
                      "ticks": "",
                      "title": {
                        "standoff": 15
                      },
                      "zerolinecolor": "white",
                      "zerolinewidth": 2
                    }
                  }
                }
              }
            },
            "image/png": "[encoded data removed]",
            "image/svg+xml": "<svg class=\"main-svg\" xmlns=\"http://www.w3.org/2000/svg\" xmlns:xlink=\"http://www.w3.org/1999/xlink\" width=\"700\" height=\"500\" style=\"\" viewBox=\"0 0 700 500\"><rect x=\"0\" y=\"0\" width=\"700\" height=\"500\" style=\"fill: rgb(255, 255, 255); fill-opacity: 1;\"/><defs id=\"defs-7e9c8a\"><g class=\"clips\"><clipPath id=\"clip7e9c8axyplot\" class=\"plotclip\"><rect width=\"558\" height=\"390\"/></clipPath><clipPath class=\"axesclip\" id=\"clip7e9c8ax\"><rect x=\"50\" y=\"0\" width=\"558\" height=\"500\"/></clipPath><clipPath class=\"axesclip\" id=\"clip7e9c8ay\"><rect x=\"0\" y=\"60\" width=\"700\" height=\"390\"/></clipPath><clipPath class=\"axesclip\" id=\"clip7e9c8axy\"><rect x=\"50\" y=\"60\" width=\"558\" height=\"390\"/></clipPath></g><g class=\"gradients\"/></defs><g class=\"bglayer\"><rect class=\"bg\" x=\"50\" y=\"60\" width=\"558\" height=\"390\" style=\"fill: rgb(229, 236, 246); fill-opacity: 1; stroke-width: 0;\"/></g><g class=\"layer-below\"><g class=\"imagelayer\"/><g class=\"shapelayer\"/></g><g class=\"cartesianlayer\"><g class=\"subplot xy\"><g class=\"layer-subplot\"><g class=\"shapelayer\"/><g class=\"imagelayer\"/></g><g class=\"gridlayer\"><g class=\"x\"><path class=\"xgrid crisp\" transform=\"translate(205.32,0)\" d=\"M0,60v390\" style=\"stroke: rgb(255, 255, 255); stroke-opacity: 1; stroke-width: 1px;\"/><path class=\"xgrid crisp\" transform=\"translate(329,0)\" d=\"M0,60v390\" style=\"stroke: rgb(255, 255, 255); stroke-opacity: 1; stroke-width: 1px;\"/><path class=\"xgrid crisp\" transform=\"translate(452.67,0)\" d=\"M0,60v390\" style=\"stroke: rgb(255, 255, 255); stroke-opacity: 1; stroke-width: 1px;\"/><path class=\"xgrid crisp\" transform=\"translate(576.35,0)\" d=\"M0,60v390\" style=\"stroke: rgb(255, 255, 255); stroke-opacity: 1; stroke-width: 1px;\"/></g><g class=\"y\"><path class=\"ygrid crisp\" transform=\"translate(0,366.01)\" d=\"M50,0h558\" style=\"stroke: rgb(255, 255, 255); stroke-opacity: 1; stroke-width: 1px;\"/><path class=\"ygrid crisp\" transform=\"translate(0,305.27)\" d=\"M50,0h558\" style=\"stroke: rgb(255, 255, 255); stroke-opacity: 1; stroke-width: 1px;\"/><path class=\"ygrid crisp\" transform=\"translate(0,244.53)\" d=\"M50,0h558\" style=\"stroke: rgb(255, 255, 255); stroke-opacity: 1; stroke-width: 1px;\"/><path class=\"ygrid crisp\" transform=\"translate(0,183.79000000000002)\" d=\"M50,0h558\" style=\"stroke: rgb(255, 255, 255); stroke-opacity: 1; stroke-width: 1px;\"/><path class=\"ygrid crisp\" transform=\"translate(0,123.05)\" d=\"M50,0h558\" style=\"stroke: rgb(255, 255, 255); stroke-opacity: 1; stroke-width: 1px;\"/><path class=\"ygrid crisp\" transform=\"translate(0,62.31)\" d=\"M50,0h558\" style=\"stroke: rgb(255, 255, 255); stroke-opacity: 1; stroke-width: 1px;\"/></g></g><g class=\"zerolinelayer\"><path class=\"xzl zl crisp\" transform=\"translate(81.65,0)\" d=\"M0,60v390\" style=\"stroke: rgb(255, 255, 255); stroke-opacity: 1; stroke-width: 2px;\"/><path class=\"yzl zl crisp\" transform=\"translate(0,426.75)\" d=\"M50,0h558\" style=\"stroke: rgb(255, 255, 255); stroke-opacity: 1; stroke-width: 2px;\"/></g><path class=\"xlines-below\"/><path class=\"ylines-below\"/><g class=\"overlines-below\"/><g class=\"xaxislayer-below\"/><g class=\"yaxislayer-below\"/><g class=\"overaxes-below\"/><g class=\"plot\" transform=\"translate(50,60)\" clip-path=\"url('#clip7e9c8axyplot')\"><g class=\"scatterlayer mlayer\"><g class=\"trace scatter traceab5882\" style=\"stroke-miterlimit: 2; opacity: 1;\"><g class=\"fills\"/><g class=\"errorbars\"/><g class=\"lines\"/><g class=\"points\"><path class=\"point\" transform=\"translate(36.24,366.75)\" d=\"M3,0A3,3 0 1,1 0,-3A3,3 0 0,1 3,0Z\" style=\"opacity: 1; stroke-width: 0px; fill: rgb(99, 110, 250); fill-opacity: 1;\"/><path class=\"point\" transform=\"translate(51.44,366.75)\" d=\"M3,0A3,3 0 1,1 0,-3A3,3 0 0,1 3,0Z\" style=\"opacity: 1; stroke-width: 0px; fill: rgb(99, 110, 250); fill-opacity: 1;\"/><path class=\"point\" transform=\"translate(52.67,366.75)\" d=\"M3,0A3,3 0 1,1 0,-3A3,3 0 0,1 3,0Z\" style=\"opacity: 1; stroke-width: 0px; fill: rgb(99, 110, 250); fill-opacity: 1;\"/><path class=\"point\" transform=\"translate(53.91,366.75)\" d=\"M3,0A3,3 0 1,1 0,-3A3,3 0 0,1 3,0Z\" style=\"opacity: 1; stroke-width: 0px; fill: rgb(99, 110, 250); fill-opacity: 1;\"/><path class=\"point\" transform=\"translate(55.15,366.75)\" d=\"M3,0A3,3 0 1,1 0,-3A3,3 0 0,1 3,0Z\" style=\"opacity: 1; stroke-width: 0px; fill: rgb(99, 110, 250); fill-opacity: 1;\"/><path class=\"point\" transform=\"translate(56.38,366.75)\" d=\"M3,0A3,3 0 1,1 0,-3A3,3 0 0,1 3,0Z\" style=\"opacity: 1; stroke-width: 0px; fill: rgb(99, 110, 250); fill-opacity: 1;\"/><path class=\"point\" transform=\"translate(57.62,366.75)\" d=\"M3,0A3,3 0 1,1 0,-3A3,3 0 0,1 3,0Z\" style=\"opacity: 1; stroke-width: 0px; fill: rgb(99, 110, 250); fill-opacity: 1;\"/><path class=\"point\" transform=\"translate(58.86,366.75)\" d=\"M3,0A3,3 0 1,1 0,-3A3,3 0 0,1 3,0Z\" style=\"opacity: 1; stroke-width: 0px; fill: rgb(99, 110, 250); fill-opacity: 1;\"/><path class=\"point\" transform=\"translate(60.1,366.75)\" d=\"M3,0A3,3 0 1,1 0,-3A3,3 0 0,1 3,0Z\" style=\"opacity: 1; stroke-width: 0px; fill: rgb(99, 110, 250); fill-opacity: 1;\"/><path class=\"point\" transform=\"translate(61.33,366.75)\" d=\"M3,0A3,3 0 1,1 0,-3A3,3 0 0,1 3,0Z\" style=\"opacity: 1; stroke-width: 0px; fill: rgb(99, 110, 250); fill-opacity: 1;\"/><path class=\"point\" transform=\"translate(62.57,366.75)\" d=\"M3,0A3,3 0 1,1 0,-3A3,3 0 0,1 3,0Z\" style=\"opacity: 1; stroke-width: 0px; fill: rgb(99, 110, 250); fill-opacity: 1;\"/><path class=\"point\" transform=\"translate(63.81,366.75)\" d=\"M3,0A3,3 0 1,1 0,-3A3,3 0 0,1 3,0Z\" style=\"opacity: 1; stroke-width: 0px; fill: rgb(99, 110, 250); fill-opacity: 1;\"/><path class=\"point\" transform=\"translate(65.04,366.75)\" d=\"M3,0A3,3 0 1,1 0,-3A3,3 0 0,1 3,0Z\" style=\"opacity: 1; stroke-width: 0px; fill: rgb(99, 110, 250); fill-opacity: 1;\"/><path class=\"point\" transform=\"translate(66.28,366.75)\" d=\"M3,0A3,3 0 1,1 0,-3A3,3 0 0,1 3,0Z\" style=\"opacity: 1; stroke-width: 0px; fill: rgb(99, 110, 250); fill-opacity: 1;\"/><path class=\"point\" transform=\"translate(67.52,366.75)\" d=\"M3,0A3,3 0 1,1 0,-3A3,3 0 0,1 3,0Z\" style=\"opacity: 1; stroke-width: 0px; fill: rgb(99, 110, 250); fill-opacity: 1;\"/><path class=\"point\" transform=\"translate(68.75,366.75)\" d=\"M3,0A3,3 0 1,1 0,-3A3,3 0 0,1 3,0Z\" style=\"opacity: 1; stroke-width: 0px; fill: rgb(99, 110, 250); fill-opacity: 1;\"/><path class=\"point\" transform=\"translate(71.23,366.75)\" d=\"M3,0A3,3 0 1,1 0,-3A3,3 0 0,1 3,0Z\" style=\"opacity: 1; stroke-width: 0px; fill: rgb(99, 110, 250); fill-opacity: 1;\"/><path class=\"point\" transform=\"translate(73.7,366.75)\" d=\"M3,0A3,3 0 1,1 0,-3A3,3 0 0,1 3,0Z\" style=\"opacity: 1; stroke-width: 0px; fill: rgb(99, 110, 250); fill-opacity: 1;\"/><path class=\"point\" transform=\"translate(76.17,366.75)\" d=\"M3,0A3,3 0 1,1 0,-3A3,3 0 0,1 3,0Z\" style=\"opacity: 1; stroke-width: 0px; fill: rgb(99, 110, 250); fill-opacity: 1;\"/><path class=\"point\" transform=\"translate(78.65,366.75)\" d=\"M3,0A3,3 0 1,1 0,-3A3,3 0 0,1 3,0Z\" style=\"opacity: 1; stroke-width: 0px; fill: rgb(99, 110, 250); fill-opacity: 1;\"/><path class=\"point\" transform=\"translate(81.12,366.75)\" d=\"M3,0A3,3 0 1,1 0,-3A3,3 0 0,1 3,0Z\" style=\"opacity: 1; stroke-width: 0px; fill: rgb(99, 110, 250); fill-opacity: 1;\"/><path class=\"point\" transform=\"translate(83.59,366.75)\" d=\"M3,0A3,3 0 1,1 0,-3A3,3 0 0,1 3,0Z\" style=\"opacity: 1; stroke-width: 0px; fill: rgb(99, 110, 250); fill-opacity: 1;\"/><path class=\"point\" transform=\"translate(86.07,366.75)\" d=\"M3,0A3,3 0 1,1 0,-3A3,3 0 0,1 3,0Z\" style=\"opacity: 1; stroke-width: 0px; fill: rgb(99, 110, 250); fill-opacity: 1;\"/><path class=\"point\" transform=\"translate(88.54,366.75)\" d=\"M3,0A3,3 0 1,1 0,-3A3,3 0 0,1 3,0Z\" style=\"opacity: 1; stroke-width: 0px; fill: rgb(99, 110, 250); fill-opacity: 1;\"/><path class=\"point\" transform=\"translate(91.01,366.75)\" d=\"M3,0A3,3 0 1,1 0,-3A3,3 0 0,1 3,0Z\" style=\"opacity: 1; stroke-width: 0px; fill: rgb(99, 110, 250); fill-opacity: 1;\"/><path class=\"point\" transform=\"translate(93.49,366.75)\" d=\"M3,0A3,3 0 1,1 0,-3A3,3 0 0,1 3,0Z\" style=\"opacity: 1; stroke-width: 0px; fill: rgb(99, 110, 250); fill-opacity: 1;\"/><path class=\"point\" transform=\"translate(95.96,366.74)\" d=\"M3,0A3,3 0 1,1 0,-3A3,3 0 0,1 3,0Z\" style=\"opacity: 1; stroke-width: 0px; fill: rgb(99, 110, 250); fill-opacity: 1;\"/><path class=\"point\" transform=\"translate(98.43,366.74)\" d=\"M3,0A3,3 0 1,1 0,-3A3,3 0 0,1 3,0Z\" style=\"opacity: 1; stroke-width: 0px; fill: rgb(99, 110, 250); fill-opacity: 1;\"/><path class=\"point\" transform=\"translate(100.91,366.74)\" d=\"M3,0A3,3 0 1,1 0,-3A3,3 0 0,1 3,0Z\" style=\"opacity: 1; stroke-width: 0px; fill: rgb(99, 110, 250); fill-opacity: 1;\"/><path class=\"point\" transform=\"translate(103.38,366.74)\" d=\"M3,0A3,3 0 1,1 0,-3A3,3 0 0,1 3,0Z\" style=\"opacity: 1; stroke-width: 0px; fill: rgb(99, 110, 250); fill-opacity: 1;\"/><path class=\"point\" transform=\"translate(105.85,366.74)\" d=\"M3,0A3,3 0 1,1 0,-3A3,3 0 0,1 3,0Z\" style=\"opacity: 1; stroke-width: 0px; fill: rgb(99, 110, 250); fill-opacity: 1;\"/><path class=\"point\" transform=\"translate(105.85,366.75)\" d=\"M3,0A3,3 0 1,1 0,-3A3,3 0 0,1 3,0Z\" style=\"opacity: 1; stroke-width: 0px; fill: rgb(99, 110, 250); fill-opacity: 1;\"/><path class=\"point\" transform=\"translate(526.35,366.75)\" d=\"M3,0A3,3 0 1,1 0,-3A3,3 0 0,1 3,0Z\" style=\"opacity: 1; stroke-width: 0px; fill: rgb(99, 110, 250); fill-opacity: 1;\"/></g><g class=\"text\"/></g><g class=\"trace scatter trace08e644\" style=\"stroke-miterlimit: 2; opacity: 1;\"><g class=\"fills\"/><g class=\"errorbars\"/><g class=\"lines\"/><g class=\"points\"><path class=\"point\" transform=\"translate(31.65,366.75)\" d=\"M3,0A3,3 0 1,1 0,-3A3,3 0 0,1 3,0Z\" style=\"opacity: 1; stroke-width: 0px; fill: rgb(239, 85, 59); fill-opacity: 1;\"/><path class=\"point\" transform=\"translate(31.65,366.75)\" d=\"M3,0A3,3 0 1,1 0,-3A3,3 0 0,1 3,0Z\" style=\"opacity: 1; stroke-width: 0px; fill: rgb(239, 85, 59); fill-opacity: 1;\"/><path class=\"point\" transform=\"translate(31.65,366.75)\" d=\"M3,0A3,3 0 1,1 0,-3A3,3 0 0,1 3,0Z\" style=\"opacity: 1; stroke-width: 0px; fill: rgb(239, 85, 59); fill-opacity: 1;\"/><path class=\"point\" transform=\"translate(31.65,366.75)\" d=\"M3,0A3,3 0 1,1 0,-3A3,3 0 0,1 3,0Z\" style=\"opacity: 1; stroke-width: 0px; fill: rgb(239, 85, 59); fill-opacity: 1;\"/><path class=\"point\" transform=\"translate(31.65,366.75)\" d=\"M3,0A3,3 0 1,1 0,-3A3,3 0 0,1 3,0Z\" style=\"opacity: 1; stroke-width: 0px; fill: rgb(239, 85, 59); fill-opacity: 1;\"/><path class=\"point\" transform=\"translate(31.65,366.75)\" d=\"M3,0A3,3 0 1,1 0,-3A3,3 0 0,1 3,0Z\" style=\"opacity: 1; stroke-width: 0px; fill: rgb(239, 85, 59); fill-opacity: 1;\"/><path class=\"point\" transform=\"translate(31.65,366.75)\" d=\"M3,0A3,3 0 1,1 0,-3A3,3 0 0,1 3,0Z\" style=\"opacity: 1; stroke-width: 0px; fill: rgb(239, 85, 59); fill-opacity: 1;\"/><path class=\"point\" transform=\"translate(31.65,366.75)\" d=\"M3,0A3,3 0 1,1 0,-3A3,3 0 0,1 3,0Z\" style=\"opacity: 1; stroke-width: 0px; fill: rgb(239, 85, 59); fill-opacity: 1;\"/><path class=\"point\" transform=\"translate(31.65,366.75)\" d=\"M3,0A3,3 0 1,1 0,-3A3,3 0 0,1 3,0Z\" style=\"opacity: 1; stroke-width: 0px; fill: rgb(239, 85, 59); fill-opacity: 1;\"/><path class=\"point\" transform=\"translate(31.65,366.75)\" d=\"M3,0A3,3 0 1,1 0,-3A3,3 0 0,1 3,0Z\" style=\"opacity: 1; stroke-width: 0px; fill: rgb(239, 85, 59); fill-opacity: 1;\"/><path class=\"point\" transform=\"translate(31.65,366.75)\" d=\"M3,0A3,3 0 1,1 0,-3A3,3 0 0,1 3,0Z\" style=\"opacity: 1; stroke-width: 0px; fill: rgb(239, 85, 59); fill-opacity: 1;\"/><path class=\"point\" transform=\"translate(31.65,366.75)\" d=\"M3,0A3,3 0 1,1 0,-3A3,3 0 0,1 3,0Z\" style=\"opacity: 1; stroke-width: 0px; fill: rgb(239, 85, 59); fill-opacity: 1;\"/><path class=\"point\" transform=\"translate(31.65,366.75)\" d=\"M3,0A3,3 0 1,1 0,-3A3,3 0 0,1 3,0Z\" style=\"opacity: 1; stroke-width: 0px; fill: rgb(239, 85, 59); fill-opacity: 1;\"/><path class=\"point\" transform=\"translate(31.65,366.75)\" d=\"M3,0A3,3 0 1,1 0,-3A3,3 0 0,1 3,0Z\" style=\"opacity: 1; stroke-width: 0px; fill: rgb(239, 85, 59); fill-opacity: 1;\"/><path class=\"point\" transform=\"translate(31.65,366.75)\" d=\"M3,0A3,3 0 1,1 0,-3A3,3 0 0,1 3,0Z\" style=\"opacity: 1; stroke-width: 0px; fill: rgb(239, 85, 59); fill-opacity: 1;\"/><path class=\"point\" transform=\"translate(31.65,366.75)\" d=\"M3,0A3,3 0 1,1 0,-3A3,3 0 0,1 3,0Z\" style=\"opacity: 1; stroke-width: 0px; fill: rgb(239, 85, 59); fill-opacity: 1;\"/><path class=\"point\" transform=\"translate(31.65,366.75)\" d=\"M3,0A3,3 0 1,1 0,-3A3,3 0 0,1 3,0Z\" style=\"opacity: 1; stroke-width: 0px; fill: rgb(239, 85, 59); fill-opacity: 1;\"/><path class=\"point\" transform=\"translate(31.65,366.75)\" d=\"M3,0A3,3 0 1,1 0,-3A3,3 0 0,1 3,0Z\" style=\"opacity: 1; stroke-width: 0px; fill: rgb(239, 85, 59); fill-opacity: 1;\"/><path class=\"point\" transform=\"translate(31.65,366.75)\" d=\"M3,0A3,3 0 1,1 0,-3A3,3 0 0,1 3,0Z\" style=\"opacity: 1; stroke-width: 0px; fill: rgb(239, 85, 59); fill-opacity: 1;\"/><path class=\"point\" transform=\"translate(31.65,366.75)\" d=\"M3,0A3,3 0 1,1 0,-3A3,3 0 0,1 3,0Z\" style=\"opacity: 1; stroke-width: 0px; fill: rgb(239, 85, 59); fill-opacity: 1;\"/><path class=\"point\" transform=\"translate(31.65,366.75)\" d=\"M3,0A3,3 0 1,1 0,-3A3,3 0 0,1 3,0Z\" style=\"opacity: 1; stroke-width: 0px; fill: rgb(239, 85, 59); fill-opacity: 1;\"/><path class=\"point\" transform=\"translate(31.65,366.75)\" d=\"M3,0A3,3 0 1,1 0,-3A3,3 0 0,1 3,0Z\" style=\"opacity: 1; stroke-width: 0px; fill: rgb(239, 85, 59); fill-opacity: 1;\"/><path class=\"point\" transform=\"translate(31.65,366.75)\" d=\"M3,0A3,3 0 1,1 0,-3A3,3 0 0,1 3,0Z\" style=\"opacity: 1; stroke-width: 0px; fill: rgb(239, 85, 59); fill-opacity: 1;\"/><path class=\"point\" transform=\"translate(31.65,366.75)\" d=\"M3,0A3,3 0 1,1 0,-3A3,3 0 0,1 3,0Z\" style=\"opacity: 1; stroke-width: 0px; fill: rgb(239, 85, 59); fill-opacity: 1;\"/><path class=\"point\" transform=\"translate(31.65,366.75)\" d=\"M3,0A3,3 0 1,1 0,-3A3,3 0 0,1 3,0Z\" style=\"opacity: 1; stroke-width: 0px; fill: rgb(239, 85, 59); fill-opacity: 1;\"/><path class=\"point\" transform=\"translate(31.65,366.75)\" d=\"M3,0A3,3 0 1,1 0,-3A3,3 0 0,1 3,0Z\" style=\"opacity: 1; stroke-width: 0px; fill: rgb(239, 85, 59); fill-opacity: 1;\"/><path class=\"point\" transform=\"translate(31.65,366.75)\" d=\"M3,0A3,3 0 1,1 0,-3A3,3 0 0,1 3,0Z\" style=\"opacity: 1; stroke-width: 0px; fill: rgb(239, 85, 59); fill-opacity: 1;\"/><path class=\"point\" transform=\"translate(31.65,366.75)\" d=\"M3,0A3,3 0 1,1 0,-3A3,3 0 0,1 3,0Z\" style=\"opacity: 1; stroke-width: 0px; fill: rgb(239, 85, 59); fill-opacity: 1;\"/><path class=\"point\" transform=\"translate(31.65,366.75)\" d=\"M3,0A3,3 0 1,1 0,-3A3,3 0 0,1 3,0Z\" style=\"opacity: 1; stroke-width: 0px; fill: rgb(239, 85, 59); fill-opacity: 1;\"/><path class=\"point\" transform=\"translate(31.65,366.75)\" d=\"M3,0A3,3 0 1,1 0,-3A3,3 0 0,1 3,0Z\" style=\"opacity: 1; stroke-width: 0px; fill: rgb(239, 85, 59); fill-opacity: 1;\"/><path class=\"point\" transform=\"translate(31.65,366.75)\" d=\"M3,0A3,3 0 1,1 0,-3A3,3 0 0,1 3,0Z\" style=\"opacity: 1; stroke-width: 0px; fill: rgb(239, 85, 59); fill-opacity: 1;\"/><path class=\"point\" transform=\"translate(31.65,366.75)\" d=\"M3,0A3,3 0 1,1 0,-3A3,3 0 0,1 3,0Z\" style=\"opacity: 1; stroke-width: 0px; fill: rgb(239, 85, 59); fill-opacity: 1;\"/><path class=\"point\" transform=\"translate(31.65,366.75)\" d=\"M3,0A3,3 0 1,1 0,-3A3,3 0 0,1 3,0Z\" style=\"opacity: 1; stroke-width: 0px; fill: rgb(239, 85, 59); fill-opacity: 1;\"/><path class=\"point\" transform=\"translate(31.65,366.75)\" d=\"M3,0A3,3 0 1,1 0,-3A3,3 0 0,1 3,0Z\" style=\"opacity: 1; stroke-width: 0px; fill: rgb(239, 85, 59); fill-opacity: 1;\"/><path class=\"point\" transform=\"translate(31.65,366.75)\" d=\"M3,0A3,3 0 1,1 0,-3A3,3 0 0,1 3,0Z\" style=\"opacity: 1; stroke-width: 0px; fill: rgb(239, 85, 59); fill-opacity: 1;\"/><path class=\"point\" transform=\"translate(31.65,366.75)\" d=\"M3,0A3,3 0 1,1 0,-3A3,3 0 0,1 3,0Z\" style=\"opacity: 1; stroke-width: 0px; fill: rgb(239, 85, 59); fill-opacity: 1;\"/><path class=\"point\" transform=\"translate(31.65,366.75)\" d=\"M3,0A3,3 0 1,1 0,-3A3,3 0 0,1 3,0Z\" style=\"opacity: 1; stroke-width: 0px; fill: rgb(239, 85, 59); fill-opacity: 1;\"/><path class=\"point\" transform=\"translate(31.65,366.75)\" d=\"M3,0A3,3 0 1,1 0,-3A3,3 0 0,1 3,0Z\" style=\"opacity: 1; stroke-width: 0px; fill: rgb(239, 85, 59); fill-opacity: 1;\"/><path class=\"point\" transform=\"translate(31.65,366.75)\" d=\"M3,0A3,3 0 1,1 0,-3A3,3 0 0,1 3,0Z\" style=\"opacity: 1; stroke-width: 0px; fill: rgb(239, 85, 59); fill-opacity: 1;\"/><path class=\"point\" transform=\"translate(31.65,366.75)\" d=\"M3,0A3,3 0 1,1 0,-3A3,3 0 0,1 3,0Z\" style=\"opacity: 1; stroke-width: 0px; fill: rgb(239, 85, 59); fill-opacity: 1;\"/><path class=\"point\" transform=\"translate(31.65,366.75)\" d=\"M3,0A3,3 0 1,1 0,-3A3,3 0 0,1 3,0Z\" style=\"opacity: 1; stroke-width: 0px; fill: rgb(239, 85, 59); fill-opacity: 1;\"/><path class=\"point\" transform=\"translate(31.65,366.75)\" d=\"M3,0A3,3 0 1,1 0,-3A3,3 0 0,1 3,0Z\" style=\"opacity: 1; stroke-width: 0px; fill: rgb(239, 85, 59); fill-opacity: 1;\"/><path class=\"point\" transform=\"translate(31.65,366.75)\" d=\"M3,0A3,3 0 1,1 0,-3A3,3 0 0,1 3,0Z\" style=\"opacity: 1; stroke-width: 0px; fill: rgb(239, 85, 59); fill-opacity: 1;\"/><path class=\"point\" transform=\"translate(31.65,366.75)\" d=\"M3,0A3,3 0 1,1 0,-3A3,3 0 0,1 3,0Z\" style=\"opacity: 1; stroke-width: 0px; fill: rgb(239, 85, 59); fill-opacity: 1;\"/><path class=\"point\" transform=\"translate(31.65,366.75)\" d=\"M3,0A3,3 0 1,1 0,-3A3,3 0 0,1 3,0Z\" style=\"opacity: 1; stroke-width: 0px; fill: rgb(239, 85, 59); fill-opacity: 1;\"/><path class=\"point\" transform=\"translate(31.65,366.75)\" d=\"M3,0A3,3 0 1,1 0,-3A3,3 0 0,1 3,0Z\" style=\"opacity: 1; stroke-width: 0px; fill: rgb(239, 85, 59); fill-opacity: 1;\"/><path class=\"point\" transform=\"translate(31.65,366.75)\" d=\"M3,0A3,3 0 1,1 0,-3A3,3 0 0,1 3,0Z\" style=\"opacity: 1; stroke-width: 0px; fill: rgb(239, 85, 59); fill-opacity: 1;\"/><path class=\"point\" transform=\"translate(31.65,366.75)\" d=\"M3,0A3,3 0 1,1 0,-3A3,3 0 0,1 3,0Z\" style=\"opacity: 1; stroke-width: 0px; fill: rgb(239, 85, 59); fill-opacity: 1;\"/><path class=\"point\" transform=\"translate(31.65,366.75)\" d=\"M3,0A3,3 0 1,1 0,-3A3,3 0 0,1 3,0Z\" style=\"opacity: 1; stroke-width: 0px; fill: rgb(239, 85, 59); fill-opacity: 1;\"/><path class=\"point\" transform=\"translate(31.65,366.75)\" d=\"M3,0A3,3 0 1,1 0,-3A3,3 0 0,1 3,0Z\" style=\"opacity: 1; stroke-width: 0px; fill: rgb(239, 85, 59); fill-opacity: 1;\"/><path class=\"point\" transform=\"translate(31.65,366.75)\" d=\"M3,0A3,3 0 1,1 0,-3A3,3 0 0,1 3,0Z\" style=\"opacity: 1; stroke-width: 0px; fill: rgb(239, 85, 59); fill-opacity: 1;\"/><path class=\"point\" transform=\"translate(31.65,366.75)\" d=\"M3,0A3,3 0 1,1 0,-3A3,3 0 0,1 3,0Z\" style=\"opacity: 1; stroke-width: 0px; fill: rgb(239, 85, 59); fill-opacity: 1;\"/><path class=\"point\" transform=\"translate(31.65,366.75)\" d=\"M3,0A3,3 0 1,1 0,-3A3,3 0 0,1 3,0Z\" style=\"opacity: 1; stroke-width: 0px; fill: rgb(239, 85, 59); fill-opacity: 1;\"/><path class=\"point\" transform=\"translate(31.65,366.75)\" d=\"M3,0A3,3 0 1,1 0,-3A3,3 0 0,1 3,0Z\" style=\"opacity: 1; stroke-width: 0px; fill: rgb(239, 85, 59); fill-opacity: 1;\"/><path class=\"point\" transform=\"translate(31.65,366.75)\" d=\"M3,0A3,3 0 1,1 0,-3A3,3 0 0,1 3,0Z\" style=\"opacity: 1; stroke-width: 0px; fill: rgb(239, 85, 59); fill-opacity: 1;\"/><path class=\"point\" transform=\"translate(31.65,366.75)\" d=\"M3,0A3,3 0 1,1 0,-3A3,3 0 0,1 3,0Z\" style=\"opacity: 1; stroke-width: 0px; fill: rgb(239, 85, 59); fill-opacity: 1;\"/><path class=\"point\" transform=\"translate(31.65,366.75)\" d=\"M3,0A3,3 0 1,1 0,-3A3,3 0 0,1 3,0Z\" style=\"opacity: 1; stroke-width: 0px; fill: rgb(239, 85, 59); fill-opacity: 1;\"/><path class=\"point\" transform=\"translate(31.65,366.75)\" d=\"M3,0A3,3 0 1,1 0,-3A3,3 0 0,1 3,0Z\" style=\"opacity: 1; stroke-width: 0px; fill: rgb(239, 85, 59); fill-opacity: 1;\"/><path class=\"point\" transform=\"translate(31.65,366.75)\" d=\"M3,0A3,3 0 1,1 0,-3A3,3 0 0,1 3,0Z\" style=\"opacity: 1; stroke-width: 0px; fill: rgb(239, 85, 59); fill-opacity: 1;\"/><path class=\"point\" transform=\"translate(31.65,366.75)\" d=\"M3,0A3,3 0 1,1 0,-3A3,3 0 0,1 3,0Z\" style=\"opacity: 1; stroke-width: 0px; fill: rgb(239, 85, 59); fill-opacity: 1;\"/><path class=\"point\" transform=\"translate(31.65,366.75)\" d=\"M3,0A3,3 0 1,1 0,-3A3,3 0 0,1 3,0Z\" style=\"opacity: 1; stroke-width: 0px; fill: rgb(239, 85, 59); fill-opacity: 1;\"/><path class=\"point\" transform=\"translate(31.65,366.75)\" d=\"M3,0A3,3 0 1,1 0,-3A3,3 0 0,1 3,0Z\" style=\"opacity: 1; stroke-width: 0px; fill: rgb(239, 85, 59); fill-opacity: 1;\"/><path class=\"point\" transform=\"translate(31.65,366.75)\" d=\"M3,0A3,3 0 1,1 0,-3A3,3 0 0,1 3,0Z\" style=\"opacity: 1; stroke-width: 0px; fill: rgb(239, 85, 59); fill-opacity: 1;\"/><path class=\"point\" transform=\"translate(31.65,366.75)\" d=\"M3,0A3,3 0 1,1 0,-3A3,3 0 0,1 3,0Z\" style=\"opacity: 1; stroke-width: 0px; fill: rgb(239, 85, 59); fill-opacity: 1;\"/><path class=\"point\" transform=\"translate(31.65,366.75)\" d=\"M3,0A3,3 0 1,1 0,-3A3,3 0 0,1 3,0Z\" style=\"opacity: 1; stroke-width: 0px; fill: rgb(239, 85, 59); fill-opacity: 1;\"/><path class=\"point\" transform=\"translate(31.65,366.75)\" d=\"M3,0A3,3 0 1,1 0,-3A3,3 0 0,1 3,0Z\" style=\"opacity: 1; stroke-width: 0px; fill: rgb(239, 85, 59); fill-opacity: 1;\"/><path class=\"point\" transform=\"translate(31.65,366.75)\" d=\"M3,0A3,3 0 1,1 0,-3A3,3 0 0,1 3,0Z\" style=\"opacity: 1; stroke-width: 0px; fill: rgb(239, 85, 59); fill-opacity: 1;\"/><path class=\"point\" transform=\"translate(31.65,366.75)\" d=\"M3,0A3,3 0 1,1 0,-3A3,3 0 0,1 3,0Z\" style=\"opacity: 1; stroke-width: 0px; fill: rgb(239, 85, 59); fill-opacity: 1;\"/><path class=\"point\" transform=\"translate(31.65,366.75)\" d=\"M3,0A3,3 0 1,1 0,-3A3,3 0 0,1 3,0Z\" style=\"opacity: 1; stroke-width: 0px; fill: rgb(239, 85, 59); fill-opacity: 1;\"/><path class=\"point\" transform=\"translate(31.65,366.75)\" d=\"M3,0A3,3 0 1,1 0,-3A3,3 0 0,1 3,0Z\" style=\"opacity: 1; stroke-width: 0px; fill: rgb(239, 85, 59); fill-opacity: 1;\"/><path class=\"point\" transform=\"translate(31.65,366.75)\" d=\"M3,0A3,3 0 1,1 0,-3A3,3 0 0,1 3,0Z\" style=\"opacity: 1; stroke-width: 0px; fill: rgb(239, 85, 59); fill-opacity: 1;\"/><path class=\"point\" transform=\"translate(31.65,366.75)\" d=\"M3,0A3,3 0 1,1 0,-3A3,3 0 0,1 3,0Z\" style=\"opacity: 1; stroke-width: 0px; fill: rgb(239, 85, 59); fill-opacity: 1;\"/><path class=\"point\" transform=\"translate(31.65,366.75)\" d=\"M3,0A3,3 0 1,1 0,-3A3,3 0 0,1 3,0Z\" style=\"opacity: 1; stroke-width: 0px; fill: rgb(239, 85, 59); fill-opacity: 1;\"/><path class=\"point\" transform=\"translate(31.65,366.75)\" d=\"M3,0A3,3 0 1,1 0,-3A3,3 0 0,1 3,0Z\" style=\"opacity: 1; stroke-width: 0px; fill: rgb(239, 85, 59); fill-opacity: 1;\"/><path class=\"point\" transform=\"translate(31.65,366.75)\" d=\"M3,0A3,3 0 1,1 0,-3A3,3 0 0,1 3,0Z\" style=\"opacity: 1; stroke-width: 0px; fill: rgb(239, 85, 59); fill-opacity: 1;\"/><path class=\"point\" transform=\"translate(31.65,366.75)\" d=\"M3,0A3,3 0 1,1 0,-3A3,3 0 0,1 3,0Z\" style=\"opacity: 1; stroke-width: 0px; fill: rgb(239, 85, 59); fill-opacity: 1;\"/><path class=\"point\" transform=\"translate(31.65,366.75)\" d=\"M3,0A3,3 0 1,1 0,-3A3,3 0 0,1 3,0Z\" style=\"opacity: 1; stroke-width: 0px; fill: rgb(239, 85, 59); fill-opacity: 1;\"/><path class=\"point\" transform=\"translate(31.65,366.75)\" d=\"M3,0A3,3 0 1,1 0,-3A3,3 0 0,1 3,0Z\" style=\"opacity: 1; stroke-width: 0px; fill: rgb(239, 85, 59); fill-opacity: 1;\"/><path class=\"point\" transform=\"translate(31.65,366.75)\" d=\"M3,0A3,3 0 1,1 0,-3A3,3 0 0,1 3,0Z\" style=\"opacity: 1; stroke-width: 0px; fill: rgb(239, 85, 59); fill-opacity: 1;\"/><path class=\"point\" transform=\"translate(31.65,366.75)\" d=\"M3,0A3,3 0 1,1 0,-3A3,3 0 0,1 3,0Z\" style=\"opacity: 1; stroke-width: 0px; fill: rgb(239, 85, 59); fill-opacity: 1;\"/><path class=\"point\" transform=\"translate(31.65,366.75)\" d=\"M3,0A3,3 0 1,1 0,-3A3,3 0 0,1 3,0Z\" style=\"opacity: 1; stroke-width: 0px; fill: rgb(239, 85, 59); fill-opacity: 1;\"/><path class=\"point\" transform=\"translate(31.65,366.75)\" d=\"M3,0A3,3 0 1,1 0,-3A3,3 0 0,1 3,0Z\" style=\"opacity: 1; stroke-width: 0px; fill: rgb(239, 85, 59); fill-opacity: 1;\"/><path class=\"point\" transform=\"translate(31.65,366.75)\" d=\"M3,0A3,3 0 1,1 0,-3A3,3 0 0,1 3,0Z\" style=\"opacity: 1; stroke-width: 0px; fill: rgb(239, 85, 59); fill-opacity: 1;\"/><path class=\"point\" transform=\"translate(31.65,366.75)\" d=\"M3,0A3,3 0 1,1 0,-3A3,3 0 0,1 3,0Z\" style=\"opacity: 1; stroke-width: 0px; fill: rgb(239, 85, 59); fill-opacity: 1;\"/><path class=\"point\" transform=\"translate(31.65,366.75)\" d=\"M3,0A3,3 0 1,1 0,-3A3,3 0 0,1 3,0Z\" style=\"opacity: 1; stroke-width: 0px; fill: rgb(239, 85, 59); fill-opacity: 1;\"/><path class=\"point\" transform=\"translate(31.65,366.75)\" d=\"M3,0A3,3 0 1,1 0,-3A3,3 0 0,1 3,0Z\" style=\"opacity: 1; stroke-width: 0px; fill: rgb(239, 85, 59); fill-opacity: 1;\"/><path class=\"point\" transform=\"translate(31.65,366.75)\" d=\"M3,0A3,3 0 1,1 0,-3A3,3 0 0,1 3,0Z\" style=\"opacity: 1; stroke-width: 0px; fill: rgb(239, 85, 59); fill-opacity: 1;\"/><path class=\"point\" transform=\"translate(31.65,366.75)\" d=\"M3,0A3,3 0 1,1 0,-3A3,3 0 0,1 3,0Z\" style=\"opacity: 1; stroke-width: 0px; fill: rgb(239, 85, 59); fill-opacity: 1;\"/><path class=\"point\" transform=\"translate(31.65,366.75)\" d=\"M3,0A3,3 0 1,1 0,-3A3,3 0 0,1 3,0Z\" style=\"opacity: 1; stroke-width: 0px; fill: rgb(239, 85, 59); fill-opacity: 1;\"/><path class=\"point\" transform=\"translate(31.66,366.75)\" d=\"M3,0A3,3 0 1,1 0,-3A3,3 0 0,1 3,0Z\" style=\"opacity: 1; stroke-width: 0px; fill: rgb(239, 85, 59); fill-opacity: 1;\"/><path class=\"point\" transform=\"translate(31.66,366.75)\" d=\"M3,0A3,3 0 1,1 0,-3A3,3 0 0,1 3,0Z\" style=\"opacity: 1; stroke-width: 0px; fill: rgb(239, 85, 59); fill-opacity: 1;\"/><path class=\"point\" transform=\"translate(31.66,366.75)\" d=\"M3,0A3,3 0 1,1 0,-3A3,3 0 0,1 3,0Z\" style=\"opacity: 1; stroke-width: 0px; fill: rgb(239, 85, 59); fill-opacity: 1;\"/><path class=\"point\" transform=\"translate(31.66,366.75)\" d=\"M3,0A3,3 0 1,1 0,-3A3,3 0 0,1 3,0Z\" style=\"opacity: 1; stroke-width: 0px; fill: rgb(239, 85, 59); fill-opacity: 1;\"/><path class=\"point\" transform=\"translate(31.66,366.75)\" d=\"M3,0A3,3 0 1,1 0,-3A3,3 0 0,1 3,0Z\" style=\"opacity: 1; stroke-width: 0px; fill: rgb(239, 85, 59); fill-opacity: 1;\"/><path class=\"point\" transform=\"translate(31.67,366.75)\" d=\"M3,0A3,3 0 1,1 0,-3A3,3 0 0,1 3,0Z\" style=\"opacity: 1; stroke-width: 0px; fill: rgb(239, 85, 59); fill-opacity: 1;\"/><path class=\"point\" transform=\"translate(31.67,366.75)\" d=\"M3,0A3,3 0 1,1 0,-3A3,3 0 0,1 3,0Z\" style=\"opacity: 1; stroke-width: 0px; fill: rgb(239, 85, 59); fill-opacity: 1;\"/><path class=\"point\" transform=\"translate(31.67,366.74)\" d=\"M3,0A3,3 0 1,1 0,-3A3,3 0 0,1 3,0Z\" style=\"opacity: 1; stroke-width: 0px; fill: rgb(239, 85, 59); fill-opacity: 1;\"/><path class=\"point\" transform=\"translate(31.68,366.75)\" d=\"M3,0A3,3 0 1,1 0,-3A3,3 0 0,1 3,0Z\" style=\"opacity: 1; stroke-width: 0px; fill: rgb(239, 85, 59); fill-opacity: 1;\"/><path class=\"point\" transform=\"translate(31.68,366.75)\" d=\"M3,0A3,3 0 1,1 0,-3A3,3 0 0,1 3,0Z\" style=\"opacity: 1; stroke-width: 0px; fill: rgb(239, 85, 59); fill-opacity: 1;\"/><path class=\"point\" transform=\"translate(31.68,23.25)\" d=\"M3,0A3,3 0 1,1 0,-3A3,3 0 0,1 3,0Z\" style=\"opacity: 1; stroke-width: 0px; fill: rgb(239, 85, 59); fill-opacity: 1;\"/><path class=\"point\" transform=\"translate(31.7,55.98)\" d=\"M3,0A3,3 0 1,1 0,-3A3,3 0 0,1 3,0Z\" style=\"opacity: 1; stroke-width: 0px; fill: rgb(239, 85, 59); fill-opacity: 1;\"/><path class=\"point\" transform=\"translate(31.72,80.45)\" d=\"M3,0A3,3 0 1,1 0,-3A3,3 0 0,1 3,0Z\" style=\"opacity: 1; stroke-width: 0px; fill: rgb(239, 85, 59); fill-opacity: 1;\"/><path class=\"point\" transform=\"translate(31.75,91.71)\" d=\"M3,0A3,3 0 1,1 0,-3A3,3 0 0,1 3,0Z\" style=\"opacity: 1; stroke-width: 0px; fill: rgb(239, 85, 59); fill-opacity: 1;\"/><path class=\"point\" transform=\"translate(31.77,102.66)\" d=\"M3,0A3,3 0 1,1 0,-3A3,3 0 0,1 3,0Z\" style=\"opacity: 1; stroke-width: 0px; fill: rgb(239, 85, 59); fill-opacity: 1;\"/><path class=\"point\" transform=\"translate(31.8,113.38)\" d=\"M3,0A3,3 0 1,1 0,-3A3,3 0 0,1 3,0Z\" style=\"opacity: 1; stroke-width: 0px; fill: rgb(239, 85, 59); fill-opacity: 1;\"/><path class=\"point\" transform=\"translate(31.82,118.42)\" d=\"M3,0A3,3 0 1,1 0,-3A3,3 0 0,1 3,0Z\" style=\"opacity: 1; stroke-width: 0px; fill: rgb(239, 85, 59); fill-opacity: 1;\"/><path class=\"point\" transform=\"translate(31.85,123.31)\" d=\"M3,0A3,3 0 1,1 0,-3A3,3 0 0,1 3,0Z\" style=\"opacity: 1; stroke-width: 0px; fill: rgb(239, 85, 59); fill-opacity: 1;\"/><path class=\"point\" transform=\"translate(31.87,128.07)\" d=\"M3,0A3,3 0 1,1 0,-3A3,3 0 0,1 3,0Z\" style=\"opacity: 1; stroke-width: 0px; fill: rgb(239, 85, 59); fill-opacity: 1;\"/><path class=\"point\" transform=\"translate(31.9,132.73)\" d=\"M3,0A3,3 0 1,1 0,-3A3,3 0 0,1 3,0Z\" style=\"opacity: 1; stroke-width: 0px; fill: rgb(239, 85, 59); fill-opacity: 1;\"/><path class=\"point\" transform=\"translate(32.02,145.03)\" d=\"M3,0A3,3 0 1,1 0,-3A3,3 0 0,1 3,0Z\" style=\"opacity: 1; stroke-width: 0px; fill: rgb(239, 85, 59); fill-opacity: 1;\"/><path class=\"point\" transform=\"translate(32.14,155.78)\" d=\"M3,0A3,3 0 1,1 0,-3A3,3 0 0,1 3,0Z\" style=\"opacity: 1; stroke-width: 0px; fill: rgb(239, 85, 59); fill-opacity: 1;\"/><path class=\"point\" transform=\"translate(32.27,163.05)\" d=\"M3,0A3,3 0 1,1 0,-3A3,3 0 0,1 3,0Z\" style=\"opacity: 1; stroke-width: 0px; fill: rgb(239, 85, 59); fill-opacity: 1;\"/><path class=\"point\" transform=\"translate(32.39,169.46)\" d=\"M3,0A3,3 0 1,1 0,-3A3,3 0 0,1 3,0Z\" style=\"opacity: 1; stroke-width: 0px; fill: rgb(239, 85, 59); fill-opacity: 1;\"/><path class=\"point\" transform=\"translate(32.52,175.14)\" d=\"M3,0A3,3 0 1,1 0,-3A3,3 0 0,1 3,0Z\" style=\"opacity: 1; stroke-width: 0px; fill: rgb(239, 85, 59); fill-opacity: 1;\"/><path class=\"point\" transform=\"translate(32.64,180.26)\" d=\"M3,0A3,3 0 1,1 0,-3A3,3 0 0,1 3,0Z\" style=\"opacity: 1; stroke-width: 0px; fill: rgb(239, 85, 59); fill-opacity: 1;\"/><path class=\"point\" transform=\"translate(32.76,185.16)\" d=\"M3,0A3,3 0 1,1 0,-3A3,3 0 0,1 3,0Z\" style=\"opacity: 1; stroke-width: 0px; fill: rgb(239, 85, 59); fill-opacity: 1;\"/><path class=\"point\" transform=\"translate(32.89,189.66)\" d=\"M3,0A3,3 0 1,1 0,-3A3,3 0 0,1 3,0Z\" style=\"opacity: 1; stroke-width: 0px; fill: rgb(239, 85, 59); fill-opacity: 1;\"/><path class=\"point\" transform=\"translate(33.01,194.06)\" d=\"M3,0A3,3 0 1,1 0,-3A3,3 0 0,1 3,0Z\" style=\"opacity: 1; stroke-width: 0px; fill: rgb(239, 85, 59); fill-opacity: 1;\"/><path class=\"point\" transform=\"translate(33.13,198.16)\" d=\"M3,0A3,3 0 1,1 0,-3A3,3 0 0,1 3,0Z\" style=\"opacity: 1; stroke-width: 0px; fill: rgb(239, 85, 59); fill-opacity: 1;\"/><path class=\"point\" transform=\"translate(33.26,202.15)\" d=\"M3,0A3,3 0 1,1 0,-3A3,3 0 0,1 3,0Z\" style=\"opacity: 1; stroke-width: 0px; fill: rgb(239, 85, 59); fill-opacity: 1;\"/><path class=\"point\" transform=\"translate(33.38,205.9)\" d=\"M3,0A3,3 0 1,1 0,-3A3,3 0 0,1 3,0Z\" style=\"opacity: 1; stroke-width: 0px; fill: rgb(239, 85, 59); fill-opacity: 1;\"/><path class=\"point\" transform=\"translate(33.51,209.52)\" d=\"M3,0A3,3 0 1,1 0,-3A3,3 0 0,1 3,0Z\" style=\"opacity: 1; stroke-width: 0px; fill: rgb(239, 85, 59); fill-opacity: 1;\"/><path class=\"point\" transform=\"translate(33.63,212.93)\" d=\"M3,0A3,3 0 1,1 0,-3A3,3 0 0,1 3,0Z\" style=\"opacity: 1; stroke-width: 0px; fill: rgb(239, 85, 59); fill-opacity: 1;\"/><path class=\"point\" transform=\"translate(33.75,216.18)\" d=\"M3,0A3,3 0 1,1 0,-3A3,3 0 0,1 3,0Z\" style=\"opacity: 1; stroke-width: 0px; fill: rgb(239, 85, 59); fill-opacity: 1;\"/><path class=\"point\" transform=\"translate(33.83,218.15)\" d=\"M3,0A3,3 0 1,1 0,-3A3,3 0 0,1 3,0Z\" style=\"opacity: 1; stroke-width: 0px; fill: rgb(239, 85, 59); fill-opacity: 1;\"/><path class=\"point\" transform=\"translate(33.88,219.24)\" d=\"M3,0A3,3 0 1,1 0,-3A3,3 0 0,1 3,0Z\" style=\"opacity: 1; stroke-width: 0px; fill: rgb(239, 85, 59); fill-opacity: 1;\"/><path class=\"point\" transform=\"translate(34,222.11)\" d=\"M3,0A3,3 0 1,1 0,-3A3,3 0 0,1 3,0Z\" style=\"opacity: 1; stroke-width: 0px; fill: rgb(239, 85, 59); fill-opacity: 1;\"/><path class=\"point\" transform=\"translate(34.12,224.8)\" d=\"M3,0A3,3 0 1,1 0,-3A3,3 0 0,1 3,0Z\" style=\"opacity: 1; stroke-width: 0px; fill: rgb(239, 85, 59); fill-opacity: 1;\"/><path class=\"point\" transform=\"translate(34.26,231.09)\" d=\"M3,0A3,3 0 1,1 0,-3A3,3 0 0,1 3,0Z\" style=\"opacity: 1; stroke-width: 0px; fill: rgb(239, 85, 59); fill-opacity: 1;\"/><path class=\"point\" transform=\"translate(34.37,232.23)\" d=\"M3,0A3,3 0 1,1 0,-3A3,3 0 0,1 3,0Z\" style=\"opacity: 1; stroke-width: 0px; fill: rgb(239, 85, 59); fill-opacity: 1;\"/><path class=\"point\" transform=\"translate(34.62,234.65)\" d=\"M3,0A3,3 0 1,1 0,-3A3,3 0 0,1 3,0Z\" style=\"opacity: 1; stroke-width: 0px; fill: rgb(239, 85, 59); fill-opacity: 1;\"/><path class=\"point\" transform=\"translate(34.7,237.1)\" d=\"M3,0A3,3 0 1,1 0,-3A3,3 0 0,1 3,0Z\" style=\"opacity: 1; stroke-width: 0px; fill: rgb(239, 85, 59); fill-opacity: 1;\"/><path class=\"point\" transform=\"translate(34.87,239.92)\" d=\"M3,0A3,3 0 1,1 0,-3A3,3 0 0,1 3,0Z\" style=\"opacity: 1; stroke-width: 0px; fill: rgb(239, 85, 59); fill-opacity: 1;\"/><path class=\"point\" transform=\"translate(35.11,243.96)\" d=\"M3,0A3,3 0 1,1 0,-3A3,3 0 0,1 3,0Z\" style=\"opacity: 1; stroke-width: 0px; fill: rgb(239, 85, 59); fill-opacity: 1;\"/><path class=\"point\" transform=\"translate(35.11,244.06)\" d=\"M3,0A3,3 0 1,1 0,-3A3,3 0 0,1 3,0Z\" style=\"opacity: 1; stroke-width: 0px; fill: rgb(239, 85, 59); fill-opacity: 1;\"/><path class=\"point\" transform=\"translate(35.36,248.06)\" d=\"M3,0A3,3 0 1,1 0,-3A3,3 0 0,1 3,0Z\" style=\"opacity: 1; stroke-width: 0px; fill: rgb(239, 85, 59); fill-opacity: 1;\"/><path class=\"point\" transform=\"translate(35.47,249.66)\" d=\"M3,0A3,3 0 1,1 0,-3A3,3 0 0,1 3,0Z\" style=\"opacity: 1; stroke-width: 0px; fill: rgb(239, 85, 59); fill-opacity: 1;\"/><path class=\"point\" transform=\"translate(35.57,251.13)\" d=\"M3,0A3,3 0 1,1 0,-3A3,3 0 0,1 3,0Z\" style=\"opacity: 1; stroke-width: 0px; fill: rgb(239, 85, 59); fill-opacity: 1;\"/><path class=\"point\" transform=\"translate(35.61,251.74)\" d=\"M3,0A3,3 0 1,1 0,-3A3,3 0 0,1 3,0Z\" style=\"opacity: 1; stroke-width: 0px; fill: rgb(239, 85, 59); fill-opacity: 1;\"/><path class=\"point\" transform=\"translate(35.85,256.31)\" d=\"M3,0A3,3 0 1,1 0,-3A3,3 0 0,1 3,0Z\" style=\"opacity: 1; stroke-width: 0px; fill: rgb(239, 85, 59); fill-opacity: 1;\"/><path class=\"point\" transform=\"translate(35.93,257.71)\" d=\"M3,0A3,3 0 1,1 0,-3A3,3 0 0,1 3,0Z\" style=\"opacity: 1; stroke-width: 0px; fill: rgb(239, 85, 59); fill-opacity: 1;\"/><path class=\"point\" transform=\"translate(36.04,257.61)\" d=\"M3,0A3,3 0 1,1 0,-3A3,3 0 0,1 3,0Z\" style=\"opacity: 1; stroke-width: 0px; fill: rgb(239, 85, 59); fill-opacity: 1;\"/><path class=\"point\" transform=\"translate(36.09,257.54)\" d=\"M3,0A3,3 0 1,1 0,-3A3,3 0 0,1 3,0Z\" style=\"opacity: 1; stroke-width: 0px; fill: rgb(239, 85, 59); fill-opacity: 1;\"/><path class=\"point\" transform=\"translate(36.1,257.53)\" d=\"M3,0A3,3 0 1,1 0,-3A3,3 0 0,1 3,0Z\" style=\"opacity: 1; stroke-width: 0px; fill: rgb(239, 85, 59); fill-opacity: 1;\"/><path class=\"point\" transform=\"translate(36.24,258.74)\" d=\"M3,0A3,3 0 1,1 0,-3A3,3 0 0,1 3,0Z\" style=\"opacity: 1; stroke-width: 0px; fill: rgb(239, 85, 59); fill-opacity: 1;\"/><path class=\"point\" transform=\"translate(36.33,259.54)\" d=\"M3,0A3,3 0 1,1 0,-3A3,3 0 0,1 3,0Z\" style=\"opacity: 1; stroke-width: 0px; fill: rgb(239, 85, 59); fill-opacity: 1;\"/><path class=\"point\" transform=\"translate(36.35,259.69)\" d=\"M3,0A3,3 0 1,1 0,-3A3,3 0 0,1 3,0Z\" style=\"opacity: 1; stroke-width: 0px; fill: rgb(239, 85, 59); fill-opacity: 1;\"/><path class=\"point\" transform=\"translate(36.35,259.71)\" d=\"M3,0A3,3 0 1,1 0,-3A3,3 0 0,1 3,0Z\" style=\"opacity: 1; stroke-width: 0px; fill: rgb(239, 85, 59); fill-opacity: 1;\"/><path class=\"point\" transform=\"translate(36.36,259.83)\" d=\"M3,0A3,3 0 1,1 0,-3A3,3 0 0,1 3,0Z\" style=\"opacity: 1; stroke-width: 0px; fill: rgb(239, 85, 59); fill-opacity: 1;\"/><path class=\"point\" transform=\"translate(36.37,259.89)\" d=\"M3,0A3,3 0 1,1 0,-3A3,3 0 0,1 3,0Z\" style=\"opacity: 1; stroke-width: 0px; fill: rgb(239, 85, 59); fill-opacity: 1;\"/><path class=\"point\" transform=\"translate(36.38,259.95)\" d=\"M3,0A3,3 0 1,1 0,-3A3,3 0 0,1 3,0Z\" style=\"opacity: 1; stroke-width: 0px; fill: rgb(239, 85, 59); fill-opacity: 1;\"/><path class=\"point\" transform=\"translate(36.6,261.66)\" d=\"M3,0A3,3 0 1,1 0,-3A3,3 0 0,1 3,0Z\" style=\"opacity: 1; stroke-width: 0px; fill: rgb(239, 85, 59); fill-opacity: 1;\"/><path class=\"point\" transform=\"translate(36.84,263.37)\" d=\"M3,0A3,3 0 1,1 0,-3A3,3 0 0,1 3,0Z\" style=\"opacity: 1; stroke-width: 0px; fill: rgb(239, 85, 59); fill-opacity: 1;\"/><path class=\"point\" transform=\"translate(37.05,264.65)\" d=\"M3,0A3,3 0 1,1 0,-3A3,3 0 0,1 3,0Z\" style=\"opacity: 1; stroke-width: 0px; fill: rgb(239, 85, 59); fill-opacity: 1;\"/><path class=\"point\" transform=\"translate(37.06,265.04)\" d=\"M3,0A3,3 0 1,1 0,-3A3,3 0 0,1 3,0Z\" style=\"opacity: 1; stroke-width: 0px; fill: rgb(239, 85, 59); fill-opacity: 1;\"/><path class=\"point\" transform=\"translate(37.09,264.06)\" d=\"M3,0A3,3 0 1,1 0,-3A3,3 0 0,1 3,0Z\" style=\"opacity: 1; stroke-width: 0px; fill: rgb(239, 85, 59); fill-opacity: 1;\"/><path class=\"point\" transform=\"translate(37.34,265.22)\" d=\"M3,0A3,3 0 1,1 0,-3A3,3 0 0,1 3,0Z\" style=\"opacity: 1; stroke-width: 0px; fill: rgb(239, 85, 59); fill-opacity: 1;\"/><path class=\"point\" transform=\"translate(37.44,265.65)\" d=\"M3,0A3,3 0 1,1 0,-3A3,3 0 0,1 3,0Z\" style=\"opacity: 1; stroke-width: 0px; fill: rgb(239, 85, 59); fill-opacity: 1;\"/><path class=\"point\" transform=\"translate(37.59,265.72)\" d=\"M3,0A3,3 0 1,1 0,-3A3,3 0 0,1 3,0Z\" style=\"opacity: 1; stroke-width: 0px; fill: rgb(239, 85, 59); fill-opacity: 1;\"/><path class=\"point\" transform=\"translate(37.8,266.85)\" d=\"M3,0A3,3 0 1,1 0,-3A3,3 0 0,1 3,0Z\" style=\"opacity: 1; stroke-width: 0px; fill: rgb(239, 85, 59); fill-opacity: 1;\"/><path class=\"point\" transform=\"translate(37.83,266.86)\" d=\"M3,0A3,3 0 1,1 0,-3A3,3 0 0,1 3,0Z\" style=\"opacity: 1; stroke-width: 0px; fill: rgb(239, 85, 59); fill-opacity: 1;\"/><path class=\"point\" transform=\"translate(38.01,266.89)\" d=\"M3,0A3,3 0 1,1 0,-3A3,3 0 0,1 3,0Z\" style=\"opacity: 1; stroke-width: 0px; fill: rgb(239, 85, 59); fill-opacity: 1;\"/><path class=\"point\" transform=\"translate(38.08,266.24)\" d=\"M3,0A3,3 0 1,1 0,-3A3,3 0 0,1 3,0Z\" style=\"opacity: 1; stroke-width: 0px; fill: rgb(239, 85, 59); fill-opacity: 1;\"/><path class=\"point\" transform=\"translate(38.08,266.22)\" d=\"M3,0A3,3 0 1,1 0,-3A3,3 0 0,1 3,0Z\" style=\"opacity: 1; stroke-width: 0px; fill: rgb(239, 85, 59); fill-opacity: 1;\"/><path class=\"point\" transform=\"translate(38.33,266.17)\" d=\"M3,0A3,3 0 1,1 0,-3A3,3 0 0,1 3,0Z\" style=\"opacity: 1; stroke-width: 0px; fill: rgb(239, 85, 59); fill-opacity: 1;\"/><path class=\"point\" transform=\"translate(38.58,266)\" d=\"M3,0A3,3 0 1,1 0,-3A3,3 0 0,1 3,0Z\" style=\"opacity: 1; stroke-width: 0px; fill: rgb(239, 85, 59); fill-opacity: 1;\"/><path class=\"point\" transform=\"translate(38.69,266.13)\" d=\"M3,0A3,3 0 1,1 0,-3A3,3 0 0,1 3,0Z\" style=\"opacity: 1; stroke-width: 0px; fill: rgb(239, 85, 59); fill-opacity: 1;\"/><path class=\"point\" transform=\"translate(38.82,266.05)\" d=\"M3,0A3,3 0 1,1 0,-3A3,3 0 0,1 3,0Z\" style=\"opacity: 1; stroke-width: 0px; fill: rgb(239, 85, 59); fill-opacity: 1;\"/><path class=\"point\" transform=\"translate(38.89,265.99)\" d=\"M3,0A3,3 0 1,1 0,-3A3,3 0 0,1 3,0Z\" style=\"opacity: 1; stroke-width: 0px; fill: rgb(239, 85, 59); fill-opacity: 1;\"/><path class=\"point\" transform=\"translate(39.04,265.61)\" d=\"M3,0A3,3 0 1,1 0,-3A3,3 0 0,1 3,0Z\" style=\"opacity: 1; stroke-width: 0px; fill: rgb(239, 85, 59); fill-opacity: 1;\"/><path class=\"point\" transform=\"translate(39.07,265.28)\" d=\"M3,0A3,3 0 1,1 0,-3A3,3 0 0,1 3,0Z\" style=\"opacity: 1; stroke-width: 0px; fill: rgb(239, 85, 59); fill-opacity: 1;\"/><path class=\"point\" transform=\"translate(39.29,265.43)\" d=\"M3,0A3,3 0 1,1 0,-3A3,3 0 0,1 3,0Z\" style=\"opacity: 1; stroke-width: 0px; fill: rgb(239, 85, 59); fill-opacity: 1;\"/><path class=\"point\" transform=\"translate(39.32,265.39)\" d=\"M3,0A3,3 0 1,1 0,-3A3,3 0 0,1 3,0Z\" style=\"opacity: 1; stroke-width: 0px; fill: rgb(239, 85, 59); fill-opacity: 1;\"/><path class=\"point\" transform=\"translate(39.32,265.38)\" d=\"M3,0A3,3 0 1,1 0,-3A3,3 0 0,1 3,0Z\" style=\"opacity: 1; stroke-width: 0px; fill: rgb(239, 85, 59); fill-opacity: 1;\"/><path class=\"point\" transform=\"translate(39.45,265.02)\" d=\"M3,0A3,3 0 1,1 0,-3A3,3 0 0,1 3,0Z\" style=\"opacity: 1; stroke-width: 0px; fill: rgb(239, 85, 59); fill-opacity: 1;\"/><path class=\"point\" transform=\"translate(39.5,264.76)\" d=\"M3,0A3,3 0 1,1 0,-3A3,3 0 0,1 3,0Z\" style=\"opacity: 1; stroke-width: 0px; fill: rgb(239, 85, 59); fill-opacity: 1;\"/><path class=\"point\" transform=\"translate(39.57,264.22)\" d=\"M3,0A3,3 0 1,1 0,-3A3,3 0 0,1 3,0Z\" style=\"opacity: 1; stroke-width: 0px; fill: rgb(239, 85, 59); fill-opacity: 1;\"/><path class=\"point\" transform=\"translate(39.63,264.4)\" d=\"M3,0A3,3 0 1,1 0,-3A3,3 0 0,1 3,0Z\" style=\"opacity: 1; stroke-width: 0px; fill: rgb(239, 85, 59); fill-opacity: 1;\"/><path class=\"point\" transform=\"translate(39.66,264.41)\" d=\"M3,0A3,3 0 1,1 0,-3A3,3 0 0,1 3,0Z\" style=\"opacity: 1; stroke-width: 0px; fill: rgb(239, 85, 59); fill-opacity: 1;\"/><path class=\"point\" transform=\"translate(39.78,264.33)\" d=\"M3,0A3,3 0 1,1 0,-3A3,3 0 0,1 3,0Z\" style=\"opacity: 1; stroke-width: 0px; fill: rgb(239, 85, 59); fill-opacity: 1;\"/><path class=\"point\" transform=\"translate(39.81,264.26)\" d=\"M3,0A3,3 0 1,1 0,-3A3,3 0 0,1 3,0Z\" style=\"opacity: 1; stroke-width: 0px; fill: rgb(239, 85, 59); fill-opacity: 1;\"/><path class=\"point\" transform=\"translate(39.92,263.97)\" d=\"M3,0A3,3 0 1,1 0,-3A3,3 0 0,1 3,0Z\" style=\"opacity: 1; stroke-width: 0px; fill: rgb(239, 85, 59); fill-opacity: 1;\"/><path class=\"point\" transform=\"translate(39.92,263.95)\" d=\"M3,0A3,3 0 1,1 0,-3A3,3 0 0,1 3,0Z\" style=\"opacity: 1; stroke-width: 0px; fill: rgb(239, 85, 59); fill-opacity: 1;\"/><path class=\"point\" transform=\"translate(39.97,263.75)\" d=\"M3,0A3,3 0 1,1 0,-3A3,3 0 0,1 3,0Z\" style=\"opacity: 1; stroke-width: 0px; fill: rgb(239, 85, 59); fill-opacity: 1;\"/><path class=\"point\" transform=\"translate(40.02,263.37)\" d=\"M3,0A3,3 0 1,1 0,-3A3,3 0 0,1 3,0Z\" style=\"opacity: 1; stroke-width: 0px; fill: rgb(239, 85, 59); fill-opacity: 1;\"/><path class=\"point\" transform=\"translate(40.04,263.11)\" d=\"M3,0A3,3 0 1,1 0,-3A3,3 0 0,1 3,0Z\" style=\"opacity: 1; stroke-width: 0px; fill: rgb(239, 85, 59); fill-opacity: 1;\"/><path class=\"point\" transform=\"translate(40.06,262.96)\" d=\"M3,0A3,3 0 1,1 0,-3A3,3 0 0,1 3,0Z\" style=\"opacity: 1; stroke-width: 0px; fill: rgb(239, 85, 59); fill-opacity: 1;\"/><path class=\"point\" transform=\"translate(40.06,262.94)\" d=\"M3,0A3,3 0 1,1 0,-3A3,3 0 0,1 3,0Z\" style=\"opacity: 1; stroke-width: 0px; fill: rgb(239, 85, 59); fill-opacity: 1;\"/><path class=\"point\" transform=\"translate(40.11,263.09)\" d=\"M3,0A3,3 0 1,1 0,-3A3,3 0 0,1 3,0Z\" style=\"opacity: 1; stroke-width: 0px; fill: rgb(239, 85, 59); fill-opacity: 1;\"/><path class=\"point\" transform=\"translate(40.22,263.26)\" d=\"M3,0A3,3 0 1,1 0,-3A3,3 0 0,1 3,0Z\" style=\"opacity: 1; stroke-width: 0px; fill: rgb(239, 85, 59); fill-opacity: 1;\"/><path class=\"point\" transform=\"translate(40.24,263.28)\" d=\"M3,0A3,3 0 1,1 0,-3A3,3 0 0,1 3,0Z\" style=\"opacity: 1; stroke-width: 0px; fill: rgb(239, 85, 59); fill-opacity: 1;\"/><path class=\"point\" transform=\"translate(40.25,263.27)\" d=\"M3,0A3,3 0 1,1 0,-3A3,3 0 0,1 3,0Z\" style=\"opacity: 1; stroke-width: 0px; fill: rgb(239, 85, 59); fill-opacity: 1;\"/><path class=\"point\" transform=\"translate(40.26,263.27)\" d=\"M3,0A3,3 0 1,1 0,-3A3,3 0 0,1 3,0Z\" style=\"opacity: 1; stroke-width: 0px; fill: rgb(239, 85, 59); fill-opacity: 1;\"/><path class=\"point\" transform=\"translate(40.31,262.98)\" d=\"M3,0A3,3 0 1,1 0,-3A3,3 0 0,1 3,0Z\" style=\"opacity: 1; stroke-width: 0px; fill: rgb(239, 85, 59); fill-opacity: 1;\"/><path class=\"point\" transform=\"translate(40.55,261.44)\" d=\"M3,0A3,3 0 1,1 0,-3A3,3 0 0,1 3,0Z\" style=\"opacity: 1; stroke-width: 0px; fill: rgb(239, 85, 59); fill-opacity: 1;\"/><path class=\"point\" transform=\"translate(40.8,260.75)\" d=\"M3,0A3,3 0 1,1 0,-3A3,3 0 0,1 3,0Z\" style=\"opacity: 1; stroke-width: 0px; fill: rgb(239, 85, 59); fill-opacity: 1;\"/><path class=\"point\" transform=\"translate(41.05,260.03)\" d=\"M3,0A3,3 0 1,1 0,-3A3,3 0 0,1 3,0Z\" style=\"opacity: 1; stroke-width: 0px; fill: rgb(239, 85, 59); fill-opacity: 1;\"/><path class=\"point\" transform=\"translate(41.3,259.36)\" d=\"M3,0A3,3 0 1,1 0,-3A3,3 0 0,1 3,0Z\" style=\"opacity: 1; stroke-width: 0px; fill: rgb(239, 85, 59); fill-opacity: 1;\"/><path class=\"point\" transform=\"translate(41.54,258.67)\" d=\"M3,0A3,3 0 1,1 0,-3A3,3 0 0,1 3,0Z\" style=\"opacity: 1; stroke-width: 0px; fill: rgb(239, 85, 59); fill-opacity: 1;\"/><path class=\"point\" transform=\"translate(41.91,257.73)\" d=\"M3,0A3,3 0 1,1 0,-3A3,3 0 0,1 3,0Z\" style=\"opacity: 1; stroke-width: 0px; fill: rgb(239, 85, 59); fill-opacity: 1;\"/><path class=\"point\" transform=\"translate(42.04,257.39)\" d=\"M3,0A3,3 0 1,1 0,-3A3,3 0 0,1 3,0Z\" style=\"opacity: 1; stroke-width: 0px; fill: rgb(239, 85, 59); fill-opacity: 1;\"/><path class=\"point\" transform=\"translate(42.53,256.23)\" d=\"M3,0A3,3 0 1,1 0,-3A3,3 0 0,1 3,0Z\" style=\"opacity: 1; stroke-width: 0px; fill: rgb(239, 85, 59); fill-opacity: 1;\"/><path class=\"point\" transform=\"translate(43.03,255.2)\" d=\"M3,0A3,3 0 1,1 0,-3A3,3 0 0,1 3,0Z\" style=\"opacity: 1; stroke-width: 0px; fill: rgb(239, 85, 59); fill-opacity: 1;\"/><path class=\"point\" transform=\"translate(43.52,254.3)\" d=\"M3,0A3,3 0 1,1 0,-3A3,3 0 0,1 3,0Z\" style=\"opacity: 1; stroke-width: 0px; fill: rgb(239, 85, 59); fill-opacity: 1;\"/><path class=\"point\" transform=\"translate(44.02,253.51)\" d=\"M3,0A3,3 0 1,1 0,-3A3,3 0 0,1 3,0Z\" style=\"opacity: 1; stroke-width: 0px; fill: rgb(239, 85, 59); fill-opacity: 1;\"/><path class=\"point\" transform=\"translate(44.51,252.84)\" d=\"M3,0A3,3 0 1,1 0,-3A3,3 0 0,1 3,0Z\" style=\"opacity: 1; stroke-width: 0px; fill: rgb(239, 85, 59); fill-opacity: 1;\"/><path class=\"point\" transform=\"translate(45.01,252.28)\" d=\"M3,0A3,3 0 1,1 0,-3A3,3 0 0,1 3,0Z\" style=\"opacity: 1; stroke-width: 0px; fill: rgb(239, 85, 59); fill-opacity: 1;\"/><path class=\"point\" transform=\"translate(45.5,251.81)\" d=\"M3,0A3,3 0 1,1 0,-3A3,3 0 0,1 3,0Z\" style=\"opacity: 1; stroke-width: 0px; fill: rgb(239, 85, 59); fill-opacity: 1;\"/><path class=\"point\" transform=\"translate(46,251.43)\" d=\"M3,0A3,3 0 1,1 0,-3A3,3 0 0,1 3,0Z\" style=\"opacity: 1; stroke-width: 0px; fill: rgb(239, 85, 59); fill-opacity: 1;\"/><path class=\"point\" transform=\"translate(46.49,251.13)\" d=\"M3,0A3,3 0 1,1 0,-3A3,3 0 0,1 3,0Z\" style=\"opacity: 1; stroke-width: 0px; fill: rgb(239, 85, 59); fill-opacity: 1;\"/><path class=\"point\" transform=\"translate(46.57,251.08)\" d=\"M3,0A3,3 0 1,1 0,-3A3,3 0 0,1 3,0Z\" style=\"opacity: 1; stroke-width: 0px; fill: rgb(239, 85, 59); fill-opacity: 1;\"/><path class=\"point\" transform=\"translate(46.99,250.89)\" d=\"M3,0A3,3 0 1,1 0,-3A3,3 0 0,1 3,0Z\" style=\"opacity: 1; stroke-width: 0px; fill: rgb(239, 85, 59); fill-opacity: 1;\"/><path class=\"point\" transform=\"translate(47.45,250.72)\" d=\"M3,0A3,3 0 1,1 0,-3A3,3 0 0,1 3,0Z\" style=\"opacity: 1; stroke-width: 0px; fill: rgb(239, 85, 59); fill-opacity: 1;\"/><path class=\"point\" transform=\"translate(47.48,250.71)\" d=\"M3,0A3,3 0 1,1 0,-3A3,3 0 0,1 3,0Z\" style=\"opacity: 1; stroke-width: 0px; fill: rgb(239, 85, 59); fill-opacity: 1;\"/><path class=\"point\" transform=\"translate(47.98,250.59)\" d=\"M3,0A3,3 0 1,1 0,-3A3,3 0 0,1 3,0Z\" style=\"opacity: 1; stroke-width: 0px; fill: rgb(239, 85, 59); fill-opacity: 1;\"/><path class=\"point\" transform=\"translate(48.25,250.53)\" d=\"M3,0A3,3 0 1,1 0,-3A3,3 0 0,1 3,0Z\" style=\"opacity: 1; stroke-width: 0px; fill: rgb(239, 85, 59); fill-opacity: 1;\"/><path class=\"point\" transform=\"translate(48.47,250.51)\" d=\"M3,0A3,3 0 1,1 0,-3A3,3 0 0,1 3,0Z\" style=\"opacity: 1; stroke-width: 0px; fill: rgb(239, 85, 59); fill-opacity: 1;\"/><path class=\"point\" transform=\"translate(48.89,250.48)\" d=\"M3,0A3,3 0 1,1 0,-3A3,3 0 0,1 3,0Z\" style=\"opacity: 1; stroke-width: 0px; fill: rgb(239, 85, 59); fill-opacity: 1;\"/><path class=\"point\" transform=\"translate(48.96,250.48)\" d=\"M3,0A3,3 0 1,1 0,-3A3,3 0 0,1 3,0Z\" style=\"opacity: 1; stroke-width: 0px; fill: rgb(239, 85, 59); fill-opacity: 1;\"/><path class=\"point\" transform=\"translate(49.46,250.49)\" d=\"M3,0A3,3 0 1,1 0,-3A3,3 0 0,1 3,0Z\" style=\"opacity: 1; stroke-width: 0px; fill: rgb(239, 85, 59); fill-opacity: 1;\"/><path class=\"point\" transform=\"translate(49.64,250.5)\" d=\"M3,0A3,3 0 1,1 0,-3A3,3 0 0,1 3,0Z\" style=\"opacity: 1; stroke-width: 0px; fill: rgb(239, 85, 59); fill-opacity: 1;\"/><path class=\"point\" transform=\"translate(49.95,250.55)\" d=\"M3,0A3,3 0 1,1 0,-3A3,3 0 0,1 3,0Z\" style=\"opacity: 1; stroke-width: 0px; fill: rgb(239, 85, 59); fill-opacity: 1;\"/><path class=\"point\" transform=\"translate(50.03,250.56)\" d=\"M3,0A3,3 0 1,1 0,-3A3,3 0 0,1 3,0Z\" style=\"opacity: 1; stroke-width: 0px; fill: rgb(239, 85, 59); fill-opacity: 1;\"/><path class=\"point\" transform=\"translate(50.23,250.59)\" d=\"M3,0A3,3 0 1,1 0,-3A3,3 0 0,1 3,0Z\" style=\"opacity: 1; stroke-width: 0px; fill: rgb(239, 85, 59); fill-opacity: 1;\"/><path class=\"point\" transform=\"translate(50.25,250.59)\" d=\"M3,0A3,3 0 1,1 0,-3A3,3 0 0,1 3,0Z\" style=\"opacity: 1; stroke-width: 0px; fill: rgb(239, 85, 59); fill-opacity: 1;\"/><path class=\"point\" transform=\"translate(50.45,250.64)\" d=\"M3,0A3,3 0 1,1 0,-3A3,3 0 0,1 3,0Z\" style=\"opacity: 1; stroke-width: 0px; fill: rgb(239, 85, 59); fill-opacity: 1;\"/><path class=\"point\" transform=\"translate(50.94,250.77)\" d=\"M3,0A3,3 0 1,1 0,-3A3,3 0 0,1 3,0Z\" style=\"opacity: 1; stroke-width: 0px; fill: rgb(239, 85, 59); fill-opacity: 1;\"/><path class=\"point\" transform=\"translate(51.44,250.93)\" d=\"M3,0A3,3 0 1,1 0,-3A3,3 0 0,1 3,0Z\" style=\"opacity: 1; stroke-width: 0px; fill: rgb(239, 85, 59); fill-opacity: 1;\"/><path class=\"point\" transform=\"translate(52.67,251.51)\" d=\"M3,0A3,3 0 1,1 0,-3A3,3 0 0,1 3,0Z\" style=\"opacity: 1; stroke-width: 0px; fill: rgb(239, 85, 59); fill-opacity: 1;\"/><path class=\"point\" transform=\"translate(52.96,251.67)\" d=\"M3,0A3,3 0 1,1 0,-3A3,3 0 0,1 3,0Z\" style=\"opacity: 1; stroke-width: 0px; fill: rgb(239, 85, 59); fill-opacity: 1;\"/><path class=\"point\" transform=\"translate(53.04,251.72)\" d=\"M3,0A3,3 0 1,1 0,-3A3,3 0 0,1 3,0Z\" style=\"opacity: 1; stroke-width: 0px; fill: rgb(239, 85, 59); fill-opacity: 1;\"/><path class=\"point\" transform=\"translate(53.36,251.92)\" d=\"M3,0A3,3 0 1,1 0,-3A3,3 0 0,1 3,0Z\" style=\"opacity: 1; stroke-width: 0px; fill: rgb(239, 85, 59); fill-opacity: 1;\"/><path class=\"point\" transform=\"translate(53.39,251.94)\" d=\"M3,0A3,3 0 1,1 0,-3A3,3 0 0,1 3,0Z\" style=\"opacity: 1; stroke-width: 0px; fill: rgb(239, 85, 59); fill-opacity: 1;\"/><path class=\"point\" transform=\"translate(53.91,252.31)\" d=\"M3,0A3,3 0 1,1 0,-3A3,3 0 0,1 3,0Z\" style=\"opacity: 1; stroke-width: 0px; fill: rgb(239, 85, 59); fill-opacity: 1;\"/><path class=\"point\" transform=\"translate(54.41,252.68)\" d=\"M3,0A3,3 0 1,1 0,-3A3,3 0 0,1 3,0Z\" style=\"opacity: 1; stroke-width: 0px; fill: rgb(239, 85, 59); fill-opacity: 1;\"/><path class=\"point\" transform=\"translate(54.48,252.74)\" d=\"M3,0A3,3 0 1,1 0,-3A3,3 0 0,1 3,0Z\" style=\"opacity: 1; stroke-width: 0px; fill: rgb(239, 85, 59); fill-opacity: 1;\"/><path class=\"point\" transform=\"translate(54.98,253.16)\" d=\"M3,0A3,3 0 1,1 0,-3A3,3 0 0,1 3,0Z\" style=\"opacity: 1; stroke-width: 0px; fill: rgb(239, 85, 59); fill-opacity: 1;\"/><path class=\"point\" transform=\"translate(55.15,253.31)\" d=\"M3,0A3,3 0 1,1 0,-3A3,3 0 0,1 3,0Z\" style=\"opacity: 1; stroke-width: 0px; fill: rgb(239, 85, 59); fill-opacity: 1;\"/><path class=\"point\" transform=\"translate(56.12,254.22)\" d=\"M3,0A3,3 0 1,1 0,-3A3,3 0 0,1 3,0Z\" style=\"opacity: 1; stroke-width: 0px; fill: rgb(239, 85, 59); fill-opacity: 1;\"/><path class=\"point\" transform=\"translate(56.2,254.3)\" d=\"M3,0A3,3 0 1,1 0,-3A3,3 0 0,1 3,0Z\" style=\"opacity: 1; stroke-width: 0px; fill: rgb(239, 85, 59); fill-opacity: 1;\"/><path class=\"point\" transform=\"translate(56.38,254.48)\" d=\"M3,0A3,3 0 1,1 0,-3A3,3 0 0,1 3,0Z\" style=\"opacity: 1; stroke-width: 0px; fill: rgb(239, 85, 59); fill-opacity: 1;\"/><path class=\"point\" transform=\"translate(57.62,255.81)\" d=\"M3,0A3,3 0 1,1 0,-3A3,3 0 0,1 3,0Z\" style=\"opacity: 1; stroke-width: 0px; fill: rgb(239, 85, 59); fill-opacity: 1;\"/><path class=\"point\" transform=\"translate(57.63,255.82)\" d=\"M3,0A3,3 0 1,1 0,-3A3,3 0 0,1 3,0Z\" style=\"opacity: 1; stroke-width: 0px; fill: rgb(239, 85, 59); fill-opacity: 1;\"/><path class=\"point\" transform=\"translate(58.07,256.32)\" d=\"M3,0A3,3 0 1,1 0,-3A3,3 0 0,1 3,0Z\" style=\"opacity: 1; stroke-width: 0px; fill: rgb(239, 85, 59); fill-opacity: 1;\"/><path class=\"point\" transform=\"translate(58.44,256.75)\" d=\"M3,0A3,3 0 1,1 0,-3A3,3 0 0,1 3,0Z\" style=\"opacity: 1; stroke-width: 0px; fill: rgb(239, 85, 59); fill-opacity: 1;\"/><path class=\"point\" transform=\"translate(58.57,256.91)\" d=\"M3,0A3,3 0 1,1 0,-3A3,3 0 0,1 3,0Z\" style=\"opacity: 1; stroke-width: 0px; fill: rgb(239, 85, 59); fill-opacity: 1;\"/><path class=\"point\" transform=\"translate(58.72,257.08)\" d=\"M3,0A3,3 0 1,1 0,-3A3,3 0 0,1 3,0Z\" style=\"opacity: 1; stroke-width: 0px; fill: rgb(239, 85, 59); fill-opacity: 1;\"/><path class=\"point\" transform=\"translate(58.72,257.09)\" d=\"M3,0A3,3 0 1,1 0,-3A3,3 0 0,1 3,0Z\" style=\"opacity: 1; stroke-width: 0px; fill: rgb(239, 85, 59); fill-opacity: 1;\"/><path class=\"point\" transform=\"translate(58.86,257.26)\" d=\"M3,0A3,3 0 1,1 0,-3A3,3 0 0,1 3,0Z\" style=\"opacity: 1; stroke-width: 0px; fill: rgb(239, 85, 59); fill-opacity: 1;\"/><path class=\"point\" transform=\"translate(58.88,257.28)\" d=\"M3,0A3,3 0 1,1 0,-3A3,3 0 0,1 3,0Z\" style=\"opacity: 1; stroke-width: 0px; fill: rgb(239, 85, 59); fill-opacity: 1;\"/><path class=\"point\" transform=\"translate(60.1,258.81)\" d=\"M3,0A3,3 0 1,1 0,-3A3,3 0 0,1 3,0Z\" style=\"opacity: 1; stroke-width: 0px; fill: rgb(239, 85, 59); fill-opacity: 1;\"/><path class=\"point\" transform=\"translate(60.59,259.66)\" d=\"M3,0A3,3 0 1,1 0,-3A3,3 0 0,1 3,0Z\" style=\"opacity: 1; stroke-width: 0px; fill: rgb(239, 85, 59); fill-opacity: 1;\"/><path class=\"point\" transform=\"translate(61.33,260.45)\" d=\"M3,0A3,3 0 1,1 0,-3A3,3 0 0,1 3,0Z\" style=\"opacity: 1; stroke-width: 0px; fill: rgb(239, 85, 59); fill-opacity: 1;\"/><path class=\"point\" transform=\"translate(62.57,262.15)\" d=\"M3,0A3,3 0 1,1 0,-3A3,3 0 0,1 3,0Z\" style=\"opacity: 1; stroke-width: 0px; fill: rgb(239, 85, 59); fill-opacity: 1;\"/><path class=\"point\" transform=\"translate(63.64,263.65)\" d=\"M3,0A3,3 0 1,1 0,-3A3,3 0 0,1 3,0Z\" style=\"opacity: 1; stroke-width: 0px; fill: rgb(239, 85, 59); fill-opacity: 1;\"/><path class=\"point\" transform=\"translate(63.81,263.89)\" d=\"M3,0A3,3 0 1,1 0,-3A3,3 0 0,1 3,0Z\" style=\"opacity: 1; stroke-width: 0px; fill: rgb(239, 85, 59); fill-opacity: 1;\"/><path class=\"point\" transform=\"translate(64.04,264.22)\" d=\"M3,0A3,3 0 1,1 0,-3A3,3 0 0,1 3,0Z\" style=\"opacity: 1; stroke-width: 0px; fill: rgb(239, 85, 59); fill-opacity: 1;\"/><path class=\"point\" transform=\"translate(64.3,264.59)\" d=\"M3,0A3,3 0 1,1 0,-3A3,3 0 0,1 3,0Z\" style=\"opacity: 1; stroke-width: 0px; fill: rgb(239, 85, 59); fill-opacity: 1;\"/><path class=\"point\" transform=\"translate(64.78,265.27)\" d=\"M3,0A3,3 0 1,1 0,-3A3,3 0 0,1 3,0Z\" style=\"opacity: 1; stroke-width: 0px; fill: rgb(239, 85, 59); fill-opacity: 1;\"/><path class=\"point\" transform=\"translate(65.04,265.64)\" d=\"M3,0A3,3 0 1,1 0,-3A3,3 0 0,1 3,0Z\" style=\"opacity: 1; stroke-width: 0px; fill: rgb(239, 85, 59); fill-opacity: 1;\"/><path class=\"point\" transform=\"translate(66.28,267.37)\" d=\"M3,0A3,3 0 1,1 0,-3A3,3 0 0,1 3,0Z\" style=\"opacity: 1; stroke-width: 0px; fill: rgb(239, 85, 59); fill-opacity: 1;\"/><path class=\"point\" transform=\"translate(67.52,269.08)\" d=\"M3,0A3,3 0 1,1 0,-3A3,3 0 0,1 3,0Z\" style=\"opacity: 1; stroke-width: 0px; fill: rgb(239, 85, 59); fill-opacity: 1;\"/><path class=\"point\" transform=\"translate(67.7,269.34)\" d=\"M3,0A3,3 0 1,1 0,-3A3,3 0 0,1 3,0Z\" style=\"opacity: 1; stroke-width: 0px; fill: rgb(239, 85, 59); fill-opacity: 1;\"/><path class=\"point\" transform=\"translate(67.88,269.59)\" d=\"M3,0A3,3 0 1,1 0,-3A3,3 0 0,1 3,0Z\" style=\"opacity: 1; stroke-width: 0px; fill: rgb(239, 85, 59); fill-opacity: 1;\"/><path class=\"point\" transform=\"translate(68.75,270.76)\" d=\"M3,0A3,3 0 1,1 0,-3A3,3 0 0,1 3,0Z\" style=\"opacity: 1; stroke-width: 0px; fill: rgb(239, 85, 59); fill-opacity: 1;\"/><path class=\"point\" transform=\"translate(69.62,271.94)\" d=\"M3,0A3,3 0 1,1 0,-3A3,3 0 0,1 3,0Z\" style=\"opacity: 1; stroke-width: 0px; fill: rgb(239, 85, 59); fill-opacity: 1;\"/><path class=\"point\" transform=\"translate(69.65,271.98)\" d=\"M3,0A3,3 0 1,1 0,-3A3,3 0 0,1 3,0Z\" style=\"opacity: 1; stroke-width: 0px; fill: rgb(239, 85, 59); fill-opacity: 1;\"/><path class=\"point\" transform=\"translate(69.99,272.43)\" d=\"M3,0A3,3 0 1,1 0,-3A3,3 0 0,1 3,0Z\" style=\"opacity: 1; stroke-width: 0px; fill: rgb(239, 85, 59); fill-opacity: 1;\"/><path class=\"point\" transform=\"translate(71,273.74)\" d=\"M3,0A3,3 0 1,1 0,-3A3,3 0 0,1 3,0Z\" style=\"opacity: 1; stroke-width: 0px; fill: rgb(239, 85, 59); fill-opacity: 1;\"/><path class=\"point\" transform=\"translate(71.23,274.03)\" d=\"M3,0A3,3 0 1,1 0,-3A3,3 0 0,1 3,0Z\" style=\"opacity: 1; stroke-width: 0px; fill: rgb(239, 85, 59); fill-opacity: 1;\"/><path class=\"point\" transform=\"translate(72.46,275.63)\" d=\"M3,0A3,3 0 1,1 0,-3A3,3 0 0,1 3,0Z\" style=\"opacity: 1; stroke-width: 0px; fill: rgb(239, 85, 59); fill-opacity: 1;\"/><path class=\"point\" transform=\"translate(73.33,276.72)\" d=\"M3,0A3,3 0 1,1 0,-3A3,3 0 0,1 3,0Z\" style=\"opacity: 1; stroke-width: 0px; fill: rgb(239, 85, 59); fill-opacity: 1;\"/><path class=\"point\" transform=\"translate(73.7,277.17)\" d=\"M3,0A3,3 0 1,1 0,-3A3,3 0 0,1 3,0Z\" style=\"opacity: 1; stroke-width: 0px; fill: rgb(239, 85, 59); fill-opacity: 1;\"/><path class=\"point\" transform=\"translate(73.93,277.45)\" d=\"M3,0A3,3 0 1,1 0,-3A3,3 0 0,1 3,0Z\" style=\"opacity: 1; stroke-width: 0px; fill: rgb(239, 85, 59); fill-opacity: 1;\"/><path class=\"point\" transform=\"translate(74.94,278.67)\" d=\"M3,0A3,3 0 1,1 0,-3A3,3 0 0,1 3,0Z\" style=\"opacity: 1; stroke-width: 0px; fill: rgb(239, 85, 59); fill-opacity: 1;\"/><path class=\"point\" transform=\"translate(75.29,279.09)\" d=\"M3,0A3,3 0 1,1 0,-3A3,3 0 0,1 3,0Z\" style=\"opacity: 1; stroke-width: 0px; fill: rgb(239, 85, 59); fill-opacity: 1;\"/><path class=\"point\" transform=\"translate(75.76,279.63)\" d=\"M3,0A3,3 0 1,1 0,-3A3,3 0 0,1 3,0Z\" style=\"opacity: 1; stroke-width: 0px; fill: rgb(239, 85, 59); fill-opacity: 1;\"/><path class=\"point\" transform=\"translate(75.84,279.73)\" d=\"M3,0A3,3 0 1,1 0,-3A3,3 0 0,1 3,0Z\" style=\"opacity: 1; stroke-width: 0px; fill: rgb(239, 85, 59); fill-opacity: 1;\"/><path class=\"point\" transform=\"translate(76.17,280.11)\" d=\"M3,0A3,3 0 1,1 0,-3A3,3 0 0,1 3,0Z\" style=\"opacity: 1; stroke-width: 0px; fill: rgb(239, 85, 59); fill-opacity: 1;\"/><path class=\"point\" transform=\"translate(77.41,281.47)\" d=\"M3,0A3,3 0 1,1 0,-3A3,3 0 0,1 3,0Z\" style=\"opacity: 1; stroke-width: 0px; fill: rgb(239, 85, 59); fill-opacity: 1;\"/><path class=\"point\" transform=\"translate(77.42,281.48)\" d=\"M3,0A3,3 0 1,1 0,-3A3,3 0 0,1 3,0Z\" style=\"opacity: 1; stroke-width: 0px; fill: rgb(239, 85, 59); fill-opacity: 1;\"/><path class=\"point\" transform=\"translate(78.4,282.51)\" d=\"M3,0A3,3 0 1,1 0,-3A3,3 0 0,1 3,0Z\" style=\"opacity: 1; stroke-width: 0px; fill: rgb(239, 85, 59); fill-opacity: 1;\"/><path class=\"point\" transform=\"translate(78.65,282.75)\" d=\"M3,0A3,3 0 1,1 0,-3A3,3 0 0,1 3,0Z\" style=\"opacity: 1; stroke-width: 0px; fill: rgb(239, 85, 59); fill-opacity: 1;\"/><path class=\"point\" transform=\"translate(78.8,282.9)\" d=\"M3,0A3,3 0 1,1 0,-3A3,3 0 0,1 3,0Z\" style=\"opacity: 1; stroke-width: 0px; fill: rgb(239, 85, 59); fill-opacity: 1;\"/><path class=\"point\" transform=\"translate(78.91,283.01)\" d=\"M3,0A3,3 0 1,1 0,-3A3,3 0 0,1 3,0Z\" style=\"opacity: 1; stroke-width: 0px; fill: rgb(239, 85, 59); fill-opacity: 1;\"/><path class=\"point\" transform=\"translate(79.88,283.93)\" d=\"M3,0A3,3 0 1,1 0,-3A3,3 0 0,1 3,0Z\" style=\"opacity: 1; stroke-width: 0px; fill: rgb(239, 85, 59); fill-opacity: 1;\"/><path class=\"point\" transform=\"translate(79.98,284.02)\" d=\"M3,0A3,3 0 1,1 0,-3A3,3 0 0,1 3,0Z\" style=\"opacity: 1; stroke-width: 0px; fill: rgb(239, 85, 59); fill-opacity: 1;\"/><path class=\"point\" transform=\"translate(81.12,285.03)\" d=\"M3,0A3,3 0 1,1 0,-3A3,3 0 0,1 3,0Z\" style=\"opacity: 1; stroke-width: 0px; fill: rgb(239, 85, 59); fill-opacity: 1;\"/><path class=\"point\" transform=\"translate(83.59,286.89)\" d=\"M3,0A3,3 0 1,1 0,-3A3,3 0 0,1 3,0Z\" style=\"opacity: 1; stroke-width: 0px; fill: rgb(239, 85, 59); fill-opacity: 1;\"/><path class=\"point\" transform=\"translate(86.07,288.36)\" d=\"M3,0A3,3 0 1,1 0,-3A3,3 0 0,1 3,0Z\" style=\"opacity: 1; stroke-width: 0px; fill: rgb(239, 85, 59); fill-opacity: 1;\"/><path class=\"point\" transform=\"translate(88.54,289.47)\" d=\"M3,0A3,3 0 1,1 0,-3A3,3 0 0,1 3,0Z\" style=\"opacity: 1; stroke-width: 0px; fill: rgb(239, 85, 59); fill-opacity: 1;\"/><path class=\"point\" transform=\"translate(91.01,290.27)\" d=\"M3,0A3,3 0 1,1 0,-3A3,3 0 0,1 3,0Z\" style=\"opacity: 1; stroke-width: 0px; fill: rgb(239, 85, 59); fill-opacity: 1;\"/><path class=\"point\" transform=\"translate(93.49,290.82)\" d=\"M3,0A3,3 0 1,1 0,-3A3,3 0 0,1 3,0Z\" style=\"opacity: 1; stroke-width: 0px; fill: rgb(239, 85, 59); fill-opacity: 1;\"/><path class=\"point\" transform=\"translate(95.96,291.15)\" d=\"M3,0A3,3 0 1,1 0,-3A3,3 0 0,1 3,0Z\" style=\"opacity: 1; stroke-width: 0px; fill: rgb(239, 85, 59); fill-opacity: 1;\"/><path class=\"point\" transform=\"translate(98.43,291.31)\" d=\"M3,0A3,3 0 1,1 0,-3A3,3 0 0,1 3,0Z\" style=\"opacity: 1; stroke-width: 0px; fill: rgb(239, 85, 59); fill-opacity: 1;\"/><path class=\"point\" transform=\"translate(100.91,291.32)\" d=\"M3,0A3,3 0 1,1 0,-3A3,3 0 0,1 3,0Z\" style=\"opacity: 1; stroke-width: 0px; fill: rgb(239, 85, 59); fill-opacity: 1;\"/><path class=\"point\" transform=\"translate(103.38,291.19)\" d=\"M3,0A3,3 0 1,1 0,-3A3,3 0 0,1 3,0Z\" style=\"opacity: 1; stroke-width: 0px; fill: rgb(239, 85, 59); fill-opacity: 1;\"/><path class=\"point\" transform=\"translate(105.85,290.94)\" d=\"M3,0A3,3 0 1,1 0,-3A3,3 0 0,1 3,0Z\" style=\"opacity: 1; stroke-width: 0px; fill: rgb(239, 85, 59); fill-opacity: 1;\"/><path class=\"point\" transform=\"translate(108.33,290.57)\" d=\"M3,0A3,3 0 1,1 0,-3A3,3 0 0,1 3,0Z\" style=\"opacity: 1; stroke-width: 0px; fill: rgb(239, 85, 59); fill-opacity: 1;\"/><path class=\"point\" transform=\"translate(110.8,290.13)\" d=\"M3,0A3,3 0 1,1 0,-3A3,3 0 0,1 3,0Z\" style=\"opacity: 1; stroke-width: 0px; fill: rgb(239, 85, 59); fill-opacity: 1;\"/><path class=\"point\" transform=\"translate(113.28,289.59)\" d=\"M3,0A3,3 0 1,1 0,-3A3,3 0 0,1 3,0Z\" style=\"opacity: 1; stroke-width: 0px; fill: rgb(239, 85, 59); fill-opacity: 1;\"/><path class=\"point\" transform=\"translate(115.75,289)\" d=\"M3,0A3,3 0 1,1 0,-3A3,3 0 0,1 3,0Z\" style=\"opacity: 1; stroke-width: 0px; fill: rgb(239, 85, 59); fill-opacity: 1;\"/><path class=\"point\" transform=\"translate(118.22,288.35)\" d=\"M3,0A3,3 0 1,1 0,-3A3,3 0 0,1 3,0Z\" style=\"opacity: 1; stroke-width: 0px; fill: rgb(239, 85, 59); fill-opacity: 1;\"/><path class=\"point\" transform=\"translate(120.7,287.69)\" d=\"M3,0A3,3 0 1,1 0,-3A3,3 0 0,1 3,0Z\" style=\"opacity: 1; stroke-width: 0px; fill: rgb(239, 85, 59); fill-opacity: 1;\"/><path class=\"point\" transform=\"translate(123.17,286.99)\" d=\"M3,0A3,3 0 1,1 0,-3A3,3 0 0,1 3,0Z\" style=\"opacity: 1; stroke-width: 0px; fill: rgb(239, 85, 59); fill-opacity: 1;\"/><path class=\"point\" transform=\"translate(125.64,286.3)\" d=\"M3,0A3,3 0 1,1 0,-3A3,3 0 0,1 3,0Z\" style=\"opacity: 1; stroke-width: 0px; fill: rgb(239, 85, 59); fill-opacity: 1;\"/><path class=\"point\" transform=\"translate(128.12,285.61)\" d=\"M3,0A3,3 0 1,1 0,-3A3,3 0 0,1 3,0Z\" style=\"opacity: 1; stroke-width: 0px; fill: rgb(239, 85, 59); fill-opacity: 1;\"/><path class=\"point\" transform=\"translate(130.59,284.94)\" d=\"M3,0A3,3 0 1,1 0,-3A3,3 0 0,1 3,0Z\" style=\"opacity: 1; stroke-width: 0px; fill: rgb(239, 85, 59); fill-opacity: 1;\"/><path class=\"point\" transform=\"translate(133.06,284.29)\" d=\"M3,0A3,3 0 1,1 0,-3A3,3 0 0,1 3,0Z\" style=\"opacity: 1; stroke-width: 0px; fill: rgb(239, 85, 59); fill-opacity: 1;\"/><path class=\"point\" transform=\"translate(135.54,283.68)\" d=\"M3,0A3,3 0 1,1 0,-3A3,3 0 0,1 3,0Z\" style=\"opacity: 1; stroke-width: 0px; fill: rgb(239, 85, 59); fill-opacity: 1;\"/><path class=\"point\" transform=\"translate(138.01,283.1)\" d=\"M3,0A3,3 0 1,1 0,-3A3,3 0 0,1 3,0Z\" style=\"opacity: 1; stroke-width: 0px; fill: rgb(239, 85, 59); fill-opacity: 1;\"/><path class=\"point\" transform=\"translate(140.48,282.56)\" d=\"M3,0A3,3 0 1,1 0,-3A3,3 0 0,1 3,0Z\" style=\"opacity: 1; stroke-width: 0px; fill: rgb(239, 85, 59); fill-opacity: 1;\"/><path class=\"point\" transform=\"translate(142.96,282.06)\" d=\"M3,0A3,3 0 1,1 0,-3A3,3 0 0,1 3,0Z\" style=\"opacity: 1; stroke-width: 0px; fill: rgb(239, 85, 59); fill-opacity: 1;\"/><path class=\"point\" transform=\"translate(145.43,281.61)\" d=\"M3,0A3,3 0 1,1 0,-3A3,3 0 0,1 3,0Z\" style=\"opacity: 1; stroke-width: 0px; fill: rgb(239, 85, 59); fill-opacity: 1;\"/><path class=\"point\" transform=\"translate(147.9,281.19)\" d=\"M3,0A3,3 0 1,1 0,-3A3,3 0 0,1 3,0Z\" style=\"opacity: 1; stroke-width: 0px; fill: rgb(239, 85, 59); fill-opacity: 1;\"/><path class=\"point\" transform=\"translate(150.38,280.83)\" d=\"M3,0A3,3 0 1,1 0,-3A3,3 0 0,1 3,0Z\" style=\"opacity: 1; stroke-width: 0px; fill: rgb(239, 85, 59); fill-opacity: 1;\"/><path class=\"point\" transform=\"translate(152.85,280.51)\" d=\"M3,0A3,3 0 1,1 0,-3A3,3 0 0,1 3,0Z\" style=\"opacity: 1; stroke-width: 0px; fill: rgb(239, 85, 59); fill-opacity: 1;\"/><path class=\"point\" transform=\"translate(155.32,280.25)\" d=\"M3,0A3,3 0 1,1 0,-3A3,3 0 0,1 3,0Z\" style=\"opacity: 1; stroke-width: 0px; fill: rgb(239, 85, 59); fill-opacity: 1;\"/><path class=\"point\" transform=\"translate(157.8,280.02)\" d=\"M3,0A3,3 0 1,1 0,-3A3,3 0 0,1 3,0Z\" style=\"opacity: 1; stroke-width: 0px; fill: rgb(239, 85, 59); fill-opacity: 1;\"/><path class=\"point\" transform=\"translate(160.27,279.85)\" d=\"M3,0A3,3 0 1,1 0,-3A3,3 0 0,1 3,0Z\" style=\"opacity: 1; stroke-width: 0px; fill: rgb(239, 85, 59); fill-opacity: 1;\"/><path class=\"point\" transform=\"translate(162.75,279.72)\" d=\"M3,0A3,3 0 1,1 0,-3A3,3 0 0,1 3,0Z\" style=\"opacity: 1; stroke-width: 0px; fill: rgb(239, 85, 59); fill-opacity: 1;\"/><path class=\"point\" transform=\"translate(165.22,279.64)\" d=\"M3,0A3,3 0 1,1 0,-3A3,3 0 0,1 3,0Z\" style=\"opacity: 1; stroke-width: 0px; fill: rgb(239, 85, 59); fill-opacity: 1;\"/><path class=\"point\" transform=\"translate(167.69,279.6)\" d=\"M3,0A3,3 0 1,1 0,-3A3,3 0 0,1 3,0Z\" style=\"opacity: 1; stroke-width: 0px; fill: rgb(239, 85, 59); fill-opacity: 1;\"/><path class=\"point\" transform=\"translate(170.17,279.61)\" d=\"M3,0A3,3 0 1,1 0,-3A3,3 0 0,1 3,0Z\" style=\"opacity: 1; stroke-width: 0px; fill: rgb(239, 85, 59); fill-opacity: 1;\"/><path class=\"point\" transform=\"translate(172.64,279.65)\" d=\"M3,0A3,3 0 1,1 0,-3A3,3 0 0,1 3,0Z\" style=\"opacity: 1; stroke-width: 0px; fill: rgb(239, 85, 59); fill-opacity: 1;\"/><path class=\"point\" transform=\"translate(175.11,279.74)\" d=\"M3,0A3,3 0 1,1 0,-3A3,3 0 0,1 3,0Z\" style=\"opacity: 1; stroke-width: 0px; fill: rgb(239, 85, 59); fill-opacity: 1;\"/><path class=\"point\" transform=\"translate(177.59,279.86)\" d=\"M3,0A3,3 0 1,1 0,-3A3,3 0 0,1 3,0Z\" style=\"opacity: 1; stroke-width: 0px; fill: rgb(239, 85, 59); fill-opacity: 1;\"/><path class=\"point\" transform=\"translate(180.06,280.02)\" d=\"M3,0A3,3 0 1,1 0,-3A3,3 0 0,1 3,0Z\" style=\"opacity: 1; stroke-width: 0px; fill: rgb(239, 85, 59); fill-opacity: 1;\"/><path class=\"point\" transform=\"translate(182.53,280.21)\" d=\"M3,0A3,3 0 1,1 0,-3A3,3 0 0,1 3,0Z\" style=\"opacity: 1; stroke-width: 0px; fill: rgb(239, 85, 59); fill-opacity: 1;\"/><path class=\"point\" transform=\"translate(185.01,280.43)\" d=\"M3,0A3,3 0 1,1 0,-3A3,3 0 0,1 3,0Z\" style=\"opacity: 1; stroke-width: 0px; fill: rgb(239, 85, 59); fill-opacity: 1;\"/><path class=\"point\" transform=\"translate(187.48,280.69)\" d=\"M3,0A3,3 0 1,1 0,-3A3,3 0 0,1 3,0Z\" style=\"opacity: 1; stroke-width: 0px; fill: rgb(239, 85, 59); fill-opacity: 1;\"/><path class=\"point\" transform=\"translate(189.95,280.98)\" d=\"M3,0A3,3 0 1,1 0,-3A3,3 0 0,1 3,0Z\" style=\"opacity: 1; stroke-width: 0px; fill: rgb(239, 85, 59); fill-opacity: 1;\"/><path class=\"point\" transform=\"translate(192.43,281.31)\" d=\"M3,0A3,3 0 1,1 0,-3A3,3 0 0,1 3,0Z\" style=\"opacity: 1; stroke-width: 0px; fill: rgb(239, 85, 59); fill-opacity: 1;\"/><path class=\"point\" transform=\"translate(194.9,281.64)\" d=\"M3,0A3,3 0 1,1 0,-3A3,3 0 0,1 3,0Z\" style=\"opacity: 1; stroke-width: 0px; fill: rgb(239, 85, 59); fill-opacity: 1;\"/><path class=\"point\" transform=\"translate(197.37,282)\" d=\"M3,0A3,3 0 1,1 0,-3A3,3 0 0,1 3,0Z\" style=\"opacity: 1; stroke-width: 0px; fill: rgb(239, 85, 59); fill-opacity: 1;\"/><path class=\"point\" transform=\"translate(199.85,282.39)\" d=\"M3,0A3,3 0 1,1 0,-3A3,3 0 0,1 3,0Z\" style=\"opacity: 1; stroke-width: 0px; fill: rgb(239, 85, 59); fill-opacity: 1;\"/><path class=\"point\" transform=\"translate(202.32,282.8)\" d=\"M3,0A3,3 0 1,1 0,-3A3,3 0 0,1 3,0Z\" style=\"opacity: 1; stroke-width: 0px; fill: rgb(239, 85, 59); fill-opacity: 1;\"/><path class=\"point\" transform=\"translate(204.79,283.24)\" d=\"M3,0A3,3 0 1,1 0,-3A3,3 0 0,1 3,0Z\" style=\"opacity: 1; stroke-width: 0px; fill: rgb(239, 85, 59); fill-opacity: 1;\"/><path class=\"point\" transform=\"translate(207.27,283.68)\" d=\"M3,0A3,3 0 1,1 0,-3A3,3 0 0,1 3,0Z\" style=\"opacity: 1; stroke-width: 0px; fill: rgb(239, 85, 59); fill-opacity: 1;\"/><path class=\"point\" transform=\"translate(209.74,284.14)\" d=\"M3,0A3,3 0 1,1 0,-3A3,3 0 0,1 3,0Z\" style=\"opacity: 1; stroke-width: 0px; fill: rgb(239, 85, 59); fill-opacity: 1;\"/><path class=\"point\" transform=\"translate(212.22,284.61)\" d=\"M3,0A3,3 0 1,1 0,-3A3,3 0 0,1 3,0Z\" style=\"opacity: 1; stroke-width: 0px; fill: rgb(239, 85, 59); fill-opacity: 1;\"/><path class=\"point\" transform=\"translate(214.69,285.11)\" d=\"M3,0A3,3 0 1,1 0,-3A3,3 0 0,1 3,0Z\" style=\"opacity: 1; stroke-width: 0px; fill: rgb(239, 85, 59); fill-opacity: 1;\"/><path class=\"point\" transform=\"translate(217.16,285.62)\" d=\"M3,0A3,3 0 1,1 0,-3A3,3 0 0,1 3,0Z\" style=\"opacity: 1; stroke-width: 0px; fill: rgb(239, 85, 59); fill-opacity: 1;\"/><path class=\"point\" transform=\"translate(219.64,286.13)\" d=\"M3,0A3,3 0 1,1 0,-3A3,3 0 0,1 3,0Z\" style=\"opacity: 1; stroke-width: 0px; fill: rgb(239, 85, 59); fill-opacity: 1;\"/><path class=\"point\" transform=\"translate(222.11,286.65)\" d=\"M3,0A3,3 0 1,1 0,-3A3,3 0 0,1 3,0Z\" style=\"opacity: 1; stroke-width: 0px; fill: rgb(239, 85, 59); fill-opacity: 1;\"/><path class=\"point\" transform=\"translate(224.58,287.18)\" d=\"M3,0A3,3 0 1,1 0,-3A3,3 0 0,1 3,0Z\" style=\"opacity: 1; stroke-width: 0px; fill: rgb(239, 85, 59); fill-opacity: 1;\"/><path class=\"point\" transform=\"translate(227.06,287.73)\" d=\"M3,0A3,3 0 1,1 0,-3A3,3 0 0,1 3,0Z\" style=\"opacity: 1; stroke-width: 0px; fill: rgb(239, 85, 59); fill-opacity: 1;\"/><path class=\"point\" transform=\"translate(229.53,288.28)\" d=\"M3,0A3,3 0 1,1 0,-3A3,3 0 0,1 3,0Z\" style=\"opacity: 1; stroke-width: 0px; fill: rgb(239, 85, 59); fill-opacity: 1;\"/><path class=\"point\" transform=\"translate(232,288.82)\" d=\"M3,0A3,3 0 1,1 0,-3A3,3 0 0,1 3,0Z\" style=\"opacity: 1; stroke-width: 0px; fill: rgb(239, 85, 59); fill-opacity: 1;\"/><path class=\"point\" transform=\"translate(234.48,289.38)\" d=\"M3,0A3,3 0 1,1 0,-3A3,3 0 0,1 3,0Z\" style=\"opacity: 1; stroke-width: 0px; fill: rgb(239, 85, 59); fill-opacity: 1;\"/><path class=\"point\" transform=\"translate(236.95,289.93)\" d=\"M3,0A3,3 0 1,1 0,-3A3,3 0 0,1 3,0Z\" style=\"opacity: 1; stroke-width: 0px; fill: rgb(239, 85, 59); fill-opacity: 1;\"/><path class=\"point\" transform=\"translate(239.42,290.5)\" d=\"M3,0A3,3 0 1,1 0,-3A3,3 0 0,1 3,0Z\" style=\"opacity: 1; stroke-width: 0px; fill: rgb(239, 85, 59); fill-opacity: 1;\"/><path class=\"point\" transform=\"translate(241.9,291.07)\" d=\"M3,0A3,3 0 1,1 0,-3A3,3 0 0,1 3,0Z\" style=\"opacity: 1; stroke-width: 0px; fill: rgb(239, 85, 59); fill-opacity: 1;\"/><path class=\"point\" transform=\"translate(244.37,291.64)\" d=\"M3,0A3,3 0 1,1 0,-3A3,3 0 0,1 3,0Z\" style=\"opacity: 1; stroke-width: 0px; fill: rgb(239, 85, 59); fill-opacity: 1;\"/><path class=\"point\" transform=\"translate(246.84,292.21)\" d=\"M3,0A3,3 0 1,1 0,-3A3,3 0 0,1 3,0Z\" style=\"opacity: 1; stroke-width: 0px; fill: rgb(239, 85, 59); fill-opacity: 1;\"/><path class=\"point\" transform=\"translate(249.32,292.79)\" d=\"M3,0A3,3 0 1,1 0,-3A3,3 0 0,1 3,0Z\" style=\"opacity: 1; stroke-width: 0px; fill: rgb(239, 85, 59); fill-opacity: 1;\"/><path class=\"point\" transform=\"translate(251.79,293.37)\" d=\"M3,0A3,3 0 1,1 0,-3A3,3 0 0,1 3,0Z\" style=\"opacity: 1; stroke-width: 0px; fill: rgb(239, 85, 59); fill-opacity: 1;\"/><path class=\"point\" transform=\"translate(254.26,293.94)\" d=\"M3,0A3,3 0 1,1 0,-3A3,3 0 0,1 3,0Z\" style=\"opacity: 1; stroke-width: 0px; fill: rgb(239, 85, 59); fill-opacity: 1;\"/><path class=\"point\" transform=\"translate(256.74,294.5)\" d=\"M3,0A3,3 0 1,1 0,-3A3,3 0 0,1 3,0Z\" style=\"opacity: 1; stroke-width: 0px; fill: rgb(239, 85, 59); fill-opacity: 1;\"/><path class=\"point\" transform=\"translate(259.21,295.07)\" d=\"M3,0A3,3 0 1,1 0,-3A3,3 0 0,1 3,0Z\" style=\"opacity: 1; stroke-width: 0px; fill: rgb(239, 85, 59); fill-opacity: 1;\"/><path class=\"point\" transform=\"translate(261.69,295.63)\" d=\"M3,0A3,3 0 1,1 0,-3A3,3 0 0,1 3,0Z\" style=\"opacity: 1; stroke-width: 0px; fill: rgb(239, 85, 59); fill-opacity: 1;\"/><path class=\"point\" transform=\"translate(264.16,296.19)\" d=\"M3,0A3,3 0 1,1 0,-3A3,3 0 0,1 3,0Z\" style=\"opacity: 1; stroke-width: 0px; fill: rgb(239, 85, 59); fill-opacity: 1;\"/><path class=\"point\" transform=\"translate(266.63,296.75)\" d=\"M3,0A3,3 0 1,1 0,-3A3,3 0 0,1 3,0Z\" style=\"opacity: 1; stroke-width: 0px; fill: rgb(239, 85, 59); fill-opacity: 1;\"/><path class=\"point\" transform=\"translate(269.11,297.31)\" d=\"M3,0A3,3 0 1,1 0,-3A3,3 0 0,1 3,0Z\" style=\"opacity: 1; stroke-width: 0px; fill: rgb(239, 85, 59); fill-opacity: 1;\"/><path class=\"point\" transform=\"translate(271.58,297.86)\" d=\"M3,0A3,3 0 1,1 0,-3A3,3 0 0,1 3,0Z\" style=\"opacity: 1; stroke-width: 0px; fill: rgb(239, 85, 59); fill-opacity: 1;\"/><path class=\"point\" transform=\"translate(274.05,298.41)\" d=\"M3,0A3,3 0 1,1 0,-3A3,3 0 0,1 3,0Z\" style=\"opacity: 1; stroke-width: 0px; fill: rgb(239, 85, 59); fill-opacity: 1;\"/><path class=\"point\" transform=\"translate(276.53,298.96)\" d=\"M3,0A3,3 0 1,1 0,-3A3,3 0 0,1 3,0Z\" style=\"opacity: 1; stroke-width: 0px; fill: rgb(239, 85, 59); fill-opacity: 1;\"/><path class=\"point\" transform=\"translate(279,299.51)\" d=\"M3,0A3,3 0 1,1 0,-3A3,3 0 0,1 3,0Z\" style=\"opacity: 1; stroke-width: 0px; fill: rgb(239, 85, 59); fill-opacity: 1;\"/><path class=\"point\" transform=\"translate(283.95,300.57)\" d=\"M3,0A3,3 0 1,1 0,-3A3,3 0 0,1 3,0Z\" style=\"opacity: 1; stroke-width: 0px; fill: rgb(239, 85, 59); fill-opacity: 1;\"/><path class=\"point\" transform=\"translate(288.89,301.61)\" d=\"M3,0A3,3 0 1,1 0,-3A3,3 0 0,1 3,0Z\" style=\"opacity: 1; stroke-width: 0px; fill: rgb(239, 85, 59); fill-opacity: 1;\"/><path class=\"point\" transform=\"translate(293.84,302.63)\" d=\"M3,0A3,3 0 1,1 0,-3A3,3 0 0,1 3,0Z\" style=\"opacity: 1; stroke-width: 0px; fill: rgb(239, 85, 59); fill-opacity: 1;\"/><path class=\"point\" transform=\"translate(298.79,303.64)\" d=\"M3,0A3,3 0 1,1 0,-3A3,3 0 0,1 3,0Z\" style=\"opacity: 1; stroke-width: 0px; fill: rgb(239, 85, 59); fill-opacity: 1;\"/><path class=\"point\" transform=\"translate(303.73,304.63)\" d=\"M3,0A3,3 0 1,1 0,-3A3,3 0 0,1 3,0Z\" style=\"opacity: 1; stroke-width: 0px; fill: rgb(239, 85, 59); fill-opacity: 1;\"/><path class=\"point\" transform=\"translate(308.68,305.58)\" d=\"M3,0A3,3 0 1,1 0,-3A3,3 0 0,1 3,0Z\" style=\"opacity: 1; stroke-width: 0px; fill: rgb(239, 85, 59); fill-opacity: 1;\"/><path class=\"point\" transform=\"translate(313.63,306.5)\" d=\"M3,0A3,3 0 1,1 0,-3A3,3 0 0,1 3,0Z\" style=\"opacity: 1; stroke-width: 0px; fill: rgb(239, 85, 59); fill-opacity: 1;\"/><path class=\"point\" transform=\"translate(318.58,307.41)\" d=\"M3,0A3,3 0 1,1 0,-3A3,3 0 0,1 3,0Z\" style=\"opacity: 1; stroke-width: 0px; fill: rgb(239, 85, 59); fill-opacity: 1;\"/><path class=\"point\" transform=\"translate(323.52,308.29)\" d=\"M3,0A3,3 0 1,1 0,-3A3,3 0 0,1 3,0Z\" style=\"opacity: 1; stroke-width: 0px; fill: rgb(239, 85, 59); fill-opacity: 1;\"/><path class=\"point\" transform=\"translate(328.47,309.16)\" d=\"M3,0A3,3 0 1,1 0,-3A3,3 0 0,1 3,0Z\" style=\"opacity: 1; stroke-width: 0px; fill: rgb(239, 85, 59); fill-opacity: 1;\"/><path class=\"point\" transform=\"translate(333.42,309.98)\" d=\"M3,0A3,3 0 1,1 0,-3A3,3 0 0,1 3,0Z\" style=\"opacity: 1; stroke-width: 0px; fill: rgb(239, 85, 59); fill-opacity: 1;\"/><path class=\"point\" transform=\"translate(338.36,310.79)\" d=\"M3,0A3,3 0 1,1 0,-3A3,3 0 0,1 3,0Z\" style=\"opacity: 1; stroke-width: 0px; fill: rgb(239, 85, 59); fill-opacity: 1;\"/><path class=\"point\" transform=\"translate(343.31,311.57)\" d=\"M3,0A3,3 0 1,1 0,-3A3,3 0 0,1 3,0Z\" style=\"opacity: 1; stroke-width: 0px; fill: rgb(239, 85, 59); fill-opacity: 1;\"/><path class=\"point\" transform=\"translate(348.26,312.33)\" d=\"M3,0A3,3 0 1,1 0,-3A3,3 0 0,1 3,0Z\" style=\"opacity: 1; stroke-width: 0px; fill: rgb(239, 85, 59); fill-opacity: 1;\"/><path class=\"point\" transform=\"translate(353.2,313.07)\" d=\"M3,0A3,3 0 1,1 0,-3A3,3 0 0,1 3,0Z\" style=\"opacity: 1; stroke-width: 0px; fill: rgb(239, 85, 59); fill-opacity: 1;\"/><path class=\"point\" transform=\"translate(358.15,313.77)\" d=\"M3,0A3,3 0 1,1 0,-3A3,3 0 0,1 3,0Z\" style=\"opacity: 1; stroke-width: 0px; fill: rgb(239, 85, 59); fill-opacity: 1;\"/><path class=\"point\" transform=\"translate(363.1,314.46)\" d=\"M3,0A3,3 0 1,1 0,-3A3,3 0 0,1 3,0Z\" style=\"opacity: 1; stroke-width: 0px; fill: rgb(239, 85, 59); fill-opacity: 1;\"/><path class=\"point\" transform=\"translate(368.05,315.12)\" d=\"M3,0A3,3 0 1,1 0,-3A3,3 0 0,1 3,0Z\" style=\"opacity: 1; stroke-width: 0px; fill: rgb(239, 85, 59); fill-opacity: 1;\"/><path class=\"point\" transform=\"translate(372.99,315.77)\" d=\"M3,0A3,3 0 1,1 0,-3A3,3 0 0,1 3,0Z\" style=\"opacity: 1; stroke-width: 0px; fill: rgb(239, 85, 59); fill-opacity: 1;\"/><path class=\"point\" transform=\"translate(377.94,316.39)\" d=\"M3,0A3,3 0 1,1 0,-3A3,3 0 0,1 3,0Z\" style=\"opacity: 1; stroke-width: 0px; fill: rgb(239, 85, 59); fill-opacity: 1;\"/><path class=\"point\" transform=\"translate(382.89,316.98)\" d=\"M3,0A3,3 0 1,1 0,-3A3,3 0 0,1 3,0Z\" style=\"opacity: 1; stroke-width: 0px; fill: rgb(239, 85, 59); fill-opacity: 1;\"/><path class=\"point\" transform=\"translate(387.83,317.56)\" d=\"M3,0A3,3 0 1,1 0,-3A3,3 0 0,1 3,0Z\" style=\"opacity: 1; stroke-width: 0px; fill: rgb(239, 85, 59); fill-opacity: 1;\"/><path class=\"point\" transform=\"translate(392.78,318.12)\" d=\"M3,0A3,3 0 1,1 0,-3A3,3 0 0,1 3,0Z\" style=\"opacity: 1; stroke-width: 0px; fill: rgb(239, 85, 59); fill-opacity: 1;\"/><path class=\"point\" transform=\"translate(397.73,318.66)\" d=\"M3,0A3,3 0 1,1 0,-3A3,3 0 0,1 3,0Z\" style=\"opacity: 1; stroke-width: 0px; fill: rgb(239, 85, 59); fill-opacity: 1;\"/><path class=\"point\" transform=\"translate(402.67,319.18)\" d=\"M3,0A3,3 0 1,1 0,-3A3,3 0 0,1 3,0Z\" style=\"opacity: 1; stroke-width: 0px; fill: rgb(239, 85, 59); fill-opacity: 1;\"/><path class=\"point\" transform=\"translate(407.62,319.68)\" d=\"M3,0A3,3 0 1,1 0,-3A3,3 0 0,1 3,0Z\" style=\"opacity: 1; stroke-width: 0px; fill: rgb(239, 85, 59); fill-opacity: 1;\"/><path class=\"point\" transform=\"translate(412.57,320.16)\" d=\"M3,0A3,3 0 1,1 0,-3A3,3 0 0,1 3,0Z\" style=\"opacity: 1; stroke-width: 0px; fill: rgb(239, 85, 59); fill-opacity: 1;\"/><path class=\"point\" transform=\"translate(417.52,320.63)\" d=\"M3,0A3,3 0 1,1 0,-3A3,3 0 0,1 3,0Z\" style=\"opacity: 1; stroke-width: 0px; fill: rgb(239, 85, 59); fill-opacity: 1;\"/><path class=\"point\" transform=\"translate(422.46,321.08)\" d=\"M3,0A3,3 0 1,1 0,-3A3,3 0 0,1 3,0Z\" style=\"opacity: 1; stroke-width: 0px; fill: rgb(239, 85, 59); fill-opacity: 1;\"/><path class=\"point\" transform=\"translate(427.41,321.51)\" d=\"M3,0A3,3 0 1,1 0,-3A3,3 0 0,1 3,0Z\" style=\"opacity: 1; stroke-width: 0px; fill: rgb(239, 85, 59); fill-opacity: 1;\"/><path class=\"point\" transform=\"translate(432.36,321.92)\" d=\"M3,0A3,3 0 1,1 0,-3A3,3 0 0,1 3,0Z\" style=\"opacity: 1; stroke-width: 0px; fill: rgb(239, 85, 59); fill-opacity: 1;\"/><path class=\"point\" transform=\"translate(437.3,322.32)\" d=\"M3,0A3,3 0 1,1 0,-3A3,3 0 0,1 3,0Z\" style=\"opacity: 1; stroke-width: 0px; fill: rgb(239, 85, 59); fill-opacity: 1;\"/><path class=\"point\" transform=\"translate(442.25,322.7)\" d=\"M3,0A3,3 0 1,1 0,-3A3,3 0 0,1 3,0Z\" style=\"opacity: 1; stroke-width: 0px; fill: rgb(239, 85, 59); fill-opacity: 1;\"/><path class=\"point\" transform=\"translate(447.2,323.07)\" d=\"M3,0A3,3 0 1,1 0,-3A3,3 0 0,1 3,0Z\" style=\"opacity: 1; stroke-width: 0px; fill: rgb(239, 85, 59); fill-opacity: 1;\"/><path class=\"point\" transform=\"translate(452.14,323.42)\" d=\"M3,0A3,3 0 1,1 0,-3A3,3 0 0,1 3,0Z\" style=\"opacity: 1; stroke-width: 0px; fill: rgb(239, 85, 59); fill-opacity: 1;\"/><path class=\"point\" transform=\"translate(457.09,323.76)\" d=\"M3,0A3,3 0 1,1 0,-3A3,3 0 0,1 3,0Z\" style=\"opacity: 1; stroke-width: 0px; fill: rgb(239, 85, 59); fill-opacity: 1;\"/><path class=\"point\" transform=\"translate(462.04,324.1)\" d=\"M3,0A3,3 0 1,1 0,-3A3,3 0 0,1 3,0Z\" style=\"opacity: 1; stroke-width: 0px; fill: rgb(239, 85, 59); fill-opacity: 1;\"/><path class=\"point\" transform=\"translate(466.99,324.41)\" d=\"M3,0A3,3 0 1,1 0,-3A3,3 0 0,1 3,0Z\" style=\"opacity: 1; stroke-width: 0px; fill: rgb(239, 85, 59); fill-opacity: 1;\"/><path class=\"point\" transform=\"translate(471.93,324.72)\" d=\"M3,0A3,3 0 1,1 0,-3A3,3 0 0,1 3,0Z\" style=\"opacity: 1; stroke-width: 0px; fill: rgb(239, 85, 59); fill-opacity: 1;\"/><path class=\"point\" transform=\"translate(476.88,325.01)\" d=\"M3,0A3,3 0 1,1 0,-3A3,3 0 0,1 3,0Z\" style=\"opacity: 1; stroke-width: 0px; fill: rgb(239, 85, 59); fill-opacity: 1;\"/><path class=\"point\" transform=\"translate(481.83,325.29)\" d=\"M3,0A3,3 0 1,1 0,-3A3,3 0 0,1 3,0Z\" style=\"opacity: 1; stroke-width: 0px; fill: rgb(239, 85, 59); fill-opacity: 1;\"/><path class=\"point\" transform=\"translate(486.77,325.55)\" d=\"M3,0A3,3 0 1,1 0,-3A3,3 0 0,1 3,0Z\" style=\"opacity: 1; stroke-width: 0px; fill: rgb(239, 85, 59); fill-opacity: 1;\"/><path class=\"point\" transform=\"translate(491.72,325.81)\" d=\"M3,0A3,3 0 1,1 0,-3A3,3 0 0,1 3,0Z\" style=\"opacity: 1; stroke-width: 0px; fill: rgb(239, 85, 59); fill-opacity: 1;\"/><path class=\"point\" transform=\"translate(496.67,326.05)\" d=\"M3,0A3,3 0 1,1 0,-3A3,3 0 0,1 3,0Z\" style=\"opacity: 1; stroke-width: 0px; fill: rgb(239, 85, 59); fill-opacity: 1;\"/><path class=\"point\" transform=\"translate(501.61,326.29)\" d=\"M3,0A3,3 0 1,1 0,-3A3,3 0 0,1 3,0Z\" style=\"opacity: 1; stroke-width: 0px; fill: rgb(239, 85, 59); fill-opacity: 1;\"/><path class=\"point\" transform=\"translate(506.56,326.51)\" d=\"M3,0A3,3 0 1,1 0,-3A3,3 0 0,1 3,0Z\" style=\"opacity: 1; stroke-width: 0px; fill: rgb(239, 85, 59); fill-opacity: 1;\"/><path class=\"point\" transform=\"translate(511.51,326.73)\" d=\"M3,0A3,3 0 1,1 0,-3A3,3 0 0,1 3,0Z\" style=\"opacity: 1; stroke-width: 0px; fill: rgb(239, 85, 59); fill-opacity: 1;\"/><path class=\"point\" transform=\"translate(516.46,326.93)\" d=\"M3,0A3,3 0 1,1 0,-3A3,3 0 0,1 3,0Z\" style=\"opacity: 1; stroke-width: 0px; fill: rgb(239, 85, 59); fill-opacity: 1;\"/><path class=\"point\" transform=\"translate(521.4,327.13)\" d=\"M3,0A3,3 0 1,1 0,-3A3,3 0 0,1 3,0Z\" style=\"opacity: 1; stroke-width: 0px; fill: rgb(239, 85, 59); fill-opacity: 1;\"/><path class=\"point\" transform=\"translate(526.35,327.32)\" d=\"M3,0A3,3 0 1,1 0,-3A3,3 0 0,1 3,0Z\" style=\"opacity: 1; stroke-width: 0px; fill: rgb(239, 85, 59); fill-opacity: 1;\"/></g><g class=\"text\"/></g></g></g><g class=\"overplot\"/><path class=\"xlines-above crisp\" d=\"M0,0\" style=\"fill: none;\"/><path class=\"ylines-above crisp\" d=\"M0,0\" style=\"fill: none;\"/><g class=\"overlines-above\"/><g class=\"xaxislayer-above\"><g class=\"xtick\"><text text-anchor=\"middle\" x=\"0\" y=\"463\" transform=\"translate(81.65,0)\" style=\"font-family: 'Open Sans', verdana, arial, sans-serif; font-size: 12px; fill: rgb(42, 63, 95); fill-opacity: 1; white-space: pre;\">0</text></g><g class=\"xtick\"><text text-anchor=\"middle\" x=\"0\" y=\"463\" transform=\"translate(205.32,0)\" style=\"font-family: 'Open Sans', verdana, arial, sans-serif; font-size: 12px; fill: rgb(42, 63, 95); fill-opacity: 1; white-space: pre;\">50M</text></g><g class=\"xtick\"><text text-anchor=\"middle\" x=\"0\" y=\"463\" transform=\"translate(329,0)\" style=\"font-family: 'Open Sans', verdana, arial, sans-serif; font-size: 12px; fill: rgb(42, 63, 95); fill-opacity: 1; white-space: pre;\">100M</text></g><g class=\"xtick\"><text text-anchor=\"middle\" x=\"0\" y=\"463\" transform=\"translate(452.67,0)\" style=\"font-family: 'Open Sans', verdana, arial, sans-serif; font-size: 12px; fill: rgb(42, 63, 95); fill-opacity: 1; white-space: pre;\">150M</text></g><g class=\"xtick\"><text text-anchor=\"middle\" x=\"0\" y=\"463\" transform=\"translate(576.35,0)\" style=\"font-family: 'Open Sans', verdana, arial, sans-serif; font-size: 12px; fill: rgb(42, 63, 95); fill-opacity: 1; white-space: pre;\">200M</text></g></g><g class=\"yaxislayer-above\"><g class=\"ytick\"><text text-anchor=\"end\" x=\"49\" y=\"4.199999999999999\" transform=\"translate(0,426.75)\" style=\"font-family: 'Open Sans', verdana, arial, sans-serif; font-size: 12px; fill: rgb(42, 63, 95); fill-opacity: 1; white-space: pre;\">0</text></g><g class=\"ytick\"><text text-anchor=\"end\" x=\"49\" y=\"4.199999999999999\" transform=\"translate(0,366.01)\" style=\"font-family: 'Open Sans', verdana, arial, sans-serif; font-size: 12px; fill: rgb(42, 63, 95); fill-opacity: 1; white-space: pre;\">2</text></g><g class=\"ytick\"><text text-anchor=\"end\" x=\"49\" y=\"4.199999999999999\" transform=\"translate(0,305.27)\" style=\"font-family: 'Open Sans', verdana, arial, sans-serif; font-size: 12px; fill: rgb(42, 63, 95); fill-opacity: 1; white-space: pre;\">4</text></g><g class=\"ytick\"><text text-anchor=\"end\" x=\"49\" y=\"4.199999999999999\" transform=\"translate(0,244.53)\" style=\"font-family: 'Open Sans', verdana, arial, sans-serif; font-size: 12px; fill: rgb(42, 63, 95); fill-opacity: 1; white-space: pre;\">6</text></g><g class=\"ytick\"><text text-anchor=\"end\" x=\"49\" y=\"4.199999999999999\" transform=\"translate(0,183.79000000000002)\" style=\"font-family: 'Open Sans', verdana, arial, sans-serif; font-size: 12px; fill: rgb(42, 63, 95); fill-opacity: 1; white-space: pre;\">8</text></g><g class=\"ytick\"><text text-anchor=\"end\" x=\"49\" y=\"4.199999999999999\" transform=\"translate(0,123.05)\" style=\"font-family: 'Open Sans', verdana, arial, sans-serif; font-size: 12px; fill: rgb(42, 63, 95); fill-opacity: 1; white-space: pre;\">10</text></g><g class=\"ytick\"><text text-anchor=\"end\" x=\"49\" y=\"4.199999999999999\" transform=\"translate(0,62.31)\" style=\"font-family: 'Open Sans', verdana, arial, sans-serif; font-size: 12px; fill: rgb(42, 63, 95); fill-opacity: 1; white-space: pre;\">12</text></g></g><g class=\"overaxes-above\"/></g></g><g class=\"polarlayer\"/><g class=\"ternarylayer\"/><g class=\"geolayer\"/><g class=\"funnelarealayer\"/><g class=\"pielayer\"/><g class=\"treemaplayer\"/><g class=\"sunburstlayer\"/><g class=\"glimages\"/><defs id=\"topdefs-7e9c8a\"><g class=\"clips\"/><clipPath id=\"legend7e9c8a\"><rect width=\"69\" height=\"48\" x=\"0\" y=\"0\"/></clipPath></defs><g class=\"layer-above\"><g class=\"imagelayer\"/><g class=\"shapelayer\"/></g><g class=\"infolayer\"><g class=\"legend\" pointer-events=\"all\" transform=\"translate(619.16,60)\"><rect class=\"bg\" shape-rendering=\"crispEdges\" style=\"stroke: rgb(68, 68, 68); stroke-opacity: 1; fill: rgb(255, 255, 255); fill-opacity: 1; stroke-width: 0px;\" width=\"69\" height=\"48\" x=\"0\" y=\"0\"/><g class=\"scrollbox\" transform=\"\" clip-path=\"url('#legend7e9c8a')\"><g class=\"groups\"><g class=\"traces\" transform=\"translate(0,14.5)\" style=\"opacity: 1;\"><text class=\"legendtext\" text-anchor=\"start\" x=\"40\" y=\"4.680000000000001\" style=\"font-family: 'Open Sans', verdana, arial, sans-serif; font-size: 12px; fill: rgb(42, 63, 95); fill-opacity: 1; white-space: pre;\">108</text><g class=\"layers\" style=\"opacity: 1;\"><g class=\"legendfill\"/><g class=\"legendlines\"/><g class=\"legendsymbols\"><g class=\"legendpoints\"><path class=\"scatterpts\" transform=\"translate(20,0)\" d=\"M3,0A3,3 0 1,1 0,-3A3,3 0 0,1 3,0Z\" style=\"opacity: 1; stroke-width: 0px; fill: rgb(99, 110, 250); fill-opacity: 1;\"/></g></g></g><rect class=\"legendtoggle\" x=\"0\" y=\"-9.5\" width=\"63.265625\" height=\"19\" style=\"fill: rgb(0, 0, 0); fill-opacity: 0;\"/></g><g class=\"traces\" transform=\"translate(0,33.5)\" style=\"opacity: 1;\"><text class=\"legendtext\" text-anchor=\"start\" x=\"40\" y=\"4.680000000000001\" style=\"font-family: 'Open Sans', verdana, arial, sans-serif; font-size: 12px; fill: rgb(42, 63, 95); fill-opacity: 1; white-space: pre;\">1</text><g class=\"layers\" style=\"opacity: 1;\"><g class=\"legendfill\"/><g class=\"legendlines\"/><g class=\"legendsymbols\"><g class=\"legendpoints\"><path class=\"scatterpts\" transform=\"translate(20,0)\" d=\"M3,0A3,3 0 1,1 0,-3A3,3 0 0,1 3,0Z\" style=\"opacity: 1; stroke-width: 0px; fill: rgb(239, 85, 59); fill-opacity: 1;\"/></g></g></g><rect class=\"legendtoggle\" x=\"0\" y=\"-9.5\" width=\"63.265625\" height=\"19\" style=\"fill: rgb(0, 0, 0); fill-opacity: 0;\"/></g></g></g><rect class=\"scrollbar\" rx=\"20\" ry=\"3\" width=\"0\" height=\"0\" style=\"fill: rgb(128, 139, 164); fill-opacity: 1;\" x=\"0\" y=\"0\"/></g><g class=\"g-gtitle\"/><g class=\"g-xtitle\"/><g class=\"g-ytitle\"/></g></svg>",
            "text/html": [
              "<div\n",
              "    class=\"webio-mountpoint\"\n",
              "    data-webio-mountpoint=\"10091879081217715615\"\n",
              ">\n",
              "    <script>\n",
              "    (function(){\n",
              "    // Some integrations (namely, IJulia/Jupyter) use an alternate render pathway than\n",
              "    // just putting the html on the page. If WebIO isn't defined, then it's pretty likely\n",
              "    // that we're in one of those situations and the integration just isn't installed\n",
              "    // correctly.\n",
              "    if (typeof window.WebIO === \"undefined\") {\n",
              "        document\n",
              "            .querySelector('[data-webio-mountpoint=\"10091879081217715615\"]')\n",
              "            .innerHTML = (\n",
              "                '<div style=\"padding: 1em; background-color: #f8d6da; border: 1px solid #f5c6cb; font-weight: bold;\">' +\n",
              "                '<p><strong>WebIO not detected.</strong></p>' +\n",
              "                '<p>Please read ' +\n",
              "                '<a href=\"https://juliagizmos.github.io/WebIO.jl/latest/troubleshooting/not-detected/\" target=\"_blank\">the troubleshooting guide</a> ' +\n",
              "                'for more information on how to resolve this issue.</p>' +\n",
              "                '<p><a href=\"https://juliagizmos.github.io/WebIO.jl/latest/troubleshooting/not-detected/\" target=\"_blank\">https://juliagizmos.github.io/WebIO.jl/latest/troubleshooting/not-detected/</a></p>' +\n",
              "                '</div>'\n",
              "            );\n",
              "        return;\n",
              "    }\n",
              "    WebIO.mount(\n",
              "        document.querySelector('[data-webio-mountpoint=\"10091879081217715615\"]'),\n",
              "        {\"props\":{},\"nodeType\":\"Scope\",\"type\":\"node\",\"instanceArgs\":{\"imports\":{\"data\":[{\"name\":\"Plotly\",\"type\":\"js\",\"url\":\"\\/assetserver\\/974bc88f8fa21ff4c3cbd84b6afff90488058aa7-plotly.min.js\"},{\"name\":null,\"type\":\"js\",\"url\":\"\\/assetserver\\/64d87b978f97348bc0d43ca0daa59975ea5d4c91-plotly_webio.bundle.js\"}],\"type\":\"async_block\"},\"id\":\"5118994432612838678\",\"handlers\":{\"_toImage\":[\"(function (options){return this.Plotly.toImage(this.plotElem,options).then((function (data){return WebIO.setval({\\\"name\\\":\\\"image\\\",\\\"scope\\\":\\\"5118994432612838678\\\",\\\"id\\\":\\\"564414027514990591\\\",\\\"type\\\":\\\"observable\\\"},data)}))})\"],\"__get_gd_contents\":[\"(function (prop){prop==\\\"data\\\" ? (WebIO.setval({\\\"name\\\":\\\"__gd_contents\\\",\\\"scope\\\":\\\"5118994432612838678\\\",\\\"id\\\":\\\"2430811039876881710\\\",\\\"type\\\":\\\"observable\\\"},this.plotElem.data)) : undefined; return prop==\\\"layout\\\" ? (WebIO.setval({\\\"name\\\":\\\"__gd_contents\\\",\\\"scope\\\":\\\"5118994432612838678\\\",\\\"id\\\":\\\"2430811039876881710\\\",\\\"type\\\":\\\"observable\\\"},this.plotElem.layout)) : undefined})\"],\"_downloadImage\":[\"(function (options){return this.Plotly.downloadImage(this.plotElem,options)})\"],\"_commands\":[\"(function (args){var fn=args.shift(); var elem=this.plotElem; var Plotly=this.Plotly; args.unshift(elem); return Plotly[fn].apply(this,args)})\"]},\"systemjs_options\":null,\"mount_callbacks\":[\"function () {\\n    var handler = ((function (Plotly,PlotlyWebIO){PlotlyWebIO.init(WebIO); var gd=this.dom.querySelector(\\\"#plot-77795392-f259-4c9e-8065-3b8e94a6ea75\\\"); this.plotElem=gd; this.Plotly=Plotly; (window.Blink!==undefined) ? (gd.style.width=\\\"100%\\\", gd.style.height=\\\"100vh\\\", gd.style.marginLeft=\\\"0%\\\", gd.style.marginTop=\\\"0vh\\\") : undefined; window.onresize=(function (){return Plotly.Plots.resize(gd)}); Plotly.newPlot(gd,[{\\\"mode\\\":\\\"markers\\\",\\\"y\\\":[0.0,2.130810000000000000000000000000000000000000000000000000000000000000000000000002e-20,9.150679999999999999999999999999999999999999999999999999999999999999999999999929e-19,2.67738999999999999999999999999999999999999999999999999999999999999999999999999e-17,2.783449999999999999999999999999999999999999999999999999999999999999999999999995e-15,3.752479999999999999999999999999999999999999999999999999999999999999999999999987e-14,3.533909999999999999999999999999999999999999999999999999999999999999999999999994e-13,2.735819999999999999999999999999999999999999999999999999999999999999999999999998e-12,1.661500000000000000000000000000000000000000000000000000000000000000000000000002e-11,7.025529999999999999999999999999999999999999999999999999999999999999999999999973e-11,3.408420000000000000000000000000000000000000000000000000000000000000000000000002e-10,1.152769999999999999999999999999999999999999999999999999999999999999999999999996e-09,4.336020000000000000000000000000000000000000000000000000000000000000000000000006e-09,1.148430000000000000000000000000000000000000000000000000000000000000000000000004e-08,3.240569999999999999999999999999999999999999999999999999999999999999999999999978e-08,6.741510999999999999999999999999999999999999999999999999999999999999999999999974e-08,3.096790000000000000000000000000000000000000000000000000000000000000000000000001e-07,1.208090000000000000000000000000000000000000000000000000000000000000000000000004e-06,3.949099999999999999999999999999999999999999999999999999999999999999999999999991e-06,1.091769999999999999999999999999999999999999999999999999999999999999999999999996e-05,2.258470000000000000000000000000000000000000000000000000000000000000000000000002e-05,4.348329999999999999999999999999999999999999999999999999999999999999999999999979e-05,6.645870999999999999999999999999999999999999999999999999999999999999999999999957e-05,9.342059999999999999999999999999999999999999999999999999999999999999999999999975e-05,0.0001175289999999999999999999999999999999999999999999999999999999999999999999999999,0.0001469030000000000000000000000000000000000000000000000000000000000000000000000008,0.0001694429999999999999999999999999999999999999999999999999999999999999999999999993,0.0001972639999999999999999999999999999999999999999999999999999999999999999999999991,0.0002196009999999999999999999999999999999999999999999999999999999999999999999999999,0.0002437010000000000000000000000000000000000000000000000000000000000000000000000003,0.0002564680000000000000000000000000000000000000000000000000000000000000000000000001,0.0,0.0],\\\"type\\\":\\\"scatter\\\",\\\"name\\\":\\\"108\\\",\\\"x\\\":[1.85397e+06,8.0e+06,8.5e+06,9.0e+06,9.5e+06,1.0e+07,1.05e+07,1.1e+07,1.15e+07,1.2e+07,1.25e+07,1.3e+07,1.35e+07,1.4e+07,1.45e+07,1.5e+07,1.6e+07,1.7e+07,1.8e+07,1.9e+07,2.0e+07,2.1e+07,2.2e+07,2.3e+07,2.4e+07,2.5e+07,2.6e+07,2.7e+07,2.8e+07,2.9e+07,3.0e+07,3.0e+07,2.0e+08]},{\\\"mode\\\":\\\"markers\\\",\\\"y\\\":[5.667080000000000000000000000000000000000000000000000000000000000000000000000035e-07,4.574557999999999999999999999999999999999999999999999999999999999999999999999996e-07,4.110020999999999999999999999999999999999999999999999999999999999999999999999981e-07,3.69265499999999999999999999999999999999999999999999999999999999999999999999998e-07,3.317676000000000000000000000000000000000000000000000000000000000000000000000002e-07,2.980771000000000000000000000000000000000000000000000000000000000000000000000013e-07,2.678079e-07,2.406126999999999999999999999999999999999999999999999999999999999999999999999983e-07,2.161788000000000000000000000000000000000000000000000000000000000000000000000001e-07,1.942263999999999999999999999999999999999999999999999999999999999999999999999995e-07,1.745030999999999999999999999999999999999999999999999999999999999999999999999995e-07,1.567827000000000000000000000000000000000000000000000000000000000000000000000007e-07,1.408617000000000000000000000000000000000000000000000000000000000000000000000008e-07,1.265576000000000000000000000000000000000000000000000000000000000000000000000007e-07,1.137057999999999999999999999999999999999999999999999999999999999999999999999998e-07,1.021592e-07,9.17850999999999999999999999999999999999999999999999999999999999999999999999997e-08,8.246455999999999999999999999999999999999999999999999999999999999999999999999999e-08,7.409049000000000000000000000000000000000000000000000000000000000000000000000018e-08,6.656672999999999999999999999999999999999999999999999999999999999999999999999994e-08,5.980699000000000000000000000000000000000000000000000000000000000000000000000049e-08,5.373368999999999999999999999999999999999999999999999999999999999999999999999987e-08,4.827716999999999999999999999999999999999999999999999999999999999999999999999983e-08,4.337474000000000000000000000000000000000000000000000000000000000000000000000012e-08,3.897010999999999999999999999999999999999999999999999999999999999999999999999982e-08,3.501278999999999999999999999999999999999999999999999999999999999999999999999996e-08,3.14573000000000000000000000000000000000000000000000000000000000000000000000001e-08,2.826286999999999999999999999999999999999999999999999999999999999999999999999988e-08,2.539283999999999999999999999999999999999999999999999999999999999999999999999988e-08,2.281422000000000000000000000000000000000000000000000000000000000000000000000007e-08,2.049749000000000000000000000000000000000000000000000000000000000000000000000005e-08,1.841601000000000000000000000000000000000000000000000000000000000000000000000001e-08,1.654593000000000000000000000000000000000000000000000000000000000000000000000004e-08,1.486571000000000000000000000000000000000000000000000000000000000000000000000004e-08,1.335612999999999999999999999999999999999999999999999999999999999999999999999995e-08,1.199982999999999999999999999999999999999999999999999999999999999999999999999999e-08,1.126679999999999999999999999999999999999999999999999999999999999999999999999998e-08,9.68645899999999999999999999999999999999999999999999999999999999999999999999997e-09,8.702823000000000000000000000000000000000000000000000000000000000000000000000027e-09,7.819065999999999999999999999999999999999999999999999999999999999999999999999949e-09,7.025047000000000000000000000000000000000000000000000000000000000000000000000003e-09,6.311665000000000000000000000000000000000000000000000000000000000000000000000009e-09,5.670726000000000000000000000000000000000000000000000000000000000000000000000017e-09,5.094878000000000000000000000000000000000000000000000000000000000000000000000004e-09,4.577500999999999999999999999999999999999999999999999999999999999999999999999999e-09,4.112664000000000000000000000000000000000000000000000000000000000000000000000029e-09,3.695030000000000000000000000000000000000000000000000000000000000000000000000006e-09,3.319808999999999999999999999999999999999999999999999999999999999999999999999997e-09,2.982687999999999999999999999999999999999999999999999999999999999999999999999986e-09,2.679800999999999999999999999999999999999999999999999999999999999999999999999992e-09,2.407671000000000000000000000000000000000000000000000000000000000000000000000002e-09,2.16317900000000000000000000000000000000000000000000000000000000000000000000001e-09,1.943510999999999999999999999999999999999999999999999999999999999999999999999988e-09,1.792090000000000000000000000000000000000000000000000000000000000000000000000002e-09,1.568832000000000000000000000000000000000000000000000000000000000000000000000002e-09,1.409519999999999999999999999999999999999999999999999999999999999999999999999996e-09,1.266386999999999999999999999999999999999999999999999999999999999999999999999994e-09,1.137787000000000000000000000000000000000000000000000000000000000000000000000001e-09,1.022246999999999999999999999999999999999999999999999999999999999999999999999994e-09,9.184390000000000000000000000000000000000000000000000000000000000000000000000037e-10,8.251730000000000000000000000000000000000000000000000000000000000000000000000016e-10,7.41379000000000000000000000000000000000000000000000000000000000000000000000002e-10,6.660929999999999999999999999999999999999999999999999999999999999999999999999972e-10,5.667069999999999999999999999999999999999999999999999999999999999999999999999965e-10,5.376810000000000000000000000000000000000000000000000000000000000000000000000001e-10,4.830800000000000000000000000000000000000000000000000000000000000000000000000028e-10,4.340240000000000000000000000000000000000000000000000000000000000000000000000004e-10,3.899500000000000000000000000000000000000000000000000000000000000000000000000012e-10,3.503509999999999999999999999999999999999999999999999999999999999999999999999998e-10,3.147740000000000000000000000000000000000000000000000000000000000000000000000016e-10,2.828090000000000000000000000000000000000000000000000000000000000000000000000009e-10,2.540899999999999999999999999999999999999999999999999999999999999999999999999988e-10,2.282879999999999999999999999999999999999999999999999999999999999999999999999996e-10,2.051060000000000000000000000000000000000000000000000000000000000000000000000007e-10,1.792089999999999999999999999999999999999999999999999999999999999999999999999998e-10,1.655649999999999999999999999999999999999999999999999999999999999999999999999998e-10,1.487519999999999999999999999999999999999999999999999999999999999999999999999993e-10,1.676559999999999999999999999999999999999999999999999999999999999999999999999994e-10,2.057829999999999999999999999999999999999999999999999999999999999999999999999997e-10,3.625599999999999999999999999999999999999999999999999999999999999999999999999998e-10,4.647929999999999999999999999999999999999999999999999999999999999999999999999991e-10,6.985290000000000000000000000000000000000000000000000000000000000000000000000001e-10,1.049802999999999999999999999999999999999999999999999999999999999999999999999999e-09,1.355190000000000000000000000000000000000000000000000000000000000000000000000002e-09,2.86898900000000000000000000000000000000000000000000000000000000000000000000001e-09,2.888320999999999999999999999999999999999999999999999999999999999999999999999997e-09,2.600375999999999999999999999999999999999999999999999999999999999999999999999985e-09,2.331128000000000000000000000000000000000000000000000000000000000000000000000014e-09,2.020292999999999999999999999999999999999999999999999999999999999999999999999988e-09,1.907104999999999999999999999999999999999999999999999999999999999999999999999985e-09,1.744416999999999999999999999999999999999999999999999999999999999999999999999999e-09,1.747515000000000000000000000000000000000000000000000000000000000000000000000009e-05,4.23291200000000000000000000000000000000000000000000000000000000000000000000002e-05,9.675939999999999999999999999999999999999999999999999999999999999999999999999978e-05,0.0001301100000000000000000000000000000000000000000000000000000000000000000000000007,0.0001600766999999999999999999999999999999999999999999999999999999999999999999999997,0.0001673411999999999999999999999999999999999999999999999999999999999999999999999994,7.196147999999999999999999999999999999999999999999999999999999999999999999999994e-05,4.150844000000000000000000000000000000000000000000000000000000000000000000000014e-05,11.31042000000000000000000000000000000000000000000000000000000000000000000000003,10.23286999999999999999999999999999999999999999999999999999999999999999999999997,9.426930000000000000000000000000000000000000000000000000000000000000000000000053,9.056143000000000000000000000000000000000000000000000000000000000000000000000009,8.695674999999999999999999999999999999999999999999999999999999999999999999999944,8.342827999999999999999999999999999999999999999999999999999999999999999999999931,8.17687099999999999999999999999999999999999999999999999999999999999999999999999,8.015824000000000000000000000000000000000000000000000000000000000000000000000014,7.858947999999999999999999999999999999999999999999999999999999999999999999999968,7.705700999999999999999999999999999999999999999999999999999999999999999999999996,7.30059500000000000000000000000000000000000000000000000000000000000000000000003,6.946459000000000000000000000000000000000000000000000000000000000000000000000033,6.707276999999999999999999999999999999999999999999999999999999999999999999999991,6.496014999999999999999999999999999999999999999999999999999999999999999999999993,6.309134,6.140662000000000000000000000000000000000000000000000000000000000000000000000029,5.97921800000000000000000000000000000000000000000000000000000000000000000000001,5.831033999999999999999999999999999999999999999999999999999999999999999999999978,5.686054000000000000000000000000000000000000000000000000000000000000000000000029,5.551173999999999999999999999999999999999999999999999999999999999999999999999982,5.419635999999999999999999999999999999999999999999999999999999999999999999999998,5.296227999999999999999999999999999999999999999999999999999999999999999999999974,5.177129999999999999999999999999999999999999999999999999999999999999999999999984,5.064871999999999999999999999999999999999999999999999999999999999999999999999983,4.957931999999999999999999999999999999999999999999999999999999999999999999999973,4.892824000000000000000000000000000000000000000000000000000000000000000000000015,4.856992000000000000000000000000000000000000000000000000000000000000000000000034,4.762558999999999999999999999999999999999999999999999999999999999999999999999966,4.673825000000000000000000000000000000000000000000000000000000000000000000000018,4.467022000000000000000000000000000000000000000000000000000000000000000000000016,4.429201000000000000000000000000000000000000000000000000000000000000000000000016,4.349517999999999999999999999999999999999999999999999999999999999999999999999973,4.269087000000000000000000000000000000000000000000000000000000000000000000000022,4.176229000000000000000000000000000000000000000000000000000000000000000000000032,4.043071999999999999999999999999999999999999999999999999999999999999999999999971,4.039714999999999999999999999999999999999999999999999999999999999999999999999982,3.908006999999999999999999999999999999999999999999999999999999999999999999999988,3.855323000000000000000000000000000000000000000000000000000000000000000000000009,3.806919000000000000000000000000000000000000000000000000000000000000000000000004,3.786799,3.636529999999999999999999999999999999999999999999999999999999999999999999999996,3.590303000000000000000000000000000000000000000000000000000000000000000000000007,3.593540999999999999999999999999999999999999999999999999999999999999999999999989,3.595908000000000000000000000000000000000000000000000000000000000000000000000009,3.596323000000000000000000000000000000000000000000000000000000000000000000000004,3.556468999999999999999999999999999999999999999999999999999999999999999999999987,3.529969999999999999999999999999999999999999999999999999999999999999999999999992,3.525061999999999999999999999999999999999999999999999999999999999999999999999999,3.52437100000000000000000000000000000000000000000000000000000000000000000000001,3.520530999999999999999999999999999999999999999999999999999999999999999999999987,3.518515999999999999999999999999999999999999999999999999999999999999999999999991,3.516647999999999999999999999999999999999999999999999999999999999999999999999986,3.460439999999999999999999999999999999999999999999999999999999999999999999999999,3.404071000000000000000000000000000000000000000000000000000000000000000000000012,3.361819,3.349128000000000000000000000000000000000000000000000000000000000000000000000004,3.381341999999999999999999999999999999999999999999999999999999999999999999999996,3.343206999999999999999999999999999999999999999999999999999999999999999999999987,3.328981999999999999999999999999999999999999999999999999999999999999999999999988,3.326485999999999999999999999999999999999999999999999999999999999999999999999999,3.289455000000000000000000000000000000000000000000000000000000000000000000000003,3.289042000000000000000000000000000000000000000000000000000000000000000000000014,3.288230999999999999999999999999999999999999999999999999999999999999999999999997,3.309412999999999999999999999999999999999999999999999999999999999999999999999987,3.310183999999999999999999999999999999999999999999999999999999999999999999999984,3.3119,3.317256000000000000000000000000000000000000000000000000000000000000000000000004,3.313088999999999999999999999999999999999999999999999999999999999999999999999983,3.315885999999999999999999999999999999999999999999999999999999999999999999999993,3.317744000000000000000000000000000000000000000000000000000000000000000000000002,3.33013900000000000000000000000000000000000000000000000000000000000000000000001,3.341003000000000000000000000000000000000000000000000000000000000000000000000008,3.336049999999999999999999999999999999999999999999999999999999999999999999999996,3.337366999999999999999999999999999999999999999999999999999999999999999999999998,3.337752000000000000000000000000000000000000000000000000000000000000000000000003,3.349540000000000000000000000000000000000000000000000000000000000000000000000007,3.358165999999999999999999999999999999999999999999999999999999999999999999999989,3.37601400000000000000000000000000000000000000000000000000000000000000000000001,3.370146999999999999999999999999999999999999999999999999999999999999999999999988,3.369638999999999999999999999999999999999999999999999999999999999999999999999997,3.372316000000000000000000000000000000000000000000000000000000000000000000000014,3.374748000000000000000000000000000000000000000000000000000000000000000000000011,3.384090000000000000000000000000000000000000000000000000000000000000000000000008,3.384961000000000000000000000000000000000000000000000000000000000000000000000005,3.391497000000000000000000000000000000000000000000000000000000000000000000000017,3.404054999999999999999999999999999999999999999999999999999999999999999999999997,3.412413999999999999999999999999999999999999999999999999999999999999999999999995,3.417655000000000000000000000000000000000000000000000000000000000000000000000005,3.418230000000000000000000000000000000000000000000000000000000000000000000000014,3.413147000000000000000000000000000000000000000000000000000000000000000000000012,3.407737000000000000000000000000000000000000000000000000000000000000000000000012,3.407052999999999999999999999999999999999999999999999999999999999999999999999992,3.407228000000000000000000000000000000000000000000000000000000000000000000000001,3.407437000000000000000000000000000000000000000000000000000000000000000000000012,3.416699000000000000000000000000000000000000000000000000000000000000000000000003,3.467501999999999999999999999999999999999999999999999999999999999999999999999988,3.490292000000000000000000000000000000000000000000000000000000000000000000000004,3.51391200000000000000000000000000000000000000000000000000000000000000000000001,3.536157000000000000000000000000000000000000000000000000000000000000000000000007,3.558822999999999999999999999999999999999999999999999999999999999999999999999983,3.589550999999999999999999999999999999999999999999999999999999999999999999999984,3.600767999999999999999999999999999999999999999999999999999999999999999999999991,3.638958000000000000000000000000000000000000000000000000000000000000000000000015,3.672984999999999999999999999999999999999999999999999999999999999999999999999997,3.702803999999999999999999999999999999999999999999999999999999999999999999999986,3.728577000000000000000000000000000000000000000000000000000000000000000000000003,3.750561,3.769096999999999999999999999999999999999999999999999999999999999999999999999984,3.784489000000000000000000000000000000000000000000000000000000000000000000000002,3.797079999999999999999999999999999999999999999999999999999999999999999999999998,3.807175999999999999999999999999999999999999999999999999999999999999999999999992,3.808668000000000000000000000000000000000000000000000000000000000000000000000002,3.815024000000000000000000000000000000000000000000000000000000000000000000000007,3.82066199999999999999999999999999999999999999999999999999999999999999999999999,3.820897999999999999999999999999999999999999999999999999999999999999999999999998,3.824954999999999999999999999999999999999999999999999999999999999999999999999988,3.826722000000000000000000000000000000000000000000000000000000000000000000000007,3.827403999999999999999999999999999999999999999999999999999999999999999999999986,3.828405000000000000000000000000000000000000000000000000000000000000000000000007,3.828368999999999999999999999999999999999999999999999999999999999999999999999999,3.827949999999999999999999999999999999999999999999999999999999999999999999999991,3.827600000000000000000000000000000000000000000000000000000000000000000000000008,3.826217000000000000000000000000000000000000000000000000000000000000000000000009,3.825880000000000000000000000000000000000000000000000000000000000000000000000014,3.824802000000000000000000000000000000000000000000000000000000000000000000000013,3.824656999999999999999999999999999999999999999999999999999999999999999999999994,3.823185999999999999999999999999999999999999999999999999999999999999999999999997,3.818937999999999999999999999999999999999999999999999999999999999999999999999984,3.813444999999999999999999999999999999999999999999999999999999999999999999999985,3.794465000000000000000000000000000000000000000000000000000000000000000000000002,3.789257999999999999999999999999999999999999999999999999999999999999999999999995,3.787742000000000000000000000000000000000000000000000000000000000000000000000013,3.781108999999999999999999999999999999999999999999999999999999999999999999999993,3.780310999999999999999999999999999999999999999999999999999999999999999999999999,3.768242999999999999999999999999999999999999999999999999999999999999999999999988,3.755883999999999999999999999999999999999999999999999999999999999999999999999988,3.753919999999999999999999999999999999999999999999999999999999999999999999999995,3.740260999999999999999999999999999999999999999999999999999999999999999999999994,3.735377000000000000000000000000000000000000000000000000000000000000000000000007,3.705425999999999999999999999999999999999999999999999999999999999999999999999987,3.702803999999999999999999999999999999999999999999999999999999999999999999999986,3.696734999999999999999999999999999999999999999999999999999999999999999999999993,3.653067999999999999999999999999999999999999999999999999999999999999999999999985,3.652735999999999999999999999999999999999999999999999999999999999999999999999989,3.636239000000000000000000000000000000000000000000000000000000000000000000000007,3.622083999999999999999999999999999999999999999999999999999999999999999999999983,3.616789999999999999999999999999999999999999999999999999999999999999999999999999,3.610955000000000000000000000000000000000000000000000000000000000000000000000008,3.610685999999999999999999999999999999999999999999999999999999999999999999999983,3.605325000000000000000000000000000000000000000000000000000000000000000000000015,3.604638000000000000000000000000000000000000000000000000000000000000000000000003,3.55403800000000000000000000000000000000000000000000000000000000000000000000001,3.526198000000000000000000000000000000000000000000000000000000000000000000000008,3.50002999999999999999999999999999999999999999999999999999999999999999999999999,3.444044999999999999999999999999999999999999999999999999999999999999999999999988,3.394756000000000000000000000000000000000000000000000000000000000000000000000012,3.386893999999999999999999999999999999999999999999999999999999999999999999999988,3.376048999999999999999999999999999999999999999999999999999999999999999999999997,3.363914999999999999999999999999999999999999999999999999999999999999999999999989,3.341376999999999999999999999999999999999999999999999999999999999999999999999996,3.329364999999999999999999999999999999999999999999999999999999999999999999999987,3.272190000000000000000000000000000000000000000000000000000000000000000000000016,3.215842000000000000000000000000000000000000000000000000000000000000000000000008,3.207437000000000000000000000000000000000000000000000000000000000000000000000005,3.199175000000000000000000000000000000000000000000000000000000000000000000000015,3.160501999999999999999999999999999999999999999999999999999999999999999999999991,3.121882999999999999999999999999999999999999999999999999999999999999999999999997,3.120409000000000000000000000000000000000000000000000000000000000000000000000008,3.105762000000000000000000000000000000000000000000000000000000000000000000000009,3.062519000000000000000000000000000000000000000000000000000000000000000000000007,3.052911999999999999999999999999999999999999999999999999999999999999999999999997,3.000239999999999999999999999999999999999999999999999999999999999999999999999986,2.964469000000000000000000000000000000000000000000000000000000000000000000000005,2.94962799999999999999999999999999999999999999999999999999999999999999999999999,2.940346000000000000000000000000000000000000000000000000000000000000000000000006,2.900086000000000000000000000000000000000000000000000000000000000000000000000005,2.886417999999999999999999999999999999999999999999999999999999999999999999999993,2.868478999999999999999999999999999999999999999999999999999999999999999999999983,2.865180999999999999999999999999999999999999999999999999999999999999999999999987,2.852815000000000000000000000000000000000000000000000000000000000000000000000017,2.808029999999999999999999999999999999999999999999999999999999999999999999999987,2.807646000000000000000000000000000000000000000000000000000000000000000000000002,2.773900000000000000000000000000000000000000000000000000000000000000000000000013,2.765773999999999999999999999999999999999999999999999999999999999999999999999997,2.760854999999999999999999999999999999999999999999999999999999999999999999999987,2.757163999999999999999999999999999999999999999999999999999999999999999999999996,2.726908000000000000000000000000000000000000000000000000000000000000000000000012,2.723994000000000000000000000000000000000000000000000000000000000000000000000002,2.690751999999999999999999999999999999999999999999999999999999999999999999999991,2.629451000000000000000000000000000000000000000000000000000000000000000000000006,2.581210999999999999999999999999999999999999999999999999999999999999999999999993,2.544735000000000000000000000000000000000000000000000000000000000000000000000013,2.518288999999999999999999999999999999999999999999999999999999999999999999999993,2.500283999999999999999999999999999999999999999999999999999999999999999999999985,2.489187999999999999999999999999999999999999999999999999999999999999999999999991,2.483987999999999999999999999999999999999999999999999999999999999999999999999988,2.483741999999999999999999999999999999999999999999999999999999999999999999999983,2.487941999999999999999999999999999999999999999999999999999999999999999999999986,2.49610400000000000000000000000000000000000000000000000000000000000000000000001,2.508249999999999999999999999999999999999999999999999999999999999999999999999987,2.522849999999999999999999999999999999999999999999999999999999999999999999999995,2.540640000000000000000000000000000000000000000000000000000000000000000000000009,2.559970000000000000000000000000000000000000000000000000000000000000000000000009,2.58135999999999999999999999999999999999999999999999999999999999999999999999999,2.603360000000000000000000000000000000000000000000000000000000000000000000000002,2.626270000000000000000000000000000000000000000000000000000000000000000000000011,2.649000000000000000000000000000000000000000000000000000000000000000000000000013,2.671750000000000000000000000000000000000000000000000000000000000000000000000009,2.693690000000000000000000000000000000000000000000000000000000000000000000000007,2.715069999999999999999999999999999999999999999999999999999999999999999999999991,2.735199999999999999999999999999999999999999999999999999999999999999999999999992,2.754429999999999999999999999999999999999999999999999999999999999999999999999992,2.772110000000000000000000000000000000000000000000000000000000000000000000000009,2.78868999999999999999999999999999999999999999999999999999999999999999999999999,2.803540000000000000000000000000000000000000000000000000000000000000000000000016,2.817160000000000000000000000000000000000000000000000000000000000000000000000016,2.828990000000000000000000000000000000000000000000000000000000000000000000000013,2.839520000000000000000000000000000000000000000000000000000000000000000000000008,2.848240000000000000000000000000000000000000000000000000000000000000000000000006,2.855630000000000000000000000000000000000000000000000000000000000000000000000013,2.861270000000000000000000000000000000000000000000000000000000000000000000000003,2.865580000000000000000000000000000000000000000000000000000000000000000000000002,2.868209999999999999999999999999999999999999999999999999999999999999999999999993,2.869570000000000000000000000000000000000000000000000000000000000000000000000007,2.869339999999999999999999999999999999999999999999999999999999999999999999999983,2.867919999999999999999999999999999999999999999999999999999999999999999999999989,2.865019999999999999999999999999999999999999999999999999999999999999999999999988,2.861040000000000000000000000000000000000000000000000000000000000000000000000013,2.855699999999999999999999999999999999999999999999999999999999999999999999999989,2.84956,2.842210000000000000000000000000000000000000000000000000000000000000000000000013,2.833690000000000000000000000000000000000000000000000000000000000000000000000015,2.82409000000000000000000000000000000000000000000000000000000000000000000000001,2.813439999999999999999999999999999999999999999999999999999999999999999999999987,2.802409999999999999999999999999999999999999999999999999999999999999999999999991,2.790489999999999999999999999999999999999999999999999999999999999999999999999991,2.777710000000000000000000000000000000000000000000000000000000000000000000000012,2.764129999999999999999999999999999999999999999999999999999999999999999999999997,2.749809999999999999999999999999999999999999999999999999999999999999999999999996,2.735319999999999999999999999999999999999999999999999999999999999999999999999985,2.720189999999999999999999999999999999999999999999999999999999999999999999999987,2.704469999999999999999999999999999999999999999999999999999999999999999999999985,2.6882,2.671450000000000000000000000000000000000000000000000000000000000000000000000008,2.654669999999999999999999999999999999999999999999999999999999999999999999999992,2.637480000000000000000000000000000000000000000000000000000000000000000000000014,2.61991999999999999999999999999999999999999999999999999999999999999999999999999,2.602009999999999999999999999999999999999999999999999999999999999999999999999984,2.583820000000000000000000000000000000000000000000000000000000000000000000000005,2.565870000000000000000000000000000000000000000000000000000000000000000000000012,2.547689999999999999999999999999999999999999999999999999999999999999999999999995,2.529300000000000000000000000000000000000000000000000000000000000000000000000016,2.510749999999999999999999999999999999999999999999999999999999999999999999999989,2.492040000000000000000000000000000000000000000000000000000000000000000000000016,2.473210000000000000000000000000000000000000000000000000000000000000000000000016,2.454280000000000000000000000000000000000000000000000000000000000000000000000016,2.435270000000000000000000000000000000000000000000000000000000000000000000000009,2.416340000000000000000000000000000000000000000000000000000000000000000000000009,2.397249999999999999999999999999999999999999999999999999999999999999999999999995,2.378819999999999999999999999999999999999999999999999999999999999999999999999995,2.360250000000000000000000000000000000000000000000000000000000000000000000000009,2.341700000000000000000000000000000000000000000000000000000000000000000000000016,2.323329999999999999999999999999999999999999999999999999999999999999999999999996,2.304870000000000000000000000000000000000000000000000000000000000000000000000006,2.286610000000000000000000000000000000000000000000000000000000000000000000000017,2.268280000000000000000000000000000000000000000000000000000000000000000000000017,2.250180000000000000000000000000000000000000000000000000000000000000000000000007,2.232030000000000000000000000000000000000000000000000000000000000000000000000014,2.21396999999999999999999999999999999999999999999999999999999999999999999999999,2.179170000000000000000000000000000000000000000000000000000000000000000000000006,2.144879999999999999999999999999999999999999999999999999999999999999999999999983,2.11115000000000000000000000000000000000000000000000000000000000000000000000001,2.078039999999999999999999999999999999999999999999999999999999999999999999999995,2.045560000000000000000000000000000000000000000000000000000000000000000000000004,2.014210000000000000000000000000000000000000000000000000000000000000000000000004,1.983700000000000000000000000000000000000000000000000000000000000000000000000008,1.953910000000000000000000000000000000000000000000000000000000000000000000000006,1.92483,1.896310000000000000000000000000000000000000000000000000000000000000000000000008,1.869159999999999999999999999999999999999999999999999999999999999999999999999993,1.842730000000000000000000000000000000000000000000000000000000000000000000000006,1.817029999999999999999999999999999999999999999999999999999999999999999999999992,1.791879999999999999999999999999999999999999999999999999999999999999999999999996,1.767610000000000000000000000000000000000000000000000000000000000000000000000006,1.744420000000000000000000000000000000000000000000000000000000000000000000000007,1.721909999999999999999999999999999999999999999999999999999999999999999999999998,1.69992,1.678759999999999999999999999999999999999999999999999999999999999999999999999992,1.658259999999999999999999999999999999999999999999999999999999999999999999999998,1.638689999999999999999999999999999999999999999999999999999999999999999999999994,1.61959,1.601260000000000000000000000000000000000000000000000000000000000000000000000001,1.583520000000000000000000000000000000000000000000000000000000000000000000000005,1.566209999999999999999999999999999999999999999999999999999999999999999999999999,1.549870000000000000000000000000000000000000000000000000000000000000000000000003,1.534069999999999999999999999999999999999999999999999999999999999999999999999995,1.518649999999999999999999999999999999999999999999999999999999999999999999999993,1.503909999999999999999999999999999999999999999999999999999999999999999999999999,1.489670000000000000000000000000000000000000000000000000000000000000000000000005,1.476050000000000000000000000000000000000000000000000000000000000000000000000004,1.463059999999999999999999999999999999999999999999999999999999999999999999999993,1.450529999999999999999999999999999999999999999999999999999999999999999999999997,1.4383,1.426660000000000000000000000000000000000000000000000000000000000000000000000008,1.415429999999999999999999999999999999999999999999999999999999999999999999999995,1.404469999999999999999999999999999999999999999999999999999999999999999999999992,1.394049999999999999999999999999999999999999999999999999999999999999999999999993,1.384010000000000000000000000000000000000000000000000000000000000000000000000002,1.374209999999999999999999999999999999999999999999999999999999999999999999999996,1.365189999999999999999999999999999999999999999999999999999999999999999999999998,1.356529999999999999999999999999999999999999999999999999999999999999999999999997,1.348069999999999999999999999999999999999999999999999999999999999999999999999995,1.340090000000000000000000000000000000000000000000000000000000000000000000000001,1.332280000000000000000000000000000000000000000000000000000000000000000000000001,1.324939999999999999999999999999999999999999999999999999999999999999999999999993,1.317890000000000000000000000000000000000000000000000000000000000000000000000006,1.311009999999999999999999999999999999999999999999999999999999999999999999999996,1.304559999999999999999999999999999999999999999999999999999999999999999999999992,1.298389999999999999999999999999999999999999999999999999999999999999999999999996],\\\"type\\\":\\\"scatter\\\",\\\"name\\\":\\\"1\\\",\\\"x\\\":[9.99999999999999999999999999999999999999999999999999999999999999999999999999994e-06,1.534688999999999999999999999999999999999999999999999999999999999999999999999995e-05,1.901214e-05,2.355273999999999999999999999999999999999999999999999999999999999999999999999992e-05,2.917770999999999999999999999999999999999999999999999999999999999999999999999991e-05,3.614613000000000000000000000000000000000000000000000000000000000000000000000015e-05,4.477878999999999999999999999999999999999999999999999999999999999999999999999996e-05,5.547305000000000000000000000000000000000000000000000000000000000000000000000014e-05,6.872150000000000000000000000000000000000000000000000000000000000000000000000036e-05,8.513402999999999999999999999999999999999999999999999999999999999999999999999962e-05,0.0001054663000000000000000000000000000000000000000000000000000000000000000000000004,0.0001306541999999999999999999999999999999999999999999999999999999999999999999999993,0.0001618579999999999999999999999999999999999999999999999999999999999999999999999998,0.0002005136000000000000000000000000000000000000000000000000000000000000000000000008,0.0002484015999999999999999999999999999999999999999999999999999999999999999999999988,0.0003077264999999999999999999999999999999999999999999999999999999999999999999999982,0.0003812197999999999999999999999999999999999999999999999999999999999999999999999998,0.0004722643999999999999999999999999999999999999999999999999999999999999999999999981,0.000585053800000000000000000000000000000000000000000000000000000000000000000000001,0.0007247803000000000000000000000000000000000000000000000000000000000000000000000031,0.0008978753999999999999999999999999999999999999999999999999999999999999999999999965,0.001112312000000000000000000000000000000000000000000000000000000000000000000000001,0.001377962000000000000000000000000000000000000000000000000000000000000000000000007,0.001707053000000000000000000000000000000000000000000000000000000000000000000000004,0.002114741999999999999999999999999999999999999999999999999999999999999999999999983,0.002619793999999999999999999999999999999999999999999999999999999999999999999999994,0.003245470999999999999999999999999999999999999999999999999999999999999999999999997,0.00402057699999999999999999999999999999999999999999999999999999999999999999999999,0.00498079699999999999999999999999999999999999999999999999999999999999999999999999,0.006170345000000000000000000000000000000000000000000000000000000000000000000000017,0.007643973999999999999999999999999999999999999999999999999999999999999999999999972,0.009469558999999999999999999999999999999999999999999999999999999999999999999999939,0.01173111999999999999999999999999999999999999999999999999999999999999999999999995,0.01453283000000000000000000000000000000000000000000000000000000000000000000000004,0.01800364999999999999999999999999999999999999999999999999999999999999999999999998,0.0223034100000000000000000000000000000000000000000000000000000000000000000000001,0.02529999999999999999999999999999999999999999999999999999999999999999999999999995,0.03422878000000000000000000000000000000000000000000000000000000000000000000000023,0.04240345000000000000000000000000000000000000000000000000000000000000000000000016,0.05253053000000000000000000000000000000000000000000000000000000000000000000000013,0.06507622000000000000000000000000000000000000000000000000000000000000000000000004,0.08061816999999999999999999999999999999999999999999999999999999999999999999999979,0.0998719300000000000000000000000000000000000000000000000000000000000000000000001,0.1237237999999999999999999999999999999999999999999999999999999999999999999999999,0.1532722000000000000000000000000000000000000000000000000000000000000000000000004,0.1898777000000000000000000000000000000000000000000000000000000000000000000000011,0.2352252999999999999999999999999999999999999999999999999999999999999999999999992,0.291403099999999999999999999999999999999999999999999999999999999999999999999998,0.360997999999999999999999999999999999999999999999999999999999999999999999999999,0.4472134999999999999999999999999999999999999999999999999999999999999999999999998,0.5540195000000000000000000000000000000000000000000000000000000000000000000000041,0.6863334999999999999999999999999999999999999999999999999999999999999999999999999,0.8502474999999999999999999999999999999999999999999999999999999999999999999999958,1.0,1.304868,1.616503000000000000000000000000000000000000000000000000000000000000000000000005,2.002565999999999999999999999999999999999999999999999999999999999999999999999999,2.480831999999999999999999999999999999999999999999999999999999999999999999999985,3.073317999999999999999999999999999999999999999999999999999999999999999999999993,3.807307999999999999999999999999999999999999999999999999999999999999999999999987,4.716590999999999999999999999999999999999999999999999999999999999999999999999971,5.843032999999999999999999999999999999999999999999999999999999999999999999999999,7.238505000000000000000000000000000000000000000000000000000000000000000000000026,10.0,11.10885000000000000000000000000000000000000000000000000000000000000000000000004,13.76194000000000000000000000000000000000000000000000000000000000000000000000003,17.04865000000000000000000000000000000000000000000000000000000000000000000000008,21.12031999999999999999999999999999999999999999999999999999999999999999999999996,26.16438999999999999999999999999999999999999999999999999999999999999999999999996,32.41310999999999999999999999999999999999999999999999999999999999999999999999984,40.15419000000000000000000000000000000000000000000000000000000000000000000000016,49.74413999999999999999999999999999999999999999999999999999999999999999999999981,61.62430999999999999999999999999999999999999999999999999999999999999999999999996,76.34177000000000000000000000000000000000000000000000000000000000000000000000013,100.0,117.1609999999999999999999999999999999999999999999999999999999999999999999999997,145.1418000000000000000000000000000000000000000000000000000000000000000000000008,200.0,222.7480000000000000000000000000000000000000000000000000000000000000000000000007,300.0,341.8487999999999999999999999999999999999999999999999999999999999999999999999991,423.4914000000000000000000000000000000000000000000000000000000000000000000000019,524.6315000000000000000000000000000000000000000000000000000000000000000000000016,600.0,890.0,1000.0,1235.651000000000000000000000000000000000000000000000000000000000000000000000007,1530.757000000000000000000000000000000000000000000000000000000000000000000000003,2000.0,2349.235999999999999999999999999999999999999999999999999999999999999999999999994,3000.0,3605.353000000000000000000000000000000000000000000000000000000000000000000000005,4466.398000000000000000000000000000000000000000000000000000000000000000000000015,6000.0,6854.530999999999999999999999999999999999999999999999999999999999999999999999968,8491.576000000000000000000000000000000000000000000000000000000000000000000000014,10000.0,13031.95000000000000000000000000000000000000000000000000000000000000000000000003,14000.0,14000.0,20000.0,30000.0,40000.0,50000.0,60000.0,70000.0,80000.0,90000.0,100000.0,150000.0,200000.0,250000.0,300000.0,350000.0,400000.0,450000.0,500000.0,550000.0,600000.0,650000.0,700000.0,750000.0,800000.0,850000.0,881924.0,900000.0,950000.0,1.0e+06,1.05448e+06,1.1e+06,1.2e+06,1.23307e+06,1.3e+06,1.39745e+06,1.4e+06,1.5e+06,1.54242e+06,1.58279e+06,1.6e+06,1.7e+06,1.73225e+06,1.7737e+06,1.79633e+06,1.8e+06,1.85397e+06,1.89178e+06,1.89899e+06,1.9e+06,1.90568e+06,1.90867e+06,1.91146e+06,2.0e+06,2.1e+06,2.18422e+06,2.18783e+06,2.2e+06,2.3e+06,2.34018e+06,2.4e+06,2.48665e+06,2.5e+06,2.57149e+06,2.599e+06,2.6e+06,2.7e+06,2.8e+06,2.84672e+06,2.9e+06,2.92895e+06,2.98738e+06,3.0e+06,3.09037e+06,3.1e+06,3.10283e+06,3.15182e+06,3.17515e+06,3.2e+06,3.22648e+06,3.24028e+06,3.28877e+06,3.3e+06,3.34228e+06,3.34462e+06,3.36191e+06,3.3829e+06,3.39325e+06,3.39934e+06,3.4e+06,3.42027e+06,3.46564e+06,3.47238e+06,3.47745e+06,3.48151e+06,3.5e+06,3.6e+06,3.7e+06,3.8e+06,3.9e+06,4.0e+06,4.14659e+06,4.2e+06,4.4e+06,4.6e+06,4.8e+06,5.0e+06,5.2e+06,5.4e+06,5.6e+06,5.8e+06,6.0e+06,6.03194e+06,6.2e+06,6.38932e+06,6.4e+06,6.6e+06,6.71261e+06,6.8e+06,6.97181e+06,7.0e+06,7.2e+06,7.27403e+06,7.4e+06,7.43274e+06,7.51232e+06,7.52162e+06,7.6e+06,7.8e+06,8.0e+06,8.5e+06,8.61453e+06,8.64598e+06,8.77543e+06,8.79038e+06,9.0e+06,9.20142e+06,9.23176e+06,9.43199e+06,9.5e+06,9.8938e+06,9.92611e+06,1.0e+07,1.05e+07,1.05037e+07,1.06813e+07,1.08293e+07,1.08837e+07,1.09431e+07,1.09458e+07,1.1e+07,1.1007e+07,1.15e+07,1.16989e+07,1.2e+07,1.25e+07,1.29316e+07,1.3e+07,1.30944e+07,1.31998e+07,1.33955e+07,1.35e+07,1.4e+07,1.45e+07,1.4575e+07,1.4649e+07,1.5e+07,1.5351e+07,1.53646e+07,1.55e+07,1.59077e+07,1.6e+07,1.65e+07,1.68512e+07,1.7e+07,1.70921e+07,1.75e+07,1.76421e+07,1.78316e+07,1.78668e+07,1.8e+07,1.85e+07,1.85044e+07,1.89014e+07,1.9e+07,1.90615e+07,1.91079e+07,1.95e+07,1.9539e+07,2.0e+07,2.1e+07,2.2e+07,2.3e+07,2.4e+07,2.5e+07,2.6e+07,2.7e+07,2.8e+07,2.9e+07,3.0e+07,3.1e+07,3.2e+07,3.3e+07,3.4e+07,3.5e+07,3.6e+07,3.7e+07,3.8e+07,3.9e+07,4.0e+07,4.1e+07,4.2e+07,4.3e+07,4.4e+07,4.5e+07,4.6e+07,4.7e+07,4.8e+07,4.9e+07,5.0e+07,5.1e+07,5.2e+07,5.3e+07,5.4e+07,5.5e+07,5.6e+07,5.7e+07,5.8e+07,5.9e+07,6.0e+07,6.1e+07,6.2e+07,6.3e+07,6.4e+07,6.5e+07,6.6e+07,6.7e+07,6.8e+07,6.9e+07,7.0e+07,7.1e+07,7.2e+07,7.3e+07,7.4e+07,7.5e+07,7.6e+07,7.7e+07,7.8e+07,7.9e+07,8.0e+07,8.1e+07,8.2e+07,8.3e+07,8.4e+07,8.5e+07,8.6e+07,8.7e+07,8.8e+07,8.9e+07,9.0e+07,9.1e+07,9.2e+07,9.3e+07,9.4e+07,9.5e+07,9.6e+07,9.7e+07,9.8e+07,9.9e+07,1.0e+08,1.02e+08,1.04e+08,1.06e+08,1.08e+08,1.1e+08,1.12e+08,1.14e+08,1.16e+08,1.18e+08,1.2e+08,1.22e+08,1.24e+08,1.26e+08,1.28e+08,1.3e+08,1.32e+08,1.34e+08,1.36e+08,1.38e+08,1.4e+08,1.42e+08,1.44e+08,1.46e+08,1.48e+08,1.5e+08,1.52e+08,1.54e+08,1.56e+08,1.58e+08,1.6e+08,1.62e+08,1.64e+08,1.66e+08,1.68e+08,1.7e+08,1.72e+08,1.74e+08,1.76e+08,1.78e+08,1.8e+08,1.82e+08,1.84e+08,1.86e+08,1.88e+08,1.9e+08,1.92e+08,1.94e+08,1.96e+08,1.98e+08,2.0e+08]}],{\\\"template\\\":{\\\"layout\\\":{\\\"coloraxis\\\":{\\\"colorbar\\\":{\\\"ticks\\\":\\\"\\\",\\\"outlinewidth\\\":0}},\\\"xaxis\\\":{\\\"gridcolor\\\":\\\"white\\\",\\\"zerolinewidth\\\":2,\\\"title\\\":{\\\"standoff\\\":15},\\\"ticks\\\":\\\"\\\",\\\"zerolinecolor\\\":\\\"white\\\",\\\"automargin\\\":true,\\\"linecolor\\\":\\\"white\\\"},\\\"hovermode\\\":\\\"closest\\\",\\\"paper_bgcolor\\\":\\\"white\\\",\\\"geo\\\":{\\\"showlakes\\\":true,\\\"showland\\\":true,\\\"landcolor\\\":\\\"#E5ECF6\\\",\\\"bgcolor\\\":\\\"white\\\",\\\"subunitcolor\\\":\\\"white\\\",\\\"lakecolor\\\":\\\"white\\\"},\\\"colorscale\\\":{\\\"sequential\\\":[[0.0,\\\"#0d0887\\\"],[0.1111111111111111,\\\"#46039f\\\"],[0.2222222222222222,\\\"#7201a8\\\"],[0.3333333333333333,\\\"#9c179e\\\"],[0.4444444444444444,\\\"#bd3786\\\"],[0.5555555555555556,\\\"#d8576b\\\"],[0.6666666666666666,\\\"#ed7953\\\"],[0.7777777777777778,\\\"#fb9f3a\\\"],[0.8888888888888888,\\\"#fdca26\\\"],[1.0,\\\"#f0f921\\\"]],\\\"diverging\\\":[[0,\\\"#8e0152\\\"],[0.1,\\\"#c51b7d\\\"],[0.2,\\\"#de77ae\\\"],[0.3,\\\"#f1b6da\\\"],[0.4,\\\"#fde0ef\\\"],[0.5,\\\"#f7f7f7\\\"],[0.6,\\\"#e6f5d0\\\"],[0.7,\\\"#b8e186\\\"],[0.8,\\\"#7fbc41\\\"],[0.9,\\\"#4d9221\\\"],[1,\\\"#276419\\\"]],\\\"sequentialminus\\\":[[0.0,\\\"#0d0887\\\"],[0.1111111111111111,\\\"#46039f\\\"],[0.2222222222222222,\\\"#7201a8\\\"],[0.3333333333333333,\\\"#9c179e\\\"],[0.4444444444444444,\\\"#bd3786\\\"],[0.5555555555555556,\\\"#d8576b\\\"],[0.6666666666666666,\\\"#ed7953\\\"],[0.7777777777777778,\\\"#fb9f3a\\\"],[0.8888888888888888,\\\"#fdca26\\\"],[1.0,\\\"#f0f921\\\"]]},\\\"yaxis\\\":{\\\"gridcolor\\\":\\\"white\\\",\\\"zerolinewidth\\\":2,\\\"title\\\":{\\\"standoff\\\":15},\\\"ticks\\\":\\\"\\\",\\\"zerolinecolor\\\":\\\"white\\\",\\\"automargin\\\":true,\\\"linecolor\\\":\\\"white\\\"},\\\"shapedefaults\\\":{\\\"line\\\":{\\\"color\\\":\\\"#2a3f5f\\\"}},\\\"hoverlabel\\\":{\\\"align\\\":\\\"left\\\"},\\\"mapbox\\\":{\\\"style\\\":\\\"light\\\"},\\\"polar\\\":{\\\"angularaxis\\\":{\\\"gridcolor\\\":\\\"white\\\",\\\"ticks\\\":\\\"\\\",\\\"linecolor\\\":\\\"white\\\"},\\\"bgcolor\\\":\\\"#E5ECF6\\\",\\\"radialaxis\\\":{\\\"gridcolor\\\":\\\"white\\\",\\\"ticks\\\":\\\"\\\",\\\"linecolor\\\":\\\"white\\\"}},\\\"autotypenumbers\\\":\\\"strict\\\",\\\"font\\\":{\\\"color\\\":\\\"#2a3f5f\\\"},\\\"ternary\\\":{\\\"baxis\\\":{\\\"gridcolor\\\":\\\"white\\\",\\\"ticks\\\":\\\"\\\",\\\"linecolor\\\":\\\"white\\\"},\\\"bgcolor\\\":\\\"#E5ECF6\\\",\\\"caxis\\\":{\\\"gridcolor\\\":\\\"white\\\",\\\"ticks\\\":\\\"\\\",\\\"linecolor\\\":\\\"white\\\"},\\\"aaxis\\\":{\\\"gridcolor\\\":\\\"white\\\",\\\"ticks\\\":\\\"\\\",\\\"linecolor\\\":\\\"white\\\"}},\\\"annotationdefaults\\\":{\\\"arrowhead\\\":0,\\\"arrowwidth\\\":1,\\\"arrowcolor\\\":\\\"#2a3f5f\\\"},\\\"plot_bgcolor\\\":\\\"#E5ECF6\\\",\\\"title\\\":{\\\"x\\\":0.05},\\\"scene\\\":{\\\"xaxis\\\":{\\\"gridcolor\\\":\\\"white\\\",\\\"gridwidth\\\":2,\\\"backgroundcolor\\\":\\\"#E5ECF6\\\",\\\"ticks\\\":\\\"\\\",\\\"showbackground\\\":true,\\\"zerolinecolor\\\":\\\"white\\\",\\\"linecolor\\\":\\\"white\\\"},\\\"zaxis\\\":{\\\"gridcolor\\\":\\\"white\\\",\\\"gridwidth\\\":2,\\\"backgroundcolor\\\":\\\"#E5ECF6\\\",\\\"ticks\\\":\\\"\\\",\\\"showbackground\\\":true,\\\"zerolinecolor\\\":\\\"white\\\",\\\"linecolor\\\":\\\"white\\\"},\\\"yaxis\\\":{\\\"gridcolor\\\":\\\"white\\\",\\\"gridwidth\\\":2,\\\"backgroundcolor\\\":\\\"#E5ECF6\\\",\\\"ticks\\\":\\\"\\\",\\\"showbackground\\\":true,\\\"zerolinecolor\\\":\\\"white\\\",\\\"linecolor\\\":\\\"white\\\"}},\\\"colorway\\\":[\\\"#636efa\\\",\\\"#EF553B\\\",\\\"#00cc96\\\",\\\"#ab63fa\\\",\\\"#FFA15A\\\",\\\"#19d3f3\\\",\\\"#FF6692\\\",\\\"#B6E880\\\",\\\"#FF97FF\\\",\\\"#FECB52\\\"]},\\\"data\\\":{\\\"barpolar\\\":[{\\\"type\\\":\\\"barpolar\\\",\\\"marker\\\":{\\\"line\\\":{\\\"color\\\":\\\"#E5ECF6\\\",\\\"width\\\":0.5}}}],\\\"carpet\\\":[{\\\"aaxis\\\":{\\\"gridcolor\\\":\\\"white\\\",\\\"endlinecolor\\\":\\\"#2a3f5f\\\",\\\"minorgridcolor\\\":\\\"white\\\",\\\"startlinecolor\\\":\\\"#2a3f5f\\\",\\\"linecolor\\\":\\\"white\\\"},\\\"type\\\":\\\"carpet\\\",\\\"baxis\\\":{\\\"gridcolor\\\":\\\"white\\\",\\\"endlinecolor\\\":\\\"#2a3f5f\\\",\\\"minorgridcolor\\\":\\\"white\\\",\\\"startlinecolor\\\":\\\"#2a3f5f\\\",\\\"linecolor\\\":\\\"white\\\"}}],\\\"scatterpolar\\\":[{\\\"type\\\":\\\"scatterpolar\\\",\\\"marker\\\":{\\\"colorbar\\\":{\\\"ticks\\\":\\\"\\\",\\\"outlinewidth\\\":0}}}],\\\"parcoords\\\":[{\\\"line\\\":{\\\"colorbar\\\":{\\\"ticks\\\":\\\"\\\",\\\"outlinewidth\\\":0}},\\\"type\\\":\\\"parcoords\\\"}],\\\"scatter\\\":[{\\\"type\\\":\\\"scatter\\\",\\\"marker\\\":{\\\"colorbar\\\":{\\\"ticks\\\":\\\"\\\",\\\"outlinewidth\\\":0}}}],\\\"histogram2dcontour\\\":[{\\\"colorbar\\\":{\\\"ticks\\\":\\\"\\\",\\\"outlinewidth\\\":0},\\\"type\\\":\\\"histogram2dcontour\\\",\\\"colorscale\\\":[[0.0,\\\"#0d0887\\\"],[0.1111111111111111,\\\"#46039f\\\"],[0.2222222222222222,\\\"#7201a8\\\"],[0.3333333333333333,\\\"#9c179e\\\"],[0.4444444444444444,\\\"#bd3786\\\"],[0.5555555555555556,\\\"#d8576b\\\"],[0.6666666666666666,\\\"#ed7953\\\"],[0.7777777777777778,\\\"#fb9f3a\\\"],[0.8888888888888888,\\\"#fdca26\\\"],[1.0,\\\"#f0f921\\\"]]}],\\\"contour\\\":[{\\\"colorbar\\\":{\\\"ticks\\\":\\\"\\\",\\\"outlinewidth\\\":0},\\\"type\\\":\\\"contour\\\",\\\"colorscale\\\":[[0.0,\\\"#0d0887\\\"],[0.1111111111111111,\\\"#46039f\\\"],[0.2222222222222222,\\\"#7201a8\\\"],[0.3333333333333333,\\\"#9c179e\\\"],[0.4444444444444444,\\\"#bd3786\\\"],[0.5555555555555556,\\\"#d8576b\\\"],[0.6666666666666666,\\\"#ed7953\\\"],[0.7777777777777778,\\\"#fb9f3a\\\"],[0.8888888888888888,\\\"#fdca26\\\"],[1.0,\\\"#f0f921\\\"]]}],\\\"scattercarpet\\\":[{\\\"type\\\":\\\"scattercarpet\\\",\\\"marker\\\":{\\\"colorbar\\\":{\\\"ticks\\\":\\\"\\\",\\\"outlinewidth\\\":0}}}],\\\"mesh3d\\\":[{\\\"colorbar\\\":{\\\"ticks\\\":\\\"\\\",\\\"outlinewidth\\\":0},\\\"type\\\":\\\"mesh3d\\\"}],\\\"surface\\\":[{\\\"colorbar\\\":{\\\"ticks\\\":\\\"\\\",\\\"outlinewidth\\\":0},\\\"type\\\":\\\"surface\\\",\\\"colorscale\\\":[[0.0,\\\"#0d0887\\\"],[0.1111111111111111,\\\"#46039f\\\"],[0.2222222222222222,\\\"#7201a8\\\"],[0.3333333333333333,\\\"#9c179e\\\"],[0.4444444444444444,\\\"#bd3786\\\"],[0.5555555555555556,\\\"#d8576b\\\"],[0.6666666666666666,\\\"#ed7953\\\"],[0.7777777777777778,\\\"#fb9f3a\\\"],[0.8888888888888888,\\\"#fdca26\\\"],[1.0,\\\"#f0f921\\\"]]}],\\\"scattermapbox\\\":[{\\\"type\\\":\\\"scattermapbox\\\",\\\"marker\\\":{\\\"colorbar\\\":{\\\"ticks\\\":\\\"\\\",\\\"outlinewidth\\\":0}}}],\\\"scattergeo\\\":[{\\\"type\\\":\\\"scattergeo\\\",\\\"marker\\\":{\\\"colorbar\\\":{\\\"ticks\\\":\\\"\\\",\\\"outlinewidth\\\":0}}}],\\\"histogram\\\":[{\\\"type\\\":\\\"histogram\\\",\\\"marker\\\":{\\\"colorbar\\\":{\\\"ticks\\\":\\\"\\\",\\\"outlinewidth\\\":0}}}],\\\"pie\\\":[{\\\"type\\\":\\\"pie\\\",\\\"automargin\\\":true}],\\\"choropleth\\\":[{\\\"colorbar\\\":{\\\"ticks\\\":\\\"\\\",\\\"outlinewidth\\\":0},\\\"type\\\":\\\"choropleth\\\"}],\\\"heatmapgl\\\":[{\\\"colorbar\\\":{\\\"ticks\\\":\\\"\\\",\\\"outlinewidth\\\":0},\\\"type\\\":\\\"heatmapgl\\\",\\\"colorscale\\\":[[0.0,\\\"#0d0887\\\"],[0.1111111111111111,\\\"#46039f\\\"],[0.2222222222222222,\\\"#7201a8\\\"],[0.3333333333333333,\\\"#9c179e\\\"],[0.4444444444444444,\\\"#bd3786\\\"],[0.5555555555555556,\\\"#d8576b\\\"],[0.6666666666666666,\\\"#ed7953\\\"],[0.7777777777777778,\\\"#fb9f3a\\\"],[0.8888888888888888,\\\"#fdca26\\\"],[1.0,\\\"#f0f921\\\"]]}],\\\"bar\\\":[{\\\"type\\\":\\\"bar\\\",\\\"error_y\\\":{\\\"color\\\":\\\"#2a3f5f\\\"},\\\"error_x\\\":{\\\"color\\\":\\\"#2a3f5f\\\"},\\\"marker\\\":{\\\"line\\\":{\\\"color\\\":\\\"#E5ECF6\\\",\\\"width\\\":0.5}}}],\\\"heatmap\\\":[{\\\"colorbar\\\":{\\\"ticks\\\":\\\"\\\",\\\"outlinewidth\\\":0},\\\"type\\\":\\\"heatmap\\\",\\\"colorscale\\\":[[0.0,\\\"#0d0887\\\"],[0.1111111111111111,\\\"#46039f\\\"],[0.2222222222222222,\\\"#7201a8\\\"],[0.3333333333333333,\\\"#9c179e\\\"],[0.4444444444444444,\\\"#bd3786\\\"],[0.5555555555555556,\\\"#d8576b\\\"],[0.6666666666666666,\\\"#ed7953\\\"],[0.7777777777777778,\\\"#fb9f3a\\\"],[0.8888888888888888,\\\"#fdca26\\\"],[1.0,\\\"#f0f921\\\"]]}],\\\"contourcarpet\\\":[{\\\"colorbar\\\":{\\\"ticks\\\":\\\"\\\",\\\"outlinewidth\\\":0},\\\"type\\\":\\\"contourcarpet\\\"}],\\\"table\\\":[{\\\"type\\\":\\\"table\\\",\\\"header\\\":{\\\"line\\\":{\\\"color\\\":\\\"white\\\"},\\\"fill\\\":{\\\"color\\\":\\\"#C8D4E3\\\"}},\\\"cells\\\":{\\\"line\\\":{\\\"color\\\":\\\"white\\\"},\\\"fill\\\":{\\\"color\\\":\\\"#EBF0F8\\\"}}}],\\\"scatter3d\\\":[{\\\"line\\\":{\\\"colorbar\\\":{\\\"ticks\\\":\\\"\\\",\\\"outlinewidth\\\":0}},\\\"type\\\":\\\"scatter3d\\\",\\\"marker\\\":{\\\"colorbar\\\":{\\\"ticks\\\":\\\"\\\",\\\"outlinewidth\\\":0}}}],\\\"scattergl\\\":[{\\\"type\\\":\\\"scattergl\\\",\\\"marker\\\":{\\\"colorbar\\\":{\\\"ticks\\\":\\\"\\\",\\\"outlinewidth\\\":0}}}],\\\"histogram2d\\\":[{\\\"colorbar\\\":{\\\"ticks\\\":\\\"\\\",\\\"outlinewidth\\\":0},\\\"type\\\":\\\"histogram2d\\\",\\\"colorscale\\\":[[0.0,\\\"#0d0887\\\"],[0.1111111111111111,\\\"#46039f\\\"],[0.2222222222222222,\\\"#7201a8\\\"],[0.3333333333333333,\\\"#9c179e\\\"],[0.4444444444444444,\\\"#bd3786\\\"],[0.5555555555555556,\\\"#d8576b\\\"],[0.6666666666666666,\\\"#ed7953\\\"],[0.7777777777777778,\\\"#fb9f3a\\\"],[0.8888888888888888,\\\"#fdca26\\\"],[1.0,\\\"#f0f921\\\"]]}],\\\"scatterternary\\\":[{\\\"type\\\":\\\"scatterternary\\\",\\\"marker\\\":{\\\"colorbar\\\":{\\\"ticks\\\":\\\"\\\",\\\"outlinewidth\\\":0}}}],\\\"scatterpolargl\\\":[{\\\"type\\\":\\\"scatterpolargl\\\",\\\"marker\\\":{\\\"colorbar\\\":{\\\"ticks\\\":\\\"\\\",\\\"outlinewidth\\\":0}}}]}},\\\"margin\\\":{\\\"l\\\":50,\\\"b\\\":50,\\\"r\\\":50,\\\"t\\\":60}},{\\\"showLink\\\":false,\\\"editable\\\":false,\\\"responsive\\\":true,\\\"staticPlot\\\":false,\\\"scrollZoom\\\":true}); gd.on(\\\"plotly_hover\\\",(function (data){var filtered_data=WebIO.PlotlyCommands.filterEventData(gd,data,\\\"hover\\\"); return !(filtered_data.isnil) ? (WebIO.setval({\\\"name\\\":\\\"hover\\\",\\\"scope\\\":\\\"5118994432612838678\\\",\\\"id\\\":\\\"7241875369356962027\\\",\\\"type\\\":\\\"observable\\\"},filtered_data.out)) : undefined})); gd.on(\\\"plotly_unhover\\\",(function (){return WebIO.setval({\\\"name\\\":\\\"hover\\\",\\\"scope\\\":\\\"5118994432612838678\\\",\\\"id\\\":\\\"7241875369356962027\\\",\\\"type\\\":\\\"observable\\\"},{})})); gd.on(\\\"plotly_selected\\\",(function (data){var filtered_data=WebIO.PlotlyCommands.filterEventData(gd,data,\\\"selected\\\"); return !(filtered_data.isnil) ? (WebIO.setval({\\\"name\\\":\\\"selected\\\",\\\"scope\\\":\\\"5118994432612838678\\\",\\\"id\\\":\\\"18021064254519019060\\\",\\\"type\\\":\\\"observable\\\"},filtered_data.out)) : undefined})); gd.on(\\\"plotly_deselect\\\",(function (){return WebIO.setval({\\\"name\\\":\\\"selected\\\",\\\"scope\\\":\\\"5118994432612838678\\\",\\\"id\\\":\\\"18021064254519019060\\\",\\\"type\\\":\\\"observable\\\"},{})})); gd.on(\\\"plotly_relayout\\\",(function (data){var filtered_data=WebIO.PlotlyCommands.filterEventData(gd,data,\\\"relayout\\\"); return !(filtered_data.isnil) ? (WebIO.setval({\\\"name\\\":\\\"relayout\\\",\\\"scope\\\":\\\"5118994432612838678\\\",\\\"id\\\":\\\"13776104282966853756\\\",\\\"type\\\":\\\"observable\\\"},filtered_data.out)) : undefined})); return gd.on(\\\"plotly_click\\\",(function (data){var filtered_data=WebIO.PlotlyCommands.filterEventData(gd,data,\\\"click\\\"); return !(filtered_data.isnil) ? (WebIO.setval({\\\"name\\\":\\\"click\\\",\\\"scope\\\":\\\"5118994432612838678\\\",\\\"id\\\":\\\"11236225861064021765\\\",\\\"type\\\":\\\"observable\\\"},filtered_data.out)) : undefined}))}));\\n    (WebIO.importBlock({\\\"data\\\":[{\\\"name\\\":\\\"Plotly\\\",\\\"type\\\":\\\"js\\\",\\\"url\\\":\\\"\\/assetserver\\/974bc88f8fa21ff4c3cbd84b6afff90488058aa7-plotly.min.js\\\"},{\\\"name\\\":null,\\\"type\\\":\\\"js\\\",\\\"url\\\":\\\"\\/assetserver\\/64d87b978f97348bc0d43ca0daa59975ea5d4c91-plotly_webio.bundle.js\\\"}],\\\"type\\\":\\\"async_block\\\"})).then((imports) => handler.apply(this, imports));\\n}\\n\"],\"observables\":{\"_toImage\":{\"sync\":false,\"id\":\"4952249893716588432\",\"value\":{}},\"hover\":{\"sync\":false,\"id\":\"7241875369356962027\",\"value\":{}},\"selected\":{\"sync\":false,\"id\":\"18021064254519019060\",\"value\":{}},\"__gd_contents\":{\"sync\":false,\"id\":\"2430811039876881710\",\"value\":{}},\"click\":{\"sync\":false,\"id\":\"11236225861064021765\",\"value\":{}},\"image\":{\"sync\":true,\"id\":\"564414027514990591\",\"value\":\"\"},\"__get_gd_contents\":{\"sync\":false,\"id\":\"13011511030594007366\",\"value\":\"\"},\"_downloadImage\":{\"sync\":false,\"id\":\"1011849527899143734\",\"value\":{}},\"relayout\":{\"sync\":false,\"id\":\"13776104282966853756\",\"value\":{}},\"_commands\":{\"sync\":false,\"id\":\"15983201923442219800\",\"value\":[]}}},\"children\":[{\"props\":{\"id\":\"plot-77795392-f259-4c9e-8065-3b8e94a6ea75\"},\"nodeType\":\"DOM\",\"type\":\"node\",\"instanceArgs\":{\"namespace\":\"html\",\"tag\":\"div\"},\"children\":[]}]},\n",
              "        window,\n",
              "    );\n",
              "    })()\n",
              "    </script>\n",
              "</div>\n"
            ],
            "text/plain": [
              "data: [\n",
              "  \"scatter with fields mode, name, type, x, and y\",\n",
              "  \"scatter with fields mode, name, type, x, and y\"\n",
              "]\n",
              "\n",
              "layout: \"layout with fields margin and template\"\n",
              "\n"
            ]
          },
          "metadata": {},
          "output_type": "display_data"
        }
      ],
      "source": [
        "file_path = \"C:\\\\Cross-Section-Data\\\\talys_data\\\\libraries\\\\n\\\\Ge070\\\\tendl.2019\\\\files\\\\n-Ge070.tendl.2019\"\n",
        "energy, cross_sections = energy_and_cross_section(file_path, 108, true)\n",
        "total_energy, total_cross_sections = energy_and_cross_section(file_path, 1, true)\n",
        "PlotlyJS.plot([PlotlyJS.scatter(x=energy, y=cross_sections, mode=\"markers\", name=\"108\"),\n",
        "    PlotlyJS.scatter(x=total_energy, y=total_cross_sections, mode=\"markers\", name=\"1\")])"
      ]
    },
    {
      "cell_type": "code",
      "execution_count": 64,
      "metadata": {},
      "outputs": [
        {
          "data": {
            "text/plain": [
              "418-element Vector{Any}:\n",
              " 9.99999999999999999999999999999999999999999999999999999999999999999999999999994e-06\n",
              " 1.534688999999999999999999999999999999999999999999999999999999999999999999999995e-05\n",
              " 1.901214e-05\n",
              " 2.355273999999999999999999999999999999999999999999999999999999999999999999999992e-05\n",
              " 2.917770999999999999999999999999999999999999999999999999999999999999999999999991e-05\n",
              " 3.614613000000000000000000000000000000000000000000000000000000000000000000000015e-05\n",
              " 4.477878999999999999999999999999999999999999999999999999999999999999999999999996e-05\n",
              " 5.547305000000000000000000000000000000000000000000000000000000000000000000000014e-05\n",
              " 6.872150000000000000000000000000000000000000000000000000000000000000000000000036e-05\n",
              " 8.513402999999999999999999999999999999999999999999999999999999999999999999999962e-05\n",
              " ⋮\n",
              " 1.84e+08\n",
              " 1.86e+08\n",
              " 1.88e+08\n",
              " 1.9e+08\n",
              " 1.92e+08\n",
              " 1.94e+08\n",
              " 1.96e+08\n",
              " 1.98e+08\n",
              " 2.0e+08"
            ]
          },
          "metadata": {},
          "output_type": "display_data"
        }
      ],
      "source": [
        "#union of two vectors\n",
        "xq"
      ]
    },
    {
      "cell_type": "code",
      "execution_count": 70,
      "metadata": {},
      "outputs": [
        {
          "data": {
            "application/vnd.plotly.v1+json": {
              "config": {
                "editable": false,
                "responsive": true,
                "scrollZoom": true,
                "showLink": false,
                "staticPlot": false
              },
              "data": [
                {
                  "mode": "markers",
                  "name": "1",
                  "type": "scatter",
                  "x": [
                    0.00001,
                    0.00001534689,
                    0.00001901214,
                    0.00002355274,
                    0.00002917771,
                    0.00003614613,
                    0.00004477879,
                    0.00005547305,
                    0.0000687215,
                    0.00008513403,
                    0.0001054663,
                    0.0001306542,
                    0.000161858,
                    0.0002005136,
                    0.0002484016,
                    0.0003077265,
                    0.0003812198,
                    0.0004722644,
                    0.0005850538,
                    0.0007247803,
                    0.0008978754,
                    0.001112312,
                    0.001377962,
                    0.001707053,
                    0.002114742,
                    0.002619794,
                    0.003245471,
                    0.004020577,
                    0.004980797,
                    0.006170345,
                    0.007643974,
                    0.009469559,
                    0.01173112,
                    0.01453283,
                    0.01800365,
                    0.02230341,
                    0.0253,
                    0.03422878,
                    0.04240345,
                    0.05253053,
                    0.06507622,
                    0.08061817,
                    0.09987193,
                    0.1237238,
                    0.1532722,
                    0.1898777,
                    0.2352253,
                    0.2914031,
                    0.360998,
                    0.4472135,
                    0.5540195,
                    0.6863335,
                    0.8502475,
                    1,
                    1.304868,
                    1.616503,
                    2.002566,
                    2.480832,
                    3.073318,
                    3.807308,
                    4.716591,
                    5.843033,
                    7.238505,
                    10,
                    11.10885,
                    13.76194,
                    17.04865,
                    21.12032,
                    26.16439,
                    32.41311,
                    40.15419,
                    49.74414,
                    61.62431,
                    76.34177,
                    100,
                    117.161,
                    145.1418,
                    200,
                    222.748,
                    300,
                    341.8488,
                    423.4914,
                    524.6315,
                    600,
                    890,
                    1000,
                    1235.651,
                    1530.757,
                    2000,
                    2349.236,
                    3000,
                    3605.353,
                    4466.398,
                    6000,
                    6854.531,
                    8491.576,
                    10000,
                    13031.95,
                    14000,
                    14000,
                    20000,
                    30000,
                    40000,
                    50000,
                    60000,
                    70000,
                    80000,
                    90000,
                    100000,
                    150000,
                    200000,
                    250000,
                    300000,
                    350000,
                    400000,
                    450000,
                    500000,
                    550000,
                    600000,
                    650000,
                    700000,
                    750000,
                    800000,
                    850000,
                    881924,
                    900000,
                    950000,
                    1000000,
                    1054480,
                    1100000,
                    1200000,
                    1233070,
                    1300000,
                    1397450,
                    1400000,
                    1500000,
                    1542420,
                    1582790,
                    1600000,
                    1700000,
                    1732250,
                    1773700,
                    1796330,
                    1800000,
                    1853970,
                    1891780,
                    1898990,
                    1900000,
                    1905680,
                    1908670,
                    1911460,
                    2000000,
                    2100000,
                    2184220,
                    2187830,
                    2200000,
                    2300000,
                    2340180,
                    2400000,
                    2486650,
                    2500000,
                    2571490,
                    2599000,
                    2600000,
                    2700000,
                    2800000,
                    2846720,
                    2900000,
                    2928950,
                    2987380,
                    3000000,
                    3090370,
                    3100000,
                    3102830,
                    3151820,
                    3175150,
                    3200000,
                    3226480,
                    3240280,
                    3288770,
                    3300000,
                    3342280,
                    3344620,
                    3361910,
                    3382900,
                    3393250,
                    3399340,
                    3400000,
                    3420270,
                    3465640,
                    3472380,
                    3477450,
                    3481510,
                    3500000,
                    3600000,
                    3700000,
                    3800000,
                    3900000,
                    4000000,
                    4146590,
                    4200000,
                    4400000,
                    4600000,
                    4800000,
                    5000000,
                    5200000,
                    5400000,
                    5600000,
                    5800000,
                    6000000,
                    6031940,
                    6200000,
                    6389320,
                    6400000,
                    6600000,
                    6712610,
                    6800000,
                    6971810,
                    7000000,
                    7200000,
                    7274030,
                    7400000,
                    7432740,
                    7512320,
                    7521620,
                    7600000,
                    7800000,
                    8000000,
                    8500000,
                    8614530,
                    8645980,
                    8775430,
                    8790380,
                    9000000,
                    9201420,
                    9231760,
                    9431990,
                    9500000,
                    9893800,
                    9926110,
                    10000000,
                    10500000,
                    10503700,
                    10681300,
                    10829300,
                    10883700,
                    10943100,
                    10945800,
                    11000000,
                    11007000,
                    11500000,
                    11698900,
                    12000000,
                    12500000,
                    12931600,
                    13000000,
                    13094400,
                    13199800,
                    13395500,
                    13500000,
                    14000000,
                    14500000,
                    14575000,
                    14649000,
                    15000000,
                    15351000,
                    15364600,
                    15500000,
                    15907700,
                    16000000,
                    16500000,
                    16851200,
                    17000000,
                    17092100,
                    17500000,
                    17642100,
                    17831600,
                    17866800,
                    18000000,
                    18500000,
                    18504400,
                    18901400,
                    19000000,
                    19061500,
                    19107900,
                    19500000,
                    19539000,
                    20000000,
                    21000000,
                    22000000,
                    23000000,
                    24000000,
                    25000000,
                    26000000,
                    27000000,
                    28000000,
                    29000000,
                    30000000,
                    31000000,
                    32000000,
                    33000000,
                    34000000,
                    35000000,
                    36000000,
                    37000000,
                    38000000,
                    39000000,
                    40000000,
                    41000000,
                    42000000,
                    43000000,
                    44000000,
                    45000000,
                    46000000,
                    47000000,
                    48000000,
                    49000000,
                    50000000,
                    51000000,
                    52000000,
                    53000000,
                    54000000,
                    55000000,
                    56000000,
                    57000000,
                    58000000,
                    59000000,
                    60000000,
                    61000000,
                    62000000,
                    63000000,
                    64000000,
                    65000000,
                    66000000,
                    67000000,
                    68000000,
                    69000000,
                    70000000,
                    71000000,
                    72000000,
                    73000000,
                    74000000,
                    75000000,
                    76000000,
                    77000000,
                    78000000,
                    79000000,
                    80000000,
                    81000000,
                    82000000,
                    83000000,
                    84000000,
                    85000000,
                    86000000,
                    87000000,
                    88000000,
                    89000000,
                    90000000,
                    91000000,
                    92000000,
                    93000000,
                    94000000,
                    95000000,
                    96000000,
                    97000000,
                    98000000,
                    99000000,
                    100000000,
                    102000000,
                    104000000,
                    106000000,
                    108000000,
                    110000000,
                    112000000,
                    114000000,
                    116000000,
                    118000000,
                    120000000,
                    122000000,
                    124000000,
                    126000000,
                    128000000,
                    130000000,
                    132000000,
                    134000000,
                    136000000,
                    138000000,
                    140000000,
                    142000000,
                    144000000,
                    146000000,
                    148000000,
                    150000000,
                    152000000,
                    154000000,
                    156000000,
                    158000000,
                    160000000,
                    162000000,
                    164000000,
                    166000000,
                    168000000,
                    170000000,
                    172000000,
                    174000000,
                    176000000,
                    178000000,
                    180000000,
                    182000000,
                    184000000,
                    186000000,
                    188000000,
                    190000000,
                    192000000,
                    194000000,
                    196000000,
                    198000000,
                    200000000
                  ],
                  "y": [
                    5.66708e-7,
                    4.574558e-7,
                    4.110021e-7,
                    3.692655e-7,
                    3.317676e-7,
                    2.980771e-7,
                    2.678079e-7,
                    2.406127e-7,
                    2.161788e-7,
                    1.942264e-7,
                    1.745031e-7,
                    1.567827e-7,
                    1.408617e-7,
                    1.265576e-7,
                    1.137058e-7,
                    1.021592e-7,
                    9.17851e-8,
                    8.246456e-8,
                    7.409049e-8,
                    6.656673e-8,
                    5.980699e-8,
                    5.373369e-8,
                    4.827717e-8,
                    4.337474e-8,
                    3.897011e-8,
                    3.501279e-8,
                    3.14573e-8,
                    2.826287e-8,
                    2.539284e-8,
                    2.281422e-8,
                    2.049749e-8,
                    1.841601e-8,
                    1.654593e-8,
                    1.486571e-8,
                    1.335613e-8,
                    1.199983e-8,
                    1.12668e-8,
                    9.686459e-9,
                    8.702823e-9,
                    7.819066e-9,
                    7.025047e-9,
                    6.311665e-9,
                    5.670726e-9,
                    5.094878e-9,
                    4.577501e-9,
                    4.112664e-9,
                    3.69503e-9,
                    3.319809e-9,
                    2.982688e-9,
                    2.679801e-9,
                    2.407671e-9,
                    2.163179e-9,
                    1.943511e-9,
                    1.79209e-9,
                    1.568832e-9,
                    1.40952e-9,
                    1.266387e-9,
                    1.137787e-9,
                    1.022247e-9,
                    9.18439e-10,
                    8.25173e-10,
                    7.41379e-10,
                    6.66093e-10,
                    5.66707e-10,
                    5.37681e-10,
                    4.8308e-10,
                    4.34024e-10,
                    3.8995e-10,
                    3.50351e-10,
                    3.14774e-10,
                    2.82809e-10,
                    2.5409e-10,
                    2.28288e-10,
                    2.05106e-10,
                    1.79209e-10,
                    1.65565e-10,
                    1.48752e-10,
                    1.67656e-10,
                    2.05783e-10,
                    3.6256e-10,
                    4.64793e-10,
                    6.98529e-10,
                    1.049803e-9,
                    1.35519e-9,
                    2.868989e-9,
                    2.888321e-9,
                    2.600376e-9,
                    2.331128e-9,
                    2.020293e-9,
                    1.907105e-9,
                    1.744417e-9,
                    0.00001747515,
                    0.00004232912,
                    0.0000967594,
                    0.00013011,
                    0.0001600767,
                    0.0001673412,
                    0.00007196148,
                    0.00004150844,
                    11.31042,
                    10.23287,
                    9.42693,
                    9.056143,
                    8.695675,
                    8.342828,
                    8.176871,
                    8.015824,
                    7.858948,
                    7.705701,
                    7.300595,
                    6.946459,
                    6.707277,
                    6.496015,
                    6.309134,
                    6.140662,
                    5.979218,
                    5.831034,
                    5.686054,
                    5.551174,
                    5.419636,
                    5.296228,
                    5.17713,
                    5.064872,
                    4.957932,
                    4.892824,
                    4.856992,
                    4.762559,
                    4.673825,
                    4.467022,
                    4.429201,
                    4.349518,
                    4.269087,
                    4.176229,
                    4.043072,
                    4.039715,
                    3.908007,
                    3.855323,
                    3.806919,
                    3.786799,
                    3.63653,
                    3.590303,
                    3.593541,
                    3.595908,
                    3.596323,
                    3.556469,
                    3.52997,
                    3.525062,
                    3.524371,
                    3.520531,
                    3.518516,
                    3.516648,
                    3.46044,
                    3.404071,
                    3.361819,
                    3.349128,
                    3.381342,
                    3.343207,
                    3.328982,
                    3.326486,
                    3.289455,
                    3.289042,
                    3.288231,
                    3.309413,
                    3.310184,
                    3.3119,
                    3.317256,
                    3.313089,
                    3.315886,
                    3.317744,
                    3.330139,
                    3.341003,
                    3.33605,
                    3.337367,
                    3.337752,
                    3.34954,
                    3.358166,
                    3.376014,
                    3.370147,
                    3.369639,
                    3.372316,
                    3.374748,
                    3.38409,
                    3.384961,
                    3.391497,
                    3.404055,
                    3.412414,
                    3.417655,
                    3.41823,
                    3.413147,
                    3.407737,
                    3.407053,
                    3.407228,
                    3.407437,
                    3.416699,
                    3.467502,
                    3.490292,
                    3.513912,
                    3.536157,
                    3.558823,
                    3.589551,
                    3.600768,
                    3.638958,
                    3.672985,
                    3.702804,
                    3.728577,
                    3.750561,
                    3.769097,
                    3.784489,
                    3.79708,
                    3.807176,
                    3.808668,
                    3.815024,
                    3.820662,
                    3.820898,
                    3.824955,
                    3.826722,
                    3.827404,
                    3.828405,
                    3.828369,
                    3.82795,
                    3.8276,
                    3.826217,
                    3.82588,
                    3.824802,
                    3.824657,
                    3.823186,
                    3.818938,
                    3.813445,
                    3.794465,
                    3.789258,
                    3.787742,
                    3.781109,
                    3.780311,
                    3.768243,
                    3.755884,
                    3.75392,
                    3.740261,
                    3.735377,
                    3.705426,
                    3.702804,
                    3.696735,
                    3.653068,
                    3.652736,
                    3.636239,
                    3.622084,
                    3.61679,
                    3.610955,
                    3.610686,
                    3.605325,
                    3.604638,
                    3.554038,
                    3.526198,
                    3.50003,
                    3.444045,
                    3.394756,
                    3.386894,
                    3.376049,
                    3.363915,
                    3.341377,
                    3.329365,
                    3.27219,
                    3.215842,
                    3.207437,
                    3.199175,
                    3.160502,
                    3.121883,
                    3.120409,
                    3.105762,
                    3.062519,
                    3.052912,
                    3.00024,
                    2.964469,
                    2.949628,
                    2.940346,
                    2.900086,
                    2.886418,
                    2.868479,
                    2.865181,
                    2.852815,
                    2.80803,
                    2.807646,
                    2.7739,
                    2.765774,
                    2.760855,
                    2.757164,
                    2.726908,
                    2.723994,
                    2.690752,
                    2.629451,
                    2.581211,
                    2.544735,
                    2.518289,
                    2.500284,
                    2.489188,
                    2.483988,
                    2.483742,
                    2.487942,
                    2.496104,
                    2.50825,
                    2.52285,
                    2.54064,
                    2.55997,
                    2.58136,
                    2.60336,
                    2.62627,
                    2.649,
                    2.67175,
                    2.69369,
                    2.71507,
                    2.7352,
                    2.75443,
                    2.77211,
                    2.78869,
                    2.80354,
                    2.81716,
                    2.82899,
                    2.83952,
                    2.84824,
                    2.85563,
                    2.86127,
                    2.86558,
                    2.86821,
                    2.86957,
                    2.86934,
                    2.86792,
                    2.86502,
                    2.86104,
                    2.8557,
                    2.84956,
                    2.84221,
                    2.83369,
                    2.82409,
                    2.81344,
                    2.80241,
                    2.79049,
                    2.77771,
                    2.76413,
                    2.74981,
                    2.73532,
                    2.72019,
                    2.70447,
                    2.6882,
                    2.67145,
                    2.65467,
                    2.63748,
                    2.61992,
                    2.60201,
                    2.58382,
                    2.56587,
                    2.54769,
                    2.5293,
                    2.51075,
                    2.49204,
                    2.47321,
                    2.45428,
                    2.43527,
                    2.41634,
                    2.39725,
                    2.37882,
                    2.36025,
                    2.3417,
                    2.32333,
                    2.30487,
                    2.28661,
                    2.26828,
                    2.25018,
                    2.23203,
                    2.21397,
                    2.17917,
                    2.14488,
                    2.11115,
                    2.07804,
                    2.04556,
                    2.01421,
                    1.9837,
                    1.95391,
                    1.92483,
                    1.89631,
                    1.86916,
                    1.84273,
                    1.81703,
                    1.79188,
                    1.76761,
                    1.74442,
                    1.72191,
                    1.69992,
                    1.67876,
                    1.65826,
                    1.63869,
                    1.61959,
                    1.60126,
                    1.58352,
                    1.56621,
                    1.54987,
                    1.53407,
                    1.51865,
                    1.50391,
                    1.48967,
                    1.47605,
                    1.46306,
                    1.45053,
                    1.4383,
                    1.42666,
                    1.41543,
                    1.40447,
                    1.39405,
                    1.38401,
                    1.37421,
                    1.36519,
                    1.35653,
                    1.34807,
                    1.34009,
                    1.33228,
                    1.32494,
                    1.31789,
                    1.31101,
                    1.30456,
                    1.29839
                  ]
                },
                {
                  "mode": "markers",
                  "name": "interpolation",
                  "type": "scatter",
                  "x": [
                    1853970,
                    8000000,
                    8500000,
                    9000000,
                    9500000,
                    10000000,
                    10500000,
                    11000000,
                    11500000,
                    12000000,
                    12500000,
                    13000000,
                    13500000,
                    14000000,
                    14500000,
                    15000000,
                    16000000,
                    17000000,
                    18000000,
                    19000000,
                    20000000,
                    21000000,
                    22000000,
                    23000000,
                    24000000,
                    25000000,
                    26000000,
                    27000000,
                    28000000,
                    29000000,
                    30000000,
                    30000000,
                    200000000
                  ],
                  "y": [
                    3.556469,
                    3.813445,
                    3.794465,
                    3.768243,
                    3.735377,
                    3.696735,
                    3.653068,
                    3.605325,
                    3.554038,
                    3.50003,
                    3.444045,
                    3.386894,
                    3.329365,
                    3.27219,
                    3.215842,
                    3.160502,
                    3.052912,
                    2.949628,
                    2.852815,
                    2.765774,
                    2.690752,
                    2.629451,
                    2.581211,
                    2.544735,
                    2.518289,
                    2.500284,
                    2.489188,
                    2.483988,
                    2.483742,
                    2.487942,
                    2.496104,
                    2.496104,
                    1.29839
                  ]
                }
              ],
              "frames": [],
              "layout": {
                "margin": {
                  "b": 50,
                  "l": 50,
                  "r": 50,
                  "t": 60
                },
                "template": {
                  "data": {
                    "bar": [
                      {
                        "error_x": {
                          "color": "#2a3f5f"
                        },
                        "error_y": {
                          "color": "#2a3f5f"
                        },
                        "marker": {
                          "line": {
                            "color": "#E5ECF6",
                            "width": 0.5
                          }
                        },
                        "type": "bar"
                      }
                    ],
                    "barpolar": [
                      {
                        "marker": {
                          "line": {
                            "color": "#E5ECF6",
                            "width": 0.5
                          }
                        },
                        "type": "barpolar"
                      }
                    ],
                    "carpet": [
                      {
                        "aaxis": {
                          "endlinecolor": "#2a3f5f",
                          "gridcolor": "white",
                          "linecolor": "white",
                          "minorgridcolor": "white",
                          "startlinecolor": "#2a3f5f"
                        },
                        "baxis": {
                          "endlinecolor": "#2a3f5f",
                          "gridcolor": "white",
                          "linecolor": "white",
                          "minorgridcolor": "white",
                          "startlinecolor": "#2a3f5f"
                        },
                        "type": "carpet"
                      }
                    ],
                    "choropleth": [
                      {
                        "colorbar": {
                          "outlinewidth": 0,
                          "ticks": ""
                        },
                        "type": "choropleth"
                      }
                    ],
                    "contour": [
                      {
                        "colorbar": {
                          "outlinewidth": 0,
                          "ticks": ""
                        },
                        "colorscale": [
                          [
                            0,
                            "#0d0887"
                          ],
                          [
                            0.1111111111111111,
                            "#46039f"
                          ],
                          [
                            0.2222222222222222,
                            "#7201a8"
                          ],
                          [
                            0.3333333333333333,
                            "#9c179e"
                          ],
                          [
                            0.4444444444444444,
                            "#bd3786"
                          ],
                          [
                            0.5555555555555556,
                            "#d8576b"
                          ],
                          [
                            0.6666666666666666,
                            "#ed7953"
                          ],
                          [
                            0.7777777777777778,
                            "#fb9f3a"
                          ],
                          [
                            0.8888888888888888,
                            "#fdca26"
                          ],
                          [
                            1,
                            "#f0f921"
                          ]
                        ],
                        "type": "contour"
                      }
                    ],
                    "contourcarpet": [
                      {
                        "colorbar": {
                          "outlinewidth": 0,
                          "ticks": ""
                        },
                        "type": "contourcarpet"
                      }
                    ],
                    "heatmap": [
                      {
                        "colorbar": {
                          "outlinewidth": 0,
                          "ticks": ""
                        },
                        "colorscale": [
                          [
                            0,
                            "#0d0887"
                          ],
                          [
                            0.1111111111111111,
                            "#46039f"
                          ],
                          [
                            0.2222222222222222,
                            "#7201a8"
                          ],
                          [
                            0.3333333333333333,
                            "#9c179e"
                          ],
                          [
                            0.4444444444444444,
                            "#bd3786"
                          ],
                          [
                            0.5555555555555556,
                            "#d8576b"
                          ],
                          [
                            0.6666666666666666,
                            "#ed7953"
                          ],
                          [
                            0.7777777777777778,
                            "#fb9f3a"
                          ],
                          [
                            0.8888888888888888,
                            "#fdca26"
                          ],
                          [
                            1,
                            "#f0f921"
                          ]
                        ],
                        "type": "heatmap"
                      }
                    ],
                    "heatmapgl": [
                      {
                        "colorbar": {
                          "outlinewidth": 0,
                          "ticks": ""
                        },
                        "colorscale": [
                          [
                            0,
                            "#0d0887"
                          ],
                          [
                            0.1111111111111111,
                            "#46039f"
                          ],
                          [
                            0.2222222222222222,
                            "#7201a8"
                          ],
                          [
                            0.3333333333333333,
                            "#9c179e"
                          ],
                          [
                            0.4444444444444444,
                            "#bd3786"
                          ],
                          [
                            0.5555555555555556,
                            "#d8576b"
                          ],
                          [
                            0.6666666666666666,
                            "#ed7953"
                          ],
                          [
                            0.7777777777777778,
                            "#fb9f3a"
                          ],
                          [
                            0.8888888888888888,
                            "#fdca26"
                          ],
                          [
                            1,
                            "#f0f921"
                          ]
                        ],
                        "type": "heatmapgl"
                      }
                    ],
                    "histogram": [
                      {
                        "marker": {
                          "colorbar": {
                            "outlinewidth": 0,
                            "ticks": ""
                          }
                        },
                        "type": "histogram"
                      }
                    ],
                    "histogram2d": [
                      {
                        "colorbar": {
                          "outlinewidth": 0,
                          "ticks": ""
                        },
                        "colorscale": [
                          [
                            0,
                            "#0d0887"
                          ],
                          [
                            0.1111111111111111,
                            "#46039f"
                          ],
                          [
                            0.2222222222222222,
                            "#7201a8"
                          ],
                          [
                            0.3333333333333333,
                            "#9c179e"
                          ],
                          [
                            0.4444444444444444,
                            "#bd3786"
                          ],
                          [
                            0.5555555555555556,
                            "#d8576b"
                          ],
                          [
                            0.6666666666666666,
                            "#ed7953"
                          ],
                          [
                            0.7777777777777778,
                            "#fb9f3a"
                          ],
                          [
                            0.8888888888888888,
                            "#fdca26"
                          ],
                          [
                            1,
                            "#f0f921"
                          ]
                        ],
                        "type": "histogram2d"
                      }
                    ],
                    "histogram2dcontour": [
                      {
                        "colorbar": {
                          "outlinewidth": 0,
                          "ticks": ""
                        },
                        "colorscale": [
                          [
                            0,
                            "#0d0887"
                          ],
                          [
                            0.1111111111111111,
                            "#46039f"
                          ],
                          [
                            0.2222222222222222,
                            "#7201a8"
                          ],
                          [
                            0.3333333333333333,
                            "#9c179e"
                          ],
                          [
                            0.4444444444444444,
                            "#bd3786"
                          ],
                          [
                            0.5555555555555556,
                            "#d8576b"
                          ],
                          [
                            0.6666666666666666,
                            "#ed7953"
                          ],
                          [
                            0.7777777777777778,
                            "#fb9f3a"
                          ],
                          [
                            0.8888888888888888,
                            "#fdca26"
                          ],
                          [
                            1,
                            "#f0f921"
                          ]
                        ],
                        "type": "histogram2dcontour"
                      }
                    ],
                    "mesh3d": [
                      {
                        "colorbar": {
                          "outlinewidth": 0,
                          "ticks": ""
                        },
                        "type": "mesh3d"
                      }
                    ],
                    "parcoords": [
                      {
                        "line": {
                          "colorbar": {
                            "outlinewidth": 0,
                            "ticks": ""
                          }
                        },
                        "type": "parcoords"
                      }
                    ],
                    "pie": [
                      {
                        "automargin": true,
                        "type": "pie"
                      }
                    ],
                    "scatter": [
                      {
                        "marker": {
                          "colorbar": {
                            "outlinewidth": 0,
                            "ticks": ""
                          }
                        },
                        "type": "scatter"
                      }
                    ],
                    "scatter3d": [
                      {
                        "line": {
                          "colorbar": {
                            "outlinewidth": 0,
                            "ticks": ""
                          }
                        },
                        "marker": {
                          "colorbar": {
                            "outlinewidth": 0,
                            "ticks": ""
                          }
                        },
                        "type": "scatter3d"
                      }
                    ],
                    "scattercarpet": [
                      {
                        "marker": {
                          "colorbar": {
                            "outlinewidth": 0,
                            "ticks": ""
                          }
                        },
                        "type": "scattercarpet"
                      }
                    ],
                    "scattergeo": [
                      {
                        "marker": {
                          "colorbar": {
                            "outlinewidth": 0,
                            "ticks": ""
                          }
                        },
                        "type": "scattergeo"
                      }
                    ],
                    "scattergl": [
                      {
                        "marker": {
                          "colorbar": {
                            "outlinewidth": 0,
                            "ticks": ""
                          }
                        },
                        "type": "scattergl"
                      }
                    ],
                    "scattermapbox": [
                      {
                        "marker": {
                          "colorbar": {
                            "outlinewidth": 0,
                            "ticks": ""
                          }
                        },
                        "type": "scattermapbox"
                      }
                    ],
                    "scatterpolar": [
                      {
                        "marker": {
                          "colorbar": {
                            "outlinewidth": 0,
                            "ticks": ""
                          }
                        },
                        "type": "scatterpolar"
                      }
                    ],
                    "scatterpolargl": [
                      {
                        "marker": {
                          "colorbar": {
                            "outlinewidth": 0,
                            "ticks": ""
                          }
                        },
                        "type": "scatterpolargl"
                      }
                    ],
                    "scatterternary": [
                      {
                        "marker": {
                          "colorbar": {
                            "outlinewidth": 0,
                            "ticks": ""
                          }
                        },
                        "type": "scatterternary"
                      }
                    ],
                    "surface": [
                      {
                        "colorbar": {
                          "outlinewidth": 0,
                          "ticks": ""
                        },
                        "colorscale": [
                          [
                            0,
                            "#0d0887"
                          ],
                          [
                            0.1111111111111111,
                            "#46039f"
                          ],
                          [
                            0.2222222222222222,
                            "#7201a8"
                          ],
                          [
                            0.3333333333333333,
                            "#9c179e"
                          ],
                          [
                            0.4444444444444444,
                            "#bd3786"
                          ],
                          [
                            0.5555555555555556,
                            "#d8576b"
                          ],
                          [
                            0.6666666666666666,
                            "#ed7953"
                          ],
                          [
                            0.7777777777777778,
                            "#fb9f3a"
                          ],
                          [
                            0.8888888888888888,
                            "#fdca26"
                          ],
                          [
                            1,
                            "#f0f921"
                          ]
                        ],
                        "type": "surface"
                      }
                    ],
                    "table": [
                      {
                        "cells": {
                          "fill": {
                            "color": "#EBF0F8"
                          },
                          "line": {
                            "color": "white"
                          }
                        },
                        "header": {
                          "fill": {
                            "color": "#C8D4E3"
                          },
                          "line": {
                            "color": "white"
                          }
                        },
                        "type": "table"
                      }
                    ]
                  },
                  "layout": {
                    "annotationdefaults": {
                      "arrowcolor": "#2a3f5f",
                      "arrowhead": 0,
                      "arrowwidth": 1
                    },
                    "autotypenumbers": "strict",
                    "coloraxis": {
                      "colorbar": {
                        "outlinewidth": 0,
                        "ticks": ""
                      }
                    },
                    "colorscale": {
                      "diverging": [
                        [
                          0,
                          "#8e0152"
                        ],
                        [
                          0.1,
                          "#c51b7d"
                        ],
                        [
                          0.2,
                          "#de77ae"
                        ],
                        [
                          0.3,
                          "#f1b6da"
                        ],
                        [
                          0.4,
                          "#fde0ef"
                        ],
                        [
                          0.5,
                          "#f7f7f7"
                        ],
                        [
                          0.6,
                          "#e6f5d0"
                        ],
                        [
                          0.7,
                          "#b8e186"
                        ],
                        [
                          0.8,
                          "#7fbc41"
                        ],
                        [
                          0.9,
                          "#4d9221"
                        ],
                        [
                          1,
                          "#276419"
                        ]
                      ],
                      "sequential": [
                        [
                          0,
                          "#0d0887"
                        ],
                        [
                          0.1111111111111111,
                          "#46039f"
                        ],
                        [
                          0.2222222222222222,
                          "#7201a8"
                        ],
                        [
                          0.3333333333333333,
                          "#9c179e"
                        ],
                        [
                          0.4444444444444444,
                          "#bd3786"
                        ],
                        [
                          0.5555555555555556,
                          "#d8576b"
                        ],
                        [
                          0.6666666666666666,
                          "#ed7953"
                        ],
                        [
                          0.7777777777777778,
                          "#fb9f3a"
                        ],
                        [
                          0.8888888888888888,
                          "#fdca26"
                        ],
                        [
                          1,
                          "#f0f921"
                        ]
                      ],
                      "sequentialminus": [
                        [
                          0,
                          "#0d0887"
                        ],
                        [
                          0.1111111111111111,
                          "#46039f"
                        ],
                        [
                          0.2222222222222222,
                          "#7201a8"
                        ],
                        [
                          0.3333333333333333,
                          "#9c179e"
                        ],
                        [
                          0.4444444444444444,
                          "#bd3786"
                        ],
                        [
                          0.5555555555555556,
                          "#d8576b"
                        ],
                        [
                          0.6666666666666666,
                          "#ed7953"
                        ],
                        [
                          0.7777777777777778,
                          "#fb9f3a"
                        ],
                        [
                          0.8888888888888888,
                          "#fdca26"
                        ],
                        [
                          1,
                          "#f0f921"
                        ]
                      ]
                    },
                    "colorway": [
                      "#636efa",
                      "#EF553B",
                      "#00cc96",
                      "#ab63fa",
                      "#FFA15A",
                      "#19d3f3",
                      "#FF6692",
                      "#B6E880",
                      "#FF97FF",
                      "#FECB52"
                    ],
                    "font": {
                      "color": "#2a3f5f"
                    },
                    "geo": {
                      "bgcolor": "white",
                      "lakecolor": "white",
                      "landcolor": "#E5ECF6",
                      "showlakes": true,
                      "showland": true,
                      "subunitcolor": "white"
                    },
                    "hoverlabel": {
                      "align": "left"
                    },
                    "hovermode": "closest",
                    "mapbox": {
                      "style": "light"
                    },
                    "paper_bgcolor": "white",
                    "plot_bgcolor": "#E5ECF6",
                    "polar": {
                      "angularaxis": {
                        "gridcolor": "white",
                        "linecolor": "white",
                        "ticks": ""
                      },
                      "bgcolor": "#E5ECF6",
                      "radialaxis": {
                        "gridcolor": "white",
                        "linecolor": "white",
                        "ticks": ""
                      }
                    },
                    "scene": {
                      "xaxis": {
                        "backgroundcolor": "#E5ECF6",
                        "gridcolor": "white",
                        "gridwidth": 2,
                        "linecolor": "white",
                        "showbackground": true,
                        "ticks": "",
                        "zerolinecolor": "white"
                      },
                      "yaxis": {
                        "backgroundcolor": "#E5ECF6",
                        "gridcolor": "white",
                        "gridwidth": 2,
                        "linecolor": "white",
                        "showbackground": true,
                        "ticks": "",
                        "zerolinecolor": "white"
                      },
                      "zaxis": {
                        "backgroundcolor": "#E5ECF6",
                        "gridcolor": "white",
                        "gridwidth": 2,
                        "linecolor": "white",
                        "showbackground": true,
                        "ticks": "",
                        "zerolinecolor": "white"
                      }
                    },
                    "shapedefaults": {
                      "line": {
                        "color": "#2a3f5f"
                      }
                    },
                    "ternary": {
                      "aaxis": {
                        "gridcolor": "white",
                        "linecolor": "white",
                        "ticks": ""
                      },
                      "baxis": {
                        "gridcolor": "white",
                        "linecolor": "white",
                        "ticks": ""
                      },
                      "bgcolor": "#E5ECF6",
                      "caxis": {
                        "gridcolor": "white",
                        "linecolor": "white",
                        "ticks": ""
                      }
                    },
                    "title": {
                      "x": 0.05
                    },
                    "xaxis": {
                      "automargin": true,
                      "gridcolor": "white",
                      "linecolor": "white",
                      "ticks": "",
                      "title": {
                        "standoff": 15
                      },
                      "zerolinecolor": "white",
                      "zerolinewidth": 2
                    },
                    "yaxis": {
                      "automargin": true,
                      "gridcolor": "white",
                      "linecolor": "white",
                      "ticks": "",
                      "title": {
                        "standoff": 15
                      },
                      "zerolinecolor": "white",
                      "zerolinewidth": 2
                    }
                  }
                }
              }
            },
            "image/png": "[encoded data removed]",
            "image/svg+xml": "<svg class=\"main-svg\" xmlns=\"http://www.w3.org/2000/svg\" xmlns:xlink=\"http://www.w3.org/1999/xlink\" width=\"700\" height=\"500\" style=\"\" viewBox=\"0 0 700 500\"><rect x=\"0\" y=\"0\" width=\"700\" height=\"500\" style=\"fill: rgb(255, 255, 255); fill-opacity: 1;\"/><defs id=\"defs-fd8712\"><g class=\"clips\"><clipPath id=\"clipfd8712xyplot\" class=\"plotclip\"><rect width=\"506\" height=\"390\"/></clipPath><clipPath class=\"axesclip\" id=\"clipfd8712x\"><rect x=\"50\" y=\"0\" width=\"506\" height=\"500\"/></clipPath><clipPath class=\"axesclip\" id=\"clipfd8712y\"><rect x=\"0\" y=\"60\" width=\"700\" height=\"390\"/></clipPath><clipPath class=\"axesclip\" id=\"clipfd8712xy\"><rect x=\"50\" y=\"60\" width=\"506\" height=\"390\"/></clipPath></g><g class=\"gradients\"/></defs><g class=\"bglayer\"><rect class=\"bg\" x=\"50\" y=\"60\" width=\"506\" height=\"390\" style=\"fill: rgb(229, 236, 246); fill-opacity: 1; stroke-width: 0;\"/></g><g class=\"layer-below\"><g class=\"imagelayer\"/><g class=\"shapelayer\"/></g><g class=\"cartesianlayer\"><g class=\"subplot xy\"><g class=\"layer-subplot\"><g class=\"shapelayer\"/><g class=\"imagelayer\"/></g><g class=\"gridlayer\"><g class=\"x\"><path class=\"xgrid crisp\" transform=\"translate(191.02,0)\" d=\"M0,60v390\" style=\"stroke: rgb(255, 255, 255); stroke-opacity: 1; stroke-width: 1px;\"/><path class=\"xgrid crisp\" transform=\"translate(303,0)\" d=\"M0,60v390\" style=\"stroke: rgb(255, 255, 255); stroke-opacity: 1; stroke-width: 1px;\"/><path class=\"xgrid crisp\" transform=\"translate(414.97,0)\" d=\"M0,60v390\" style=\"stroke: rgb(255, 255, 255); stroke-opacity: 1; stroke-width: 1px;\"/><path class=\"xgrid crisp\" transform=\"translate(526.95,0)\" d=\"M0,60v390\" style=\"stroke: rgb(255, 255, 255); stroke-opacity: 1; stroke-width: 1px;\"/></g><g class=\"y\"><path class=\"ygrid crisp\" transform=\"translate(0,366.01)\" d=\"M50,0h506\" style=\"stroke: rgb(255, 255, 255); stroke-opacity: 1; stroke-width: 1px;\"/><path class=\"ygrid crisp\" transform=\"translate(0,305.27)\" d=\"M50,0h506\" style=\"stroke: rgb(255, 255, 255); stroke-opacity: 1; stroke-width: 1px;\"/><path class=\"ygrid crisp\" transform=\"translate(0,244.53)\" d=\"M50,0h506\" style=\"stroke: rgb(255, 255, 255); stroke-opacity: 1; stroke-width: 1px;\"/><path class=\"ygrid crisp\" transform=\"translate(0,183.79000000000002)\" d=\"M50,0h506\" style=\"stroke: rgb(255, 255, 255); stroke-opacity: 1; stroke-width: 1px;\"/><path class=\"ygrid crisp\" transform=\"translate(0,123.05)\" d=\"M50,0h506\" style=\"stroke: rgb(255, 255, 255); stroke-opacity: 1; stroke-width: 1px;\"/><path class=\"ygrid crisp\" transform=\"translate(0,62.31)\" d=\"M50,0h506\" style=\"stroke: rgb(255, 255, 255); stroke-opacity: 1; stroke-width: 1px;\"/></g></g><g class=\"zerolinelayer\"><path class=\"xzl zl crisp\" transform=\"translate(79.05,0)\" d=\"M0,60v390\" style=\"stroke: rgb(255, 255, 255); stroke-opacity: 1; stroke-width: 2px;\"/><path class=\"yzl zl crisp\" transform=\"translate(0,426.75)\" d=\"M50,0h506\" style=\"stroke: rgb(255, 255, 255); stroke-opacity: 1; stroke-width: 2px;\"/></g><path class=\"xlines-below\"/><path class=\"ylines-below\"/><g class=\"overlines-below\"/><g class=\"xaxislayer-below\"/><g class=\"yaxislayer-below\"/><g class=\"overaxes-below\"/><g class=\"plot\" transform=\"translate(50,60)\" clip-path=\"url('#clipfd8712xyplot')\"><g class=\"scatterlayer mlayer\"><g class=\"trace scatter tracefe1f35\" style=\"stroke-miterlimit: 2; opacity: 1;\"><g class=\"fills\"/><g class=\"errorbars\"/><g class=\"lines\"/><g class=\"points\"><path class=\"point\" transform=\"translate(29.05,366.75)\" d=\"M3,0A3,3 0 1,1 0,-3A3,3 0 0,1 3,0Z\" style=\"opacity: 1; stroke-width: 0px; fill: rgb(99, 110, 250); fill-opacity: 1;\"/><path class=\"point\" transform=\"translate(29.05,366.75)\" d=\"M3,0A3,3 0 1,1 0,-3A3,3 0 0,1 3,0Z\" style=\"opacity: 1; stroke-width: 0px; fill: rgb(99, 110, 250); fill-opacity: 1;\"/><path class=\"point\" transform=\"translate(29.05,366.75)\" d=\"M3,0A3,3 0 1,1 0,-3A3,3 0 0,1 3,0Z\" style=\"opacity: 1; stroke-width: 0px; fill: rgb(99, 110, 250); fill-opacity: 1;\"/><path class=\"point\" transform=\"translate(29.05,366.75)\" d=\"M3,0A3,3 0 1,1 0,-3A3,3 0 0,1 3,0Z\" style=\"opacity: 1; stroke-width: 0px; fill: rgb(99, 110, 250); fill-opacity: 1;\"/><path class=\"point\" transform=\"translate(29.05,366.75)\" d=\"M3,0A3,3 0 1,1 0,-3A3,3 0 0,1 3,0Z\" style=\"opacity: 1; stroke-width: 0px; fill: rgb(99, 110, 250); fill-opacity: 1;\"/><path class=\"point\" transform=\"translate(29.05,366.75)\" d=\"M3,0A3,3 0 1,1 0,-3A3,3 0 0,1 3,0Z\" style=\"opacity: 1; stroke-width: 0px; fill: rgb(99, 110, 250); fill-opacity: 1;\"/><path class=\"point\" transform=\"translate(29.05,366.75)\" d=\"M3,0A3,3 0 1,1 0,-3A3,3 0 0,1 3,0Z\" style=\"opacity: 1; stroke-width: 0px; fill: rgb(99, 110, 250); fill-opacity: 1;\"/><path class=\"point\" transform=\"translate(29.05,366.75)\" d=\"M3,0A3,3 0 1,1 0,-3A3,3 0 0,1 3,0Z\" style=\"opacity: 1; stroke-width: 0px; fill: rgb(99, 110, 250); fill-opacity: 1;\"/><path class=\"point\" transform=\"translate(29.05,366.75)\" d=\"M3,0A3,3 0 1,1 0,-3A3,3 0 0,1 3,0Z\" style=\"opacity: 1; stroke-width: 0px; fill: rgb(99, 110, 250); fill-opacity: 1;\"/><path class=\"point\" transform=\"translate(29.05,366.75)\" d=\"M3,0A3,3 0 1,1 0,-3A3,3 0 0,1 3,0Z\" style=\"opacity: 1; stroke-width: 0px; fill: rgb(99, 110, 250); fill-opacity: 1;\"/><path class=\"point\" transform=\"translate(29.05,366.75)\" d=\"M3,0A3,3 0 1,1 0,-3A3,3 0 0,1 3,0Z\" style=\"opacity: 1; stroke-width: 0px; fill: rgb(99, 110, 250); fill-opacity: 1;\"/><path class=\"point\" transform=\"translate(29.05,366.75)\" d=\"M3,0A3,3 0 1,1 0,-3A3,3 0 0,1 3,0Z\" style=\"opacity: 1; stroke-width: 0px; fill: rgb(99, 110, 250); fill-opacity: 1;\"/><path class=\"point\" transform=\"translate(29.05,366.75)\" d=\"M3,0A3,3 0 1,1 0,-3A3,3 0 0,1 3,0Z\" style=\"opacity: 1; stroke-width: 0px; fill: rgb(99, 110, 250); fill-opacity: 1;\"/><path class=\"point\" transform=\"translate(29.05,366.75)\" d=\"M3,0A3,3 0 1,1 0,-3A3,3 0 0,1 3,0Z\" style=\"opacity: 1; stroke-width: 0px; fill: rgb(99, 110, 250); fill-opacity: 1;\"/><path class=\"point\" transform=\"translate(29.05,366.75)\" d=\"M3,0A3,3 0 1,1 0,-3A3,3 0 0,1 3,0Z\" style=\"opacity: 1; stroke-width: 0px; fill: rgb(99, 110, 250); fill-opacity: 1;\"/><path class=\"point\" transform=\"translate(29.05,366.75)\" d=\"M3,0A3,3 0 1,1 0,-3A3,3 0 0,1 3,0Z\" style=\"opacity: 1; stroke-width: 0px; fill: rgb(99, 110, 250); fill-opacity: 1;\"/><path class=\"point\" transform=\"translate(29.05,366.75)\" d=\"M3,0A3,3 0 1,1 0,-3A3,3 0 0,1 3,0Z\" style=\"opacity: 1; stroke-width: 0px; fill: rgb(99, 110, 250); fill-opacity: 1;\"/><path class=\"point\" transform=\"translate(29.05,366.75)\" d=\"M3,0A3,3 0 1,1 0,-3A3,3 0 0,1 3,0Z\" style=\"opacity: 1; stroke-width: 0px; fill: rgb(99, 110, 250); fill-opacity: 1;\"/><path class=\"point\" transform=\"translate(29.05,366.75)\" d=\"M3,0A3,3 0 1,1 0,-3A3,3 0 0,1 3,0Z\" style=\"opacity: 1; stroke-width: 0px; fill: rgb(99, 110, 250); fill-opacity: 1;\"/><path class=\"point\" transform=\"translate(29.05,366.75)\" d=\"M3,0A3,3 0 1,1 0,-3A3,3 0 0,1 3,0Z\" style=\"opacity: 1; stroke-width: 0px; fill: rgb(99, 110, 250); fill-opacity: 1;\"/><path class=\"point\" transform=\"translate(29.05,366.75)\" d=\"M3,0A3,3 0 1,1 0,-3A3,3 0 0,1 3,0Z\" style=\"opacity: 1; stroke-width: 0px; fill: rgb(99, 110, 250); fill-opacity: 1;\"/><path class=\"point\" transform=\"translate(29.05,366.75)\" d=\"M3,0A3,3 0 1,1 0,-3A3,3 0 0,1 3,0Z\" style=\"opacity: 1; stroke-width: 0px; fill: rgb(99, 110, 250); fill-opacity: 1;\"/><path class=\"point\" transform=\"translate(29.05,366.75)\" d=\"M3,0A3,3 0 1,1 0,-3A3,3 0 0,1 3,0Z\" style=\"opacity: 1; stroke-width: 0px; fill: rgb(99, 110, 250); fill-opacity: 1;\"/><path class=\"point\" transform=\"translate(29.05,366.75)\" d=\"M3,0A3,3 0 1,1 0,-3A3,3 0 0,1 3,0Z\" style=\"opacity: 1; stroke-width: 0px; fill: rgb(99, 110, 250); fill-opacity: 1;\"/><path class=\"point\" transform=\"translate(29.05,366.75)\" d=\"M3,0A3,3 0 1,1 0,-3A3,3 0 0,1 3,0Z\" style=\"opacity: 1; stroke-width: 0px; fill: rgb(99, 110, 250); fill-opacity: 1;\"/><path class=\"point\" transform=\"translate(29.05,366.75)\" d=\"M3,0A3,3 0 1,1 0,-3A3,3 0 0,1 3,0Z\" style=\"opacity: 1; stroke-width: 0px; fill: rgb(99, 110, 250); fill-opacity: 1;\"/><path class=\"point\" transform=\"translate(29.05,366.75)\" d=\"M3,0A3,3 0 1,1 0,-3A3,3 0 0,1 3,0Z\" style=\"opacity: 1; stroke-width: 0px; fill: rgb(99, 110, 250); fill-opacity: 1;\"/><path class=\"point\" transform=\"translate(29.05,366.75)\" d=\"M3,0A3,3 0 1,1 0,-3A3,3 0 0,1 3,0Z\" style=\"opacity: 1; stroke-width: 0px; fill: rgb(99, 110, 250); fill-opacity: 1;\"/><path class=\"point\" transform=\"translate(29.05,366.75)\" d=\"M3,0A3,3 0 1,1 0,-3A3,3 0 0,1 3,0Z\" style=\"opacity: 1; stroke-width: 0px; fill: rgb(99, 110, 250); fill-opacity: 1;\"/><path class=\"point\" transform=\"translate(29.05,366.75)\" d=\"M3,0A3,3 0 1,1 0,-3A3,3 0 0,1 3,0Z\" style=\"opacity: 1; stroke-width: 0px; fill: rgb(99, 110, 250); fill-opacity: 1;\"/><path class=\"point\" transform=\"translate(29.05,366.75)\" d=\"M3,0A3,3 0 1,1 0,-3A3,3 0 0,1 3,0Z\" style=\"opacity: 1; stroke-width: 0px; fill: rgb(99, 110, 250); fill-opacity: 1;\"/><path class=\"point\" transform=\"translate(29.05,366.75)\" d=\"M3,0A3,3 0 1,1 0,-3A3,3 0 0,1 3,0Z\" style=\"opacity: 1; stroke-width: 0px; fill: rgb(99, 110, 250); fill-opacity: 1;\"/><path class=\"point\" transform=\"translate(29.05,366.75)\" d=\"M3,0A3,3 0 1,1 0,-3A3,3 0 0,1 3,0Z\" style=\"opacity: 1; stroke-width: 0px; fill: rgb(99, 110, 250); fill-opacity: 1;\"/><path class=\"point\" transform=\"translate(29.05,366.75)\" d=\"M3,0A3,3 0 1,1 0,-3A3,3 0 0,1 3,0Z\" style=\"opacity: 1; stroke-width: 0px; fill: rgb(99, 110, 250); fill-opacity: 1;\"/><path class=\"point\" transform=\"translate(29.05,366.75)\" d=\"M3,0A3,3 0 1,1 0,-3A3,3 0 0,1 3,0Z\" style=\"opacity: 1; stroke-width: 0px; fill: rgb(99, 110, 250); fill-opacity: 1;\"/><path class=\"point\" transform=\"translate(29.05,366.75)\" d=\"M3,0A3,3 0 1,1 0,-3A3,3 0 0,1 3,0Z\" style=\"opacity: 1; stroke-width: 0px; fill: rgb(99, 110, 250); fill-opacity: 1;\"/><path class=\"point\" transform=\"translate(29.05,366.75)\" d=\"M3,0A3,3 0 1,1 0,-3A3,3 0 0,1 3,0Z\" style=\"opacity: 1; stroke-width: 0px; fill: rgb(99, 110, 250); fill-opacity: 1;\"/><path class=\"point\" transform=\"translate(29.05,366.75)\" d=\"M3,0A3,3 0 1,1 0,-3A3,3 0 0,1 3,0Z\" style=\"opacity: 1; stroke-width: 0px; fill: rgb(99, 110, 250); fill-opacity: 1;\"/><path class=\"point\" transform=\"translate(29.05,366.75)\" d=\"M3,0A3,3 0 1,1 0,-3A3,3 0 0,1 3,0Z\" style=\"opacity: 1; stroke-width: 0px; fill: rgb(99, 110, 250); fill-opacity: 1;\"/><path class=\"point\" transform=\"translate(29.05,366.75)\" d=\"M3,0A3,3 0 1,1 0,-3A3,3 0 0,1 3,0Z\" style=\"opacity: 1; stroke-width: 0px; fill: rgb(99, 110, 250); fill-opacity: 1;\"/><path class=\"point\" transform=\"translate(29.05,366.75)\" d=\"M3,0A3,3 0 1,1 0,-3A3,3 0 0,1 3,0Z\" style=\"opacity: 1; stroke-width: 0px; fill: rgb(99, 110, 250); fill-opacity: 1;\"/><path class=\"point\" transform=\"translate(29.05,366.75)\" d=\"M3,0A3,3 0 1,1 0,-3A3,3 0 0,1 3,0Z\" style=\"opacity: 1; stroke-width: 0px; fill: rgb(99, 110, 250); fill-opacity: 1;\"/><path class=\"point\" transform=\"translate(29.05,366.75)\" d=\"M3,0A3,3 0 1,1 0,-3A3,3 0 0,1 3,0Z\" style=\"opacity: 1; stroke-width: 0px; fill: rgb(99, 110, 250); fill-opacity: 1;\"/><path class=\"point\" transform=\"translate(29.05,366.75)\" d=\"M3,0A3,3 0 1,1 0,-3A3,3 0 0,1 3,0Z\" style=\"opacity: 1; stroke-width: 0px; fill: rgb(99, 110, 250); fill-opacity: 1;\"/><path class=\"point\" transform=\"translate(29.05,366.75)\" d=\"M3,0A3,3 0 1,1 0,-3A3,3 0 0,1 3,0Z\" style=\"opacity: 1; stroke-width: 0px; fill: rgb(99, 110, 250); fill-opacity: 1;\"/><path class=\"point\" transform=\"translate(29.05,366.75)\" d=\"M3,0A3,3 0 1,1 0,-3A3,3 0 0,1 3,0Z\" style=\"opacity: 1; stroke-width: 0px; fill: rgb(99, 110, 250); fill-opacity: 1;\"/><path class=\"point\" transform=\"translate(29.05,366.75)\" d=\"M3,0A3,3 0 1,1 0,-3A3,3 0 0,1 3,0Z\" style=\"opacity: 1; stroke-width: 0px; fill: rgb(99, 110, 250); fill-opacity: 1;\"/><path class=\"point\" transform=\"translate(29.05,366.75)\" d=\"M3,0A3,3 0 1,1 0,-3A3,3 0 0,1 3,0Z\" style=\"opacity: 1; stroke-width: 0px; fill: rgb(99, 110, 250); fill-opacity: 1;\"/><path class=\"point\" transform=\"translate(29.05,366.75)\" d=\"M3,0A3,3 0 1,1 0,-3A3,3 0 0,1 3,0Z\" style=\"opacity: 1; stroke-width: 0px; fill: rgb(99, 110, 250); fill-opacity: 1;\"/><path class=\"point\" transform=\"translate(29.05,366.75)\" d=\"M3,0A3,3 0 1,1 0,-3A3,3 0 0,1 3,0Z\" style=\"opacity: 1; stroke-width: 0px; fill: rgb(99, 110, 250); fill-opacity: 1;\"/><path class=\"point\" transform=\"translate(29.05,366.75)\" d=\"M3,0A3,3 0 1,1 0,-3A3,3 0 0,1 3,0Z\" style=\"opacity: 1; stroke-width: 0px; fill: rgb(99, 110, 250); fill-opacity: 1;\"/><path class=\"point\" transform=\"translate(29.05,366.75)\" d=\"M3,0A3,3 0 1,1 0,-3A3,3 0 0,1 3,0Z\" style=\"opacity: 1; stroke-width: 0px; fill: rgb(99, 110, 250); fill-opacity: 1;\"/><path class=\"point\" transform=\"translate(29.05,366.75)\" d=\"M3,0A3,3 0 1,1 0,-3A3,3 0 0,1 3,0Z\" style=\"opacity: 1; stroke-width: 0px; fill: rgb(99, 110, 250); fill-opacity: 1;\"/><path class=\"point\" transform=\"translate(29.05,366.75)\" d=\"M3,0A3,3 0 1,1 0,-3A3,3 0 0,1 3,0Z\" style=\"opacity: 1; stroke-width: 0px; fill: rgb(99, 110, 250); fill-opacity: 1;\"/><path class=\"point\" transform=\"translate(29.05,366.75)\" d=\"M3,0A3,3 0 1,1 0,-3A3,3 0 0,1 3,0Z\" style=\"opacity: 1; stroke-width: 0px; fill: rgb(99, 110, 250); fill-opacity: 1;\"/><path class=\"point\" transform=\"translate(29.05,366.75)\" d=\"M3,0A3,3 0 1,1 0,-3A3,3 0 0,1 3,0Z\" style=\"opacity: 1; stroke-width: 0px; fill: rgb(99, 110, 250); fill-opacity: 1;\"/><path class=\"point\" transform=\"translate(29.05,366.75)\" d=\"M3,0A3,3 0 1,1 0,-3A3,3 0 0,1 3,0Z\" style=\"opacity: 1; stroke-width: 0px; fill: rgb(99, 110, 250); fill-opacity: 1;\"/><path class=\"point\" transform=\"translate(29.05,366.75)\" d=\"M3,0A3,3 0 1,1 0,-3A3,3 0 0,1 3,0Z\" style=\"opacity: 1; stroke-width: 0px; fill: rgb(99, 110, 250); fill-opacity: 1;\"/><path class=\"point\" transform=\"translate(29.05,366.75)\" d=\"M3,0A3,3 0 1,1 0,-3A3,3 0 0,1 3,0Z\" style=\"opacity: 1; stroke-width: 0px; fill: rgb(99, 110, 250); fill-opacity: 1;\"/><path class=\"point\" transform=\"translate(29.05,366.75)\" d=\"M3,0A3,3 0 1,1 0,-3A3,3 0 0,1 3,0Z\" style=\"opacity: 1; stroke-width: 0px; fill: rgb(99, 110, 250); fill-opacity: 1;\"/><path class=\"point\" transform=\"translate(29.05,366.75)\" d=\"M3,0A3,3 0 1,1 0,-3A3,3 0 0,1 3,0Z\" style=\"opacity: 1; stroke-width: 0px; fill: rgb(99, 110, 250); fill-opacity: 1;\"/><path class=\"point\" transform=\"translate(29.05,366.75)\" d=\"M3,0A3,3 0 1,1 0,-3A3,3 0 0,1 3,0Z\" style=\"opacity: 1; stroke-width: 0px; fill: rgb(99, 110, 250); fill-opacity: 1;\"/><path class=\"point\" transform=\"translate(29.05,366.75)\" d=\"M3,0A3,3 0 1,1 0,-3A3,3 0 0,1 3,0Z\" style=\"opacity: 1; stroke-width: 0px; fill: rgb(99, 110, 250); fill-opacity: 1;\"/><path class=\"point\" transform=\"translate(29.05,366.75)\" d=\"M3,0A3,3 0 1,1 0,-3A3,3 0 0,1 3,0Z\" style=\"opacity: 1; stroke-width: 0px; fill: rgb(99, 110, 250); fill-opacity: 1;\"/><path class=\"point\" transform=\"translate(29.05,366.75)\" d=\"M3,0A3,3 0 1,1 0,-3A3,3 0 0,1 3,0Z\" style=\"opacity: 1; stroke-width: 0px; fill: rgb(99, 110, 250); fill-opacity: 1;\"/><path class=\"point\" transform=\"translate(29.05,366.75)\" d=\"M3,0A3,3 0 1,1 0,-3A3,3 0 0,1 3,0Z\" style=\"opacity: 1; stroke-width: 0px; fill: rgb(99, 110, 250); fill-opacity: 1;\"/><path class=\"point\" transform=\"translate(29.05,366.75)\" d=\"M3,0A3,3 0 1,1 0,-3A3,3 0 0,1 3,0Z\" style=\"opacity: 1; stroke-width: 0px; fill: rgb(99, 110, 250); fill-opacity: 1;\"/><path class=\"point\" transform=\"translate(29.05,366.75)\" d=\"M3,0A3,3 0 1,1 0,-3A3,3 0 0,1 3,0Z\" style=\"opacity: 1; stroke-width: 0px; fill: rgb(99, 110, 250); fill-opacity: 1;\"/><path class=\"point\" transform=\"translate(29.05,366.75)\" d=\"M3,0A3,3 0 1,1 0,-3A3,3 0 0,1 3,0Z\" style=\"opacity: 1; stroke-width: 0px; fill: rgb(99, 110, 250); fill-opacity: 1;\"/><path class=\"point\" transform=\"translate(29.05,366.75)\" d=\"M3,0A3,3 0 1,1 0,-3A3,3 0 0,1 3,0Z\" style=\"opacity: 1; stroke-width: 0px; fill: rgb(99, 110, 250); fill-opacity: 1;\"/><path class=\"point\" transform=\"translate(29.05,366.75)\" d=\"M3,0A3,3 0 1,1 0,-3A3,3 0 0,1 3,0Z\" style=\"opacity: 1; stroke-width: 0px; fill: rgb(99, 110, 250); fill-opacity: 1;\"/><path class=\"point\" transform=\"translate(29.05,366.75)\" d=\"M3,0A3,3 0 1,1 0,-3A3,3 0 0,1 3,0Z\" style=\"opacity: 1; stroke-width: 0px; fill: rgb(99, 110, 250); fill-opacity: 1;\"/><path class=\"point\" transform=\"translate(29.05,366.75)\" d=\"M3,0A3,3 0 1,1 0,-3A3,3 0 0,1 3,0Z\" style=\"opacity: 1; stroke-width: 0px; fill: rgb(99, 110, 250); fill-opacity: 1;\"/><path class=\"point\" transform=\"translate(29.05,366.75)\" d=\"M3,0A3,3 0 1,1 0,-3A3,3 0 0,1 3,0Z\" style=\"opacity: 1; stroke-width: 0px; fill: rgb(99, 110, 250); fill-opacity: 1;\"/><path class=\"point\" transform=\"translate(29.05,366.75)\" d=\"M3,0A3,3 0 1,1 0,-3A3,3 0 0,1 3,0Z\" style=\"opacity: 1; stroke-width: 0px; fill: rgb(99, 110, 250); fill-opacity: 1;\"/><path class=\"point\" transform=\"translate(29.05,366.75)\" d=\"M3,0A3,3 0 1,1 0,-3A3,3 0 0,1 3,0Z\" style=\"opacity: 1; stroke-width: 0px; fill: rgb(99, 110, 250); fill-opacity: 1;\"/><path class=\"point\" transform=\"translate(29.05,366.75)\" d=\"M3,0A3,3 0 1,1 0,-3A3,3 0 0,1 3,0Z\" style=\"opacity: 1; stroke-width: 0px; fill: rgb(99, 110, 250); fill-opacity: 1;\"/><path class=\"point\" transform=\"translate(29.05,366.75)\" d=\"M3,0A3,3 0 1,1 0,-3A3,3 0 0,1 3,0Z\" style=\"opacity: 1; stroke-width: 0px; fill: rgb(99, 110, 250); fill-opacity: 1;\"/><path class=\"point\" transform=\"translate(29.05,366.75)\" d=\"M3,0A3,3 0 1,1 0,-3A3,3 0 0,1 3,0Z\" style=\"opacity: 1; stroke-width: 0px; fill: rgb(99, 110, 250); fill-opacity: 1;\"/><path class=\"point\" transform=\"translate(29.05,366.75)\" d=\"M3,0A3,3 0 1,1 0,-3A3,3 0 0,1 3,0Z\" style=\"opacity: 1; stroke-width: 0px; fill: rgb(99, 110, 250); fill-opacity: 1;\"/><path class=\"point\" transform=\"translate(29.05,366.75)\" d=\"M3,0A3,3 0 1,1 0,-3A3,3 0 0,1 3,0Z\" style=\"opacity: 1; stroke-width: 0px; fill: rgb(99, 110, 250); fill-opacity: 1;\"/><path class=\"point\" transform=\"translate(29.05,366.75)\" d=\"M3,0A3,3 0 1,1 0,-3A3,3 0 0,1 3,0Z\" style=\"opacity: 1; stroke-width: 0px; fill: rgb(99, 110, 250); fill-opacity: 1;\"/><path class=\"point\" transform=\"translate(29.05,366.75)\" d=\"M3,0A3,3 0 1,1 0,-3A3,3 0 0,1 3,0Z\" style=\"opacity: 1; stroke-width: 0px; fill: rgb(99, 110, 250); fill-opacity: 1;\"/><path class=\"point\" transform=\"translate(29.05,366.75)\" d=\"M3,0A3,3 0 1,1 0,-3A3,3 0 0,1 3,0Z\" style=\"opacity: 1; stroke-width: 0px; fill: rgb(99, 110, 250); fill-opacity: 1;\"/><path class=\"point\" transform=\"translate(29.05,366.75)\" d=\"M3,0A3,3 0 1,1 0,-3A3,3 0 0,1 3,0Z\" style=\"opacity: 1; stroke-width: 0px; fill: rgb(99, 110, 250); fill-opacity: 1;\"/><path class=\"point\" transform=\"translate(29.05,366.75)\" d=\"M3,0A3,3 0 1,1 0,-3A3,3 0 0,1 3,0Z\" style=\"opacity: 1; stroke-width: 0px; fill: rgb(99, 110, 250); fill-opacity: 1;\"/><path class=\"point\" transform=\"translate(29.05,366.75)\" d=\"M3,0A3,3 0 1,1 0,-3A3,3 0 0,1 3,0Z\" style=\"opacity: 1; stroke-width: 0px; fill: rgb(99, 110, 250); fill-opacity: 1;\"/><path class=\"point\" transform=\"translate(29.05,366.75)\" d=\"M3,0A3,3 0 1,1 0,-3A3,3 0 0,1 3,0Z\" style=\"opacity: 1; stroke-width: 0px; fill: rgb(99, 110, 250); fill-opacity: 1;\"/><path class=\"point\" transform=\"translate(29.05,366.75)\" d=\"M3,0A3,3 0 1,1 0,-3A3,3 0 0,1 3,0Z\" style=\"opacity: 1; stroke-width: 0px; fill: rgb(99, 110, 250); fill-opacity: 1;\"/><path class=\"point\" transform=\"translate(29.06,366.75)\" d=\"M3,0A3,3 0 1,1 0,-3A3,3 0 0,1 3,0Z\" style=\"opacity: 1; stroke-width: 0px; fill: rgb(99, 110, 250); fill-opacity: 1;\"/><path class=\"point\" transform=\"translate(29.06,366.75)\" d=\"M3,0A3,3 0 1,1 0,-3A3,3 0 0,1 3,0Z\" style=\"opacity: 1; stroke-width: 0px; fill: rgb(99, 110, 250); fill-opacity: 1;\"/><path class=\"point\" transform=\"translate(29.06,366.75)\" d=\"M3,0A3,3 0 1,1 0,-3A3,3 0 0,1 3,0Z\" style=\"opacity: 1; stroke-width: 0px; fill: rgb(99, 110, 250); fill-opacity: 1;\"/><path class=\"point\" transform=\"translate(29.06,366.75)\" d=\"M3,0A3,3 0 1,1 0,-3A3,3 0 0,1 3,0Z\" style=\"opacity: 1; stroke-width: 0px; fill: rgb(99, 110, 250); fill-opacity: 1;\"/><path class=\"point\" transform=\"translate(29.06,366.75)\" d=\"M3,0A3,3 0 1,1 0,-3A3,3 0 0,1 3,0Z\" style=\"opacity: 1; stroke-width: 0px; fill: rgb(99, 110, 250); fill-opacity: 1;\"/><path class=\"point\" transform=\"translate(29.07,366.75)\" d=\"M3,0A3,3 0 1,1 0,-3A3,3 0 0,1 3,0Z\" style=\"opacity: 1; stroke-width: 0px; fill: rgb(99, 110, 250); fill-opacity: 1;\"/><path class=\"point\" transform=\"translate(29.07,366.75)\" d=\"M3,0A3,3 0 1,1 0,-3A3,3 0 0,1 3,0Z\" style=\"opacity: 1; stroke-width: 0px; fill: rgb(99, 110, 250); fill-opacity: 1;\"/><path class=\"point\" transform=\"translate(29.07,366.74)\" d=\"M3,0A3,3 0 1,1 0,-3A3,3 0 0,1 3,0Z\" style=\"opacity: 1; stroke-width: 0px; fill: rgb(99, 110, 250); fill-opacity: 1;\"/><path class=\"point\" transform=\"translate(29.08,366.75)\" d=\"M3,0A3,3 0 1,1 0,-3A3,3 0 0,1 3,0Z\" style=\"opacity: 1; stroke-width: 0px; fill: rgb(99, 110, 250); fill-opacity: 1;\"/><path class=\"point\" transform=\"translate(29.08,366.75)\" d=\"M3,0A3,3 0 1,1 0,-3A3,3 0 0,1 3,0Z\" style=\"opacity: 1; stroke-width: 0px; fill: rgb(99, 110, 250); fill-opacity: 1;\"/><path class=\"point\" transform=\"translate(29.08,23.25)\" d=\"M3,0A3,3 0 1,1 0,-3A3,3 0 0,1 3,0Z\" style=\"opacity: 1; stroke-width: 0px; fill: rgb(99, 110, 250); fill-opacity: 1;\"/><path class=\"point\" transform=\"translate(29.09,55.98)\" d=\"M3,0A3,3 0 1,1 0,-3A3,3 0 0,1 3,0Z\" style=\"opacity: 1; stroke-width: 0px; fill: rgb(99, 110, 250); fill-opacity: 1;\"/><path class=\"point\" transform=\"translate(29.12,80.45)\" d=\"M3,0A3,3 0 1,1 0,-3A3,3 0 0,1 3,0Z\" style=\"opacity: 1; stroke-width: 0px; fill: rgb(99, 110, 250); fill-opacity: 1;\"/><path class=\"point\" transform=\"translate(29.14,91.71)\" d=\"M3,0A3,3 0 1,1 0,-3A3,3 0 0,1 3,0Z\" style=\"opacity: 1; stroke-width: 0px; fill: rgb(99, 110, 250); fill-opacity: 1;\"/><path class=\"point\" transform=\"translate(29.16,102.66)\" d=\"M3,0A3,3 0 1,1 0,-3A3,3 0 0,1 3,0Z\" style=\"opacity: 1; stroke-width: 0px; fill: rgb(99, 110, 250); fill-opacity: 1;\"/><path class=\"point\" transform=\"translate(29.18,113.38)\" d=\"M3,0A3,3 0 1,1 0,-3A3,3 0 0,1 3,0Z\" style=\"opacity: 1; stroke-width: 0px; fill: rgb(99, 110, 250); fill-opacity: 1;\"/><path class=\"point\" transform=\"translate(29.21,118.42)\" d=\"M3,0A3,3 0 1,1 0,-3A3,3 0 0,1 3,0Z\" style=\"opacity: 1; stroke-width: 0px; fill: rgb(99, 110, 250); fill-opacity: 1;\"/><path class=\"point\" transform=\"translate(29.23,123.31)\" d=\"M3,0A3,3 0 1,1 0,-3A3,3 0 0,1 3,0Z\" style=\"opacity: 1; stroke-width: 0px; fill: rgb(99, 110, 250); fill-opacity: 1;\"/><path class=\"point\" transform=\"translate(29.25,128.07)\" d=\"M3,0A3,3 0 1,1 0,-3A3,3 0 0,1 3,0Z\" style=\"opacity: 1; stroke-width: 0px; fill: rgb(99, 110, 250); fill-opacity: 1;\"/><path class=\"point\" transform=\"translate(29.27,132.73)\" d=\"M3,0A3,3 0 1,1 0,-3A3,3 0 0,1 3,0Z\" style=\"opacity: 1; stroke-width: 0px; fill: rgb(99, 110, 250); fill-opacity: 1;\"/><path class=\"point\" transform=\"translate(29.39,145.03)\" d=\"M3,0A3,3 0 1,1 0,-3A3,3 0 0,1 3,0Z\" style=\"opacity: 1; stroke-width: 0px; fill: rgb(99, 110, 250); fill-opacity: 1;\"/><path class=\"point\" transform=\"translate(29.5,155.78)\" d=\"M3,0A3,3 0 1,1 0,-3A3,3 0 0,1 3,0Z\" style=\"opacity: 1; stroke-width: 0px; fill: rgb(99, 110, 250); fill-opacity: 1;\"/><path class=\"point\" transform=\"translate(29.61,163.05)\" d=\"M3,0A3,3 0 1,1 0,-3A3,3 0 0,1 3,0Z\" style=\"opacity: 1; stroke-width: 0px; fill: rgb(99, 110, 250); fill-opacity: 1;\"/><path class=\"point\" transform=\"translate(29.72,169.46)\" d=\"M3,0A3,3 0 1,1 0,-3A3,3 0 0,1 3,0Z\" style=\"opacity: 1; stroke-width: 0px; fill: rgb(99, 110, 250); fill-opacity: 1;\"/><path class=\"point\" transform=\"translate(29.83,175.14)\" d=\"M3,0A3,3 0 1,1 0,-3A3,3 0 0,1 3,0Z\" style=\"opacity: 1; stroke-width: 0px; fill: rgb(99, 110, 250); fill-opacity: 1;\"/><path class=\"point\" transform=\"translate(29.95,180.26)\" d=\"M3,0A3,3 0 1,1 0,-3A3,3 0 0,1 3,0Z\" style=\"opacity: 1; stroke-width: 0px; fill: rgb(99, 110, 250); fill-opacity: 1;\"/><path class=\"point\" transform=\"translate(30.06,185.16)\" d=\"M3,0A3,3 0 1,1 0,-3A3,3 0 0,1 3,0Z\" style=\"opacity: 1; stroke-width: 0px; fill: rgb(99, 110, 250); fill-opacity: 1;\"/><path class=\"point\" transform=\"translate(30.17,189.66)\" d=\"M3,0A3,3 0 1,1 0,-3A3,3 0 0,1 3,0Z\" style=\"opacity: 1; stroke-width: 0px; fill: rgb(99, 110, 250); fill-opacity: 1;\"/><path class=\"point\" transform=\"translate(30.28,194.06)\" d=\"M3,0A3,3 0 1,1 0,-3A3,3 0 0,1 3,0Z\" style=\"opacity: 1; stroke-width: 0px; fill: rgb(99, 110, 250); fill-opacity: 1;\"/><path class=\"point\" transform=\"translate(30.39,198.16)\" d=\"M3,0A3,3 0 1,1 0,-3A3,3 0 0,1 3,0Z\" style=\"opacity: 1; stroke-width: 0px; fill: rgb(99, 110, 250); fill-opacity: 1;\"/><path class=\"point\" transform=\"translate(30.51,202.15)\" d=\"M3,0A3,3 0 1,1 0,-3A3,3 0 0,1 3,0Z\" style=\"opacity: 1; stroke-width: 0px; fill: rgb(99, 110, 250); fill-opacity: 1;\"/><path class=\"point\" transform=\"translate(30.62,205.9)\" d=\"M3,0A3,3 0 1,1 0,-3A3,3 0 0,1 3,0Z\" style=\"opacity: 1; stroke-width: 0px; fill: rgb(99, 110, 250); fill-opacity: 1;\"/><path class=\"point\" transform=\"translate(30.73,209.52)\" d=\"M3,0A3,3 0 1,1 0,-3A3,3 0 0,1 3,0Z\" style=\"opacity: 1; stroke-width: 0px; fill: rgb(99, 110, 250); fill-opacity: 1;\"/><path class=\"point\" transform=\"translate(30.84,212.93)\" d=\"M3,0A3,3 0 1,1 0,-3A3,3 0 0,1 3,0Z\" style=\"opacity: 1; stroke-width: 0px; fill: rgb(99, 110, 250); fill-opacity: 1;\"/><path class=\"point\" transform=\"translate(30.95,216.18)\" d=\"M3,0A3,3 0 1,1 0,-3A3,3 0 0,1 3,0Z\" style=\"opacity: 1; stroke-width: 0px; fill: rgb(99, 110, 250); fill-opacity: 1;\"/><path class=\"point\" transform=\"translate(31.03,218.15)\" d=\"M3,0A3,3 0 1,1 0,-3A3,3 0 0,1 3,0Z\" style=\"opacity: 1; stroke-width: 0px; fill: rgb(99, 110, 250); fill-opacity: 1;\"/><path class=\"point\" transform=\"translate(31.07,219.24)\" d=\"M3,0A3,3 0 1,1 0,-3A3,3 0 0,1 3,0Z\" style=\"opacity: 1; stroke-width: 0px; fill: rgb(99, 110, 250); fill-opacity: 1;\"/><path class=\"point\" transform=\"translate(31.18,222.11)\" d=\"M3,0A3,3 0 1,1 0,-3A3,3 0 0,1 3,0Z\" style=\"opacity: 1; stroke-width: 0px; fill: rgb(99, 110, 250); fill-opacity: 1;\"/><path class=\"point\" transform=\"translate(31.29,224.8)\" d=\"M3,0A3,3 0 1,1 0,-3A3,3 0 0,1 3,0Z\" style=\"opacity: 1; stroke-width: 0px; fill: rgb(99, 110, 250); fill-opacity: 1;\"/><path class=\"point\" transform=\"translate(31.41,231.09)\" d=\"M3,0A3,3 0 1,1 0,-3A3,3 0 0,1 3,0Z\" style=\"opacity: 1; stroke-width: 0px; fill: rgb(99, 110, 250); fill-opacity: 1;\"/><path class=\"point\" transform=\"translate(31.51,232.23)\" d=\"M3,0A3,3 0 1,1 0,-3A3,3 0 0,1 3,0Z\" style=\"opacity: 1; stroke-width: 0px; fill: rgb(99, 110, 250); fill-opacity: 1;\"/><path class=\"point\" transform=\"translate(31.74,234.65)\" d=\"M3,0A3,3 0 1,1 0,-3A3,3 0 0,1 3,0Z\" style=\"opacity: 1; stroke-width: 0px; fill: rgb(99, 110, 250); fill-opacity: 1;\"/><path class=\"point\" transform=\"translate(31.81,237.1)\" d=\"M3,0A3,3 0 1,1 0,-3A3,3 0 0,1 3,0Z\" style=\"opacity: 1; stroke-width: 0px; fill: rgb(99, 110, 250); fill-opacity: 1;\"/><path class=\"point\" transform=\"translate(31.96,239.92)\" d=\"M3,0A3,3 0 1,1 0,-3A3,3 0 0,1 3,0Z\" style=\"opacity: 1; stroke-width: 0px; fill: rgb(99, 110, 250); fill-opacity: 1;\"/><path class=\"point\" transform=\"translate(32.18,243.96)\" d=\"M3,0A3,3 0 1,1 0,-3A3,3 0 0,1 3,0Z\" style=\"opacity: 1; stroke-width: 0px; fill: rgb(99, 110, 250); fill-opacity: 1;\"/><path class=\"point\" transform=\"translate(32.19,244.06)\" d=\"M3,0A3,3 0 1,1 0,-3A3,3 0 0,1 3,0Z\" style=\"opacity: 1; stroke-width: 0px; fill: rgb(99, 110, 250); fill-opacity: 1;\"/><path class=\"point\" transform=\"translate(32.41,248.06)\" d=\"M3,0A3,3 0 1,1 0,-3A3,3 0 0,1 3,0Z\" style=\"opacity: 1; stroke-width: 0px; fill: rgb(99, 110, 250); fill-opacity: 1;\"/><path class=\"point\" transform=\"translate(32.5,249.66)\" d=\"M3,0A3,3 0 1,1 0,-3A3,3 0 0,1 3,0Z\" style=\"opacity: 1; stroke-width: 0px; fill: rgb(99, 110, 250); fill-opacity: 1;\"/><path class=\"point\" transform=\"translate(32.59,251.13)\" d=\"M3,0A3,3 0 1,1 0,-3A3,3 0 0,1 3,0Z\" style=\"opacity: 1; stroke-width: 0px; fill: rgb(99, 110, 250); fill-opacity: 1;\"/><path class=\"point\" transform=\"translate(32.63,251.74)\" d=\"M3,0A3,3 0 1,1 0,-3A3,3 0 0,1 3,0Z\" style=\"opacity: 1; stroke-width: 0px; fill: rgb(99, 110, 250); fill-opacity: 1;\"/><path class=\"point\" transform=\"translate(32.86,256.31)\" d=\"M3,0A3,3 0 1,1 0,-3A3,3 0 0,1 3,0Z\" style=\"opacity: 1; stroke-width: 0px; fill: rgb(99, 110, 250); fill-opacity: 1;\"/><path class=\"point\" transform=\"translate(32.93,257.71)\" d=\"M3,0A3,3 0 1,1 0,-3A3,3 0 0,1 3,0Z\" style=\"opacity: 1; stroke-width: 0px; fill: rgb(99, 110, 250); fill-opacity: 1;\"/><path class=\"point\" transform=\"translate(33.02,257.61)\" d=\"M3,0A3,3 0 1,1 0,-3A3,3 0 0,1 3,0Z\" style=\"opacity: 1; stroke-width: 0px; fill: rgb(99, 110, 250); fill-opacity: 1;\"/><path class=\"point\" transform=\"translate(33.07,257.54)\" d=\"M3,0A3,3 0 1,1 0,-3A3,3 0 0,1 3,0Z\" style=\"opacity: 1; stroke-width: 0px; fill: rgb(99, 110, 250); fill-opacity: 1;\"/><path class=\"point\" transform=\"translate(33.08,257.53)\" d=\"M3,0A3,3 0 1,1 0,-3A3,3 0 0,1 3,0Z\" style=\"opacity: 1; stroke-width: 0px; fill: rgb(99, 110, 250); fill-opacity: 1;\"/><path class=\"point\" transform=\"translate(33.2,258.74)\" d=\"M3,0A3,3 0 1,1 0,-3A3,3 0 0,1 3,0Z\" style=\"opacity: 1; stroke-width: 0px; fill: rgb(99, 110, 250); fill-opacity: 1;\"/><path class=\"point\" transform=\"translate(33.29,259.54)\" d=\"M3,0A3,3 0 1,1 0,-3A3,3 0 0,1 3,0Z\" style=\"opacity: 1; stroke-width: 0px; fill: rgb(99, 110, 250); fill-opacity: 1;\"/><path class=\"point\" transform=\"translate(33.3,259.69)\" d=\"M3,0A3,3 0 1,1 0,-3A3,3 0 0,1 3,0Z\" style=\"opacity: 1; stroke-width: 0px; fill: rgb(99, 110, 250); fill-opacity: 1;\"/><path class=\"point\" transform=\"translate(33.31,259.71)\" d=\"M3,0A3,3 0 1,1 0,-3A3,3 0 0,1 3,0Z\" style=\"opacity: 1; stroke-width: 0px; fill: rgb(99, 110, 250); fill-opacity: 1;\"/><path class=\"point\" transform=\"translate(33.32,259.83)\" d=\"M3,0A3,3 0 1,1 0,-3A3,3 0 0,1 3,0Z\" style=\"opacity: 1; stroke-width: 0px; fill: rgb(99, 110, 250); fill-opacity: 1;\"/><path class=\"point\" transform=\"translate(33.32,259.89)\" d=\"M3,0A3,3 0 1,1 0,-3A3,3 0 0,1 3,0Z\" style=\"opacity: 1; stroke-width: 0px; fill: rgb(99, 110, 250); fill-opacity: 1;\"/><path class=\"point\" transform=\"translate(33.33,259.95)\" d=\"M3,0A3,3 0 1,1 0,-3A3,3 0 0,1 3,0Z\" style=\"opacity: 1; stroke-width: 0px; fill: rgb(99, 110, 250); fill-opacity: 1;\"/><path class=\"point\" transform=\"translate(33.53,261.66)\" d=\"M3,0A3,3 0 1,1 0,-3A3,3 0 0,1 3,0Z\" style=\"opacity: 1; stroke-width: 0px; fill: rgb(99, 110, 250); fill-opacity: 1;\"/><path class=\"point\" transform=\"translate(33.75,263.37)\" d=\"M3,0A3,3 0 1,1 0,-3A3,3 0 0,1 3,0Z\" style=\"opacity: 1; stroke-width: 0px; fill: rgb(99, 110, 250); fill-opacity: 1;\"/><path class=\"point\" transform=\"translate(33.94,264.65)\" d=\"M3,0A3,3 0 1,1 0,-3A3,3 0 0,1 3,0Z\" style=\"opacity: 1; stroke-width: 0px; fill: rgb(99, 110, 250); fill-opacity: 1;\"/><path class=\"point\" transform=\"translate(33.95,265.04)\" d=\"M3,0A3,3 0 1,1 0,-3A3,3 0 0,1 3,0Z\" style=\"opacity: 1; stroke-width: 0px; fill: rgb(99, 110, 250); fill-opacity: 1;\"/><path class=\"point\" transform=\"translate(33.98,264.06)\" d=\"M3,0A3,3 0 1,1 0,-3A3,3 0 0,1 3,0Z\" style=\"opacity: 1; stroke-width: 0px; fill: rgb(99, 110, 250); fill-opacity: 1;\"/><path class=\"point\" transform=\"translate(34.2,265.22)\" d=\"M3,0A3,3 0 1,1 0,-3A3,3 0 0,1 3,0Z\" style=\"opacity: 1; stroke-width: 0px; fill: rgb(99, 110, 250); fill-opacity: 1;\"/><path class=\"point\" transform=\"translate(34.29,265.65)\" d=\"M3,0A3,3 0 1,1 0,-3A3,3 0 0,1 3,0Z\" style=\"opacity: 1; stroke-width: 0px; fill: rgb(99, 110, 250); fill-opacity: 1;\"/><path class=\"point\" transform=\"translate(34.42,265.72)\" d=\"M3,0A3,3 0 1,1 0,-3A3,3 0 0,1 3,0Z\" style=\"opacity: 1; stroke-width: 0px; fill: rgb(99, 110, 250); fill-opacity: 1;\"/><path class=\"point\" transform=\"translate(34.62,266.85)\" d=\"M3,0A3,3 0 1,1 0,-3A3,3 0 0,1 3,0Z\" style=\"opacity: 1; stroke-width: 0px; fill: rgb(99, 110, 250); fill-opacity: 1;\"/><path class=\"point\" transform=\"translate(34.65,266.86)\" d=\"M3,0A3,3 0 1,1 0,-3A3,3 0 0,1 3,0Z\" style=\"opacity: 1; stroke-width: 0px; fill: rgb(99, 110, 250); fill-opacity: 1;\"/><path class=\"point\" transform=\"translate(34.81,266.89)\" d=\"M3,0A3,3 0 1,1 0,-3A3,3 0 0,1 3,0Z\" style=\"opacity: 1; stroke-width: 0px; fill: rgb(99, 110, 250); fill-opacity: 1;\"/><path class=\"point\" transform=\"translate(34.87,266.24)\" d=\"M3,0A3,3 0 1,1 0,-3A3,3 0 0,1 3,0Z\" style=\"opacity: 1; stroke-width: 0px; fill: rgb(99, 110, 250); fill-opacity: 1;\"/><path class=\"point\" transform=\"translate(34.87,266.22)\" d=\"M3,0A3,3 0 1,1 0,-3A3,3 0 0,1 3,0Z\" style=\"opacity: 1; stroke-width: 0px; fill: rgb(99, 110, 250); fill-opacity: 1;\"/><path class=\"point\" transform=\"translate(35.1,266.17)\" d=\"M3,0A3,3 0 1,1 0,-3A3,3 0 0,1 3,0Z\" style=\"opacity: 1; stroke-width: 0px; fill: rgb(99, 110, 250); fill-opacity: 1;\"/><path class=\"point\" transform=\"translate(35.32,266)\" d=\"M3,0A3,3 0 1,1 0,-3A3,3 0 0,1 3,0Z\" style=\"opacity: 1; stroke-width: 0px; fill: rgb(99, 110, 250); fill-opacity: 1;\"/><path class=\"point\" transform=\"translate(35.43,266.13)\" d=\"M3,0A3,3 0 1,1 0,-3A3,3 0 0,1 3,0Z\" style=\"opacity: 1; stroke-width: 0px; fill: rgb(99, 110, 250); fill-opacity: 1;\"/><path class=\"point\" transform=\"translate(35.54,266.05)\" d=\"M3,0A3,3 0 1,1 0,-3A3,3 0 0,1 3,0Z\" style=\"opacity: 1; stroke-width: 0px; fill: rgb(99, 110, 250); fill-opacity: 1;\"/><path class=\"point\" transform=\"translate(35.61,265.99)\" d=\"M3,0A3,3 0 1,1 0,-3A3,3 0 0,1 3,0Z\" style=\"opacity: 1; stroke-width: 0px; fill: rgb(99, 110, 250); fill-opacity: 1;\"/><path class=\"point\" transform=\"translate(35.74,265.61)\" d=\"M3,0A3,3 0 1,1 0,-3A3,3 0 0,1 3,0Z\" style=\"opacity: 1; stroke-width: 0px; fill: rgb(99, 110, 250); fill-opacity: 1;\"/><path class=\"point\" transform=\"translate(35.77,265.28)\" d=\"M3,0A3,3 0 1,1 0,-3A3,3 0 0,1 3,0Z\" style=\"opacity: 1; stroke-width: 0px; fill: rgb(99, 110, 250); fill-opacity: 1;\"/><path class=\"point\" transform=\"translate(35.97,265.43)\" d=\"M3,0A3,3 0 1,1 0,-3A3,3 0 0,1 3,0Z\" style=\"opacity: 1; stroke-width: 0px; fill: rgb(99, 110, 250); fill-opacity: 1;\"/><path class=\"point\" transform=\"translate(35.99,265.39)\" d=\"M3,0A3,3 0 1,1 0,-3A3,3 0 0,1 3,0Z\" style=\"opacity: 1; stroke-width: 0px; fill: rgb(99, 110, 250); fill-opacity: 1;\"/><path class=\"point\" transform=\"translate(36,265.38)\" d=\"M3,0A3,3 0 1,1 0,-3A3,3 0 0,1 3,0Z\" style=\"opacity: 1; stroke-width: 0px; fill: rgb(99, 110, 250); fill-opacity: 1;\"/><path class=\"point\" transform=\"translate(36.11,265.02)\" d=\"M3,0A3,3 0 1,1 0,-3A3,3 0 0,1 3,0Z\" style=\"opacity: 1; stroke-width: 0px; fill: rgb(99, 110, 250); fill-opacity: 1;\"/><path class=\"point\" transform=\"translate(36.16,264.76)\" d=\"M3,0A3,3 0 1,1 0,-3A3,3 0 0,1 3,0Z\" style=\"opacity: 1; stroke-width: 0px; fill: rgb(99, 110, 250); fill-opacity: 1;\"/><path class=\"point\" transform=\"translate(36.22,264.22)\" d=\"M3,0A3,3 0 1,1 0,-3A3,3 0 0,1 3,0Z\" style=\"opacity: 1; stroke-width: 0px; fill: rgb(99, 110, 250); fill-opacity: 1;\"/><path class=\"point\" transform=\"translate(36.28,264.4)\" d=\"M3,0A3,3 0 1,1 0,-3A3,3 0 0,1 3,0Z\" style=\"opacity: 1; stroke-width: 0px; fill: rgb(99, 110, 250); fill-opacity: 1;\"/><path class=\"point\" transform=\"translate(36.31,264.41)\" d=\"M3,0A3,3 0 1,1 0,-3A3,3 0 0,1 3,0Z\" style=\"opacity: 1; stroke-width: 0px; fill: rgb(99, 110, 250); fill-opacity: 1;\"/><path class=\"point\" transform=\"translate(36.42,264.33)\" d=\"M3,0A3,3 0 1,1 0,-3A3,3 0 0,1 3,0Z\" style=\"opacity: 1; stroke-width: 0px; fill: rgb(99, 110, 250); fill-opacity: 1;\"/><path class=\"point\" transform=\"translate(36.44,264.26)\" d=\"M3,0A3,3 0 1,1 0,-3A3,3 0 0,1 3,0Z\" style=\"opacity: 1; stroke-width: 0px; fill: rgb(99, 110, 250); fill-opacity: 1;\"/><path class=\"point\" transform=\"translate(36.54,263.97)\" d=\"M3,0A3,3 0 1,1 0,-3A3,3 0 0,1 3,0Z\" style=\"opacity: 1; stroke-width: 0px; fill: rgb(99, 110, 250); fill-opacity: 1;\"/><path class=\"point\" transform=\"translate(36.54,263.95)\" d=\"M3,0A3,3 0 1,1 0,-3A3,3 0 0,1 3,0Z\" style=\"opacity: 1; stroke-width: 0px; fill: rgb(99, 110, 250); fill-opacity: 1;\"/><path class=\"point\" transform=\"translate(36.58,263.75)\" d=\"M3,0A3,3 0 1,1 0,-3A3,3 0 0,1 3,0Z\" style=\"opacity: 1; stroke-width: 0px; fill: rgb(99, 110, 250); fill-opacity: 1;\"/><path class=\"point\" transform=\"translate(36.63,263.37)\" d=\"M3,0A3,3 0 1,1 0,-3A3,3 0 0,1 3,0Z\" style=\"opacity: 1; stroke-width: 0px; fill: rgb(99, 110, 250); fill-opacity: 1;\"/><path class=\"point\" transform=\"translate(36.65,263.11)\" d=\"M3,0A3,3 0 1,1 0,-3A3,3 0 0,1 3,0Z\" style=\"opacity: 1; stroke-width: 0px; fill: rgb(99, 110, 250); fill-opacity: 1;\"/><path class=\"point\" transform=\"translate(36.66,262.96)\" d=\"M3,0A3,3 0 1,1 0,-3A3,3 0 0,1 3,0Z\" style=\"opacity: 1; stroke-width: 0px; fill: rgb(99, 110, 250); fill-opacity: 1;\"/><path class=\"point\" transform=\"translate(36.66,262.94)\" d=\"M3,0A3,3 0 1,1 0,-3A3,3 0 0,1 3,0Z\" style=\"opacity: 1; stroke-width: 0px; fill: rgb(99, 110, 250); fill-opacity: 1;\"/><path class=\"point\" transform=\"translate(36.71,263.09)\" d=\"M3,0A3,3 0 1,1 0,-3A3,3 0 0,1 3,0Z\" style=\"opacity: 1; stroke-width: 0px; fill: rgb(99, 110, 250); fill-opacity: 1;\"/><path class=\"point\" transform=\"translate(36.81,263.26)\" d=\"M3,0A3,3 0 1,1 0,-3A3,3 0 0,1 3,0Z\" style=\"opacity: 1; stroke-width: 0px; fill: rgb(99, 110, 250); fill-opacity: 1;\"/><path class=\"point\" transform=\"translate(36.83,263.28)\" d=\"M3,0A3,3 0 1,1 0,-3A3,3 0 0,1 3,0Z\" style=\"opacity: 1; stroke-width: 0px; fill: rgb(99, 110, 250); fill-opacity: 1;\"/><path class=\"point\" transform=\"translate(36.84,263.27)\" d=\"M3,0A3,3 0 1,1 0,-3A3,3 0 0,1 3,0Z\" style=\"opacity: 1; stroke-width: 0px; fill: rgb(99, 110, 250); fill-opacity: 1;\"/><path class=\"point\" transform=\"translate(36.85,263.27)\" d=\"M3,0A3,3 0 1,1 0,-3A3,3 0 0,1 3,0Z\" style=\"opacity: 1; stroke-width: 0px; fill: rgb(99, 110, 250); fill-opacity: 1;\"/><path class=\"point\" transform=\"translate(36.89,262.98)\" d=\"M3,0A3,3 0 1,1 0,-3A3,3 0 0,1 3,0Z\" style=\"opacity: 1; stroke-width: 0px; fill: rgb(99, 110, 250); fill-opacity: 1;\"/><path class=\"point\" transform=\"translate(37.11,261.44)\" d=\"M3,0A3,3 0 1,1 0,-3A3,3 0 0,1 3,0Z\" style=\"opacity: 1; stroke-width: 0px; fill: rgb(99, 110, 250); fill-opacity: 1;\"/><path class=\"point\" transform=\"translate(37.34,260.75)\" d=\"M3,0A3,3 0 1,1 0,-3A3,3 0 0,1 3,0Z\" style=\"opacity: 1; stroke-width: 0px; fill: rgb(99, 110, 250); fill-opacity: 1;\"/><path class=\"point\" transform=\"translate(37.56,260.03)\" d=\"M3,0A3,3 0 1,1 0,-3A3,3 0 0,1 3,0Z\" style=\"opacity: 1; stroke-width: 0px; fill: rgb(99, 110, 250); fill-opacity: 1;\"/><path class=\"point\" transform=\"translate(37.78,259.36)\" d=\"M3,0A3,3 0 1,1 0,-3A3,3 0 0,1 3,0Z\" style=\"opacity: 1; stroke-width: 0px; fill: rgb(99, 110, 250); fill-opacity: 1;\"/><path class=\"point\" transform=\"translate(38.01,258.67)\" d=\"M3,0A3,3 0 1,1 0,-3A3,3 0 0,1 3,0Z\" style=\"opacity: 1; stroke-width: 0px; fill: rgb(99, 110, 250); fill-opacity: 1;\"/><path class=\"point\" transform=\"translate(38.34,257.73)\" d=\"M3,0A3,3 0 1,1 0,-3A3,3 0 0,1 3,0Z\" style=\"opacity: 1; stroke-width: 0px; fill: rgb(99, 110, 250); fill-opacity: 1;\"/><path class=\"point\" transform=\"translate(38.46,257.39)\" d=\"M3,0A3,3 0 1,1 0,-3A3,3 0 0,1 3,0Z\" style=\"opacity: 1; stroke-width: 0px; fill: rgb(99, 110, 250); fill-opacity: 1;\"/><path class=\"point\" transform=\"translate(38.9,256.23)\" d=\"M3,0A3,3 0 1,1 0,-3A3,3 0 0,1 3,0Z\" style=\"opacity: 1; stroke-width: 0px; fill: rgb(99, 110, 250); fill-opacity: 1;\"/><path class=\"point\" transform=\"translate(39.35,255.2)\" d=\"M3,0A3,3 0 1,1 0,-3A3,3 0 0,1 3,0Z\" style=\"opacity: 1; stroke-width: 0px; fill: rgb(99, 110, 250); fill-opacity: 1;\"/><path class=\"point\" transform=\"translate(39.8,254.3)\" d=\"M3,0A3,3 0 1,1 0,-3A3,3 0 0,1 3,0Z\" style=\"opacity: 1; stroke-width: 0px; fill: rgb(99, 110, 250); fill-opacity: 1;\"/><path class=\"point\" transform=\"translate(40.25,253.51)\" d=\"M3,0A3,3 0 1,1 0,-3A3,3 0 0,1 3,0Z\" style=\"opacity: 1; stroke-width: 0px; fill: rgb(99, 110, 250); fill-opacity: 1;\"/><path class=\"point\" transform=\"translate(40.7,252.84)\" d=\"M3,0A3,3 0 1,1 0,-3A3,3 0 0,1 3,0Z\" style=\"opacity: 1; stroke-width: 0px; fill: rgb(99, 110, 250); fill-opacity: 1;\"/><path class=\"point\" transform=\"translate(41.14,252.28)\" d=\"M3,0A3,3 0 1,1 0,-3A3,3 0 0,1 3,0Z\" style=\"opacity: 1; stroke-width: 0px; fill: rgb(99, 110, 250); fill-opacity: 1;\"/><path class=\"point\" transform=\"translate(41.59,251.81)\" d=\"M3,0A3,3 0 1,1 0,-3A3,3 0 0,1 3,0Z\" style=\"opacity: 1; stroke-width: 0px; fill: rgb(99, 110, 250); fill-opacity: 1;\"/><path class=\"point\" transform=\"translate(42.04,251.43)\" d=\"M3,0A3,3 0 1,1 0,-3A3,3 0 0,1 3,0Z\" style=\"opacity: 1; stroke-width: 0px; fill: rgb(99, 110, 250); fill-opacity: 1;\"/><path class=\"point\" transform=\"translate(42.49,251.13)\" d=\"M3,0A3,3 0 1,1 0,-3A3,3 0 0,1 3,0Z\" style=\"opacity: 1; stroke-width: 0px; fill: rgb(99, 110, 250); fill-opacity: 1;\"/><path class=\"point\" transform=\"translate(42.56,251.08)\" d=\"M3,0A3,3 0 1,1 0,-3A3,3 0 0,1 3,0Z\" style=\"opacity: 1; stroke-width: 0px; fill: rgb(99, 110, 250); fill-opacity: 1;\"/><path class=\"point\" transform=\"translate(42.93,250.89)\" d=\"M3,0A3,3 0 1,1 0,-3A3,3 0 0,1 3,0Z\" style=\"opacity: 1; stroke-width: 0px; fill: rgb(99, 110, 250); fill-opacity: 1;\"/><path class=\"point\" transform=\"translate(43.36,250.72)\" d=\"M3,0A3,3 0 1,1 0,-3A3,3 0 0,1 3,0Z\" style=\"opacity: 1; stroke-width: 0px; fill: rgb(99, 110, 250); fill-opacity: 1;\"/><path class=\"point\" transform=\"translate(43.38,250.71)\" d=\"M3,0A3,3 0 1,1 0,-3A3,3 0 0,1 3,0Z\" style=\"opacity: 1; stroke-width: 0px; fill: rgb(99, 110, 250); fill-opacity: 1;\"/><path class=\"point\" transform=\"translate(43.83,250.59)\" d=\"M3,0A3,3 0 1,1 0,-3A3,3 0 0,1 3,0Z\" style=\"opacity: 1; stroke-width: 0px; fill: rgb(99, 110, 250); fill-opacity: 1;\"/><path class=\"point\" transform=\"translate(44.08,250.53)\" d=\"M3,0A3,3 0 1,1 0,-3A3,3 0 0,1 3,0Z\" style=\"opacity: 1; stroke-width: 0px; fill: rgb(99, 110, 250); fill-opacity: 1;\"/><path class=\"point\" transform=\"translate(44.28,250.51)\" d=\"M3,0A3,3 0 1,1 0,-3A3,3 0 0,1 3,0Z\" style=\"opacity: 1; stroke-width: 0px; fill: rgb(99, 110, 250); fill-opacity: 1;\"/><path class=\"point\" transform=\"translate(44.66,250.48)\" d=\"M3,0A3,3 0 1,1 0,-3A3,3 0 0,1 3,0Z\" style=\"opacity: 1; stroke-width: 0px; fill: rgb(99, 110, 250); fill-opacity: 1;\"/><path class=\"point\" transform=\"translate(44.73,250.48)\" d=\"M3,0A3,3 0 1,1 0,-3A3,3 0 0,1 3,0Z\" style=\"opacity: 1; stroke-width: 0px; fill: rgb(99, 110, 250); fill-opacity: 1;\"/><path class=\"point\" transform=\"translate(45.17,250.49)\" d=\"M3,0A3,3 0 1,1 0,-3A3,3 0 0,1 3,0Z\" style=\"opacity: 1; stroke-width: 0px; fill: rgb(99, 110, 250); fill-opacity: 1;\"/><path class=\"point\" transform=\"translate(45.34,250.5)\" d=\"M3,0A3,3 0 1,1 0,-3A3,3 0 0,1 3,0Z\" style=\"opacity: 1; stroke-width: 0px; fill: rgb(99, 110, 250); fill-opacity: 1;\"/><path class=\"point\" transform=\"translate(45.62,250.55)\" d=\"M3,0A3,3 0 1,1 0,-3A3,3 0 0,1 3,0Z\" style=\"opacity: 1; stroke-width: 0px; fill: rgb(99, 110, 250); fill-opacity: 1;\"/><path class=\"point\" transform=\"translate(45.7,250.56)\" d=\"M3,0A3,3 0 1,1 0,-3A3,3 0 0,1 3,0Z\" style=\"opacity: 1; stroke-width: 0px; fill: rgb(99, 110, 250); fill-opacity: 1;\"/><path class=\"point\" transform=\"translate(45.87,250.59)\" d=\"M3,0A3,3 0 1,1 0,-3A3,3 0 0,1 3,0Z\" style=\"opacity: 1; stroke-width: 0px; fill: rgb(99, 110, 250); fill-opacity: 1;\"/><path class=\"point\" transform=\"translate(45.89,250.59)\" d=\"M3,0A3,3 0 1,1 0,-3A3,3 0 0,1 3,0Z\" style=\"opacity: 1; stroke-width: 0px; fill: rgb(99, 110, 250); fill-opacity: 1;\"/><path class=\"point\" transform=\"translate(46.07,250.64)\" d=\"M3,0A3,3 0 1,1 0,-3A3,3 0 0,1 3,0Z\" style=\"opacity: 1; stroke-width: 0px; fill: rgb(99, 110, 250); fill-opacity: 1;\"/><path class=\"point\" transform=\"translate(46.52,250.77)\" d=\"M3,0A3,3 0 1,1 0,-3A3,3 0 0,1 3,0Z\" style=\"opacity: 1; stroke-width: 0px; fill: rgb(99, 110, 250); fill-opacity: 1;\"/><path class=\"point\" transform=\"translate(46.97,250.93)\" d=\"M3,0A3,3 0 1,1 0,-3A3,3 0 0,1 3,0Z\" style=\"opacity: 1; stroke-width: 0px; fill: rgb(99, 110, 250); fill-opacity: 1;\"/><path class=\"point\" transform=\"translate(48.09,251.51)\" d=\"M3,0A3,3 0 1,1 0,-3A3,3 0 0,1 3,0Z\" style=\"opacity: 1; stroke-width: 0px; fill: rgb(99, 110, 250); fill-opacity: 1;\"/><path class=\"point\" transform=\"translate(48.34,251.67)\" d=\"M3,0A3,3 0 1,1 0,-3A3,3 0 0,1 3,0Z\" style=\"opacity: 1; stroke-width: 0px; fill: rgb(99, 110, 250); fill-opacity: 1;\"/><path class=\"point\" transform=\"translate(48.41,251.72)\" d=\"M3,0A3,3 0 1,1 0,-3A3,3 0 0,1 3,0Z\" style=\"opacity: 1; stroke-width: 0px; fill: rgb(99, 110, 250); fill-opacity: 1;\"/><path class=\"point\" transform=\"translate(48.7,251.92)\" d=\"M3,0A3,3 0 1,1 0,-3A3,3 0 0,1 3,0Z\" style=\"opacity: 1; stroke-width: 0px; fill: rgb(99, 110, 250); fill-opacity: 1;\"/><path class=\"point\" transform=\"translate(48.74,251.94)\" d=\"M3,0A3,3 0 1,1 0,-3A3,3 0 0,1 3,0Z\" style=\"opacity: 1; stroke-width: 0px; fill: rgb(99, 110, 250); fill-opacity: 1;\"/><path class=\"point\" transform=\"translate(49.21,252.31)\" d=\"M3,0A3,3 0 1,1 0,-3A3,3 0 0,1 3,0Z\" style=\"opacity: 1; stroke-width: 0px; fill: rgb(99, 110, 250); fill-opacity: 1;\"/><path class=\"point\" transform=\"translate(49.66,252.68)\" d=\"M3,0A3,3 0 1,1 0,-3A3,3 0 0,1 3,0Z\" style=\"opacity: 1; stroke-width: 0px; fill: rgb(99, 110, 250); fill-opacity: 1;\"/><path class=\"point\" transform=\"translate(49.72,252.74)\" d=\"M3,0A3,3 0 1,1 0,-3A3,3 0 0,1 3,0Z\" style=\"opacity: 1; stroke-width: 0px; fill: rgb(99, 110, 250); fill-opacity: 1;\"/><path class=\"point\" transform=\"translate(50.17,253.16)\" d=\"M3,0A3,3 0 1,1 0,-3A3,3 0 0,1 3,0Z\" style=\"opacity: 1; stroke-width: 0px; fill: rgb(99, 110, 250); fill-opacity: 1;\"/><path class=\"point\" transform=\"translate(50.33,253.31)\" d=\"M3,0A3,3 0 1,1 0,-3A3,3 0 0,1 3,0Z\" style=\"opacity: 1; stroke-width: 0px; fill: rgb(99, 110, 250); fill-opacity: 1;\"/><path class=\"point\" transform=\"translate(51.21,254.22)\" d=\"M3,0A3,3 0 1,1 0,-3A3,3 0 0,1 3,0Z\" style=\"opacity: 1; stroke-width: 0px; fill: rgb(99, 110, 250); fill-opacity: 1;\"/><path class=\"point\" transform=\"translate(51.28,254.3)\" d=\"M3,0A3,3 0 1,1 0,-3A3,3 0 0,1 3,0Z\" style=\"opacity: 1; stroke-width: 0px; fill: rgb(99, 110, 250); fill-opacity: 1;\"/><path class=\"point\" transform=\"translate(51.44,254.48)\" d=\"M3,0A3,3 0 1,1 0,-3A3,3 0 0,1 3,0Z\" style=\"opacity: 1; stroke-width: 0px; fill: rgb(99, 110, 250); fill-opacity: 1;\"/><path class=\"point\" transform=\"translate(52.56,255.81)\" d=\"M3,0A3,3 0 1,1 0,-3A3,3 0 0,1 3,0Z\" style=\"opacity: 1; stroke-width: 0px; fill: rgb(99, 110, 250); fill-opacity: 1;\"/><path class=\"point\" transform=\"translate(52.57,255.82)\" d=\"M3,0A3,3 0 1,1 0,-3A3,3 0 0,1 3,0Z\" style=\"opacity: 1; stroke-width: 0px; fill: rgb(99, 110, 250); fill-opacity: 1;\"/><path class=\"point\" transform=\"translate(52.97,256.32)\" d=\"M3,0A3,3 0 1,1 0,-3A3,3 0 0,1 3,0Z\" style=\"opacity: 1; stroke-width: 0px; fill: rgb(99, 110, 250); fill-opacity: 1;\"/><path class=\"point\" transform=\"translate(53.3,256.75)\" d=\"M3,0A3,3 0 1,1 0,-3A3,3 0 0,1 3,0Z\" style=\"opacity: 1; stroke-width: 0px; fill: rgb(99, 110, 250); fill-opacity: 1;\"/><path class=\"point\" transform=\"translate(53.42,256.91)\" d=\"M3,0A3,3 0 1,1 0,-3A3,3 0 0,1 3,0Z\" style=\"opacity: 1; stroke-width: 0px; fill: rgb(99, 110, 250); fill-opacity: 1;\"/><path class=\"point\" transform=\"translate(53.56,257.08)\" d=\"M3,0A3,3 0 1,1 0,-3A3,3 0 0,1 3,0Z\" style=\"opacity: 1; stroke-width: 0px; fill: rgb(99, 110, 250); fill-opacity: 1;\"/><path class=\"point\" transform=\"translate(53.56,257.09)\" d=\"M3,0A3,3 0 1,1 0,-3A3,3 0 0,1 3,0Z\" style=\"opacity: 1; stroke-width: 0px; fill: rgb(99, 110, 250); fill-opacity: 1;\"/><path class=\"point\" transform=\"translate(53.68,257.26)\" d=\"M3,0A3,3 0 1,1 0,-3A3,3 0 0,1 3,0Z\" style=\"opacity: 1; stroke-width: 0px; fill: rgb(99, 110, 250); fill-opacity: 1;\"/><path class=\"point\" transform=\"translate(53.7,257.28)\" d=\"M3,0A3,3 0 1,1 0,-3A3,3 0 0,1 3,0Z\" style=\"opacity: 1; stroke-width: 0px; fill: rgb(99, 110, 250); fill-opacity: 1;\"/><path class=\"point\" transform=\"translate(54.8,258.81)\" d=\"M3,0A3,3 0 1,1 0,-3A3,3 0 0,1 3,0Z\" style=\"opacity: 1; stroke-width: 0px; fill: rgb(99, 110, 250); fill-opacity: 1;\"/><path class=\"point\" transform=\"translate(55.25,259.66)\" d=\"M3,0A3,3 0 1,1 0,-3A3,3 0 0,1 3,0Z\" style=\"opacity: 1; stroke-width: 0px; fill: rgb(99, 110, 250); fill-opacity: 1;\"/><path class=\"point\" transform=\"translate(55.92,260.45)\" d=\"M3,0A3,3 0 1,1 0,-3A3,3 0 0,1 3,0Z\" style=\"opacity: 1; stroke-width: 0px; fill: rgb(99, 110, 250); fill-opacity: 1;\"/><path class=\"point\" transform=\"translate(57.04,262.15)\" d=\"M3,0A3,3 0 1,1 0,-3A3,3 0 0,1 3,0Z\" style=\"opacity: 1; stroke-width: 0px; fill: rgb(99, 110, 250); fill-opacity: 1;\"/><path class=\"point\" transform=\"translate(58.01,263.65)\" d=\"M3,0A3,3 0 1,1 0,-3A3,3 0 0,1 3,0Z\" style=\"opacity: 1; stroke-width: 0px; fill: rgb(99, 110, 250); fill-opacity: 1;\"/><path class=\"point\" transform=\"translate(58.16,263.89)\" d=\"M3,0A3,3 0 1,1 0,-3A3,3 0 0,1 3,0Z\" style=\"opacity: 1; stroke-width: 0px; fill: rgb(99, 110, 250); fill-opacity: 1;\"/><path class=\"point\" transform=\"translate(58.37,264.22)\" d=\"M3,0A3,3 0 1,1 0,-3A3,3 0 0,1 3,0Z\" style=\"opacity: 1; stroke-width: 0px; fill: rgb(99, 110, 250); fill-opacity: 1;\"/><path class=\"point\" transform=\"translate(58.61,264.59)\" d=\"M3,0A3,3 0 1,1 0,-3A3,3 0 0,1 3,0Z\" style=\"opacity: 1; stroke-width: 0px; fill: rgb(99, 110, 250); fill-opacity: 1;\"/><path class=\"point\" transform=\"translate(59.05,265.27)\" d=\"M3,0A3,3 0 1,1 0,-3A3,3 0 0,1 3,0Z\" style=\"opacity: 1; stroke-width: 0px; fill: rgb(99, 110, 250); fill-opacity: 1;\"/><path class=\"point\" transform=\"translate(59.28,265.64)\" d=\"M3,0A3,3 0 1,1 0,-3A3,3 0 0,1 3,0Z\" style=\"opacity: 1; stroke-width: 0px; fill: rgb(99, 110, 250); fill-opacity: 1;\"/><path class=\"point\" transform=\"translate(60.4,267.37)\" d=\"M3,0A3,3 0 1,1 0,-3A3,3 0 0,1 3,0Z\" style=\"opacity: 1; stroke-width: 0px; fill: rgb(99, 110, 250); fill-opacity: 1;\"/><path class=\"point\" transform=\"translate(61.52,269.08)\" d=\"M3,0A3,3 0 1,1 0,-3A3,3 0 0,1 3,0Z\" style=\"opacity: 1; stroke-width: 0px; fill: rgb(99, 110, 250); fill-opacity: 1;\"/><path class=\"point\" transform=\"translate(61.69,269.34)\" d=\"M3,0A3,3 0 1,1 0,-3A3,3 0 0,1 3,0Z\" style=\"opacity: 1; stroke-width: 0px; fill: rgb(99, 110, 250); fill-opacity: 1;\"/><path class=\"point\" transform=\"translate(61.86,269.59)\" d=\"M3,0A3,3 0 1,1 0,-3A3,3 0 0,1 3,0Z\" style=\"opacity: 1; stroke-width: 0px; fill: rgb(99, 110, 250); fill-opacity: 1;\"/><path class=\"point\" transform=\"translate(62.64,270.76)\" d=\"M3,0A3,3 0 1,1 0,-3A3,3 0 0,1 3,0Z\" style=\"opacity: 1; stroke-width: 0px; fill: rgb(99, 110, 250); fill-opacity: 1;\"/><path class=\"point\" transform=\"translate(63.43,271.94)\" d=\"M3,0A3,3 0 1,1 0,-3A3,3 0 0,1 3,0Z\" style=\"opacity: 1; stroke-width: 0px; fill: rgb(99, 110, 250); fill-opacity: 1;\"/><path class=\"point\" transform=\"translate(63.46,271.98)\" d=\"M3,0A3,3 0 1,1 0,-3A3,3 0 0,1 3,0Z\" style=\"opacity: 1; stroke-width: 0px; fill: rgb(99, 110, 250); fill-opacity: 1;\"/><path class=\"point\" transform=\"translate(63.76,272.43)\" d=\"M3,0A3,3 0 1,1 0,-3A3,3 0 0,1 3,0Z\" style=\"opacity: 1; stroke-width: 0px; fill: rgb(99, 110, 250); fill-opacity: 1;\"/><path class=\"point\" transform=\"translate(64.68,273.74)\" d=\"M3,0A3,3 0 1,1 0,-3A3,3 0 0,1 3,0Z\" style=\"opacity: 1; stroke-width: 0px; fill: rgb(99, 110, 250); fill-opacity: 1;\"/><path class=\"point\" transform=\"translate(64.88,274.03)\" d=\"M3,0A3,3 0 1,1 0,-3A3,3 0 0,1 3,0Z\" style=\"opacity: 1; stroke-width: 0px; fill: rgb(99, 110, 250); fill-opacity: 1;\"/><path class=\"point\" transform=\"translate(66,275.63)\" d=\"M3,0A3,3 0 1,1 0,-3A3,3 0 0,1 3,0Z\" style=\"opacity: 1; stroke-width: 0px; fill: rgb(99, 110, 250); fill-opacity: 1;\"/><path class=\"point\" transform=\"translate(66.79,276.72)\" d=\"M3,0A3,3 0 1,1 0,-3A3,3 0 0,1 3,0Z\" style=\"opacity: 1; stroke-width: 0px; fill: rgb(99, 110, 250); fill-opacity: 1;\"/><path class=\"point\" transform=\"translate(67.12,277.17)\" d=\"M3,0A3,3 0 1,1 0,-3A3,3 0 0,1 3,0Z\" style=\"opacity: 1; stroke-width: 0px; fill: rgb(99, 110, 250); fill-opacity: 1;\"/><path class=\"point\" transform=\"translate(67.33,277.45)\" d=\"M3,0A3,3 0 1,1 0,-3A3,3 0 0,1 3,0Z\" style=\"opacity: 1; stroke-width: 0px; fill: rgb(99, 110, 250); fill-opacity: 1;\"/><path class=\"point\" transform=\"translate(68.24,278.67)\" d=\"M3,0A3,3 0 1,1 0,-3A3,3 0 0,1 3,0Z\" style=\"opacity: 1; stroke-width: 0px; fill: rgb(99, 110, 250); fill-opacity: 1;\"/><path class=\"point\" transform=\"translate(68.56,279.09)\" d=\"M3,0A3,3 0 1,1 0,-3A3,3 0 0,1 3,0Z\" style=\"opacity: 1; stroke-width: 0px; fill: rgb(99, 110, 250); fill-opacity: 1;\"/><path class=\"point\" transform=\"translate(68.98,279.63)\" d=\"M3,0A3,3 0 1,1 0,-3A3,3 0 0,1 3,0Z\" style=\"opacity: 1; stroke-width: 0px; fill: rgb(99, 110, 250); fill-opacity: 1;\"/><path class=\"point\" transform=\"translate(69.06,279.73)\" d=\"M3,0A3,3 0 1,1 0,-3A3,3 0 0,1 3,0Z\" style=\"opacity: 1; stroke-width: 0px; fill: rgb(99, 110, 250); fill-opacity: 1;\"/><path class=\"point\" transform=\"translate(69.36,280.11)\" d=\"M3,0A3,3 0 1,1 0,-3A3,3 0 0,1 3,0Z\" style=\"opacity: 1; stroke-width: 0px; fill: rgb(99, 110, 250); fill-opacity: 1;\"/><path class=\"point\" transform=\"translate(70.48,281.47)\" d=\"M3,0A3,3 0 1,1 0,-3A3,3 0 0,1 3,0Z\" style=\"opacity: 1; stroke-width: 0px; fill: rgb(99, 110, 250); fill-opacity: 1;\"/><path class=\"point\" transform=\"translate(70.49,281.48)\" d=\"M3,0A3,3 0 1,1 0,-3A3,3 0 0,1 3,0Z\" style=\"opacity: 1; stroke-width: 0px; fill: rgb(99, 110, 250); fill-opacity: 1;\"/><path class=\"point\" transform=\"translate(71.38,282.51)\" d=\"M3,0A3,3 0 1,1 0,-3A3,3 0 0,1 3,0Z\" style=\"opacity: 1; stroke-width: 0px; fill: rgb(99, 110, 250); fill-opacity: 1;\"/><path class=\"point\" transform=\"translate(71.6,282.75)\" d=\"M3,0A3,3 0 1,1 0,-3A3,3 0 0,1 3,0Z\" style=\"opacity: 1; stroke-width: 0px; fill: rgb(99, 110, 250); fill-opacity: 1;\"/><path class=\"point\" transform=\"translate(71.74,282.9)\" d=\"M3,0A3,3 0 1,1 0,-3A3,3 0 0,1 3,0Z\" style=\"opacity: 1; stroke-width: 0px; fill: rgb(99, 110, 250); fill-opacity: 1;\"/><path class=\"point\" transform=\"translate(71.84,283.01)\" d=\"M3,0A3,3 0 1,1 0,-3A3,3 0 0,1 3,0Z\" style=\"opacity: 1; stroke-width: 0px; fill: rgb(99, 110, 250); fill-opacity: 1;\"/><path class=\"point\" transform=\"translate(72.72,283.93)\" d=\"M3,0A3,3 0 1,1 0,-3A3,3 0 0,1 3,0Z\" style=\"opacity: 1; stroke-width: 0px; fill: rgb(99, 110, 250); fill-opacity: 1;\"/><path class=\"point\" transform=\"translate(72.81,284.02)\" d=\"M3,0A3,3 0 1,1 0,-3A3,3 0 0,1 3,0Z\" style=\"opacity: 1; stroke-width: 0px; fill: rgb(99, 110, 250); fill-opacity: 1;\"/><path class=\"point\" transform=\"translate(73.84,285.03)\" d=\"M3,0A3,3 0 1,1 0,-3A3,3 0 0,1 3,0Z\" style=\"opacity: 1; stroke-width: 0px; fill: rgb(99, 110, 250); fill-opacity: 1;\"/><path class=\"point\" transform=\"translate(76.08,286.89)\" d=\"M3,0A3,3 0 1,1 0,-3A3,3 0 0,1 3,0Z\" style=\"opacity: 1; stroke-width: 0px; fill: rgb(99, 110, 250); fill-opacity: 1;\"/><path class=\"point\" transform=\"translate(78.32,288.36)\" d=\"M3,0A3,3 0 1,1 0,-3A3,3 0 0,1 3,0Z\" style=\"opacity: 1; stroke-width: 0px; fill: rgb(99, 110, 250); fill-opacity: 1;\"/><path class=\"point\" transform=\"translate(80.56,289.47)\" d=\"M3,0A3,3 0 1,1 0,-3A3,3 0 0,1 3,0Z\" style=\"opacity: 1; stroke-width: 0px; fill: rgb(99, 110, 250); fill-opacity: 1;\"/><path class=\"point\" transform=\"translate(82.8,290.27)\" d=\"M3,0A3,3 0 1,1 0,-3A3,3 0 0,1 3,0Z\" style=\"opacity: 1; stroke-width: 0px; fill: rgb(99, 110, 250); fill-opacity: 1;\"/><path class=\"point\" transform=\"translate(85.04,290.82)\" d=\"M3,0A3,3 0 1,1 0,-3A3,3 0 0,1 3,0Z\" style=\"opacity: 1; stroke-width: 0px; fill: rgb(99, 110, 250); fill-opacity: 1;\"/><path class=\"point\" transform=\"translate(87.28,291.15)\" d=\"M3,0A3,3 0 1,1 0,-3A3,3 0 0,1 3,0Z\" style=\"opacity: 1; stroke-width: 0px; fill: rgb(99, 110, 250); fill-opacity: 1;\"/><path class=\"point\" transform=\"translate(89.52,291.31)\" d=\"M3,0A3,3 0 1,1 0,-3A3,3 0 0,1 3,0Z\" style=\"opacity: 1; stroke-width: 0px; fill: rgb(99, 110, 250); fill-opacity: 1;\"/><path class=\"point\" transform=\"translate(91.76,291.32)\" d=\"M3,0A3,3 0 1,1 0,-3A3,3 0 0,1 3,0Z\" style=\"opacity: 1; stroke-width: 0px; fill: rgb(99, 110, 250); fill-opacity: 1;\"/><path class=\"point\" transform=\"translate(94,291.19)\" d=\"M3,0A3,3 0 1,1 0,-3A3,3 0 0,1 3,0Z\" style=\"opacity: 1; stroke-width: 0px; fill: rgb(99, 110, 250); fill-opacity: 1;\"/><path class=\"point\" transform=\"translate(96.23,290.94)\" d=\"M3,0A3,3 0 1,1 0,-3A3,3 0 0,1 3,0Z\" style=\"opacity: 1; stroke-width: 0px; fill: rgb(99, 110, 250); fill-opacity: 1;\"/><path class=\"point\" transform=\"translate(98.47,290.57)\" d=\"M3,0A3,3 0 1,1 0,-3A3,3 0 0,1 3,0Z\" style=\"opacity: 1; stroke-width: 0px; fill: rgb(99, 110, 250); fill-opacity: 1;\"/><path class=\"point\" transform=\"translate(100.71,290.13)\" d=\"M3,0A3,3 0 1,1 0,-3A3,3 0 0,1 3,0Z\" style=\"opacity: 1; stroke-width: 0px; fill: rgb(99, 110, 250); fill-opacity: 1;\"/><path class=\"point\" transform=\"translate(102.95,289.59)\" d=\"M3,0A3,3 0 1,1 0,-3A3,3 0 0,1 3,0Z\" style=\"opacity: 1; stroke-width: 0px; fill: rgb(99, 110, 250); fill-opacity: 1;\"/><path class=\"point\" transform=\"translate(105.19,289)\" d=\"M3,0A3,3 0 1,1 0,-3A3,3 0 0,1 3,0Z\" style=\"opacity: 1; stroke-width: 0px; fill: rgb(99, 110, 250); fill-opacity: 1;\"/><path class=\"point\" transform=\"translate(107.43,288.35)\" d=\"M3,0A3,3 0 1,1 0,-3A3,3 0 0,1 3,0Z\" style=\"opacity: 1; stroke-width: 0px; fill: rgb(99, 110, 250); fill-opacity: 1;\"/><path class=\"point\" transform=\"translate(109.67,287.69)\" d=\"M3,0A3,3 0 1,1 0,-3A3,3 0 0,1 3,0Z\" style=\"opacity: 1; stroke-width: 0px; fill: rgb(99, 110, 250); fill-opacity: 1;\"/><path class=\"point\" transform=\"translate(111.91,286.99)\" d=\"M3,0A3,3 0 1,1 0,-3A3,3 0 0,1 3,0Z\" style=\"opacity: 1; stroke-width: 0px; fill: rgb(99, 110, 250); fill-opacity: 1;\"/><path class=\"point\" transform=\"translate(114.15,286.3)\" d=\"M3,0A3,3 0 1,1 0,-3A3,3 0 0,1 3,0Z\" style=\"opacity: 1; stroke-width: 0px; fill: rgb(99, 110, 250); fill-opacity: 1;\"/><path class=\"point\" transform=\"translate(116.39,285.61)\" d=\"M3,0A3,3 0 1,1 0,-3A3,3 0 0,1 3,0Z\" style=\"opacity: 1; stroke-width: 0px; fill: rgb(99, 110, 250); fill-opacity: 1;\"/><path class=\"point\" transform=\"translate(118.63,284.94)\" d=\"M3,0A3,3 0 1,1 0,-3A3,3 0 0,1 3,0Z\" style=\"opacity: 1; stroke-width: 0px; fill: rgb(99, 110, 250); fill-opacity: 1;\"/><path class=\"point\" transform=\"translate(120.87,284.29)\" d=\"M3,0A3,3 0 1,1 0,-3A3,3 0 0,1 3,0Z\" style=\"opacity: 1; stroke-width: 0px; fill: rgb(99, 110, 250); fill-opacity: 1;\"/><path class=\"point\" transform=\"translate(123.11,283.68)\" d=\"M3,0A3,3 0 1,1 0,-3A3,3 0 0,1 3,0Z\" style=\"opacity: 1; stroke-width: 0px; fill: rgb(99, 110, 250); fill-opacity: 1;\"/><path class=\"point\" transform=\"translate(125.35,283.1)\" d=\"M3,0A3,3 0 1,1 0,-3A3,3 0 0,1 3,0Z\" style=\"opacity: 1; stroke-width: 0px; fill: rgb(99, 110, 250); fill-opacity: 1;\"/><path class=\"point\" transform=\"translate(127.59,282.56)\" d=\"M3,0A3,3 0 1,1 0,-3A3,3 0 0,1 3,0Z\" style=\"opacity: 1; stroke-width: 0px; fill: rgb(99, 110, 250); fill-opacity: 1;\"/><path class=\"point\" transform=\"translate(129.83,282.06)\" d=\"M3,0A3,3 0 1,1 0,-3A3,3 0 0,1 3,0Z\" style=\"opacity: 1; stroke-width: 0px; fill: rgb(99, 110, 250); fill-opacity: 1;\"/><path class=\"point\" transform=\"translate(132.07,281.61)\" d=\"M3,0A3,3 0 1,1 0,-3A3,3 0 0,1 3,0Z\" style=\"opacity: 1; stroke-width: 0px; fill: rgb(99, 110, 250); fill-opacity: 1;\"/><path class=\"point\" transform=\"translate(134.31,281.19)\" d=\"M3,0A3,3 0 1,1 0,-3A3,3 0 0,1 3,0Z\" style=\"opacity: 1; stroke-width: 0px; fill: rgb(99, 110, 250); fill-opacity: 1;\"/><path class=\"point\" transform=\"translate(136.55,280.83)\" d=\"M3,0A3,3 0 1,1 0,-3A3,3 0 0,1 3,0Z\" style=\"opacity: 1; stroke-width: 0px; fill: rgb(99, 110, 250); fill-opacity: 1;\"/><path class=\"point\" transform=\"translate(138.79,280.51)\" d=\"M3,0A3,3 0 1,1 0,-3A3,3 0 0,1 3,0Z\" style=\"opacity: 1; stroke-width: 0px; fill: rgb(99, 110, 250); fill-opacity: 1;\"/><path class=\"point\" transform=\"translate(141.02,280.25)\" d=\"M3,0A3,3 0 1,1 0,-3A3,3 0 0,1 3,0Z\" style=\"opacity: 1; stroke-width: 0px; fill: rgb(99, 110, 250); fill-opacity: 1;\"/><path class=\"point\" transform=\"translate(143.26,280.02)\" d=\"M3,0A3,3 0 1,1 0,-3A3,3 0 0,1 3,0Z\" style=\"opacity: 1; stroke-width: 0px; fill: rgb(99, 110, 250); fill-opacity: 1;\"/><path class=\"point\" transform=\"translate(145.5,279.85)\" d=\"M3,0A3,3 0 1,1 0,-3A3,3 0 0,1 3,0Z\" style=\"opacity: 1; stroke-width: 0px; fill: rgb(99, 110, 250); fill-opacity: 1;\"/><path class=\"point\" transform=\"translate(147.74,279.72)\" d=\"M3,0A3,3 0 1,1 0,-3A3,3 0 0,1 3,0Z\" style=\"opacity: 1; stroke-width: 0px; fill: rgb(99, 110, 250); fill-opacity: 1;\"/><path class=\"point\" transform=\"translate(149.98,279.64)\" d=\"M3,0A3,3 0 1,1 0,-3A3,3 0 0,1 3,0Z\" style=\"opacity: 1; stroke-width: 0px; fill: rgb(99, 110, 250); fill-opacity: 1;\"/><path class=\"point\" transform=\"translate(152.22,279.6)\" d=\"M3,0A3,3 0 1,1 0,-3A3,3 0 0,1 3,0Z\" style=\"opacity: 1; stroke-width: 0px; fill: rgb(99, 110, 250); fill-opacity: 1;\"/><path class=\"point\" transform=\"translate(154.46,279.61)\" d=\"M3,0A3,3 0 1,1 0,-3A3,3 0 0,1 3,0Z\" style=\"opacity: 1; stroke-width: 0px; fill: rgb(99, 110, 250); fill-opacity: 1;\"/><path class=\"point\" transform=\"translate(156.7,279.65)\" d=\"M3,0A3,3 0 1,1 0,-3A3,3 0 0,1 3,0Z\" style=\"opacity: 1; stroke-width: 0px; fill: rgb(99, 110, 250); fill-opacity: 1;\"/><path class=\"point\" transform=\"translate(158.94,279.74)\" d=\"M3,0A3,3 0 1,1 0,-3A3,3 0 0,1 3,0Z\" style=\"opacity: 1; stroke-width: 0px; fill: rgb(99, 110, 250); fill-opacity: 1;\"/><path class=\"point\" transform=\"translate(161.18,279.86)\" d=\"M3,0A3,3 0 1,1 0,-3A3,3 0 0,1 3,0Z\" style=\"opacity: 1; stroke-width: 0px; fill: rgb(99, 110, 250); fill-opacity: 1;\"/><path class=\"point\" transform=\"translate(163.42,280.02)\" d=\"M3,0A3,3 0 1,1 0,-3A3,3 0 0,1 3,0Z\" style=\"opacity: 1; stroke-width: 0px; fill: rgb(99, 110, 250); fill-opacity: 1;\"/><path class=\"point\" transform=\"translate(165.66,280.21)\" d=\"M3,0A3,3 0 1,1 0,-3A3,3 0 0,1 3,0Z\" style=\"opacity: 1; stroke-width: 0px; fill: rgb(99, 110, 250); fill-opacity: 1;\"/><path class=\"point\" transform=\"translate(167.9,280.43)\" d=\"M3,0A3,3 0 1,1 0,-3A3,3 0 0,1 3,0Z\" style=\"opacity: 1; stroke-width: 0px; fill: rgb(99, 110, 250); fill-opacity: 1;\"/><path class=\"point\" transform=\"translate(170.14,280.69)\" d=\"M3,0A3,3 0 1,1 0,-3A3,3 0 0,1 3,0Z\" style=\"opacity: 1; stroke-width: 0px; fill: rgb(99, 110, 250); fill-opacity: 1;\"/><path class=\"point\" transform=\"translate(172.38,280.98)\" d=\"M3,0A3,3 0 1,1 0,-3A3,3 0 0,1 3,0Z\" style=\"opacity: 1; stroke-width: 0px; fill: rgb(99, 110, 250); fill-opacity: 1;\"/><path class=\"point\" transform=\"translate(174.62,281.31)\" d=\"M3,0A3,3 0 1,1 0,-3A3,3 0 0,1 3,0Z\" style=\"opacity: 1; stroke-width: 0px; fill: rgb(99, 110, 250); fill-opacity: 1;\"/><path class=\"point\" transform=\"translate(176.86,281.64)\" d=\"M3,0A3,3 0 1,1 0,-3A3,3 0 0,1 3,0Z\" style=\"opacity: 1; stroke-width: 0px; fill: rgb(99, 110, 250); fill-opacity: 1;\"/><path class=\"point\" transform=\"translate(179.1,282)\" d=\"M3,0A3,3 0 1,1 0,-3A3,3 0 0,1 3,0Z\" style=\"opacity: 1; stroke-width: 0px; fill: rgb(99, 110, 250); fill-opacity: 1;\"/><path class=\"point\" transform=\"translate(181.34,282.39)\" d=\"M3,0A3,3 0 1,1 0,-3A3,3 0 0,1 3,0Z\" style=\"opacity: 1; stroke-width: 0px; fill: rgb(99, 110, 250); fill-opacity: 1;\"/><path class=\"point\" transform=\"translate(183.58,282.8)\" d=\"M3,0A3,3 0 1,1 0,-3A3,3 0 0,1 3,0Z\" style=\"opacity: 1; stroke-width: 0px; fill: rgb(99, 110, 250); fill-opacity: 1;\"/><path class=\"point\" transform=\"translate(185.81,283.24)\" d=\"M3,0A3,3 0 1,1 0,-3A3,3 0 0,1 3,0Z\" style=\"opacity: 1; stroke-width: 0px; fill: rgb(99, 110, 250); fill-opacity: 1;\"/><path class=\"point\" transform=\"translate(188.05,283.68)\" d=\"M3,0A3,3 0 1,1 0,-3A3,3 0 0,1 3,0Z\" style=\"opacity: 1; stroke-width: 0px; fill: rgb(99, 110, 250); fill-opacity: 1;\"/><path class=\"point\" transform=\"translate(190.29,284.14)\" d=\"M3,0A3,3 0 1,1 0,-3A3,3 0 0,1 3,0Z\" style=\"opacity: 1; stroke-width: 0px; fill: rgb(99, 110, 250); fill-opacity: 1;\"/><path class=\"point\" transform=\"translate(192.53,284.61)\" d=\"M3,0A3,3 0 1,1 0,-3A3,3 0 0,1 3,0Z\" style=\"opacity: 1; stroke-width: 0px; fill: rgb(99, 110, 250); fill-opacity: 1;\"/><path class=\"point\" transform=\"translate(194.77,285.11)\" d=\"M3,0A3,3 0 1,1 0,-3A3,3 0 0,1 3,0Z\" style=\"opacity: 1; stroke-width: 0px; fill: rgb(99, 110, 250); fill-opacity: 1;\"/><path class=\"point\" transform=\"translate(197.01,285.62)\" d=\"M3,0A3,3 0 1,1 0,-3A3,3 0 0,1 3,0Z\" style=\"opacity: 1; stroke-width: 0px; fill: rgb(99, 110, 250); fill-opacity: 1;\"/><path class=\"point\" transform=\"translate(199.25,286.13)\" d=\"M3,0A3,3 0 1,1 0,-3A3,3 0 0,1 3,0Z\" style=\"opacity: 1; stroke-width: 0px; fill: rgb(99, 110, 250); fill-opacity: 1;\"/><path class=\"point\" transform=\"translate(201.49,286.65)\" d=\"M3,0A3,3 0 1,1 0,-3A3,3 0 0,1 3,0Z\" style=\"opacity: 1; stroke-width: 0px; fill: rgb(99, 110, 250); fill-opacity: 1;\"/><path class=\"point\" transform=\"translate(203.73,287.18)\" d=\"M3,0A3,3 0 1,1 0,-3A3,3 0 0,1 3,0Z\" style=\"opacity: 1; stroke-width: 0px; fill: rgb(99, 110, 250); fill-opacity: 1;\"/><path class=\"point\" transform=\"translate(205.97,287.73)\" d=\"M3,0A3,3 0 1,1 0,-3A3,3 0 0,1 3,0Z\" style=\"opacity: 1; stroke-width: 0px; fill: rgb(99, 110, 250); fill-opacity: 1;\"/><path class=\"point\" transform=\"translate(208.21,288.28)\" d=\"M3,0A3,3 0 1,1 0,-3A3,3 0 0,1 3,0Z\" style=\"opacity: 1; stroke-width: 0px; fill: rgb(99, 110, 250); fill-opacity: 1;\"/><path class=\"point\" transform=\"translate(210.45,288.82)\" d=\"M3,0A3,3 0 1,1 0,-3A3,3 0 0,1 3,0Z\" style=\"opacity: 1; stroke-width: 0px; fill: rgb(99, 110, 250); fill-opacity: 1;\"/><path class=\"point\" transform=\"translate(212.69,289.38)\" d=\"M3,0A3,3 0 1,1 0,-3A3,3 0 0,1 3,0Z\" style=\"opacity: 1; stroke-width: 0px; fill: rgb(99, 110, 250); fill-opacity: 1;\"/><path class=\"point\" transform=\"translate(214.93,289.93)\" d=\"M3,0A3,3 0 1,1 0,-3A3,3 0 0,1 3,0Z\" style=\"opacity: 1; stroke-width: 0px; fill: rgb(99, 110, 250); fill-opacity: 1;\"/><path class=\"point\" transform=\"translate(217.17,290.5)\" d=\"M3,0A3,3 0 1,1 0,-3A3,3 0 0,1 3,0Z\" style=\"opacity: 1; stroke-width: 0px; fill: rgb(99, 110, 250); fill-opacity: 1;\"/><path class=\"point\" transform=\"translate(219.41,291.07)\" d=\"M3,0A3,3 0 1,1 0,-3A3,3 0 0,1 3,0Z\" style=\"opacity: 1; stroke-width: 0px; fill: rgb(99, 110, 250); fill-opacity: 1;\"/><path class=\"point\" transform=\"translate(221.65,291.64)\" d=\"M3,0A3,3 0 1,1 0,-3A3,3 0 0,1 3,0Z\" style=\"opacity: 1; stroke-width: 0px; fill: rgb(99, 110, 250); fill-opacity: 1;\"/><path class=\"point\" transform=\"translate(223.89,292.21)\" d=\"M3,0A3,3 0 1,1 0,-3A3,3 0 0,1 3,0Z\" style=\"opacity: 1; stroke-width: 0px; fill: rgb(99, 110, 250); fill-opacity: 1;\"/><path class=\"point\" transform=\"translate(226.13,292.79)\" d=\"M3,0A3,3 0 1,1 0,-3A3,3 0 0,1 3,0Z\" style=\"opacity: 1; stroke-width: 0px; fill: rgb(99, 110, 250); fill-opacity: 1;\"/><path class=\"point\" transform=\"translate(228.37,293.37)\" d=\"M3,0A3,3 0 1,1 0,-3A3,3 0 0,1 3,0Z\" style=\"opacity: 1; stroke-width: 0px; fill: rgb(99, 110, 250); fill-opacity: 1;\"/><path class=\"point\" transform=\"translate(230.6,293.94)\" d=\"M3,0A3,3 0 1,1 0,-3A3,3 0 0,1 3,0Z\" style=\"opacity: 1; stroke-width: 0px; fill: rgb(99, 110, 250); fill-opacity: 1;\"/><path class=\"point\" transform=\"translate(232.84,294.5)\" d=\"M3,0A3,3 0 1,1 0,-3A3,3 0 0,1 3,0Z\" style=\"opacity: 1; stroke-width: 0px; fill: rgb(99, 110, 250); fill-opacity: 1;\"/><path class=\"point\" transform=\"translate(235.08,295.07)\" d=\"M3,0A3,3 0 1,1 0,-3A3,3 0 0,1 3,0Z\" style=\"opacity: 1; stroke-width: 0px; fill: rgb(99, 110, 250); fill-opacity: 1;\"/><path class=\"point\" transform=\"translate(237.32,295.63)\" d=\"M3,0A3,3 0 1,1 0,-3A3,3 0 0,1 3,0Z\" style=\"opacity: 1; stroke-width: 0px; fill: rgb(99, 110, 250); fill-opacity: 1;\"/><path class=\"point\" transform=\"translate(239.56,296.19)\" d=\"M3,0A3,3 0 1,1 0,-3A3,3 0 0,1 3,0Z\" style=\"opacity: 1; stroke-width: 0px; fill: rgb(99, 110, 250); fill-opacity: 1;\"/><path class=\"point\" transform=\"translate(241.8,296.75)\" d=\"M3,0A3,3 0 1,1 0,-3A3,3 0 0,1 3,0Z\" style=\"opacity: 1; stroke-width: 0px; fill: rgb(99, 110, 250); fill-opacity: 1;\"/><path class=\"point\" transform=\"translate(244.04,297.31)\" d=\"M3,0A3,3 0 1,1 0,-3A3,3 0 0,1 3,0Z\" style=\"opacity: 1; stroke-width: 0px; fill: rgb(99, 110, 250); fill-opacity: 1;\"/><path class=\"point\" transform=\"translate(246.28,297.86)\" d=\"M3,0A3,3 0 1,1 0,-3A3,3 0 0,1 3,0Z\" style=\"opacity: 1; stroke-width: 0px; fill: rgb(99, 110, 250); fill-opacity: 1;\"/><path class=\"point\" transform=\"translate(248.52,298.41)\" d=\"M3,0A3,3 0 1,1 0,-3A3,3 0 0,1 3,0Z\" style=\"opacity: 1; stroke-width: 0px; fill: rgb(99, 110, 250); fill-opacity: 1;\"/><path class=\"point\" transform=\"translate(250.76,298.96)\" d=\"M3,0A3,3 0 1,1 0,-3A3,3 0 0,1 3,0Z\" style=\"opacity: 1; stroke-width: 0px; fill: rgb(99, 110, 250); fill-opacity: 1;\"/><path class=\"point\" transform=\"translate(253,299.51)\" d=\"M3,0A3,3 0 1,1 0,-3A3,3 0 0,1 3,0Z\" style=\"opacity: 1; stroke-width: 0px; fill: rgb(99, 110, 250); fill-opacity: 1;\"/><path class=\"point\" transform=\"translate(257.48,300.57)\" d=\"M3,0A3,3 0 1,1 0,-3A3,3 0 0,1 3,0Z\" style=\"opacity: 1; stroke-width: 0px; fill: rgb(99, 110, 250); fill-opacity: 1;\"/><path class=\"point\" transform=\"translate(261.96,301.61)\" d=\"M3,0A3,3 0 1,1 0,-3A3,3 0 0,1 3,0Z\" style=\"opacity: 1; stroke-width: 0px; fill: rgb(99, 110, 250); fill-opacity: 1;\"/><path class=\"point\" transform=\"translate(266.44,302.63)\" d=\"M3,0A3,3 0 1,1 0,-3A3,3 0 0,1 3,0Z\" style=\"opacity: 1; stroke-width: 0px; fill: rgb(99, 110, 250); fill-opacity: 1;\"/><path class=\"point\" transform=\"translate(270.92,303.64)\" d=\"M3,0A3,3 0 1,1 0,-3A3,3 0 0,1 3,0Z\" style=\"opacity: 1; stroke-width: 0px; fill: rgb(99, 110, 250); fill-opacity: 1;\"/><path class=\"point\" transform=\"translate(275.39,304.63)\" d=\"M3,0A3,3 0 1,1 0,-3A3,3 0 0,1 3,0Z\" style=\"opacity: 1; stroke-width: 0px; fill: rgb(99, 110, 250); fill-opacity: 1;\"/><path class=\"point\" transform=\"translate(279.87,305.58)\" d=\"M3,0A3,3 0 1,1 0,-3A3,3 0 0,1 3,0Z\" style=\"opacity: 1; stroke-width: 0px; fill: rgb(99, 110, 250); fill-opacity: 1;\"/><path class=\"point\" transform=\"translate(284.35,306.5)\" d=\"M3,0A3,3 0 1,1 0,-3A3,3 0 0,1 3,0Z\" style=\"opacity: 1; stroke-width: 0px; fill: rgb(99, 110, 250); fill-opacity: 1;\"/><path class=\"point\" transform=\"translate(288.83,307.41)\" d=\"M3,0A3,3 0 1,1 0,-3A3,3 0 0,1 3,0Z\" style=\"opacity: 1; stroke-width: 0px; fill: rgb(99, 110, 250); fill-opacity: 1;\"/><path class=\"point\" transform=\"translate(293.31,308.29)\" d=\"M3,0A3,3 0 1,1 0,-3A3,3 0 0,1 3,0Z\" style=\"opacity: 1; stroke-width: 0px; fill: rgb(99, 110, 250); fill-opacity: 1;\"/><path class=\"point\" transform=\"translate(297.79,309.16)\" d=\"M3,0A3,3 0 1,1 0,-3A3,3 0 0,1 3,0Z\" style=\"opacity: 1; stroke-width: 0px; fill: rgb(99, 110, 250); fill-opacity: 1;\"/><path class=\"point\" transform=\"translate(302.27,309.98)\" d=\"M3,0A3,3 0 1,1 0,-3A3,3 0 0,1 3,0Z\" style=\"opacity: 1; stroke-width: 0px; fill: rgb(99, 110, 250); fill-opacity: 1;\"/><path class=\"point\" transform=\"translate(306.75,310.79)\" d=\"M3,0A3,3 0 1,1 0,-3A3,3 0 0,1 3,0Z\" style=\"opacity: 1; stroke-width: 0px; fill: rgb(99, 110, 250); fill-opacity: 1;\"/><path class=\"point\" transform=\"translate(311.23,311.57)\" d=\"M3,0A3,3 0 1,1 0,-3A3,3 0 0,1 3,0Z\" style=\"opacity: 1; stroke-width: 0px; fill: rgb(99, 110, 250); fill-opacity: 1;\"/><path class=\"point\" transform=\"translate(315.71,312.33)\" d=\"M3,0A3,3 0 1,1 0,-3A3,3 0 0,1 3,0Z\" style=\"opacity: 1; stroke-width: 0px; fill: rgb(99, 110, 250); fill-opacity: 1;\"/><path class=\"point\" transform=\"translate(320.18,313.07)\" d=\"M3,0A3,3 0 1,1 0,-3A3,3 0 0,1 3,0Z\" style=\"opacity: 1; stroke-width: 0px; fill: rgb(99, 110, 250); fill-opacity: 1;\"/><path class=\"point\" transform=\"translate(324.66,313.77)\" d=\"M3,0A3,3 0 1,1 0,-3A3,3 0 0,1 3,0Z\" style=\"opacity: 1; stroke-width: 0px; fill: rgb(99, 110, 250); fill-opacity: 1;\"/><path class=\"point\" transform=\"translate(329.14,314.46)\" d=\"M3,0A3,3 0 1,1 0,-3A3,3 0 0,1 3,0Z\" style=\"opacity: 1; stroke-width: 0px; fill: rgb(99, 110, 250); fill-opacity: 1;\"/><path class=\"point\" transform=\"translate(333.62,315.12)\" d=\"M3,0A3,3 0 1,1 0,-3A3,3 0 0,1 3,0Z\" style=\"opacity: 1; stroke-width: 0px; fill: rgb(99, 110, 250); fill-opacity: 1;\"/><path class=\"point\" transform=\"translate(338.1,315.77)\" d=\"M3,0A3,3 0 1,1 0,-3A3,3 0 0,1 3,0Z\" style=\"opacity: 1; stroke-width: 0px; fill: rgb(99, 110, 250); fill-opacity: 1;\"/><path class=\"point\" transform=\"translate(342.58,316.39)\" d=\"M3,0A3,3 0 1,1 0,-3A3,3 0 0,1 3,0Z\" style=\"opacity: 1; stroke-width: 0px; fill: rgb(99, 110, 250); fill-opacity: 1;\"/><path class=\"point\" transform=\"translate(347.06,316.98)\" d=\"M3,0A3,3 0 1,1 0,-3A3,3 0 0,1 3,0Z\" style=\"opacity: 1; stroke-width: 0px; fill: rgb(99, 110, 250); fill-opacity: 1;\"/><path class=\"point\" transform=\"translate(351.54,317.56)\" d=\"M3,0A3,3 0 1,1 0,-3A3,3 0 0,1 3,0Z\" style=\"opacity: 1; stroke-width: 0px; fill: rgb(99, 110, 250); fill-opacity: 1;\"/><path class=\"point\" transform=\"translate(356.02,318.12)\" d=\"M3,0A3,3 0 1,1 0,-3A3,3 0 0,1 3,0Z\" style=\"opacity: 1; stroke-width: 0px; fill: rgb(99, 110, 250); fill-opacity: 1;\"/><path class=\"point\" transform=\"translate(360.5,318.66)\" d=\"M3,0A3,3 0 1,1 0,-3A3,3 0 0,1 3,0Z\" style=\"opacity: 1; stroke-width: 0px; fill: rgb(99, 110, 250); fill-opacity: 1;\"/><path class=\"point\" transform=\"translate(364.97,319.18)\" d=\"M3,0A3,3 0 1,1 0,-3A3,3 0 0,1 3,0Z\" style=\"opacity: 1; stroke-width: 0px; fill: rgb(99, 110, 250); fill-opacity: 1;\"/><path class=\"point\" transform=\"translate(369.45,319.68)\" d=\"M3,0A3,3 0 1,1 0,-3A3,3 0 0,1 3,0Z\" style=\"opacity: 1; stroke-width: 0px; fill: rgb(99, 110, 250); fill-opacity: 1;\"/><path class=\"point\" transform=\"translate(373.93,320.16)\" d=\"M3,0A3,3 0 1,1 0,-3A3,3 0 0,1 3,0Z\" style=\"opacity: 1; stroke-width: 0px; fill: rgb(99, 110, 250); fill-opacity: 1;\"/><path class=\"point\" transform=\"translate(378.41,320.63)\" d=\"M3,0A3,3 0 1,1 0,-3A3,3 0 0,1 3,0Z\" style=\"opacity: 1; stroke-width: 0px; fill: rgb(99, 110, 250); fill-opacity: 1;\"/><path class=\"point\" transform=\"translate(382.89,321.08)\" d=\"M3,0A3,3 0 1,1 0,-3A3,3 0 0,1 3,0Z\" style=\"opacity: 1; stroke-width: 0px; fill: rgb(99, 110, 250); fill-opacity: 1;\"/><path class=\"point\" transform=\"translate(387.37,321.51)\" d=\"M3,0A3,3 0 1,1 0,-3A3,3 0 0,1 3,0Z\" style=\"opacity: 1; stroke-width: 0px; fill: rgb(99, 110, 250); fill-opacity: 1;\"/><path class=\"point\" transform=\"translate(391.85,321.92)\" d=\"M3,0A3,3 0 1,1 0,-3A3,3 0 0,1 3,0Z\" style=\"opacity: 1; stroke-width: 0px; fill: rgb(99, 110, 250); fill-opacity: 1;\"/><path class=\"point\" transform=\"translate(396.33,322.32)\" d=\"M3,0A3,3 0 1,1 0,-3A3,3 0 0,1 3,0Z\" style=\"opacity: 1; stroke-width: 0px; fill: rgb(99, 110, 250); fill-opacity: 1;\"/><path class=\"point\" transform=\"translate(400.81,322.7)\" d=\"M3,0A3,3 0 1,1 0,-3A3,3 0 0,1 3,0Z\" style=\"opacity: 1; stroke-width: 0px; fill: rgb(99, 110, 250); fill-opacity: 1;\"/><path class=\"point\" transform=\"translate(405.29,323.07)\" d=\"M3,0A3,3 0 1,1 0,-3A3,3 0 0,1 3,0Z\" style=\"opacity: 1; stroke-width: 0px; fill: rgb(99, 110, 250); fill-opacity: 1;\"/><path class=\"point\" transform=\"translate(409.76,323.42)\" d=\"M3,0A3,3 0 1,1 0,-3A3,3 0 0,1 3,0Z\" style=\"opacity: 1; stroke-width: 0px; fill: rgb(99, 110, 250); fill-opacity: 1;\"/><path class=\"point\" transform=\"translate(414.24,323.76)\" d=\"M3,0A3,3 0 1,1 0,-3A3,3 0 0,1 3,0Z\" style=\"opacity: 1; stroke-width: 0px; fill: rgb(99, 110, 250); fill-opacity: 1;\"/><path class=\"point\" transform=\"translate(418.72,324.1)\" d=\"M3,0A3,3 0 1,1 0,-3A3,3 0 0,1 3,0Z\" style=\"opacity: 1; stroke-width: 0px; fill: rgb(99, 110, 250); fill-opacity: 1;\"/><path class=\"point\" transform=\"translate(423.2,324.41)\" d=\"M3,0A3,3 0 1,1 0,-3A3,3 0 0,1 3,0Z\" style=\"opacity: 1; stroke-width: 0px; fill: rgb(99, 110, 250); fill-opacity: 1;\"/><path class=\"point\" transform=\"translate(427.68,324.72)\" d=\"M3,0A3,3 0 1,1 0,-3A3,3 0 0,1 3,0Z\" style=\"opacity: 1; stroke-width: 0px; fill: rgb(99, 110, 250); fill-opacity: 1;\"/><path class=\"point\" transform=\"translate(432.16,325.01)\" d=\"M3,0A3,3 0 1,1 0,-3A3,3 0 0,1 3,0Z\" style=\"opacity: 1; stroke-width: 0px; fill: rgb(99, 110, 250); fill-opacity: 1;\"/><path class=\"point\" transform=\"translate(436.64,325.29)\" d=\"M3,0A3,3 0 1,1 0,-3A3,3 0 0,1 3,0Z\" style=\"opacity: 1; stroke-width: 0px; fill: rgb(99, 110, 250); fill-opacity: 1;\"/><path class=\"point\" transform=\"translate(441.12,325.55)\" d=\"M3,0A3,3 0 1,1 0,-3A3,3 0 0,1 3,0Z\" style=\"opacity: 1; stroke-width: 0px; fill: rgb(99, 110, 250); fill-opacity: 1;\"/><path class=\"point\" transform=\"translate(445.6,325.81)\" d=\"M3,0A3,3 0 1,1 0,-3A3,3 0 0,1 3,0Z\" style=\"opacity: 1; stroke-width: 0px; fill: rgb(99, 110, 250); fill-opacity: 1;\"/><path class=\"point\" transform=\"translate(450.08,326.05)\" d=\"M3,0A3,3 0 1,1 0,-3A3,3 0 0,1 3,0Z\" style=\"opacity: 1; stroke-width: 0px; fill: rgb(99, 110, 250); fill-opacity: 1;\"/><path class=\"point\" transform=\"translate(454.55,326.29)\" d=\"M3,0A3,3 0 1,1 0,-3A3,3 0 0,1 3,0Z\" style=\"opacity: 1; stroke-width: 0px; fill: rgb(99, 110, 250); fill-opacity: 1;\"/><path class=\"point\" transform=\"translate(459.03,326.51)\" d=\"M3,0A3,3 0 1,1 0,-3A3,3 0 0,1 3,0Z\" style=\"opacity: 1; stroke-width: 0px; fill: rgb(99, 110, 250); fill-opacity: 1;\"/><path class=\"point\" transform=\"translate(463.51,326.73)\" d=\"M3,0A3,3 0 1,1 0,-3A3,3 0 0,1 3,0Z\" style=\"opacity: 1; stroke-width: 0px; fill: rgb(99, 110, 250); fill-opacity: 1;\"/><path class=\"point\" transform=\"translate(467.99,326.93)\" d=\"M3,0A3,3 0 1,1 0,-3A3,3 0 0,1 3,0Z\" style=\"opacity: 1; stroke-width: 0px; fill: rgb(99, 110, 250); fill-opacity: 1;\"/><path class=\"point\" transform=\"translate(472.47,327.13)\" d=\"M3,0A3,3 0 1,1 0,-3A3,3 0 0,1 3,0Z\" style=\"opacity: 1; stroke-width: 0px; fill: rgb(99, 110, 250); fill-opacity: 1;\"/><path class=\"point\" transform=\"translate(476.95,327.32)\" d=\"M3,0A3,3 0 1,1 0,-3A3,3 0 0,1 3,0Z\" style=\"opacity: 1; stroke-width: 0px; fill: rgb(99, 110, 250); fill-opacity: 1;\"/></g><g class=\"text\"/></g><g class=\"trace scatter traceb23352\" style=\"stroke-miterlimit: 2; opacity: 1;\"><g class=\"fills\"/><g class=\"errorbars\"/><g class=\"lines\"/><g class=\"points\"><path class=\"point\" transform=\"translate(33.2,258.74)\" d=\"M3,0A3,3 0 1,1 0,-3A3,3 0 0,1 3,0Z\" style=\"opacity: 1; stroke-width: 0px; fill: rgb(239, 85, 59); fill-opacity: 1;\"/><path class=\"point\" transform=\"translate(46.97,250.93)\" d=\"M3,0A3,3 0 1,1 0,-3A3,3 0 0,1 3,0Z\" style=\"opacity: 1; stroke-width: 0px; fill: rgb(239, 85, 59); fill-opacity: 1;\"/><path class=\"point\" transform=\"translate(48.09,251.51)\" d=\"M3,0A3,3 0 1,1 0,-3A3,3 0 0,1 3,0Z\" style=\"opacity: 1; stroke-width: 0px; fill: rgb(239, 85, 59); fill-opacity: 1;\"/><path class=\"point\" transform=\"translate(49.21,252.31)\" d=\"M3,0A3,3 0 1,1 0,-3A3,3 0 0,1 3,0Z\" style=\"opacity: 1; stroke-width: 0px; fill: rgb(239, 85, 59); fill-opacity: 1;\"/><path class=\"point\" transform=\"translate(50.33,253.31)\" d=\"M3,0A3,3 0 1,1 0,-3A3,3 0 0,1 3,0Z\" style=\"opacity: 1; stroke-width: 0px; fill: rgb(239, 85, 59); fill-opacity: 1;\"/><path class=\"point\" transform=\"translate(51.44,254.48)\" d=\"M3,0A3,3 0 1,1 0,-3A3,3 0 0,1 3,0Z\" style=\"opacity: 1; stroke-width: 0px; fill: rgb(239, 85, 59); fill-opacity: 1;\"/><path class=\"point\" transform=\"translate(52.56,255.81)\" d=\"M3,0A3,3 0 1,1 0,-3A3,3 0 0,1 3,0Z\" style=\"opacity: 1; stroke-width: 0px; fill: rgb(239, 85, 59); fill-opacity: 1;\"/><path class=\"point\" transform=\"translate(53.68,257.26)\" d=\"M3,0A3,3 0 1,1 0,-3A3,3 0 0,1 3,0Z\" style=\"opacity: 1; stroke-width: 0px; fill: rgb(239, 85, 59); fill-opacity: 1;\"/><path class=\"point\" transform=\"translate(54.8,258.81)\" d=\"M3,0A3,3 0 1,1 0,-3A3,3 0 0,1 3,0Z\" style=\"opacity: 1; stroke-width: 0px; fill: rgb(239, 85, 59); fill-opacity: 1;\"/><path class=\"point\" transform=\"translate(55.92,260.45)\" d=\"M3,0A3,3 0 1,1 0,-3A3,3 0 0,1 3,0Z\" style=\"opacity: 1; stroke-width: 0px; fill: rgb(239, 85, 59); fill-opacity: 1;\"/><path class=\"point\" transform=\"translate(57.04,262.15)\" d=\"M3,0A3,3 0 1,1 0,-3A3,3 0 0,1 3,0Z\" style=\"opacity: 1; stroke-width: 0px; fill: rgb(239, 85, 59); fill-opacity: 1;\"/><path class=\"point\" transform=\"translate(58.16,263.89)\" d=\"M3,0A3,3 0 1,1 0,-3A3,3 0 0,1 3,0Z\" style=\"opacity: 1; stroke-width: 0px; fill: rgb(239, 85, 59); fill-opacity: 1;\"/><path class=\"point\" transform=\"translate(59.28,265.64)\" d=\"M3,0A3,3 0 1,1 0,-3A3,3 0 0,1 3,0Z\" style=\"opacity: 1; stroke-width: 0px; fill: rgb(239, 85, 59); fill-opacity: 1;\"/><path class=\"point\" transform=\"translate(60.4,267.37)\" d=\"M3,0A3,3 0 1,1 0,-3A3,3 0 0,1 3,0Z\" style=\"opacity: 1; stroke-width: 0px; fill: rgb(239, 85, 59); fill-opacity: 1;\"/><path class=\"point\" transform=\"translate(61.52,269.08)\" d=\"M3,0A3,3 0 1,1 0,-3A3,3 0 0,1 3,0Z\" style=\"opacity: 1; stroke-width: 0px; fill: rgb(239, 85, 59); fill-opacity: 1;\"/><path class=\"point\" transform=\"translate(62.64,270.76)\" d=\"M3,0A3,3 0 1,1 0,-3A3,3 0 0,1 3,0Z\" style=\"opacity: 1; stroke-width: 0px; fill: rgb(239, 85, 59); fill-opacity: 1;\"/><path class=\"point\" transform=\"translate(64.88,274.03)\" d=\"M3,0A3,3 0 1,1 0,-3A3,3 0 0,1 3,0Z\" style=\"opacity: 1; stroke-width: 0px; fill: rgb(239, 85, 59); fill-opacity: 1;\"/><path class=\"point\" transform=\"translate(67.12,277.17)\" d=\"M3,0A3,3 0 1,1 0,-3A3,3 0 0,1 3,0Z\" style=\"opacity: 1; stroke-width: 0px; fill: rgb(239, 85, 59); fill-opacity: 1;\"/><path class=\"point\" transform=\"translate(69.36,280.11)\" d=\"M3,0A3,3 0 1,1 0,-3A3,3 0 0,1 3,0Z\" style=\"opacity: 1; stroke-width: 0px; fill: rgb(239, 85, 59); fill-opacity: 1;\"/><path class=\"point\" transform=\"translate(71.6,282.75)\" d=\"M3,0A3,3 0 1,1 0,-3A3,3 0 0,1 3,0Z\" style=\"opacity: 1; stroke-width: 0px; fill: rgb(239, 85, 59); fill-opacity: 1;\"/><path class=\"point\" transform=\"translate(73.84,285.03)\" d=\"M3,0A3,3 0 1,1 0,-3A3,3 0 0,1 3,0Z\" style=\"opacity: 1; stroke-width: 0px; fill: rgb(239, 85, 59); fill-opacity: 1;\"/><path class=\"point\" transform=\"translate(76.08,286.89)\" d=\"M3,0A3,3 0 1,1 0,-3A3,3 0 0,1 3,0Z\" style=\"opacity: 1; stroke-width: 0px; fill: rgb(239, 85, 59); fill-opacity: 1;\"/><path class=\"point\" transform=\"translate(78.32,288.36)\" d=\"M3,0A3,3 0 1,1 0,-3A3,3 0 0,1 3,0Z\" style=\"opacity: 1; stroke-width: 0px; fill: rgb(239, 85, 59); fill-opacity: 1;\"/><path class=\"point\" transform=\"translate(80.56,289.47)\" d=\"M3,0A3,3 0 1,1 0,-3A3,3 0 0,1 3,0Z\" style=\"opacity: 1; stroke-width: 0px; fill: rgb(239, 85, 59); fill-opacity: 1;\"/><path class=\"point\" transform=\"translate(82.8,290.27)\" d=\"M3,0A3,3 0 1,1 0,-3A3,3 0 0,1 3,0Z\" style=\"opacity: 1; stroke-width: 0px; fill: rgb(239, 85, 59); fill-opacity: 1;\"/><path class=\"point\" transform=\"translate(85.04,290.82)\" d=\"M3,0A3,3 0 1,1 0,-3A3,3 0 0,1 3,0Z\" style=\"opacity: 1; stroke-width: 0px; fill: rgb(239, 85, 59); fill-opacity: 1;\"/><path class=\"point\" transform=\"translate(87.28,291.15)\" d=\"M3,0A3,3 0 1,1 0,-3A3,3 0 0,1 3,0Z\" style=\"opacity: 1; stroke-width: 0px; fill: rgb(239, 85, 59); fill-opacity: 1;\"/><path class=\"point\" transform=\"translate(89.52,291.31)\" d=\"M3,0A3,3 0 1,1 0,-3A3,3 0 0,1 3,0Z\" style=\"opacity: 1; stroke-width: 0px; fill: rgb(239, 85, 59); fill-opacity: 1;\"/><path class=\"point\" transform=\"translate(91.76,291.32)\" d=\"M3,0A3,3 0 1,1 0,-3A3,3 0 0,1 3,0Z\" style=\"opacity: 1; stroke-width: 0px; fill: rgb(239, 85, 59); fill-opacity: 1;\"/><path class=\"point\" transform=\"translate(94,291.19)\" d=\"M3,0A3,3 0 1,1 0,-3A3,3 0 0,1 3,0Z\" style=\"opacity: 1; stroke-width: 0px; fill: rgb(239, 85, 59); fill-opacity: 1;\"/><path class=\"point\" transform=\"translate(96.23,290.94)\" d=\"M3,0A3,3 0 1,1 0,-3A3,3 0 0,1 3,0Z\" style=\"opacity: 1; stroke-width: 0px; fill: rgb(239, 85, 59); fill-opacity: 1;\"/><path class=\"point\" transform=\"translate(96.23,290.94)\" d=\"M3,0A3,3 0 1,1 0,-3A3,3 0 0,1 3,0Z\" style=\"opacity: 1; stroke-width: 0px; fill: rgb(239, 85, 59); fill-opacity: 1;\"/><path class=\"point\" transform=\"translate(476.95,327.32)\" d=\"M3,0A3,3 0 1,1 0,-3A3,3 0 0,1 3,0Z\" style=\"opacity: 1; stroke-width: 0px; fill: rgb(239, 85, 59); fill-opacity: 1;\"/></g><g class=\"text\"/></g></g></g><g class=\"overplot\"/><path class=\"xlines-above crisp\" d=\"M0,0\" style=\"fill: none;\"/><path class=\"ylines-above crisp\" d=\"M0,0\" style=\"fill: none;\"/><g class=\"overlines-above\"/><g class=\"xaxislayer-above\"><g class=\"xtick\"><text text-anchor=\"middle\" x=\"0\" y=\"463\" transform=\"translate(79.05,0)\" style=\"font-family: 'Open Sans', verdana, arial, sans-serif; font-size: 12px; fill: rgb(42, 63, 95); fill-opacity: 1; white-space: pre;\">0</text></g><g class=\"xtick\"><text text-anchor=\"middle\" x=\"0\" y=\"463\" transform=\"translate(191.02,0)\" style=\"font-family: 'Open Sans', verdana, arial, sans-serif; font-size: 12px; fill: rgb(42, 63, 95); fill-opacity: 1; white-space: pre;\">50M</text></g><g class=\"xtick\"><text text-anchor=\"middle\" x=\"0\" y=\"463\" transform=\"translate(303,0)\" style=\"font-family: 'Open Sans', verdana, arial, sans-serif; font-size: 12px; fill: rgb(42, 63, 95); fill-opacity: 1; white-space: pre;\">100M</text></g><g class=\"xtick\"><text text-anchor=\"middle\" x=\"0\" y=\"463\" transform=\"translate(414.97,0)\" style=\"font-family: 'Open Sans', verdana, arial, sans-serif; font-size: 12px; fill: rgb(42, 63, 95); fill-opacity: 1; white-space: pre;\">150M</text></g><g class=\"xtick\"><text text-anchor=\"middle\" x=\"0\" y=\"463\" transform=\"translate(526.95,0)\" style=\"font-family: 'Open Sans', verdana, arial, sans-serif; font-size: 12px; fill: rgb(42, 63, 95); fill-opacity: 1; white-space: pre;\">200M</text></g></g><g class=\"yaxislayer-above\"><g class=\"ytick\"><text text-anchor=\"end\" x=\"49\" y=\"4.199999999999999\" transform=\"translate(0,426.75)\" style=\"font-family: 'Open Sans', verdana, arial, sans-serif; font-size: 12px; fill: rgb(42, 63, 95); fill-opacity: 1; white-space: pre;\">0</text></g><g class=\"ytick\"><text text-anchor=\"end\" x=\"49\" y=\"4.199999999999999\" transform=\"translate(0,366.01)\" style=\"font-family: 'Open Sans', verdana, arial, sans-serif; font-size: 12px; fill: rgb(42, 63, 95); fill-opacity: 1; white-space: pre;\">2</text></g><g class=\"ytick\"><text text-anchor=\"end\" x=\"49\" y=\"4.199999999999999\" transform=\"translate(0,305.27)\" style=\"font-family: 'Open Sans', verdana, arial, sans-serif; font-size: 12px; fill: rgb(42, 63, 95); fill-opacity: 1; white-space: pre;\">4</text></g><g class=\"ytick\"><text text-anchor=\"end\" x=\"49\" y=\"4.199999999999999\" transform=\"translate(0,244.53)\" style=\"font-family: 'Open Sans', verdana, arial, sans-serif; font-size: 12px; fill: rgb(42, 63, 95); fill-opacity: 1; white-space: pre;\">6</text></g><g class=\"ytick\"><text text-anchor=\"end\" x=\"49\" y=\"4.199999999999999\" transform=\"translate(0,183.79000000000002)\" style=\"font-family: 'Open Sans', verdana, arial, sans-serif; font-size: 12px; fill: rgb(42, 63, 95); fill-opacity: 1; white-space: pre;\">8</text></g><g class=\"ytick\"><text text-anchor=\"end\" x=\"49\" y=\"4.199999999999999\" transform=\"translate(0,123.05)\" style=\"font-family: 'Open Sans', verdana, arial, sans-serif; font-size: 12px; fill: rgb(42, 63, 95); fill-opacity: 1; white-space: pre;\">10</text></g><g class=\"ytick\"><text text-anchor=\"end\" x=\"49\" y=\"4.199999999999999\" transform=\"translate(0,62.31)\" style=\"font-family: 'Open Sans', verdana, arial, sans-serif; font-size: 12px; fill: rgb(42, 63, 95); fill-opacity: 1; white-space: pre;\">12</text></g></g><g class=\"overaxes-above\"/></g></g><g class=\"polarlayer\"/><g class=\"ternarylayer\"/><g class=\"geolayer\"/><g class=\"funnelarealayer\"/><g class=\"pielayer\"/><g class=\"treemaplayer\"/><g class=\"sunburstlayer\"/><g class=\"glimages\"/><defs id=\"topdefs-fd8712\"><g class=\"clips\"/><clipPath id=\"legendfd8712\"><rect width=\"122\" height=\"48\" x=\"0\" y=\"0\"/></clipPath></defs><g class=\"layer-above\"><g class=\"imagelayer\"/><g class=\"shapelayer\"/></g><g class=\"infolayer\"><g class=\"legend\" pointer-events=\"all\" transform=\"translate(566.12,60)\"><rect class=\"bg\" shape-rendering=\"crispEdges\" width=\"122\" height=\"48\" x=\"0\" y=\"0\" style=\"stroke: rgb(68, 68, 68); stroke-opacity: 1; fill: rgb(255, 255, 255); fill-opacity: 1; stroke-width: 0px;\"/><g class=\"scrollbox\" transform=\"\" clip-path=\"url('#legendfd8712')\"><g class=\"groups\"><g class=\"traces\" transform=\"translate(0,14.5)\" style=\"opacity: 1;\"><text class=\"legendtext\" text-anchor=\"start\" x=\"40\" y=\"4.680000000000001\" style=\"font-family: 'Open Sans', verdana, arial, sans-serif; font-size: 12px; fill: rgb(42, 63, 95); fill-opacity: 1; white-space: pre;\">1</text><g class=\"layers\" style=\"opacity: 1;\"><g class=\"legendfill\"/><g class=\"legendlines\"/><g class=\"legendsymbols\"><g class=\"legendpoints\"><path class=\"scatterpts\" transform=\"translate(20,0)\" d=\"M3,0A3,3 0 1,1 0,-3A3,3 0 0,1 3,0Z\" style=\"opacity: 1; stroke-width: 0px; fill: rgb(99, 110, 250); fill-opacity: 1;\"/></g></g></g><rect class=\"legendtoggle\" x=\"0\" y=\"-9.5\" width=\"116.046875\" height=\"19\" style=\"fill: rgb(0, 0, 0); fill-opacity: 0;\"/></g><g class=\"traces\" transform=\"translate(0,33.5)\" style=\"opacity: 1;\"><text class=\"legendtext\" text-anchor=\"start\" x=\"40\" y=\"4.680000000000001\" style=\"font-family: 'Open Sans', verdana, arial, sans-serif; font-size: 12px; fill: rgb(42, 63, 95); fill-opacity: 1; white-space: pre;\">interpolation</text><g class=\"layers\" style=\"opacity: 1;\"><g class=\"legendfill\"/><g class=\"legendlines\"/><g class=\"legendsymbols\"><g class=\"legendpoints\"><path class=\"scatterpts\" transform=\"translate(20,0)\" d=\"M3,0A3,3 0 1,1 0,-3A3,3 0 0,1 3,0Z\" style=\"opacity: 1; stroke-width: 0px; fill: rgb(239, 85, 59); fill-opacity: 1;\"/></g></g></g><rect class=\"legendtoggle\" x=\"0\" y=\"-9.5\" width=\"116.046875\" height=\"19\" style=\"fill: rgb(0, 0, 0); fill-opacity: 0;\"/></g></g></g><rect class=\"scrollbar\" rx=\"20\" ry=\"3\" width=\"0\" height=\"0\" x=\"0\" y=\"0\" style=\"fill: rgb(128, 139, 164); fill-opacity: 1;\"/></g><g class=\"g-gtitle\"/><g class=\"g-xtitle\"/><g class=\"g-ytitle\"/></g></svg>",
            "text/html": [
              "<div\n",
              "    class=\"webio-mountpoint\"\n",
              "    data-webio-mountpoint=\"8874671747856194739\"\n",
              ">\n",
              "    <script>\n",
              "    (function(){\n",
              "    // Some integrations (namely, IJulia/Jupyter) use an alternate render pathway than\n",
              "    // just putting the html on the page. If WebIO isn't defined, then it's pretty likely\n",
              "    // that we're in one of those situations and the integration just isn't installed\n",
              "    // correctly.\n",
              "    if (typeof window.WebIO === \"undefined\") {\n",
              "        document\n",
              "            .querySelector('[data-webio-mountpoint=\"8874671747856194739\"]')\n",
              "            .innerHTML = (\n",
              "                '<div style=\"padding: 1em; background-color: #f8d6da; border: 1px solid #f5c6cb; font-weight: bold;\">' +\n",
              "                '<p><strong>WebIO not detected.</strong></p>' +\n",
              "                '<p>Please read ' +\n",
              "                '<a href=\"https://juliagizmos.github.io/WebIO.jl/latest/troubleshooting/not-detected/\" target=\"_blank\">the troubleshooting guide</a> ' +\n",
              "                'for more information on how to resolve this issue.</p>' +\n",
              "                '<p><a href=\"https://juliagizmos.github.io/WebIO.jl/latest/troubleshooting/not-detected/\" target=\"_blank\">https://juliagizmos.github.io/WebIO.jl/latest/troubleshooting/not-detected/</a></p>' +\n",
              "                '</div>'\n",
              "            );\n",
              "        return;\n",
              "    }\n",
              "    WebIO.mount(\n",
              "        document.querySelector('[data-webio-mountpoint=\"8874671747856194739\"]'),\n",
              "        {\"props\":{},\"nodeType\":\"Scope\",\"type\":\"node\",\"instanceArgs\":{\"imports\":{\"data\":[{\"name\":\"Plotly\",\"type\":\"js\",\"url\":\"\\/assetserver\\/974bc88f8fa21ff4c3cbd84b6afff90488058aa7-plotly.min.js\"},{\"name\":null,\"type\":\"js\",\"url\":\"\\/assetserver\\/64d87b978f97348bc0d43ca0daa59975ea5d4c91-plotly_webio.bundle.js\"}],\"type\":\"async_block\"},\"id\":\"16908776276776038685\",\"handlers\":{\"_toImage\":[\"(function (options){return this.Plotly.toImage(this.plotElem,options).then((function (data){return WebIO.setval({\\\"name\\\":\\\"image\\\",\\\"scope\\\":\\\"16908776276776038685\\\",\\\"id\\\":\\\"3345698803461232204\\\",\\\"type\\\":\\\"observable\\\"},data)}))})\"],\"__get_gd_contents\":[\"(function (prop){prop==\\\"data\\\" ? (WebIO.setval({\\\"name\\\":\\\"__gd_contents\\\",\\\"scope\\\":\\\"16908776276776038685\\\",\\\"id\\\":\\\"12915947337198751438\\\",\\\"type\\\":\\\"observable\\\"},this.plotElem.data)) : undefined; return prop==\\\"layout\\\" ? (WebIO.setval({\\\"name\\\":\\\"__gd_contents\\\",\\\"scope\\\":\\\"16908776276776038685\\\",\\\"id\\\":\\\"12915947337198751438\\\",\\\"type\\\":\\\"observable\\\"},this.plotElem.layout)) : undefined})\"],\"_downloadImage\":[\"(function (options){return this.Plotly.downloadImage(this.plotElem,options)})\"],\"_commands\":[\"(function (args){var fn=args.shift(); var elem=this.plotElem; var Plotly=this.Plotly; args.unshift(elem); return Plotly[fn].apply(this,args)})\"]},\"systemjs_options\":null,\"mount_callbacks\":[\"function () {\\n    var handler = ((function (Plotly,PlotlyWebIO){PlotlyWebIO.init(WebIO); var gd=this.dom.querySelector(\\\"#plot-a1445758-1be3-4803-bacd-fcbd0d5cb33d\\\"); this.plotElem=gd; this.Plotly=Plotly; (window.Blink!==undefined) ? (gd.style.width=\\\"100%\\\", gd.style.height=\\\"100vh\\\", gd.style.marginLeft=\\\"0%\\\", gd.style.marginTop=\\\"0vh\\\") : undefined; window.onresize=(function (){return Plotly.Plots.resize(gd)}); Plotly.newPlot(gd,[{\\\"mode\\\":\\\"markers\\\",\\\"y\\\":[5.66708e-7,4.574558e-7,4.110021e-7,3.692655e-7,3.317676e-7,2.980771e-7,2.678079e-7,2.406127e-7,2.161788e-7,1.942264e-7,1.745031e-7,1.567827e-7,1.408617e-7,1.265576e-7,1.137058e-7,1.021592e-7,9.17851e-8,8.246456e-8,7.409049e-8,6.656673e-8,5.980699e-8,5.373369e-8,4.827717e-8,4.337474e-8,3.897011e-8,3.501279e-8,3.14573e-8,2.826287e-8,2.539284e-8,2.281422e-8,2.049749e-8,1.841601e-8,1.654593e-8,1.486571e-8,1.335613e-8,1.199983e-8,1.12668e-8,9.686459e-9,8.702823e-9,7.819066e-9,7.025047e-9,6.311665e-9,5.670726e-9,5.094878e-9,4.577501e-9,4.112664e-9,3.69503e-9,3.319809e-9,2.982688e-9,2.679801e-9,2.407671e-9,2.163179e-9,1.943511e-9,1.79209e-9,1.568832e-9,1.40952e-9,1.266387e-9,1.137787e-9,1.022247e-9,9.18439e-10,8.25173e-10,7.41379e-10,6.66093e-10,5.66707e-10,5.37681e-10,4.8308e-10,4.34024e-10,3.8995e-10,3.50351e-10,3.14774e-10,2.82809e-10,2.5409e-10,2.28288e-10,2.05106e-10,1.79209e-10,1.65565e-10,1.48752e-10,1.67656e-10,2.05783e-10,3.6256e-10,4.64793e-10,6.98529e-10,1.049803e-9,1.35519e-9,2.868989e-9,2.888321e-9,2.600376e-9,2.331128e-9,2.020293e-9,1.907105e-9,1.744417e-9,1.747515e-5,4.232912e-5,9.67594e-5,0.00013011,0.0001600767,0.0001673412,7.196148e-5,4.150844e-5,11.31042,10.23287,9.42693,9.056143,8.695675,8.342828,8.176871,8.015824,7.858948,7.705701,7.300595,6.946459,6.707277,6.496015,6.309134,6.140662,5.979218,5.831034,5.686054,5.551174,5.419636,5.296228,5.17713,5.064872,4.957932,4.892824,4.856992,4.762559,4.673825,4.467022,4.429201,4.349518,4.269087,4.176229,4.043072,4.039715,3.908007,3.855323,3.806919,3.786799,3.63653,3.590303,3.593541,3.595908,3.596323,3.556469,3.52997,3.525062,3.524371,3.520531,3.518516,3.516648,3.46044,3.404071,3.361819,3.349128,3.381342,3.343207,3.328982,3.326486,3.289455,3.289042,3.288231,3.309413,3.310184,3.3119,3.317256,3.313089,3.315886,3.317744,3.330139,3.341003,3.33605,3.337367,3.337752,3.34954,3.358166,3.376014,3.370147,3.369639,3.372316,3.374748,3.38409,3.384961,3.391497,3.404055,3.412414,3.417655,3.41823,3.413147,3.407737,3.407053,3.407228,3.407437,3.416699,3.467502,3.490292,3.513912,3.536157,3.558823,3.589551,3.600768,3.638958,3.672985,3.702804,3.728577,3.750561,3.769097,3.784489,3.79708,3.807176,3.808668,3.815024,3.820662,3.820898,3.824955,3.826722,3.827404,3.828405,3.828369,3.82795,3.8276,3.826217,3.82588,3.824802,3.824657,3.823186,3.818938,3.813445,3.794465,3.789258,3.787742,3.781109,3.780311,3.768243,3.755884,3.75392,3.740261,3.735377,3.705426,3.702804,3.696735,3.653068,3.652736,3.636239,3.622084,3.61679,3.610955,3.610686,3.605325,3.604638,3.554038,3.526198,3.50003,3.444045,3.394756,3.386894,3.376049,3.363915,3.341377,3.329365,3.27219,3.215842,3.207437,3.199175,3.160502,3.121883,3.120409,3.105762,3.062519,3.052912,3.00024,2.964469,2.949628,2.940346,2.900086,2.886418,2.868479,2.865181,2.852815,2.80803,2.807646,2.7739,2.765774,2.760855,2.757164,2.726908,2.723994,2.690752,2.629451,2.581211,2.544735,2.518289,2.500284,2.489188,2.483988,2.483742,2.487942,2.496104,2.50825,2.52285,2.54064,2.55997,2.58136,2.60336,2.62627,2.649,2.67175,2.69369,2.71507,2.7352,2.75443,2.77211,2.78869,2.80354,2.81716,2.82899,2.83952,2.84824,2.85563,2.86127,2.86558,2.86821,2.86957,2.86934,2.86792,2.86502,2.86104,2.8557,2.84956,2.84221,2.83369,2.82409,2.81344,2.80241,2.79049,2.77771,2.76413,2.74981,2.73532,2.72019,2.70447,2.6882,2.67145,2.65467,2.63748,2.61992,2.60201,2.58382,2.56587,2.54769,2.5293,2.51075,2.49204,2.47321,2.45428,2.43527,2.41634,2.39725,2.37882,2.36025,2.3417,2.32333,2.30487,2.28661,2.26828,2.25018,2.23203,2.21397,2.17917,2.14488,2.11115,2.07804,2.04556,2.01421,1.9837,1.95391,1.92483,1.89631,1.86916,1.84273,1.81703,1.79188,1.76761,1.74442,1.72191,1.69992,1.67876,1.65826,1.63869,1.61959,1.60126,1.58352,1.56621,1.54987,1.53407,1.51865,1.50391,1.48967,1.47605,1.46306,1.45053,1.4383,1.42666,1.41543,1.40447,1.39405,1.38401,1.37421,1.36519,1.35653,1.34807,1.34009,1.33228,1.32494,1.31789,1.31101,1.30456,1.29839],\\\"type\\\":\\\"scatter\\\",\\\"name\\\":\\\"1\\\",\\\"x\\\":[1.0e-5,1.534689e-5,1.901214e-5,2.355274e-5,2.917771e-5,3.614613e-5,4.477879e-5,5.547305e-5,6.87215e-5,8.513403e-5,0.0001054663,0.0001306542,0.000161858,0.0002005136,0.0002484016,0.0003077265,0.0003812198,0.0004722644,0.0005850538,0.0007247803,0.0008978754,0.001112312,0.001377962,0.001707053,0.002114742,0.002619794,0.003245471,0.004020577,0.004980797,0.006170345,0.007643974,0.009469559,0.01173112,0.01453283,0.01800365,0.02230341,0.0253,0.03422878,0.04240345,0.05253053,0.06507622,0.08061817,0.09987193,0.1237238,0.1532722,0.1898777,0.2352253,0.2914031,0.360998,0.4472135,0.5540195,0.6863335,0.8502475,1.0,1.304868,1.616503,2.002566,2.480832,3.073318,3.807308,4.716591,5.843033,7.238505,10.0,11.10885,13.76194,17.04865,21.12032,26.16439,32.41311,40.15419,49.74414,61.62431,76.34177,100.0,117.161,145.1418,200.0,222.748,300.0,341.8488,423.4914,524.6315,600.0,890.0,1000.0,1235.651,1530.757,2000.0,2349.236,3000.0,3605.353,4466.398,6000.0,6854.531,8491.576,10000.0,13031.95,14000.0,14000.0,20000.0,30000.0,40000.0,50000.0,60000.0,70000.0,80000.0,90000.0,100000.0,150000.0,200000.0,250000.0,300000.0,350000.0,400000.0,450000.0,500000.0,550000.0,600000.0,650000.0,700000.0,750000.0,800000.0,850000.0,881924.0,900000.0,950000.0,1.0e6,1.05448e6,1.1e6,1.2e6,1.23307e6,1.3e6,1.39745e6,1.4e6,1.5e6,1.54242e6,1.58279e6,1.6e6,1.7e6,1.73225e6,1.7737e6,1.79633e6,1.8e6,1.85397e6,1.89178e6,1.89899e6,1.9e6,1.90568e6,1.90867e6,1.91146e6,2.0e6,2.1e6,2.18422e6,2.18783e6,2.2e6,2.3e6,2.34018e6,2.4e6,2.48665e6,2.5e6,2.57149e6,2.599e6,2.6e6,2.7e6,2.8e6,2.84672e6,2.9e6,2.92895e6,2.98738e6,3.0e6,3.09037e6,3.1e6,3.10283e6,3.15182e6,3.17515e6,3.2e6,3.22648e6,3.24028e6,3.28877e6,3.3e6,3.34228e6,3.34462e6,3.36191e6,3.3829e6,3.39325e6,3.39934e6,3.4e6,3.42027e6,3.46564e6,3.47238e6,3.47745e6,3.48151e6,3.5e6,3.6e6,3.7e6,3.8e6,3.9e6,4.0e6,4.14659e6,4.2e6,4.4e6,4.6e6,4.8e6,5.0e6,5.2e6,5.4e6,5.6e6,5.8e6,6.0e6,6.03194e6,6.2e6,6.38932e6,6.4e6,6.6e6,6.71261e6,6.8e6,6.97181e6,7.0e6,7.2e6,7.27403e6,7.4e6,7.43274e6,7.51232e6,7.52162e6,7.6e6,7.8e6,8.0e6,8.5e6,8.61453e6,8.64598e6,8.77543e6,8.79038e6,9.0e6,9.20142e6,9.23176e6,9.43199e6,9.5e6,9.8938e6,9.92611e6,1.0e7,1.05e7,1.05037e7,1.06813e7,1.08293e7,1.08837e7,1.09431e7,1.09458e7,1.1e7,1.1007e7,1.15e7,1.16989e7,1.2e7,1.25e7,1.29316e7,1.3e7,1.30944e7,1.31998e7,1.33955e7,1.35e7,1.4e7,1.45e7,1.4575e7,1.4649e7,1.5e7,1.5351e7,1.53646e7,1.55e7,1.59077e7,1.6e7,1.65e7,1.68512e7,1.7e7,1.70921e7,1.75e7,1.76421e7,1.78316e7,1.78668e7,1.8e7,1.85e7,1.85044e7,1.89014e7,1.9e7,1.90615e7,1.91079e7,1.95e7,1.9539e7,2.0e7,2.1e7,2.2e7,2.3e7,2.4e7,2.5e7,2.6e7,2.7e7,2.8e7,2.9e7,3.0e7,3.1e7,3.2e7,3.3e7,3.4e7,3.5e7,3.6e7,3.7e7,3.8e7,3.9e7,4.0e7,4.1e7,4.2e7,4.3e7,4.4e7,4.5e7,4.6e7,4.7e7,4.8e7,4.9e7,5.0e7,5.1e7,5.2e7,5.3e7,5.4e7,5.5e7,5.6e7,5.7e7,5.8e7,5.9e7,6.0e7,6.1e7,6.2e7,6.3e7,6.4e7,6.5e7,6.6e7,6.7e7,6.8e7,6.9e7,7.0e7,7.1e7,7.2e7,7.3e7,7.4e7,7.5e7,7.6e7,7.7e7,7.8e7,7.9e7,8.0e7,8.1e7,8.2e7,8.3e7,8.4e7,8.5e7,8.6e7,8.7e7,8.8e7,8.9e7,9.0e7,9.1e7,9.2e7,9.3e7,9.4e7,9.5e7,9.6e7,9.7e7,9.8e7,9.9e7,1.0e8,1.02e8,1.04e8,1.06e8,1.08e8,1.1e8,1.12e8,1.14e8,1.16e8,1.18e8,1.2e8,1.22e8,1.24e8,1.26e8,1.28e8,1.3e8,1.32e8,1.34e8,1.36e8,1.38e8,1.4e8,1.42e8,1.44e8,1.46e8,1.48e8,1.5e8,1.52e8,1.54e8,1.56e8,1.58e8,1.6e8,1.62e8,1.64e8,1.66e8,1.68e8,1.7e8,1.72e8,1.74e8,1.76e8,1.78e8,1.8e8,1.82e8,1.84e8,1.86e8,1.88e8,1.9e8,1.92e8,1.94e8,1.96e8,1.98e8,2.0e8]},{\\\"mode\\\":\\\"markers\\\",\\\"y\\\":[3.556468999999999870098341067791866723785507016086516714550858075938322144793347,3.813445000000000197314724443241614222272329448617322964886627856273548786703032,3.794465000000000203590697664876226999497375584316803438083025214883070574956037,3.768243000000000011471542988163178449903459612051772737937722034742436729576331,3.735377000000000169995139023380314188157204316704725814043878944953244172419438,3.696734999999999883285154967571019067577043339716715610308615249266438705644244,3.653068000000000196536968064449199833671902742395497542674312734661823398596425,3.605325000000000111784567427338415535048213952187029024411797529251150554174821,3.554037999999999818445237637818637112858093485436343667023461955845400894737907,3.500030000000000200504109770160552299093279694774461485701220464224030226585427,3.444045000000000010038883709224683567655509000800876470664156799028621236402614,3.386893999999999846909158597046744555654951577050169858150300335880578117553341,3.329365000000000127589585288036659239133559208388408566997242916646706275413115,3.272190000000000162202258435797261738198532238902339777687383094457312937564097,3.215841999999999866808311725084276146218427598442043721260633157982278262920772,3.160502000000000142861526268132393606216176915206815601069772452821676420042785,3.05291200000000006853282247430469149035201795606427354873146325423254737740919,2.949628000000000142312150390785428542062161656581360959618678951876802329934435,2.852815000000000100831636618337318250520933077380341547706304843046165586883944,2.765773999999999955816427987018588382375816838988598434561617975220105050682129,2.690751999999999808520900329632211686935359274209950981008731401027036372886059,2.629450999999999969032050877094982180342885642260161725221090421936165348881786,2.581211000000000154908411166990848619132482784156777112674106627009107395309684,2.544735000000000195290911236856346181405574529624112897585017133497697905397672,2.518289000000000220153312813283053520511036482024242371044250453533674960482358,2.500284000000000172366663642881515604379944637942128921954382096172475602458007,2.489187999999999961018708863174483613802122527843176365153492375636989919485131,2.483988000000000084500509158489910295937350523628910765094380576345489686218571,2.483741999999999894257177636364948230706971512049333592518682680468783408045397,2.48794199999999987575773297607147194302972199060231928475795401892178837499614,2.496103999999999875613467040494521343463358339114488895718149320219017041344589,2.496103999999999875613467040494521343463358339114488895718149320219017041344589,1.298389999999999932818794887245907188235562688373973616705466752746511716054556],\\\"type\\\":\\\"scatter\\\",\\\"name\\\":\\\"interpolation\\\",\\\"x\\\":[1.85397e+06,8.0e+06,8.5e+06,9.0e+06,9.5e+06,1.0e+07,1.05e+07,1.1e+07,1.15e+07,1.2e+07,1.25e+07,1.3e+07,1.35e+07,1.4e+07,1.45e+07,1.5e+07,1.6e+07,1.7e+07,1.8e+07,1.9e+07,2.0e+07,2.1e+07,2.2e+07,2.3e+07,2.4e+07,2.5e+07,2.6e+07,2.7e+07,2.8e+07,2.9e+07,3.0e+07,3.0e+07,2.0e+08]}],{\\\"template\\\":{\\\"layout\\\":{\\\"coloraxis\\\":{\\\"colorbar\\\":{\\\"ticks\\\":\\\"\\\",\\\"outlinewidth\\\":0}},\\\"xaxis\\\":{\\\"gridcolor\\\":\\\"white\\\",\\\"zerolinewidth\\\":2,\\\"title\\\":{\\\"standoff\\\":15},\\\"ticks\\\":\\\"\\\",\\\"zerolinecolor\\\":\\\"white\\\",\\\"automargin\\\":true,\\\"linecolor\\\":\\\"white\\\"},\\\"hovermode\\\":\\\"closest\\\",\\\"paper_bgcolor\\\":\\\"white\\\",\\\"geo\\\":{\\\"showlakes\\\":true,\\\"showland\\\":true,\\\"landcolor\\\":\\\"#E5ECF6\\\",\\\"bgcolor\\\":\\\"white\\\",\\\"subunitcolor\\\":\\\"white\\\",\\\"lakecolor\\\":\\\"white\\\"},\\\"colorscale\\\":{\\\"sequential\\\":[[0.0,\\\"#0d0887\\\"],[0.1111111111111111,\\\"#46039f\\\"],[0.2222222222222222,\\\"#7201a8\\\"],[0.3333333333333333,\\\"#9c179e\\\"],[0.4444444444444444,\\\"#bd3786\\\"],[0.5555555555555556,\\\"#d8576b\\\"],[0.6666666666666666,\\\"#ed7953\\\"],[0.7777777777777778,\\\"#fb9f3a\\\"],[0.8888888888888888,\\\"#fdca26\\\"],[1.0,\\\"#f0f921\\\"]],\\\"diverging\\\":[[0,\\\"#8e0152\\\"],[0.1,\\\"#c51b7d\\\"],[0.2,\\\"#de77ae\\\"],[0.3,\\\"#f1b6da\\\"],[0.4,\\\"#fde0ef\\\"],[0.5,\\\"#f7f7f7\\\"],[0.6,\\\"#e6f5d0\\\"],[0.7,\\\"#b8e186\\\"],[0.8,\\\"#7fbc41\\\"],[0.9,\\\"#4d9221\\\"],[1,\\\"#276419\\\"]],\\\"sequentialminus\\\":[[0.0,\\\"#0d0887\\\"],[0.1111111111111111,\\\"#46039f\\\"],[0.2222222222222222,\\\"#7201a8\\\"],[0.3333333333333333,\\\"#9c179e\\\"],[0.4444444444444444,\\\"#bd3786\\\"],[0.5555555555555556,\\\"#d8576b\\\"],[0.6666666666666666,\\\"#ed7953\\\"],[0.7777777777777778,\\\"#fb9f3a\\\"],[0.8888888888888888,\\\"#fdca26\\\"],[1.0,\\\"#f0f921\\\"]]},\\\"yaxis\\\":{\\\"gridcolor\\\":\\\"white\\\",\\\"zerolinewidth\\\":2,\\\"title\\\":{\\\"standoff\\\":15},\\\"ticks\\\":\\\"\\\",\\\"zerolinecolor\\\":\\\"white\\\",\\\"automargin\\\":true,\\\"linecolor\\\":\\\"white\\\"},\\\"shapedefaults\\\":{\\\"line\\\":{\\\"color\\\":\\\"#2a3f5f\\\"}},\\\"hoverlabel\\\":{\\\"align\\\":\\\"left\\\"},\\\"mapbox\\\":{\\\"style\\\":\\\"light\\\"},\\\"polar\\\":{\\\"angularaxis\\\":{\\\"gridcolor\\\":\\\"white\\\",\\\"ticks\\\":\\\"\\\",\\\"linecolor\\\":\\\"white\\\"},\\\"bgcolor\\\":\\\"#E5ECF6\\\",\\\"radialaxis\\\":{\\\"gridcolor\\\":\\\"white\\\",\\\"ticks\\\":\\\"\\\",\\\"linecolor\\\":\\\"white\\\"}},\\\"autotypenumbers\\\":\\\"strict\\\",\\\"font\\\":{\\\"color\\\":\\\"#2a3f5f\\\"},\\\"ternary\\\":{\\\"baxis\\\":{\\\"gridcolor\\\":\\\"white\\\",\\\"ticks\\\":\\\"\\\",\\\"linecolor\\\":\\\"white\\\"},\\\"bgcolor\\\":\\\"#E5ECF6\\\",\\\"caxis\\\":{\\\"gridcolor\\\":\\\"white\\\",\\\"ticks\\\":\\\"\\\",\\\"linecolor\\\":\\\"white\\\"},\\\"aaxis\\\":{\\\"gridcolor\\\":\\\"white\\\",\\\"ticks\\\":\\\"\\\",\\\"linecolor\\\":\\\"white\\\"}},\\\"annotationdefaults\\\":{\\\"arrowhead\\\":0,\\\"arrowwidth\\\":1,\\\"arrowcolor\\\":\\\"#2a3f5f\\\"},\\\"plot_bgcolor\\\":\\\"#E5ECF6\\\",\\\"title\\\":{\\\"x\\\":0.05},\\\"scene\\\":{\\\"xaxis\\\":{\\\"gridcolor\\\":\\\"white\\\",\\\"gridwidth\\\":2,\\\"backgroundcolor\\\":\\\"#E5ECF6\\\",\\\"ticks\\\":\\\"\\\",\\\"showbackground\\\":true,\\\"zerolinecolor\\\":\\\"white\\\",\\\"linecolor\\\":\\\"white\\\"},\\\"zaxis\\\":{\\\"gridcolor\\\":\\\"white\\\",\\\"gridwidth\\\":2,\\\"backgroundcolor\\\":\\\"#E5ECF6\\\",\\\"ticks\\\":\\\"\\\",\\\"showbackground\\\":true,\\\"zerolinecolor\\\":\\\"white\\\",\\\"linecolor\\\":\\\"white\\\"},\\\"yaxis\\\":{\\\"gridcolor\\\":\\\"white\\\",\\\"gridwidth\\\":2,\\\"backgroundcolor\\\":\\\"#E5ECF6\\\",\\\"ticks\\\":\\\"\\\",\\\"showbackground\\\":true,\\\"zerolinecolor\\\":\\\"white\\\",\\\"linecolor\\\":\\\"white\\\"}},\\\"colorway\\\":[\\\"#636efa\\\",\\\"#EF553B\\\",\\\"#00cc96\\\",\\\"#ab63fa\\\",\\\"#FFA15A\\\",\\\"#19d3f3\\\",\\\"#FF6692\\\",\\\"#B6E880\\\",\\\"#FF97FF\\\",\\\"#FECB52\\\"]},\\\"data\\\":{\\\"barpolar\\\":[{\\\"type\\\":\\\"barpolar\\\",\\\"marker\\\":{\\\"line\\\":{\\\"color\\\":\\\"#E5ECF6\\\",\\\"width\\\":0.5}}}],\\\"carpet\\\":[{\\\"aaxis\\\":{\\\"gridcolor\\\":\\\"white\\\",\\\"endlinecolor\\\":\\\"#2a3f5f\\\",\\\"minorgridcolor\\\":\\\"white\\\",\\\"startlinecolor\\\":\\\"#2a3f5f\\\",\\\"linecolor\\\":\\\"white\\\"},\\\"type\\\":\\\"carpet\\\",\\\"baxis\\\":{\\\"gridcolor\\\":\\\"white\\\",\\\"endlinecolor\\\":\\\"#2a3f5f\\\",\\\"minorgridcolor\\\":\\\"white\\\",\\\"startlinecolor\\\":\\\"#2a3f5f\\\",\\\"linecolor\\\":\\\"white\\\"}}],\\\"scatterpolar\\\":[{\\\"type\\\":\\\"scatterpolar\\\",\\\"marker\\\":{\\\"colorbar\\\":{\\\"ticks\\\":\\\"\\\",\\\"outlinewidth\\\":0}}}],\\\"parcoords\\\":[{\\\"line\\\":{\\\"colorbar\\\":{\\\"ticks\\\":\\\"\\\",\\\"outlinewidth\\\":0}},\\\"type\\\":\\\"parcoords\\\"}],\\\"scatter\\\":[{\\\"type\\\":\\\"scatter\\\",\\\"marker\\\":{\\\"colorbar\\\":{\\\"ticks\\\":\\\"\\\",\\\"outlinewidth\\\":0}}}],\\\"histogram2dcontour\\\":[{\\\"colorbar\\\":{\\\"ticks\\\":\\\"\\\",\\\"outlinewidth\\\":0},\\\"type\\\":\\\"histogram2dcontour\\\",\\\"colorscale\\\":[[0.0,\\\"#0d0887\\\"],[0.1111111111111111,\\\"#46039f\\\"],[0.2222222222222222,\\\"#7201a8\\\"],[0.3333333333333333,\\\"#9c179e\\\"],[0.4444444444444444,\\\"#bd3786\\\"],[0.5555555555555556,\\\"#d8576b\\\"],[0.6666666666666666,\\\"#ed7953\\\"],[0.7777777777777778,\\\"#fb9f3a\\\"],[0.8888888888888888,\\\"#fdca26\\\"],[1.0,\\\"#f0f921\\\"]]}],\\\"contour\\\":[{\\\"colorbar\\\":{\\\"ticks\\\":\\\"\\\",\\\"outlinewidth\\\":0},\\\"type\\\":\\\"contour\\\",\\\"colorscale\\\":[[0.0,\\\"#0d0887\\\"],[0.1111111111111111,\\\"#46039f\\\"],[0.2222222222222222,\\\"#7201a8\\\"],[0.3333333333333333,\\\"#9c179e\\\"],[0.4444444444444444,\\\"#bd3786\\\"],[0.5555555555555556,\\\"#d8576b\\\"],[0.6666666666666666,\\\"#ed7953\\\"],[0.7777777777777778,\\\"#fb9f3a\\\"],[0.8888888888888888,\\\"#fdca26\\\"],[1.0,\\\"#f0f921\\\"]]}],\\\"scattercarpet\\\":[{\\\"type\\\":\\\"scattercarpet\\\",\\\"marker\\\":{\\\"colorbar\\\":{\\\"ticks\\\":\\\"\\\",\\\"outlinewidth\\\":0}}}],\\\"mesh3d\\\":[{\\\"colorbar\\\":{\\\"ticks\\\":\\\"\\\",\\\"outlinewidth\\\":0},\\\"type\\\":\\\"mesh3d\\\"}],\\\"surface\\\":[{\\\"colorbar\\\":{\\\"ticks\\\":\\\"\\\",\\\"outlinewidth\\\":0},\\\"type\\\":\\\"surface\\\",\\\"colorscale\\\":[[0.0,\\\"#0d0887\\\"],[0.1111111111111111,\\\"#46039f\\\"],[0.2222222222222222,\\\"#7201a8\\\"],[0.3333333333333333,\\\"#9c179e\\\"],[0.4444444444444444,\\\"#bd3786\\\"],[0.5555555555555556,\\\"#d8576b\\\"],[0.6666666666666666,\\\"#ed7953\\\"],[0.7777777777777778,\\\"#fb9f3a\\\"],[0.8888888888888888,\\\"#fdca26\\\"],[1.0,\\\"#f0f921\\\"]]}],\\\"scattermapbox\\\":[{\\\"type\\\":\\\"scattermapbox\\\",\\\"marker\\\":{\\\"colorbar\\\":{\\\"ticks\\\":\\\"\\\",\\\"outlinewidth\\\":0}}}],\\\"scattergeo\\\":[{\\\"type\\\":\\\"scattergeo\\\",\\\"marker\\\":{\\\"colorbar\\\":{\\\"ticks\\\":\\\"\\\",\\\"outlinewidth\\\":0}}}],\\\"histogram\\\":[{\\\"type\\\":\\\"histogram\\\",\\\"marker\\\":{\\\"colorbar\\\":{\\\"ticks\\\":\\\"\\\",\\\"outlinewidth\\\":0}}}],\\\"pie\\\":[{\\\"type\\\":\\\"pie\\\",\\\"automargin\\\":true}],\\\"choropleth\\\":[{\\\"colorbar\\\":{\\\"ticks\\\":\\\"\\\",\\\"outlinewidth\\\":0},\\\"type\\\":\\\"choropleth\\\"}],\\\"heatmapgl\\\":[{\\\"colorbar\\\":{\\\"ticks\\\":\\\"\\\",\\\"outlinewidth\\\":0},\\\"type\\\":\\\"heatmapgl\\\",\\\"colorscale\\\":[[0.0,\\\"#0d0887\\\"],[0.1111111111111111,\\\"#46039f\\\"],[0.2222222222222222,\\\"#7201a8\\\"],[0.3333333333333333,\\\"#9c179e\\\"],[0.4444444444444444,\\\"#bd3786\\\"],[0.5555555555555556,\\\"#d8576b\\\"],[0.6666666666666666,\\\"#ed7953\\\"],[0.7777777777777778,\\\"#fb9f3a\\\"],[0.8888888888888888,\\\"#fdca26\\\"],[1.0,\\\"#f0f921\\\"]]}],\\\"bar\\\":[{\\\"type\\\":\\\"bar\\\",\\\"error_y\\\":{\\\"color\\\":\\\"#2a3f5f\\\"},\\\"error_x\\\":{\\\"color\\\":\\\"#2a3f5f\\\"},\\\"marker\\\":{\\\"line\\\":{\\\"color\\\":\\\"#E5ECF6\\\",\\\"width\\\":0.5}}}],\\\"heatmap\\\":[{\\\"colorbar\\\":{\\\"ticks\\\":\\\"\\\",\\\"outlinewidth\\\":0},\\\"type\\\":\\\"heatmap\\\",\\\"colorscale\\\":[[0.0,\\\"#0d0887\\\"],[0.1111111111111111,\\\"#46039f\\\"],[0.2222222222222222,\\\"#7201a8\\\"],[0.3333333333333333,\\\"#9c179e\\\"],[0.4444444444444444,\\\"#bd3786\\\"],[0.5555555555555556,\\\"#d8576b\\\"],[0.6666666666666666,\\\"#ed7953\\\"],[0.7777777777777778,\\\"#fb9f3a\\\"],[0.8888888888888888,\\\"#fdca26\\\"],[1.0,\\\"#f0f921\\\"]]}],\\\"contourcarpet\\\":[{\\\"colorbar\\\":{\\\"ticks\\\":\\\"\\\",\\\"outlinewidth\\\":0},\\\"type\\\":\\\"contourcarpet\\\"}],\\\"table\\\":[{\\\"type\\\":\\\"table\\\",\\\"header\\\":{\\\"line\\\":{\\\"color\\\":\\\"white\\\"},\\\"fill\\\":{\\\"color\\\":\\\"#C8D4E3\\\"}},\\\"cells\\\":{\\\"line\\\":{\\\"color\\\":\\\"white\\\"},\\\"fill\\\":{\\\"color\\\":\\\"#EBF0F8\\\"}}}],\\\"scatter3d\\\":[{\\\"line\\\":{\\\"colorbar\\\":{\\\"ticks\\\":\\\"\\\",\\\"outlinewidth\\\":0}},\\\"type\\\":\\\"scatter3d\\\",\\\"marker\\\":{\\\"colorbar\\\":{\\\"ticks\\\":\\\"\\\",\\\"outlinewidth\\\":0}}}],\\\"scattergl\\\":[{\\\"type\\\":\\\"scattergl\\\",\\\"marker\\\":{\\\"colorbar\\\":{\\\"ticks\\\":\\\"\\\",\\\"outlinewidth\\\":0}}}],\\\"histogram2d\\\":[{\\\"colorbar\\\":{\\\"ticks\\\":\\\"\\\",\\\"outlinewidth\\\":0},\\\"type\\\":\\\"histogram2d\\\",\\\"colorscale\\\":[[0.0,\\\"#0d0887\\\"],[0.1111111111111111,\\\"#46039f\\\"],[0.2222222222222222,\\\"#7201a8\\\"],[0.3333333333333333,\\\"#9c179e\\\"],[0.4444444444444444,\\\"#bd3786\\\"],[0.5555555555555556,\\\"#d8576b\\\"],[0.6666666666666666,\\\"#ed7953\\\"],[0.7777777777777778,\\\"#fb9f3a\\\"],[0.8888888888888888,\\\"#fdca26\\\"],[1.0,\\\"#f0f921\\\"]]}],\\\"scatterternary\\\":[{\\\"type\\\":\\\"scatterternary\\\",\\\"marker\\\":{\\\"colorbar\\\":{\\\"ticks\\\":\\\"\\\",\\\"outlinewidth\\\":0}}}],\\\"scatterpolargl\\\":[{\\\"type\\\":\\\"scatterpolargl\\\",\\\"marker\\\":{\\\"colorbar\\\":{\\\"ticks\\\":\\\"\\\",\\\"outlinewidth\\\":0}}}]}},\\\"margin\\\":{\\\"l\\\":50,\\\"b\\\":50,\\\"r\\\":50,\\\"t\\\":60}},{\\\"showLink\\\":false,\\\"editable\\\":false,\\\"responsive\\\":true,\\\"staticPlot\\\":false,\\\"scrollZoom\\\":true}); gd.on(\\\"plotly_hover\\\",(function (data){var filtered_data=WebIO.PlotlyCommands.filterEventData(gd,data,\\\"hover\\\"); return !(filtered_data.isnil) ? (WebIO.setval({\\\"name\\\":\\\"hover\\\",\\\"scope\\\":\\\"16908776276776038685\\\",\\\"id\\\":\\\"9795540691248911459\\\",\\\"type\\\":\\\"observable\\\"},filtered_data.out)) : undefined})); gd.on(\\\"plotly_unhover\\\",(function (){return WebIO.setval({\\\"name\\\":\\\"hover\\\",\\\"scope\\\":\\\"16908776276776038685\\\",\\\"id\\\":\\\"9795540691248911459\\\",\\\"type\\\":\\\"observable\\\"},{})})); gd.on(\\\"plotly_selected\\\",(function (data){var filtered_data=WebIO.PlotlyCommands.filterEventData(gd,data,\\\"selected\\\"); return !(filtered_data.isnil) ? (WebIO.setval({\\\"name\\\":\\\"selected\\\",\\\"scope\\\":\\\"16908776276776038685\\\",\\\"id\\\":\\\"15631168320885951812\\\",\\\"type\\\":\\\"observable\\\"},filtered_data.out)) : undefined})); gd.on(\\\"plotly_deselect\\\",(function (){return WebIO.setval({\\\"name\\\":\\\"selected\\\",\\\"scope\\\":\\\"16908776276776038685\\\",\\\"id\\\":\\\"15631168320885951812\\\",\\\"type\\\":\\\"observable\\\"},{})})); gd.on(\\\"plotly_relayout\\\",(function (data){var filtered_data=WebIO.PlotlyCommands.filterEventData(gd,data,\\\"relayout\\\"); return !(filtered_data.isnil) ? (WebIO.setval({\\\"name\\\":\\\"relayout\\\",\\\"scope\\\":\\\"16908776276776038685\\\",\\\"id\\\":\\\"6957498166270817752\\\",\\\"type\\\":\\\"observable\\\"},filtered_data.out)) : undefined})); return gd.on(\\\"plotly_click\\\",(function (data){var filtered_data=WebIO.PlotlyCommands.filterEventData(gd,data,\\\"click\\\"); return !(filtered_data.isnil) ? (WebIO.setval({\\\"name\\\":\\\"click\\\",\\\"scope\\\":\\\"16908776276776038685\\\",\\\"id\\\":\\\"6230663030126179735\\\",\\\"type\\\":\\\"observable\\\"},filtered_data.out)) : undefined}))}));\\n    (WebIO.importBlock({\\\"data\\\":[{\\\"name\\\":\\\"Plotly\\\",\\\"type\\\":\\\"js\\\",\\\"url\\\":\\\"\\/assetserver\\/974bc88f8fa21ff4c3cbd84b6afff90488058aa7-plotly.min.js\\\"},{\\\"name\\\":null,\\\"type\\\":\\\"js\\\",\\\"url\\\":\\\"\\/assetserver\\/64d87b978f97348bc0d43ca0daa59975ea5d4c91-plotly_webio.bundle.js\\\"}],\\\"type\\\":\\\"async_block\\\"})).then((imports) => handler.apply(this, imports));\\n}\\n\"],\"observables\":{\"_toImage\":{\"sync\":false,\"id\":\"2713706432271157603\",\"value\":{}},\"hover\":{\"sync\":false,\"id\":\"9795540691248911459\",\"value\":{}},\"selected\":{\"sync\":false,\"id\":\"15631168320885951812\",\"value\":{}},\"__gd_contents\":{\"sync\":false,\"id\":\"12915947337198751438\",\"value\":{}},\"click\":{\"sync\":false,\"id\":\"6230663030126179735\",\"value\":{}},\"image\":{\"sync\":true,\"id\":\"3345698803461232204\",\"value\":\"\"},\"__get_gd_contents\":{\"sync\":false,\"id\":\"248019374253219446\",\"value\":\"\"},\"_downloadImage\":{\"sync\":false,\"id\":\"13716500907646686688\",\"value\":{}},\"relayout\":{\"sync\":false,\"id\":\"6957498166270817752\",\"value\":{}},\"_commands\":{\"sync\":false,\"id\":\"14871542196047815689\",\"value\":[]}}},\"children\":[{\"props\":{\"id\":\"plot-a1445758-1be3-4803-bacd-fcbd0d5cb33d\"},\"nodeType\":\"DOM\",\"type\":\"node\",\"instanceArgs\":{\"namespace\":\"html\",\"tag\":\"div\"},\"children\":[]}]},\n",
              "        window,\n",
              "    );\n",
              "    })()\n",
              "    </script>\n",
              "</div>\n"
            ],
            "text/plain": [
              "data: [\n",
              "  \"scatter with fields mode, name, type, x, and y\",\n",
              "  \"scatter with fields mode, name, type, x, and y\"\n",
              "]\n",
              "\n",
              "layout: \"layout with fields margin and template\"\n",
              "\n"
            ]
          },
          "metadata": {},
          "output_type": "display_data"
        }
      ],
      "source": [
        "\n",
        "PlotlyJS.plot([PlotlyJS.scatter(x=x, y=y, mode=\"markers\", name=\"1\"),\n",
        "    PlotlyJS.scatter(x=xq, y=itp.(xq), mode=\"markers\", name=\"interpolation\")])"
      ]
    },
    {
      "cell_type": "code",
      "execution_count": 73,
      "metadata": {},
      "outputs": [
        {
          "data": {
            "text/plain": [
              "33-element Vector{BigFloat}:\n",
              " 1.0\n",
              " 0.9999999999999999997338405723179052322162966359161107098866109017541732985756979\n",
              " 0.9999999999999999894206523554720904299596397980321331015902252087215844468121636\n",
              " 0.9999999999999997123432775085138258192700208293124573043920186114531374630382327\n",
              " 0.9999999999999732987647333513497805061704009680496862990761489094539219882288654\n",
              " 0.9999999999996627781544268929016864173222268003216052223313822824240619109896451\n",
              " 0.9999999999970043324282004844756753802323873063777325490945833289043653766149512\n",
              " 0.9999999999780645701184611464706853548390441301045224719953484246372584991118289\n",
              " 0.9999999998733608346547524361701347105736001485065022251343892313418441591743485\n",
              " 0.9999999994855016257081371087633796316650327199104291630085658574020854332828647\n",
              " ⋮\n",
              " 0.9994880241740017773246070176198643733977564639089714360385001047944554482357003\n",
              " 0.9993690143182185997529002458157575967544630175675444880203469175509686547986017\n",
              " 0.9992789980742603636809641635542251138303094672454614665091629046449736610789543\n",
              " 0.9991711302708275207037027694776482564925655356009542143166762166715459734314201\n",
              " 0.9990867032035281486802157088592589219040083343456922144118231712427768539236401\n",
              " 0.9989982507553347817702831203688064006291231841358321696536710360197184370412072\n",
              " 0.9989541446472539280424025418505909309542618689360376329753689301007467777707214\n",
              " 1.0\n",
              " 1.0"
            ]
          },
          "metadata": {},
          "output_type": "display_data"
        }
      ],
      "source": [
        "x = [Float64(e) for e in total_energy]\n",
        "y = [Float64(c) for c in total_cross_sections]\n",
        "itp = Interpolations.interpolate(x,y,FritschCarlsonMonotonicInterpolation())\n",
        "xq = energy\n",
        "interpolated_total_cross_sections = [itp(e) for e in xq]\n",
        "[Pmax_num(cross_sections[i], interpolated_total_cross_sections[i]) \n",
        "    for i in collect(1:length(cross_sections))]"
      ]
    },
    {
      "cell_type": "code",
      "execution_count": 38,
      "metadata": {},
      "outputs": [
        {
          "name": "stdout",
          "output_type": "stream",
          "text": [
            "1C:\\Cross-Section-Data\\talys_data\\libraries\\n\\Ge070\\tendl.2019\\files\\n-Ge070.tendl.2019108"
          ]
        },
        {
          "ename": "DimensionMismatch",
          "evalue": "DimensionMismatch(\"arrays could not be broadcast to a common size; got a dimension with lengths 33 and 0\")",
          "output_type": "error",
          "traceback": [
            "DimensionMismatch(\"arrays could not be broadcast to a common size; got a dimension with lengths 33 and 0\")\n",
            "\n",
            "Stacktrace:\n",
            "  [1] _bcs1\n",
            "    @ .\\broadcast.jl:516 [inlined]\n",
            "  [2] _bcs\n",
            "    @ .\\broadcast.jl:510 [inlined]\n",
            "  [3] broadcast_shape\n",
            "    @ .\\broadcast.jl:504 [inlined]\n",
            "  [4] combine_axes\n",
            "    @ .\\broadcast.jl:499 [inlined]\n",
            "  [5] instantiate\n",
            "    @ .\\broadcast.jl:281 [inlined]\n",
            "  [6] materialize(bc::Base.Broadcast.Broadcasted{Base.Broadcast.DefaultArrayStyle{1}, Nothing, typeof(/), Tuple{Vector{Any}, Vector{Any}}})\n",
            "    @ Base.Broadcast .\\broadcast.jl:860\n",
            "  [7] min_reaction_energy(projectile::String, target::Tuple{Int64, Int64}, MT::Int64, competing_reactions::Bool, talys::Bool)\n",
            "    @ Main c:\\Users\\engin\\Documents\\GitHub\\Energy\\Optimized_Radionuclide_Production.ipynb:49\n",
            "  [8] #60\n",
            "    @ .\\none:0 [inlined]\n",
            "  [9] iterate\n",
            "    @ .\\generator.jl:47 [inlined]\n",
            " [10] collect(itr::Base.Generator{Vector{Int64}, var\"#60#62\"{String, Bool, Bool, Tuple{Int64, Int64}}})\n",
            "    @ Base .\\array.jl:724\n",
            " [11] min_isotope_production_energy(projectile::String, product::String, competing_reactions::Bool, talys::Bool)\n",
            "    @ Main c:\\Users\\engin\\Documents\\GitHub\\Energy\\Optimized_Radionuclide_Production.ipynb:70\n",
            " [12] top-level scope\n",
            "    @ c:\\Users\\engin\\Documents\\GitHub\\Energy\\Optimized_Radionuclide_Production.ipynb:1"
          ]
        }
      ],
      "source": [
        "min_isotope_production_energy(\"neutron\", \"63Ni\", true, true)"
      ]
    },
    {
      "cell_type": "markdown",
      "metadata": {},
      "source": [
        "Now I will write code that makes a list of all of the directories for each projectile. "
      ]
    },
    {
      "cell_type": "code",
      "execution_count": 25,
      "metadata": {},
      "outputs": [
        {
          "data": {
            "text/plain": [
              "\u001b[32m\u001b[1mTest Passed\u001b[22m\u001b[39m\n",
              "  Expression: !(\"readme.htm\" in get_subdirs(endf_1_path)) && \"readme.htm\" in readdir(endf_1_path)"
            ]
          },
          "metadata": {},
          "output_type": "display_data"
        }
      ],
      "source": [
        "get_subdirs(path) = [content for content in readdir(path)\n",
        "                    if isdir(path * content * \"\\\\\")]\n",
        "endf_1_path = \"C:\\\\Cross-Section-Data\\\\ENDF_Libraries\\\\\"\n",
        "Test.@test (!(\"readme.htm\" in get_subdirs(endf_1_path)) \n",
        "            && \"readme.htm\" in readdir(endf_1_path))"
      ]
    },
    {
      "cell_type": "code",
      "execution_count": 26,
      "metadata": {},
      "outputs": [
        {
          "data": {
            "text/plain": [
              "27-element Vector{String}:\n",
              " \"BROND-2-2\"\n",
              " \"BROND-3.1\"\n",
              " \"CENDL-2\"\n",
              " \"CENDL-3.1\"\n",
              " \"EAF-2010\"\n",
              " \"ENDF-B-VI.8\"\n",
              " \"ENDF-B-VII.1\"\n",
              " \"ENDF-HE-VI\"\n",
              " \"FENDL-2.1\"\n",
              " \"FENDL-3.0\"\n",
              " ⋮\n",
              " \"JEFF-3.2\"\n",
              " \"JENDL-3.2\"\n",
              " \"JENDL-3.3\"\n",
              " \"JENDL-4.0\"\n",
              " \"JENDL-4.0-HE\"\n",
              " \"JENDL-4.0u2\"\n",
              " \"JENDL-HE-2007\"\n",
              " \"MINKS-ACT\"\n",
              " \"ROSFOND-2010\""
            ]
          },
          "metadata": {},
          "output_type": "display_data"
        }
      ],
      "source": [
        "endf_1_path = \"C:\\\\Cross-Section-Data\\\\ENDF_Libraries\\\\\"\n",
        "endf_1_subdirs = get_subdirs(endf_1_path)\n",
        "neutron_dirs_1 = [subdir for subdir in endf_1_subdirs if \n",
        "                \"n\" in get_subdirs(endf_1_path * subdir * \"\\\\\")]"
      ]
    },
    {
      "cell_type": "code",
      "execution_count": 27,
      "metadata": {},
      "outputs": [
        {
          "data": {
            "text/plain": [
              "9-element Vector{String}:\n",
              " \"CENDL-3.2\"\n",
              " \"ENDF-B-VII.0\"\n",
              " \"ENDF-B-VIII.0\"\n",
              " \"FENDL-3.1c\"\n",
              " \"FENDL-3.2\"\n",
              " \"IRDFF-II\"\n",
              " \"IRDFF-II-aux\"\n",
              " \"JEFF-3.3\"\n",
              " \"JEFF-3.3-DPA\""
            ]
          },
          "metadata": {},
          "output_type": "display_data"
        }
      ],
      "source": [
        "endf_2_path = \"C:\\\\Cross-Section-Data\\\\ENDF_Libraries-2\\\\\"\n",
        "endf_2_subdirs = get_subdirs(endf_2_path)\n",
        "neutron_dirs_2 = [subdir for subdir in endf_2_subdirs if \n",
        "                \"n\" in get_subdirs(endf_2_path * subdir * \"\\\\\")]"
      ]
    },
    {
      "cell_type": "code",
      "execution_count": 28,
      "metadata": {},
      "outputs": [
        {
          "data": {
            "text/plain": [
              "Set{String} with 9 elements:\n",
              "  \"Mendl2\"\n",
              "  \"EPICS2014\"\n",
              "  \"INDL-TSL\"\n",
              "  \"ENDF6-Manual\"\n",
              "  \"PADF-2007\"\n",
              "  \"Rrdf98\"\n",
              "  \"Mendl2P\"\n",
              "  \"IAEA-Medical\"\n",
              "  \"IAEA-STD\""
            ]
          },
          "metadata": {},
          "output_type": "display_data"
        }
      ],
      "source": [
        "setdiff(Set(endf_1_subdirs), Set(neutron_dirs_1))"
      ]
    },
    {
      "cell_type": "code",
      "execution_count": 29,
      "metadata": {},
      "outputs": [
        {
          "data": {
            "text/plain": [
              "Set{String} with 4 elements:\n",
              "  \"IAEA-PD-2019\"\n",
              "  \"IRDF-82\"\n",
              "  \"ENDF6-Manual\"\n",
              "  \"IAEA-PD-1999\""
            ]
          },
          "metadata": {},
          "output_type": "display_data"
        }
      ],
      "source": [
        "setdiff(Set(endf_2_subdirs), Set(neutron_dirs_2))"
      ]
    },
    {
      "cell_type": "markdown",
      "metadata": {},
      "source": [
        "Now I will check the documentation at the top of each data file to make sure the MTs that have been automatically matched to reactions are accurate. "
      ]
    },
    {
      "cell_type": "code",
      "execution_count": 30,
      "metadata": {},
      "outputs": [
        {
          "data": {
            "text/plain": [
              "\"C:\\\\Cross-Section-Data\\\\ENDF-B-VIII.0\\\\neutrons\\\\n-082_Pb_206.endf\""
            ]
          },
          "metadata": {},
          "output_type": "display_data"
        }
      ],
      "source": [
        "best_neutron_dir = \"C:\\\\Cross-Section-Data\\\\ENDF-B-VIII.0\\\\neutrons\\\\\"\n",
        "neutron_files = readdir(best_neutron_dir)\n",
        "neutron_files = [file for file in neutron_files \n",
        "                if file[length(file)-4:end] == \".endf\"]\n",
        "get_file_path(\"neutron\", (82,206),\n",
        "            \"ENDF-B-VIII.0\\\\neutrons\", data_dir, \".endf\")"
      ]
    },
    {
      "cell_type": "code",
      "execution_count": 31,
      "metadata": {},
      "outputs": [
        {
          "ename": "MethodError",
          "evalue": "MethodError: no method matching get_unique_MTs(::String)\nClosest candidates are:\n  get_unique_MTs(::Any, !Matched::Any) at c:\\Users\\engin\\Documents\\GitHub\\Energy\\Optimized_Radionuclide_Production.ipynb:107",
          "output_type": "error",
          "traceback": [
            "MethodError: no method matching get_unique_MTs(::String)\n",
            "Closest candidates are:\n",
            "  get_unique_MTs(::Any, !Matched::Any) at c:\\Users\\engin\\Documents\\GitHub\\Energy\\Optimized_Radionuclide_Production.ipynb:107\n",
            "\n",
            "Stacktrace:\n",
            " [1] top-level scope\n",
            "   @ c:\\Users\\engin\\Documents\\GitHub\\Energy\\Optimized_Radionuclide_Production.ipynb:1"
          ]
        }
      ],
      "source": [
        "get_unique_MTs(\"C:\\\\Cross-Section-Data\\\\ENDF-B-VIII.0\\\\neutrons\\\\n-082_Pb_206.endf\")"
      ]
    },
    {
      "cell_type": "markdown",
      "metadata": {},
      "source": [
        "The function max_reaction_probability finds that maximum probability\n",
        "of a reaction occuring, using the formula derived earlier, which assumes that there are competing reactions for large target thicknesses. \n",
        "\n",
        "To give a lower bound on the reaction probability, the difference between the largest cross section (ideally MT = 1) and the reaction cross section for a different energy will be assumed to be the competing cross sections. "
      ]
    },
    {
      "cell_type": "code",
      "execution_count": 32,
      "metadata": {},
      "outputs": [
        {
          "data": {
            "text/plain": [
              "smallest_positive_MT (generic function with 1 method)"
            ]
          },
          "metadata": {},
          "output_type": "display_data"
        }
      ],
      "source": [
        "function has_cross_section(dir, file_extension, mt)\n",
        "    files = [file for file in readdir(dir * \"\\\\\")\n",
        "    if file[length(file)-length(file_extension)+1:end] == file_extension]\n",
        "    return [mt in get_unique_MTs(dir * \"\\\\\" * file) \n",
        "    for file in files], length(files)\n",
        "end \n",
        "\n",
        "function try_positive_minimum(input_arr)\n",
        "    ```\n",
        "    Return the minimum of the array if it is valid, return 0 otherwise. \n",
        "    ```\n",
        "    try \n",
        "        return minimum(filter!(x-> x > 0, input_arr))\n",
        "    catch\n",
        "        return 0\n",
        "    end\n",
        "end \n",
        "\n",
        "function smallest_positive_MT(dir, file_extension)\n",
        "    files = [file for file in readdir(dir * \"\\\\\")\n",
        "    if file[length(file)-length(file_extension)+1:end] == file_extension]\n",
        "    return [try_positive_minimum(get_unique_MTs(dir * \"\\\\\" * file))\n",
        "            for file in files], length(files)\n",
        "end \n"
      ]
    },
    {
      "cell_type": "markdown",
      "metadata": {},
      "source": [
        "Need to read the paper these measurements are from to see what negative cross section means. "
      ]
    },
    {
      "cell_type": "code",
      "execution_count": 33,
      "metadata": {},
      "outputs": [
        {
          "name": "stdout",
          "output_type": "stream",
          "text": [
            "deuteron No data\n",
            "proton No data\n",
            "alpha No data\n",
            "gamma No data\n",
            "neutron No data\n"
          ]
        }
      ],
      "source": [
        "for projectile in [\"deuteron\", \"proton\", \"alpha\", \"gamma\", \"neutron\"]\n",
        "    try \n",
        "        println(projectile, \" \",\n",
        "            min_isotope_production_energy(projectile, \"207Bi\", false))\n",
        "    catch\n",
        "        println(projectile, \" \", \"No data\")\n",
        "        continue\n",
        "    end\n",
        "end\n",
        "#energy, target_list, reaction "
      ]
    },
    {
      "cell_type": "markdown",
      "metadata": {},
      "source": [
        "Note that this does NOT account for stopping power or competing reactions. This cell should take less than 30 minutes to run."
      ]
    },
    {
      "cell_type": "code",
      "execution_count": 34,
      "metadata": {},
      "outputs": [
        {
          "ename": "MethodError",
          "evalue": "MethodError: no method matching min_isotope_production_energy(::String, ::String7)\nClosest candidates are:\n  min_isotope_production_energy(::Any, ::Any, !Matched::Any, !Matched::Any) at c:\\Users\\engin\\Documents\\GitHub\\Energy\\Optimized_Radionuclide_Production.ipynb:55",
          "output_type": "error",
          "traceback": [
            "MethodError: no method matching min_isotope_production_energy(::String, ::String7)\n",
            "Closest candidates are:\n",
            "  min_isotope_production_energy(::Any, ::Any, !Matched::Any, !Matched::Any) at c:\\Users\\engin\\Documents\\GitHub\\Energy\\Optimized_Radionuclide_Production.ipynb:55\n",
            "\n",
            "Stacktrace:\n",
            " [1] top-level scope\n",
            "   @ c:\\Users\\engin\\Documents\\GitHub\\Energy\\Optimized_Radionuclide_Production.ipynb:6"
          ]
        }
      ],
      "source": [
        "select_products = products\n",
        "select_projectiles = [\"deuteron\", \"proton\", \"alpha\", \"gamma\", \"neutron\"]\n",
        "product_energy_dict = Dict([])\n",
        "for projectile in select_projectiles\n",
        "    for product in select_products\n",
        "        min_energy, target_list, reaction  = min_isotope_production_energy(projectile, product)\n",
        "        if (min_energy != nothing)\n",
        "            if (min_energy > 0)\n",
        "                product_energy_dict[product] = Dict([])\n",
        "                product_energy_dict[product][\"energy\"] = min_energy\n",
        "                product_energy_dict[product][\"target list\"] = target_list\n",
        "                product_energy_dict[product][\"reaction\"] = reaction\n",
        "                product_energy_dict[product][\"projectile\"] = projectile\n",
        "            end\n",
        "        end\n",
        "    end\n",
        "end\n",
        "product_energy_dict"
      ]
    },
    {
      "cell_type": "code",
      "execution_count": 35,
      "metadata": {},
      "outputs": [
        {
          "data": {
            "text/plain": [
              "Nothing[]"
            ]
          },
          "metadata": {},
          "output_type": "display_data"
        }
      ],
      "source": [
        "proton_products = [(product, product_energy_dict[product]) \n",
        "for product in keys(product_energy_dict) \n",
        "if product_energy_dict[product][\"projectile\"] == \"proton\"]\n",
        "println.(proton_products)"
      ]
    },
    {
      "cell_type": "markdown",
      "metadata": {},
      "source": [
        "#@u_str(\"J/g\") \n",
        "u\"J/g\".(power_densities_list .* (1u\"W/g\") .* (100u\"yr\"))"
      ]
    },
    {
      "cell_type": "markdown",
      "metadata": {},
      "source": [
        "power_densities * \n",
        "#reassign index of power densities to parent isotope\n",
        "matches = [(product, \n",
        "power_densities_list[findfirst(x->x==product, proton_products)]) \n",
        "for product in proton_products]\n",
        "println.(matches)"
      ]
    },
    {
      "cell_type": "markdown",
      "metadata": {},
      "source": [
        "TODO: Figure out how the above output happens? Is it the way it's reading in the data? In the function read_float ?"
      ]
    },
    {
      "cell_type": "markdown",
      "metadata": {},
      "source": [
        "Now make a dataframe of minimum energy to produce each isotope in one step. "
      ]
    },
    {
      "cell_type": "markdown",
      "metadata": {},
      "source": [
        "Now I will find the minimum energy of gamma rays and neutrons needed to produce different isotopes. "
      ]
    },
    {
      "cell_type": "markdown",
      "metadata": {},
      "source": [
        "file_names = readdir(neutron_dir)\n",
        "file = file_names[1]\n",
        "function get_product(file)\n",
        "    target_n = parse(Int64, file[3:5])\n",
        "    element, target_z = split(file[7:end-4], \"-\")\n",
        "    projectile = file[1]\n",
        "    if(string(projectile) == \"n\") #neutron addition\n",
        "        product_n = target_n\n",
        "        product_z = parse(Int64, target_z)+1\n",
        "        product_file = (String(\"n_\") * lpad(product_n, 3, \"0\") * String(\"-\") * \n",
        "                        String(element) * String(\"-\") * lpad(product_z, 3, \"0\") * String(\".dat\"))\n",
        "    end\n",
        "    return product_file\n",
        "end\n",
        "file = file_names[100]\n",
        "while true\n",
        "    file = get_product(file)\n",
        "    if !(file in file_names)\n",
        "        print(file, \" not in directory\")\n",
        "        break \n",
        "    end\n",
        "end"
      ]
    },
    {
      "cell_type": "code",
      "execution_count": 36,
      "metadata": {},
      "outputs": [
        {
          "name": "stdout",
          "output_type": "stream",
          "text": [
            "For output = (Z*n*ρ*σ) / E       (unitless)"
          ]
        },
        {
          "data": {
            "text/plain": [
              "\u001b[32m\u001b[1mTest Passed\u001b[22m\u001b[39m\n",
              "  Expression: reaction_figure_of_merit(ρ * u\"J/g\", Z * u\"g\", n * u\"cm\" ^ -2, σ * u\"cm\" ^ 2, E * u\"J\") - output == 0\n",
              "   Evaluated: 0 == 0"
            ]
          },
          "metadata": {},
          "output_type": "display_data"
        }
      ],
      "source": [
        "function reaction_figure_of_merit(energy_density, mass_number, target_nuclei_per_area, sigma, \n",
        "incident_particle_energy)\n",
        "    #For the product, we take the mass number to be equal to the molar mass\n",
        "    figure_of_merit = (energy_density * mass_number * \n",
        "        target_nuclei_per_area * sigma) / incident_particle_energy\n",
        "    return uconvert(Unitful.NoUnits, figure_of_merit) \n",
        "end\n",
        "\n",
        "ρ, Z, n, σ, E = @variables ρ, Z, n, σ, E\n",
        "output = ρ * Z * n * σ / E\n",
        "print(\"For output = \", output, \"       (unitless)\")\n",
        "Test.@test reaction_figure_of_merit(ρ * @u_str(\"J/g\"), Z * @u_str(\"g\"), \n",
        "    n * (@u_str(\"cm\")^-2), σ * @u_str(\"cm\")^2, E * @u_str(\"J\")) - output == 0"
      ]
    }
  ],
  "metadata": {
    "colab": {
      "name": "Optimized Radionuclide Production.ipynb",
      "provenance": []
    },
    "kernelspec": {
      "display_name": "Julia 1.7.2",
      "language": "julia",
      "name": "julia-1.7"
    },
    "language_info": {
      "file_extension": ".jl",
      "mimetype": "application/julia",
      "name": "julia",
      "version": "1.7.2"
    },
    "vscode": {
      "interpreter": {
        "hash": "93e603b405028e2ab398d7a85d86124a7ac0b053113ed31068605d4be5533369"
      }
    }
  },
  "nbformat": 4,
  "nbformat_minor": 0
}
