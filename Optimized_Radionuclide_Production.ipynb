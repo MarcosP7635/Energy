{
  "cells": [
    {
      "cell_type": "markdown",
      "metadata": {},
      "source": [
        "The goal of this notebook is to write code that given a specific nucleus to produce, an efficiency will be calculated based on the required input energy, target cross sections, and power density of the product to find the optimal use of radionuclide production as a method of energy storage. \n",
        "\n",
        "This can also be used to generate a theoretical maximum of storage efficiency for each product. \n",
        "\n",
        "To start, we'll need cross sections. \n",
        "\n",
        "Will attempt to download the entirety of (or write a very fast query for) \n",
        "https://doi.org/10.1016/j.nds.2018.02.001\n",
        "\n",
        "Pivoting to use Jeff32 since it has a singular directory with many neutron cross sections for different targets. https://www.oecd-nea.org/dbforms/data/eva/evatapes/jeff_32/\n",
        "\n",
        "JENDL appears to have both neutron and proton cross section data for transmutation, so this seems very promising. It uses the ENDF6 format https://www-nds.iaea.org/public/endf/ \n",
        "\n",
        "Finally found the database explorer for ENDF, will be using this as well. \n",
        "https://www-nds.iaea.org/exfor/e4explorer.htm "
      ]
    },
    {
      "cell_type": "markdown",
      "metadata": {},
      "source": [
        "#Derivations for nuclide production\n",
        "Consider a target $T$ with a cross section $\\sigma$ at an energy level of $E_{particle}$. We have for the production rate (from \"Industrial Accelerators and their Applications\")\n",
        "\\begin{equation}\n",
        "\\frac{dR}{dx} = In\\sigma\n",
        "\\end{equation}\n",
        "Integrating, we have for the number of nuclei produced\n",
        "\\begin{equation}\n",
        "N = \\int\\int\\frac{dR}{dx}dxdt = \\int\\int In\\sigma dxdt\n",
        "\\end{equation}\n",
        "Where $R$ is the production rate in atoms per second, $x$ is the depth of the material, $n$ is the nuclei/volume, and $\\sigma$ is the cross section in area/nucleus, and $I$ is the flow rate in moles/second of the beam. It's also important to note that the beam energy is also a function of $x$. Thus we have for the energy input \n",
        "\\begin{equation}\n",
        "E_{in} = \\int IE_{incident \\ particle} dt\n",
        "\\end{equation}\n",
        "For a given decay chain whose parent nucleus has $N$ particles we have for a pure amount of this substance a specific energy (energy density) $\\rho_{E}$ of \n",
        "\\begin{equation}\n",
        "E_{out} = Z_{product}N\\rho_{E}\n",
        "\\end{equation}\n",
        "where $Z$ is the mass number of the product and $N_A$ is Avogadro's constant. \n",
        "Thus we have for the energy efficiency of this process, \n",
        "\\begin{equation}\n",
        "\\frac{E_{out}}{E_{in}} = \\frac{Z_{product}N\\rho_{E}}{\\int IE_{incident \\ particle} dt} =  \n",
        "\\frac{Z_{product}\\rho_{E}\\int\\int In\\sigma dxdt}{\\int IE_{incident \\ particle} dt}\n",
        "\\end{equation}"
      ]
    },
    {
      "cell_type": "markdown",
      "metadata": {},
      "source": [
        "##Thin target case with constant beam current and energy\n",
        "\\begin{equation}\n",
        "\\frac{E_{out}}{E_{in}} = \\frac{Z_{product}\\rho_{E} In\\sigma xt}{IE_{incident \\ particle}t} = \\frac{Z\\rho_{E} n\\sigma x}{E_{incident \\ particle}}\n",
        "\\end{equation}\n",
        "Rearranging to find the energy efficiency per thickness of material \n",
        "\\begin{equation}\n",
        "\\frac{E_{out}}{xE_{in}} = \\frac{Z_{product}\\rho_{E} n\\sigma }{E_{incident \\ particle}}\n",
        "\\end{equation}\n",
        "Thus, our figure of merit for a reaction will be energy efficiency per thickness of material. \n",
        "We'll be dealing with a lot of data and computations so I'll use Julia instead of Python. "
      ]
    },
    {
      "cell_type": "code",
      "execution_count": 2,
      "metadata": {},
      "outputs": [
        {
          "data": {
            "text/plain": [
              "\"C:\\\\Cross-Section-Data\\\\\""
            ]
          },
          "metadata": {},
          "output_type": "display_data"
        }
      ],
      "source": [
        "using Unitful #https://painterqubits.github.io/Unitful.jl/stable/\n",
        "#quantity * @u_str(\"unit abbreviation\") \n",
        "using Symbolics #https://symbolics.juliasymbolics.org/dev/\n",
        "#cite https://doi.org/10.48550/arXiv.2105.03949\n",
        "using Latexify\n",
        "using Test\n",
        "#1 * @u_str(\"mA\") is 1 milliamp\n",
        "using CSV, DataFrames\n",
        "#using Plots\n",
        "using PlotlyJS\n",
        "using Printf\n",
        "using SymPy\n",
        "using PDFIO\n",
        "#plotlyjs()\n",
        "data_dir = (\"C:\\\\Cross-Section-Data\\\\\")"
      ]
    },
    {
      "cell_type": "markdown",
      "metadata": {},
      "source": [
        "From Section 2.5.1 of \"The Physics of Nucear Reactors\" we have for the probability of reaction for a path length $x$ with target with nuclear cross section $\\sigma$, molar mass in kg $M$, and mass density in kg/m $^3$ $\\rho$, and $A$ is Avogadro's number"
      ]
    },
    {
      "cell_type": "code",
      "execution_count": 43,
      "metadata": {},
      "outputs": [
        {
          "data": {
            "text/latex": [
              "$1 - e^{- \\frac{A x ρ σ}{M}}$"
            ],
            "text/plain": [
              "     -A*x*ρ*σ \n",
              "     ---------\n",
              "         M    \n",
              "1 - e         "
            ]
          },
          "metadata": {},
          "output_type": "display_data"
        }
      ],
      "source": [
        "#https://docs.juliahub.com/SymPy/ \n",
        "P, N, x, Σ, σ, ρ, M, A = symbols(\"P, N, x, Σ, σ, ρ, M, A\", positive = true)\n",
        "N = ρ * A/ M\n",
        "Σ = N * σ  \n",
        "P = integrate(Σ*exp(-Σ*x), (x, 0, x))"
      ]
    },
    {
      "cell_type": "markdown",
      "metadata": {},
      "source": [
        "Here we define a dictionary that matches each value of MT in an ENDF6-formatted data to a particular reaction. \n",
        "\n",
        "We then will also loop through all of the subdirectories in a directory, then unzip all of the compressed files to that directory that don't already have an unzipped counterpart in that directory.\n",
        "\n",
        "In this notation $(z, 2nd)$ refers to a reaction where some matter strikes a target and produces 2 neutrons, a deuteron, and a residual.\n",
        "\n",
        "Furthermore, \"(z, n ^3He)\" refers the production of a neutron, a Helium-nucleus, and a residual. \n",
        "\n",
        "Subscripts refer to the energy state.\n",
        "\n",
        "(z, $\\gamma$) refers to radiative capture\n",
        "The below code assumes that the complete reaction is in the same line as the MT number. "
      ]
    },
    {
      "cell_type": "markdown",
      "metadata": {},
      "source": [
        "Here we convert the PDF to a text file in order to distinguish superscripts, subscripts, and coefficients. "
      ]
    },
    {
      "cell_type": "code",
      "execution_count": 3,
      "metadata": {},
      "outputs": [
        {
          "data": {
            "text/plain": [
              "Dict{String, Union{CDDate, String, CosObject}} with 5 entries:\n",
              "  \"Producer\"     => \"Microsoft: Print To PDF\"\n",
              "  \"Author\"       => \"engin\"\n",
              "  \"CreationDate\" => D:20220620105654-07'00\n",
              "  \"ModDate\"      => D:20220620105654-07'00\n",
              "  \"Title\"        => \"endf-manual(5).pdf\""
            ]
          },
          "metadata": {},
          "output_type": "display_data"
        }
      ],
      "source": [
        "\"\"\"\n",
        "​```\n",
        "    getPDFText(src, out) -> Dict \n",
        "​```\n",
        "- src - Input PDF file path from where text is to be extracted\n",
        "- out - Output TXT file path where the output will be written\n",
        "return - A dictionary containing metadata of the document\n",
        "\"\"\"\n",
        "function getPDFText(src, out)\n",
        "    # handle that can be used for subsequence operations on the document.\n",
        "    doc = pdDocOpen(src)\n",
        "    \n",
        "    # Metadata extracted from the PDF document. \n",
        "    # This value is retained and returned as the return from the function. \n",
        "    docinfo = pdDocGetInfo(doc) \n",
        "    open(out, \"w\") do io\n",
        "    \n",
        "        # Returns number of pages in the document       \n",
        "        npage = pdDocGetPageCount(doc)\n",
        "\n",
        "        for i=339:351\n",
        "        \n",
        "            # handle to the specific page given the number index. \n",
        "            page = pdDocGetPage(doc, i)\n",
        "            \n",
        "            # Extract text from the page and write it to the output file.\n",
        "            pdPageExtractText(io, page)\n",
        "\n",
        "        end\n",
        "    end\n",
        "    # Close the document handle. \n",
        "    # The doc handle should not be used after this call\n",
        "    pdDocClose(doc)\n",
        "    return docinfo\n",
        "end\n",
        "pdf_path = \"C:\\\\Users\\\\engin\\\\Downloads\\\\endf-manual(5).pdf\"\n",
        "output_path = \"C:\\\\Users\\\\engin\\\\Documents\\\\GitHub\\\\Energy\\\\ImportedData\\\\convertedMTpdf.txt\"\n",
        "getPDFText(pdf_path, output_path)"
      ]
    },
    {
      "cell_type": "markdown",
      "metadata": {},
      "source": [
        "The function matches_pattern returns whether or not a given section of the txt file defines an MT value and the number of digits in the MT value."
      ]
    },
    {
      "cell_type": "code",
      "execution_count": 13,
      "metadata": {},
      "outputs": [
        {
          "name": "stdout",
          "output_type": "stream",
          "text": [
            "01(n,total)\n",
            "2(z,z0)\n",
            "3(z,nonelas.)\n",
            "4(z,n)\n",
            "5(z,anything)\n",
            "10(z,contin.)\n",
            "11(z,2nd)\n",
            "16(z,2n)\n",
            "17(z,3n)\n",
            "18(z,fission)\n",
            "19(n,f)\n",
            "20(n,nf)\n",
            "21(n,2nf)\n",
            "22(z,nα)\n",
            "23(n,n3α)\n",
            "24(z,2nα)\n",
            "25(z,3nα)\n",
            "27(n,abs)\n",
            "28(z,np)\n",
            "29(z,n2α)\n",
            "30(z,2n2α)\n",
            "32(z,nd)\n",
            "33(z,nt)\n",
            "34(z,n3He)\n",
            "35(z,nd2α)\n",
            "36(z,nt2α)\n",
            "37(z,4n)\n",
            "38(n,3nf)\n",
            "41(z,2np)\n",
            "42(z,3np)\n",
            "44(z,n2p)\n",
            "45(z,npα)\n",
            "50(y,n0)\n",
            "51(z,n1)\n",
            "52(z,n2)\n",
            "90(z,n40)\n",
            "91(z,nc)\n",
            "101(n,disap)\n",
            "102(z,γ)\n",
            "103(z,p)\n",
            "104(z,d)\n",
            "105(z,t)\n",
            "106(z,3He)\n",
            "107(z,α)\n",
            "108(z,2α)\n",
            "109(z,3α)\n",
            "111(z,2p)\n",
            "112(z,pα)\n",
            "113(z,t2α)\n",
            "114(z,d2α)\n",
            "115(z,pd)\n",
            "116(z,pt)\n",
            "117(z,dα)\n",
            "151(n,RES)\n",
            "152(z,5n)\n",
            "202(z,Xγ)\n",
            "203(z,Xp)\n",
            "204(z,Xd)\n",
            "205(z,Xt)\n",
            "206(z,X3He)\n",
            "207(z,Xα)\n",
            "208(z,Xπ+)\n",
            "209(z,Xπ0)\n",
            "210(z,Xπ−)\n",
            "211(z,Xμ+)\n",
            "212(z,Xμ−)\n",
            "213(z,Xκ+)\n",
            "214(z,Xκ0 long )\n",
            "215(z,Xκ0 short)\n",
            "216(z,Xκ−)\n",
            "217(z,Xp−)\n",
            "218(z,Xn−)\n",
            "251(n,...)\n",
            "252(n,...)\n",
            "253(n,...)\n",
            "450(z,...)\n",
            "451(z,...)\n",
            "452(z,...)\n",
            "454(z,...)\n",
            "455(z,...)\n",
            "456(z,...)\n",
            "457(z,...)\n",
            "458(n,...)\n",
            "459(z,...)\n",
            "460(z,...)\n",
            "600(z,p0)\n",
            "601(z,p1)\n",
            "602(z,p2)\n",
            "603(z,p3)\n",
            "604(z,p4)\n",
            "649(z,pc)\n",
            "650(z,d0)\n",
            "651(z,d1)\n",
            "652(z,d2)\n",
            "699(z,dc)\n",
            "700(z,t0)\n",
            "701(z,t1)\n",
            "702(z,t2)\n",
            "749(z,tc)\n",
            "750(n,3He0)\n",
            "751(n,3He1)\n",
            "799(n,3Hec)\n",
            "800(z,α0)\n",
            "801(z,α1)\n",
            "849(z,αc)\n",
            "875(z,2n0)\n",
            "876(z,2n1)\n",
            "891(z,2nc)\n"
          ]
        },
        {
          "data": {
            "text/plain": [
              "\"C:\\\\Users\\\\engin\\\\Documents\\\\GitHub\\\\Energy\\\\mt_details.csv\""
            ]
          },
          "metadata": {},
          "output_type": "display_data"
        }
      ],
      "source": [
        "# import text file as string with Julia\n",
        "mt_path = \"C:\\\\Users\\\\engin\\\\Documents\\\\GitHub\\\\Energy\\\\ImportedData\\\\mt.txt\"\n",
        "function matches_pattern(long_string, index = 1)\n",
        "    if isdigit(long_string[index]) && occursin(\",\", long_string)\n",
        "        if  isdigit(long_string[index+1])\n",
        "            if isdigit(long_string[index+2])\n",
        "                #3 digit number\n",
        "                return (long_string[index+3:index+4] == \" (\", 3)  \n",
        "            elseif long_string[index+2] == ' ' \n",
        "                #two digit number \n",
        "                return (long_string[index+3] == '(', 2)\n",
        "            end\n",
        "        elseif long_string[index+1] == ' ' \n",
        "            #one digit number \n",
        "            return (long_string[index+2] == '(', 1)\n",
        "        end\n",
        "    end\n",
        "    return (false, 0)\n",
        "end\n",
        "function define_MTs(mt_path)\n",
        "    open(mt_path) do file\n",
        "        mt_reactions, mt_details = Dict([]), Dict([])\n",
        "        long_string = read(mt_path, String)\n",
        "        index = 0\n",
        "        print(index)\n",
        "        while true\n",
        "            index += 1\n",
        "            if (index > length(long_string) - 12)\n",
        "                return mt_reactions, mt_details\n",
        "            end\n",
        "            is_MT, MT_length = matches_pattern(long_string[index:index+6])\n",
        "            if is_MT\n",
        "                try\n",
        "                    MT = parse(Int64, long_string[index:index+MT_length])\n",
        "                    reaction_end = collect(findfirst(\")\", long_string[index:end]))[1] + index\n",
        "                    reaction = strip(long_string[index+MT_length+1: reaction_end])\n",
        "                    if !(reaction == \"(Unassigned)\")\n",
        "                        println(MT, reaction)\n",
        "                        mt_reactions[MT] = reaction\n",
        "                        #now to get the details\n",
        "                        details_end = collect(findfirst(\".\\r\", long_string[reaction_end+1:end]))[1] \n",
        "                        details_end += reaction_end + 1\n",
        "                        details = strip(long_string[reaction_end+1: details_end])\n",
        "                    details = replace(details, \"\\r\" => \" \" )\n",
        "                        details = replace(details, \"\\n\" => \"\" )\n",
        "                        mt_details[MT] = details\n",
        "                        index = details_end\n",
        "                    else\n",
        "                        index = reaction_end                     \n",
        "                    end\n",
        "                catch\n",
        "                    println(index)\n",
        "                end\n",
        "            end\n",
        "        end \n",
        "    end\n",
        "end\n",
        "mt_reactions, mt_details = define_MTs(mt_path)\n",
        "CSV.write(\"C:\\\\Users\\\\engin\\\\Documents\\\\GitHub\\\\Energy\\\\mt_reactions.csv\", mt_reactions)\n",
        "CSV.write(\"C:\\\\Users\\\\engin\\\\Documents\\\\GitHub\\\\Energy\\\\mt_details.csv\", mt_details)"
      ]
    },
    {
      "cell_type": "markdown",
      "metadata": {},
      "source": [
        "Now to filter the reactions for those that are sufficiently explicit."
      ]
    },
    {
      "cell_type": "code",
      "execution_count": 25,
      "metadata": {},
      "outputs": [
        {
          "data": {
            "text/plain": [
              "108-element Vector{SubString{String}}:\n",
              " \"(z,anything)\"\n",
              " \"(z,2n0)\"\n",
              " \"(z,nd2α)\"\n",
              " \"(z,d2α)\"\n",
              " \"(z,2n2α)\"\n",
              " \"(z,t0)\"\n",
              " \"(z,dc)\"\n",
              " \"(z,nd)\"\n",
              " \"(z,d0)\"\n",
              " \"(z,dα)\"\n",
              " ⋮\n",
              " \"(z,Xκ0 long )\"\n",
              " \"(z,nonelas.)\"\n",
              " \"(z,...)\"\n",
              " \"(z,α0)\"\n",
              " \"(z,n1)\"\n",
              " \"(z,nt)\"\n",
              " \"(z,p2)\"\n",
              " \"(z,t1)\"\n",
              " \"(z,t2α)\""
            ]
          },
          "metadata": {},
          "output_type": "display_data"
        }
      ],
      "source": [
        "MTs = [key for key in keys(mt_reactions)]\n",
        "reactions = [value for value in values(mt_reactions)]\n",
        "function interpret_reaction(reaction)\n",
        "    try \n",
        "        comma_index = findfirst(\",\", reaction)\n",
        "        additions = reactions[comma_index+1:end-1]\n",
        "        #the valid option are n, t, d, p, α, γ, He\n",
        "        # a number followed by a letter is a coefficient\n",
        "        # a letter followed by a number is an energy level.\n",
        "        # a letter followed by c means continuum emission of that particle\n",
        "        if(occursin(\"He\", additions))\n",
        "            he_index = findfirst(\"He\", additions)\n",
        "        \n",
        "    catch    \n",
        "        return \"Not valid\"\n",
        "    end\n",
        "end\n",
        "details = [value for value in values(mt_details)]\n"
      ]
    },
    {
      "cell_type": "code",
      "execution_count": 24,
      "metadata": {},
      "outputs": [
        {
          "data": {
            "text/plain": [
              "\"z0\""
            ]
          },
          "metadata": {},
          "output_type": "display_data"
        }
      ],
      "source": [
        "#list of the element symbols from the periodic table up to 118\n",
        "element_symbols = [\"H\", \"He\", \"Li\", \"Be\", \"B\", \"C\", \"N\", \"O\", \"F\", \"Ne\", \n",
        "\"Na\", \"Mg\", \"Al\", \"Si\", \"P\", \"S\", \"Cl\", \"Ar\", \"K\", \"Ca\", \"Sc\", \"Ti\", \"V\", \n",
        "\"Cr\", \"Mn\", \"Fe\", \"Co\", \"Ni\", \"Cu\", \"Zn\", \"Ga\", \"Ge\", \"As\", \"Se\", \"Br\", \n",
        "\"Kr\", \"Rb\", \"Sr\", \"Y\", \"Zr\", \"Nb\", \"Mo\", \"Tc\", \"Ru\", \"Rh\", \"Pd\", \"Ag\", \n",
        "\"Cd\", \"In\", \"Sn\", \"Sb\", \"Te\", \"I\", \"Xe\", \"Cs\", \"Ba\", \"La\", \"Ce\", \"Pr\", \n",
        "\"Nd\", \"Pm\", \"Sm\", \"Eu\", \"Gd\", \"Tb\", \"Dy\", \"Ho\", \"Er\", \"Tm\", \"Yb\", \"Lu\", \n",
        "\"Hf\", \"Ta\", \"W\", \"Re\", \"Os\", \"Ir\", \"Pt\", \"Au\", \"Hg\", \"Tl\", \"Pb\", \"Bi\", \n",
        "\"Po\", \"At\", \"Rn\", \"Fr\", \"Ra\", \"Ac\", \"Th\", \"Pa\", \"U\", \"Np\", \"Pu\", \"Am\", \n",
        "\"Cm\", \"Bk\", \"Cf\", \"Es\", \"Fm\", \"Md\", \"No\", \"Lr\", \"Rf\", \"Db\", \"Sg\", \"Bh\", \n",
        "\"Hs\", \"Mt\", \"Ds\", \"Rg\", \"Cn\", \"Nh\", \"Fl\", \"Mc\", \"Lv\", \"Ts\", \"Og\"]"
      ]
    },
    {
      "cell_type": "markdown",
      "metadata": {},
      "source": [
        "Given some product, the function find_targets will produce a list of potential targets, their reactions, and their abundances."
      ]
    },
    {
      "cell_type": "code",
      "execution_count": null,
      "metadata": {},
      "outputs": [],
      "source": [
        "function find_targets(product, potential_reactions = reactions)\n",
        "    potential_reactions = reactions\n",
        "    return targets\n",
        "end"
      ]
    },
    {
      "cell_type": "code",
      "execution_count": 53,
      "metadata": {},
      "outputs": [],
      "source": [
        "using LaTeXStrings\n",
        "\n",
        "MT_dict = Dict([\n",
        "    (1, \"(n, total)\"), \n",
        "    (2, \"(z, elastic)\"),\n",
        "    (3, \"(z, nonelastic)\"),\n",
        "    (4, \"(z, n)\"),\n",
        "    (5, \"(z, sum of all reactions not given explicitly in another MT number)\"),\n",
        "    (10, \"(z, continuum reactions)\"),\n",
        "    (11, \"(z, 2nd)\"),\n",
        "    (16, \"(z, 2n)\"),\n",
        "    (17, \"(z, 3n)\"),\n",
        "    (18, \"(z, fission)\"),\n",
        "    (19, \"(n, first-chance neutron-induced fission)\"),\n",
        "    (20, \"(n, fecond-chance neutron-induced fission)\"),\n",
        "    (21, \"(n, third-chance neutron-induced fission)\"),\n",
        "    (22, \"(z, nα)\"),\n",
        "    (23, \"(n, n3α)\"),\n",
        "    (24, \"(z, 2nα)\"),\n",
        "    (25, \"(z, 3nα)\"),\n",
        "    (27, \"(n, absorption)\"),\n",
        "    (28, \"(z, np)\"),\n",
        "    (29, \"(z, n2α)\"),\n",
        "    (30, \"(z, 2n2α)\"),\n",
        "    (32, \"(z, nd)\"),\n",
        "    (33, \"(z, nt)\"),\n",
        "    (34, \"(z, n ^3He)\"),\n",
        "    (35, \"(z, nd2α)\"),\n",
        "    (36, \"(z, nt2α)\"),\n",
        "    (37, \"(z, 4n)\"),\n",
        "    (38, \"(n, fourth-chance neutron-induced fission)\"),\n",
        "    (41, \"(z, 2np)\"),\n",
        "    (42, \"(z, 3np)\"),\n",
        "    (44, \"(z, n2p)\"),\n",
        "    (45, \"(z, npα)\"),\n",
        "    (50, \"(γ, n_0)\"),\n",
        "    (101, \"(n, neutron disappearance)\"),\n",
        "    (102, \"(z, γ)\"),\n",
        "    (103, \"(z, p)\"),\n",
        "    (104, \"(z, d)\"),\n",
        "    (105, \"(z, t)\"),\n",
        "    (106, \"(z, ^3He)\"),\n",
        "    (107, \"(z, α)\"),\n",
        "    (108, \"(z, 2α)\"),\n",
        "    (109, \"(z, 3α)\"),\n",
        "    (111, \"(z, 2p)\"),\n",
        "    (112, \"(z, pα)\")\n",
        "])\n",
        "\n",
        "for i in 51:90\n",
        "    MT_dict[i] = \"(z, n_\" * string(i - 50) * \")\"\n",
        "end "
      ]
    },
    {
      "cell_type": "code",
      "execution_count": 6,
      "metadata": {},
      "outputs": [
        {
          "data": {
            "text/plain": [
              "\"C:\\\\Users\\\\engin\\\\Documents\\\\GitHub\\\\Energy\\\\mt_details.csv\""
            ]
          },
          "metadata": {},
          "output_type": "display_data"
        }
      ],
      "source": [
        "using CSV\n"
      ]
    },
    {
      "cell_type": "markdown",
      "metadata": {},
      "source": [
        "These two equations disagree, especially for large targets. We have computed the probability of neutron capture of a target consisting of deuterium approximated as an ideal gas at STP. \n",
        "For the formula we derive here, the target would need to be 10^12.75 m thick to have a probability > .98 of neutron capture, whereas for the commonly cited formula, a probability > .99 of neutron capture is achieved with a much smaller 10^4.57 m thickness. This disagreement spans 7 orders of magnitude. Why is that? The commonly cited equation assumes the probability, $p$ of neutron capture increases linearly with the thickness of the target. \n",
        "\\begin{equation}\n",
        "P = \\frac{Ax\\sigma\\rho}{M}\n",
        "\\end{equation}\n",
        "where $A$ is Avogadro's number, $\\sigma$ is the neutron capture cross section in $m^2$, $x$ is the thickness of the target in meters, and $M$ is the molar mass of the target. \n",
        "\n",
        "\n",
        "The formula derived here uses discrete cross sections each with thickness $r \\approx 10^{-9}$ m, and uses each of these as an independent trial in a geometric distribution, and thus the probability $p$ of a neutron capture occuring is the cumulative distribution function of said geometric distribution.  \n",
        "\\begin{equation}\n",
        "P = 1 - \\left( 1 + \\frac{ - 2 \\pi \\sigma}{3 \\left( \\frac{M}{A \\rho} \\right)^{\\frac{1}{3}}} \\right)^{l}\n",
        "\\end{equation}\n",
        "where $l$ is the thickness of the target in terms of $r$\n",
        "\n",
        "Interestingly, this leaves two different figures of merit for the yield. Using the commonly cited formula\n",
        "\\begin{equation}\n",
        "\\begin{split}\n",
        "\\frac{\\sigma\\rho}{M}\n",
        "\\end{split}\n",
        "\\end{equation}\n",
        "Whereas with our derived formula\n",
        "\\begin{equation}\n",
        "\\begin{split}\n",
        "\\sigma(\\frac{\\rho}{M})^{\\frac{1}{3}}\n",
        "\\end{split}\n",
        "\\end{equation}"
      ]
    },
    {
      "cell_type": "markdown",
      "metadata": {},
      "source": [
        "#ENDF6\n",
        "\n",
        "For each section of file 3 (reaction cross sections) the format of each column is \n",
        "\n",
        "[MAT, 3, MT/ ZA, AWR, 0, 0, 0, 0] HEAD\n",
        "\n",
        "[MAT, 3, MT/ QM, QI, 0, LR, NR, NP/ Eint/ σ(E)]TAB1\n",
        "\n",
        "[MAT, 3, 0/ 0.0, 0.0, 0, 0, 0, 0] SEND\n",
        "\n",
        "where \n",
        "\n",
        "This function creates a properly formatted matrix of 64 bit floats from the file path of an ENDF6 formatted text file.\n",
        "\n",
        "Use list comprehension to check if each line (in the form of a string) is in the valid data format, take only those rows, and convert each of them to a matrix, which is then converted into two vectors."
      ]
    },
    {
      "cell_type": "code",
      "execution_count": 2,
      "metadata": {},
      "outputs": [
        {
          "data": {
            "text/plain": [
              "find_section (generic function with 1 method)"
            ]
          },
          "metadata": {},
          "output_type": "display_data"
        }
      ],
      "source": [
        "# Reference: https://github.com/DavidWalz/pyENDF6\n",
        "\n",
        "slices = Dict(\n",
        "    \"MAT\" => 67:71,\n",
        "    \"MF\" => 72:74,\n",
        "    \"MT\" => 75:78,\n",
        "    \"line\" => 78:83,\n",
        "    \"content\" => 1:67,\n",
        "    \"data\" => [a-10:a for a in 11*collect(1:6)])\n",
        "\n",
        "\n",
        "function read_float(v)\n",
        "    #Convert ENDF6 string to float \n",
        "    a, b = [' '], \"\" \n",
        "    if (strip(v, a) == b)\n",
        "        return 0.\n",
        "    end\n",
        "    try\n",
        "        return parse(Float64, v)\n",
        "    catch\n",
        "        # ENDF6 may omit the e for exponent\n",
        "        return parse(Float64,\n",
        "            v[1] * replace(replace(v[2:end], \"+\" => \"e+\"), \"-\" => \"e-\"))  # don't replace leading negative sign\n",
        "    end\n",
        "end  \n",
        "\n",
        "function read_line(l)\n",
        "    #Read first 6*11 characters of a line as floats\"\"\"\n",
        "    return [read_float(l[s]) for s in slices[\"data\"]]\n",
        "end\n",
        " \n",
        "function read_table(lines)\n",
        "    #=\n",
        "    Parse tabulated data in a section\n",
        "    https://t2.lanl.gov/nis/endf/intro07.html\n",
        "    https://t2.lanl.gov/nis/endf/intro08.html\n",
        "    https://t2.lanl.gov/nis/endf/intro09.html\n",
        "    =#\n",
        "    # header line 1: (100*Z+A), mass in [m_neutron]\n",
        "    # [MAT, 3, MT/ ZA, AWR, 0, 0, 0, 0] HEAD\n",
        "\n",
        "    # header line 2: Q-value and some counts\n",
        "    # [MAT, 3, MT/ QM, QI, 0, LR, NR, NP/ EINT/ S(E)] TAB1\n",
        "    f = read_line(lines[2])\n",
        "    nS = Int64(f[5])  # number of interpolation sections\n",
        "    nP = Int64(f[6])  # number of data points\n",
        "    # header line 3: interpolation information\n",
        "    # [MAT, 3, 0/ 0.0, 0.0, 0, 0, 0, 0] SEND\n",
        "    # 1   y is constant in x (constant, histogram)\n",
        "    # 2   y is linear in x (linear-linear)\n",
        "    # 3   y is linear in ln(x) (linear-log)\n",
        "    # 4   ln(y) is linear in x (log-linear)\n",
        "    # 5   ln(y) is linear in ln(x) (log-log)\n",
        "    # 6   y obeys a Gamow charged-particle penetrability law\n",
        "\n",
        "    # data lines\n",
        "    energy = []\n",
        "    cross_section = []\n",
        "    for l in lines[4:end]\n",
        "        f = read_line(l)\n",
        "        append!(energy, f[1], f[3], f[5])\n",
        "        append!(cross_section, f[2], f[4], f[6])\n",
        "    end\n",
        "    return energy[1:nP], cross_section[1:nP]\n",
        "end \n",
        "\n",
        "function find_section(lines, MF, MT)\n",
        "    #\"\"\"Locate and return a certain section\"\"\"\n",
        "    v = [l[71:75] for l in lines]\n",
        "    cmpstr = \"$(@sprintf(\"%2s\", MF))$(@sprintf(\"%3s\", MT))\" # search string\n",
        "    i0 = collect(findfirst(==(cmpstr), v))[1] # first occurrence\n",
        "    i1 = collect(findlast(==(cmpstr), v))[1] # last occurrence\n",
        "    return lines[i0: i1]\n",
        "end"
      ]
    },
    {
      "cell_type": "markdown",
      "metadata": {},
      "source": [
        "The code below retrieves the non-elastic processes (reaction/absorption) cross section rather than the total cross section (since an elastic collision doesn't form the product nuclei)\n",
        "\n",
        "Page 105 from the ENDF-6 Formats Manual, \"3.4.3 Nonelastic Cross Section (MT=3)\n",
        "The nonelastic cross section is not required unless any part of the photon production mul-\n",
        "tiplicities given in File 12 uses MT=3. In this case, MT=3 is required in File 3. If MT=3\n",
        "is given, then the set of points used to specify this cross section must be a union of the sets\n",
        "used for its partials.\"\n",
        "\n",
        "It is possible to approximate the non-elastic cross section since it is the difference between the total cross section and the elastic cross section. Specifically, also from page 105 from the ENDF-6 Formats Manual, \"3.4.2 Elastic Scattering Cross Section (MT=2)\n",
        "The elastic scattering cross section is generally not known to the same accuracy as the total\n",
        "cross section. Frequently, the elastic scattering cross section is evaluated as the difference\n",
        "between the total and the nonelastic cross section. This procedure can cause problems: the\n",
        "resulting elastic scattering cross section shape may contain unreal structure. There may\n",
        "be several causes. First, the nonelastic cross section, or any part thereof, is not generally\n",
        "measured with the same energy resolution as the total cross section. When the somewhat\n",
        "poorer resolution nonelastic data are subtracted from the total, the resolution effects appear\n",
        "in the elastic cross section. Second, if the evaluated structure in the nonelastic cross section is\n",
        "incorrect or improperly correlated with the structure in the total cross section (energy-scale\n",
        "errors), an unrealistic structure is generated in the elastic scattering cross section.\n",
        "The experimental elastic cross section is obtained by integrating measured angular dis-\n",
        "tributions. These data may not cover the entire angular range or may contain contributions\n",
        "from nonelastic neutrons. Such contamination is generally due to contributions from inelas-\n",
        "tic scattering to low-lying levels that were not resolved in the experiment. Care must be\n",
        "taken in evaluating such results to obtain integrated cross sections. Similarly, experimental\n",
        "angular distribution data can also cause problems when evaluating File 4.\"\n",
        "\n",
        "What is the difference between radiative capture and nonelastic collisions? The difference is that the neutron is not necessarily absorbed, it just means that kinetic energy is lost by emitting a photon. Thus the quantity I actually want to find is MT=102, radiative capture.\n",
        "\n",
        "\"Note that, in the case of correlation between shape and magnitude of a scattering cross section, it is possible for an absorption cross section MT-value to show up in File 34 (with L=0 only)\"\n",
        "\n",
        "The manual uses the term radiative capture to refer to (z,$\\gamma$) reactions and "
      ]
    },
    {
      "cell_type": "markdown",
      "metadata": {},
      "source": [
        "Other potentially relevant sections:\n",
        "\n",
        "MT 201 refers to neutron production, "
      ]
    },
    {
      "cell_type": "code",
      "execution_count": 3,
      "metadata": {},
      "outputs": [
        {
          "data": {
            "text/plain": [
              "find_optimized_radiative_capture_parameters (generic function with 1 method)"
            ]
          },
          "metadata": {},
          "output_type": "display_data"
        }
      ],
      "source": [
        "function find_optimized_parameters(file_path, MF = 3, MT = 1)\n",
        "    open(file_path) do file\n",
        "        lines = split(read(file_path, String), \"\\n\", keepempty = false)\n",
        "        lines = lines[lines .!== nothing]\n",
        "        lines = lines[lines .!== \"\"]\n",
        "        lines = lines[lines .!== Nothing]\n",
        "        lines = String.(lines)\n",
        "        sec = find_section(lines, MF, MT)\n",
        "        energy, cross_section = read_table(sec)\n",
        "        max_index = findmax(cross_section./energy)[2]\n",
        "        optimized_cross_section, optimized_energy = cross_section[max_index], energy[max_index]\n",
        "        return optimized_energy, optimized_cross_section\n",
        "    end\n",
        "end\n",
        "\n",
        "function find_parameters(file_path, MF = 3, MT = 1)\n",
        "    open(file_path) do file\n",
        "        lines = split(read(file_path, String), \"\\n\", keepempty = false)\n",
        "        lines = lines[lines .!== nothing]\n",
        "        lines = lines[lines .!== \"\"]\n",
        "        lines = lines[lines .!== Nothing]\n",
        "        lines = String.(lines)\n",
        "        sec = find_section(lines, MF, MT)\n",
        "        return read_table(sec)\n",
        "    end\n",
        "end\n",
        "\n",
        "function find_overlapping_indices(shorter_array, longer_array, type = Float64)\n",
        "    #\"\"\"Find indices of elements in shorter_array that are also in longer_array\"\"\"\n",
        "    shorter_array = convert(Array{Float64}, shorter_array)\n",
        "    longer_array = convert(Array{Float64}, longer_array)\n",
        "    shorter_indices = [i for i in 1:length(shorter_array) \n",
        "                        if shorter_array[i] in longer_array]\n",
        "    if(length(shorter_indices) == 0)\n",
        "        throw(DomainError(\"no overlap between the two arrays\"))\n",
        "    end\n",
        "    longer_indices = [findfirst(isequal(shorter_array[i]), longer_array) \n",
        "                        for i in shorter_indices]\n",
        "    return shorter_indices, longer_indices\n",
        "end\n",
        "\n",
        "function find_non_elastic_optimized_parameters(file_path)\n",
        "    try\n",
        "        return find_optimized_parameters(file_path, MF = 3, MT = 3)\n",
        "    catch\n",
        "        #print(\"No optimized parameters found for MF=3, MT=3\\nCalculating using MF=3, MT=1 and MF=3, MT=2\")\n",
        "        try \n",
        "            total_e, total_σ = find_parameters(file_path, 3, 1)\n",
        "            elastic_e, elastic_σ = find_parameters(file_path, 3, 2)\n",
        "            if !(total_e == elastic_e)\n",
        "                shorter_indices, longer_indices = find_overlapping_indices(elastic_e,\n",
        "                    total_e)\n",
        "                total_e, total_σ = total_e[longer_indices], total_σ[longer_indices]\n",
        "                elastic_e, elastic_σ = elastic_e[shorter_indices], elastic_σ[shorter_indices]\n",
        "            non_elastic_σ = total_σ - elastic_σ\n",
        "            max_index = findmax(non_elastic_σ./total_e)[2]\n",
        "            return total_e[max_index], non_elastic_σ[max_index]\n",
        "            end\n",
        "\n",
        "            return \"Total energy and elastic energy data do not match\"\n",
        "        catch\n",
        "            return \"No elastic parameters found for MF=3, MT=2\"\n",
        "        end\n",
        "    end\n",
        "end \n",
        "\n",
        "function find_optimized_radiative_capture_parameters(file_path)\n",
        "    try\n",
        "        return find_optimized_parameters(file_path, 3, 102)\n",
        "    catch\n",
        "        #print(\"No optimized parameters found for MF=3, MT=3\\nCalculating using MF=3, MT=1 and MF=3, MT=2\")\n",
        "        return \"No radiative capture parameters found for MF=3, MT=102\"\n",
        "    end\n",
        "end"
      ]
    },
    {
      "cell_type": "code",
      "execution_count": 4,
      "metadata": {},
      "outputs": [
        {
          "name": "stdout",
          "output_type": "stream",
          "text": [
            "No radiative capture data for H-003\n",
            "No radiative capture data for He-004\n"
          ]
        },
        {
          "data": {
            "text/html": [
              "<div class=\"data-frame\"><p>793 rows × 3 columns</p><table class=\"data-frame\"><thead><tr><th></th><th>Energy (ev)</th><th>Cross Section (b)</th><th>Target</th></tr><tr><th></th><th title=\"Float64\">Float64</th><th title=\"Float64\">Float64</th><th title=\"String\">String</th></tr></thead><tbody><tr><th>1</th><td>1.0e-5</td><td>472.437</td><td>Br-077</td></tr><tr><th>2</th><td>604000.0</td><td>0.0155323</td><td>Ge-074</td></tr><tr><th>3</th><td>1.0e-5</td><td>303.097</td><td>I-128</td></tr><tr><th>4</th><td>1.0e-5</td><td>39000.0</td><td>Bk-250</td></tr><tr><th>5</th><td>1.5e6</td><td>0.0006488</td><td>Si-030</td></tr><tr><th>6</th><td>36.0</td><td>141.525</td><td>Nd-147</td></tr><tr><th>7</th><td>340.0</td><td>8.41157</td><td>Sn-113</td></tr><tr><th>8</th><td>100000.0</td><td>0.00776769</td><td>Zr-096</td></tr><tr><th>9</th><td>1.0e-5</td><td>44967.4</td><td>I-125</td></tr><tr><th>10</th><td>1.0e-5</td><td>1116.49</td><td>Gd-149</td></tr><tr><th>11</th><td>1.0e-5</td><td>0.00119577</td><td>N-015</td></tr><tr><th>12</th><td>1.0e-5</td><td>25.1495</td><td>B-010</td></tr><tr><th>13</th><td>21.0</td><td>12.0086</td><td>Pa-232</td></tr><tr><th>14</th><td>1.0e-5</td><td>52.2703</td><td>Bi-206</td></tr><tr><th>15</th><td>1.0e-5</td><td>25.6112</td><td>Ar-041</td></tr><tr><th>16</th><td>1.0e-5</td><td>15.2908</td><td>Ge-077</td></tr><tr><th>17</th><td>1.0e-5</td><td>0.0717476</td><td>Pb-209</td></tr><tr><th>18</th><td>300000.0</td><td>0.005085</td><td>Ca-042</td></tr><tr><th>19</th><td>6000.0</td><td>2.03966</td><td>Tc-099</td></tr><tr><th>20</th><td>1.0e-5</td><td>666.861</td><td>Re-186m1</td></tr><tr><th>21</th><td>1.0e-5</td><td>7.01009</td><td>Te-132</td></tr><tr><th>22</th><td>1.0e-5</td><td>13.0496</td><td>Pd-100</td></tr><tr><th>23</th><td>1.0e-5</td><td>265.033</td><td>Pm-145</td></tr><tr><th>24</th><td>1.0e-5</td><td>175.345</td><td>Nb-096</td></tr><tr><th>&vellip;</th><td>&vellip;</td><td>&vellip;</td><td>&vellip;</td></tr></tbody></table></div>"
            ],
            "text/latex": [
              "\\begin{tabular}{r|ccc}\n",
              "\t& Energy (ev) & Cross Section (b) & Target\\\\\n",
              "\t\\hline\n",
              "\t& Float64 & Float64 & String\\\\\n",
              "\t\\hline\n",
              "\t1 & 1.0e-5 & 472.437 & Br-077 \\\\\n",
              "\t2 & 604000.0 & 0.0155323 & Ge-074 \\\\\n",
              "\t3 & 1.0e-5 & 303.097 & I-128 \\\\\n",
              "\t4 & 1.0e-5 & 39000.0 & Bk-250 \\\\\n",
              "\t5 & 1.5e6 & 0.0006488 & Si-030 \\\\\n",
              "\t6 & 36.0 & 141.525 & Nd-147 \\\\\n",
              "\t7 & 340.0 & 8.41157 & Sn-113 \\\\\n",
              "\t8 & 100000.0 & 0.00776769 & Zr-096 \\\\\n",
              "\t9 & 1.0e-5 & 44967.4 & I-125 \\\\\n",
              "\t10 & 1.0e-5 & 1116.49 & Gd-149 \\\\\n",
              "\t11 & 1.0e-5 & 0.00119577 & N-015 \\\\\n",
              "\t12 & 1.0e-5 & 25.1495 & B-010 \\\\\n",
              "\t13 & 21.0 & 12.0086 & Pa-232 \\\\\n",
              "\t14 & 1.0e-5 & 52.2703 & Bi-206 \\\\\n",
              "\t15 & 1.0e-5 & 25.6112 & Ar-041 \\\\\n",
              "\t16 & 1.0e-5 & 15.2908 & Ge-077 \\\\\n",
              "\t17 & 1.0e-5 & 0.0717476 & Pb-209 \\\\\n",
              "\t18 & 300000.0 & 0.005085 & Ca-042 \\\\\n",
              "\t19 & 6000.0 & 2.03966 & Tc-099 \\\\\n",
              "\t20 & 1.0e-5 & 666.861 & Re-186m1 \\\\\n",
              "\t21 & 1.0e-5 & 7.01009 & Te-132 \\\\\n",
              "\t22 & 1.0e-5 & 13.0496 & Pd-100 \\\\\n",
              "\t23 & 1.0e-5 & 265.033 & Pm-145 \\\\\n",
              "\t24 & 1.0e-5 & 175.345 & Nb-096 \\\\\n",
              "\t$\\dots$ & $\\dots$ & $\\dots$ & $\\dots$ \\\\\n",
              "\\end{tabular}\n"
            ],
            "text/plain": [
              "\u001b[1m793×3 DataFrame\u001b[0m\n",
              "\u001b[1m Row \u001b[0m│\u001b[1m Energy (ev) \u001b[0m\u001b[1m Cross Section (b) \u001b[0m\u001b[1m Target   \u001b[0m\n",
              "\u001b[1m     \u001b[0m│\u001b[90m Float64     \u001b[0m\u001b[90m Float64           \u001b[0m\u001b[90m String   \u001b[0m\n",
              "─────┼──────────────────────────────────────────\n",
              "   1 │      1.0e-5       472.437       Br-077\n",
              "   2 │ 604000.0            0.0155323   Ge-074\n",
              "   3 │      1.0e-5       303.097       I-128\n",
              "   4 │      1.0e-5     39000.0         Bk-250\n",
              "   5 │      1.5e6          0.0006488   Si-030\n",
              "   6 │     36.0          141.525       Nd-147\n",
              "   7 │    340.0            8.41157     Sn-113\n",
              "   8 │ 100000.0            0.00776769  Zr-096\n",
              "  ⋮  │      ⋮               ⋮             ⋮\n",
              " 787 │   1000.0            9.39073     Lu-175\n",
              " 788 │      1.0e-5     86000.0         Cf-248\n",
              " 789 │      1.0e-5         1.73925e-9  Pb-208\n",
              " 790 │      1.0e-5      1652.13        Tb-157\n",
              " 791 │      1.0e-5     10000.0         Cm-241\n",
              " 792 │   1700.0            6.8088      Yb-171\n",
              " 793 │      1.0e-5     12600.0         Es-254m1\n",
              "\u001b[36m                                778 rows omitted\u001b[0m"
            ]
          },
          "metadata": {},
          "output_type": "display_data"
        }
      ],
      "source": [
        "neutron_dir = data_dir  * String(\"jendl5-n\\\\\")\n",
        "neutron_files = readdir(neutron_dir)\n",
        "neutron_file_paths = neutron_dir .* neutron_files\n",
        "neutron_output = Dict()\n",
        "for index in 1:length(neutron_files)\n",
        "    optimized_parameters = find_optimized_radiative_capture_parameters(\n",
        "                            neutron_file_paths[index])\n",
        "    if (typeof(optimized_parameters) !== String)\n",
        "        target = neutron_files[index][7:end-4]\n",
        "        neutron_output[target] = optimized_parameters\n",
        "        #optimized_energy, optimized_cross_section\n",
        "    else\n",
        "        println(\"No radiative capture data for \", neutron_files[index][7:end-4])\n",
        "    end\n",
        "end\n",
        "#now to make a dataframe from the dictionary\n",
        "neutron_df = DataFrame()#\"Energy (ev)\" = energy, \"Cross Section (b)\" = cross_sections, \"Target\" = targets)\n",
        "targets = keys(neutron_output)\n",
        "neutron_df.\"Energy (ev)\" = [neutron_output[key][1] for key in targets]\n",
        "neutron_df.\"Cross Section (b)\" = [neutron_output[key][2] for key in targets]\n",
        "neutron_df.\"Target\" = [string(target) for target in targets]\n",
        "neutron_df\n"
      ]
    },
    {
      "cell_type": "code",
      "execution_count": 119,
      "metadata": {},
      "outputs": [
        {
          "data": {
            "application/vnd.plotly.v1+json": {
              "config": {
                "editable": false,
                "responsive": true,
                "scrollZoom": true,
                "showLink": false,
                "staticPlot": false
              },
              "data": [
                {
                  "mode": "markers",
                  "text": "Target",
                  "type": "scatter",
                  "x": "Energy (ev)",
                  "xaxis": "x",
                  "y": "Cross Section (b)",
                  "yaxis": "y"
                }
              ],
              "frames": [],
              "layout": {
                "legend": {
                  "tracegroupgap": 0
                },
                "margin": {
                  "b": 50,
                  "l": 50,
                  "r": 50,
                  "t": 60
                },
                "template": {
                  "data": {
                    "bar": [
                      {
                        "error_x": {
                          "color": "#2a3f5f"
                        },
                        "error_y": {
                          "color": "#2a3f5f"
                        },
                        "marker": {
                          "line": {
                            "color": "#E5ECF6",
                            "width": 0.5
                          }
                        },
                        "type": "bar"
                      }
                    ],
                    "barpolar": [
                      {
                        "marker": {
                          "line": {
                            "color": "#E5ECF6",
                            "width": 0.5
                          }
                        },
                        "type": "barpolar"
                      }
                    ],
                    "carpet": [
                      {
                        "aaxis": {
                          "endlinecolor": "#2a3f5f",
                          "gridcolor": "white",
                          "linecolor": "white",
                          "minorgridcolor": "white",
                          "startlinecolor": "#2a3f5f"
                        },
                        "baxis": {
                          "endlinecolor": "#2a3f5f",
                          "gridcolor": "white",
                          "linecolor": "white",
                          "minorgridcolor": "white",
                          "startlinecolor": "#2a3f5f"
                        },
                        "type": "carpet"
                      }
                    ],
                    "choropleth": [
                      {
                        "colorbar": {
                          "outlinewidth": 0,
                          "ticks": ""
                        },
                        "type": "choropleth"
                      }
                    ],
                    "contour": [
                      {
                        "colorbar": {
                          "outlinewidth": 0,
                          "ticks": ""
                        },
                        "colorscale": [
                          [
                            0,
                            "#0d0887"
                          ],
                          [
                            0.1111111111111111,
                            "#46039f"
                          ],
                          [
                            0.2222222222222222,
                            "#7201a8"
                          ],
                          [
                            0.3333333333333333,
                            "#9c179e"
                          ],
                          [
                            0.4444444444444444,
                            "#bd3786"
                          ],
                          [
                            0.5555555555555556,
                            "#d8576b"
                          ],
                          [
                            0.6666666666666666,
                            "#ed7953"
                          ],
                          [
                            0.7777777777777778,
                            "#fb9f3a"
                          ],
                          [
                            0.8888888888888888,
                            "#fdca26"
                          ],
                          [
                            1,
                            "#f0f921"
                          ]
                        ],
                        "type": "contour"
                      }
                    ],
                    "contourcarpet": [
                      {
                        "colorbar": {
                          "outlinewidth": 0,
                          "ticks": ""
                        },
                        "type": "contourcarpet"
                      }
                    ],
                    "heatmap": [
                      {
                        "colorbar": {
                          "outlinewidth": 0,
                          "ticks": ""
                        },
                        "colorscale": [
                          [
                            0,
                            "#0d0887"
                          ],
                          [
                            0.1111111111111111,
                            "#46039f"
                          ],
                          [
                            0.2222222222222222,
                            "#7201a8"
                          ],
                          [
                            0.3333333333333333,
                            "#9c179e"
                          ],
                          [
                            0.4444444444444444,
                            "#bd3786"
                          ],
                          [
                            0.5555555555555556,
                            "#d8576b"
                          ],
                          [
                            0.6666666666666666,
                            "#ed7953"
                          ],
                          [
                            0.7777777777777778,
                            "#fb9f3a"
                          ],
                          [
                            0.8888888888888888,
                            "#fdca26"
                          ],
                          [
                            1,
                            "#f0f921"
                          ]
                        ],
                        "type": "heatmap"
                      }
                    ],
                    "heatmapgl": [
                      {
                        "colorbar": {
                          "outlinewidth": 0,
                          "ticks": ""
                        },
                        "colorscale": [
                          [
                            0,
                            "#0d0887"
                          ],
                          [
                            0.1111111111111111,
                            "#46039f"
                          ],
                          [
                            0.2222222222222222,
                            "#7201a8"
                          ],
                          [
                            0.3333333333333333,
                            "#9c179e"
                          ],
                          [
                            0.4444444444444444,
                            "#bd3786"
                          ],
                          [
                            0.5555555555555556,
                            "#d8576b"
                          ],
                          [
                            0.6666666666666666,
                            "#ed7953"
                          ],
                          [
                            0.7777777777777778,
                            "#fb9f3a"
                          ],
                          [
                            0.8888888888888888,
                            "#fdca26"
                          ],
                          [
                            1,
                            "#f0f921"
                          ]
                        ],
                        "type": "heatmapgl"
                      }
                    ],
                    "histogram": [
                      {
                        "marker": {
                          "colorbar": {
                            "outlinewidth": 0,
                            "ticks": ""
                          }
                        },
                        "type": "histogram"
                      }
                    ],
                    "histogram2d": [
                      {
                        "colorbar": {
                          "outlinewidth": 0,
                          "ticks": ""
                        },
                        "colorscale": [
                          [
                            0,
                            "#0d0887"
                          ],
                          [
                            0.1111111111111111,
                            "#46039f"
                          ],
                          [
                            0.2222222222222222,
                            "#7201a8"
                          ],
                          [
                            0.3333333333333333,
                            "#9c179e"
                          ],
                          [
                            0.4444444444444444,
                            "#bd3786"
                          ],
                          [
                            0.5555555555555556,
                            "#d8576b"
                          ],
                          [
                            0.6666666666666666,
                            "#ed7953"
                          ],
                          [
                            0.7777777777777778,
                            "#fb9f3a"
                          ],
                          [
                            0.8888888888888888,
                            "#fdca26"
                          ],
                          [
                            1,
                            "#f0f921"
                          ]
                        ],
                        "type": "histogram2d"
                      }
                    ],
                    "histogram2dcontour": [
                      {
                        "colorbar": {
                          "outlinewidth": 0,
                          "ticks": ""
                        },
                        "colorscale": [
                          [
                            0,
                            "#0d0887"
                          ],
                          [
                            0.1111111111111111,
                            "#46039f"
                          ],
                          [
                            0.2222222222222222,
                            "#7201a8"
                          ],
                          [
                            0.3333333333333333,
                            "#9c179e"
                          ],
                          [
                            0.4444444444444444,
                            "#bd3786"
                          ],
                          [
                            0.5555555555555556,
                            "#d8576b"
                          ],
                          [
                            0.6666666666666666,
                            "#ed7953"
                          ],
                          [
                            0.7777777777777778,
                            "#fb9f3a"
                          ],
                          [
                            0.8888888888888888,
                            "#fdca26"
                          ],
                          [
                            1,
                            "#f0f921"
                          ]
                        ],
                        "type": "histogram2dcontour"
                      }
                    ],
                    "mesh3d": [
                      {
                        "colorbar": {
                          "outlinewidth": 0,
                          "ticks": ""
                        },
                        "type": "mesh3d"
                      }
                    ],
                    "parcoords": [
                      {
                        "line": {
                          "colorbar": {
                            "outlinewidth": 0,
                            "ticks": ""
                          }
                        },
                        "type": "parcoords"
                      }
                    ],
                    "pie": [
                      {
                        "automargin": true,
                        "type": "pie"
                      }
                    ],
                    "scatter": [
                      {
                        "marker": {
                          "colorbar": {
                            "outlinewidth": 0,
                            "ticks": ""
                          }
                        },
                        "type": "scatter"
                      }
                    ],
                    "scatter3d": [
                      {
                        "line": {
                          "colorbar": {
                            "outlinewidth": 0,
                            "ticks": ""
                          }
                        },
                        "marker": {
                          "colorbar": {
                            "outlinewidth": 0,
                            "ticks": ""
                          }
                        },
                        "type": "scatter3d"
                      }
                    ],
                    "scattercarpet": [
                      {
                        "marker": {
                          "colorbar": {
                            "outlinewidth": 0,
                            "ticks": ""
                          }
                        },
                        "type": "scattercarpet"
                      }
                    ],
                    "scattergeo": [
                      {
                        "marker": {
                          "colorbar": {
                            "outlinewidth": 0,
                            "ticks": ""
                          }
                        },
                        "type": "scattergeo"
                      }
                    ],
                    "scattergl": [
                      {
                        "marker": {
                          "colorbar": {
                            "outlinewidth": 0,
                            "ticks": ""
                          }
                        },
                        "type": "scattergl"
                      }
                    ],
                    "scattermapbox": [
                      {
                        "marker": {
                          "colorbar": {
                            "outlinewidth": 0,
                            "ticks": ""
                          }
                        },
                        "type": "scattermapbox"
                      }
                    ],
                    "scatterpolar": [
                      {
                        "marker": {
                          "colorbar": {
                            "outlinewidth": 0,
                            "ticks": ""
                          }
                        },
                        "type": "scatterpolar"
                      }
                    ],
                    "scatterpolargl": [
                      {
                        "marker": {
                          "colorbar": {
                            "outlinewidth": 0,
                            "ticks": ""
                          }
                        },
                        "type": "scatterpolargl"
                      }
                    ],
                    "scatterternary": [
                      {
                        "marker": {
                          "colorbar": {
                            "outlinewidth": 0,
                            "ticks": ""
                          }
                        },
                        "type": "scatterternary"
                      }
                    ],
                    "surface": [
                      {
                        "colorbar": {
                          "outlinewidth": 0,
                          "ticks": ""
                        },
                        "colorscale": [
                          [
                            0,
                            "#0d0887"
                          ],
                          [
                            0.1111111111111111,
                            "#46039f"
                          ],
                          [
                            0.2222222222222222,
                            "#7201a8"
                          ],
                          [
                            0.3333333333333333,
                            "#9c179e"
                          ],
                          [
                            0.4444444444444444,
                            "#bd3786"
                          ],
                          [
                            0.5555555555555556,
                            "#d8576b"
                          ],
                          [
                            0.6666666666666666,
                            "#ed7953"
                          ],
                          [
                            0.7777777777777778,
                            "#fb9f3a"
                          ],
                          [
                            0.8888888888888888,
                            "#fdca26"
                          ],
                          [
                            1,
                            "#f0f921"
                          ]
                        ],
                        "type": "surface"
                      }
                    ],
                    "table": [
                      {
                        "cells": {
                          "fill": {
                            "color": "#EBF0F8"
                          },
                          "line": {
                            "color": "white"
                          }
                        },
                        "header": {
                          "fill": {
                            "color": "#C8D4E3"
                          },
                          "line": {
                            "color": "white"
                          }
                        },
                        "type": "table"
                      }
                    ]
                  },
                  "layout": {
                    "annotationdefaults": {
                      "arrowcolor": "#2a3f5f",
                      "arrowhead": 0,
                      "arrowwidth": 1
                    },
                    "autotypenumbers": "strict",
                    "coloraxis": {
                      "colorbar": {
                        "outlinewidth": 0,
                        "ticks": ""
                      }
                    },
                    "colorscale": {
                      "diverging": [
                        [
                          0,
                          "#8e0152"
                        ],
                        [
                          0.1,
                          "#c51b7d"
                        ],
                        [
                          0.2,
                          "#de77ae"
                        ],
                        [
                          0.3,
                          "#f1b6da"
                        ],
                        [
                          0.4,
                          "#fde0ef"
                        ],
                        [
                          0.5,
                          "#f7f7f7"
                        ],
                        [
                          0.6,
                          "#e6f5d0"
                        ],
                        [
                          0.7,
                          "#b8e186"
                        ],
                        [
                          0.8,
                          "#7fbc41"
                        ],
                        [
                          0.9,
                          "#4d9221"
                        ],
                        [
                          1,
                          "#276419"
                        ]
                      ],
                      "sequential": [
                        [
                          0,
                          "#0d0887"
                        ],
                        [
                          0.1111111111111111,
                          "#46039f"
                        ],
                        [
                          0.2222222222222222,
                          "#7201a8"
                        ],
                        [
                          0.3333333333333333,
                          "#9c179e"
                        ],
                        [
                          0.4444444444444444,
                          "#bd3786"
                        ],
                        [
                          0.5555555555555556,
                          "#d8576b"
                        ],
                        [
                          0.6666666666666666,
                          "#ed7953"
                        ],
                        [
                          0.7777777777777778,
                          "#fb9f3a"
                        ],
                        [
                          0.8888888888888888,
                          "#fdca26"
                        ],
                        [
                          1,
                          "#f0f921"
                        ]
                      ],
                      "sequentialminus": [
                        [
                          0,
                          "#0d0887"
                        ],
                        [
                          0.1111111111111111,
                          "#46039f"
                        ],
                        [
                          0.2222222222222222,
                          "#7201a8"
                        ],
                        [
                          0.3333333333333333,
                          "#9c179e"
                        ],
                        [
                          0.4444444444444444,
                          "#bd3786"
                        ],
                        [
                          0.5555555555555556,
                          "#d8576b"
                        ],
                        [
                          0.6666666666666666,
                          "#ed7953"
                        ],
                        [
                          0.7777777777777778,
                          "#fb9f3a"
                        ],
                        [
                          0.8888888888888888,
                          "#fdca26"
                        ],
                        [
                          1,
                          "#f0f921"
                        ]
                      ]
                    },
                    "colorway": [
                      "#636efa",
                      "#EF553B",
                      "#00cc96",
                      "#ab63fa",
                      "#FFA15A",
                      "#19d3f3",
                      "#FF6692",
                      "#B6E880",
                      "#FF97FF",
                      "#FECB52"
                    ],
                    "font": {
                      "color": "#2a3f5f"
                    },
                    "geo": {
                      "bgcolor": "white",
                      "lakecolor": "white",
                      "landcolor": "#E5ECF6",
                      "showlakes": true,
                      "showland": true,
                      "subunitcolor": "white"
                    },
                    "hoverlabel": {
                      "align": "left"
                    },
                    "hovermode": "closest",
                    "mapbox": {
                      "style": "light"
                    },
                    "paper_bgcolor": "white",
                    "plot_bgcolor": "#E5ECF6",
                    "polar": {
                      "angularaxis": {
                        "gridcolor": "white",
                        "linecolor": "white",
                        "ticks": ""
                      },
                      "bgcolor": "#E5ECF6",
                      "radialaxis": {
                        "gridcolor": "white",
                        "linecolor": "white",
                        "ticks": ""
                      }
                    },
                    "scene": {
                      "xaxis": {
                        "backgroundcolor": "#E5ECF6",
                        "gridcolor": "white",
                        "gridwidth": 2,
                        "linecolor": "white",
                        "showbackground": true,
                        "ticks": "",
                        "zerolinecolor": "white"
                      },
                      "yaxis": {
                        "backgroundcolor": "#E5ECF6",
                        "gridcolor": "white",
                        "gridwidth": 2,
                        "linecolor": "white",
                        "showbackground": true,
                        "ticks": "",
                        "zerolinecolor": "white"
                      },
                      "zaxis": {
                        "backgroundcolor": "#E5ECF6",
                        "gridcolor": "white",
                        "gridwidth": 2,
                        "linecolor": "white",
                        "showbackground": true,
                        "ticks": "",
                        "zerolinecolor": "white"
                      }
                    },
                    "shapedefaults": {
                      "line": {
                        "color": "#2a3f5f"
                      }
                    },
                    "ternary": {
                      "aaxis": {
                        "gridcolor": "white",
                        "linecolor": "white",
                        "ticks": ""
                      },
                      "baxis": {
                        "gridcolor": "white",
                        "linecolor": "white",
                        "ticks": ""
                      },
                      "bgcolor": "#E5ECF6",
                      "caxis": {
                        "gridcolor": "white",
                        "linecolor": "white",
                        "ticks": ""
                      }
                    },
                    "title": {
                      "x": 0.05
                    },
                    "xaxis": {
                      "automargin": true,
                      "gridcolor": "white",
                      "linecolor": "white",
                      "ticks": "",
                      "title": {
                        "standoff": 15
                      },
                      "zerolinecolor": "white",
                      "zerolinewidth": 2
                    },
                    "yaxis": {
                      "automargin": true,
                      "gridcolor": "white",
                      "linecolor": "white",
                      "ticks": "",
                      "title": {
                        "standoff": 15
                      },
                      "zerolinecolor": "white",
                      "zerolinewidth": 2
                    }
                  }
                },
                "title": "Optimized Neutron Cross Sections"
              }
            },
            "image/png": "[encoded data removed]",
            "image/svg+xml": "<svg class=\"main-svg\" xmlns=\"http://www.w3.org/2000/svg\" xmlns:xlink=\"http://www.w3.org/1999/xlink\" width=\"700\" height=\"500\" style=\"\" viewBox=\"0 0 700 500\"><rect x=\"0\" y=\"0\" width=\"700\" height=\"500\" style=\"fill: rgb(255, 255, 255); fill-opacity: 1;\"/><defs id=\"defs-c613b2\"><g class=\"clips\"><clipPath id=\"clipc613b2xyplot\" class=\"plotclip\"><rect width=\"600\" height=\"390\"/></clipPath><clipPath class=\"axesclip\" id=\"clipc613b2x\"><rect x=\"50\" y=\"0\" width=\"600\" height=\"500\"/></clipPath><clipPath class=\"axesclip\" id=\"clipc613b2y\"><rect x=\"0\" y=\"60\" width=\"700\" height=\"390\"/></clipPath><clipPath class=\"axesclip\" id=\"clipc613b2xy\"><rect x=\"50\" y=\"60\" width=\"600\" height=\"390\"/></clipPath></g><g class=\"gradients\"/></defs><g class=\"bglayer\"><rect class=\"bg\" x=\"50\" y=\"60\" width=\"600\" height=\"390\" style=\"fill: rgb(229, 236, 246); fill-opacity: 1; stroke-width: 0;\"/></g><g class=\"layer-below\"><g class=\"imagelayer\"/><g class=\"shapelayer\"/></g><g class=\"cartesianlayer\"><g class=\"subplot xy\"><g class=\"layer-subplot\"><g class=\"shapelayer\"/><g class=\"imagelayer\"/></g><g class=\"gridlayer\"><g class=\"x\"><path class=\"xgrid crisp\" transform=\"translate(221.43,0)\" d=\"M0,60v390\" style=\"stroke: rgb(255, 255, 255); stroke-opacity: 1; stroke-width: 1px;\"/><path class=\"xgrid crisp\" transform=\"translate(307.14,0)\" d=\"M0,60v390\" style=\"stroke: rgb(255, 255, 255); stroke-opacity: 1; stroke-width: 1px;\"/><path class=\"xgrid crisp\" transform=\"translate(392.86,0)\" d=\"M0,60v390\" style=\"stroke: rgb(255, 255, 255); stroke-opacity: 1; stroke-width: 1px;\"/><path class=\"xgrid crisp\" transform=\"translate(478.57,0)\" d=\"M0,60v390\" style=\"stroke: rgb(255, 255, 255); stroke-opacity: 1; stroke-width: 1px;\"/><path class=\"xgrid crisp\" transform=\"translate(564.29,0)\" d=\"M0,60v390\" style=\"stroke: rgb(255, 255, 255); stroke-opacity: 1; stroke-width: 1px;\"/></g><g class=\"y\"><path class=\"ygrid crisp\" transform=\"translate(0,294)\" d=\"M50,0h600\" style=\"stroke: rgb(255, 255, 255); stroke-opacity: 1; stroke-width: 1px;\"/><path class=\"ygrid crisp\" transform=\"translate(0,216)\" d=\"M50,0h600\" style=\"stroke: rgb(255, 255, 255); stroke-opacity: 1; stroke-width: 1px;\"/><path class=\"ygrid crisp\" transform=\"translate(0,138)\" d=\"M50,0h600\" style=\"stroke: rgb(255, 255, 255); stroke-opacity: 1; stroke-width: 1px;\"/></g></g><g class=\"zerolinelayer\"><path class=\"xzl zl crisp\" transform=\"translate(135.70999999999998,0)\" d=\"M0,60v390\" style=\"stroke: rgb(255, 255, 255); stroke-opacity: 1; stroke-width: 2px;\"/><path class=\"yzl zl crisp\" transform=\"translate(0,372)\" d=\"M50,0h600\" style=\"stroke: rgb(255, 255, 255); stroke-opacity: 1; stroke-width: 2px;\"/></g><path class=\"xlines-below\"/><path class=\"ylines-below\"/><g class=\"overlines-below\"/><g class=\"xaxislayer-below\"/><g class=\"yaxislayer-below\"/><g class=\"overaxes-below\"/><g class=\"plot\" transform=\"translate(50,60)\" clip-path=\"url('#clipc613b2xyplot')\"/><g class=\"overplot\"/><path class=\"xlines-above crisp\" d=\"M0,0\" style=\"fill: none;\"/><path class=\"ylines-above crisp\" d=\"M0,0\" style=\"fill: none;\"/><g class=\"overlines-above\"/><g class=\"xaxislayer-above\"><g class=\"xtick\"><text text-anchor=\"middle\" x=\"0\" y=\"463\" transform=\"translate(50,0)\" style=\"font-family: 'Open Sans', verdana, arial, sans-serif; font-size: 12px; fill: rgb(42, 63, 95); fill-opacity: 1; white-space: pre;\">−1</text></g><g class=\"xtick\"><text text-anchor=\"middle\" x=\"0\" y=\"463\" transform=\"translate(135.70999999999998,0)\" style=\"font-family: 'Open Sans', verdana, arial, sans-serif; font-size: 12px; fill: rgb(42, 63, 95); fill-opacity: 1; white-space: pre;\">0</text></g><g class=\"xtick\"><text text-anchor=\"middle\" x=\"0\" y=\"463\" transform=\"translate(221.43,0)\" style=\"font-family: 'Open Sans', verdana, arial, sans-serif; font-size: 12px; fill: rgb(42, 63, 95); fill-opacity: 1; white-space: pre;\">1</text></g><g class=\"xtick\"><text text-anchor=\"middle\" x=\"0\" y=\"463\" transform=\"translate(307.14,0)\" style=\"font-family: 'Open Sans', verdana, arial, sans-serif; font-size: 12px; fill: rgb(42, 63, 95); fill-opacity: 1; white-space: pre;\">2</text></g><g class=\"xtick\"><text text-anchor=\"middle\" x=\"0\" y=\"463\" transform=\"translate(392.86,0)\" style=\"font-family: 'Open Sans', verdana, arial, sans-serif; font-size: 12px; fill: rgb(42, 63, 95); fill-opacity: 1; white-space: pre;\">3</text></g><g class=\"xtick\"><text text-anchor=\"middle\" x=\"0\" y=\"463\" transform=\"translate(478.57,0)\" style=\"font-family: 'Open Sans', verdana, arial, sans-serif; font-size: 12px; fill: rgb(42, 63, 95); fill-opacity: 1; white-space: pre;\">4</text></g><g class=\"xtick\"><text text-anchor=\"middle\" x=\"0\" y=\"463\" transform=\"translate(564.29,0)\" style=\"font-family: 'Open Sans', verdana, arial, sans-serif; font-size: 12px; fill: rgb(42, 63, 95); fill-opacity: 1; white-space: pre;\">5</text></g><g class=\"xtick\"><text text-anchor=\"middle\" x=\"0\" y=\"463\" transform=\"translate(650,0)\" style=\"font-family: 'Open Sans', verdana, arial, sans-serif; font-size: 12px; fill: rgb(42, 63, 95); fill-opacity: 1; white-space: pre;\">6</text></g></g><g class=\"yaxislayer-above\"><g class=\"ytick\"><text text-anchor=\"end\" x=\"49\" y=\"4.199999999999999\" transform=\"translate(0,450)\" style=\"font-family: 'Open Sans', verdana, arial, sans-serif; font-size: 12px; fill: rgb(42, 63, 95); fill-opacity: 1; white-space: pre;\">−1</text></g><g class=\"ytick\"><text text-anchor=\"end\" x=\"49\" y=\"4.199999999999999\" transform=\"translate(0,372)\" style=\"font-family: 'Open Sans', verdana, arial, sans-serif; font-size: 12px; fill: rgb(42, 63, 95); fill-opacity: 1; white-space: pre;\">0</text></g><g class=\"ytick\"><text text-anchor=\"end\" x=\"49\" y=\"4.199999999999999\" transform=\"translate(0,294)\" style=\"font-family: 'Open Sans', verdana, arial, sans-serif; font-size: 12px; fill: rgb(42, 63, 95); fill-opacity: 1; white-space: pre;\">1</text></g><g class=\"ytick\"><text text-anchor=\"end\" x=\"49\" y=\"4.199999999999999\" transform=\"translate(0,216)\" style=\"font-family: 'Open Sans', verdana, arial, sans-serif; font-size: 12px; fill: rgb(42, 63, 95); fill-opacity: 1; white-space: pre;\">2</text></g><g class=\"ytick\"><text text-anchor=\"end\" x=\"49\" y=\"4.199999999999999\" transform=\"translate(0,138)\" style=\"font-family: 'Open Sans', verdana, arial, sans-serif; font-size: 12px; fill: rgb(42, 63, 95); fill-opacity: 1; white-space: pre;\">3</text></g><g class=\"ytick\"><text text-anchor=\"end\" x=\"49\" y=\"4.199999999999999\" transform=\"translate(0,60)\" style=\"font-family: 'Open Sans', verdana, arial, sans-serif; font-size: 12px; fill: rgb(42, 63, 95); fill-opacity: 1; white-space: pre;\">4</text></g></g><g class=\"overaxes-above\"/></g></g><g class=\"polarlayer\"/><g class=\"ternarylayer\"/><g class=\"geolayer\"/><g class=\"funnelarealayer\"/><g class=\"pielayer\"/><g class=\"treemaplayer\"/><g class=\"sunburstlayer\"/><g class=\"glimages\"/><defs id=\"topdefs-c613b2\"><g class=\"clips\"/></defs><g class=\"layer-above\"><g class=\"imagelayer\"/><g class=\"shapelayer\"/></g><g class=\"infolayer\"><g class=\"g-gtitle\"><text class=\"gtitle\" x=\"35\" y=\"30\" text-anchor=\"start\" dy=\"0em\" style=\"font-family: 'Open Sans', verdana, arial, sans-serif; font-size: 17px; fill: rgb(42, 63, 95); opacity: 1; font-weight: normal; white-space: pre;\">Optimized Neutron Cross Sections</text></g><g class=\"g-xtitle\"/><g class=\"g-ytitle\"/></g></svg>",
            "text/html": [
              "<div\n",
              "    class=\"webio-mountpoint\"\n",
              "    data-webio-mountpoint=\"17765893373508598811\"\n",
              ">\n",
              "    <script>\n",
              "    (function(){\n",
              "    // Some integrations (namely, IJulia/Jupyter) use an alternate render pathway than\n",
              "    // just putting the html on the page. If WebIO isn't defined, then it's pretty likely\n",
              "    // that we're in one of those situations and the integration just isn't installed\n",
              "    // correctly.\n",
              "    if (typeof window.WebIO === \"undefined\") {\n",
              "        document\n",
              "            .querySelector('[data-webio-mountpoint=\"17765893373508598811\"]')\n",
              "            .innerHTML = (\n",
              "                '<div style=\"padding: 1em; background-color: #f8d6da; border: 1px solid #f5c6cb; font-weight: bold;\">' +\n",
              "                '<p><strong>WebIO not detected.</strong></p>' +\n",
              "                '<p>Please read ' +\n",
              "                '<a href=\"https://juliagizmos.github.io/WebIO.jl/latest/troubleshooting/not-detected/\" target=\"_blank\">the troubleshooting guide</a> ' +\n",
              "                'for more information on how to resolve this issue.</p>' +\n",
              "                '<p><a href=\"https://juliagizmos.github.io/WebIO.jl/latest/troubleshooting/not-detected/\" target=\"_blank\">https://juliagizmos.github.io/WebIO.jl/latest/troubleshooting/not-detected/</a></p>' +\n",
              "                '</div>'\n",
              "            );\n",
              "        return;\n",
              "    }\n",
              "    WebIO.mount(\n",
              "        document.querySelector('[data-webio-mountpoint=\"17765893373508598811\"]'),\n",
              "        {\"props\":{},\"nodeType\":\"Scope\",\"type\":\"node\",\"instanceArgs\":{\"imports\":{\"data\":[{\"name\":\"Plotly\",\"type\":\"js\",\"url\":\"\\/assetserver\\/974bc88f8fa21ff4c3cbd84b6afff90488058aa7-plotly.min.js\"},{\"name\":null,\"type\":\"js\",\"url\":\"\\/assetserver\\/64d87b978f97348bc0d43ca0daa59975ea5d4c91-plotly_webio.bundle.js\"}],\"type\":\"async_block\"},\"id\":\"14320088290785172902\",\"handlers\":{\"_toImage\":[\"(function (options){return this.Plotly.toImage(this.plotElem,options).then((function (data){return WebIO.setval({\\\"name\\\":\\\"image\\\",\\\"scope\\\":\\\"14320088290785172902\\\",\\\"id\\\":\\\"9327709144226195511\\\",\\\"type\\\":\\\"observable\\\"},data)}))})\"],\"__get_gd_contents\":[\"(function (prop){prop==\\\"data\\\" ? (WebIO.setval({\\\"name\\\":\\\"__gd_contents\\\",\\\"scope\\\":\\\"14320088290785172902\\\",\\\"id\\\":\\\"9447711471130154745\\\",\\\"type\\\":\\\"observable\\\"},this.plotElem.data)) : undefined; return prop==\\\"layout\\\" ? (WebIO.setval({\\\"name\\\":\\\"__gd_contents\\\",\\\"scope\\\":\\\"14320088290785172902\\\",\\\"id\\\":\\\"9447711471130154745\\\",\\\"type\\\":\\\"observable\\\"},this.plotElem.layout)) : undefined})\"],\"_downloadImage\":[\"(function (options){return this.Plotly.downloadImage(this.plotElem,options)})\"],\"_commands\":[\"(function (args){var fn=args.shift(); var elem=this.plotElem; var Plotly=this.Plotly; args.unshift(elem); return Plotly[fn].apply(this,args)})\"]},\"systemjs_options\":null,\"mount_callbacks\":[\"function () {\\n    var handler = ((function (Plotly,PlotlyWebIO){PlotlyWebIO.init(WebIO); var gd=this.dom.querySelector(\\\"#plot-2d8d029f-b89c-440a-ad42-9c6d53a72589\\\"); this.plotElem=gd; this.Plotly=Plotly; (window.Blink!==undefined) ? (gd.style.width=\\\"100%\\\", gd.style.height=\\\"100vh\\\", gd.style.marginLeft=\\\"0%\\\", gd.style.marginTop=\\\"0vh\\\") : undefined; window.onresize=(function (){return Plotly.Plots.resize(gd)}); Plotly.newPlot(gd,[{\\\"mode\\\":\\\"markers\\\",\\\"xaxis\\\":\\\"x\\\",\\\"y\\\":\\\"Cross Section (b)\\\",\\\"type\\\":\\\"scatter\\\",\\\"text\\\":\\\"Target\\\",\\\"yaxis\\\":\\\"y\\\",\\\"x\\\":\\\"Energy (ev)\\\"}],{\\\"template\\\":{\\\"layout\\\":{\\\"coloraxis\\\":{\\\"colorbar\\\":{\\\"ticks\\\":\\\"\\\",\\\"outlinewidth\\\":0}},\\\"xaxis\\\":{\\\"gridcolor\\\":\\\"white\\\",\\\"zerolinewidth\\\":2,\\\"title\\\":{\\\"standoff\\\":15},\\\"ticks\\\":\\\"\\\",\\\"zerolinecolor\\\":\\\"white\\\",\\\"automargin\\\":true,\\\"linecolor\\\":\\\"white\\\"},\\\"hovermode\\\":\\\"closest\\\",\\\"paper_bgcolor\\\":\\\"white\\\",\\\"geo\\\":{\\\"showlakes\\\":true,\\\"showland\\\":true,\\\"landcolor\\\":\\\"#E5ECF6\\\",\\\"bgcolor\\\":\\\"white\\\",\\\"subunitcolor\\\":\\\"white\\\",\\\"lakecolor\\\":\\\"white\\\"},\\\"colorscale\\\":{\\\"sequential\\\":[[0.0,\\\"#0d0887\\\"],[0.1111111111111111,\\\"#46039f\\\"],[0.2222222222222222,\\\"#7201a8\\\"],[0.3333333333333333,\\\"#9c179e\\\"],[0.4444444444444444,\\\"#bd3786\\\"],[0.5555555555555556,\\\"#d8576b\\\"],[0.6666666666666666,\\\"#ed7953\\\"],[0.7777777777777778,\\\"#fb9f3a\\\"],[0.8888888888888888,\\\"#fdca26\\\"],[1.0,\\\"#f0f921\\\"]],\\\"diverging\\\":[[0,\\\"#8e0152\\\"],[0.1,\\\"#c51b7d\\\"],[0.2,\\\"#de77ae\\\"],[0.3,\\\"#f1b6da\\\"],[0.4,\\\"#fde0ef\\\"],[0.5,\\\"#f7f7f7\\\"],[0.6,\\\"#e6f5d0\\\"],[0.7,\\\"#b8e186\\\"],[0.8,\\\"#7fbc41\\\"],[0.9,\\\"#4d9221\\\"],[1,\\\"#276419\\\"]],\\\"sequentialminus\\\":[[0.0,\\\"#0d0887\\\"],[0.1111111111111111,\\\"#46039f\\\"],[0.2222222222222222,\\\"#7201a8\\\"],[0.3333333333333333,\\\"#9c179e\\\"],[0.4444444444444444,\\\"#bd3786\\\"],[0.5555555555555556,\\\"#d8576b\\\"],[0.6666666666666666,\\\"#ed7953\\\"],[0.7777777777777778,\\\"#fb9f3a\\\"],[0.8888888888888888,\\\"#fdca26\\\"],[1.0,\\\"#f0f921\\\"]]},\\\"yaxis\\\":{\\\"gridcolor\\\":\\\"white\\\",\\\"zerolinewidth\\\":2,\\\"title\\\":{\\\"standoff\\\":15},\\\"ticks\\\":\\\"\\\",\\\"zerolinecolor\\\":\\\"white\\\",\\\"automargin\\\":true,\\\"linecolor\\\":\\\"white\\\"},\\\"shapedefaults\\\":{\\\"line\\\":{\\\"color\\\":\\\"#2a3f5f\\\"}},\\\"hoverlabel\\\":{\\\"align\\\":\\\"left\\\"},\\\"mapbox\\\":{\\\"style\\\":\\\"light\\\"},\\\"polar\\\":{\\\"angularaxis\\\":{\\\"gridcolor\\\":\\\"white\\\",\\\"ticks\\\":\\\"\\\",\\\"linecolor\\\":\\\"white\\\"},\\\"bgcolor\\\":\\\"#E5ECF6\\\",\\\"radialaxis\\\":{\\\"gridcolor\\\":\\\"white\\\",\\\"ticks\\\":\\\"\\\",\\\"linecolor\\\":\\\"white\\\"}},\\\"autotypenumbers\\\":\\\"strict\\\",\\\"font\\\":{\\\"color\\\":\\\"#2a3f5f\\\"},\\\"ternary\\\":{\\\"baxis\\\":{\\\"gridcolor\\\":\\\"white\\\",\\\"ticks\\\":\\\"\\\",\\\"linecolor\\\":\\\"white\\\"},\\\"bgcolor\\\":\\\"#E5ECF6\\\",\\\"caxis\\\":{\\\"gridcolor\\\":\\\"white\\\",\\\"ticks\\\":\\\"\\\",\\\"linecolor\\\":\\\"white\\\"},\\\"aaxis\\\":{\\\"gridcolor\\\":\\\"white\\\",\\\"ticks\\\":\\\"\\\",\\\"linecolor\\\":\\\"white\\\"}},\\\"annotationdefaults\\\":{\\\"arrowhead\\\":0,\\\"arrowwidth\\\":1,\\\"arrowcolor\\\":\\\"#2a3f5f\\\"},\\\"plot_bgcolor\\\":\\\"#E5ECF6\\\",\\\"title\\\":{\\\"x\\\":0.05},\\\"scene\\\":{\\\"xaxis\\\":{\\\"gridcolor\\\":\\\"white\\\",\\\"gridwidth\\\":2,\\\"backgroundcolor\\\":\\\"#E5ECF6\\\",\\\"ticks\\\":\\\"\\\",\\\"showbackground\\\":true,\\\"zerolinecolor\\\":\\\"white\\\",\\\"linecolor\\\":\\\"white\\\"},\\\"zaxis\\\":{\\\"gridcolor\\\":\\\"white\\\",\\\"gridwidth\\\":2,\\\"backgroundcolor\\\":\\\"#E5ECF6\\\",\\\"ticks\\\":\\\"\\\",\\\"showbackground\\\":true,\\\"zerolinecolor\\\":\\\"white\\\",\\\"linecolor\\\":\\\"white\\\"},\\\"yaxis\\\":{\\\"gridcolor\\\":\\\"white\\\",\\\"gridwidth\\\":2,\\\"backgroundcolor\\\":\\\"#E5ECF6\\\",\\\"ticks\\\":\\\"\\\",\\\"showbackground\\\":true,\\\"zerolinecolor\\\":\\\"white\\\",\\\"linecolor\\\":\\\"white\\\"}},\\\"colorway\\\":[\\\"#636efa\\\",\\\"#EF553B\\\",\\\"#00cc96\\\",\\\"#ab63fa\\\",\\\"#FFA15A\\\",\\\"#19d3f3\\\",\\\"#FF6692\\\",\\\"#B6E880\\\",\\\"#FF97FF\\\",\\\"#FECB52\\\"]},\\\"data\\\":{\\\"barpolar\\\":[{\\\"type\\\":\\\"barpolar\\\",\\\"marker\\\":{\\\"line\\\":{\\\"color\\\":\\\"#E5ECF6\\\",\\\"width\\\":0.5}}}],\\\"carpet\\\":[{\\\"aaxis\\\":{\\\"gridcolor\\\":\\\"white\\\",\\\"endlinecolor\\\":\\\"#2a3f5f\\\",\\\"minorgridcolor\\\":\\\"white\\\",\\\"startlinecolor\\\":\\\"#2a3f5f\\\",\\\"linecolor\\\":\\\"white\\\"},\\\"type\\\":\\\"carpet\\\",\\\"baxis\\\":{\\\"gridcolor\\\":\\\"white\\\",\\\"endlinecolor\\\":\\\"#2a3f5f\\\",\\\"minorgridcolor\\\":\\\"white\\\",\\\"startlinecolor\\\":\\\"#2a3f5f\\\",\\\"linecolor\\\":\\\"white\\\"}}],\\\"scatterpolar\\\":[{\\\"type\\\":\\\"scatterpolar\\\",\\\"marker\\\":{\\\"colorbar\\\":{\\\"ticks\\\":\\\"\\\",\\\"outlinewidth\\\":0}}}],\\\"parcoords\\\":[{\\\"line\\\":{\\\"colorbar\\\":{\\\"ticks\\\":\\\"\\\",\\\"outlinewidth\\\":0}},\\\"type\\\":\\\"parcoords\\\"}],\\\"scatter\\\":[{\\\"type\\\":\\\"scatter\\\",\\\"marker\\\":{\\\"colorbar\\\":{\\\"ticks\\\":\\\"\\\",\\\"outlinewidth\\\":0}}}],\\\"histogram2dcontour\\\":[{\\\"colorbar\\\":{\\\"ticks\\\":\\\"\\\",\\\"outlinewidth\\\":0},\\\"type\\\":\\\"histogram2dcontour\\\",\\\"colorscale\\\":[[0.0,\\\"#0d0887\\\"],[0.1111111111111111,\\\"#46039f\\\"],[0.2222222222222222,\\\"#7201a8\\\"],[0.3333333333333333,\\\"#9c179e\\\"],[0.4444444444444444,\\\"#bd3786\\\"],[0.5555555555555556,\\\"#d8576b\\\"],[0.6666666666666666,\\\"#ed7953\\\"],[0.7777777777777778,\\\"#fb9f3a\\\"],[0.8888888888888888,\\\"#fdca26\\\"],[1.0,\\\"#f0f921\\\"]]}],\\\"contour\\\":[{\\\"colorbar\\\":{\\\"ticks\\\":\\\"\\\",\\\"outlinewidth\\\":0},\\\"type\\\":\\\"contour\\\",\\\"colorscale\\\":[[0.0,\\\"#0d0887\\\"],[0.1111111111111111,\\\"#46039f\\\"],[0.2222222222222222,\\\"#7201a8\\\"],[0.3333333333333333,\\\"#9c179e\\\"],[0.4444444444444444,\\\"#bd3786\\\"],[0.5555555555555556,\\\"#d8576b\\\"],[0.6666666666666666,\\\"#ed7953\\\"],[0.7777777777777778,\\\"#fb9f3a\\\"],[0.8888888888888888,\\\"#fdca26\\\"],[1.0,\\\"#f0f921\\\"]]}],\\\"scattercarpet\\\":[{\\\"type\\\":\\\"scattercarpet\\\",\\\"marker\\\":{\\\"colorbar\\\":{\\\"ticks\\\":\\\"\\\",\\\"outlinewidth\\\":0}}}],\\\"mesh3d\\\":[{\\\"colorbar\\\":{\\\"ticks\\\":\\\"\\\",\\\"outlinewidth\\\":0},\\\"type\\\":\\\"mesh3d\\\"}],\\\"surface\\\":[{\\\"colorbar\\\":{\\\"ticks\\\":\\\"\\\",\\\"outlinewidth\\\":0},\\\"type\\\":\\\"surface\\\",\\\"colorscale\\\":[[0.0,\\\"#0d0887\\\"],[0.1111111111111111,\\\"#46039f\\\"],[0.2222222222222222,\\\"#7201a8\\\"],[0.3333333333333333,\\\"#9c179e\\\"],[0.4444444444444444,\\\"#bd3786\\\"],[0.5555555555555556,\\\"#d8576b\\\"],[0.6666666666666666,\\\"#ed7953\\\"],[0.7777777777777778,\\\"#fb9f3a\\\"],[0.8888888888888888,\\\"#fdca26\\\"],[1.0,\\\"#f0f921\\\"]]}],\\\"scattermapbox\\\":[{\\\"type\\\":\\\"scattermapbox\\\",\\\"marker\\\":{\\\"colorbar\\\":{\\\"ticks\\\":\\\"\\\",\\\"outlinewidth\\\":0}}}],\\\"scattergeo\\\":[{\\\"type\\\":\\\"scattergeo\\\",\\\"marker\\\":{\\\"colorbar\\\":{\\\"ticks\\\":\\\"\\\",\\\"outlinewidth\\\":0}}}],\\\"histogram\\\":[{\\\"type\\\":\\\"histogram\\\",\\\"marker\\\":{\\\"colorbar\\\":{\\\"ticks\\\":\\\"\\\",\\\"outlinewidth\\\":0}}}],\\\"pie\\\":[{\\\"type\\\":\\\"pie\\\",\\\"automargin\\\":true}],\\\"choropleth\\\":[{\\\"colorbar\\\":{\\\"ticks\\\":\\\"\\\",\\\"outlinewidth\\\":0},\\\"type\\\":\\\"choropleth\\\"}],\\\"heatmapgl\\\":[{\\\"colorbar\\\":{\\\"ticks\\\":\\\"\\\",\\\"outlinewidth\\\":0},\\\"type\\\":\\\"heatmapgl\\\",\\\"colorscale\\\":[[0.0,\\\"#0d0887\\\"],[0.1111111111111111,\\\"#46039f\\\"],[0.2222222222222222,\\\"#7201a8\\\"],[0.3333333333333333,\\\"#9c179e\\\"],[0.4444444444444444,\\\"#bd3786\\\"],[0.5555555555555556,\\\"#d8576b\\\"],[0.6666666666666666,\\\"#ed7953\\\"],[0.7777777777777778,\\\"#fb9f3a\\\"],[0.8888888888888888,\\\"#fdca26\\\"],[1.0,\\\"#f0f921\\\"]]}],\\\"bar\\\":[{\\\"type\\\":\\\"bar\\\",\\\"error_y\\\":{\\\"color\\\":\\\"#2a3f5f\\\"},\\\"error_x\\\":{\\\"color\\\":\\\"#2a3f5f\\\"},\\\"marker\\\":{\\\"line\\\":{\\\"color\\\":\\\"#E5ECF6\\\",\\\"width\\\":0.5}}}],\\\"heatmap\\\":[{\\\"colorbar\\\":{\\\"ticks\\\":\\\"\\\",\\\"outlinewidth\\\":0},\\\"type\\\":\\\"heatmap\\\",\\\"colorscale\\\":[[0.0,\\\"#0d0887\\\"],[0.1111111111111111,\\\"#46039f\\\"],[0.2222222222222222,\\\"#7201a8\\\"],[0.3333333333333333,\\\"#9c179e\\\"],[0.4444444444444444,\\\"#bd3786\\\"],[0.5555555555555556,\\\"#d8576b\\\"],[0.6666666666666666,\\\"#ed7953\\\"],[0.7777777777777778,\\\"#fb9f3a\\\"],[0.8888888888888888,\\\"#fdca26\\\"],[1.0,\\\"#f0f921\\\"]]}],\\\"contourcarpet\\\":[{\\\"colorbar\\\":{\\\"ticks\\\":\\\"\\\",\\\"outlinewidth\\\":0},\\\"type\\\":\\\"contourcarpet\\\"}],\\\"table\\\":[{\\\"type\\\":\\\"table\\\",\\\"header\\\":{\\\"line\\\":{\\\"color\\\":\\\"white\\\"},\\\"fill\\\":{\\\"color\\\":\\\"#C8D4E3\\\"}},\\\"cells\\\":{\\\"line\\\":{\\\"color\\\":\\\"white\\\"},\\\"fill\\\":{\\\"color\\\":\\\"#EBF0F8\\\"}}}],\\\"scatter3d\\\":[{\\\"line\\\":{\\\"colorbar\\\":{\\\"ticks\\\":\\\"\\\",\\\"outlinewidth\\\":0}},\\\"type\\\":\\\"scatter3d\\\",\\\"marker\\\":{\\\"colorbar\\\":{\\\"ticks\\\":\\\"\\\",\\\"outlinewidth\\\":0}}}],\\\"scattergl\\\":[{\\\"type\\\":\\\"scattergl\\\",\\\"marker\\\":{\\\"colorbar\\\":{\\\"ticks\\\":\\\"\\\",\\\"outlinewidth\\\":0}}}],\\\"histogram2d\\\":[{\\\"colorbar\\\":{\\\"ticks\\\":\\\"\\\",\\\"outlinewidth\\\":0},\\\"type\\\":\\\"histogram2d\\\",\\\"colorscale\\\":[[0.0,\\\"#0d0887\\\"],[0.1111111111111111,\\\"#46039f\\\"],[0.2222222222222222,\\\"#7201a8\\\"],[0.3333333333333333,\\\"#9c179e\\\"],[0.4444444444444444,\\\"#bd3786\\\"],[0.5555555555555556,\\\"#d8576b\\\"],[0.6666666666666666,\\\"#ed7953\\\"],[0.7777777777777778,\\\"#fb9f3a\\\"],[0.8888888888888888,\\\"#fdca26\\\"],[1.0,\\\"#f0f921\\\"]]}],\\\"scatterternary\\\":[{\\\"type\\\":\\\"scatterternary\\\",\\\"marker\\\":{\\\"colorbar\\\":{\\\"ticks\\\":\\\"\\\",\\\"outlinewidth\\\":0}}}],\\\"scatterpolargl\\\":[{\\\"type\\\":\\\"scatterpolargl\\\",\\\"marker\\\":{\\\"colorbar\\\":{\\\"ticks\\\":\\\"\\\",\\\"outlinewidth\\\":0}}}]}},\\\"legend\\\":{\\\"tracegroupgap\\\":0},\\\"margin\\\":{\\\"l\\\":50,\\\"b\\\":50,\\\"r\\\":50,\\\"t\\\":60},\\\"title\\\":\\\"Optimized Neutron Cross Sections\\\"},{\\\"showLink\\\":false,\\\"editable\\\":false,\\\"responsive\\\":true,\\\"staticPlot\\\":false,\\\"scrollZoom\\\":true}); gd.on(\\\"plotly_hover\\\",(function (data){var filtered_data=WebIO.PlotlyCommands.filterEventData(gd,data,\\\"hover\\\"); return !(filtered_data.isnil) ? (WebIO.setval({\\\"name\\\":\\\"hover\\\",\\\"scope\\\":\\\"14320088290785172902\\\",\\\"id\\\":\\\"14881033214077870281\\\",\\\"type\\\":\\\"observable\\\"},filtered_data.out)) : undefined})); gd.on(\\\"plotly_unhover\\\",(function (){return WebIO.setval({\\\"name\\\":\\\"hover\\\",\\\"scope\\\":\\\"14320088290785172902\\\",\\\"id\\\":\\\"14881033214077870281\\\",\\\"type\\\":\\\"observable\\\"},{})})); gd.on(\\\"plotly_selected\\\",(function (data){var filtered_data=WebIO.PlotlyCommands.filterEventData(gd,data,\\\"selected\\\"); return !(filtered_data.isnil) ? (WebIO.setval({\\\"name\\\":\\\"selected\\\",\\\"scope\\\":\\\"14320088290785172902\\\",\\\"id\\\":\\\"12211553541920053593\\\",\\\"type\\\":\\\"observable\\\"},filtered_data.out)) : undefined})); gd.on(\\\"plotly_deselect\\\",(function (){return WebIO.setval({\\\"name\\\":\\\"selected\\\",\\\"scope\\\":\\\"14320088290785172902\\\",\\\"id\\\":\\\"12211553541920053593\\\",\\\"type\\\":\\\"observable\\\"},{})})); gd.on(\\\"plotly_relayout\\\",(function (data){var filtered_data=WebIO.PlotlyCommands.filterEventData(gd,data,\\\"relayout\\\"); return !(filtered_data.isnil) ? (WebIO.setval({\\\"name\\\":\\\"relayout\\\",\\\"scope\\\":\\\"14320088290785172902\\\",\\\"id\\\":\\\"2025090235868884739\\\",\\\"type\\\":\\\"observable\\\"},filtered_data.out)) : undefined})); return gd.on(\\\"plotly_click\\\",(function (data){var filtered_data=WebIO.PlotlyCommands.filterEventData(gd,data,\\\"click\\\"); return !(filtered_data.isnil) ? (WebIO.setval({\\\"name\\\":\\\"click\\\",\\\"scope\\\":\\\"14320088290785172902\\\",\\\"id\\\":\\\"4451027983576661589\\\",\\\"type\\\":\\\"observable\\\"},filtered_data.out)) : undefined}))}));\\n    (WebIO.importBlock({\\\"data\\\":[{\\\"name\\\":\\\"Plotly\\\",\\\"type\\\":\\\"js\\\",\\\"url\\\":\\\"\\/assetserver\\/974bc88f8fa21ff4c3cbd84b6afff90488058aa7-plotly.min.js\\\"},{\\\"name\\\":null,\\\"type\\\":\\\"js\\\",\\\"url\\\":\\\"\\/assetserver\\/64d87b978f97348bc0d43ca0daa59975ea5d4c91-plotly_webio.bundle.js\\\"}],\\\"type\\\":\\\"async_block\\\"})).then((imports) => handler.apply(this, imports));\\n}\\n\"],\"observables\":{\"_toImage\":{\"sync\":false,\"id\":\"18170453830443166383\",\"value\":{}},\"hover\":{\"sync\":false,\"id\":\"14881033214077870281\",\"value\":{}},\"selected\":{\"sync\":false,\"id\":\"12211553541920053593\",\"value\":{}},\"__gd_contents\":{\"sync\":false,\"id\":\"9447711471130154745\",\"value\":{}},\"click\":{\"sync\":false,\"id\":\"4451027983576661589\",\"value\":{}},\"image\":{\"sync\":true,\"id\":\"9327709144226195511\",\"value\":\"\"},\"__get_gd_contents\":{\"sync\":false,\"id\":\"5502363844151294927\",\"value\":\"\"},\"_downloadImage\":{\"sync\":false,\"id\":\"7012879355101844076\",\"value\":{}},\"relayout\":{\"sync\":false,\"id\":\"2025090235868884739\",\"value\":{}},\"_commands\":{\"sync\":false,\"id\":\"2138315931157804206\",\"value\":[]}}},\"children\":[{\"props\":{\"id\":\"plot-2d8d029f-b89c-440a-ad42-9c6d53a72589\"},\"nodeType\":\"DOM\",\"type\":\"node\",\"instanceArgs\":{\"namespace\":\"html\",\"tag\":\"div\"},\"children\":[]}]},\n",
              "        window,\n",
              "    );\n",
              "    })()\n",
              "    </script>\n",
              "</div>\n"
            ],
            "text/plain": [
              "data: [\n",
              "  \"scatter with fields mode, text, type, x, xaxis, y, and yaxis\"\n",
              "]\n",
              "\n",
              "layout: \"layout with fields legend, margin, template, and title\"\n",
              "\n"
            ]
          },
          "metadata": {},
          "output_type": "display_data"
        }
      ],
      "source": [
        "PlotlyJS.plot(neutron_df, x=:\"Energy (ev)\", y=:\"Cross Section (b)\", \n",
        "    mode=\"markers\", text=:\"Target\",\n",
        "    Layout(title=\"Optimized Neutron Cross Sections\"),\n",
        "    xaxis=:log, yaxis=:log)"
      ]
    },
    {
      "cell_type": "code",
      "execution_count": 5,
      "metadata": {},
      "outputs": [
        {
          "name": "stdout",
          "output_type": "stream",
          "text": [
            "n_026-Fe-061.dat not in directory"
          ]
        }
      ],
      "source": [
        "file_names = readdir(neutron_dir)\n",
        "file = file_names[1]\n",
        "function get_product(file)\n",
        "    target_n = parse(Int64, file[3:5])\n",
        "    element, target_z = split(file[7:end-4], \"-\")\n",
        "    projectile = file[1]\n",
        "    if(string(projectile) == \"n\") #neutron addition\n",
        "        product_n = target_n\n",
        "        product_z = parse(Int64, target_z)+1\n",
        "        product_file = (String(\"n_\") * lpad(product_n, 3, \"0\") * String(\"-\") * \n",
        "                        String(element) * String(\"-\") * lpad(product_z, 3, \"0\") * String(\".dat\"))\n",
        "    end\n",
        "    return product_file\n",
        "end\n",
        "file = file_names[100]\n",
        "while true\n",
        "    file = get_product(file)\n",
        "    if !(file in file_names)\n",
        "        print(file, \" not in directory\")\n",
        "        break \n",
        "    end\n",
        "end"
      ]
    },
    {
      "cell_type": "code",
      "execution_count": 176,
      "metadata": {},
      "outputs": [
        {
          "name": "stdout",
          "output_type": "stream",
          "text": [
            "For output = (Z*n*ρ*σ) / E       (unitless)"
          ]
        },
        {
          "data": {
            "text/plain": [
              "\u001b[32m\u001b[1mTest Passed\u001b[22m\u001b[39m\n",
              "  Expression: reaction_figure_of_merit(ρ * u\"J/g\", Z * u\"g\", n * u\"cm\" ^ -2, σ * u\"cm\" ^ 2, E * u\"J\") - output == 0\n",
              "   Evaluated: 0 == 0"
            ]
          },
          "metadata": {},
          "output_type": "display_data"
        }
      ],
      "source": [
        "function reaction_figure_of_merit(energy_density, mass_number, target_nuclei_per_area, sigma, \n",
        "incident_particle_energy)\n",
        "    #For the product, we take the mass number to be equal to the molar mass\n",
        "    figure_of_merit = (energy_density * mass_number * \n",
        "        target_nuclei_per_area * sigma) / incident_particle_energy\n",
        "    return uconvert(Unitful.NoUnits, figure_of_merit) \n",
        "end\n",
        "\n",
        "ρ, Z, n, σ, E = @variables ρ, Z, n, σ, E\n",
        "output = ρ * Z * n * σ / E\n",
        "print(\"For output = \", output, \"       (unitless)\")\n",
        "Test.@test reaction_figure_of_merit(ρ * @u_str(\"J/g\"), Z * @u_str(\"g\"), \n",
        "    n * (@u_str(\"cm\")^-2), σ * @u_str(\"cm\")^2, E * @u_str(\"J\")) - output == 0"
      ]
    },
    {
      "cell_type": "code",
      "execution_count": 24,
      "metadata": {},
      "outputs": [
        {
          "data": {
            "application/vnd.plotly.v1+json": {
              "config": {
                "plotlyServerURL": "https://plot.ly"
              },
              "data": [
                {
                  "hovertemplate": "Photon energy [eV]=%{x}<br>Cross-section [barn]=%{y}<extra></extra>",
                  "legendgroup": "",
                  "marker": {
                    "color": "#636efa",
                    "symbol": "circle"
                  },
                  "mode": "markers",
                  "name": "",
                  "orientation": "v",
                  "showlegend": false,
                  "type": "scatter",
                  "x": [
                    0.00001,
                    0.00002,
                    0.00005,
                    0.0001,
                    0.0002,
                    0.0005,
                    0.001,
                    0.002,
                    0.005,
                    0.01,
                    0.0253,
                    0.1,
                    0.2,
                    0.5,
                    1,
                    2,
                    5,
                    10,
                    20,
                    50,
                    100,
                    200,
                    500,
                    1000,
                    2000,
                    3000,
                    4000,
                    5000,
                    6000,
                    7000,
                    8000,
                    9000,
                    10000,
                    12000,
                    14000,
                    16000,
                    18000,
                    20000,
                    22000,
                    24000,
                    26000,
                    28000,
                    30000,
                    35000,
                    40000,
                    45000,
                    50000,
                    55000,
                    60000,
                    65000,
                    70000,
                    75000,
                    80000,
                    85000,
                    90000,
                    95000,
                    100000,
                    110000,
                    120000,
                    130000,
                    140000,
                    150000,
                    160000,
                    170000,
                    180000,
                    190000,
                    200000,
                    220000,
                    240000,
                    260000,
                    280000,
                    300000,
                    320000,
                    340000,
                    360000,
                    380000,
                    400000,
                    420000,
                    440000,
                    460000,
                    480000,
                    500000,
                    550000,
                    600000,
                    650000,
                    700000,
                    750000,
                    800000,
                    850000,
                    900000,
                    950000,
                    1000000,
                    1100000,
                    1200000,
                    1300000,
                    1400000,
                    1500000,
                    1600000,
                    1700000,
                    1800000,
                    1900000,
                    2000000,
                    2200000,
                    2400000,
                    2600000,
                    2800000,
                    3000000,
                    3200000,
                    3400000,
                    3600000,
                    3800000,
                    4000000,
                    4200000,
                    4400000,
                    4600000,
                    4800000,
                    5000000,
                    5200000,
                    5400000,
                    5600000,
                    5800000,
                    6000000,
                    6200000,
                    6400000,
                    6600000,
                    6800000,
                    7000000,
                    7500000,
                    8000000,
                    8500000,
                    9000000,
                    9500000,
                    10000000,
                    10500000,
                    11000000,
                    11500000,
                    12000000,
                    12500000,
                    13000000,
                    13500000,
                    14000000,
                    14500000,
                    15000000,
                    15500000,
                    16000000,
                    16500000,
                    17000000,
                    17500000,
                    18000000,
                    18500000,
                    19000000,
                    19500000,
                    20000000,
                    20000000,
                    21000000,
                    22000000,
                    23000000,
                    24000000,
                    25000000,
                    26000000,
                    27000000,
                    28000000,
                    29000000,
                    30000000,
                    32000000,
                    34000000,
                    36000000,
                    38000000,
                    40000000,
                    42000000,
                    44000000,
                    46000000,
                    48000000,
                    50000000,
                    52000000,
                    54000000,
                    56000000,
                    58000000,
                    60000000,
                    62000000,
                    64000000,
                    66000000,
                    68000000,
                    70000000,
                    72000000,
                    74000000,
                    76000000,
                    78000000,
                    80000000,
                    82000000,
                    84000000,
                    86000000,
                    88000000,
                    90000000,
                    92000000,
                    94000000,
                    96000000,
                    98000000,
                    100000000,
                    110000000,
                    120000000,
                    130000000,
                    140000000,
                    150000000,
                    160000000,
                    180000000,
                    200000000
                  ],
                  "xaxis": "x",
                  "y": [
                    37.16477,
                    32.26505,
                    27.91738,
                    25.72616,
                    24.17673,
                    22.80187,
                    22.10895,
                    21.61898,
                    21.18421,
                    20.96509,
                    20.76866,
                    20.60335,
                    20.55434,
                    20.51083,
                    20.48885,
                    20.47322,
                    20.45906,
                    20.45146,
                    20.44521,
                    20.43683,
                    20.42791,
                    20.41293,
                    20.37138,
                    20.30414,
                    20.17204,
                    20.04215,
                    19.91424,
                    19.78823,
                    19.66405,
                    19.54166,
                    19.42101,
                    19.30207,
                    19.18479,
                    18.9551,
                    18.73167,
                    18.51423,
                    18.30255,
                    18.0964,
                    17.89556,
                    17.69984,
                    17.50902,
                    17.32294,
                    17.14141,
                    16.70645,
                    16.29656,
                    15.9096,
                    15.54371,
                    15.19718,
                    14.86851,
                    14.55635,
                    14.25946,
                    13.97675,
                    13.70721,
                    13.44993,
                    13.2041,
                    12.96894,
                    12.74378,
                    12.32097,
                    11.9312,
                    11.5707,
                    11.23625,
                    10.92508,
                    10.63481,
                    10.36336,
                    10.10893,
                    9.869935,
                    9.644989,
                    9.232457,
                    8.863064,
                    8.530225,
                    8.228636,
                    7.953971,
                    7.70267,
                    7.471777,
                    7.258815,
                    7.061693,
                    6.878637,
                    6.708125,
                    6.548852,
                    6.399688,
                    6.259648,
                    6.127875,
                    5.829882,
                    5.569515,
                    5.339645,
                    5.13485,
                    4.950937,
                    4.784609,
                    4.633238,
                    4.494702,
                    4.367271,
                    4.249519,
                    4.038494,
                    3.854211,
                    3.691309,
                    3.54581,
                    3.414699,
                    3.295645,
                    3.186817,
                    3.086754,
                    2.994275,
                    2.908414,
                    2.753484,
                    2.617003,
                    2.495402,
                    2.386035,
                    2.286895,
                    2.196421,
                    2.113381,
                    2.036785,
                    1.965823,
                    1.899828,
                    1.838244,
                    1.780601,
                    1.726497,
                    1.67559,
                    1.627582,
                    1.582216,
                    1.539263,
                    1.498525,
                    1.459826,
                    1.423007,
                    1.387929,
                    1.354466,
                    1.322504,
                    1.291942,
                    1.262686,
                    1.194725,
                    1.13329,
                    1.077473,
                    1.026529,
                    0.9798437,
                    0.9369061,
                    0.8972839,
                    0.8606105,
                    0.8265722,
                    0.7948987,
                    0.7653557,
                    0.7377393,
                    0.7118704,
                    0.6875919,
                    0.6647646,
                    0.6432651,
                    0.6229834,
                    0.6038214,
                    0.5856907,
                    0.5685123,
                    0.5522144,
                    0.5367326,
                    0.522008,
                    0.5079874,
                    0.4946221,
                    0.4818679,
                    0.480126,
                    0.454814,
                    0.433144,
                    0.414504,
                    0.39696,
                    0.380408,
                    0.364802,
                    0.350093,
                    0.336235,
                    0.32318,
                    0.310882,
                    0.288368,
                    0.268314,
                    0.250344,
                    0.234101,
                    0.2195,
                    0.206435,
                    0.194763,
                    0.184336,
                    0.175008,
                    0.166635,
                    0.159068,
                    0.152163,
                    0.145773,
                    0.13979,
                    0.134184,
                    0.128938,
                    0.124035,
                    0.119456,
                    0.115185,
                    0.111203,
                    0.107494,
                    0.104038,
                    0.100819,
                    0.0978196,
                    0.0950211,
                    0.0924065,
                    0.089958,
                    0.0876579,
                    0.0854887,
                    0.0834327,
                    0.0814724,
                    0.0795906,
                    0.0777877,
                    0.0760661,
                    0.0744232,
                    0.0675099,
                    0.0617608,
                    0.0576882,
                    0.0541574,
                    0.0514657,
                    0.049069,
                    0.0450731,
                    0.0420456
                  ],
                  "yaxis": "y"
                }
              ],
              "layout": {
                "legend": {
                  "tracegroupgap": 0
                },
                "margin": {
                  "t": 60
                },
                "template": {
                  "data": {
                    "bar": [
                      {
                        "error_x": {
                          "color": "#2a3f5f"
                        },
                        "error_y": {
                          "color": "#2a3f5f"
                        },
                        "marker": {
                          "line": {
                            "color": "#E5ECF6",
                            "width": 0.5
                          },
                          "pattern": {
                            "fillmode": "overlay",
                            "size": 10,
                            "solidity": 0.2
                          }
                        },
                        "type": "bar"
                      }
                    ],
                    "barpolar": [
                      {
                        "marker": {
                          "line": {
                            "color": "#E5ECF6",
                            "width": 0.5
                          },
                          "pattern": {
                            "fillmode": "overlay",
                            "size": 10,
                            "solidity": 0.2
                          }
                        },
                        "type": "barpolar"
                      }
                    ],
                    "carpet": [
                      {
                        "aaxis": {
                          "endlinecolor": "#2a3f5f",
                          "gridcolor": "white",
                          "linecolor": "white",
                          "minorgridcolor": "white",
                          "startlinecolor": "#2a3f5f"
                        },
                        "baxis": {
                          "endlinecolor": "#2a3f5f",
                          "gridcolor": "white",
                          "linecolor": "white",
                          "minorgridcolor": "white",
                          "startlinecolor": "#2a3f5f"
                        },
                        "type": "carpet"
                      }
                    ],
                    "choropleth": [
                      {
                        "colorbar": {
                          "outlinewidth": 0,
                          "ticks": ""
                        },
                        "type": "choropleth"
                      }
                    ],
                    "contour": [
                      {
                        "colorbar": {
                          "outlinewidth": 0,
                          "ticks": ""
                        },
                        "colorscale": [
                          [
                            0,
                            "#0d0887"
                          ],
                          [
                            0.1111111111111111,
                            "#46039f"
                          ],
                          [
                            0.2222222222222222,
                            "#7201a8"
                          ],
                          [
                            0.3333333333333333,
                            "#9c179e"
                          ],
                          [
                            0.4444444444444444,
                            "#bd3786"
                          ],
                          [
                            0.5555555555555556,
                            "#d8576b"
                          ],
                          [
                            0.6666666666666666,
                            "#ed7953"
                          ],
                          [
                            0.7777777777777778,
                            "#fb9f3a"
                          ],
                          [
                            0.8888888888888888,
                            "#fdca26"
                          ],
                          [
                            1,
                            "#f0f921"
                          ]
                        ],
                        "type": "contour"
                      }
                    ],
                    "contourcarpet": [
                      {
                        "colorbar": {
                          "outlinewidth": 0,
                          "ticks": ""
                        },
                        "type": "contourcarpet"
                      }
                    ],
                    "heatmap": [
                      {
                        "colorbar": {
                          "outlinewidth": 0,
                          "ticks": ""
                        },
                        "colorscale": [
                          [
                            0,
                            "#0d0887"
                          ],
                          [
                            0.1111111111111111,
                            "#46039f"
                          ],
                          [
                            0.2222222222222222,
                            "#7201a8"
                          ],
                          [
                            0.3333333333333333,
                            "#9c179e"
                          ],
                          [
                            0.4444444444444444,
                            "#bd3786"
                          ],
                          [
                            0.5555555555555556,
                            "#d8576b"
                          ],
                          [
                            0.6666666666666666,
                            "#ed7953"
                          ],
                          [
                            0.7777777777777778,
                            "#fb9f3a"
                          ],
                          [
                            0.8888888888888888,
                            "#fdca26"
                          ],
                          [
                            1,
                            "#f0f921"
                          ]
                        ],
                        "type": "heatmap"
                      }
                    ],
                    "heatmapgl": [
                      {
                        "colorbar": {
                          "outlinewidth": 0,
                          "ticks": ""
                        },
                        "colorscale": [
                          [
                            0,
                            "#0d0887"
                          ],
                          [
                            0.1111111111111111,
                            "#46039f"
                          ],
                          [
                            0.2222222222222222,
                            "#7201a8"
                          ],
                          [
                            0.3333333333333333,
                            "#9c179e"
                          ],
                          [
                            0.4444444444444444,
                            "#bd3786"
                          ],
                          [
                            0.5555555555555556,
                            "#d8576b"
                          ],
                          [
                            0.6666666666666666,
                            "#ed7953"
                          ],
                          [
                            0.7777777777777778,
                            "#fb9f3a"
                          ],
                          [
                            0.8888888888888888,
                            "#fdca26"
                          ],
                          [
                            1,
                            "#f0f921"
                          ]
                        ],
                        "type": "heatmapgl"
                      }
                    ],
                    "histogram": [
                      {
                        "marker": {
                          "pattern": {
                            "fillmode": "overlay",
                            "size": 10,
                            "solidity": 0.2
                          }
                        },
                        "type": "histogram"
                      }
                    ],
                    "histogram2d": [
                      {
                        "colorbar": {
                          "outlinewidth": 0,
                          "ticks": ""
                        },
                        "colorscale": [
                          [
                            0,
                            "#0d0887"
                          ],
                          [
                            0.1111111111111111,
                            "#46039f"
                          ],
                          [
                            0.2222222222222222,
                            "#7201a8"
                          ],
                          [
                            0.3333333333333333,
                            "#9c179e"
                          ],
                          [
                            0.4444444444444444,
                            "#bd3786"
                          ],
                          [
                            0.5555555555555556,
                            "#d8576b"
                          ],
                          [
                            0.6666666666666666,
                            "#ed7953"
                          ],
                          [
                            0.7777777777777778,
                            "#fb9f3a"
                          ],
                          [
                            0.8888888888888888,
                            "#fdca26"
                          ],
                          [
                            1,
                            "#f0f921"
                          ]
                        ],
                        "type": "histogram2d"
                      }
                    ],
                    "histogram2dcontour": [
                      {
                        "colorbar": {
                          "outlinewidth": 0,
                          "ticks": ""
                        },
                        "colorscale": [
                          [
                            0,
                            "#0d0887"
                          ],
                          [
                            0.1111111111111111,
                            "#46039f"
                          ],
                          [
                            0.2222222222222222,
                            "#7201a8"
                          ],
                          [
                            0.3333333333333333,
                            "#9c179e"
                          ],
                          [
                            0.4444444444444444,
                            "#bd3786"
                          ],
                          [
                            0.5555555555555556,
                            "#d8576b"
                          ],
                          [
                            0.6666666666666666,
                            "#ed7953"
                          ],
                          [
                            0.7777777777777778,
                            "#fb9f3a"
                          ],
                          [
                            0.8888888888888888,
                            "#fdca26"
                          ],
                          [
                            1,
                            "#f0f921"
                          ]
                        ],
                        "type": "histogram2dcontour"
                      }
                    ],
                    "mesh3d": [
                      {
                        "colorbar": {
                          "outlinewidth": 0,
                          "ticks": ""
                        },
                        "type": "mesh3d"
                      }
                    ],
                    "parcoords": [
                      {
                        "line": {
                          "colorbar": {
                            "outlinewidth": 0,
                            "ticks": ""
                          }
                        },
                        "type": "parcoords"
                      }
                    ],
                    "pie": [
                      {
                        "automargin": true,
                        "type": "pie"
                      }
                    ],
                    "scatter": [
                      {
                        "marker": {
                          "colorbar": {
                            "outlinewidth": 0,
                            "ticks": ""
                          }
                        },
                        "type": "scatter"
                      }
                    ],
                    "scatter3d": [
                      {
                        "line": {
                          "colorbar": {
                            "outlinewidth": 0,
                            "ticks": ""
                          }
                        },
                        "marker": {
                          "colorbar": {
                            "outlinewidth": 0,
                            "ticks": ""
                          }
                        },
                        "type": "scatter3d"
                      }
                    ],
                    "scattercarpet": [
                      {
                        "marker": {
                          "colorbar": {
                            "outlinewidth": 0,
                            "ticks": ""
                          }
                        },
                        "type": "scattercarpet"
                      }
                    ],
                    "scattergeo": [
                      {
                        "marker": {
                          "colorbar": {
                            "outlinewidth": 0,
                            "ticks": ""
                          }
                        },
                        "type": "scattergeo"
                      }
                    ],
                    "scattergl": [
                      {
                        "marker": {
                          "colorbar": {
                            "outlinewidth": 0,
                            "ticks": ""
                          }
                        },
                        "type": "scattergl"
                      }
                    ],
                    "scattermapbox": [
                      {
                        "marker": {
                          "colorbar": {
                            "outlinewidth": 0,
                            "ticks": ""
                          }
                        },
                        "type": "scattermapbox"
                      }
                    ],
                    "scatterpolar": [
                      {
                        "marker": {
                          "colorbar": {
                            "outlinewidth": 0,
                            "ticks": ""
                          }
                        },
                        "type": "scatterpolar"
                      }
                    ],
                    "scatterpolargl": [
                      {
                        "marker": {
                          "colorbar": {
                            "outlinewidth": 0,
                            "ticks": ""
                          }
                        },
                        "type": "scatterpolargl"
                      }
                    ],
                    "scatterternary": [
                      {
                        "marker": {
                          "colorbar": {
                            "outlinewidth": 0,
                            "ticks": ""
                          }
                        },
                        "type": "scatterternary"
                      }
                    ],
                    "surface": [
                      {
                        "colorbar": {
                          "outlinewidth": 0,
                          "ticks": ""
                        },
                        "colorscale": [
                          [
                            0,
                            "#0d0887"
                          ],
                          [
                            0.1111111111111111,
                            "#46039f"
                          ],
                          [
                            0.2222222222222222,
                            "#7201a8"
                          ],
                          [
                            0.3333333333333333,
                            "#9c179e"
                          ],
                          [
                            0.4444444444444444,
                            "#bd3786"
                          ],
                          [
                            0.5555555555555556,
                            "#d8576b"
                          ],
                          [
                            0.6666666666666666,
                            "#ed7953"
                          ],
                          [
                            0.7777777777777778,
                            "#fb9f3a"
                          ],
                          [
                            0.8888888888888888,
                            "#fdca26"
                          ],
                          [
                            1,
                            "#f0f921"
                          ]
                        ],
                        "type": "surface"
                      }
                    ],
                    "table": [
                      {
                        "cells": {
                          "fill": {
                            "color": "#EBF0F8"
                          },
                          "line": {
                            "color": "white"
                          }
                        },
                        "header": {
                          "fill": {
                            "color": "#C8D4E3"
                          },
                          "line": {
                            "color": "white"
                          }
                        },
                        "type": "table"
                      }
                    ]
                  },
                  "layout": {
                    "annotationdefaults": {
                      "arrowcolor": "#2a3f5f",
                      "arrowhead": 0,
                      "arrowwidth": 1
                    },
                    "autotypenumbers": "strict",
                    "coloraxis": {
                      "colorbar": {
                        "outlinewidth": 0,
                        "ticks": ""
                      }
                    },
                    "colorscale": {
                      "diverging": [
                        [
                          0,
                          "#8e0152"
                        ],
                        [
                          0.1,
                          "#c51b7d"
                        ],
                        [
                          0.2,
                          "#de77ae"
                        ],
                        [
                          0.3,
                          "#f1b6da"
                        ],
                        [
                          0.4,
                          "#fde0ef"
                        ],
                        [
                          0.5,
                          "#f7f7f7"
                        ],
                        [
                          0.6,
                          "#e6f5d0"
                        ],
                        [
                          0.7,
                          "#b8e186"
                        ],
                        [
                          0.8,
                          "#7fbc41"
                        ],
                        [
                          0.9,
                          "#4d9221"
                        ],
                        [
                          1,
                          "#276419"
                        ]
                      ],
                      "sequential": [
                        [
                          0,
                          "#0d0887"
                        ],
                        [
                          0.1111111111111111,
                          "#46039f"
                        ],
                        [
                          0.2222222222222222,
                          "#7201a8"
                        ],
                        [
                          0.3333333333333333,
                          "#9c179e"
                        ],
                        [
                          0.4444444444444444,
                          "#bd3786"
                        ],
                        [
                          0.5555555555555556,
                          "#d8576b"
                        ],
                        [
                          0.6666666666666666,
                          "#ed7953"
                        ],
                        [
                          0.7777777777777778,
                          "#fb9f3a"
                        ],
                        [
                          0.8888888888888888,
                          "#fdca26"
                        ],
                        [
                          1,
                          "#f0f921"
                        ]
                      ],
                      "sequentialminus": [
                        [
                          0,
                          "#0d0887"
                        ],
                        [
                          0.1111111111111111,
                          "#46039f"
                        ],
                        [
                          0.2222222222222222,
                          "#7201a8"
                        ],
                        [
                          0.3333333333333333,
                          "#9c179e"
                        ],
                        [
                          0.4444444444444444,
                          "#bd3786"
                        ],
                        [
                          0.5555555555555556,
                          "#d8576b"
                        ],
                        [
                          0.6666666666666666,
                          "#ed7953"
                        ],
                        [
                          0.7777777777777778,
                          "#fb9f3a"
                        ],
                        [
                          0.8888888888888888,
                          "#fdca26"
                        ],
                        [
                          1,
                          "#f0f921"
                        ]
                      ]
                    },
                    "colorway": [
                      "#636efa",
                      "#EF553B",
                      "#00cc96",
                      "#ab63fa",
                      "#FFA15A",
                      "#19d3f3",
                      "#FF6692",
                      "#B6E880",
                      "#FF97FF",
                      "#FECB52"
                    ],
                    "font": {
                      "color": "#2a3f5f"
                    },
                    "geo": {
                      "bgcolor": "white",
                      "lakecolor": "white",
                      "landcolor": "#E5ECF6",
                      "showlakes": true,
                      "showland": true,
                      "subunitcolor": "white"
                    },
                    "hoverlabel": {
                      "align": "left"
                    },
                    "hovermode": "closest",
                    "mapbox": {
                      "style": "light"
                    },
                    "paper_bgcolor": "white",
                    "plot_bgcolor": "#E5ECF6",
                    "polar": {
                      "angularaxis": {
                        "gridcolor": "white",
                        "linecolor": "white",
                        "ticks": ""
                      },
                      "bgcolor": "#E5ECF6",
                      "radialaxis": {
                        "gridcolor": "white",
                        "linecolor": "white",
                        "ticks": ""
                      }
                    },
                    "scene": {
                      "xaxis": {
                        "backgroundcolor": "#E5ECF6",
                        "gridcolor": "white",
                        "gridwidth": 2,
                        "linecolor": "white",
                        "showbackground": true,
                        "ticks": "",
                        "zerolinecolor": "white"
                      },
                      "yaxis": {
                        "backgroundcolor": "#E5ECF6",
                        "gridcolor": "white",
                        "gridwidth": 2,
                        "linecolor": "white",
                        "showbackground": true,
                        "ticks": "",
                        "zerolinecolor": "white"
                      },
                      "zaxis": {
                        "backgroundcolor": "#E5ECF6",
                        "gridcolor": "white",
                        "gridwidth": 2,
                        "linecolor": "white",
                        "showbackground": true,
                        "ticks": "",
                        "zerolinecolor": "white"
                      }
                    },
                    "shapedefaults": {
                      "line": {
                        "color": "#2a3f5f"
                      }
                    },
                    "ternary": {
                      "aaxis": {
                        "gridcolor": "white",
                        "linecolor": "white",
                        "ticks": ""
                      },
                      "baxis": {
                        "gridcolor": "white",
                        "linecolor": "white",
                        "ticks": ""
                      },
                      "bgcolor": "#E5ECF6",
                      "caxis": {
                        "gridcolor": "white",
                        "linecolor": "white",
                        "ticks": ""
                      }
                    },
                    "title": {
                      "x": 0.05
                    },
                    "xaxis": {
                      "automargin": true,
                      "gridcolor": "white",
                      "linecolor": "white",
                      "ticks": "",
                      "title": {
                        "standoff": 15
                      },
                      "zerolinecolor": "white",
                      "zerolinewidth": 2
                    },
                    "yaxis": {
                      "automargin": true,
                      "gridcolor": "white",
                      "linecolor": "white",
                      "ticks": "",
                      "title": {
                        "standoff": 15
                      },
                      "zerolinecolor": "white",
                      "zerolinewidth": 2
                    }
                  }
                },
                "xaxis": {
                  "anchor": "y",
                  "domain": [
                    0,
                    1
                  ],
                  "title": {
                    "text": "Photon energy [eV]"
                  },
                  "type": "log"
                },
                "yaxis": {
                  "anchor": "x",
                  "domain": [
                    0,
                    1
                  ],
                  "title": {
                    "text": "Cross-section [barn]"
                  },
                  "type": "log"
                }
              }
            }
          },
          "metadata": {},
          "output_type": "display_data"
        }
      ],
      "source": [
        "import ENDF6\n",
        "import plotly.express as px\n",
        "path = \"C:\\\\Cross-Section-Data\\\\jendl5-n\\\\n_001-H-001.dat\"\n",
        "f = open(path)\n",
        "lines = f.readlines()\n",
        "sec = ENDF6.find_section(lines, MF=3, MT=1)  # total cross-section\n",
        "x, y = ENDF6.read_table(sec)\n",
        "px.scatter(x=x, y=y, labels = {'x':\"Photon energy [eV]\", 'y' : \"Cross-section [barn]\"},\n",
        "log_x = True, log_y = True)\n"
      ]
    },
    {
      "cell_type": "code",
      "execution_count": 21,
      "metadata": {},
      "outputs": [
        {
          "data": {
            "text/plain": [
              "(200000000.0, 0.0420456)"
            ]
          },
          "execution_count": 21,
          "metadata": {},
          "output_type": "execute_result"
        }
      ],
      "source": [
        "import numpy as np\n",
        "index = np.argmax(x/y)\n",
        "x[index], y[index]"
      ]
    },
    {
      "cell_type": "markdown",
      "metadata": {},
      "source": [
        "Process isotopic abundances"
      ]
    },
    {
      "cell_type": "code",
      "execution_count": 13,
      "metadata": {},
      "outputs": [
        {
          "data": {
            "text/plain": [
              "10-element Vector{SubString{String}}:\n",
              " \"Atomic Number = 1\\r\"\n",
              " \"Atomic Symbol = H\\r\"\n",
              " \"Mass Number = 1\\r\"\n",
              " \"Relative Atomic Mass = 1.00782503223(9)\\r\"\n",
              " \"Isotopic Composition = 0.999885(70)\\r\"\n",
              " \"Standard Atomic Weight = [1.00784,1.00811]\\r\"\n",
              " \"Notes = m\\r\"\n",
              " \"\\r\"\n",
              " \"Atomic Number = 1\\r\"\n",
              " \"Atomic Symbol = D\\r\""
            ]
          },
          "metadata": {},
          "output_type": "display_data"
        }
      ],
      "source": [
        "file_path = \"C:\\\\Users\\\\engin\\\\Documents\\\\GitHub\\\\Energy\\\\ImportedData\\\\IsotopicAbundances.txt\"\n",
        "file_as_array = split(open(f->read(f, String), file_path), \"\\n\")\n",
        "file_as_array\n",
        "#I want to make a dictionary where they keys are the isotope and the values are the abundance\n",
        "for line in file_as_array\n",
        "    isotope, abundance = split(line, \" \")\n",
        "    isotope_abundances[isotope] = abundance\n",
        "end"
      ]
    },
    {
      "cell_type": "code",
      "execution_count": 86,
      "metadata": {},
      "outputs": [
        {
          "data": {
            "text/plain": [
              "true"
            ]
          },
          "metadata": {},
          "output_type": "display_data"
        }
      ],
      "source": [
        "atomic_number_flag = file_as_array[1][1:16]\n",
        "file_as_array[9][1:16] == atomic_number_flag\n",
        "is_atomic_number_flag = [occursin(atomic_number_flag, line) for line in file_as_array]\n",
        "every_8 = Int((length(file_as_array) - 1) / 8)\n",
        "(sum(is_atomic_number_flag) == every_8 && \n",
        "    all([is_atomic_number_flag[index] for index in 1:8:length(file_as_array)-1]) \n",
        "    && !any(is_atomic_number_flag[index] for index \n",
        "    in setdiff(1:1:length(file_as_array), 1:8:length(file_as_array))))  "
      ]
    },
    {
      "cell_type": "markdown",
      "metadata": {},
      "source": [
        "Thus every isotope entry begins with  \"Atomic Number = \" and every entry is 7 lines long. "
      ]
    },
    {
      "cell_type": "code",
      "execution_count": 165,
      "metadata": {},
      "outputs": [],
      "source": [
        "file_as_array[17:24]\n",
        "isotope_abundances = Dict()\n",
        "function add_to_dict(start_index)\n",
        "    try\n",
        "        atomic_number = parse(Int64, file_as_array[start_index][17:end-1])\n",
        "        mass_number = parse(Int64, file_as_array[start_index+2][14:end-1])\n",
        "        #if the abundance is 0, the isotope is not naturally occuring\n",
        "        abundance = file_as_array[start_index+4][23:end-1]\n",
        "        if occursin(\"(\", abundance)\n",
        "            abundance = split(abundance, \"(\")[1]\n",
        "        end\n",
        "        abundance = tryparse(Float64, abundance)\n",
        "        if abundance == nothing\n",
        "            isotope_abundances[(atomic_number, mass_number)] = 0\n",
        "        else    \n",
        "            isotope_abundances[(atomic_number, mass_number)] = abundance\n",
        "        end\n",
        "    catch\n",
        "        print(\"Error in line \", start_index)\n",
        "        return\n",
        "    end\n",
        "end\n",
        "for start_index in 1:8:length(file_as_array)-1\n",
        "    add_to_dict(start_index)\n",
        "end\n",
        "#works :) "
      ]
    },
    {
      "cell_type": "code",
      "execution_count": null,
      "metadata": {},
      "outputs": [],
      "source": []
    }
  ],
  "metadata": {
    "colab": {
      "name": "Optimized Radionuclide Production.ipynb",
      "provenance": []
    },
    "kernelspec": {
      "display_name": "Julia 1.7.2",
      "language": "julia",
      "name": "julia-1.7"
    },
    "language_info": {
      "file_extension": ".jl",
      "mimetype": "application/julia",
      "name": "julia",
      "version": "1.7.2"
    },
    "vscode": {
      "interpreter": {
        "hash": "b5623c593edf3a9c30fecf3e392f1a3c31f722d7f93243239e2241963cc60577"
      }
    }
  },
  "nbformat": 4,
  "nbformat_minor": 0
}
