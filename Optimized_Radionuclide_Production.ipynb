{
  "cells": [
    {
      "cell_type": "markdown",
      "metadata": {},
      "source": [
        "The goal of this notebook is to write code that given a specific nucleus to produce, an efficiency will be calculated based on the required input energy, target cross sections, and power density of the product to find the optimal use of radionuclide production as a method of energy storage. \n",
        "\n",
        "This can also be used to generate a theoretical maximum of storage efficiency for each product. \n",
        "\n",
        "To start, we'll need cross sections. \n",
        "\n",
        "Will attempt to download the entirety of (or write a very fast query for) \n",
        "https://doi.org/10.1016/j.nds.2018.02.001\n",
        "\n",
        "Pivoting to use Jeff32 since it has a singular directory with many neutron cross sections for different targets. https://www.oecd-nea.org/dbforms/data/eva/evatapes/jeff_32/\n",
        "\n",
        "JENDL appears to have both neutron and proton cross section data for transmutation, so this seems very promising. It uses the ENDF6 format https://www-nds.iaea.org/public/endf/ \n",
        "\n",
        "Finally found the database explorer for ENDF, will be using this as well. \n",
        "https://www-nds.iaea.org/exfor/e4explorer.htm "
      ]
    },
    {
      "cell_type": "code",
      "execution_count": null,
      "metadata": {},
      "outputs": [],
      "source": []
    },
    {
      "cell_type": "code",
      "execution_count": null,
      "metadata": {},
      "outputs": [],
      "source": []
    },
    {
      "cell_type": "markdown",
      "metadata": {},
      "source": [
        "#Derivations for nuclide production\n",
        "Consider a target $T$ with a cross section $\\sigma$ at an energy level of $E_{particle}$. We have for the production rate (from \"Industrial Accelerators and their Applications\")\n",
        "\\begin{equation}\n",
        "\\frac{dR}{dx} = In\\sigma\n",
        "\\end{equation}\n",
        "Integrating, we have for the number of nuclei produced\n",
        "\\begin{equation}\n",
        "N = \\int\\int\\frac{dR}{dx}dxdt = \\int\\int In\\sigma dxdt\n",
        "\\end{equation}\n",
        "Where $R$ is the production rate in atoms per second, $x$ is the depth of the material, $n$ is the nuclei/volume, and $\\sigma$ is the cross section in area/nucleus, and $I$ is the flow rate in moles/second of the beam. It's also important to note that the beam energy is also a function of $x$. Thus we have for the energy input \n",
        "\\begin{equation}\n",
        "E_{in} = \\int IE_{incident \\ particle} dt\n",
        "\\end{equation}\n",
        "For a given decay chain whose parent nucleus has $N$ particles we have for a pure amount of this substance a specific energy (energy density) $\\rho_{E}$ of \n",
        "\\begin{equation}\n",
        "E_{out} = Z_{product}N\\rho_{E}\n",
        "\\end{equation}\n",
        "where $Z$ is the mass number of the product and $N_A$ is Avogadro's constant. \n",
        "Thus we have for the energy efficiency of this process, \n",
        "\\begin{equation}\n",
        "\\frac{E_{out}}{E_{in}} = \\frac{Z_{product}N\\rho_{E}}{\\int IE_{incident \\ particle} dt} =  \n",
        "\\frac{Z_{product}\\rho_{E}\\int\\int In\\sigma dxdt}{\\int IE_{incident \\ particle} dt}\n",
        "\\end{equation}"
      ]
    },
    {
      "cell_type": "markdown",
      "metadata": {},
      "source": [
        "##Thin target case with constant beam current and energy\n",
        "\\begin{equation}\n",
        "\\frac{E_{out}}{E_{in}} = \\frac{Z_{product}\\rho_{E} In\\sigma xt}{IE_{incident \\ particle}t} = \\frac{Z\\rho_{E} n\\sigma x}{E_{incident \\ particle}}\n",
        "\\end{equation}\n",
        "Rearranging to find the energy efficiency per thickness of material \n",
        "\\begin{equation}\n",
        "\\frac{E_{out}}{xE_{in}} = \\frac{Z_{product}\\rho_{E} n\\sigma }{E_{incident \\ particle}}\n",
        "\\end{equation}\n",
        "Thus, our figure of merit for a reaction will be energy efficiency per thickness of material. "
      ]
    },
    {
      "cell_type": "code",
      "execution_count": 2,
      "metadata": {},
      "outputs": [],
      "source": [
        "import unittest\n",
        "import numpy as np\n",
        "import pandas as pd\n",
        "import sympy as sym\n",
        "import astropy.units as units\n",
        "import astropy.constants as const\n",
        "from sympy.abc import *"
      ]
    },
    {
      "cell_type": "code",
      "execution_count": 7,
      "metadata": {},
      "outputs": [
        {
          "data": {
            "text/latex": [
              "$\\displaystyle \\frac{Z n \\rho \\sigma}{E}$"
            ],
            "text/plain": [
              "Z*n*rho*sigma/E"
            ]
          },
          "execution_count": 7,
          "metadata": {},
          "output_type": "execute_result"
        }
      ],
      "source": [
        "def reaction_figure_of_merit (energy_density, mass_number, target_nuclei_per_volume, sigma, \n",
        "incident_particle_energy):\n",
        "    figure_of_merit = energy_density * mass_number * target_nuclei_per_volume * sigma\n",
        "    return figure_of_merit / (incident_particle_energy)\n",
        "\n",
        "reaction_figure_of_merit(rho, Z, n, sigma, E)\n"
      ]
    },
    {
      "cell_type": "code",
      "execution_count": null,
      "metadata": {},
      "outputs": [],
      "source": []
    }
  ],
  "metadata": {
    "colab": {
      "name": "Optimized Radionuclide Production.ipynb",
      "provenance": []
    },
    "interpreter": {
      "hash": "b5623c593edf3a9c30fecf3e392f1a3c31f722d7f93243239e2241963cc60577"
    },
    "kernelspec": {
      "display_name": "Python 3.8.3 ('base')",
      "language": "python",
      "name": "python3"
    },
    "language_info": {
      "codemirror_mode": {
        "name": "ipython",
        "version": 3
      },
      "file_extension": ".py",
      "mimetype": "text/x-python",
      "name": "python",
      "nbconvert_exporter": "python",
      "pygments_lexer": "ipython3",
      "version": "3.8.3"
    }
  },
  "nbformat": 4,
  "nbformat_minor": 0
}
