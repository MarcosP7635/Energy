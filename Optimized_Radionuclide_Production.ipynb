{
  "cells": [
    {
      "cell_type": "markdown",
      "metadata": {},
      "source": [
        "The goal of this notebook is to write code that given a specific nucleus to produce, an efficiency will be calculated based on the required input energy, target cross sections, and power density of the product to find the optimal use of radionuclide production as a method of energy storage. \n",
        "\n",
        "This can also be used to generate a theoretical maximum of storage efficiency for each product. \n",
        "\n",
        "To start, we'll need cross sections. \n",
        "\n",
        "Will attempt to download the entirety of (or write a very fast query for) \n",
        "https://doi.org/10.1016/j.nds.2018.02.001\n",
        "\n",
        "Pivoting to use Jeff32 since it has a singular directory with many neutron cross sections for different targets. https://www.oecd-nea.org/dbforms/data/eva/evatapes/jeff_32/\n",
        "\n",
        "JENDL appears to have both neutron and proton cross section data for transmutation, so this seems very promising. It uses the ENDF6 format https://www-nds.iaea.org/public/endf/ \n",
        "\n",
        "Finally found the database explorer for ENDF, will be using this as well. \n",
        "https://www-nds.iaea.org/exfor/e4explorer.htm "
      ]
    },
    {
      "cell_type": "markdown",
      "metadata": {},
      "source": [
        "#Derivations for nuclide production\n",
        "Consider a target $T$ with a cross section $\\sigma$ at an energy level of $E_{particle}$. We have for the production rate (from \"Industrial Accelerators and their Applications\")\n",
        "\\begin{equation}\n",
        "\\frac{dR}{dx} = In\\sigma\n",
        "\\end{equation}\n",
        "Integrating, we have for the number of nuclei produced\n",
        "\\begin{equation}\n",
        "N = \\int\\int\\frac{dR}{dx}dxdt = \\int\\int In\\sigma dxdt\n",
        "\\end{equation}\n",
        "Where $R$ is the production rate in atoms per second, $x$ is the depth of the material, $n$ is the nuclei/volume, and $\\sigma$ is the cross section in area/nucleus, and $I$ is the flow rate in moles/second of the beam. It's also important to note that the beam energy is also a function of $x$. Thus we have for the energy input \n",
        "\\begin{equation}\n",
        "E_{in} = \\int IE_{incident \\ particle} dt\n",
        "\\end{equation}\n",
        "For a given decay chain whose parent nucleus has $N$ particles we have for a pure amount of this substance a specific energy (energy density) $\\rho_{E}$ of \n",
        "\\begin{equation}\n",
        "E_{out} = Z_{product}N\\rho_{E}\n",
        "\\end{equation}\n",
        "where $Z$ is the mass number of the product and $N_A$ is Avogadro's constant. \n",
        "Thus we have for the energy efficiency of this process, \n",
        "\\begin{equation}\n",
        "\\frac{E_{out}}{E_{in}} = \\frac{Z_{product}N\\rho_{E}}{\\int IE_{incident \\ particle} dt} =  \n",
        "\\frac{Z_{product}\\rho_{E}\\int\\int In\\sigma dxdt}{\\int IE_{incident \\ particle} dt}\n",
        "\\end{equation}"
      ]
    },
    {
      "cell_type": "markdown",
      "metadata": {},
      "source": [
        "##Thin target case with constant beam current and energy\n",
        "\\begin{equation}\n",
        "\\frac{E_{out}}{E_{in}} = \\frac{Z_{product}\\rho_{E} In\\sigma xt}{IE_{incident \\ particle}t} = \\frac{Z\\rho_{E} n\\sigma x}{E_{incident \\ particle}}\n",
        "\\end{equation}\n",
        "Rearranging to find the energy efficiency per thickness of material \n",
        "\\begin{equation}\n",
        "\\frac{E_{out}}{xE_{in}} = \\frac{Z_{product}\\rho_{E} n\\sigma }{E_{incident \\ particle}}\n",
        "\\end{equation}\n",
        "Thus, our figure of merit for a reaction will be energy efficiency per thickness of material. \n",
        "We'll be dealing with a lot of data and computations so I'll use Julia instead of Python. "
      ]
    },
    {
      "cell_type": "code",
      "execution_count": 1,
      "metadata": {},
      "outputs": [
        {
          "data": {
            "text/plain": [
              "\"C:\\\\Cross-Section-Data\\\\\""
            ]
          },
          "metadata": {},
          "output_type": "display_data"
        }
      ],
      "source": [
        "using Unitful #https://painterqubits.github.io/Unitful.jl/stable/\n",
        "#quantity * @u_str(\"unit abbreviation\") \n",
        "using Symbolics #https://symbolics.juliasymbolics.org/dev/\n",
        "#cite https://doi.org/10.48550/arXiv.2105.03949\n",
        "using Latexify\n",
        "using Test\n",
        "#1 * @u_str(\"mA\") is 1 milliamp\n",
        "using CSV, DataFrames\n",
        "using Plots\n",
        "using Printf\n",
        "#plotlyjs()\n",
        "data_dir = (\"C:\\\\Cross-Section-Data\\\\\")"
      ]
    },
    {
      "cell_type": "markdown",
      "metadata": {},
      "source": [
        "#ENDF6\n",
        "\n",
        "For each section of file 3 (reaction cross sections) the format of each column is \n",
        "\n",
        "[MAT, 3, MT/ ZA, AWR, 0, 0, 0, 0] HEAD\n",
        "\n",
        "[MAT, 3, MT/ QM, QI, 0, LR, NR, NP/ Eint/ σ(E)]TAB1\n",
        "\n",
        "[MAT, 3, 0/ 0.0, 0.0, 0, 0, 0, 0] SEND\n",
        "\n",
        "where \n",
        "\n",
        "This function creates a properly formatted matrix of 64 bit floats from the file path of an ENDF6 formatted text file.\n",
        "\n",
        "Use list comprehension to check if each line (in the form of a string) is in the valid data format, take only those rows, and convert each of them to a matrix, which is then converted into two vectors."
      ]
    },
    {
      "cell_type": "code",
      "execution_count": 2,
      "metadata": {},
      "outputs": [
        {
          "data": {
            "text/plain": [
              "find_section (generic function with 1 method)"
            ]
          },
          "metadata": {},
          "output_type": "display_data"
        }
      ],
      "source": [
        "# Reference: https://github.com/DavidWalz/pyENDF6\n",
        "\n",
        "slices = Dict(\n",
        "    \"MAT\" => 67:71,\n",
        "    \"MF\" => 72:74,\n",
        "    \"MT\" => 75:78,\n",
        "    \"line\" => 78:83,\n",
        "    \"content\" => 1:67,\n",
        "    \"data\" => [a-10:a for a in 11*collect(1:6)])\n",
        "\n",
        "\n",
        "function read_float(v)\n",
        "    #Convert ENDF6 string to float \n",
        "    a, b = [' '], \"\" \n",
        "    if (strip(v, a) == b)\n",
        "        return 0.\n",
        "    end\n",
        "    try\n",
        "        return parse(Float64, v)\n",
        "    catch\n",
        "        # ENDF6 may omit the e for exponent\n",
        "        return parse(Float64,\n",
        "            v[1] * replace(replace(v[2:end], \"+\" => \"e+\"), \"-\" => \"e-\"))  # don't replace leading negative sign\n",
        "    end\n",
        "end  \n",
        "\n",
        "function read_line(l)\n",
        "    #Read first 6*11 characters of a line as floats\"\"\"\n",
        "    return [read_float(l[s]) for s in slices[\"data\"]]\n",
        "end\n",
        " \n",
        "function read_table(lines)\n",
        "    #=\n",
        "    Parse tabulated data in a section\n",
        "    https://t2.lanl.gov/nis/endf/intro07.html\n",
        "    https://t2.lanl.gov/nis/endf/intro08.html\n",
        "    https://t2.lanl.gov/nis/endf/intro09.html\n",
        "    =#\n",
        "    # header line 1: (100*Z+A), mass in [m_neutron]\n",
        "    # [MAT, 3, MT/ ZA, AWR, 0, 0, 0, 0] HEAD\n",
        "\n",
        "    # header line 2: Q-value and some counts\n",
        "    # [MAT, 3, MT/ QM, QI, 0, LR, NR, NP/ EINT/ S(E)] TAB1\n",
        "    f = read_line(lines[2])\n",
        "    nS = Int64(f[5])  # number of interpolation sections\n",
        "    nP = Int64(f[6])  # number of data points\n",
        "    # header line 3: interpolation information\n",
        "    # [MAT, 3, 0/ 0.0, 0.0, 0, 0, 0, 0] SEND\n",
        "    # 1   y is constant in x (constant, histogram)\n",
        "    # 2   y is linear in x (linear-linear)\n",
        "    # 3   y is linear in ln(x) (linear-log)\n",
        "    # 4   ln(y) is linear in x (log-linear)\n",
        "    # 5   ln(y) is linear in ln(x) (log-log)\n",
        "    # 6   y obeys a Gamow charged-particle penetrability law\n",
        "\n",
        "    # data lines\n",
        "    energy = []\n",
        "    cross_section = []\n",
        "    for l in lines[4:end]\n",
        "        f = read_line(l)\n",
        "        append!(energy, f[1], f[3], f[5])\n",
        "        append!(cross_section, f[2], f[4], f[6])\n",
        "    end\n",
        "    return energy[1:nP], cross_section[1:nP]\n",
        "end \n",
        "\n",
        "function find_section(lines, MF, MT)\n",
        "    #\"\"\"Locate and return a certain section\"\"\"\n",
        "    v = [l[71:75] for l in lines]\n",
        "    cmpstr = \"$(@sprintf(\"%2s\", MF))$(@sprintf(\"%3s\", MT))\" # search string\n",
        "    i0 = collect(findfirst(==(cmpstr), v))[1] # first occurrence\n",
        "    i1 = collect(findlast(==(cmpstr), v))[1] # last occurrence\n",
        "    return lines[i0: i1]\n",
        "end"
      ]
    },
    {
      "cell_type": "markdown",
      "metadata": {},
      "source": [
        "#TODO: \n",
        "Correct the code below to find the non-elastic processes (reaction/absorption) cross section rather than the total cross section (since an elastic collision doesn't form product nuclei)\n",
        "\n",
        "Page 105 from the ENDF-6 Formats Manual, \"3.4.3 Nonelastic Cross Section (MT=3)\n",
        "The nonelastic cross section is not required unless any part of the photon production mul-\n",
        "tiplicities given in File 12 uses MT=3. In this case, MT=3 is required in File 3. If MT=3\n",
        "is given, then the set of points used to specify this cross section must be a union of the sets\n",
        "used for its partials.\"\n",
        "\n",
        "It is possible to approximate the non-elastic cross section since it is the difference between the total cross section and the elastic cross section. Specifically, also from page 105 from the ENDF-6 Formats Manual, \"3.4.2 Elastic Scattering Cross Section (MT=2)\n",
        "The elastic scattering cross section is generally not known to the same accuracy as the total\n",
        "cross section. Frequently, the elastic scattering cross section is evaluated as the difference\n",
        "between the total and the nonelastic cross section. This procedure can cause problems: the\n",
        "resulting elastic scattering cross section shape may contain unreal structure. There may\n",
        "be several causes. First, the nonelastic cross section, or any part thereof, is not generally\n",
        "measured with the same energy resolution as the total cross section. When the somewhat\n",
        "poorer resolution nonelastic data are subtracted from the total, the resolution effects appear\n",
        "in the elastic cross section. Second, if the evaluated structure in the nonelastic cross section is\n",
        "incorrect or improperly correlated with the structure in the total cross section (energy-scale\n",
        "errors), an unrealistic structure is generated in the elastic scattering cross section.\n",
        "The experimental elastic cross section is obtained by integrating measured angular dis-\n",
        "tributions. These data may not cover the entire angular range or may contain contributions\n",
        "from nonelastic neutrons. Such contamination is generally due to contributions from inelas-\n",
        "tic scattering to low-lying levels that were not resolved in the experiment. Care must be\n",
        "taken in evaluating such results to obtain integrated cross sections. Similarly, experimental\n",
        "angular distribution data can also cause problems when evaluating File 4.\""
      ]
    },
    {
      "cell_type": "code",
      "execution_count": 6,
      "metadata": {},
      "outputs": [
        {
          "data": {
            "text/plain": [
              "find_optimized_parameters (generic function with 3 methods)"
            ]
          },
          "metadata": {},
          "output_type": "display_data"
        }
      ],
      "source": [
        "function find_optimized_parameters(file_path, MF = 3, MT = 1)\n",
        "    open(file_path) do file\n",
        "        lines = split(read(file_path, String), \"\\n\", keepempty = false)\n",
        "        lines = lines[lines .!== nothing]\n",
        "        lines = lines[lines .!== \"\"]\n",
        "        lines = lines[lines .!== Nothing]\n",
        "        lines = String.(lines)\n",
        "        sec = find_section(lines, MF, MT)\n",
        "        energy, cross_section = read_table(sec)\n",
        "        max_index = findmax(cross_section./energy)[2]\n",
        "        optimized_cross_section, optimized_energy = cross_section[max_index], energy[max_index]\n",
        "        return optimized_energy, optimized_cross_section\n",
        "    end\n",
        "end\n",
        "function find_parameters(file_path, MF = 3, MT = 1)\n",
        "    open(file_path) do file\n",
        "        lines = split(read(file_path, String), \"\\n\", keepempty = false)\n",
        "        lines = lines[lines .!== nothing]\n",
        "        lines = lines[lines .!== \"\"]\n",
        "        lines = lines[lines .!== Nothing]\n",
        "        lines = String.(lines)\n",
        "        sec = find_section(lines, MF, MT)\n",
        "        return read_table(sec)\n",
        "    end\n",
        "end\n",
        "function find_non_elastic_optimized_parameters(file_path)\n",
        "    try\n",
        "        find_optimized_parameters(file_path, MF = 3, MT = 3)\n",
        "    catch\n",
        "        print(\"No optimized parameters found for MF=3, MT=3\\nCalculating using MF=3, MT=1 and MF=3, MT=2\")\n",
        "        total_e, total_σ = find_parameters(file_path, 3, 1)\n",
        "        elastic_e, elastic_σ = find_parameters(file_path, 3, 2)\n",
        "        non_elastic_σ = total_σ - elastic_σ\n",
        "        if(total_e == elastic_e)\n",
        "            print(\"Energy levels match for MF=3, MT=1 and MF=3, MT=2\")\n",
        "            max_index = findmax(non_elastic_σ./total_e)[2]\n",
        "            total_e[max_index], non_elastic_σ[max_index]\n",
        "        end\n",
        "    end\n",
        "end "
      ]
    },
    {
      "cell_type": "code",
      "execution_count": 4,
      "metadata": {},
      "outputs": [
        {
          "data": {
            "text/plain": [
              "Dict{Any, Any} with 795 entries:\n",
              "  \"C:\\\\Cross-Section-Data\\… => Dict(\"energy (eV)\"=>18000.0, \"cross_section (bar…\n",
              "  \"C:\\\\Cross-Section-Data\\… => Dict(\"energy (eV)\"=>701096.0, \"cross_section (ba…\n",
              "  \"C:\\\\Cross-Section-Data\\… => Dict(\"energy (eV)\"=>1.0e-5, \"cross_section (barn…\n",
              "  \"C:\\\\Cross-Section-Data\\… => Dict(\"energy (eV)\"=>1.0e-5, \"cross_section (barn…\n",
              "  \"C:\\\\Cross-Section-Data\\… => Dict(\"energy (eV)\"=>1.0e-5, \"cross_section (barn…\n",
              "  \"C:\\\\Cross-Section-Data\\… => Dict(\"energy (eV)\"=>190.0, \"cross_section (barns…\n",
              "  \"C:\\\\Cross-Section-Data\\… => Dict(\"energy (eV)\"=>300.0, \"cross_section (barns…\n",
              "  \"C:\\\\Cross-Section-Data\\… => Dict(\"energy (eV)\"=>1.0e-5, \"cross_section (barn…\n",
              "  \"C:\\\\Cross-Section-Data\\… => Dict(\"energy (eV)\"=>80000.0, \"cross_section (bar…\n",
              "  \"C:\\\\Cross-Section-Data\\… => Dict(\"energy (eV)\"=>1.0e-5, \"cross_section (barn…\n",
              "  \"C:\\\\Cross-Section-Data\\… => Dict(\"energy (eV)\"=>1.0e-5, \"cross_section (barn…\n",
              "  \"C:\\\\Cross-Section-Data\\… => Dict(\"energy (eV)\"=>15000.0, \"cross_section (bar…\n",
              "  \"C:\\\\Cross-Section-Data\\… => Dict(\"energy (eV)\"=>1.0e-5, \"cross_section (barn…\n",
              "  \"C:\\\\Cross-Section-Data\\… => Dict(\"energy (eV)\"=>400.0, \"cross_section (barns…\n",
              "  \"C:\\\\Cross-Section-Data\\… => Dict(\"energy (eV)\"=>1.0e-5, \"cross_section (barn…\n",
              "  \"C:\\\\Cross-Section-Data\\… => Dict(\"energy (eV)\"=>290.0, \"cross_section (barns…\n",
              "  \"C:\\\\Cross-Section-Data\\… => Dict(\"energy (eV)\"=>272.0, \"cross_section (barns…\n",
              "  \"C:\\\\Cross-Section-Data\\… => Dict(\"energy (eV)\"=>100000.0, \"cross_section (ba…\n",
              "  \"C:\\\\Cross-Section-Data\\… => Dict(\"energy (eV)\"=>350000.0, \"cross_section (ba…\n",
              "  ⋮                         => ⋮"
            ]
          },
          "metadata": {},
          "output_type": "display_data"
        }
      ],
      "source": [
        "neutron_dir = data_dir  * String(\"jendl5-n\\\\\")\n",
        "neutron_files = neutron_dir .* readdir(neutron_dir)\n",
        "output = Dict()\n",
        "for file in neutron_files\n",
        "    optimized_energy, optimized_cross_section = find_optimized_parameters(file)\n",
        "    output[file] = Dict(\"energy (eV)\" => optimized_energy,\n",
        "        \"cross_section (barns)\" => optimized_cross_section)\n",
        "end\n",
        "#df = DataFrame(CSV.File(file_path, delim=' ', ignorerepeated=true, \n",
        "#           header=false))[:,1:6]\n",
        "#make array from all odd numbered columns\n",
        "output"
      ]
    },
    {
      "cell_type": "code",
      "execution_count": 28,
      "metadata": {},
      "outputs": [
        {
          "name": "stdout",
          "output_type": "stream",
          "text": [
            "No optimized parameters found for MF=3, MT=3\n",
            "Calculating using MF=3, MT=1 and MF=3, MT=2"
          ]
        },
        {
          "data": {
            "text/plain": [
              "(1.0e-5, 16.728689999999997)"
            ]
          },
          "metadata": {},
          "output_type": "display_data"
        }
      ],
      "source": []
    },
    {
      "cell_type": "code",
      "execution_count": 22,
      "metadata": {},
      "outputs": [
        {
          "data": {
            "text/plain": [
              "(1.0e-5, 37.16477)"
            ]
          },
          "metadata": {},
          "output_type": "display_data"
        }
      ],
      "source": [
        "find_optimized_parameters(neutron_files[1])"
      ]
    },
    {
      "cell_type": "code",
      "execution_count": 5,
      "metadata": {},
      "outputs": [
        {
          "name": "stdout",
          "output_type": "stream",
          "text": [
            "n_026-Fe-061.dat not in directory"
          ]
        }
      ],
      "source": [
        "file_names = readdir(neutron_dir)\n",
        "file = file_names[1]\n",
        "function get_product(file)\n",
        "    target_n = parse(Int64, file[3:5])\n",
        "    element, target_z = split(file[7:end-4], \"-\")\n",
        "    projectile = file[1]\n",
        "    if(string(projectile) == \"n\") #neutron addition\n",
        "        product_n = target_n\n",
        "        product_z = parse(Int64, target_z)+1\n",
        "        product_file = (String(\"n_\") * lpad(product_n, 3, \"0\") * String(\"-\") * \n",
        "                        String(element) * String(\"-\") * lpad(product_z, 3, \"0\") * String(\".dat\"))\n",
        "    end\n",
        "    return product_file\n",
        "end\n",
        "file = file_names[100]\n",
        "while true\n",
        "    file = get_product(file)\n",
        "    if !(file in file_names)\n",
        "        print(file, \" not in directory\")\n",
        "        break \n",
        "    end\n",
        "end"
      ]
    },
    {
      "cell_type": "code",
      "execution_count": 6,
      "metadata": {},
      "outputs": [
        {
          "data": {
            "text/plain": [
              "\"n_026-Fe-054.dat\""
            ]
          },
          "metadata": {},
          "output_type": "display_data"
        }
      ],
      "source": []
    },
    {
      "cell_type": "code",
      "execution_count": 176,
      "metadata": {},
      "outputs": [
        {
          "name": "stdout",
          "output_type": "stream",
          "text": [
            "For output = (Z*n*ρ*σ) / E       (unitless)"
          ]
        },
        {
          "data": {
            "text/plain": [
              "\u001b[32m\u001b[1mTest Passed\u001b[22m\u001b[39m\n",
              "  Expression: reaction_figure_of_merit(ρ * u\"J/g\", Z * u\"g\", n * u\"cm\" ^ -2, σ * u\"cm\" ^ 2, E * u\"J\") - output == 0\n",
              "   Evaluated: 0 == 0"
            ]
          },
          "metadata": {},
          "output_type": "display_data"
        }
      ],
      "source": [
        "function reaction_figure_of_merit(energy_density, mass_number, target_nuclei_per_area, sigma, \n",
        "incident_particle_energy)\n",
        "    #For the product, we take the mass number to be equal to the molar mass\n",
        "    figure_of_merit = (energy_density * mass_number * \n",
        "        target_nuclei_per_area * sigma) / incident_particle_energy\n",
        "    return uconvert(Unitful.NoUnits, figure_of_merit) \n",
        "end\n",
        "\n",
        "ρ, Z, n, σ, E = @variables ρ, Z, n, σ, E\n",
        "output = ρ * Z * n * σ / E\n",
        "print(\"For output = \", output, \"       (unitless)\")\n",
        "Test.@test reaction_figure_of_merit(ρ * @u_str(\"J/g\"), Z * @u_str(\"g\"), \n",
        "    n * (@u_str(\"cm\")^-2), σ * @u_str(\"cm\")^2, E * @u_str(\"J\")) - output == 0"
      ]
    },
    {
      "cell_type": "code",
      "execution_count": 24,
      "metadata": {},
      "outputs": [
        {
          "data": {
            "application/vnd.plotly.v1+json": {
              "config": {
                "plotlyServerURL": "https://plot.ly"
              },
              "data": [
                {
                  "hovertemplate": "Photon energy [eV]=%{x}<br>Cross-section [barn]=%{y}<extra></extra>",
                  "legendgroup": "",
                  "marker": {
                    "color": "#636efa",
                    "symbol": "circle"
                  },
                  "mode": "markers",
                  "name": "",
                  "orientation": "v",
                  "showlegend": false,
                  "type": "scatter",
                  "x": [
                    0.00001,
                    0.00002,
                    0.00005,
                    0.0001,
                    0.0002,
                    0.0005,
                    0.001,
                    0.002,
                    0.005,
                    0.01,
                    0.0253,
                    0.1,
                    0.2,
                    0.5,
                    1,
                    2,
                    5,
                    10,
                    20,
                    50,
                    100,
                    200,
                    500,
                    1000,
                    2000,
                    3000,
                    4000,
                    5000,
                    6000,
                    7000,
                    8000,
                    9000,
                    10000,
                    12000,
                    14000,
                    16000,
                    18000,
                    20000,
                    22000,
                    24000,
                    26000,
                    28000,
                    30000,
                    35000,
                    40000,
                    45000,
                    50000,
                    55000,
                    60000,
                    65000,
                    70000,
                    75000,
                    80000,
                    85000,
                    90000,
                    95000,
                    100000,
                    110000,
                    120000,
                    130000,
                    140000,
                    150000,
                    160000,
                    170000,
                    180000,
                    190000,
                    200000,
                    220000,
                    240000,
                    260000,
                    280000,
                    300000,
                    320000,
                    340000,
                    360000,
                    380000,
                    400000,
                    420000,
                    440000,
                    460000,
                    480000,
                    500000,
                    550000,
                    600000,
                    650000,
                    700000,
                    750000,
                    800000,
                    850000,
                    900000,
                    950000,
                    1000000,
                    1100000,
                    1200000,
                    1300000,
                    1400000,
                    1500000,
                    1600000,
                    1700000,
                    1800000,
                    1900000,
                    2000000,
                    2200000,
                    2400000,
                    2600000,
                    2800000,
                    3000000,
                    3200000,
                    3400000,
                    3600000,
                    3800000,
                    4000000,
                    4200000,
                    4400000,
                    4600000,
                    4800000,
                    5000000,
                    5200000,
                    5400000,
                    5600000,
                    5800000,
                    6000000,
                    6200000,
                    6400000,
                    6600000,
                    6800000,
                    7000000,
                    7500000,
                    8000000,
                    8500000,
                    9000000,
                    9500000,
                    10000000,
                    10500000,
                    11000000,
                    11500000,
                    12000000,
                    12500000,
                    13000000,
                    13500000,
                    14000000,
                    14500000,
                    15000000,
                    15500000,
                    16000000,
                    16500000,
                    17000000,
                    17500000,
                    18000000,
                    18500000,
                    19000000,
                    19500000,
                    20000000,
                    20000000,
                    21000000,
                    22000000,
                    23000000,
                    24000000,
                    25000000,
                    26000000,
                    27000000,
                    28000000,
                    29000000,
                    30000000,
                    32000000,
                    34000000,
                    36000000,
                    38000000,
                    40000000,
                    42000000,
                    44000000,
                    46000000,
                    48000000,
                    50000000,
                    52000000,
                    54000000,
                    56000000,
                    58000000,
                    60000000,
                    62000000,
                    64000000,
                    66000000,
                    68000000,
                    70000000,
                    72000000,
                    74000000,
                    76000000,
                    78000000,
                    80000000,
                    82000000,
                    84000000,
                    86000000,
                    88000000,
                    90000000,
                    92000000,
                    94000000,
                    96000000,
                    98000000,
                    100000000,
                    110000000,
                    120000000,
                    130000000,
                    140000000,
                    150000000,
                    160000000,
                    180000000,
                    200000000
                  ],
                  "xaxis": "x",
                  "y": [
                    37.16477,
                    32.26505,
                    27.91738,
                    25.72616,
                    24.17673,
                    22.80187,
                    22.10895,
                    21.61898,
                    21.18421,
                    20.96509,
                    20.76866,
                    20.60335,
                    20.55434,
                    20.51083,
                    20.48885,
                    20.47322,
                    20.45906,
                    20.45146,
                    20.44521,
                    20.43683,
                    20.42791,
                    20.41293,
                    20.37138,
                    20.30414,
                    20.17204,
                    20.04215,
                    19.91424,
                    19.78823,
                    19.66405,
                    19.54166,
                    19.42101,
                    19.30207,
                    19.18479,
                    18.9551,
                    18.73167,
                    18.51423,
                    18.30255,
                    18.0964,
                    17.89556,
                    17.69984,
                    17.50902,
                    17.32294,
                    17.14141,
                    16.70645,
                    16.29656,
                    15.9096,
                    15.54371,
                    15.19718,
                    14.86851,
                    14.55635,
                    14.25946,
                    13.97675,
                    13.70721,
                    13.44993,
                    13.2041,
                    12.96894,
                    12.74378,
                    12.32097,
                    11.9312,
                    11.5707,
                    11.23625,
                    10.92508,
                    10.63481,
                    10.36336,
                    10.10893,
                    9.869935,
                    9.644989,
                    9.232457,
                    8.863064,
                    8.530225,
                    8.228636,
                    7.953971,
                    7.70267,
                    7.471777,
                    7.258815,
                    7.061693,
                    6.878637,
                    6.708125,
                    6.548852,
                    6.399688,
                    6.259648,
                    6.127875,
                    5.829882,
                    5.569515,
                    5.339645,
                    5.13485,
                    4.950937,
                    4.784609,
                    4.633238,
                    4.494702,
                    4.367271,
                    4.249519,
                    4.038494,
                    3.854211,
                    3.691309,
                    3.54581,
                    3.414699,
                    3.295645,
                    3.186817,
                    3.086754,
                    2.994275,
                    2.908414,
                    2.753484,
                    2.617003,
                    2.495402,
                    2.386035,
                    2.286895,
                    2.196421,
                    2.113381,
                    2.036785,
                    1.965823,
                    1.899828,
                    1.838244,
                    1.780601,
                    1.726497,
                    1.67559,
                    1.627582,
                    1.582216,
                    1.539263,
                    1.498525,
                    1.459826,
                    1.423007,
                    1.387929,
                    1.354466,
                    1.322504,
                    1.291942,
                    1.262686,
                    1.194725,
                    1.13329,
                    1.077473,
                    1.026529,
                    0.9798437,
                    0.9369061,
                    0.8972839,
                    0.8606105,
                    0.8265722,
                    0.7948987,
                    0.7653557,
                    0.7377393,
                    0.7118704,
                    0.6875919,
                    0.6647646,
                    0.6432651,
                    0.6229834,
                    0.6038214,
                    0.5856907,
                    0.5685123,
                    0.5522144,
                    0.5367326,
                    0.522008,
                    0.5079874,
                    0.4946221,
                    0.4818679,
                    0.480126,
                    0.454814,
                    0.433144,
                    0.414504,
                    0.39696,
                    0.380408,
                    0.364802,
                    0.350093,
                    0.336235,
                    0.32318,
                    0.310882,
                    0.288368,
                    0.268314,
                    0.250344,
                    0.234101,
                    0.2195,
                    0.206435,
                    0.194763,
                    0.184336,
                    0.175008,
                    0.166635,
                    0.159068,
                    0.152163,
                    0.145773,
                    0.13979,
                    0.134184,
                    0.128938,
                    0.124035,
                    0.119456,
                    0.115185,
                    0.111203,
                    0.107494,
                    0.104038,
                    0.100819,
                    0.0978196,
                    0.0950211,
                    0.0924065,
                    0.089958,
                    0.0876579,
                    0.0854887,
                    0.0834327,
                    0.0814724,
                    0.0795906,
                    0.0777877,
                    0.0760661,
                    0.0744232,
                    0.0675099,
                    0.0617608,
                    0.0576882,
                    0.0541574,
                    0.0514657,
                    0.049069,
                    0.0450731,
                    0.0420456
                  ],
                  "yaxis": "y"
                }
              ],
              "layout": {
                "legend": {
                  "tracegroupgap": 0
                },
                "margin": {
                  "t": 60
                },
                "template": {
                  "data": {
                    "bar": [
                      {
                        "error_x": {
                          "color": "#2a3f5f"
                        },
                        "error_y": {
                          "color": "#2a3f5f"
                        },
                        "marker": {
                          "line": {
                            "color": "#E5ECF6",
                            "width": 0.5
                          },
                          "pattern": {
                            "fillmode": "overlay",
                            "size": 10,
                            "solidity": 0.2
                          }
                        },
                        "type": "bar"
                      }
                    ],
                    "barpolar": [
                      {
                        "marker": {
                          "line": {
                            "color": "#E5ECF6",
                            "width": 0.5
                          },
                          "pattern": {
                            "fillmode": "overlay",
                            "size": 10,
                            "solidity": 0.2
                          }
                        },
                        "type": "barpolar"
                      }
                    ],
                    "carpet": [
                      {
                        "aaxis": {
                          "endlinecolor": "#2a3f5f",
                          "gridcolor": "white",
                          "linecolor": "white",
                          "minorgridcolor": "white",
                          "startlinecolor": "#2a3f5f"
                        },
                        "baxis": {
                          "endlinecolor": "#2a3f5f",
                          "gridcolor": "white",
                          "linecolor": "white",
                          "minorgridcolor": "white",
                          "startlinecolor": "#2a3f5f"
                        },
                        "type": "carpet"
                      }
                    ],
                    "choropleth": [
                      {
                        "colorbar": {
                          "outlinewidth": 0,
                          "ticks": ""
                        },
                        "type": "choropleth"
                      }
                    ],
                    "contour": [
                      {
                        "colorbar": {
                          "outlinewidth": 0,
                          "ticks": ""
                        },
                        "colorscale": [
                          [
                            0,
                            "#0d0887"
                          ],
                          [
                            0.1111111111111111,
                            "#46039f"
                          ],
                          [
                            0.2222222222222222,
                            "#7201a8"
                          ],
                          [
                            0.3333333333333333,
                            "#9c179e"
                          ],
                          [
                            0.4444444444444444,
                            "#bd3786"
                          ],
                          [
                            0.5555555555555556,
                            "#d8576b"
                          ],
                          [
                            0.6666666666666666,
                            "#ed7953"
                          ],
                          [
                            0.7777777777777778,
                            "#fb9f3a"
                          ],
                          [
                            0.8888888888888888,
                            "#fdca26"
                          ],
                          [
                            1,
                            "#f0f921"
                          ]
                        ],
                        "type": "contour"
                      }
                    ],
                    "contourcarpet": [
                      {
                        "colorbar": {
                          "outlinewidth": 0,
                          "ticks": ""
                        },
                        "type": "contourcarpet"
                      }
                    ],
                    "heatmap": [
                      {
                        "colorbar": {
                          "outlinewidth": 0,
                          "ticks": ""
                        },
                        "colorscale": [
                          [
                            0,
                            "#0d0887"
                          ],
                          [
                            0.1111111111111111,
                            "#46039f"
                          ],
                          [
                            0.2222222222222222,
                            "#7201a8"
                          ],
                          [
                            0.3333333333333333,
                            "#9c179e"
                          ],
                          [
                            0.4444444444444444,
                            "#bd3786"
                          ],
                          [
                            0.5555555555555556,
                            "#d8576b"
                          ],
                          [
                            0.6666666666666666,
                            "#ed7953"
                          ],
                          [
                            0.7777777777777778,
                            "#fb9f3a"
                          ],
                          [
                            0.8888888888888888,
                            "#fdca26"
                          ],
                          [
                            1,
                            "#f0f921"
                          ]
                        ],
                        "type": "heatmap"
                      }
                    ],
                    "heatmapgl": [
                      {
                        "colorbar": {
                          "outlinewidth": 0,
                          "ticks": ""
                        },
                        "colorscale": [
                          [
                            0,
                            "#0d0887"
                          ],
                          [
                            0.1111111111111111,
                            "#46039f"
                          ],
                          [
                            0.2222222222222222,
                            "#7201a8"
                          ],
                          [
                            0.3333333333333333,
                            "#9c179e"
                          ],
                          [
                            0.4444444444444444,
                            "#bd3786"
                          ],
                          [
                            0.5555555555555556,
                            "#d8576b"
                          ],
                          [
                            0.6666666666666666,
                            "#ed7953"
                          ],
                          [
                            0.7777777777777778,
                            "#fb9f3a"
                          ],
                          [
                            0.8888888888888888,
                            "#fdca26"
                          ],
                          [
                            1,
                            "#f0f921"
                          ]
                        ],
                        "type": "heatmapgl"
                      }
                    ],
                    "histogram": [
                      {
                        "marker": {
                          "pattern": {
                            "fillmode": "overlay",
                            "size": 10,
                            "solidity": 0.2
                          }
                        },
                        "type": "histogram"
                      }
                    ],
                    "histogram2d": [
                      {
                        "colorbar": {
                          "outlinewidth": 0,
                          "ticks": ""
                        },
                        "colorscale": [
                          [
                            0,
                            "#0d0887"
                          ],
                          [
                            0.1111111111111111,
                            "#46039f"
                          ],
                          [
                            0.2222222222222222,
                            "#7201a8"
                          ],
                          [
                            0.3333333333333333,
                            "#9c179e"
                          ],
                          [
                            0.4444444444444444,
                            "#bd3786"
                          ],
                          [
                            0.5555555555555556,
                            "#d8576b"
                          ],
                          [
                            0.6666666666666666,
                            "#ed7953"
                          ],
                          [
                            0.7777777777777778,
                            "#fb9f3a"
                          ],
                          [
                            0.8888888888888888,
                            "#fdca26"
                          ],
                          [
                            1,
                            "#f0f921"
                          ]
                        ],
                        "type": "histogram2d"
                      }
                    ],
                    "histogram2dcontour": [
                      {
                        "colorbar": {
                          "outlinewidth": 0,
                          "ticks": ""
                        },
                        "colorscale": [
                          [
                            0,
                            "#0d0887"
                          ],
                          [
                            0.1111111111111111,
                            "#46039f"
                          ],
                          [
                            0.2222222222222222,
                            "#7201a8"
                          ],
                          [
                            0.3333333333333333,
                            "#9c179e"
                          ],
                          [
                            0.4444444444444444,
                            "#bd3786"
                          ],
                          [
                            0.5555555555555556,
                            "#d8576b"
                          ],
                          [
                            0.6666666666666666,
                            "#ed7953"
                          ],
                          [
                            0.7777777777777778,
                            "#fb9f3a"
                          ],
                          [
                            0.8888888888888888,
                            "#fdca26"
                          ],
                          [
                            1,
                            "#f0f921"
                          ]
                        ],
                        "type": "histogram2dcontour"
                      }
                    ],
                    "mesh3d": [
                      {
                        "colorbar": {
                          "outlinewidth": 0,
                          "ticks": ""
                        },
                        "type": "mesh3d"
                      }
                    ],
                    "parcoords": [
                      {
                        "line": {
                          "colorbar": {
                            "outlinewidth": 0,
                            "ticks": ""
                          }
                        },
                        "type": "parcoords"
                      }
                    ],
                    "pie": [
                      {
                        "automargin": true,
                        "type": "pie"
                      }
                    ],
                    "scatter": [
                      {
                        "marker": {
                          "colorbar": {
                            "outlinewidth": 0,
                            "ticks": ""
                          }
                        },
                        "type": "scatter"
                      }
                    ],
                    "scatter3d": [
                      {
                        "line": {
                          "colorbar": {
                            "outlinewidth": 0,
                            "ticks": ""
                          }
                        },
                        "marker": {
                          "colorbar": {
                            "outlinewidth": 0,
                            "ticks": ""
                          }
                        },
                        "type": "scatter3d"
                      }
                    ],
                    "scattercarpet": [
                      {
                        "marker": {
                          "colorbar": {
                            "outlinewidth": 0,
                            "ticks": ""
                          }
                        },
                        "type": "scattercarpet"
                      }
                    ],
                    "scattergeo": [
                      {
                        "marker": {
                          "colorbar": {
                            "outlinewidth": 0,
                            "ticks": ""
                          }
                        },
                        "type": "scattergeo"
                      }
                    ],
                    "scattergl": [
                      {
                        "marker": {
                          "colorbar": {
                            "outlinewidth": 0,
                            "ticks": ""
                          }
                        },
                        "type": "scattergl"
                      }
                    ],
                    "scattermapbox": [
                      {
                        "marker": {
                          "colorbar": {
                            "outlinewidth": 0,
                            "ticks": ""
                          }
                        },
                        "type": "scattermapbox"
                      }
                    ],
                    "scatterpolar": [
                      {
                        "marker": {
                          "colorbar": {
                            "outlinewidth": 0,
                            "ticks": ""
                          }
                        },
                        "type": "scatterpolar"
                      }
                    ],
                    "scatterpolargl": [
                      {
                        "marker": {
                          "colorbar": {
                            "outlinewidth": 0,
                            "ticks": ""
                          }
                        },
                        "type": "scatterpolargl"
                      }
                    ],
                    "scatterternary": [
                      {
                        "marker": {
                          "colorbar": {
                            "outlinewidth": 0,
                            "ticks": ""
                          }
                        },
                        "type": "scatterternary"
                      }
                    ],
                    "surface": [
                      {
                        "colorbar": {
                          "outlinewidth": 0,
                          "ticks": ""
                        },
                        "colorscale": [
                          [
                            0,
                            "#0d0887"
                          ],
                          [
                            0.1111111111111111,
                            "#46039f"
                          ],
                          [
                            0.2222222222222222,
                            "#7201a8"
                          ],
                          [
                            0.3333333333333333,
                            "#9c179e"
                          ],
                          [
                            0.4444444444444444,
                            "#bd3786"
                          ],
                          [
                            0.5555555555555556,
                            "#d8576b"
                          ],
                          [
                            0.6666666666666666,
                            "#ed7953"
                          ],
                          [
                            0.7777777777777778,
                            "#fb9f3a"
                          ],
                          [
                            0.8888888888888888,
                            "#fdca26"
                          ],
                          [
                            1,
                            "#f0f921"
                          ]
                        ],
                        "type": "surface"
                      }
                    ],
                    "table": [
                      {
                        "cells": {
                          "fill": {
                            "color": "#EBF0F8"
                          },
                          "line": {
                            "color": "white"
                          }
                        },
                        "header": {
                          "fill": {
                            "color": "#C8D4E3"
                          },
                          "line": {
                            "color": "white"
                          }
                        },
                        "type": "table"
                      }
                    ]
                  },
                  "layout": {
                    "annotationdefaults": {
                      "arrowcolor": "#2a3f5f",
                      "arrowhead": 0,
                      "arrowwidth": 1
                    },
                    "autotypenumbers": "strict",
                    "coloraxis": {
                      "colorbar": {
                        "outlinewidth": 0,
                        "ticks": ""
                      }
                    },
                    "colorscale": {
                      "diverging": [
                        [
                          0,
                          "#8e0152"
                        ],
                        [
                          0.1,
                          "#c51b7d"
                        ],
                        [
                          0.2,
                          "#de77ae"
                        ],
                        [
                          0.3,
                          "#f1b6da"
                        ],
                        [
                          0.4,
                          "#fde0ef"
                        ],
                        [
                          0.5,
                          "#f7f7f7"
                        ],
                        [
                          0.6,
                          "#e6f5d0"
                        ],
                        [
                          0.7,
                          "#b8e186"
                        ],
                        [
                          0.8,
                          "#7fbc41"
                        ],
                        [
                          0.9,
                          "#4d9221"
                        ],
                        [
                          1,
                          "#276419"
                        ]
                      ],
                      "sequential": [
                        [
                          0,
                          "#0d0887"
                        ],
                        [
                          0.1111111111111111,
                          "#46039f"
                        ],
                        [
                          0.2222222222222222,
                          "#7201a8"
                        ],
                        [
                          0.3333333333333333,
                          "#9c179e"
                        ],
                        [
                          0.4444444444444444,
                          "#bd3786"
                        ],
                        [
                          0.5555555555555556,
                          "#d8576b"
                        ],
                        [
                          0.6666666666666666,
                          "#ed7953"
                        ],
                        [
                          0.7777777777777778,
                          "#fb9f3a"
                        ],
                        [
                          0.8888888888888888,
                          "#fdca26"
                        ],
                        [
                          1,
                          "#f0f921"
                        ]
                      ],
                      "sequentialminus": [
                        [
                          0,
                          "#0d0887"
                        ],
                        [
                          0.1111111111111111,
                          "#46039f"
                        ],
                        [
                          0.2222222222222222,
                          "#7201a8"
                        ],
                        [
                          0.3333333333333333,
                          "#9c179e"
                        ],
                        [
                          0.4444444444444444,
                          "#bd3786"
                        ],
                        [
                          0.5555555555555556,
                          "#d8576b"
                        ],
                        [
                          0.6666666666666666,
                          "#ed7953"
                        ],
                        [
                          0.7777777777777778,
                          "#fb9f3a"
                        ],
                        [
                          0.8888888888888888,
                          "#fdca26"
                        ],
                        [
                          1,
                          "#f0f921"
                        ]
                      ]
                    },
                    "colorway": [
                      "#636efa",
                      "#EF553B",
                      "#00cc96",
                      "#ab63fa",
                      "#FFA15A",
                      "#19d3f3",
                      "#FF6692",
                      "#B6E880",
                      "#FF97FF",
                      "#FECB52"
                    ],
                    "font": {
                      "color": "#2a3f5f"
                    },
                    "geo": {
                      "bgcolor": "white",
                      "lakecolor": "white",
                      "landcolor": "#E5ECF6",
                      "showlakes": true,
                      "showland": true,
                      "subunitcolor": "white"
                    },
                    "hoverlabel": {
                      "align": "left"
                    },
                    "hovermode": "closest",
                    "mapbox": {
                      "style": "light"
                    },
                    "paper_bgcolor": "white",
                    "plot_bgcolor": "#E5ECF6",
                    "polar": {
                      "angularaxis": {
                        "gridcolor": "white",
                        "linecolor": "white",
                        "ticks": ""
                      },
                      "bgcolor": "#E5ECF6",
                      "radialaxis": {
                        "gridcolor": "white",
                        "linecolor": "white",
                        "ticks": ""
                      }
                    },
                    "scene": {
                      "xaxis": {
                        "backgroundcolor": "#E5ECF6",
                        "gridcolor": "white",
                        "gridwidth": 2,
                        "linecolor": "white",
                        "showbackground": true,
                        "ticks": "",
                        "zerolinecolor": "white"
                      },
                      "yaxis": {
                        "backgroundcolor": "#E5ECF6",
                        "gridcolor": "white",
                        "gridwidth": 2,
                        "linecolor": "white",
                        "showbackground": true,
                        "ticks": "",
                        "zerolinecolor": "white"
                      },
                      "zaxis": {
                        "backgroundcolor": "#E5ECF6",
                        "gridcolor": "white",
                        "gridwidth": 2,
                        "linecolor": "white",
                        "showbackground": true,
                        "ticks": "",
                        "zerolinecolor": "white"
                      }
                    },
                    "shapedefaults": {
                      "line": {
                        "color": "#2a3f5f"
                      }
                    },
                    "ternary": {
                      "aaxis": {
                        "gridcolor": "white",
                        "linecolor": "white",
                        "ticks": ""
                      },
                      "baxis": {
                        "gridcolor": "white",
                        "linecolor": "white",
                        "ticks": ""
                      },
                      "bgcolor": "#E5ECF6",
                      "caxis": {
                        "gridcolor": "white",
                        "linecolor": "white",
                        "ticks": ""
                      }
                    },
                    "title": {
                      "x": 0.05
                    },
                    "xaxis": {
                      "automargin": true,
                      "gridcolor": "white",
                      "linecolor": "white",
                      "ticks": "",
                      "title": {
                        "standoff": 15
                      },
                      "zerolinecolor": "white",
                      "zerolinewidth": 2
                    },
                    "yaxis": {
                      "automargin": true,
                      "gridcolor": "white",
                      "linecolor": "white",
                      "ticks": "",
                      "title": {
                        "standoff": 15
                      },
                      "zerolinecolor": "white",
                      "zerolinewidth": 2
                    }
                  }
                },
                "xaxis": {
                  "anchor": "y",
                  "domain": [
                    0,
                    1
                  ],
                  "title": {
                    "text": "Photon energy [eV]"
                  },
                  "type": "log"
                },
                "yaxis": {
                  "anchor": "x",
                  "domain": [
                    0,
                    1
                  ],
                  "title": {
                    "text": "Cross-section [barn]"
                  },
                  "type": "log"
                }
              }
            }
          },
          "metadata": {},
          "output_type": "display_data"
        }
      ],
      "source": [
        "import ENDF6\n",
        "import plotly.express as px\n",
        "path = \"C:\\\\Cross-Section-Data\\\\jendl5-n\\\\n_001-H-001.dat\"\n",
        "f = open(path)\n",
        "lines = f.readlines()\n",
        "sec = ENDF6.find_section(lines, MF=3, MT=1)  # total cross-section\n",
        "x, y = ENDF6.read_table(sec)\n",
        "px.scatter(x=x, y=y, labels = {'x':\"Photon energy [eV]\", 'y' : \"Cross-section [barn]\"},\n",
        "log_x = True, log_y = True)\n"
      ]
    },
    {
      "cell_type": "code",
      "execution_count": 21,
      "metadata": {},
      "outputs": [
        {
          "data": {
            "text/plain": [
              "(200000000.0, 0.0420456)"
            ]
          },
          "execution_count": 21,
          "metadata": {},
          "output_type": "execute_result"
        }
      ],
      "source": [
        "import numpy as np\n",
        "index = np.argmax(x/y)\n",
        "x[index], y[index]"
      ]
    },
    {
      "cell_type": "code",
      "execution_count": null,
      "metadata": {},
      "outputs": [],
      "source": []
    }
  ],
  "metadata": {
    "colab": {
      "name": "Optimized Radionuclide Production.ipynb",
      "provenance": []
    },
    "interpreter": {
      "hash": "b5623c593edf3a9c30fecf3e392f1a3c31f722d7f93243239e2241963cc60577"
    },
    "kernelspec": {
      "display_name": "Julia 1.7.2",
      "language": "julia",
      "name": "julia-1.7"
    },
    "language_info": {
      "file_extension": ".jl",
      "mimetype": "application/julia",
      "name": "julia",
      "version": "1.7.2"
    }
  },
  "nbformat": 4,
  "nbformat_minor": 0
}
