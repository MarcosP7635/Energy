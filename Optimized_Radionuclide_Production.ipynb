{
  "cells": [
    {
      "cell_type": "markdown",
      "metadata": {},
      "source": [
        "The goal of this notebook is to write code that given a specific nucleus to produce, an efficiency will be calculated based on the required input energy, target cross sections, and power density of the product to find the optimal use of radionuclide production as a method of energy storage. \n",
        "\n",
        "This can also be used to generate a theoretical maximum of storage efficiency for each product. \n",
        "\n",
        "To start, we'll need cross sections. \n",
        "\n",
        "Will attempt to download the entirety of (or write a very fast query for) \n",
        "https://doi.org/10.1016/j.nds.2018.02.001\n",
        "\n",
        "Pivoting to use Jeff32 since it has a singular directory with many neutron cross sections for different targets. https://www.oecd-nea.org/dbforms/data/eva/evatapes/jeff_32/\n",
        "\n",
        "JENDL appears to have both neutron and proton cross section data for transmutation, so this seems very promising. It uses the ENDF6 format https://www-nds.iaea.org/public/endf/ \n",
        "\n",
        "Finally found the database explorer for ENDF, will be using this as well. \n",
        "https://www-nds.iaea.org/exfor/e4explorer.htm "
      ]
    },
    {
      "cell_type": "markdown",
      "metadata": {},
      "source": [
        "#Derivations for nuclide production\n",
        "Consider a target $T$ with a cross section $\\sigma$ at an energy level of $E_{particle}$. We have for the production rate (from \"Industrial Accelerators and their Applications\")\n",
        "\\begin{equation}\n",
        "\\frac{dR}{dx} = In\\sigma\n",
        "\\end{equation}\n",
        "Integrating, we have for the number of nuclei produced\n",
        "\\begin{equation}\n",
        "N = \\int\\int\\frac{dR}{dx}dxdt = \\int\\int In\\sigma dxdt\n",
        "\\end{equation}\n",
        "Where $R$ is the production rate in atoms per second, $x$ is the depth of the material, $n$ is the nuclei/volume, and $\\sigma$ is the cross section in area/nucleus, and $I$ is the flow rate in moles/second of the beam. It's also important to note that the beam energy is also a function of $x$. Thus we have for the energy input \n",
        "\\begin{equation}\n",
        "E_{in} = \\int IE_{incident \\ particle} dt\n",
        "\\end{equation}\n",
        "For a given decay chain whose parent nucleus has $N$ particles we have for a pure amount of this substance a specific energy (energy density) $\\rho_{E}$ of \n",
        "\\begin{equation}\n",
        "E_{out} = Z_{product}N\\rho_{E}\n",
        "\\end{equation}\n",
        "where $Z$ is the mass number of the product and $N_A$ is Avogadro's constant. \n",
        "Thus we have for the energy efficiency of this process, \n",
        "\\begin{equation}\n",
        "\\frac{E_{out}}{E_{in}} = \\frac{Z_{product}N\\rho_{E}}{\\int IE_{incident \\ particle} dt} =  \n",
        "\\frac{Z_{product}\\rho_{E}\\int\\int In\\sigma dxdt}{\\int IE_{incident \\ particle} dt}\n",
        "\\end{equation}"
      ]
    },
    {
      "cell_type": "markdown",
      "metadata": {},
      "source": [
        "##Thin target case with constant beam current and energy\n",
        "\\begin{equation}\n",
        "\\frac{E_{out}}{E_{in}} = \\frac{Z_{product}\\rho_{E} In\\sigma xt}{IE_{incident \\ particle}t} = \\frac{Z\\rho_{E} n\\sigma x}{E_{incident \\ particle}}\n",
        "\\end{equation}\n",
        "Rearranging to find the energy efficiency per thickness of material \n",
        "\\begin{equation}\n",
        "\\frac{E_{out}}{xE_{in}} = \\frac{Z_{product}\\rho_{E} n\\sigma }{E_{incident \\ particle}}\n",
        "\\end{equation}\n",
        "Thus, our figure of merit for a reaction will be energy efficiency per thickness of material. \n",
        "We'll be dealing with a lot of data and computations so I'll use Julia instead of Python. "
      ]
    },
    {
      "cell_type": "code",
      "execution_count": 2,
      "metadata": {},
      "outputs": [
        {
          "data": {
            "text/plain": [
              "\"C:\\\\Cross-Section-Data\\\\\""
            ]
          },
          "metadata": {},
          "output_type": "display_data"
        }
      ],
      "source": [
        "using Unitful #https://painterqubits.github.io/Unitful.jl/stable/\n",
        "#quantity * @u_str(\"unit abbreviation\") \n",
        "using Symbolics #https://symbolics.juliasymbolics.org/dev/\n",
        "#cite https://doi.org/10.48550/arXiv.2105.03949\n",
        "using Latexify\n",
        "using Test\n",
        "#1 * @u_str(\"mA\") is 1 milliamp\n",
        "using CSV, DataFrames\n",
        "using Plots\n",
        "using Printf\n",
        "#plotlyjs()\n",
        "data_dir = (\"C:\\\\Cross-Section-Data\\\\\")"
      ]
    },
    {
      "cell_type": "markdown",
      "metadata": {},
      "source": [
        "#ENDF6\n",
        "\n",
        "For each section of file 3 (reaction cross sections) the format of each column is \n",
        "\n",
        "[MAT, 3, MT/ ZA, AWR, 0, 0, 0, 0] HEAD\n",
        "\n",
        "[MAT, 3, MT/ QM, QI, 0, LR, NR, NP/ Eint/ σ(E)]TAB1\n",
        "\n",
        "[MAT, 3, 0/ 0.0, 0.0, 0, 0, 0, 0] SEND\n",
        "\n",
        "where \n",
        "\n",
        "This function creates a properly formatted matrix of 64 bit floats from the file path of an ENDF6 formatted text file.\n",
        "\n",
        "Use list comprehension to check if each line (in the form of a string) is in the valid data format, take only those rows, and convert each of them to a matrix, which is then converted into two vectors."
      ]
    },
    {
      "cell_type": "code",
      "execution_count": 113,
      "metadata": {},
      "outputs": [
        {
          "data": {
            "text/plain": [
              "find_section (generic function with 1 method)"
            ]
          },
          "metadata": {},
          "output_type": "display_data"
        }
      ],
      "source": [
        "# Reference: https://github.com/DavidWalz/pyENDF6\n",
        "\n",
        "slices = Dict(\n",
        "    \"MAT\" => 67:71,\n",
        "    \"MF\" => 72:74,\n",
        "    \"MT\" => 75:78,\n",
        "    \"line\" => 78:83,\n",
        "    \"content\" => 1:67,\n",
        "    \"data\" => [a-10:a for a in 11*collect(1:6)])\n",
        "\n",
        "\n",
        "function read_float(v)\n",
        "    #Convert ENDF6 string to float \n",
        "    a, b = [' '], \"\" \n",
        "    if (strip(v, a) == b)\n",
        "        return 0.\n",
        "    end\n",
        "    try\n",
        "        return parse(Float64, v)\n",
        "    catch\n",
        "        # ENDF6 may omit the e for exponent\n",
        "        return parse(Float64,\n",
        "            v[1] * replace(replace(v[2:end], \"+\" => \"e+\"), \"-\" => \"e-\"))  # don't replace leading negative sign\n",
        "    end\n",
        "end  \n",
        "\n",
        "function read_line(l)\n",
        "    #Read first 6*11 characters of a line as floats\"\"\"\n",
        "    return [read_float(l[s]) for s in slices[\"data\"]]\n",
        "end\n",
        " \n",
        "function read_table(lines)\n",
        "    #=\n",
        "    Parse tabulated data in a section\n",
        "    https://t2.lanl.gov/nis/endf/intro07.html\n",
        "    https://t2.lanl.gov/nis/endf/intro08.html\n",
        "    https://t2.lanl.gov/nis/endf/intro09.html\n",
        "    =#\n",
        "    # header line 1: (100*Z+A), mass in [m_neutron]\n",
        "    # [MAT, 3, MT/ ZA, AWR, 0, 0, 0, 0] HEAD\n",
        "\n",
        "    # header line 2: Q-value and some counts\n",
        "    # [MAT, 3, MT/ QM, QI, 0, LR, NR, NP/ EINT/ S(E)] TAB1\n",
        "    f = read_line(lines[2])\n",
        "    nS = Int64(f[5])  # number of interpolation sections\n",
        "    nP = Int64(f[6])  # number of data points\n",
        "    # header line 3: interpolation information\n",
        "    # [MAT, 3, 0/ 0.0, 0.0, 0, 0, 0, 0] SEND\n",
        "    # 1   y is constant in x (constant, histogram)\n",
        "    # 2   y is linear in x (linear-linear)\n",
        "    # 3   y is linear in ln(x) (linear-log)\n",
        "    # 4   ln(y) is linear in x (log-linear)\n",
        "    # 5   ln(y) is linear in ln(x) (log-log)\n",
        "    # 6   y obeys a Gamow charged-particle penetrability law\n",
        "\n",
        "    # data lines\n",
        "    x = []\n",
        "    y = []\n",
        "    for l in lines[4:end]\n",
        "        f = read_line(l)\n",
        "        append!(x, f[1], f[3], f[5])\n",
        "        append!(y, f[2], f[4], f[6])\n",
        "    end\n",
        "    return x[1:nP], y[1:nP]\n",
        "end \n",
        "\n",
        "function find_section(lines, MF, MT)\n",
        "    #\"\"\"Locate and return a certain section\"\"\"\n",
        "    v = [l[71:75] for l in lines]\n",
        "    cmpstr = \"$(@sprintf(\"%2s\", MF))$(@sprintf(\"%3s\", MT))\" # search string\n",
        "    i0 = collect(findfirst(==(cmpstr), v))[1] # first occurrence\n",
        "    i1 = collect(findlast(==(cmpstr), v))[1] # last occurrence\n",
        "    return lines[i0: i1]\n",
        "end"
      ]
    },
    {
      "cell_type": "code",
      "execution_count": 115,
      "metadata": {},
      "outputs": [
        {
          "data": {
            "image/png": "[encoded data removed]",
            "image/svg+xml": "<?xml version=\"1.0\" encoding=\"utf-8\"?>\n<svg xmlns=\"http://www.w3.org/2000/svg\" xmlns:xlink=\"http://www.w3.org/1999/xlink\" width=\"600\" height=\"400\" viewBox=\"0 0 2400 1600\">\n<defs>\n  <clipPath id=\"clip180\">\n    <rect x=\"0\" y=\"0\" width=\"2400\" height=\"1600\"/>\n  </clipPath>\n</defs>\n<path clip-path=\"url(#clip180)\" d=\"\nM0 1600 L2400 1600 L2400 0 L0 0  Z\n  \" fill=\"#ffffff\" fill-rule=\"evenodd\" fill-opacity=\"1\"/>\n<defs>\n  <clipPath id=\"clip181\">\n    <rect x=\"480\" y=\"0\" width=\"1681\" height=\"1600\"/>\n  </clipPath>\n</defs>\n<path clip-path=\"url(#clip180)\" d=\"\nM188.104 1474.16 L2352.76 1474.16 L2352.76 47.2441 L188.104 47.2441  Z\n  \" fill=\"#ffffff\" fill-rule=\"evenodd\" fill-opacity=\"1\"/>\n<defs>\n  <clipPath id=\"clip182\">\n    <rect x=\"188\" y=\"47\" width=\"2166\" height=\"1428\"/>\n  </clipPath>\n</defs>\n<polyline clip-path=\"url(#clip182)\" style=\"stroke:#000000; stroke-linecap:butt; stroke-linejoin:round; stroke-width:2; stroke-opacity:0.1; fill:none\" points=\"\n  249.368,1474.16 249.368,47.2441 \n  \"/>\n<polyline clip-path=\"url(#clip182)\" style=\"stroke:#000000; stroke-linecap:butt; stroke-linejoin:round; stroke-width:2; stroke-opacity:0.1; fill:none\" points=\"\n  1017.02,1474.16 1017.02,47.2441 \n  \"/>\n<polyline clip-path=\"url(#clip182)\" style=\"stroke:#000000; stroke-linecap:butt; stroke-linejoin:round; stroke-width:2; stroke-opacity:0.1; fill:none\" points=\"\n  1784.68,1474.16 1784.68,47.2441 \n  \"/>\n<polyline clip-path=\"url(#clip180)\" style=\"stroke:#000000; stroke-linecap:butt; stroke-linejoin:round; stroke-width:4; stroke-opacity:1; fill:none\" points=\"\n  188.104,1474.16 2352.76,1474.16 \n  \"/>\n<polyline clip-path=\"url(#clip180)\" style=\"stroke:#000000; stroke-linecap:butt; stroke-linejoin:round; stroke-width:4; stroke-opacity:1; fill:none\" points=\"\n  249.368,1474.16 249.368,1455.27 \n  \"/>\n<polyline clip-path=\"url(#clip180)\" style=\"stroke:#000000; stroke-linecap:butt; stroke-linejoin:round; stroke-width:4; stroke-opacity:1; fill:none\" points=\"\n  1017.02,1474.16 1017.02,1455.27 \n  \"/>\n<polyline clip-path=\"url(#clip180)\" style=\"stroke:#000000; stroke-linecap:butt; stroke-linejoin:round; stroke-width:4; stroke-opacity:1; fill:none\" points=\"\n  1784.68,1474.16 1784.68,1455.27 \n  \"/>\n<path clip-path=\"url(#clip180)\" d=\"M199.389 1548.29 L207.028 1548.29 L207.028 1521.92 L198.718 1523.59 L198.718 1519.33 L206.982 1517.66 L211.658 1517.66 L211.658 1548.29 L219.296 1548.29 L219.296 1552.22 L199.389 1552.22 L199.389 1548.29 Z\" fill=\"#000000\" fill-rule=\"evenodd\" fill-opacity=\"1\" /><path clip-path=\"url(#clip180)\" d=\"M238.741 1520.74 Q235.13 1520.74 233.301 1524.31 Q231.495 1527.85 231.495 1534.98 Q231.495 1542.09 233.301 1545.65 Q235.13 1549.19 238.741 1549.19 Q242.375 1549.19 244.181 1545.65 Q246.009 1542.09 246.009 1534.98 Q246.009 1527.85 244.181 1524.31 Q242.375 1520.74 238.741 1520.74 M238.741 1517.04 Q244.551 1517.04 247.606 1521.65 Q250.685 1526.23 250.685 1534.98 Q250.685 1543.71 247.606 1548.31 Q244.551 1552.9 238.741 1552.9 Q232.931 1552.9 229.852 1548.31 Q226.796 1543.71 226.796 1534.98 Q226.796 1526.23 229.852 1521.65 Q232.931 1517.04 238.741 1517.04 Z\" fill=\"#000000\" fill-rule=\"evenodd\" fill-opacity=\"1\" /><path clip-path=\"url(#clip180)\" d=\"M250.685 1511.14 L274.797 1511.14 L274.797 1514.34 L250.685 1514.34 L250.685 1511.14 Z\" fill=\"#000000\" fill-rule=\"evenodd\" fill-opacity=\"1\" /><path clip-path=\"url(#clip180)\" d=\"M283.035 1496.73 L297.949 1496.73 L297.949 1499.93 L286.514 1499.93 L286.514 1506.82 Q287.341 1506.53 288.169 1506.4 Q288.997 1506.25 289.824 1506.25 Q294.526 1506.25 297.272 1508.83 Q300.018 1511.4 300.018 1515.81 Q300.018 1520.34 297.197 1522.86 Q294.376 1525.36 289.241 1525.36 Q287.473 1525.36 285.63 1525.06 Q283.806 1524.76 281.85 1524.16 L281.85 1520.34 Q283.542 1521.26 285.348 1521.71 Q287.153 1522.16 289.166 1522.16 Q292.42 1522.16 294.319 1520.45 Q296.219 1518.74 296.219 1515.81 Q296.219 1512.87 294.319 1511.16 Q292.42 1509.45 289.166 1509.45 Q287.642 1509.45 286.119 1509.79 Q284.614 1510.13 283.035 1510.84 L283.035 1496.73 Z\" fill=\"#000000\" fill-rule=\"evenodd\" fill-opacity=\"1\" /><path clip-path=\"url(#clip180)\" d=\"M982.007 1548.29 L989.646 1548.29 L989.646 1521.92 L981.336 1523.59 L981.336 1519.33 L989.6 1517.66 L994.276 1517.66 L994.276 1548.29 L1001.91 1548.29 L1001.91 1552.22 L982.007 1552.22 L982.007 1548.29 Z\" fill=\"#000000\" fill-rule=\"evenodd\" fill-opacity=\"1\" /><path clip-path=\"url(#clip180)\" d=\"M1021.36 1520.74 Q1017.75 1520.74 1015.92 1524.31 Q1014.11 1527.85 1014.11 1534.98 Q1014.11 1542.09 1015.92 1545.65 Q1017.75 1549.19 1021.36 1549.19 Q1024.99 1549.19 1026.8 1545.65 Q1028.63 1542.09 1028.63 1534.98 Q1028.63 1527.85 1026.8 1524.31 Q1024.99 1520.74 1021.36 1520.74 M1021.36 1517.04 Q1027.17 1517.04 1030.22 1521.65 Q1033.3 1526.23 1033.3 1534.98 Q1033.3 1543.71 1030.22 1548.31 Q1027.17 1552.9 1021.36 1552.9 Q1015.55 1552.9 1012.47 1548.31 Q1009.41 1543.71 1009.41 1534.98 Q1009.41 1526.23 1012.47 1521.65 Q1015.55 1517.04 1021.36 1517.04 Z\" fill=\"#000000\" fill-rule=\"evenodd\" fill-opacity=\"1\" /><path clip-path=\"url(#clip180)\" d=\"M1043.01 1499.24 Q1040.07 1499.24 1038.59 1502.13 Q1037.12 1505.01 1037.12 1510.8 Q1037.12 1516.58 1038.59 1519.47 Q1040.07 1522.35 1043.01 1522.35 Q1045.96 1522.35 1047.43 1519.47 Q1048.91 1516.58 1048.91 1510.8 Q1048.91 1505.01 1047.43 1502.13 Q1045.96 1499.24 1043.01 1499.24 M1043.01 1496.23 Q1047.73 1496.23 1050.21 1499.97 Q1052.71 1503.69 1052.71 1510.8 Q1052.71 1517.89 1050.21 1521.64 Q1047.73 1525.36 1043.01 1525.36 Q1038.29 1525.36 1035.79 1521.64 Q1033.3 1517.89 1033.3 1510.8 Q1033.3 1503.69 1035.79 1499.97 Q1038.29 1496.23 1043.01 1496.23 Z\" fill=\"#000000\" fill-rule=\"evenodd\" fill-opacity=\"1\" /><path clip-path=\"url(#clip180)\" d=\"M1750.28 1548.29 L1757.92 1548.29 L1757.92 1521.92 L1749.61 1523.59 L1749.61 1519.33 L1757.88 1517.66 L1762.55 1517.66 L1762.55 1548.29 L1770.19 1548.29 L1770.19 1552.22 L1750.28 1552.22 L1750.28 1548.29 Z\" fill=\"#000000\" fill-rule=\"evenodd\" fill-opacity=\"1\" /><path clip-path=\"url(#clip180)\" d=\"M1789.64 1520.74 Q1786.02 1520.74 1784.2 1524.31 Q1782.39 1527.85 1782.39 1534.98 Q1782.39 1542.09 1784.2 1545.65 Q1786.02 1549.19 1789.64 1549.19 Q1793.27 1549.19 1795.08 1545.65 Q1796.9 1542.09 1796.9 1534.98 Q1796.9 1527.85 1795.08 1524.31 Q1793.27 1520.74 1789.64 1520.74 M1789.64 1517.04 Q1795.45 1517.04 1798.5 1521.65 Q1801.58 1526.23 1801.58 1534.98 Q1801.58 1543.71 1798.5 1548.31 Q1795.45 1552.9 1789.64 1552.9 Q1783.83 1552.9 1780.75 1548.31 Q1777.69 1543.71 1777.69 1534.98 Q1777.69 1526.23 1780.75 1521.65 Q1783.83 1517.04 1789.64 1517.04 Z\" fill=\"#000000\" fill-rule=\"evenodd\" fill-opacity=\"1\" /><path clip-path=\"url(#clip180)\" d=\"M1802.77 1496.73 L1817.68 1496.73 L1817.68 1499.93 L1806.24 1499.93 L1806.24 1506.82 Q1807.07 1506.53 1807.9 1506.4 Q1808.73 1506.25 1809.55 1506.25 Q1814.26 1506.25 1817 1508.83 Q1819.75 1511.4 1819.75 1515.81 Q1819.75 1520.34 1816.93 1522.86 Q1814.11 1525.36 1808.97 1525.36 Q1807.2 1525.36 1805.36 1525.06 Q1803.54 1524.76 1801.58 1524.16 L1801.58 1520.34 Q1803.27 1521.26 1805.08 1521.71 Q1806.88 1522.16 1808.9 1522.16 Q1812.15 1522.16 1814.05 1520.45 Q1815.95 1518.74 1815.95 1515.81 Q1815.95 1512.87 1814.05 1511.16 Q1812.15 1509.45 1808.9 1509.45 Q1807.37 1509.45 1805.85 1509.79 Q1804.35 1510.13 1802.77 1510.84 L1802.77 1496.73 Z\" fill=\"#000000\" fill-rule=\"evenodd\" fill-opacity=\"1\" /><polyline clip-path=\"url(#clip182)\" style=\"stroke:#000000; stroke-linecap:butt; stroke-linejoin:round; stroke-width:2; stroke-opacity:0.1; fill:none\" points=\"\n  188.104,1261.87 2352.76,1261.87 \n  \"/>\n<polyline clip-path=\"url(#clip182)\" style=\"stroke:#000000; stroke-linecap:butt; stroke-linejoin:round; stroke-width:2; stroke-opacity:0.1; fill:none\" points=\"\n  188.104,804.988 2352.76,804.988 \n  \"/>\n<polyline clip-path=\"url(#clip182)\" style=\"stroke:#000000; stroke-linecap:butt; stroke-linejoin:round; stroke-width:2; stroke-opacity:0.1; fill:none\" points=\"\n  188.104,348.109 2352.76,348.109 \n  \"/>\n<polyline clip-path=\"url(#clip180)\" style=\"stroke:#000000; stroke-linecap:butt; stroke-linejoin:round; stroke-width:4; stroke-opacity:1; fill:none\" points=\"\n  188.104,1474.16 188.104,47.2441 \n  \"/>\n<polyline clip-path=\"url(#clip180)\" style=\"stroke:#000000; stroke-linecap:butt; stroke-linejoin:round; stroke-width:4; stroke-opacity:1; fill:none\" points=\"\n  188.104,1261.87 207.002,1261.87 \n  \"/>\n<polyline clip-path=\"url(#clip180)\" style=\"stroke:#000000; stroke-linecap:butt; stroke-linejoin:round; stroke-width:4; stroke-opacity:1; fill:none\" points=\"\n  188.104,804.988 207.002,804.988 \n  \"/>\n<polyline clip-path=\"url(#clip180)\" style=\"stroke:#000000; stroke-linecap:butt; stroke-linejoin:round; stroke-width:4; stroke-opacity:1; fill:none\" points=\"\n  188.104,348.109 207.002,348.109 \n  \"/>\n<path clip-path=\"url(#clip180)\" d=\"M51.6634 1281.66 L59.3023 1281.66 L59.3023 1255.29 L50.9921 1256.96 L50.9921 1252.7 L59.256 1251.03 L63.9319 1251.03 L63.9319 1281.66 L71.5707 1281.66 L71.5707 1285.59 L51.6634 1285.59 L51.6634 1281.66 Z\" fill=\"#000000\" fill-rule=\"evenodd\" fill-opacity=\"1\" /><path clip-path=\"url(#clip180)\" d=\"M91.0151 1254.11 Q87.404 1254.11 85.5753 1257.68 Q83.7697 1261.22 83.7697 1268.35 Q83.7697 1275.45 85.5753 1279.02 Q87.404 1282.56 91.0151 1282.56 Q94.6493 1282.56 96.4548 1279.02 Q98.2835 1275.45 98.2835 1268.35 Q98.2835 1261.22 96.4548 1257.68 Q94.6493 1254.11 91.0151 1254.11 M91.0151 1250.41 Q96.8252 1250.41 99.8808 1255.02 Q102.959 1259.6 102.959 1268.35 Q102.959 1277.08 99.8808 1281.68 Q96.8252 1286.27 91.0151 1286.27 Q85.2049 1286.27 82.1262 1281.68 Q79.0707 1277.08 79.0707 1268.35 Q79.0707 1259.6 82.1262 1255.02 Q85.2049 1250.41 91.0151 1250.41 Z\" fill=\"#000000\" fill-rule=\"evenodd\" fill-opacity=\"1\" /><path clip-path=\"url(#clip180)\" d=\"M102.959 1244.51 L127.071 1244.51 L127.071 1247.71 L102.959 1247.71 L102.959 1244.51 Z\" fill=\"#000000\" fill-rule=\"evenodd\" fill-opacity=\"1\" /><path clip-path=\"url(#clip180)\" d=\"M135.929 1254.99 L142.136 1254.99 L142.136 1233.56 L135.384 1234.92 L135.384 1231.46 L142.098 1230.1 L145.898 1230.1 L145.898 1254.99 L152.104 1254.99 L152.104 1258.18 L135.929 1258.18 L135.929 1254.99 Z\" fill=\"#000000\" fill-rule=\"evenodd\" fill-opacity=\"1\" /><path clip-path=\"url(#clip180)\" d=\"M81.3985 824.78 L89.0374 824.78 L89.0374 798.415 L80.7272 800.081 L80.7272 795.822 L88.9911 794.155 L93.667 794.155 L93.667 824.78 L101.306 824.78 L101.306 828.715 L81.3985 828.715 L81.3985 824.78 Z\" fill=\"#000000\" fill-rule=\"evenodd\" fill-opacity=\"1\" /><path clip-path=\"url(#clip180)\" d=\"M120.75 797.234 Q117.139 797.234 115.31 800.799 Q113.505 804.341 113.505 811.47 Q113.505 818.577 115.31 822.141 Q117.139 825.683 120.75 825.683 Q124.384 825.683 126.19 822.141 Q128.019 818.577 128.019 811.47 Q128.019 804.341 126.19 800.799 Q124.384 797.234 120.75 797.234 M120.75 793.53 Q126.56 793.53 129.616 798.137 Q132.695 802.72 132.695 811.47 Q132.695 820.197 129.616 824.803 Q126.56 829.387 120.75 829.387 Q114.94 829.387 111.861 824.803 Q108.806 820.197 108.806 811.47 Q108.806 802.72 111.861 798.137 Q114.94 793.53 120.75 793.53 Z\" fill=\"#000000\" fill-rule=\"evenodd\" fill-opacity=\"1\" /><path clip-path=\"url(#clip180)\" d=\"M142.399 775.726 Q139.465 775.726 137.98 778.623 Q136.513 781.5 136.513 787.293 Q136.513 793.067 137.98 795.964 Q139.465 798.841 142.399 798.841 Q145.352 798.841 146.819 795.964 Q148.305 793.067 148.305 787.293 Q148.305 781.5 146.819 778.623 Q145.352 775.726 142.399 775.726 M142.399 772.717 Q147.12 772.717 149.603 776.46 Q152.104 780.184 152.104 787.293 Q152.104 794.384 149.603 798.126 Q147.12 801.85 142.399 801.85 Q137.679 801.85 135.177 798.126 Q132.695 794.384 132.695 787.293 Q132.695 780.184 135.177 776.46 Q137.679 772.717 142.399 772.717 Z\" fill=\"#000000\" fill-rule=\"evenodd\" fill-opacity=\"1\" /><path clip-path=\"url(#clip180)\" d=\"M84.088 367.902 L91.7269 367.902 L91.7269 341.536 L83.4167 343.203 L83.4167 338.944 L91.6806 337.277 L96.3565 337.277 L96.3565 367.902 L103.995 367.902 L103.995 371.837 L84.088 371.837 L84.088 367.902 Z\" fill=\"#000000\" fill-rule=\"evenodd\" fill-opacity=\"1\" /><path clip-path=\"url(#clip180)\" d=\"M123.44 340.356 Q119.829 340.356 118 343.92 Q116.194 347.462 116.194 354.592 Q116.194 361.698 118 365.263 Q119.829 368.805 123.44 368.805 Q127.074 368.805 128.879 365.263 Q130.708 361.698 130.708 354.592 Q130.708 347.462 128.879 343.92 Q127.074 340.356 123.44 340.356 M123.44 336.652 Q129.25 336.652 132.305 341.258 Q135.384 345.842 135.384 354.592 Q135.384 363.319 132.305 367.925 Q129.25 372.508 123.44 372.508 Q117.63 372.508 114.551 367.925 Q111.495 363.319 111.495 354.592 Q111.495 345.842 114.551 341.258 Q117.63 336.652 123.44 336.652 Z\" fill=\"#000000\" fill-rule=\"evenodd\" fill-opacity=\"1\" /><path clip-path=\"url(#clip180)\" d=\"M135.929 341.229 L142.136 341.229 L142.136 319.807 L135.384 321.161 L135.384 317.701 L142.098 316.347 L145.898 316.347 L145.898 341.229 L152.104 341.229 L152.104 344.427 L135.929 344.427 L135.929 341.229 Z\" fill=\"#000000\" fill-rule=\"evenodd\" fill-opacity=\"1\" /><polyline clip-path=\"url(#clip182)\" style=\"stroke:#009af9; stroke-linecap:butt; stroke-linejoin:round; stroke-width:4; stroke-opacity:1; fill:none\" points=\"\n  249.368,87.6286 295.585,115.681 356.682,144.399 402.899,160.618 449.117,172.943 510.213,184.56 556.43,190.684 602.648,195.13 663.744,199.161 709.962,201.224 \n  771.853,203.092 863.493,204.678 909.711,205.151 970.807,205.571 1017.02,205.784 1063.24,205.935 1124.34,206.072 1170.56,206.146 1216.77,206.207 1277.87,206.288 \n  1324.09,206.375 1370.3,206.52 1431.4,206.925 1477.62,207.581 1523.84,208.876 1550.87,210.158 1570.05,211.428 1584.93,212.687 1597.09,213.937 1607.37,215.175 \n  1616.27,216.404 1624.12,217.623 1631.15,218.832 1643.31,221.222 1653.58,223.575 1662.49,225.892 1670.34,228.174 1677.37,230.421 1683.72,232.636 1689.52,234.818 \n  1694.86,236.968 1699.8,239.088 1704.4,241.179 1714.68,246.278 1723.58,251.207 1731.44,255.976 1738.46,260.592 1744.82,265.066 1750.62,269.404 1755.96,273.614 \n  1760.9,277.703 1765.5,281.676 1769.8,285.54 1773.84,289.3 1777.66,292.96 1781.26,296.526 1784.68,300.001 1791.04,306.696 1796.84,313.074 1802.17,319.162 \n  1807.12,324.982 1811.72,330.554 1816.02,335.897 1820.06,341.028 1823.87,345.96 1827.48,350.707 1830.9,355.282 1837.25,363.955 1843.06,372.057 1848.39,379.652 \n  1853.33,386.794 1857.93,393.53 1862.24,399.901 1866.28,405.939 1870.09,411.677 1873.7,417.14 1877.12,422.351 1880.37,427.332 1883.47,432.1 1886.43,436.671 \n  1889.27,441.061 1891.99,445.283 1898.35,455.174 1904.15,464.24 1909.49,472.603 1914.43,480.363 1919.03,487.6 1923.33,494.381 1927.38,500.759 1931.19,506.783 \n  1934.79,512.49 1938.21,517.913 1944.57,528.019 1950.37,537.287 1955.71,545.855 1960.65,553.835 1965.25,561.311 1969.55,568.352 1973.59,575.015 1977.4,581.345 \n  1981.01,587.38 1984.43,593.153 1990.78,604.015 1996.59,614.102 2001.92,623.543 2006.86,632.435 2011.47,640.856 2015.77,648.865 2019.81,656.512 2023.62,663.837 \n  2027.23,670.874 2030.65,677.649 2033.9,684.188 2037,690.509 2039.97,696.632 2042.8,702.57 2045.53,708.338 2048.14,713.948 2050.66,719.409 2053.08,724.731 \n  2055.42,729.922 2057.68,734.991 2059.87,739.943 2061.99,744.786 2064.04,749.524 2066.03,754.163 2067.96,758.708 2072.56,769.686 2076.86,780.161 2080.91,790.182 \n  2084.72,799.793 2088.32,809.028 2091.74,817.919 2095,826.493 2098.1,834.773 2101.06,842.78 2103.9,850.533 2106.62,858.048 2109.24,865.34 2111.75,872.423 \n  2114.18,879.308 2116.52,886.007 2118.78,892.53 2120.97,898.887 2123.08,905.086 2125.13,911.135 2127.12,917.042 2129.06,922.813 2130.94,928.456 2132.76,933.975 \n  2134.54,939.377 2136.27,944.668 2137.96,949.851 2137.96,950.57 2141.21,961.316 2144.32,971.003 2147.28,979.731 2150.12,988.312 2152.84,996.763 2155.45,1005.07 \n  2157.97,1013.24 2160.4,1021.25 2162.74,1029.11 2165,1036.81 2169.3,1051.73 2173.34,1066.03 2177.15,1079.78 2180.76,1093.09 2184.18,1105.87 2187.43,1118.05 \n  2190.53,1129.6 2193.5,1140.51 2196.34,1150.82 2199.06,1160.55 2201.67,1169.77 2204.19,1178.57 2206.61,1187.09 2208.95,1195.4 2211.21,1203.52 2213.4,1211.44 \n  2215.52,1219.13 2217.57,1226.59 2219.56,1233.82 2221.49,1240.8 2223.37,1247.53 2225.2,1254.01 2226.98,1260.25 2228.71,1266.24 2230.4,1272 2232.04,1277.54 \n  2233.65,1282.86 2235.22,1288 2236.75,1292.98 2238.25,1297.81 2239.71,1302.52 2241.15,1307.16 2242.55,1311.71 2243.93,1316.15 2245.27,1320.48 2251.63,1339.82 \n  2257.43,1357.48 2262.77,1371.02 2267.71,1383.55 2272.31,1393.67 2276.61,1403.13 2284.47,1419.98 2291.49,1433.78 \n  \"/>\n<path clip-path=\"url(#clip180)\" d=\"\nM1987.65 198.488 L2280.6 198.488 L2280.6 94.8081 L1987.65 94.8081  Z\n  \" fill=\"#ffffff\" fill-rule=\"evenodd\" fill-opacity=\"1\"/>\n<polyline clip-path=\"url(#clip180)\" style=\"stroke:#000000; stroke-linecap:butt; stroke-linejoin:round; stroke-width:4; stroke-opacity:1; fill:none\" points=\"\n  1987.65,198.488 2280.6,198.488 2280.6,94.8081 1987.65,94.8081 1987.65,198.488 \n  \"/>\n<polyline clip-path=\"url(#clip180)\" style=\"stroke:#009af9; stroke-linecap:butt; stroke-linejoin:round; stroke-width:4; stroke-opacity:1; fill:none\" points=\"\n  2011.71,146.648 2156.02,146.648 \n  \"/>\n<path clip-path=\"url(#clip180)\" d=\"M2193.91 166.336 Q2192.1 170.965 2190.39 172.377 Q2188.68 173.789 2185.81 173.789 L2182.41 173.789 L2182.41 170.224 L2184.91 170.224 Q2186.66 170.224 2187.64 169.391 Q2188.61 168.558 2189.79 165.456 L2190.55 163.511 L2180.07 138.002 L2184.58 138.002 L2192.68 158.28 L2200.78 138.002 L2205.3 138.002 L2193.91 166.336 Z\" fill=\"#000000\" fill-rule=\"evenodd\" fill-opacity=\"1\" /><path clip-path=\"url(#clip180)\" d=\"M2212.59 159.993 L2220.23 159.993 L2220.23 133.627 L2211.92 135.294 L2211.92 131.035 L2220.18 129.368 L2224.86 129.368 L2224.86 159.993 L2232.5 159.993 L2232.5 163.928 L2212.59 163.928 L2212.59 159.993 Z\" fill=\"#000000\" fill-rule=\"evenodd\" fill-opacity=\"1\" /></svg>\n",
            "text/html": [
              "<?xml version=\"1.0\" encoding=\"utf-8\"?>\n",
              "<svg xmlns=\"http://www.w3.org/2000/svg\" xmlns:xlink=\"http://www.w3.org/1999/xlink\" width=\"600\" height=\"400\" viewBox=\"0 0 2400 1600\">\n",
              "<defs>\n",
              "  <clipPath id=\"clip230\">\n",
              "    <rect x=\"0\" y=\"0\" width=\"2400\" height=\"1600\"/>\n",
              "  </clipPath>\n",
              "</defs>\n",
              "<path clip-path=\"url(#clip230)\" d=\"\n",
              "M0 1600 L2400 1600 L2400 0 L0 0  Z\n",
              "  \" fill=\"#ffffff\" fill-rule=\"evenodd\" fill-opacity=\"1\"/>\n",
              "<defs>\n",
              "  <clipPath id=\"clip231\">\n",
              "    <rect x=\"480\" y=\"0\" width=\"1681\" height=\"1600\"/>\n",
              "  </clipPath>\n",
              "</defs>\n",
              "<path clip-path=\"url(#clip230)\" d=\"\n",
              "M188.104 1474.16 L2352.76 1474.16 L2352.76 47.2441 L188.104 47.2441  Z\n",
              "  \" fill=\"#ffffff\" fill-rule=\"evenodd\" fill-opacity=\"1\"/>\n",
              "<defs>\n",
              "  <clipPath id=\"clip232\">\n",
              "    <rect x=\"188\" y=\"47\" width=\"2166\" height=\"1428\"/>\n",
              "  </clipPath>\n",
              "</defs>\n",
              "<polyline clip-path=\"url(#clip232)\" style=\"stroke:#000000; stroke-linecap:butt; stroke-linejoin:round; stroke-width:2; stroke-opacity:0.1; fill:none\" points=\"\n",
              "  249.368,1474.16 249.368,47.2441 \n",
              "  \"/>\n",
              "<polyline clip-path=\"url(#clip232)\" style=\"stroke:#000000; stroke-linecap:butt; stroke-linejoin:round; stroke-width:2; stroke-opacity:0.1; fill:none\" points=\"\n",
              "  1017.02,1474.16 1017.02,47.2441 \n",
              "  \"/>\n",
              "<polyline clip-path=\"url(#clip232)\" style=\"stroke:#000000; stroke-linecap:butt; stroke-linejoin:round; stroke-width:2; stroke-opacity:0.1; fill:none\" points=\"\n",
              "  1784.68,1474.16 1784.68,47.2441 \n",
              "  \"/>\n",
              "<polyline clip-path=\"url(#clip230)\" style=\"stroke:#000000; stroke-linecap:butt; stroke-linejoin:round; stroke-width:4; stroke-opacity:1; fill:none\" points=\"\n",
              "  188.104,1474.16 2352.76,1474.16 \n",
              "  \"/>\n",
              "<polyline clip-path=\"url(#clip230)\" style=\"stroke:#000000; stroke-linecap:butt; stroke-linejoin:round; stroke-width:4; stroke-opacity:1; fill:none\" points=\"\n",
              "  249.368,1474.16 249.368,1455.27 \n",
              "  \"/>\n",
              "<polyline clip-path=\"url(#clip230)\" style=\"stroke:#000000; stroke-linecap:butt; stroke-linejoin:round; stroke-width:4; stroke-opacity:1; fill:none\" points=\"\n",
              "  1017.02,1474.16 1017.02,1455.27 \n",
              "  \"/>\n",
              "<polyline clip-path=\"url(#clip230)\" style=\"stroke:#000000; stroke-linecap:butt; stroke-linejoin:round; stroke-width:4; stroke-opacity:1; fill:none\" points=\"\n",
              "  1784.68,1474.16 1784.68,1455.27 \n",
              "  \"/>\n",
              "<path clip-path=\"url(#clip230)\" d=\"M199.389 1548.29 L207.028 1548.29 L207.028 1521.92 L198.718 1523.59 L198.718 1519.33 L206.982 1517.66 L211.658 1517.66 L211.658 1548.29 L219.296 1548.29 L219.296 1552.22 L199.389 1552.22 L199.389 1548.29 Z\" fill=\"#000000\" fill-rule=\"evenodd\" fill-opacity=\"1\" /><path clip-path=\"url(#clip230)\" d=\"M238.741 1520.74 Q235.13 1520.74 233.301 1524.31 Q231.495 1527.85 231.495 1534.98 Q231.495 1542.09 233.301 1545.65 Q235.13 1549.19 238.741 1549.19 Q242.375 1549.19 244.181 1545.65 Q246.009 1542.09 246.009 1534.98 Q246.009 1527.85 244.181 1524.31 Q242.375 1520.74 238.741 1520.74 M238.741 1517.04 Q244.551 1517.04 247.606 1521.65 Q250.685 1526.23 250.685 1534.98 Q250.685 1543.71 247.606 1548.31 Q244.551 1552.9 238.741 1552.9 Q232.931 1552.9 229.852 1548.31 Q226.796 1543.71 226.796 1534.98 Q226.796 1526.23 229.852 1521.65 Q232.931 1517.04 238.741 1517.04 Z\" fill=\"#000000\" fill-rule=\"evenodd\" fill-opacity=\"1\" /><path clip-path=\"url(#clip230)\" d=\"M250.685 1511.14 L274.797 1511.14 L274.797 1514.34 L250.685 1514.34 L250.685 1511.14 Z\" fill=\"#000000\" fill-rule=\"evenodd\" fill-opacity=\"1\" /><path clip-path=\"url(#clip230)\" d=\"M283.035 1496.73 L297.949 1496.73 L297.949 1499.93 L286.514 1499.93 L286.514 1506.82 Q287.341 1506.53 288.169 1506.4 Q288.997 1506.25 289.824 1506.25 Q294.526 1506.25 297.272 1508.83 Q300.018 1511.4 300.018 1515.81 Q300.018 1520.34 297.197 1522.86 Q294.376 1525.36 289.241 1525.36 Q287.473 1525.36 285.63 1525.06 Q283.806 1524.76 281.85 1524.16 L281.85 1520.34 Q283.542 1521.26 285.348 1521.71 Q287.153 1522.16 289.166 1522.16 Q292.42 1522.16 294.319 1520.45 Q296.219 1518.74 296.219 1515.81 Q296.219 1512.87 294.319 1511.16 Q292.42 1509.45 289.166 1509.45 Q287.642 1509.45 286.119 1509.79 Q284.614 1510.13 283.035 1510.84 L283.035 1496.73 Z\" fill=\"#000000\" fill-rule=\"evenodd\" fill-opacity=\"1\" /><path clip-path=\"url(#clip230)\" d=\"M982.007 1548.29 L989.646 1548.29 L989.646 1521.92 L981.336 1523.59 L981.336 1519.33 L989.6 1517.66 L994.276 1517.66 L994.276 1548.29 L1001.91 1548.29 L1001.91 1552.22 L982.007 1552.22 L982.007 1548.29 Z\" fill=\"#000000\" fill-rule=\"evenodd\" fill-opacity=\"1\" /><path clip-path=\"url(#clip230)\" d=\"M1021.36 1520.74 Q1017.75 1520.74 1015.92 1524.31 Q1014.11 1527.85 1014.11 1534.98 Q1014.11 1542.09 1015.92 1545.65 Q1017.75 1549.19 1021.36 1549.19 Q1024.99 1549.19 1026.8 1545.65 Q1028.63 1542.09 1028.63 1534.98 Q1028.63 1527.85 1026.8 1524.31 Q1024.99 1520.74 1021.36 1520.74 M1021.36 1517.04 Q1027.17 1517.04 1030.22 1521.65 Q1033.3 1526.23 1033.3 1534.98 Q1033.3 1543.71 1030.22 1548.31 Q1027.17 1552.9 1021.36 1552.9 Q1015.55 1552.9 1012.47 1548.31 Q1009.41 1543.71 1009.41 1534.98 Q1009.41 1526.23 1012.47 1521.65 Q1015.55 1517.04 1021.36 1517.04 Z\" fill=\"#000000\" fill-rule=\"evenodd\" fill-opacity=\"1\" /><path clip-path=\"url(#clip230)\" d=\"M1043.01 1499.24 Q1040.07 1499.24 1038.59 1502.13 Q1037.12 1505.01 1037.12 1510.8 Q1037.12 1516.58 1038.59 1519.47 Q1040.07 1522.35 1043.01 1522.35 Q1045.96 1522.35 1047.43 1519.47 Q1048.91 1516.58 1048.91 1510.8 Q1048.91 1505.01 1047.43 1502.13 Q1045.96 1499.24 1043.01 1499.24 M1043.01 1496.23 Q1047.73 1496.23 1050.21 1499.97 Q1052.71 1503.69 1052.71 1510.8 Q1052.71 1517.89 1050.21 1521.64 Q1047.73 1525.36 1043.01 1525.36 Q1038.29 1525.36 1035.79 1521.64 Q1033.3 1517.89 1033.3 1510.8 Q1033.3 1503.69 1035.79 1499.97 Q1038.29 1496.23 1043.01 1496.23 Z\" fill=\"#000000\" fill-rule=\"evenodd\" fill-opacity=\"1\" /><path clip-path=\"url(#clip230)\" d=\"M1750.28 1548.29 L1757.92 1548.29 L1757.92 1521.92 L1749.61 1523.59 L1749.61 1519.33 L1757.88 1517.66 L1762.55 1517.66 L1762.55 1548.29 L1770.19 1548.29 L1770.19 1552.22 L1750.28 1552.22 L1750.28 1548.29 Z\" fill=\"#000000\" fill-rule=\"evenodd\" fill-opacity=\"1\" /><path clip-path=\"url(#clip230)\" d=\"M1789.64 1520.74 Q1786.02 1520.74 1784.2 1524.31 Q1782.39 1527.85 1782.39 1534.98 Q1782.39 1542.09 1784.2 1545.65 Q1786.02 1549.19 1789.64 1549.19 Q1793.27 1549.19 1795.08 1545.65 Q1796.9 1542.09 1796.9 1534.98 Q1796.9 1527.85 1795.08 1524.31 Q1793.27 1520.74 1789.64 1520.74 M1789.64 1517.04 Q1795.45 1517.04 1798.5 1521.65 Q1801.58 1526.23 1801.58 1534.98 Q1801.58 1543.71 1798.5 1548.31 Q1795.45 1552.9 1789.64 1552.9 Q1783.83 1552.9 1780.75 1548.31 Q1777.69 1543.71 1777.69 1534.98 Q1777.69 1526.23 1780.75 1521.65 Q1783.83 1517.04 1789.64 1517.04 Z\" fill=\"#000000\" fill-rule=\"evenodd\" fill-opacity=\"1\" /><path clip-path=\"url(#clip230)\" d=\"M1802.77 1496.73 L1817.68 1496.73 L1817.68 1499.93 L1806.24 1499.93 L1806.24 1506.82 Q1807.07 1506.53 1807.9 1506.4 Q1808.73 1506.25 1809.55 1506.25 Q1814.26 1506.25 1817 1508.83 Q1819.75 1511.4 1819.75 1515.81 Q1819.75 1520.34 1816.93 1522.86 Q1814.11 1525.36 1808.97 1525.36 Q1807.2 1525.36 1805.36 1525.06 Q1803.54 1524.76 1801.58 1524.16 L1801.58 1520.34 Q1803.27 1521.26 1805.08 1521.71 Q1806.88 1522.16 1808.9 1522.16 Q1812.15 1522.16 1814.05 1520.45 Q1815.95 1518.74 1815.95 1515.81 Q1815.95 1512.87 1814.05 1511.16 Q1812.15 1509.45 1808.9 1509.45 Q1807.37 1509.45 1805.85 1509.79 Q1804.35 1510.13 1802.77 1510.84 L1802.77 1496.73 Z\" fill=\"#000000\" fill-rule=\"evenodd\" fill-opacity=\"1\" /><polyline clip-path=\"url(#clip232)\" style=\"stroke:#000000; stroke-linecap:butt; stroke-linejoin:round; stroke-width:2; stroke-opacity:0.1; fill:none\" points=\"\n",
              "  188.104,1261.87 2352.76,1261.87 \n",
              "  \"/>\n",
              "<polyline clip-path=\"url(#clip232)\" style=\"stroke:#000000; stroke-linecap:butt; stroke-linejoin:round; stroke-width:2; stroke-opacity:0.1; fill:none\" points=\"\n",
              "  188.104,804.988 2352.76,804.988 \n",
              "  \"/>\n",
              "<polyline clip-path=\"url(#clip232)\" style=\"stroke:#000000; stroke-linecap:butt; stroke-linejoin:round; stroke-width:2; stroke-opacity:0.1; fill:none\" points=\"\n",
              "  188.104,348.109 2352.76,348.109 \n",
              "  \"/>\n",
              "<polyline clip-path=\"url(#clip230)\" style=\"stroke:#000000; stroke-linecap:butt; stroke-linejoin:round; stroke-width:4; stroke-opacity:1; fill:none\" points=\"\n",
              "  188.104,1474.16 188.104,47.2441 \n",
              "  \"/>\n",
              "<polyline clip-path=\"url(#clip230)\" style=\"stroke:#000000; stroke-linecap:butt; stroke-linejoin:round; stroke-width:4; stroke-opacity:1; fill:none\" points=\"\n",
              "  188.104,1261.87 207.002,1261.87 \n",
              "  \"/>\n",
              "<polyline clip-path=\"url(#clip230)\" style=\"stroke:#000000; stroke-linecap:butt; stroke-linejoin:round; stroke-width:4; stroke-opacity:1; fill:none\" points=\"\n",
              "  188.104,804.988 207.002,804.988 \n",
              "  \"/>\n",
              "<polyline clip-path=\"url(#clip230)\" style=\"stroke:#000000; stroke-linecap:butt; stroke-linejoin:round; stroke-width:4; stroke-opacity:1; fill:none\" points=\"\n",
              "  188.104,348.109 207.002,348.109 \n",
              "  \"/>\n",
              "<path clip-path=\"url(#clip230)\" d=\"M51.6634 1281.66 L59.3023 1281.66 L59.3023 1255.29 L50.9921 1256.96 L50.9921 1252.7 L59.256 1251.03 L63.9319 1251.03 L63.9319 1281.66 L71.5707 1281.66 L71.5707 1285.59 L51.6634 1285.59 L51.6634 1281.66 Z\" fill=\"#000000\" fill-rule=\"evenodd\" fill-opacity=\"1\" /><path clip-path=\"url(#clip230)\" d=\"M91.0151 1254.11 Q87.404 1254.11 85.5753 1257.68 Q83.7697 1261.22 83.7697 1268.35 Q83.7697 1275.45 85.5753 1279.02 Q87.404 1282.56 91.0151 1282.56 Q94.6493 1282.56 96.4548 1279.02 Q98.2835 1275.45 98.2835 1268.35 Q98.2835 1261.22 96.4548 1257.68 Q94.6493 1254.11 91.0151 1254.11 M91.0151 1250.41 Q96.8252 1250.41 99.8808 1255.02 Q102.959 1259.6 102.959 1268.35 Q102.959 1277.08 99.8808 1281.68 Q96.8252 1286.27 91.0151 1286.27 Q85.2049 1286.27 82.1262 1281.68 Q79.0707 1277.08 79.0707 1268.35 Q79.0707 1259.6 82.1262 1255.02 Q85.2049 1250.41 91.0151 1250.41 Z\" fill=\"#000000\" fill-rule=\"evenodd\" fill-opacity=\"1\" /><path clip-path=\"url(#clip230)\" d=\"M102.959 1244.51 L127.071 1244.51 L127.071 1247.71 L102.959 1247.71 L102.959 1244.51 Z\" fill=\"#000000\" fill-rule=\"evenodd\" fill-opacity=\"1\" /><path clip-path=\"url(#clip230)\" d=\"M135.929 1254.99 L142.136 1254.99 L142.136 1233.56 L135.384 1234.92 L135.384 1231.46 L142.098 1230.1 L145.898 1230.1 L145.898 1254.99 L152.104 1254.99 L152.104 1258.18 L135.929 1258.18 L135.929 1254.99 Z\" fill=\"#000000\" fill-rule=\"evenodd\" fill-opacity=\"1\" /><path clip-path=\"url(#clip230)\" d=\"M81.3985 824.78 L89.0374 824.78 L89.0374 798.415 L80.7272 800.081 L80.7272 795.822 L88.9911 794.155 L93.667 794.155 L93.667 824.78 L101.306 824.78 L101.306 828.715 L81.3985 828.715 L81.3985 824.78 Z\" fill=\"#000000\" fill-rule=\"evenodd\" fill-opacity=\"1\" /><path clip-path=\"url(#clip230)\" d=\"M120.75 797.234 Q117.139 797.234 115.31 800.799 Q113.505 804.341 113.505 811.47 Q113.505 818.577 115.31 822.141 Q117.139 825.683 120.75 825.683 Q124.384 825.683 126.19 822.141 Q128.019 818.577 128.019 811.47 Q128.019 804.341 126.19 800.799 Q124.384 797.234 120.75 797.234 M120.75 793.53 Q126.56 793.53 129.616 798.137 Q132.695 802.72 132.695 811.47 Q132.695 820.197 129.616 824.803 Q126.56 829.387 120.75 829.387 Q114.94 829.387 111.861 824.803 Q108.806 820.197 108.806 811.47 Q108.806 802.72 111.861 798.137 Q114.94 793.53 120.75 793.53 Z\" fill=\"#000000\" fill-rule=\"evenodd\" fill-opacity=\"1\" /><path clip-path=\"url(#clip230)\" d=\"M142.399 775.726 Q139.465 775.726 137.98 778.623 Q136.513 781.5 136.513 787.293 Q136.513 793.067 137.98 795.964 Q139.465 798.841 142.399 798.841 Q145.352 798.841 146.819 795.964 Q148.305 793.067 148.305 787.293 Q148.305 781.5 146.819 778.623 Q145.352 775.726 142.399 775.726 M142.399 772.717 Q147.12 772.717 149.603 776.46 Q152.104 780.184 152.104 787.293 Q152.104 794.384 149.603 798.126 Q147.12 801.85 142.399 801.85 Q137.679 801.85 135.177 798.126 Q132.695 794.384 132.695 787.293 Q132.695 780.184 135.177 776.46 Q137.679 772.717 142.399 772.717 Z\" fill=\"#000000\" fill-rule=\"evenodd\" fill-opacity=\"1\" /><path clip-path=\"url(#clip230)\" d=\"M84.088 367.902 L91.7269 367.902 L91.7269 341.536 L83.4167 343.203 L83.4167 338.944 L91.6806 337.277 L96.3565 337.277 L96.3565 367.902 L103.995 367.902 L103.995 371.837 L84.088 371.837 L84.088 367.902 Z\" fill=\"#000000\" fill-rule=\"evenodd\" fill-opacity=\"1\" /><path clip-path=\"url(#clip230)\" d=\"M123.44 340.356 Q119.829 340.356 118 343.92 Q116.194 347.462 116.194 354.592 Q116.194 361.698 118 365.263 Q119.829 368.805 123.44 368.805 Q127.074 368.805 128.879 365.263 Q130.708 361.698 130.708 354.592 Q130.708 347.462 128.879 343.92 Q127.074 340.356 123.44 340.356 M123.44 336.652 Q129.25 336.652 132.305 341.258 Q135.384 345.842 135.384 354.592 Q135.384 363.319 132.305 367.925 Q129.25 372.508 123.44 372.508 Q117.63 372.508 114.551 367.925 Q111.495 363.319 111.495 354.592 Q111.495 345.842 114.551 341.258 Q117.63 336.652 123.44 336.652 Z\" fill=\"#000000\" fill-rule=\"evenodd\" fill-opacity=\"1\" /><path clip-path=\"url(#clip230)\" d=\"M135.929 341.229 L142.136 341.229 L142.136 319.807 L135.384 321.161 L135.384 317.701 L142.098 316.347 L145.898 316.347 L145.898 341.229 L152.104 341.229 L152.104 344.427 L135.929 344.427 L135.929 341.229 Z\" fill=\"#000000\" fill-rule=\"evenodd\" fill-opacity=\"1\" /><polyline clip-path=\"url(#clip232)\" style=\"stroke:#009af9; stroke-linecap:butt; stroke-linejoin:round; stroke-width:4; stroke-opacity:1; fill:none\" points=\"\n",
              "  249.368,87.6286 295.585,115.681 356.682,144.399 402.899,160.618 449.117,172.943 510.213,184.56 556.43,190.684 602.648,195.13 663.744,199.161 709.962,201.224 \n",
              "  771.853,203.092 863.493,204.678 909.711,205.151 970.807,205.571 1017.02,205.784 1063.24,205.935 1124.34,206.072 1170.56,206.146 1216.77,206.207 1277.87,206.288 \n",
              "  1324.09,206.375 1370.3,206.52 1431.4,206.925 1477.62,207.581 1523.84,208.876 1550.87,210.158 1570.05,211.428 1584.93,212.687 1597.09,213.937 1607.37,215.175 \n",
              "  1616.27,216.404 1624.12,217.623 1631.15,218.832 1643.31,221.222 1653.58,223.575 1662.49,225.892 1670.34,228.174 1677.37,230.421 1683.72,232.636 1689.52,234.818 \n",
              "  1694.86,236.968 1699.8,239.088 1704.4,241.179 1714.68,246.278 1723.58,251.207 1731.44,255.976 1738.46,260.592 1744.82,265.066 1750.62,269.404 1755.96,273.614 \n",
              "  1760.9,277.703 1765.5,281.676 1769.8,285.54 1773.84,289.3 1777.66,292.96 1781.26,296.526 1784.68,300.001 1791.04,306.696 1796.84,313.074 1802.17,319.162 \n",
              "  1807.12,324.982 1811.72,330.554 1816.02,335.897 1820.06,341.028 1823.87,345.96 1827.48,350.707 1830.9,355.282 1837.25,363.955 1843.06,372.057 1848.39,379.652 \n",
              "  1853.33,386.794 1857.93,393.53 1862.24,399.901 1866.28,405.939 1870.09,411.677 1873.7,417.14 1877.12,422.351 1880.37,427.332 1883.47,432.1 1886.43,436.671 \n",
              "  1889.27,441.061 1891.99,445.283 1898.35,455.174 1904.15,464.24 1909.49,472.603 1914.43,480.363 1919.03,487.6 1923.33,494.381 1927.38,500.759 1931.19,506.783 \n",
              "  1934.79,512.49 1938.21,517.913 1944.57,528.019 1950.37,537.287 1955.71,545.855 1960.65,553.835 1965.25,561.311 1969.55,568.352 1973.59,575.015 1977.4,581.345 \n",
              "  1981.01,587.38 1984.43,593.153 1990.78,604.015 1996.59,614.102 2001.92,623.543 2006.86,632.435 2011.47,640.856 2015.77,648.865 2019.81,656.512 2023.62,663.837 \n",
              "  2027.23,670.874 2030.65,677.649 2033.9,684.188 2037,690.509 2039.97,696.632 2042.8,702.57 2045.53,708.338 2048.14,713.948 2050.66,719.409 2053.08,724.731 \n",
              "  2055.42,729.922 2057.68,734.991 2059.87,739.943 2061.99,744.786 2064.04,749.524 2066.03,754.163 2067.96,758.708 2072.56,769.686 2076.86,780.161 2080.91,790.182 \n",
              "  2084.72,799.793 2088.32,809.028 2091.74,817.919 2095,826.493 2098.1,834.773 2101.06,842.78 2103.9,850.533 2106.62,858.048 2109.24,865.34 2111.75,872.423 \n",
              "  2114.18,879.308 2116.52,886.007 2118.78,892.53 2120.97,898.887 2123.08,905.086 2125.13,911.135 2127.12,917.042 2129.06,922.813 2130.94,928.456 2132.76,933.975 \n",
              "  2134.54,939.377 2136.27,944.668 2137.96,949.851 2137.96,950.57 2141.21,961.316 2144.32,971.003 2147.28,979.731 2150.12,988.312 2152.84,996.763 2155.45,1005.07 \n",
              "  2157.97,1013.24 2160.4,1021.25 2162.74,1029.11 2165,1036.81 2169.3,1051.73 2173.34,1066.03 2177.15,1079.78 2180.76,1093.09 2184.18,1105.87 2187.43,1118.05 \n",
              "  2190.53,1129.6 2193.5,1140.51 2196.34,1150.82 2199.06,1160.55 2201.67,1169.77 2204.19,1178.57 2206.61,1187.09 2208.95,1195.4 2211.21,1203.52 2213.4,1211.44 \n",
              "  2215.52,1219.13 2217.57,1226.59 2219.56,1233.82 2221.49,1240.8 2223.37,1247.53 2225.2,1254.01 2226.98,1260.25 2228.71,1266.24 2230.4,1272 2232.04,1277.54 \n",
              "  2233.65,1282.86 2235.22,1288 2236.75,1292.98 2238.25,1297.81 2239.71,1302.52 2241.15,1307.16 2242.55,1311.71 2243.93,1316.15 2245.27,1320.48 2251.63,1339.82 \n",
              "  2257.43,1357.48 2262.77,1371.02 2267.71,1383.55 2272.31,1393.67 2276.61,1403.13 2284.47,1419.98 2291.49,1433.78 \n",
              "  \"/>\n",
              "<path clip-path=\"url(#clip230)\" d=\"\n",
              "M1987.65 198.488 L2280.6 198.488 L2280.6 94.8081 L1987.65 94.8081  Z\n",
              "  \" fill=\"#ffffff\" fill-rule=\"evenodd\" fill-opacity=\"1\"/>\n",
              "<polyline clip-path=\"url(#clip230)\" style=\"stroke:#000000; stroke-linecap:butt; stroke-linejoin:round; stroke-width:4; stroke-opacity:1; fill:none\" points=\"\n",
              "  1987.65,198.488 2280.6,198.488 2280.6,94.8081 1987.65,94.8081 1987.65,198.488 \n",
              "  \"/>\n",
              "<polyline clip-path=\"url(#clip230)\" style=\"stroke:#009af9; stroke-linecap:butt; stroke-linejoin:round; stroke-width:4; stroke-opacity:1; fill:none\" points=\"\n",
              "  2011.71,146.648 2156.02,146.648 \n",
              "  \"/>\n",
              "<path clip-path=\"url(#clip230)\" d=\"M2193.91 166.336 Q2192.1 170.965 2190.39 172.377 Q2188.68 173.789 2185.81 173.789 L2182.41 173.789 L2182.41 170.224 L2184.91 170.224 Q2186.66 170.224 2187.64 169.391 Q2188.61 168.558 2189.79 165.456 L2190.55 163.511 L2180.07 138.002 L2184.58 138.002 L2192.68 158.28 L2200.78 138.002 L2205.3 138.002 L2193.91 166.336 Z\" fill=\"#000000\" fill-rule=\"evenodd\" fill-opacity=\"1\" /><path clip-path=\"url(#clip230)\" d=\"M2212.59 159.993 L2220.23 159.993 L2220.23 133.627 L2211.92 135.294 L2211.92 131.035 L2220.18 129.368 L2224.86 129.368 L2224.86 159.993 L2232.5 159.993 L2232.5 163.928 L2212.59 163.928 L2212.59 159.993 Z\" fill=\"#000000\" fill-rule=\"evenodd\" fill-opacity=\"1\" /></svg>\n"
            ]
          },
          "metadata": {},
          "output_type": "display_data"
        }
      ],
      "source": [
        "file_path = data_dir  * String(\"jendl5-n\\\\n_001-H-001.dat\")\n",
        "open(file_path) do file\n",
        "    lines = split(read(file_path, String), \"\\n\", keepempty = false)\n",
        "    lines = lines[lines .!== nothing]\n",
        "    lines = lines[lines .!== \"\"]\n",
        "    lines = lines[lines .!== Nothing]\n",
        "    lines = String.(lines)\n",
        "    sec = find_section(lines, 3, 1)\n",
        "    x, y = read_table(sec)\n",
        "    plot(x, y, xaxis=:log, yaxis=:log)\n",
        "end\n",
        "#df = DataFrame(CSV.File(file_path, delim=' ', ignorerepeated=true, \n",
        "#           header=false))[:,1:6]\n",
        "#make array from all odd numbered columns"
      ]
    },
    {
      "cell_type": "code",
      "execution_count": 176,
      "metadata": {},
      "outputs": [
        {
          "name": "stdout",
          "output_type": "stream",
          "text": [
            "For output = (Z*n*ρ*σ) / E       (unitless)"
          ]
        },
        {
          "data": {
            "text/plain": [
              "\u001b[32m\u001b[1mTest Passed\u001b[22m\u001b[39m\n",
              "  Expression: reaction_figure_of_merit(ρ * u\"J/g\", Z * u\"g\", n * u\"cm\" ^ -2, σ * u\"cm\" ^ 2, E * u\"J\") - output == 0\n",
              "   Evaluated: 0 == 0"
            ]
          },
          "metadata": {},
          "output_type": "display_data"
        }
      ],
      "source": [
        "function reaction_figure_of_merit(energy_density, mass_number, target_nuclei_per_area, sigma, \n",
        "incident_particle_energy)\n",
        "    #For the product, we take the mass number to be equal to the molar mass\n",
        "    figure_of_merit = (energy_density * mass_number * \n",
        "        target_nuclei_per_area * sigma) / incident_particle_energy\n",
        "    return uconvert(Unitful.NoUnits, figure_of_merit) \n",
        "end\n",
        "\n",
        "ρ, Z, n, σ, E = @variables ρ, Z, n, σ, E\n",
        "output = ρ * Z * n * σ / E\n",
        "print(\"For output = \", output, \"       (unitless)\")\n",
        "Test.@test reaction_figure_of_merit(ρ * @u_str(\"J/g\"), Z * @u_str(\"g\"), \n",
        "    n * (@u_str(\"cm\")^-2), σ * @u_str(\"cm\")^2, E * @u_str(\"J\")) - output == 0"
      ]
    },
    {
      "cell_type": "code",
      "execution_count": 13,
      "metadata": {},
      "outputs": [
        {
          "name": "stdout",
          "output_type": "stream",
          "text": [
            "Data directory: C:\\Cross-Section-Data\\Data directory: C:\\Cross-Section-Data\\"
          ]
        },
        {
          "data": {
            "text/plain": [
              "7-element Vector{String}:\n",
              " \".git\"\n",
              " \".gitattributes\"\n",
              " \"E4R4949_e4.txt\"\n",
              " \"JEFF32N\"\n",
              " \"README.md\"\n",
              " \"jendl5-n\"\n",
              " \"jendl5-p\""
            ]
          },
          "metadata": {},
          "output_type": "display_data"
        }
      ],
      "source": [
        "dir = \"C:\\\\Cross-Section-Data\\\\\"\n",
        "print(\"Data directory: \", dir)\n",
        "files = readdir(dir)\n",
        "files"
      ]
    },
    {
      "cell_type": "code",
      "execution_count": 15,
      "metadata": {},
      "outputs": [
        {
          "data": {
            "text/plain": [
              "\"C:\\\\Cross-Section-Data\\\\jendl5-n\\\\\""
            ]
          },
          "metadata": {},
          "output_type": "display_data"
        }
      ],
      "source": [
        "neutron_dir = dir * \"jendl5-n\\\\\""
      ]
    },
    {
      "cell_type": "code",
      "execution_count": 24,
      "metadata": {},
      "outputs": [
        {
          "data": {
            "application/vnd.plotly.v1+json": {
              "config": {
                "plotlyServerURL": "https://plot.ly"
              },
              "data": [
                {
                  "hovertemplate": "Photon energy [eV]=%{x}<br>Cross-section [barn]=%{y}<extra></extra>",
                  "legendgroup": "",
                  "marker": {
                    "color": "#636efa",
                    "symbol": "circle"
                  },
                  "mode": "markers",
                  "name": "",
                  "orientation": "v",
                  "showlegend": false,
                  "type": "scatter",
                  "x": [
                    0.00001,
                    0.00002,
                    0.00005,
                    0.0001,
                    0.0002,
                    0.0005,
                    0.001,
                    0.002,
                    0.005,
                    0.01,
                    0.0253,
                    0.1,
                    0.2,
                    0.5,
                    1,
                    2,
                    5,
                    10,
                    20,
                    50,
                    100,
                    200,
                    500,
                    1000,
                    2000,
                    3000,
                    4000,
                    5000,
                    6000,
                    7000,
                    8000,
                    9000,
                    10000,
                    12000,
                    14000,
                    16000,
                    18000,
                    20000,
                    22000,
                    24000,
                    26000,
                    28000,
                    30000,
                    35000,
                    40000,
                    45000,
                    50000,
                    55000,
                    60000,
                    65000,
                    70000,
                    75000,
                    80000,
                    85000,
                    90000,
                    95000,
                    100000,
                    110000,
                    120000,
                    130000,
                    140000,
                    150000,
                    160000,
                    170000,
                    180000,
                    190000,
                    200000,
                    220000,
                    240000,
                    260000,
                    280000,
                    300000,
                    320000,
                    340000,
                    360000,
                    380000,
                    400000,
                    420000,
                    440000,
                    460000,
                    480000,
                    500000,
                    550000,
                    600000,
                    650000,
                    700000,
                    750000,
                    800000,
                    850000,
                    900000,
                    950000,
                    1000000,
                    1100000,
                    1200000,
                    1300000,
                    1400000,
                    1500000,
                    1600000,
                    1700000,
                    1800000,
                    1900000,
                    2000000,
                    2200000,
                    2400000,
                    2600000,
                    2800000,
                    3000000,
                    3200000,
                    3400000,
                    3600000,
                    3800000,
                    4000000,
                    4200000,
                    4400000,
                    4600000,
                    4800000,
                    5000000,
                    5200000,
                    5400000,
                    5600000,
                    5800000,
                    6000000,
                    6200000,
                    6400000,
                    6600000,
                    6800000,
                    7000000,
                    7500000,
                    8000000,
                    8500000,
                    9000000,
                    9500000,
                    10000000,
                    10500000,
                    11000000,
                    11500000,
                    12000000,
                    12500000,
                    13000000,
                    13500000,
                    14000000,
                    14500000,
                    15000000,
                    15500000,
                    16000000,
                    16500000,
                    17000000,
                    17500000,
                    18000000,
                    18500000,
                    19000000,
                    19500000,
                    20000000,
                    20000000,
                    21000000,
                    22000000,
                    23000000,
                    24000000,
                    25000000,
                    26000000,
                    27000000,
                    28000000,
                    29000000,
                    30000000,
                    32000000,
                    34000000,
                    36000000,
                    38000000,
                    40000000,
                    42000000,
                    44000000,
                    46000000,
                    48000000,
                    50000000,
                    52000000,
                    54000000,
                    56000000,
                    58000000,
                    60000000,
                    62000000,
                    64000000,
                    66000000,
                    68000000,
                    70000000,
                    72000000,
                    74000000,
                    76000000,
                    78000000,
                    80000000,
                    82000000,
                    84000000,
                    86000000,
                    88000000,
                    90000000,
                    92000000,
                    94000000,
                    96000000,
                    98000000,
                    100000000,
                    110000000,
                    120000000,
                    130000000,
                    140000000,
                    150000000,
                    160000000,
                    180000000,
                    200000000
                  ],
                  "xaxis": "x",
                  "y": [
                    37.16477,
                    32.26505,
                    27.91738,
                    25.72616,
                    24.17673,
                    22.80187,
                    22.10895,
                    21.61898,
                    21.18421,
                    20.96509,
                    20.76866,
                    20.60335,
                    20.55434,
                    20.51083,
                    20.48885,
                    20.47322,
                    20.45906,
                    20.45146,
                    20.44521,
                    20.43683,
                    20.42791,
                    20.41293,
                    20.37138,
                    20.30414,
                    20.17204,
                    20.04215,
                    19.91424,
                    19.78823,
                    19.66405,
                    19.54166,
                    19.42101,
                    19.30207,
                    19.18479,
                    18.9551,
                    18.73167,
                    18.51423,
                    18.30255,
                    18.0964,
                    17.89556,
                    17.69984,
                    17.50902,
                    17.32294,
                    17.14141,
                    16.70645,
                    16.29656,
                    15.9096,
                    15.54371,
                    15.19718,
                    14.86851,
                    14.55635,
                    14.25946,
                    13.97675,
                    13.70721,
                    13.44993,
                    13.2041,
                    12.96894,
                    12.74378,
                    12.32097,
                    11.9312,
                    11.5707,
                    11.23625,
                    10.92508,
                    10.63481,
                    10.36336,
                    10.10893,
                    9.869935,
                    9.644989,
                    9.232457,
                    8.863064,
                    8.530225,
                    8.228636,
                    7.953971,
                    7.70267,
                    7.471777,
                    7.258815,
                    7.061693,
                    6.878637,
                    6.708125,
                    6.548852,
                    6.399688,
                    6.259648,
                    6.127875,
                    5.829882,
                    5.569515,
                    5.339645,
                    5.13485,
                    4.950937,
                    4.784609,
                    4.633238,
                    4.494702,
                    4.367271,
                    4.249519,
                    4.038494,
                    3.854211,
                    3.691309,
                    3.54581,
                    3.414699,
                    3.295645,
                    3.186817,
                    3.086754,
                    2.994275,
                    2.908414,
                    2.753484,
                    2.617003,
                    2.495402,
                    2.386035,
                    2.286895,
                    2.196421,
                    2.113381,
                    2.036785,
                    1.965823,
                    1.899828,
                    1.838244,
                    1.780601,
                    1.726497,
                    1.67559,
                    1.627582,
                    1.582216,
                    1.539263,
                    1.498525,
                    1.459826,
                    1.423007,
                    1.387929,
                    1.354466,
                    1.322504,
                    1.291942,
                    1.262686,
                    1.194725,
                    1.13329,
                    1.077473,
                    1.026529,
                    0.9798437,
                    0.9369061,
                    0.8972839,
                    0.8606105,
                    0.8265722,
                    0.7948987,
                    0.7653557,
                    0.7377393,
                    0.7118704,
                    0.6875919,
                    0.6647646,
                    0.6432651,
                    0.6229834,
                    0.6038214,
                    0.5856907,
                    0.5685123,
                    0.5522144,
                    0.5367326,
                    0.522008,
                    0.5079874,
                    0.4946221,
                    0.4818679,
                    0.480126,
                    0.454814,
                    0.433144,
                    0.414504,
                    0.39696,
                    0.380408,
                    0.364802,
                    0.350093,
                    0.336235,
                    0.32318,
                    0.310882,
                    0.288368,
                    0.268314,
                    0.250344,
                    0.234101,
                    0.2195,
                    0.206435,
                    0.194763,
                    0.184336,
                    0.175008,
                    0.166635,
                    0.159068,
                    0.152163,
                    0.145773,
                    0.13979,
                    0.134184,
                    0.128938,
                    0.124035,
                    0.119456,
                    0.115185,
                    0.111203,
                    0.107494,
                    0.104038,
                    0.100819,
                    0.0978196,
                    0.0950211,
                    0.0924065,
                    0.089958,
                    0.0876579,
                    0.0854887,
                    0.0834327,
                    0.0814724,
                    0.0795906,
                    0.0777877,
                    0.0760661,
                    0.0744232,
                    0.0675099,
                    0.0617608,
                    0.0576882,
                    0.0541574,
                    0.0514657,
                    0.049069,
                    0.0450731,
                    0.0420456
                  ],
                  "yaxis": "y"
                }
              ],
              "layout": {
                "legend": {
                  "tracegroupgap": 0
                },
                "margin": {
                  "t": 60
                },
                "template": {
                  "data": {
                    "bar": [
                      {
                        "error_x": {
                          "color": "#2a3f5f"
                        },
                        "error_y": {
                          "color": "#2a3f5f"
                        },
                        "marker": {
                          "line": {
                            "color": "#E5ECF6",
                            "width": 0.5
                          },
                          "pattern": {
                            "fillmode": "overlay",
                            "size": 10,
                            "solidity": 0.2
                          }
                        },
                        "type": "bar"
                      }
                    ],
                    "barpolar": [
                      {
                        "marker": {
                          "line": {
                            "color": "#E5ECF6",
                            "width": 0.5
                          },
                          "pattern": {
                            "fillmode": "overlay",
                            "size": 10,
                            "solidity": 0.2
                          }
                        },
                        "type": "barpolar"
                      }
                    ],
                    "carpet": [
                      {
                        "aaxis": {
                          "endlinecolor": "#2a3f5f",
                          "gridcolor": "white",
                          "linecolor": "white",
                          "minorgridcolor": "white",
                          "startlinecolor": "#2a3f5f"
                        },
                        "baxis": {
                          "endlinecolor": "#2a3f5f",
                          "gridcolor": "white",
                          "linecolor": "white",
                          "minorgridcolor": "white",
                          "startlinecolor": "#2a3f5f"
                        },
                        "type": "carpet"
                      }
                    ],
                    "choropleth": [
                      {
                        "colorbar": {
                          "outlinewidth": 0,
                          "ticks": ""
                        },
                        "type": "choropleth"
                      }
                    ],
                    "contour": [
                      {
                        "colorbar": {
                          "outlinewidth": 0,
                          "ticks": ""
                        },
                        "colorscale": [
                          [
                            0,
                            "#0d0887"
                          ],
                          [
                            0.1111111111111111,
                            "#46039f"
                          ],
                          [
                            0.2222222222222222,
                            "#7201a8"
                          ],
                          [
                            0.3333333333333333,
                            "#9c179e"
                          ],
                          [
                            0.4444444444444444,
                            "#bd3786"
                          ],
                          [
                            0.5555555555555556,
                            "#d8576b"
                          ],
                          [
                            0.6666666666666666,
                            "#ed7953"
                          ],
                          [
                            0.7777777777777778,
                            "#fb9f3a"
                          ],
                          [
                            0.8888888888888888,
                            "#fdca26"
                          ],
                          [
                            1,
                            "#f0f921"
                          ]
                        ],
                        "type": "contour"
                      }
                    ],
                    "contourcarpet": [
                      {
                        "colorbar": {
                          "outlinewidth": 0,
                          "ticks": ""
                        },
                        "type": "contourcarpet"
                      }
                    ],
                    "heatmap": [
                      {
                        "colorbar": {
                          "outlinewidth": 0,
                          "ticks": ""
                        },
                        "colorscale": [
                          [
                            0,
                            "#0d0887"
                          ],
                          [
                            0.1111111111111111,
                            "#46039f"
                          ],
                          [
                            0.2222222222222222,
                            "#7201a8"
                          ],
                          [
                            0.3333333333333333,
                            "#9c179e"
                          ],
                          [
                            0.4444444444444444,
                            "#bd3786"
                          ],
                          [
                            0.5555555555555556,
                            "#d8576b"
                          ],
                          [
                            0.6666666666666666,
                            "#ed7953"
                          ],
                          [
                            0.7777777777777778,
                            "#fb9f3a"
                          ],
                          [
                            0.8888888888888888,
                            "#fdca26"
                          ],
                          [
                            1,
                            "#f0f921"
                          ]
                        ],
                        "type": "heatmap"
                      }
                    ],
                    "heatmapgl": [
                      {
                        "colorbar": {
                          "outlinewidth": 0,
                          "ticks": ""
                        },
                        "colorscale": [
                          [
                            0,
                            "#0d0887"
                          ],
                          [
                            0.1111111111111111,
                            "#46039f"
                          ],
                          [
                            0.2222222222222222,
                            "#7201a8"
                          ],
                          [
                            0.3333333333333333,
                            "#9c179e"
                          ],
                          [
                            0.4444444444444444,
                            "#bd3786"
                          ],
                          [
                            0.5555555555555556,
                            "#d8576b"
                          ],
                          [
                            0.6666666666666666,
                            "#ed7953"
                          ],
                          [
                            0.7777777777777778,
                            "#fb9f3a"
                          ],
                          [
                            0.8888888888888888,
                            "#fdca26"
                          ],
                          [
                            1,
                            "#f0f921"
                          ]
                        ],
                        "type": "heatmapgl"
                      }
                    ],
                    "histogram": [
                      {
                        "marker": {
                          "pattern": {
                            "fillmode": "overlay",
                            "size": 10,
                            "solidity": 0.2
                          }
                        },
                        "type": "histogram"
                      }
                    ],
                    "histogram2d": [
                      {
                        "colorbar": {
                          "outlinewidth": 0,
                          "ticks": ""
                        },
                        "colorscale": [
                          [
                            0,
                            "#0d0887"
                          ],
                          [
                            0.1111111111111111,
                            "#46039f"
                          ],
                          [
                            0.2222222222222222,
                            "#7201a8"
                          ],
                          [
                            0.3333333333333333,
                            "#9c179e"
                          ],
                          [
                            0.4444444444444444,
                            "#bd3786"
                          ],
                          [
                            0.5555555555555556,
                            "#d8576b"
                          ],
                          [
                            0.6666666666666666,
                            "#ed7953"
                          ],
                          [
                            0.7777777777777778,
                            "#fb9f3a"
                          ],
                          [
                            0.8888888888888888,
                            "#fdca26"
                          ],
                          [
                            1,
                            "#f0f921"
                          ]
                        ],
                        "type": "histogram2d"
                      }
                    ],
                    "histogram2dcontour": [
                      {
                        "colorbar": {
                          "outlinewidth": 0,
                          "ticks": ""
                        },
                        "colorscale": [
                          [
                            0,
                            "#0d0887"
                          ],
                          [
                            0.1111111111111111,
                            "#46039f"
                          ],
                          [
                            0.2222222222222222,
                            "#7201a8"
                          ],
                          [
                            0.3333333333333333,
                            "#9c179e"
                          ],
                          [
                            0.4444444444444444,
                            "#bd3786"
                          ],
                          [
                            0.5555555555555556,
                            "#d8576b"
                          ],
                          [
                            0.6666666666666666,
                            "#ed7953"
                          ],
                          [
                            0.7777777777777778,
                            "#fb9f3a"
                          ],
                          [
                            0.8888888888888888,
                            "#fdca26"
                          ],
                          [
                            1,
                            "#f0f921"
                          ]
                        ],
                        "type": "histogram2dcontour"
                      }
                    ],
                    "mesh3d": [
                      {
                        "colorbar": {
                          "outlinewidth": 0,
                          "ticks": ""
                        },
                        "type": "mesh3d"
                      }
                    ],
                    "parcoords": [
                      {
                        "line": {
                          "colorbar": {
                            "outlinewidth": 0,
                            "ticks": ""
                          }
                        },
                        "type": "parcoords"
                      }
                    ],
                    "pie": [
                      {
                        "automargin": true,
                        "type": "pie"
                      }
                    ],
                    "scatter": [
                      {
                        "marker": {
                          "colorbar": {
                            "outlinewidth": 0,
                            "ticks": ""
                          }
                        },
                        "type": "scatter"
                      }
                    ],
                    "scatter3d": [
                      {
                        "line": {
                          "colorbar": {
                            "outlinewidth": 0,
                            "ticks": ""
                          }
                        },
                        "marker": {
                          "colorbar": {
                            "outlinewidth": 0,
                            "ticks": ""
                          }
                        },
                        "type": "scatter3d"
                      }
                    ],
                    "scattercarpet": [
                      {
                        "marker": {
                          "colorbar": {
                            "outlinewidth": 0,
                            "ticks": ""
                          }
                        },
                        "type": "scattercarpet"
                      }
                    ],
                    "scattergeo": [
                      {
                        "marker": {
                          "colorbar": {
                            "outlinewidth": 0,
                            "ticks": ""
                          }
                        },
                        "type": "scattergeo"
                      }
                    ],
                    "scattergl": [
                      {
                        "marker": {
                          "colorbar": {
                            "outlinewidth": 0,
                            "ticks": ""
                          }
                        },
                        "type": "scattergl"
                      }
                    ],
                    "scattermapbox": [
                      {
                        "marker": {
                          "colorbar": {
                            "outlinewidth": 0,
                            "ticks": ""
                          }
                        },
                        "type": "scattermapbox"
                      }
                    ],
                    "scatterpolar": [
                      {
                        "marker": {
                          "colorbar": {
                            "outlinewidth": 0,
                            "ticks": ""
                          }
                        },
                        "type": "scatterpolar"
                      }
                    ],
                    "scatterpolargl": [
                      {
                        "marker": {
                          "colorbar": {
                            "outlinewidth": 0,
                            "ticks": ""
                          }
                        },
                        "type": "scatterpolargl"
                      }
                    ],
                    "scatterternary": [
                      {
                        "marker": {
                          "colorbar": {
                            "outlinewidth": 0,
                            "ticks": ""
                          }
                        },
                        "type": "scatterternary"
                      }
                    ],
                    "surface": [
                      {
                        "colorbar": {
                          "outlinewidth": 0,
                          "ticks": ""
                        },
                        "colorscale": [
                          [
                            0,
                            "#0d0887"
                          ],
                          [
                            0.1111111111111111,
                            "#46039f"
                          ],
                          [
                            0.2222222222222222,
                            "#7201a8"
                          ],
                          [
                            0.3333333333333333,
                            "#9c179e"
                          ],
                          [
                            0.4444444444444444,
                            "#bd3786"
                          ],
                          [
                            0.5555555555555556,
                            "#d8576b"
                          ],
                          [
                            0.6666666666666666,
                            "#ed7953"
                          ],
                          [
                            0.7777777777777778,
                            "#fb9f3a"
                          ],
                          [
                            0.8888888888888888,
                            "#fdca26"
                          ],
                          [
                            1,
                            "#f0f921"
                          ]
                        ],
                        "type": "surface"
                      }
                    ],
                    "table": [
                      {
                        "cells": {
                          "fill": {
                            "color": "#EBF0F8"
                          },
                          "line": {
                            "color": "white"
                          }
                        },
                        "header": {
                          "fill": {
                            "color": "#C8D4E3"
                          },
                          "line": {
                            "color": "white"
                          }
                        },
                        "type": "table"
                      }
                    ]
                  },
                  "layout": {
                    "annotationdefaults": {
                      "arrowcolor": "#2a3f5f",
                      "arrowhead": 0,
                      "arrowwidth": 1
                    },
                    "autotypenumbers": "strict",
                    "coloraxis": {
                      "colorbar": {
                        "outlinewidth": 0,
                        "ticks": ""
                      }
                    },
                    "colorscale": {
                      "diverging": [
                        [
                          0,
                          "#8e0152"
                        ],
                        [
                          0.1,
                          "#c51b7d"
                        ],
                        [
                          0.2,
                          "#de77ae"
                        ],
                        [
                          0.3,
                          "#f1b6da"
                        ],
                        [
                          0.4,
                          "#fde0ef"
                        ],
                        [
                          0.5,
                          "#f7f7f7"
                        ],
                        [
                          0.6,
                          "#e6f5d0"
                        ],
                        [
                          0.7,
                          "#b8e186"
                        ],
                        [
                          0.8,
                          "#7fbc41"
                        ],
                        [
                          0.9,
                          "#4d9221"
                        ],
                        [
                          1,
                          "#276419"
                        ]
                      ],
                      "sequential": [
                        [
                          0,
                          "#0d0887"
                        ],
                        [
                          0.1111111111111111,
                          "#46039f"
                        ],
                        [
                          0.2222222222222222,
                          "#7201a8"
                        ],
                        [
                          0.3333333333333333,
                          "#9c179e"
                        ],
                        [
                          0.4444444444444444,
                          "#bd3786"
                        ],
                        [
                          0.5555555555555556,
                          "#d8576b"
                        ],
                        [
                          0.6666666666666666,
                          "#ed7953"
                        ],
                        [
                          0.7777777777777778,
                          "#fb9f3a"
                        ],
                        [
                          0.8888888888888888,
                          "#fdca26"
                        ],
                        [
                          1,
                          "#f0f921"
                        ]
                      ],
                      "sequentialminus": [
                        [
                          0,
                          "#0d0887"
                        ],
                        [
                          0.1111111111111111,
                          "#46039f"
                        ],
                        [
                          0.2222222222222222,
                          "#7201a8"
                        ],
                        [
                          0.3333333333333333,
                          "#9c179e"
                        ],
                        [
                          0.4444444444444444,
                          "#bd3786"
                        ],
                        [
                          0.5555555555555556,
                          "#d8576b"
                        ],
                        [
                          0.6666666666666666,
                          "#ed7953"
                        ],
                        [
                          0.7777777777777778,
                          "#fb9f3a"
                        ],
                        [
                          0.8888888888888888,
                          "#fdca26"
                        ],
                        [
                          1,
                          "#f0f921"
                        ]
                      ]
                    },
                    "colorway": [
                      "#636efa",
                      "#EF553B",
                      "#00cc96",
                      "#ab63fa",
                      "#FFA15A",
                      "#19d3f3",
                      "#FF6692",
                      "#B6E880",
                      "#FF97FF",
                      "#FECB52"
                    ],
                    "font": {
                      "color": "#2a3f5f"
                    },
                    "geo": {
                      "bgcolor": "white",
                      "lakecolor": "white",
                      "landcolor": "#E5ECF6",
                      "showlakes": true,
                      "showland": true,
                      "subunitcolor": "white"
                    },
                    "hoverlabel": {
                      "align": "left"
                    },
                    "hovermode": "closest",
                    "mapbox": {
                      "style": "light"
                    },
                    "paper_bgcolor": "white",
                    "plot_bgcolor": "#E5ECF6",
                    "polar": {
                      "angularaxis": {
                        "gridcolor": "white",
                        "linecolor": "white",
                        "ticks": ""
                      },
                      "bgcolor": "#E5ECF6",
                      "radialaxis": {
                        "gridcolor": "white",
                        "linecolor": "white",
                        "ticks": ""
                      }
                    },
                    "scene": {
                      "xaxis": {
                        "backgroundcolor": "#E5ECF6",
                        "gridcolor": "white",
                        "gridwidth": 2,
                        "linecolor": "white",
                        "showbackground": true,
                        "ticks": "",
                        "zerolinecolor": "white"
                      },
                      "yaxis": {
                        "backgroundcolor": "#E5ECF6",
                        "gridcolor": "white",
                        "gridwidth": 2,
                        "linecolor": "white",
                        "showbackground": true,
                        "ticks": "",
                        "zerolinecolor": "white"
                      },
                      "zaxis": {
                        "backgroundcolor": "#E5ECF6",
                        "gridcolor": "white",
                        "gridwidth": 2,
                        "linecolor": "white",
                        "showbackground": true,
                        "ticks": "",
                        "zerolinecolor": "white"
                      }
                    },
                    "shapedefaults": {
                      "line": {
                        "color": "#2a3f5f"
                      }
                    },
                    "ternary": {
                      "aaxis": {
                        "gridcolor": "white",
                        "linecolor": "white",
                        "ticks": ""
                      },
                      "baxis": {
                        "gridcolor": "white",
                        "linecolor": "white",
                        "ticks": ""
                      },
                      "bgcolor": "#E5ECF6",
                      "caxis": {
                        "gridcolor": "white",
                        "linecolor": "white",
                        "ticks": ""
                      }
                    },
                    "title": {
                      "x": 0.05
                    },
                    "xaxis": {
                      "automargin": true,
                      "gridcolor": "white",
                      "linecolor": "white",
                      "ticks": "",
                      "title": {
                        "standoff": 15
                      },
                      "zerolinecolor": "white",
                      "zerolinewidth": 2
                    },
                    "yaxis": {
                      "automargin": true,
                      "gridcolor": "white",
                      "linecolor": "white",
                      "ticks": "",
                      "title": {
                        "standoff": 15
                      },
                      "zerolinecolor": "white",
                      "zerolinewidth": 2
                    }
                  }
                },
                "xaxis": {
                  "anchor": "y",
                  "domain": [
                    0,
                    1
                  ],
                  "title": {
                    "text": "Photon energy [eV]"
                  },
                  "type": "log"
                },
                "yaxis": {
                  "anchor": "x",
                  "domain": [
                    0,
                    1
                  ],
                  "title": {
                    "text": "Cross-section [barn]"
                  },
                  "type": "log"
                }
              }
            }
          },
          "metadata": {},
          "output_type": "display_data"
        }
      ],
      "source": [
        "import ENDF6\n",
        "import plotly.express as px\n",
        "path = \"C:\\\\Cross-Section-Data\\\\jendl5-n\\\\n_001-H-001.dat\"\n",
        "f = open(path)\n",
        "lines = f.readlines()\n",
        "sec = ENDF6.find_section(lines, MF=3, MT=1)  # total cross-section\n",
        "x, y = ENDF6.read_table(sec)\n",
        "px.scatter(x=x, y=y, labels = {'x':\"Photon energy [eV]\", 'y' : \"Cross-section [barn]\"},\n",
        "log_x = True, log_y = True)\n"
      ]
    },
    {
      "cell_type": "code",
      "execution_count": 21,
      "metadata": {},
      "outputs": [
        {
          "data": {
            "text/plain": [
              "(200000000.0, 0.0420456)"
            ]
          },
          "execution_count": 21,
          "metadata": {},
          "output_type": "execute_result"
        }
      ],
      "source": [
        "import numpy as np\n",
        "index = np.argmax(x/y)\n",
        "x[index], y[index]"
      ]
    },
    {
      "cell_type": "code",
      "execution_count": null,
      "metadata": {},
      "outputs": [],
      "source": []
    }
  ],
  "metadata": {
    "colab": {
      "name": "Optimized Radionuclide Production.ipynb",
      "provenance": []
    },
    "interpreter": {
      "hash": "b5623c593edf3a9c30fecf3e392f1a3c31f722d7f93243239e2241963cc60577"
    },
    "kernelspec": {
      "display_name": "Julia 1.7.2",
      "language": "julia",
      "name": "julia-1.7"
    },
    "language_info": {
      "file_extension": ".jl",
      "mimetype": "application/julia",
      "name": "julia",
      "version": "1.7.2"
    }
  },
  "nbformat": 4,
  "nbformat_minor": 0
}
