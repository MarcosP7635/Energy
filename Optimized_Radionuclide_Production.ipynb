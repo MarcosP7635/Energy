{
  "cells": [
    {
      "cell_type": "markdown",
      "metadata": {},
      "source": [
        "The goal of this notebook is to write code that given a specific nucleus to produce, an efficiency will be calculated based on the required input energy, target cross sections, and power density of the product to find the optimal use of radionuclide production as a method of energy storage. \n",
        "\n",
        "This can also be used to generate a theoretical maximum of storage efficiency for each product. \n",
        "\n",
        "To start, we'll need cross sections. \n",
        "\n",
        "Will attempt to download the entirety of (or write a very fast query for) \n",
        "https://doi.org/10.1016/j.nds.2018.02.001\n",
        "\n",
        "Pivoting to use Jeff32 since it has a singular directory with many neutron cross sections for different targets. https://www.oecd-nea.org/dbforms/data/eva/evatapes/jeff_32/\n",
        "\n",
        "JENDL appears to have both neutron and proton cross section data for transmutation, so this seems very promising. It uses the ENDF6 format https://www-nds.iaea.org/public/endf/ \n",
        "\n",
        "Finally found the database explorer for ENDF, will be using this as well. \n",
        "https://www-nds.iaea.org/exfor/e4explorer.htm "
      ]
    },
    {
      "cell_type": "markdown",
      "metadata": {},
      "source": [
        "#Derivations for nuclide production\n",
        "Consider a thin target $T$ with a cross section $\\sigma$ at an energy level of $E_{particle}$. We have for the production rate (from \"Industrial Accelerators and their Applications\")\n",
        "\\begin{equation}\n",
        "\\frac{dR}{dx} = In\\sigma\n",
        "\\end{equation}\n",
        "Integrating, we have for the number of nuclei produced\n",
        "\\begin{equation}\n",
        "N = \\int\\int\\frac{dR}{dx}dxdt = \\int\\int In\\sigma dxdt\n",
        "\\end{equation}\n",
        "Where $R$ is the production rate in atoms per second, $x$ is the depth of the material, $n$ is the nuclei/volume, and $\\sigma$ is the cross section in area/nucleus, and $I$ is the flow rate in moles/second of the beam. It's also important to note that the beam energy is also a function of $x$. Thus we have for the energy input \n",
        "\\begin{equation}\n",
        "E_{in} = \\int IE_{incident \\ particle} dt\n",
        "\\end{equation}\n",
        "For a given decay chain whose parent nucleus has $N$ particles we have for a pure amount of this substance a specific energy (energy density) $\\rho_{E}$ of \n",
        "\\begin{equation}\n",
        "E_{out} = Z_{product}N\\rho_{E}\n",
        "\\end{equation}\n",
        "where $Z$ is the mass number of the product and $N_A$ is Avogadro's constant. \n",
        "Thus we have for the energy efficiency of this process, \n",
        "\\begin{equation}\n",
        "\\frac{E_{out}}{E_{in}} = \\frac{Z_{product}N\\rho_{E}}{\\int IE_{incident \\ particle} dt} =  \n",
        "\\frac{Z_{product}\\rho_{E}\\int\\int In\\sigma dxdt}{\\int IE_{incident \\ particle} dt}\n",
        "\\end{equation}"
      ]
    },
    {
      "cell_type": "markdown",
      "metadata": {},
      "source": [
        "##Thin target case with constant beam current and energy\n",
        "\\begin{equation}\n",
        "\\frac{E_{out}}{E_{in}} = \\frac{Z_{product}\\rho_{E} In\\sigma xt}{IE_{incident \\ particle}t} = \\frac{Z\\rho_{E} n\\sigma x}{E_{incident \\ particle}}\n",
        "\\end{equation}\n",
        "Rearranging to find the energy efficiency per thickness of material \n",
        "\\begin{equation}\n",
        "\\frac{E_{out}}{xE_{in}} = \\frac{Z_{product}\\rho_{E} n\\sigma }{E_{incident \\ particle}}\n",
        "\\end{equation}\n",
        "Thus, our figure of merit for a reaction will be energy efficiency per thickness of material. \n"
      ]
    },
    {
      "cell_type": "markdown",
      "metadata": {},
      "source": [
        "#Now I will find the probability of a given reaction for a thick target (on the order of meters). \n",
        "\n",
        "Where $P$ is the probability of a specific nuclear reaction occuring (e.g. aborbing a gamma ray and ejecting a neutron), $r$ is the reaction cross section, $x$ is the thickness of the target in meters, $t$ is the total cross section ($t>r>0$) and $a$ is the cross section of all reactions that are mutually exclusive with the reaction associated with $r$. We define $k$\n",
        " \n",
        "\\begin{equation}\n",
        "\\begin{split}\n",
        "k = \\frac{-\\rho N_A}{M}\n",
        "\\end{split}\n",
        "\\end{equation}\n",
        " \n",
        "Where $\\rho$ is the mass density in kg/m $^3$, $M$ is the molar mass in kg, and $N_A$ is Avogadro's number.\n",
        "Note that I have not yet accounted for other reactions included in the total cross section that would prevent a different reaction. \n",
        "Are there any reactions that would prevent a given different reaction? If so, which?"
      ]
    },
    {
      "cell_type": "code",
      "execution_count": 141,
      "metadata": {},
      "outputs": [
        {
          "data": {
            "text/markdown": [
              "\\begin{split}\\Large P = 1-(e^{\\left(k t x\\right)}+-e^{\\left(a k x\\right)} + 1)=e^{\\left(a k x\\right)} - e^{\\left(k t x\\right)}\\\\\\Large \\frac{dP}{dx} = a k e^{\\left(a k x\\right)} - k t e^{\\left(k t x\\right)}\\\\\\Large x_{p_{max}} = \\frac{\\log\\left(\\frac{t}{a}\\right)}{{\\left(a - t\\right)} k}\\\\\\Large P_{max} = \\left(\\frac{t}{a}\\right)^{\\frac{a}{a - t}} - \\left(\\frac{t}{a}\\right)^{\\frac{t}{a - t}}\\end{split}"
            ],
            "text/plain": [
              "<IPython.core.display.Markdown object>"
            ]
          },
          "execution_count": 141,
          "metadata": {},
          "output_type": "execute_result"
        }
      ],
      "source": [
        "#This cell requires a sage Jupyter server. https://www.sagemath.org/\n",
        "from IPython.display import Markdown as md\n",
        "import sympy\n",
        "#https://stackoverflow.com/questions/18878083/can-i-use-variables-on-an-ipython-notebook-markup-cell\n",
        "x, k, t, r, d, a, b = var('x k t r d a b', domain = 'positive')\n",
        "#k = var('k', domain = 'real')\n",
        "#what is the probability that the reaction doesn't happen?\n",
        "#probability of another reaction or no reaction\n",
        "another_reaction = 1-exp(a*k*x)\n",
        "no_reaction = exp(t*k*x)\n",
        "reaction_doesnt_happen = no_reaction + another_reaction \n",
        "#These events are mutually exclusive!!\n",
        "reaction = 1 - reaction_doesnt_happen\n",
        "d = diff(reaction, x)\n",
        "x_max = sympy.solve(d == 0, x)[0]._sage_() #convert from sympy object\n",
        "reaction_max = reaction.substitute(x = x_max)#.full_simplify()\n",
        "md(\"\\\\begin{split}\"+\n",
        "\"\\\\Large P = 1-(%s+%s)=%s\"%(latex(no_reaction),latex(another_reaction),latex(reaction))+\n",
        "\"\\\\\\\\\"+ \"\\\\Large \\\\frac{dP}{dx} = %s\"%(latex(d))+ \"\\\\\\\\\"\n",
        "\"\\\\Large x_{p_{max}} = %s\"%latex(x_max)+ \"\\\\\\\\\" +\n",
        "\"\\\\Large P_{max} = %s\"%latex(reaction_max)+\n",
        "\"\\\\end{split}\")"
      ]
    },
    {
      "cell_type": "code",
      "execution_count": 3,
      "metadata": {},
      "outputs": [
        {
          "data": {
            "text/plain": [
              "3.678796251112702055560036812740509330698235054484455628233880381639802135001537e-07"
            ]
          },
          "metadata": {},
          "output_type": "display_data"
        }
      ],
      "source": []
    },
    {
      "cell_type": "markdown",
      "metadata": {},
      "source": [
        "The order of magnitude estimates for the cross sections listed look promising!\n",
        "\n",
        "Now I will convert each cross sections data file into a dictionary where the keys are the MTs and the values are a dataframe (or 2d array) of cross section vs energy. "
      ]
    },
    {
      "cell_type": "markdown",
      "metadata": {},
      "source": [
        "Interestingly, the maximum probability of the reaction occuring appears to only depend on the total cross section, $t$, and the cross sections for reactions that are mutually exclusive with a given reaction, $a$. However, the corresponding target thickness does also depend on the target's molar mass and density.\n",
        "\n",
        "If none of the other reactions are mutually exclusive with a given reaction with a cross section $r$, then we instead have"
      ]
    },
    {
      "cell_type": "code",
      "execution_count": 140,
      "metadata": {},
      "outputs": [
        {
          "data": {
            "text/markdown": [
              "\\begin{split}\\Large P = -e^{\\left(k r x\\right)} + 1\\end{split}"
            ],
            "text/plain": [
              "<IPython.core.display.Markdown object>"
            ]
          },
          "execution_count": 140,
          "metadata": {},
          "output_type": "execute_result"
        }
      ],
      "source": [
        "reaction = 1 - exp(k*r*x)\n",
        "md(\"\\\\begin{split}\\\\Large P = %s\\\\end{split}\"%latex(reaction))"
      ]
    },
    {
      "cell_type": "markdown",
      "metadata": {},
      "source": [
        "Which agrees with Section 2.5.1 of \"The Physics of Nucear Reactors\". \n",
        "\n",
        "Now I will plot $P_{max}$ and $x_{max}$ for neutron ejection as a function of the energy of an incoming gamma ray striking a deuterium target. "
      ]
    },
    {
      "cell_type": "markdown",
      "metadata": {},
      "source": [
        "If none of the other possible reactions are mutually exclusive with the reaction associated with a given reaction with cross section $r$ then we instead have"
      ]
    },
    {
      "cell_type": "code",
      "execution_count": 8,
      "metadata": {},
      "outputs": [
        {
          "data": {
            "image/png": "[encoded data removed]",
            "text/plain": [
              "Graphics object consisting of 1 graphics primitive"
            ]
          },
          "execution_count": 8,
          "metadata": {},
          "output_type": "execute_result"
        }
      ],
      "source": [
        "t = .1\n",
        "k = -1\n",
        "r = t / 2\n",
        "another_reaction = 1-exp((t-r)*k*x)\n",
        "#are cross sections additive?\n",
        "no_reaction = exp(t*k*x)\n",
        "reaction_doesnt_happen = no_reaction + another_reaction - (another_reaction*no_reaction)\n",
        "reaction = 1- reaction_doesnt_happen\n",
        "plot(reaction, (x, 0, 100))"
      ]
    },
    {
      "cell_type": "markdown",
      "metadata": {},
      "source": [
        "From Section 2.5.1 of \"The Physics of Nucear Reactors\" we have for the probability of reaction for a path length $x$ with target with nuclear cross section $\\sigma$, molar mass in kg $M$, and mass density in kg/m $^3$ $\\rho$, and $A$ is Avogadro's number.\n",
        "\\begin{equation}\n",
        "\\begin{split}\n",
        "P = (1-e^{krx})e^{(a-r)kx}\\\\\n",
        "\\end{split}\n",
        "\\end{equation}"
      ]
    },
    {
      "cell_type": "code",
      "execution_count": 18,
      "metadata": {},
      "outputs": [
        {
          "ename": "ArgumentError",
          "evalue": "ArgumentError: Package ENDF6 not found in current path:\n- Run `import Pkg; Pkg.add(\"ENDF6\")` to install the ENDF6 package.\n",
          "output_type": "error",
          "traceback": [
            "ArgumentError: Package ENDF6 not found in current path:\n",
            "- Run `import Pkg; Pkg.add(\"ENDF6\")` to install the ENDF6 package.\n",
            "\n",
            "\n",
            "Stacktrace:\n",
            "  [1] require(into::Module, mod::Symbol)\n",
            "    @ Base .\\loading.jl:967\n",
            "  [2] eval\n",
            "    @ .\\boot.jl:373 [inlined]\n",
            "  [3] include_string(mapexpr::typeof(REPL.softscope), mod::Module, code::String, filename::String)\n",
            "    @ Base .\\loading.jl:1196\n",
            "  [4] #invokelatest#2\n",
            "    @ .\\essentials.jl:716 [inlined]\n",
            "  [5] invokelatest\n",
            "    @ .\\essentials.jl:714 [inlined]\n",
            "  [6] (::VSCodeServer.var\"#164#165\"{VSCodeServer.NotebookRunCellArguments, String})()\n",
            "    @ VSCodeServer c:\\Users\\engin\\.vscode\\extensions\\julialang.language-julia-1.6.24\\scripts\\packages\\VSCodeServer\\src\\serve_notebook.jl:19\n",
            "  [7] withpath(f::VSCodeServer.var\"#164#165\"{VSCodeServer.NotebookRunCellArguments, String}, path::String)\n",
            "    @ VSCodeServer c:\\Users\\engin\\.vscode\\extensions\\julialang.language-julia-1.6.24\\scripts\\packages\\VSCodeServer\\src\\repl.jl:184\n",
            "  [8] notebook_runcell_request(conn::VSCodeServer.JSONRPC.JSONRPCEndpoint{Base.PipeEndpoint, Base.PipeEndpoint}, params::VSCodeServer.NotebookRunCellArguments)\n",
            "    @ VSCodeServer c:\\Users\\engin\\.vscode\\extensions\\julialang.language-julia-1.6.24\\scripts\\packages\\VSCodeServer\\src\\serve_notebook.jl:13\n",
            "  [9] dispatch_msg(x::VSCodeServer.JSONRPC.JSONRPCEndpoint{Base.PipeEndpoint, Base.PipeEndpoint}, dispatcher::VSCodeServer.JSONRPC.MsgDispatcher, msg::Dict{String, Any})\n",
            "    @ VSCodeServer.JSONRPC c:\\Users\\engin\\.vscode\\extensions\\julialang.language-julia-1.6.24\\scripts\\packages\\JSONRPC\\src\\typed.jl:67\n",
            " [10] serve_notebook(pipename::String, outputchannel_logger::Base.CoreLogging.SimpleLogger; crashreporting_pipename::String)\n",
            "    @ VSCodeServer c:\\Users\\engin\\.vscode\\extensions\\julialang.language-julia-1.6.24\\scripts\\packages\\VSCodeServer\\src\\serve_notebook.jl:136\n",
            " [11] top-level scope\n",
            "    @ c:\\Users\\engin\\.vscode\\extensions\\julialang.language-julia-1.6.24\\scripts\\notebook\\notebook.jl:32\n",
            " [12] include(mod::Module, _path::String)\n",
            "    @ Base .\\Base.jl:418\n",
            " [13] exec_options(opts::Base.JLOptions)\n",
            "    @ Base .\\client.jl:292\n",
            " [14] _start()\n",
            "    @ Base .\\client.jl:495"
          ]
        }
      ],
      "source": [
        "import ENDF6\n",
        "import glob\n",
        "import plotly.express as px\n",
        "import numpy as np\n",
        "import pandas as pd\n",
        "gamma_path = \"C:\\\\Cross-Section-Data\\\\jendl5-g\"\n",
        "File_list = sorted(glob.glob(gamma_path + \"\\\\*.dat\"))\n",
        "densities_path = \"C:\\\\Users\\\\engin\\\\Documents\\\\GitHub\\\\Energy\\\\ImportedData\\\\Periodic Table of Elements.csv\"\n",
        "#open csv as dataframe\n",
        "densities_df = pd.read_csv(densities_path)\n",
        "def find_min_reaction_energy(file):\n",
        "    with open(file):\n",
        "        try:  \n",
        "            sec = ENDF6.find_section(open(file).readlines(), MF=3, MT=5)  # relevant cross section \n",
        "        except:\n",
        "            sec = ENDF6.find_section(open(file).readlines(), MF=3, MT=50)  # relevant cross section\n",
        "        x, y = ENDF6.read_table(sec)\n",
        "        element_name = file[37:39].replace(\"-\", \"\")\n",
        "        #get index of element\n",
        "        element_index = densities_df.index[densities_df[\"Symbol\"] == element_name][0]\n",
        "        #get density of element\n",
        "        density = 1000 * densities_df[\"Density\"][element_index] #kg/m^3\n",
        "        N_A = 6.02214086e23 #Avogadro's number\n",
        "        M = 2 #g/mol\n",
        "        k = -density * N_A / M\n",
        "        P = 1-np.exp(k * y * 10**-28 * 1000)\n",
        "        #average power of 10 of energy in eV per reaction\n",
        "        return np.log10(min(x/P))\n",
        "\n",
        "gamma_reaction_energy_dict = {}\n",
        "gamma_reaction_energy_dict[\"Isotope\"] = [file[37:-3].replace(\".\", \"\") for file in File_list]\n",
        "gamma_reaction_energy_dict[\"log base 10 of Minimum Energy in eV per Reaction\"] = [\n",
        "        find_min_reaction_energy(file) for file in File_list]\n",
        "gamma_reaction_energy_df = pd.DataFrame(gamma_reaction_energy_dict)\n",
        "print(\"minimum energy per reaction in dataset\", min(gamma_reaction_energy_df[\n",
        "    \"log base 10 of Minimum Energy in eV per Reaction\"].to_list()))\n",
        "px.scatter(gamma_reaction_energy_df, x = \"Isotope\", \n",
        "            y = \"log base 10 of Minimum Energy in eV per Reaction\")\n",
        "#px.scatter(x=x, y=y, labels = {'x':\"Photon energy [eV]\", 'y' : \"Cross-section [barn]\"},\n",
        "#log_x = True, log_y = True)"
      ]
    },
    {
      "cell_type": "markdown",
      "metadata": {},
      "source": [
        "Which isn't bad considering the energy per 228Ra nucleus > 10 $^{6.5428234}$\n",
        "How much energy does it actually take to produce 1 nucleus of 228Ra?"
      ]
    },
    {
      "cell_type": "markdown",
      "metadata": {},
      "source": [
        "#Switching to Julia\n",
        "I'll be dealing with a lot of data and computations so I'll use Julia instead of Python. "
      ]
    },
    {
      "cell_type": "code",
      "execution_count": 2,
      "metadata": {},
      "outputs": [
        {
          "data": {
            "text/plain": [
              "3.678796251112702055560036812740509330698235054484455628233880381639802135001537e-07"
            ]
          },
          "metadata": {},
          "output_type": "display_data"
        }
      ],
      "source": [
        "using Unitful #https://painterqubits.github.io/Unitful.jl/stable/\n",
        "#quantity * @u_str(\"unit abbreviation\") \n",
        "using Symbolics #https://symbolics.juliasymbolics.org/dev/\n",
        "#cite https://doi.org/10.48550/arXiv.2105.03949\n",
        "using Latexify\n",
        "using Test\n",
        "#1 * @u_str(\"mA\") is 1 milliamp\n",
        "using CSV, DataFrames\n",
        "#using Plots\n",
        "using PlotlyJS\n",
        "using Printf\n",
        "using SymPy\n",
        "using PDFIO\n",
        "#plotlyjs()\n",
        "data_dir = (\"C:\\\\Cross-Section-Data\\\\\")\n",
        "cross_section_dir = data_dir\n",
        "import_data_dir = \"C:\\\\Users\\\\engin\\\\Documents\\\\GitHub\\\\Energy\\\\ImportedData\"\n",
        "\n",
        "#https://docs.juliahub.com/SymPy/ \n",
        "P, N, x, Σ, σR, σT, ρ, M, A = symbols(\"P, N, x, Σ, σ_R, σ_T, ρ, M, A\", positive = true, real = true)\n",
        "N = ρ * A/ M\n",
        "Σ = N * σR  \n",
        "#case without competing reactions\n",
        "P = integrate(Σ*exp(-Σ*x), (x, 0, x))\n",
        "\n",
        "#julia implementation of the case with competing reactions\n",
        "P_max(t,a) = (t/a)^(a/(BigFloat(a)-BigFloat(t))) - (t/a)^(t/(BigFloat(a)-BigFloat(t)))\n",
        "x_max(t,a,k) = (log(t/a))/(k*(BigFloat(a)-BigFloat(t)))\n",
        "t = BigFloat(10)^-28\n",
        "n = 6\n",
        "a = t * (10^n - 1)/(10^n)\n",
        "k = -BigFloat(10)^24\n",
        "x_max(t,a,k)\n",
        "P_max(t, a)"
      ]
    },
    {
      "cell_type": "markdown",
      "metadata": {},
      "source": [
        "Here we define a dictionary that matches each value of MT in an ENDF6-formatted data to a particular reaction. \n",
        "\n",
        "We then will also loop through all of the subdirectories in a directory, then unzip all of the compressed files to that directory that don't already have an unzipped counterpart in that directory.\n",
        "\n",
        "In this notation $(z, 2nd)$ refers to a reaction where some matter strikes a target and produces 2 neutrons, a deuteron, and a residual.\n",
        "\n",
        "Furthermore, \"(z, n ^3He)\" refers the production of a neutron, a Helium-nucleus, and a residual. \n",
        "\n",
        "Subscripts refer to the energy state.\n",
        "\n",
        "(z, $\\gamma$) refers to radiative capture\n",
        "The below code assumes that the complete reaction is in the same line as the MT number. "
      ]
    },
    {
      "cell_type": "markdown",
      "metadata": {},
      "source": [
        "Luckily the only time a subscript could be confused with a coefficient is the case of $^3$ He but from just reading the original PDF, it is clear that He never has a coefficient other than 1, and that seeing \"3 He\" in the text file always refers to a helium-3 nucleus. "
      ]
    },
    {
      "cell_type": "markdown",
      "metadata": {},
      "source": [
        "The function matches_pattern returns whether or not a given section of the txt file defines an MT value and the number of digits in the MT value. Conveniently, a subscript is never followed by a character and is always after the nucleus it describes the energy level of."
      ]
    },
    {
      "cell_type": "code",
      "execution_count": 3,
      "metadata": {},
      "outputs": [
        {
          "name": "stdout",
          "output_type": "stream",
          "text": [
            "01(n,total)\n",
            "2(z,z0)\n",
            "3(z,nonelas.)\n",
            "4(z,n)\n",
            "5(z,anything)\n",
            "10(z,contin.)\n",
            "11(z,2nd)\n",
            "16(z,2n)\n",
            "17(z,3n)\n",
            "18(z,fission)\n",
            "19(n,f)\n",
            "20(n,nf)\n",
            "21(n,2nf)\n",
            "22(z,nα)\n",
            "23(n,n3α)\n",
            "24(z,2nα)\n",
            "25(z,3nα)\n",
            "27(n,abs)\n",
            "28(z,np)\n",
            "29(z,n2α)\n",
            "30(z,2n2α)\n",
            "32(z,nd)\n",
            "33(z,nt)\n",
            "34(z,n3He)\n",
            "35(z,nd2α)\n",
            "36(z,nt2α)\n",
            "37(z,4n)\n",
            "38(n,3nf)\n",
            "41(z,2np)\n",
            "42(z,3np)\n",
            "44(z,n2p)\n",
            "45(z,npα)\n",
            "50(y,n0)\n",
            "51(z,n1)\n",
            "52(z,n2)\n",
            "90(z,n40)\n",
            "91(z,nc)\n",
            "101(n,disap)\n",
            "102(z,γ)\n",
            "103(z,p)\n",
            "104(z,d)\n",
            "105(z,t)\n",
            "106(z,3He)\n",
            "107(z,α)\n",
            "108(z,2α)\n",
            "109(z,3α)\n",
            "111(z,2p)\n",
            "112(z,pα)\n",
            "113(z,t2α)\n",
            "114(z,d2α)\n",
            "115(z,pd)\n",
            "116(z,pt)\n",
            "117(z,dα)\n",
            "151(n,RES)\n",
            "152(z,5n)\n",
            "202(z,Xγ)\n",
            "203(z,Xp)\n",
            "204(z,Xd)\n",
            "205(z,Xt)\n",
            "206(z,X3He)\n",
            "207(z,Xα)\n",
            "208(z,Xπ+)\n",
            "209(z,Xπ0)\n",
            "210(z,Xπ−)\n",
            "211(z,Xμ+)\n",
            "212(z,Xμ−)\n",
            "213(z,Xκ+)\n",
            "214(z,Xκ0 long )\n",
            "215(z,Xκ0 short)\n",
            "216(z,Xκ−)\n",
            "217(z,Xp−)\n",
            "218(z,Xn−)\n",
            "251(n,...)\n",
            "252(n,...)\n",
            "253(n,...)\n",
            "450(z,...)\n",
            "451(z,...)\n",
            "452(z,...)\n",
            "454(z,...)\n",
            "455(z,...)\n",
            "456(z,...)\n",
            "457(z,...)\n",
            "458(n,...)\n",
            "459(z,...)\n",
            "460(z,...)\n",
            "600(z,p0)\n",
            "601(z,p1)\n",
            "602(z,p2)\n",
            "603(z,p3)\n",
            "604(z,p4)\n",
            "649(z,pc)\n",
            "650(z,d0)\n",
            "651(z,d1)\n",
            "652(z,d2)\n",
            "699(z,dc)\n",
            "700(z,t0)\n",
            "701(z,t1)\n",
            "702(z,t2)\n",
            "749(z,tc)\n",
            "750(n,3He0)\n",
            "751(n,3He1)\n",
            "799(n,3Hec)\n",
            "800(z,α0)\n",
            "801(z,α1)\n",
            "849(z,αc)\n",
            "875(z,2n0)\n",
            "876(z,2n1)\n",
            "891(z,2nc)\n"
          ]
        },
        {
          "data": {
            "text/plain": [
              "\"C:\\\\Users\\\\engin\\\\Documents\\\\GitHub\\\\Energy\\\\mt_details.csv\""
            ]
          },
          "metadata": {},
          "output_type": "display_data"
        }
      ],
      "source": [
        "# import text file as string with Julia\n",
        "mt_path = \"C:\\\\Users\\\\engin\\\\Documents\\\\GitHub\\\\Energy\\\\ImportedData\\\\mt.txt\"\n",
        "function matches_pattern(long_string, index = 1)\n",
        "    if isdigit(long_string[index]) && occursin(\",\", long_string)\n",
        "        if  isdigit(long_string[index+1])\n",
        "            if isdigit(long_string[index+2])\n",
        "                #3 digit number\n",
        "                return (long_string[index+3:index+4] == \" (\", 3)  \n",
        "            elseif long_string[index+2] == ' ' \n",
        "                #two digit number \n",
        "                return (long_string[index+3] == '(', 2)\n",
        "            end\n",
        "        elseif long_string[index+1] == ' ' \n",
        "            #one digit number \n",
        "            return (long_string[index+2] == '(', 1)\n",
        "        end\n",
        "    end\n",
        "    return (false, 0)\n",
        "end\n",
        "function define_MTs(mt_path)\n",
        "    open(mt_path) do file\n",
        "        mt_reactions, mt_details = Dict([]), Dict([])\n",
        "        long_string = read(mt_path, String)\n",
        "        index = 0\n",
        "        print(index)\n",
        "        while true\n",
        "            index += 1\n",
        "            if (index > length(long_string) - 12)\n",
        "                return mt_reactions, mt_details\n",
        "            end\n",
        "            is_MT, MT_length = matches_pattern(long_string[index:index+6])\n",
        "            if is_MT\n",
        "                try\n",
        "                    MT = parse(Int64, long_string[index:index+MT_length])\n",
        "                    reaction_end = collect(findfirst(\")\", long_string[index:end]))[1] + index\n",
        "                    reaction = strip(long_string[index+MT_length+1: reaction_end])\n",
        "                    if !(reaction == \"(Unassigned)\")\n",
        "                        println(MT, reaction)\n",
        "                        mt_reactions[MT] = reaction\n",
        "                        #now to get the details\n",
        "                        details_end = collect(findfirst(\".\\r\", long_string[reaction_end+1:end]))[1] \n",
        "                        details_end += reaction_end + 1\n",
        "                        details = strip(long_string[reaction_end+1: details_end])\n",
        "                    details = replace(details, \"\\r\" => \" \" )\n",
        "                        details = replace(details, \"\\n\" => \"\" )\n",
        "                        mt_details[MT] = details\n",
        "                        index = details_end\n",
        "                    else\n",
        "                        index = reaction_end                     \n",
        "                    end\n",
        "                catch\n",
        "                    println(index)\n",
        "                end\n",
        "            end\n",
        "        end \n",
        "    end\n",
        "end\n",
        "mt_reactions, mt_details = define_MTs(mt_path)\n",
        "CSV.write(\"C:\\\\Users\\\\engin\\\\Documents\\\\GitHub\\\\Energy\\\\mt_reactions.csv\", mt_reactions)\n",
        "CSV.write(\"C:\\\\Users\\\\engin\\\\Documents\\\\GitHub\\\\Energy\\\\mt_details.csv\", mt_details)"
      ]
    },
    {
      "cell_type": "markdown",
      "metadata": {},
      "source": [
        "Now to filter the reactions for those that are sufficiently explicit.\n",
        "I use the convention where all nuclei are represented in the form (z,a) and \n",
        "\n",
        "reaction + target = product"
      ]
    },
    {
      "cell_type": "code",
      "execution_count": 4,
      "metadata": {},
      "outputs": [
        {
          "data": {
            "text/plain": [
              "interpret_reaction (generic function with 1 method)"
            ]
          },
          "metadata": {},
          "output_type": "display_data"
        }
      ],
      "source": [
        "MTs = [key for key in keys(mt_reactions)]\n",
        "reactions = [value for value in values(mt_reactions)]\n",
        "symbol_dict = Dict([\n",
        "            (\"n\", (0, 1)),\n",
        "            (\"t\", (1, 3)), #2 neutrons, 1 proton\n",
        "            (\"d\", (1, 2)),\n",
        "            (\"p\", (1, 1)),\n",
        "            (\"α\", (2, 4)),\n",
        "            (\"γ\", (0, 0)),\n",
        "            (\"3 He\", (2, 3)),\n",
        "            ('c', (0,0)) #reverse to continuum emission\n",
        "        ])\n",
        "reaction_symbols = [key for key in keys(symbol_dict)]\n",
        "\n",
        "function find_difference(term, projectile = (0,0))\n",
        "    #e.g. term = \"n\"\n",
        "    difference = (0, 0) #(Z, A)\n",
        "    if occursin(\"z\", term)\n",
        "        difference = (projectile[1], projectile[2])\n",
        "    end\n",
        "    #now to search for instance of any of the keys in term\n",
        "    for key in reaction_symbols\n",
        "        if occursin(key, term)\n",
        "            sub_difference = (0, 0)\n",
        "            key_index = collect(findfirst(key, term))[1]\n",
        "            sub_difference = symbol_dict[key]\n",
        "            #check for coefficient\n",
        "            if key_index > 1 && isdigit(term[key_index-1])\n",
        "                coefficient = parse(Int64, term[key_index-1])\n",
        "                sub_difference = (sub_difference[1] * coefficient, \n",
        "                    sub_difference[2] * coefficient)\n",
        "            end\n",
        "            difference = (difference[1] + sub_difference[1], difference[2] + sub_difference[2])\n",
        "        end\n",
        "    end\n",
        "    return difference     \n",
        "end\n",
        "\n",
        "\n",
        "#each nucleus is represented by a tuple of (Z, A)\n",
        "function interpret_reaction(reaction, projectile)\n",
        "    comma_index = collect(findfirst(\",\", reaction))[1]\n",
        "    reaction = collect(reaction)\n",
        "    added = reaction[2:comma_index-1]\n",
        "    ejected = reaction[comma_index+1:length(reaction)-1]\n",
        "    #the valid option are n, t, d, p, α, γ, He\n",
        "    # a number followed by a letter is a coefficient\n",
        "    # a letter followed by a number is an energy level.\n",
        "    # a letter followed by c means continuum emission of that particle\n",
        "    #each value will be added or subtracted from the target\n",
        "    added_difference = find_difference(string(added), projectile) \n",
        "    ejected_difference = find_difference(string(ejected))\n",
        "    reaction = (added_difference[1] - ejected_difference[1], \n",
        "                added_difference[2] - ejected_difference[2])\n",
        "    return reaction\n",
        "end\n",
        "\n"
      ]
    },
    {
      "cell_type": "markdown",
      "metadata": {},
      "source": [
        "The function below returns a dictionary where the keys are a tuple of the form (ΔZ,ΔA) and the values are MT numbers that correspond to such a reaction. The projectiles are an important input to specify, as many of the reactions involve fusion of at least part of the projectile (if its baryonic) and the target. "
      ]
    },
    {
      "cell_type": "code",
      "execution_count": 5,
      "metadata": {},
      "outputs": [
        {
          "data": {
            "text/plain": [
              "Dict{Any, Any} with 16 entries:\n",
              "  (1, 2)   => [603, 111, 203, 103, 217, 600, 649, 601, 604, 602]\n",
              "  (-1, -3) => [114, 117, 45]\n",
              "  (0, -2)  => [30, 25, 29, 24, 22]\n",
              "  (-1, -2) => [112, 1]\n",
              "  (-2, -2) => [101]\n",
              "  (1, -1)  => [5, 10, 33]\n",
              "  (0, -1)  => [207, 801, 849, 108, 50, 116, 109, 107, 800]\n",
              "  (2, 2)   => [875, 90, 4, 91, 218, 52, 34, 18, 16, 891, 876, 152, 17, 37, 214,…\n",
              "  (-1, -5) => [36]\n",
              "  (2, 3)   => [210, 457, 460, 456, 451, 216, 208, 2, 211, 202  …  213, 450, 106…\n",
              "  (1, 0)   => [700, 32, 215, 205, 11, 702, 749, 105, 701]\n",
              "  (0, 0)   => [115, 20, 21, 38]\n",
              "  (-1, -4) => [35, 113]\n",
              "  (1, 1)   => [699, 650, 104, 651, 28, 41, 204, 42, 652, 44]\n",
              "  (0, 1)   => [251, 253, 151, 751, 750, 27, 458, 799, 19, 252]\n",
              "  (-2, -4) => [23]"
            ]
          },
          "metadata": {},
          "output_type": "display_data"
        }
      ],
      "source": [
        "function find_corresponding_MTs(projectile)    \n",
        "    interpreted_MTs = Dict([])\n",
        "    for MT in MTs\n",
        "        try\n",
        "            interpreted_MTs[MT] = interpret_reaction(mt_reactions[MT], projectile)\n",
        "        catch\n",
        "            println(MT)\n",
        "        end\n",
        "    end\n",
        "    #details = [value for value in values(mt_details)]\n",
        "    #will write test cases later\n",
        "    interpretations = [value for value in values(interpreted_MTs)]\n",
        "    #there are many reactions that yield the same nucleus. \n",
        "    possible_changes_in_nucleus = unique(interpretations)\n",
        "    corresponding_MTs = Dict([])\n",
        "    for change in possible_changes_in_nucleus\n",
        "        corresponding_MTs[change] = [key for key in keys(interpreted_MTs) \n",
        "                                if interpreted_MTs[key] == change]\n",
        "    end\n",
        "    return corresponding_MTs\n",
        "end\n",
        "\n",
        "projectile_dict = Dict([\"electron\" => (0,0), \"neutron\"  => (0,1), \n",
        "    \"proton\" => (1,1), \"deuteron\" => (1,2), \"tritium\" => (1,3), \n",
        "    \"alpha\" => (2,2), \"gamma\" => (0,0), \"3He\"  => (2,3)])\n",
        "\n",
        "gamma_MTs = find_corresponding_MTs(projectile_dict[\"gamma\"])\n",
        "proton_MTs = find_corresponding_MTs(projectile_dict[\"proton\"])\n",
        "alpha_MTs = find_corresponding_MTs(projectile_dict[\"alpha\"])\n",
        "tritium_MTs = find_corresponding_MTs(projectile_dict[\"tritium\"])\n",
        "neutron_MTs = find_corresponding_MTs(projectile_dict[\"neutron\"])\n",
        "deuteron_MTs = find_corresponding_MTs(projectile_dict[\"deuteron\"])\n",
        "helium3_MTs = find_corresponding_MTs(projectile_dict[\"3He\"])\n",
        "#unsure how to represent a positron. It it (-1,-1) ? "
      ]
    },
    {
      "cell_type": "markdown",
      "metadata": {},
      "source": [
        "Now to use each dictionary of the MTs and nuclear reactions to find the set of target nuclei and corresponding projectiles. The next step is to find the relative abundances (and cost?) of each target nucleus, and then to loop through the nuclear cross section data. By finding the cross section as a function of energy for each target and projectile, then substituting each cross section into the formula for probability of reaction and dividing it by the energy of the projectile (including the energy to manufacture it), and comparing it to the molar energy density of the product this will give the energy efficiency of radioisotope energy storage.\n",
        "\n",
        "nested_projectile_dict is a nested dictionary, where each key is the name of a projectile and each value is a dictionary which has keys consisting of the possible $(ΔZ,ΔA)$ of the target in nuclear reactions corresponding to MTs defined for ENDF6-formatted nuclear data."
      ]
    },
    {
      "cell_type": "code",
      "execution_count": 6,
      "metadata": {},
      "outputs": [
        {
          "data": {
            "text/plain": [
              "7-element Vector{String}:\n",
              " \"deuteron\"\n",
              " \"proton\"\n",
              " \"alpha\"\n",
              " \"gamma\"\n",
              " \"neutron\"\n",
              " \"tritium\"\n",
              " \"3He\""
            ]
          },
          "metadata": {},
          "output_type": "display_data"
        }
      ],
      "source": [
        "nested_projectile_dict = Dict([\"gamma\" => gamma_MTs, \n",
        "            \"proton\" => proton_MTs, \"alpha\" => alpha_MTs,\n",
        "            \"tritium\" => tritium_MTs, \"neutron\" => neutron_MTs,\n",
        "            \"deuteron\" => deuteron_MTs, \"3He\" => helium3_MTs])\n",
        "projectiles = [key for key in keys(nested_projectile_dict)]"
      ]
    },
    {
      "cell_type": "code",
      "execution_count": 7,
      "metadata": {},
      "outputs": [
        {
          "data": {
            "text/plain": [
              "3192-element Vector{Tuple{Int64, Int64}}:\n",
              " (82, 218)\n",
              " (81, 215)\n",
              " (81, 216)\n",
              " (83, 219)\n",
              " (80, 214)\n",
              " (80, 211)\n",
              " (81, 214)\n",
              " (80, 213)\n",
              " (84, 220)\n",
              " (83, 220)\n",
              " ⋮\n",
              " (88, 202)\n",
              " (20, 58)\n",
              " (89, 218)\n",
              " (108, 266)\n",
              " (45, 88)\n",
              " (87, 215)\n",
              " (28, 49)\n",
              " (86, 217)\n",
              " (80, 173)"
            ]
          },
          "metadata": {},
          "output_type": "display_data"
        }
      ],
      "source": [
        "products_path = \"C:\\\\Users\\\\engin\\\\Downloads\\\\SortedPowerDensities.csv\"\n",
        "power_densities = CSV.read(products_path, DataFrame) \n",
        "products = power_densities[!, :2] #the isotope names are the second column\n",
        "#now to write each isotope in the (Z, A) format\n",
        "\n",
        "#list of the element symbols from the periodic table up to 118\n",
        "element_symbols = [\"H\", \"He\", \"Li\", \"Be\", \"B\", \"C\", \"N\", \"O\", \"F\", \"Ne\", \n",
        "\"Na\", \"Mg\", \"Al\", \"Si\", \"P\", \"S\", \"Cl\", \"Ar\", \"K\", \"Ca\", \"Sc\", \"Ti\", \"V\", \n",
        "\"Cr\", \"Mn\", \"Fe\", \"Co\", \"Ni\", \"Cu\", \"Zn\", \"Ga\", \"Ge\", \"As\", \"Se\", \"Br\", \n",
        "\"Kr\", \"Rb\", \"Sr\", \"Y\", \"Zr\", \"Nb\", \"Mo\", \"Tc\", \"Ru\", \"Rh\", \"Pd\", \"Ag\", \n",
        "\"Cd\", \"In\", \"Sn\", \"Sb\", \"Te\", \"I\", \"Xe\", \"Cs\", \"Ba\", \"La\", \"Ce\", \"Pr\", \n",
        "\"Nd\", \"Pm\", \"Sm\", \"Eu\", \"Gd\", \"Tb\", \"Dy\", \"Ho\", \"Er\", \"Tm\", \"Yb\", \"Lu\", \n",
        "\"Hf\", \"Ta\", \"W\", \"Re\", \"Os\", \"Ir\", \"Pt\", \"Au\", \"Hg\", \"Tl\", \"Pb\", \"Bi\", \n",
        "\"Po\", \"At\", \"Rn\", \"Fr\", \"Ra\", \"Ac\", \"Th\", \"Pa\", \"U\", \"Np\", \"Pu\", \"Am\", \n",
        "\"Cm\", \"Bk\", \"Cf\", \"Es\", \"Fm\", \"Md\", \"No\", \"Lr\", \"Rf\", \"Db\", \"Sg\", \"Bh\", \n",
        "\"Hs\", \"Mt\", \"Ds\", \"Rg\", \"Cn\", \"Nh\", \"Fl\", \"Mc\", \"Lv\", \"Ts\", \"Og\"]\n",
        "\n",
        "function write_in_z_a_format(isotope)\n",
        "    char_array = collect(isotope)\n",
        "    index = 1\n",
        "    try\n",
        "        while isdigit(char_array[index])\n",
        "            index += 1\n",
        "        end\n",
        "        index -= 1\n",
        "        a = parse(Int64, join(char_array[1:index]))\n",
        "        z_as_string = join(char_array[index+1:end])\n",
        "        if z_as_string == \"n\"\n",
        "            z = 0\n",
        "        else\n",
        "            z = findfirst(x->x == z_as_string, element_symbols)\n",
        "        end\n",
        "        return (z, a)\n",
        "    catch \n",
        "        error_message = \"Error in isotope \" * isotope\n",
        "        println(error_message)\n",
        "        return error_message\n",
        "    end \n",
        "end\n",
        "    #isotope is a string\n",
        "z_a_products = [write_in_z_a_format(product) for product in products]"
      ]
    },
    {
      "cell_type": "markdown",
      "metadata": {},
      "source": [
        "Now to import all naturally occuring isotopic abundances to evaluate whether or not a potential target is naturally occuring or would need to be produced. "
      ]
    },
    {
      "cell_type": "code",
      "execution_count": 8,
      "metadata": {},
      "outputs": [
        {
          "data": {
            "text/plain": [
              "Dict{Any, Any} with 3352 entries:\n",
              "  (92, 232)  => 0\n",
              "  (26, 53)   => 0\n",
              "  (30, 68)   => 0.1845\n",
              "  (36, 73)   => 0\n",
              "  (75, 163)  => 0\n",
              "  (80, 183)  => 0\n",
              "  (66, 145)  => 0\n",
              "  (58, 152)  => 0\n",
              "  (85, 193)  => 0\n",
              "  (10, 32)   => 0\n",
              "  (70, 167)  => 0\n",
              "  (41, 85)   => 0\n",
              "  (73, 179)  => 0\n",
              "  (102, 252) => 0\n",
              "  (58, 134)  => 0\n",
              "  (29, 73)   => 0\n",
              "  (96, 237)  => 0\n",
              "  (86, 231)  => 0\n",
              "  (32, 62)   => 0\n",
              "  ⋮          => ⋮"
            ]
          },
          "metadata": {},
          "output_type": "display_data"
        }
      ],
      "source": [
        "file_path = \"C:\\\\Users\\\\engin\\\\Documents\\\\GitHub\\\\Energy\\\\ImportedData\\\\IsotopicAbundances.txt\"\n",
        "file_as_array = split(open(f->read(f, String), file_path), \"\\n\")\n",
        "file_as_array\n",
        "#I want to make a dictionary where they keys are the isotope and the values are the abundance\n",
        "file_as_array[17:24]\n",
        "isotope_abundances = Dict()\n",
        "function add_to_dict(start_index)\n",
        "    try\n",
        "        atomic_number = parse(Int64, file_as_array[start_index][17:end-1])\n",
        "        mass_number = parse(Int64, file_as_array[start_index+2][14:end-1])\n",
        "        #if the abundance is 0, the isotope is not naturally occuring\n",
        "        abundance = file_as_array[start_index+4][23:end-1]\n",
        "        if occursin(\"(\", abundance)\n",
        "            abundance = split(abundance, \"(\")[1]\n",
        "        end\n",
        "        abundance = tryparse(Float64, abundance)\n",
        "        if abundance == nothing\n",
        "            isotope_abundances[(atomic_number, mass_number)] = 0\n",
        "        else    \n",
        "            isotope_abundances[(atomic_number, mass_number)] = abundance\n",
        "        end\n",
        "    catch\n",
        "        print(\"Error in line \", start_index)\n",
        "        return\n",
        "    end\n",
        "end\n",
        "for start_index in 1:8:length(file_as_array)-1\n",
        "    add_to_dict(start_index)\n",
        "end\n",
        "#works :) \n",
        "isotope_abundances"
      ]
    },
    {
      "cell_type": "markdown",
      "metadata": {},
      "source": [
        "Now that I have the desired products, radiosiotopes that may be used in electric batteries, I can find the potential targets to produce them based on the cross section data from https://www-nds.iaea.org/.\n",
        "\n",
        "The cell below makes a nested dictionary named projectile_product_dict where they keys are the different projectiles for which I have downloaded data. In turn, each value is another dictionary where the keys are the different products and each value consists of two vector of tuples, each of the corresponding targets and reactions.\n",
        "\n",
        "It is important to note that this dictionary only includes 1 step reactions.\n",
        "\n",
        "The final product will be a table of energy efficiencies, products, projectiles, targets, and reactions."
      ]
    },
    {
      "cell_type": "code",
      "execution_count": 9,
      "metadata": {},
      "outputs": [
        {
          "data": {
            "text/plain": [
              "Dict{Any, Any} with 7 entries:\n",
              "  \"deuteron\" => Dict{Any, Any}(\"243Cf\"=>Dict{Any, Any}(\"(A,Z)\"=>(98, 243)), \"11…\n",
              "  \"proton\"   => Dict{Any, Any}(\"243Cf\"=>Dict{Any, Any}(\"(A,Z)\"=>(98, 243)), \"11…\n",
              "  \"alpha\"    => Dict{Any, Any}(\"243Cf\"=>Dict{Any, Any}(\"(A,Z)\"=>(98, 243)), \"11…\n",
              "  \"gamma\"    => Dict{Any, Any}(\"243Cf\"=>Dict{Any, Any}(\"(A,Z)\"=>(98, 243)), \"11…\n",
              "  \"neutron\"  => Dict{Any, Any}(\"243Cf\"=>Dict{Any, Any}(\"(A,Z)\"=>(98, 243)), \"11…\n",
              "  \"tritium\"  => Dict{Any, Any}(\"243Cf\"=>Dict{Any, Any}(\"(A,Z)\"=>(98, 243)), \"11…\n",
              "  \"3He\"      => Dict{Any, Any}(\"243Cf\"=>Dict{Any, Any}(\"(A,Z)\"=>(98, 243)), \"11…"
            ]
          },
          "metadata": {},
          "output_type": "display_data"
        }
      ],
      "source": [
        "projectile_product_dict = Dict([])\n",
        "for projectile in projectiles\n",
        "    projectile_product_dict[projectile] = Dict([])\n",
        "    projectile_MTs = nested_projectile_dict[projectile]\n",
        "    for product_enum in enumerate(products)\n",
        "        product_index, product_string = product_enum\n",
        "        product = write_in_z_a_format(product_string)\n",
        "        projectile_product_dict[projectile][product_string] = Dict([])\n",
        "        projectile_product_dict[projectile][product_string][\"(A,Z)\"] = product\n",
        "        reactions = [reaction for reaction in keys(nested_projectile_dict[projectile])]\n",
        "        for reaction in reactions\n",
        "            target = (product[1] - reaction[1], product[2] - reaction[2])\n",
        "            try\n",
        "                if isotope_abundances[target] > 0\n",
        "                    #need target, abundance, and MTs for each reaction\n",
        "                    projectile_product_dict[projectile][product_string][target] = Dict([])\n",
        "                    projectile_product_dict[projectile][product_string][target][\"MT\"] = (\n",
        "                        projectile_MTs[reaction])\n",
        "                    projectile_product_dict[projectile][product_string][target][\"abundance\"] = (\n",
        "                        isotope_abundances[target])\n",
        "                end\n",
        "            catch\n",
        "                continue #the target isn't even in the isotope_abundances dict\n",
        "            end\n",
        "        end\n",
        "    end\n",
        "end\n",
        "projectile_product_dict #note that is only including 1 step reactions"
      ]
    },
    {
      "cell_type": "markdown",
      "metadata": {},
      "source": [
        "Now to import the average densities of each element, which we can then use to find the density of each target. Note that isotopic differences should be taken into consideration.\n",
        "\n",
        "Source: https://gist.github.com/GoodmanSciences/c2dd862cd38f21b0ad36b8f96b4bf1ee"
      ]
    },
    {
      "cell_type": "code",
      "execution_count": 10,
      "metadata": {},
      "outputs": [
        {
          "data": {
            "text/html": [
              "<div class=\"data-frame\"><p>118 rows × 28 columns (omitted printing of 22 columns)</p><table class=\"data-frame\"><thead><tr><th></th><th>AtomicNumber</th><th>Element</th><th>Symbol</th><th>AtomicMass</th><th>NumberofNeutrons</th><th>NumberofProtons</th></tr><tr><th></th><th title=\"Int64\">Int64</th><th title=\"String15\">String15</th><th title=\"String3\">String3</th><th title=\"Float64\">Float64</th><th title=\"Int64\">Int64</th><th title=\"Int64\">Int64</th></tr></thead><tbody><tr><th>1</th><td>1</td><td>Hydrogen</td><td>H</td><td>1.007</td><td>0</td><td>1</td></tr><tr><th>2</th><td>2</td><td>Helium</td><td>He</td><td>4.002</td><td>2</td><td>2</td></tr><tr><th>3</th><td>3</td><td>Lithium</td><td>Li</td><td>6.941</td><td>4</td><td>3</td></tr><tr><th>4</th><td>4</td><td>Beryllium</td><td>Be</td><td>9.012</td><td>5</td><td>4</td></tr><tr><th>5</th><td>5</td><td>Boron</td><td>B</td><td>10.811</td><td>6</td><td>5</td></tr><tr><th>6</th><td>6</td><td>Carbon</td><td>C</td><td>12.011</td><td>6</td><td>6</td></tr><tr><th>7</th><td>7</td><td>Nitrogen</td><td>N</td><td>14.007</td><td>7</td><td>7</td></tr><tr><th>8</th><td>8</td><td>Oxygen</td><td>O</td><td>15.999</td><td>8</td><td>8</td></tr><tr><th>9</th><td>9</td><td>Fluorine</td><td>F</td><td>18.998</td><td>10</td><td>9</td></tr><tr><th>10</th><td>10</td><td>Neon</td><td>Ne</td><td>20.18</td><td>10</td><td>10</td></tr><tr><th>11</th><td>11</td><td>Sodium</td><td>Na</td><td>22.99</td><td>12</td><td>11</td></tr><tr><th>12</th><td>12</td><td>Magnesium</td><td>Mg</td><td>24.305</td><td>12</td><td>12</td></tr><tr><th>13</th><td>13</td><td>Aluminum</td><td>Al</td><td>26.982</td><td>14</td><td>13</td></tr><tr><th>14</th><td>14</td><td>Silicon</td><td>Si</td><td>28.086</td><td>14</td><td>14</td></tr><tr><th>15</th><td>15</td><td>Phosphorus</td><td>P</td><td>30.974</td><td>16</td><td>15</td></tr><tr><th>16</th><td>16</td><td>Sulfur</td><td>S</td><td>32.065</td><td>16</td><td>16</td></tr><tr><th>17</th><td>17</td><td>Chlorine</td><td>Cl</td><td>35.453</td><td>18</td><td>17</td></tr><tr><th>18</th><td>18</td><td>Argon</td><td>Ar</td><td>39.948</td><td>22</td><td>18</td></tr><tr><th>19</th><td>19</td><td>Potassium</td><td>K</td><td>39.098</td><td>20</td><td>19</td></tr><tr><th>20</th><td>20</td><td>Calcium</td><td>Ca</td><td>40.078</td><td>20</td><td>20</td></tr><tr><th>21</th><td>21</td><td>Scandium</td><td>Sc</td><td>44.956</td><td>24</td><td>21</td></tr><tr><th>22</th><td>22</td><td>Titanium</td><td>Ti</td><td>47.867</td><td>26</td><td>22</td></tr><tr><th>23</th><td>23</td><td>Vanadium</td><td>V</td><td>50.942</td><td>28</td><td>23</td></tr><tr><th>24</th><td>24</td><td>Chromium</td><td>Cr</td><td>51.996</td><td>28</td><td>24</td></tr><tr><th>&vellip;</th><td>&vellip;</td><td>&vellip;</td><td>&vellip;</td><td>&vellip;</td><td>&vellip;</td><td>&vellip;</td></tr></tbody></table></div>"
            ],
            "text/latex": [
              "\\begin{tabular}{r|ccccccc}\n",
              "\t& AtomicNumber & Element & Symbol & AtomicMass & NumberofNeutrons & NumberofProtons & \\\\\n",
              "\t\\hline\n",
              "\t& Int64 & String15 & String3 & Float64 & Int64 & Int64 & \\\\\n",
              "\t\\hline\n",
              "\t1 & 1 & Hydrogen & H & 1.007 & 0 & 1 & $\\dots$ \\\\\n",
              "\t2 & 2 & Helium & He & 4.002 & 2 & 2 & $\\dots$ \\\\\n",
              "\t3 & 3 & Lithium & Li & 6.941 & 4 & 3 & $\\dots$ \\\\\n",
              "\t4 & 4 & Beryllium & Be & 9.012 & 5 & 4 & $\\dots$ \\\\\n",
              "\t5 & 5 & Boron & B & 10.811 & 6 & 5 & $\\dots$ \\\\\n",
              "\t6 & 6 & Carbon & C & 12.011 & 6 & 6 & $\\dots$ \\\\\n",
              "\t7 & 7 & Nitrogen & N & 14.007 & 7 & 7 & $\\dots$ \\\\\n",
              "\t8 & 8 & Oxygen & O & 15.999 & 8 & 8 & $\\dots$ \\\\\n",
              "\t9 & 9 & Fluorine & F & 18.998 & 10 & 9 & $\\dots$ \\\\\n",
              "\t10 & 10 & Neon & Ne & 20.18 & 10 & 10 & $\\dots$ \\\\\n",
              "\t11 & 11 & Sodium & Na & 22.99 & 12 & 11 & $\\dots$ \\\\\n",
              "\t12 & 12 & Magnesium & Mg & 24.305 & 12 & 12 & $\\dots$ \\\\\n",
              "\t13 & 13 & Aluminum & Al & 26.982 & 14 & 13 & $\\dots$ \\\\\n",
              "\t14 & 14 & Silicon & Si & 28.086 & 14 & 14 & $\\dots$ \\\\\n",
              "\t15 & 15 & Phosphorus & P & 30.974 & 16 & 15 & $\\dots$ \\\\\n",
              "\t16 & 16 & Sulfur & S & 32.065 & 16 & 16 & $\\dots$ \\\\\n",
              "\t17 & 17 & Chlorine & Cl & 35.453 & 18 & 17 & $\\dots$ \\\\\n",
              "\t18 & 18 & Argon & Ar & 39.948 & 22 & 18 & $\\dots$ \\\\\n",
              "\t19 & 19 & Potassium & K & 39.098 & 20 & 19 & $\\dots$ \\\\\n",
              "\t20 & 20 & Calcium & Ca & 40.078 & 20 & 20 & $\\dots$ \\\\\n",
              "\t21 & 21 & Scandium & Sc & 44.956 & 24 & 21 & $\\dots$ \\\\\n",
              "\t22 & 22 & Titanium & Ti & 47.867 & 26 & 22 & $\\dots$ \\\\\n",
              "\t23 & 23 & Vanadium & V & 50.942 & 28 & 23 & $\\dots$ \\\\\n",
              "\t24 & 24 & Chromium & Cr & 51.996 & 28 & 24 & $\\dots$ \\\\\n",
              "\t$\\dots$ & $\\dots$ & $\\dots$ & $\\dots$ & $\\dots$ & $\\dots$ & $\\dots$ &  \\\\\n",
              "\\end{tabular}\n"
            ],
            "text/plain": [
              "\u001b[1m118×28 DataFrame\u001b[0m\n",
              "\u001b[1m Row \u001b[0m│\u001b[1m AtomicNumber \u001b[0m\u001b[1m Element       \u001b[0m\u001b[1m Symbol  \u001b[0m\u001b[1m AtomicMass \u001b[0m\u001b[1m NumberofNeutrons \u001b[0m\u001b[1m Num\u001b[0m ⋯\n",
              "\u001b[1m     \u001b[0m│\u001b[90m Int64        \u001b[0m\u001b[90m String15      \u001b[0m\u001b[90m String3 \u001b[0m\u001b[90m Float64    \u001b[0m\u001b[90m Int64            \u001b[0m\u001b[90m Int\u001b[0m ⋯\n",
              "─────┼──────────────────────────────────────────────────────────────────────────\n",
              "   1 │            1  Hydrogen       H             1.007                 0      ⋯\n",
              "   2 │            2  Helium         He            4.002                 2\n",
              "   3 │            3  Lithium        Li            6.941                 4\n",
              "   4 │            4  Beryllium      Be            9.012                 5\n",
              "   5 │            5  Boron          B            10.811                 6      ⋯\n",
              "   6 │            6  Carbon         C            12.011                 6\n",
              "   7 │            7  Nitrogen       N            14.007                 7\n",
              "   8 │            8  Oxygen         O            15.999                 8\n",
              "  ⋮  │      ⋮              ⋮           ⋮         ⋮              ⋮              ⋱\n",
              " 112 │          112  Copernicium    Cn          285.0                 173      ⋯\n",
              " 113 │          113  Nihonium       Nh          284.0                 171\n",
              " 114 │          114  Flerovium      Fl          289.0                 175\n",
              " 115 │          115  Moscovium      Mc          288.0                 173\n",
              " 116 │          116  Livermorium    Lv          292.0                 176      ⋯\n",
              " 117 │          117  Tennessine     Ts          295.0                 178\n",
              " 118 │          118  Oganesson      Og          294.0                 176\n",
              "\u001b[36m                                                 23 columns and 103 rows omitted\u001b[0m"
            ]
          },
          "metadata": {},
          "output_type": "display_data"
        }
      ],
      "source": [
        "elemental_densities_path = (\"C:\\\\Users\\\\engin\\\\Documents\\\\\" * \n",
        "        \"GitHub\\\\Energy\\\\ImportedData\\\\Periodic Table of Elements.csv\")\n",
        "#import CSV \n",
        "elemental_densities = CSV.read(elemental_densities_path, DataFrame)"
      ]
    },
    {
      "cell_type": "markdown",
      "metadata": {},
      "source": [
        "Since most of these projectiles are charged, I need to account for the stopping power of the target.\n",
        "Found an extensive database here https://www-nds.iaea.org/stopping/stopping_intr.html\n",
        "\n",
        "Does stopping power vary greatly between different isotopes of the same element? Since they have the same number of protons and electrons, I don't think it should differ greatly. The stopping would be unaffected based on the Bethe formula. \n",
        "\n",
        "Based on these graphs, https://www-nds.iaea.org/stopping/stopping_timg.html the first column is the energy per nucleon in MeV and the second column (note that sometimes commas are used instead of decimal points) is the electronic stopping power in Mev/(mg/cm $^2$). This must be normalized by the mass of the target (e.g https://www-nds.iaea.org/stopping/SCSGraphs/16O/oal.gif) bottom right table. \n"
      ]
    },
    {
      "cell_type": "markdown",
      "metadata": {},
      "source": [
        "Is it necessary to find the energy efficiencies of all reactions that result in the desired product? Can we rule any out while still being just as thorough as looking at every MT?"
      ]
    },
    {
      "cell_type": "markdown",
      "metadata": {},
      "source": [
        "Now that I have a dictionary of the potential targets that can be used to make a product, I just need to find their corresponding MTs. I just need to use the dictionary of MTs I already made. "
      ]
    },
    {
      "cell_type": "markdown",
      "metadata": {},
      "source": [
        "#ENDF6\n",
        "\n",
        "For each section of file 3 (reaction cross sections) the format of each column is \n",
        "\n",
        "[MAT, 3, MT/ ZA, AWR, 0, 0, 0, 0] HEAD\n",
        "\n",
        "[MAT, 3, MT/ QM, QI, 0, LR, NR, NP/ Eint/ σ(E)]TAB1\n",
        "\n",
        "[MAT, 3, 0/ 0.0, 0.0, 0, 0, 0, 0] SEND\n",
        "\n",
        "where \n",
        "\n",
        "This function creates a properly formatted matrix of 64 bit floats from the file path of an ENDF6 formatted text file.\n",
        "\n",
        "Use list comprehension to check if each line (in the form of a string) is in the valid data format, take only those rows, and convert each of them to a matrix, which is then converted into two vectors."
      ]
    },
    {
      "cell_type": "code",
      "execution_count": 11,
      "metadata": {},
      "outputs": [
        {
          "data": {
            "text/plain": [
              "find_section (generic function with 1 method)"
            ]
          },
          "metadata": {},
          "output_type": "display_data"
        }
      ],
      "source": [
        "# Reference: https://github.com/DavidWalz/pyENDF6\n",
        "\n",
        "slices = Dict(\n",
        "    \"MAT\" => 67:71,\n",
        "    \"MF\" => 72:74,\n",
        "    \"MT\" => 75:78,\n",
        "    \"line\" => 78:83,\n",
        "    \"content\" => 1:67,\n",
        "    \"data\" => [a-10:a for a in 11*collect(1:6)])\n",
        "\n",
        "\n",
        "function read_float(v)\n",
        "    #Convert ENDF6 string to float \n",
        "    a, b = [' '], \"\" \n",
        "    if (strip(v, a) == b)\n",
        "        return 0.\n",
        "    end\n",
        "    try\n",
        "        return parse(BigFloat, v)\n",
        "    catch\n",
        "        # ENDF6 may omit the e for exponent\n",
        "        return parse(BigFloat,\n",
        "            v[1] * replace(replace(v[2:end], \"+\" => \"e+\"), \"-\" => \"e-\"))  # don't replace leading negative sign\n",
        "    end\n",
        "end  \n",
        "\n",
        "function read_line(l)\n",
        "    #Read first 6*11 characters of a line as floats\"\"\"\n",
        "    return [read_float(l[s]) for s in slices[\"data\"]]\n",
        "end\n",
        " \n",
        "function read_table(lines)\n",
        "    #=\n",
        "    Parse tabulated data in a section\n",
        "    https://t2.lanl.gov/nis/endf/intro07.html\n",
        "    https://t2.lanl.gov/nis/endf/intro08.html\n",
        "    https://t2.lanl.gov/nis/endf/intro09.html\n",
        "    =#\n",
        "    # header line 1: (100*Z+A), mass in [m_neutron]\n",
        "    # [MAT, 3, MT/ ZA, AWR, 0, 0, 0, 0] HEAD\n",
        "\n",
        "    # header line 2: Q-value and some counts\n",
        "    # [MAT, 3, MT/ QM, QI, 0, LR, NR, NP/ EINT/ S(E)] TAB1\n",
        "    f = read_line(lines[2])\n",
        "    nS = Int64(f[5])  # number of interpolation sections\n",
        "    nP = Int64(f[6])  # number of data points\n",
        "    # header line 3: interpolation information\n",
        "    # [MAT, 3, 0/ 0.0, 0.0, 0, 0, 0, 0] SEND\n",
        "    # 1   y is constant in x (constant, histogram)\n",
        "    # 2   y is linear in x (linear-linear)\n",
        "    # 3   y is linear in ln(x) (linear-log)\n",
        "    # 4   ln(y) is linear in x (log-linear)\n",
        "    # 5   ln(y) is linear in ln(x) (log-log)\n",
        "    # 6   y obeys a Gamow charged-particle penetrability law\n",
        "\n",
        "    # data lines\n",
        "    energy = []\n",
        "    cross_section = []\n",
        "    for l in lines[4:end]\n",
        "        f = read_line(l)\n",
        "        append!(energy, f[1], f[3], f[5])\n",
        "        append!(cross_section, f[2], f[4], f[6])\n",
        "    end\n",
        "    return energy[1:nP], cross_section[1:nP]\n",
        "end \n",
        "\n",
        "function find_section(lines, MF, MT)\n",
        "    #\"\"\"Locate and return a certain section\"\"\"\n",
        "    v = [l[71:75] for l in lines]\n",
        "    cmpstr = \"$(@sprintf(\"%2s\", MF))$(@sprintf(\"%3s\", MT))\" # search string\n",
        "    i0 = collect(findfirst(==(cmpstr), v))[1] # first occurrence\n",
        "    i1 = collect(findlast(==(cmpstr), v))[1] # last occurrence\n",
        "    return lines[i0: i1]\n",
        "end"
      ]
    },
    {
      "cell_type": "markdown",
      "metadata": {},
      "source": [
        "The code below retrieves the non-elastic processes (reaction/absorption) cross section rather than the total cross section (since an elastic collision doesn't form the product nuclei)\n",
        "\n",
        "Page 105 from the ENDF-6 Formats Manual, \"3.4.3 Nonelastic Cross Section (MT=3)\n",
        "The nonelastic cross section is not required unless any part of the photon production mul-\n",
        "tiplicities given in File 12 uses MT=3. In this case, MT=3 is required in File 3. If MT=3\n",
        "is given, then the set of points used to specify this cross section must be a union of the sets\n",
        "used for its partials.\"\n",
        "\n",
        "It is possible to approximate the non-elastic cross section since it is the difference between the total cross section and the elastic cross section. Specifically, also from page 105 from the ENDF-6 Formats Manual, \"3.4.2 Elastic Scattering Cross Section (MT=2)\n",
        "The elastic scattering cross section is generally not known to the same accuracy as the total\n",
        "cross section. Frequently, the elastic scattering cross section is evaluated as the difference\n",
        "between the total and the nonelastic cross section. This procedure can cause problems: the\n",
        "resulting elastic scattering cross section shape may contain unreal structure. There may\n",
        "be several causes. First, the nonelastic cross section, or any part thereof, is not generally\n",
        "measured with the same energy resolution as the total cross section. When the somewhat\n",
        "poorer resolution nonelastic data are subtracted from the total, the resolution effects appear\n",
        "in the elastic cross section. Second, if the evaluated structure in the nonelastic cross section is\n",
        "incorrect or improperly correlated with the structure in the total cross section (energy-scale\n",
        "errors), an unrealistic structure is generated in the elastic scattering cross section.\n",
        "The experimental elastic cross section is obtained by integrating measured angular dis-\n",
        "tributions. These data may not cover the entire angular range or may contain contributions\n",
        "from nonelastic neutrons. Such contamination is generally due to contributions from inelas-\n",
        "tic scattering to low-lying levels that were not resolved in the experiment. Care must be\n",
        "taken in evaluating such results to obtain integrated cross sections. Similarly, experimental\n",
        "angular distribution data can also cause problems when evaluating File 4.\"\n",
        "\n",
        "What is the difference between radiative capture and nonelastic collisions? The difference is that the neutron is not necessarily absorbed, it just means that kinetic energy is lost by emitting a photon. Thus the quantity I actually want to find is MT=102, radiative capture.\n",
        "\n",
        "\"Note that, in the case of correlation between shape and magnitude of a scattering cross section, it is possible for an absorption cross section MT-value to show up in File 34 (with L=0 only)\"\n",
        "\n",
        "The manual uses the term radiative capture to refer to (z,$\\gamma$) reactions and "
      ]
    },
    {
      "cell_type": "markdown",
      "metadata": {},
      "source": [
        "Other potentially relevant sections:\n",
        "\n",
        "MT 201 refers to neutron production, "
      ]
    },
    {
      "cell_type": "code",
      "execution_count": 12,
      "metadata": {},
      "outputs": [
        {
          "data": {
            "text/plain": [
              "Dict{Any, Any} with 118 entries:\n",
              "  \"Pd\"  => 12.0\n",
              "  \"Fl\"  => missing\n",
              "  \"Si\"  => 2.33\n",
              "  \"C\"   => 2.27\n",
              "  \"P\"   => 1.82\n",
              "  \"Nb\"  => 8.57\n",
              "  \"Ag\"  => 10.5\n",
              "  \"Gd\"  => 7.9\n",
              "  \"Ru\"  => 12.4\n",
              "  \"At\"  => 7.0\n",
              "  \"Sb\"  => 6.69\n",
              "  \"Cn \" => missing\n",
              "  \"Cs\"  => 1.87\n",
              "  \"Be\"  => 1.85\n",
              "  \"Sr\"  => 2.64\n",
              "  \"Ac\"  => 10.1\n",
              "  \"Cf\"  => 15.1\n",
              "  \"Ta\"  => 16.7\n",
              "  \"Ga\"  => 5.91\n",
              "  ⋮     => ⋮"
            ]
          },
          "metadata": {},
          "output_type": "display_data"
        }
      ],
      "source": [
        "density_path = (\"C:\\\\Users\\\\engin\\\\Documents\\\\\" * \n",
        "        \"GitHub\\\\Energy\\\\ImportedData\\\\Periodic Table of Elements.csv\")\n",
        "#read csv to dataframe\n",
        "density_df = CSV.read(density_path, DataFrame)\n",
        "#get the density of each element\n",
        "density_dict = Dict([])\n",
        "for i in 1:length(density_df[!, \"Symbol\"])\n",
        "    density_dict[density_df[i,\"Symbol\"]] = density_df[i,\"Density\"]\n",
        "end\n",
        "density_dict"
      ]
    },
    {
      "cell_type": "code",
      "execution_count": 13,
      "metadata": {},
      "outputs": [
        {
          "data": {
            "text/plain": [
              "\"C:\\\\Cross-Section-Data\\\\jendl5-n\\\\n_082-Pb-206.dat\""
            ]
          },
          "metadata": {},
          "output_type": "display_data"
        }
      ],
      "source": [
        "function get_key(dictionary, value)\n",
        "    key = []\n",
        "    for dict_key in keys(dictionary)\n",
        "        if(value in dictionary[dict_key])\n",
        "            append!(key, [dict_key])\n",
        "        end\n",
        "    end\n",
        "    return key\n",
        "end \n",
        "get_key(gamma_MTs, 50)\n",
        "\n",
        "projectile_directory_dict = Dict([])\n",
        "projectile_symbol_dict = Dict([\"gamma\" => \"g\", \"neutron\" => \"n\",\n",
        "                                \"proton\" => \"p\", \"deuteron\" => \"d\",\n",
        "                                \"triton\" => \"t\", \"He3\" => \"He3\",\n",
        "                                \"alpha\" => \"a\"])\n",
        "\n",
        "function get_file_path(projectile, target)\n",
        "    projectile_symbol = projectile_symbol_dict[projectile]\n",
        "    directory = data_dir * String(\"jendl5-\") * projectile_symbol * String(\"\\\\\") \n",
        "    file_name = (projectile_symbol * String(\"_\") * lpad(target[1], 3, \"0\") * String(\"-\") \n",
        "                * element_symbols[target[1]] * String(\"-\")* lpad(target[2], 3, \"0\") \n",
        "                * String(\".dat\"))\n",
        "    return (directory * file_name)\n",
        "end\n",
        "get_file_path(\"neutron\", (82,206))"
      ]
    },
    {
      "cell_type": "markdown",
      "metadata": {},
      "source": [
        "#The function min_isotope_production_energy will determine the lowest one step method of producing a given isotope using a given projectile. It returns the minimum energy of reaction and the corresponding target isotope in the form (z,a)."
      ]
    },
    {
      "cell_type": "code",
      "execution_count": 14,
      "metadata": {},
      "outputs": [
        {
          "data": {
            "text/plain": [
              "min_isotope_production_energy (generic function with 2 methods)"
            ]
          },
          "metadata": {},
          "output_type": "display_data"
        }
      ],
      "source": [
        "function energy_and_cross_section(file_path, MT)\n",
        "    MF = 3\n",
        "    try\n",
        "        open(file_path) do file\n",
        "            lines = split(read(file_path, String), \n",
        "                        \"\\n\", keepempty = false)\n",
        "            lines = lines[lines .!== nothing]\n",
        "            lines = lines[lines .!== \"\"]\n",
        "            lines = lines[lines .!== Nothing]\n",
        "            lines = String.(lines)\n",
        "            sec = find_section(lines, MF, MT)\n",
        "            return read_table(sec)\n",
        "        end\n",
        "    catch\n",
        "        return nothing \n",
        "    end\n",
        "end\n",
        "\n",
        "function min_reaction_energy(projectile, target, MT, competing_reactions)\n",
        "    file_path = get_file_path(projectile, target)\n",
        "    test = energy_and_cross_section(file_path, MT)\n",
        "    if test == nothing\n",
        "        #println(\"No data for \", projectile, \" \", target, \" \", MT)\n",
        "        return nothing\n",
        "    end\n",
        "    energies, cross_sections = test\n",
        "    try \n",
        "        density = density_df[target[1], \"Density\"] * 1000 # convert from g/cm^3 to kg/m^3\n",
        "        k = -BigFloat(density) * (6.022140857e23) / target[2]\n",
        "        if !competing_reactions\n",
        "            p = 1 .- exp.(k * cross_sections * 1)\n",
        "        end\n",
        "        return minimum(energies ./ p)\n",
        "    catch \n",
        "        density = 1000 # default value\n",
        "        k = -BigFloat(density) * (6.022140857e23) / target[2]\n",
        "        if !competing_reactions\n",
        "            p = 1 .- exp.(k * cross_sections * 1000)\n",
        "        end\n",
        "        return minimum(energies ./ p)\n",
        "    end\n",
        "end\n",
        "\n",
        "function min_isotope_production_energy(projectile, product, competing_reactions = false)\n",
        "    ```\n",
        "    Loops through all of the targets and all of the MTs for each target\n",
        "    for a given projectile and target isotope.\n",
        "    ```\n",
        "    targets = [key for key in \n",
        "            keys(projectile_product_dict[projectile][product])\n",
        "            if (key != \"(A,Z)\" && key != write_in_z_a_format(product))]\n",
        "    min_target_energy = Dict([])\n",
        "    min_energy = [min_target_energy[target] = \n",
        "                [min_reaction_energy(projectile, target, MT, competing_reactions) \n",
        "                for MT in projectile_product_dict[projectile][product][target][\"MT\"]\n",
        "                if min_reaction_energy(projectile, target, MT, competing_reactions) != nothing]\n",
        "                for target in targets]\n",
        "    #replace all values of [] in min_energy\n",
        "    min_energy = filter!(energy-> energy ≠ [], min_energy)\n",
        "    if min_energy != []\n",
        "        precise_min_energy = minimum(min_energy)\n",
        "        min_energy = float(minimum(min_energy))[1]\n",
        "        target_list = get_key(min_target_energy, min_energy)\n",
        "        product_z_a = write_in_z_a_format(product)\n",
        "        reaction = [[product_z_a[1] - target[1], product_z_a[2] - target[2]]\n",
        "                for target in target_list]\n",
        "        return precise_min_energy, target_list, reaction\n",
        "    else\n",
        "        print(\"No data for producing \", product, \" with \",\n",
        "            projectile, \" in only one step.\")\n",
        "        return nothing, nothing, nothing\n",
        "    end\n",
        "end"
      ]
    },
    {
      "cell_type": "code",
      "execution_count": 30,
      "metadata": {},
      "outputs": [
        {
          "data": {
            "text/plain": [
              "72:78"
            ]
          },
          "metadata": {},
          "output_type": "display_data"
        }
      ],
      "source": []
    },
    {
      "cell_type": "code",
      "execution_count": 35,
      "metadata": {},
      "outputs": [
        {
          "name": "stdout",
          "output_type": "stream",
          "text": [
            "[2, 999, 5]"
          ]
        }
      ],
      "source": [
        "projectile_product_dict[\"proton\"][\"207Bi\"][(82,206)][\"MT\"]\n",
        "target = (82,206)\n",
        "product = \"207Bi\"\n",
        "target_path = get_file_path(\"proton\", target)\n",
        "\n",
        "function get_unique_MTs(file_path)\n",
        "    MF = 3\n",
        "    try\n",
        "        open(file_path) do file\n",
        "            lines = split(read(file_path, String), \n",
        "                        \"\\n\", keepempty = false)\n",
        "            lines = lines[lines .!== nothing]\n",
        "            lines = lines[lines .!== \"\"]\n",
        "            lines = lines[lines .!== Nothing]\n",
        "            lines = String.(lines)\n",
        "            return unique([tryparse(Int64, String([l[s] for s in slices[\"MT\"]])) for l in lines\n",
        "                            if (tryparse(Int64, String([l[s] for s in slices[\"MF\"]])) == 3)])\n",
        "        end\n",
        "    catch\n",
        "        return nothing \n",
        "    end\n",
        "end\n",
        "print(get_unique_MTs(target_path))"
      ]
    },
    {
      "cell_type": "code",
      "execution_count": 17,
      "metadata": {},
      "outputs": [
        {
          "data": {
            "text/plain": [
              "(BigFloat[-0.0], Any[(82, 206)], [[1, 1]])"
            ]
          },
          "metadata": {},
          "output_type": "display_data"
        }
      ],
      "source": [
        "energy, target_list, reaction = min_isotope_production_energy(\n",
        "                                \"proton\", \"207Bi\")"
      ]
    },
    {
      "cell_type": "markdown",
      "metadata": {},
      "source": [
        "TODO: Figure out how the above output happens? Is it the way it's reading in the data? In the function read_float ?"
      ]
    },
    {
      "cell_type": "code",
      "execution_count": 18,
      "metadata": {},
      "outputs": [
        {
          "ename": "UndefVarError",
          "evalue": "UndefVarError: find_optimized_radiative_capture_parameters not defined",
          "output_type": "error",
          "traceback": [
            "UndefVarError: find_optimized_radiative_capture_parameters not defined\n",
            "\n",
            "Stacktrace:\n",
            "  [1] top-level scope\n",
            "    @ c:\\Users\\engin\\Documents\\GitHub\\Energy\\Optimized_Radionuclide_Production.ipynb:6\n",
            "  [2] eval\n",
            "    @ .\\boot.jl:373 [inlined]\n",
            "  [3] include_string(mapexpr::typeof(REPL.softscope), mod::Module, code::String, filename::String)\n",
            "    @ Base .\\loading.jl:1196\n",
            "  [4] #invokelatest#2\n",
            "    @ .\\essentials.jl:716 [inlined]\n",
            "  [5] invokelatest\n",
            "    @ .\\essentials.jl:714 [inlined]\n",
            "  [6] (::VSCodeServer.var\"#164#165\"{VSCodeServer.NotebookRunCellArguments, String})()\n",
            "    @ VSCodeServer c:\\Users\\engin\\.vscode\\extensions\\julialang.language-julia-1.6.24\\scripts\\packages\\VSCodeServer\\src\\serve_notebook.jl:19\n",
            "  [7] withpath(f::VSCodeServer.var\"#164#165\"{VSCodeServer.NotebookRunCellArguments, String}, path::String)\n",
            "    @ VSCodeServer c:\\Users\\engin\\.vscode\\extensions\\julialang.language-julia-1.6.24\\scripts\\packages\\VSCodeServer\\src\\repl.jl:184\n",
            "  [8] notebook_runcell_request(conn::VSCodeServer.JSONRPC.JSONRPCEndpoint{Base.PipeEndpoint, Base.PipeEndpoint}, params::VSCodeServer.NotebookRunCellArguments)\n",
            "    @ VSCodeServer c:\\Users\\engin\\.vscode\\extensions\\julialang.language-julia-1.6.24\\scripts\\packages\\VSCodeServer\\src\\serve_notebook.jl:13\n",
            "  [9] dispatch_msg(x::VSCodeServer.JSONRPC.JSONRPCEndpoint{Base.PipeEndpoint, Base.PipeEndpoint}, dispatcher::VSCodeServer.JSONRPC.MsgDispatcher, msg::Dict{String, Any})\n",
            "    @ VSCodeServer.JSONRPC c:\\Users\\engin\\.vscode\\extensions\\julialang.language-julia-1.6.24\\scripts\\packages\\JSONRPC\\src\\typed.jl:67\n",
            " [10] serve_notebook(pipename::String, outputchannel_logger::Base.CoreLogging.SimpleLogger; crashreporting_pipename::String)\n",
            "    @ VSCodeServer c:\\Users\\engin\\.vscode\\extensions\\julialang.language-julia-1.6.24\\scripts\\packages\\VSCodeServer\\src\\serve_notebook.jl:136\n",
            " [11] top-level scope\n",
            "    @ c:\\Users\\engin\\.vscode\\extensions\\julialang.language-julia-1.6.24\\scripts\\notebook\\notebook.jl:32\n",
            " [12] include(mod::Module, _path::String)\n",
            "    @ Base .\\Base.jl:418\n",
            " [13] exec_options(opts::Base.JLOptions)\n",
            "    @ Base .\\client.jl:292\n",
            " [14] _start()\n",
            "    @ Base .\\client.jl:495"
          ]
        }
      ],
      "source": [
        "neutron_dir = data_dir  * String(\"jendl5-n\\\\\")\n",
        "neutron_files = readdir(neutron_dir)\n",
        "neutron_file_paths = neutron_dir .* neutron_files\n",
        "neutron_output = Dict()\n",
        "for index in 1:length(neutron_files)\n",
        "    optimized_parameters = find_optimized_radiative_capture_parameters(\n",
        "                            neutron_file_paths[index])\n",
        "    if (typeof(optimized_parameters) !== String)\n",
        "        target = neutron_files[index][7:end-4]\n",
        "        neutron_output[target] = optimized_parameters\n",
        "        #optimized_energy, optimized_cross_section\n",
        "    else\n",
        "        println(\"No radiative capture data for \", neutron_files[index][7:end-4])\n",
        "    end\n",
        "end\n",
        "#now to make a dataframe from the dictionary\n",
        "neutron_df = DataFrame()#\"Energy (ev)\" = energy, \"Cross Section (b)\" = cross_sections, \"Target\" = targets)\n",
        "targets = keys(neutron_output)\n",
        "neutron_df.\"Energy (ev)\" = [neutron_output[key][1] for key in targets]\n",
        "neutron_df.\"Cross Section (b)\" = [neutron_output[key][2] for key in targets]\n",
        "neutron_df.\"Target\" = [string(target) for target in targets]\n",
        "neutron_df\n"
      ]
    },
    {
      "cell_type": "markdown",
      "metadata": {},
      "source": [
        "Now I will find the minimum energy of gamma rays and neutrons needed to produce different isotopes. "
      ]
    },
    {
      "cell_type": "code",
      "execution_count": 19,
      "metadata": {},
      "outputs": [
        {
          "name": "stdout",
          "output_type": "stream",
          "text": [
            "n_026-Fe-061.dat not in directory"
          ]
        }
      ],
      "source": [
        "file_names = readdir(neutron_dir)\n",
        "file = file_names[1]\n",
        "function get_product(file)\n",
        "    target_n = parse(Int64, file[3:5])\n",
        "    element, target_z = split(file[7:end-4], \"-\")\n",
        "    projectile = file[1]\n",
        "    if(string(projectile) == \"n\") #neutron addition\n",
        "        product_n = target_n\n",
        "        product_z = parse(Int64, target_z)+1\n",
        "        product_file = (String(\"n_\") * lpad(product_n, 3, \"0\") * String(\"-\") * \n",
        "                        String(element) * String(\"-\") * lpad(product_z, 3, \"0\") * String(\".dat\"))\n",
        "    end\n",
        "    return product_file\n",
        "end\n",
        "file = file_names[100]\n",
        "while true\n",
        "    file = get_product(file)\n",
        "    if !(file in file_names)\n",
        "        print(file, \" not in directory\")\n",
        "        break \n",
        "    end\n",
        "end"
      ]
    },
    {
      "cell_type": "code",
      "execution_count": 20,
      "metadata": {},
      "outputs": [
        {
          "name": "stdout",
          "output_type": "stream",
          "text": [
            "For output = (Z*n*ρ*σ) / E       (unitless)"
          ]
        },
        {
          "data": {
            "text/plain": [
              "\u001b[32m\u001b[1mTest Passed\u001b[22m\u001b[39m\n",
              "  Expression: reaction_figure_of_merit(ρ * u\"J/g\", Z * u\"g\", n * u\"cm\" ^ -2, σ * u\"cm\" ^ 2, E * u\"J\") - output == 0\n",
              "   Evaluated: 0 == 0"
            ]
          },
          "metadata": {},
          "output_type": "display_data"
        }
      ],
      "source": [
        "function reaction_figure_of_merit(energy_density, mass_number, target_nuclei_per_area, sigma, \n",
        "incident_particle_energy)\n",
        "    #For the product, we take the mass number to be equal to the molar mass\n",
        "    figure_of_merit = (energy_density * mass_number * \n",
        "        target_nuclei_per_area * sigma) / incident_particle_energy\n",
        "    return uconvert(Unitful.NoUnits, figure_of_merit) \n",
        "end\n",
        "\n",
        "ρ, Z, n, σ, E = @variables ρ, Z, n, σ, E\n",
        "output = ρ * Z * n * σ / E\n",
        "print(\"For output = \", output, \"       (unitless)\")\n",
        "Test.@test reaction_figure_of_merit(ρ * @u_str(\"J/g\"), Z * @u_str(\"g\"), \n",
        "    n * (@u_str(\"cm\")^-2), σ * @u_str(\"cm\")^2, E * @u_str(\"J\")) - output == 0"
      ]
    }
  ],
  "metadata": {
    "colab": {
      "name": "Optimized Radionuclide Production.ipynb",
      "provenance": []
    },
    "kernelspec": {
      "display_name": "Julia 1.7.2",
      "language": "julia",
      "name": "julia-1.7"
    },
    "language_info": {
      "file_extension": ".jl",
      "mimetype": "application/julia",
      "name": "julia",
      "version": "1.7.2"
    },
    "vscode": {
      "interpreter": {
        "hash": "b5623c593edf3a9c30fecf3e392f1a3c31f722d7f93243239e2241963cc60577"
      }
    }
  },
  "nbformat": 4,
  "nbformat_minor": 0
}
