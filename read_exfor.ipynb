{
 "cells": [
  {
   "cell_type": "code",
   "execution_count": 1,
   "metadata": {},
   "outputs": [
    {
     "data": {
      "text/plain": [
       "\"C:\\\\Cross-Section-Data\\\\EXFOR\\\\\""
      ]
     },
     "metadata": {},
     "output_type": "display_data"
    }
   ],
   "source": [
    "using Unitful #https://painterqubits.github.io/Unitful.jl/stable/\n",
    "#quantity * @u_str(\"unit abbreviation\") \n",
    "using Symbolics #https://symbolics.juliasymbolics.org/dev/\n",
    "#cite https://doi.org/10.48550/arXiv.2105.03949\n",
    "using Latexify\n",
    "using Test\n",
    "#1 * @u_str(\"mA\") is 1 milliamp\n",
    "using CSV, DataFrames\n",
    "#using Plots\n",
    "using PlotlyJS\n",
    "using Printf\n",
    "using SymPy\n",
    "using PDFIO\n",
    "using Unzip\n",
    "using Interpolations\n",
    "using Plots\n",
    "using TensorCast\n",
    "using CatViews\n",
    "using MappedArrays\n",
    "#plotlyjs()\n",
    "data_dir = \"C:\\\\Cross-Section-Data\\\\EXFOR\\\\\""
   ]
  },
  {
   "cell_type": "markdown",
   "metadata": {},
   "source": [
    "#Design\n",
    "\n",
    "    Looping check_line() through each line in the file detects where each dataset begins. \n",
    "\n",
    "    Reading the line above each output of check_line() gives the number of rows in each dataset.\n",
    "\n",
    "    make_spacing_dict() gets the names of the columns and the instructions for how to read each dataset.\n",
    "\n",
    "    read_dataset() reads each and constructs a dictionary from each dataset.\n",
    "    \n",
    "    read_exfor_file() runs all of the above in order to return a single DataFrame of all the data stored at a given file path.\n",
    "     "
   ]
  },
  {
   "cell_type": "code",
   "execution_count": 2,
   "metadata": {},
   "outputs": [
    {
     "data": {
      "text/plain": [
       "read_datum (generic function with 1 method)"
      ]
     },
     "metadata": {},
     "output_type": "display_data"
    }
   ],
   "source": [
    "function check_line(line, start)\n",
    "    if length(line) > length(start) - 1\n",
    "        return (line[1:length(start)] == start)\n",
    "    end\n",
    "    return false\n",
    "end\n",
    "\n",
    "function make_spacing_dict(line1, line2)\n",
    "    spacing_ends = [collect(out)[1] for out in findall(\">\", line2)]\n",
    "    spacing_starts = append!([1], [collect(out)[1] for out in findall(\"<\", line2)])\n",
    "    #Find where some of the spacings begin and end based on the arrows\n",
    "    if length(spacing_ends) != length(spacing_starts)\n",
    "        print(\"Error: improper formatting\")\n",
    "        return \n",
    "    end\n",
    "    indices_with_gaps = [index for index in  1:length(spacing_ends)-1 if \n",
    "                    spacing_ends[index] != spacing_starts[index+1]-1]\n",
    "    #Some of the spacings are instead denoted by the letter o instead of arrows\n",
    "    missing_spacings = [spacing_ends[index]+1:spacing_starts[index+1]-1 for index in indices_with_gaps]\n",
    "    spacings = append!(missing_spacings, \n",
    "    [spacing_starts[i]:spacing_ends[i] for i in 1:length(spacing_ends)])\n",
    "    spacing_dict = Dict([])\n",
    "    #Make a dictionary where the keys are name for each column and the values are the indices of the columns\n",
    "    spacing_names = [spacing_dict[strip(line1[spacing], [' ', '#'])] = spacing for spacing in spacings]\n",
    "    return spacing_dict\n",
    "end\n",
    "\n",
    "function read_datum(datum)\n",
    "    #Reads a single datum from a line of data\n",
    "    datum = strip(datum, [' '])\n",
    "    out = tryparse(Float64, datum)\n",
    "    if out == nothing\n",
    "        return datum \n",
    "    end\n",
    "    return out\n",
    "end"
   ]
  },
  {
   "cell_type": "code",
   "execution_count": 3,
   "metadata": {},
   "outputs": [
    {
     "data": {
      "text/plain": [
       "check_spacings (generic function with 1 method)"
      ]
     },
     "metadata": {},
     "output_type": "display_data"
    }
   ],
   "source": [
    "function check_spacings(file_path)\n",
    "    #Reads an EXFOR file and returns a dictionary of data\n",
    "    file_as_vector = readlines(file_path)\n",
    "    spacing_specifiers = [index for index in 1:length(file_as_vector) \n",
    "                        if check_line(file_as_vector[index], \"# Prj\")]\n",
    "    if spacing_specifiers == []\n",
    "        print(\"Error: no data found\")\n",
    "        return\n",
    "    end\n",
    "    list_spacing_dict = [make_spacing_dict(file_as_vector[spacing_specifier], \n",
    "                                            file_as_vector[spacing_specifier+1])\n",
    "                        for spacing_specifier in spacing_specifiers]\n",
    "    #check if the spacing dicts are the same\n",
    "    for index in 2:length(spacing_specifiers)\n",
    "        if list_spacing_dict[index] != list_spacing_dict[1]\n",
    "            return false\n",
    "        end\n",
    "    end\n",
    "    return true\n",
    "end"
   ]
  },
  {
   "cell_type": "code",
   "execution_count": 4,
   "metadata": {},
   "outputs": [
    {
     "name": "stdout",
     "output_type": "stream",
     "text": [
      "It is true that the spacings in each file are all self consistent for the subdirectory alphas\\\n",
      "It is true that the spacings in each file are all self consistent for the subdirectory deuterons\\\n",
      "It is true that the spacings in each file are all self consistent for the subdirectory gammas\\\n",
      "It is true that the spacings in each file are all self consistent for the subdirectory helions\\\n",
      "It is true that the spacings in each file are all self consistent for the subdirectory neutrons\\\n",
      "It is true that the spacings in each file are all self consistent for the subdirectory other\\\n",
      "It is true that the spacings in each file are all self consistent for the subdirectory protons\\\n"
     ]
    }
   ],
   "source": [
    "subdirs = [content * \"\\\\\" for content in readdir(data_dir) if isdir(data_dir * \"\\\\\" * content)]\n",
    "for subdir in subdirs\n",
    "    files = readdir(data_dir * subdir)\n",
    "    test = [check_spacings(data_dir * subdir * file) for file in files]\n",
    "    println(\"It is \", all(test),\n",
    "     \" that the spacings in each file are all self consistent for the subdirectory \", subdir)\n",
    "end"
   ]
  },
  {
   "cell_type": "markdown",
   "metadata": {},
   "source": [
    "So I only need to retrieve the spacings of the data once for each file. "
   ]
  },
  {
   "cell_type": "code",
   "execution_count": 5,
   "metadata": {},
   "outputs": [
    {
     "data": {
      "text/plain": [
       "read_exfor_file (generic function with 1 method)"
      ]
     },
     "metadata": {},
     "output_type": "display_data"
    }
   ],
   "source": [
    "function read_exfor_file(file_path)\n",
    "    #Reads an EXFOR file and returns a dictionary of data\n",
    "    file_as_vector = readlines(file_path)\n",
    "    spacing_specifiers = [index for index in 1:length(file_as_vector) \n",
    "                        if check_line(file_as_vector[index], \"# Prj\")]\n",
    "    if spacing_specifiers == []\n",
    "        print(\"Error: no data found\")\n",
    "        return\n",
    "    end\n",
    "    dataset_rows = [tryparse(Int64, split(file_as_vector[index - 1], [' '])[end])\n",
    "                            for index in spacing_specifiers]\n",
    "    #Each dataset should have the same column names\n",
    "    spacing_dict = make_spacing_dict(file_as_vector[spacing_specifiers[1]], \n",
    "                    file_as_vector[spacing_specifiers[1] + 1])\n",
    "    #make an empty dataframe to fill up with the data\n",
    "    df = DataFrame([Vector{Union{Missing, Float64, String, SubString{String}}}(missing, sum(dataset_rows)) \n",
    "                   for _ in 1:length(keys(spacing_dict))], [key for key in keys(spacing_dict)])\n",
    "    #make a nested vector, then flatten it to populate the dataframe.\n",
    "    _ = [df[:,key] = collect(Iterators.flatten([[read_datum(file_as_vector[line_num][spacing_dict[key]]) \n",
    "                    for line_num in spacing_specifiers[index] + 2: \n",
    "                                    spacing_specifiers[index] + 1 + dataset_rows[index]]\n",
    "                                    for index in 1:length(spacing_specifiers)]))\n",
    "                    for key in keys(spacing_dict)]           \n",
    "    return df\n",
    "end"
   ]
  },
  {
   "cell_type": "markdown",
   "metadata": {},
   "source": [
    "Retrieving all of data at the correct spacings (without reorganizing it) takes 4 seconds for a large file. "
   ]
  },
  {
   "cell_type": "code",
   "execution_count": 6,
   "metadata": {},
   "outputs": [
    {
     "data": {
      "text/html": [
       "<div class=\"data-frame\"><p>236,005 rows × 18 columns (omitted printing of 10 columns)</p><table class=\"data-frame\"><thead><tr><th></th><th>Targ</th><th>Entry</th><th>dCos/LO</th><th>I78</th><th>dEnergy</th><th>dELV/HL</th><th>M</th><th>Refer (YY)</th></tr><tr><th></th><th title=\"Union{Missing, Float64, SubString{String}, String}\">Union…?</th><th title=\"Union{Missing, Float64, SubString{String}, String}\">Union…?</th><th title=\"Union{Missing, Float64, SubString{String}, String}\">Union…?</th><th title=\"Union{Missing, Float64, SubString{String}, String}\">Union…?</th><th title=\"Union{Missing, Float64, SubString{String}, String}\">Union…?</th><th title=\"Union{Missing, Float64, SubString{String}, String}\">Union…?</th><th title=\"Union{Missing, Float64, SubString{String}, String}\">Union…?</th><th title=\"Union{Missing, Float64, SubString{String}, String}\">Union…?</th></tr></thead><tbody><tr><th>1</th><td>92238.0</td><td>V0015</td><td></td><td></td><td></td><td></td><td></td><td>F.Manero,ET.AL. (72)</td></tr><tr><th>2</th><td>92238.0</td><td>V0015</td><td></td><td></td><td></td><td></td><td></td><td>F.Manero,ET.AL. (72)</td></tr><tr><th>3</th><td>92238.0</td><td>V0015</td><td></td><td></td><td></td><td></td><td></td><td>F.Manero,ET.AL. (72)</td></tr><tr><th>4</th><td>92238.0</td><td>V0015</td><td></td><td></td><td></td><td></td><td></td><td>F.Manero,ET.AL. (72)</td></tr><tr><th>5</th><td>92238.0</td><td>V0015</td><td></td><td></td><td></td><td></td><td></td><td>F.Manero,ET.AL. (72)</td></tr><tr><th>6</th><td>92238.0</td><td>V0015</td><td></td><td></td><td></td><td></td><td></td><td>F.Manero,ET.AL. (72)</td></tr><tr><th>7</th><td>92238.0</td><td>V0015</td><td></td><td></td><td></td><td></td><td></td><td>F.Manero,ET.AL. (72)</td></tr><tr><th>8</th><td>92238.0</td><td>V0015</td><td></td><td></td><td></td><td></td><td></td><td>F.Manero,ET.AL. (72)</td></tr><tr><th>9</th><td>92238.0</td><td>V0015</td><td></td><td></td><td></td><td></td><td></td><td>F.Manero,ET.AL. (72)</td></tr><tr><th>10</th><td>92238.0</td><td>V0015</td><td></td><td></td><td></td><td></td><td></td><td>F.Manero,ET.AL. (72)</td></tr><tr><th>11</th><td>92238.0</td><td>V0015</td><td></td><td></td><td></td><td></td><td></td><td>F.Manero,ET.AL. (72)</td></tr><tr><th>12</th><td>92238.0</td><td>V0015</td><td></td><td></td><td></td><td></td><td></td><td>F.Manero,ET.AL. (72)</td></tr><tr><th>13</th><td>92238.0</td><td>V0015</td><td></td><td></td><td></td><td></td><td></td><td>F.Manero,ET.AL. (72)</td></tr><tr><th>14</th><td>92238.0</td><td>V0015</td><td></td><td></td><td></td><td></td><td></td><td>F.Manero,ET.AL. (72)</td></tr><tr><th>15</th><td>92238.0</td><td>V0015</td><td></td><td></td><td></td><td></td><td></td><td>F.Manero,ET.AL. (72)</td></tr><tr><th>16</th><td>92238.0</td><td>V0015</td><td></td><td></td><td></td><td></td><td></td><td>F.Manero,ET.AL. (72)</td></tr><tr><th>17</th><td>92238.0</td><td>V0015</td><td></td><td></td><td></td><td></td><td></td><td>F.Manero,ET.AL. (72)</td></tr><tr><th>18</th><td>92238.0</td><td>V0015</td><td></td><td></td><td></td><td></td><td></td><td>F.Manero,ET.AL. (72)</td></tr><tr><th>19</th><td>92238.0</td><td>V0015</td><td></td><td></td><td></td><td></td><td></td><td>F.Manero,ET.AL. (72)</td></tr><tr><th>20</th><td>92238.0</td><td>V0015</td><td></td><td></td><td></td><td></td><td></td><td>F.Manero,ET.AL. (72)</td></tr><tr><th>21</th><td>92238.0</td><td>V0015</td><td></td><td></td><td></td><td></td><td></td><td>F.Manero,ET.AL. (72)</td></tr><tr><th>22</th><td>92238.0</td><td>V0015</td><td></td><td></td><td></td><td></td><td></td><td>F.Manero,ET.AL. (72)</td></tr><tr><th>23</th><td>92238.0</td><td>V0015</td><td></td><td></td><td></td><td></td><td></td><td>F.Manero,ET.AL. (72)</td></tr><tr><th>24</th><td>92238.0</td><td>V0015</td><td></td><td></td><td></td><td></td><td></td><td>F.Manero,ET.AL. (72)</td></tr><tr><th>&vellip;</th><td>&vellip;</td><td>&vellip;</td><td>&vellip;</td><td>&vellip;</td><td>&vellip;</td><td>&vellip;</td><td>&vellip;</td><td>&vellip;</td></tr></tbody></table></div>"
      ],
      "text/latex": [
       "\\begin{tabular}{r|ccccccccc}\n",
       "\t& Targ & Entry & dCos/LO & I78 & dEnergy & dELV/HL & M & Refer (YY) & \\\\\n",
       "\t\\hline\n",
       "\t& Union…? & Union…? & Union…? & Union…? & Union…? & Union…? & Union…? & Union…? & \\\\\n",
       "\t\\hline\n",
       "\t1 & 92238.0 & V0015 &  &  &  &  &  & F.Manero,ET.AL. (72) & $\\dots$ \\\\\n",
       "\t2 & 92238.0 & V0015 &  &  &  &  &  & F.Manero,ET.AL. (72) & $\\dots$ \\\\\n",
       "\t3 & 92238.0 & V0015 &  &  &  &  &  & F.Manero,ET.AL. (72) & $\\dots$ \\\\\n",
       "\t4 & 92238.0 & V0015 &  &  &  &  &  & F.Manero,ET.AL. (72) & $\\dots$ \\\\\n",
       "\t5 & 92238.0 & V0015 &  &  &  &  &  & F.Manero,ET.AL. (72) & $\\dots$ \\\\\n",
       "\t6 & 92238.0 & V0015 &  &  &  &  &  & F.Manero,ET.AL. (72) & $\\dots$ \\\\\n",
       "\t7 & 92238.0 & V0015 &  &  &  &  &  & F.Manero,ET.AL. (72) & $\\dots$ \\\\\n",
       "\t8 & 92238.0 & V0015 &  &  &  &  &  & F.Manero,ET.AL. (72) & $\\dots$ \\\\\n",
       "\t9 & 92238.0 & V0015 &  &  &  &  &  & F.Manero,ET.AL. (72) & $\\dots$ \\\\\n",
       "\t10 & 92238.0 & V0015 &  &  &  &  &  & F.Manero,ET.AL. (72) & $\\dots$ \\\\\n",
       "\t11 & 92238.0 & V0015 &  &  &  &  &  & F.Manero,ET.AL. (72) & $\\dots$ \\\\\n",
       "\t12 & 92238.0 & V0015 &  &  &  &  &  & F.Manero,ET.AL. (72) & $\\dots$ \\\\\n",
       "\t13 & 92238.0 & V0015 &  &  &  &  &  & F.Manero,ET.AL. (72) & $\\dots$ \\\\\n",
       "\t14 & 92238.0 & V0015 &  &  &  &  &  & F.Manero,ET.AL. (72) & $\\dots$ \\\\\n",
       "\t15 & 92238.0 & V0015 &  &  &  &  &  & F.Manero,ET.AL. (72) & $\\dots$ \\\\\n",
       "\t16 & 92238.0 & V0015 &  &  &  &  &  & F.Manero,ET.AL. (72) & $\\dots$ \\\\\n",
       "\t17 & 92238.0 & V0015 &  &  &  &  &  & F.Manero,ET.AL. (72) & $\\dots$ \\\\\n",
       "\t18 & 92238.0 & V0015 &  &  &  &  &  & F.Manero,ET.AL. (72) & $\\dots$ \\\\\n",
       "\t19 & 92238.0 & V0015 &  &  &  &  &  & F.Manero,ET.AL. (72) & $\\dots$ \\\\\n",
       "\t20 & 92238.0 & V0015 &  &  &  &  &  & F.Manero,ET.AL. (72) & $\\dots$ \\\\\n",
       "\t21 & 92238.0 & V0015 &  &  &  &  &  & F.Manero,ET.AL. (72) & $\\dots$ \\\\\n",
       "\t22 & 92238.0 & V0015 &  &  &  &  &  & F.Manero,ET.AL. (72) & $\\dots$ \\\\\n",
       "\t23 & 92238.0 & V0015 &  &  &  &  &  & F.Manero,ET.AL. (72) & $\\dots$ \\\\\n",
       "\t24 & 92238.0 & V0015 &  &  &  &  &  & F.Manero,ET.AL. (72) & $\\dots$ \\\\\n",
       "\t$\\dots$ & $\\dots$ & $\\dots$ & $\\dots$ & $\\dots$ & $\\dots$ & $\\dots$ & $\\dots$ & $\\dots$ &  \\\\\n",
       "\\end{tabular}\n"
      ],
      "text/plain": [
       "\u001b[1m236005×18 DataFrame\u001b[0m\n",
       "\u001b[1m    Row \u001b[0m│\u001b[1m Targ    \u001b[0m\u001b[1m Entry   \u001b[0m\u001b[1m dCos/LO \u001b[0m\u001b[1m I78     \u001b[0m\u001b[1m dEnergy \u001b[0m\u001b[1m dELV/HL \u001b[0m\u001b[1m M       \u001b[0m\u001b[1m Refer\u001b[0m ⋯\n",
       "\u001b[1m        \u001b[0m│\u001b[90m Union…? \u001b[0m\u001b[90m Union…? \u001b[0m\u001b[90m Union…? \u001b[0m\u001b[90m Union…? \u001b[0m\u001b[90m Union…? \u001b[0m\u001b[90m Union…? \u001b[0m\u001b[90m Union…? \u001b[0m\u001b[90m Union\u001b[0m ⋯\n",
       "────────┼───────────────────────────────────────────────────────────────────────\n",
       "      1 │ 92238.0  V0015                                                 F.Man ⋯\n",
       "      2 │ 92238.0  V0015                                                 F.Man\n",
       "      3 │ 92238.0  V0015                                                 F.Man\n",
       "      4 │ 92238.0  V0015                                                 F.Man\n",
       "      5 │ 92238.0  V0015                                                 F.Man ⋯\n",
       "      6 │ 92238.0  V0015                                                 F.Man\n",
       "      7 │ 92238.0  V0015                                                 F.Man\n",
       "      8 │ 92238.0  V0015                                                 F.Man\n",
       "   ⋮    │    ⋮        ⋮        ⋮        ⋮        ⋮        ⋮        ⋮           ⋱\n",
       " 235999 │ 92238.0  22402.0           E2                                  F.Viv ⋯\n",
       " 236000 │ 92238.0  22402.0           E2                                  F.Viv\n",
       " 236001 │ 92238.0  22402.0           E2                                  F.Viv\n",
       " 236002 │ 92238.0  22402.0           E2                                  F.Viv\n",
       " 236003 │ 92238.0  22402.0           E2                                  F.Viv ⋯\n",
       " 236004 │ 92238.0  22402.0           E2                                  F.Viv\n",
       " 236005 │ 92238.0  22402.0           E2                                  F.Viv\n",
       "\u001b[36m                                              11 columns and 235990 rows omitted\u001b[0m"
      ]
     },
     "metadata": {},
     "output_type": "display_data"
    }
   ],
   "source": [
    "file_path = data_dir * \"neutrons\\\\092_U_238.c4\"\n",
    "a = read_exfor_file(file_path)"
   ]
  },
  {
   "cell_type": "code",
   "execution_count": null,
   "metadata": {},
   "outputs": [],
   "source": []
  }
 ],
 "metadata": {
  "kernelspec": {
   "display_name": "Julia 1.7.2",
   "language": "julia",
   "name": "julia-1.7"
  },
  "language_info": {
   "file_extension": ".jl",
   "mimetype": "application/julia",
   "name": "julia",
   "version": "1.7.2"
  },
  "orig_nbformat": 4,
  "vscode": {
   "interpreter": {
    "hash": "274785dbb282d05f4e0ae2ca70ac66f1fa0484127cd60ef9f4ac2dd997977034"
   }
  }
 },
 "nbformat": 4,
 "nbformat_minor": 2
}
