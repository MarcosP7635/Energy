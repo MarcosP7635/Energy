{
 "cells": [
  {
   "cell_type": "code",
   "execution_count": 1,
   "metadata": {},
   "outputs": [
    {
     "data": {
      "text/plain": [
       "\"C:\\\\Cross-Section-Data\\\\EXFOR\\\\\""
      ]
     },
     "metadata": {},
     "output_type": "display_data"
    }
   ],
   "source": [
    "using Unitful #https://painterqubits.github.io/Unitful.jl/stable/\n",
    "#quantity * @u_str(\"unit abbreviation\") \n",
    "using Symbolics #https://symbolics.juliasymbolics.org/dev/\n",
    "#cite https://doi.org/10.48550/arXiv.2105.03949\n",
    "using Latexify\n",
    "using Test\n",
    "#1 * @u_str(\"mA\") is 1 milliamp\n",
    "using CSV, DataFrames\n",
    "#using Plots\n",
    "using PlotlyJS\n",
    "using Printf\n",
    "using SymPy\n",
    "using PDFIO\n",
    "using Unzip\n",
    "using Interpolations\n",
    "using Plots\n",
    "using TensorCast\n",
    "#plotlyjs()\n",
    "data_dir = \"C:\\\\Cross-Section-Data\\\\EXFOR\\\\\""
   ]
  },
  {
   "cell_type": "markdown",
   "metadata": {},
   "source": [
    "Is it faster use a matrix or run more loops? Probably just to run more loops. "
   ]
  },
  {
   "cell_type": "code",
   "execution_count": 17,
   "metadata": {},
   "outputs": [
    {
     "data": {
      "text/plain": [
       "Dict{Any, Any} with 18 entries:\n",
       "  \"Targ\"       => [92238.0, 92238.0, 92238.0, 92238.0, 92238.0, 92238.0, 92238.…\n",
       "  \"Entry\"      => SubString{String}[\"V0015\", \"V0015\", \"V0015\", \"V0015\", \"V0015\"…\n",
       "  \"dCos/LO\"    => SubString{String}[\"\", \"\", \"\", \"\", \"\", \"\", \"\", \"\", \"\", \"\"  …  …\n",
       "  \"I78\"        => SubString{String}[\"\", \"\", \"\", \"\", \"\", \"\", \"\", \"\", \"\", \"\"  …  …\n",
       "  \"dEnergy\"    => SubString{String}[\"\", \"\", \"\", \"\", \"\", \"\", \"\", \"\", \"\", \"\"  …  …\n",
       "  \"dELV/HL\"    => SubString{String}[\"\", \"\", \"\", \"\", \"\", \"\", \"\", \"\", \"\", \"\"  …  …\n",
       "  \"M\"          => SubString{String}[\"\", \"\", \"\", \"\", \"\", \"\", \"\", \"\", \"\", \"\"  …  …\n",
       "  \"Refer (YY)\" => SubString{String}[\"F.Manero,ET.AL. (72)\", \"F.Manero,ET.AL. (7…\n",
       "  \"Prj\"        => [1.0, 1.0, 1.0, 1.0, 1.0, 1.0, 1.0, 1.0, 1.0, 1.0  …  1.0, 1.…\n",
       "  \"Energy\"     => Any[1.25e6, 1.275e6, 1.3e6, 1.325e6, 1.35e6, 1.375e6, 1.4e6, …\n",
       "  \"Cos/LO\"     => SubString{String}[\"\", \"\", \"\", \"\", \"\", \"\", \"\", \"\", \"\", \"\"  …  …\n",
       "  \"ELV/HL\"     => SubString{String}[\"\", \"\", \"\", \"\", \"\", \"\", \"\", \"\", \"\", \"\"  …  …\n",
       "  \"MF\"         => [1.0, 1.0, 1.0, 1.0, 1.0, 1.0, 1.0, 1.0, 1.0, 1.0  …  1.0, 1.…\n",
       "  \"dData\"      => SubString{String}[\"\", \"\", \"\", \"\", \"\", \"\", \"\", \"\", \"\", \"\"  …  …\n",
       "  \"Data\"       => [2.5863, 2.587, 2.5878, 2.5886, 2.5896, 2.5906, 2.5917, 2.592…\n",
       "  \"Sub\"        => [16.0, 16.0, 16.0, 16.0, 16.0, 16.0, 16.0, 16.0, 16.0, 16.0  …\n",
       "  \"PXC\"        => SubString{String}[\"\", \"\", \"\", \"\", \"\", \"\", \"\", \"\", \"\", \"\"  …  …\n",
       "  \"MT\"         => [452.0, 452.0, 452.0, 452.0, 452.0, 452.0, 452.0, 452.0, 452.…"
      ]
     },
     "metadata": {},
     "output_type": "display_data"
    }
   ],
   "source": [
    "file_path = data_dir * \"neutrons\\\\092_U_238.c4\"\n",
    "file_as_vector = readlines(file_path)\n",
    "max_line_length = maximum(length.(file_as_vector))\n",
    "l = length(file_as_vector)\n",
    "spacing_specifiers = [index for index in 1:length(file_as_vector) \n",
    "if check_line(file_as_vector[index], \"# Prj\")]\n",
    "index = spacing_specifiers[1]\n",
    "spacing_dict = make_spacing_dict(file_as_vector[index], file_as_vector[index + 1])\n",
    "spacing_keys = [key for key in keys(spacing_dict)]\n",
    "lines_of_data = tryparse(Int64, split(file_as_vector[index - 1], [' '])[end])\n",
    "data_dict = Dict([])\n",
    "filler = [data_dict[key] = [read_datum(file_as_vector[line_num][spacing_dict[key]])\n",
    "            for line_num in index + 2: index + 1 + lines_of_data] for key in spacing_keys]   \n",
    "data_dict"
   ]
  },
  {
   "cell_type": "code",
   "execution_count": 14,
   "metadata": {},
   "outputs": [
    {
     "data": {
      "text/html": [
       "<div class=\"data-frame\"><p>66 rows × 18 columns (omitted printing of 10 columns)</p><table class=\"data-frame\"><thead><tr><th></th><th>Cos/LO</th><th>Data</th><th>ELV/HL</th><th>Energy</th><th>Entry</th><th>I78</th><th>M</th><th>MF</th></tr><tr><th></th><th title=\"SubString{String}\">SubStrin…</th><th title=\"Float64\">Float64</th><th title=\"SubString{String}\">SubStrin…</th><th title=\"Any\">Any</th><th title=\"SubString{String}\">SubStrin…</th><th title=\"SubString{String}\">SubStrin…</th><th title=\"SubString{String}\">SubStrin…</th><th title=\"Float64\">Float64</th></tr></thead><tbody><tr><th>1</th><td></td><td>2.5863</td><td></td><td>1.25e6</td><td>V0015</td><td></td><td></td><td>1.0</td></tr><tr><th>2</th><td></td><td>2.587</td><td></td><td>1.275e6</td><td>V0015</td><td></td><td></td><td>1.0</td></tr><tr><th>3</th><td></td><td>2.5878</td><td></td><td>1.3e6</td><td>V0015</td><td></td><td></td><td>1.0</td></tr><tr><th>4</th><td></td><td>2.5886</td><td></td><td>1.325e6</td><td>V0015</td><td></td><td></td><td>1.0</td></tr><tr><th>5</th><td></td><td>2.5896</td><td></td><td>1.35e6</td><td>V0015</td><td></td><td></td><td>1.0</td></tr><tr><th>6</th><td></td><td>2.5906</td><td></td><td>1.375e6</td><td>V0015</td><td></td><td></td><td>1.0</td></tr><tr><th>7</th><td></td><td>2.5917</td><td></td><td>1.4e6</td><td>V0015</td><td></td><td></td><td>1.0</td></tr><tr><th>8</th><td></td><td>2.5929</td><td></td><td>1.425e6</td><td>V0015</td><td></td><td></td><td>1.0</td></tr><tr><th>9</th><td></td><td>2.5941</td><td></td><td>1.45e6</td><td>V0015</td><td></td><td></td><td>1.0</td></tr><tr><th>10</th><td></td><td>2.5955</td><td></td><td>1.475e6</td><td>V0015</td><td></td><td></td><td>1.0</td></tr><tr><th>11</th><td></td><td>2.5969</td><td></td><td>1.5e6</td><td>V0015</td><td></td><td></td><td>1.0</td></tr><tr><th>12</th><td></td><td>2.5999</td><td></td><td>1.55e6</td><td>V0015</td><td></td><td></td><td>1.0</td></tr><tr><th>13</th><td></td><td>2.6032</td><td></td><td>1.6e6</td><td>V0015</td><td></td><td></td><td>1.0</td></tr><tr><th>14</th><td></td><td>2.6067</td><td></td><td>1.65e6</td><td>V0015</td><td></td><td></td><td>1.0</td></tr><tr><th>15</th><td></td><td>2.6105</td><td></td><td>1.7e6</td><td>V0015</td><td></td><td></td><td>1.0</td></tr><tr><th>16</th><td></td><td>2.6146</td><td></td><td>1.75e6</td><td>V0015</td><td></td><td></td><td>1.0</td></tr><tr><th>17</th><td></td><td>2.6189</td><td></td><td>1.8e6</td><td>V0015</td><td></td><td></td><td>1.0</td></tr><tr><th>18</th><td></td><td>2.6233</td><td></td><td>1.85e6</td><td>V0015</td><td></td><td></td><td>1.0</td></tr><tr><th>19</th><td></td><td>2.6282</td><td></td><td>1.9e6</td><td>V0015</td><td></td><td></td><td>1.0</td></tr><tr><th>20</th><td></td><td>2.6332</td><td></td><td>1.95e6</td><td>V0015</td><td></td><td></td><td>1.0</td></tr><tr><th>21</th><td></td><td>2.6384</td><td></td><td>2.0e6</td><td>V0015</td><td></td><td></td><td>1.0</td></tr><tr><th>22</th><td></td><td>2.6494</td><td></td><td>2.1e6</td><td>V0015</td><td></td><td></td><td>1.0</td></tr><tr><th>23</th><td></td><td>2.6612</td><td></td><td>2.2e6</td><td>V0015</td><td></td><td></td><td>1.0</td></tr><tr><th>24</th><td></td><td>2.6736</td><td></td><td>2.3e6</td><td>V0015</td><td></td><td></td><td>1.0</td></tr><tr><th>&vellip;</th><td>&vellip;</td><td>&vellip;</td><td>&vellip;</td><td>&vellip;</td><td>&vellip;</td><td>&vellip;</td><td>&vellip;</td><td>&vellip;</td></tr></tbody></table></div>"
      ],
      "text/latex": [
       "\\begin{tabular}{r|ccccccccc}\n",
       "\t& Cos/LO & Data & ELV/HL & Energy & Entry & I78 & M & MF & \\\\\n",
       "\t\\hline\n",
       "\t& SubStrin… & Float64 & SubStrin… & Any & SubStrin… & SubStrin… & SubStrin… & Float64 & \\\\\n",
       "\t\\hline\n",
       "\t1 &  & 2.5863 &  & 1.25e6 & V0015 &  &  & 1.0 & $\\dots$ \\\\\n",
       "\t2 &  & 2.587 &  & 1.275e6 & V0015 &  &  & 1.0 & $\\dots$ \\\\\n",
       "\t3 &  & 2.5878 &  & 1.3e6 & V0015 &  &  & 1.0 & $\\dots$ \\\\\n",
       "\t4 &  & 2.5886 &  & 1.325e6 & V0015 &  &  & 1.0 & $\\dots$ \\\\\n",
       "\t5 &  & 2.5896 &  & 1.35e6 & V0015 &  &  & 1.0 & $\\dots$ \\\\\n",
       "\t6 &  & 2.5906 &  & 1.375e6 & V0015 &  &  & 1.0 & $\\dots$ \\\\\n",
       "\t7 &  & 2.5917 &  & 1.4e6 & V0015 &  &  & 1.0 & $\\dots$ \\\\\n",
       "\t8 &  & 2.5929 &  & 1.425e6 & V0015 &  &  & 1.0 & $\\dots$ \\\\\n",
       "\t9 &  & 2.5941 &  & 1.45e6 & V0015 &  &  & 1.0 & $\\dots$ \\\\\n",
       "\t10 &  & 2.5955 &  & 1.475e6 & V0015 &  &  & 1.0 & $\\dots$ \\\\\n",
       "\t11 &  & 2.5969 &  & 1.5e6 & V0015 &  &  & 1.0 & $\\dots$ \\\\\n",
       "\t12 &  & 2.5999 &  & 1.55e6 & V0015 &  &  & 1.0 & $\\dots$ \\\\\n",
       "\t13 &  & 2.6032 &  & 1.6e6 & V0015 &  &  & 1.0 & $\\dots$ \\\\\n",
       "\t14 &  & 2.6067 &  & 1.65e6 & V0015 &  &  & 1.0 & $\\dots$ \\\\\n",
       "\t15 &  & 2.6105 &  & 1.7e6 & V0015 &  &  & 1.0 & $\\dots$ \\\\\n",
       "\t16 &  & 2.6146 &  & 1.75e6 & V0015 &  &  & 1.0 & $\\dots$ \\\\\n",
       "\t17 &  & 2.6189 &  & 1.8e6 & V0015 &  &  & 1.0 & $\\dots$ \\\\\n",
       "\t18 &  & 2.6233 &  & 1.85e6 & V0015 &  &  & 1.0 & $\\dots$ \\\\\n",
       "\t19 &  & 2.6282 &  & 1.9e6 & V0015 &  &  & 1.0 & $\\dots$ \\\\\n",
       "\t20 &  & 2.6332 &  & 1.95e6 & V0015 &  &  & 1.0 & $\\dots$ \\\\\n",
       "\t21 &  & 2.6384 &  & 2.0e6 & V0015 &  &  & 1.0 & $\\dots$ \\\\\n",
       "\t22 &  & 2.6494 &  & 2.1e6 & V0015 &  &  & 1.0 & $\\dots$ \\\\\n",
       "\t23 &  & 2.6612 &  & 2.2e6 & V0015 &  &  & 1.0 & $\\dots$ \\\\\n",
       "\t24 &  & 2.6736 &  & 2.3e6 & V0015 &  &  & 1.0 & $\\dots$ \\\\\n",
       "\t$\\dots$ & $\\dots$ & $\\dots$ & $\\dots$ & $\\dots$ & $\\dots$ & $\\dots$ & $\\dots$ & $\\dots$ &  \\\\\n",
       "\\end{tabular}\n"
      ],
      "text/plain": [
       "\u001b[1m66×18 DataFrame\u001b[0m\n",
       "\u001b[1m Row \u001b[0m│\u001b[1m Cos/LO    \u001b[0m\u001b[1m Data    \u001b[0m\u001b[1m ELV/HL    \u001b[0m\u001b[1m Energy   \u001b[0m\u001b[1m Entry     \u001b[0m\u001b[1m I78       \u001b[0m\u001b[1m M       \u001b[0m ⋯\n",
       "\u001b[1m     \u001b[0m│\u001b[90m SubStrin… \u001b[0m\u001b[90m Float64 \u001b[0m\u001b[90m SubStrin… \u001b[0m\u001b[90m Any      \u001b[0m\u001b[90m SubStrin… \u001b[0m\u001b[90m SubStrin… \u001b[0m\u001b[90m SubStrin\u001b[0m ⋯\n",
       "─────┼──────────────────────────────────────────────────────────────────────────\n",
       "   1 │             2.5863             1.25e6    V0015                          ⋯\n",
       "   2 │             2.587              1.275e6   V0015\n",
       "   3 │             2.5878             1.3e6     V0015\n",
       "   4 │             2.5886             1.325e6   V0015\n",
       "   5 │             2.5896             1.35e6    V0015                          ⋯\n",
       "   6 │             2.5906             1.375e6   V0015\n",
       "   7 │             2.5917             1.4e6     V0015\n",
       "   8 │             2.5929             1.425e6   V0015\n",
       "  ⋮  │     ⋮         ⋮         ⋮         ⋮          ⋮          ⋮          ⋮    ⋱\n",
       "  60 │             3.7706             9.5e6     V0015                          ⋯\n",
       "  61 │             3.8416             1.0000+7  V0015\n",
       "  62 │             3.9925             1.1000+7  V0015\n",
       "  63 │             4.1542             1.2000+7  V0015\n",
       "  64 │             4.3173             1.3000+7  V0015                          ⋯\n",
       "  65 │             4.4589             1.4000+7  V0015\n",
       "  66 │             4.5398             1.5000+7  V0015\n",
       "\u001b[36m                                                  12 columns and 51 rows omitted\u001b[0m"
      ]
     },
     "metadata": {},
     "output_type": "display_data"
    }
   ],
   "source": [
    "dataset_df = DataFrame(data_dict)"
   ]
  },
  {
   "cell_type": "markdown",
   "metadata": {},
   "source": [
    "#Design\n",
    "\n",
    "    Looping check_line() through each line in the file detects where each dataset begins. \n",
    "\n",
    "    Reading the line above each output of check_line() gives the number of rows in each dataset.\n",
    "\n",
    "    make_spacing_dict() gets the names of the columns and the instructions for how to read each dataset.\n",
    "\n",
    "    read_dataset() reads each and constructs a dataframe from each dataset.\n",
    "    \n",
    "    combine_datasets() creates vertically concatenates each dataset.\n",
    "\n",
    "    read_exfor_file() runs all of the above in order to return a single DataFrame of a given file path.\n",
    "     "
   ]
  },
  {
   "cell_type": "code",
   "execution_count": 7,
   "metadata": {},
   "outputs": [
    {
     "data": {
      "text/plain": [
       "read_dataset (generic function with 2 methods)"
      ]
     },
     "metadata": {},
     "output_type": "display_data"
    }
   ],
   "source": [
    "function check_line(line, start)\n",
    "    if length(line) > length(start) - 1\n",
    "        return (line[1:length(start)] == start)\n",
    "    end\n",
    "    return false\n",
    "end\n",
    "\n",
    "function make_spacing_dict(line1, line2)\n",
    "    spacing_ends = [collect(out)[1] for out in findall(\">\", line2)]\n",
    "    spacing_starts = append!([1], [collect(out)[1] for out in findall(\"<\", line2)])\n",
    "    #Find where some of the spacings begin and end based on the arrows\n",
    "    if length(spacing_ends) != length(spacing_starts)\n",
    "        print(\"Error: improper formatting\")\n",
    "        return \n",
    "    end\n",
    "    indices_with_gaps = [index for index in  1:length(spacing_ends)-1 if \n",
    "                    spacing_ends[index] != spacing_starts[index+1]-1]\n",
    "    #Some of the spacings are instead denoted by the letter o instead of arrows\n",
    "    missing_spacings = [spacing_ends[index]+1:spacing_starts[index+1]-1 for index in indices_with_gaps]\n",
    "    spacings = append!(missing_spacings, \n",
    "    [spacing_starts[i]:spacing_ends[i] for i in 1:length(spacing_ends)])\n",
    "    spacing_dict = Dict([])\n",
    "    #Make a dictionary where the keys are name for each column and the values are the indices of the columns\n",
    "    spacing_names = [spacing_dict[strip(line1[spacing], [' ', '#'])] = spacing for spacing in spacings]\n",
    "    return spacing_dict\n",
    "end\n",
    "\n",
    "function read_datum(datum)\n",
    "    #Reads a single datum from a line of data\n",
    "    datum = strip(datum, [' '])\n",
    "    out = tryparse(Float64, datum)\n",
    "    if out == nothing\n",
    "        return datum \n",
    "    end\n",
    "    return out\n",
    "end\n",
    "\n",
    "function read_dataset(spacing_specifier, file_as_array)\n",
    "    index = spacing_specifier\n",
    "    spacing_dict = make_spacing_dict(file_as_vector[index], file_as_vector[index + 1])\n",
    "    lines_of_data = tryparse(Int64, split(file_as_vector[index - 1], [' '])[end])\n",
    "    data_dict = Dict([])\n",
    "    filler = [data_dict[key] = [read_datum(file_as_vector[line_num][spacing_dict[key]])\n",
    "            for line_num in index + 2: index + 1 + lines_of_data] for key in keys(spacing_dict)]    \n",
    "    return data_dict, lines_of_data\n",
    "end"
   ]
  },
  {
   "cell_type": "code",
   "execution_count": 5,
   "metadata": {},
   "outputs": [
    {
     "data": {
      "text/plain": [
       "3-element Vector{Int64}:\n",
       " 3\n",
       " 2\n",
       " 1"
      ]
     },
     "metadata": {},
     "output_type": "display_data"
    }
   ],
   "source": [
    "a = Dict([\"dog\" => 1, \"cat\" => 2, \"fish\" => 3])\n",
    "a_keys = [key for key in keys(a)]\n",
    "[a[key] for key in a_keys]"
   ]
  },
  {
   "cell_type": "markdown",
   "metadata": {},
   "source": [
    "It it faster to use 1 or loop for $n$ list comprehensions? "
   ]
  },
  {
   "cell_type": "code",
   "execution_count": 16,
   "metadata": {},
   "outputs": [
    {
     "data": {
      "text/plain": [
       "13-element Vector{Int64}:\n",
       "  8\n",
       "  8\n",
       " 57\n",
       " 62\n",
       "  4\n",
       "  5\n",
       "  4\n",
       "  4\n",
       " 18\n",
       " 12\n",
       " 14\n",
       "  8\n",
       " 21"
      ]
     },
     "metadata": {},
     "output_type": "display_data"
    }
   ],
   "source": [
    "data_dir = \"C:\\\\Cross-Section-Data\\\\EXFOR\\\\\"\n",
    "file_path = data_dir * \"gammas\\\\001_H_001.c4\"\n",
    "file_as_array = split(open(f->read(f, String), file_path), \"\\n\")\n",
    "function read_exfor_file(file_path)\n",
    "    #Reads an EXFOR file and returns a dictionary of data\n",
    "    current_row = 1\n",
    "    file_as_vector = readlines(file_path)\n",
    "    max_line_length = maximum(length.(file_as_vector))\n",
    "    l = length(file_as_vector)\n",
    "    file_as_matrix =  Matrix{Char}(undef, l, max_line_length)\n",
    "    file_as_nested_vector = [file_as_matrix[i,:] = [c for c in \n",
    "                            rpad(file_as_vector[i], max_line_length, \" \")] \n",
    "                            for i in 1:length(file_as_vector)]\n",
    "    #Split the file into lines\n",
    "    #Find the line that starts with \"Data\"\n",
    "    #==\n",
    "    for index in 1:length(file_as_array)\n",
    "        if check_line(file_as_array[index], \"# Prj\")\n",
    "            rows_in_dataset = tryparse(Int64, split(file_as_array[index - 1], [' '])[end])\n",
    "            spacing_dict = make_spacing_dict(file_as_array[index], file_as_array[index + 1])\n",
    "            data_dict = Dict([])\n",
    "            filler = [data_dict[key] =  [read_datum(\n",
    "                    file_as_matrix[index + 2 : index + 1 + rows_in_dataset,spacing_dict[key]])\n",
    "                    for key in keys(spacing_dict)]]    \n",
    "        end\n",
    "    end\n",
    "    ==#\n",
    "    spacing_specifiers = [index for index in 1:length(file_as_array) \n",
    "                    if check_line(file_as_nested_vector[index], \"# Prj\")]\n",
    "    if spacing_specifiers == []\n",
    "        print(\"Error: no data found\")\n",
    "        return\n",
    "    end\n",
    "    rows_in_each_dataset = [tryparse(Int64, split(file_as_array[index - 1], [' '])[end])\n",
    "                    for index in spacing_specifiers]\n",
    "    bottom_of_each_dataset = [sum(rows_in_each_dataset[1:index])\n",
    "                    for index in 1:length(rows_in_each_dataset)-1]\n",
    "    #Each dataset should have the same column names\n",
    "    spacing_dict = make_spacing_dict(file_as_array[spacing_specifiers[1]], \n",
    "                    file_as_array[spacing_specifiers[1] + 1])\n",
    "    spacing_dict_keys = [key for key in keys(spacing_dict)]\n",
    "    #make an empty dataframe to fill up with the data\n",
    "    df = DataFrame([Vector{Union{Missing, Float64, String}}(missing, bottom_of_each_dataset[end]) \n",
    "                    for _ in 1:length(spacing_dict_keys)], spacing_dict_keys)\n",
    "    #Fill up the dataframe with the data\n",
    "    out = [df[row] = \n",
    "    #data_list consists of the bottom of each dataset and the dataset stored as a dictionary \n",
    "    return combined_df\n",
    "end\n",
    "spacing_specifiers = [index for index in 1:length(file_as_array) \n",
    "                    if check_line(file_as_array[index], \"# Prj\")]\n",
    "rows_in_each_dataset = [tryparse(Int64, \n",
    "                    split(file_as_array[index - 1], [' '])[end])\n",
    "                    for index in spacing_specifiers]"
   ]
  },
  {
   "cell_type": "code",
   "execution_count": 16,
   "metadata": {},
   "outputs": [
    {
     "data": {
      "text/html": [
       "<div class=\"data-frame\"><p>10 rows × 2 columns</p><table class=\"data-frame\"><thead><tr><th></th><th>Energy</th><th>Cross Section</th></tr><tr><th></th><th title=\"Union{Missing, Float64, String}\">Union…?</th><th title=\"Union{Missing, Float64, String}\">Union…?</th></tr></thead><tbody><tr><th>1</th><td>dog</td><td><em>missing</em></td></tr><tr><th>2</th><td><em>missing</em></td><td><em>missing</em></td></tr><tr><th>3</th><td><em>missing</em></td><td><em>missing</em></td></tr><tr><th>4</th><td><em>missing</em></td><td><em>missing</em></td></tr><tr><th>5</th><td><em>missing</em></td><td><em>missing</em></td></tr><tr><th>6</th><td><em>missing</em></td><td><em>missing</em></td></tr><tr><th>7</th><td><em>missing</em></td><td><em>missing</em></td></tr><tr><th>8</th><td><em>missing</em></td><td><em>missing</em></td></tr><tr><th>9</th><td><em>missing</em></td><td><em>missing</em></td></tr><tr><th>10</th><td><em>missing</em></td><td><em>missing</em></td></tr></tbody></table></div>"
      ],
      "text/latex": [
       "\\begin{tabular}{r|cc}\n",
       "\t& Energy & Cross Section\\\\\n",
       "\t\\hline\n",
       "\t& Union…? & Union…?\\\\\n",
       "\t\\hline\n",
       "\t1 & dog & \\emph{missing} \\\\\n",
       "\t2 & \\emph{missing} & \\emph{missing} \\\\\n",
       "\t3 & \\emph{missing} & \\emph{missing} \\\\\n",
       "\t4 & \\emph{missing} & \\emph{missing} \\\\\n",
       "\t5 & \\emph{missing} & \\emph{missing} \\\\\n",
       "\t6 & \\emph{missing} & \\emph{missing} \\\\\n",
       "\t7 & \\emph{missing} & \\emph{missing} \\\\\n",
       "\t8 & \\emph{missing} & \\emph{missing} \\\\\n",
       "\t9 & \\emph{missing} & \\emph{missing} \\\\\n",
       "\t10 & \\emph{missing} & \\emph{missing} \\\\\n",
       "\\end{tabular}\n"
      ],
      "text/plain": [
       "\u001b[1m10×2 DataFrame\u001b[0m\n",
       "\u001b[1m Row \u001b[0m│\u001b[1m Energy  \u001b[0m\u001b[1m Cross Section \u001b[0m\n",
       "\u001b[1m     \u001b[0m│\u001b[90m Union…? \u001b[0m\u001b[90m Union…?       \u001b[0m\n",
       "─────┼────────────────────────\n",
       "   1 │ dog     \u001b[90m missing       \u001b[0m\n",
       "   2 │\u001b[90m missing \u001b[0m\u001b[90m missing       \u001b[0m\n",
       "   3 │\u001b[90m missing \u001b[0m\u001b[90m missing       \u001b[0m\n",
       "   4 │\u001b[90m missing \u001b[0m\u001b[90m missing       \u001b[0m\n",
       "   5 │\u001b[90m missing \u001b[0m\u001b[90m missing       \u001b[0m\n",
       "   6 │\u001b[90m missing \u001b[0m\u001b[90m missing       \u001b[0m\n",
       "   7 │\u001b[90m missing \u001b[0m\u001b[90m missing       \u001b[0m\n",
       "   8 │\u001b[90m missing \u001b[0m\u001b[90m missing       \u001b[0m\n",
       "   9 │\u001b[90m missing \u001b[0m\u001b[90m missing       \u001b[0m\n",
       "  10 │\u001b[90m missing \u001b[0m\u001b[90m missing       \u001b[0m"
      ]
     },
     "metadata": {},
     "output_type": "display_data"
    }
   ],
   "source": [
    "bottom_of_each_dataset = [2, 10]\n",
    "spacing_dict_keys = [\"Energy\", \"Cross Section\"]\n",
    "df = DataFrame([Vector{Union{Missing, Float64, String}}(missing, bottom_of_each_dataset[end]) \n",
    "                    for _ in 1:length(spacing_dict_keys)], spacing_dict_keys)\n",
    "df[1,1] = \"dog\"\n",
    "df"
   ]
  },
  {
   "cell_type": "code",
   "execution_count": 19,
   "metadata": {},
   "outputs": [
    {
     "data": {
      "text/plain": [
       "12-element Vector{Int64}:\n",
       "   8\n",
       "  16\n",
       "  73\n",
       " 135\n",
       " 139\n",
       " 144\n",
       " 148\n",
       " 152\n",
       " 170\n",
       " 182\n",
       " 196\n",
       " 204"
      ]
     },
     "metadata": {},
     "output_type": "display_data"
    }
   ],
   "source": [
    "bottom_of_each_dataset = [sum(rows_in_each_dataset[1:index])\n",
    "                        for index in 1:length(rows_in_each_dataset)-1]"
   ]
  },
  {
   "cell_type": "code",
   "execution_count": 4,
   "metadata": {},
   "outputs": [
    {
     "data": {
      "text/plain": [
       "13-element Vector{DataFrame}:\n",
       " \u001b[1m8×18 DataFrame\u001b[0m\n",
       "\u001b[1m Row \u001b[0m│\u001b[1m Cos/LO    \u001b[0m\u001b[1m Data    \u001b[0m\u001b[1m ELV/HL    \u001b[0m\u001b[1m Energy    \u001b[0m\u001b[1m Entry     \u001b[0m\u001b[1m I78       \u001b[0m\u001b[1m M      \u001b[0m ⋯\n",
       "\u001b[1m     \u001b[0m│\u001b[90m SubStrin… \u001b[0m\u001b[90m Float64 \u001b[0m\u001b[90m SubStrin… \u001b[0m\u001b[90m SubStrin… \u001b[0m\u001b[90m SubStrin… \u001b[0m\u001b[90m SubStrin… \u001b[0m\u001b[90m SubStri\u001b[0m ⋯\n",
       "─────┼──────────────────────────────────────────────────────────────────────────\n",
       "   1 │            0.01876             3.3000+8   K2066                         ⋯\n",
       "   2 │            0.01906             4.1000+8   K2066\n",
       "   3 │            0.01925             5.2000+8   K2066\n",
       "   4 │            0.01932             6.0000+8   K2066\n",
       "   5 │            0.01932             6.8000+8   K2066                         ⋯\n",
       "   6 │            0.01952             7.5000+8   K2066\n",
       "   7 │            0.01961             8.3000+8   K2066\n",
       "   8 │            0.01972             9.1000+8   K2066\n",
       "\u001b[36m                                                              12 columns omitted\u001b[0m\n",
       " \u001b[1m8×18 DataFrame\u001b[0m\n",
       "\u001b[1m Row \u001b[0m│\u001b[1m Cos/LO    \u001b[0m\u001b[1m Data      \u001b[0m\u001b[1m ELV/HL    \u001b[0m\u001b[1m Energy    \u001b[0m\u001b[1m Entry     \u001b[0m\u001b[1m I78       \u001b[0m\u001b[1m M    \u001b[0m ⋯\n",
       "\u001b[1m     \u001b[0m│\u001b[90m SubStrin… \u001b[0m\u001b[90m SubStrin… \u001b[0m\u001b[90m SubStrin… \u001b[0m\u001b[90m SubStrin… \u001b[0m\u001b[90m SubStrin… \u001b[0m\u001b[90m SubStrin… \u001b[0m\u001b[90m SubSt\u001b[0m ⋯\n",
       "─────┼──────────────────────────────────────────────────────────────────────────\n",
       "   1 │            3.1800-3              3.3000+8   K2066                       ⋯\n",
       "   2 │            2.2400-3              4.1000+8   K2066\n",
       "   3 │            2.1500-3              5.2000+8   K2066\n",
       "   4 │            1.7400-3              6.0000+8   K2066\n",
       "   5 │            1.5500-3              6.8000+8   K2066                       ⋯\n",
       "   6 │            1.4900-3              7.5000+8   K2066\n",
       "   7 │            1.4000-3              8.3000+8   K2066\n",
       "   8 │            1.2600-3              9.1000+8   K2066\n",
       "\u001b[36m                                                              12 columns omitted\u001b[0m\n",
       " \u001b[1m57×18 DataFrame\u001b[0m\n",
       "\u001b[1m Row \u001b[0m│\u001b[1m Cos/LO    \u001b[0m\u001b[1m Data      \u001b[0m\u001b[1m ELV/HL    \u001b[0m\u001b[1m Energy    \u001b[0m\u001b[1m Entry     \u001b[0m\u001b[1m I78       \u001b[0m\u001b[1m M    \u001b[0m ⋯\n",
       "\u001b[1m     \u001b[0m│\u001b[90m SubStrin… \u001b[0m\u001b[90m SubStrin… \u001b[0m\u001b[90m SubStrin… \u001b[0m\u001b[90m SubStrin… \u001b[0m\u001b[90m SubStrin… \u001b[0m\u001b[90m SubStrin… \u001b[0m\u001b[90m SubSt\u001b[0m ⋯\n",
       "─────┼──────────────────────────────────────────────────────────────────────────\n",
       "   1 │            1.2500-4              2.0400+8   M0519                       ⋯\n",
       "   2 │            1.5000-4              2.1600+8   M0519\n",
       "   3 │            1.8100-4              2.2800+8   M0519\n",
       "   4 │            2.2300-4              2.4000+8   M0519\n",
       "   5 │            2.6000-4              2.5200+8   M0519                       ⋯\n",
       "   6 │            3.1700-4              2.6400+8   M0519\n",
       "   7 │            3.7900-4              2.7600+8   M0519\n",
       "   8 │            4.3800-4              2.8800+8   M0519\n",
       "  ⋮  │     ⋮          ⋮          ⋮          ⋮          ⋮          ⋮          ⋮ ⋱\n",
       "  51 │            2.7800-4              7.3900+8   M0519                       ⋯\n",
       "  52 │            2.7300-4              7.4800+8   M0519\n",
       "  53 │            2.6300-4              7.5600+8   M0519\n",
       "  54 │            2.5700-4              7.6500+8   M0519\n",
       "  55 │            2.4800-4              7.7400+8   M0519                       ⋯\n",
       "  56 │            2.3800-4              7.8200+8   M0519\n",
       "  57 │            2.3500-4              7.8900+8   M0519\n",
       "\u001b[36m                                                  12 columns and 42 rows omitted\u001b[0m\n",
       " \u001b[1m62×18 DataFrame\u001b[0m\n",
       "\u001b[1m Row \u001b[0m│\u001b[1m Cos/LO    \u001b[0m\u001b[1m Data      \u001b[0m\u001b[1m ELV/HL    \u001b[0m\u001b[1m Energy    \u001b[0m\u001b[1m Entry     \u001b[0m\u001b[1m I78       \u001b[0m\u001b[1m M    \u001b[0m ⋯\n",
       "\u001b[1m     \u001b[0m│\u001b[90m SubStrin… \u001b[0m\u001b[90m SubStrin… \u001b[0m\u001b[90m SubStrin… \u001b[0m\u001b[90m SubStrin… \u001b[0m\u001b[90m SubStrin… \u001b[0m\u001b[90m SubStrin… \u001b[0m\u001b[90m SubSt\u001b[0m ⋯\n",
       "─────┼──────────────────────────────────────────────────────────────────────────\n",
       "   1 │            1.7200-4              5.7000+8   M0732                       ⋯\n",
       "   2 │            1.7100-4              5.8000+8   M0732\n",
       "   3 │            1.9200-4              5.9000+8   M0732\n",
       "   4 │            1.9800-4              6.1000+8   M0732\n",
       "   5 │            2.1500-4              6.3000+8   M0732                       ⋯\n",
       "   6 │            2.2300-4              6.4000+8   M0732\n",
       "   7 │            2.2700-4              6.5000+8   M0732\n",
       "   8 │            2.4200-4              6.6000+8   M0732\n",
       "  ⋮  │     ⋮          ⋮          ⋮          ⋮          ⋮          ⋮          ⋮ ⋱\n",
       "  56 │            1.4800-4              1.3200+9   M0732                       ⋯\n",
       "  57 │            1.5000-4              1.3400+9   M0732\n",
       "  58 │            1.5400-4              1.3600+9   M0732\n",
       "  59 │            1.5300-4              1.3700+9   M0732\n",
       "  60 │            1.4800-4              1.3900+9   M0732                       ⋯\n",
       "  61 │            1.5100-4              1.4100+9   M0732\n",
       "  62 │            1.4900-4              1.4300+9   M0732\n",
       "\u001b[36m                                                  12 columns and 47 rows omitted\u001b[0m\n",
       " \u001b[1m4×18 DataFrame\u001b[0m\n",
       "\u001b[1m Row \u001b[0m│\u001b[1m Cos/LO   \u001b[0m\u001b[1m Data    \u001b[0m\u001b[1m ELV/HL    \u001b[0m\u001b[1m Energy    \u001b[0m\u001b[1m Entry     \u001b[0m\u001b[1m I78       \u001b[0m\u001b[1m M       \u001b[0m ⋯\n",
       "\u001b[1m     \u001b[0m│\u001b[90m Float64  \u001b[0m\u001b[90m Float64 \u001b[0m\u001b[90m SubStrin… \u001b[0m\u001b[90m SubStrin… \u001b[0m\u001b[90m SubStrin… \u001b[0m\u001b[90m SubStrin… \u001b[0m\u001b[90m SubStrin\u001b[0m ⋯\n",
       "─────┼──────────────────────────────────────────────────────────────────────────\n",
       "   1 │ -0.64279      0.0             3.2430+7   M0804                          ⋯\n",
       "   2 │ -0.64279      0.0             3.7000+7   M0804\n",
       "   3 │ -0.64279      0.0             4.1100+7   M0804\n",
       "   4 │ -0.64279      0.0             5.1430+7   M0804\n",
       "\u001b[36m                                                              12 columns omitted\u001b[0m\n",
       " \u001b[1m5×18 DataFrame\u001b[0m\n",
       "\u001b[1m Row \u001b[0m│\u001b[1m Cos/LO   \u001b[0m\u001b[1m Data    \u001b[0m\u001b[1m ELV/HL    \u001b[0m\u001b[1m Energy    \u001b[0m\u001b[1m Entry     \u001b[0m\u001b[1m I78       \u001b[0m\u001b[1m M       \u001b[0m ⋯\n",
       "\u001b[1m     \u001b[0m│\u001b[90m Float64  \u001b[0m\u001b[90m Float64 \u001b[0m\u001b[90m SubStrin… \u001b[0m\u001b[90m SubStrin… \u001b[0m\u001b[90m SubStrin… \u001b[0m\u001b[90m SubStrin… \u001b[0m\u001b[90m SubStrin\u001b[0m ⋯\n",
       "─────┼──────────────────────────────────────────────────────────────────────────\n",
       "   1 │ -0.64279      0.0             3.5230+7   M0804                          ⋯\n",
       "   2 │ -0.64279      0.0             3.8260+7   M0804\n",
       "   3 │ -0.64279      0.0             4.1100+7   M0804\n",
       "   4 │ -0.64279      0.0             4.4110+7   M0804\n",
       "   5 │ -0.64279      0.0             4.8150+7   M0804                          ⋯\n",
       "\u001b[36m                                                              12 columns omitted\u001b[0m\n",
       " \u001b[1m4×18 DataFrame\u001b[0m\n",
       "\u001b[1m Row \u001b[0m│\u001b[1m Cos/LO    \u001b[0m\u001b[1m Data    \u001b[0m\u001b[1m ELV/HL    \u001b[0m\u001b[1m Energy    \u001b[0m\u001b[1m Entry     \u001b[0m\u001b[1m I78       \u001b[0m\u001b[1m M      \u001b[0m ⋯\n",
       "\u001b[1m     \u001b[0m│\u001b[90m Float64   \u001b[0m\u001b[90m Float64 \u001b[0m\u001b[90m SubStrin… \u001b[0m\u001b[90m SubStrin… \u001b[0m\u001b[90m SubStrin… \u001b[0m\u001b[90m SubStrin… \u001b[0m\u001b[90m SubStri\u001b[0m ⋯\n",
       "─────┼──────────────────────────────────────────────────────────────────────────\n",
       "   1 │ -0.707109      0.0             7.3200+7   M0522                         ⋯\n",
       "   2 │ -0.707109      0.0             8.1800+7   M0522\n",
       "   3 │ -0.707109      0.0             8.9800+7   M0522\n",
       "   4 │ -0.707109      0.0             9.6800+7   M0522\n",
       "\u001b[36m                                                              12 columns omitted\u001b[0m\n",
       " \u001b[1m4×18 DataFrame\u001b[0m\n",
       "\u001b[1m Row \u001b[0m│\u001b[1m Cos/LO  \u001b[0m\u001b[1m Data    \u001b[0m\u001b[1m ELV/HL    \u001b[0m\u001b[1m Energy    \u001b[0m\u001b[1m Entry     \u001b[0m\u001b[1m I78       \u001b[0m\u001b[1m M        \u001b[0m ⋯\n",
       "\u001b[1m     \u001b[0m│\u001b[90m Float64 \u001b[0m\u001b[90m Float64 \u001b[0m\u001b[90m SubStrin… \u001b[0m\u001b[90m SubStrin… \u001b[0m\u001b[90m SubStrin… \u001b[0m\u001b[90m SubStrin… \u001b[0m\u001b[90m SubStrin…\u001b[0m ⋯\n",
       "─────┼──────────────────────────────────────────────────────────────────────────\n",
       "   1 │     0.0      0.0             7.3200+7   M0522                           ⋯\n",
       "   2 │     0.0      0.0             8.1800+7   M0522\n",
       "   3 │     0.0      0.0             8.9800+7   M0522\n",
       "   4 │     0.0      0.0             9.6800+7   M0522\n",
       "\u001b[36m                                                              11 columns omitted\u001b[0m\n",
       " \u001b[1m18×18 DataFrame\u001b[0m\n",
       "\u001b[1m Row \u001b[0m│\u001b[1m Cos/LO   \u001b[0m\u001b[1m Data    \u001b[0m\u001b[1m ELV/HL    \u001b[0m\u001b[1m Energy    \u001b[0m\u001b[1m Entry     \u001b[0m\u001b[1m I78       \u001b[0m\u001b[1m M       \u001b[0m ⋯\n",
       "\u001b[1m     \u001b[0m│\u001b[90m Float64  \u001b[0m\u001b[90m Float64 \u001b[0m\u001b[90m SubStrin… \u001b[0m\u001b[90m SubStrin… \u001b[0m\u001b[90m SubStrin… \u001b[0m\u001b[90m SubStrin… \u001b[0m\u001b[90m SubStrin\u001b[0m ⋯\n",
       "─────┼──────────────────────────────────────────────────────────────────────────\n",
       "   1 │ 0.258817      0.0             2.0730+8   M0521                          ⋯\n",
       "   2 │ 0.258817      0.0             2.1930+8   M0521\n",
       "   3 │ 0.258817      0.0             2.3130+8   M0521\n",
       "   4 │ 0.258817      0.0             2.4330+8   M0521\n",
       "   5 │ 0.258817      0.0             2.5520+8   M0521                          ⋯\n",
       "   6 │ 0.258817      0.0             2.6720+8   M0521\n",
       "   7 │ 0.258817      0.0             2.7920+8   M0521\n",
       "   8 │ 0.258817      0.0             2.9120+8   M0521\n",
       "  ⋮  │    ⋮         ⋮         ⋮          ⋮          ⋮          ⋮          ⋮    ⋱\n",
       "  12 │ 0.258817      0.0             3.3920+8   M0521                          ⋯\n",
       "  13 │ 0.258817      0.0             3.5120+8   M0521\n",
       "  14 │ 0.258817      0.0             3.6320+8   M0521\n",
       "  15 │ 0.258817      0.0             3.7530+8   M0521\n",
       "  16 │ 0.258817      0.0             3.8700+8   M0521                          ⋯\n",
       "  17 │ 0.258817      0.0             3.9910+8   M0521\n",
       "  18 │ 0.258817      0.0             4.0860+8   M0521\n",
       "\u001b[36m                                                   12 columns and 3 rows omitted\u001b[0m\n",
       " \u001b[1m12×18 DataFrame\u001b[0m\n",
       "\u001b[1m Row \u001b[0m│\u001b[1m Cos/LO  \u001b[0m\u001b[1m Data    \u001b[0m\u001b[1m ELV/HL    \u001b[0m\u001b[1m Energy    \u001b[0m\u001b[1m Entry     \u001b[0m\u001b[1m I78       \u001b[0m\u001b[1m M        \u001b[0m ⋯\n",
       "\u001b[1m     \u001b[0m│\u001b[90m Float64 \u001b[0m\u001b[90m Float64 \u001b[0m\u001b[90m SubStrin… \u001b[0m\u001b[90m SubStrin… \u001b[0m\u001b[90m SubStrin… \u001b[0m\u001b[90m SubStrin… \u001b[0m\u001b[90m SubStrin…\u001b[0m ⋯\n",
       "─────┼──────────────────────────────────────────────────────────────────────────\n",
       "   1 │     0.0      0.0             2.1300+8   M0673                           ⋯\n",
       "   2 │     0.0      0.0             2.2353+8   M0673\n",
       "   3 │     0.0      0.0             2.3468+8   M0673\n",
       "   4 │     0.0      0.0             2.4172+8   M0673\n",
       "   5 │     0.0      0.0             2.5523+8   M0673                           ⋯\n",
       "   6 │     0.0      0.0             2.6402+8   M0673\n",
       "   7 │     0.0      0.0             2.7519+8   M0673\n",
       "   8 │     0.0      0.0             2.8635+8   M0673\n",
       "   9 │     0.0      0.0             2.9721+8   M0673                           ⋯\n",
       "  10 │     0.0      0.0             3.0895+8   M0673\n",
       "  11 │     0.0      0.0             3.2275+8   M0673\n",
       "  12 │     0.0      0.0             3.3300+8   M0673\n",
       "\u001b[36m                                                              11 columns omitted\u001b[0m\n",
       " \u001b[1m14×18 DataFrame\u001b[0m\n",
       "\u001b[1m Row \u001b[0m│\u001b[1m Cos/LO    \u001b[0m\u001b[1m Data    \u001b[0m\u001b[1m ELV/HL    \u001b[0m\u001b[1m Energy    \u001b[0m\u001b[1m Entry     \u001b[0m\u001b[1m I78       \u001b[0m\u001b[1m M      \u001b[0m ⋯\n",
       "\u001b[1m     \u001b[0m│\u001b[90m Float64   \u001b[0m\u001b[90m Float64 \u001b[0m\u001b[90m SubStrin… \u001b[0m\u001b[90m SubStrin… \u001b[0m\u001b[90m SubStrin… \u001b[0m\u001b[90m SubStrin… \u001b[0m\u001b[90m SubStri\u001b[0m ⋯\n",
       "─────┼──────────────────────────────────────────────────────────────────────────\n",
       "   1 │ -0.707109      0.0             2.2000+8   M0730                         ⋯\n",
       "   2 │ -0.707109      0.0             2.3200+8   M0730\n",
       "   3 │ -0.707109      0.0             2.5300+8   M0730\n",
       "   4 │ -0.707109      0.0             2.7200+8   M0730\n",
       "   5 │ -0.707109      0.0             2.9200+8   M0730                         ⋯\n",
       "   6 │ -0.707109      0.0             3.1100+8   M0730\n",
       "   7 │ -0.707109      0.0             3.3100+8   M0730\n",
       "   8 │ -0.707109      0.0             3.5000+8   M0730\n",
       "   9 │ -0.707109      0.0             3.7000+8   M0730                         ⋯\n",
       "  10 │ -0.707109      0.0             3.8900+8   M0730\n",
       "  11 │ -0.707109      0.0             4.0800+8   M0730\n",
       "  12 │ -0.707109      0.0             4.2900+8   M0730\n",
       "  13 │ -0.707109      0.0             4.4900+8   M0730                         ⋯\n",
       "  14 │ -0.707109      0.0             4.6800+8   M0730\n",
       "\u001b[36m                                                              12 columns omitted\u001b[0m\n",
       " \u001b[1m8×18 DataFrame\u001b[0m\n",
       "\u001b[1m Row \u001b[0m│\u001b[1m Cos/LO    \u001b[0m\u001b[1m Data      \u001b[0m\u001b[1m ELV/HL    \u001b[0m\u001b[1m Energy    \u001b[0m\u001b[1m Entry     \u001b[0m\u001b[1m I78       \u001b[0m\u001b[1m M    \u001b[0m ⋯\n",
       "\u001b[1m     \u001b[0m│\u001b[90m Float64   \u001b[0m\u001b[90m SubStrin… \u001b[0m\u001b[90m SubStrin… \u001b[0m\u001b[90m SubStrin… \u001b[0m\u001b[90m SubStrin… \u001b[0m\u001b[90m SubStrin… \u001b[0m\u001b[90m SubSt\u001b[0m ⋯\n",
       "─────┼──────────────────────────────────────────────────────────────────────────\n",
       "   1 │  0.576431  1.3400-7              2.3260+8   M1011                       ⋯\n",
       "   2 │  0.337094  1.6000-7              2.3700+8   M1011\n",
       "   3 │ -0.054081  2.0800-7              2.4520+8   M1011\n",
       "   4 │  0.576431  1.3400-7              2.4700+8   M1011\n",
       "   5 │  0.337094  1.3800-7              2.4700+8   M1011                       ⋯\n",
       "   6 │ -0.322268  3.0900-7              2.4720+8   M1011\n",
       "   7 │ -0.84805   4.1700-7              2.4770+8   M1011\n",
       "   8 │ -0.671723  3.3300-7              2.4780+8   M1011\n",
       "\u001b[36m                                                              12 columns omitted\u001b[0m\n",
       " \u001b[1m21×18 DataFrame\u001b[0m\n",
       "\u001b[1m Row \u001b[0m│\u001b[1m Cos/LO  \u001b[0m\u001b[1m Data    \u001b[0m\u001b[1m ELV/HL    \u001b[0m\u001b[1m Energy    \u001b[0m\u001b[1m Entry     \u001b[0m\u001b[1m I78       \u001b[0m\u001b[1m M        \u001b[0m ⋯\n",
       "\u001b[1m     \u001b[0m│\u001b[90m Float64 \u001b[0m\u001b[90m Float64 \u001b[0m\u001b[90m SubStrin… \u001b[0m\u001b[90m SubStrin… \u001b[0m\u001b[90m SubStrin… \u001b[0m\u001b[90m SubStrin… \u001b[0m\u001b[90m SubStrin…\u001b[0m ⋯\n",
       "─────┼──────────────────────────────────────────────────────────────────────────\n",
       "   1 │     0.0      0.0             2.5040+8   M0521                           ⋯\n",
       "   2 │     0.0      0.0             2.6600+8   M0521\n",
       "   3 │     0.0      0.0             2.7680+8   M0521\n",
       "   4 │     0.0      0.0             2.8880+8   M0521\n",
       "   5 │     0.0      0.0             3.0080+8   M0521                           ⋯\n",
       "   6 │     0.0      0.0             3.1280+8   M0521\n",
       "   7 │     0.0      0.0             3.2480+8   M0521\n",
       "   8 │     0.0      0.0             3.3680+8   M0521\n",
       "  ⋮  │    ⋮        ⋮         ⋮          ⋮          ⋮          ⋮          ⋮     ⋱\n",
       "  15 │     0.0      0.0             4.1990+8   M0521                           ⋯\n",
       "  16 │     0.0      0.0             4.3150+8   M0521\n",
       "  17 │     0.0      0.0             4.4320+8   M0521\n",
       "  18 │     0.0      0.0             4.5470+8   M0521\n",
       "  19 │     0.0      0.0             4.6620+8   M0521                           ⋯\n",
       "  20 │     0.0      0.0             4.7770+8   M0521\n",
       "  21 │     0.0      0.0             4.8900+8   M0521\n",
       "\u001b[36m                                                   11 columns and 6 rows omitted\u001b[0m"
      ]
     },
     "metadata": {},
     "output_type": "display_data"
    }
   ],
   "source": [
    "df_list = [DataFrame(read_data(spacing_specifier, file_as_array))\n",
    "            for spacing_specifier in spacing_specifiers]"
   ]
  },
  {
   "cell_type": "code",
   "execution_count": 6,
   "metadata": {},
   "outputs": [
    {
     "data": {
      "text/html": [
       "<div class=\"data-frame\"><p>225 rows × 18 columns (omitted printing of 10 columns)</p><table class=\"data-frame\"><thead><tr><th></th><th>Cos/LO</th><th>Data</th><th>ELV/HL</th><th>Energy</th><th>Entry</th><th>I78</th><th>M</th><th>MF</th></tr><tr><th></th><th title=\"Union{Missing, Float64}\">Float64?</th><th title=\"Union{Missing, Float64}\">Float64?</th><th title=\"Union{Missing, Float64}\">Float64?</th><th title=\"Union{Missing, Float64}\">Float64?</th><th title=\"Union{Missing, Float64}\">Float64?</th><th title=\"Union{Missing, Float64}\">Float64?</th><th title=\"Union{Missing, Float64}\">Float64?</th><th title=\"Union{Missing, Float64}\">Float64?</th></tr></thead><tbody><tr><th>1</th><td><em>missing</em></td><td><em>missing</em></td><td><em>missing</em></td><td><em>missing</em></td><td><em>missing</em></td><td><em>missing</em></td><td><em>missing</em></td><td><em>missing</em></td></tr><tr><th>2</th><td><em>missing</em></td><td><em>missing</em></td><td><em>missing</em></td><td><em>missing</em></td><td><em>missing</em></td><td><em>missing</em></td><td><em>missing</em></td><td><em>missing</em></td></tr><tr><th>3</th><td><em>missing</em></td><td><em>missing</em></td><td><em>missing</em></td><td><em>missing</em></td><td><em>missing</em></td><td><em>missing</em></td><td><em>missing</em></td><td><em>missing</em></td></tr><tr><th>4</th><td><em>missing</em></td><td><em>missing</em></td><td><em>missing</em></td><td><em>missing</em></td><td><em>missing</em></td><td><em>missing</em></td><td><em>missing</em></td><td><em>missing</em></td></tr><tr><th>5</th><td><em>missing</em></td><td><em>missing</em></td><td><em>missing</em></td><td><em>missing</em></td><td><em>missing</em></td><td><em>missing</em></td><td><em>missing</em></td><td><em>missing</em></td></tr><tr><th>6</th><td><em>missing</em></td><td><em>missing</em></td><td><em>missing</em></td><td><em>missing</em></td><td><em>missing</em></td><td><em>missing</em></td><td><em>missing</em></td><td><em>missing</em></td></tr><tr><th>7</th><td><em>missing</em></td><td><em>missing</em></td><td><em>missing</em></td><td><em>missing</em></td><td><em>missing</em></td><td><em>missing</em></td><td><em>missing</em></td><td><em>missing</em></td></tr><tr><th>8</th><td><em>missing</em></td><td><em>missing</em></td><td><em>missing</em></td><td><em>missing</em></td><td><em>missing</em></td><td><em>missing</em></td><td><em>missing</em></td><td><em>missing</em></td></tr><tr><th>9</th><td><em>missing</em></td><td><em>missing</em></td><td><em>missing</em></td><td><em>missing</em></td><td><em>missing</em></td><td><em>missing</em></td><td><em>missing</em></td><td><em>missing</em></td></tr><tr><th>10</th><td><em>missing</em></td><td><em>missing</em></td><td><em>missing</em></td><td><em>missing</em></td><td><em>missing</em></td><td><em>missing</em></td><td><em>missing</em></td><td><em>missing</em></td></tr><tr><th>11</th><td><em>missing</em></td><td><em>missing</em></td><td><em>missing</em></td><td><em>missing</em></td><td><em>missing</em></td><td><em>missing</em></td><td><em>missing</em></td><td><em>missing</em></td></tr><tr><th>12</th><td><em>missing</em></td><td><em>missing</em></td><td><em>missing</em></td><td><em>missing</em></td><td><em>missing</em></td><td><em>missing</em></td><td><em>missing</em></td><td><em>missing</em></td></tr><tr><th>13</th><td><em>missing</em></td><td><em>missing</em></td><td><em>missing</em></td><td><em>missing</em></td><td><em>missing</em></td><td><em>missing</em></td><td><em>missing</em></td><td><em>missing</em></td></tr><tr><th>14</th><td><em>missing</em></td><td><em>missing</em></td><td><em>missing</em></td><td><em>missing</em></td><td><em>missing</em></td><td><em>missing</em></td><td><em>missing</em></td><td><em>missing</em></td></tr><tr><th>15</th><td><em>missing</em></td><td><em>missing</em></td><td><em>missing</em></td><td><em>missing</em></td><td><em>missing</em></td><td><em>missing</em></td><td><em>missing</em></td><td><em>missing</em></td></tr><tr><th>16</th><td><em>missing</em></td><td><em>missing</em></td><td><em>missing</em></td><td><em>missing</em></td><td><em>missing</em></td><td><em>missing</em></td><td><em>missing</em></td><td><em>missing</em></td></tr><tr><th>17</th><td><em>missing</em></td><td><em>missing</em></td><td><em>missing</em></td><td><em>missing</em></td><td><em>missing</em></td><td><em>missing</em></td><td><em>missing</em></td><td><em>missing</em></td></tr><tr><th>18</th><td><em>missing</em></td><td><em>missing</em></td><td><em>missing</em></td><td><em>missing</em></td><td><em>missing</em></td><td><em>missing</em></td><td><em>missing</em></td><td><em>missing</em></td></tr><tr><th>19</th><td><em>missing</em></td><td><em>missing</em></td><td><em>missing</em></td><td><em>missing</em></td><td><em>missing</em></td><td><em>missing</em></td><td><em>missing</em></td><td><em>missing</em></td></tr><tr><th>20</th><td><em>missing</em></td><td><em>missing</em></td><td><em>missing</em></td><td><em>missing</em></td><td><em>missing</em></td><td><em>missing</em></td><td><em>missing</em></td><td><em>missing</em></td></tr><tr><th>21</th><td><em>missing</em></td><td><em>missing</em></td><td><em>missing</em></td><td><em>missing</em></td><td><em>missing</em></td><td><em>missing</em></td><td><em>missing</em></td><td><em>missing</em></td></tr><tr><th>22</th><td><em>missing</em></td><td><em>missing</em></td><td><em>missing</em></td><td><em>missing</em></td><td><em>missing</em></td><td><em>missing</em></td><td><em>missing</em></td><td><em>missing</em></td></tr><tr><th>23</th><td><em>missing</em></td><td><em>missing</em></td><td><em>missing</em></td><td><em>missing</em></td><td><em>missing</em></td><td><em>missing</em></td><td><em>missing</em></td><td><em>missing</em></td></tr><tr><th>24</th><td><em>missing</em></td><td><em>missing</em></td><td><em>missing</em></td><td><em>missing</em></td><td><em>missing</em></td><td><em>missing</em></td><td><em>missing</em></td><td><em>missing</em></td></tr><tr><th>&vellip;</th><td>&vellip;</td><td>&vellip;</td><td>&vellip;</td><td>&vellip;</td><td>&vellip;</td><td>&vellip;</td><td>&vellip;</td><td>&vellip;</td></tr></tbody></table></div>"
      ],
      "text/latex": [
       "\\begin{tabular}{r|ccccccccc}\n",
       "\t& Cos/LO & Data & ELV/HL & Energy & Entry & I78 & M & MF & \\\\\n",
       "\t\\hline\n",
       "\t& Float64? & Float64? & Float64? & Float64? & Float64? & Float64? & Float64? & Float64? & \\\\\n",
       "\t\\hline\n",
       "\t1 & \\emph{missing} & \\emph{missing} & \\emph{missing} & \\emph{missing} & \\emph{missing} & \\emph{missing} & \\emph{missing} & \\emph{missing} & $\\dots$ \\\\\n",
       "\t2 & \\emph{missing} & \\emph{missing} & \\emph{missing} & \\emph{missing} & \\emph{missing} & \\emph{missing} & \\emph{missing} & \\emph{missing} & $\\dots$ \\\\\n",
       "\t3 & \\emph{missing} & \\emph{missing} & \\emph{missing} & \\emph{missing} & \\emph{missing} & \\emph{missing} & \\emph{missing} & \\emph{missing} & $\\dots$ \\\\\n",
       "\t4 & \\emph{missing} & \\emph{missing} & \\emph{missing} & \\emph{missing} & \\emph{missing} & \\emph{missing} & \\emph{missing} & \\emph{missing} & $\\dots$ \\\\\n",
       "\t5 & \\emph{missing} & \\emph{missing} & \\emph{missing} & \\emph{missing} & \\emph{missing} & \\emph{missing} & \\emph{missing} & \\emph{missing} & $\\dots$ \\\\\n",
       "\t6 & \\emph{missing} & \\emph{missing} & \\emph{missing} & \\emph{missing} & \\emph{missing} & \\emph{missing} & \\emph{missing} & \\emph{missing} & $\\dots$ \\\\\n",
       "\t7 & \\emph{missing} & \\emph{missing} & \\emph{missing} & \\emph{missing} & \\emph{missing} & \\emph{missing} & \\emph{missing} & \\emph{missing} & $\\dots$ \\\\\n",
       "\t8 & \\emph{missing} & \\emph{missing} & \\emph{missing} & \\emph{missing} & \\emph{missing} & \\emph{missing} & \\emph{missing} & \\emph{missing} & $\\dots$ \\\\\n",
       "\t9 & \\emph{missing} & \\emph{missing} & \\emph{missing} & \\emph{missing} & \\emph{missing} & \\emph{missing} & \\emph{missing} & \\emph{missing} & $\\dots$ \\\\\n",
       "\t10 & \\emph{missing} & \\emph{missing} & \\emph{missing} & \\emph{missing} & \\emph{missing} & \\emph{missing} & \\emph{missing} & \\emph{missing} & $\\dots$ \\\\\n",
       "\t11 & \\emph{missing} & \\emph{missing} & \\emph{missing} & \\emph{missing} & \\emph{missing} & \\emph{missing} & \\emph{missing} & \\emph{missing} & $\\dots$ \\\\\n",
       "\t12 & \\emph{missing} & \\emph{missing} & \\emph{missing} & \\emph{missing} & \\emph{missing} & \\emph{missing} & \\emph{missing} & \\emph{missing} & $\\dots$ \\\\\n",
       "\t13 & \\emph{missing} & \\emph{missing} & \\emph{missing} & \\emph{missing} & \\emph{missing} & \\emph{missing} & \\emph{missing} & \\emph{missing} & $\\dots$ \\\\\n",
       "\t14 & \\emph{missing} & \\emph{missing} & \\emph{missing} & \\emph{missing} & \\emph{missing} & \\emph{missing} & \\emph{missing} & \\emph{missing} & $\\dots$ \\\\\n",
       "\t15 & \\emph{missing} & \\emph{missing} & \\emph{missing} & \\emph{missing} & \\emph{missing} & \\emph{missing} & \\emph{missing} & \\emph{missing} & $\\dots$ \\\\\n",
       "\t16 & \\emph{missing} & \\emph{missing} & \\emph{missing} & \\emph{missing} & \\emph{missing} & \\emph{missing} & \\emph{missing} & \\emph{missing} & $\\dots$ \\\\\n",
       "\t17 & \\emph{missing} & \\emph{missing} & \\emph{missing} & \\emph{missing} & \\emph{missing} & \\emph{missing} & \\emph{missing} & \\emph{missing} & $\\dots$ \\\\\n",
       "\t18 & \\emph{missing} & \\emph{missing} & \\emph{missing} & \\emph{missing} & \\emph{missing} & \\emph{missing} & \\emph{missing} & \\emph{missing} & $\\dots$ \\\\\n",
       "\t19 & \\emph{missing} & \\emph{missing} & \\emph{missing} & \\emph{missing} & \\emph{missing} & \\emph{missing} & \\emph{missing} & \\emph{missing} & $\\dots$ \\\\\n",
       "\t20 & \\emph{missing} & \\emph{missing} & \\emph{missing} & \\emph{missing} & \\emph{missing} & \\emph{missing} & \\emph{missing} & \\emph{missing} & $\\dots$ \\\\\n",
       "\t21 & \\emph{missing} & \\emph{missing} & \\emph{missing} & \\emph{missing} & \\emph{missing} & \\emph{missing} & \\emph{missing} & \\emph{missing} & $\\dots$ \\\\\n",
       "\t22 & \\emph{missing} & \\emph{missing} & \\emph{missing} & \\emph{missing} & \\emph{missing} & \\emph{missing} & \\emph{missing} & \\emph{missing} & $\\dots$ \\\\\n",
       "\t23 & \\emph{missing} & \\emph{missing} & \\emph{missing} & \\emph{missing} & \\emph{missing} & \\emph{missing} & \\emph{missing} & \\emph{missing} & $\\dots$ \\\\\n",
       "\t24 & \\emph{missing} & \\emph{missing} & \\emph{missing} & \\emph{missing} & \\emph{missing} & \\emph{missing} & \\emph{missing} & \\emph{missing} & $\\dots$ \\\\\n",
       "\t$\\dots$ & $\\dots$ & $\\dots$ & $\\dots$ & $\\dots$ & $\\dots$ & $\\dots$ & $\\dots$ & $\\dots$ &  \\\\\n",
       "\\end{tabular}\n"
      ],
      "text/plain": [
       "\u001b[1m225×18 DataFrame\u001b[0m\n",
       "\u001b[1m Row \u001b[0m│\u001b[1m Cos/LO   \u001b[0m\u001b[1m Data     \u001b[0m\u001b[1m ELV/HL   \u001b[0m\u001b[1m Energy   \u001b[0m\u001b[1m Entry    \u001b[0m\u001b[1m I78      \u001b[0m\u001b[1m M        \u001b[0m\u001b[1m M\u001b[0m ⋯\n",
       "\u001b[1m     \u001b[0m│\u001b[90m Float64? \u001b[0m\u001b[90m Float64? \u001b[0m\u001b[90m Float64? \u001b[0m\u001b[90m Float64? \u001b[0m\u001b[90m Float64? \u001b[0m\u001b[90m Float64? \u001b[0m\u001b[90m Float64? \u001b[0m\u001b[90m F\u001b[0m ⋯\n",
       "─────┼──────────────────────────────────────────────────────────────────────────\n",
       "   1 │\u001b[90m  missing \u001b[0m\u001b[90m  missing \u001b[0m\u001b[90m  missing \u001b[0m\u001b[90m  missing \u001b[0m\u001b[90m  missing \u001b[0m\u001b[90m  missing \u001b[0m\u001b[90m  missing \u001b[0m\u001b[90m  \u001b[0m ⋯\n",
       "   2 │\u001b[90m  missing \u001b[0m\u001b[90m  missing \u001b[0m\u001b[90m  missing \u001b[0m\u001b[90m  missing \u001b[0m\u001b[90m  missing \u001b[0m\u001b[90m  missing \u001b[0m\u001b[90m  missing \u001b[0m\u001b[90m\u001b[0m\n",
       "   3 │\u001b[90m  missing \u001b[0m\u001b[90m  missing \u001b[0m\u001b[90m  missing \u001b[0m\u001b[90m  missing \u001b[0m\u001b[90m  missing \u001b[0m\u001b[90m  missing \u001b[0m\u001b[90m  missing \u001b[0m\u001b[90m\u001b[0m\n",
       "   4 │\u001b[90m  missing \u001b[0m\u001b[90m  missing \u001b[0m\u001b[90m  missing \u001b[0m\u001b[90m  missing \u001b[0m\u001b[90m  missing \u001b[0m\u001b[90m  missing \u001b[0m\u001b[90m  missing \u001b[0m\u001b[90m\u001b[0m\n",
       "   5 │\u001b[90m  missing \u001b[0m\u001b[90m  missing \u001b[0m\u001b[90m  missing \u001b[0m\u001b[90m  missing \u001b[0m\u001b[90m  missing \u001b[0m\u001b[90m  missing \u001b[0m\u001b[90m  missing \u001b[0m\u001b[90m  \u001b[0m ⋯\n",
       "   6 │\u001b[90m  missing \u001b[0m\u001b[90m  missing \u001b[0m\u001b[90m  missing \u001b[0m\u001b[90m  missing \u001b[0m\u001b[90m  missing \u001b[0m\u001b[90m  missing \u001b[0m\u001b[90m  missing \u001b[0m\u001b[90m\u001b[0m\n",
       "   7 │\u001b[90m  missing \u001b[0m\u001b[90m  missing \u001b[0m\u001b[90m  missing \u001b[0m\u001b[90m  missing \u001b[0m\u001b[90m  missing \u001b[0m\u001b[90m  missing \u001b[0m\u001b[90m  missing \u001b[0m\u001b[90m\u001b[0m\n",
       "   8 │\u001b[90m  missing \u001b[0m\u001b[90m  missing \u001b[0m\u001b[90m  missing \u001b[0m\u001b[90m  missing \u001b[0m\u001b[90m  missing \u001b[0m\u001b[90m  missing \u001b[0m\u001b[90m  missing \u001b[0m\u001b[90m\u001b[0m\n",
       "  ⋮  │    ⋮         ⋮         ⋮         ⋮         ⋮         ⋮         ⋮        ⋱\n",
       " 219 │\u001b[90m  missing \u001b[0m\u001b[90m  missing \u001b[0m\u001b[90m  missing \u001b[0m\u001b[90m  missing \u001b[0m\u001b[90m  missing \u001b[0m\u001b[90m  missing \u001b[0m\u001b[90m  missing \u001b[0m\u001b[90m  \u001b[0m ⋯\n",
       " 220 │\u001b[90m  missing \u001b[0m\u001b[90m  missing \u001b[0m\u001b[90m  missing \u001b[0m\u001b[90m  missing \u001b[0m\u001b[90m  missing \u001b[0m\u001b[90m  missing \u001b[0m\u001b[90m  missing \u001b[0m\u001b[90m\u001b[0m\n",
       " 221 │\u001b[90m  missing \u001b[0m\u001b[90m  missing \u001b[0m\u001b[90m  missing \u001b[0m\u001b[90m  missing \u001b[0m\u001b[90m  missing \u001b[0m\u001b[90m  missing \u001b[0m\u001b[90m  missing \u001b[0m\u001b[90m\u001b[0m\n",
       " 222 │\u001b[90m  missing \u001b[0m\u001b[90m  missing \u001b[0m\u001b[90m  missing \u001b[0m\u001b[90m  missing \u001b[0m\u001b[90m  missing \u001b[0m\u001b[90m  missing \u001b[0m\u001b[90m  missing \u001b[0m\u001b[90m\u001b[0m\n",
       " 223 │\u001b[90m  missing \u001b[0m\u001b[90m  missing \u001b[0m\u001b[90m  missing \u001b[0m\u001b[90m  missing \u001b[0m\u001b[90m  missing \u001b[0m\u001b[90m  missing \u001b[0m\u001b[90m  missing \u001b[0m\u001b[90m  \u001b[0m ⋯\n",
       " 224 │\u001b[90m  missing \u001b[0m\u001b[90m  missing \u001b[0m\u001b[90m  missing \u001b[0m\u001b[90m  missing \u001b[0m\u001b[90m  missing \u001b[0m\u001b[90m  missing \u001b[0m\u001b[90m  missing \u001b[0m\u001b[90m\u001b[0m\n",
       " 225 │\u001b[90m  missing \u001b[0m\u001b[90m  missing \u001b[0m\u001b[90m  missing \u001b[0m\u001b[90m  missing \u001b[0m\u001b[90m  missing \u001b[0m\u001b[90m  missing \u001b[0m\u001b[90m  missing \u001b[0m\u001b[90m\u001b[0m\n",
       "\u001b[36m                                                 11 columns and 210 rows omitted\u001b[0m"
      ]
     },
     "metadata": {},
     "output_type": "display_data"
    }
   ],
   "source": [
    "list_of_df_rows = append!([0],[[s for s in size(df)][1] for df in df_list])\n",
    "n_rows = sum(list_of_df_rows)\n",
    "n_cols = size(df_list[1])[2]\n",
    "combined_df = DataFrame([Vector{Union{Missing, Float64}}(missing, n_rows) \n",
    "                for _ in 1:n_cols], names(df_list[1]))"
   ]
  },
  {
   "cell_type": "code",
   "execution_count": 26,
   "metadata": {},
   "outputs": [
    {
     "data": {
      "text/html": [
       "<div class=\"data-frame\"><p>29 rows × 9 columns (omitted printing of 2 columns)</p><table class=\"data-frame\"><thead><tr><th></th><th>MT</th><th>PXC</th><th>Prj</th><th>Refer (YY)</th><th>Sub</th><th>Targ</th><th>dCos/LO</th></tr><tr><th></th><th title=\"Float64\">Float64</th><th title=\"SubString{String}\">SubStrin…</th><th title=\"Float64\">Float64</th><th title=\"SubString{String}\">SubStrin…</th><th title=\"Float64\">Float64</th><th title=\"Float64\">Float64</th><th title=\"SubString{String}\">SubStrin…</th></tr></thead><tbody><tr><th>1</th><td>1.0</td><td></td><td>0.0</td><td>S.Homma,ET.AL. (74)</td><td>7.0</td><td>1001.0</td><td></td></tr><tr><th>2</th><td>1.0</td><td></td><td>0.0</td><td>S.Homma,ET.AL. (74)</td><td>7.0</td><td>1001.0</td><td></td></tr><tr><th>3</th><td>1.0</td><td></td><td>0.0</td><td>S.Homma,ET.AL. (74)</td><td>7.0</td><td>1001.0</td><td></td></tr><tr><th>4</th><td>1.0</td><td></td><td>0.0</td><td>S.Homma,ET.AL. (74)</td><td>7.0</td><td>1001.0</td><td></td></tr><tr><th>5</th><td>1.0</td><td></td><td>0.0</td><td>S.Homma,ET.AL. (74)</td><td>7.0</td><td>1001.0</td><td></td></tr><tr><th>6</th><td>1.0</td><td></td><td>0.0</td><td>S.Homma,ET.AL. (74)</td><td>7.0</td><td>1001.0</td><td></td></tr><tr><th>7</th><td>1.0</td><td></td><td>0.0</td><td>S.Homma,ET.AL. (74)</td><td>7.0</td><td>1001.0</td><td></td></tr><tr><th>8</th><td>1.0</td><td></td><td>0.0</td><td>S.Homma,ET.AL. (74)</td><td>7.0</td><td>1001.0</td><td></td></tr><tr><th>9</th><td>2.0</td><td>C</td><td>0.0</td><td>A.Hunger,ET.AL. (97)</td><td>3.0</td><td>1001.0</td><td></td></tr><tr><th>10</th><td>2.0</td><td>C</td><td>0.0</td><td>A.Hunger,ET.AL. (97)</td><td>3.0</td><td>1001.0</td><td></td></tr><tr><th>11</th><td>2.0</td><td>C</td><td>0.0</td><td>A.Hunger,ET.AL. (97)</td><td>3.0</td><td>1001.0</td><td></td></tr><tr><th>12</th><td>2.0</td><td>C</td><td>0.0</td><td>A.Hunger,ET.AL. (97)</td><td>3.0</td><td>1001.0</td><td></td></tr><tr><th>13</th><td>2.0</td><td>C</td><td>0.0</td><td>A.Hunger,ET.AL. (97)</td><td>3.0</td><td>1001.0</td><td></td></tr><tr><th>14</th><td>2.0</td><td>C</td><td>0.0</td><td>A.Hunger,ET.AL. (97)</td><td>3.0</td><td>1001.0</td><td></td></tr><tr><th>15</th><td>2.0</td><td>C</td><td>0.0</td><td>A.Hunger,ET.AL. (97)</td><td>3.0</td><td>1001.0</td><td></td></tr><tr><th>16</th><td>2.0</td><td>C</td><td>0.0</td><td>A.Hunger,ET.AL. (97)</td><td>3.0</td><td>1001.0</td><td></td></tr><tr><th>17</th><td>2.0</td><td>C</td><td>0.0</td><td>A.Hunger,ET.AL. (97)</td><td>3.0</td><td>1001.0</td><td></td></tr><tr><th>18</th><td>2.0</td><td>C</td><td>0.0</td><td>A.Hunger,ET.AL. (97)</td><td>3.0</td><td>1001.0</td><td></td></tr><tr><th>19</th><td>2.0</td><td>C</td><td>0.0</td><td>A.Hunger,ET.AL. (97)</td><td>3.0</td><td>1001.0</td><td></td></tr><tr><th>20</th><td>2.0</td><td>C</td><td>0.0</td><td>A.Hunger,ET.AL. (97)</td><td>3.0</td><td>1001.0</td><td></td></tr><tr><th>21</th><td>2.0</td><td>C</td><td>0.0</td><td>A.Hunger,ET.AL. (97)</td><td>3.0</td><td>1001.0</td><td></td></tr><tr><th>22</th><td>2.0</td><td>C</td><td>0.0</td><td>A.Hunger,ET.AL. (97)</td><td>3.0</td><td>1001.0</td><td></td></tr><tr><th>23</th><td>2.0</td><td>C</td><td>0.0</td><td>A.Hunger,ET.AL. (97)</td><td>3.0</td><td>1001.0</td><td></td></tr><tr><th>24</th><td>2.0</td><td>C</td><td>0.0</td><td>A.Hunger,ET.AL. (97)</td><td>3.0</td><td>1001.0</td><td></td></tr><tr><th>&vellip;</th><td>&vellip;</td><td>&vellip;</td><td>&vellip;</td><td>&vellip;</td><td>&vellip;</td><td>&vellip;</td><td>&vellip;</td></tr></tbody></table></div>"
      ],
      "text/latex": [
       "\\begin{tabular}{r|cccccccc}\n",
       "\t& MT & PXC & Prj & Refer (YY) & Sub & Targ & dCos/LO & \\\\\n",
       "\t\\hline\n",
       "\t& Float64 & SubStrin… & Float64 & SubStrin… & Float64 & Float64 & SubStrin… & \\\\\n",
       "\t\\hline\n",
       "\t1 & 1.0 &  & 0.0 & S.Homma,ET.AL. (74) & 7.0 & 1001.0 &  & $\\dots$ \\\\\n",
       "\t2 & 1.0 &  & 0.0 & S.Homma,ET.AL. (74) & 7.0 & 1001.0 &  & $\\dots$ \\\\\n",
       "\t3 & 1.0 &  & 0.0 & S.Homma,ET.AL. (74) & 7.0 & 1001.0 &  & $\\dots$ \\\\\n",
       "\t4 & 1.0 &  & 0.0 & S.Homma,ET.AL. (74) & 7.0 & 1001.0 &  & $\\dots$ \\\\\n",
       "\t5 & 1.0 &  & 0.0 & S.Homma,ET.AL. (74) & 7.0 & 1001.0 &  & $\\dots$ \\\\\n",
       "\t6 & 1.0 &  & 0.0 & S.Homma,ET.AL. (74) & 7.0 & 1001.0 &  & $\\dots$ \\\\\n",
       "\t7 & 1.0 &  & 0.0 & S.Homma,ET.AL. (74) & 7.0 & 1001.0 &  & $\\dots$ \\\\\n",
       "\t8 & 1.0 &  & 0.0 & S.Homma,ET.AL. (74) & 7.0 & 1001.0 &  & $\\dots$ \\\\\n",
       "\t9 & 2.0 & C & 0.0 & A.Hunger,ET.AL. (97) & 3.0 & 1001.0 &  & $\\dots$ \\\\\n",
       "\t10 & 2.0 & C & 0.0 & A.Hunger,ET.AL. (97) & 3.0 & 1001.0 &  & $\\dots$ \\\\\n",
       "\t11 & 2.0 & C & 0.0 & A.Hunger,ET.AL. (97) & 3.0 & 1001.0 &  & $\\dots$ \\\\\n",
       "\t12 & 2.0 & C & 0.0 & A.Hunger,ET.AL. (97) & 3.0 & 1001.0 &  & $\\dots$ \\\\\n",
       "\t13 & 2.0 & C & 0.0 & A.Hunger,ET.AL. (97) & 3.0 & 1001.0 &  & $\\dots$ \\\\\n",
       "\t14 & 2.0 & C & 0.0 & A.Hunger,ET.AL. (97) & 3.0 & 1001.0 &  & $\\dots$ \\\\\n",
       "\t15 & 2.0 & C & 0.0 & A.Hunger,ET.AL. (97) & 3.0 & 1001.0 &  & $\\dots$ \\\\\n",
       "\t16 & 2.0 & C & 0.0 & A.Hunger,ET.AL. (97) & 3.0 & 1001.0 &  & $\\dots$ \\\\\n",
       "\t17 & 2.0 & C & 0.0 & A.Hunger,ET.AL. (97) & 3.0 & 1001.0 &  & $\\dots$ \\\\\n",
       "\t18 & 2.0 & C & 0.0 & A.Hunger,ET.AL. (97) & 3.0 & 1001.0 &  & $\\dots$ \\\\\n",
       "\t19 & 2.0 & C & 0.0 & A.Hunger,ET.AL. (97) & 3.0 & 1001.0 &  & $\\dots$ \\\\\n",
       "\t20 & 2.0 & C & 0.0 & A.Hunger,ET.AL. (97) & 3.0 & 1001.0 &  & $\\dots$ \\\\\n",
       "\t21 & 2.0 & C & 0.0 & A.Hunger,ET.AL. (97) & 3.0 & 1001.0 &  & $\\dots$ \\\\\n",
       "\t22 & 2.0 & C & 0.0 & A.Hunger,ET.AL. (97) & 3.0 & 1001.0 &  & $\\dots$ \\\\\n",
       "\t23 & 2.0 & C & 0.0 & A.Hunger,ET.AL. (97) & 3.0 & 1001.0 &  & $\\dots$ \\\\\n",
       "\t24 & 2.0 & C & 0.0 & A.Hunger,ET.AL. (97) & 3.0 & 1001.0 &  & $\\dots$ \\\\\n",
       "\t$\\dots$ & $\\dots$ & $\\dots$ & $\\dots$ & $\\dots$ & $\\dots$ & $\\dots$ & $\\dots$ &  \\\\\n",
       "\\end{tabular}\n"
      ],
      "text/plain": [
       "\u001b[1m29×9 DataFrame\u001b[0m\n",
       "\u001b[1m Row \u001b[0m│\u001b[1m MT      \u001b[0m\u001b[1m PXC       \u001b[0m\u001b[1m Prj     \u001b[0m\u001b[1m Refer (YY)           \u001b[0m\u001b[1m Sub     \u001b[0m\u001b[1m Targ    \u001b[0m\u001b[1m dC\u001b[0m ⋯\n",
       "\u001b[1m     \u001b[0m│\u001b[90m Float64 \u001b[0m\u001b[90m SubStrin… \u001b[0m\u001b[90m Float64 \u001b[0m\u001b[90m SubStrin…            \u001b[0m\u001b[90m Float64 \u001b[0m\u001b[90m Float64 \u001b[0m\u001b[90m Su\u001b[0m ⋯\n",
       "─────┼──────────────────────────────────────────────────────────────────────────\n",
       "   1 │     1.0                 0.0  S.Homma,ET.AL. (74)       7.0   1001.0     ⋯\n",
       "   2 │     1.0                 0.0  S.Homma,ET.AL. (74)       7.0   1001.0\n",
       "   3 │     1.0                 0.0  S.Homma,ET.AL. (74)       7.0   1001.0\n",
       "   4 │     1.0                 0.0  S.Homma,ET.AL. (74)       7.0   1001.0\n",
       "   5 │     1.0                 0.0  S.Homma,ET.AL. (74)       7.0   1001.0     ⋯\n",
       "   6 │     1.0                 0.0  S.Homma,ET.AL. (74)       7.0   1001.0\n",
       "   7 │     1.0                 0.0  S.Homma,ET.AL. (74)       7.0   1001.0\n",
       "   8 │     1.0                 0.0  S.Homma,ET.AL. (74)       7.0   1001.0\n",
       "  ⋮  │    ⋮         ⋮         ⋮              ⋮               ⋮        ⋮        ⋱\n",
       "  23 │     2.0  C              0.0  A.Hunger,ET.AL. (97)      3.0   1001.0     ⋯\n",
       "  24 │     2.0  C              0.0  A.Hunger,ET.AL. (97)      3.0   1001.0\n",
       "  25 │     2.0  C              0.0  A.Hunger,ET.AL. (97)      3.0   1001.0\n",
       "  26 │     2.0  C              0.0  A.Hunger,ET.AL. (97)      3.0   1001.0\n",
       "  27 │     2.0  C              0.0  A.Hunger,ET.AL. (97)      3.0   1001.0     ⋯\n",
       "  28 │     2.0  C              0.0  A.Hunger,ET.AL. (97)      3.0   1001.0\n",
       "  29 │     2.0  C              0.0  A.Hunger,ET.AL. (97)      3.0   1001.0\n",
       "\u001b[36m                                                   3 columns and 14 rows omitted\u001b[0m"
      ]
     },
     "metadata": {},
     "output_type": "display_data"
    }
   ],
   "source": [
    "list_of_df_rows = append([0], list_of_df_rows(df_list))"
   ]
  },
  {
   "cell_type": "code",
   "execution_count": 56,
   "metadata": {},
   "outputs": [
    {
     "data": {
      "text/plain": [
       "n_rows (generic function with 1 method)"
      ]
     },
     "metadata": {},
     "output_type": "display_data"
    }
   ],
   "source": [
    "n_rows"
   ]
  },
  {
   "cell_type": "code",
   "execution_count": 57,
   "metadata": {},
   "outputs": [
    {
     "data": {
      "text/html": [
       "<div class=\"data-frame\"><p>225 rows × 18 columns (omitted printing of 10 columns)</p><table class=\"data-frame\"><thead><tr><th></th><th>Cos/LO</th><th>Data</th><th>ELV/HL</th><th>Energy</th><th>Entry</th><th>I78</th><th>M</th><th>MF</th></tr><tr><th></th><th title=\"Union{Missing, Float64}\">Float64?</th><th title=\"Union{Missing, Float64}\">Float64?</th><th title=\"Union{Missing, Float64}\">Float64?</th><th title=\"Union{Missing, Float64}\">Float64?</th><th title=\"Union{Missing, Float64}\">Float64?</th><th title=\"Union{Missing, Float64}\">Float64?</th><th title=\"Union{Missing, Float64}\">Float64?</th><th title=\"Union{Missing, Float64}\">Float64?</th></tr></thead><tbody><tr><th>1</th><td><em>missing</em></td><td><em>missing</em></td><td><em>missing</em></td><td><em>missing</em></td><td><em>missing</em></td><td><em>missing</em></td><td><em>missing</em></td><td><em>missing</em></td></tr><tr><th>2</th><td><em>missing</em></td><td><em>missing</em></td><td><em>missing</em></td><td><em>missing</em></td><td><em>missing</em></td><td><em>missing</em></td><td><em>missing</em></td><td><em>missing</em></td></tr><tr><th>3</th><td><em>missing</em></td><td><em>missing</em></td><td><em>missing</em></td><td><em>missing</em></td><td><em>missing</em></td><td><em>missing</em></td><td><em>missing</em></td><td><em>missing</em></td></tr><tr><th>4</th><td><em>missing</em></td><td><em>missing</em></td><td><em>missing</em></td><td><em>missing</em></td><td><em>missing</em></td><td><em>missing</em></td><td><em>missing</em></td><td><em>missing</em></td></tr><tr><th>5</th><td><em>missing</em></td><td><em>missing</em></td><td><em>missing</em></td><td><em>missing</em></td><td><em>missing</em></td><td><em>missing</em></td><td><em>missing</em></td><td><em>missing</em></td></tr><tr><th>6</th><td><em>missing</em></td><td><em>missing</em></td><td><em>missing</em></td><td><em>missing</em></td><td><em>missing</em></td><td><em>missing</em></td><td><em>missing</em></td><td><em>missing</em></td></tr><tr><th>7</th><td><em>missing</em></td><td><em>missing</em></td><td><em>missing</em></td><td><em>missing</em></td><td><em>missing</em></td><td><em>missing</em></td><td><em>missing</em></td><td><em>missing</em></td></tr><tr><th>8</th><td><em>missing</em></td><td><em>missing</em></td><td><em>missing</em></td><td><em>missing</em></td><td><em>missing</em></td><td><em>missing</em></td><td><em>missing</em></td><td><em>missing</em></td></tr><tr><th>9</th><td><em>missing</em></td><td><em>missing</em></td><td><em>missing</em></td><td><em>missing</em></td><td><em>missing</em></td><td><em>missing</em></td><td><em>missing</em></td><td><em>missing</em></td></tr><tr><th>10</th><td><em>missing</em></td><td><em>missing</em></td><td><em>missing</em></td><td><em>missing</em></td><td><em>missing</em></td><td><em>missing</em></td><td><em>missing</em></td><td><em>missing</em></td></tr><tr><th>11</th><td><em>missing</em></td><td><em>missing</em></td><td><em>missing</em></td><td><em>missing</em></td><td><em>missing</em></td><td><em>missing</em></td><td><em>missing</em></td><td><em>missing</em></td></tr><tr><th>12</th><td><em>missing</em></td><td><em>missing</em></td><td><em>missing</em></td><td><em>missing</em></td><td><em>missing</em></td><td><em>missing</em></td><td><em>missing</em></td><td><em>missing</em></td></tr><tr><th>13</th><td><em>missing</em></td><td><em>missing</em></td><td><em>missing</em></td><td><em>missing</em></td><td><em>missing</em></td><td><em>missing</em></td><td><em>missing</em></td><td><em>missing</em></td></tr><tr><th>14</th><td><em>missing</em></td><td><em>missing</em></td><td><em>missing</em></td><td><em>missing</em></td><td><em>missing</em></td><td><em>missing</em></td><td><em>missing</em></td><td><em>missing</em></td></tr><tr><th>15</th><td><em>missing</em></td><td><em>missing</em></td><td><em>missing</em></td><td><em>missing</em></td><td><em>missing</em></td><td><em>missing</em></td><td><em>missing</em></td><td><em>missing</em></td></tr><tr><th>16</th><td><em>missing</em></td><td><em>missing</em></td><td><em>missing</em></td><td><em>missing</em></td><td><em>missing</em></td><td><em>missing</em></td><td><em>missing</em></td><td><em>missing</em></td></tr><tr><th>17</th><td><em>missing</em></td><td><em>missing</em></td><td><em>missing</em></td><td><em>missing</em></td><td><em>missing</em></td><td><em>missing</em></td><td><em>missing</em></td><td><em>missing</em></td></tr><tr><th>18</th><td><em>missing</em></td><td><em>missing</em></td><td><em>missing</em></td><td><em>missing</em></td><td><em>missing</em></td><td><em>missing</em></td><td><em>missing</em></td><td><em>missing</em></td></tr><tr><th>19</th><td><em>missing</em></td><td><em>missing</em></td><td><em>missing</em></td><td><em>missing</em></td><td><em>missing</em></td><td><em>missing</em></td><td><em>missing</em></td><td><em>missing</em></td></tr><tr><th>20</th><td><em>missing</em></td><td><em>missing</em></td><td><em>missing</em></td><td><em>missing</em></td><td><em>missing</em></td><td><em>missing</em></td><td><em>missing</em></td><td><em>missing</em></td></tr><tr><th>21</th><td><em>missing</em></td><td><em>missing</em></td><td><em>missing</em></td><td><em>missing</em></td><td><em>missing</em></td><td><em>missing</em></td><td><em>missing</em></td><td><em>missing</em></td></tr><tr><th>22</th><td><em>missing</em></td><td><em>missing</em></td><td><em>missing</em></td><td><em>missing</em></td><td><em>missing</em></td><td><em>missing</em></td><td><em>missing</em></td><td><em>missing</em></td></tr><tr><th>23</th><td><em>missing</em></td><td><em>missing</em></td><td><em>missing</em></td><td><em>missing</em></td><td><em>missing</em></td><td><em>missing</em></td><td><em>missing</em></td><td><em>missing</em></td></tr><tr><th>24</th><td><em>missing</em></td><td><em>missing</em></td><td><em>missing</em></td><td><em>missing</em></td><td><em>missing</em></td><td><em>missing</em></td><td><em>missing</em></td><td><em>missing</em></td></tr><tr><th>&vellip;</th><td>&vellip;</td><td>&vellip;</td><td>&vellip;</td><td>&vellip;</td><td>&vellip;</td><td>&vellip;</td><td>&vellip;</td><td>&vellip;</td></tr></tbody></table></div>"
      ],
      "text/latex": [
       "\\begin{tabular}{r|ccccccccc}\n",
       "\t& Cos/LO & Data & ELV/HL & Energy & Entry & I78 & M & MF & \\\\\n",
       "\t\\hline\n",
       "\t& Float64? & Float64? & Float64? & Float64? & Float64? & Float64? & Float64? & Float64? & \\\\\n",
       "\t\\hline\n",
       "\t1 & \\emph{missing} & \\emph{missing} & \\emph{missing} & \\emph{missing} & \\emph{missing} & \\emph{missing} & \\emph{missing} & \\emph{missing} & $\\dots$ \\\\\n",
       "\t2 & \\emph{missing} & \\emph{missing} & \\emph{missing} & \\emph{missing} & \\emph{missing} & \\emph{missing} & \\emph{missing} & \\emph{missing} & $\\dots$ \\\\\n",
       "\t3 & \\emph{missing} & \\emph{missing} & \\emph{missing} & \\emph{missing} & \\emph{missing} & \\emph{missing} & \\emph{missing} & \\emph{missing} & $\\dots$ \\\\\n",
       "\t4 & \\emph{missing} & \\emph{missing} & \\emph{missing} & \\emph{missing} & \\emph{missing} & \\emph{missing} & \\emph{missing} & \\emph{missing} & $\\dots$ \\\\\n",
       "\t5 & \\emph{missing} & \\emph{missing} & \\emph{missing} & \\emph{missing} & \\emph{missing} & \\emph{missing} & \\emph{missing} & \\emph{missing} & $\\dots$ \\\\\n",
       "\t6 & \\emph{missing} & \\emph{missing} & \\emph{missing} & \\emph{missing} & \\emph{missing} & \\emph{missing} & \\emph{missing} & \\emph{missing} & $\\dots$ \\\\\n",
       "\t7 & \\emph{missing} & \\emph{missing} & \\emph{missing} & \\emph{missing} & \\emph{missing} & \\emph{missing} & \\emph{missing} & \\emph{missing} & $\\dots$ \\\\\n",
       "\t8 & \\emph{missing} & \\emph{missing} & \\emph{missing} & \\emph{missing} & \\emph{missing} & \\emph{missing} & \\emph{missing} & \\emph{missing} & $\\dots$ \\\\\n",
       "\t9 & \\emph{missing} & \\emph{missing} & \\emph{missing} & \\emph{missing} & \\emph{missing} & \\emph{missing} & \\emph{missing} & \\emph{missing} & $\\dots$ \\\\\n",
       "\t10 & \\emph{missing} & \\emph{missing} & \\emph{missing} & \\emph{missing} & \\emph{missing} & \\emph{missing} & \\emph{missing} & \\emph{missing} & $\\dots$ \\\\\n",
       "\t11 & \\emph{missing} & \\emph{missing} & \\emph{missing} & \\emph{missing} & \\emph{missing} & \\emph{missing} & \\emph{missing} & \\emph{missing} & $\\dots$ \\\\\n",
       "\t12 & \\emph{missing} & \\emph{missing} & \\emph{missing} & \\emph{missing} & \\emph{missing} & \\emph{missing} & \\emph{missing} & \\emph{missing} & $\\dots$ \\\\\n",
       "\t13 & \\emph{missing} & \\emph{missing} & \\emph{missing} & \\emph{missing} & \\emph{missing} & \\emph{missing} & \\emph{missing} & \\emph{missing} & $\\dots$ \\\\\n",
       "\t14 & \\emph{missing} & \\emph{missing} & \\emph{missing} & \\emph{missing} & \\emph{missing} & \\emph{missing} & \\emph{missing} & \\emph{missing} & $\\dots$ \\\\\n",
       "\t15 & \\emph{missing} & \\emph{missing} & \\emph{missing} & \\emph{missing} & \\emph{missing} & \\emph{missing} & \\emph{missing} & \\emph{missing} & $\\dots$ \\\\\n",
       "\t16 & \\emph{missing} & \\emph{missing} & \\emph{missing} & \\emph{missing} & \\emph{missing} & \\emph{missing} & \\emph{missing} & \\emph{missing} & $\\dots$ \\\\\n",
       "\t17 & \\emph{missing} & \\emph{missing} & \\emph{missing} & \\emph{missing} & \\emph{missing} & \\emph{missing} & \\emph{missing} & \\emph{missing} & $\\dots$ \\\\\n",
       "\t18 & \\emph{missing} & \\emph{missing} & \\emph{missing} & \\emph{missing} & \\emph{missing} & \\emph{missing} & \\emph{missing} & \\emph{missing} & $\\dots$ \\\\\n",
       "\t19 & \\emph{missing} & \\emph{missing} & \\emph{missing} & \\emph{missing} & \\emph{missing} & \\emph{missing} & \\emph{missing} & \\emph{missing} & $\\dots$ \\\\\n",
       "\t20 & \\emph{missing} & \\emph{missing} & \\emph{missing} & \\emph{missing} & \\emph{missing} & \\emph{missing} & \\emph{missing} & \\emph{missing} & $\\dots$ \\\\\n",
       "\t21 & \\emph{missing} & \\emph{missing} & \\emph{missing} & \\emph{missing} & \\emph{missing} & \\emph{missing} & \\emph{missing} & \\emph{missing} & $\\dots$ \\\\\n",
       "\t22 & \\emph{missing} & \\emph{missing} & \\emph{missing} & \\emph{missing} & \\emph{missing} & \\emph{missing} & \\emph{missing} & \\emph{missing} & $\\dots$ \\\\\n",
       "\t23 & \\emph{missing} & \\emph{missing} & \\emph{missing} & \\emph{missing} & \\emph{missing} & \\emph{missing} & \\emph{missing} & \\emph{missing} & $\\dots$ \\\\\n",
       "\t24 & \\emph{missing} & \\emph{missing} & \\emph{missing} & \\emph{missing} & \\emph{missing} & \\emph{missing} & \\emph{missing} & \\emph{missing} & $\\dots$ \\\\\n",
       "\t$\\dots$ & $\\dots$ & $\\dots$ & $\\dots$ & $\\dots$ & $\\dots$ & $\\dots$ & $\\dots$ & $\\dots$ &  \\\\\n",
       "\\end{tabular}\n"
      ],
      "text/plain": [
       "\u001b[1m225×18 DataFrame\u001b[0m\n",
       "\u001b[1m Row \u001b[0m│\u001b[1m Cos/LO   \u001b[0m\u001b[1m Data     \u001b[0m\u001b[1m ELV/HL   \u001b[0m\u001b[1m Energy   \u001b[0m\u001b[1m Entry    \u001b[0m\u001b[1m I78      \u001b[0m\u001b[1m M        \u001b[0m\u001b[1m M\u001b[0m ⋯\n",
       "\u001b[1m     \u001b[0m│\u001b[90m Float64? \u001b[0m\u001b[90m Float64? \u001b[0m\u001b[90m Float64? \u001b[0m\u001b[90m Float64? \u001b[0m\u001b[90m Float64? \u001b[0m\u001b[90m Float64? \u001b[0m\u001b[90m Float64? \u001b[0m\u001b[90m F\u001b[0m ⋯\n",
       "─────┼──────────────────────────────────────────────────────────────────────────\n",
       "   1 │\u001b[90m  missing \u001b[0m\u001b[90m  missing \u001b[0m\u001b[90m  missing \u001b[0m\u001b[90m  missing \u001b[0m\u001b[90m  missing \u001b[0m\u001b[90m  missing \u001b[0m\u001b[90m  missing \u001b[0m\u001b[90m  \u001b[0m ⋯\n",
       "   2 │\u001b[90m  missing \u001b[0m\u001b[90m  missing \u001b[0m\u001b[90m  missing \u001b[0m\u001b[90m  missing \u001b[0m\u001b[90m  missing \u001b[0m\u001b[90m  missing \u001b[0m\u001b[90m  missing \u001b[0m\u001b[90m\u001b[0m\n",
       "   3 │\u001b[90m  missing \u001b[0m\u001b[90m  missing \u001b[0m\u001b[90m  missing \u001b[0m\u001b[90m  missing \u001b[0m\u001b[90m  missing \u001b[0m\u001b[90m  missing \u001b[0m\u001b[90m  missing \u001b[0m\u001b[90m\u001b[0m\n",
       "   4 │\u001b[90m  missing \u001b[0m\u001b[90m  missing \u001b[0m\u001b[90m  missing \u001b[0m\u001b[90m  missing \u001b[0m\u001b[90m  missing \u001b[0m\u001b[90m  missing \u001b[0m\u001b[90m  missing \u001b[0m\u001b[90m\u001b[0m\n",
       "   5 │\u001b[90m  missing \u001b[0m\u001b[90m  missing \u001b[0m\u001b[90m  missing \u001b[0m\u001b[90m  missing \u001b[0m\u001b[90m  missing \u001b[0m\u001b[90m  missing \u001b[0m\u001b[90m  missing \u001b[0m\u001b[90m  \u001b[0m ⋯\n",
       "   6 │\u001b[90m  missing \u001b[0m\u001b[90m  missing \u001b[0m\u001b[90m  missing \u001b[0m\u001b[90m  missing \u001b[0m\u001b[90m  missing \u001b[0m\u001b[90m  missing \u001b[0m\u001b[90m  missing \u001b[0m\u001b[90m\u001b[0m\n",
       "   7 │\u001b[90m  missing \u001b[0m\u001b[90m  missing \u001b[0m\u001b[90m  missing \u001b[0m\u001b[90m  missing \u001b[0m\u001b[90m  missing \u001b[0m\u001b[90m  missing \u001b[0m\u001b[90m  missing \u001b[0m\u001b[90m\u001b[0m\n",
       "   8 │\u001b[90m  missing \u001b[0m\u001b[90m  missing \u001b[0m\u001b[90m  missing \u001b[0m\u001b[90m  missing \u001b[0m\u001b[90m  missing \u001b[0m\u001b[90m  missing \u001b[0m\u001b[90m  missing \u001b[0m\u001b[90m\u001b[0m\n",
       "  ⋮  │    ⋮         ⋮         ⋮         ⋮         ⋮         ⋮         ⋮        ⋱\n",
       " 219 │\u001b[90m  missing \u001b[0m\u001b[90m  missing \u001b[0m\u001b[90m  missing \u001b[0m\u001b[90m  missing \u001b[0m\u001b[90m  missing \u001b[0m\u001b[90m  missing \u001b[0m\u001b[90m  missing \u001b[0m\u001b[90m  \u001b[0m ⋯\n",
       " 220 │\u001b[90m  missing \u001b[0m\u001b[90m  missing \u001b[0m\u001b[90m  missing \u001b[0m\u001b[90m  missing \u001b[0m\u001b[90m  missing \u001b[0m\u001b[90m  missing \u001b[0m\u001b[90m  missing \u001b[0m\u001b[90m\u001b[0m\n",
       " 221 │\u001b[90m  missing \u001b[0m\u001b[90m  missing \u001b[0m\u001b[90m  missing \u001b[0m\u001b[90m  missing \u001b[0m\u001b[90m  missing \u001b[0m\u001b[90m  missing \u001b[0m\u001b[90m  missing \u001b[0m\u001b[90m\u001b[0m\n",
       " 222 │\u001b[90m  missing \u001b[0m\u001b[90m  missing \u001b[0m\u001b[90m  missing \u001b[0m\u001b[90m  missing \u001b[0m\u001b[90m  missing \u001b[0m\u001b[90m  missing \u001b[0m\u001b[90m  missing \u001b[0m\u001b[90m\u001b[0m\n",
       " 223 │\u001b[90m  missing \u001b[0m\u001b[90m  missing \u001b[0m\u001b[90m  missing \u001b[0m\u001b[90m  missing \u001b[0m\u001b[90m  missing \u001b[0m\u001b[90m  missing \u001b[0m\u001b[90m  missing \u001b[0m\u001b[90m  \u001b[0m ⋯\n",
       " 224 │\u001b[90m  missing \u001b[0m\u001b[90m  missing \u001b[0m\u001b[90m  missing \u001b[0m\u001b[90m  missing \u001b[0m\u001b[90m  missing \u001b[0m\u001b[90m  missing \u001b[0m\u001b[90m  missing \u001b[0m\u001b[90m\u001b[0m\n",
       " 225 │\u001b[90m  missing \u001b[0m\u001b[90m  missing \u001b[0m\u001b[90m  missing \u001b[0m\u001b[90m  missing \u001b[0m\u001b[90m  missing \u001b[0m\u001b[90m  missing \u001b[0m\u001b[90m  missing \u001b[0m\u001b[90m\u001b[0m\n",
       "\u001b[36m                                                 11 columns and 210 rows omitted\u001b[0m"
      ]
     },
     "metadata": {},
     "output_type": "display_data"
    }
   ],
   "source": [
    "DataFrame([Vector{Union{Missing, Float64}}(missing, n_rows(df_list)) for _ in 1:n_cols], names(df_list[1]))"
   ]
  },
  {
   "cell_type": "code",
   "execution_count": null,
   "metadata": {},
   "outputs": [],
   "source": []
  }
 ],
 "metadata": {
  "kernelspec": {
   "display_name": "Julia 1.7.2",
   "language": "julia",
   "name": "julia-1.7"
  },
  "language_info": {
   "file_extension": ".jl",
   "mimetype": "application/julia",
   "name": "julia",
   "version": "1.7.2"
  },
  "orig_nbformat": 4,
  "vscode": {
   "interpreter": {
    "hash": "274785dbb282d05f4e0ae2ca70ac66f1fa0484127cd60ef9f4ac2dd997977034"
   }
  }
 },
 "nbformat": 4,
 "nbformat_minor": 2
}
