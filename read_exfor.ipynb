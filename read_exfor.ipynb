{
 "cells": [
  {
   "cell_type": "code",
   "execution_count": 1,
   "metadata": {},
   "outputs": [],
   "source": [
    "using Unitful #https://painterqubits.github.io/Unitful.jl/stable/\n",
    "#quantity * @u_str(\"unit abbreviation\") \n",
    "using Symbolics #https://symbolics.juliasymbolics.org/dev/\n",
    "#cite https://doi.org/10.48550/arXiv.2105.03949\n",
    "using Latexify\n",
    "using Test\n",
    "#1 * @u_str(\"mA\") is 1 milliamp\n",
    "using CSV, DataFrames\n",
    "#using Plots\n",
    "using PlotlyJS\n",
    "using Printf\n",
    "using SymPy\n",
    "using PDFIO\n",
    "using Unzip\n",
    "using Interpolations\n",
    "using Plots\n",
    "#plotlyjs()"
   ]
  },
  {
   "cell_type": "code",
   "execution_count": null,
   "metadata": {},
   "outputs": [],
   "source": [
    "function check_line(line, start)\n",
    "    if length(line) > length(start) - 1\n",
    "        return (line[1:length(start)] == start)\n",
    "    end\n",
    "    return false\n",
    "end\n",
    "\n",
    "function make_spacing_dict(line1, line2)\n",
    "    spacing_ends = [collect(out)[1] for out in findall(\">\", line2)]\n",
    "    spacing_starts = append!([1], [collect(out)[1] for out in findall(\"<\", line2)])\n",
    "    #Find where some of the spacings begin and end based on the arrows\n",
    "    if length(spacing_ends) != length(spacing_starts)\n",
    "        print(\"Error: improper formatting\")\n",
    "        return \n",
    "    end\n",
    "    indices_with_gaps = [index for index in  1:length(spacing_ends)-1 if \n",
    "                    spacing_ends[index] != spacing_starts[index+1]-1]\n",
    "    #Some of the spacings are instead denoted by the letter o instead of arrows\n",
    "    missing_spacings = [spacing_ends[index]+1:spacing_starts[index+1]-1 for index in indices_with_gaps]\n",
    "    spacings = append!(missing_spacings, \n",
    "    [spacing_starts[i]:spacing_ends[i] for i in 1:length(spacing_ends)])\n",
    "    spacing_dict = Dict([])\n",
    "    #Make a dictionary where the keys are name for each column and the values are the indices of the columns\n",
    "    spacing_names = [spacing_dict[strip(line1[spacing], [' ', '#'])] = spacing for spacing in spacings]\n",
    "    return spacing_dict\n",
    "end\n",
    "\n",
    "function read_datum(datum)\n",
    "    #Reads a single datum from a line of data\n",
    "    datum = strip(datum, [' '])\n",
    "    out = tryparse(Float64, datum)\n",
    "    if out == nothing\n",
    "        return datum \n",
    "    end\n",
    "    return out\n",
    "end\n",
    "\n",
    "function read_data(index0, file_as_array)\n",
    "    spacing_dict = make_spacing_dict(file_as_array[index0], file_as_array[index0 + 1])\n",
    "    lines_of_data = tryparse(Int64, split(file_as_array[index0 - 1], [' '])[end])\n",
    "    data_dict = Dict([])\n",
    "    out = [data_dict[key] =  [read_datum(line[spacing_dict[key]])\n",
    "        for line in file_as_array[index0 + 2 : index0 + 1 + lines_of_data]]\n",
    "            for key in keys(spacing_dict)]        \n",
    "    return data_dict\n",
    "end"
   ]
  },
  {
   "cell_type": "code",
   "execution_count": 87,
   "metadata": {},
   "outputs": [
    {
     "data": {
      "text/plain": [
       "13-element Vector{Int64}:\n",
       "  26\n",
       "  67\n",
       " 110\n",
       " 206\n",
       " 302\n",
       " 340\n",
       " 376\n",
       " 411\n",
       " 455\n",
       " 509\n",
       " 557\n",
       " 601\n",
       " 649"
      ]
     },
     "metadata": {},
     "output_type": "display_data"
    }
   ],
   "source": [
    "data_dir = \"C:\\\\Cross-Section-Data\\\\EXFOR\\\\\"\n",
    "file_as_array = split(open(f->read(f, String), path), \"\\n\")\n",
    "spacing_specifiers = [index for index in 1:length(file_as_array) \n",
    "                    if check_line(file_as_array[index], \"# Prj\")]"
   ]
  },
  {
   "cell_type": "code",
   "execution_count": 161,
   "metadata": {},
   "outputs": [
    {
     "data": {
      "text/plain": [
       "Dict{Any, Any} with 18 entries:\n",
       "  \"Targ\"       => [1001.0, 1001.0, 1001.0, 1001.0, 1001.0, 1001.0, 1001.0, 1001…\n",
       "  \"Entry\"      => SubString{String}[\"K2066\", \"K2066\", \"K2066\", \"K2066\", \"K2066\"…\n",
       "  \"dCos/LO\"    => SubString{String}[\"\", \"\", \"\", \"\", \"\", \"\", \"\", \"\"]\n",
       "  \"I78\"        => SubString{String}[\"\", \"\", \"\", \"\", \"\", \"\", \"\", \"\"]\n",
       "  \"dEnergy\"    => SubString{String}[\"4.0000+7\", \"4.0000+7\", \"4.0000+7\", \"4.0000…\n",
       "  \"dELV/HL\"    => SubString{String}[\"\", \"\", \"\", \"\", \"\", \"\", \"\", \"\"]\n",
       "  \"M\"          => SubString{String}[\"\", \"\", \"\", \"\", \"\", \"\", \"\", \"\"]\n",
       "  \"Refer (YY)\" => SubString{String}[\"S.Homma,ET.AL. (74)\", \"S.Homma,ET.AL. (74)…\n",
       "  \"Prj\"        => [0.0, 0.0, 0.0, 0.0, 0.0, 0.0, 0.0, 0.0]\n",
       "  \"Energy\"     => SubString{String}[\"3.3000+8\", \"4.1000+8\", \"5.2000+8\", \"6.0000…\n",
       "  \"Cos/LO\"     => SubString{String}[\"\", \"\", \"\", \"\", \"\", \"\", \"\", \"\"]\n",
       "  \"ELV/HL\"     => SubString{String}[\"\", \"\", \"\", \"\", \"\", \"\", \"\", \"\"]\n",
       "  \"MF\"         => [3.0, 3.0, 3.0, 3.0, 3.0, 3.0, 3.0, 3.0]\n",
       "  \"dData\"      => SubString{String}[\"1.5000-4\", \"1.5000-4\", \"1.8000-4\", \"1.8000…\n",
       "  \"Data\"       => [0.01876, 0.01906, 0.01925, 0.01932, 0.01932, 0.01952, 0.0196…\n",
       "  \"Sub\"        => [7.0, 7.0, 7.0, 7.0, 7.0, 7.0, 7.0, 7.0]\n",
       "  \"PXC\"        => SubString{String}[\"\", \"\", \"\", \"\", \"\", \"\", \"\", \"\"]\n",
       "  \"MT\"         => [1.0, 1.0, 1.0, 1.0, 1.0, 1.0, 1.0, 1.0]"
      ]
     },
     "metadata": {},
     "output_type": "display_data"
    }
   ],
   "source": [
    "DataFrame(read_data(spacing_specifiers[1], file_as_array))"
   ]
  },
  {
   "cell_type": "code",
   "execution_count": 84,
   "metadata": {},
   "outputs": [
    {
     "data": {
      "text/plain": [
       "Dict{Any, Any} with 19 entries:\n",
       "  \"Targ\"       => 6:11\n",
       "  \"Entry\"      => 123:127\n",
       "  \"P\"          => 131:131\n",
       "  \"dCos/LO\"    => 68:76\n",
       "  \"I78\"        => 95:97\n",
       "  \"dEnergy\"    => 32:40\n",
       "  \"dELV/HL\"    => 86:94\n",
       "  \"M\"          => 12:12\n",
       "  \"Refer (YY)\" => 98:122\n",
       "  \"Prj\"        => 1:5\n",
       "  \"Energy\"     => 23:31\n",
       "  \"Cos/LO\"     => 59:67\n",
       "  \"ELV/HL\"     => 77:85\n",
       "  \"MF\"         => 13:15\n",
       "  \"dData\"      => 50:58\n",
       "  \"Data\"       => 41:49\n",
       "  \"Sub\"        => 128:130\n",
       "  \"PXC\"        => 20:22\n",
       "  \"MT\"         => 16:19"
      ]
     },
     "metadata": {},
     "output_type": "display_data"
    }
   ],
   "source": [
    "line1 = \"# Prj Targ M MF MT PXC  Energy  dEnergy  Data      dData   Cos/LO   dCos/LO   ELV/HL  dELV/HL I78 Refer (YY)              EntrySubP\"\n",
    "line2 = \"#---><---->o<-><-->ooo<-------><-------><-------><-------><-------><-------><-------><-------><-><-----------------------><---><->o\"\n",
    "make_spacing_dict(line1, line2)"
   ]
  },
  {
   "cell_type": "code",
   "execution_count": null,
   "metadata": {},
   "outputs": [],
   "source": []
  }
 ],
 "metadata": {
  "kernelspec": {
   "display_name": "Julia 1.7.2",
   "language": "julia",
   "name": "julia-1.7"
  },
  "language_info": {
   "file_extension": ".jl",
   "mimetype": "application/julia",
   "name": "julia",
   "version": "1.7.2"
  },
  "orig_nbformat": 4,
  "vscode": {
   "interpreter": {
    "hash": "274785dbb282d05f4e0ae2ca70ac66f1fa0484127cd60ef9f4ac2dd997977034"
   }
  }
 },
 "nbformat": 4,
 "nbformat_minor": 2
}
