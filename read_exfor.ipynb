{
 "cells": [
  {
   "cell_type": "code",
   "execution_count": 1,
   "metadata": {},
   "outputs": [],
   "source": [
    "using Unitful #https://painterqubits.github.io/Unitful.jl/stable/\n",
    "#quantity * @u_str(\"unit abbreviation\") \n",
    "using Symbolics #https://symbolics.juliasymbolics.org/dev/\n",
    "#cite https://doi.org/10.48550/arXiv.2105.03949\n",
    "using Latexify\n",
    "using Test\n",
    "#1 * @u_str(\"mA\") is 1 milliamp\n",
    "using CSV, DataFrames\n",
    "#using Plots\n",
    "using PlotlyJS\n",
    "using Printf\n",
    "using SymPy\n",
    "using PDFIO\n",
    "using Unzip\n",
    "using Interpolations\n",
    "using Plots\n",
    "#plotlyjs()"
   ]
  },
  {
   "cell_type": "code",
   "execution_count": 2,
   "metadata": {},
   "outputs": [
    {
     "data": {
      "text/plain": [
       "\"C:\\\\Cross-Section-Data\\\\EXFOR\\\\\""
      ]
     },
     "metadata": {},
     "output_type": "display_data"
    }
   ],
   "source": [
    "data_dir = \"C:\\\\Cross-Section-Data\\\\EXFOR\\\\\""
   ]
  },
  {
   "cell_type": "code",
   "execution_count": 25,
   "metadata": {},
   "outputs": [
    {
     "data": {
      "text/plain": [
       "check_line (generic function with 1 method)"
      ]
     },
     "metadata": {},
     "output_type": "display_data"
    }
   ],
   "source": [
    "function check_line(line, start)\n",
    "    if length(line) > length(start) - 1\n",
    "        return (line[1:length(start)] == start)\n",
    "    end\n",
    "    return false\n",
    "end\n",
    "\n",
    "function read_spacing()\n",
    "\n",
    "function_read_data()"
   ]
  },
  {
   "cell_type": "code",
   "execution_count": 28,
   "metadata": {},
   "outputs": [
    {
     "data": {
      "text/plain": [
       "13-element Vector{Int64}:\n",
       "  26\n",
       "  67\n",
       " 110\n",
       " 206\n",
       " 302\n",
       " 340\n",
       " 376\n",
       " 411\n",
       " 455\n",
       " 509\n",
       " 557\n",
       " 601\n",
       " 649"
      ]
     },
     "metadata": {},
     "output_type": "display_data"
    }
   ],
   "source": [
    "path = data_dir * \"gammas\\\\001_H_001.c4\"\n",
    "file_as_array = split(open(f->read(f, String), path), \"\\n\")\n",
    "space_specifiers = [index for index in 1:length(file_as_array) \n",
    "                    if check_line(file_as_array[index], \"# Prj\")]\n"
   ]
  },
  {
   "cell_type": "code",
   "execution_count": 50,
   "metadata": {},
   "outputs": [
    {
     "data": {
      "text/plain": [
       "3-element Vector{Int64}:\n",
       "  11\n",
       "   7\n",
       " 108"
      ]
     },
     "metadata": {},
     "output_type": "display_data"
    }
   ],
   "source": [
    "line1 = \"# Prj Targ M MF MT PXC  Energy  dEnergy  Data      dData   Cos/LO   dCos/LO   ELV/HL  dELV/HL I78 Refer (YY)              EntrySubP\"\n",
    "line2 = \"#---><---->o<-><-->ooo<-------><-------><-------><-------><-------><-------><-------><-------><-><-----------------------><---><->o\"\n",
    "spacing_ends = [collect(out)[1] for out in findall(\">\", line2)]\n",
    "spacing_starts = append!([1], [collect(out)[1] for out in findall(\"<\", line2)])\n",
    "length(spacing_ends) == length(spacing_starts)\n",
    "o_indices = [length(out) for out in split(line2, \"o\") if length(out) > 0]"
   ]
  },
  {
   "cell_type": "code",
   "execution_count": 69,
   "metadata": {},
   "outputs": [
    {
     "data": {
      "text/plain": [
       "19-element Vector{UnitRange{Int64}}:\n",
       " 12:12\n",
       " 20:22\n",
       " 1:5\n",
       " 6:11\n",
       " 13:15\n",
       " 16:19\n",
       " 23:31\n",
       " 32:40\n",
       " 41:49\n",
       " 50:58\n",
       " 59:67\n",
       " 68:76\n",
       " 77:85\n",
       " 86:94\n",
       " 95:97\n",
       " 98:122\n",
       " 123:127\n",
       " 128:130\n",
       " 131:131"
      ]
     },
     "metadata": {},
     "output_type": "display_data"
    }
   ],
   "source": [
    "indices_with_gaps = [index for index in  1:length(spacing_ends)-1 if \n",
    "                    spacing_ends[index] != spacing_starts[index+1]-1]\n",
    "missing_spacings = [spacing_ends[index]+1:spacing_starts[index+1]-1 for index in indices_with_gaps]\n",
    "spacings = append!(missing_spacings, \n",
    "[spacing_starts[i]:spacing_ends[i] for i in 1:length(spacing_ends)])\n",
    "spacings = append!(spacings, [length(line2):length(line2)])\n",
    "spacing_dict = Dict([])\n",
    "spacing_names = [spacing_dict[line1[spacing]] = spacing for spacing in spacings]\n",
    "spacing_dict"
   ]
  },
  {
   "cell_type": "code",
   "execution_count": null,
   "metadata": {},
   "outputs": [],
   "source": []
  }
 ],
 "metadata": {
  "kernelspec": {
   "display_name": "Julia 1.7.2",
   "language": "julia",
   "name": "julia-1.7"
  },
  "language_info": {
   "file_extension": ".jl",
   "mimetype": "application/julia",
   "name": "julia",
   "version": "1.7.2"
  },
  "orig_nbformat": 4,
  "vscode": {
   "interpreter": {
    "hash": "274785dbb282d05f4e0ae2ca70ac66f1fa0484127cd60ef9f4ac2dd997977034"
   }
  }
 },
 "nbformat": 4,
 "nbformat_minor": 2
}
