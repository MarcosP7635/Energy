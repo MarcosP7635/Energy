{
  "cells": [
    {
      "cell_type": "markdown",
      "metadata": {},
      "source": [
        "https://www.zotero.org/groups/4549380/batteries/collections/3BVK4M92/items/CIPEU8WY/collection \n",
        "\n",
        "https://link.springer.com/book/10.1007/3-540-31718-X \n",
        "\n"
      ]
    },
    {
      "cell_type": "markdown",
      "metadata": {},
      "source": [
        "Should I consider a larger variety of projectiles? Perhaps a larger projectile would have a larger cross section? \"While beams of small molecules like H $_2^+$ and low hydrocarbons have long been available, present-day technology allows to ac-\n",
        "celerate metal clusters or fullerene (C $_{60}$) ions up to energies in the MeV range\n",
        "(Della-Negra et al., 1993)\"\n",
        "\n",
        "The geometry of the medium and electron diffraction are of key importance for the channeling direction and beam of a projectile. \n",
        "\n",
        "Read Chapter 1.\n",
        "Chapter 2!\n",
        "\n",
        "With high beam current, some of the particles in the beam might interact with each other. \n",
        "The exponential probability of interaction (Lambert and Beer's law) is a result of the Poisson distribution. The probability of $n$ particles in an ideal gas to be located in a volume $x\\sigma_A$ is \n",
        "\\begin{equation}\n",
        "\\begin{split}\n",
        "P_n = \\frac{(Nv)^n}{n!}e^{-Nv}\\\\\n",
        "\\end{split}\n",
        "\\end{equation}\n",
        "where $N$ is the average density of the ideal gas. Now assume that for a projectile with enery $E$ we have for each index $j$ of a discrete energy transition with each corresponding to $n$ possible collisions\n",
        "\\begin{equation}\n",
        "\\begin{split}\n",
        "\\Delta E = \\sum_{j}n_j T_j\\\\\n",
        "\\end{split}\n",
        "\\end{equation}\n",
        "And thus for the average change in energy we have\n",
        "\\begin{equation}\n",
        "\\begin{split}\n",
        "\\langle\\Delta E\\rangle = \\sum_{j}\\langle n_j\\rangle T_j\\\\\n",
        "\\end{split}\n",
        "\\end{equation}\n",
        "from which we now define the energy loss cross section and make the substitution\n",
        "\\begin{equation}\n",
        "\\begin{split}\n",
        "\\langle n_j\\rangle = N\\Delta x\\langle \\sigma_j\\rangle\\\\\n",
        "\\langle\\Delta E\\rangle = \\sum_{j}N\\Delta x\\langle \\sigma_j\\rangle T_j\\\\\n",
        "\\end{split}\n",
        "\\end{equation}\n",
        "where now define the stopping cross section $S$ and the stopping power $\\frac{\\langle\\Delta E\\rangle}{\\Delta x}$\n",
        "\\begin{equation}\n",
        "\\begin{split}\n",
        "S = \\sum_j\\sigma_j T_j\\\\\n",
        "\\frac{\\langle\\Delta E\\rangle}{\\Delta x} = NS = \\sum_{j}N\\langle \\sigma_j\\rangle T_j\\\\\n",
        "\\end{split}\n",
        "\\end{equation}"
      ]
    },
    {
      "cell_type": "code",
      "execution_count": null,
      "metadata": {},
      "outputs": [],
      "source": []
    }
  ],
  "metadata": {
    "colab": {
      "name": "Particle and Radiation Effects.ipynb",
      "provenance": []
    },
    "kernelspec": {
      "display_name": "Python 3",
      "name": "python3"
    },
    "language_info": {
      "name": "python"
    }
  },
  "nbformat": 4,
  "nbformat_minor": 0
}
