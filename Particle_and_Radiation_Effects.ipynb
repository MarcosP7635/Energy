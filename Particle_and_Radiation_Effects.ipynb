{
  "cells": [
    {
      "cell_type": "markdown",
      "metadata": {},
      "source": [
        "https://www.zotero.org/groups/4549380/batteries/collections/3BVK4M92/items/CIPEU8WY/collection \n",
        "\n",
        "https://link.springer.com/book/10.1007/3-540-31718-X \n",
        "\n"
      ]
    },
    {
      "cell_type": "markdown",
      "metadata": {},
      "source": [
        "Should I consider a larger variety of projectiles? Perhaps a larger projectile would have a larger cross section? \"While beams of small molecules like H $_2^+$ and low hydrocarbons have long been available, present-day technology allows to ac-\n",
        "celerate metal clusters or fullerene (C $_{60}$) ions up to energies in the MeV range\n",
        "(Della-Negra et al., 1993)\"\n",
        "\n",
        "The geometry of the medium and electron diffraction are of key importance for the channeling direction and beam of a projectile. \n",
        "\n",
        "Read Chapter 1. Need to do the problems on page 43 of the file, 22 in the book."
      ]
    }
  ],
  "metadata": {
    "colab": {
      "name": "Particle and Radiation Effects.ipynb",
      "provenance": []
    },
    "kernelspec": {
      "display_name": "Python 3",
      "name": "python3"
    },
    "language_info": {
      "name": "python"
    }
  },
  "nbformat": 4,
  "nbformat_minor": 0
}
