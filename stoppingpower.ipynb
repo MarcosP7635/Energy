{
 "cells": [
  {
   "cell_type": "markdown",
   "metadata": {},
   "source": [
    "The stopping power of a material in J/m is $S(E)$. Thus we have \n",
    "\\begin{equation}\n",
    "\\begin{split}\n",
    "\\frac{dE}{dx} = S(E)\\\\\n",
    "E = \\int S(E) dx\n",
    "\\end{split}\n",
    "\\end{equation}\n",
    "How do I write $S(E)$ in terms of $x$? I would have to first find $E(x)$\n",
    "\\begin{equation}\n",
    "\\begin{split}\n",
    "\\frac{dE(x)}{dx} = S(E(x))\\\\\n",
    "E(x) = \\int S(E(x)) dx\\\\\n",
    "\\end{split}\n",
    "\\end{equation}\n",
    "We define $E(x=0) = E_0$ which gives\n",
    "\\begin{equation}\n",
    "\\begin{split}\n",
    "\\frac{dE(x=0)}{dx} = S(E_0)\\\\\n",
    "E(x=dx) = E_0 + S(E_0)\\\\\n",
    "\\frac{dE(x=dx)}{dx} = S(E(x=dx)) = S(E_0+S(E_0))\\\\\n",
    "E(x=2dx) = E(x=dx) + S(E(x=dx)) = E_0 + S(E_0) + S(E_0+S(E_0))\\\\\n",
    "\\end{split}\n",
    "\\end{equation}\n",
    "\n",
    "\n",
    "\n"
   ]
  },
  {
   "cell_type": "markdown",
   "metadata": {},
   "source": [
    "I now define $E(x=\\alpha) = E_\\alpha$. \n",
    "Now I will use induction to prove the following recursive formula for $E(x=ndx)$ where $n\\in\\mathbb{Z}, n>0$\n",
    "\\begin{equation}\n",
    "\\begin{split}\n",
    "E_{ndx} = f_n\\\\\n",
    "f_1 = E_0 + S(E_0)\\\\\n",
    "f_n = f_{n-1} + S(f_{n-1}) \n",
    "\\end{split}\n",
    "\\end{equation}\n",
    "We have already shown that it holds for $n=1$ and $n=2$, so now we will show that if it holds for $n$, then it must also hold for $n+1$. Thus we have\n",
    "\\begin{equation}\n",
    "\\begin{split}\n",
    "E_{ndx} = f_n\\\\\n",
    "E_{(n+1)dx} = \\frac{dE_{ndx}}{dx} + E_{ndx}\\\\\n",
    "E_{(n+1)dx} = \\frac{dE_{ndx}}{dx} + f_n\\\\\n",
    "E_{(n+1)dx} = S(f_n) + f_n = f_{n+1}\\\\\n",
    "\\end{split}\n",
    "\\end{equation}\n",
    "\n"
   ]
  },
  {
   "cell_type": "code",
   "execution_count": null,
   "metadata": {},
   "outputs": [],
   "source": []
  }
 ],
 "metadata": {
  "language_info": {
   "name": "python"
  },
  "orig_nbformat": 4
 },
 "nbformat": 4,
 "nbformat_minor": 2
}
