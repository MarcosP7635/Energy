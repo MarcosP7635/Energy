{
 "cells": [
  {
   "cell_type": "markdown",
   "metadata": {},
   "source": [
    "The stopping power of a material in J/m is $S(E)$. Thus we have \n",
    "\\begin{equation}\n",
    "\\begin{split}\n",
    "\\frac{dE}{dx} = S(E)\\\\\n",
    "E = \\int S(E) dx\n",
    "\\end{split}\n",
    "\\end{equation}\n",
    "How do I write $S(E)$ in terms of $x$? I would have to first find $E(x)$\n",
    "\\begin{equation}\n",
    "\\begin{split}\n",
    "\\frac{dE(x)}{dx} = S(E(x))\\\\\n",
    "E(x) = \\int S(E(x)) dx\\\\\n",
    "\\end{split}\n",
    "\\end{equation}\n",
    "We define $E(x=0) = E_0$ which gives\n",
    "\\begin{equation}\n",
    "\\begin{split}\n",
    "\\frac{dE(x=0)}{dx} = S(E_0)\\\\\n",
    "E(x=dx) = E_0 + S(E_0)\\\\\n",
    "\\frac{dE(x=dx)}{dx} = S(E(x=dx)) = S(E_0+S(E_0))\\\\\n",
    "E(x=2dx) = E(x=dx) + S(E(x=dx)) = E_0 + S(E_0) + S(E_0+S(E_0))\\\\\n",
    "\\end{split}\n",
    "\\end{equation}\n",
    "\n",
    "\n",
    "\n"
   ]
  },
  {
   "cell_type": "markdown",
   "metadata": {},
   "source": [
    "I now define $E(x=\\alpha) = E_\\alpha$. \n",
    "Now I will use induction to prove the following recursive formula for $E(x=ndx)$ where $n\\in\\mathbb{Z}, n>0$\n",
    "\\begin{equation}\n",
    "\\begin{split}\n",
    "E_{ndx} = f_n\\\\\n",
    "f_1 = E_0 + S(E_0)\\\\\n",
    "f_n = f_{n-1} + S(f_{n-1}) \n",
    "\\end{split}\n",
    "\\end{equation}\n",
    "We have already shown that it holds for $n=1$ and $n=2$, so now we will show that if it holds for $n$, then it must also hold for $n+1$. Thus we have\n",
    "\\begin{equation}\n",
    "\\begin{split}\n",
    "E_{ndx} = f_n\\\\\n",
    "E_{(n+1)dx} = \\frac{dE_{ndx}}{dx} + E_{ndx}\\\\\n",
    "E_{(n+1)dx} = \\frac{dE_{ndx}}{dx} + f_n\\\\\n",
    "E_{(n+1)dx} = S(f_n) + f_n = f_{n+1}\\\\\n",
    "\\end{split}\n",
    "\\end{equation}\n",
    "\n"
   ]
  },
  {
   "cell_type": "markdown",
   "metadata": {},
   "source": [
    "Now to write an implementation of the Bethe Bloch formula"
   ]
  },
  {
   "cell_type": "code",
   "execution_count": 1,
   "metadata": {},
   "outputs": [],
   "source": [
    "using Unitful #https://painterqubits.github.io/Unitful.jl/stable/\n",
    "#quantity * @u_str(\"unit abbreviation\") \n",
    "using Symbolics #https://symbolics.juliasymbolics.org/dev/\n",
    "#cite https://doi.org/10.48550/arXiv.2105.03949\n",
    "using Latexify\n",
    "using Test\n",
    "#1 * @u_str(\"mA\") is 1 milliamp\n",
    "using CSV, DataFrames\n",
    "#using Plots\n",
    "using PlotlyJS\n",
    "using Printf\n",
    "using SymPy\n",
    "using PDFIO\n",
    "using Unzip"
   ]
  },
  {
   "cell_type": "code",
   "execution_count": 26,
   "metadata": {},
   "outputs": [
    {
     "data": {
      "text/latex": [
       "$\\frac{N_{A} Z z^{6} ρ \\left(\\log{\\left(\\frac{2 m_{e} v^{2}}{ε_{0} \\cdot \\left(1 - \\frac{v^{2}}{c^{2}}\\right)} \\right)} - \\frac{v^{2}}{c^{2}}\\right)}{4 A M_{u} e^{2} m_{e} v^{2} π}$"
      ],
      "text/plain": [
       "           /   /         2  \\    2\\\n",
       "       6   |   |  2*m_e*v   |   v |\n",
       "N_A*Z*z *ρ*|log|------------| - --|\n",
       "           |   |    /     2\\|    2|\n",
       "           |   |    |    v ||   c |\n",
       "           |   |ε_0*|1 - --||     |\n",
       "           |   |    |     2||     |\n",
       "           \\   \\    \\    c //     /\n",
       "-----------------------------------\n",
       "                 2      2          \n",
       "        4*A*M_u*e *m_e*v *π        "
      ]
     },
     "metadata": {},
     "output_type": "display_data"
    }
   ],
   "source": [
    "β, v, c, m_e, π, n, z, e, ε_0, I = symbols(\"β v c m_e π n z z e ε_0 I\") \n",
    "N_A, Z, A, M_u, ρ = symbols(\"N_A Z A M_u ρ\")\n",
    "n = N_A * Z * ρ / (A* M_u)\n",
    "β = v/c\n",
    "S = ((4π*n*(z^2)/ (m_e * c^2 * β^2)) * ((e^2 / (4*π*ε_0))^2) \n",
    "    * (log((2m_e * c^2 * β^2)/(I*(1-β^2)))-β^2)) "
   ]
  },
  {
   "cell_type": "code",
   "execution_count": null,
   "metadata": {},
   "outputs": [],
   "source": []
  }
 ],
 "metadata": {
  "kernelspec": {
   "display_name": "Julia 1.7.2",
   "language": "julia",
   "name": "julia-1.7"
  },
  "language_info": {
   "file_extension": ".jl",
   "mimetype": "application/julia",
   "name": "julia",
   "version": "1.7.2"
  },
  "orig_nbformat": 4,
  "vscode": {
   "interpreter": {
    "hash": "93e603b405028e2ab398d7a85d86124a7ac0b053113ed31068605d4be5533369"
   }
  }
 },
 "nbformat": 4,
 "nbformat_minor": 2
}
