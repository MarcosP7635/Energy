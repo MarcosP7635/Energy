{
 "cells": [
  {
   "cell_type": "markdown",
   "metadata": {},
   "source": [
    "The stopping power of a material in J/m is $S(E)$. Thus we have \n",
    "\\begin{equation}\n",
    "\\begin{split}\n",
    "\\frac{dE}{dx} = S(E)\\\\\n",
    "E = \\int S(E) dx\n",
    "\\end{split}\n",
    "\\end{equation}\n",
    "How do I write $S(E)$ in terms of $x$? I would have to first find $E(x)$\n",
    "\\begin{equation}\n",
    "\\begin{split}\n",
    "\\frac{dE(x)}{dx} = S(E(x))\\\\\n",
    "E(x) = \\int S(E(x)) dx\\\\\n",
    "\\end{split}\n",
    "\\end{equation}\n",
    "We define $E(x=0) = E_0$ which gives\n",
    "\\begin{equation}\n",
    "\\begin{split}\n",
    "\\frac{dE(x=0)}{dx} = S(E_0)\\\\\n",
    "E(x=dx) = E_0 + S(E_0)\\\\\n",
    "\\frac{dE(x=dx)}{dx} = S(E(x=dx)) = S(E_0+S(E_0))\\\\\n",
    "E(x=2dx) = E(x=dx) + S(E(x=dx)) = E_0 + S(E_0) + S(E_0+S(E_0))\\\\\n",
    "\\end{split}\n",
    "\\end{equation}\n",
    "\n",
    "\n",
    "\n"
   ]
  },
  {
   "cell_type": "markdown",
   "metadata": {},
   "source": [
    "I now define $E(x=\\alpha) = E_\\alpha$. \n",
    "Now I will use induction to prove the following recursive formula for $E(x=ndx)$ where $n\\in\\mathbb{Z}, n>0$\n",
    "\\begin{equation}\n",
    "\\begin{split}\n",
    "E_{ndx} = f_n\\\\\n",
    "f_1 = E_0 + S(E_0)\\\\\n",
    "f_n = f_{n-1} + S(f_{n-1}) \n",
    "\\end{split}\n",
    "\\end{equation}\n",
    "We have already shown that it holds for $n=1$ and $n=2$, so now we will show that if it holds for $n$, then it must also hold for $n+1$. Thus we have\n",
    "\\begin{equation}\n",
    "\\begin{split}\n",
    "E_{ndx} = f_n\\\\\n",
    "E_{(n+1)dx} = \\frac{dE_{ndx}}{dx} + E_{ndx}\\\\\n",
    "E_{(n+1)dx} = \\frac{dE_{ndx}}{dx} + f_n\\\\\n",
    "E_{(n+1)dx} = S(f_n) + f_n = f_{n+1}\\\\\n",
    "\\end{split}\n",
    "\\end{equation}\n",
    "\n"
   ]
  },
  {
   "cell_type": "markdown",
   "metadata": {},
   "source": [
    "Now to write an implementation of the Bethe Bloch formula"
   ]
  },
  {
   "cell_type": "code",
   "execution_count": 1,
   "metadata": {},
   "outputs": [],
   "source": [
    "using Unitful #https://painterqubits.github.io/Unitful.jl/stable/\n",
    "#quantity * @u_str(\"unit abbreviation\") \n",
    "using Symbolics #https://symbolics.juliasymbolics.org/dev/\n",
    "#cite https://doi.org/10.48550/arXiv.2105.03949\n",
    "using Latexify\n",
    "using Test\n",
    "#1 * @u_str(\"mA\") is 1 milliamp\n",
    "using CSV, DataFrames\n",
    "#using Plots\n",
    "using PlotlyJS\n",
    "using Printf\n",
    "using SymPy\n",
    "using PDFIO\n",
    "using Unzip"
   ]
  },
  {
   "cell_type": "markdown",
   "metadata": {},
   "source": [
    "z is the charge of the incoming particle and Z is the atomic number of the product. "
   ]
  },
  {
   "cell_type": "code",
   "execution_count": 37,
   "metadata": {},
   "outputs": [
    {
     "data": {
      "text/latex": [
       "$- \\frac{6.71049597867201 \\cdot 10^{77} Z z^{6} ρ \\left(- \\frac{v^{2}}{89875517873681764} + \\log{\\left(\\frac{1.13712592191006 \\cdot 10^{-12} v^{2}}{Z \\left(1 - \\frac{v^{2}}{89875517873681764}\\right)} \\right)}\\right)}{A v^{2}}$"
      ],
      "text/plain": [
       "                             /           2             /                      \n",
       "                         6   |          v              | 1.13712592191006e-12*\n",
       "-6.71049597867201e+77*Z*z *ρ*|- ----------------- + log|----------------------\n",
       "                             |  89875517873681764      |  /             2     \n",
       "                             |                         |  |            v      \n",
       "                             |                         |Z*|1 - ---------------\n",
       "                             \\                         \\  \\    898755178736817\n",
       "------------------------------------------------------------------------------\n",
       "                                           2                                  \n",
       "                                        A*v                                   \n",
       "\n",
       " 2 \\\\ \n",
       "v  || \n",
       "---|| \n",
       "  \\|| \n",
       "  ||| \n",
       "--||| \n",
       "64/// \n",
       "------\n",
       "      \n",
       "      "
      ]
     },
     "metadata": {},
     "output_type": "display_data"
    }
   ],
   "source": [
    "β, v, c, m_e, π, n, z, e, ε_0, I = symbols(\"β v c m_e π n z z e ε_0 I\") \n",
    "N_A, Z, A, M_u, ρ = symbols(\"N_A Z A M_u ρ\")\n",
    "N_A = 6.02214076e23 #avogadro's constant\n",
    "m_e = 9.10938291e-31 #electron mass in kg\n",
    "π = pi\n",
    "ε_0 = 8.854187817e-12 #permittivity of free space in F/m\n",
    "I = Z * uconvert(u\"J\", 10u\"eV\") / u\"J\"\n",
    "M_u = 0.99999999965 / 1000\n",
    "c = 299792458 #m/s\n",
    "n = N_A * Z * ρ / (A* M_u)\n",
    "β = v/c\n",
    "#for our purpose Z is also the molar mass  in grams\n",
    "S = -((4π*n*(z^2)/ (m_e * c^2 * β^2)) * ((e^2 / (4*π*ε_0))^2) \n",
    "    * (log((2m_e * c^2 * β^2)/(I*(1-β^2)))-β^2)) "
   ]
  },
  {
   "cell_type": "code",
   "execution_count": 31,
   "metadata": {},
   "outputs": [
    {
     "data": {
      "text/plain": [
       "1.602176634e-18"
      ]
     },
     "metadata": {},
     "output_type": "display_data"
    }
   ],
   "source": [
    "#speed of light \n"
   ]
  },
  {
   "cell_type": "code",
   "execution_count": null,
   "metadata": {},
   "outputs": [],
   "source": []
  }
 ],
 "metadata": {
  "kernelspec": {
   "display_name": "Julia 1.7.2",
   "language": "julia",
   "name": "julia-1.7"
  },
  "language_info": {
   "file_extension": ".jl",
   "mimetype": "application/julia",
   "name": "julia",
   "version": "1.7.2"
  },
  "orig_nbformat": 4,
  "vscode": {
   "interpreter": {
    "hash": "93e603b405028e2ab398d7a85d86124a7ac0b053113ed31068605d4be5533369"
   }
  }
 },
 "nbformat": 4,
 "nbformat_minor": 2
}
