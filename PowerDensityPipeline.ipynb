{
  "cells": [
    {
      "cell_type": "markdown",
      "metadata": {},
      "source": [
        "Goal: this notebook will produce the time series of power density with a breakdown of the contribution from each decay type from all known decay chains. "
      ]
    },
    {
      "cell_type": "code",
      "execution_count": null,
      "metadata": {
        "id": "2B-7LZ6YZICO"
      },
      "outputs": [],
      "source": []
    }
  ],
  "metadata": {
    "colab": {
      "name": "PowerDensityPipeline.ipynb",
      "provenance": []
    },
    "kernelspec": {
      "display_name": "Python 3",
      "name": "python3"
    },
    "language_info": {
      "name": "python"
    }
  },
  "nbformat": 4,
  "nbformat_minor": 0
}
