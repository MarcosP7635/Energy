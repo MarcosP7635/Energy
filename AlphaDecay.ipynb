{
  "cells": [
    {
      "cell_type": "markdown",
      "metadata": {},
      "source": [
        "The safest form of RTG will only emit radiation via alpha decay, which is only dangerous if ingested. Thus, this seems to be the most practical path. \n",
        "\n",
        "Using the currently existing code, I should streamline my work.\n",
        "That is, I should write a function that finds the decay chain \n",
        "of a given isotope and the power density of the decay chain,\n",
        "as well as the types of radiation emitted. \n",
        "\n",
        "Check the folder named ImportedData for the data to use (especially Table 3)"
      ]
    },
    {
      "cell_type": "code",
      "execution_count": null,
      "metadata": {
        "vscode": {
          "languageId": "plaintext"
        }
      },
      "outputs": [],
      "source": []
    }
  ],
  "metadata": {
    "colab": {
      "name": "AlphaDecay.ipynb",
      "provenance": []
    },
    "kernelspec": {
      "display_name": "Python 3",
      "name": "python3"
    },
    "language_info": {
      "name": "python"
    }
  },
  "nbformat": 4,
  "nbformat_minor": 0
}
