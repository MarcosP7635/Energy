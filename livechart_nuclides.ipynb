{
 "cells": [
  {
   "cell_type": "code",
   "execution_count": 2,
   "metadata": {
    "id": "n47grPhJSQGl"
   },
   "outputs": [
    {
     "name": "stderr",
     "output_type": "stream",
     "text": [
      "Error importing optional module geopandas\n",
      "Traceback (most recent call last):\n",
      "  File \"c:\\Users\\engin\\anaconda3\\lib\\site-packages\\_plotly_utils\\optional_imports.py\", line 30, in get_module\n",
      "    return import_module(name)\n",
      "  File \"c:\\Users\\engin\\anaconda3\\lib\\importlib\\__init__.py\", line 127, in import_module\n",
      "    return _bootstrap._gcd_import(name[level:], package, level)\n",
      "  File \"<frozen importlib._bootstrap>\", line 1014, in _gcd_import\n",
      "  File \"<frozen importlib._bootstrap>\", line 991, in _find_and_load\n",
      "  File \"<frozen importlib._bootstrap>\", line 975, in _find_and_load_unlocked\n",
      "  File \"<frozen importlib._bootstrap>\", line 671, in _load_unlocked\n",
      "  File \"<frozen importlib._bootstrap_external>\", line 783, in exec_module\n",
      "  File \"<frozen importlib._bootstrap>\", line 219, in _call_with_frames_removed\n",
      "  File \"c:\\Users\\engin\\anaconda3\\lib\\site-packages\\geopandas\\__init__.py\", line 3, in <module>\n",
      "    from geopandas.geoseries import GeoSeries  # noqa\n",
      "  File \"c:\\Users\\engin\\anaconda3\\lib\\site-packages\\geopandas\\geoseries.py\", line 10, in <module>\n",
      "    from shapely.geometry.base import BaseGeometry\n",
      "  File \"c:\\Users\\engin\\anaconda3\\lib\\site-packages\\shapely\\geometry\\__init__.py\", line 4, in <module>\n",
      "    from .base import CAP_STYLE, JOIN_STYLE\n",
      "  File \"c:\\Users\\engin\\anaconda3\\lib\\site-packages\\shapely\\geometry\\base.py\", line 18, in <module>\n",
      "    from shapely.coords import CoordinateSequence\n",
      "  File \"c:\\Users\\engin\\anaconda3\\lib\\site-packages\\shapely\\coords.py\", line 8, in <module>\n",
      "    from shapely.geos import lgeos\n",
      "  File \"c:\\Users\\engin\\anaconda3\\lib\\site-packages\\shapely\\geos.py\", line 145, in <module>\n",
      "    _lgeos = CDLL(os.path.join(sys.prefix, 'Library', 'bin', 'geos_c.dll'))\n",
      "  File \"c:\\Users\\engin\\anaconda3\\lib\\ctypes\\__init__.py\", line 373, in __init__\n",
      "    self._handle = _dlopen(self._name, mode)\n",
      "FileNotFoundError: Could not find module 'c:\\Users\\engin\\anaconda3\\Library\\bin\\geos_c.dll' (or one of its dependencies). Try using the full path with constructor syntax.\n"
     ]
    }
   ],
   "source": [
    "import astropy.units as units\n",
    "import astropy.constants as constants\n",
    "import matplotlib.pyplot as plt\n",
    "import sympy as sym\n",
    "import numpy as np \n",
    "import pandas as pd\n",
    "import plotly.express as px\n",
    "import plotly.figure_factory as ff\n",
    "import plotly.graph_objects as go\n",
    "import requests\n",
    "import re\n",
    "import subprocess\n",
    "import urllib.request\n",
    "from sympy.abc import *\n",
    "# the service URL\n",
    "livechart = \"https://nds.iaea.org/relnsd/v0/data?\"\n",
    "#%matplotlib notebook #incompatible with mpmath"
   ]
  },
  {
   "cell_type": "markdown",
   "metadata": {},
   "source": [
    "This function queries the International Atomic Energy Agency's Nuclear Data Services (https://nds.iaea.org/).\n",
    "\n",
    "API: https://nds.iaea.org/relnsd/vcharthtml/api_v0_guide.html \n",
    "\n",
    "Example Jupyter Notebook for automating data downloads: https://www-nds.iaea.org/relnsd/vcharthtml/api_v0_notebook.html  "
   ]
  },
  {
   "cell_type": "code",
   "execution_count": 3,
   "metadata": {},
   "outputs": [],
   "source": [
    "def lc_read_csv(url):\n",
    "    '''\n",
    "    Query the livechart service and return a pandas dataframe. \n",
    "    format: lc_read_csv(livechart + \"fields=decay_rads&nuclides=\" + \"16O\" + \"&rad_types=bm\")\n",
    "    '''\n",
    "    req = urllib.request.Request(url)\n",
    "    req.add_header('User-Agent', 'Mozilla/5.0 (X11; Ubuntu; Linux x86_64; rv:77.0) Gecko/20100101 Firefox/77.0')\n",
    "    return pd.read_csv(urllib.request.urlopen(req))"
   ]
  },
  {
   "cell_type": "markdown",
   "metadata": {},
   "source": [
    " This function takes a dataframe of parent nuclides and returns a list of dataframes of daughter nuclides"
   ]
  },
  {
   "cell_type": "code",
   "execution_count": 4,
   "metadata": {},
   "outputs": [],
   "source": [
    "def get_daughter_df(parent_df):\n",
    "    '''\n",
    "    This function takes a dataframe of parent nuclides and returns a \n",
    "    list of dataframes of daughter nuclides\n",
    "    '''\n",
    "    daughter_nucleus= [str(int(parent_df['d_z'][row]) + int(parent_df['d_n'][row])) + \n",
    "                    ''.join(parent_df['d_symbol'][row]) for row in range(parent_df.shape[0])]\n",
    "    daughter_df = [lc_read_csv(livechart + \"fields=decay_rads&nuclides=\" + daughter_nucleus[row].lower() \n",
    "                    + \"&rad_types=bm\") for row in range(parent_df.shape[0])]\n",
    "    daughter_df = pd.concat(daughter_df)\n",
    "    return daughter_df\n"
   ]
  },
  {
   "cell_type": "markdown",
   "metadata": {},
   "source": [
    "It appears that when queried for stable nuclides, livechart return a 0x1 dataframe with only the number 0"
   ]
  },
  {
   "cell_type": "code",
   "execution_count": 5,
   "metadata": {},
   "outputs": [
    {
     "data": {
      "text/html": [
       "<div>\n",
       "<style scoped>\n",
       "    .dataframe tbody tr th:only-of-type {\n",
       "        vertical-align: middle;\n",
       "    }\n",
       "\n",
       "    .dataframe tbody tr th {\n",
       "        vertical-align: top;\n",
       "    }\n",
       "\n",
       "    .dataframe thead th {\n",
       "        text-align: right;\n",
       "    }\n",
       "</style>\n",
       "<table border=\"1\" class=\"dataframe\">\n",
       "  <thead>\n",
       "    <tr style=\"text-align: right;\">\n",
       "      <th></th>\n",
       "      <th>0</th>\n",
       "    </tr>\n",
       "  </thead>\n",
       "  <tbody>\n",
       "  </tbody>\n",
       "</table>\n",
       "</div>"
      ],
      "text/plain": [
       "Empty DataFrame\n",
       "Columns: [0]\n",
       "Index: []"
      ]
     },
     "execution_count": 5,
     "metadata": {},
     "output_type": "execute_result"
    }
   ],
   "source": [
    "#It appears that when queried for stable nuclides, livechart return a 0x1 dataframe with only the number 0\n",
    "lc_read_csv(livechart + \"fields=decay_rads&nuclides=\" + \"16O\" + \"&rad_types=bm\")"
   ]
  },
  {
   "cell_type": "code",
   "execution_count": 6,
   "metadata": {},
   "outputs": [
    {
     "data": {
      "text/html": [
       "<div>\n",
       "<style scoped>\n",
       "    .dataframe tbody tr th:only-of-type {\n",
       "        vertical-align: middle;\n",
       "    }\n",
       "\n",
       "    .dataframe tbody tr th {\n",
       "        vertical-align: top;\n",
       "    }\n",
       "\n",
       "    .dataframe thead th {\n",
       "        text-align: right;\n",
       "    }\n",
       "</style>\n",
       "<table border=\"1\" class=\"dataframe\">\n",
       "  <thead>\n",
       "    <tr style=\"text-align: right;\">\n",
       "      <th></th>\n",
       "      <th>mean_energy</th>\n",
       "      <th>unc_me</th>\n",
       "      <th>intensity_beta</th>\n",
       "      <th>unc_ib</th>\n",
       "      <th>daughter_level_energy</th>\n",
       "      <th>max_energy</th>\n",
       "      <th>unc_me.1</th>\n",
       "      <th>log_ft</th>\n",
       "      <th>unc_lf</th>\n",
       "      <th>transition_type</th>\n",
       "      <th>anti_nu_mean_energy</th>\n",
       "      <th>unc_ame</th>\n",
       "      <th>p_z</th>\n",
       "      <th>p_n</th>\n",
       "      <th>p_symbol</th>\n",
       "    </tr>\n",
       "  </thead>\n",
       "  <tbody>\n",
       "    <tr>\n",
       "      <th>0</th>\n",
       "      <td>233</td>\n",
       "      <td>16</td>\n",
       "      <td>100</td>\n",
       "      <td>0</td>\n",
       "      <td>0</td>\n",
       "      <td>599</td>\n",
       "      <td>6</td>\n",
       "      <td>9.32</td>\n",
       "      <td>0.17</td>\n",
       "      <td>1U</td>\n",
       "      <td>367</td>\n",
       "      <td>3.6</td>\n",
       "      <td>18</td>\n",
       "      <td>24</td>\n",
       "      <td>Ar</td>\n",
       "    </tr>\n",
       "  </tbody>\n",
       "</table>\n",
       "</div>"
      ],
      "text/plain": [
       "   mean_energy  unc_me  intensity_beta  unc_ib  daughter_level_energy  \\\n",
       "0          233      16             100       0                      0   \n",
       "\n",
       "   max_energy  unc_me.1  log_ft  unc_lf transition_type  anti_nu_mean_energy  \\\n",
       "0         599         6    9.32    0.17              1U                  367   \n",
       "\n",
       "   unc_ame  p_z  p_n p_symbol  \n",
       "0      3.6   18   24       Ar  "
      ]
     },
     "execution_count": 6,
     "metadata": {},
     "output_type": "execute_result"
    }
   ],
   "source": [
    "df = lc_read_csv(livechart + \"fields=decay_rads&nuclides=42ar&rad_types=bm\")\n",
    "df.iloc[ : , : 15]"
   ]
  },
  {
   "cell_type": "code",
   "execution_count": 7,
   "metadata": {},
   "outputs": [
    {
     "data": {
      "text/html": [
       "<div>\n",
       "<style scoped>\n",
       "    .dataframe tbody tr th:only-of-type {\n",
       "        vertical-align: middle;\n",
       "    }\n",
       "\n",
       "    .dataframe tbody tr th {\n",
       "        vertical-align: top;\n",
       "    }\n",
       "\n",
       "    .dataframe thead th {\n",
       "        text-align: right;\n",
       "    }\n",
       "</style>\n",
       "<table border=\"1\" class=\"dataframe\">\n",
       "  <thead>\n",
       "    <tr style=\"text-align: right;\">\n",
       "      <th></th>\n",
       "      <th>p_energy_shift</th>\n",
       "      <th>p_energy</th>\n",
       "      <th>unc_pe</th>\n",
       "      <th>jp</th>\n",
       "      <th>half_life</th>\n",
       "      <th>operator_hl</th>\n",
       "      <th>unc_hl</th>\n",
       "      <th>unit_hl</th>\n",
       "      <th>half_life_sec</th>\n",
       "      <th>unc_hls</th>\n",
       "      <th>...</th>\n",
       "      <th>decay_%</th>\n",
       "      <th>unc_d</th>\n",
       "      <th>q</th>\n",
       "      <th>unc_q</th>\n",
       "      <th>d_z</th>\n",
       "      <th>d_n</th>\n",
       "      <th>d_symbol</th>\n",
       "      <th>ensdf_publication_cut-off</th>\n",
       "      <th>ensdf_authors</th>\n",
       "      <th>Extraction_date</th>\n",
       "    </tr>\n",
       "  </thead>\n",
       "  <tbody>\n",
       "    <tr>\n",
       "      <th>0</th>\n",
       "      <td></td>\n",
       "      <td>0</td>\n",
       "      <td></td>\n",
       "      <td>0+</td>\n",
       "      <td>32.9</td>\n",
       "      <td></td>\n",
       "      <td>11</td>\n",
       "      <td>Y</td>\n",
       "      <td>1.038223e+09</td>\n",
       "      <td>3.471262e+07</td>\n",
       "      <td>...</td>\n",
       "      <td>100</td>\n",
       "      <td></td>\n",
       "      <td>599</td>\n",
       "      <td>6</td>\n",
       "      <td>19</td>\n",
       "      <td>23</td>\n",
       "      <td>K</td>\n",
       "      <td>31-May-2016</td>\n",
       "      <td>JUN CHEN{+#} AND BALRAJ SINGH</td>\n",
       "      <td>2022-05-06</td>\n",
       "    </tr>\n",
       "  </tbody>\n",
       "</table>\n",
       "<p>1 rows × 21 columns</p>\n",
       "</div>"
      ],
      "text/plain": [
       "  p_energy_shift  p_energy unc_pe  jp  half_life operator_hl  unc_hl unit_hl  \\\n",
       "0                        0         0+       32.9                  11       Y   \n",
       "\n",
       "   half_life_sec       unc_hls  ... decay_%  unc_d    q  unc_q  d_z  d_n  \\\n",
       "0   1.038223e+09  3.471262e+07  ...     100         599      6   19   23   \n",
       "\n",
       "   d_symbol ensdf_publication_cut-off                  ensdf_authors  \\\n",
       "0         K               31-May-2016  JUN CHEN{+#} AND BALRAJ SINGH   \n",
       "\n",
       "  Extraction_date  \n",
       "0      2022-05-06  \n",
       "\n",
       "[1 rows x 21 columns]"
      ]
     },
     "execution_count": 7,
     "metadata": {},
     "output_type": "execute_result"
    }
   ],
   "source": [
    "df.iloc[ : , 15: ]"
   ]
  },
  {
   "cell_type": "code",
   "execution_count": 8,
   "metadata": {},
   "outputs": [
    {
     "data": {
      "text/plain": [
       "233.0"
      ]
     },
     "execution_count": 8,
     "metadata": {},
     "output_type": "execute_result"
    }
   ],
   "source": [
    "float(df['mean_energy']) * float(df['intensity_beta']) / 100"
   ]
  },
  {
   "cell_type": "code",
   "execution_count": 9,
   "metadata": {},
   "outputs": [
    {
     "data": {
      "text/plain": [
       "'42k'"
      ]
     },
     "execution_count": 9,
     "metadata": {},
     "output_type": "execute_result"
    }
   ],
   "source": [
    "daughter_nucleus = str(int(df['d_z']) + int(df['d_n'])) + ''.join(df['d_symbol'])\n",
    "#make all letters lowercase \n",
    "daughter_nucleus.lower()"
   ]
  },
  {
   "cell_type": "code",
   "execution_count": 10,
   "metadata": {},
   "outputs": [
    {
     "data": {
      "text/html": [
       "<div>\n",
       "<style scoped>\n",
       "    .dataframe tbody tr th:only-of-type {\n",
       "        vertical-align: middle;\n",
       "    }\n",
       "\n",
       "    .dataframe tbody tr th {\n",
       "        vertical-align: top;\n",
       "    }\n",
       "\n",
       "    .dataframe thead th {\n",
       "        text-align: right;\n",
       "    }\n",
       "</style>\n",
       "<table border=\"1\" class=\"dataframe\">\n",
       "  <thead>\n",
       "    <tr style=\"text-align: right;\">\n",
       "      <th></th>\n",
       "      <th>mean_energy</th>\n",
       "      <th>unc_me</th>\n",
       "      <th>intensity_beta</th>\n",
       "      <th>unc_ib</th>\n",
       "      <th>daughter_level_energy</th>\n",
       "      <th>max_energy</th>\n",
       "      <th>unc_me.1</th>\n",
       "      <th>log_ft</th>\n",
       "      <th>unc_lf</th>\n",
       "      <th>transition_type</th>\n",
       "      <th>anti_nu_mean_energy</th>\n",
       "      <th>unc_ame</th>\n",
       "      <th>p_z</th>\n",
       "      <th>p_n</th>\n",
       "      <th>p_symbol</th>\n",
       "    </tr>\n",
       "  </thead>\n",
       "  <tbody>\n",
       "    <tr>\n",
       "      <th>0</th>\n",
       "      <td>21.41</td>\n",
       "      <td>0.21</td>\n",
       "      <td>0.07</td>\n",
       "      <td>0.01</td>\n",
       "      <td>3445.4</td>\n",
       "      <td>79.80</td>\n",
       "      <td>0.70</td>\n",
       "      <td>4.9800</td>\n",
       "      <td>0.0700</td>\n",
       "      <td>A</td>\n",
       "      <td>58.60</td>\n",
       "      <td>0.60</td>\n",
       "      <td>19</td>\n",
       "      <td>23</td>\n",
       "      <td>K</td>\n",
       "    </tr>\n",
       "    <tr>\n",
       "      <th>1</th>\n",
       "      <td>415.41</td>\n",
       "      <td>0.2</td>\n",
       "      <td>0.05</td>\n",
       "      <td>0.01</td>\n",
       "      <td>2424.3</td>\n",
       "      <td>1100.90</td>\n",
       "      <td>0.40</td>\n",
       "      <td>9.0500</td>\n",
       "      <td>0.0900</td>\n",
       "      <td>1NU</td>\n",
       "      <td>686.70</td>\n",
       "      <td>0.60</td>\n",
       "      <td>19</td>\n",
       "      <td>23</td>\n",
       "      <td>K</td>\n",
       "    </tr>\n",
       "    <tr>\n",
       "      <th>2</th>\n",
       "      <td>702.95</td>\n",
       "      <td>0.2</td>\n",
       "      <td>0.34</td>\n",
       "      <td>0.03</td>\n",
       "      <td>1837.2</td>\n",
       "      <td>1688.00</td>\n",
       "      <td>0.40</td>\n",
       "      <td>9.9200</td>\n",
       "      <td>0.0400</td>\n",
       "      <td>1U</td>\n",
       "      <td>986.49</td>\n",
       "      <td>0.36</td>\n",
       "      <td>19</td>\n",
       "      <td>23</td>\n",
       "      <td>K</td>\n",
       "    </tr>\n",
       "    <tr>\n",
       "      <th>3</th>\n",
       "      <td>824.32</td>\n",
       "      <td>0.17</td>\n",
       "      <td>17.64</td>\n",
       "      <td>0.09</td>\n",
       "      <td>1524.6</td>\n",
       "      <td>2000.60</td>\n",
       "      <td>0.30</td>\n",
       "      <td>7.5501</td>\n",
       "      <td>0.0023</td>\n",
       "      <td>1NU</td>\n",
       "      <td>1177.16</td>\n",
       "      <td>0.25</td>\n",
       "      <td>19</td>\n",
       "      <td>23</td>\n",
       "      <td>K</td>\n",
       "    </tr>\n",
       "    <tr>\n",
       "      <th>4</th>\n",
       "      <td>1565.86</td>\n",
       "      <td></td>\n",
       "      <td>81.90</td>\n",
       "      <td>0.09</td>\n",
       "      <td>0.0</td>\n",
       "      <td>3525.22</td>\n",
       "      <td>0.18</td>\n",
       "      <td>9.4768</td>\n",
       "      <td>0.0006</td>\n",
       "      <td>1U</td>\n",
       "      <td>1961.70</td>\n",
       "      <td>0.09</td>\n",
       "      <td>19</td>\n",
       "      <td>23</td>\n",
       "      <td>K</td>\n",
       "    </tr>\n",
       "  </tbody>\n",
       "</table>\n",
       "</div>"
      ],
      "text/plain": [
       "   mean_energy unc_me  intensity_beta  unc_ib  daughter_level_energy  \\\n",
       "0        21.41   0.21            0.07    0.01                 3445.4   \n",
       "1       415.41    0.2            0.05    0.01                 2424.3   \n",
       "2       702.95    0.2            0.34    0.03                 1837.2   \n",
       "3       824.32   0.17           17.64    0.09                 1524.6   \n",
       "4      1565.86                  81.90    0.09                    0.0   \n",
       "\n",
       "   max_energy  unc_me.1  log_ft  unc_lf transition_type  anti_nu_mean_energy  \\\n",
       "0       79.80      0.70  4.9800  0.0700               A                58.60   \n",
       "1     1100.90      0.40  9.0500  0.0900             1NU               686.70   \n",
       "2     1688.00      0.40  9.9200  0.0400              1U               986.49   \n",
       "3     2000.60      0.30  7.5501  0.0023             1NU              1177.16   \n",
       "4     3525.22      0.18  9.4768  0.0006              1U              1961.70   \n",
       "\n",
       "   unc_ame  p_z  p_n p_symbol  \n",
       "0     0.60   19   23        K  \n",
       "1     0.60   19   23        K  \n",
       "2     0.36   19   23        K  \n",
       "3     0.25   19   23        K  \n",
       "4     0.09   19   23        K  "
      ]
     },
     "execution_count": 10,
     "metadata": {},
     "output_type": "execute_result"
    }
   ],
   "source": [
    "daughter_df = lc_read_csv(livechart + \"fields=decay_rads&nuclides=\" + daughter_nucleus.lower() + \"&rad_types=bm\")\n",
    "daughter_df.iloc[ : , : 15]"
   ]
  },
  {
   "cell_type": "code",
   "execution_count": 11,
   "metadata": {},
   "outputs": [
    {
     "data": {
      "text/html": [
       "<div>\n",
       "<style scoped>\n",
       "    .dataframe tbody tr th:only-of-type {\n",
       "        vertical-align: middle;\n",
       "    }\n",
       "\n",
       "    .dataframe tbody tr th {\n",
       "        vertical-align: top;\n",
       "    }\n",
       "\n",
       "    .dataframe thead th {\n",
       "        text-align: right;\n",
       "    }\n",
       "</style>\n",
       "<table border=\"1\" class=\"dataframe\">\n",
       "  <thead>\n",
       "    <tr style=\"text-align: right;\">\n",
       "      <th></th>\n",
       "      <th>p_energy_shift</th>\n",
       "      <th>p_energy</th>\n",
       "      <th>unc_pe</th>\n",
       "      <th>jp</th>\n",
       "      <th>half_life</th>\n",
       "      <th>operator_hl</th>\n",
       "      <th>unc_hl</th>\n",
       "      <th>unit_hl</th>\n",
       "      <th>half_life_sec</th>\n",
       "      <th>unc_hls</th>\n",
       "      <th>...</th>\n",
       "      <th>decay_%</th>\n",
       "      <th>unc_d</th>\n",
       "      <th>q</th>\n",
       "      <th>unc_q</th>\n",
       "      <th>d_z</th>\n",
       "      <th>d_n</th>\n",
       "      <th>d_symbol</th>\n",
       "      <th>ensdf_publication_cut-off</th>\n",
       "      <th>ensdf_authors</th>\n",
       "      <th>Extraction_date</th>\n",
       "    </tr>\n",
       "  </thead>\n",
       "  <tbody>\n",
       "    <tr>\n",
       "      <th>0</th>\n",
       "      <td></td>\n",
       "      <td>0</td>\n",
       "      <td></td>\n",
       "      <td>2-</td>\n",
       "      <td>12.355</td>\n",
       "      <td></td>\n",
       "      <td>7</td>\n",
       "      <td>h</td>\n",
       "      <td>44478</td>\n",
       "      <td>25.2</td>\n",
       "      <td>...</td>\n",
       "      <td>100</td>\n",
       "      <td></td>\n",
       "      <td>3525.26</td>\n",
       "      <td>18</td>\n",
       "      <td>20</td>\n",
       "      <td>22</td>\n",
       "      <td>Ca</td>\n",
       "      <td>31-May-2016</td>\n",
       "      <td>JUN CHEN{+#} AND BALRAJ SINGH</td>\n",
       "      <td>2022-05-06</td>\n",
       "    </tr>\n",
       "    <tr>\n",
       "      <th>1</th>\n",
       "      <td></td>\n",
       "      <td>0</td>\n",
       "      <td></td>\n",
       "      <td>2-</td>\n",
       "      <td>12.355</td>\n",
       "      <td></td>\n",
       "      <td>7</td>\n",
       "      <td>h</td>\n",
       "      <td>44478</td>\n",
       "      <td>25.2</td>\n",
       "      <td>...</td>\n",
       "      <td>100</td>\n",
       "      <td></td>\n",
       "      <td>3525.26</td>\n",
       "      <td>18</td>\n",
       "      <td>20</td>\n",
       "      <td>22</td>\n",
       "      <td>Ca</td>\n",
       "      <td>31-May-2016</td>\n",
       "      <td>JUN CHEN{+#} AND BALRAJ SINGH</td>\n",
       "      <td>2022-05-06</td>\n",
       "    </tr>\n",
       "    <tr>\n",
       "      <th>2</th>\n",
       "      <td></td>\n",
       "      <td>0</td>\n",
       "      <td></td>\n",
       "      <td>2-</td>\n",
       "      <td>12.355</td>\n",
       "      <td></td>\n",
       "      <td>7</td>\n",
       "      <td>h</td>\n",
       "      <td>44478</td>\n",
       "      <td>25.2</td>\n",
       "      <td>...</td>\n",
       "      <td>100</td>\n",
       "      <td></td>\n",
       "      <td>3525.26</td>\n",
       "      <td>18</td>\n",
       "      <td>20</td>\n",
       "      <td>22</td>\n",
       "      <td>Ca</td>\n",
       "      <td>31-May-2016</td>\n",
       "      <td>JUN CHEN{+#} AND BALRAJ SINGH</td>\n",
       "      <td>2022-05-06</td>\n",
       "    </tr>\n",
       "    <tr>\n",
       "      <th>3</th>\n",
       "      <td></td>\n",
       "      <td>0</td>\n",
       "      <td></td>\n",
       "      <td>2-</td>\n",
       "      <td>12.355</td>\n",
       "      <td></td>\n",
       "      <td>7</td>\n",
       "      <td>h</td>\n",
       "      <td>44478</td>\n",
       "      <td>25.2</td>\n",
       "      <td>...</td>\n",
       "      <td>100</td>\n",
       "      <td></td>\n",
       "      <td>3525.26</td>\n",
       "      <td>18</td>\n",
       "      <td>20</td>\n",
       "      <td>22</td>\n",
       "      <td>Ca</td>\n",
       "      <td>31-May-2016</td>\n",
       "      <td>JUN CHEN{+#} AND BALRAJ SINGH</td>\n",
       "      <td>2022-05-06</td>\n",
       "    </tr>\n",
       "    <tr>\n",
       "      <th>4</th>\n",
       "      <td></td>\n",
       "      <td>0</td>\n",
       "      <td></td>\n",
       "      <td>2-</td>\n",
       "      <td>12.355</td>\n",
       "      <td></td>\n",
       "      <td>7</td>\n",
       "      <td>h</td>\n",
       "      <td>44478</td>\n",
       "      <td>25.2</td>\n",
       "      <td>...</td>\n",
       "      <td>100</td>\n",
       "      <td></td>\n",
       "      <td>3525.26</td>\n",
       "      <td>18</td>\n",
       "      <td>20</td>\n",
       "      <td>22</td>\n",
       "      <td>Ca</td>\n",
       "      <td>31-May-2016</td>\n",
       "      <td>JUN CHEN{+#} AND BALRAJ SINGH</td>\n",
       "      <td>2022-05-06</td>\n",
       "    </tr>\n",
       "  </tbody>\n",
       "</table>\n",
       "<p>5 rows × 21 columns</p>\n",
       "</div>"
      ],
      "text/plain": [
       "  p_energy_shift  p_energy unc_pe  jp  half_life operator_hl  unc_hl unit_hl  \\\n",
       "0                        0         2-     12.355                   7       h   \n",
       "1                        0         2-     12.355                   7       h   \n",
       "2                        0         2-     12.355                   7       h   \n",
       "3                        0         2-     12.355                   7       h   \n",
       "4                        0         2-     12.355                   7       h   \n",
       "\n",
       "   half_life_sec  unc_hls  ... decay_%  unc_d        q  unc_q  d_z  d_n  \\\n",
       "0          44478     25.2  ...     100         3525.26     18   20   22   \n",
       "1          44478     25.2  ...     100         3525.26     18   20   22   \n",
       "2          44478     25.2  ...     100         3525.26     18   20   22   \n",
       "3          44478     25.2  ...     100         3525.26     18   20   22   \n",
       "4          44478     25.2  ...     100         3525.26     18   20   22   \n",
       "\n",
       "   d_symbol ensdf_publication_cut-off                  ensdf_authors  \\\n",
       "0        Ca               31-May-2016  JUN CHEN{+#} AND BALRAJ SINGH   \n",
       "1        Ca               31-May-2016  JUN CHEN{+#} AND BALRAJ SINGH   \n",
       "2        Ca               31-May-2016  JUN CHEN{+#} AND BALRAJ SINGH   \n",
       "3        Ca               31-May-2016  JUN CHEN{+#} AND BALRAJ SINGH   \n",
       "4        Ca               31-May-2016  JUN CHEN{+#} AND BALRAJ SINGH   \n",
       "\n",
       "  Extraction_date  \n",
       "0      2022-05-06  \n",
       "1      2022-05-06  \n",
       "2      2022-05-06  \n",
       "3      2022-05-06  \n",
       "4      2022-05-06  \n",
       "\n",
       "[5 rows x 21 columns]"
      ]
     },
     "execution_count": 11,
     "metadata": {},
     "output_type": "execute_result"
    }
   ],
   "source": [
    "daughter_df.iloc[ : , 15: ]"
   ]
  },
  {
   "cell_type": "code",
   "execution_count": 12,
   "metadata": {},
   "outputs": [],
   "source": [
    "daughter_df = get_daughter_df(df)"
   ]
  },
  {
   "cell_type": "code",
   "execution_count": 13,
   "metadata": {},
   "outputs": [
    {
     "data": {
      "text/html": [
       "<div>\n",
       "<style scoped>\n",
       "    .dataframe tbody tr th:only-of-type {\n",
       "        vertical-align: middle;\n",
       "    }\n",
       "\n",
       "    .dataframe tbody tr th {\n",
       "        vertical-align: top;\n",
       "    }\n",
       "\n",
       "    .dataframe thead th {\n",
       "        text-align: right;\n",
       "    }\n",
       "</style>\n",
       "<table border=\"1\" class=\"dataframe\">\n",
       "  <thead>\n",
       "    <tr style=\"text-align: right;\">\n",
       "      <th></th>\n",
       "      <th>0</th>\n",
       "    </tr>\n",
       "  </thead>\n",
       "  <tbody>\n",
       "  </tbody>\n",
       "</table>\n",
       "</div>"
      ],
      "text/plain": [
       "Empty DataFrame\n",
       "Columns: [0]\n",
       "Index: []"
      ]
     },
     "execution_count": 13,
     "metadata": {},
     "output_type": "execute_result"
    }
   ],
   "source": [
    "third_gen_df = get_daughter_df(daughter_df)\n",
    "third_gen_df"
   ]
  },
  {
   "cell_type": "markdown",
   "metadata": {},
   "source": [
    "#Battery Object\n",
    "We will make a list of dataframes. Each element of the list will correspond to a step in the decay chain.\n",
    "Each simulated battery will be a battery object. Every battery object has a composition attribute. \n",
    "This composition will be a dictionary where the keys are the nuclei and the values are the moles of each \n",
    "nucleus. The class will have a chain decay function that calculates how many moles of each nucleus there are at a given time."
   ]
  },
  {
   "cell_type": "markdown",
   "metadata": {},
   "source": [
    "#Derivation of chain decay function. This function will calculate the moles of each nucleus after a given time ($\\tau$). The are $m_{t}$ moles of the mother nucleus at time $t$ and $\\delta_{\\tau}$ moles of the daughter nucleus at a time $\\tau$. There is a probability $P_{x}$ that a given nucleus $x$ with an age of $t$ and an e-folding time of $\\lambda_{x}$ has not yet decayed.\n",
    "\\begin{equation}\n",
    "\\begin{split}\n",
    "\\Large{ m_t = m_0e^{\\Large\\frac{t}{-\\lambda_{m}}} } \\\\\n",
    "\\Large{ P_{x} = 1-e^{\\Large\\frac{t_{x}}{-\\lambda_{x}}} }\\\\\n",
    "\\Large{ \\delta_{\\tau} = \\int_{0}^{\\tau} P_{\\delta}d\\delta_{new} }\\\\\n",
    "\\end{split}\n",
    "\\end{equation}\n",
    "$\\delta_{new}$ is the number of daughter nuclei that were created instantaneously at the time $t$. In these decay chains, the only source of new daughter nuclei is the decay of the mother nuclei so we have\n",
    "\\begin{equation}\n",
    "\\begin{split}\n",
    "\\Large{ \\frac{d\\delta_{new}}{dt} = -\\frac{dm}{dt} = \\frac{m_0e^{\\Large\\frac{t}{-\\lambda_{m}}}}{\\lambda_{m} } }\\\\\n",
    "\\Large{ d\\delta_{new} = \\frac{m_0e^{\\Large\\frac{t}{-\\lambda_{m}}}}{\\lambda_{m} } }dt \\\\\n",
    "\\Large{ \\delta_{\\tau} = \\int_{0}^{\\tau} \\frac{m_0e^{\\Large\\frac{t}{-\\lambda_{m}}}}{\\lambda_{m} }(1-e^{\\Large\\frac{t}{-\\lambda_{\\delta}}}) dt}\\\\\n",
    "\\Large{ \\delta_{\\tau} = \\frac{m_0}{\\lambda_{m}}\\int_{0}^{\\tau} e^{\\Large\\frac{t}{-\\lambda_{m}}}(1-e^{\\Large\\frac{t}{-\\lambda_{\\delta}}}) dt}\\\\\n",
    "\\Large{ \\delta_{\\tau} = \\frac{m_0}{\\lambda_{m}}(\\int_{0}^{\\tau} e^{\\Large\\frac{t}{-\\lambda_{m}}}dt - \\int_{0}^{\\tau} e^{\\Large (\\frac{t}{-\\lambda_{\\delta}} + \\frac{t}{-\\lambda_{m}})} dt) }\\\\\n",
    "\\Large{ \\delta_{\\tau} = \\frac{m_0}{\\lambda_{m}}(\\int_{0}^{\\tau} e^{\\Large\\frac{t}{-\\lambda_{m}}}dt - \\int_{0}^{\\tau} e^{\\Large t(\\frac{1}{-\\lambda_{\\delta}} + \\frac{1}{-\\lambda_{m}})} dt) }\n",
    "\\end{split}\n",
    "\\end{equation}\n",
    "since \n",
    "\\begin{equation}\n",
    "\\begin{split}\n",
    "\\Large\\int_{0}^{\\tau} e^{\\Large kt}dt = \\frac{e^{\\Large kt}\\mid_{0}^{\\tau}}{k} = \\frac{e^{\\Large k\\tau}-1}{k}\\\\\n",
    "\\end{split}\n",
    "\\end{equation}\n",
    "then we have\n",
    "\\begin{equation}\n",
    "\\begin{split}\n",
    "\\Large \\delta_{\\tau} = \\frac{m_0}{\\lambda_m}(\\lambda_m\\lambda_\\delta\\frac{e^{\\Large-\\tau(\\frac{1}{\\lambda_m}+\\frac{1}{\\lambda_{\\delta}})}-1}{\\lambda_{\\delta}+\\lambda_{m}} - \\lambda_m(e^{\\Large-t\\frac{1}{\\lambda_m}}-1))\\\\\n",
    "\\Large\\delta_{\\tau} = m_0(\\lambda_\\delta\\frac{e^{\\Large-\\tau(\\frac{1}{\\lambda_m}+\\frac{1}{\\lambda_{\\delta}})}-1}{\\lambda_{\\delta}+\\lambda_{m}} - e^{\\Large-t\\frac{1}{\\lambda_m}} +1)\n",
    "\\end{split}\n",
    "\\end{equation}"
   ]
  },
  {
   "cell_type": "code",
   "execution_count": 18,
   "metadata": {},
   "outputs": [
    {
     "data": {
      "text/latex": [
       "$\\displaystyle m_{0} \\left(\\frac{\\lambda_{\\delta} \\left(-1 + e^{- \\tau \\left(\\frac{1}{\\lambda_{m}} + \\frac{1}{\\lambda_{\\delta}}\\right)}\\right)}{\\lambda_{\\delta} + \\lambda_{m}} + 1 - e^{- \\frac{\\tau}{\\lambda_{m}}}\\right)$"
      ],
      "text/plain": [
       "m_0*(lambda_delta*(-1 + exp(-tau*(1/lambda_m + 1/lambda_delta)))/(lambda_delta + lambda_m) + 1 - exp(-tau/lambda_m))"
      ]
     },
     "execution_count": 18,
     "metadata": {},
     "output_type": "execute_result"
    }
   ],
   "source": [
    "delta_new, m_0, lambda_m, lambda_d = sym.symbols('\\delta_{new} m_0 lambda_m lambda_delta', \n",
    "                positive = True, real = True)\n",
    "delta_tau, tau = sym.symbols('delta_{tau} tau', positive = True, real = True)\n",
    "lambda_t = sym.symbols('lambda')\n",
    "#the probability a nucleus with a given e-folding time l after a time t\n",
    "p = 1 - sym.exp(-1 * tau / lambda_d)\n",
    "#the daughter nuclei being instantaneously created at a given time t\n",
    "delta_new = m_0 * sym.exp(-1 * tau / lambda_m) / lambda_m\n",
    "#daughter nuclei as a function of time\n",
    "delta_tau = m_0 * (lambda_d * (sym.exp(-1 * tau * (1/lambda_d + 1/lambda_m)) - 1) / (lambda_m + lambda_d) - \n",
    "            sym.exp(-1 * tau / lambda_m) + 1)\n",
    "delta_tau"
   ]
  },
  {
   "cell_type": "code",
   "execution_count": 26,
   "metadata": {},
   "outputs": [
    {
     "data": {
      "text/latex": [
       "$\\displaystyle \\frac{m_{0} \\left(- \\lambda_{\\delta} e^{\\frac{t}{\\lambda_{\\delta}}} + \\lambda_{\\delta} - \\lambda_{m} e^{\\frac{t}{\\lambda_{\\delta}}} + \\lambda_{m} e^{\\frac{t \\left(\\lambda_{\\delta} + \\lambda_{m}\\right)}{\\lambda_{\\delta} \\lambda_{m}}}\\right) e^{- \\frac{t}{\\lambda_{m}} - \\frac{t}{\\lambda_{\\delta}}}}{\\lambda_{\\delta} + \\lambda_{m}}$"
      ],
      "text/plain": [
       "m_0*(-lambda_delta*exp(t/lambda_delta) + lambda_delta - lambda_m*exp(t/lambda_delta) + lambda_m*exp(t*(lambda_delta + lambda_m)/(lambda_delta*lambda_m)))*exp(-t/lambda_m - t/lambda_delta)/(lambda_delta + lambda_m)"
      ]
     },
     "execution_count": 26,
     "metadata": {},
     "output_type": "execute_result"
    }
   ],
   "source": [
    "attempt = sym.simplify(\n",
    "    sym.integrate(delta_new * p, (tau, 0, t)))\n",
    "attempt"
   ]
  },
  {
   "cell_type": "code",
   "execution_count": 29,
   "metadata": {},
   "outputs": [
    {
     "data": {
      "text/latex": [
       "$\\displaystyle 0$"
      ],
      "text/plain": [
       "0"
      ]
     },
     "execution_count": 29,
     "metadata": {},
     "output_type": "execute_result"
    }
   ],
   "source": [
    "attempt = sym.integrate(delta_new * p, (tau, 0, t))\n",
    "eval_attempt = sym.lambdify(([t, lambda_m, lambda_d, m_0]), attempt, 'sympy')\n",
    "#specify the implementation of the function to be consistent with the input types\n",
    "eval_attempt(sym.N(0), sym.N(1), sym.N(1), sym.N(1))"
   ]
  },
  {
   "cell_type": "code",
   "execution_count": 18,
   "metadata": {},
   "outputs": [
    {
     "data": {
      "text/plain": [
       "0.0"
      ]
     },
     "execution_count": 18,
     "metadata": {},
     "output_type": "execute_result"
    }
   ],
   "source": [
    "evaluate_delta_tau = sym.lambdify(([tau, lambda_m, lambda_d, m_0]), delta_tau)\n",
    "evaluate_delta_tau(0, 1, 1, 1) #should be 0"
   ]
  },
  {
   "cell_type": "code",
   "execution_count": 19,
   "metadata": {},
   "outputs": [
    {
     "data": {
      "text/plain": [
       "0.029896242480243584"
      ]
     },
     "execution_count": 19,
     "metadata": {},
     "output_type": "execute_result"
    }
   ],
   "source": [
    "evaluate_delta_tau(1, 32.9, 12 * units.h.to(units.year), 1) "
   ]
  },
  {
   "cell_type": "code",
   "execution_count": 30,
   "metadata": {},
   "outputs": [
    {
     "data": {
      "text/latex": [
       "$\\displaystyle 1.0$"
      ],
      "text/plain": [
       "1.00000000000000"
      ]
     },
     "execution_count": 30,
     "metadata": {},
     "output_type": "execute_result"
    }
   ],
   "source": [
    "p_t = 1 - sym.exp(-1 * t / lambda_t)\n",
    "prob_not_decay = sym.lambdify(([t, lambda_t]), p_t)\n",
    "def daughter_nucleus_abundance(t, lambda_d, parent_initial_mol, parent_nucleus_decay):\n",
    "    m_0 = parent_initial_mol\n",
    "    p = 1 - sym.exp(-1 * t / lambda_d)\n",
    "    delta_tau = sym.integrate(p * parent_nucleus_decay, (t, 0, t))\n",
    "    evaluate_delta_tau = sym.lambdify(([tau, lambda_m, lambda_d, m_0]), delta_tau, 'numpy')\n",
    "    t, lambda_d, parent_initial_mol = np.float(t), np.float(lambda_d), np.float(parent_initial_mol)\n",
    "    return evaluate_delta_tau(t, lambda_d, m_0, parent_nucleus_decay)\n",
    "\n"
   ]
  },
  {
   "cell_type": "markdown",
   "metadata": {},
   "source": [
    "#General Case of daughter nucleus abundance\n",
    "\\begin{equation}\n",
    "\\begin{split}\n",
    "\\Large{ \\delta_{\\tau} = \\int_{0}^{\\tau} P_{\\delta}d\\delta_{new} }\\\\\n",
    "\\end{split}\n",
    "\\end{equation}\n",
    "Again since the only source of new daughter nuclei is the decay of parent nuclei\n",
    "\\begin{equation}\n",
    "\\begin{split}\n",
    "\\Large \\frac{d\\delta_{new}}{dt} = -\\frac{dm_t}{dt}\\\\\n",
    "\\Large d\\delta_{new} = -\\frac{dm_t}{dt}dt\\\\\n",
    "\\Large{ \\delta_{\\tau} = -\\int_{0}^{\\tau} P_{\\delta}\\frac{dm_t}{dt}dt }\\\\\n",
    "\\end{split}\n",
    "\\end{equation}\n",
    "Assuming each individual daughter nucleus also has a measurable e-folding time $\\lambda_{\\delta}$ of the probability that it has not decayed\n",
    "\\begin{equation}\n",
    "\\begin{split}\n",
    "\\Large{ P_{\\delta} = 1-e^{\\Large\\frac{t}{-\\lambda_{\\delta}}} }\\\\\n",
    "\\Large{ \\delta_{\\tau} = -\\int_{0}^{\\tau}(1-e^{\\Large\\frac{t}{-\\lambda_{\\delta}}})\\frac{dm_t}{dt}dt }\\\\\n",
    "\\end{split}\n",
    "\\end{equation}\n",
    "Assuming the parent nucleus has an abundance of the form\n",
    "\\begin{equation}\n",
    "\\begin{split}\n",
    "\\Large m_t = \\int_0^{t}\\alpha_tP_{m} dt \\\\\n",
    "\\Large{ \\delta_{\\tau} = -\\int_{0}^{\\tau}(1-e^{\\Large\\frac{t}{-\\lambda_{\\delta}}})\\alpha_tP_{m} dt }\\\\\n",
    "\\end{split}\n",
    "\\end{equation}\n",
    "Consider a decay chain represented by the sequence $n_{0}, n_{1}, n_{2}, ... n_{N}$. By induction we have for $i>0$\n",
    "\\begin{equation}\n",
    "\\begin{split}\n",
    "\\Large dn_{i} = -\\frac{dn_{i-1}}{dt}dt\\\\\n",
    "\\Large n_{i} = \\int_0^t P_{\\Large n_i} dn_{i}\\\\\n",
    "\\Large n_{i} = -\\int_0^t P_{\\Large n_i} \\frac{dn_{i-1}}{dt}dt\\\\\n",
    "\\end{split}\n",
    "\\end{equation}\n",
    "Again assuming every nucleus for $i<N$ has a measurable e-folding time $\\lambda_{n_{i}}$ of the probability that it has not decayed (we take $P_{\\Large n_N} = 1$)\n",
    "\\begin{equation}\n",
    "\\begin{split}\n",
    "\\Large P_{\\Large n_{i}} = 1-e^{\\frac{\\Large t}{\\Large -\\lambda_{\\Large n_i}}} \\\\\n",
    "\\Large n_{i} = \\int_0^t(e^{\\frac{\\Large t}{\\Large -\\lambda_{\\Large n_i}}}-1)\\frac{dn_{i-1}}{dt}dt\\\\\n",
    "\\end{split}\n",
    "\\end{equation}\n",
    "Futhermore, \n",
    "\\begin{equation}\n",
    "\\begin{split}\n",
    "\\Large \\frac{dn_{i-1}}{dt} = \\prod_{j = 0}^{i-1}P_{\\Large n_{j}} =  \\prod_{j = 0}^{i-1}(1-e^{\\frac{\\Large t}{\\Large -\\lambda_{\\Large n_j}}}(-1^{j}))\\\\\n",
    "\\Large n_{i} = \\int_0^t(e^{\\frac{\\Large t}{\\Large -\\lambda_{\\Large n_i}}}-1)\\prod_{j = 0}^{i-1}(1-e^{\\frac{\\Large t}{\\Large -\\lambda_{\\Large n_j}}}(-1^{j})))dt\\\\\n",
    "\\Large n_{i} = \\int_0^t\\prod_{j = 0}^{i-1}(1-e^{\\frac{\\Large t}{\\Large -\\lambda_{\\Large n_j}}}(-1^{j}))dt\\\\\n",
    "\\end{split}\n",
    "\\end{equation}"
   ]
  },
  {
   "cell_type": "code",
   "execution_count": null,
   "metadata": {},
   "outputs": [],
   "source": []
  }
 ],
 "metadata": {
  "colab": {
   "collapsed_sections": [],
   "name": "Energy.ipynb",
   "provenance": []
  },
  "interpreter": {
   "hash": "b5623c593edf3a9c30fecf3e392f1a3c31f722d7f93243239e2241963cc60577"
  },
  "kernelspec": {
   "display_name": "Python 3.8.3 ('base')",
   "language": "python",
   "name": "python3"
  },
  "language_info": {
   "codemirror_mode": {
    "name": "ipython",
    "version": 3
   },
   "file_extension": ".py",
   "mimetype": "text/x-python",
   "name": "python",
   "nbconvert_exporter": "python",
   "pygments_lexer": "ipython3",
   "version": "3.8.3"
  }
 },
 "nbformat": 4,
 "nbformat_minor": 1
}
