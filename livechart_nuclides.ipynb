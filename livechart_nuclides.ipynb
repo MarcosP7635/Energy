{
 "cells": [
  {
   "cell_type": "code",
   "execution_count": 6,
   "metadata": {
    "id": "n47grPhJSQGl"
   },
   "outputs": [],
   "source": [
    "import astropy.units as units\n",
    "import astropy.constants as constants\n",
    "import matplotlib.pyplot as plt\n",
    "import sympy as sym\n",
    "import numpy as np \n",
    "import pandas as pd\n",
    "import plotly.express as px\n",
    "import plotly.figure_factory as ff\n",
    "import plotly.graph_objects as go\n",
    "import requests\n",
    "import re\n",
    "import subprocess\n",
    "import urllib.request\n",
    "# the service URL\n",
    "livechart = \"https://nds.iaea.org/relnsd/v0/data?\"\n",
    "a, b, c, d, e, f, g, h, i, j, k, l, m = sym.symbols('a b c d e f g h i j k l m')\n",
    "n, o, p, q, r, s, t, u, v, w, x, y, z = sym.symbols('n o p q r s t u v w x y z')\n",
    "symbol_list = (a, b, c, d, e, f, g, h, i, j, k, l, m, n, o, p, q, r, s, t, u, v,\n",
    "w, x, y, z)\n",
    "A, B, C, D, E, F, G, H, I, J, K, L, M = sym.symbols('A B C D E F G H I J K L M')\n",
    "N, O, P, Q, R, S, T, U, V, W, X, Y, Z = sym.symbols('N O P Q R S T U V W X Y Z')\n",
    "symbol_list = (A, B, C, D, E, F, G, H, I, J, K, L, M, N, O, P, Q, R, S, T, U, \n",
    "               V, W, X, Y, Z)\n",
    "#%matplotlib notebook #incompatible with mpmath"
   ]
  },
  {
   "cell_type": "code",
   "execution_count": 3,
   "metadata": {},
   "outputs": [],
   "source": [
    "#https://www-nds.iaea.org/relnsd/vcharthtml/api_v0_notebook.html\n",
    "def lc_read_csv(url):\n",
    "    req = urllib.request.Request(url)\n",
    "    req.add_header('User-Agent', 'Mozilla/5.0 (X11; Ubuntu; Linux x86_64; rv:77.0) Gecko/20100101 Firefox/77.0')\n",
    "    return pd.read_csv(urllib.request.urlopen(req))"
   ]
  },
  {
   "cell_type": "code",
   "execution_count": 19,
   "metadata": {},
   "outputs": [
    {
     "data": {
      "text/html": [
       "<div>\n",
       "<style scoped>\n",
       "    .dataframe tbody tr th:only-of-type {\n",
       "        vertical-align: middle;\n",
       "    }\n",
       "\n",
       "    .dataframe tbody tr th {\n",
       "        vertical-align: top;\n",
       "    }\n",
       "\n",
       "    .dataframe thead th {\n",
       "        text-align: right;\n",
       "    }\n",
       "</style>\n",
       "<table border=\"1\" class=\"dataframe\">\n",
       "  <thead>\n",
       "    <tr style=\"text-align: right;\">\n",
       "      <th></th>\n",
       "      <th>mean_energy</th>\n",
       "      <th>unc_me</th>\n",
       "      <th>intensity_beta</th>\n",
       "      <th>unc_ib</th>\n",
       "      <th>daughter_level_energy</th>\n",
       "      <th>max_energy</th>\n",
       "      <th>unc_me.1</th>\n",
       "      <th>log_ft</th>\n",
       "      <th>unc_lf</th>\n",
       "      <th>transition_type</th>\n",
       "      <th>anti_nu_mean_energy</th>\n",
       "      <th>unc_ame</th>\n",
       "      <th>p_z</th>\n",
       "      <th>p_n</th>\n",
       "      <th>p_symbol</th>\n",
       "    </tr>\n",
       "  </thead>\n",
       "  <tbody>\n",
       "    <tr>\n",
       "      <th>0</th>\n",
       "      <td>233</td>\n",
       "      <td>16</td>\n",
       "      <td>100</td>\n",
       "      <td>0</td>\n",
       "      <td>0</td>\n",
       "      <td>599</td>\n",
       "      <td>6</td>\n",
       "      <td>9.32</td>\n",
       "      <td>0.17</td>\n",
       "      <td>1U</td>\n",
       "      <td>367</td>\n",
       "      <td>3.6</td>\n",
       "      <td>18</td>\n",
       "      <td>24</td>\n",
       "      <td>Ar</td>\n",
       "    </tr>\n",
       "  </tbody>\n",
       "</table>\n",
       "</div>"
      ],
      "text/plain": [
       "   mean_energy  unc_me  intensity_beta  unc_ib  daughter_level_energy  \\\n",
       "0          233      16             100       0                      0   \n",
       "\n",
       "   max_energy  unc_me.1  log_ft  unc_lf transition_type  anti_nu_mean_energy  \\\n",
       "0         599         6    9.32    0.17              1U                  367   \n",
       "\n",
       "   unc_ame  p_z  p_n p_symbol  \n",
       "0      3.6   18   24       Ar  "
      ]
     },
     "execution_count": 19,
     "metadata": {},
     "output_type": "execute_result"
    }
   ],
   "source": [
    "df = lc_read_csv(livechart + \"fields=decay_rads&nuclides=42ar&rad_types=bm\")\n",
    "df.iloc[ : , : 15]"
   ]
  },
  {
   "cell_type": "code",
   "execution_count": 17,
   "metadata": {},
   "outputs": [
    {
     "data": {
      "text/html": [
       "<div>\n",
       "<style scoped>\n",
       "    .dataframe tbody tr th:only-of-type {\n",
       "        vertical-align: middle;\n",
       "    }\n",
       "\n",
       "    .dataframe tbody tr th {\n",
       "        vertical-align: top;\n",
       "    }\n",
       "\n",
       "    .dataframe thead th {\n",
       "        text-align: right;\n",
       "    }\n",
       "</style>\n",
       "<table border=\"1\" class=\"dataframe\">\n",
       "  <thead>\n",
       "    <tr style=\"text-align: right;\">\n",
       "      <th></th>\n",
       "      <th>unc_lf</th>\n",
       "      <th>transition_type</th>\n",
       "      <th>anti_nu_mean_energy</th>\n",
       "      <th>unc_ame</th>\n",
       "      <th>p_z</th>\n",
       "      <th>p_n</th>\n",
       "      <th>p_symbol</th>\n",
       "      <th>p_energy_shift</th>\n",
       "      <th>p_energy</th>\n",
       "    </tr>\n",
       "  </thead>\n",
       "  <tbody>\n",
       "    <tr>\n",
       "      <th>0</th>\n",
       "      <td>0.17</td>\n",
       "      <td>1U</td>\n",
       "      <td>367</td>\n",
       "      <td>3.6</td>\n",
       "      <td>18</td>\n",
       "      <td>24</td>\n",
       "      <td>Ar</td>\n",
       "      <td></td>\n",
       "      <td>0</td>\n",
       "    </tr>\n",
       "  </tbody>\n",
       "</table>\n",
       "</div>"
      ],
      "text/plain": [
       "   unc_lf transition_type  anti_nu_mean_energy  unc_ame  p_z  p_n p_symbol  \\\n",
       "0    0.17              1U                  367      3.6   18   24       Ar   \n",
       "\n",
       "  p_energy_shift  p_energy  \n",
       "0                        0  "
      ]
     },
     "execution_count": 17,
     "metadata": {},
     "output_type": "execute_result"
    }
   ],
   "source": [
    "df.iloc[ : , 15: ]"
   ]
  },
  {
   "cell_type": "code",
   "execution_count": null,
   "metadata": {},
   "outputs": [],
   "source": []
  }
 ],
 "metadata": {
  "colab": {
   "collapsed_sections": [],
   "name": "Energy.ipynb",
   "provenance": []
  },
  "kernelspec": {
   "display_name": "Python 3",
   "language": "python",
   "name": "python3"
  },
  "language_info": {
   "codemirror_mode": {
    "name": "ipython",
    "version": 3
   },
   "file_extension": ".py",
   "mimetype": "text/x-python",
   "name": "python",
   "nbconvert_exporter": "python",
   "pygments_lexer": "ipython3",
   "version": "3.8.3"
  }
 },
 "nbformat": 4,
 "nbformat_minor": 1
}
