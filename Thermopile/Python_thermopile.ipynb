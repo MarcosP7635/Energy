{
  "nbformat": 4,
  "nbformat_minor": 0,
  "metadata": {
    "colab": {
      "name": "Ptyhon_thermopile.ipynb",
      "provenance": []
    },
    "kernelspec": {
      "name": "python3",
      "display_name": "Python 3"
    },
    "language_info": {
      "name": "python"
    }
  },
  "cells": [
    {
      "cell_type": "code",
      "execution_count": null,
      "metadata": {
        "id": "sggeNJJ2wQwI"
      },
      "outputs": [],
      "source": [
        "from sympy.abc import *\n",
        "import astropy.units as units\n",
        "import astropy.constants as constants\n",
        "import matplotlib.pyplot as plt\n",
        "import sympy as sym\n",
        "import numpy as np \n",
        "import pandas as pd\n",
        "import plotly.express as px\n",
        "import plotly.figure_factory as ff\n",
        "import requests\n",
        "import re\n",
        "import os"
      ]
    },
    {
      "cell_type": "code",
      "source": [
        "def thermocouple_efficiency(\n",
        "seebeck, heat_capacity, delta_t,\n",
        "resistance, time):\n",
        "        energy_in = delta_t * heat_capacity\n",
        "        voltage = seebeck * delta_t\n",
        "        current = voltage / resistance\n",
        "        power_out = resistance * (current ** 2)\n",
        "        energy_out = power_out * time\n",
        "        return (energy_out / energy_in)"
      ],
      "metadata": {
        "id": "U9b7UqwEw_Uh"
      },
      "execution_count": null,
      "outputs": []
    },
    {
      "cell_type": "code",
      "source": [
        "thermocouple_efficiency(\n",
        "seebeck = 10**-5,\n",
        "heat_capacity = \n",
        ")"
      ],
      "metadata": {
        "id": "4vaPu4jj0AGa"
      },
      "execution_count": null,
      "outputs": []
    }
  ]
}