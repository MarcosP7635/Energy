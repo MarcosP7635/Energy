{
  "cells": [
    {
      "cell_type": "code",
      "execution_count": 3,
      "metadata": {
        "id": "sggeNJJ2wQwI"
      },
      "outputs": [],
      "source": [
        "using Unitful \n",
        "#quantity * @u_str(\"unit abbreviation\") \n",
        "using Symbolics\n",
        "using Latexify\n"
      ]
    },
    {
      "cell_type": "markdown",
      "metadata": {},
      "source": [
        "Must enter at least one of the following pairs: \n",
        "    heat_capacity and delta_t;\n",
        "    energy_in and voltage;\n",
        "    voltage and resistance\n",
        "All of the entered values can be functions of time (which in a practical sense would need to correspond with temperature) and all inputs must be floats or arrays of floats (64 bit)."
      ]
    },
    {
      "cell_type": "code",
      "execution_count": 12,
      "metadata": {
        "id": "U9b7UqwEw_Uh"
      },
      "outputs": [
        {
          "data": {
            "text/plain": [
              "2-element Vector{Float64}:\n",
              " 1.0\n",
              " 2.0"
            ]
          },
          "metadata": {},
          "output_type": "display_data"
        }
      ],
      "source": [
        "function thermocouple_efficiency(time::Float64, resistance::Float64, \n",
        "                                seebeck::Float64, heat_capacity::Float64, \n",
        "                                delta_t::Float64)\n",
        "        energy_in = delta_t * heat_capacity\n",
        "        voltage = seebeck * delta_t\n",
        "        #must have calculated voltage\n",
        "        return ( (voltage ^ 2) / (resistance * energy_in / time))\n",
        "end\n",
        "function thermocouple_efficiency(time::Vector{Float64}, resistance::Vector{Float64}, \n",
        "                                seebeck::Vector{Float64}, heat_capacity::Vector{Float64}, \n",
        "                                delta_t::Vector{Float64})\n",
        "        print(\"cat\")\n",
        "end\n",
        "any_vector(input) = convert(Vector{Any}, input)\n",
        "float_vector(input) = convert(Vector{Float64}, input)\n",
        "float_vector([1,2])"
      ]
    },
    {
      "cell_type": "code",
      "execution_count": 13,
      "metadata": {},
      "outputs": [
        {
          "ename": "MethodError",
          "evalue": "MethodError: no method matching thermocouple_efficiency(; time=[1.0, 2.0], resistance=[1.0, 2.0], seebeck=[1.0, 2.0], heat_capacity=[1.0, 2.0], delta_t=[1.0, 2.0])\nClosest candidates are:\n  thermocouple_efficiency(!Matched::Vector{Any}, !Matched::Vector{Any}, !Matched::Vector{Any}, !Matched::Vector{Any}, !Matched::Vector{Any}) at c:\\Users\\engin\\Documents\\GitHub\\Energy\\Thermopile\\Julia_thermopile.ipynb:9 got unsupported keyword arguments \"time\", \"resistance\", \"seebeck\", \"heat_capacity\", \"delta_t\"\n  thermocouple_efficiency(!Matched::Float64, !Matched::Float64, !Matched::Float64, !Matched::Float64, !Matched::Float64) at c:\\Users\\engin\\Documents\\GitHub\\Energy\\Thermopile\\Julia_thermopile.ipynb:1 got unsupported keyword arguments \"time\", \"resistance\", \"seebeck\", \"heat_capacity\", \"delta_t\"\n  thermocouple_efficiency(!Matched::Float64, !Matched::Any, !Matched::Any, !Matched::Any, !Matched::Any) at c:\\Users\\engin\\Documents\\GitHub\\Energy\\Thermopile\\Julia_thermopile.ipynb:1 got unsupported keyword arguments \"time\", \"resistance\", \"seebeck\", \"heat_capacity\", \"delta_t\"\n  ...",
          "output_type": "error",
          "traceback": [
            "MethodError: no method matching thermocouple_efficiency(; time=[1.0, 2.0], resistance=[1.0, 2.0], seebeck=[1.0, 2.0], heat_capacity=[1.0, 2.0], delta_t=[1.0, 2.0])\n",
            "Closest candidates are:\n",
            "  thermocouple_efficiency(!Matched::Vector{Any}, !Matched::Vector{Any}, !Matched::Vector{Any}, !Matched::Vector{Any}, !Matched::Vector{Any}) at c:\\Users\\engin\\Documents\\GitHub\\Energy\\Thermopile\\Julia_thermopile.ipynb:9 got unsupported keyword arguments \"time\", \"resistance\", \"seebeck\", \"heat_capacity\", \"delta_t\"\n",
            "  thermocouple_efficiency(!Matched::Float64, !Matched::Float64, !Matched::Float64, !Matched::Float64, !Matched::Float64) at c:\\Users\\engin\\Documents\\GitHub\\Energy\\Thermopile\\Julia_thermopile.ipynb:1 got unsupported keyword arguments \"time\", \"resistance\", \"seebeck\", \"heat_capacity\", \"delta_t\"\n",
            "  thermocouple_efficiency(!Matched::Float64, !Matched::Any, !Matched::Any, !Matched::Any, !Matched::Any) at c:\\Users\\engin\\Documents\\GitHub\\Energy\\Thermopile\\Julia_thermopile.ipynb:1 got unsupported keyword arguments \"time\", \"resistance\", \"seebeck\", \"heat_capacity\", \"delta_t\"\n",
            "  ...\n",
            "\n",
            "Stacktrace:\n",
            "  [1] top-level scope\n",
            "    @ c:\\Users\\engin\\Documents\\GitHub\\Energy\\Thermopile\\Julia_thermopile.ipynb:2\n",
            "  [2] eval\n",
            "    @ .\\boot.jl:373 [inlined]\n",
            "  [3] include_string(mapexpr::typeof(REPL.softscope), mod::Module, code::String, filename::String)\n",
            "    @ Base .\\loading.jl:1196\n",
            "  [4] #invokelatest#2\n",
            "    @ .\\essentials.jl:716 [inlined]\n",
            "  [5] invokelatest\n",
            "    @ .\\essentials.jl:714 [inlined]\n",
            "  [6] (::VSCodeServer.var\"#164#165\"{VSCodeServer.NotebookRunCellArguments, String})()\n",
            "    @ VSCodeServer c:\\Users\\engin\\.vscode\\extensions\\julialang.language-julia-1.6.17\\scripts\\packages\\VSCodeServer\\src\\serve_notebook.jl:19\n",
            "  [7] withpath(f::VSCodeServer.var\"#164#165\"{VSCodeServer.NotebookRunCellArguments, String}, path::String)\n",
            "    @ VSCodeServer c:\\Users\\engin\\.vscode\\extensions\\julialang.language-julia-1.6.17\\scripts\\packages\\VSCodeServer\\src\\repl.jl:184\n",
            "  [8] notebook_runcell_request(conn::VSCodeServer.JSONRPC.JSONRPCEndpoint{Base.PipeEndpoint, Base.PipeEndpoint}, params::VSCodeServer.NotebookRunCellArguments)\n",
            "    @ VSCodeServer c:\\Users\\engin\\.vscode\\extensions\\julialang.language-julia-1.6.17\\scripts\\packages\\VSCodeServer\\src\\serve_notebook.jl:13\n",
            "  [9] dispatch_msg(x::VSCodeServer.JSONRPC.JSONRPCEndpoint{Base.PipeEndpoint, Base.PipeEndpoint}, dispatcher::VSCodeServer.JSONRPC.MsgDispatcher, msg::Dict{String, Any})\n",
            "    @ VSCodeServer.JSONRPC c:\\Users\\engin\\.vscode\\extensions\\julialang.language-julia-1.6.17\\scripts\\packages\\JSONRPC\\src\\typed.jl:67\n",
            " [10] serve_notebook(pipename::String, outputchannel_logger::Base.CoreLogging.SimpleLogger; crashreporting_pipename::String)\n",
            "    @ VSCodeServer c:\\Users\\engin\\.vscode\\extensions\\julialang.language-julia-1.6.17\\scripts\\packages\\VSCodeServer\\src\\serve_notebook.jl:136\n",
            " [11] top-level scope\n",
            "    @ c:\\Users\\engin\\.vscode\\extensions\\julialang.language-julia-1.6.17\\scripts\\notebook\\notebook.jl:32\n",
            " [12] include(mod::Module, _path::String)\n",
            "    @ Base .\\Base.jl:418\n",
            " [13] exec_options(opts::Base.JLOptions)\n",
            "    @ Base .\\client.jl:292\n",
            " [14] _start()\n",
            "    @ Base .\\client.jl:495"
          ]
        }
      ],
      "source": [
        "a = float_vector([1,2])\n",
        "thermocouple_efficiency(time = a, resistance = a, seebeck = a, \n",
        "                        heat_capacity = a, delta_t = a)"
      ]
    },
    {
      "cell_type": "code",
      "execution_count": 6,
      "metadata": {},
      "outputs": [
        {
          "data": {
            "text/plain": [
              "2-element Vector{Int64}:\n",
              " 4\n",
              " 6"
            ]
          },
          "metadata": {},
          "output_type": "display_data"
        }
      ],
      "source": [
        "dog(any_vector([1,2]), any_vector([3,4]))"
      ]
    },
    {
      "cell_type": "code",
      "execution_count": null,
      "metadata": {},
      "outputs": [],
      "source": [
        "a = any_vector([1,2])\n",
        "thermocouple_efficiency(time = a, resistance = a, seebeck = a, heat_capacity = a, delta_t = a)"
      ]
    }
  ],
  "metadata": {
    "colab": {
      "name": "Ptyhon_thermopile.ipynb",
      "provenance": []
    },
    "interpreter": {
      "hash": "b5623c593edf3a9c30fecf3e392f1a3c31f722d7f93243239e2241963cc60577"
    },
    "kernelspec": {
      "display_name": "Julia 1.7.2",
      "language": "julia",
      "name": "julia-1.7"
    },
    "language_info": {
      "file_extension": ".jl",
      "mimetype": "application/julia",
      "name": "julia",
      "version": "1.7.2"
    }
  },
  "nbformat": 4,
  "nbformat_minor": 0
}
