{
  "cells": [
    {
      "cell_type": "code",
      "execution_count": 2,
      "metadata": {
        "id": "sggeNJJ2wQwI"
      },
      "outputs": [],
      "source": [
        "using Unitful #https://painterqubits.github.io/Unitful.jl/stable/\n",
        "#quantity * @u_str(\"unit abbreviation\") \n",
        "using Symbolics #https://symbolics.juliasymbolics.org/dev/\n",
        "#cite https://doi.org/10.48550/arXiv.2105.03949\n",
        "using Latexify\n",
        "using Test\n",
        "#1 * @u_str(\"mA\") is 1 milliamp"
      ]
    },
    {
      "cell_type": "markdown",
      "metadata": {},
      "source": [
        "By Ohm's law where P is the power, I is the current, R is the resistance, and V is the voltage\n",
        "\\begin{split}\n",
        "P = I^2R \\quad \\& \\quad V = IR \\quad \\to \\quad P = \\frac{V^2}{R} \\\\\n",
        "\\end{split}\n",
        "For a thermopile where the seebeck coefficient is S, and the instantaneous thermoelectric power output is $P_{out}$\n",
        "\\begin{split}\n",
        "P_{out} = \\frac{(S\\Delta T)^2}{R}\\\\\n",
        "\\end{split}\n"
      ]
    },
    {
      "cell_type": "code",
      "execution_count": 18,
      "metadata": {
        "id": "U9b7UqwEw_Uh"
      },
      "outputs": [
        {
          "data": {
            "text/plain": [
              "power_efficiency (generic function with 1 method)"
            ]
          },
          "metadata": {},
          "output_type": "display_data"
        }
      ],
      "source": [
        "function power_efficiency(power_in, resistance, seebeck, delta_t)\n",
        "        voltage = seebeck * delta_t\n",
        "        return uconvert(Unitful.NoUnits, (voltage ^ 2) / (resistance * power_in))\n",
        "end"
      ]
    },
    {
      "cell_type": "markdown",
      "metadata": {},
      "source": [
        "Now we will test that the power efficiency function works for floats"
      ]
    },
    {
      "cell_type": "code",
      "execution_count": 15,
      "metadata": {},
      "outputs": [
        {
          "data": {
            "text/plain": [
              "\u001b[32m\u001b[1mTest Passed\u001b[22m\u001b[39m\n",
              "  Expression: power_efficiency(1.0 * u\"W\", 1.0 * u\"Ω\", (1.0 * u\"V\") / u\"K\", 1.0 * u\"K\") == 1\n",
              "   Evaluated: 1.0 == 1"
            ]
          },
          "metadata": {},
          "output_type": "display_data"
        }
      ],
      "source": [
        "Test.@test power_efficiency(1.0 * @u_str(\"W\"), 1.0 * @u_str(\"Ω\"), \n",
        "                            1.0 * @u_str(\"V\") / @u_str(\"K\"), 1.0 * @u_str(\"K\")) == 1\n",
        "                    "
      ]
    },
    {
      "cell_type": "markdown",
      "metadata": {},
      "source": [
        "Now we will test that the power efficiency function works for mathematical variables (without a specified numerical value)"
      ]
    },
    {
      "cell_type": "code",
      "execution_count": 25,
      "metadata": {},
      "outputs": [
        {
          "data": {
            "text/latex": [
              "\\begin{equation}\n",
              "\\frac{{\\Delta}T^{2} S^{2}}{P R}\n",
              "\\end{equation}\n"
            ],
            "text/plain": [
              "((S^2)*(ΔT^2)) / (P*R)"
            ]
          },
          "metadata": {},
          "output_type": "display_data"
        }
      ],
      "source": [
        "P, R, S, ΔT = @variables P, R, S, ΔT\n",
        "output = (S * ΔT)^2 / (R * P)\n",
        "output"
      ]
    },
    {
      "cell_type": "code",
      "execution_count": 26,
      "metadata": {},
      "outputs": [
        {
          "data": {
            "text/plain": [
              "\u001b[32m\u001b[1mTest Passed\u001b[22m\u001b[39m\n",
              "  Expression: power_efficiency(P * u\"W\", R * u\"Ω\", (S * u\"V\") / u\"K\", ΔT * u\"K\") - output == 0\n",
              "   Evaluated: 0 == 0"
            ]
          },
          "metadata": {},
          "output_type": "display_data"
        }
      ],
      "source": [
        "Test.@test power_efficiency(P * @u_str(\"W\"), R * @u_str(\"Ω\"), \n",
        "                            S * @u_str(\"V\") / @u_str(\"K\"), ΔT * @u_str(\"K\")) - output == 0"
      ]
    },
    {
      "cell_type": "markdown",
      "metadata": {},
      "source": [
        "Consider the following scenario: while exploring the solar system, Jessica Watkins discovers an alien using an instrument powered by an RTG. For our purposes, assume the instrument is in a vacuum and not in contact with anything else. At time $t$, assume the decay chain in the RTG is producing a power $P$ in watts, the thermophile has a seebeck coefficient $S$ and heat capacity $C$. What is the power efficiency of the thermophile as a function of time? "
      ]
    },
    {
      "cell_type": "code",
      "execution_count": null,
      "metadata": {},
      "outputs": [],
      "source": []
    }
  ],
  "metadata": {
    "colab": {
      "name": "Ptyhon_thermopile.ipynb",
      "provenance": []
    },
    "interpreter": {
      "hash": "b5623c593edf3a9c30fecf3e392f1a3c31f722d7f93243239e2241963cc60577"
    },
    "kernelspec": {
      "display_name": "Julia 1.7.2",
      "language": "julia",
      "name": "julia-1.7"
    },
    "language_info": {
      "file_extension": ".jl",
      "mimetype": "application/julia",
      "name": "julia",
      "version": "1.7.2"
    }
  },
  "nbformat": 4,
  "nbformat_minor": 0
}
