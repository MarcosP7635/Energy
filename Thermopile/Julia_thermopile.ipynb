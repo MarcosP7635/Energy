{
  "cells": [
    {
      "cell_type": "code",
      "execution_count": 16,
      "metadata": {
        "id": "sggeNJJ2wQwI"
      },
      "outputs": [
        {
          "ename": "LoadError",
          "evalue": "LoadError: MethodError: no method matching parse(::Expr)\nClosest candidates are:\n  parse(!Matched::AbstractString; raise, depwarn) at C:\\Users\\engin\\AppData\\Local\\Programs\\Julia-1.7.2\\share\\julia\\base\\meta.jl:267\n  parse(!Matched::AbstractString, !Matched::Integer; greedy, raise, depwarn) at C:\\Users\\engin\\AppData\\Local\\Programs\\Julia-1.7.2\\share\\julia\\base\\meta.jl:233\nin expression starting at c:\\Users\\engin\\Documents\\GitHub\\Energy\\Thermopile\\Julia_thermopile.ipynb:5",
          "output_type": "error",
          "traceback": [
            "LoadError: MethodError: no method matching parse(::Expr)\n",
            "Closest candidates are:\n",
            "  parse(!Matched::AbstractString; raise, depwarn) at C:\\Users\\engin\\AppData\\Local\\Programs\\Julia-1.7.2\\share\\julia\\base\\meta.jl:267\n",
            "  parse(!Matched::AbstractString, !Matched::Integer; greedy, raise, depwarn) at C:\\Users\\engin\\AppData\\Local\\Programs\\Julia-1.7.2\\share\\julia\\base\\meta.jl:233\n",
            "in expression starting at c:\\Users\\engin\\Documents\\GitHub\\Energy\\Thermopile\\Julia_thermopile.ipynb:5\n",
            "\n",
            "Stacktrace:\n",
            "  [1] var\"@u_str\"(__source__::LineNumberNode, __module__::Module, unit::Any)\n",
            "    @ Unitful C:\\Users\\engin\\.julia\\packages\\Unitful\\SUQzL\\src\\user.jl:630\n",
            "  [2] eval\n",
            "    @ .\\boot.jl:373 [inlined]\n",
            "  [3] include_string(mapexpr::typeof(REPL.softscope), mod::Module, code::String, filename::String)\n",
            "    @ Base .\\loading.jl:1196\n",
            "  [4] #invokelatest#2\n",
            "    @ .\\essentials.jl:716 [inlined]\n",
            "  [5] invokelatest\n",
            "    @ .\\essentials.jl:714 [inlined]\n",
            "  [6] (::VSCodeServer.var\"#164#165\"{VSCodeServer.NotebookRunCellArguments, String})()\n",
            "    @ VSCodeServer c:\\Users\\engin\\.vscode\\extensions\\julialang.language-julia-1.6.17\\scripts\\packages\\VSCodeServer\\src\\serve_notebook.jl:19\n",
            "  [7] withpath(f::VSCodeServer.var\"#164#165\"{VSCodeServer.NotebookRunCellArguments, String}, path::String)\n",
            "    @ VSCodeServer c:\\Users\\engin\\.vscode\\extensions\\julialang.language-julia-1.6.17\\scripts\\packages\\VSCodeServer\\src\\repl.jl:184\n",
            "  [8] notebook_runcell_request(conn::VSCodeServer.JSONRPC.JSONRPCEndpoint{Base.PipeEndpoint, Base.PipeEndpoint}, params::VSCodeServer.NotebookRunCellArguments)\n",
            "    @ VSCodeServer c:\\Users\\engin\\.vscode\\extensions\\julialang.language-julia-1.6.17\\scripts\\packages\\VSCodeServer\\src\\serve_notebook.jl:13\n",
            "  [9] dispatch_msg(x::VSCodeServer.JSONRPC.JSONRPCEndpoint{Base.PipeEndpoint, Base.PipeEndpoint}, dispatcher::VSCodeServer.JSONRPC.MsgDispatcher, msg::Dict{String, Any})\n",
            "    @ VSCodeServer.JSONRPC c:\\Users\\engin\\.vscode\\extensions\\julialang.language-julia-1.6.17\\scripts\\packages\\JSONRPC\\src\\typed.jl:67\n",
            " [10] serve_notebook(pipename::String, outputchannel_logger::Base.CoreLogging.SimpleLogger; crashreporting_pipename::String)\n",
            "    @ VSCodeServer c:\\Users\\engin\\.vscode\\extensions\\julialang.language-julia-1.6.17\\scripts\\packages\\VSCodeServer\\src\\serve_notebook.jl:136\n",
            " [11] top-level scope\n",
            "    @ c:\\Users\\engin\\.vscode\\extensions\\julialang.language-julia-1.6.17\\scripts\\notebook\\notebook.jl:32\n",
            " [12] include(mod::Module, _path::String)\n",
            "    @ Base .\\Base.jl:418\n",
            " [13] exec_options(opts::Base.JLOptions)\n",
            "    @ Base .\\client.jl:292\n",
            " [14] _start()\n",
            "    @ Base .\\client.jl:495"
          ]
        }
      ],
      "source": [
        "using Unitful #https://painterqubits.github.io/Unitful.jl/stable/\n",
        "#quantity * @u_str(\"unit abbreviation\") \n",
        "using Symbolics\n",
        "using Latexify\n",
        "#1 * @u_str(\"mA\") is 1 milliamp"
      ]
    },
    {
      "cell_type": "markdown",
      "metadata": {},
      "source": [
        "Must enter at least one of the following pairs: \n",
        "    heat_capacity and delta_t;\n",
        "    energy_in and voltage;\n",
        "    voltage and resistance\n",
        "All of the entered values can be functions of time (which in a practical sense would need to correspond with temperature) and all inputs must be floats or arrays of floats (64 bit)."
      ]
    },
    {
      "cell_type": "code",
      "execution_count": 23,
      "metadata": {
        "id": "U9b7UqwEw_Uh"
      },
      "outputs": [
        {
          "data": {
            "text/plain": [
              "power_efficiency (generic function with 1 method)"
            ]
          },
          "metadata": {},
          "output_type": "display_data"
        }
      ],
      "source": [
        "function power_efficiency(power_in, resistance, seebeck, heat_capacity, delta_t)\n",
        "        energy_in = delta_t * heat_capacity\n",
        "        voltage = seebeck * delta_t\n",
        "        return uconvert(Unitful.NoUnits, (voltage ^ 2) / (resistance * power_in))\n",
        "end"
      ]
    },
    {
      "cell_type": "code",
      "execution_count": 24,
      "metadata": {},
      "outputs": [
        {
          "data": {
            "text/plain": [
              "1.0"
            ]
          },
          "metadata": {},
          "output_type": "display_data"
        }
      ],
      "source": [
        "power_efficiency(1.0 * @u_str(\"W\"), 1.0 * @u_str(\"Ω\"), 1.0 * @u_str(\"V\") / @u_str(\"K\"), \n",
        "                    1.0 * @u_str(\"J\") / @u_str(\"K\"), 1.0 * @u_str(\"K\"))"
      ]
    },
    {
      "cell_type": "code",
      "execution_count": null,
      "metadata": {},
      "outputs": [],
      "source": []
    }
  ],
  "metadata": {
    "colab": {
      "name": "Ptyhon_thermopile.ipynb",
      "provenance": []
    },
    "interpreter": {
      "hash": "b5623c593edf3a9c30fecf3e392f1a3c31f722d7f93243239e2241963cc60577"
    },
    "kernelspec": {
      "display_name": "Julia 1.7.2",
      "language": "julia",
      "name": "julia-1.7"
    },
    "language_info": {
      "file_extension": ".jl",
      "mimetype": "application/julia",
      "name": "julia",
      "version": "1.7.2"
    }
  },
  "nbformat": 4,
  "nbformat_minor": 0
}
