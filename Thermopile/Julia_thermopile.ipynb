{
  "cells": [
    {
      "cell_type": "code",
      "execution_count": 3,
      "metadata": {
        "id": "sggeNJJ2wQwI"
      },
      "outputs": [],
      "source": [
        "using Unitful \n",
        "#quantity * @u_str(\"unit abbreviation\") \n",
        "using Symbolics\n",
        "using Latexify\n"
      ]
    },
    {
      "cell_type": "markdown",
      "metadata": {},
      "source": [
        "Must enter at least one of the following pairs: \n",
        "    heat_capacity and delta_t;\n",
        "    energy_in and voltage;\n",
        "    voltage and resistance\n",
        "All of the entered values can be functions of time (which in a practical sense would need to correspond with temperature)"
      ]
    },
    {
      "cell_type": "code",
      "execution_count": 116,
      "metadata": {
        "id": "U9b7UqwEw_Uh"
      },
      "outputs": [
        {
          "data": {
            "text/plain": [
              "thermocouple_efficiency (generic function with 10 methods)"
            ]
          },
          "metadata": {},
          "output_type": "display_data"
        }
      ],
      "source": [
        "function thermocouple_efficiency(time::Float64, resistance, seebeck, heat_capacity, delta_t)\n",
        "        energy_in = delta_t * heat_capacity\n",
        "        voltage = seebeck * delta_t\n",
        "        #must have calculated voltage\n",
        "        return ( (voltage ^ 2) / (resistance * energy_in / time))\n",
        "end\n",
        "function thermocouple_efficiency(time::AbstractVector, resistance::AbstractVector, \n",
        "                                seebeck::AbstractVector, heat_capacity::AbstractVector, \n",
        "                                delta_t::AbstractVector)\n",
        "        print(\"cat\")\n",
        "end\n"
      ]
    },
    {
      "cell_type": "code",
      "execution_count": 119,
      "metadata": {},
      "outputs": [
        {
          "ename": "MethodError",
          "evalue": "MethodError: no method matching thermocouple_efficiency(; time=[1, 2], resistance=[1, 2], seebeck=[1, 2], heat_capacity=[1, 2], delta_t=[1, 2])\nClosest candidates are:\n  thermocouple_efficiency(!Matched::AbstractVector, !Matched::AbstractVector, !Matched::AbstractVector, !Matched::AbstractVector, !Matched::AbstractVector) at c:\\Users\\engin\\Documents\\GitHub\\Energy\\Thermopile\\Julia_thermopile.ipynb:7 got unsupported keyword arguments \"time\", \"resistance\", \"seebeck\", \"heat_capacity\", \"delta_t\"\n  thermocouple_efficiency(!Matched::AbstractVector, !Matched::Any, !Matched::Any, !Matched::Any, !Matched::Any) at c:\\Users\\engin\\Documents\\GitHub\\Energy\\Thermopile\\Julia_thermopile.ipynb:7 got unsupported keyword arguments \"time\", \"resistance\", \"seebeck\", \"heat_capacity\", \"delta_t\"\n  thermocouple_efficiency(!Matched::Float64, !Matched::Any, !Matched::Any, !Matched::Any, !Matched::Any) at c:\\Users\\engin\\Documents\\GitHub\\Energy\\Thermopile\\Julia_thermopile.ipynb:1 got unsupported keyword arguments \"time\", \"resistance\", \"seebeck\", \"heat_capacity\", \"delta_t\"\n  ...",
          "output_type": "error",
          "traceback": [
            "MethodError: no method matching thermocouple_efficiency(; time=[1, 2], resistance=[1, 2], seebeck=[1, 2], heat_capacity=[1, 2], delta_t=[1, 2])\n",
            "Closest candidates are:\n",
            "  thermocouple_efficiency(!Matched::AbstractVector, !Matched::AbstractVector, !Matched::AbstractVector, !Matched::AbstractVector, !Matched::AbstractVector) at c:\\Users\\engin\\Documents\\GitHub\\Energy\\Thermopile\\Julia_thermopile.ipynb:7 got unsupported keyword arguments \"time\", \"resistance\", \"seebeck\", \"heat_capacity\", \"delta_t\"\n",
            "  thermocouple_efficiency(!Matched::AbstractVector, !Matched::Any, !Matched::Any, !Matched::Any, !Matched::Any) at c:\\Users\\engin\\Documents\\GitHub\\Energy\\Thermopile\\Julia_thermopile.ipynb:7 got unsupported keyword arguments \"time\", \"resistance\", \"seebeck\", \"heat_capacity\", \"delta_t\"\n",
            "  thermocouple_efficiency(!Matched::Float64, !Matched::Any, !Matched::Any, !Matched::Any, !Matched::Any) at c:\\Users\\engin\\Documents\\GitHub\\Energy\\Thermopile\\Julia_thermopile.ipynb:1 got unsupported keyword arguments \"time\", \"resistance\", \"seebeck\", \"heat_capacity\", \"delta_t\"\n",
            "  ...\n",
            "\n",
            "Stacktrace:\n",
            "  [1] top-level scope\n",
            "    @ c:\\Users\\engin\\Documents\\GitHub\\Energy\\Thermopile\\Julia_thermopile.ipynb:1\n",
            "  [2] eval\n",
            "    @ .\\boot.jl:373 [inlined]\n",
            "  [3] include_string(mapexpr::typeof(REPL.softscope), mod::Module, code::String, filename::String)\n",
            "    @ Base .\\loading.jl:1196\n",
            "  [4] #invokelatest#2\n",
            "    @ .\\essentials.jl:716 [inlined]\n",
            "  [5] invokelatest\n",
            "    @ .\\essentials.jl:714 [inlined]\n",
            "  [6] (::VSCodeServer.var\"#164#165\"{VSCodeServer.NotebookRunCellArguments, String})()\n",
            "    @ VSCodeServer c:\\Users\\engin\\.vscode\\extensions\\julialang.language-julia-1.6.17\\scripts\\packages\\VSCodeServer\\src\\serve_notebook.jl:19\n",
            "  [7] withpath(f::VSCodeServer.var\"#164#165\"{VSCodeServer.NotebookRunCellArguments, String}, path::String)\n",
            "    @ VSCodeServer c:\\Users\\engin\\.vscode\\extensions\\julialang.language-julia-1.6.17\\scripts\\packages\\VSCodeServer\\src\\repl.jl:184\n",
            "  [8] notebook_runcell_request(conn::VSCodeServer.JSONRPC.JSONRPCEndpoint{Base.PipeEndpoint, Base.PipeEndpoint}, params::VSCodeServer.NotebookRunCellArguments)\n",
            "    @ VSCodeServer c:\\Users\\engin\\.vscode\\extensions\\julialang.language-julia-1.6.17\\scripts\\packages\\VSCodeServer\\src\\serve_notebook.jl:13\n",
            "  [9] dispatch_msg(x::VSCodeServer.JSONRPC.JSONRPCEndpoint{Base.PipeEndpoint, Base.PipeEndpoint}, dispatcher::VSCodeServer.JSONRPC.MsgDispatcher, msg::Dict{String, Any})\n",
            "    @ VSCodeServer.JSONRPC c:\\Users\\engin\\.vscode\\extensions\\julialang.language-julia-1.6.17\\scripts\\packages\\JSONRPC\\src\\typed.jl:67\n",
            " [10] serve_notebook(pipename::String, outputchannel_logger::Base.CoreLogging.SimpleLogger; crashreporting_pipename::String)\n",
            "    @ VSCodeServer c:\\Users\\engin\\.vscode\\extensions\\julialang.language-julia-1.6.17\\scripts\\packages\\VSCodeServer\\src\\serve_notebook.jl:136\n",
            " [11] top-level scope\n",
            "    @ c:\\Users\\engin\\.vscode\\extensions\\julialang.language-julia-1.6.17\\scripts\\notebook\\notebook.jl:32\n",
            " [12] include(mod::Module, _path::String)\n",
            "    @ Base .\\Base.jl:418\n",
            " [13] exec_options(opts::Base.JLOptions)\n",
            "    @ Base .\\client.jl:292\n",
            " [14] _start()\n",
            "    @ Base .\\client.jl:495"
          ]
        }
      ],
      "source": [
        "thermocouple_efficiency(time = [1,2], resistance = [1,2], seebeck =[1,2] , heat_capacity=[1,2], delta_t=[1,2])"
      ]
    },
    {
      "cell_type": "code",
      "execution_count": 84,
      "metadata": {
        "id": "4vaPu4jj0AGa"
      },
      "outputs": [
        {
          "ename": "MethodError",
          "evalue": "MethodError: no method matching thermocouple_efficiency(; cat=\"cute\")\nClosest candidates are:\n  thermocouple_efficiency(!Matched::Any) at c:\\Users\\engin\\Documents\\GitHub\\Energy\\Thermopile\\Julia_thermopile.ipynb:7 got unsupported keyword argument \"cat\"\n  thermocouple_efficiency(!Matched::Any, !Matched::Any) at c:\\Users\\engin\\Documents\\GitHub\\Energy\\Thermopile\\Julia_thermopile.ipynb:1 got unsupported keyword argument \"cat\"\n  thermocouple_efficiency(!Matched::Any, !Matched::Any, !Matched::Any) at c:\\Users\\engin\\Documents\\GitHub\\Energy\\Thermopile\\Julia_thermopile.ipynb:1 got unsupported keyword argument \"cat\"\n  ...",
          "output_type": "error",
          "traceback": [
            "MethodError: no method matching thermocouple_efficiency(; cat=\"cute\")\n",
            "Closest candidates are:\n",
            "  thermocouple_efficiency(!Matched::Any) at c:\\Users\\engin\\Documents\\GitHub\\Energy\\Thermopile\\Julia_thermopile.ipynb:7 got unsupported keyword argument \"cat\"\n",
            "  thermocouple_efficiency(!Matched::Any, !Matched::Any) at c:\\Users\\engin\\Documents\\GitHub\\Energy\\Thermopile\\Julia_thermopile.ipynb:1 got unsupported keyword argument \"cat\"\n",
            "  thermocouple_efficiency(!Matched::Any, !Matched::Any, !Matched::Any) at c:\\Users\\engin\\Documents\\GitHub\\Energy\\Thermopile\\Julia_thermopile.ipynb:1 got unsupported keyword argument \"cat\"\n",
            "  ...\n",
            "\n",
            "Stacktrace:\n",
            "  [1] top-level scope\n",
            "    @ c:\\Users\\engin\\Documents\\GitHub\\Energy\\Thermopile\\Julia_thermopile.ipynb:1\n",
            "  [2] eval\n",
            "    @ .\\boot.jl:373 [inlined]\n",
            "  [3] include_string(mapexpr::typeof(REPL.softscope), mod::Module, code::String, filename::String)\n",
            "    @ Base .\\loading.jl:1196\n",
            "  [4] #invokelatest#2\n",
            "    @ .\\essentials.jl:716 [inlined]\n",
            "  [5] invokelatest\n",
            "    @ .\\essentials.jl:714 [inlined]\n",
            "  [6] (::VSCodeServer.var\"#164#165\"{VSCodeServer.NotebookRunCellArguments, String})()\n",
            "    @ VSCodeServer c:\\Users\\engin\\.vscode\\extensions\\julialang.language-julia-1.6.17\\scripts\\packages\\VSCodeServer\\src\\serve_notebook.jl:19\n",
            "  [7] withpath(f::VSCodeServer.var\"#164#165\"{VSCodeServer.NotebookRunCellArguments, String}, path::String)\n",
            "    @ VSCodeServer c:\\Users\\engin\\.vscode\\extensions\\julialang.language-julia-1.6.17\\scripts\\packages\\VSCodeServer\\src\\repl.jl:184\n",
            "  [8] notebook_runcell_request(conn::VSCodeServer.JSONRPC.JSONRPCEndpoint{Base.PipeEndpoint, Base.PipeEndpoint}, params::VSCodeServer.NotebookRunCellArguments)\n",
            "    @ VSCodeServer c:\\Users\\engin\\.vscode\\extensions\\julialang.language-julia-1.6.17\\scripts\\packages\\VSCodeServer\\src\\serve_notebook.jl:13\n",
            "  [9] dispatch_msg(x::VSCodeServer.JSONRPC.JSONRPCEndpoint{Base.PipeEndpoint, Base.PipeEndpoint}, dispatcher::VSCodeServer.JSONRPC.MsgDispatcher, msg::Dict{String, Any})\n",
            "    @ VSCodeServer.JSONRPC c:\\Users\\engin\\.vscode\\extensions\\julialang.language-julia-1.6.17\\scripts\\packages\\JSONRPC\\src\\typed.jl:67\n",
            " [10] serve_notebook(pipename::String, outputchannel_logger::Base.CoreLogging.SimpleLogger; crashreporting_pipename::String)\n",
            "    @ VSCodeServer c:\\Users\\engin\\.vscode\\extensions\\julialang.language-julia-1.6.17\\scripts\\packages\\VSCodeServer\\src\\serve_notebook.jl:136\n",
            " [11] top-level scope\n",
            "    @ c:\\Users\\engin\\.vscode\\extensions\\julialang.language-julia-1.6.17\\scripts\\notebook\\notebook.jl:32\n",
            " [12] include(mod::Module, _path::String)\n",
            "    @ Base .\\Base.jl:418\n",
            " [13] exec_options(opts::Base.JLOptions)\n",
            "    @ Base .\\client.jl:292\n",
            " [14] _start()\n",
            "    @ Base .\\client.jl:495"
          ]
        }
      ],
      "source": [
        "power_in = nothing, voltage = nothing, current = voltage / resistance"
      ]
    },
    {
      "cell_type": "code",
      "execution_count": 127,
      "metadata": {},
      "outputs": [
        {
          "data": {
            "text/plain": [
              "dog (generic function with 11 methods)"
            ]
          },
          "metadata": {},
          "output_type": "display_data"
        }
      ],
      "source": [
        "dog(cat::Float64, fish::Float64) = cat + 1 - fish\n",
        "dog(cat::AbstractVector, fish::Float64) = \"cat\" * string(fish-1)"
      ]
    },
    {
      "cell_type": "code",
      "execution_count": 128,
      "metadata": {},
      "outputs": [
        {
          "data": {
            "text/plain": [
              "\"cat10\""
            ]
          },
          "metadata": {},
          "output_type": "display_data"
        }
      ],
      "source": [
        "dog([1,2], Int(10))"
      ]
    },
    {
      "cell_type": "code",
      "execution_count": null,
      "metadata": {},
      "outputs": [],
      "source": []
    }
  ],
  "metadata": {
    "colab": {
      "name": "Ptyhon_thermopile.ipynb",
      "provenance": []
    },
    "kernelspec": {
      "display_name": "Julia 1.7.2",
      "language": "julia",
      "name": "julia-1.7"
    },
    "language_info": {
      "file_extension": ".jl",
      "mimetype": "application/julia",
      "name": "julia",
      "version": "1.7.2"
    }
  },
  "nbformat": 4,
  "nbformat_minor": 0
}
