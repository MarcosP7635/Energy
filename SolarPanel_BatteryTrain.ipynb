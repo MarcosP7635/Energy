{
  "cells": [
    {
      "cell_type": "markdown",
      "metadata": {
        "id": "iQNcE8FENrry"
      },
      "source": [
        "Consider a large solar farm in the desert which also happens to be in the center of a train network. How many batteries are required for the power from the solar farm to be used where needed?\n",
        "\n",
        "$A$ is the area of the solar farm and $\\rho$ is the specific energy of the batteries in J/kg. \n",
        "Accounting for night time, assume that the solar panels have net power generated of $\\alpha$ W/m $^2$. "
      ]
    },
    {
      "cell_type": "markdown",
      "metadata": {},
      "source": [
        "We have for the mass of the batteries needed to be shipped out per second"
      ]
    },
    {
      "cell_type": "code",
      "execution_count": 1,
      "metadata": {},
      "outputs": [
        {
          "name": "stdout",
          "output_type": "stream",
          "text": [
            "Requirement already satisfied: sympy in c:\\users\\engin\\anaconda3\\envs\\heroku_39_env\\lib\\site-packages (1.10.1)\n",
            "Requirement already satisfied: mpmath>=0.19 in c:\\users\\engin\\anaconda3\\envs\\heroku_39_env\\lib\\site-packages (from sympy) (1.2.1)\n"
          ]
        }
      ],
      "source": [
        "!pip install sympy -U"
      ]
    },
    {
      "cell_type": "code",
      "execution_count": 18,
      "metadata": {},
      "outputs": [],
      "source": [
        "import astropy.constants as const\n",
        "import pandas as pd\n",
        "import plotly.express as px\n",
        "import mpmath\n",
        "import astropy.units as units\n",
        "import numpy as np\n",
        "from sympy.abc import * \n",
        "import sympy\n",
        "from sympy import latex\n",
        "from IPython.display import Markdown as md\n",
        "\n",
        "def show(input):\n",
        "  return md(\"$\\\\Large \" + input + \"$\")\n",
        "\n",
        "def showln(input):\n",
        "  return md(\"$$\" + input + \"$$\" )\n",
        "\n",
        "def explanation_latex(explanation, input):\n",
        "    return md(explanation + \" $$ \\\\large \" + input + \"$$\")"
      ]
    },
    {
      "cell_type": "code",
      "execution_count": 19,
      "metadata": {
        "id": "ZGBVJqdHNnxc"
      },
      "outputs": [
        {
          "data": {
            "text/markdown": [
              "We have for the rate of batteries charged, $r$ $$ \\large r = \\frac{A \\alpha}{\\rho}$$"
            ],
            "text/plain": [
              "<IPython.core.display.Markdown object>"
            ]
          },
          "execution_count": 19,
          "metadata": {},
          "output_type": "execute_result"
        }
      ],
      "source": [
        "P = A * alpha\n",
        "r = P / rho\n",
        "explanation_latex(explanation = \"We have for the rate of batteries charged, $r$\", \n",
        "                 input = \"r\" + \" = \" + latex(r))"
      ]
    },
    {
      "cell_type": "markdown",
      "metadata": {},
      "source": [
        "Now let's think about what it would take to power the entire world off of lithium ion batteries. \n",
        "Lithium ion batteries have a specific power on the order of $10^{2}$ W/kg. \n",
        "\n",
        "Global power consumption is on the order of $10^{14}$ W. Thus it would take $10^{12}$ kg of lithium ion batteries to power the entire world, and they would need fully charged replacements every $10^4$ seconds.\n",
        "\n",
        "Thus $r$ would be on the order of $10^8$ kg/s"
      ]
    },
    {
      "cell_type": "markdown",
      "metadata": {},
      "source": [
        "Assuming it is possible to mine into the top 100m of the Earth's crust, since lithium abundance is approximately 20 ppm, we have "
      ]
    },
    {
      "cell_type": "code",
      "execution_count": 40,
      "metadata": {},
      "outputs": [
        {
          "data": {
            "text/markdown": [
              "We have for the total amount of lithium that could be mined from the upper 100m of the Earth's crust, $m_c$ $$ \\large a_{lc} = \\mathtt{\\text{3.0672117738632695e+15}}\\mathtt{\\text{kg}}$$"
            ],
            "text/plain": [
              "<IPython.core.display.Markdown object>"
            ]
          },
          "execution_count": 40,
          "metadata": {},
          "output_type": "execute_result"
        }
      ],
      "source": [
        "m_crust, v_crust, sa_earth, a_lc = sympy.symbols('m_crust v_crust sa_earth a_lc')\n",
        "sa_earth = 4 * np.pi * const.R_earth**2\n",
        "v_crust = 100 * units.meter * sa_earth\n",
        "m_crust = 3000 * units.kg/(units.meter ** 3)* v_crust #the crust has a specific gravity of 3\n",
        "a_lc = m_crust * 20 / 10**6\n",
        "unit = a_lc.unit\n",
        "a_lc = np.format_float_scientific(a_lc.value)\n",
        "explanation_latex(explanation = \"We have for the total amount of lithium that could be \" + \n",
        "                                \"mined from the upper 100m of the Earth's crust, $m_c$\",\n",
        "                    input = \"a_{lc}\" + \" = \" + latex(a_lc) + latex(unit))"
      ]
    },
    {
      "cell_type": "code",
      "execution_count": null,
      "metadata": {},
      "outputs": [],
      "source": []
    }
  ],
  "metadata": {
    "colab": {
      "name": "SolarPanel_BatteryTrain.ipynb",
      "provenance": []
    },
    "kernelspec": {
      "display_name": "Python 3.9.13 ('Heroku_39_env')",
      "language": "python",
      "name": "python3"
    },
    "language_info": {
      "codemirror_mode": {
        "name": "ipython",
        "version": 3
      },
      "file_extension": ".py",
      "mimetype": "text/x-python",
      "name": "python",
      "nbconvert_exporter": "python",
      "pygments_lexer": "ipython3",
      "version": "3.9.13"
    },
    "vscode": {
      "interpreter": {
        "hash": "93e603b405028e2ab398d7a85d86124a7ac0b053113ed31068605d4be5533369"
      }
    }
  },
  "nbformat": 4,
  "nbformat_minor": 0
}
