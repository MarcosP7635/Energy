{
  "cells": [
    {
      "cell_type": "code",
      "execution_count": 2,
      "metadata": {
        "id": "Nu0w_mBDfqnH"
      },
      "outputs": [
        {
          "name": "stderr",
          "output_type": "stream",
          "text": [
            "Error importing optional module geopandas\n",
            "Traceback (most recent call last):\n",
            "  File \"c:\\Users\\engin\\anaconda3\\lib\\site-packages\\_plotly_utils\\optional_imports.py\", line 30, in get_module\n",
            "    return import_module(name)\n",
            "  File \"c:\\Users\\engin\\anaconda3\\lib\\importlib\\__init__.py\", line 127, in import_module\n",
            "    return _bootstrap._gcd_import(name[level:], package, level)\n",
            "  File \"<frozen importlib._bootstrap>\", line 1014, in _gcd_import\n",
            "  File \"<frozen importlib._bootstrap>\", line 991, in _find_and_load\n",
            "  File \"<frozen importlib._bootstrap>\", line 975, in _find_and_load_unlocked\n",
            "  File \"<frozen importlib._bootstrap>\", line 671, in _load_unlocked\n",
            "  File \"<frozen importlib._bootstrap_external>\", line 783, in exec_module\n",
            "  File \"<frozen importlib._bootstrap>\", line 219, in _call_with_frames_removed\n",
            "  File \"c:\\Users\\engin\\anaconda3\\lib\\site-packages\\geopandas\\__init__.py\", line 3, in <module>\n",
            "    from geopandas.geoseries import GeoSeries  # noqa\n",
            "  File \"c:\\Users\\engin\\anaconda3\\lib\\site-packages\\geopandas\\geoseries.py\", line 10, in <module>\n",
            "    from shapely.geometry.base import BaseGeometry\n",
            "  File \"c:\\Users\\engin\\anaconda3\\lib\\site-packages\\shapely\\geometry\\__init__.py\", line 4, in <module>\n",
            "    from .base import CAP_STYLE, JOIN_STYLE\n",
            "  File \"c:\\Users\\engin\\anaconda3\\lib\\site-packages\\shapely\\geometry\\base.py\", line 18, in <module>\n",
            "    from shapely.coords import CoordinateSequence\n",
            "  File \"c:\\Users\\engin\\anaconda3\\lib\\site-packages\\shapely\\coords.py\", line 8, in <module>\n",
            "    from shapely.geos import lgeos\n",
            "  File \"c:\\Users\\engin\\anaconda3\\lib\\site-packages\\shapely\\geos.py\", line 145, in <module>\n",
            "    _lgeos = CDLL(os.path.join(sys.prefix, 'Library', 'bin', 'geos_c.dll'))\n",
            "  File \"c:\\Users\\engin\\anaconda3\\lib\\ctypes\\__init__.py\", line 373, in __init__\n",
            "    self._handle = _dlopen(self._name, mode)\n",
            "FileNotFoundError: Could not find module 'c:\\Users\\engin\\anaconda3\\Library\\bin\\geos_c.dll' (or one of its dependencies). Try using the full path with constructor syntax.\n"
          ]
        }
      ],
      "source": [
        "import astropy.units as units\n",
        "import astropy.constants as constants\n",
        "import matplotlib.pyplot as plt\n",
        "import sympy as sym\n",
        "import numpy as np \n",
        "import pandas as pd\n",
        "import plotly.express as px\n",
        "import plotly.figure_factory as ff\n",
        "import plotly.graph_objects as go\n",
        "import requests\n",
        "import re\n",
        "import subprocess\n",
        "import urllib.request\n",
        "from sympy.abc import *\n",
        "from bs4 import BeautifulSoup\n",
        "cwd = subprocess.os.getcwd()"
      ]
    },
    {
      "cell_type": "code",
      "execution_count": 3,
      "metadata": {},
      "outputs": [
        {
          "data": {
            "text/html": [
              "<div>\n",
              "<style scoped>\n",
              "    .dataframe tbody tr th:only-of-type {\n",
              "        vertical-align: middle;\n",
              "    }\n",
              "\n",
              "    .dataframe tbody tr th {\n",
              "        vertical-align: top;\n",
              "    }\n",
              "\n",
              "    .dataframe thead th {\n",
              "        text-align: right;\n",
              "    }\n",
              "</style>\n",
              "<table border=\"1\" class=\"dataframe\">\n",
              "  <thead>\n",
              "    <tr style=\"text-align: right;\">\n",
              "      <th></th>\n",
              "      <th>Beta-decay energy (keV)</th>\n",
              "      <th>Half life (years)</th>\n",
              "      <th>Isotope</th>\n",
              "      <th>Beta-decay fraction</th>\n",
              "      <th>Average beta decay energy</th>\n",
              "      <th>e Folding Time (seconds)</th>\n",
              "    </tr>\n",
              "  </thead>\n",
              "  <tbody>\n",
              "    <tr>\n",
              "      <th>0</th>\n",
              "      <td>*</td>\n",
              "      <td>4.182828e-10</td>\n",
              "      <td>63Se</td>\n",
              "      <td>0.0</td>\n",
              "      <td>5.69</td>\n",
              "      <td>1.904357e-02</td>\n",
              "    </tr>\n",
              "    <tr>\n",
              "      <th>1</th>\n",
              "      <td>21661.2131</td>\n",
              "      <td>2.725176e-30</td>\n",
              "      <td>5H</td>\n",
              "      <td>0.0</td>\n",
              "      <td>5.69</td>\n",
              "      <td>1.240718e-22</td>\n",
              "    </tr>\n",
              "    <tr>\n",
              "      <th>2</th>\n",
              "      <td>-217.0</td>\n",
              "      <td>3.580754e-07</td>\n",
              "      <td>272Bh</td>\n",
              "      <td>0.0</td>\n",
              "      <td>5.69</td>\n",
              "      <td>1.630245e+01</td>\n",
              "    </tr>\n",
              "    <tr>\n",
              "      <th>3</th>\n",
              "      <td>-13088.708</td>\n",
              "      <td>7.115560e-07</td>\n",
              "      <td>21Na</td>\n",
              "      <td>0.0</td>\n",
              "      <td>5.69</td>\n",
              "      <td>3.239572e+01</td>\n",
              "    </tr>\n",
              "    <tr>\n",
              "      <th>4</th>\n",
              "      <td>*</td>\n",
              "      <td>9.506426e-10</td>\n",
              "      <td>82Mo</td>\n",
              "      <td>0.0</td>\n",
              "      <td>5.69</td>\n",
              "      <td>4.328085e-02</td>\n",
              "    </tr>\n",
              "    <tr>\n",
              "      <th>...</th>\n",
              "      <td>...</td>\n",
              "      <td>...</td>\n",
              "      <td>...</td>\n",
              "      <td>...</td>\n",
              "      <td>...</td>\n",
              "      <td>...</td>\n",
              "    </tr>\n",
              "    <tr>\n",
              "      <th>3187</th>\n",
              "      <td>9925.3249</td>\n",
              "      <td>2.851928e-08</td>\n",
              "      <td>106Nb</td>\n",
              "      <td>1.0</td>\n",
              "      <td>5.69</td>\n",
              "      <td>1.298426e+00</td>\n",
              "    </tr>\n",
              "    <tr>\n",
              "      <th>3188</th>\n",
              "      <td>22940.0</td>\n",
              "      <td>3.168809e-11</td>\n",
              "      <td>59K</td>\n",
              "      <td>0.0</td>\n",
              "      <td>5.69</td>\n",
              "      <td>1.442695e-03</td>\n",
              "    </tr>\n",
              "    <tr>\n",
              "      <th>3189</th>\n",
              "      <td>1047.6178</td>\n",
              "      <td>2.564834e-05</td>\n",
              "      <td>146Ce</td>\n",
              "      <td>1.0</td>\n",
              "      <td>5.69</td>\n",
              "      <td>1.167717e+03</td>\n",
              "    </tr>\n",
              "    <tr>\n",
              "      <th>3190</th>\n",
              "      <td>-4581.6095</td>\n",
              "      <td>8.156514e-04</td>\n",
              "      <td>73Se</td>\n",
              "      <td>0.0</td>\n",
              "      <td>284.00</td>\n",
              "      <td>3.713497e+04</td>\n",
              "    </tr>\n",
              "    <tr>\n",
              "      <th>3191</th>\n",
              "      <td>*</td>\n",
              "      <td>4.008543e-09</td>\n",
              "      <td>9C</td>\n",
              "      <td>0.0</td>\n",
              "      <td>5.69</td>\n",
              "      <td>1.825009e-01</td>\n",
              "    </tr>\n",
              "  </tbody>\n",
              "</table>\n",
              "<p>3192 rows × 6 columns</p>\n",
              "</div>"
            ],
            "text/plain": [
              "     Beta-decay energy (keV)  Half life (years) Isotope  Beta-decay fraction  \\\n",
              "0                          *       4.182828e-10    63Se                  0.0   \n",
              "1                 21661.2131       2.725176e-30      5H                  0.0   \n",
              "2                     -217.0       3.580754e-07   272Bh                  0.0   \n",
              "3                 -13088.708       7.115560e-07    21Na                  0.0   \n",
              "4                          *       9.506426e-10    82Mo                  0.0   \n",
              "...                      ...                ...     ...                  ...   \n",
              "3187               9925.3249       2.851928e-08   106Nb                  1.0   \n",
              "3188                 22940.0       3.168809e-11     59K                  0.0   \n",
              "3189               1047.6178       2.564834e-05   146Ce                  1.0   \n",
              "3190              -4581.6095       8.156514e-04    73Se                  0.0   \n",
              "3191                       *       4.008543e-09      9C                  0.0   \n",
              "\n",
              "      Average beta decay energy  e Folding Time (seconds)  \n",
              "0                          5.69              1.904357e-02  \n",
              "1                          5.69              1.240718e-22  \n",
              "2                          5.69              1.630245e+01  \n",
              "3                          5.69              3.239572e+01  \n",
              "4                          5.69              4.328085e-02  \n",
              "...                         ...                       ...  \n",
              "3187                       5.69              1.298426e+00  \n",
              "3188                       5.69              1.442695e-03  \n",
              "3189                       5.69              1.167717e+03  \n",
              "3190                     284.00              3.713497e+04  \n",
              "3191                       5.69              1.825009e-01  \n",
              "\n",
              "[3192 rows x 6 columns]"
            ]
          },
          "execution_count": 3,
          "metadata": {},
          "output_type": "execute_result"
        }
      ],
      "source": [
        "def half_life_to_lambda(half_life):\n",
        "    '''\n",
        "    This function takes the e-folding times of the entire decay chain.\n",
        "    Returns the half-life of the nuclide\n",
        "    '''\n",
        "    return half_life / np.log(2)\n",
        "\n",
        "nuclide_df = pd.read_csv(cwd + '\\\\NuclideData.csv').iloc[:,1:]\n",
        "half_lives = nuclide_df['Half life (years)'].to_numpy() \n",
        "nuclide_df[\"e Folding Time (seconds)\"] = half_life_to_lambda(half_lives * units.year.to(units.s))\n",
        "nuclide_df"
      ]
    },
    {
      "cell_type": "code",
      "execution_count": 4,
      "metadata": {},
      "outputs": [],
      "source": [
        "element_symbols = ['H', 'He', 'Li', 'Be', 'B', 'C', 'N', 'O', \n",
        "'F', 'Ne', 'Na', 'Mg', 'Al', 'Si', 'P', 'S', 'Cl', 'Ar', 'K', \n",
        "'Ca', 'Sc', 'Ti', 'V', 'Cr', 'Mn', 'Fe', 'Co', 'Ni', 'Cu', \n",
        "'Zn', 'Ga', 'Ge', 'As', 'Se', 'Br', 'Kr', 'Rb', 'Sr', 'Y', \n",
        "'Zr', 'Nb', 'Mo', 'Tc', 'Ru', 'Rh', 'Pd', 'Ag', 'Cd', 'In', \n",
        "'Sn', 'Sb', 'Te', 'I', 'Xe', 'Cs', 'Ba', 'La', 'Ce', 'Pr', \n",
        "'Nd', 'Pm', 'Sm', 'Eu', 'Gd', 'Tb', 'Dy', 'Ho', 'Er', 'Tm',\n",
        " 'Yb', 'Lu', 'Hf', 'Ta', 'W', 'Re', 'Os', 'Ir', 'Pt', 'Au', \n",
        " 'Hg', 'Tl', 'Pb', 'Bi', 'Po', 'At', 'Rn', 'Fr', 'Ra', 'Ac', \n",
        " 'Th', 'Pa', 'U', 'Np', 'Pu', 'Am', 'Cm', 'Bk', 'Cf', 'Es', \n",
        " 'Fm', 'Md', 'No', 'Lr', 'Rf', 'Db', 'Sg', 'Bh', 'Hs', 'Mt',\n",
        "  'Ds', 'Rg', 'Cn', 'Nh', 'Fl', 'Mc', 'Lv', 'Ts', 'Og', 'N/A']\n",
        "len(element_symbols)\n",
        "#to find the daughter nuclide we only need to increment by 1 in the element symbols.\n",
        "element_symbols[element_symbols.index('Ni')+1]\n",
        "#remove numbers from string\n",
        "s = element_symbols\n",
        "nuclide_df['Daugher Nucleus'] = [re.sub('\\D+', '', n) + s[s.index(re.sub('\\d+', '', n))+1] \n",
        "if re.sub('\\d+', '', n) in s else 'N/A' for n in nuclide_df['Isotope'] ]"
      ]
    },
    {
      "cell_type": "code",
      "execution_count": 5,
      "metadata": {},
      "outputs": [],
      "source": [
        "def get_isotope_info(isotope, info = None, isotope_column = None,\n",
        "    dataset = {}, isotope_list = None, lists_to_search = []):                  \n",
        "  '''\n",
        "  isotope_list and list_to_search are optional arguments.\n",
        "  If list_to_search is not provided, then info must be provided.\n",
        "  If isotope_list is not provided, then dataset and isotope_column\n",
        "  must be provided.\n",
        "  '''\n",
        "  if isotope_list is None:\n",
        "    isotope_list = list(dataset[isotope_column])\n",
        "  row = isotope_list.index(isotope)\n",
        "  if len(lists_to_search) == 0:\n",
        "    try:\n",
        "      lists_to_search = list(dataset[info])\n",
        "    except:\n",
        "      print(\"info to search for not entered\")\n",
        "      return\n",
        "  try: #only works if there are multiple specified lists to search \n",
        "    return [target_list[row] for target_list in lists_to_search]\n",
        "  except:\n",
        "    return lists_to_search[row]\n"
      ]
    },
    {
      "cell_type": "code",
      "execution_count": 6,
      "metadata": {},
      "outputs": [],
      "source": [
        "isotope_list = list(nuclide_df['Isotope'])\n",
        "lambda_list = list(nuclide_df['e Folding Time (seconds)'])\n",
        "decay_energy_list = list(nuclide_df['Average beta decay energy'])\n",
        "daughter_list = list(nuclide_df['Daugher Nucleus'])"
      ]
    },
    {
      "cell_type": "code",
      "execution_count": 7,
      "metadata": {},
      "outputs": [],
      "source": [
        "def make_decay_chain(isotope, isotope_list, lambda_list, decay_energy_list, daughter_list):\n",
        "    '''\n",
        "    This function takes the isotope, e-folding times, and daughter nuclides\n",
        "    and returns the decay chain.\n",
        "    '''\n",
        "    decay_chain = {}\n",
        "    decay_chain[isotope] = get_isotope_info(isotope, isotope_list = isotope_list, \n",
        "        lists_to_search = (lambda_list, decay_energy_list, daughter_list))\n",
        "    while True:\n",
        "        isotope = decay_chain[isotope][2]\n",
        "        try:\n",
        "            decay_chain[isotope] = get_isotope_info(isotope, isotope_list = isotope_list,\n",
        "                lists_to_search = (lambda_list, decay_energy_list, daughter_list))\n",
        "            if(isotope == decay_chain[isotope][2]):\n",
        "                return decay_chain\n",
        "        except:\n",
        "            return pd.DataFrame(decay_chain, index= (\"e-Folding Time (seconds)\", \n",
        "                                \"Average beta-decay energy\", \"Daughter\")).transpose()\n"
      ]
    },
    {
      "cell_type": "code",
      "execution_count": 8,
      "metadata": {},
      "outputs": [],
      "source": [
        "#Quickly calculating the decay rate of the i-th generation nuclide\n",
        "def formulate_decay_rate(e_folding_times):\n",
        "    '''\n",
        "    The e-folding times must be in a numpy array.\n",
        "    Returns a formula for the decay rate of each generation. \n",
        "    '''\n",
        "    exponent_array = -1 / e_folding_times\n",
        "    decay_rates = len(exponent_array)  * [sym.N(0)]\n",
        "    decay_rates[0] = sym.exp(t * exponent_array[0]) * exponent_array[0]\n",
        "    for index, L in enumerate(exponent_array[1:]):\n",
        "        decay_rates[index+1] = decay_rates[index] * (1 + sym.exp(t * L) * L) \n",
        "    return decay_rates\n",
        "\n",
        "def eval_decay_rates(decay_rates, time_array):\n",
        "    '''\n",
        "    This function takes the formula for the decay rate of each generation\n",
        "    and substitutes each value in the time array for t.\n",
        "    Each decay_rate must be a sympy expression. \n",
        "    https://docs.sympy.org/ \n",
        "    Rewrite so that the outer loop is over the time array and the inner loop\n",
        "    is over the generations. This can be done by using (suggested by copilot: \n",
        "    the np.meshgrid function) or a 2d array (my first thought)\n",
        "    '''\n",
        "    try: #will only evaluate if decay_rates is an array of sympy expressions\n",
        "        evaluated_decay_rates = [np.array([formula.subs(t, time) for formula in decay_rates])\n",
        "                                    for time in time_array]\n",
        "    except:\n",
        "        evaluated_decay_rates = [decay_rates.subs(t, time) for time in time_array]\n",
        "    return evaluated_decay_rates\n",
        "\n",
        "\n",
        "#Calculating the power density of a decay chain\n",
        "def calc_power_density(decay_rates, decay_energies, initial_mass):\n",
        "    '''\n",
        "    Rewrite such that is sums the entire chain and NOT across time\n",
        "    decay_rates must be a numpy array in moles/second\n",
        "    decay_energies must be a numpy array in keV/decay\n",
        "    This function takes the decay rates and energies of the decay chain.\n",
        "    Returns the power density in watts/g\n",
        "    '''\n",
        "    power_density =  [sum(decay_rate_t * decay_energies) for decay_rate_t in decay_rates]\n",
        "    '''\n",
        "    At every different value for time, \n",
        "    store the sum of the product of each generation's decay rate and decay energy.\n",
        "    '''\n",
        "    power_density = np.array(power_density)\n",
        "    #convert to W/g\n",
        "    power_density *=  units.keV.to(units.J) * float(constants.N_A * units.mol) / initial_mass\n",
        "    return np.abs(power_density.astype(float))\n"
      ]
    },
    {
      "cell_type": "code",
      "execution_count": 9,
      "metadata": {},
      "outputs": [
        {
          "data": {
            "text/html": [
              "<div>\n",
              "<style scoped>\n",
              "    .dataframe tbody tr th:only-of-type {\n",
              "        vertical-align: middle;\n",
              "    }\n",
              "\n",
              "    .dataframe tbody tr th {\n",
              "        vertical-align: top;\n",
              "    }\n",
              "\n",
              "    .dataframe thead th {\n",
              "        text-align: right;\n",
              "    }\n",
              "</style>\n",
              "<table border=\"1\" class=\"dataframe\">\n",
              "  <thead>\n",
              "    <tr style=\"text-align: right;\">\n",
              "      <th></th>\n",
              "      <th>e-Folding Time (seconds)</th>\n",
              "      <th>Average beta-decay energy</th>\n",
              "      <th>Daughter</th>\n",
              "    </tr>\n",
              "  </thead>\n",
              "  <tbody>\n",
              "    <tr>\n",
              "      <th>32Si</th>\n",
              "      <td>7.14789e+09</td>\n",
              "      <td>68.8</td>\n",
              "      <td>32P</td>\n",
              "    </tr>\n",
              "    <tr>\n",
              "      <th>32P</th>\n",
              "      <td>1.77861e+06</td>\n",
              "      <td>694.9</td>\n",
              "      <td>32S</td>\n",
              "    </tr>\n",
              "  </tbody>\n",
              "</table>\n",
              "</div>"
            ],
            "text/plain": [
              "     e-Folding Time (seconds) Average beta-decay energy Daughter\n",
              "32Si              7.14789e+09                      68.8      32P\n",
              "32P               1.77861e+06                     694.9      32S"
            ]
          },
          "execution_count": 9,
          "metadata": {},
          "output_type": "execute_result"
        }
      ],
      "source": [
        "chain = make_decay_chain('32Si', isotope_list, lambda_list, decay_energy_list, daughter_list)\n",
        "chain"
      ]
    },
    {
      "cell_type": "code",
      "execution_count": 10,
      "metadata": {},
      "outputs": [
        {
          "data": {
            "text/plain": [
              "[array([-1.39901329266888e-10, -1.39901250609852e-10], dtype=object),\n",
              " array([-1.39901329224105e-10, -1.39901250567165e-10], dtype=object),\n",
              " array([-1.39901329171969e-10, -1.39901250515147e-10], dtype=object),\n",
              " array([-1.39901329108436e-10, -1.39901250451758e-10], dtype=object),\n",
              " array([-1.39901329031016e-10, -1.39901250374512e-10], dtype=object),\n",
              " array([-1.39901328936672e-10, -1.39901250280382e-10], dtype=object),\n",
              " array([-1.39901328821705e-10, -1.39901250165675e-10], dtype=object),\n",
              " array([-1.39901328681607e-10, -1.39901250025894e-10], dtype=object),\n",
              " array([-1.39901328510885e-10, -1.39901249855557e-10], dtype=object),\n",
              " array([-1.39901328302845e-10, -1.39901249647987e-10], dtype=object),\n",
              " array([-1.39901328049328e-10, -1.39901249395043e-10], dtype=object),\n",
              " array([-1.39901327740394e-10, -1.39901249086808e-10], dtype=object),\n",
              " array([-1.39901327363930e-10, -1.39901248711194e-10], dtype=object),\n",
              " array([-1.39901326905173e-10, -1.39901248253474e-10], dtype=object),\n",
              " array([-1.39901326346136e-10, -1.39901247695700e-10], dtype=object),\n",
              " array([-1.39901325664896e-10, -1.39901247016000e-10], dtype=object),\n",
              " array([-1.39901324834743e-10, -1.39901246187723e-10], dtype=object),\n",
              " array([-1.39901323823125e-10, -1.39901245178391e-10], dtype=object),\n",
              " array([-1.39901322590374e-10, -1.39901243948425e-10], dtype=object),\n",
              " array([-1.39901321088152e-10, -1.39901242449598e-10], dtype=object),\n",
              " array([-1.39901319257556e-10, -1.39901240623138e-10], dtype=object),\n",
              " array([-1.39901317026805e-10, -1.39901238397427e-10], dtype=object),\n",
              " array([-1.39901314308429e-10, -1.39901235685192e-10], dtype=object),\n",
              " array([-1.39901310995834e-10, -1.39901232380081e-10], dtype=object),\n",
              " array([-1.39901306959131e-10, -1.39901228352495e-10], dtype=object),\n",
              " array([-1.39901302040034e-10, -1.39901223444508e-10], dtype=object),\n",
              " array([-1.39901296045658e-10, -1.39901217463668e-10], dtype=object),\n",
              " array([-1.39901288740956e-10, -1.39901210175457e-10], dtype=object),\n",
              " array([-1.39901279839499e-10, -1.39901201294092e-10], dtype=object),\n",
              " array([-1.39901268992249e-10, -1.39901190471319e-10], dtype=object),\n",
              " array([-1.39901255773870e-10, -1.39901177282757e-10], dtype=object),\n",
              " array([-1.39901239666051e-10, -1.39901161211258e-10], dtype=object),\n",
              " array([-1.39901220037183e-10, -1.39901141626625e-10], dtype=object),\n",
              " array([-1.39901196117590e-10, -1.39901117760904e-10], dtype=object),\n",
              " array([-1.39901166969353e-10, -1.39901088678265e-10], dtype=object),\n",
              " array([-1.39901131449531e-10, -1.39901053238306e-10], dtype=object),\n",
              " array([-1.39901088165347e-10, -1.39901010051332e-10], dtype=object),\n",
              " array([-1.39901035419573e-10, -1.39900957423854e-10], dtype=object),\n",
              " array([-1.39900971143982e-10, -1.39900893292176e-10], dtype=object),\n",
              " array([-1.39900892818253e-10, -1.39900815141460e-10], dtype=object),\n",
              " array([-1.39900797371149e-10, -1.39900719907092e-10], dtype=object),\n",
              " array([-1.39900681060088e-10, -1.39900603854483e-10], dtype=object),\n",
              " array([-1.39900539324405e-10, -1.39900462432583e-10], dtype=object),\n",
              " array([-1.39900366606525e-10, -1.39900290095352e-10], dtype=object),\n",
              " array([-1.39900156134058e-10, -1.39900080084197e-10], dtype=object),\n",
              " array([-1.39899899654267e-10, -1.39899824162797e-10], dtype=object),\n",
              " array([-1.39899587110492e-10, -1.39899512293934e-10], dtype=object),\n",
              " array([-1.39899206247861e-10, -1.39899132245596e-10], dtype=object),\n",
              " array([-1.39898742132826e-10, -1.39898669110881e-10], dtype=object),\n",
              " array([-1.39898176567695e-10, -1.39898104722823e-10], dtype=object),\n",
              " array([-1.39897487377225e-10, -1.39897416941108e-10], dtype=object),\n",
              " array([-1.39896647539312e-10, -1.39896578782606e-10], dtype=object),\n",
              " array([-1.39895624125745e-10, -1.39895557361524e-10], dtype=object),\n",
              " array([-1.39894377011525e-10, -1.39894312597444e-10], dtype=object),\n",
              " array([-1.39892857302220e-10, -1.39892795640466e-10], dtype=object),\n",
              " array([-1.39891005417813e-10, -1.39890946951549e-10], dtype=object),\n",
              " array([-1.39888748758061e-10, -1.39888693962798e-10], dtype=object),\n",
              " array([-1.39885998858084e-10, -1.39885948226138e-10], dtype=object),\n",
              " array([-1.39882647923013e-10, -1.39882601939255e-10], dtype=object),\n",
              " array([-1.39878564606377e-10, -1.39878523713966e-10], dtype=object),\n",
              " array([-1.39873588867502e-10, -1.39873553423634e-10], dtype=object),\n",
              " array([-1.39867525707500e-10, -1.39867495931624e-10], dtype=object),\n",
              " array([-1.39860137540027e-10, -1.39860113460628e-10], dtype=object),\n",
              " array([-1.39851134900340e-10, -1.39851116310813e-10], dtype=object),\n",
              " array([-1.39840165132329e-10, -1.39840151570253e-10], dtype=object),\n",
              " array([-1.39826798615831e-10, -1.39826789380564e-10], dtype=object),\n",
              " array([-1.39810512002948e-10, -1.39810506220727e-10], dtype=object),\n",
              " array([-1.39790667819083e-10, -1.39790664551038e-10], dtype=object),\n",
              " array([-1.39766489648123e-10, -1.39766488017653e-10], dtype=object),\n",
              " array([-1.39737031957436e-10, -1.39737031258677e-10], dtype=object),\n",
              " array([-1.39701143422022e-10, -1.39701143173192e-10], dtype=object),\n",
              " array([-1.39657422372798e-10, -1.39657422302091e-10], dtype=object),\n",
              " array([-1.39604162715679e-10, -1.39604162700419e-10], dtype=object),\n",
              " array([-1.39539288339600e-10, -1.39539288337244e-10], dtype=object),\n",
              " array([-1.39460273647112e-10, -1.39460273646870e-10], dtype=object),\n",
              " array([-1.39364047396012e-10, -1.39364047395997e-10], dtype=object),\n",
              " array([-1.39246876532382e-10, -1.39246876532381e-10], dtype=object),\n",
              " array([-1.39104226127051e-10, -1.39104226127051e-10], dtype=object),\n",
              " array([-1.38930590909542e-10, -1.38930590909542e-10], dtype=object),\n",
              " array([-1.38719293250056e-10, -1.38719293250056e-10], dtype=object),\n",
              " array([-1.38462241816248e-10, -1.38462241816248e-10], dtype=object),\n",
              " array([-1.38149644605204e-10, -1.38149644605204e-10], dtype=object),\n",
              " array([-1.37769669749381e-10, -1.37769669749381e-10], dtype=object),\n",
              " array([-1.37308047618617e-10, -1.37308047618617e-10], dtype=object),\n",
              " array([-1.36747608595426e-10, -1.36747608595426e-10], dtype=object),\n",
              " array([-1.36067752946377e-10, -1.36067752946377e-10], dtype=object),\n",
              " array([-1.35243853118826e-10, -1.35243853118826e-10], dtype=object),\n",
              " array([-1.34246595516911e-10, -1.34246595516911e-10], dtype=object),\n",
              " array([-1.33041279684685e-10, -1.33041279684685e-10], dtype=object),\n",
              " array([-1.31587109639479e-10, -1.31587109639479e-10], dtype=object),\n",
              " array([-1.29836537165402e-10, -1.29836537165402e-10], dtype=object),\n",
              " array([-1.27734752990451e-10, -1.27734752990451e-10], dtype=object),\n",
              " array([-1.25219471973713e-10, -1.25219471973713e-10], dtype=object),\n",
              " array([-1.22221225368869e-10, -1.22221225368869e-10], dtype=object),\n",
              " array([-1.18664457792493e-10, -1.18664457792493e-10], dtype=object),\n",
              " array([-1.14469825273551e-10, -1.14469825273551e-10], dtype=object),\n",
              " array([-1.09558191589736e-10, -1.09558191589736e-10], dtype=object),\n",
              " array([-1.03856895565464e-10, -1.03856895565464e-10], dtype=object),\n",
              " array([-9.73088603683185e-11, -9.73088603683185e-11], dtype=object),\n",
              " array([-8.98849514881587e-11, -8.98849514881587e-11], dtype=object)]"
            ]
          },
          "execution_count": 10,
          "metadata": {},
          "output_type": "execute_result"
        }
      ],
      "source": [
        "decay_rates = formulate_decay_rate(chain['e-Folding Time (seconds)'])\n",
        "#currently, eval_decay_rates evalautes in < 1 second for 100 time points and 6 generations\n",
        "time_array = np.logspace(1, 9.5, 10**2)\n",
        "n_decay_rates = eval_decay_rates(decay_rates, time_array)\n",
        "n_decay_rates"
      ]
    },
    {
      "cell_type": "code",
      "execution_count": 11,
      "metadata": {},
      "outputs": [
        {
          "data": {
            "application/vnd.plotly.v1+json": {
              "config": {
                "plotlyServerURL": "https://plot.ly"
              },
              "data": [
                {
                  "hovertemplate": "Time (seconds)=%{x}<br>Power Density (W/g)=%{y}<extra></extra>",
                  "legendgroup": "",
                  "marker": {
                    "color": "#636efa",
                    "symbol": "circle"
                  },
                  "mode": "markers",
                  "name": "",
                  "orientation": "v",
                  "showlegend": false,
                  "type": "scatter",
                  "x": [
                    10,
                    12.185927384710878,
                    14.84968262254465,
                    18.09571541243321,
                    22.051307399030456,
                    26.871563070252286,
                    32.74549162877728,
                    39.90341831649379,
                    48.62601580065353,
                    59.25530975545678,
                    72.20809018385464,
                    87.99225435691069,
                    107.22672220103232,
                    130.6657050442345,
                    159.22827933410923,
                    194.03442495579156,
                    236.4489412645407,
                    288.13496284414595,
                    351.1191734215131,
                    427.87127506942664,
                    521.4008287999684,
                    635.375263808448,
                    774.263682681127,
                    943.5121013771044,
                    1149.7569953977356,
                    1401.085525598016,
                    1707.3526474706905,
                    2080.5675382171717,
                    2535.3644939701117,
                    3089.5767617294005,
                    3764.9358067924672,
                    4587.92343496709,
                    5590.810182512223,
                    6812.920690579608,
                    8302.175681319744,
                    10116.970998767501,
                    12328.467394420659,
                    15023.38084331858,
                    18307.382802953696,
                    22309.243744089836,
                    27185.8824273294,
                    33128.518914872344,
                    40370.1725859655,
                    49194.79916408221,
                    59948.42503189409,
                    73052.71542664448,
                    89021.50854450393,
                    108480.96388007433,
                    132194.11484660287,
                    161090.7884206832,
                    196304.06500402684,
                    239214.70814626387,
                    291505.30628251756,
                    355226.2494616661,
                    432876.12810830615,
                    527499.706370262,
                    642807.311728432,
                    783320.3223083876,
                    954548.4566618328,
                    1163205.8178068951,
                    1417474.1629268047,
                    1727323.721912987,
                    2104904.144512022,
                    2565020.905680046,
                    3125715.849688235,
                    3808974.6369540677,
                    4641588.833612773,
                    5656206.4476090195,
                    6892612.104349695,
                    8399287.059458459,
                    10235310.218990268,
                    12472674.708860455,
                    15199110.829529332,
                    18521526.088081706,
                    22570197.196339168,
                    27503878.409319457,
                    33516026.50938841,
                    40842386.52674517,
                    49770235.64332114,
                    60649647.74694602,
                    73907220.33525775,
                    90062802.02112776,
                    109749876.54930545,
                    133740402.61108215,
                    162975083.46206403,
                    198600253.258591,
                    242012826.47943833,
                    294915072.9647062,
                    359381366.3804626,
                    437939523.4130499,
                    533669923.12063015,
                    650326293.0552247,
                    792482898.3539186,
                    965713905.2966039,
                    1176811952.434999,
                    1434054499.7832694,
                    1747528400.007683,
                    2129525418.5213642,
                    2595024211.399732,
                    3162277660.1683793
                  ],
                  "xaxis": "x",
                  "y": [
                    0.32214821342293304,
                    0.3221482133246182,
                    0.32214821320481235,
                    0.32214821305881775,
                    0.32214821288090983,
                    0.32214821266411253,
                    0.32214821239992497,
                    0.32214821207798783,
                    0.3221482116856776,
                    0.3221482112076113,
                    0.322148210625043,
                    0.32214820991512966,
                    0.32214820905003433,
                    0.3221482079958354,
                    0.3221482067111961,
                    0.32214820514574416,
                    0.3221482032380955,
                    0.3221482009134487,
                    0.32214819808065087,
                    0.32214819462862365,
                    0.32214819042200804,
                    0.32214818529585626,
                    0.32214817904916404,
                    0.32214817143698915,
                    0.32214816216084635,
                    0.3221481508570033,
                    0.3221481370822185,
                    0.32214812029636,
                    0.322148099841226,
                    0.32214807491473546,
                    0.3221480445394762,
                    0.32214800752437756,
                    0.3221479624180053,
                    0.3221479074516456,
                    0.32214784046994677,
                    0.3221477588463983,
                    0.32214765938033213,
                    0.3221475381714056,
                    0.3221473904666427,
                    0.32214721047403094,
                    0.32214699113536366,
                    0.3221467238494094,
                    0.32214639813454554,
                    0.3221460012176137,
                    0.3221455175328514,
                    0.32214492811122375,
                    0.32214420983616576,
                    0.3221433345364907,
                    0.3221422678808083,
                    0.32214096802998604,
                    0.3221393839946537,
                    0.32213745363314333,
                    0.3221351012111037,
                    0.3221322344268036,
                    0.32212874078517734,
                    0.32212448317820663,
                    0.32211929449833837,
                    0.32211297107423176,
                    0.32210526467289874,
                    0.3220958727576896,
                    0.3220844266255932,
                    0.3220704769674192,
                    0.32205347629707437,
                    0.3220327575765173,
                    0.32200750821461166,
                    0.3219767384332835,
                    0.321939242765627,
                    0.3218935531734648,
                    0.32183788194727336,
                    0.3217700521830996,
                    0.32168741321422745,
                    0.32158673788138403,
                    0.32146409790360125,
                    0.3213147128236369,
                    0.32113276705832544,
                    0.320911188529866,
                    0.32064138120289004,
                    0.32031290257462036,
                    0.3199130757536958,
                    0.31942652427714036,
                    0.3188346163735037,
                    0.31811480416654225,
                    0.3172398426189114,
                    0.31617687329932576,
                    0.3148863600257009,
                    0.3133208681471171,
                    0.31142368822281496,
                    0.3091273203411373,
                    0.30635186036059825,
                    0.30300336807545714,
                    0.298972355028974,
                    0.2941326128557279,
                    0.28834071863587557,
                    0.2814367078852985,
                    0.27324660052557087,
                    0.26358769256292425,
                    0.2522777583830034,
                    0.2391494823498655,
                    0.2240714346258327,
                    0.20697652767684055
                  ],
                  "yaxis": "y"
                }
              ],
              "layout": {
                "legend": {
                  "tracegroupgap": 0
                },
                "template": {
                  "data": {
                    "bar": [
                      {
                        "error_x": {
                          "color": "#2a3f5f"
                        },
                        "error_y": {
                          "color": "#2a3f5f"
                        },
                        "marker": {
                          "line": {
                            "color": "#E5ECF6",
                            "width": 0.5
                          },
                          "pattern": {
                            "fillmode": "overlay",
                            "size": 10,
                            "solidity": 0.2
                          }
                        },
                        "type": "bar"
                      }
                    ],
                    "barpolar": [
                      {
                        "marker": {
                          "line": {
                            "color": "#E5ECF6",
                            "width": 0.5
                          },
                          "pattern": {
                            "fillmode": "overlay",
                            "size": 10,
                            "solidity": 0.2
                          }
                        },
                        "type": "barpolar"
                      }
                    ],
                    "carpet": [
                      {
                        "aaxis": {
                          "endlinecolor": "#2a3f5f",
                          "gridcolor": "white",
                          "linecolor": "white",
                          "minorgridcolor": "white",
                          "startlinecolor": "#2a3f5f"
                        },
                        "baxis": {
                          "endlinecolor": "#2a3f5f",
                          "gridcolor": "white",
                          "linecolor": "white",
                          "minorgridcolor": "white",
                          "startlinecolor": "#2a3f5f"
                        },
                        "type": "carpet"
                      }
                    ],
                    "choropleth": [
                      {
                        "colorbar": {
                          "outlinewidth": 0,
                          "ticks": ""
                        },
                        "type": "choropleth"
                      }
                    ],
                    "contour": [
                      {
                        "colorbar": {
                          "outlinewidth": 0,
                          "ticks": ""
                        },
                        "colorscale": [
                          [
                            0,
                            "#0d0887"
                          ],
                          [
                            0.1111111111111111,
                            "#46039f"
                          ],
                          [
                            0.2222222222222222,
                            "#7201a8"
                          ],
                          [
                            0.3333333333333333,
                            "#9c179e"
                          ],
                          [
                            0.4444444444444444,
                            "#bd3786"
                          ],
                          [
                            0.5555555555555556,
                            "#d8576b"
                          ],
                          [
                            0.6666666666666666,
                            "#ed7953"
                          ],
                          [
                            0.7777777777777778,
                            "#fb9f3a"
                          ],
                          [
                            0.8888888888888888,
                            "#fdca26"
                          ],
                          [
                            1,
                            "#f0f921"
                          ]
                        ],
                        "type": "contour"
                      }
                    ],
                    "contourcarpet": [
                      {
                        "colorbar": {
                          "outlinewidth": 0,
                          "ticks": ""
                        },
                        "type": "contourcarpet"
                      }
                    ],
                    "heatmap": [
                      {
                        "colorbar": {
                          "outlinewidth": 0,
                          "ticks": ""
                        },
                        "colorscale": [
                          [
                            0,
                            "#0d0887"
                          ],
                          [
                            0.1111111111111111,
                            "#46039f"
                          ],
                          [
                            0.2222222222222222,
                            "#7201a8"
                          ],
                          [
                            0.3333333333333333,
                            "#9c179e"
                          ],
                          [
                            0.4444444444444444,
                            "#bd3786"
                          ],
                          [
                            0.5555555555555556,
                            "#d8576b"
                          ],
                          [
                            0.6666666666666666,
                            "#ed7953"
                          ],
                          [
                            0.7777777777777778,
                            "#fb9f3a"
                          ],
                          [
                            0.8888888888888888,
                            "#fdca26"
                          ],
                          [
                            1,
                            "#f0f921"
                          ]
                        ],
                        "type": "heatmap"
                      }
                    ],
                    "heatmapgl": [
                      {
                        "colorbar": {
                          "outlinewidth": 0,
                          "ticks": ""
                        },
                        "colorscale": [
                          [
                            0,
                            "#0d0887"
                          ],
                          [
                            0.1111111111111111,
                            "#46039f"
                          ],
                          [
                            0.2222222222222222,
                            "#7201a8"
                          ],
                          [
                            0.3333333333333333,
                            "#9c179e"
                          ],
                          [
                            0.4444444444444444,
                            "#bd3786"
                          ],
                          [
                            0.5555555555555556,
                            "#d8576b"
                          ],
                          [
                            0.6666666666666666,
                            "#ed7953"
                          ],
                          [
                            0.7777777777777778,
                            "#fb9f3a"
                          ],
                          [
                            0.8888888888888888,
                            "#fdca26"
                          ],
                          [
                            1,
                            "#f0f921"
                          ]
                        ],
                        "type": "heatmapgl"
                      }
                    ],
                    "histogram": [
                      {
                        "marker": {
                          "pattern": {
                            "fillmode": "overlay",
                            "size": 10,
                            "solidity": 0.2
                          }
                        },
                        "type": "histogram"
                      }
                    ],
                    "histogram2d": [
                      {
                        "colorbar": {
                          "outlinewidth": 0,
                          "ticks": ""
                        },
                        "colorscale": [
                          [
                            0,
                            "#0d0887"
                          ],
                          [
                            0.1111111111111111,
                            "#46039f"
                          ],
                          [
                            0.2222222222222222,
                            "#7201a8"
                          ],
                          [
                            0.3333333333333333,
                            "#9c179e"
                          ],
                          [
                            0.4444444444444444,
                            "#bd3786"
                          ],
                          [
                            0.5555555555555556,
                            "#d8576b"
                          ],
                          [
                            0.6666666666666666,
                            "#ed7953"
                          ],
                          [
                            0.7777777777777778,
                            "#fb9f3a"
                          ],
                          [
                            0.8888888888888888,
                            "#fdca26"
                          ],
                          [
                            1,
                            "#f0f921"
                          ]
                        ],
                        "type": "histogram2d"
                      }
                    ],
                    "histogram2dcontour": [
                      {
                        "colorbar": {
                          "outlinewidth": 0,
                          "ticks": ""
                        },
                        "colorscale": [
                          [
                            0,
                            "#0d0887"
                          ],
                          [
                            0.1111111111111111,
                            "#46039f"
                          ],
                          [
                            0.2222222222222222,
                            "#7201a8"
                          ],
                          [
                            0.3333333333333333,
                            "#9c179e"
                          ],
                          [
                            0.4444444444444444,
                            "#bd3786"
                          ],
                          [
                            0.5555555555555556,
                            "#d8576b"
                          ],
                          [
                            0.6666666666666666,
                            "#ed7953"
                          ],
                          [
                            0.7777777777777778,
                            "#fb9f3a"
                          ],
                          [
                            0.8888888888888888,
                            "#fdca26"
                          ],
                          [
                            1,
                            "#f0f921"
                          ]
                        ],
                        "type": "histogram2dcontour"
                      }
                    ],
                    "mesh3d": [
                      {
                        "colorbar": {
                          "outlinewidth": 0,
                          "ticks": ""
                        },
                        "type": "mesh3d"
                      }
                    ],
                    "parcoords": [
                      {
                        "line": {
                          "colorbar": {
                            "outlinewidth": 0,
                            "ticks": ""
                          }
                        },
                        "type": "parcoords"
                      }
                    ],
                    "pie": [
                      {
                        "automargin": true,
                        "type": "pie"
                      }
                    ],
                    "scatter": [
                      {
                        "marker": {
                          "colorbar": {
                            "outlinewidth": 0,
                            "ticks": ""
                          }
                        },
                        "type": "scatter"
                      }
                    ],
                    "scatter3d": [
                      {
                        "line": {
                          "colorbar": {
                            "outlinewidth": 0,
                            "ticks": ""
                          }
                        },
                        "marker": {
                          "colorbar": {
                            "outlinewidth": 0,
                            "ticks": ""
                          }
                        },
                        "type": "scatter3d"
                      }
                    ],
                    "scattercarpet": [
                      {
                        "marker": {
                          "colorbar": {
                            "outlinewidth": 0,
                            "ticks": ""
                          }
                        },
                        "type": "scattercarpet"
                      }
                    ],
                    "scattergeo": [
                      {
                        "marker": {
                          "colorbar": {
                            "outlinewidth": 0,
                            "ticks": ""
                          }
                        },
                        "type": "scattergeo"
                      }
                    ],
                    "scattergl": [
                      {
                        "marker": {
                          "colorbar": {
                            "outlinewidth": 0,
                            "ticks": ""
                          }
                        },
                        "type": "scattergl"
                      }
                    ],
                    "scattermapbox": [
                      {
                        "marker": {
                          "colorbar": {
                            "outlinewidth": 0,
                            "ticks": ""
                          }
                        },
                        "type": "scattermapbox"
                      }
                    ],
                    "scatterpolar": [
                      {
                        "marker": {
                          "colorbar": {
                            "outlinewidth": 0,
                            "ticks": ""
                          }
                        },
                        "type": "scatterpolar"
                      }
                    ],
                    "scatterpolargl": [
                      {
                        "marker": {
                          "colorbar": {
                            "outlinewidth": 0,
                            "ticks": ""
                          }
                        },
                        "type": "scatterpolargl"
                      }
                    ],
                    "scatterternary": [
                      {
                        "marker": {
                          "colorbar": {
                            "outlinewidth": 0,
                            "ticks": ""
                          }
                        },
                        "type": "scatterternary"
                      }
                    ],
                    "surface": [
                      {
                        "colorbar": {
                          "outlinewidth": 0,
                          "ticks": ""
                        },
                        "colorscale": [
                          [
                            0,
                            "#0d0887"
                          ],
                          [
                            0.1111111111111111,
                            "#46039f"
                          ],
                          [
                            0.2222222222222222,
                            "#7201a8"
                          ],
                          [
                            0.3333333333333333,
                            "#9c179e"
                          ],
                          [
                            0.4444444444444444,
                            "#bd3786"
                          ],
                          [
                            0.5555555555555556,
                            "#d8576b"
                          ],
                          [
                            0.6666666666666666,
                            "#ed7953"
                          ],
                          [
                            0.7777777777777778,
                            "#fb9f3a"
                          ],
                          [
                            0.8888888888888888,
                            "#fdca26"
                          ],
                          [
                            1,
                            "#f0f921"
                          ]
                        ],
                        "type": "surface"
                      }
                    ],
                    "table": [
                      {
                        "cells": {
                          "fill": {
                            "color": "#EBF0F8"
                          },
                          "line": {
                            "color": "white"
                          }
                        },
                        "header": {
                          "fill": {
                            "color": "#C8D4E3"
                          },
                          "line": {
                            "color": "white"
                          }
                        },
                        "type": "table"
                      }
                    ]
                  },
                  "layout": {
                    "annotationdefaults": {
                      "arrowcolor": "#2a3f5f",
                      "arrowhead": 0,
                      "arrowwidth": 1
                    },
                    "autotypenumbers": "strict",
                    "coloraxis": {
                      "colorbar": {
                        "outlinewidth": 0,
                        "ticks": ""
                      }
                    },
                    "colorscale": {
                      "diverging": [
                        [
                          0,
                          "#8e0152"
                        ],
                        [
                          0.1,
                          "#c51b7d"
                        ],
                        [
                          0.2,
                          "#de77ae"
                        ],
                        [
                          0.3,
                          "#f1b6da"
                        ],
                        [
                          0.4,
                          "#fde0ef"
                        ],
                        [
                          0.5,
                          "#f7f7f7"
                        ],
                        [
                          0.6,
                          "#e6f5d0"
                        ],
                        [
                          0.7,
                          "#b8e186"
                        ],
                        [
                          0.8,
                          "#7fbc41"
                        ],
                        [
                          0.9,
                          "#4d9221"
                        ],
                        [
                          1,
                          "#276419"
                        ]
                      ],
                      "sequential": [
                        [
                          0,
                          "#0d0887"
                        ],
                        [
                          0.1111111111111111,
                          "#46039f"
                        ],
                        [
                          0.2222222222222222,
                          "#7201a8"
                        ],
                        [
                          0.3333333333333333,
                          "#9c179e"
                        ],
                        [
                          0.4444444444444444,
                          "#bd3786"
                        ],
                        [
                          0.5555555555555556,
                          "#d8576b"
                        ],
                        [
                          0.6666666666666666,
                          "#ed7953"
                        ],
                        [
                          0.7777777777777778,
                          "#fb9f3a"
                        ],
                        [
                          0.8888888888888888,
                          "#fdca26"
                        ],
                        [
                          1,
                          "#f0f921"
                        ]
                      ],
                      "sequentialminus": [
                        [
                          0,
                          "#0d0887"
                        ],
                        [
                          0.1111111111111111,
                          "#46039f"
                        ],
                        [
                          0.2222222222222222,
                          "#7201a8"
                        ],
                        [
                          0.3333333333333333,
                          "#9c179e"
                        ],
                        [
                          0.4444444444444444,
                          "#bd3786"
                        ],
                        [
                          0.5555555555555556,
                          "#d8576b"
                        ],
                        [
                          0.6666666666666666,
                          "#ed7953"
                        ],
                        [
                          0.7777777777777778,
                          "#fb9f3a"
                        ],
                        [
                          0.8888888888888888,
                          "#fdca26"
                        ],
                        [
                          1,
                          "#f0f921"
                        ]
                      ]
                    },
                    "colorway": [
                      "#636efa",
                      "#EF553B",
                      "#00cc96",
                      "#ab63fa",
                      "#FFA15A",
                      "#19d3f3",
                      "#FF6692",
                      "#B6E880",
                      "#FF97FF",
                      "#FECB52"
                    ],
                    "font": {
                      "color": "#2a3f5f"
                    },
                    "geo": {
                      "bgcolor": "white",
                      "lakecolor": "white",
                      "landcolor": "#E5ECF6",
                      "showlakes": true,
                      "showland": true,
                      "subunitcolor": "white"
                    },
                    "hoverlabel": {
                      "align": "left"
                    },
                    "hovermode": "closest",
                    "mapbox": {
                      "style": "light"
                    },
                    "paper_bgcolor": "white",
                    "plot_bgcolor": "#E5ECF6",
                    "polar": {
                      "angularaxis": {
                        "gridcolor": "white",
                        "linecolor": "white",
                        "ticks": ""
                      },
                      "bgcolor": "#E5ECF6",
                      "radialaxis": {
                        "gridcolor": "white",
                        "linecolor": "white",
                        "ticks": ""
                      }
                    },
                    "scene": {
                      "xaxis": {
                        "backgroundcolor": "#E5ECF6",
                        "gridcolor": "white",
                        "gridwidth": 2,
                        "linecolor": "white",
                        "showbackground": true,
                        "ticks": "",
                        "zerolinecolor": "white"
                      },
                      "yaxis": {
                        "backgroundcolor": "#E5ECF6",
                        "gridcolor": "white",
                        "gridwidth": 2,
                        "linecolor": "white",
                        "showbackground": true,
                        "ticks": "",
                        "zerolinecolor": "white"
                      },
                      "zaxis": {
                        "backgroundcolor": "#E5ECF6",
                        "gridcolor": "white",
                        "gridwidth": 2,
                        "linecolor": "white",
                        "showbackground": true,
                        "ticks": "",
                        "zerolinecolor": "white"
                      }
                    },
                    "shapedefaults": {
                      "line": {
                        "color": "#2a3f5f"
                      }
                    },
                    "ternary": {
                      "aaxis": {
                        "gridcolor": "white",
                        "linecolor": "white",
                        "ticks": ""
                      },
                      "baxis": {
                        "gridcolor": "white",
                        "linecolor": "white",
                        "ticks": ""
                      },
                      "bgcolor": "#E5ECF6",
                      "caxis": {
                        "gridcolor": "white",
                        "linecolor": "white",
                        "ticks": ""
                      }
                    },
                    "title": {
                      "x": 0.05
                    },
                    "xaxis": {
                      "automargin": true,
                      "gridcolor": "white",
                      "linecolor": "white",
                      "ticks": "",
                      "title": {
                        "standoff": 15
                      },
                      "zerolinecolor": "white",
                      "zerolinewidth": 2
                    },
                    "yaxis": {
                      "automargin": true,
                      "gridcolor": "white",
                      "linecolor": "white",
                      "ticks": "",
                      "title": {
                        "standoff": 15
                      },
                      "zerolinecolor": "white",
                      "zerolinewidth": 2
                    }
                  }
                },
                "title": {
                  "text": "Power Density of 32Si Decay Chain"
                },
                "xaxis": {
                  "anchor": "y",
                  "domain": [
                    0,
                    1
                  ],
                  "title": {
                    "text": "Time (seconds)"
                  },
                  "type": "log"
                },
                "yaxis": {
                  "anchor": "x",
                  "domain": [
                    0,
                    1
                  ],
                  "title": {
                    "text": "Power Density (W/g)"
                  },
                  "type": "log"
                }
              }
            }
          },
          "metadata": {},
          "output_type": "display_data"
        }
      ],
      "source": [
        "t_power_densities = calc_power_density(decay_rates = n_decay_rates, decay_energies = np.array(chain['Average beta-decay energy']),\n",
        "        initial_mass = float(re.sub('\\D+', '', chain.index[0])))\n",
        "px.scatter(y=t_power_densities, x= time_array, log_x=True, log_y=True,\n",
        "        labels={'x': 'Time (seconds)', 'y': 'Power Density (W/g)'}, title = 'Power Density of ' + chain.index[0] + ' Decay Chain')\n",
        "#THIS IS MUCH HIGHER THAN WHAT I HAVE IN THE DECADE HALF LIVES POWER DENSITIES ON GITHUB!!!\n",
        "#Double check decay formulas!!!!"
      ]
    },
    {
      "cell_type": "code",
      "execution_count": 12,
      "metadata": {},
      "outputs": [
        {
          "data": {
            "text/plain": [
              "array([1.00000000e+01, 1.21859274e+01, 1.48496826e+01, 1.80957154e+01,\n",
              "       2.20513074e+01, 2.68715631e+01, 3.27454916e+01, 3.99034183e+01,\n",
              "       4.86260158e+01, 5.92553098e+01, 7.22080902e+01, 8.79922544e+01,\n",
              "       1.07226722e+02, 1.30665705e+02, 1.59228279e+02, 1.94034425e+02,\n",
              "       2.36448941e+02, 2.88134963e+02, 3.51119173e+02, 4.27871275e+02,\n",
              "       5.21400829e+02, 6.35375264e+02, 7.74263683e+02, 9.43512101e+02,\n",
              "       1.14975700e+03, 1.40108553e+03, 1.70735265e+03, 2.08056754e+03,\n",
              "       2.53536449e+03, 3.08957676e+03, 3.76493581e+03, 4.58792343e+03,\n",
              "       5.59081018e+03, 6.81292069e+03, 8.30217568e+03, 1.01169710e+04,\n",
              "       1.23284674e+04, 1.50233808e+04, 1.83073828e+04, 2.23092437e+04,\n",
              "       2.71858824e+04, 3.31285189e+04, 4.03701726e+04, 4.91947992e+04,\n",
              "       5.99484250e+04, 7.30527154e+04, 8.90215085e+04, 1.08480964e+05,\n",
              "       1.32194115e+05, 1.61090788e+05, 1.96304065e+05, 2.39214708e+05,\n",
              "       2.91505306e+05, 3.55226249e+05, 4.32876128e+05, 5.27499706e+05,\n",
              "       6.42807312e+05, 7.83320322e+05, 9.54548457e+05, 1.16320582e+06,\n",
              "       1.41747416e+06, 1.72732372e+06, 2.10490414e+06, 2.56502091e+06,\n",
              "       3.12571585e+06, 3.80897464e+06, 4.64158883e+06, 5.65620645e+06,\n",
              "       6.89261210e+06, 8.39928706e+06, 1.02353102e+07, 1.24726747e+07,\n",
              "       1.51991108e+07, 1.85215261e+07, 2.25701972e+07, 2.75038784e+07,\n",
              "       3.35160265e+07, 4.08423865e+07, 4.97702356e+07, 6.06496477e+07,\n",
              "       7.39072203e+07, 9.00628020e+07, 1.09749877e+08, 1.33740403e+08,\n",
              "       1.62975083e+08, 1.98600253e+08, 2.42012826e+08, 2.94915073e+08,\n",
              "       3.59381366e+08, 4.37939523e+08, 5.33669923e+08, 6.50326293e+08,\n",
              "       7.92482898e+08, 9.65713905e+08, 1.17681195e+09, 1.43405450e+09,\n",
              "       1.74752840e+09, 2.12952542e+09, 2.59502421e+09, 3.16227766e+09])"
            ]
          },
          "execution_count": 12,
          "metadata": {},
          "output_type": "execute_result"
        }
      ],
      "source": [
        "time_array"
      ]
    },
    {
      "cell_type": "code",
      "execution_count": 17,
      "metadata": {},
      "outputs": [],
      "source": [
        "all_decay_chains = [make_decay_chain(isotope, isotope_list, lambda_list, decay_energy_list, daughter_list) \n",
        "                    for isotope in isotope_list]\n",
        "time_array = np.logspace(1, 9.5, 10)\n",
        "def calculate_all_power_densities(all_decay_chains, time_array, mean = True):\n",
        "    '''\n",
        "    This function takes the isotope, e-folding times, and daughter nuclides\n",
        "    and returns power density as a function of time for each decay chain.\n",
        "    The optional boolean argument mean determines whether the whole time series is returned\n",
        "    or only its mean. \n",
        "    '''\n",
        "    if mean:\n",
        "        all_power_densities = [np.mean(calc_power_density(\n",
        "                                    decay_rates = eval_decay_rates(\n",
        "                                                    formulate_decay_rate(chain['e-Folding Time (seconds)']), \n",
        "                                                    time_array), \n",
        "                                    decay_energies = np.array(chain['Average beta-decay energy']),\n",
        "                                    initial_mass = float(re.sub('\\D+', '', chain.index[0]))\n",
        "                                )) for chain in all_decay_chains]\n",
        "    else:\n",
        "        all_power_densities = [calc_power_density(\n",
        "                                    decay_rates = eval_decay_rates(\n",
        "                                                    formulate_decay_rate(chain['e-Folding Time (seconds)']), \n",
        "                                                    time_array), \n",
        "                                    decay_energies = np.array(chain['Average beta-decay energy']),\n",
        "                                    initial_mass = float(re.sub('\\D+', '', chain.index[0]))\n",
        "                                ) for chain in all_decay_chains]\n",
        "    return all_power_densities\n",
        "\n",
        "mean_power_densities = calculate_all_power_densities(all_decay_chains[:2], time_array, mean = True)\n"
      ]
    },
    {
      "cell_type": "code",
      "execution_count": 24,
      "metadata": {},
      "outputs": [
        {
          "data": {
            "text/plain": [
              "1.6403333333333336"
            ]
          },
          "execution_count": 24,
          "metadata": {},
          "output_type": "execute_result"
        }
      ],
      "source": [
        "3.7 * len(all_decay_chains) * units.second.to(units.h) / 2\n",
        "#it will take 2 hours to run my script in jupyter. I'l convert it to a python script and run it in pypy to see if it's faster.\n"
      ]
    },
    {
      "cell_type": "code",
      "execution_count": null,
      "metadata": {},
      "outputs": [],
      "source": []
    }
  ],
  "metadata": {
    "colab": {
      "name": "DecayChains.ipynb",
      "provenance": []
    },
    "interpreter": {
      "hash": "b5623c593edf3a9c30fecf3e392f1a3c31f722d7f93243239e2241963cc60577"
    },
    "kernelspec": {
      "display_name": "Python 3.8.3 ('base')",
      "language": "python",
      "name": "python3"
    },
    "language_info": {
      "codemirror_mode": {
        "name": "ipython",
        "version": 3
      },
      "file_extension": ".py",
      "mimetype": "text/x-python",
      "name": "python",
      "nbconvert_exporter": "python",
      "pygments_lexer": "ipython3",
      "version": "3.8.3"
    }
  },
  "nbformat": 4,
  "nbformat_minor": 0
}
